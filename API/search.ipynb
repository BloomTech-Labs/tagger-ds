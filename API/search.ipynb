{
 "cells": [
  {
   "cell_type": "code",
   "execution_count": 1,
   "metadata": {},
   "outputs": [],
   "source": [
    "from nltk.corpus import wordnet"
   ]
  },
  {
   "cell_type": "code",
   "execution_count": 17,
   "metadata": {},
   "outputs": [],
   "source": [
    "def getSynonyms(word):\n",
    "    synonyms = []\n",
    "\n",
    "    for syn in wordnet.synsets(word):\n",
    "#         for l in syn.lemmas():\n",
    "        synonyms.append(syn.hyponyms())\n",
    "            \n",
    "    print(synonyms)"
   ]
  },
  {
   "cell_type": "code",
   "execution_count": 4,
   "metadata": {},
   "outputs": [],
   "source": [
    "import gensim\n",
    "from gensim.utils import simple_preprocess"
   ]
  },
  {
   "cell_type": "code",
   "execution_count": 7,
   "metadata": {},
   "outputs": [],
   "source": [
    "from nltk.corpus import stopwords\n",
    "stop_words = set(stopwords.words('english')) "
   ]
  },
  {
   "cell_type": "code",
   "execution_count": 20,
   "metadata": {},
   "outputs": [
    {
     "name": "stdout",
     "output_type": "stream",
     "text": [
      "could\n",
      "[]\n",
      "\n",
      "type\n",
      "[[Synset('breed.n.02'), Synset('nature.n.05'), Synset('version.n.02')], [], [], [Synset('font.n.01'), Synset('type_family.n.01')], [], [Synset('kern.n.02'), Synset('quad.n.03')], [Synset('backspace.v.01'), Synset('double-space.v.01'), Synset('shift.v.10'), Synset('touch-type.v.01'), Synset('triple-space.v.01')], []]\n",
      "\n",
      "anything\n",
      "[]\n",
      "\n",
      "\n",
      "\n",
      "\n",
      "return\n",
      "[[Synset('amended_return.n.01'), Synset('declaration_of_estimated_tax.n.01'), Synset('false_return.n.01'), Synset('information_return.n.01'), Synset('joint_return.n.01')], [Synset('repatriation.n.01')], [], [Synset('clawback.n.01')], [Synset('reentry.n.01'), Synset('remand.n.01')], [Synset('economic_rent.n.01'), Synset('payback.n.01')], [Synset('atavism.n.01'), Synset('flashback.n.02')], [Synset('sass.n.01')], [], [Synset('reciprocation.n.01'), Synset('requital.n.02'), Synset('retaliation.n.01'), Synset('tit_for_tat.n.01')], [Synset('backhand.n.01'), Synset('chop.n.04'), Synset('drive.n.12'), Synset('drop_shot.n.01'), Synset('forehand.n.01'), Synset('get.n.01'), Synset('ground_stroke.n.01'), Synset('half_volley.n.01'), Synset('lob.n.01'), Synset('overhead.n.06'), Synset('passing_shot.n.01'), Synset('volley.n.02')], [], [Synset('comeback.n.02')], [Synset('backtrack.v.01'), Synset('boomerang.v.01'), Synset('bounce.v.04'), Synset('cut_back.v.01'), Synset('go_home.v.01'), Synset('home.v.02'), Synset('resurrect.v.03'), Synset('return.v.14'), Synset('revisit.v.01'), Synset('trace.v.03')], [Synset('feed_back.v.01')], [Synset('recover.v.03'), Synset('relapse.v.02'), Synset('resile.v.04')], [Synset('recur.v.02')], [], [Synset('redound.v.01')], [], [], [], [Synset('reimburse.v.01'), Synset('restore.v.03')], [], [], [Synset('fall.v.20')], [], [], [Synset('report_out.v.01')]]\n",
      "\n",
      "\n",
      "right\n",
      "[[Synset('access.n.02'), Synset('advowson.n.01'), Synset('cabotage.n.01'), Synset('claim.n.04'), Synset('due.n.01'), Synset('entree.n.02'), Synset('floor.n.08'), Synset('grant.n.08'), Synset('human_right.n.01'), Synset('legal_right.n.01'), Synset('preemption.n.03'), Synset('prerogative.n.01'), Synset('privilege.n.03'), Synset('representation.n.09'), Synset('right_of_action.n.01'), Synset('right_of_search.n.01'), Synset('right_of_way.n.02'), Synset('states'_rights.n.02'), Synset('voting_right.n.01'), Synset('water_right.n.01')], [Synset('stage_right.n.01')], [], [Synset('hard_right.n.01'), Synset('religious_right.n.01')], [], [], [], [], [Synset('expiate.v.01'), Synset('over-correct.v.01')], [], [], [Synset('debug.v.01'), Synset('rectify.v.04')], [], [], [], [], [], [], [], [], [], [], [], [], [], [], [], [], [], [], [], [], [], [], [], []]\n",
      "\n",
      "words\n",
      "[[], [Synset('love_lyric.n.01')], [], [Synset('affray.n.01'), Synset('bicker.n.01'), Synset('bust-up.n.01')], [Synset('aside.n.01'), Synset('cue.n.01'), Synset('monologue.n.03'), Synset('soliloquy.n.02'), Synset('throwaway.n.03')], [Synset('anagram.n.01'), Synset('anaphor.n.01'), Synset('antonym.n.01'), Synset('back-formation.n.01'), Synset('charade.n.02'), Synset('classifier.n.02'), Synset('cognate.n.02'), Synset('content_word.n.01'), Synset('contraction.n.03'), Synset('deictic.n.01'), Synset('derivative.n.04'), Synset('diminutive.n.01'), Synset('dirty_word.n.02'), Synset('disyllable.n.01'), Synset('form.n.01'), Synset('four-letter_word.n.01'), Synset('function_word.n.01'), Synset('guide_word.n.01'), Synset('head.n.09'), Synset('headword.n.02'), Synset('heteronym.n.01'), Synset('holonym.n.01'), Synset('homonym.n.01'), Synset('hypernym.n.01'), Synset('hyponym.n.01'), Synset('key_word.n.02'), Synset('loanblend.n.01'), Synset('loanword.n.01'), Synset('meronym.n.01'), Synset('metonym.n.01'), Synset('monosyllable.n.01'), Synset('neologism.n.01'), Synset('nonce_word.n.01'), Synset('oxytone.n.01'), Synset('palindrome.n.01'), Synset('paroxytone.n.01'), Synset('partitive.n.01'), Synset('polysemant.n.01'), Synset('polysyllable.n.01'), Synset('primitive.n.03'), Synset('proparoxytone.n.01'), Synset('quantifier.n.01'), Synset('quantifier.n.02'), Synset('reduplication.n.03'), Synset('retronym.n.01'), Synset('substantive.n.01'), Synset('syncategorem.n.01'), Synset('synonym.n.01'), Synset('term.n.01'), Synset('terminology.n.01'), Synset('trisyllable.n.01'), Synset('troponym.n.01'), Synset('vocable.n.01'), Synset('written_word.n.01')], [], [Synset('good_word.n.02'), Synset('latest.n.01'), Synset('update.n.01')], [], [Synset('argument.n.03'), Synset('conference.n.03'), Synset('deliberation.n.01'), Synset('negotiation.n.01'), Synset('panel_discussion.n.01'), Synset('postmortem.n.01'), Synset('public_discussion.n.01')], [], [], [], [], [Synset('family_bible.n.01')], [Synset('ask.v.03'), Synset('dogmatize.v.01'), Synset('formularize.v.01'), Synset('frame.v.04'), Synset('lexicalize.v.01')]]\n",
      "\n"
     ]
    }
   ],
   "source": [
    "string = \"I could type anything and It'll return the right words\"\n",
    "# words = string.split()\n",
    "words = simple_preprocess(string)\n",
    "\n",
    "for word in words:\n",
    "    if ((not word in stop_words) and (len(word) > 3)):\n",
    "        print(word)\n",
    "        getSynonyms(word)\n",
    "    print()"
   ]
  }
 ],
 "metadata": {
  "kernelspec": {
   "display_name": "Python 3",
   "language": "python",
   "name": "python3"
  },
  "language_info": {
   "codemirror_mode": {
    "name": "ipython",
    "version": 3
   },
   "file_extension": ".py",
   "mimetype": "text/x-python",
   "name": "python",
   "nbconvert_exporter": "python",
   "pygments_lexer": "ipython3",
   "version": "3.7.4"
  }
 },
 "nbformat": 4,
 "nbformat_minor": 4
}
