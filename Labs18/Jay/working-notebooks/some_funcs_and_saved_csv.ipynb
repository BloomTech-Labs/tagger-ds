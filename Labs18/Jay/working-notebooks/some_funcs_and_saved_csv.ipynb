{
 "cells": [
  {
   "cell_type": "markdown",
   "metadata": {
    "colab_type": "text",
    "id": "p006clfqpGJP"
   },
   "source": [
    "#####This one cell is for reference, will not work on its own"
   ]
  },
  {
   "cell_type": "code",
   "execution_count": null,
   "metadata": {
    "colab": {},
    "colab_type": "code",
    "id": "x1VF0fVppCkT"
   },
   "outputs": [],
   "source": [
    "# Here i found all the data it gets and decided to store it for later\n",
    "b = email.message_from_string(data[0][1].decode())\n",
    "b.keys()"
   ]
  },
  {
   "cell_type": "code",
   "execution_count": null,
   "metadata": {
    "colab": {},
    "colab_type": "code",
    "id": "csFgkX1Y7zNr"
   },
   "outputs": [],
   "source": [
    "hi = 1\n",
    "if not hi:\n",
    "  print('lo')"
   ]
  },
  {
   "cell_type": "markdown",
   "metadata": {
    "colab_type": "text",
    "id": "O2uiFbpcpMSH"
   },
   "source": [
    "# Get email metadata"
   ]
  },
  {
   "cell_type": "code",
   "execution_count": null,
   "metadata": {
    "colab": {},
    "colab_type": "code",
    "id": "E6PnGWAtejLg"
   },
   "outputs": [],
   "source": [
    "ORG_EMAIL = '@gmail.com'\n",
    "FROM_EMAIL = '' + ORG_EMAIL\n",
    "FROM_PWD = ''\n",
    "SMTP_SERVER = 'imap.gmail.com'\n",
    "SMTP_PORT = 993\n",
    "\n",
    "import time\n",
    "import imaplib\n",
    "import email\n",
    "import csv\n",
    "\n",
    "# Gets (RFC822) data from emails and writes to csv\n",
    "\n",
    "def read_email_from_gmail():\n",
    "\n",
    "  csv_file = open('wed_morning_nov_13.csv', 'w', encoding='UTF-8')\n",
    "  csv_writer = csv.writer(csv_file)\n",
    "  csv_writer.writerow(['Id', 'UID', 'Delivered-To', 'Received', 'X-Google-Smtp-Source',\n",
    "                       'X-Received', 'ARC-Seal', 'ARC-Message-Signature',\n",
    "                       'ARC-Authentication-Results', 'Return-Path', 'Received',\n",
    "                       'Received-SPF', 'Authentication-Results', 'DKIM-Signature',\n",
    "                       'Date', 'From', 'Reply-To', 'To', 'text', 'Message-ID', 'Subject',\n",
    "                       'MIME-Version', 'Content-Type', 'X-Original-To', 'List-Unsubscribe'])\n",
    "  \n",
    "  try:\n",
    "      mail = imaplib.IMAP4_SSL(SMTP_SERVER)\n",
    "      mail.login(FROM_EMAIL, FROM_PWD)\n",
    "      mail.select('inbox')\n",
    "      \n",
    "      typ, data = mail.search(None, 'ALL')\n",
    "      mail_ids = data[0]\n",
    "      \n",
    "      id_list = mail_ids.split()\n",
    "      first_email_id = int(id_list[0])\n",
    "      latest_email_id = int(id_list[-1])\n",
    "      \n",
    "      for i in range(latest_email_id, first_email_id, -1):\n",
    "        try:\n",
    "            typ, data = mail.fetch(str(i).encode(), '(UID RFC822 BODY[TEXT])')\n",
    "            print(i)\n",
    "            \n",
    "            uid = email.message_from_string(data[0][0].decode())\n",
    "            uid = uid.get_payload()\n",
    "            uid = uid.split()[-3]\n",
    "\n",
    "            msg = email.message_from_string(data[0][1].decode())\n",
    "            Delivered_To = msg['Delivered-To']\n",
    "            Received = msg['Received']\n",
    "            X_Google_Smtp_Source = msg['X-Google-Smtp-Source']\n",
    "            X_Received = msg['X-Received']\n",
    "            ARC_Seal = msg['ARC-Seal']\n",
    "            ARC_Message_Signature = msg['ARC-Message-Signature']\n",
    "            ARC_Authentication_Results = msg['ARC-Authentication-Results']\n",
    "            Return_Path = msg['Return-Path']\n",
    "            Received = msg['Received']\n",
    "            Received_SPF = msg['Received-SPF']\n",
    "            Authentication_Results = msg['Authentication-Results']\n",
    "            DKIM_Signature = msg['DKIM-Signature']\n",
    "            Date = msg['Date']\n",
    "            From = msg['From']\n",
    "            Reply_To = msg['Reply-To']\n",
    "            To = msg['To']\n",
    "            Message_ID = msg['Message-ID']\n",
    "            Subject = msg['Subject']\n",
    "            MIME_Version = msg['MIME-Version']\n",
    "            Content_Type = msg['Content-Type']\n",
    "            X_Original_To = msg['X-Original-To']\n",
    "            List_Unsubscribe = msg['List-Unsubscribe']\n",
    "\n",
    "            readable = msg['Content-Type'].split(';')[0]\n",
    "            if readable == 'text/plain' or readable == 'text/html':\n",
    "              text = email.message_from_string(data[1][1].decode())\n",
    "              text.get_payload()\n",
    "              text = ''.join(str(text).split('=\\r\\n'))\n",
    "              text = ' '.join(text.split('\\r\\n'))\n",
    "              text = ' '.join(text.split('\\n'))\n",
    "              text = ' '.join(text.split('\\t'))\n",
    "              text = ' '.join(text.split('=0A'))\n",
    "            \n",
    "            else:\n",
    "              text = 'image'\n",
    "\n",
    "            csv_writer.writerow([i, uid, Delivered_To, Received,\n",
    "                                X_Google_Smtp_Source, X_Received,\n",
    "                                ARC_Seal, ARC_Message_Signature,\n",
    "                                ARC_Authentication_Results,\n",
    "                                Return_Path, Received, Received_SPF,\n",
    "                                Authentication_Results, DKIM_Signature,\n",
    "                                Date, From, Reply_To, To, text, Message_ID,\n",
    "                                Subject, MIME_Version, Content_Type,\n",
    "                                X_Original_To, List_Unsubscribe])\n",
    "          \n",
    "        except Exception as e:\n",
    "              print(e)\n",
    "              continue\n",
    "          \n",
    "                  \n",
    "                  \n",
    "  except Exception as inst:\n",
    "      raise"
   ]
  },
  {
   "cell_type": "code",
   "execution_count": null,
   "metadata": {
    "colab": {},
    "colab_type": "code",
    "id": "UDq2cQk3lS5g"
   },
   "outputs": [],
   "source": [
    "read_email_from_gmail()"
   ]
  },
  {
   "cell_type": "code",
   "execution_count": null,
   "metadata": {
    "colab": {},
    "colab_type": "code",
    "id": "QtPpF42g10XC"
   },
   "outputs": [],
   "source": [
    "typ, data = mail.fetch(str(24424).encode(), '(UID RFC822 BODY[TEXT])')"
   ]
  },
  {
   "cell_type": "code",
   "execution_count": 43,
   "metadata": {
    "colab": {
     "base_uri": "https://localhost:8080/",
     "height": 141
    },
    "colab_type": "code",
    "id": "5USLzlqX2NHi",
    "outputId": "9b0dd4d3-e5ca-4248-ecf1-78e96de3ec1c"
   },
   "outputs": [
    {
     "name": "stdout",
     "output_type": "stream",
     "text": [
      "2\n",
      "(b'24424 (UID 25074 RFC822 {43287}', b'Delivered-To: avraham.jacobsohn@gmail.com\\r\\nReceived: by 2002:a4f:41c1:0:0:0:0:0 with SMTP id o184-v6csp5296235iva;\\r\\n        Tue, 31 Jul 2018 08:40:01 -0700 (PDT)\\r\\nX-Google-Smtp-Source: AAOMgpew000azdH7YuaO4jNxVHGr7T92BFXblk0fZwtI32WI51T7R4LzvjXLhzXhc+0jOXZKDnWr\\r\\nX-Received: by 2002:a37:6b03:: with SMTP id g3-v6mr19852257qkc.107.1533051601585;\\r\\n        Tue, 31 Jul 2018 08:40:01 -0700 (PDT)\\r\\nARC-Seal: i=1; a=rsa-sha256; t=1533051601; cv=none;\\r\\n        d=google.com; s=arc-20160816;\\r\\n        b=GGkDk9xqngHPEASVecgfUckb4e74sS9TniJL+52KV3HDsKD0LUwtExTk2sUDb5iCeX\\r\\n         55RBQ3KQqamnfuhgGAR9An9GN5yQAvc+hUDGaQQNcUg/lloVRZLsj8W2oA7GTfvCFzJl\\r\\n         Ld2v8XB/qF+MjVWe6QtFOU3NcPzHJVj8aRgD+5Gj6NXQrZ7bKX2+XL2LUryG+I3scs4l\\r\\n         3G5ulFKP4Cg7dq4nOC7gDKL7/w11UdwVHleYmGOVztKwa2lRfNaV6WQUDZjNGTf0VMNJ\\r\\n         aKtPNGOgxJ6RZFL209QoZVZXsvHzWNrUKsbN0aqO12pmbJbABFX1R8m0v3OPuKzGEihJ\\r\\n         uBZw==\\r\\nARC-Message-Signature: i=1; a=rsa-sha256; c=relaxed/relaxed; d=google.com; s=arc-20160816;\\r\\n        h=feedback-id:message-id:mime-version:reply-to:from:date\\r\\n         :list-unsubscribe:content-id:subject:to:dkim-signature\\r\\n         :arc-authentication-results;\\r\\n        bh=9qh79LzdhPjvXGKMVvRqa42OgOzjYfgQImQyiNgwEnw=;\\r\\n        b=oAQaGwbrrbOSH6GUV2R+D0iEoeJRLXd6U6heLQoSvi8djrnTEUxF8U5ADmSGXxzKKP\\r\\n         nqPZTXTRf34O9uNcJdszRFoQiTRAheRmeJzDjrA8NL8BqPKFnkrLkRoLHJPpKNXzj26d\\r\\n         4NrjCbmvFaLPiKLyxUMEN4xlF1+2K8/U0IGjwhAuIIaIijvnM2VZMp6HQvU08nuDuXUA\\r\\n         2uHFrN27hy63ZP1/A7JfZBvi1EGTPzKWFNzCZqr0rYrgDGj0cSLhDnDxNsAg9XljTIZq\\r\\n         +eXAFXJ3kHK31yvd+PpqaFY7DnATmnFEhSuY4fs0UBu8TYq4+CPtGXgqNMPL0EmIKXST\\r\\n         esAA==\\r\\nARC-Authentication-Results: i=1; mx.google.com;\\r\\n       dkim=pass header.i=@amazonses.com header.s=ug7nbtf4gccmlpwj322ax3p6ow6yfsug header.b=hV14CnCX;\\r\\n       spf=pass (google.com: domain of 01000164f0feff67-db776b14-dd1a-4e1a-b531-eca3bdee4247-000000@amazonses.com designates 54.240.11.10 as permitted sender) smtp.mailfrom=01000164f0feff67-db776b14-dd1a-4e1a-b531-eca3bdee4247-000000@amazonses.com;\\r\\n       dmarc=fail (p=NONE sp=NONE dis=NONE) header.from=playwsop.com\\r\\nReturn-Path: <01000164f0feff67-db776b14-dd1a-4e1a-b531-eca3bdee4247-000000@amazonses.com>\\r\\nReceived: from a11-10.smtp-out.amazonses.com (a11-10.smtp-out.amazonses.com. [54.240.11.10])\\r\\n        by mx.google.com with ESMTPS id b186-v6si6791541qkg.62.2018.07.31.08.40.01\\r\\n        for <avraham.jacobsohn@gmail.com>\\r\\n        (version=TLS1_2 cipher=ECDHE-RSA-AES128-SHA bits=128/128);\\r\\n        Tue, 31 Jul 2018 08:40:01 -0700 (PDT)\\r\\nReceived-SPF: pass (google.com: domain of 01000164f0feff67-db776b14-dd1a-4e1a-b531-eca3bdee4247-000000@amazonses.com designates 54.240.11.10 as permitted sender) client-ip=54.240.11.10;\\r\\nAuthentication-Results: mx.google.com;\\r\\n       dkim=pass header.i=@amazonses.com header.s=ug7nbtf4gccmlpwj322ax3p6ow6yfsug header.b=hV14CnCX;\\r\\n       spf=pass (google.com: domain of 01000164f0feff67-db776b14-dd1a-4e1a-b531-eca3bdee4247-000000@amazonses.com designates 54.240.11.10 as permitted sender) smtp.mailfrom=01000164f0feff67-db776b14-dd1a-4e1a-b531-eca3bdee4247-000000@amazonses.com;\\r\\n       dmarc=fail (p=NONE sp=NONE dis=NONE) header.from=playwsop.com\\r\\nDKIM-Signature: v=1; a=rsa-sha256; q=dns/txt; c=relaxed/simple;\\r\\n\\ts=ug7nbtf4gccmlpwj322ax3p6ow6yfsug; d=amazonses.com; t=1533051601;\\r\\n\\th=To:Subject:Content-ID:List-Unsubscribe:Date:From:Reply-To:Content-Type:MIME-Version:Message-ID:Feedback-ID;\\r\\n\\tbh=oNA9k+XtcEAr4qmfHth+dmcooTDz1tv43+va5iKdcO0=;\\r\\n\\tb=hV14CnCXZgS2MZXFkQVB93xY9c15teXo1OCBgYvjbZM07MkeAxosG6DFuwdLvDUB\\r\\n\\t39eO+455zhU7SH18VQTup5uyg8IfNQMf5IJzBYcprpbWLCdQkrgFvpSIIPrZoK6/dap\\r\\n\\tcAAYp+M+WOnkqbo7w4O+nE3YDPnHL2YqIAsTbE+I=\\r\\nTo: avraham.jacobsohn@gmail.com\\r\\nSubject: =?UTF-8?Q?=F0=9F=90=84Tipping=20isn\\'t=20just=20for=20cows=F0=9F=90=84?=\\r\\nContent-ID: oJScoTyhMl4mYaLlYwWup3Wwnl4lLmOjnwxhBQW3$!$\\r\\nList-Unsubscribe: <http://email.playwsop.com/?xul=6m147erry8vzpm6vkvdh9rs16zlwzzt4wbkghrqn0ddchkozw801iqo1a10gihyakwzwsryspb&amp;xi=avraham.jacobsohn@gmail.com>\\r\\nDate: Tue, 31 Jul 2018 15:40:00 +0000\\r\\nFrom: World Series of Poker <wsop-news-noreply@playwsop.com>\\r\\nReply-To: World Series of Poker <wsop-news-noreply@playwsop.com>\\r\\nContent-Type: multipart/alternative;\\r\\n boundary=\"=_f284533f98060a0e002db4d8432690ce\"\\r\\nMIME-Version: 1.0\\r\\nMessage-ID: <01000164f0feff67-db776b14-dd1a-4e1a-b531-eca3bdee4247-000000@email.amazonses.com>\\r\\nX-SES-Outgoing: 2018.07.31-54.240.11.10\\r\\nFeedback-ID: 1.us-east-1.FJ8hUJAduxak078zVY1NePOGRMRsOUW7eYc9hrHixLM=:AmazonSES\\r\\n\\r\\n--=_f284533f98060a0e002db4d8432690ce\\r\\nContent-Type: text/plain; charset=UTF-8\\r\\nContent-Transfer-Encoding: quoted-printable\\r\\n\\r\\n=C2=A0=0A=0ACLAIM YOUR $20,000 CHIP GIFT HERE!=0ACLAIM & PLAY NOW!=0Ahtt=\\r\\np://email.playwsop.com/?xtl=3Dtyezc8cvleqhbovskjymkfd3ryc7cu5uiebj4n0o4u=\\r\\ntk8wru3dvhlusfut9sm4jski33ri4u7wc3zsrp273sg533s7wufa2aljo2nh8rtf&xih=3D6=\\r\\n8msiopt6bjj8j25h2kmg5ir4wgvqt7rc2b10ryleqc=0A=0ACLICK=0AHERE=0Ahttp://em=\\r\\nail.playwsop.com/?xm=3DYk12Yu0kKJZkK2efYlQ5ovGfAPV3m&ocx_unsubscribe_lin=\\r\\nk=3Dhttp://email.playwsop.com/?xul=3D11353sqksc0qcutg0qxqmdr4s83d5v5zwsu=\\r\\naf1r8m6oic0dhj7i5p5r29724ny25g23fm5z80qbkwql02euy0cvf8gj3u0u3wbgl5pue19d=\\r\\n&xih=3D68msiopt6bjj8j25h2kmg5ir4wgvqt7rc2b10ryleqc&email=3Davraham.jacob=\\r\\nsohn@gmail.com=0A TO VIEW IN WEB BROWSER=0A=0A=C2=A0=0A=0Ahttp://email.p=\\r\\nlaywsop.com/?xtl=3Dtyezc8cvleqhbovskjymkfd3ryc7cu87y2xe828u2ueqtr0qn3mvz=\\r\\n34p0k7c191t6z6sdqgas5xo4vr7f5e4378e6zxrn5uuxo6q7kat9y&xih=3D68msiopt6bjj=\\r\\n8j25h2kmg5ir4wgvqt7rc2b10ryleqc=0A=0AUNSUBSCRIBE=0Ahttp://email.playwsop=\\r\\n.com/?xul=3D11353sqksc0qcutg0qxqmdr4s83d5v5zwsuaf1r8m6oic0dhj7i5p5r29724=\\r\\nny25g23fm5z80qbkwql02euy0cvf8gj3u0u3wbgl5pue19d&xih=3D68msiopt6bjj8j25h2=\\r\\nkmg5ir4wgvqt7rc2b10ryleqc=0A=0APLAYWSOP.COM=0Ahttp://email.playwsop.com/=\\r\\n?xtl=3Dtyezc8cvleqhbovskjymkfd3ryc7cupx0ypurwafkvpml466bcdgk8rs1i49vt9ty=\\r\\n5p7qsn0jnnf2bqjn35qxnw5zvz8m4q5e5h205wwfh&xih=3D68msiopt6bjj8j25h2kmg5ir=\\r\\n4wgvqt7rc2b10ryleqc=0A=C2=A0=0ACONTACT=0Ahttp://email.playwsop.com/?xtl=\\r\\n=3D65lycrp2j698gzb9421mfm8e4kppwgnk0giehn1oqekjvs55q7rn3a8aga4i0tduc91q2=\\r\\n34cyuv7vz6nd28ciyo9plf9g19xd8qq6vqkjchsy4sxiq26j6qqjt8jbxe2xmgylp1ninsbe=\\r\\nv698mcgc0z423j9y2g7t9&xih=3D68msiopt6bjj8j25h2kmg5ir4wgvqt7rc2b10ryleqc=\\r\\n=0A=0A=C2=A0=C2=A0=C2=A0=C2=A0=0A=0Ahttp://email.playwsop.com/?xtl=3D5bu=\\r\\nqc8l3mks1kfo9pzzgyeou30vqom9eaj7h7vh524oep8txdufj2nywi0nbe8n4vyhutua00u0=\\r\\neqw5eipxowkak3xd8bcqi6rjdoarv6trm3hckpt62ansia9yyxv3wxo69f24vqh4f5i8pw&x=\\r\\nih=3D68msiopt6bjj8j25h2kmg5ir4wgvqt7rc2b10ryleqc=0A=C2=A0=C2=A0=C2=A0=0A=\\r\\n=0Ahttp://email.playwsop.com/?xtl=3D1ohotfzbkw81czzx2q97h0mvu10t9j433cy3=\\r\\nok8uzzg7ybb9dxyj0sdu43sulw1g146xt8u12l1hljc2kex23xsnwhjl2h7ox4t0ebccvf0b=\\r\\ns81s2250&xih=3D68msiopt6bjj8j25h2kmg5ir4wgvqt7rc2b10ryleqc=0A=C2=A0 =C2=\\r\\n=A0=C2=A0=0A=0Ahttp://email.playwsop.com/?xtl=3D5m97lylsal83jdaswvdym7xs=\\r\\ndrqz4awfnn3usy08bcyv3btoh3k6t6kxhsyp3mzekc0jdjhvir68kyrroxpomcpnrowpyzp0=\\r\\nl2a2dhti23fjoeynxf5blpal7er18njp&xih=3D68msiopt6bjj8j25h2kmg5ir4wgvqt7rc=\\r\\n2b10ryleqc=0A=C2=A0=C2=A0=C2=A0=0A=0Ahttp://email.playwsop.com/?xtl=3D2x=\\r\\nsrc3ffi8b4am6ujmywv15fuehngsmt3o3rmzdrd9af22wudi9guml1w70nk30in4rbd2wi0q=\\r\\nt91tbe4gx3r4qq8earjxm98906hkhsfocp4879p6fkstk4ougidfhnbuznj5set10bpslvxi=\\r\\nr2f3vsvwk7mwp1oahx9syygnsaz3cta77qqshlhjc&xih=3D68msiopt6bjj8j25h2kmg5ir=\\r\\n4wgvqt7rc2b10ryleqc=0A=C2=A0 =C2=A0=0A=0Ahttp://email.playwsop.com/?xtl=\\r\\n=3D9ofzoep6kpws7eegx1lthrm9ur9nowhwpm2vz93vp3655qqcd0m2xj3vs3gizixat9axv=\\r\\nsrndnkjvz9sfa90daw8wlxv7d00e1ej0e317zzitx2gs5igy0v1j2h8vmclvj7ycgeyphqaq=\\r\\nxxyqysqon9z1uaylntllp1397be8ogs2b7snxhg52&xih=3D68msiopt6bjj8j25h2kmg5ir=\\r\\n4wgvqt7rc2b10ryleqc=0A=C2=A0=C2=A0=0A=0Ahttp://email.playwsop.com/?xtl=\\r\\n=3Da07eh4emnqy7m8mem7mod5f1l43udilmrmyd4l2xav2391pykk0yxu8h7aiyk4f9hjom4=\\r\\n0ypfdj1xw5675v493ovm2riw7gf00ocu61c3fuq06sfz1mb7os3igj0a8gnpvjj86tfzntai=\\r\\ngzomplxaadcliu3csjv3lu7xc6jo419bh&xih=3D68msiopt6bjj8j25h2kmg5ir4wgvqt7r=\\r\\nc2b10ryleqc=0A=C2=A0 =C2=A0=0A=0Ahttp://email.playwsop.com/?xtl=3Dtyezc8=\\r\\ncvleqhbovskjymkfd3ryc7cit9buzf5uw1u28xrzh96pc1ba0i0i1si2mynq3p908qq6elxp=\\r\\nr08dd5780u8g92pe9yc8awxi6ef6&xih=3D68msiopt6bjj8j25h2kmg5ir4wgvqt7rc2b10=\\r\\nryleqc=0A=0A=C2=A0=C2=A0=C2=A0=C2=A0=C2=A0=C2=A0=C2=A0=C2=A0=C2=A0=0A=0A=\\r\\nHAVE QUESTIONS OR COMMENTS? REACH OUT TO US =C2=A0=0AHERE=0Ahttp://email=\\r\\n.playwsop.com/?xtl=3D65lycrp2j698gzb9421mfm8e4kppwgvsw539rdfbiw3hdor98em=\\r\\npuuyi32lrksdhkqftx4r91hvhyt1qowufa4xl0reqdg4gqjcinxjitcduw1586pxn8hpj9be=\\r\\nzlb4h44xfadytj7wki2mq1i0w0sdem4og6c99bp&xih=3D68msiopt6bjj8j25h2kmg5ir4w=\\r\\ngvqt7rc2b10ryleqc=0A=0AWANT TO VIEW OUR PRIVACY POLICY? CHECK IT OUT=0AH=\\r\\nERE=0Ahttp://email.playwsop.com/?xtl=3Dv1b1sc1vnvamwis14udsvmbg8o0p02pn0=\\r\\nfcetge8s48bqqvp5uoab7cekqfwc5e3s24wjq78i3wugz7g0jr6hqh00qjwkqi0338omxswn=\\r\\nxs713lmk8tc8y0gn15&xih=3D68msiopt6bjj8j25h2kmg5ir4wgvqt7rc2b10ryleqc=0A=\\r\\n=0ACAN\\'T VIEW THIS EMAIL? OPEN IT IN A BROWSER=0AHERE=0Ahttp://email.pla=\\r\\nywsop.com/?xm=3DYk12Yu0kKJZkK2efYlQ5ovGfAPV3m&ocx_unsubscribe_link=3Dhtt=\\r\\np://email.playwsop.com/?xul=3D11353sqksc0qcutg0qxqmdr4s83d5v5zwsuaf1r8m6=\\r\\noic0dhj7i5p5r29724ny25g23fm5z80qbkwql02euy0cvf8gj3u0u3wbgl5pue19d&xih=3D=\\r\\n68msiopt6bjj8j25h2kmg5ir4wgvqt7rc2b10ryleqc&email=3Davraham.jacobsohn@gm=\\r\\nail.com=0A=0ATHIS EMAIL WAS SENT TO YOU BECAUSE YOU ASKED TO HEAR ABOUT=\\r\\n UPDATES AND PROMOTIONS FROM WSOP.=0AIF YOU PREFER NOT TO RECEIVE EMAIL=\\r\\n MESSAGES FROM US, PLEASE=C2=A0=0AUNSUBSCRIBE.=0Ahttp://email.playwsop.c=\\r\\nom/?xul=3D11353sqksc0qcutg0qxqmdr4s83d5v5zwsuaf1r8m6oic0dhj7i5p5r29724ny=\\r\\n25g23fm5z80qbkwql02euy0cvf8gj3u0u3wbgl5pue19d&xih=3D68msiopt6bjj8j25h2km=\\r\\ng5ir4wgvqt7rc2b10ryleqc=0A=0APLAYTIKA HOLDINGS Corp. - 2225 VILLAGE WALK=\\r\\n DRIVE SUITE 240 - HENDERSON, NV 89052 USA=0A=0A=C2=A0\\r\\n\\r\\n--=_f284533f98060a0e002db4d8432690ce\\r\\nContent-Type: text/html; charset=UTF-8\\r\\nContent-Transfer-Encoding: quoted-printable\\r\\n\\r\\n<!DOCTYPE HTML>=0A<html><head><meta content=3D\"text/html; charset=3Dutf-=\\r\\n8\" http-equiv=3D\"Content-Type\"><!-- Define Charset --><link href=3D\"http=\\r\\n://fonts.googleapis.com/css?family=3DOpen+Sans\" rel=3D\"stylesheet\" type=\\r\\n=3D\"text/css\"><!-- Responsive Meta Tag --><meta content=3D\"width=3Ddevic=\\r\\ne-width; initial-scale=3D1.0; maximum-scale=3D1.0;\" name=3D\"viewport\"><t=\\r\\nitle>Zed E-Newsletter</title><!-- Responsive Styles and Valid Styles -->=\\r\\n<style type=3D\"text/css\">body{=0A        width: 100%; =0A        backgro=\\r\\nund-color: #000000; =0A        margin:0; =0A        padding:0; =0A     =\\r\\n   -webkit-font-smoothing: antialiased;=0A        mso-margin-top-alt:0px=\\r\\n; mso-margin-bottom-alt:0px; mso-padding-alt: 0px 0px 0px 0px;=0A=09=09-=\\r\\nwebkit-text-size-adjust:none;=0A        }=0A        =0A=0A        =0A  =\\r\\n      /* ----------- responsivity ----------- */=0A        @media only s=\\r\\ncreen and (max-width: 640px){=0A=0A=09=09=09=0A=09=09=09/*----- main ima=\\r\\nge -------*/=0A=09=09=09*[class=3Dbanner] img{width: 400px !important; h=\\r\\neight: auto !important;}=0A=09=09=09*[class=3Dsection] img{width: 400px=\\r\\n !important; height: auto !important;}=0A=09=09=09=0A=09=09=09*[class=3D=\\r\\nfonts] {font-size:30px !important;}=0A=09=09=09*[class=3Dcenter] {text-a=\\r\\nlign:center !important;}=0A=09=09=09=0A=09=09=09*[class=3DZ-width] {min-=\\r\\nwidth:100% !important;}=0A=09=09=09=0A=09=09=09/*-------- Zed --------*/=\\r\\n=09=09=09=0A=09=09=09*[class=3DZed600] {width: 440px !important;}=0A=09=\\r\\n=09=09*[class=3DZed560] {width: 400px !important;}=0A=0A=09=09}=0A=09=09=\\r\\n=0A=09=09@media only screen and (max-width: 479px){=0A=0A=09=09=09/*----=\\r\\n- main image -------*/=0A=0A=09=09=09=0A=09=09=09/*----- main image ----=\\r\\n---*/=0A=09=09=09*[class=3Dbanner] img{width: 100% !important; height: a=\\r\\nuto !important;}=0A=09=09=09*[class=3Dsection] img{width: 100% !importan=\\r\\nt; height: auto !important;}=0A=09=09=09=0A=09=09=09*[class=3Dfonts] {fo=\\r\\nnt-size:30px !important;}=0A=09=09=09*[class=3Dcenter] {text-align:cente=\\r\\nr !important;}=0A=09=09=09=0A=09=09=09*[class=3DZ-width] {min-width:100%=\\r\\n !important;}=0A=09=09=09=0A=09=09=09/*-------- Zed --------*/=09=09=09=\\r\\n=0A=09=09=09*[class=3DZed600] {width: 100% !important;}=0A=09=09=09*[cla=\\r\\nss=3DZed560] {width: 100% !important;}=0A=0A=09=09}=0A=09</style></head>=\\r\\n<body leftmargin=3D\"0\" marginheight=3D\"0\" marginwidth=3D\"0\" topmargin=3D=\\r\\n\"0\"><span style=3D\"display:none !important; visibility:hidden; mso-hide:=\\r\\nall; font-size:1px; color:#ffffff; line-height:1px; =0A=09=09=09   max-h=\\r\\neight:0; max-width:0; opacity:0; overflow:hidden;\">Dealer Appreciate Jac=\\r\\nkpot | A little can go a long way</span>=0A<span style=3D\"display:none !=\\r\\nimportant; visibility:hidden; mso-hide:all; font-size:1px; color:#ffffff=\\r\\n; line-height:1px; =0A=09=09=09   max-height:0; max-width:0; opacity:0;=\\r\\n overflow:hidden;\"></span> <span style=3D\"display:none !important; visib=\\r\\nility:hidden; mso-hide:all; font-size:1px; color:#ffffff; line-height:1p=\\r\\nx; =0A=09=09=09   max-height:0; max-width:0; opacity:0; overflow:hidden;=\\r\\n\"></span> <span style=3D\"display:none !important; visibility:hidden; mso=\\r\\n-hide:all; font-size:1px; color:#ffffff; line-height:1px; =0A=09=09=09 =\\r\\n  max-height:0; max-width:0; opacity:0; overflow:hidden;\"></span> <span=\\r\\n style=3D\"display:none !important; visibility:hidden; mso-hide:all; font=\\r\\n-size:1px; color:#ffffff; line-height:1px; =0A=09=09=09   max-height:0;=\\r\\n max-width:0; opacity:0; overflow:hidden;\"></span> <span style=3D\"displa=\\r\\ny:none !important; visibility:hidden; mso-hide:all; font-size:1px; color=\\r\\n:#ffffff; line-height:1px; =0A=09=09=09   max-height:0; max-width:0; opa=\\r\\ncity:0; overflow:hidden;\"></span> <span style=3D\"display:none !important=\\r\\n; visibility:hidden; mso-hide:all; font-size:1px; color:#ffffff; line-he=\\r\\night:1px; =0A=09=09=09   max-height:0; max-width:0; opacity:0; overflow:=\\r\\nhidden;\"></span> <span style=3D\"display:none !important; visibility:hidd=\\r\\nen; mso-hide:all; font-size:1px; color:#ffffff; line-height:1px; =0A=09=\\r\\n=09=09   max-height:0; max-width:0; opacity:0; overflow:hidden;\"></span>=\\r\\n <span style=3D\"display:none !important; visibility:hidden; mso-hide:all=\\r\\n; font-size:1px; color:#ffffff; line-height:1px; =0A=09=09=09   max-heig=\\r\\nht:0; max-width:0; opacity:0; overflow:hidden;\"></span> <span style=3D\"d=\\r\\nisplay:none !important; visibility:hidden; mso-hide:all; font-size:1px;=\\r\\n color:#ffffff; line-height:1px; =0A=09=09=09   max-height:0; max-width:=\\r\\n0; opacity:0; overflow:hidden;\"></span> <span style=3D\"display:none !imp=\\r\\nortant; visibility:hidden; mso-hide:all; font-size:1px; color:#ffffff; l=\\r\\nine-height:1px; =0A=09=09=09   max-height:0; max-width:0; opacity:0; ove=\\r\\nrflow:hidden;\"></span> <span style=3D\"display:none !important; visibilit=\\r\\ny:hidden; mso-hide:all; font-size:1px; color:#ffffff; line-height:1px;=\\r\\n =0A=09=09=09   max-height:0; max-width:0; opacity:0; overflow:hidden;\">=\\r\\n</span> <span style=3D\"display:none !important; visibility:hidden; mso-h=\\r\\nide:all; font-size:1px; color:#ffffff; line-height:1px; =0A=09=09=09   m=\\r\\nax-height:0; max-width:0; opacity:0; overflow:hidden;\"></span> <span sty=\\r\\nle=3D\"display:none !important; visibility:hidden; mso-hide:all; font-siz=\\r\\ne:1px; color:#ffffff; line-height:1px; =0A=09=09=09   max-height:0; max-=\\r\\nwidth:0; opacity:0; overflow:hidden;\"></span> <span style=3D\"display:non=\\r\\ne !important; visibility:hidden; mso-hide:all; font-size:1px; color:#fff=\\r\\nfff; line-height:1px; =0A=09=09=09   max-height:0; max-width:0; opacity:=\\r\\n0; overflow:hidden;\"></span> <span style=3D\"display:none !important; vis=\\r\\nibility:hidden; mso-hide:all; font-size:1px; color:#ffffff; line-height:=\\r\\n1px; =0A=09=09=09   max-height:0; max-width:0; opacity:0; overflow:hidde=\\r\\nn;\"></span> <span style=3D\"display:none !important; visibility:hidden; m=\\r\\nso-hide:all; font-size:1px; color:#ffffff; line-height:1px; =0A=09=09=09=\\r\\n   max-height:0; max-width:0; opacity:0; overflow:hidden;\"></span> <span=\\r\\n style=3D\"display:none !important; visibility:hidden; mso-hide:all; font=\\r\\n-size:1px; color:#ffffff; line-height:1px; =0A=09=09=09   max-height:0;=\\r\\n max-width:0; opacity:0; overflow:hidden;\"></span> <span style=3D\"displa=\\r\\ny:none !important; visibility:hidden; mso-hide:all; font-size:1px; color=\\r\\n:#ffffff; line-height:1px; =0A=09=09=09   max-height:0; max-width:0; opa=\\r\\ncity:0; overflow:hidden;\"></span> <span style=3D\"display:none !important=\\r\\n; visibility:hidden; mso-hide:all; font-size:1px; color:#ffffff; line-he=\\r\\night:1px; =0A=09=09=09   max-height:0; max-width:0; opacity:0; overflow:=\\r\\nhidden;\"></span> <span style=3D\"display:none !important; visibility:hidd=\\r\\nen; mso-hide:all; font-size:1px; color:#ffffff; line-height:1px; =0A=09=\\r\\n=09=09   max-height:0; max-width:0; opacity:0; overflow:hidden;\"></span>=\\r\\n <span style=3D\"display:none !important; visibility:hidden; mso-hide:all=\\r\\n; font-size:1px; color:#ffffff; line-height:1px; =0A=09=09=09   max-heig=\\r\\nht:0; max-width:0; opacity:0; overflow:hidden;\"></span> <span style=3D\"d=\\r\\nisplay:none !important; visibility:hidden; mso-hide:all; font-size:1px;=\\r\\n color:#ffffff; line-height:1px; =0A=09=09=09   max-height:0; max-width:=\\r\\n0; opacity:0; overflow:hidden;\"></span> <span style=3D\"display:none !imp=\\r\\nortant; visibility:hidden; mso-hide:all; font-size:1px; color:#ffffff; l=\\r\\nine-height:1px; =0A=09=09=09   max-height:0; max-width:0; opacity:0; ove=\\r\\nrflow:hidden;\"></span> <span style=3D\"display:none !important; visibilit=\\r\\ny:hidden; mso-hide:all; font-size:1px; color:#ffffff; line-height:1px;=\\r\\n =0A=09=09=09   max-height:0; max-width:0; opacity:0; overflow:hidden;\">=\\r\\n</span> <span style=3D\"display:none !important; visibility:hidden; mso-h=\\r\\nide:all; font-size:1px; color:#ffffff; line-height:1px; =0A=09=09=09   m=\\r\\nax-height:0; max-width:0; opacity:0; overflow:hidden;\"></span> <span sty=\\r\\nle=3D\"display:none !important; visibility:hidden; mso-hide:all; font-siz=\\r\\ne:1px; color:#ffffff; line-height:1px; =0A=09=09=09   max-height:0; max-=\\r\\nwidth:0; opacity:0; overflow:hidden;\"></span> <span style=3D\"display:non=\\r\\ne !important; visibility:hidden; mso-hide:all; font-size:1px; color:#fff=\\r\\nfff; line-height:1px; =0A=09=09=09   max-height:0; max-width:0; opacity:=\\r\\n0; overflow:hidden;\"></span> <span style=3D\"display:none !important; vis=\\r\\nibility:hidden; mso-hide:all; font-size:1px; color:#ffffff; line-height:=\\r\\n1px; =0A=09=09=09   max-height:0; max-width:0; opacity:0; overflow:hidde=\\r\\nn;\"></span> <span style=3D\"display:none !important; visibility:hidden; m=\\r\\nso-hide:all; font-size:1px; color:#ffffff; line-height:1px; =0A=09=09=09=\\r\\n   max-height:0; max-width:0; opacity:0; overflow:hidden;\"></span> <span=\\r\\n style=3D\"display:none !important; visibility:hidden; mso-hide:all; font=\\r\\n-size:1px; color:#ffffff; line-height:1px; =0A=09=09=09   max-height:0;=\\r\\n max-width:0; opacity:0; overflow:hidden;\"></span> <span style=3D\"displa=\\r\\ny:none !important; visibility:hidden; mso-hide:all; font-size:1px; color=\\r\\n:#ffffff; line-height:1px; =0A=09=09=09   max-height:0; max-width:0; opa=\\r\\ncity:0; overflow:hidden;\"></span> <span style=3D\"display:none !important=\\r\\n; visibility:hidden; mso-hide:all; font-size:1px; color:#ffffff; line-he=\\r\\night:1px; =0A=09=09=09   max-height:0; max-width:0; opacity:0; overflow:=\\r\\nhidden;\"></span> <span style=3D\"display:none !important; visibility:hidd=\\r\\nen; mso-hide:all; font-size:1px; color:#ffffff; line-height:1px; =0A=09=\\r\\n=09=09   max-height:0; max-width:0; opacity:0; overflow:hidden;\"></span>=\\r\\n <span style=3D\"display:none !important; visibility:hidden; mso-hide:all=\\r\\n; font-size:1px; color:#ffffff; line-height:1px; =0A=09=09=09   max-heig=\\r\\nht:0; max-width:0; opacity:0; overflow:hidden;\"></span> <span style=3D\"d=\\r\\nisplay:none !important; visibility:hidden; mso-hide:all; font-size:1px;=\\r\\n color:#ffffff; line-height:1px; =0A=09=09=09   max-height:0; max-width:=\\r\\n0; opacity:0; overflow:hidden;\"></span> <span style=3D\"display:none !imp=\\r\\nortant; visibility:hidden; mso-hide:all; font-size:1px; color:#ffffff; l=\\r\\nine-height:1px; =0A=09=09=09   max-height:0; max-width:0; opacity:0; ove=\\r\\nrflow:hidden;\"></span> <span style=3D\"display:none !important; visibilit=\\r\\ny:hidden; mso-hide:all; font-size:1px; color:#ffffff; line-height:1px;=\\r\\n =0A=09=09=09   max-height:0; max-width:0; opacity:0; overflow:hidden;\">=\\r\\n</span> <span style=3D\"display:none !important; visibility:hidden; mso-h=\\r\\nide:all; font-size:1px; color:#ffffff; line-height:1px; =0A=09=09=09   m=\\r\\nax-height:0; max-width:0; opacity:0; overflow:hidden;\"></span> <span sty=\\r\\nle=3D\"display:none !important; visibility:hidden; mso-hide:all; font-siz=\\r\\ne:1px; color:#ffffff; line-height:1px; =0A=09=09=09   max-height:0; max-=\\r\\nwidth:0; opacity:0; overflow:hidden;\"></span> <span style=3D\"display:non=\\r\\ne !important; visibility:hidden; mso-hide:all; font-size:1px; color:#fff=\\r\\nfff; line-height:1px; =0A=09=09=09   max-height:0; max-width:0; opacity:=\\r\\n0; overflow:hidden;\"></span> <span style=3D\"display:none !important; vis=\\r\\nibility:hidden; mso-hide:all; font-size:1px; color:#ffffff; line-height:=\\r\\n1px; =0A=09=09=09   max-height:0; max-width:0; opacity:0; overflow:hidde=\\r\\nn;\"></span> <span style=3D\"display:none !important; visibility:hidden; m=\\r\\nso-hide:all; font-size:1px; color:#ffffff; line-height:1px; =0A=09=09=09=\\r\\n   max-height:0; max-width:0; opacity:0; overflow:hidden;\"></span> <span=\\r\\n style=3D\"display:none !important; visibility:hidden; mso-hide:all; font=\\r\\n-size:1px; color:#ffffff; line-height:1px; =0A=09=09=09   max-height:0;=\\r\\n max-width:0; opacity:0; overflow:hidden;\"></span> <span style=3D\"displa=\\r\\ny:none !important; visibility:hidden; mso-hide:all; font-size:1px; color=\\r\\n:#ffffff; line-height:1px; =0A=09=09=09   max-height:0; max-width:0; opa=\\r\\ncity:0; overflow:hidden;\"></span> <span style=3D\"display:none !important=\\r\\n; visibility:hidden; mso-hide:all; font-size:1px; color:#ffffff; line-he=\\r\\night:1px; =0A=09=09=09   max-height:0; max-width:0; opacity:0; overflow:=\\r\\nhidden;\"></span> <span style=3D\"display:none !important; visibility:hidd=\\r\\nen; mso-hide:all; font-size:1px; color:#ffffff; line-height:1px; =0A=09=\\r\\n=09=09   max-height:0; max-width:0; opacity:0; overflow:hidden;\"></span>=\\r\\n <span style=3D\"display:none !important; visibility:hidden; mso-hide:all=\\r\\n; font-size:1px; color:#ffffff; line-height:1px; =0A=09=09=09   max-heig=\\r\\nht:0; max-width:0; opacity:0; overflow:hidden;\"></span> <span style=3D\"d=\\r\\nisplay:none !important; visibility:hidden; mso-hide:all; font-size:1px;=\\r\\n color:#ffffff; line-height:1px; =0A=09=09=09   max-height:0; max-width:=\\r\\n0; opacity:0; overflow:hidden;\"></span> <span style=3D\"display:none !imp=\\r\\nortant; visibility:hidden; mso-hide:all; font-size:1px; color:#ffffff; l=\\r\\nine-height:1px; =0A=09=09=09   max-height:0; max-width:0; opacity:0; ove=\\r\\nrflow:hidden;\"></span> <span style=3D\"display:none !important; visibilit=\\r\\ny:hidden; mso-hide:all; font-size:1px; color:#ffffff; line-height:1px;=\\r\\n =0A=09=09=09   max-height:0; max-width:0; opacity:0; overflow:hidden;\">=\\r\\n</span> <span style=3D\"display:none !important; visibility:hidden; mso-h=\\r\\nide:all; font-size:1px; color:#ffffff; line-height:1px; =0A=09=09=09   m=\\r\\nax-height:0; max-width:0; opacity:0; overflow:hidden;\"></span> <span sty=\\r\\nle=3D\"display:none !important; visibility:hidden; mso-hide:all; font-siz=\\r\\ne:1px; color:#ffffff; line-height:1px; =0A=09=09=09   max-height:0; max-=\\r\\nwidth:0; opacity:0; overflow:hidden;\"></span> <span style=3D\"display:non=\\r\\ne !important; visibility:hidden; mso-hide:all; font-size:1px; color:#fff=\\r\\nfff; line-height:1px; =0A=09=09=09   max-height:0; max-width:0; opacity:=\\r\\n0; overflow:hidden;\"></span> <span style=3D\"display:none !important; vis=\\r\\nibility:hidden; mso-hide:all; font-size:1px; color:#ffffff; line-height:=\\r\\n1px; =0A=09=09=09   max-height:0; max-width:0; opacity:0; overflow:hidde=\\r\\nn;\"></span> <span style=3D\"display:none !important; visibility:hidden; m=\\r\\nso-hide:all; font-size:1px; color:#ffffff; line-height:1px; =0A=09=09=09=\\r\\n   max-height:0; max-width:0; opacity:0; overflow:hidden;\"></span> <span=\\r\\n style=3D\"display:none !important; visibility:hidden; mso-hide:all; font=\\r\\n-size:1px; color:#ffffff; line-height:1px; =0A=09=09=09   max-height:0;=\\r\\n max-width:0; opacity:0; overflow:hidden;\"></span> <span style=3D\"displa=\\r\\ny:none !important; visibility:hidden; mso-hide:all; font-size:1px; color=\\r\\n:#ffffff; line-height:1px; =0A=09=09=09   max-height:0; max-width:0; opa=\\r\\ncity:0; overflow:hidden;\"></span> <span style=3D\"display:none !important=\\r\\n; visibility:hidden; mso-hide:all; font-size:1px; color:#ffffff; line-he=\\r\\night:1px; =0A=09=09=09   max-height:0; max-width:0; opacity:0; overflow:=\\r\\nhidden;\"></span> <span style=3D\"display:none !important; visibility:hidd=\\r\\nen; mso-hide:all; font-size:1px; color:#ffffff; line-height:1px; =0A=09=\\r\\n=09=09   max-height:0; max-width:0; opacity:0; overflow:hidden;\"></span>=\\r\\n <span style=3D\"display:none !important; visibility:hidden; mso-hide:all=\\r\\n; font-size:1px; color:#ffffff; line-height:1px; =0A=09=09=09   max-heig=\\r\\nht:0; max-width:0; opacity:0; overflow:hidden;\"></span> <span style=3D\"d=\\r\\nisplay:none !important; visibility:hidden; mso-hide:all; font-size:1px;=\\r\\n color:#ffffff; line-height:1px; =0A=09=09=09   max-height:0; max-width:=\\r\\n0; opacity:0; overflow:hidden;\"></span> <span style=3D\"display:none !imp=\\r\\nortant; visibility:hidden; mso-hide:all; font-size:1px; color:#ffffff; l=\\r\\nine-height:1px; =0A=09=09=09   max-height:0; max-width:0; opacity:0; ove=\\r\\nrflow:hidden;\"></span> <span style=3D\"display:none !important; visibilit=\\r\\ny:hidden; mso-hide:all; font-size:1px; color:#ffffff; line-height:1px;=\\r\\n =0A=09=09=09   max-height:0; max-width:0; opacity:0; overflow:hidden;\">=\\r\\n</span> <span style=3D\"display:none !important; visibility:hidden; mso-h=\\r\\nide:all; font-size:1px; color:#ffffff; line-height:1px; =0A=09=09=09   m=\\r\\nax-height:0; max-width:0; opacity:0; overflow:hidden;\"></span> <span sty=\\r\\nle=3D\"display:none !important; visibility:hidden; mso-hide:all; font-siz=\\r\\ne:1px; color:#ffffff; line-height:1px; =0A=09=09=09   max-height:0; max-=\\r\\nwidth:0; opacity:0; overflow:hidden;\"></span> <span style=3D\"display:non=\\r\\ne !important; visibility:hidden; mso-hide:all; font-size:1px; color:#fff=\\r\\nfff; line-height:1px; =0A=09=09=09   max-height:0; max-width:0; opacity:=\\r\\n0; overflow:hidden;\"></span> <span style=3D\"display:none !important; vis=\\r\\nibility:hidden; mso-hide:all; font-size:1px; color:#ffffff; line-height:=\\r\\n1px; =0A=09=09=09   max-height:0; max-width:0; opacity:0; overflow:hidde=\\r\\nn;\"></span> <span style=3D\"display:none !important; visibility:hidden; m=\\r\\nso-hide:all; font-size:1px; color:#ffffff; line-height:1px; =0A=09=09=09=\\r\\n   max-height:0; max-width:0; opacity:0; overflow:hidden;\"></span> <span=\\r\\n style=3D\"display:none !important; visibility:hidden; mso-hide:all; font=\\r\\n-size:1px; color:#ffffff; line-height:1px; =0A=09=09=09   max-height:0;=\\r\\n max-width:0; opacity:0; overflow:hidden;\"></span> <span style=3D\"displa=\\r\\ny:none !important; visibility:hidden; mso-hide:all; font-size:1px; color=\\r\\n:#ffffff; line-height:1px; =0A=09=09=09   max-height:0; max-width:0; opa=\\r\\ncity:0; overflow:hidden;\"></span> <span style=3D\"display:none !important=\\r\\n; visibility:hidden; mso-hide:all; font-size:1px; color:#ffffff; line-he=\\r\\night:1px; =0A=09=09=09   max-height:0; max-width:0; opacity:0; overflow:=\\r\\nhidden;\"></span> <span style=3D\"display:none !important; visibility:hidd=\\r\\nen; mso-hide:all; font-size:1px; color:#ffffff; line-height:1px; =0A=09=\\r\\n=09=09   max-height:0; max-width:0; opacity:0; overflow:hidden;\"></span>=\\r\\n <span style=3D\"display:none !important; visibility:hidden; mso-hide:all=\\r\\n; font-size:1px; color:#ffffff; line-height:1px; =0A=09=09=09   max-heig=\\r\\nht:0; max-width:0; opacity:0; overflow:hidden;\"></span> <span style=3D\"d=\\r\\nisplay:none !important; visibility:hidden; mso-hide:all; font-size:1px;=\\r\\n color:#ffffff; line-height:1px; =0A=09=09=09   max-height:0; max-width:=\\r\\n0; opacity:0; overflow:hidden;\"></span> <span style=3D\"display:none !imp=\\r\\nortant; visibility:hidden; mso-hide:all; font-size:1px; color:#ffffff; l=\\r\\nine-height:1px; =0A=09=09=09   max-height:0; max-width:0; opacity:0; ove=\\r\\nrflow:hidden;\"></span> <span style=3D\"display:none !important; visibilit=\\r\\ny:hidden; mso-hide:all; font-size:1px; color:#ffffff; line-height:1px;=\\r\\n =0A=09=09=09   max-height:0; max-width:0; opacity:0; overflow:hidden;\">=\\r\\n</span> <span style=3D\"display:none !important; visibility:hidden; mso-h=\\r\\nide:all; font-size:1px; color:#ffffff; line-height:1px; =0A=09=09=09   m=\\r\\nax-height:0; max-width:0; opacity:0; overflow:hidden;\"></span> <span sty=\\r\\nle=3D\"display:none !important; visibility:hidden; mso-hide:all; font-siz=\\r\\ne:1px; color:#ffffff; line-height:1px; =0A=09=09=09   max-height:0; max-=\\r\\nwidth:0; opacity:0; overflow:hidden;\"></span> <span style=3D\"display:non=\\r\\ne !important; visibility:hidden; mso-hide:all; font-size:1px; color:#fff=\\r\\nfff; line-height:1px; =0A=09=09=09   max-height:0; max-width:0; opacity:=\\r\\n0; overflow:hidden;\"></span>=0A<table bgcolor=3D\"#000000\" border=3D\"0\" c=\\r\\nellpadding=3D\"0\" cellspacing=3D\"0\" width=3D\"100%\"><tbody><tr><td align=\\r\\n=3D\"center\" class=3D\"Z-width\" style=3D\"min-width:600px;\">=C2=A0</td>=0A=\\r\\n=09=09</tr><tr><td align=3D\"center\" class=3D\"Z-width\" style=3D\"min-width=\\r\\n:600px;\">=0A=09=09=09<table align=3D\"center\" bgcolor=3D\"#000000\" border=\\r\\n=3D\"0\" cellpadding=3D\"0\" cellspacing=3D\"0\" class=3D\"Zed600\" style=3D\"bor=\\r\\nder-collapse:collapse; mso-table-lspace:0pt; mso-table-rspace:0pt\" width=\\r\\n=3D\"600\"><tbody><tr><td align=3D\"center\" style=3D\"padding:0 10px;\">=0A=\\r\\n=09=09=09=09=09=09<table align=3D\"center\" border=3D\"0\" cellpadding=3D\"0\"=\\r\\n cellspacing=3D\"0\" class=3D\"Zed560\" style=3D\"border-collapse:collapse; m=\\r\\nso-table-lspace:0pt; mso-table-rspace:0pt\" width=3D\"560\"><tbody><tr><td=\\r\\n align=3D\"center\" class=3D\"banner\">=0A=09=09=09=09=09=09=09=09=09<p styl=\\r\\ne=3D\"text-align: left;\"><span style=3D\"color:#D3D3D3;\"><span style=3D\"fo=\\r\\nnt-family:arial,helvetica,sans-serif;\"><span style=3D\"font-size:11px;\"><=\\r\\nspan style=3D\"font-size:10px;\">CLAIM YOUR $20,000 CHIP GIFT HERE! <a dat=\\r\\na-group=3D\"1375\" data-id=3D\"2591330665\" data-title=3D\"CLAIM & PLAY NOW!\"=\\r\\n href=3D\"http://email.playwsop.com/?xtl=3Dtyezc8cvleqhbovskjymkfd3ryc7cs=\\r\\nctwwiu4jb76olpwrqu8wtqvy1udv6mkkfohxn2p0n7aw8yyhu4fi372031td3pxsc2b3neq1=\\r\\ndtb6&amp;xih=3D68msiopt6bjj8j25h2kmg5ir4wgvqt7rc2b10ryleqc\">CLAIM & PLAY=\\r\\n NOW!</a><br>=0A=09=09=09=09=09=09=09=09=09CLICK <a data-id=3D\"259133066=\\r\\n6\" data-title=3D\"HERE\" href=3D\"http://email.playwsop.com/?xm=3DYk12Yu0kK=\\r\\nJZkK2efYlQ5ovGfAPV3m&ocx_unsubscribe_link=3Dhttp://email.playwsop.com/?x=\\r\\nul=3D11353sqksc0qcutg0qxqmdr4s83d5v5zwsuaf1r8m6oic0dhj7i5p5r29724ny25g23=\\r\\nfm5z80qbkwql02euy0cvf8gj3u0u3wbgl5pue19d&amp;xih=3D68msiopt6bjj8j25h2kmg=\\r\\n5ir4wgvqt7rc2b10ryleqc&ocx_email_hash=3D68msiopt6bjj8j25h2kmg5ir4wgvqt7r=\\r\\nc2b10ryleqc&email=3Davraham.jacobsohn@gmail.com\">HERE</a> TO VIEW IN WEB=\\r\\n BROWSER</span><a data-title=3D\"COLLECT & PLAY NOW!\"><span style=3D\"font=\\r\\n-size:10px;\"></span></a></span></span></span><br>=0A=09=09=09=09=09=09=\\r\\n=09=09=09=C2=A0</p>=0A=0A=09=09=09=09=09=09=09=09=09<p><a data-group=3D\"=\\r\\n1376\" data-id=3D\"2591330667\" data-title=3D\"4745a60e994c01c8\" href=3D\"htt=\\r\\np://email.playwsop.com/?xtl=3Dtyezc8cvleqhbovskjymkfd3ryc7cshgl4a8os5v2p=\\r\\nwm24wmz7kbgdoxet2gt71pn3tf01dw5bl3x1tgnfstw4qqkz56wrxbhj0s68zx9h&amp;xih=\\r\\n=3D68msiopt6bjj8j25h2kmg5ir4wgvqt7rc2b10ryleqc\"><img alt=3D\"\" src=3D\"htt=\\r\\np://imgwsop.wsop.com/images/8155b27c0da12309.jpg\" style=3D\"width: 100%;\"=\\r\\n width=3D\"100%\"></a></p>=0A=09=09=09=09=09=09=09=09=09</td>=0A=09=09=09=\\r\\n=09=09=09=09=09</tr></tbody></table><hr><table border=3D\"0\" cellpadding=\\r\\n=3D\"1\" cellspacing=3D\"1\" style=3D\"color: rgb(171, 171, 171); font-family=\\r\\n: arial, helvetica, sans-serif; text-transform: uppercase; font-size: 9p=\\r\\nx; line-height: 16px; width: 600px;\"><tbody><tr><td style=3D\"text-align:=\\r\\n center;\"><a data-id=3D\"2591330668\" data-title=3D\"UNSUBSCRIBE\" href=3D\"h=\\r\\nttp://email.playwsop.com/?xul=3D11353sqksc0qcutg0qxqmdr4s83d5v5zwsuaf1r8=\\r\\nm6oic0dhj7i5p5r29724ny25g23fm5z80qbkwql02euy0cvf8gj3u0u3wbgl5pue19d&amp;=\\r\\nxih=3D68msiopt6bjj8j25h2kmg5ir4wgvqt7rc2b10ryleqc\">UNSUBSCRIBE</a></td>=\\r\\n=0A=09=09=09=09=09=09=09=09=09<td style=3D\"text-align: center;\"><a data-=\\r\\ngroup=3D\"1377\" data-id=3D\"2591330669\" data-title=3D\"PLAYWSOP.COM\" href=\\r\\n=3D\"http://email.playwsop.com/?xtl=3Dtyezc8cvleqhbovskjymkfd3ryc7ct18par=\\r\\nkvkxgkq56vfc31hs15izafqlplr9pcxavz37iyhbwv7tvfcfe28berv6lvqtp2cb3krvaf3&=\\r\\namp;xih=3D68msiopt6bjj8j25h2kmg5ir4wgvqt7rc2b10ryleqc\">PLAYWSOP.COM</a><=\\r\\n/td>=0A=09=09=09=09=09=09=09=09=09<td style=3D\"text-align: center;\">=C2=\\r\\n=A0</td>=0A=09=09=09=09=09=09=09=09=09<td style=3D\"text-align: center;\">=\\r\\n<a data-group=3D\"1378\" data-id=3D\"2591330670\" data-title=3D\"CONTACT US\"=\\r\\n href=3D\"http://email.playwsop.com/?xtl=3D65lycrp2j698gzb9421mfm8e4kppwb=\\r\\n50s773c7rudarmo0zcz1suxr6riidgijphbd8km2td9q72x9niz2135ppau7qct7athxpgjr=\\r\\n318fxyn5k7ckc2gmp482y5tvnp2lahaqzev4ujt76jm8604yqhuf5joqn1bp&amp;xih=3D6=\\r\\n8msiopt6bjj8j25h2kmg5ir4wgvqt7rc2b10ryleqc\">CONTACT=C2=A0</a></td>=0A=09=\\r\\n=09=09=09=09=09=09=09=09<td style=3D\"text-align: center;\"><a data-group=\\r\\n=3D\"0\" data-title=3D\"STAY CONNECTED\">=C2=A0</a></td>=0A=09=09=09=09=09=\\r\\n=09=09=09=09<td style=3D\"text-align: center;\">=C2=A0</td>=0A=09=09=09=09=\\r\\n=09=09=09=09=09<td style=3D\"text-align: center;\">=C2=A0</td>=0A=09=09=09=\\r\\n=09=09=09=09=09=09<td style=3D\"text-align: center;\">=C2=A0</td>=0A=09=09=\\r\\n=09=09=09=09=09=09=09<td style=3D\"text-align: center;\" width=3D\"5%\">=C2=\\r\\n=A0</td>=0A=09=09=09=09=09=09=09=09</tr></tbody></table><p style=3D\"colo=\\r\\nr: rgb(171, 171, 171); font-family: arial, helvetica, sans-serif; text-a=\\r\\nlign: -webkit-center; text-transform: uppercase;\"><br><a data-group=3D\"1=\\r\\n379\" data-id=3D\"2591330671\" data-title=3D\"37958939c6152a6d\" href=3D\"http=\\r\\n://email.playwsop.com/?xtl=3D5buqc8l3mks1kfo9pzzgyeou30vqo5sczapff3vfa8w=\\r\\nq3lsdg23h98lkh4xdrnsmrp3gwojaf90wgjowekh5cwfsei59rkjsgnpe0gbr4lfz81c2ei7=\\r\\n413n8dh4mc7b5jwao6rdp3j5lkm99q&amp;xih=3D68msiopt6bjj8j25h2kmg5ir4wgvqt7=\\r\\nrc2b10ryleqc\" style=3D\"font-size: 9px; line-height: 16px;\"><img alt=3D\"\"=\\r\\n src=3D\"http://imgwsop.wsop.com/images/37958939c6152a6d.png\" style=3D\"wi=\\r\\ndth: 60px;\" width=3D\"60\"></a>=C2=A0=C2=A0<font size=3D\"1\"><span style=3D=\\r\\n\"line-height: 16px;\">=C2=A0</span></font><a data-group=3D\"1379\" data-id=\\r\\n=3D\"2591330672\" data-title=3D\"33058939c6199eaa\" href=3D\"http://email.pla=\\r\\nywsop.com/?xtl=3D1ohotfzbkw81czzx2q97h0mvu10t9hkjxtgp61qrvc7l34xxjzuj6mn=\\r\\ny04qwuz8ro3k3qzj098yffbrs84tpc0yjndga9doed8d80sivzzg7uh14nop8&amp;xih=3D=\\r\\n68msiopt6bjj8j25h2kmg5ir4wgvqt7rc2b10ryleqc\" style=3D\"font-size: 9px; li=\\r\\nne-height: 16px;\"><img alt=3D\"\" src=3D\"http://imgwsop.wsop.com/images/33=\\r\\n058939c6199eaa.png\" style=3D\"width: 60px;\" width=3D\"60\"></a><font size=\\r\\n=3D\"1\"><span style=3D\"line-height: 16px;\">=C2=A0 =C2=A0=C2=A0</span></fo=\\r\\nnt><a data-group=3D\"1379\" data-id=3D\"2591330673\" data-title=3D\"97558939c=\\r\\n646701c\" href=3D\"http://email.playwsop.com/?xtl=3D5m97lylsal83jdaswvdym7=\\r\\nxsdrqz4w4xcw5078cf901jlorg0rursl19jevto2gtai7krtpsokjwm36lmyrbrt7kk37a3n=\\r\\nl4d6o8gg8i2r9evav0qcxfkxk2683eh3tt&amp;xih=3D68msiopt6bjj8j25h2kmg5ir4wg=\\r\\nvqt7rc2b10ryleqc\" style=3D\"font-size: 9px; line-height: 16px;\"><img alt=\\r\\n=3D\"\" src=3D\"http://imgwsop.wsop.com/images/97558939c646701c.png\" style=\\r\\n=3D\"width: 60px;\" width=3D\"60\"></a>=C2=A0<font size=3D\"1\"><span style=3D=\\r\\n\"line-height: 16px;\">=C2=A0=C2=A0</span></font><a data-group=3D\"1379\" da=\\r\\nta-id=3D\"2591330674\" data-title=3D\"9558939c61546c2\" href=3D\"http://email=\\r\\n.playwsop.com/?xtl=3D2xsrc3ffi8b4am6ujmywv15fuehngq3dl4yknyf7eha05vn7idx=\\r\\no4jljf5enja8cogetknxd3c2yr4raivovgm62zmpkw6k26y4970ccymlwv482ttczxayyzs5=\\r\\nqjimur8kkjrml28kv5hrcc1tyoyg9tkj5i29hsj2o1kvrw3cak51lilllvrdjife&amp;xih=\\r\\n=3D68msiopt6bjj8j25h2kmg5ir4wgvqt7rc2b10ryleqc\"><img alt=3D\"\" src=3D\"htt=\\r\\np://imgwsop.wsop.com/images/9558939c61546c2.png\" style=3D\"width: 60px;\"=\\r\\n width=3D\"60\"></a>=C2=A0 =C2=A0<a data-group=3D\"1379\" data-id=3D\"2591330=\\r\\n676\" data-title=3D\"27858939c6164daa\" href=3D\"http://email.playwsop.com/?=\\r\\nxtl=3D9ofzoep6kpws7eegx1lthrm9ur9nop1ojidx4e751bl0pzz9iuivetvmfedk1r9mgm=\\r\\nn1rmu5iorncz4fohek3upl6u0a8huh7dpwmwnsh5jipm4kqmqqb4e30tfyqtwis5xxbi6te6=\\r\\nzgcbspfablsrxy1gbgalrfumyhjhztwmnbowaf8ric59&amp;xih=3D68msiopt6bjj8j25h=\\r\\n2kmg5ir4wgvqt7rc2b10ryleqc\"><img alt=3D\"\" src=3D\"http://imgwsop.wsop.com=\\r\\n/images/27858939c6164daa.png\" style=3D\"width: 60px;\" width=3D\"60\"></a>=\\r\\n=C2=A0=C2=A0<a data-group=3D\"1379\" data-id=3D\"2591330677\" data-title=3D\"=\\r\\n7958939d6893486\" href=3D\"http://email.playwsop.com/?xtl=3Da07eh4emnqy7m8=\\r\\nmem7mod5f1l43udoh7uhgz9dkij5wifupanxkc92zj2gbpukh3e177n2yakmixddy28611zy=\\r\\npamsv4s6y67see96vwdpqanwf6yxb3vy5a979poll8so1jhyh6klbfej6zj2b69f8sz6e5t7=\\r\\nyuh26arefrj4wfbc&amp;xih=3D68msiopt6bjj8j25h2kmg5ir4wgvqt7rc2b10ryleqc\">=\\r\\n<img alt=3D\"\" src=3D\"http://imgwsop.wsop.com/images/7958939d6893486.png\"=\\r\\n style=3D\"width: 60px;\" width=3D\"60\"></a>=C2=A0 =C2=A0<a data-group=3D\"1=\\r\\n380\" data-id=3D\"2591330678\" data-title=3D\"56958939c6165f68\" href=3D\"http=\\r\\n://email.playwsop.com/?xtl=3Dtyezc8cvleqhbovskjymkfd3ryc7ctbqb5qctdzossd=\\r\\n8dsk4hf3k22vwrzvfds9rapw3i0m37r0pyi7hk079pocsebmq7h8gkxh62jj0fc&amp;xih=\\r\\n=3D68msiopt6bjj8j25h2kmg5ir4wgvqt7rc2b10ryleqc\"><img alt=3D\"\" src=3D\"htt=\\r\\np://imgwsop.wsop.com/images/56958939c6165f68.png\" style=3D\"width: 60px;\"=\\r\\n width=3D\"60\"></a></p>=0A=0A=09=09=09=09=09=09<table border=3D\"0\" cellpa=\\r\\ndding=3D\"1\" cellspacing=3D\"1\" style=3D\"color: rgb(171, 171, 171); font-f=\\r\\namily: arial, helvetica, sans-serif; text-transform: uppercase; font-siz=\\r\\ne: 9px; line-height: 16px; width: 600px;\"><tbody></tbody><tbody><tr><td=\\r\\n style=3D\"text-align: center;\">=C2=A0</td>=0A=09=09=09=09=09=09=09=09=09=\\r\\n<td style=3D\"text-align: center;\">=C2=A0</td>=0A=09=09=09=09=09=09=09=09=\\r\\n=09<td style=3D\"text-align: center;\">=C2=A0</td>=0A=09=09=09=09=09=09=09=\\r\\n=09=09<td style=3D\"text-align: center;\">=C2=A0</td>=0A=09=09=09=09=09=09=\\r\\n=09=09=09<td style=3D\"text-align: center;\">=C2=A0</td>=0A=09=09=09=09=09=\\r\\n=09=09=09=09<td style=3D\"text-align: center;\">=C2=A0</td>=0A=09=09=09=09=\\r\\n=09=09=09=09=09<td style=3D\"text-align: center;\">=C2=A0</td>=0A=09=09=09=\\r\\n=09=09=09=09=09=09<td style=3D\"text-align: center;\">=C2=A0</td>=0A=09=09=\\r\\n=09=09=09=09=09=09=09<td style=3D\"text-align: center;\" width=3D\"5%\">=C2=\\r\\n=A0</td>=0A=09=09=09=09=09=09=09=09</tr></tbody></table><p style=3D\"colo=\\r\\nr: rgb(171, 171, 171); font-family: arial, helvetica, sans-serif; text-a=\\r\\nlign: -webkit-center; text-transform: uppercase; font-size: 9px; line-he=\\r\\night: 16px;\">HAVE QUESTIONS OR COMMENTS? REACH OUT TO US =C2=A0<a data-i=\\r\\nd=3D\"2591330679\" data-title=3D\"HERE\" href=3D\"http://email.playwsop.com/?=\\r\\nxtl=3D65lycrp2j698gzb9421mfm8e4kppwbpsei5pp8nrk5sofit3kjjsf4pr1ht8oz9exr=\\r\\nd28ls2laonarjp293r9nrxfkpdv8zz49qro4rnlft6tf7if7737rl2og8ovi39665kblwxf4=\\r\\nzbba72buxr2hw4dfzrlyztbi&amp;xih=3D68msiopt6bjj8j25h2kmg5ir4wgvqt7rc2b10=\\r\\nryleqc\">HERE</a></p>=0A=0A=09=09=09=09=09=09<p style=3D\"color: rgb(171,=\\r\\n 171, 171); font-family: arial, helvetica, sans-serif; text-align: -webk=\\r\\nit-center; text-transform: uppercase; font-size: 9px; line-height: 16px;=\\r\\n\">WANT TO VIEW OUR PRIVACY POLICY? CHECK IT OUT <a data-group=3D\"1426\" d=\\r\\nata-id=3D\"2591330681\" data-title=3D\"HERE\" href=3D\"http://email.playwsop.=\\r\\ncom/?xtl=3Dv1b1sc1vnvamwis14udsvmbg8o0olytb7cxm0hiyctp4zqo9ilhpy38nsbwlf=\\r\\ne4ejfwbtfxdmn8wd32qo8w9kb3bcb8r1sw7yco7plfw62hze5batbkr9dt7vta&amp;xih=\\r\\n=3D68msiopt6bjj8j25h2kmg5ir4wgvqt7rc2b10ryleqc\">HERE</a></p>=0A=0A=09=09=\\r\\n=09=09=09=09<p style=3D\"color: rgb(171, 171, 171); font-family: arial, h=\\r\\nelvetica, sans-serif; text-align: -webkit-center; text-transform: upperc=\\r\\nase; font-size: 9px; line-height: 16px;\">CAN\\'T VIEW THIS EMAIL? OPEN IT=\\r\\n IN A BROWSER <a data-id=3D\"2591330682\" data-title=3D\"HERE\" href=3D\"http=\\r\\n://email.playwsop.com/?xm=3DYk12Yu0kKJZkK2efYlQ5ovGfAPV3m&ocx_unsubscrib=\\r\\ne_link=3Dhttp://email.playwsop.com/?xul=3D11353sqksc0qcutg0qxqmdr4s83d5v=\\r\\n5zwsuaf1r8m6oic0dhj7i5p5r29724ny25g23fm5z80qbkwql02euy0cvf8gj3u0u3wbgl5p=\\r\\nue19d&amp;xih=3D68msiopt6bjj8j25h2kmg5ir4wgvqt7rc2b10ryleqc&ocx_email_ha=\\r\\nsh=3D68msiopt6bjj8j25h2kmg5ir4wgvqt7rc2b10ryleqc&email=3Davraham.jacobso=\\r\\nhn@gmail.com\">HERE</a></p>=0A=0A=09=09=09=09=09=09<p style=3D\"color: rgb=\\r\\n(171, 171, 171); font-family: arial, helvetica, sans-serif; text-align:=\\r\\n -webkit-center; text-transform: uppercase; font-size: 9px; line-height:=\\r\\n 16px;\">THIS EMAIL WAS SENT TO YOU BECAUSE YOU ASKED TO HEAR ABOUT UPDAT=\\r\\nES AND PROMOTIONS FROM WSOP.<br>=0A=09=09=09=09=09=09IF YOU PREFER NOT T=\\r\\nO RECEIVE EMAIL MESSAGES FROM US, PLEASE=C2=A0<a data-id=3D\"2591330683\"=\\r\\n data-title=3D\"UNSUBSCRIBE\" href=3D\"http://email.playwsop.com/?xul=3D113=\\r\\n53sqksc0qcutg0qxqmdr4s83d5v5zwsuaf1r8m6oic0dhj7i5p5r29724ny25g23fm5z80qb=\\r\\nkwql02euy0cvf8gj3u0u3wbgl5pue19d&amp;xih=3D68msiopt6bjj8j25h2kmg5ir4wgvq=\\r\\nt7rc2b10ryleqc\">UNSUBSCRIBE.</a></p>=0A=0A=09=09=09=09=09=09<p style=3D\"=\\r\\ncolor: rgb(171, 171, 171); font-family: arial, helvetica, sans-serif; te=\\r\\nxt-align: -webkit-center; text-transform: uppercase; font-size: 9px; lin=\\r\\ne-height: 16px;\"><br>=0A=09=09=09=09=09=09PLAYTIKA HOLDINGS Corp. - 2225=\\r\\n VILLAGE WALK DRIVE SUITE 240 - HENDERSON, NV 89052 USA</p>=0A=09=09=09=\\r\\n=09=09=09</td>=0A=09=09=09=09=09</tr></tbody></table></td>=0A=09=09</tr>=\\r\\n<tr><td align=3D\"center\" class=3D\"Z-width\" style=3D\"min-width:600px;\">=\\r\\n=0A=09=09=09<table align=3D\"center\" bgcolor=3D\"#000000\" border=3D\"0\" cel=\\r\\nlpadding=3D\"0\" cellspacing=3D\"0\" class=3D\"Zed600\" style=3D\"border-collap=\\r\\nse:collapse; mso-table-lspace:0pt; mso-table-rspace:0pt\" width=3D\"600\"><=\\r\\ntbody></tbody></table></td>=0A=09=09</tr></tbody></table><table align=3D=\\r\\n\"center\" bgcolor=3D\"#000000\" border=3D\"0\" cellpadding=3D\"0\" cellspacing=\\r\\n=3D\"0\" class=3D\"Zed600\" style=3D\"border-collapse:collapse; mso-table-lsp=\\r\\nace:0pt; mso-table-rspace:0pt\" width=3D\"600\"><tbody><tr><td align=3D\"cen=\\r\\nter\" style=3D\"padding:0 10px;\">=0A=09=09=09<table align=3D\"center\" borde=\\r\\nr=3D\"0\" cellpadding=3D\"0\" cellspacing=3D\"0\" class=3D\"Zed560\" style=3D\"bo=\\r\\nrder-collapse:collapse; mso-table-lspace:0pt; mso-table-rspace:0pt\" widt=\\r\\nh=3D\"560\"><tbody></tbody></table></td>=0A=09=09</tr></tbody></table><tab=\\r\\nle align=3D\"center\" bgcolor=3D\"#000000\" border=3D\"0\" cellpadding=3D\"0\" c=\\r\\nellspacing=3D\"0\" class=3D\"Zed600\" style=3D\"border-collapse:collapse; mso=\\r\\n-table-lspace:0pt; mso-table-rspace:0pt\" width=3D\"600\"><tbody><tr><td al=\\r\\nign=3D\"center\" style=3D\"padding:0 10px;\">=0A=09=09=09<table align=3D\"cen=\\r\\nter\" border=3D\"0\" cellpadding=3D\"0\" cellspacing=3D\"0\" class=3D\"Zed560\" s=\\r\\ntyle=3D\"border-collapse:collapse; mso-table-lspace:0pt; mso-table-rspace=\\r\\n:0pt\" width=3D\"560\"><tbody></tbody></table></td>=0A=09=09</tr></tbody></=\\r\\ntable><table align=3D\"center\" bgcolor=3D\"#000000\" border=3D\"0\" cellpaddi=\\r\\nng=3D\"0\" cellspacing=3D\"0\" class=3D\"Zed600\" style=3D\"border-collapse:col=\\r\\nlapse; mso-table-lspace:0pt; mso-table-rspace:0pt\" width=3D\"600\"><tbody>=\\r\\n<tr></tr></tbody></table><table align=3D\"center\" border=3D\"0\" cellpaddin=\\r\\ng=3D\"0\" cellspacing=3D\"0\" width=3D\"600px\"><tbody><tr><td align=3D\"center=\\r\\n\" class=3D\"footer\" style=3D\"padding-top: 20px; text-transform: uppercase=\\r\\n; font-family: arial, helvetica, sans-serif; color: rgb(171, 171, 171);\"=\\r\\n>=C2=A0</td>=0A=09=09</tr></tbody></table><img src=3D\"http://email.playw=\\r\\nsop.com/?xol=3D1abnmn2wnpjj6dehhai2&xih=3D68msiopt6bjj8j25h2kmg5ir4wgvqt=\\r\\n7rc2b10ryleqc\" alt=3D\"\" width=3D\"1\" height=3D\"1\"></body></html>=0A\\r\\n\\r\\n--=_f284533f98060a0e002db4d8432690ce--\\r\\n')\n",
      "2\n",
      "(b' BODY[TEXT] {38805}', b'--=_f284533f98060a0e002db4d8432690ce\\r\\nContent-Type: text/plain; charset=UTF-8\\r\\nContent-Transfer-Encoding: quoted-printable\\r\\n\\r\\n=C2=A0=0A=0ACLAIM YOUR $20,000 CHIP GIFT HERE!=0ACLAIM & PLAY NOW!=0Ahtt=\\r\\np://email.playwsop.com/?xtl=3Dtyezc8cvleqhbovskjymkfd3ryc7cu5uiebj4n0o4u=\\r\\ntk8wru3dvhlusfut9sm4jski33ri4u7wc3zsrp273sg533s7wufa2aljo2nh8rtf&xih=3D6=\\r\\n8msiopt6bjj8j25h2kmg5ir4wgvqt7rc2b10ryleqc=0A=0ACLICK=0AHERE=0Ahttp://em=\\r\\nail.playwsop.com/?xm=3DYk12Yu0kKJZkK2efYlQ5ovGfAPV3m&ocx_unsubscribe_lin=\\r\\nk=3Dhttp://email.playwsop.com/?xul=3D11353sqksc0qcutg0qxqmdr4s83d5v5zwsu=\\r\\naf1r8m6oic0dhj7i5p5r29724ny25g23fm5z80qbkwql02euy0cvf8gj3u0u3wbgl5pue19d=\\r\\n&xih=3D68msiopt6bjj8j25h2kmg5ir4wgvqt7rc2b10ryleqc&email=3Davraham.jacob=\\r\\nsohn@gmail.com=0A TO VIEW IN WEB BROWSER=0A=0A=C2=A0=0A=0Ahttp://email.p=\\r\\nlaywsop.com/?xtl=3Dtyezc8cvleqhbovskjymkfd3ryc7cu87y2xe828u2ueqtr0qn3mvz=\\r\\n34p0k7c191t6z6sdqgas5xo4vr7f5e4378e6zxrn5uuxo6q7kat9y&xih=3D68msiopt6bjj=\\r\\n8j25h2kmg5ir4wgvqt7rc2b10ryleqc=0A=0AUNSUBSCRIBE=0Ahttp://email.playwsop=\\r\\n.com/?xul=3D11353sqksc0qcutg0qxqmdr4s83d5v5zwsuaf1r8m6oic0dhj7i5p5r29724=\\r\\nny25g23fm5z80qbkwql02euy0cvf8gj3u0u3wbgl5pue19d&xih=3D68msiopt6bjj8j25h2=\\r\\nkmg5ir4wgvqt7rc2b10ryleqc=0A=0APLAYWSOP.COM=0Ahttp://email.playwsop.com/=\\r\\n?xtl=3Dtyezc8cvleqhbovskjymkfd3ryc7cupx0ypurwafkvpml466bcdgk8rs1i49vt9ty=\\r\\n5p7qsn0jnnf2bqjn35qxnw5zvz8m4q5e5h205wwfh&xih=3D68msiopt6bjj8j25h2kmg5ir=\\r\\n4wgvqt7rc2b10ryleqc=0A=C2=A0=0ACONTACT=0Ahttp://email.playwsop.com/?xtl=\\r\\n=3D65lycrp2j698gzb9421mfm8e4kppwgnk0giehn1oqekjvs55q7rn3a8aga4i0tduc91q2=\\r\\n34cyuv7vz6nd28ciyo9plf9g19xd8qq6vqkjchsy4sxiq26j6qqjt8jbxe2xmgylp1ninsbe=\\r\\nv698mcgc0z423j9y2g7t9&xih=3D68msiopt6bjj8j25h2kmg5ir4wgvqt7rc2b10ryleqc=\\r\\n=0A=0A=C2=A0=C2=A0=C2=A0=C2=A0=0A=0Ahttp://email.playwsop.com/?xtl=3D5bu=\\r\\nqc8l3mks1kfo9pzzgyeou30vqom9eaj7h7vh524oep8txdufj2nywi0nbe8n4vyhutua00u0=\\r\\neqw5eipxowkak3xd8bcqi6rjdoarv6trm3hckpt62ansia9yyxv3wxo69f24vqh4f5i8pw&x=\\r\\nih=3D68msiopt6bjj8j25h2kmg5ir4wgvqt7rc2b10ryleqc=0A=C2=A0=C2=A0=C2=A0=0A=\\r\\n=0Ahttp://email.playwsop.com/?xtl=3D1ohotfzbkw81czzx2q97h0mvu10t9j433cy3=\\r\\nok8uzzg7ybb9dxyj0sdu43sulw1g146xt8u12l1hljc2kex23xsnwhjl2h7ox4t0ebccvf0b=\\r\\ns81s2250&xih=3D68msiopt6bjj8j25h2kmg5ir4wgvqt7rc2b10ryleqc=0A=C2=A0 =C2=\\r\\n=A0=C2=A0=0A=0Ahttp://email.playwsop.com/?xtl=3D5m97lylsal83jdaswvdym7xs=\\r\\ndrqz4awfnn3usy08bcyv3btoh3k6t6kxhsyp3mzekc0jdjhvir68kyrroxpomcpnrowpyzp0=\\r\\nl2a2dhti23fjoeynxf5blpal7er18njp&xih=3D68msiopt6bjj8j25h2kmg5ir4wgvqt7rc=\\r\\n2b10ryleqc=0A=C2=A0=C2=A0=C2=A0=0A=0Ahttp://email.playwsop.com/?xtl=3D2x=\\r\\nsrc3ffi8b4am6ujmywv15fuehngsmt3o3rmzdrd9af22wudi9guml1w70nk30in4rbd2wi0q=\\r\\nt91tbe4gx3r4qq8earjxm98906hkhsfocp4879p6fkstk4ougidfhnbuznj5set10bpslvxi=\\r\\nr2f3vsvwk7mwp1oahx9syygnsaz3cta77qqshlhjc&xih=3D68msiopt6bjj8j25h2kmg5ir=\\r\\n4wgvqt7rc2b10ryleqc=0A=C2=A0 =C2=A0=0A=0Ahttp://email.playwsop.com/?xtl=\\r\\n=3D9ofzoep6kpws7eegx1lthrm9ur9nowhwpm2vz93vp3655qqcd0m2xj3vs3gizixat9axv=\\r\\nsrndnkjvz9sfa90daw8wlxv7d00e1ej0e317zzitx2gs5igy0v1j2h8vmclvj7ycgeyphqaq=\\r\\nxxyqysqon9z1uaylntllp1397be8ogs2b7snxhg52&xih=3D68msiopt6bjj8j25h2kmg5ir=\\r\\n4wgvqt7rc2b10ryleqc=0A=C2=A0=C2=A0=0A=0Ahttp://email.playwsop.com/?xtl=\\r\\n=3Da07eh4emnqy7m8mem7mod5f1l43udilmrmyd4l2xav2391pykk0yxu8h7aiyk4f9hjom4=\\r\\n0ypfdj1xw5675v493ovm2riw7gf00ocu61c3fuq06sfz1mb7os3igj0a8gnpvjj86tfzntai=\\r\\ngzomplxaadcliu3csjv3lu7xc6jo419bh&xih=3D68msiopt6bjj8j25h2kmg5ir4wgvqt7r=\\r\\nc2b10ryleqc=0A=C2=A0 =C2=A0=0A=0Ahttp://email.playwsop.com/?xtl=3Dtyezc8=\\r\\ncvleqhbovskjymkfd3ryc7cit9buzf5uw1u28xrzh96pc1ba0i0i1si2mynq3p908qq6elxp=\\r\\nr08dd5780u8g92pe9yc8awxi6ef6&xih=3D68msiopt6bjj8j25h2kmg5ir4wgvqt7rc2b10=\\r\\nryleqc=0A=0A=C2=A0=C2=A0=C2=A0=C2=A0=C2=A0=C2=A0=C2=A0=C2=A0=C2=A0=0A=0A=\\r\\nHAVE QUESTIONS OR COMMENTS? REACH OUT TO US =C2=A0=0AHERE=0Ahttp://email=\\r\\n.playwsop.com/?xtl=3D65lycrp2j698gzb9421mfm8e4kppwgvsw539rdfbiw3hdor98em=\\r\\npuuyi32lrksdhkqftx4r91hvhyt1qowufa4xl0reqdg4gqjcinxjitcduw1586pxn8hpj9be=\\r\\nzlb4h44xfadytj7wki2mq1i0w0sdem4og6c99bp&xih=3D68msiopt6bjj8j25h2kmg5ir4w=\\r\\ngvqt7rc2b10ryleqc=0A=0AWANT TO VIEW OUR PRIVACY POLICY? CHECK IT OUT=0AH=\\r\\nERE=0Ahttp://email.playwsop.com/?xtl=3Dv1b1sc1vnvamwis14udsvmbg8o0p02pn0=\\r\\nfcetge8s48bqqvp5uoab7cekqfwc5e3s24wjq78i3wugz7g0jr6hqh00qjwkqi0338omxswn=\\r\\nxs713lmk8tc8y0gn15&xih=3D68msiopt6bjj8j25h2kmg5ir4wgvqt7rc2b10ryleqc=0A=\\r\\n=0ACAN\\'T VIEW THIS EMAIL? OPEN IT IN A BROWSER=0AHERE=0Ahttp://email.pla=\\r\\nywsop.com/?xm=3DYk12Yu0kKJZkK2efYlQ5ovGfAPV3m&ocx_unsubscribe_link=3Dhtt=\\r\\np://email.playwsop.com/?xul=3D11353sqksc0qcutg0qxqmdr4s83d5v5zwsuaf1r8m6=\\r\\noic0dhj7i5p5r29724ny25g23fm5z80qbkwql02euy0cvf8gj3u0u3wbgl5pue19d&xih=3D=\\r\\n68msiopt6bjj8j25h2kmg5ir4wgvqt7rc2b10ryleqc&email=3Davraham.jacobsohn@gm=\\r\\nail.com=0A=0ATHIS EMAIL WAS SENT TO YOU BECAUSE YOU ASKED TO HEAR ABOUT=\\r\\n UPDATES AND PROMOTIONS FROM WSOP.=0AIF YOU PREFER NOT TO RECEIVE EMAIL=\\r\\n MESSAGES FROM US, PLEASE=C2=A0=0AUNSUBSCRIBE.=0Ahttp://email.playwsop.c=\\r\\nom/?xul=3D11353sqksc0qcutg0qxqmdr4s83d5v5zwsuaf1r8m6oic0dhj7i5p5r29724ny=\\r\\n25g23fm5z80qbkwql02euy0cvf8gj3u0u3wbgl5pue19d&xih=3D68msiopt6bjj8j25h2km=\\r\\ng5ir4wgvqt7rc2b10ryleqc=0A=0APLAYTIKA HOLDINGS Corp. - 2225 VILLAGE WALK=\\r\\n DRIVE SUITE 240 - HENDERSON, NV 89052 USA=0A=0A=C2=A0\\r\\n\\r\\n--=_f284533f98060a0e002db4d8432690ce\\r\\nContent-Type: text/html; charset=UTF-8\\r\\nContent-Transfer-Encoding: quoted-printable\\r\\n\\r\\n<!DOCTYPE HTML>=0A<html><head><meta content=3D\"text/html; charset=3Dutf-=\\r\\n8\" http-equiv=3D\"Content-Type\"><!-- Define Charset --><link href=3D\"http=\\r\\n://fonts.googleapis.com/css?family=3DOpen+Sans\" rel=3D\"stylesheet\" type=\\r\\n=3D\"text/css\"><!-- Responsive Meta Tag --><meta content=3D\"width=3Ddevic=\\r\\ne-width; initial-scale=3D1.0; maximum-scale=3D1.0;\" name=3D\"viewport\"><t=\\r\\nitle>Zed E-Newsletter</title><!-- Responsive Styles and Valid Styles -->=\\r\\n<style type=3D\"text/css\">body{=0A        width: 100%; =0A        backgro=\\r\\nund-color: #000000; =0A        margin:0; =0A        padding:0; =0A     =\\r\\n   -webkit-font-smoothing: antialiased;=0A        mso-margin-top-alt:0px=\\r\\n; mso-margin-bottom-alt:0px; mso-padding-alt: 0px 0px 0px 0px;=0A=09=09-=\\r\\nwebkit-text-size-adjust:none;=0A        }=0A        =0A=0A        =0A  =\\r\\n      /* ----------- responsivity ----------- */=0A        @media only s=\\r\\ncreen and (max-width: 640px){=0A=0A=09=09=09=0A=09=09=09/*----- main ima=\\r\\nge -------*/=0A=09=09=09*[class=3Dbanner] img{width: 400px !important; h=\\r\\neight: auto !important;}=0A=09=09=09*[class=3Dsection] img{width: 400px=\\r\\n !important; height: auto !important;}=0A=09=09=09=0A=09=09=09*[class=3D=\\r\\nfonts] {font-size:30px !important;}=0A=09=09=09*[class=3Dcenter] {text-a=\\r\\nlign:center !important;}=0A=09=09=09=0A=09=09=09*[class=3DZ-width] {min-=\\r\\nwidth:100% !important;}=0A=09=09=09=0A=09=09=09/*-------- Zed --------*/=\\r\\n=09=09=09=0A=09=09=09*[class=3DZed600] {width: 440px !important;}=0A=09=\\r\\n=09=09*[class=3DZed560] {width: 400px !important;}=0A=0A=09=09}=0A=09=09=\\r\\n=0A=09=09@media only screen and (max-width: 479px){=0A=0A=09=09=09/*----=\\r\\n- main image -------*/=0A=0A=09=09=09=0A=09=09=09/*----- main image ----=\\r\\n---*/=0A=09=09=09*[class=3Dbanner] img{width: 100% !important; height: a=\\r\\nuto !important;}=0A=09=09=09*[class=3Dsection] img{width: 100% !importan=\\r\\nt; height: auto !important;}=0A=09=09=09=0A=09=09=09*[class=3Dfonts] {fo=\\r\\nnt-size:30px !important;}=0A=09=09=09*[class=3Dcenter] {text-align:cente=\\r\\nr !important;}=0A=09=09=09=0A=09=09=09*[class=3DZ-width] {min-width:100%=\\r\\n !important;}=0A=09=09=09=0A=09=09=09/*-------- Zed --------*/=09=09=09=\\r\\n=0A=09=09=09*[class=3DZed600] {width: 100% !important;}=0A=09=09=09*[cla=\\r\\nss=3DZed560] {width: 100% !important;}=0A=0A=09=09}=0A=09</style></head>=\\r\\n<body leftmargin=3D\"0\" marginheight=3D\"0\" marginwidth=3D\"0\" topmargin=3D=\\r\\n\"0\"><span style=3D\"display:none !important; visibility:hidden; mso-hide:=\\r\\nall; font-size:1px; color:#ffffff; line-height:1px; =0A=09=09=09   max-h=\\r\\neight:0; max-width:0; opacity:0; overflow:hidden;\">Dealer Appreciate Jac=\\r\\nkpot | A little can go a long way</span>=0A<span style=3D\"display:none !=\\r\\nimportant; visibility:hidden; mso-hide:all; font-size:1px; color:#ffffff=\\r\\n; line-height:1px; =0A=09=09=09   max-height:0; max-width:0; opacity:0;=\\r\\n overflow:hidden;\"></span> <span style=3D\"display:none !important; visib=\\r\\nility:hidden; mso-hide:all; font-size:1px; color:#ffffff; line-height:1p=\\r\\nx; =0A=09=09=09   max-height:0; max-width:0; opacity:0; overflow:hidden;=\\r\\n\"></span> <span style=3D\"display:none !important; visibility:hidden; mso=\\r\\n-hide:all; font-size:1px; color:#ffffff; line-height:1px; =0A=09=09=09 =\\r\\n  max-height:0; max-width:0; opacity:0; overflow:hidden;\"></span> <span=\\r\\n style=3D\"display:none !important; visibility:hidden; mso-hide:all; font=\\r\\n-size:1px; color:#ffffff; line-height:1px; =0A=09=09=09   max-height:0;=\\r\\n max-width:0; opacity:0; overflow:hidden;\"></span> <span style=3D\"displa=\\r\\ny:none !important; visibility:hidden; mso-hide:all; font-size:1px; color=\\r\\n:#ffffff; line-height:1px; =0A=09=09=09   max-height:0; max-width:0; opa=\\r\\ncity:0; overflow:hidden;\"></span> <span style=3D\"display:none !important=\\r\\n; visibility:hidden; mso-hide:all; font-size:1px; color:#ffffff; line-he=\\r\\night:1px; =0A=09=09=09   max-height:0; max-width:0; opacity:0; overflow:=\\r\\nhidden;\"></span> <span style=3D\"display:none !important; visibility:hidd=\\r\\nen; mso-hide:all; font-size:1px; color:#ffffff; line-height:1px; =0A=09=\\r\\n=09=09   max-height:0; max-width:0; opacity:0; overflow:hidden;\"></span>=\\r\\n <span style=3D\"display:none !important; visibility:hidden; mso-hide:all=\\r\\n; font-size:1px; color:#ffffff; line-height:1px; =0A=09=09=09   max-heig=\\r\\nht:0; max-width:0; opacity:0; overflow:hidden;\"></span> <span style=3D\"d=\\r\\nisplay:none !important; visibility:hidden; mso-hide:all; font-size:1px;=\\r\\n color:#ffffff; line-height:1px; =0A=09=09=09   max-height:0; max-width:=\\r\\n0; opacity:0; overflow:hidden;\"></span> <span style=3D\"display:none !imp=\\r\\nortant; visibility:hidden; mso-hide:all; font-size:1px; color:#ffffff; l=\\r\\nine-height:1px; =0A=09=09=09   max-height:0; max-width:0; opacity:0; ove=\\r\\nrflow:hidden;\"></span> <span style=3D\"display:none !important; visibilit=\\r\\ny:hidden; mso-hide:all; font-size:1px; color:#ffffff; line-height:1px;=\\r\\n =0A=09=09=09   max-height:0; max-width:0; opacity:0; overflow:hidden;\">=\\r\\n</span> <span style=3D\"display:none !important; visibility:hidden; mso-h=\\r\\nide:all; font-size:1px; color:#ffffff; line-height:1px; =0A=09=09=09   m=\\r\\nax-height:0; max-width:0; opacity:0; overflow:hidden;\"></span> <span sty=\\r\\nle=3D\"display:none !important; visibility:hidden; mso-hide:all; font-siz=\\r\\ne:1px; color:#ffffff; line-height:1px; =0A=09=09=09   max-height:0; max-=\\r\\nwidth:0; opacity:0; overflow:hidden;\"></span> <span style=3D\"display:non=\\r\\ne !important; visibility:hidden; mso-hide:all; font-size:1px; color:#fff=\\r\\nfff; line-height:1px; =0A=09=09=09   max-height:0; max-width:0; opacity:=\\r\\n0; overflow:hidden;\"></span> <span style=3D\"display:none !important; vis=\\r\\nibility:hidden; mso-hide:all; font-size:1px; color:#ffffff; line-height:=\\r\\n1px; =0A=09=09=09   max-height:0; max-width:0; opacity:0; overflow:hidde=\\r\\nn;\"></span> <span style=3D\"display:none !important; visibility:hidden; m=\\r\\nso-hide:all; font-size:1px; color:#ffffff; line-height:1px; =0A=09=09=09=\\r\\n   max-height:0; max-width:0; opacity:0; overflow:hidden;\"></span> <span=\\r\\n style=3D\"display:none !important; visibility:hidden; mso-hide:all; font=\\r\\n-size:1px; color:#ffffff; line-height:1px; =0A=09=09=09   max-height:0;=\\r\\n max-width:0; opacity:0; overflow:hidden;\"></span> <span style=3D\"displa=\\r\\ny:none !important; visibility:hidden; mso-hide:all; font-size:1px; color=\\r\\n:#ffffff; line-height:1px; =0A=09=09=09   max-height:0; max-width:0; opa=\\r\\ncity:0; overflow:hidden;\"></span> <span style=3D\"display:none !important=\\r\\n; visibility:hidden; mso-hide:all; font-size:1px; color:#ffffff; line-he=\\r\\night:1px; =0A=09=09=09   max-height:0; max-width:0; opacity:0; overflow:=\\r\\nhidden;\"></span> <span style=3D\"display:none !important; visibility:hidd=\\r\\nen; mso-hide:all; font-size:1px; color:#ffffff; line-height:1px; =0A=09=\\r\\n=09=09   max-height:0; max-width:0; opacity:0; overflow:hidden;\"></span>=\\r\\n <span style=3D\"display:none !important; visibility:hidden; mso-hide:all=\\r\\n; font-size:1px; color:#ffffff; line-height:1px; =0A=09=09=09   max-heig=\\r\\nht:0; max-width:0; opacity:0; overflow:hidden;\"></span> <span style=3D\"d=\\r\\nisplay:none !important; visibility:hidden; mso-hide:all; font-size:1px;=\\r\\n color:#ffffff; line-height:1px; =0A=09=09=09   max-height:0; max-width:=\\r\\n0; opacity:0; overflow:hidden;\"></span> <span style=3D\"display:none !imp=\\r\\nortant; visibility:hidden; mso-hide:all; font-size:1px; color:#ffffff; l=\\r\\nine-height:1px; =0A=09=09=09   max-height:0; max-width:0; opacity:0; ove=\\r\\nrflow:hidden;\"></span> <span style=3D\"display:none !important; visibilit=\\r\\ny:hidden; mso-hide:all; font-size:1px; color:#ffffff; line-height:1px;=\\r\\n =0A=09=09=09   max-height:0; max-width:0; opacity:0; overflow:hidden;\">=\\r\\n</span> <span style=3D\"display:none !important; visibility:hidden; mso-h=\\r\\nide:all; font-size:1px; color:#ffffff; line-height:1px; =0A=09=09=09   m=\\r\\nax-height:0; max-width:0; opacity:0; overflow:hidden;\"></span> <span sty=\\r\\nle=3D\"display:none !important; visibility:hidden; mso-hide:all; font-siz=\\r\\ne:1px; color:#ffffff; line-height:1px; =0A=09=09=09   max-height:0; max-=\\r\\nwidth:0; opacity:0; overflow:hidden;\"></span> <span style=3D\"display:non=\\r\\ne !important; visibility:hidden; mso-hide:all; font-size:1px; color:#fff=\\r\\nfff; line-height:1px; =0A=09=09=09   max-height:0; max-width:0; opacity:=\\r\\n0; overflow:hidden;\"></span> <span style=3D\"display:none !important; vis=\\r\\nibility:hidden; mso-hide:all; font-size:1px; color:#ffffff; line-height:=\\r\\n1px; =0A=09=09=09   max-height:0; max-width:0; opacity:0; overflow:hidde=\\r\\nn;\"></span> <span style=3D\"display:none !important; visibility:hidden; m=\\r\\nso-hide:all; font-size:1px; color:#ffffff; line-height:1px; =0A=09=09=09=\\r\\n   max-height:0; max-width:0; opacity:0; overflow:hidden;\"></span> <span=\\r\\n style=3D\"display:none !important; visibility:hidden; mso-hide:all; font=\\r\\n-size:1px; color:#ffffff; line-height:1px; =0A=09=09=09   max-height:0;=\\r\\n max-width:0; opacity:0; overflow:hidden;\"></span> <span style=3D\"displa=\\r\\ny:none !important; visibility:hidden; mso-hide:all; font-size:1px; color=\\r\\n:#ffffff; line-height:1px; =0A=09=09=09   max-height:0; max-width:0; opa=\\r\\ncity:0; overflow:hidden;\"></span> <span style=3D\"display:none !important=\\r\\n; visibility:hidden; mso-hide:all; font-size:1px; color:#ffffff; line-he=\\r\\night:1px; =0A=09=09=09   max-height:0; max-width:0; opacity:0; overflow:=\\r\\nhidden;\"></span> <span style=3D\"display:none !important; visibility:hidd=\\r\\nen; mso-hide:all; font-size:1px; color:#ffffff; line-height:1px; =0A=09=\\r\\n=09=09   max-height:0; max-width:0; opacity:0; overflow:hidden;\"></span>=\\r\\n <span style=3D\"display:none !important; visibility:hidden; mso-hide:all=\\r\\n; font-size:1px; color:#ffffff; line-height:1px; =0A=09=09=09   max-heig=\\r\\nht:0; max-width:0; opacity:0; overflow:hidden;\"></span> <span style=3D\"d=\\r\\nisplay:none !important; visibility:hidden; mso-hide:all; font-size:1px;=\\r\\n color:#ffffff; line-height:1px; =0A=09=09=09   max-height:0; max-width:=\\r\\n0; opacity:0; overflow:hidden;\"></span> <span style=3D\"display:none !imp=\\r\\nortant; visibility:hidden; mso-hide:all; font-size:1px; color:#ffffff; l=\\r\\nine-height:1px; =0A=09=09=09   max-height:0; max-width:0; opacity:0; ove=\\r\\nrflow:hidden;\"></span> <span style=3D\"display:none !important; visibilit=\\r\\ny:hidden; mso-hide:all; font-size:1px; color:#ffffff; line-height:1px;=\\r\\n =0A=09=09=09   max-height:0; max-width:0; opacity:0; overflow:hidden;\">=\\r\\n</span> <span style=3D\"display:none !important; visibility:hidden; mso-h=\\r\\nide:all; font-size:1px; color:#ffffff; line-height:1px; =0A=09=09=09   m=\\r\\nax-height:0; max-width:0; opacity:0; overflow:hidden;\"></span> <span sty=\\r\\nle=3D\"display:none !important; visibility:hidden; mso-hide:all; font-siz=\\r\\ne:1px; color:#ffffff; line-height:1px; =0A=09=09=09   max-height:0; max-=\\r\\nwidth:0; opacity:0; overflow:hidden;\"></span> <span style=3D\"display:non=\\r\\ne !important; visibility:hidden; mso-hide:all; font-size:1px; color:#fff=\\r\\nfff; line-height:1px; =0A=09=09=09   max-height:0; max-width:0; opacity:=\\r\\n0; overflow:hidden;\"></span> <span style=3D\"display:none !important; vis=\\r\\nibility:hidden; mso-hide:all; font-size:1px; color:#ffffff; line-height:=\\r\\n1px; =0A=09=09=09   max-height:0; max-width:0; opacity:0; overflow:hidde=\\r\\nn;\"></span> <span style=3D\"display:none !important; visibility:hidden; m=\\r\\nso-hide:all; font-size:1px; color:#ffffff; line-height:1px; =0A=09=09=09=\\r\\n   max-height:0; max-width:0; opacity:0; overflow:hidden;\"></span> <span=\\r\\n style=3D\"display:none !important; visibility:hidden; mso-hide:all; font=\\r\\n-size:1px; color:#ffffff; line-height:1px; =0A=09=09=09   max-height:0;=\\r\\n max-width:0; opacity:0; overflow:hidden;\"></span> <span style=3D\"displa=\\r\\ny:none !important; visibility:hidden; mso-hide:all; font-size:1px; color=\\r\\n:#ffffff; line-height:1px; =0A=09=09=09   max-height:0; max-width:0; opa=\\r\\ncity:0; overflow:hidden;\"></span> <span style=3D\"display:none !important=\\r\\n; visibility:hidden; mso-hide:all; font-size:1px; color:#ffffff; line-he=\\r\\night:1px; =0A=09=09=09   max-height:0; max-width:0; opacity:0; overflow:=\\r\\nhidden;\"></span> <span style=3D\"display:none !important; visibility:hidd=\\r\\nen; mso-hide:all; font-size:1px; color:#ffffff; line-height:1px; =0A=09=\\r\\n=09=09   max-height:0; max-width:0; opacity:0; overflow:hidden;\"></span>=\\r\\n <span style=3D\"display:none !important; visibility:hidden; mso-hide:all=\\r\\n; font-size:1px; color:#ffffff; line-height:1px; =0A=09=09=09   max-heig=\\r\\nht:0; max-width:0; opacity:0; overflow:hidden;\"></span> <span style=3D\"d=\\r\\nisplay:none !important; visibility:hidden; mso-hide:all; font-size:1px;=\\r\\n color:#ffffff; line-height:1px; =0A=09=09=09   max-height:0; max-width:=\\r\\n0; opacity:0; overflow:hidden;\"></span> <span style=3D\"display:none !imp=\\r\\nortant; visibility:hidden; mso-hide:all; font-size:1px; color:#ffffff; l=\\r\\nine-height:1px; =0A=09=09=09   max-height:0; max-width:0; opacity:0; ove=\\r\\nrflow:hidden;\"></span> <span style=3D\"display:none !important; visibilit=\\r\\ny:hidden; mso-hide:all; font-size:1px; color:#ffffff; line-height:1px;=\\r\\n =0A=09=09=09   max-height:0; max-width:0; opacity:0; overflow:hidden;\">=\\r\\n</span> <span style=3D\"display:none !important; visibility:hidden; mso-h=\\r\\nide:all; font-size:1px; color:#ffffff; line-height:1px; =0A=09=09=09   m=\\r\\nax-height:0; max-width:0; opacity:0; overflow:hidden;\"></span> <span sty=\\r\\nle=3D\"display:none !important; visibility:hidden; mso-hide:all; font-siz=\\r\\ne:1px; color:#ffffff; line-height:1px; =0A=09=09=09   max-height:0; max-=\\r\\nwidth:0; opacity:0; overflow:hidden;\"></span> <span style=3D\"display:non=\\r\\ne !important; visibility:hidden; mso-hide:all; font-size:1px; color:#fff=\\r\\nfff; line-height:1px; =0A=09=09=09   max-height:0; max-width:0; opacity:=\\r\\n0; overflow:hidden;\"></span> <span style=3D\"display:none !important; vis=\\r\\nibility:hidden; mso-hide:all; font-size:1px; color:#ffffff; line-height:=\\r\\n1px; =0A=09=09=09   max-height:0; max-width:0; opacity:0; overflow:hidde=\\r\\nn;\"></span> <span style=3D\"display:none !important; visibility:hidden; m=\\r\\nso-hide:all; font-size:1px; color:#ffffff; line-height:1px; =0A=09=09=09=\\r\\n   max-height:0; max-width:0; opacity:0; overflow:hidden;\"></span> <span=\\r\\n style=3D\"display:none !important; visibility:hidden; mso-hide:all; font=\\r\\n-size:1px; color:#ffffff; line-height:1px; =0A=09=09=09   max-height:0;=\\r\\n max-width:0; opacity:0; overflow:hidden;\"></span> <span style=3D\"displa=\\r\\ny:none !important; visibility:hidden; mso-hide:all; font-size:1px; color=\\r\\n:#ffffff; line-height:1px; =0A=09=09=09   max-height:0; max-width:0; opa=\\r\\ncity:0; overflow:hidden;\"></span> <span style=3D\"display:none !important=\\r\\n; visibility:hidden; mso-hide:all; font-size:1px; color:#ffffff; line-he=\\r\\night:1px; =0A=09=09=09   max-height:0; max-width:0; opacity:0; overflow:=\\r\\nhidden;\"></span> <span style=3D\"display:none !important; visibility:hidd=\\r\\nen; mso-hide:all; font-size:1px; color:#ffffff; line-height:1px; =0A=09=\\r\\n=09=09   max-height:0; max-width:0; opacity:0; overflow:hidden;\"></span>=\\r\\n <span style=3D\"display:none !important; visibility:hidden; mso-hide:all=\\r\\n; font-size:1px; color:#ffffff; line-height:1px; =0A=09=09=09   max-heig=\\r\\nht:0; max-width:0; opacity:0; overflow:hidden;\"></span> <span style=3D\"d=\\r\\nisplay:none !important; visibility:hidden; mso-hide:all; font-size:1px;=\\r\\n color:#ffffff; line-height:1px; =0A=09=09=09   max-height:0; max-width:=\\r\\n0; opacity:0; overflow:hidden;\"></span> <span style=3D\"display:none !imp=\\r\\nortant; visibility:hidden; mso-hide:all; font-size:1px; color:#ffffff; l=\\r\\nine-height:1px; =0A=09=09=09   max-height:0; max-width:0; opacity:0; ove=\\r\\nrflow:hidden;\"></span> <span style=3D\"display:none !important; visibilit=\\r\\ny:hidden; mso-hide:all; font-size:1px; color:#ffffff; line-height:1px;=\\r\\n =0A=09=09=09   max-height:0; max-width:0; opacity:0; overflow:hidden;\">=\\r\\n</span> <span style=3D\"display:none !important; visibility:hidden; mso-h=\\r\\nide:all; font-size:1px; color:#ffffff; line-height:1px; =0A=09=09=09   m=\\r\\nax-height:0; max-width:0; opacity:0; overflow:hidden;\"></span> <span sty=\\r\\nle=3D\"display:none !important; visibility:hidden; mso-hide:all; font-siz=\\r\\ne:1px; color:#ffffff; line-height:1px; =0A=09=09=09   max-height:0; max-=\\r\\nwidth:0; opacity:0; overflow:hidden;\"></span> <span style=3D\"display:non=\\r\\ne !important; visibility:hidden; mso-hide:all; font-size:1px; color:#fff=\\r\\nfff; line-height:1px; =0A=09=09=09   max-height:0; max-width:0; opacity:=\\r\\n0; overflow:hidden;\"></span> <span style=3D\"display:none !important; vis=\\r\\nibility:hidden; mso-hide:all; font-size:1px; color:#ffffff; line-height:=\\r\\n1px; =0A=09=09=09   max-height:0; max-width:0; opacity:0; overflow:hidde=\\r\\nn;\"></span> <span style=3D\"display:none !important; visibility:hidden; m=\\r\\nso-hide:all; font-size:1px; color:#ffffff; line-height:1px; =0A=09=09=09=\\r\\n   max-height:0; max-width:0; opacity:0; overflow:hidden;\"></span> <span=\\r\\n style=3D\"display:none !important; visibility:hidden; mso-hide:all; font=\\r\\n-size:1px; color:#ffffff; line-height:1px; =0A=09=09=09   max-height:0;=\\r\\n max-width:0; opacity:0; overflow:hidden;\"></span> <span style=3D\"displa=\\r\\ny:none !important; visibility:hidden; mso-hide:all; font-size:1px; color=\\r\\n:#ffffff; line-height:1px; =0A=09=09=09   max-height:0; max-width:0; opa=\\r\\ncity:0; overflow:hidden;\"></span> <span style=3D\"display:none !important=\\r\\n; visibility:hidden; mso-hide:all; font-size:1px; color:#ffffff; line-he=\\r\\night:1px; =0A=09=09=09   max-height:0; max-width:0; opacity:0; overflow:=\\r\\nhidden;\"></span> <span style=3D\"display:none !important; visibility:hidd=\\r\\nen; mso-hide:all; font-size:1px; color:#ffffff; line-height:1px; =0A=09=\\r\\n=09=09   max-height:0; max-width:0; opacity:0; overflow:hidden;\"></span>=\\r\\n <span style=3D\"display:none !important; visibility:hidden; mso-hide:all=\\r\\n; font-size:1px; color:#ffffff; line-height:1px; =0A=09=09=09   max-heig=\\r\\nht:0; max-width:0; opacity:0; overflow:hidden;\"></span> <span style=3D\"d=\\r\\nisplay:none !important; visibility:hidden; mso-hide:all; font-size:1px;=\\r\\n color:#ffffff; line-height:1px; =0A=09=09=09   max-height:0; max-width:=\\r\\n0; opacity:0; overflow:hidden;\"></span> <span style=3D\"display:none !imp=\\r\\nortant; visibility:hidden; mso-hide:all; font-size:1px; color:#ffffff; l=\\r\\nine-height:1px; =0A=09=09=09   max-height:0; max-width:0; opacity:0; ove=\\r\\nrflow:hidden;\"></span> <span style=3D\"display:none !important; visibilit=\\r\\ny:hidden; mso-hide:all; font-size:1px; color:#ffffff; line-height:1px;=\\r\\n =0A=09=09=09   max-height:0; max-width:0; opacity:0; overflow:hidden;\">=\\r\\n</span> <span style=3D\"display:none !important; visibility:hidden; mso-h=\\r\\nide:all; font-size:1px; color:#ffffff; line-height:1px; =0A=09=09=09   m=\\r\\nax-height:0; max-width:0; opacity:0; overflow:hidden;\"></span> <span sty=\\r\\nle=3D\"display:none !important; visibility:hidden; mso-hide:all; font-siz=\\r\\ne:1px; color:#ffffff; line-height:1px; =0A=09=09=09   max-height:0; max-=\\r\\nwidth:0; opacity:0; overflow:hidden;\"></span> <span style=3D\"display:non=\\r\\ne !important; visibility:hidden; mso-hide:all; font-size:1px; color:#fff=\\r\\nfff; line-height:1px; =0A=09=09=09   max-height:0; max-width:0; opacity:=\\r\\n0; overflow:hidden;\"></span>=0A<table bgcolor=3D\"#000000\" border=3D\"0\" c=\\r\\nellpadding=3D\"0\" cellspacing=3D\"0\" width=3D\"100%\"><tbody><tr><td align=\\r\\n=3D\"center\" class=3D\"Z-width\" style=3D\"min-width:600px;\">=C2=A0</td>=0A=\\r\\n=09=09</tr><tr><td align=3D\"center\" class=3D\"Z-width\" style=3D\"min-width=\\r\\n:600px;\">=0A=09=09=09<table align=3D\"center\" bgcolor=3D\"#000000\" border=\\r\\n=3D\"0\" cellpadding=3D\"0\" cellspacing=3D\"0\" class=3D\"Zed600\" style=3D\"bor=\\r\\nder-collapse:collapse; mso-table-lspace:0pt; mso-table-rspace:0pt\" width=\\r\\n=3D\"600\"><tbody><tr><td align=3D\"center\" style=3D\"padding:0 10px;\">=0A=\\r\\n=09=09=09=09=09=09<table align=3D\"center\" border=3D\"0\" cellpadding=3D\"0\"=\\r\\n cellspacing=3D\"0\" class=3D\"Zed560\" style=3D\"border-collapse:collapse; m=\\r\\nso-table-lspace:0pt; mso-table-rspace:0pt\" width=3D\"560\"><tbody><tr><td=\\r\\n align=3D\"center\" class=3D\"banner\">=0A=09=09=09=09=09=09=09=09=09<p styl=\\r\\ne=3D\"text-align: left;\"><span style=3D\"color:#D3D3D3;\"><span style=3D\"fo=\\r\\nnt-family:arial,helvetica,sans-serif;\"><span style=3D\"font-size:11px;\"><=\\r\\nspan style=3D\"font-size:10px;\">CLAIM YOUR $20,000 CHIP GIFT HERE! <a dat=\\r\\na-group=3D\"1375\" data-id=3D\"2591330665\" data-title=3D\"CLAIM & PLAY NOW!\"=\\r\\n href=3D\"http://email.playwsop.com/?xtl=3Dtyezc8cvleqhbovskjymkfd3ryc7cs=\\r\\nctwwiu4jb76olpwrqu8wtqvy1udv6mkkfohxn2p0n7aw8yyhu4fi372031td3pxsc2b3neq1=\\r\\ndtb6&amp;xih=3D68msiopt6bjj8j25h2kmg5ir4wgvqt7rc2b10ryleqc\">CLAIM & PLAY=\\r\\n NOW!</a><br>=0A=09=09=09=09=09=09=09=09=09CLICK <a data-id=3D\"259133066=\\r\\n6\" data-title=3D\"HERE\" href=3D\"http://email.playwsop.com/?xm=3DYk12Yu0kK=\\r\\nJZkK2efYlQ5ovGfAPV3m&ocx_unsubscribe_link=3Dhttp://email.playwsop.com/?x=\\r\\nul=3D11353sqksc0qcutg0qxqmdr4s83d5v5zwsuaf1r8m6oic0dhj7i5p5r29724ny25g23=\\r\\nfm5z80qbkwql02euy0cvf8gj3u0u3wbgl5pue19d&amp;xih=3D68msiopt6bjj8j25h2kmg=\\r\\n5ir4wgvqt7rc2b10ryleqc&ocx_email_hash=3D68msiopt6bjj8j25h2kmg5ir4wgvqt7r=\\r\\nc2b10ryleqc&email=3Davraham.jacobsohn@gmail.com\">HERE</a> TO VIEW IN WEB=\\r\\n BROWSER</span><a data-title=3D\"COLLECT & PLAY NOW!\"><span style=3D\"font=\\r\\n-size:10px;\"></span></a></span></span></span><br>=0A=09=09=09=09=09=09=\\r\\n=09=09=09=C2=A0</p>=0A=0A=09=09=09=09=09=09=09=09=09<p><a data-group=3D\"=\\r\\n1376\" data-id=3D\"2591330667\" data-title=3D\"4745a60e994c01c8\" href=3D\"htt=\\r\\np://email.playwsop.com/?xtl=3Dtyezc8cvleqhbovskjymkfd3ryc7cshgl4a8os5v2p=\\r\\nwm24wmz7kbgdoxet2gt71pn3tf01dw5bl3x1tgnfstw4qqkz56wrxbhj0s68zx9h&amp;xih=\\r\\n=3D68msiopt6bjj8j25h2kmg5ir4wgvqt7rc2b10ryleqc\"><img alt=3D\"\" src=3D\"htt=\\r\\np://imgwsop.wsop.com/images/8155b27c0da12309.jpg\" style=3D\"width: 100%;\"=\\r\\n width=3D\"100%\"></a></p>=0A=09=09=09=09=09=09=09=09=09</td>=0A=09=09=09=\\r\\n=09=09=09=09=09</tr></tbody></table><hr><table border=3D\"0\" cellpadding=\\r\\n=3D\"1\" cellspacing=3D\"1\" style=3D\"color: rgb(171, 171, 171); font-family=\\r\\n: arial, helvetica, sans-serif; text-transform: uppercase; font-size: 9p=\\r\\nx; line-height: 16px; width: 600px;\"><tbody><tr><td style=3D\"text-align:=\\r\\n center;\"><a data-id=3D\"2591330668\" data-title=3D\"UNSUBSCRIBE\" href=3D\"h=\\r\\nttp://email.playwsop.com/?xul=3D11353sqksc0qcutg0qxqmdr4s83d5v5zwsuaf1r8=\\r\\nm6oic0dhj7i5p5r29724ny25g23fm5z80qbkwql02euy0cvf8gj3u0u3wbgl5pue19d&amp;=\\r\\nxih=3D68msiopt6bjj8j25h2kmg5ir4wgvqt7rc2b10ryleqc\">UNSUBSCRIBE</a></td>=\\r\\n=0A=09=09=09=09=09=09=09=09=09<td style=3D\"text-align: center;\"><a data-=\\r\\ngroup=3D\"1377\" data-id=3D\"2591330669\" data-title=3D\"PLAYWSOP.COM\" href=\\r\\n=3D\"http://email.playwsop.com/?xtl=3Dtyezc8cvleqhbovskjymkfd3ryc7ct18par=\\r\\nkvkxgkq56vfc31hs15izafqlplr9pcxavz37iyhbwv7tvfcfe28berv6lvqtp2cb3krvaf3&=\\r\\namp;xih=3D68msiopt6bjj8j25h2kmg5ir4wgvqt7rc2b10ryleqc\">PLAYWSOP.COM</a><=\\r\\n/td>=0A=09=09=09=09=09=09=09=09=09<td style=3D\"text-align: center;\">=C2=\\r\\n=A0</td>=0A=09=09=09=09=09=09=09=09=09<td style=3D\"text-align: center;\">=\\r\\n<a data-group=3D\"1378\" data-id=3D\"2591330670\" data-title=3D\"CONTACT US\"=\\r\\n href=3D\"http://email.playwsop.com/?xtl=3D65lycrp2j698gzb9421mfm8e4kppwb=\\r\\n50s773c7rudarmo0zcz1suxr6riidgijphbd8km2td9q72x9niz2135ppau7qct7athxpgjr=\\r\\n318fxyn5k7ckc2gmp482y5tvnp2lahaqzev4ujt76jm8604yqhuf5joqn1bp&amp;xih=3D6=\\r\\n8msiopt6bjj8j25h2kmg5ir4wgvqt7rc2b10ryleqc\">CONTACT=C2=A0</a></td>=0A=09=\\r\\n=09=09=09=09=09=09=09=09<td style=3D\"text-align: center;\"><a data-group=\\r\\n=3D\"0\" data-title=3D\"STAY CONNECTED\">=C2=A0</a></td>=0A=09=09=09=09=09=\\r\\n=09=09=09=09<td style=3D\"text-align: center;\">=C2=A0</td>=0A=09=09=09=09=\\r\\n=09=09=09=09=09<td style=3D\"text-align: center;\">=C2=A0</td>=0A=09=09=09=\\r\\n=09=09=09=09=09=09<td style=3D\"text-align: center;\">=C2=A0</td>=0A=09=09=\\r\\n=09=09=09=09=09=09=09<td style=3D\"text-align: center;\" width=3D\"5%\">=C2=\\r\\n=A0</td>=0A=09=09=09=09=09=09=09=09</tr></tbody></table><p style=3D\"colo=\\r\\nr: rgb(171, 171, 171); font-family: arial, helvetica, sans-serif; text-a=\\r\\nlign: -webkit-center; text-transform: uppercase;\"><br><a data-group=3D\"1=\\r\\n379\" data-id=3D\"2591330671\" data-title=3D\"37958939c6152a6d\" href=3D\"http=\\r\\n://email.playwsop.com/?xtl=3D5buqc8l3mks1kfo9pzzgyeou30vqo5sczapff3vfa8w=\\r\\nq3lsdg23h98lkh4xdrnsmrp3gwojaf90wgjowekh5cwfsei59rkjsgnpe0gbr4lfz81c2ei7=\\r\\n413n8dh4mc7b5jwao6rdp3j5lkm99q&amp;xih=3D68msiopt6bjj8j25h2kmg5ir4wgvqt7=\\r\\nrc2b10ryleqc\" style=3D\"font-size: 9px; line-height: 16px;\"><img alt=3D\"\"=\\r\\n src=3D\"http://imgwsop.wsop.com/images/37958939c6152a6d.png\" style=3D\"wi=\\r\\ndth: 60px;\" width=3D\"60\"></a>=C2=A0=C2=A0<font size=3D\"1\"><span style=3D=\\r\\n\"line-height: 16px;\">=C2=A0</span></font><a data-group=3D\"1379\" data-id=\\r\\n=3D\"2591330672\" data-title=3D\"33058939c6199eaa\" href=3D\"http://email.pla=\\r\\nywsop.com/?xtl=3D1ohotfzbkw81czzx2q97h0mvu10t9hkjxtgp61qrvc7l34xxjzuj6mn=\\r\\ny04qwuz8ro3k3qzj098yffbrs84tpc0yjndga9doed8d80sivzzg7uh14nop8&amp;xih=3D=\\r\\n68msiopt6bjj8j25h2kmg5ir4wgvqt7rc2b10ryleqc\" style=3D\"font-size: 9px; li=\\r\\nne-height: 16px;\"><img alt=3D\"\" src=3D\"http://imgwsop.wsop.com/images/33=\\r\\n058939c6199eaa.png\" style=3D\"width: 60px;\" width=3D\"60\"></a><font size=\\r\\n=3D\"1\"><span style=3D\"line-height: 16px;\">=C2=A0 =C2=A0=C2=A0</span></fo=\\r\\nnt><a data-group=3D\"1379\" data-id=3D\"2591330673\" data-title=3D\"97558939c=\\r\\n646701c\" href=3D\"http://email.playwsop.com/?xtl=3D5m97lylsal83jdaswvdym7=\\r\\nxsdrqz4w4xcw5078cf901jlorg0rursl19jevto2gtai7krtpsokjwm36lmyrbrt7kk37a3n=\\r\\nl4d6o8gg8i2r9evav0qcxfkxk2683eh3tt&amp;xih=3D68msiopt6bjj8j25h2kmg5ir4wg=\\r\\nvqt7rc2b10ryleqc\" style=3D\"font-size: 9px; line-height: 16px;\"><img alt=\\r\\n=3D\"\" src=3D\"http://imgwsop.wsop.com/images/97558939c646701c.png\" style=\\r\\n=3D\"width: 60px;\" width=3D\"60\"></a>=C2=A0<font size=3D\"1\"><span style=3D=\\r\\n\"line-height: 16px;\">=C2=A0=C2=A0</span></font><a data-group=3D\"1379\" da=\\r\\nta-id=3D\"2591330674\" data-title=3D\"9558939c61546c2\" href=3D\"http://email=\\r\\n.playwsop.com/?xtl=3D2xsrc3ffi8b4am6ujmywv15fuehngq3dl4yknyf7eha05vn7idx=\\r\\no4jljf5enja8cogetknxd3c2yr4raivovgm62zmpkw6k26y4970ccymlwv482ttczxayyzs5=\\r\\nqjimur8kkjrml28kv5hrcc1tyoyg9tkj5i29hsj2o1kvrw3cak51lilllvrdjife&amp;xih=\\r\\n=3D68msiopt6bjj8j25h2kmg5ir4wgvqt7rc2b10ryleqc\"><img alt=3D\"\" src=3D\"htt=\\r\\np://imgwsop.wsop.com/images/9558939c61546c2.png\" style=3D\"width: 60px;\"=\\r\\n width=3D\"60\"></a>=C2=A0 =C2=A0<a data-group=3D\"1379\" data-id=3D\"2591330=\\r\\n676\" data-title=3D\"27858939c6164daa\" href=3D\"http://email.playwsop.com/?=\\r\\nxtl=3D9ofzoep6kpws7eegx1lthrm9ur9nop1ojidx4e751bl0pzz9iuivetvmfedk1r9mgm=\\r\\nn1rmu5iorncz4fohek3upl6u0a8huh7dpwmwnsh5jipm4kqmqqb4e30tfyqtwis5xxbi6te6=\\r\\nzgcbspfablsrxy1gbgalrfumyhjhztwmnbowaf8ric59&amp;xih=3D68msiopt6bjj8j25h=\\r\\n2kmg5ir4wgvqt7rc2b10ryleqc\"><img alt=3D\"\" src=3D\"http://imgwsop.wsop.com=\\r\\n/images/27858939c6164daa.png\" style=3D\"width: 60px;\" width=3D\"60\"></a>=\\r\\n=C2=A0=C2=A0<a data-group=3D\"1379\" data-id=3D\"2591330677\" data-title=3D\"=\\r\\n7958939d6893486\" href=3D\"http://email.playwsop.com/?xtl=3Da07eh4emnqy7m8=\\r\\nmem7mod5f1l43udoh7uhgz9dkij5wifupanxkc92zj2gbpukh3e177n2yakmixddy28611zy=\\r\\npamsv4s6y67see96vwdpqanwf6yxb3vy5a979poll8so1jhyh6klbfej6zj2b69f8sz6e5t7=\\r\\nyuh26arefrj4wfbc&amp;xih=3D68msiopt6bjj8j25h2kmg5ir4wgvqt7rc2b10ryleqc\">=\\r\\n<img alt=3D\"\" src=3D\"http://imgwsop.wsop.com/images/7958939d6893486.png\"=\\r\\n style=3D\"width: 60px;\" width=3D\"60\"></a>=C2=A0 =C2=A0<a data-group=3D\"1=\\r\\n380\" data-id=3D\"2591330678\" data-title=3D\"56958939c6165f68\" href=3D\"http=\\r\\n://email.playwsop.com/?xtl=3Dtyezc8cvleqhbovskjymkfd3ryc7ctbqb5qctdzossd=\\r\\n8dsk4hf3k22vwrzvfds9rapw3i0m37r0pyi7hk079pocsebmq7h8gkxh62jj0fc&amp;xih=\\r\\n=3D68msiopt6bjj8j25h2kmg5ir4wgvqt7rc2b10ryleqc\"><img alt=3D\"\" src=3D\"htt=\\r\\np://imgwsop.wsop.com/images/56958939c6165f68.png\" style=3D\"width: 60px;\"=\\r\\n width=3D\"60\"></a></p>=0A=0A=09=09=09=09=09=09<table border=3D\"0\" cellpa=\\r\\ndding=3D\"1\" cellspacing=3D\"1\" style=3D\"color: rgb(171, 171, 171); font-f=\\r\\namily: arial, helvetica, sans-serif; text-transform: uppercase; font-siz=\\r\\ne: 9px; line-height: 16px; width: 600px;\"><tbody></tbody><tbody><tr><td=\\r\\n style=3D\"text-align: center;\">=C2=A0</td>=0A=09=09=09=09=09=09=09=09=09=\\r\\n<td style=3D\"text-align: center;\">=C2=A0</td>=0A=09=09=09=09=09=09=09=09=\\r\\n=09<td style=3D\"text-align: center;\">=C2=A0</td>=0A=09=09=09=09=09=09=09=\\r\\n=09=09<td style=3D\"text-align: center;\">=C2=A0</td>=0A=09=09=09=09=09=09=\\r\\n=09=09=09<td style=3D\"text-align: center;\">=C2=A0</td>=0A=09=09=09=09=09=\\r\\n=09=09=09=09<td style=3D\"text-align: center;\">=C2=A0</td>=0A=09=09=09=09=\\r\\n=09=09=09=09=09<td style=3D\"text-align: center;\">=C2=A0</td>=0A=09=09=09=\\r\\n=09=09=09=09=09=09<td style=3D\"text-align: center;\">=C2=A0</td>=0A=09=09=\\r\\n=09=09=09=09=09=09=09<td style=3D\"text-align: center;\" width=3D\"5%\">=C2=\\r\\n=A0</td>=0A=09=09=09=09=09=09=09=09</tr></tbody></table><p style=3D\"colo=\\r\\nr: rgb(171, 171, 171); font-family: arial, helvetica, sans-serif; text-a=\\r\\nlign: -webkit-center; text-transform: uppercase; font-size: 9px; line-he=\\r\\night: 16px;\">HAVE QUESTIONS OR COMMENTS? REACH OUT TO US =C2=A0<a data-i=\\r\\nd=3D\"2591330679\" data-title=3D\"HERE\" href=3D\"http://email.playwsop.com/?=\\r\\nxtl=3D65lycrp2j698gzb9421mfm8e4kppwbpsei5pp8nrk5sofit3kjjsf4pr1ht8oz9exr=\\r\\nd28ls2laonarjp293r9nrxfkpdv8zz49qro4rnlft6tf7if7737rl2og8ovi39665kblwxf4=\\r\\nzbba72buxr2hw4dfzrlyztbi&amp;xih=3D68msiopt6bjj8j25h2kmg5ir4wgvqt7rc2b10=\\r\\nryleqc\">HERE</a></p>=0A=0A=09=09=09=09=09=09<p style=3D\"color: rgb(171,=\\r\\n 171, 171); font-family: arial, helvetica, sans-serif; text-align: -webk=\\r\\nit-center; text-transform: uppercase; font-size: 9px; line-height: 16px;=\\r\\n\">WANT TO VIEW OUR PRIVACY POLICY? CHECK IT OUT <a data-group=3D\"1426\" d=\\r\\nata-id=3D\"2591330681\" data-title=3D\"HERE\" href=3D\"http://email.playwsop.=\\r\\ncom/?xtl=3Dv1b1sc1vnvamwis14udsvmbg8o0olytb7cxm0hiyctp4zqo9ilhpy38nsbwlf=\\r\\ne4ejfwbtfxdmn8wd32qo8w9kb3bcb8r1sw7yco7plfw62hze5batbkr9dt7vta&amp;xih=\\r\\n=3D68msiopt6bjj8j25h2kmg5ir4wgvqt7rc2b10ryleqc\">HERE</a></p>=0A=0A=09=09=\\r\\n=09=09=09=09<p style=3D\"color: rgb(171, 171, 171); font-family: arial, h=\\r\\nelvetica, sans-serif; text-align: -webkit-center; text-transform: upperc=\\r\\nase; font-size: 9px; line-height: 16px;\">CAN\\'T VIEW THIS EMAIL? OPEN IT=\\r\\n IN A BROWSER <a data-id=3D\"2591330682\" data-title=3D\"HERE\" href=3D\"http=\\r\\n://email.playwsop.com/?xm=3DYk12Yu0kKJZkK2efYlQ5ovGfAPV3m&ocx_unsubscrib=\\r\\ne_link=3Dhttp://email.playwsop.com/?xul=3D11353sqksc0qcutg0qxqmdr4s83d5v=\\r\\n5zwsuaf1r8m6oic0dhj7i5p5r29724ny25g23fm5z80qbkwql02euy0cvf8gj3u0u3wbgl5p=\\r\\nue19d&amp;xih=3D68msiopt6bjj8j25h2kmg5ir4wgvqt7rc2b10ryleqc&ocx_email_ha=\\r\\nsh=3D68msiopt6bjj8j25h2kmg5ir4wgvqt7rc2b10ryleqc&email=3Davraham.jacobso=\\r\\nhn@gmail.com\">HERE</a></p>=0A=0A=09=09=09=09=09=09<p style=3D\"color: rgb=\\r\\n(171, 171, 171); font-family: arial, helvetica, sans-serif; text-align:=\\r\\n -webkit-center; text-transform: uppercase; font-size: 9px; line-height:=\\r\\n 16px;\">THIS EMAIL WAS SENT TO YOU BECAUSE YOU ASKED TO HEAR ABOUT UPDAT=\\r\\nES AND PROMOTIONS FROM WSOP.<br>=0A=09=09=09=09=09=09IF YOU PREFER NOT T=\\r\\nO RECEIVE EMAIL MESSAGES FROM US, PLEASE=C2=A0<a data-id=3D\"2591330683\"=\\r\\n data-title=3D\"UNSUBSCRIBE\" href=3D\"http://email.playwsop.com/?xul=3D113=\\r\\n53sqksc0qcutg0qxqmdr4s83d5v5zwsuaf1r8m6oic0dhj7i5p5r29724ny25g23fm5z80qb=\\r\\nkwql02euy0cvf8gj3u0u3wbgl5pue19d&amp;xih=3D68msiopt6bjj8j25h2kmg5ir4wgvq=\\r\\nt7rc2b10ryleqc\">UNSUBSCRIBE.</a></p>=0A=0A=09=09=09=09=09=09<p style=3D\"=\\r\\ncolor: rgb(171, 171, 171); font-family: arial, helvetica, sans-serif; te=\\r\\nxt-align: -webkit-center; text-transform: uppercase; font-size: 9px; lin=\\r\\ne-height: 16px;\"><br>=0A=09=09=09=09=09=09PLAYTIKA HOLDINGS Corp. - 2225=\\r\\n VILLAGE WALK DRIVE SUITE 240 - HENDERSON, NV 89052 USA</p>=0A=09=09=09=\\r\\n=09=09=09</td>=0A=09=09=09=09=09</tr></tbody></table></td>=0A=09=09</tr>=\\r\\n<tr><td align=3D\"center\" class=3D\"Z-width\" style=3D\"min-width:600px;\">=\\r\\n=0A=09=09=09<table align=3D\"center\" bgcolor=3D\"#000000\" border=3D\"0\" cel=\\r\\nlpadding=3D\"0\" cellspacing=3D\"0\" class=3D\"Zed600\" style=3D\"border-collap=\\r\\nse:collapse; mso-table-lspace:0pt; mso-table-rspace:0pt\" width=3D\"600\"><=\\r\\ntbody></tbody></table></td>=0A=09=09</tr></tbody></table><table align=3D=\\r\\n\"center\" bgcolor=3D\"#000000\" border=3D\"0\" cellpadding=3D\"0\" cellspacing=\\r\\n=3D\"0\" class=3D\"Zed600\" style=3D\"border-collapse:collapse; mso-table-lsp=\\r\\nace:0pt; mso-table-rspace:0pt\" width=3D\"600\"><tbody><tr><td align=3D\"cen=\\r\\nter\" style=3D\"padding:0 10px;\">=0A=09=09=09<table align=3D\"center\" borde=\\r\\nr=3D\"0\" cellpadding=3D\"0\" cellspacing=3D\"0\" class=3D\"Zed560\" style=3D\"bo=\\r\\nrder-collapse:collapse; mso-table-lspace:0pt; mso-table-rspace:0pt\" widt=\\r\\nh=3D\"560\"><tbody></tbody></table></td>=0A=09=09</tr></tbody></table><tab=\\r\\nle align=3D\"center\" bgcolor=3D\"#000000\" border=3D\"0\" cellpadding=3D\"0\" c=\\r\\nellspacing=3D\"0\" class=3D\"Zed600\" style=3D\"border-collapse:collapse; mso=\\r\\n-table-lspace:0pt; mso-table-rspace:0pt\" width=3D\"600\"><tbody><tr><td al=\\r\\nign=3D\"center\" style=3D\"padding:0 10px;\">=0A=09=09=09<table align=3D\"cen=\\r\\nter\" border=3D\"0\" cellpadding=3D\"0\" cellspacing=3D\"0\" class=3D\"Zed560\" s=\\r\\ntyle=3D\"border-collapse:collapse; mso-table-lspace:0pt; mso-table-rspace=\\r\\n:0pt\" width=3D\"560\"><tbody></tbody></table></td>=0A=09=09</tr></tbody></=\\r\\ntable><table align=3D\"center\" bgcolor=3D\"#000000\" border=3D\"0\" cellpaddi=\\r\\nng=3D\"0\" cellspacing=3D\"0\" class=3D\"Zed600\" style=3D\"border-collapse:col=\\r\\nlapse; mso-table-lspace:0pt; mso-table-rspace:0pt\" width=3D\"600\"><tbody>=\\r\\n<tr></tr></tbody></table><table align=3D\"center\" border=3D\"0\" cellpaddin=\\r\\ng=3D\"0\" cellspacing=3D\"0\" width=3D\"600px\"><tbody><tr><td align=3D\"center=\\r\\n\" class=3D\"footer\" style=3D\"padding-top: 20px; text-transform: uppercase=\\r\\n; font-family: arial, helvetica, sans-serif; color: rgb(171, 171, 171);\"=\\r\\n>=C2=A0</td>=0A=09=09</tr></tbody></table><img src=3D\"http://email.playw=\\r\\nsop.com/?xol=3D1abnmn2wnpjj6dehhai2&xih=3D68msiopt6bjj8j25h2kmg5ir4wgvqt=\\r\\n7rc2b10ryleqc\" alt=3D\"\" width=3D\"1\" height=3D\"1\"></body></html>=0A\\r\\n\\r\\n--=_f284533f98060a0e002db4d8432690ce--\\r\\n')\n",
      "1\n",
      "b')'\n"
     ]
    }
   ],
   "source": [
    "for response_part in data:\n",
    "  print(len(response_part))\n",
    "  print(response_part)"
   ]
  },
  {
   "cell_type": "code",
   "execution_count": null,
   "metadata": {
    "colab": {},
    "colab_type": "code",
    "id": "1xjjg7JG2nle"
   },
   "outputs": [],
   "source": []
  },
  {
   "cell_type": "code",
   "execution_count": 38,
   "metadata": {
    "colab": {
     "base_uri": "https://localhost:8080/",
     "height": 34
    },
    "colab_type": "code",
    "id": "YRx89m2y16QW",
    "outputId": "6ea0b645-131b-4e58-8f54-97bba6d87f4c"
   },
   "outputs": [
    {
     "data": {
      "text/plain": [
       "b'25074'"
      ]
     },
     "execution_count": 38,
     "metadata": {
      "tags": []
     },
     "output_type": "execute_result"
    }
   ],
   "source": [
    "data[0][0].split()[-3]"
   ]
  },
  {
   "cell_type": "markdown",
   "metadata": {
    "colab_type": "text",
    "id": "xkk1KPfHpY00"
   },
   "source": [
    "### Exploring the csv"
   ]
  },
  {
   "cell_type": "code",
   "execution_count": null,
   "metadata": {
    "colab": {},
    "colab_type": "code",
    "id": "zBsRwYXGlnly"
   },
   "outputs": [],
   "source": [
    "import pandas as pd\n",
    "\n",
    "df = pd.read_csv('/content/final_all_emails_with_data.csv')\n",
    "\n",
    "print(df.shape)\n",
    "\n",
    "df.head()"
   ]
  },
  {
   "cell_type": "code",
   "execution_count": null,
   "metadata": {
    "colab": {
     "base_uri": "https://localhost:8080/",
     "height": 317
    },
    "colab_type": "code",
    "id": "ohgho8-NRjfQ",
    "outputId": "1c556c15-8eea-4258-b12d-fb14ea43b19e"
   },
   "outputs": [
    {
     "data": {
      "text/html": [
       "<div>\n",
       "<style scoped>\n",
       "    .dataframe tbody tr th:only-of-type {\n",
       "        vertical-align: middle;\n",
       "    }\n",
       "\n",
       "    .dataframe tbody tr th {\n",
       "        vertical-align: top;\n",
       "    }\n",
       "\n",
       "    .dataframe thead th {\n",
       "        text-align: right;\n",
       "    }\n",
       "</style>\n",
       "<table border=\"1\" class=\"dataframe\">\n",
       "  <thead>\n",
       "    <tr style=\"text-align: right;\">\n",
       "      <th></th>\n",
       "      <th>Delivered-To</th>\n",
       "      <th>Received</th>\n",
       "      <th>X-Google-Smtp-Source</th>\n",
       "      <th>X-Received</th>\n",
       "      <th>ARC-Seal</th>\n",
       "      <th>ARC-Message-Signature</th>\n",
       "      <th>ARC-Authentication-Results</th>\n",
       "      <th>Return-Path</th>\n",
       "      <th>Received.1</th>\n",
       "      <th>Received-SPF</th>\n",
       "      <th>Authentication-Results</th>\n",
       "      <th>DKIM-Signature</th>\n",
       "      <th>Date</th>\n",
       "      <th>From</th>\n",
       "      <th>Reply-To</th>\n",
       "      <th>To</th>\n",
       "      <th>Message-ID</th>\n",
       "      <th>Subject</th>\n",
       "      <th>MIME-Version</th>\n",
       "      <th>Content-Type</th>\n",
       "      <th>X-Original-To</th>\n",
       "      <th>List-Unsubscribe</th>\n",
       "      <th>content-type</th>\n",
       "    </tr>\n",
       "  </thead>\n",
       "  <tbody>\n",
       "    <tr>\n",
       "      <th>count</th>\n",
       "      <td>31715</td>\n",
       "      <td>31726</td>\n",
       "      <td>12324</td>\n",
       "      <td>28649</td>\n",
       "      <td>31731</td>\n",
       "      <td>13470</td>\n",
       "      <td>13470</td>\n",
       "      <td>31721</td>\n",
       "      <td>31726</td>\n",
       "      <td>31711</td>\n",
       "      <td>31711</td>\n",
       "      <td>22438</td>\n",
       "      <td>31731</td>\n",
       "      <td>31731</td>\n",
       "      <td>31731</td>\n",
       "      <td>31676</td>\n",
       "      <td>31731</td>\n",
       "      <td>31638</td>\n",
       "      <td>28150</td>\n",
       "      <td>28175</td>\n",
       "      <td>7</td>\n",
       "      <td>12574</td>\n",
       "      <td>28175</td>\n",
       "    </tr>\n",
       "    <tr>\n",
       "      <th>unique</th>\n",
       "      <td>2</td>\n",
       "      <td>31725</td>\n",
       "      <td>12324</td>\n",
       "      <td>28649</td>\n",
       "      <td>1</td>\n",
       "      <td>13470</td>\n",
       "      <td>11761</td>\n",
       "      <td>12532</td>\n",
       "      <td>31725</td>\n",
       "      <td>14902</td>\n",
       "      <td>19020</td>\n",
       "      <td>22435</td>\n",
       "      <td>31235</td>\n",
       "      <td>1635</td>\n",
       "      <td>1</td>\n",
       "      <td>689</td>\n",
       "      <td>31644</td>\n",
       "      <td>20061</td>\n",
       "      <td>11</td>\n",
       "      <td>20666</td>\n",
       "      <td>2</td>\n",
       "      <td>12145</td>\n",
       "      <td>8</td>\n",
       "    </tr>\n",
       "    <tr>\n",
       "      <th>top</th>\n",
       "      <td>avraham.jacobsohn@gmail.com</td>\n",
       "      <td>by 10.231.15.9; Mon, 11 Oct 2010 10:20:50 -070...</td>\n",
       "      <td>AIpwx488afdBj9ZSD4SKJnA1pAqMI1+hGtwdwGscw07WL7...</td>\n",
       "      <td>by 2002:a65:4d08:: with SMTP id i8-v6mr1649103...</td>\n",
       "      <td>['ARC-Seal']</td>\n",
       "      <td>i=1; a=rsa-sha256; c=relaxed/relaxed; d=google...</td>\n",
       "      <td>i=1; mx.google.com;\\r\\n       spf=pass (google...</td>\n",
       "      <td>&lt;floorman@wrgpt.org&gt;</td>\n",
       "      <td>by 10.231.15.9; Mon, 11 Oct 2010 10:20:50 -070...</td>\n",
       "      <td>pass (google.com: best guess record for domain...</td>\n",
       "      <td>mx.google.com;\\r\\n       spf=pass (google.com:...</td>\n",
       "      <td>v=1; a=rsa-sha1; c=relaxed/relaxed; \\r\\n\\td=lh...</td>\n",
       "      <td>Thu, 14 Jan 2016 13:40:31 -0800 (PST)</td>\n",
       "      <td>dealer@wrgpt.org</td>\n",
       "      <td>['Reply-To']</td>\n",
       "      <td>avraham.jacobsohn@gmail.com</td>\n",
       "      <td>&lt;T.A2N3-EITK-ESVM-WY4Z@wallet.google.com&gt;</td>\n",
       "      <td>You received $0.01 from kalman jacobsohn</td>\n",
       "      <td>1.0</td>\n",
       "      <td>text/html;\\r\\n\\tcharset=\"iso-8859-1\"</td>\n",
       "      <td>avraham.jacobsohn@gmail.com</td>\n",
       "      <td>&lt;mailto:returnto+bn+rPK2vC0qJ0uMB9XCBpKoHT5aNn...</td>\n",
       "      <td>multipart/alternative</td>\n",
       "    </tr>\n",
       "    <tr>\n",
       "      <th>freq</th>\n",
       "      <td>27726</td>\n",
       "      <td>2</td>\n",
       "      <td>1</td>\n",
       "      <td>1</td>\n",
       "      <td>31731</td>\n",
       "      <td>1</td>\n",
       "      <td>1140</td>\n",
       "      <td>3536</td>\n",
       "      <td>2</td>\n",
       "      <td>3536</td>\n",
       "      <td>3536</td>\n",
       "      <td>2</td>\n",
       "      <td>3</td>\n",
       "      <td>3540</td>\n",
       "      <td>31731</td>\n",
       "      <td>14947</td>\n",
       "      <td>9</td>\n",
       "      <td>3291</td>\n",
       "      <td>28046</td>\n",
       "      <td>1757</td>\n",
       "      <td>4</td>\n",
       "      <td>114</td>\n",
       "      <td>20038</td>\n",
       "    </tr>\n",
       "  </tbody>\n",
       "</table>\n",
       "</div>"
      ],
      "text/plain": [
       "                       Delivered-To  ...           content-type\n",
       "count                         31715  ...                  28175\n",
       "unique                            2  ...                      8\n",
       "top     avraham.jacobsohn@gmail.com  ...  multipart/alternative\n",
       "freq                          27726  ...                  20038\n",
       "\n",
       "[4 rows x 23 columns]"
      ]
     },
     "execution_count": 45,
     "metadata": {
      "tags": []
     },
     "output_type": "execute_result"
    }
   ],
   "source": [
    "df.describe(exclude='number')"
   ]
  },
  {
   "cell_type": "code",
   "execution_count": null,
   "metadata": {
    "colab": {
     "base_uri": "https://localhost:8080/",
     "height": 34
    },
    "colab_type": "code",
    "id": "3KYhd8C7R1aa",
    "outputId": "d3c05eb2-f29e-4929-ccb0-a1625ce8b23d"
   },
   "outputs": [
    {
     "data": {
      "text/plain": [
       "'multipart/alternative; boundary=\"_----------=_MCPart_1397379667\"'"
      ]
     },
     "execution_count": 46,
     "metadata": {
      "tags": []
     },
     "output_type": "execute_result"
    }
   ],
   "source": [
    "df.iloc[5]['Content-Type']"
   ]
  },
  {
   "cell_type": "code",
   "execution_count": null,
   "metadata": {
    "colab": {},
    "colab_type": "code",
    "id": "L_WxqMlC41Lk"
   },
   "outputs": [],
   "source": [
    "df.isna().sum()"
   ]
  },
  {
   "cell_type": "code",
   "execution_count": null,
   "metadata": {
    "colab": {
     "base_uri": "https://localhost:8080/",
     "height": 139
    },
    "colab_type": "code",
    "id": "9Nc2xxNOkoqy",
    "outputId": "917c6a24-50c1-404b-ecfc-4070d21a71a9"
   },
   "outputs": [
    {
     "data": {
      "text/plain": [
       "array(['multipart/alternative; boundary=67a8731204669bbeef62365dbb43fbff4901f6875611941c97c56ff60c1e',\n",
       "       'multipart/alternative; \\r\\n\\tboundary=\"----=_Part_4932586_62201650.1573568151621\"',\n",
       "       'multipart/alternative;\\r\\n\\tboundary=\"X8t7KvvwHupg=_?:\"', ...,\n",
       "       'multipart/alternative;\\r\\n\\tboundary=\"----=_NextPart_000_0012_84697E01.E205010C\"',\n",
       "       'multipart/alternative; boundary=001485e7c438f007ec04925a94ea',\n",
       "       'multipart/alternative; boundary=00032555716aedfe4004925a9430'],\n",
       "      dtype=object)"
      ]
     },
     "execution_count": 6,
     "metadata": {
      "tags": []
     },
     "output_type": "execute_result"
    }
   ],
   "source": [
    "df['Content-Type'].unique()"
   ]
  },
  {
   "cell_type": "code",
   "execution_count": null,
   "metadata": {
    "colab": {},
    "colab_type": "code",
    "id": "BhBFFdoGnEDv"
   },
   "outputs": [],
   "source": [
    "# Content-Type is a mess so here we separate out the useful, beginning part\n",
    "import numpy as np\n",
    "df['content-type'] = [s.split(';')[0] if type(s) == str else np.nan for s in df['Content-Type']]"
   ]
  },
  {
   "cell_type": "code",
   "execution_count": null,
   "metadata": {
    "colab": {
     "base_uri": "https://localhost:8080/",
     "height": 173
    },
    "colab_type": "code",
    "id": "lpF2rZr6817k",
    "outputId": "401f726e-60ab-48af-d1c5-45bb62829950"
   },
   "outputs": [
    {
     "data": {
      "text/plain": [
       "multipart/alternative    20042\n",
       "text/html                 6062\n",
       "text/plain                1151\n",
       "multipart/mixed            572\n",
       "multipart/related          350\n",
       "Multipart/Alternative        2\n",
       "multipart/encrypted          1\n",
       "multipart/report             1\n",
       "Name: content-type, dtype: int64"
      ]
     },
     "execution_count": 52,
     "metadata": {
      "tags": []
     },
     "output_type": "execute_result"
    }
   ],
   "source": [
    "df['content-type'].value_counts()"
   ]
  },
  {
   "cell_type": "markdown",
   "metadata": {
    "colab_type": "text",
    "id": "2tb526eEpiWU"
   },
   "source": [
    "### Plain text emails"
   ]
  },
  {
   "cell_type": "code",
   "execution_count": null,
   "metadata": {
    "colab": {},
    "colab_type": "code",
    "id": "VKUJxQ7u9HuL"
   },
   "outputs": [],
   "source": [
    "mask = df['content-type'] == 'text/plain'\n",
    "\n",
    "plain_text_emails = df[mask]\n",
    "\n",
    "print(plain_text_emails.shape)\n",
    "\n",
    "plain_text_emails.head()"
   ]
  },
  {
   "cell_type": "code",
   "execution_count": null,
   "metadata": {
    "colab": {
     "base_uri": "https://localhost:8080/",
     "height": 139
    },
    "colab_type": "code",
    "id": "9ToYJjVElBSu",
    "outputId": "320aa8fc-5a10-4897-f1bf-781e34015b3c"
   },
   "outputs": [
    {
     "data": {
      "text/plain": [
       "Index(['Delivered-To', 'Received', 'X-Google-Smtp-Source', 'X-Received',\n",
       "       'ARC-Seal', 'ARC-Message-Signature', 'ARC-Authentication-Results',\n",
       "       'Return-Path', 'Received.1', 'Received-SPF', 'Authentication-Results',\n",
       "       'DKIM-Signature', 'Date', 'From', 'Reply-To', 'To', 'Message-ID',\n",
       "       'Subject', 'MIME-Version', 'Content-Type', 'X-Original-To',\n",
       "       'List-Unsubscribe', 'content-type'],\n",
       "      dtype='object')"
      ]
     },
     "execution_count": 10,
     "metadata": {
      "tags": []
     },
     "output_type": "execute_result"
    }
   ],
   "source": [
    "plain_text_emails.columns "
   ]
  },
  {
   "cell_type": "code",
   "execution_count": null,
   "metadata": {
    "colab": {},
    "colab_type": "code",
    "id": "7AQTfXsllENu"
   },
   "outputs": [],
   "source": [
    "plain_text_ids = plain_text_emails['Message-ID'].values"
   ]
  },
  {
   "cell_type": "code",
   "execution_count": null,
   "metadata": {
    "colab": {
     "base_uri": "https://localhost:8080/",
     "height": 89
    },
    "colab_type": "code",
    "id": "nfcMfLqBSIpl",
    "outputId": "9d5d2d61-c859-48c5-dd39-6827c0666cb3"
   },
   "outputs": [
    {
     "data": {
      "text/plain": [
       "[(b'31580 (UID 32309 BODY[TEXT] {1076}',\n",
       "  b'Thank you for contacting Amazon Web Services.\\r\\n\\r\\nWe have opened case 6559329691 to address your issue. \\r\\n\\r\\nThe details of your case are as follows:\\r\\n\\r\\nCase ID: 6559329691\\r\\nSubject: Limit Increase: SageMaker\\r\\nSeverity: High\\r\\n\\r\\n\\r\\nTo contact us again about this issue, please use the following link to enter your correspondence or attach any files you think would be useful:\\r\\n\\r\\nhttps://console.aws.amazon.com/support/home?#/case/?caseId=6559329691&displayId=6559329691&language=en\\r\\n\\r\\n(If you will connect by federation, log in before following the link.)\\r\\n\\r\\nSincerely,\\r\\nThe Amazon Web Services Team\\r\\n\\r\\n*Please note: this e-mail was sent from an address that cannot accept incoming e-mail. Please use the appropriate link above if you need to contact us again about this same issue. \\r\\n\\r\\nAmazon Web Services, Inc. is an affiliate of Amazon.com, Inc. Amazon.com is a registered trademark of Amazon.com, Inc. or its affiliates.\\r\\n\\r\\nSome of the content and links in this email may have been generated by an Amazon customer. Amazon is not responsible for the contents or links within.\\r\\n'),\n",
       " b')']"
      ]
     },
     "execution_count": 111,
     "metadata": {
      "tags": []
     },
     "output_type": "execute_result"
    }
   ],
   "source": [
    "typ, data = mail.fetch(str(plain_text_emails.iloc[8].Id).encode(), '(UID BODY[TEXT])')\n",
    "\n",
    "data"
   ]
  },
  {
   "cell_type": "code",
   "execution_count": null,
   "metadata": {
    "colab": {
     "base_uri": "https://localhost:8080/",
     "height": 54
    },
    "colab_type": "code",
    "id": "rjyHsIROTOV3",
    "outputId": "becbbcfd-2150-4d07-a3b0-fde3b14e2537"
   },
   "outputs": [
    {
     "data": {
      "text/plain": [
       "'Thank you for contacting Amazon Web Services.\\r\\n\\r\\nWe have opened case 6559329691 to address your issue. \\r\\n\\r\\nThe details of your case are as follows:\\r\\n\\r\\nCase ID: 6559329691\\r\\nSubject: Limit Increase: SageMaker\\r\\nSeverity: High\\r\\n\\r\\n\\r\\nTo contact us again about this issue, please use the following link to enter your correspondence or attach any files you think would be useful:\\r\\n\\r\\nhttps://console.aws.amazon.com/support/home?#/case/?caseId=6559329691&displayId=6559329691&language=en\\r\\n\\r\\n(If you will connect by federation, log in before following the link.)\\r\\n\\r\\nSincerely,\\r\\nThe Amazon Web Services Team\\r\\n\\r\\n*Please note: this e-mail was sent from an address that cannot accept incoming e-mail. Please use the appropriate link above if you need to contact us again about this same issue. \\r\\n\\r\\nAmazon Web Services, Inc. is an affiliate of Amazon.com, Inc. Amazon.com is a registered trademark of Amazon.com, Inc. or its affiliates.\\r\\n\\r\\nSome of the content and links in this email may have been generated by an Amazon customer. Amazon is not responsible for the contents or links within.\\r\\n'"
      ]
     },
     "execution_count": 112,
     "metadata": {
      "tags": []
     },
     "output_type": "execute_result"
    }
   ],
   "source": [
    "msg = email.message_from_string(data[0][1].decode())\n",
    "msg_str = msg.get_payload()\n",
    "\n",
    "msg_str"
   ]
  },
  {
   "cell_type": "code",
   "execution_count": null,
   "metadata": {
    "colab": {
     "base_uri": "https://localhost:8080/",
     "height": 54
    },
    "colab_type": "code",
    "id": "VjEETE49VYIJ",
    "outputId": "a305fe88-4c62-4257-fa7e-92edf87c8021"
   },
   "outputs": [
    {
     "data": {
      "text/plain": [
       "'Thank you for contacting Amazon Web Services.  We have opened case 6559329691 to address your issue.   The details of your case are as follows:  Case ID: 6559329691 Subject: Limit Increase: SageMaker Severity: High   To contact us again about this issue, please use the following link to enter your correspondence or attach any files you think would be useful:  https://console.aws.amazon.com/support/home?#/case/?caseId=6559329691&displayId=6559329691&language=en  (If you will connect by federation, log in before following the link.)  Sincerely, The Amazon Web Services Team  *Please note: this e-mail was sent from an address that cannot accept incoming e-mail. Please use the appropriate link above if you need to contact us again about this same issue.   Amazon Web Services, Inc. is an affiliate of Amazon.com, Inc. Amazon.com is a registered trademark of Amazon.com, Inc. or its affiliates.  Some of the content and links in this email may have been generated by an Amazon customer. Amazon is not responsible for the contents or links within. '"
      ]
     },
     "execution_count": 113,
     "metadata": {
      "tags": []
     },
     "output_type": "execute_result"
    }
   ],
   "source": [
    "msg_str = ''.join(msg_str.split('=\\r\\n'))\n",
    "msg_str = ' '.join(msg_str.split('\\r\\n'))\n",
    "msg_str = ' '.join(msg_str.split('=0A'))\n",
    "msg_str"
   ]
  },
  {
   "cell_type": "code",
   "execution_count": null,
   "metadata": {
    "colab": {},
    "colab_type": "code",
    "id": "gmqyAIRWfI6S"
   },
   "outputs": [],
   "source": [
    "typ, data = mail.fetch(str(plain_text_emails.iloc[8].Id).encode(), '(RFC822)')"
   ]
  },
  {
   "cell_type": "code",
   "execution_count": null,
   "metadata": {
    "colab": {},
    "colab_type": "code",
    "id": "nyzaiSldfM27"
   },
   "outputs": [],
   "source": [
    "msg = email.message_from_string(data[0][1].decode())\n",
    "msg.keys()"
   ]
  },
  {
   "cell_type": "code",
   "execution_count": null,
   "metadata": {
    "colab": {
     "base_uri": "https://localhost:8080/",
     "height": 34
    },
    "colab_type": "code",
    "id": "8nbXROAmfqZa",
    "outputId": "e3734c67-24c2-419c-de51-5bc57f433996"
   },
   "outputs": [
    {
     "data": {
      "text/plain": [
       "'text/plain; charset=UTF-8'"
      ]
     },
     "execution_count": 120,
     "metadata": {
      "tags": []
     },
     "output_type": "execute_result"
    }
   ],
   "source": [
    "msg['Content-Type']"
   ]
  },
  {
   "cell_type": "markdown",
   "metadata": {
    "colab_type": "text",
    "id": "uJFNVXp_T1SR"
   },
   "source": [
    "#### Lets get those raw text emails!!!!"
   ]
  },
  {
   "cell_type": "code",
   "execution_count": null,
   "metadata": {
    "colab": {},
    "colab_type": "code",
    "id": "kH0imYlwT0st"
   },
   "outputs": [],
   "source": [
    "plain_text_ids = plain_text_emails['Id'].values"
   ]
  },
  {
   "cell_type": "code",
   "execution_count": null,
   "metadata": {
    "colab": {},
    "colab_type": "code",
    "id": "v0XZjb_WF8_I"
   },
   "outputs": [],
   "source": [
    "type, data = mail.search(None, 'ALL')\n",
    "\n",
    "data"
   ]
  },
  {
   "cell_type": "code",
   "execution_count": null,
   "metadata": {
    "colab": {},
    "colab_type": "code",
    "id": "g5j_nbxiUFsM"
   },
   "outputs": [],
   "source": [
    "csv_file = open('email_text_with_imp_info.csv', 'w', encoding='UTF-8')\n",
    "#csv_file2 = open('email_text_with_all_info.csv')\n",
    "csv_writer = csv.writer(csv_file)\n",
    "#csv_writer2 = csv.writer(csv_file2)\n",
    "csv_writer.writerow(['id', 'uid', 'from_', 'subject', 'message', 'content_type',\n",
    "                     'dkim_signature', 'arc_message_signature'])\n",
    "#csv_writer2.writerrow(['id', 'from_', 'subject', 'message', ])\n",
    "for di in plain_text_ids:\n",
    "  typ, data = mail.fetch(str(di).encode(), '(UID BODY[TEXT] RFC822)')\n",
    "  typ2, data2 = mail.fetch(str(di).encode(), '(RFC822)')\n",
    "\n",
    "  uid = email.message_from_string(data[0][0].decode())\n",
    "  uid = uid.get_payload()\n",
    "  uid = uid.split()[-3]\n",
    "  \n",
    "  msg = email.message_from_string(data[0][1].decode())\n",
    "  msg = msg.get_payload()\n",
    "  msg = ''.join(msg.split('=\\r\\n'))\n",
    "  msg = ' '.join(msg.split('\\r\\n'))\n",
    "  msg = ' '.join(msg.split('=0A'))\n",
    "  print(di, msg[:50])\n",
    "  msg2 = email.message_from_string(data2[0][1].decode())\n",
    "  content_type = msg2['Content-Type']\n",
    "  from_ = msg2['From']\n",
    "  subject = msg2['subject']\n",
    "  dkim_signature = msg2['DKIM-Signature']\n",
    "  arc_message_signature = msg2['ARC-Message-Signature']\n",
    "  csv_writer.writerow([di, uid, from_, subject, msg, content_type,\n",
    "                       dkim_signature, arc_message_signature])"
   ]
  },
  {
   "cell_type": "code",
   "execution_count": null,
   "metadata": {
    "colab": {},
    "colab_type": "code",
    "id": "pb8D-7AGoP_b"
   },
   "outputs": [],
   "source": [
    "pd.read_csv('/content/email_text_with_imp_info.csv')['message']"
   ]
  },
  {
   "cell_type": "code",
   "execution_count": null,
   "metadata": {
    "colab": {},
    "colab_type": "code",
    "id": "4YWFVa7AmDoI"
   },
   "outputs": [],
   "source": [
    "import time\n",
    "import imaplib\n",
    "import email\n",
    "import csv"
   ]
  },
  {
   "cell_type": "markdown",
   "metadata": {
    "colab_type": "text",
    "id": "5kIBmo0bxBow"
   },
   "source": [
    "### get those html emails"
   ]
  },
  {
   "cell_type": "code",
   "execution_count": null,
   "metadata": {
    "colab": {},
    "colab_type": "code",
    "id": "PdN-UQDgxApp"
   },
   "outputs": [],
   "source": [
    "mask = df['content-type'] == 'text/html'\n",
    "\n",
    "html_text_emails = df[mask]\n",
    "\n",
    "print(html_text_emails.shape)\n",
    "\n",
    "html_text_emails.head()"
   ]
  },
  {
   "cell_type": "code",
   "execution_count": null,
   "metadata": {
    "colab": {},
    "colab_type": "code",
    "id": "zzHwFiF0yFTY"
   },
   "outputs": [],
   "source": [
    "html_text_ids = html_text_emails['Id'].values\n",
    "\n",
    "typ, data = mail.fetch(str(html_text_ids[1]).encode(), '(UID RFC822 BODY[TEXT])')\n",
    "\n",
    "data"
   ]
  },
  {
   "cell_type": "code",
   "execution_count": 139,
   "metadata": {
    "colab": {
     "base_uri": "https://localhost:8080/",
     "height": 54
    },
    "colab_type": "code",
    "id": "f9ZTd0V0y6eS",
    "outputId": "0f76c506-7602-4181-af63-31ccc2ea3601"
   },
   "outputs": [
    {
     "data": {
      "text/plain": [
       "b'<!--[if mso]>\\n<center><table style=\"background-color:white\"><tr><td width=\"600\">\\n<![endif]--><html><head></head><body><table style=\"background-color:white\" align=\"center\">\\n  <tbody>\\n    <tr>\\n      <td align=\"center\" valign=\"top\">\\n        <table style=\"max-width:600px; text-align:left;\">\\n          <tbody>\\n            <tr style=\"display:none;font-size:1px;color:#ffffff;line-height:1px;max-height:0px;max-width:0px;opacity:0;overflow:hidden;\">\\n              <td style=\"display:none;font-size:1px;color:#ffffff;line-height:1px;max-height:0px;max-width:0px;opacity:0;overflow:hidden; font-family:BlinkMacSystemFont,\\'Helvetica Neue\\',Helvetica,Arial,sans-serif;\" colspan=\"2\">\\n                Your Indie Hackers community digest for November 12th\\n                &nbsp;&#8204;&nbsp;&#8204;&nbsp;&#8204;&nbsp;&#8204;&nbsp;&#8204;&nbsp;&#8204;&nbsp;&#8204;&nbsp;&#8204;&nbsp;&#8204;\\n                &nbsp;&#8204;&nbsp;&#8204;&nbsp;&#8204;&nbsp;&#8204;&nbsp;&#8204;&nbsp;&#8204;&nbsp;&#8204;&nbsp;&#8204;&nbsp;&#8204;\\n                &nbsp;&#8204;&nbsp;&#8204;&nbsp;&#8204;&nbsp;&nbsp;&#8204;&nbsp;&nbsp;&#8204;&nbsp;&#8204;&nbsp;&#8204;&nbsp;&#8204;\\n                &#8204;&nbsp;&#8204;&nbsp;&#8204;&nbsp;&#8204;&nbsp;&#8204;&nbsp;&nbsp;&#8204;&nbsp;&#8204;&nbsp;&#8204;&nbsp;&#8204;\\n                &#8204;&nbsp;&#8204;&nbsp;&#8204;&nbsp;&#8204;&nbsp;&#8204;&nbsp;&nbsp;&#8204;&nbsp;&#8204;&nbsp;&#8204;&nbsp;&#8204;\\n                &#8204;&nbsp;&#8204;&nbsp;&nbsp;&#8204;&nbsp;&#8204;&nbsp;&#8204;&nbsp;&#8204;&nbsp;&#8204;&nbsp;&#8204;&nbsp;&#8204;\\n                &nbsp;&#8204;&nbsp;&#8204;&nbsp;&#8204;&nbsp;&#8204;&nbsp;&#8204;&nbsp;&#8204;&nbsp;&#8204;&nbsp;&#8204;&nbsp;&#8204;\\n                &nbsp;&#8204;&nbsp;&#8204;&nbsp;&#8204;&nbsp;&#8204;&nbsp;&#8204;&nbsp;&#8204;&nbsp;&#8204;&nbsp;&#8204;&nbsp;&#8204;\\n                &nbsp;&#8204;&nbsp;&#8204;&nbsp;&#8204;&nbsp;&#8204;&nbsp;&#8204;&nbsp;&#8204;&nbsp;&#8204;&nbsp;&#8204;&nbsp;&#8204;\\n                &nbsp;&#8204;&nbsp;&#8204;&nbsp;&#8204;&nbsp;&#8204;&nbsp;&#8204;&nbsp;&#8204;&nbsp;&#8204;&nbsp;&#8204;&nbsp;&#8204;\\n                &nbsp;&#8204;&nbsp;&#8204;&nbsp;&#8204;&nbsp;&#8204;&nbsp;&#8204;&nbsp;&#8204;&nbsp;&#8204;&nbsp;&#8204;&nbsp;&#8204;\\n                &nbsp;&#8204;&nbsp;&#8204;&nbsp;&#8204;&nbsp;&#8204;&nbsp;&#8204;&nbsp;&#8204;&nbsp;&#8204;&nbsp;&#8204;&nbsp;&#8204;\\n                &nbsp;&#8204;&nbsp;&#8204;&nbsp;&#8204;&nbsp;&#8204;&nbsp;&#8204;&nbsp;&#8204;&nbsp;&#8204;&nbsp;&#8204;&nbsp;&#8204;\\n                &nbsp;&#8204;&nbsp;&#8204;&nbsp;&#8204;&nbsp;&#8204;&nbsp;&#8204;&nbsp;&#8204;&nbsp;&#8204;&nbsp;&#8204;&nbsp;&#8204;\\n                &nbsp;&#8204;&nbsp;&#8204;&nbsp;&#8204;&nbsp;&#8204;&nbsp;&#8204;&nbsp;&#8204;&nbsp;&#8204;&nbsp;&#8204;&nbsp;&#8204;\\n                &nbsp;&#8204;&nbsp;&#8204;&nbsp;&#8204;&nbsp;&#8204;&nbsp;&#8204;&nbsp;&#8204;&nbsp;&#8204;&nbsp;&#8204;&nbsp;&#8204;\\n                &nbsp;&#8204;&nbsp;&#8204;&nbsp;&#8204;&nbsp;&#8204;&nbsp;&#8204;&nbsp;&#8204;&nbsp;&#8204;&nbsp;&#8204;&nbsp;&#8204;\\n                &nbsp;&#8204;&nbsp;&#8204;&nbsp;&#8204;&nbsp;&#8204;&nbsp;&#8204;&nbsp;&#8204;&nbsp;&#8204;&nbsp;&#8204;&nbsp;&#8204;\\n                &nbsp;&#8204;&nbsp;&#8204;&nbsp;&#8204;&nbsp;&#8204;&nbsp;&#8204;&nbsp;&#8204;&nbsp;&#8204;&nbsp;&#8204;&nbsp;&#8204;\\n                &nbsp;&#8204;&nbsp;&#8204;&nbsp;&#8204;&nbsp;&#8204;&nbsp;&#8204;&nbsp;&#8204;&nbsp;&#8204;&nbsp;&#8204;&nbsp;&#8204;\\n                &nbsp;&#8204;&nbsp;&#8204;&nbsp;&#8204;&nbsp;&#8204;&nbsp;&#8204;&nbsp;&#8204;&nbsp;&#8204;&nbsp;&#8204;&nbsp;&#8204;\\n                &nbsp;&#8204;&nbsp;&#8204;&nbsp;&#8204;&nbsp;&#8204;&nbsp;&#8204;&nbsp;&#8204;&nbsp;&#8204;&nbsp;&#8204;&nbsp;&#8204;\\n                &nbsp;&#8204;&nbsp;&#8204;&nbsp;&#8204;&nbsp;&#8204;&nbsp;&#8204;&nbsp;&#8204;&nbsp;&#8204;&nbsp;&#8204;&nbsp;&#8204;\\n                &nbsp;&#8204;&nbsp;&#8204;&nbsp;&#8204;&nbsp;&#8204;&nbsp;&#8204;&nbsp;&#8204;&nbsp;&#8204;&nbsp;&#8204;&nbsp;&#8204;\\n                &nbsp;&#8204;&nbsp;&#8204;&nbsp;&#8204;&nbsp;&#8204;&nbsp;&#8204;&nbsp;&#8204;&nbsp;&#8204;&nbsp;&#8204;&nbsp;&#8204;\\n                &nbsp;&#8204;&nbsp;&#8204;&nbsp;&#8204;&nbsp;&#8204;&nbsp;&#8204;&nbsp;&#8204;&nbsp;&#8204;&nbsp;&#8204;&nbsp;&#8204;\\n                &nbsp;&#8204;&nbsp;&#8204;&nbsp;&#8204;&nbsp;&#8204;&nbsp;&#8204;&nbsp;&#8204;&nbsp;&#8204;&nbsp;&#8204;&nbsp;&#8204;\\n                &nbsp;&#8204;&nbsp;&#8204;&nbsp;&#8204;&nbsp;&#8204;&nbsp;&#8204;&nbsp;&#8204;&nbsp;&#8204;&nbsp;&#8204;&nbsp;&#8204;\\n                &nbsp;&#8204;&nbsp;&#8204;&nbsp;&#8204;&nbsp;&#8204;&nbsp;&#8204;&nbsp;&#8204;&nbsp;&#8204;&nbsp;&#8204;&nbsp;&#8204;\\n                &nbsp;&#8204;&nbsp;&#8204;&nbsp;&#8204;&nbsp;&#8204;&nbsp;&#8204;&nbsp;&#8204;&nbsp;&#8204;&nbsp;&#8204;&nbsp;&#8204;\\n                &nbsp;&#8204;&nbsp;&#8204;&nbsp;&#8204;&nbsp;&#8204;&nbsp;&#8204;&nbsp;&#8204;&nbsp;&#8204;&nbsp;&#8204;&nbsp;&#8204;\\n                &nbsp;&#8204;&nbsp;&#8204;&nbsp;&#8204;&nbsp;&#8204;&nbsp;&#8204;&nbsp;&#8204;&nbsp;&#8204;&nbsp;&#8204;&nbsp;&#8204;\\n                &nbsp;&#8204;&nbsp;&#8204;&nbsp;&#8204;&nbsp;&#8204;&nbsp;&#8204;&nbsp;&#8204;&nbsp;&#8204;&nbsp;&#8204;&nbsp;&#8204;\\n                &nbsp;&#8204;&nbsp;&#8204;&nbsp;&#8204;&nbsp;&#8204;&nbsp;&#8204;&nbsp;&#8204;&nbsp;&#8204;&nbsp;&#8204;&nbsp;&#8204;\\n                &nbsp;&#8204;&nbsp;&#8204;&nbsp;&#8204;&nbsp;&#8204;&nbsp;&#8204;&nbsp;&#8204;&nbsp;&#8204;&nbsp;&#8204;&nbsp;&#8204;\\n                &nbsp;&#8204;&nbsp;&#8204;&nbsp;&#8204;&nbsp;&#8204;&nbsp;&#8204;&nbsp;&#8204;&nbsp;&#8204;&nbsp;&#8204;&nbsp;&#8204;\\n                &nbsp;&#8204;&nbsp;&#8204;&nbsp;&#8204;&nbsp;&#8204;&nbsp;&#8204;&nbsp;&#8204;&nbsp;&#8204;&nbsp;&#8204;&nbsp;&#8204;\\n                &nbsp;&#8204;&nbsp;&#8204;&nbsp;&#8204;&nbsp;&#8204;&nbsp;&#8204;&nbsp;&#8204;&nbsp;&#8204;&nbsp;&#8204;&nbsp;&#8204;\\n                &nbsp;&#8204;&nbsp;&#8204;&nbsp;&#8204;&nbsp;&#8204;&nbsp;&#8204;&nbsp;&#8204;&nbsp;&#8204;&nbsp;&#8204;&nbsp;&#8204;\\n                &nbsp;&#8204;&nbsp;&#8204;&nbsp;&#8204;&nbsp;&#8204;&nbsp;&#8204;&nbsp;&#8204;&nbsp;&#8204;&nbsp;&#8204;&nbsp;&#8204;\\n                &nbsp;&#8204;&nbsp;&#8204;&nbsp;&#8204;&nbsp;&#8204;&nbsp;&#8204;&nbsp;&#8204;&nbsp;&#8204;&nbsp;&#8204;&nbsp;&#8204;\\n                &nbsp;&#8204;&nbsp;&#8204;&nbsp;&#8204;&nbsp;&#8204;&nbsp;&#8204;&nbsp;&#8204;&nbsp;&#8204;&nbsp;&#8204;&nbsp;&#8204;\\n                &nbsp;&#8204;&nbsp;&#8204;&nbsp;&#8204;&nbsp;&#8204;&nbsp;&#8204;&nbsp;&#8204;&nbsp;&#8204;&nbsp;&#8204;&nbsp;&#8204;\\n                &nbsp;&#8204;&nbsp;&#8204;&nbsp;&#8204;&nbsp;&#8204;&nbsp;&#8204;&nbsp;&#8204;&nbsp;&#8204;&nbsp;&#8204;&nbsp;&#8204;\\n                &nbsp;&#8204;&nbsp;&#8204;&nbsp;&#8204;&nbsp;&#8204;&nbsp;&#8204;&nbsp;&#8204;&nbsp;&#8204;&nbsp;&#8204;&nbsp;&#8204;\\n                &nbsp;&#8204;&nbsp;&#8204;&nbsp;&#8204;&nbsp;&#8204;&nbsp;&#8204;&nbsp;&#8204;&nbsp;&#8204;&nbsp;&#8204;&nbsp;&#8204;\\n                &nbsp;&#8204;&nbsp;&#8204;&nbsp;&#8204;&nbsp;&#8204;&nbsp;&#8204;&nbsp;&#8204;&nbsp;&#8204;&nbsp;&#8204;&nbsp;&#8204;\\n                &nbsp;&#8204;&nbsp;&#8204;&nbsp;&#8204;&nbsp;&#8204;&nbsp;&#8204;&nbsp;&#8204;&nbsp;&#8204;&nbsp;&#8204;&nbsp;&#8204;\\n              </td>\\n            </tr>\\n\\n            <tr>\\n              <td style=\"padding:24px 0 0;\" colspan=\"2\">&nbsp;</td>\\n            </tr>\\n\\n            <tr>\\n              <td style=\"padding:4px 0; width:162px;\" colspan=\"2\" align=\"left\">\\n                <table>\\n                  <tbody>\\n                    <tr>\\n                      <td style=\"padding:0 18px 0 0; width:162px;\" align=\"left\">\\n                        <a style=\"display:inline-block;\" href=\"https://www.indiehackers.com?utm_campaign=digest-daily&utm_medium=email&utm_source=indie-hackers-emails\" target=\"_blank\">\\n                          <img align=\"center\" alt=\"Indie Hackers\" src=\"https://storage.googleapis.com/indie-hackers.appspot.com/mailing-list/digest/ih-logo.png\" height=\"28\" width=\"162\">\\n                        </a>\\n                      </td>\\n                      <td style=\"border-left: 2px solid hsl(209, 10%, 92%); padding:0 0 0 18px;\" align=\"left\">\\n                        <p style=\"color:hsl(209, 15%, 28%); font-size:17px; font-family:BlinkMacSystemFont,\\'Helvetica Neue\\',Helvetica,Arial,sans-serif; font-weight:600; line-height:1.35em; margin:0; white-space:nowrap;\">\\n                          Your Community Digest\\n                        </p>\\n                      </td>\\n                    </tr>\\n                  </tbody>\\n                </table>\\n              </td>\\n            </tr>\\n\\n            \\n              <tr>\\n                <td style=\"border-bottom: 2px solid hsl(209, 10%, 92%); padding:40px 0 0;\">\\n                  <p style=\"color:hsl(210, 10%, 40%); font-size:20px; font-weight:500; font-family:Roboto,RobotoDraft,\\'Helvetica Neue\\',Helvetica,Arial,BlinkMacSystemFont,sans-serif; line-height:1.35em; margin:0;\">\\n                    People You Follow\\n                  </p>\\n                </td>\\n                <td style=\"border-bottom: 2px solid hsl(209, 10%, 92%); padding:40px 0 0;\" align=\"right\">\\n                  \\n                </td>\\n              </tr>\\n\\n              \\n                <tr>\\n                  <td colspan=\"2\">\\n                    <table>\\n                      <tbody>\\n                        <tr>\\n                          <td style=\"padding:24px 10px 0 0; width:26px;\">\\n                            \\n                              <a style=\"color:hsl(209, 10%, 50%) !important; display:inline-block; font-family:BlinkMacSystemFont,\\'Helvetica Neue\\',Helvetica,Arial,sans-serif; line-height:1.5em; text-decoration:none;\" href=\"https://www.indiehackers.com/csallen?utm_campaign=digest-daily&utm_medium=email&utm_source=indie-hackers-emails\" target=\"_blank\">\\n                                <img style=\"border-radius:9999px; height:26px; vertical-align:middle; width:26px;\" src=\"https://storage.googleapis.com/indie-hackers.appspot.com/avatars/72x72_ibTLPyjwVebnZjMGKvz6ztarnuV2\">\\n                              </a>\\n                            \\n                          </td>\\n                          <td style=\"padding:24px 0 0;\">\\n                            <p style=\"margin:0; padding:0;\">\\n                              <a style=\"color:hsl(210, 80%, 60%); font-size:17px; font-family:Roboto,RobotoDraft,\\'Helvetica Neue\\',Helvetica,Arial,BlinkMacSystemFont,sans-serif; font-weight:bold; line-height:22.5px; text-decoration:none;\" href=\"https://www.indiehackers.com/post/what-are-the-best-coffee-shops-to-work-from-in-sf-1f9ce07a5b?utm_campaign=digest-daily&utm_medium=email&utm_source=indie-hackers-emails\" target=\"_blank\">\\n                                What are the best coffee shops to work from in SF?\\n                              </a>\\n                            </p>\\n                          </td>\\n                        </tr>\\n                        <tr>\\n                          <td style=\"padding:6px 0 0;\"></td>\\n                          <td style=\"padding:6px 0 0;\">\\n                            <p style=\"color:hsl(0, 0%, 34%) !important; font-family:BlinkMacSystemFont,\\'Helvetica Neue\\',Helvetica,Arial,sans-serif; font-size:16px; line-height:1.5em; margin:0; padding:0;\">\\n                              <a style=\"border-bottom:2px solid hsl(209, 10%, 92%); color:hsl(210, 10%, 10%) !important; font-family:BlinkMacSystemFont,\\'Helvetica Neue\\',Helvetica,Arial,sans-serif; font-size:16px; line-height:1.5em; text-decoration:none;\" href=\"https://www.indiehackers.com/post/what-are-the-best-coffee-shops-to-work-from-in-sf-1f9ce07a5b?utm_campaign=digest-daily&utm_medium=email&utm_source=indie-hackers-emails\" target=\"_blank\">\\n                                I don\\'t work from coffee shops often, but I\\'d like to a bit more. Every now and then I discover a seemingly great place, only to discover that it doesn\\'t have wifi for example. I d...\\n                              </a>\\n                            </p>\\n                            <p style=\"font-size:14px; margin:7px 0 0 0; padding:0;\">\\n                              <a style=\"border-bottom:2px solid hsl(209, 10%, 92%); color:hsl(209, 10%, 50%) !important; font-family:BlinkMacSystemFont,\\'Helvetica Neue\\',Helvetica,Arial,sans-serif; line-height:1.5em; text-decoration:none;\" href=\"https://www.indiehackers.com/csallen?utm_campaign=digest-daily&utm_medium=email&utm_source=indie-hackers-emails\" target=\"_blank\">by csallen</a>\\n                              <span style=\"margin: 0 5px; color: hsl(0,0%,50%)!important;\">&#8226;</span>\\n                              <a style=\"border-bottom:2px solid hsl(209, 10%, 92%); color:hsl(209, 10%, 50%) !important; font-family:BlinkMacSystemFont,\\'Helvetica Neue\\',Helvetica,Arial,sans-serif; line-height:1.5em; text-decoration:none;\" href=\"https://www.indiehackers.com/post/what-are-the-best-coffee-shops-to-work-from-in-sf-1f9ce07a5b?utm_campaign=digest-daily&utm_medium=email&utm_source=indie-hackers-emails\" target=\"_blank\">\\n                                6 comments\\n                                \\n                              </a>\\n                            </p>\\n                          </td>\\n                        </tr>\\n                      </tbody>\\n                    </table>\\n                  </td>\\n                </tr>\\n              \\n            \\n\\n            <tr>\\n              <td style=\"padding:38px 0;\" colspan=\"2\">\\n                <div style=\"border-top: 2px solid hsl(209, 10%, 92%)\"></div>\\n              </td>\\n            </tr>\\n\\n            <tr>\\n              <td style=\"padding:0 0 38px;\" colspan=\"2\">\\n                <table style=\"width:100%;\">\\n                  <tbody>\\n                    <tr>\\n                      <td style=\"color:hsl(0, 0%, 50%); font-family:BlinkMacSystemFont,\\'Helvetica Neue\\',Helvetica,Arial,sans-serif; font-size:13px; line-height:18.75px; text-align:center;\">\\n                        <p style=\"margin:0; padding:0;\">\\n                          <a style=\"color:hsl(0, 0%, 50%);\" href=\"https://www.indiehackers.com?utm_campaign=digest-daily&utm_medium=email&utm_source=indie-hackers-emails\">Indie Hackers</a>, 510 Townsend Street, San Francisco, CA 94103\\n                        </p>\\n                        <p style=\"margin:1em 0 0; padding:0;\">\\n                          You receive these emails when there\\'s new activity from the people, products, and groups you subscribe to on Indie Hackers. Click here to <a style=\"color:hsl(0, 0%, 50%); text-decoration:underline;\" href=\"https://www.indiehackers.com/email-settings?k=SzNyUjN1dXRYSVZSbzFkUXZzcExKVVFDNFlqMQ%3D%3D&t=digest&a=unsubscribe&e=avrahamjacobsohn%40gmail.com&c=ZDM0ZmUxNmQ5NWQ3NQ%3D%3D&utm_campaign=digest-daily&utm_medium=email&utm_source=indie-hackers-emails\">unsubscribe</a>.\\n                        </p>\\n                      </td>\\n                    </tr>\\n                  </tbody>\\n                </table>\\n              </td>\\n            </tr>\\n          </tbody>\\n        </table>\\n      </td>\\n    </tr>\\n  </tbody>\\n</table>\\n<!--[if mso]>\\n</td></tr></table></center>\\n<![endif]--><img src=\"https://ea.pstmrk.it/open/v3_ZTKEq-qsq5BhnIS_S4yhMRyjyjQU2Y28YFgPysDZ01MUJzDA4tSOGkPbXIgLh83Vsqs6r043RQbFKqdDz0L_YJu_U_PFIfUPFrNLh-c8G-MOmxsj8axSABesqDsPSA2udH6qIlac5gGdKvzwYuV7u8N2ICcc2wFgXxtZ-oGDUDs09Kj0vrjGwG0TEvIvYt1YUDUjwAsGm5_iTucws4RpVilYw3CkM6FdbOfuFhRqh_6KnD_VCGBIWwROzv7aAeX7LNVkuMpLr1pUPCQVp43MXYuKG3qdyoRKzxXkhMZmi4pNPMkJXw1vVYj76T1X3sbhYLgXUwPZW7LTQZ-Z7lo6IRFYuzQyG47qBJNSMI8Y01dS2gck9FuUAMsl03Wz4dO10BoyUpQv9u7mFA_H-uLnN9gI4o6M9h9flIIJLVicxxyMw3xNnh-xWI-DpBeNGEEW-ISAm5Ei9p6gq3waCjaUMkiKg9-Mw6i6QFSyzCBt-WM\" width=\"1\" height=\"1\" border=\"0\" alt=\"\" /></body></html>\\r\\n\\r\\n'"
      ]
     },
     "execution_count": 139,
     "metadata": {
      "tags": []
     },
     "output_type": "execute_result"
    }
   ],
   "source": [
    "msg = email.message_from_string(data[0][1].decode())\n",
    "\n",
    "msg.get_payload(decode=1)"
   ]
  },
  {
   "cell_type": "code",
   "execution_count": null,
   "metadata": {
    "colab": {},
    "colab_type": "code",
    "id": "1jCwvRzMxRTh"
   },
   "outputs": [],
   "source": [
    "\n",
    "html_text_ids = html_text_emails['Id'].values\n",
    "csv_file = open('html_email_text_with_imp_info.csv', 'w', encoding='UTF-8')\n",
    "#csv_file2 = open('email_text_with_all_info.csv')\n",
    "csv_writer = csv.writer(csv_file)\n",
    "#csv_writer2 = csv.writer(csv_file2)\n",
    "csv_writer.writerow(['id', 'from_', 'subject', 'message', 'content_type',\n",
    "                     'dkim_signature', 'arc_message_signature'])\n",
    "#csv_writer2.writerrow(['id', 'from_', 'subject', 'message', ])\n",
    "for di in plain_text_ids:\n",
    "  typ, data = mail.fetch(str(di).encode(), '(UID BODY[TEXT])')\n",
    "  typ2, data2 = mail.fetch(str(di).encode(), '(RFC822)')\n",
    "  msg = email.message_from_string(data[0][1].decode())\n",
    "  msg = msg.get_payload()\n",
    "  msg = ''.join(msg.split('=\\r\\n'))\n",
    "  msg = ' '.join(msg.split('\\r\\n'))\n",
    "  msg = ' '.join(msg.split('\\n'))\n",
    "  msg = ' '.join(msg.split('\\t'))\n",
    "  msg = ' '.join(msg.split('=0A'))\n",
    "  print(di, msg[:50])\n",
    "  msg2 = email.message_from_string(data2[0][1].decode())\n",
    "  content_type = msg2['Content-Type']\n",
    "  from_ = msg2['From']\n",
    "  subject = msg2['subject']\n",
    "  dkim_signature = msg2['DKIM-Signature']\n",
    "  arc_message_signature = msg2['ARC-Message-Signature']\n",
    "  csv_writer.writerow([di, from_, subject, msg, content_type,\n",
    "                       dkim_signature, arc_message_signature])"
   ]
  },
  {
   "cell_type": "markdown",
   "metadata": {
    "colab_type": "text",
    "id": "jBLud3dBppGP"
   },
   "source": [
    "# Part 2: Use IDS from plain text emails to get the body of those emails"
   ]
  },
  {
   "cell_type": "code",
   "execution_count": null,
   "metadata": {
    "colab": {},
    "colab_type": "code",
    "id": "DbhoTp-bl3sj"
   },
   "outputs": [],
   "source": [
    "ORG_EMAIL = '@gmail.com'\n",
    "FROM_EMAIL = '' + ORG_EMAIL\n",
    "FROM_PWD = ''\n",
    "SMTP_SERVER = 'imap.gmail.com'\n",
    "SMTP_PORT = 993"
   ]
  },
  {
   "cell_type": "code",
   "execution_count": 7,
   "metadata": {
    "colab": {
     "base_uri": "https://localhost:8080/",
     "height": 34
    },
    "colab_type": "code",
    "id": "cSwfrjhBl-UI",
    "outputId": "dffd67bb-188f-435f-a4b2-0cc41df5fc86"
   },
   "outputs": [
    {
     "data": {
      "text/plain": [
       "('OK', [b'31900'])"
      ]
     },
     "execution_count": 7,
     "metadata": {
      "tags": []
     },
     "output_type": "execute_result"
    }
   ],
   "source": [
    "mail = imaplib.IMAP4_SSL(SMTP_SERVER)\n",
    "mail.login(FROM_EMAIL, FROM_PWD)\n",
    "mail.select('inbox')"
   ]
  },
  {
   "cell_type": "code",
   "execution_count": null,
   "metadata": {
    "colab": {},
    "colab_type": "code",
    "id": "lzZrsGz_Os0v"
   },
   "outputs": [],
   "source": [
    "typ, data = mail.fetch('25313'.encode(), '(RFC822)')"
   ]
  },
  {
   "cell_type": "code",
   "execution_count": null,
   "metadata": {
    "colab": {},
    "colab_type": "code",
    "id": "VFWJj_XNP7_a"
   },
   "outputs": [],
   "source": [
    "message = email.message_from_string(data[0][1].decode())\n"
   ]
  },
  {
   "cell_type": "code",
   "execution_count": 154,
   "metadata": {
    "colab": {
     "base_uri": "https://localhost:8080/",
     "height": 52
    },
    "colab_type": "code",
    "id": "D9UJHz8dGvtT",
    "outputId": "020fb627-6e7e-446b-b1a6-419527fae201"
   },
   "outputs": [
    {
     "data": {
      "text/plain": [
       "[<email.message.Message at 0x7f3a7f4a86a0>,\n",
       " <email.message.Message at 0x7f3a7f4a85c0>]"
      ]
     },
     "execution_count": 154,
     "metadata": {
      "tags": []
     },
     "output_type": "execute_result"
    }
   ],
   "source": [
    "one = message.get_payload()[0].get_payload()\n",
    "#one.get_payload()[0]\n",
    "one"
   ]
  },
  {
   "cell_type": "code",
   "execution_count": null,
   "metadata": {
    "colab": {},
    "colab_type": "code",
    "id": "W837xCYbvnDs"
   },
   "outputs": [],
   "source": [
    "message.get_payload()[1].get_payload()"
   ]
  },
  {
   "cell_type": "code",
   "execution_count": null,
   "metadata": {
    "colab": {},
    "colab_type": "code",
    "id": "Vi7RV7_4Qbaj"
   },
   "outputs": [],
   "source": [
    "for key in message.keys():\n",
    "  print(key, ':', message[key])"
   ]
  },
  {
   "cell_type": "code",
   "execution_count": null,
   "metadata": {
    "colab": {
     "base_uri": "https://localhost:8080/",
     "height": 34
    },
    "colab_type": "code",
    "id": "o-zqHEQLQy_F",
    "outputId": "322403b4-315e-4b02-e2a4-598365f0fbbd"
   },
   "outputs": [
    {
     "data": {
      "text/plain": [
       "'multipart/mixed;\\r\\n\\tboundary=\"_004_4E2F43E4894544A696C2F55892387D4Bbuildingblockstherapyor_\"'"
      ]
     },
     "execution_count": 42,
     "metadata": {
      "tags": []
     },
     "output_type": "execute_result"
    }
   ],
   "source": [
    "message['Content-Type']"
   ]
  },
  {
   "cell_type": "code",
   "execution_count": null,
   "metadata": {
    "colab": {
     "base_uri": "https://localhost:8080/",
     "height": 34
    },
    "colab_type": "code",
    "id": "Uk8KshpaQ4xW",
    "outputId": "1a014a4f-602c-4c00-ff79-f6f4fa596c8d"
   },
   "outputs": [
    {
     "data": {
      "text/plain": [
       "19"
      ]
     },
     "execution_count": 43,
     "metadata": {
      "tags": []
     },
     "output_type": "execute_result"
    }
   ],
   "source": [
    "message['Content-Type'].find('boundary')"
   ]
  },
  {
   "cell_type": "code",
   "execution_count": null,
   "metadata": {
    "colab": {
     "base_uri": "https://localhost:8080/",
     "height": 69
    },
    "colab_type": "code",
    "id": "EBMA32-alp2Z",
    "outputId": "c9a81f7d-981d-4cdb-cda0-5b09634f4a2c"
   },
   "outputs": [
    {
     "name": "stdout",
     "output_type": "stream",
     "text": [
      "\n",
      " <072d8865-20a6-4d04-b87f-31ec3e82fdb7@PRODMAIL01C.corp.speedpay.com>\n",
      "<627979684.2306771.1573223037285.JavaMail.webuser@iaasn00075634.svr.us.jpmchase.net>\n"
     ]
    }
   ],
   "source": [
    "for val in plain_text_ids[:2]:\n",
    "  print(val)\n",
    "  #typ, data = mail.fetch(val, '(UID BODY[TEXT])')"
   ]
  },
  {
   "cell_type": "markdown",
   "metadata": {
    "colab_type": "text",
    "id": "PvXnObWApyrW"
   },
   "source": [
    "# Exploration of parsing using beautiful soup"
   ]
  },
  {
   "cell_type": "code",
   "execution_count": null,
   "metadata": {
    "colab": {},
    "colab_type": "code",
    "id": "AAvKQejWPDhE"
   },
   "outputs": [],
   "source": [
    "import email\n",
    "import imaplib\n",
    "from bs4 import BeautifulSoup\n",
    "\n",
    "def read_email_from_gmail(uid):\n",
    "  FROM_EMAIL = ''\n",
    "  FROM_PWD = ''\n",
    "  domain_start = FROM_EMAIL.index('@')\n",
    "  SMTP_SERVER = 'imap.' + FROM_EMAIL[domain_start+1:]\n",
    "  SMTP_PORT = 993\n",
    "\n",
    "  try:\n",
    "    mail = imaplib.IMAP4_SSL(SMTP_SERVER)\n",
    "    mail.login(FROM_EMAIL, FROM_PWD)\n",
    "    mail.select('inbox')\n",
    "\n",
    "    typ, data = mail.fetch(str(uid).encode(), '(UID BODY[TEXT])')\n",
    "\n",
    "    for response_part in data:\n",
    "      if isinstance(response_part, tuple):\n",
    "        soup = BeautifulSoup(data[0][1].decode(), 'lxml')\n",
    "        soup_body = str(soup.find_all('body'))\n",
    "        linked_body = ''.join(soup_body.split('=\\r\\n'))\n",
    "        body = ' '.join(linked_body.split('\\r\\n'))\n",
    "        #try:\n",
    "\n",
    "  except Exception as inst:\n",
    "    raise\n",
    "\n",
    "  return body"
   ]
  },
  {
   "cell_type": "code",
   "execution_count": null,
   "metadata": {
    "colab": {},
    "colab_type": "code",
    "id": "0228-3xiR0ix"
   },
   "outputs": [],
   "source": [
    "read_email_from_gmail(25523)"
   ]
  },
  {
   "cell_type": "code",
   "execution_count": null,
   "metadata": {
    "colab": {},
    "colab_type": "code",
    "id": "PxWJcskkQM_d"
   },
   "outputs": [],
   "source": [
    "some_ids = [25523, 25547, 25550, 25536, 25509]\n",
    "for uid in some_ids:\n",
    "  print(len(read_email_from_gmail(uid)))\n",
    "  print(read_email_from_gmail(uid))"
   ]
  }
 ],
 "metadata": {
  "colab": {
   "collapsed_sections": [],
   "name": "some_funcs_and_saved_csv.ipynb",
   "provenance": []
  },
  "kernelspec": {
   "display_name": "Python 3",
   "language": "python",
   "name": "python3"
  },
  "language_info": {
   "codemirror_mode": {
    "name": "ipython",
    "version": 3
   },
   "file_extension": ".py",
   "mimetype": "text/x-python",
   "name": "python",
   "nbconvert_exporter": "python",
   "pygments_lexer": "ipython3",
   "version": "3.7.4"
  }
 },
 "nbformat": 4,
 "nbformat_minor": 4
}
