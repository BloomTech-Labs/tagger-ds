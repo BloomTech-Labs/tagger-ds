{
  "nbformat": 4,
  "nbformat_minor": 0,
  "metadata": {
    "colab": {
      "name": "email_work.ipynb",
      "provenance": []
    },
    "kernelspec": {
      "name": "python3",
      "display_name": "Python 3"
    }
  },
  "cells": [
    {
      "cell_type": "markdown",
      "metadata": {
        "id": "cqKwZk9xecxV",
        "colab_type": "text"
      },
      "source": [
        "# Merging the first 94 plain text with tags"
      ]
    },
    {
      "cell_type": "code",
      "metadata": {
        "id": "rXGOw6mjbYaK",
        "colab_type": "code",
        "colab": {}
      },
      "source": [
        "import pandas as pd\n",
        "import time\n",
        "import imaplib\n",
        "import email\n",
        "import csv"
      ],
      "execution_count": 0,
      "outputs": []
    },
    {
      "cell_type": "code",
      "metadata": {
        "id": "eRQUMLIVxR_y",
        "colab_type": "code",
        "outputId": "561cec06-b6e7-495b-c67d-aa75595fba29",
        "colab": {
          "base_uri": "https://localhost:8080/",
          "height": 450
        }
      },
      "source": [
        "df = pd.read_csv('/content/email_text_with_imp_info.csv')\n",
        "\n",
        "print(df.shape)\n",
        "\n",
        "df.head()"
      ],
      "execution_count": 0,
      "outputs": [
        {
          "output_type": "stream",
          "text": [
            "(1151, 7)\n"
          ],
          "name": "stdout"
        },
        {
          "output_type": "execute_result",
          "data": {
            "text/html": [
              "<div>\n",
              "<style scoped>\n",
              "    .dataframe tbody tr th:only-of-type {\n",
              "        vertical-align: middle;\n",
              "    }\n",
              "\n",
              "    .dataframe tbody tr th {\n",
              "        vertical-align: top;\n",
              "    }\n",
              "\n",
              "    .dataframe thead th {\n",
              "        text-align: right;\n",
              "    }\n",
              "</style>\n",
              "<table border=\"1\" class=\"dataframe\">\n",
              "  <thead>\n",
              "    <tr style=\"text-align: right;\">\n",
              "      <th></th>\n",
              "      <th>id</th>\n",
              "      <th>from_</th>\n",
              "      <th>subject</th>\n",
              "      <th>message</th>\n",
              "      <th>content_type</th>\n",
              "      <th>dkim_signature</th>\n",
              "      <th>arc_message_signature</th>\n",
              "    </tr>\n",
              "  </thead>\n",
              "  <tbody>\n",
              "    <tr>\n",
              "      <th>0</th>\n",
              "      <td>31780</td>\n",
              "      <td>&lt;grangepayments@westernunionspeedpay.com&gt;</td>\n",
              "      <td>Grange Payment Confirmation</td>\n",
              "      <td>Dear AVRAHAM JACOBSOHN,  This is to confirm th...</td>\n",
              "      <td>text/plain; charset=\"us-ascii\"</td>\n",
              "      <td>NaN</td>\n",
              "      <td>i=1; a=rsa-sha256; c=relaxed/relaxed; d=google...</td>\n",
              "    </tr>\n",
              "    <tr>\n",
              "      <th>1</th>\n",
              "      <td>31779</td>\n",
              "      <td>Chase &lt;no.reply.alerts@chase.com&gt;</td>\n",
              "      <td>Your Debit Card Transaction</td>\n",
              "      <td>This is an Alert to help manage your account e...</td>\n",
              "      <td>text/plain; charset=UTF-8</td>\n",
              "      <td>v=1; a=rsa-sha256; c=relaxed/relaxed; d=chase....</td>\n",
              "      <td>i=1; a=rsa-sha256; c=relaxed/relaxed; d=google...</td>\n",
              "    </tr>\n",
              "    <tr>\n",
              "      <th>2</th>\n",
              "      <td>31738</td>\n",
              "      <td>Amazon Web Services &lt;no-reply-aws@amazon.com&gt;</td>\n",
              "      <td>Resolved 6559329691: Limit Increase: SageMaker</td>\n",
              "      <td>Please let us know if we helped resolve your i...</td>\n",
              "      <td>text/plain; charset=UTF-8</td>\n",
              "      <td>v=1; a=rsa-sha256; q=dns/txt; c=relaxed/simple...</td>\n",
              "      <td>i=1; a=rsa-sha256; c=relaxed/relaxed; d=google...</td>\n",
              "    </tr>\n",
              "    <tr>\n",
              "      <th>3</th>\n",
              "      <td>31693</td>\n",
              "      <td>Lambda Labs &lt;noreply@github.com&gt;</td>\n",
              "      <td>Bernie Durfee added you to the Lambda Labs tea...</td>\n",
              "      <td>You=E2=80=99ve been added to the Labs 18 - Tag...</td>\n",
              "      <td>text/plain;\\r\\n charset=UTF-8</td>\n",
              "      <td>v=1; a=rsa-sha256; c=relaxed/relaxed; d=github...</td>\n",
              "      <td>i=1; a=rsa-sha256; c=relaxed/relaxed; d=google...</td>\n",
              "    </tr>\n",
              "    <tr>\n",
              "      <th>4</th>\n",
              "      <td>31684</td>\n",
              "      <td>Amazon Web Services &lt;no-reply-aws@amazon.com&gt;</td>\n",
              "      <td>Attention required on case 6559329691: Limit I...</td>\n",
              "      <td>Hello,  We haven't heard back from you regardi...</td>\n",
              "      <td>text/plain; charset=UTF-8</td>\n",
              "      <td>v=1; a=rsa-sha256; q=dns/txt; c=relaxed/simple...</td>\n",
              "      <td>i=1; a=rsa-sha256; c=relaxed/relaxed; d=google...</td>\n",
              "    </tr>\n",
              "  </tbody>\n",
              "</table>\n",
              "</div>"
            ],
            "text/plain": [
              "      id  ...                              arc_message_signature\n",
              "0  31780  ...  i=1; a=rsa-sha256; c=relaxed/relaxed; d=google...\n",
              "1  31779  ...  i=1; a=rsa-sha256; c=relaxed/relaxed; d=google...\n",
              "2  31738  ...  i=1; a=rsa-sha256; c=relaxed/relaxed; d=google...\n",
              "3  31693  ...  i=1; a=rsa-sha256; c=relaxed/relaxed; d=google...\n",
              "4  31684  ...  i=1; a=rsa-sha256; c=relaxed/relaxed; d=google...\n",
              "\n",
              "[5 rows x 7 columns]"
            ]
          },
          "metadata": {
            "tags": []
          },
          "execution_count": 2
        }
      ]
    },
    {
      "cell_type": "code",
      "metadata": {
        "id": "V9MFWz0i1KsE",
        "colab_type": "code",
        "outputId": "dd5f32c7-bf21-4669-8e9e-4b91757f33ac",
        "colab": {
          "base_uri": "https://localhost:8080/",
          "height": 34
        }
      },
      "source": [
        "ORG_EMAIL = '@gmail.com'\n",
        "FROM_EMAIL = '' + ORG_EMAIL\n",
        "FROM_PWD = ''\n",
        "SMTP_SERVER = 'imap.gmail.com'\n",
        "SMTP_PORT = 993\n",
        "\n",
        "mail = imaplib.IMAP4_SSL(SMTP_SERVER)\n",
        "mail.login(FROM_EMAIL, FROM_PWD)\n",
        "mail.select('inbox')"
      ],
      "execution_count": 0,
      "outputs": [
        {
          "output_type": "execute_result",
          "data": {
            "text/plain": [
              "('OK', [b'31913'])"
            ]
          },
          "metadata": {
            "tags": []
          },
          "execution_count": 4
        }
      ]
    },
    {
      "cell_type": "code",
      "metadata": {
        "id": "vkPtu6it3HJR",
        "colab_type": "code",
        "outputId": "828225e0-1d00-43c2-8562-9834e8ca1375",
        "colab": {
          "base_uri": "https://localhost:8080/",
          "height": 34
        }
      },
      "source": [
        "typ, data = mail.fetch('31693'.encode(), '(UID RFC822)')\n",
        "uid = int(data[0][0].split()[-3])\n",
        "meta = email.message_from_string(data[0][1].decode())\n",
        "#uid\n",
        "meta['Subject'], uid"
      ],
      "execution_count": 0,
      "outputs": [
        {
          "output_type": "execute_result",
          "data": {
            "text/plain": [
              "('Bernie Durfee added you to the Lambda Labs team Labs 18 - Tagger', 32422)"
            ]
          },
          "metadata": {
            "tags": []
          },
          "execution_count": 19
        }
      ]
    },
    {
      "cell_type": "code",
      "metadata": {
        "id": "j2PoEeM53EY8",
        "colab_type": "code",
        "outputId": "7928764f-8c0e-4a2d-fbe8-be1a82fa939e",
        "colab": {
          "base_uri": "https://localhost:8080/",
          "height": 34
        }
      },
      "source": [
        "typ, data = mail.fetch('31738'.encode(), '(UID RFC822)')\n",
        "uid = int(data[0][0].split()[-3])\n",
        "meta = email.message_from_string(data[0][1].decode())\n",
        "#uid\n",
        "meta['Subject'], uid"
      ],
      "execution_count": 0,
      "outputs": [
        {
          "output_type": "execute_result",
          "data": {
            "text/plain": [
              "('Resolved 6559329691: Limit Increase: SageMaker', 32467)"
            ]
          },
          "metadata": {
            "tags": []
          },
          "execution_count": 18
        }
      ]
    },
    {
      "cell_type": "code",
      "metadata": {
        "id": "5DaKmauQ2-o9",
        "colab_type": "code",
        "outputId": "f6fbda85-c423-49ee-c619-4c769f9efdfe",
        "colab": {
          "base_uri": "https://localhost:8080/",
          "height": 34
        }
      },
      "source": [
        "typ, data = mail.fetch('31779'.encode(), '(UID RFC822)')\n",
        "uid = int(data[0][0].split()[-3])\n",
        "meta = email.message_from_string(data[0][1].decode())\n",
        "#uid\n",
        "meta['Subject'], uid"
      ],
      "execution_count": 0,
      "outputs": [
        {
          "output_type": "execute_result",
          "data": {
            "text/plain": [
              "('Your Debit Card Transaction', 32508)"
            ]
          },
          "metadata": {
            "tags": []
          },
          "execution_count": 17
        }
      ]
    },
    {
      "cell_type": "code",
      "metadata": {
        "id": "wpkRBCuI25Rq",
        "colab_type": "code",
        "outputId": "fd395f7c-568d-4ea2-bc8a-3319e7f04622",
        "colab": {
          "base_uri": "https://localhost:8080/",
          "height": 34
        }
      },
      "source": [
        "typ, data = mail.fetch('31780'.encode(), '(UID RFC822)')\n",
        "uid = int(data[0][0].split()[-3])\n",
        "meta = email.message_from_string(data[0][1].decode())\n",
        "#uid\n",
        "meta['Subject'], uid"
      ],
      "execution_count": 0,
      "outputs": [
        {
          "output_type": "execute_result",
          "data": {
            "text/plain": [
              "('Grange Payment Confirmation', 32509)"
            ]
          },
          "metadata": {
            "tags": []
          },
          "execution_count": 16
        }
      ]
    },
    {
      "cell_type": "code",
      "metadata": {
        "id": "sdjAfnvY1wME",
        "colab_type": "code",
        "outputId": "6aab58f3-85c1-468b-80e9-878980f1dcba",
        "colab": {
          "base_uri": "https://localhost:8080/",
          "height": 34
        }
      },
      "source": [
        "typ, data = mail.fetch('31684'.encode(), '(UID RFC822)')\n",
        "uid = int(data[0][0].split()[-3])\n",
        "meta = email.message_from_string(data[0][1].decode())\n",
        "#uid\n",
        "meta['Subject'], uid"
      ],
      "execution_count": 0,
      "outputs": [
        {
          "output_type": "execute_result",
          "data": {
            "text/plain": [
              "('Attention required on case 6559329691: Limit Increase: SageMaker', 32413)"
            ]
          },
          "metadata": {
            "tags": []
          },
          "execution_count": 15
        }
      ]
    },
    {
      "cell_type": "code",
      "metadata": {
        "id": "psc8LWvc1bY0",
        "colab_type": "code",
        "colab": {}
      },
      "source": [
        "ids = df['id'].values\n",
        "uids = []\n",
        "for di in ids:\n",
        "  typ, data = mail.fetch(str(di).encode(), '(UID RFC822)')\n",
        "  uid = int(data[0][0].split()[-3])\n",
        "  uids.append(uid)"
      ],
      "execution_count": 0,
      "outputs": []
    },
    {
      "cell_type": "code",
      "metadata": {
        "id": "LXZ_4kAH3OQA",
        "colab_type": "code",
        "colab": {}
      },
      "source": [
        "assert len(uids) == len(df)"
      ],
      "execution_count": 0,
      "outputs": []
    },
    {
      "cell_type": "code",
      "metadata": {
        "id": "zFcZJdSw3WDh",
        "colab_type": "code",
        "colab": {}
      },
      "source": [
        "df['uid'] = uids\n",
        "\n",
        "df.head()"
      ],
      "execution_count": 0,
      "outputs": []
    },
    {
      "cell_type": "code",
      "metadata": {
        "id": "WdSzXhQq4J6G",
        "colab_type": "code",
        "colab": {}
      },
      "source": [
        "df.to_csv('all_gmail_plain_w_uid.csv', index=False)"
      ],
      "execution_count": 0,
      "outputs": []
    },
    {
      "cell_type": "markdown",
      "metadata": {
        "id": "eA0j7Lgt5C58",
        "colab_type": "text"
      },
      "source": [
        "### The Emails File"
      ]
    },
    {
      "cell_type": "code",
      "metadata": {
        "id": "QX69DLNn5Huf",
        "colab_type": "code",
        "outputId": "1d265000-4436-401c-cc8f-9d9b80198074",
        "colab": {
          "base_uri": "https://localhost:8080/",
          "height": 311
        }
      },
      "source": [
        "emails = pd.read_csv('/content/the_emails.csv')\n",
        "\n",
        "print(emails.shape)\n",
        "\n",
        "emails.head()"
      ],
      "execution_count": 0,
      "outputs": [
        {
          "output_type": "stream",
          "text": [
            "(2500, 5)\n"
          ],
          "name": "stdout"
        },
        {
          "output_type": "execute_result",
          "data": {
            "text/html": [
              "<div>\n",
              "<style scoped>\n",
              "    .dataframe tbody tr th:only-of-type {\n",
              "        vertical-align: middle;\n",
              "    }\n",
              "\n",
              "    .dataframe tbody tr th {\n",
              "        vertical-align: top;\n",
              "    }\n",
              "\n",
              "    .dataframe thead th {\n",
              "        text-align: right;\n",
              "    }\n",
              "</style>\n",
              "<table border=\"1\" class=\"dataframe\">\n",
              "  <thead>\n",
              "    <tr style=\"text-align: right;\">\n",
              "      <th></th>\n",
              "      <th>UID</th>\n",
              "      <th>From</th>\n",
              "      <th>Subject</th>\n",
              "      <th>Body</th>\n",
              "      <th>Tags</th>\n",
              "    </tr>\n",
              "  </thead>\n",
              "  <tbody>\n",
              "    <tr>\n",
              "      <th>0</th>\n",
              "      <td>31712</td>\n",
              "      <td>\"Target\" &lt;targetnews@em.target.com&gt;</td>\n",
              "      <td>Err:520</td>\n",
              "      <td>This is a multi-part message in MIME format.  ...</td>\n",
              "      <td>['Promotions', 'Shopping']</td>\n",
              "    </tr>\n",
              "    <tr>\n",
              "      <th>1</th>\n",
              "      <td>31711</td>\n",
              "      <td>Chase  &lt;Chase@e.chase.com&gt;</td>\n",
              "      <td>Avraham Jacobsohn, please review: You're eligi...</td>\n",
              "      <td>---=Part.fee9f4.a9e28ba873bcb520.16e41dea84c.b...</td>\n",
              "      <td>['Promotions', 'Finance']</td>\n",
              "    </tr>\n",
              "    <tr>\n",
              "      <th>2</th>\n",
              "      <td>31710</td>\n",
              "      <td>Daily Coding Problem &lt;founders@dailycodingprob...</td>\n",
              "      <td>Daily Coding Problem: Problem #273 [Easy]</td>\n",
              "      <td>----_NmP-e73108035c3e46cf-Part_1 Content-Type:...</td>\n",
              "      <td>['Promotions', 'Productivity']</td>\n",
              "    </tr>\n",
              "    <tr>\n",
              "      <th>3</th>\n",
              "      <td>31709</td>\n",
              "      <td>\"Bitly\" &lt;team@accounts.bitly.com&gt;</td>\n",
              "      <td>All Bitly pros do this...</td>\n",
              "      <td>--_----vuujfciUy5Y38VdWcCnT6A===_37/E9-30401-7...</td>\n",
              "      <td>['Promotions', 'Productivity']</td>\n",
              "    </tr>\n",
              "    <tr>\n",
              "      <th>4</th>\n",
              "      <td>31708</td>\n",
              "      <td>\"Gap Friends &amp; Family\" &lt;gap@email.gap.com&gt;</td>\n",
              "      <td>Back by popular demand: our BEST gifts</td>\n",
              "      <td>This is a multi-part message in MIME format.  ...</td>\n",
              "      <td>['Promotions', 'Shopping']</td>\n",
              "    </tr>\n",
              "  </tbody>\n",
              "</table>\n",
              "</div>"
            ],
            "text/plain": [
              "     UID  ...                            Tags\n",
              "0  31712  ...      ['Promotions', 'Shopping']\n",
              "1  31711  ...       ['Promotions', 'Finance']\n",
              "2  31710  ...  ['Promotions', 'Productivity']\n",
              "3  31709  ...  ['Promotions', 'Productivity']\n",
              "4  31708  ...      ['Promotions', 'Shopping']\n",
              "\n",
              "[5 rows x 5 columns]"
            ]
          },
          "metadata": {
            "tags": []
          },
          "execution_count": 25
        }
      ]
    },
    {
      "cell_type": "code",
      "metadata": {
        "id": "G-kyIIy4b5TA",
        "colab_type": "code",
        "outputId": "ebe73c8d-17a4-462f-bdd4-3baf173108ce",
        "colab": {
          "base_uri": "https://localhost:8080/",
          "height": 52
        }
      },
      "source": [
        "email_meta = pd.read_csv('/content/the_emails.csv')\n",
        "email_data = pd.read_csv('/content/email_text_with_id.csv')\n",
        "\n",
        "print(email_meta.shape)\n",
        "print(email_data.shape)"
      ],
      "execution_count": 0,
      "outputs": [
        {
          "output_type": "stream",
          "text": [
            "(2500, 5)\n",
            "(1151, 2)\n"
          ],
          "name": "stdout"
        }
      ]
    },
    {
      "cell_type": "code",
      "metadata": {
        "id": "vhr7XEHKcGjQ",
        "colab_type": "code",
        "colab": {}
      },
      "source": [
        "email_meta.head()"
      ],
      "execution_count": 0,
      "outputs": []
    },
    {
      "cell_type": "code",
      "metadata": {
        "id": "Ht5OPFZFdhPr",
        "colab_type": "code",
        "colab": {}
      },
      "source": [
        "email_data.head()"
      ],
      "execution_count": 0,
      "outputs": []
    },
    {
      "cell_type": "code",
      "metadata": {
        "id": "uIjyQkRfdU_M",
        "colab_type": "code",
        "colab": {}
      },
      "source": [
        "merged = pd.merge(email_meta, email_data, left_on='UID', right_on='id')"
      ],
      "execution_count": 0,
      "outputs": []
    },
    {
      "cell_type": "code",
      "metadata": {
        "id": "GU2GkPfGdgHO",
        "colab_type": "code",
        "colab": {}
      },
      "source": [
        "merged.to_excel('ninety_four_text_tagged.xlsx', index=False)"
      ],
      "execution_count": 0,
      "outputs": []
    },
    {
      "cell_type": "code",
      "metadata": {
        "id": "pz_KQSdqeUvk",
        "colab_type": "code",
        "colab": {}
      },
      "source": [
        ""
      ],
      "execution_count": 0,
      "outputs": []
    }
  ]
}