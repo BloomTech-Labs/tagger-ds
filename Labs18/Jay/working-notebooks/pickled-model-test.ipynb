{
 "cells": [
  {
   "cell_type": "code",
   "execution_count": 1,
   "metadata": {},
   "outputs": [],
   "source": [
    "import pandas as pd\n",
    "import numpy as np\n",
    "import joblib"
   ]
  },
  {
   "cell_type": "code",
   "execution_count": 23,
   "metadata": {},
   "outputs": [
    {
     "name": "stdout",
     "output_type": "stream",
     "text": [
      "(6500, 6)\n"
     ]
    },
    {
     "data": {
      "text/html": [
       "<div>\n",
       "<style scoped>\n",
       "    .dataframe tbody tr th:only-of-type {\n",
       "        vertical-align: middle;\n",
       "    }\n",
       "\n",
       "    .dataframe tbody tr th {\n",
       "        vertical-align: top;\n",
       "    }\n",
       "\n",
       "    .dataframe thead th {\n",
       "        text-align: right;\n",
       "    }\n",
       "</style>\n",
       "<table border=\"1\" class=\"dataframe\">\n",
       "  <thead>\n",
       "    <tr style=\"text-align: right;\">\n",
       "      <th></th>\n",
       "      <th>id</th>\n",
       "      <th>uid</th>\n",
       "      <th>from_</th>\n",
       "      <th>subject</th>\n",
       "      <th>msg</th>\n",
       "      <th>content_type</th>\n",
       "    </tr>\n",
       "  </thead>\n",
       "  <tbody>\n",
       "    <tr>\n",
       "      <td>0</td>\n",
       "      <td>3501</td>\n",
       "      <td>3671</td>\n",
       "      <td>Camp Regesh &lt;offers@jblasts.com&gt;</td>\n",
       "      <td>Give your child the special feeling of summer</td>\n",
       "      <td>An idyllic summer setting . . .\\r\\nWith 22 maj...</td>\n",
       "      <td>multipart/alternative</td>\n",
       "    </tr>\n",
       "    <tr>\n",
       "      <td>1</td>\n",
       "      <td>3502</td>\n",
       "      <td>3672</td>\n",
       "      <td>jdeal &lt;deals@jdeal.com&gt;</td>\n",
       "      <td>$25 for $45 worth of dry cleaning at Casa Orga...</td>\n",
       "      <td>Its a jdeal!\\r\\n\\r\\n$25 for $45 worth of dry c...</td>\n",
       "      <td>multipart/alternative</td>\n",
       "    </tr>\n",
       "    <tr>\n",
       "      <td>2</td>\n",
       "      <td>3503</td>\n",
       "      <td>3673</td>\n",
       "      <td>Joy of Kosher &lt;offers@jblasts.com&gt;</td>\n",
       "      <td>ATTN: NYC/NJ - Free Jamie Geller Passover Cook...</td>\n",
       "      <td>Joy of Kosher\\r\\n\\r\\nIf you believe this has b...</td>\n",
       "      <td>multipart/alternative</td>\n",
       "    </tr>\n",
       "    <tr>\n",
       "      <td>3</td>\n",
       "      <td>3504</td>\n",
       "      <td>3674</td>\n",
       "      <td>\"Bank of America Alert\" &lt;onlinebanking@ealerts...</td>\n",
       "      <td>Bank of America Alert: Available Balance</td>\n",
       "      <td>&lt;!DOCTYPE html PUBLIC \"-//W3C//DTD HTML 4.01 T...</td>\n",
       "      <td>text/html</td>\n",
       "    </tr>\n",
       "    <tr>\n",
       "      <td>4</td>\n",
       "      <td>3505</td>\n",
       "      <td>3675</td>\n",
       "      <td>\"Hotwire Deals\" &lt;Hotwire@e.Hotwire.com&gt;</td>\n",
       "      <td>Flights up to 40% off - Check out recently fou...</td>\n",
       "      <td>&lt;html&gt;\\r\\n&lt;head&gt;\\r\\n&lt;title&gt;Hotwire&lt;/title&gt; =20...</td>\n",
       "      <td>text/html</td>\n",
       "    </tr>\n",
       "  </tbody>\n",
       "</table>\n",
       "</div>"
      ],
      "text/plain": [
       "     id   uid                                              from_  \\\n",
       "0  3501  3671                   Camp Regesh <offers@jblasts.com>   \n",
       "1  3502  3672                            jdeal <deals@jdeal.com>   \n",
       "2  3503  3673                 Joy of Kosher <offers@jblasts.com>   \n",
       "3  3504  3674  \"Bank of America Alert\" <onlinebanking@ealerts...   \n",
       "4  3505  3675            \"Hotwire Deals\" <Hotwire@e.Hotwire.com>   \n",
       "\n",
       "                                             subject  \\\n",
       "0      Give your child the special feeling of summer   \n",
       "1  $25 for $45 worth of dry cleaning at Casa Orga...   \n",
       "2  ATTN: NYC/NJ - Free Jamie Geller Passover Cook...   \n",
       "3           Bank of America Alert: Available Balance   \n",
       "4  Flights up to 40% off - Check out recently fou...   \n",
       "\n",
       "                                                 msg           content_type  \n",
       "0  An idyllic summer setting . . .\\r\\nWith 22 maj...  multipart/alternative  \n",
       "1  Its a jdeal!\\r\\n\\r\\n$25 for $45 worth of dry c...  multipart/alternative  \n",
       "2  Joy of Kosher\\r\\n\\r\\nIf you believe this has b...  multipart/alternative  \n",
       "3  <!DOCTYPE html PUBLIC \"-//W3C//DTD HTML 4.01 T...              text/html  \n",
       "4  <html>\\r\\n<head>\\r\\n<title>Hotwire</title> =20...              text/html  "
      ]
     },
     "execution_count": 23,
     "metadata": {},
     "output_type": "execute_result"
    }
   ],
   "source": [
    "df = pd.read_csv('../Data/email_data_3500+.csv')\n",
    "\n",
    "print(df.shape)\n",
    "\n",
    "df.head()"
   ]
  },
  {
   "cell_type": "code",
   "execution_count": 24,
   "metadata": {},
   "outputs": [
    {
     "data": {
      "text/plain": [
       "id               0\n",
       "uid              0\n",
       "from_            0\n",
       "subject         26\n",
       "msg              2\n",
       "content_type     0\n",
       "dtype: int64"
      ]
     },
     "execution_count": 24,
     "metadata": {},
     "output_type": "execute_result"
    }
   ],
   "source": [
    "df.isnull().sum()"
   ]
  },
  {
   "cell_type": "code",
   "execution_count": 25,
   "metadata": {},
   "outputs": [
    {
     "data": {
      "text/plain": [
       "id              0\n",
       "uid             0\n",
       "from_           0\n",
       "subject         0\n",
       "msg             0\n",
       "content_type    0\n",
       "dtype: int64"
      ]
     },
     "execution_count": 25,
     "metadata": {},
     "output_type": "execute_result"
    }
   ],
   "source": [
    "df[['subject', 'msg']] = df[['subject', 'msg']].replace(np.nan, '')\n",
    "\n",
    "df.isnull().sum()"
   ]
  },
  {
   "cell_type": "code",
   "execution_count": 26,
   "metadata": {},
   "outputs": [
    {
     "data": {
      "text/html": [
       "<div>\n",
       "<style scoped>\n",
       "    .dataframe tbody tr th:only-of-type {\n",
       "        vertical-align: middle;\n",
       "    }\n",
       "\n",
       "    .dataframe tbody tr th {\n",
       "        vertical-align: top;\n",
       "    }\n",
       "\n",
       "    .dataframe thead th {\n",
       "        text-align: right;\n",
       "    }\n",
       "</style>\n",
       "<table border=\"1\" class=\"dataframe\">\n",
       "  <thead>\n",
       "    <tr style=\"text-align: right;\">\n",
       "      <th></th>\n",
       "      <th>id</th>\n",
       "      <th>uid</th>\n",
       "      <th>from_</th>\n",
       "      <th>subject</th>\n",
       "      <th>msg</th>\n",
       "      <th>content_type</th>\n",
       "      <th>text</th>\n",
       "    </tr>\n",
       "  </thead>\n",
       "  <tbody>\n",
       "    <tr>\n",
       "      <td>0</td>\n",
       "      <td>3501</td>\n",
       "      <td>3671</td>\n",
       "      <td>Camp Regesh &lt;offers@jblasts.com&gt;</td>\n",
       "      <td>Give your child the special feeling of summer</td>\n",
       "      <td>An idyllic summer setting . . .\\r\\nWith 22 maj...</td>\n",
       "      <td>multipart/alternative</td>\n",
       "      <td>Camp Regesh &lt;offers@jblasts.com&gt; Give your chi...</td>\n",
       "    </tr>\n",
       "    <tr>\n",
       "      <td>1</td>\n",
       "      <td>3502</td>\n",
       "      <td>3672</td>\n",
       "      <td>jdeal &lt;deals@jdeal.com&gt;</td>\n",
       "      <td>$25 for $45 worth of dry cleaning at Casa Orga...</td>\n",
       "      <td>Its a jdeal!\\r\\n\\r\\n$25 for $45 worth of dry c...</td>\n",
       "      <td>multipart/alternative</td>\n",
       "      <td>jdeal &lt;deals@jdeal.com&gt; $25 for $45 worth of d...</td>\n",
       "    </tr>\n",
       "    <tr>\n",
       "      <td>2</td>\n",
       "      <td>3503</td>\n",
       "      <td>3673</td>\n",
       "      <td>Joy of Kosher &lt;offers@jblasts.com&gt;</td>\n",
       "      <td>ATTN: NYC/NJ - Free Jamie Geller Passover Cook...</td>\n",
       "      <td>Joy of Kosher\\r\\n\\r\\nIf you believe this has b...</td>\n",
       "      <td>multipart/alternative</td>\n",
       "      <td>Joy of Kosher &lt;offers@jblasts.com&gt; ATTN: NYC/N...</td>\n",
       "    </tr>\n",
       "    <tr>\n",
       "      <td>3</td>\n",
       "      <td>3504</td>\n",
       "      <td>3674</td>\n",
       "      <td>\"Bank of America Alert\" &lt;onlinebanking@ealerts...</td>\n",
       "      <td>Bank of America Alert: Available Balance</td>\n",
       "      <td>&lt;!DOCTYPE html PUBLIC \"-//W3C//DTD HTML 4.01 T...</td>\n",
       "      <td>text/html</td>\n",
       "      <td>\"Bank of America Alert\" &lt;onlinebanking@ealerts...</td>\n",
       "    </tr>\n",
       "    <tr>\n",
       "      <td>4</td>\n",
       "      <td>3505</td>\n",
       "      <td>3675</td>\n",
       "      <td>\"Hotwire Deals\" &lt;Hotwire@e.Hotwire.com&gt;</td>\n",
       "      <td>Flights up to 40% off - Check out recently fou...</td>\n",
       "      <td>&lt;html&gt;\\r\\n&lt;head&gt;\\r\\n&lt;title&gt;Hotwire&lt;/title&gt; =20...</td>\n",
       "      <td>text/html</td>\n",
       "      <td>\"Hotwire Deals\" &lt;Hotwire@e.Hotwire.com&gt; Flight...</td>\n",
       "    </tr>\n",
       "  </tbody>\n",
       "</table>\n",
       "</div>"
      ],
      "text/plain": [
       "     id   uid                                              from_  \\\n",
       "0  3501  3671                   Camp Regesh <offers@jblasts.com>   \n",
       "1  3502  3672                            jdeal <deals@jdeal.com>   \n",
       "2  3503  3673                 Joy of Kosher <offers@jblasts.com>   \n",
       "3  3504  3674  \"Bank of America Alert\" <onlinebanking@ealerts...   \n",
       "4  3505  3675            \"Hotwire Deals\" <Hotwire@e.Hotwire.com>   \n",
       "\n",
       "                                             subject  \\\n",
       "0      Give your child the special feeling of summer   \n",
       "1  $25 for $45 worth of dry cleaning at Casa Orga...   \n",
       "2  ATTN: NYC/NJ - Free Jamie Geller Passover Cook...   \n",
       "3           Bank of America Alert: Available Balance   \n",
       "4  Flights up to 40% off - Check out recently fou...   \n",
       "\n",
       "                                                 msg           content_type  \\\n",
       "0  An idyllic summer setting . . .\\r\\nWith 22 maj...  multipart/alternative   \n",
       "1  Its a jdeal!\\r\\n\\r\\n$25 for $45 worth of dry c...  multipart/alternative   \n",
       "2  Joy of Kosher\\r\\n\\r\\nIf you believe this has b...  multipart/alternative   \n",
       "3  <!DOCTYPE html PUBLIC \"-//W3C//DTD HTML 4.01 T...              text/html   \n",
       "4  <html>\\r\\n<head>\\r\\n<title>Hotwire</title> =20...              text/html   \n",
       "\n",
       "                                                text  \n",
       "0  Camp Regesh <offers@jblasts.com> Give your chi...  \n",
       "1  jdeal <deals@jdeal.com> $25 for $45 worth of d...  \n",
       "2  Joy of Kosher <offers@jblasts.com> ATTN: NYC/N...  \n",
       "3  \"Bank of America Alert\" <onlinebanking@ealerts...  \n",
       "4  \"Hotwire Deals\" <Hotwire@e.Hotwire.com> Flight...  "
      ]
     },
     "execution_count": 26,
     "metadata": {},
     "output_type": "execute_result"
    }
   ],
   "source": [
    "df['text'] = df['from_'] + ' ' + df['subject'] + ' ' + df['msg']\n",
    "\n",
    "df.head()"
   ]
  },
  {
   "cell_type": "code",
   "execution_count": 6,
   "metadata": {},
   "outputs": [
    {
     "data": {
      "text/plain": [
       "id               0\n",
       "uid              0\n",
       "from_            0\n",
       "subject         26\n",
       "msg              2\n",
       "content_type     0\n",
       "text            28\n",
       "dtype: int64"
      ]
     },
     "execution_count": 6,
     "metadata": {},
     "output_type": "execute_result"
    }
   ],
   "source": [
    "df.isnull().sum()"
   ]
  },
  {
   "cell_type": "code",
   "execution_count": 27,
   "metadata": {},
   "outputs": [],
   "source": [
    "vect = joblib.load('vect1.joblib')\n",
    "model = joblib.load('model1.joblib')"
   ]
  },
  {
   "cell_type": "code",
   "execution_count": 28,
   "metadata": {},
   "outputs": [],
   "source": [
    "X = df['text']\n",
    "X = vect.transform(X)\n",
    "\n",
    "preds = model.predict(X)\n",
    "\n",
    "pred_df = pd.DataFrame({'sender': df['from_'],\n",
    "              'subject': df['subject'],\n",
    "              'msg': df['msg'], \n",
    "              'predicted_tags': preds})"
   ]
  },
  {
   "cell_type": "code",
   "execution_count": 29,
   "metadata": {},
   "outputs": [
    {
     "data": {
      "text/plain": [
       "Finance          0.910154\n",
       "Entertainment    0.057538\n",
       "Shopping         0.031077\n",
       "Personal         0.001231\n",
       "Name: predicted_tags, dtype: float64"
      ]
     },
     "execution_count": 29,
     "metadata": {},
     "output_type": "execute_result"
    }
   ],
   "source": [
    "pred_df['predicted_tags'].value_counts(normalize=True)"
   ]
  },
  {
   "cell_type": "code",
   "execution_count": 30,
   "metadata": {},
   "outputs": [
    {
     "data": {
      "text/html": [
       "<div>\n",
       "<style scoped>\n",
       "    .dataframe tbody tr th:only-of-type {\n",
       "        vertical-align: middle;\n",
       "    }\n",
       "\n",
       "    .dataframe tbody tr th {\n",
       "        vertical-align: top;\n",
       "    }\n",
       "\n",
       "    .dataframe thead th {\n",
       "        text-align: right;\n",
       "    }\n",
       "</style>\n",
       "<table border=\"1\" class=\"dataframe\">\n",
       "  <thead>\n",
       "    <tr style=\"text-align: right;\">\n",
       "      <th></th>\n",
       "      <th>sender</th>\n",
       "      <th>subject</th>\n",
       "      <th>msg</th>\n",
       "      <th>predicted_tags</th>\n",
       "    </tr>\n",
       "  </thead>\n",
       "  <tbody>\n",
       "    <tr>\n",
       "      <td>318</td>\n",
       "      <td>\"Chave Jacobsohn\" &lt;chave@designsbyfmc.com&gt;</td>\n",
       "      <td>RE: FW: MB Vineyards Weekly Specials!</td>\n",
       "      <td>K\\r\\n\\r\\n \\r\\n\\r\\nFrom: Avraham Jacobsohn [mai...</td>\n",
       "      <td>Personal</td>\n",
       "    </tr>\n",
       "    <tr>\n",
       "      <td>4982</td>\n",
       "      <td>\"Chave Jacobsohn\" &lt;chave@designsbyfmc.com&gt;</td>\n",
       "      <td>RE: FW: Your Order with MYHABIT (114-9509480-0...</td>\n",
       "      <td>We will discuss later who is paying for these....</td>\n",
       "      <td>Personal</td>\n",
       "    </tr>\n",
       "    <tr>\n",
       "      <td>4983</td>\n",
       "      <td>\"Chave Jacobsohn\" &lt;chave@designsbyfmc.com&gt;</td>\n",
       "      <td>RE: FW: Your Order with MYHABIT (114-9509480-0...</td>\n",
       "      <td>K, See you soon.\\r\\n\\r\\n \\r\\n\\r\\nFrom: Avraham...</td>\n",
       "      <td>Personal</td>\n",
       "    </tr>\n",
       "    <tr>\n",
       "      <td>5129</td>\n",
       "      <td>\"Chave Jacobsohn\" &lt;chave@designsbyfmc.com&gt;</td>\n",
       "      <td>RE: FW: Your Amazon.com order of \"New arrival ...</td>\n",
       "      <td>No problem, next time just give me a heads up....</td>\n",
       "      <td>Personal</td>\n",
       "    </tr>\n",
       "    <tr>\n",
       "      <td>5130</td>\n",
       "      <td>\"b.b. jacobsohn\" &lt;bbjacobsohn7@gmail.com&gt;</td>\n",
       "      <td>Re: FW: Your Amazon.com order of \"New arrival ...</td>\n",
       "      <td>Not me\\r\\nOn May 5, 2014 5:12 PM, \"Chave Jacob...</td>\n",
       "      <td>Personal</td>\n",
       "    </tr>\n",
       "    <tr>\n",
       "      <td>5303</td>\n",
       "      <td>\"Chave Jacobsohn\" &lt;chave@designsbyfmc.com&gt;</td>\n",
       "      <td>RE: FW: Your Amazon.com order of \"DELL STUDIO ...</td>\n",
       "      <td>K\\r\\n\\r\\n=20\\r\\n\\r\\nFrom: Avraham Jacobsohn [m...</td>\n",
       "      <td>Personal</td>\n",
       "    </tr>\n",
       "    <tr>\n",
       "      <td>5806</td>\n",
       "      <td>\"Chave Jacobsohn\" &lt;chave@designsbyfmc.com&gt;</td>\n",
       "      <td>FW: Order delivery inquiry from Amazon custome...</td>\n",
       "      <td>I am really upset, can you go online and see i...</td>\n",
       "      <td>Personal</td>\n",
       "    </tr>\n",
       "    <tr>\n",
       "      <td>6094</td>\n",
       "      <td>\"Chave Jacobsohn\" &lt;Chave@designsbyfmc.com&gt;</td>\n",
       "      <td>=?utf-8?Q?FW:_Gifts_for_Every_Guy:_20%_Off?=\\r...</td>\n",
       "      <td>=20\\r\\n\\r\\n=20\\r\\n\\r\\nFrom: Forever 21 [mailto...</td>\n",
       "      <td>Personal</td>\n",
       "    </tr>\n",
       "  </tbody>\n",
       "</table>\n",
       "</div>"
      ],
      "text/plain": [
       "                                          sender  \\\n",
       "318   \"Chave Jacobsohn\" <chave@designsbyfmc.com>   \n",
       "4982  \"Chave Jacobsohn\" <chave@designsbyfmc.com>   \n",
       "4983  \"Chave Jacobsohn\" <chave@designsbyfmc.com>   \n",
       "5129  \"Chave Jacobsohn\" <chave@designsbyfmc.com>   \n",
       "5130   \"b.b. jacobsohn\" <bbjacobsohn7@gmail.com>   \n",
       "5303  \"Chave Jacobsohn\" <chave@designsbyfmc.com>   \n",
       "5806  \"Chave Jacobsohn\" <chave@designsbyfmc.com>   \n",
       "6094  \"Chave Jacobsohn\" <Chave@designsbyfmc.com>   \n",
       "\n",
       "                                                subject  \\\n",
       "318               RE: FW: MB Vineyards Weekly Specials!   \n",
       "4982  RE: FW: Your Order with MYHABIT (114-9509480-0...   \n",
       "4983  RE: FW: Your Order with MYHABIT (114-9509480-0...   \n",
       "5129  RE: FW: Your Amazon.com order of \"New arrival ...   \n",
       "5130  Re: FW: Your Amazon.com order of \"New arrival ...   \n",
       "5303  RE: FW: Your Amazon.com order of \"DELL STUDIO ...   \n",
       "5806  FW: Order delivery inquiry from Amazon custome...   \n",
       "6094  =?utf-8?Q?FW:_Gifts_for_Every_Guy:_20%_Off?=\\r...   \n",
       "\n",
       "                                                    msg predicted_tags  \n",
       "318   K\\r\\n\\r\\n \\r\\n\\r\\nFrom: Avraham Jacobsohn [mai...       Personal  \n",
       "4982  We will discuss later who is paying for these....       Personal  \n",
       "4983  K, See you soon.\\r\\n\\r\\n \\r\\n\\r\\nFrom: Avraham...       Personal  \n",
       "5129  No problem, next time just give me a heads up....       Personal  \n",
       "5130  Not me\\r\\nOn May 5, 2014 5:12 PM, \"Chave Jacob...       Personal  \n",
       "5303  K\\r\\n\\r\\n=20\\r\\n\\r\\nFrom: Avraham Jacobsohn [m...       Personal  \n",
       "5806  I am really upset, can you go online and see i...       Personal  \n",
       "6094  =20\\r\\n\\r\\n=20\\r\\n\\r\\nFrom: Forever 21 [mailto...       Personal  "
      ]
     },
     "execution_count": 30,
     "metadata": {},
     "output_type": "execute_result"
    }
   ],
   "source": [
    "pred_df[pred_df['predicted_tags'] == 'Personal']"
   ]
  },
  {
   "cell_type": "code",
   "execution_count": 32,
   "metadata": {},
   "outputs": [],
   "source": [
    "sample = df.iloc[0]"
   ]
  },
  {
   "cell_type": "code",
   "execution_count": 35,
   "metadata": {},
   "outputs": [
    {
     "data": {
      "text/plain": [
       "'Finance'"
      ]
     },
     "execution_count": 35,
     "metadata": {},
     "output_type": "execute_result"
    }
   ],
   "source": [
    "X = sample['text']\n",
    "X = vect.transform([X])\n",
    "model.predict(X)[0]"
   ]
  },
  {
   "cell_type": "code",
   "execution_count": null,
   "metadata": {},
   "outputs": [],
   "source": []
  }
 ],
 "metadata": {
  "kernelspec": {
   "display_name": "Python 3",
   "language": "python",
   "name": "python3"
  },
  "language_info": {
   "codemirror_mode": {
    "name": "ipython",
    "version": 3
   },
   "file_extension": ".py",
   "mimetype": "text/x-python",
   "name": "python",
   "nbconvert_exporter": "python",
   "pygments_lexer": "ipython3",
   "version": "3.7.4"
  }
 },
 "nbformat": 4,
 "nbformat_minor": 4
}
