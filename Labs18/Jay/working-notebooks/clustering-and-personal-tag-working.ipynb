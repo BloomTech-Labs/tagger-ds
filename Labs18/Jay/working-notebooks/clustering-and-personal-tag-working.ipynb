{
 "cells": [
  {
   "cell_type": "code",
   "execution_count": 1,
   "metadata": {},
   "outputs": [],
   "source": [
    "import pandas as pd\n",
    "import numpy as np\n",
    "from sklearn.feature_extraction.text import TfidfVectorizer\n",
    "from sklearn.ensemble import RandomForestClassifier"
   ]
  },
  {
   "cell_type": "code",
   "execution_count": 2,
   "metadata": {},
   "outputs": [
    {
     "name": "stdout",
     "output_type": "stream",
     "text": [
      "(11198, 14)\n"
     ]
    },
    {
     "data": {
      "text/html": [
       "<div>\n",
       "<style scoped>\n",
       "    .dataframe tbody tr th:only-of-type {\n",
       "        vertical-align: middle;\n",
       "    }\n",
       "\n",
       "    .dataframe tbody tr th {\n",
       "        vertical-align: top;\n",
       "    }\n",
       "\n",
       "    .dataframe thead th {\n",
       "        text-align: right;\n",
       "    }\n",
       "</style>\n",
       "<table border=\"1\" class=\"dataframe\">\n",
       "  <thead>\n",
       "    <tr style=\"text-align: right;\">\n",
       "      <th></th>\n",
       "      <th>From</th>\n",
       "      <th>Message</th>\n",
       "      <th>Subject</th>\n",
       "      <th>Tags</th>\n",
       "      <th>UID</th>\n",
       "      <th>text</th>\n",
       "      <th>tag_list</th>\n",
       "      <th>first_tag</th>\n",
       "      <th>sender_name</th>\n",
       "      <th>sender_email</th>\n",
       "      <th>domain_name</th>\n",
       "      <th>isNoReply</th>\n",
       "      <th>link_count</th>\n",
       "      <th>clean_text</th>\n",
       "    </tr>\n",
       "  </thead>\n",
       "  <tbody>\n",
       "    <tr>\n",
       "      <th>0</th>\n",
       "      <td>&lt;grangepayments@westernunionspeedpay.com&gt;</td>\n",
       "      <td>Dear AVRAHAM JACOBSOHN,  This is to confirm th...</td>\n",
       "      <td>Grange Payment Confirmation</td>\n",
       "      <td>Finance</td>\n",
       "      <td>31780</td>\n",
       "      <td>&lt;grangepayments@westernunionspeedpay.com&gt; Gran...</td>\n",
       "      <td>['Finance']</td>\n",
       "      <td>Finance</td>\n",
       "      <td>NaN</td>\n",
       "      <td>grangepayments@westernunionspeedpay.com</td>\n",
       "      <td>westernunionspeedpay</td>\n",
       "      <td>False</td>\n",
       "      <td>0</td>\n",
       "      <td>Dear AVRAHAM JACOBSOHN This is to confirm that...</td>\n",
       "    </tr>\n",
       "    <tr>\n",
       "      <th>1</th>\n",
       "      <td>Chase &lt;no.reply.alerts@chase.com&gt;</td>\n",
       "      <td>This is an Alert to help manage your account ...</td>\n",
       "      <td>Your Debit Card Transaction</td>\n",
       "      <td>Finance</td>\n",
       "      <td>31779</td>\n",
       "      <td>Chase &lt;no.reply.alerts@chase.com&gt; Your Debit C...</td>\n",
       "      <td>['Finance']</td>\n",
       "      <td>Finance</td>\n",
       "      <td>Chase</td>\n",
       "      <td>no.reply.alerts@chase.com</td>\n",
       "      <td>chase</td>\n",
       "      <td>True</td>\n",
       "      <td>0</td>\n",
       "      <td>This is an Alert to help manage your account e...</td>\n",
       "    </tr>\n",
       "    <tr>\n",
       "      <th>2</th>\n",
       "      <td>Amazon Web Services &lt;no-reply-aws@amazon.com&gt;</td>\n",
       "      <td>Please let us know if we helped resolve your i...</td>\n",
       "      <td>Resolved 6559329691: Limit Increase: SageMaker</td>\n",
       "      <td>Productivity</td>\n",
       "      <td>31738</td>\n",
       "      <td>Amazon Web Services &lt;no-reply-aws@amazon.com&gt; ...</td>\n",
       "      <td>['Productivity']</td>\n",
       "      <td>Productivity</td>\n",
       "      <td>Amazon Web Services</td>\n",
       "      <td>no-reply-aws@amazon.com</td>\n",
       "      <td>amazon</td>\n",
       "      <td>True</td>\n",
       "      <td>3</td>\n",
       "      <td>Please let us know if we helped resolve your i...</td>\n",
       "    </tr>\n",
       "    <tr>\n",
       "      <th>3</th>\n",
       "      <td>Lambda Labs &lt;noreply@github.com&gt;</td>\n",
       "      <td>Youve been added to the Labs 18 - Tagger team ...</td>\n",
       "      <td>Bernie Durfee added you to the Lambda Labs tea...</td>\n",
       "      <td>Productivity</td>\n",
       "      <td>31693</td>\n",
       "      <td>Lambda Labs &lt;noreply@github.com&gt; Bernie Durfee...</td>\n",
       "      <td>['Productivity']</td>\n",
       "      <td>Productivity</td>\n",
       "      <td>Lambda Labs</td>\n",
       "      <td>noreply@github.com</td>\n",
       "      <td>github</td>\n",
       "      <td>True</td>\n",
       "      <td>2</td>\n",
       "      <td>Youve been added to the Labs Tagger team for t...</td>\n",
       "    </tr>\n",
       "    <tr>\n",
       "      <th>4</th>\n",
       "      <td>Amazon Web Services &lt;no-reply-aws@amazon.com&gt;</td>\n",
       "      <td>Hello,  We haven't heard back from you regard...</td>\n",
       "      <td>Attention required on case 6559329691: Limit I...</td>\n",
       "      <td>Productivity</td>\n",
       "      <td>31684</td>\n",
       "      <td>Amazon Web Services &lt;no-reply-aws@amazon.com&gt; ...</td>\n",
       "      <td>['Productivity']</td>\n",
       "      <td>Productivity</td>\n",
       "      <td>Amazon Web Services</td>\n",
       "      <td>no-reply-aws@amazon.com</td>\n",
       "      <td>amazon</td>\n",
       "      <td>True</td>\n",
       "      <td>2</td>\n",
       "      <td>Hello We haven't heard back from you regarding...</td>\n",
       "    </tr>\n",
       "  </tbody>\n",
       "</table>\n",
       "</div>"
      ],
      "text/plain": [
       "                                            From  \\\n",
       "0      <grangepayments@westernunionspeedpay.com>   \n",
       "1              Chase <no.reply.alerts@chase.com>   \n",
       "2  Amazon Web Services <no-reply-aws@amazon.com>   \n",
       "3               Lambda Labs <noreply@github.com>   \n",
       "4  Amazon Web Services <no-reply-aws@amazon.com>   \n",
       "\n",
       "                                             Message  \\\n",
       "0  Dear AVRAHAM JACOBSOHN,  This is to confirm th...   \n",
       "1   This is an Alert to help manage your account ...   \n",
       "2  Please let us know if we helped resolve your i...   \n",
       "3  Youve been added to the Labs 18 - Tagger team ...   \n",
       "4   Hello,  We haven't heard back from you regard...   \n",
       "\n",
       "                                             Subject          Tags    UID  \\\n",
       "0                        Grange Payment Confirmation       Finance  31780   \n",
       "1                        Your Debit Card Transaction       Finance  31779   \n",
       "2     Resolved 6559329691: Limit Increase: SageMaker  Productivity  31738   \n",
       "3  Bernie Durfee added you to the Lambda Labs tea...  Productivity  31693   \n",
       "4  Attention required on case 6559329691: Limit I...  Productivity  31684   \n",
       "\n",
       "                                                text          tag_list  \\\n",
       "0  <grangepayments@westernunionspeedpay.com> Gran...       ['Finance']   \n",
       "1  Chase <no.reply.alerts@chase.com> Your Debit C...       ['Finance']   \n",
       "2  Amazon Web Services <no-reply-aws@amazon.com> ...  ['Productivity']   \n",
       "3  Lambda Labs <noreply@github.com> Bernie Durfee...  ['Productivity']   \n",
       "4  Amazon Web Services <no-reply-aws@amazon.com> ...  ['Productivity']   \n",
       "\n",
       "      first_tag          sender_name                             sender_email  \\\n",
       "0       Finance                  NaN  grangepayments@westernunionspeedpay.com   \n",
       "1       Finance                Chase                no.reply.alerts@chase.com   \n",
       "2  Productivity  Amazon Web Services                  no-reply-aws@amazon.com   \n",
       "3  Productivity          Lambda Labs                       noreply@github.com   \n",
       "4  Productivity  Amazon Web Services                  no-reply-aws@amazon.com   \n",
       "\n",
       "            domain_name  isNoReply  link_count  \\\n",
       "0  westernunionspeedpay      False           0   \n",
       "1                 chase       True           0   \n",
       "2                amazon       True           3   \n",
       "3                github       True           2   \n",
       "4                amazon       True           2   \n",
       "\n",
       "                                          clean_text  \n",
       "0  Dear AVRAHAM JACOBSOHN This is to confirm that...  \n",
       "1  This is an Alert to help manage your account e...  \n",
       "2  Please let us know if we helped resolve your i...  \n",
       "3  Youve been added to the Labs Tagger team for t...  \n",
       "4  Hello We haven't heard back from you regarding...  "
      ]
     },
     "execution_count": 2,
     "metadata": {},
     "output_type": "execute_result"
    }
   ],
   "source": [
    "df = pd.read_csv('./Downloads/twelve_five.csv')\n",
    "\n",
    "print(df.shape)\n",
    "\n",
    "df.head()"
   ]
  },
  {
   "cell_type": "code",
   "execution_count": 10,
   "metadata": {},
   "outputs": [],
   "source": [
    "df.dropna(subset=['clean_text'], inplace=True)"
   ]
  },
  {
   "cell_type": "code",
   "execution_count": 11,
   "metadata": {},
   "outputs": [
    {
     "data": {
      "text/plain": [
       "False    9779\n",
       "True     1335\n",
       "Name: is_personal, dtype: int64"
      ]
     },
     "execution_count": 11,
     "metadata": {},
     "output_type": "execute_result"
    }
   ],
   "source": [
    "df['is_personal'] = df['Tags'].str.contains('Personal')\n",
    "df.is_personal.value_counts()"
   ]
  },
  {
   "cell_type": "code",
   "execution_count": 12,
   "metadata": {},
   "outputs": [],
   "source": [
    "from sklearn.model_selection import train_test_split"
   ]
  },
  {
   "cell_type": "code",
   "execution_count": 13,
   "metadata": {},
   "outputs": [
    {
     "data": {
      "text/plain": [
       "((8335, 15), (2779, 15))"
      ]
     },
     "execution_count": 13,
     "metadata": {},
     "output_type": "execute_result"
    }
   ],
   "source": [
    "train, test = train_test_split(df, stratify=df['is_personal'])\n",
    "\n",
    "train.shape, test.shape"
   ]
  },
  {
   "cell_type": "code",
   "execution_count": 16,
   "metadata": {},
   "outputs": [
    {
     "data": {
      "text/plain": [
       "((8335,), (8335,), (2779,), (2779,))"
      ]
     },
     "execution_count": 16,
     "metadata": {},
     "output_type": "execute_result"
    }
   ],
   "source": [
    "X_train = train['clean_text']\n",
    "y_train = train['is_personal']\n",
    "\n",
    "X_test = test['clean_text']\n",
    "y_test = test['is_personal']\n",
    "\n",
    "X_train.shape, y_train.shape, X_test.shape, y_test.shape"
   ]
  },
  {
   "cell_type": "code",
   "execution_count": 17,
   "metadata": {},
   "outputs": [
    {
     "data": {
      "text/plain": [
       "((8335, 418436), (2779, 418436))"
      ]
     },
     "execution_count": 17,
     "metadata": {},
     "output_type": "execute_result"
    }
   ],
   "source": [
    "vect = TfidfVectorizer(stop_words='english')\n",
    "\n",
    "X_train = vect.fit_transform(X_train)\n",
    "X_test = vect.transform(X_test)\n",
    "\n",
    "X_train.shape, X_test.shape"
   ]
  },
  {
   "cell_type": "code",
   "execution_count": 18,
   "metadata": {},
   "outputs": [
    {
     "name": "stdout",
     "output_type": "stream",
     "text": [
      "Model accuracy score:  0.8823317740194314\n"
     ]
    }
   ],
   "source": [
    "model = RandomForestClassifier(n_estimators=500, max_depth=10)\n",
    "\n",
    "model.fit(X_train, y_train)\n",
    "\n",
    "print('Model accuracy score: ', model.score(X_test, y_test))\n",
    "\n",
    "preds = model.predict(X_test)"
   ]
  },
  {
   "cell_type": "code",
   "execution_count": 20,
   "metadata": {},
   "outputs": [
    {
     "name": "stderr",
     "output_type": "stream",
     "text": [
      "/home/jay/anaconda3/lib/python3.7/site-packages/ipykernel_launcher.py:1: SettingWithCopyWarning: \n",
      "A value is trying to be set on a copy of a slice from a DataFrame.\n",
      "Try using .loc[row_indexer,col_indexer] = value instead\n",
      "\n",
      "See the caveats in the documentation: http://pandas.pydata.org/pandas-docs/stable/user_guide/indexing.html#returning-a-view-versus-a-copy\n",
      "  \"\"\"Entry point for launching an IPython kernel.\n"
     ]
    },
    {
     "data": {
      "text/html": [
       "<div>\n",
       "<style scoped>\n",
       "    .dataframe tbody tr th:only-of-type {\n",
       "        vertical-align: middle;\n",
       "    }\n",
       "\n",
       "    .dataframe tbody tr th {\n",
       "        vertical-align: top;\n",
       "    }\n",
       "\n",
       "    .dataframe thead th {\n",
       "        text-align: right;\n",
       "    }\n",
       "</style>\n",
       "<table border=\"1\" class=\"dataframe\">\n",
       "  <thead>\n",
       "    <tr style=\"text-align: right;\">\n",
       "      <th></th>\n",
       "      <th>From</th>\n",
       "      <th>Message</th>\n",
       "      <th>Subject</th>\n",
       "      <th>Tags</th>\n",
       "      <th>UID</th>\n",
       "      <th>text</th>\n",
       "      <th>tag_list</th>\n",
       "      <th>first_tag</th>\n",
       "      <th>sender_name</th>\n",
       "      <th>sender_email</th>\n",
       "      <th>domain_name</th>\n",
       "      <th>isNoReply</th>\n",
       "      <th>link_count</th>\n",
       "      <th>clean_text</th>\n",
       "      <th>is_personal</th>\n",
       "      <th>personal_prediction</th>\n",
       "    </tr>\n",
       "  </thead>\n",
       "  <tbody>\n",
       "    <tr>\n",
       "      <th>2063</th>\n",
       "      <td>BC Bursar &lt;BCBursar@brooklyn.cuny.edu&gt;</td>\n",
       "      <td>Dear AVRAHAM JACOBSOHN: \\n\\nEnroll now for CUN...</td>\n",
       "      <td>Enroll now in the CUNY Scholar Support Card</td>\n",
       "      <td>Other</td>\n",
       "      <td>4743</td>\n",
       "      <td>BC Bursar &lt;BCBursar@brooklyn.cuny.edu&gt; Enroll ...</td>\n",
       "      <td>['Other']</td>\n",
       "      <td>Other</td>\n",
       "      <td>BC Bursar</td>\n",
       "      <td>BCBursar@brooklyn.cuny.edu</td>\n",
       "      <td>brooklyn</td>\n",
       "      <td>False</td>\n",
       "      <td>1</td>\n",
       "      <td>Dear AVRAHAM JACOBSOHN Enroll now for CUNY's S...</td>\n",
       "      <td>False</td>\n",
       "      <td>False</td>\n",
       "    </tr>\n",
       "    <tr>\n",
       "      <th>2459</th>\n",
       "      <td>\"PocketFives\" &lt;dancypra@gmail.com&gt;</td>\n",
       "      <td>\\nDear thekill21,\\n\\nThank you for registering...</td>\n",
       "      <td>Action Required to Activate Membership for Poc...</td>\n",
       "      <td>Entertainment</td>\n",
       "      <td>9876</td>\n",
       "      <td>\"PocketFives\" &lt;dancypra@gmail.com&gt; Action Requ...</td>\n",
       "      <td>['Entertainment']</td>\n",
       "      <td>Entertainment</td>\n",
       "      <td>PocketFives</td>\n",
       "      <td>dancypra@gmail.com</td>\n",
       "      <td>gmail</td>\n",
       "      <td>False</td>\n",
       "      <td>4</td>\n",
       "      <td>Dear thekill Thank you for registering at the ...</td>\n",
       "      <td>False</td>\n",
       "      <td>False</td>\n",
       "    </tr>\n",
       "    <tr>\n",
       "      <th>8303</th>\n",
       "      <td>YouTube &lt;noreply@youtube.com&gt;</td>\n",
       "      <td>\\r\\nYour Personal YouTube Digest - Dec 31, 201...</td>\n",
       "      <td>Your Personal YouTube Digest - Dec 31, 2011</td>\n",
       "      <td>Entertainment</td>\n",
       "      <td>1342</td>\n",
       "      <td>YouTube &lt;noreply@youtube.com&gt; Your Personal Yo...</td>\n",
       "      <td>['Entertainment']</td>\n",
       "      <td>Entertainment</td>\n",
       "      <td>YouTube</td>\n",
       "      <td>noreply@youtube.com</td>\n",
       "      <td>youtube</td>\n",
       "      <td>True</td>\n",
       "      <td>10</td>\n",
       "      <td>Your Personal YouTube Digest Dec Here are the ...</td>\n",
       "      <td>False</td>\n",
       "      <td>False</td>\n",
       "    </tr>\n",
       "    <tr>\n",
       "      <th>2666</th>\n",
       "      <td>Amazon Payments &lt;no-reply@amazon.com&gt;</td>\n",
       "      <td>Greetings from Amazon Payments,\\n\\n\\nYou recei...</td>\n",
       "      <td>You received $1.00 from Kalman Jacobsohn sent ...</td>\n",
       "      <td>Finance</td>\n",
       "      <td>22153</td>\n",
       "      <td>Amazon Payments &lt;no-reply@amazon.com&gt; You rece...</td>\n",
       "      <td>['Finance']</td>\n",
       "      <td>Finance</td>\n",
       "      <td>Amazon Payments</td>\n",
       "      <td>no-reply@amazon.com</td>\n",
       "      <td>amazon</td>\n",
       "      <td>True</td>\n",
       "      <td>1</td>\n",
       "      <td>Greetings from Amazon Payments You received a ...</td>\n",
       "      <td>False</td>\n",
       "      <td>False</td>\n",
       "    </tr>\n",
       "    <tr>\n",
       "      <th>3735</th>\n",
       "      <td>Amazon Payments &lt;no-reply@amazon.com&gt;</td>\n",
       "      <td>Greetings from Amazon Payments,\\n\\n\\nYour paym...</td>\n",
       "      <td>Your payment to Kalman Jacobsohn has failed.</td>\n",
       "      <td>Finance</td>\n",
       "      <td>23460</td>\n",
       "      <td>Amazon Payments &lt;no-reply@amazon.com&gt; Your pay...</td>\n",
       "      <td>['Finance']</td>\n",
       "      <td>Finance</td>\n",
       "      <td>Amazon Payments</td>\n",
       "      <td>no-reply@amazon.com</td>\n",
       "      <td>amazon</td>\n",
       "      <td>True</td>\n",
       "      <td>1</td>\n",
       "      <td>Greetings from Amazon Payments Your payment of...</td>\n",
       "      <td>False</td>\n",
       "      <td>False</td>\n",
       "    </tr>\n",
       "  </tbody>\n",
       "</table>\n",
       "</div>"
      ],
      "text/plain": [
       "                                        From  \\\n",
       "2063  BC Bursar <BCBursar@brooklyn.cuny.edu>   \n",
       "2459      \"PocketFives\" <dancypra@gmail.com>   \n",
       "8303           YouTube <noreply@youtube.com>   \n",
       "2666   Amazon Payments <no-reply@amazon.com>   \n",
       "3735   Amazon Payments <no-reply@amazon.com>   \n",
       "\n",
       "                                                Message  \\\n",
       "2063  Dear AVRAHAM JACOBSOHN: \\n\\nEnroll now for CUN...   \n",
       "2459  \\nDear thekill21,\\n\\nThank you for registering...   \n",
       "8303  \\r\\nYour Personal YouTube Digest - Dec 31, 201...   \n",
       "2666  Greetings from Amazon Payments,\\n\\n\\nYou recei...   \n",
       "3735  Greetings from Amazon Payments,\\n\\n\\nYour paym...   \n",
       "\n",
       "                                                Subject           Tags    UID  \\\n",
       "2063        Enroll now in the CUNY Scholar Support Card          Other   4743   \n",
       "2459  Action Required to Activate Membership for Poc...  Entertainment   9876   \n",
       "8303        Your Personal YouTube Digest - Dec 31, 2011  Entertainment   1342   \n",
       "2666  You received $1.00 from Kalman Jacobsohn sent ...        Finance  22153   \n",
       "3735       Your payment to Kalman Jacobsohn has failed.        Finance  23460   \n",
       "\n",
       "                                                   text           tag_list  \\\n",
       "2063  BC Bursar <BCBursar@brooklyn.cuny.edu> Enroll ...          ['Other']   \n",
       "2459  \"PocketFives\" <dancypra@gmail.com> Action Requ...  ['Entertainment']   \n",
       "8303  YouTube <noreply@youtube.com> Your Personal Yo...  ['Entertainment']   \n",
       "2666  Amazon Payments <no-reply@amazon.com> You rece...        ['Finance']   \n",
       "3735  Amazon Payments <no-reply@amazon.com> Your pay...        ['Finance']   \n",
       "\n",
       "          first_tag      sender_name                sender_email domain_name  \\\n",
       "2063          Other        BC Bursar  BCBursar@brooklyn.cuny.edu    brooklyn   \n",
       "2459  Entertainment      PocketFives          dancypra@gmail.com       gmail   \n",
       "8303  Entertainment          YouTube         noreply@youtube.com     youtube   \n",
       "2666        Finance  Amazon Payments         no-reply@amazon.com      amazon   \n",
       "3735        Finance  Amazon Payments         no-reply@amazon.com      amazon   \n",
       "\n",
       "      isNoReply  link_count  \\\n",
       "2063      False           1   \n",
       "2459      False           4   \n",
       "8303       True          10   \n",
       "2666       True           1   \n",
       "3735       True           1   \n",
       "\n",
       "                                             clean_text  is_personal  \\\n",
       "2063  Dear AVRAHAM JACOBSOHN Enroll now for CUNY's S...        False   \n",
       "2459  Dear thekill Thank you for registering at the ...        False   \n",
       "8303  Your Personal YouTube Digest Dec Here are the ...        False   \n",
       "2666  Greetings from Amazon Payments You received a ...        False   \n",
       "3735  Greetings from Amazon Payments Your payment of...        False   \n",
       "\n",
       "      personal_prediction  \n",
       "2063                False  \n",
       "2459                False  \n",
       "8303                False  \n",
       "2666                False  \n",
       "3735                False  "
      ]
     },
     "execution_count": 20,
     "metadata": {},
     "output_type": "execute_result"
    }
   ],
   "source": [
    "test['personal_prediction'] = preds\n",
    "\n",
    "test.head()"
   ]
  },
  {
   "cell_type": "code",
   "execution_count": 22,
   "metadata": {},
   "outputs": [],
   "source": [
    "right = test['is_personal'] == test['personal_prediction']\n",
    "#wrong = test['is_personal'] != test['personal_prediction']\n",
    "\n",
    "bad_preds = test[~right]\n",
    "good_preds = test[right]"
   ]
  },
  {
   "cell_type": "code",
   "execution_count": 23,
   "metadata": {},
   "outputs": [
    {
     "data": {
      "text/plain": [
       "(327, 16)"
      ]
     },
     "execution_count": 23,
     "metadata": {},
     "output_type": "execute_result"
    }
   ],
   "source": [
    "bad_preds.shape"
   ]
  },
  {
   "cell_type": "code",
   "execution_count": 25,
   "metadata": {},
   "outputs": [
    {
     "data": {
      "text/html": [
       "<div>\n",
       "<style scoped>\n",
       "    .dataframe tbody tr th:only-of-type {\n",
       "        vertical-align: middle;\n",
       "    }\n",
       "\n",
       "    .dataframe tbody tr th {\n",
       "        vertical-align: top;\n",
       "    }\n",
       "\n",
       "    .dataframe thead th {\n",
       "        text-align: right;\n",
       "    }\n",
       "</style>\n",
       "<table border=\"1\" class=\"dataframe\">\n",
       "  <thead>\n",
       "    <tr style=\"text-align: right;\">\n",
       "      <th></th>\n",
       "      <th>From</th>\n",
       "      <th>Subject</th>\n",
       "      <th>clean_text</th>\n",
       "      <th>is_personal</th>\n",
       "      <th>personal_prediction</th>\n",
       "    </tr>\n",
       "  </thead>\n",
       "  <tbody>\n",
       "    <tr>\n",
       "      <th>9204</th>\n",
       "      <td>\"Chave Jacobsohn\" &lt;chave@designsbyfmc.com&gt;</td>\n",
       "      <td>RE: Today</td>\n",
       "      <td>Thanks From Avraham Jacobsohn mailto avraham j...</td>\n",
       "      <td>True</td>\n",
       "      <td>False</td>\n",
       "    </tr>\n",
       "    <tr>\n",
       "      <th>9530</th>\n",
       "      <td>Yossi Pasternak &lt;yossipasternak@gmail.com&gt;</td>\n",
       "      <td>It's a boy!!</td>\n",
       "      <td>Dear All Mazel Tov With the help of Hashem Reb...</td>\n",
       "      <td>True</td>\n",
       "      <td>False</td>\n",
       "    </tr>\n",
       "    <tr>\n",
       "      <th>356</th>\n",
       "      <td>Dede &lt;dede@buildingblockstherapy.org&gt;</td>\n",
       "      <td>Nosson school yr</td>\n",
       "      <td>Hi Can you work with Nosson at his home after ...</td>\n",
       "      <td>True</td>\n",
       "      <td>False</td>\n",
       "    </tr>\n",
       "    <tr>\n",
       "      <th>10109</th>\n",
       "      <td>Nikki Avendano &lt;n.avendano1025@gmail.com&gt;</td>\n",
       "      <td>Fwd: TDP-43 papers - Next Wednesday</td>\n",
       "      <td>Begin forwarded message From Avendano Nicole M...</td>\n",
       "      <td>True</td>\n",
       "      <td>False</td>\n",
       "    </tr>\n",
       "    <tr>\n",
       "      <th>1838</th>\n",
       "      <td>\"Chave Jacobsohn\" &lt;chave@designsbyfmc.com&gt;</td>\n",
       "      <td>RE: Hi</td>\n",
       "      <td>Is it a good movie But you don't have cheese b...</td>\n",
       "      <td>True</td>\n",
       "      <td>False</td>\n",
       "    </tr>\n",
       "    <tr>\n",
       "      <th>...</th>\n",
       "      <td>...</td>\n",
       "      <td>...</td>\n",
       "      <td>...</td>\n",
       "      <td>...</td>\n",
       "      <td>...</td>\n",
       "    </tr>\n",
       "    <tr>\n",
       "      <th>1235</th>\n",
       "      <td>william_chao &lt;e8132638@netvigator.com&gt;</td>\n",
       "      <td>=?Big5?B?pl7C0KFH?=</td>\n",
       "      <td>Dear mr Jacobson thanks for the e mail you can...</td>\n",
       "      <td>True</td>\n",
       "      <td>False</td>\n",
       "    </tr>\n",
       "    <tr>\n",
       "      <th>2153</th>\n",
       "      <td>\"Chave Jacobsohn\" &lt;chave@designsbyfmc.com&gt;</td>\n",
       "      <td>RE: Hi</td>\n",
       "      <td>When do you finish class I forgot you had clas...</td>\n",
       "      <td>True</td>\n",
       "      <td>False</td>\n",
       "    </tr>\n",
       "    <tr>\n",
       "      <th>10161</th>\n",
       "      <td>Laurie Cole &lt;laurie@kworthins.com&gt;</td>\n",
       "      <td>RE: from Laurie at Killingsworth</td>\n",
       "      <td>QXdlc tZSwgVGhhbmt b UhDQoNCg KDQpMYXVyaWUgQ s...</td>\n",
       "      <td>True</td>\n",
       "      <td>False</td>\n",
       "    </tr>\n",
       "    <tr>\n",
       "      <th>1808</th>\n",
       "      <td>kalman &lt;ksemail7@gmail.com&gt;</td>\n",
       "      <td>Re:</td>\n",
       "      <td>did you take care of dropping that class yet i...</td>\n",
       "      <td>True</td>\n",
       "      <td>False</td>\n",
       "    </tr>\n",
       "    <tr>\n",
       "      <th>11098</th>\n",
       "      <td>Casey Mann &lt;cemann@uw.edu&gt;</td>\n",
       "      <td>Re: Nicholas Lee Sweeten (STMATH 441 A Sp 18: ...</td>\n",
       "      <td>Question Would your group be open to adding Je...</td>\n",
       "      <td>True</td>\n",
       "      <td>False</td>\n",
       "    </tr>\n",
       "  </tbody>\n",
       "</table>\n",
       "<p>75 rows × 5 columns</p>\n",
       "</div>"
      ],
      "text/plain": [
       "                                             From  \\\n",
       "9204   \"Chave Jacobsohn\" <chave@designsbyfmc.com>   \n",
       "9530   Yossi Pasternak <yossipasternak@gmail.com>   \n",
       "356         Dede <dede@buildingblockstherapy.org>   \n",
       "10109   Nikki Avendano <n.avendano1025@gmail.com>   \n",
       "1838   \"Chave Jacobsohn\" <chave@designsbyfmc.com>   \n",
       "...                                           ...   \n",
       "1235       william_chao <e8132638@netvigator.com>   \n",
       "2153   \"Chave Jacobsohn\" <chave@designsbyfmc.com>   \n",
       "10161          Laurie Cole <laurie@kworthins.com>   \n",
       "1808                  kalman <ksemail7@gmail.com>   \n",
       "11098                  Casey Mann <cemann@uw.edu>   \n",
       "\n",
       "                                                 Subject  \\\n",
       "9204                                           RE: Today   \n",
       "9530                                        It's a boy!!   \n",
       "356                                    Nosson school yr    \n",
       "10109                Fwd: TDP-43 papers - Next Wednesday   \n",
       "1838                                              RE: Hi   \n",
       "...                                                  ...   \n",
       "1235                                =?Big5?B?pl7C0KFH?=    \n",
       "2153                                              RE: Hi   \n",
       "10161                   RE: from Laurie at Killingsworth   \n",
       "1808                                                 Re:   \n",
       "11098  Re: Nicholas Lee Sweeten (STMATH 441 A Sp 18: ...   \n",
       "\n",
       "                                              clean_text  is_personal  \\\n",
       "9204   Thanks From Avraham Jacobsohn mailto avraham j...         True   \n",
       "9530   Dear All Mazel Tov With the help of Hashem Reb...         True   \n",
       "356    Hi Can you work with Nosson at his home after ...         True   \n",
       "10109  Begin forwarded message From Avendano Nicole M...         True   \n",
       "1838   Is it a good movie But you don't have cheese b...         True   \n",
       "...                                                  ...          ...   \n",
       "1235   Dear mr Jacobson thanks for the e mail you can...         True   \n",
       "2153   When do you finish class I forgot you had clas...         True   \n",
       "10161  QXdlc tZSwgVGhhbmt b UhDQoNCg KDQpMYXVyaWUgQ s...         True   \n",
       "1808   did you take care of dropping that class yet i...         True   \n",
       "11098  Question Would your group be open to adding Je...         True   \n",
       "\n",
       "       personal_prediction  \n",
       "9204                 False  \n",
       "9530                 False  \n",
       "356                  False  \n",
       "10109                False  \n",
       "1838                 False  \n",
       "...                    ...  \n",
       "1235                 False  \n",
       "2153                 False  \n",
       "10161                False  \n",
       "1808                 False  \n",
       "11098                False  \n",
       "\n",
       "[75 rows x 5 columns]"
      ]
     },
     "execution_count": 25,
     "metadata": {},
     "output_type": "execute_result"
    }
   ],
   "source": [
    "bad_preds[['From', 'Subject', 'clean_text', 'is_personal', 'personal_prediction']].head(75)"
   ]
  },
  {
   "cell_type": "code",
   "execution_count": 26,
   "metadata": {},
   "outputs": [],
   "source": [
    "train_csv = df[['clean_text', 'is_personal']]"
   ]
  },
  {
   "cell_type": "code",
   "execution_count": 27,
   "metadata": {},
   "outputs": [],
   "source": [
    "df.to_csv('twelve_twelve_update.csv', index=False)"
   ]
  },
  {
   "cell_type": "code",
   "execution_count": 28,
   "metadata": {},
   "outputs": [
    {
     "data": {
      "text/plain": [
       "Index(['From', 'Message', 'Subject', 'Tags', 'UID', 'text', 'tag_list',\n",
       "       'first_tag', 'sender_name', 'sender_email', 'domain_name', 'isNoReply',\n",
       "       'link_count', 'clean_text', 'is_personal'],\n",
       "      dtype='object')"
      ]
     },
     "execution_count": 28,
     "metadata": {},
     "output_type": "execute_result"
    }
   ],
   "source": [
    "train.columns"
   ]
  },
  {
   "cell_type": "code",
   "execution_count": 30,
   "metadata": {},
   "outputs": [
    {
     "data": {
      "text/plain": [
       "array(['westernunionspeedpay', 'chase', 'amazon', 'github', 'accounts',\n",
       "       'statefarm', 'login', 'samharris', 'acctmanagement', 'emailonline',\n",
       "       'ku', 'mail', 'alertsp', 'freecodecamp', 'ebird', 'npmjs', 'gmail',\n",
       "       'alephbeis', 'buildingblockstherapy', 'pointandpay',\n",
       "       'starsaccount', 'united', 'zoom', 'grangeinsurance',\n",
       "       'escaperoommaster', 'designsbyfmc', 'bacb', 'yahoo', 'aol',\n",
       "       'kidslinkohio', 'googlemail', 'cuyahogacounty', 'pokerstars',\n",
       "       'blackchippoker', 'pocketfives', 'reddit', 'shaw', 'correo',\n",
       "       'houstonisd', 'preferredservicesny', 'wowway', 'carbonpoker',\n",
       "       'zo7d5i', 'fulltiltpoker', 'applicationassist', 'lockpoker',\n",
       "       'chainloopstrategy', 'apps', 'modernmediahost', 'completelogics',\n",
       "       'powerfulconnection', 'specificinterval', 'waxdouble',\n",
       "       'pokerfraudalert', 'bluffmedia', 'email', 'facebookmail',\n",
       "       'ipetitions', 'chiangsman', 'betcris', 'rocketmail', 'dos',\n",
       "       'smarter-apps', 'google', 'tmo', 'fivesmail', 'cakepoker',\n",
       "       'hotmail', 'newyork', 'talknsave', 'gilisgoodies', 'coltown',\n",
       "       'citi', 'website', 'fandango', 'customercare', 'aish', 'yoy',\n",
       "       'privacyassist', 'netvigator', 'finance', 'newtoyapps', 'brooklyn',\n",
       "       'netbill1', 'achbill1', 'pokertips', 'linkpt', 'live', 'sci',\n",
       "       'golflogix', 'alpinedmv', 'netvision', 'members', 'leafly', 'em',\n",
       "       'redditmail', 'mailer', 'thesatanictemple', 'e', 'jpupdates',\n",
       "       'woof', 'acurianhealthinfo', 'e1', 'twitter', 'qemailserver',\n",
       "       'golfmarinepark', 'twoplustwo', 'southshoregc', 'nissanfinance',\n",
       "       'r', 'mail246ae', '54dnorth', 'usps', 'aliexpress', 'chailifeline',\n",
       "       'notice', 'nissan-usa', 'discountmags', 'TheDailyGrind',\n",
       "       'thepayday', 'app', 'codecademy', 'paypal', 'futurism', 'wayfair',\n",
       "       'refind', 'twitch', 'rocketlanguages', 'mymove', 'successpodcast',\n",
       "       'hourlist', 'cardplayer', 'theknifemedia', 'online',\n",
       "       'domenergyoheb', 'agcgolfmail', 'steampowered', 'member',\n",
       "       'firstenergycorp', 'espnmail', 'digitdiv', 'courts', 'half',\n",
       "       'accenture', 'marketplace', 'kendallhunt', 'nypirg',\n",
       "       'breslovofflatbush', 'shapeservices', 'optonline', 'artscroll',\n",
       "       'nytimes', 'calendar', 'matzav', 'hbs', 'TicketLiquidator',\n",
       "       'theclubservices', 'gap', 'mylargebonus', 'largebonusnow',\n",
       "       '1k-giveaway', 'fantasygames', 'washingtontimes',\n",
       "       'Breslovofflatbush', 'earthlink', 'getpeyd', 'Designsbyfmc',\n",
       "       '11133', 'runyourpool', 'iserieslive', 'connosr', 'newtonacademy',\n",
       "       'fullcontactpoker', 'instagram', 'setlist', 'ultimateeventtickets',\n",
       "       'nycbeveragechoices', 'seniorcareems', 'espn', 'yogaspotny',\n",
       "       'floattheturn', 'sforumsmail', 'cbsinteractive',\n",
       "       'jonathanlittlesecrets', 'tournamentpokeredge', 'dancarlin',\n",
       "       'AmericasCardroom', 'movietickets', 'carrentals', 'tickethelp',\n",
       "       'bonobos', 'buckberrylodge', 'apartmentguide', 'FirstEnergyCorp',\n",
       "       'dominiongas', 'scienceofsuccess', 'plus', 'linkedin',\n",
       "       'worldpokertour', 'my', 'ealerts', 'nordstrom', 'jdeal', 'reply',\n",
       "       'satisfactionsurvey', 'gptl', 'locksupport', 'youtube',\n",
       "       'sportsbook', 'hogwildpokerleagues', 'newsletter', 'emcom',\n",
       "       'myLookout', 'assist', 'jmarketingconnections', 'pokerview', 'cc',\n",
       "       'thehindubusinessline-au', 'mail-lother-beels', 'miato5m',\n",
       "       'clubwpt', 'att', 'b2bupdates', 'lookout', 'winamax', 'news',\n",
       "       'gr8grabs', 'schools', 'issuumail', 'dropbox', 'dropboxmail', 'bu',\n",
       "       'jblasts', 'carbonsports', 'joyofkosher', 'availity', 'mayo',\n",
       "       'hcahealthcare', 'greenemployee', 'verifiedcredentials', 'trm',\n",
       "       'snicompanies', 'alertmedia', 'staffingnow',\n",
       "       'forkingamazingrestaurants', 'discordapp', 'tampabay', 'lca',\n",
       "       'lasikplus-email', 'sfn', 'dfs', 'tuftandneedle',\n",
       "       'patientconnect365', 'notifications', 'unf', 'burblebookings',\n",
       "       'homeaway', 'fedex', 'web', 'movies', 'team', 'alsafl',\n",
       "       'neuroinitiative', 'inmomentfeedback', 'notification', 'tn',\n",
       "       'themenlohouse', 'kworthins', 'airbnb', 'docusign', 'info',\n",
       "       'hopper', 'message', 'transunion', 'capitaloneemail',\n",
       "       'ScoreCardRewards', 'wayup', 'spotify', 'service', 'minibardonuts',\n",
       "       'suncoastcreditunion', 'cfpboard', 'hercjobs', 'jhu',\n",
       "       'christysports', 'vivobarefoot', 'ccc', 'cs', 'pandora',\n",
       "       'forusajobs', 'creditjourney', 'artsyabode', 'hotels', 'hyatt',\n",
       "       'myehtrip', 'express', 'c', 'allstatesupport', 'epic', 'zephlit',\n",
       "       'ALSAFL', 'GreenEmployee', 'mindbodyonline', 'codesmith',\n",
       "       'mercuryinsurance', 'slack', 'blenderbottle', 'eml',\n",
       "       'questdiagnostics', 'm', 'QuestDiagnosticsSurvey', 'zagg', 'hire',\n",
       "       'Carvana', 'marketing', 'bullhorncloud', 'ucf', 'bootcampspot',\n",
       "       'applytojob', 'booking', 'property', 'lambdaschool', 'yoh',\n",
       "       'messages', 'msg', 'glassdoor', 'ufonline', 'typeform', 'xymogen',\n",
       "       'calendly', 'airbnbmail', 'neuvoo', 'greenhouse', 'email-carmax',\n",
       "       'repl', 'hackerrankforwork', 'applyweb', 'id', 'leanpub',\n",
       "       'hulumail', 'proxyvote', 'aa', 'friends', 'remoteok', 'priceyak',\n",
       "       'leif', 't', 'oe', 'kaggle', 'duhlmark', 'medium', 'leetcode',\n",
       "       'uhaul', 'bhphotovideo', 'namecheap', 'uic', 'sharepointonline',\n",
       "       'et', 'meetup', 'surveyinforma', 'heroku', 'test', 'send',\n",
       "       'pycoders', 'expediamail', 'trello', 'mongodb', 'verticalventures',\n",
       "       'friend', 'paperspace', 'eventbrite', 'newegg', 'account-nvidia',\n",
       "       'joinmodernhealth', 'jibble', 'rippling', 'donotreply', 'stickies',\n",
       "       'solaritycu', 'kickstarter', 'state', 'uwb', 'uw', '2ksupport',\n",
       "       'outlook', 'alerts', 'u', 'UW', 'instructure',\n",
       "       'jkrowlingswizardingworldcrate', 'U', 'oncallinternational',\n",
       "       'pnwu', 'sale', 'pinnacleliving', 'cinemacity', 'fiuts', 'cwu',\n",
       "       'gastonchristian', 'alaskaair', 'ciee', 'hawthornes', 'mathnasium',\n",
       "       'marines', 'Uw', 'comcast', 'yakimaymca', 'afrisstf', 'us',\n",
       "       'newslettermta', 'notify'], dtype=object)"
      ]
     },
     "execution_count": 30,
     "metadata": {},
     "output_type": "execute_result"
    }
   ],
   "source": [
    "df.domain_name.unique()"
   ]
  },
  {
   "cell_type": "code",
   "execution_count": 31,
   "metadata": {},
   "outputs": [
    {
     "data": {
      "text/plain": [
       "411"
      ]
     },
     "execution_count": 31,
     "metadata": {},
     "output_type": "execute_result"
    }
   ],
   "source": [
    "df.domain_name.nunique()"
   ]
  },
  {
   "cell_type": "code",
   "execution_count": 35,
   "metadata": {},
   "outputs": [],
   "source": [
    "top_ten = df.domain_name.value_counts()[:10]"
   ]
  },
  {
   "cell_type": "code",
   "execution_count": 36,
   "metadata": {},
   "outputs": [
    {
     "data": {
      "text/plain": [
       "amazon          5163\n",
       "jdeal            752\n",
       "designsbyfmc     655\n",
       "pokerstars       548\n",
       "twoplustwo       449\n",
       "brooklyn         267\n",
       "uw               260\n",
       "gmail            259\n",
       "alertsp          229\n",
       "e                120\n",
       "Name: domain_name, dtype: int64"
      ]
     },
     "execution_count": 36,
     "metadata": {},
     "output_type": "execute_result"
    }
   ],
   "source": [
    "top_ten"
   ]
  },
  {
   "cell_type": "code",
   "execution_count": 39,
   "metadata": {},
   "outputs": [
    {
     "data": {
      "text/html": [
       "<div>\n",
       "<style scoped>\n",
       "    .dataframe tbody tr th:only-of-type {\n",
       "        vertical-align: middle;\n",
       "    }\n",
       "\n",
       "    .dataframe tbody tr th {\n",
       "        vertical-align: top;\n",
       "    }\n",
       "\n",
       "    .dataframe thead th {\n",
       "        text-align: right;\n",
       "    }\n",
       "</style>\n",
       "<table border=\"1\" class=\"dataframe\">\n",
       "  <thead>\n",
       "    <tr style=\"text-align: right;\">\n",
       "      <th></th>\n",
       "      <th>From</th>\n",
       "      <th>Message</th>\n",
       "      <th>Subject</th>\n",
       "      <th>Tags</th>\n",
       "      <th>UID</th>\n",
       "      <th>text</th>\n",
       "      <th>tag_list</th>\n",
       "      <th>first_tag</th>\n",
       "      <th>sender_name</th>\n",
       "      <th>sender_email</th>\n",
       "      <th>domain_name</th>\n",
       "      <th>isNoReply</th>\n",
       "      <th>link_count</th>\n",
       "      <th>clean_text</th>\n",
       "      <th>is_personal</th>\n",
       "    </tr>\n",
       "  </thead>\n",
       "  <tbody>\n",
       "    <tr>\n",
       "      <th>1610</th>\n",
       "      <td>\"Udemy Instructor: Eduonix Learning Solutions\"...</td>\n",
       "      <td>&lt;!DOCTYPE HTML PUBLIC \"-//W3C//DTD HTML 4.01//...</td>\n",
       "      <td>Grand Sale! Grab Best Web Dev Courses At Just ...</td>\n",
       "      <td>Entertainment</td>\n",
       "      <td>68494</td>\n",
       "      <td>\"Udemy Instructor: Eduonix Learning Solutions\"...</td>\n",
       "      <td>['Entertainment']</td>\n",
       "      <td>Entertainment</td>\n",
       "      <td>Udemy Instructor: Eduonix Learning Solutions</td>\n",
       "      <td>no-reply@e.udemymail.com</td>\n",
       "      <td>e</td>\n",
       "      <td>True</td>\n",
       "      <td>40</td>\n",
       "      <td>DOCTYPE HTML PUBLIC W C DTD HTML EN http www w...</td>\n",
       "      <td>False</td>\n",
       "    </tr>\n",
       "    <tr>\n",
       "      <th>1616</th>\n",
       "      <td>\"Crystal Springs Resort\" &lt;csr@e.crystalgolfres...</td>\n",
       "      <td>Golf Vacation at the Northeast's Most Acclaime...</td>\n",
       "      <td>=?UTF-8?B?8J+PjO+4jyBWYWNhdGlvbiBhdCB0aGUgTm9y...</td>\n",
       "      <td>Finance</td>\n",
       "      <td>68288</td>\n",
       "      <td>\"Crystal Springs Resort\" &lt;csr@e.crystalgolfres...</td>\n",
       "      <td>['Finance']</td>\n",
       "      <td>Finance</td>\n",
       "      <td>Crystal Springs Resort</td>\n",
       "      <td>csr@e.crystalgolfresort.com</td>\n",
       "      <td>e</td>\n",
       "      <td>False</td>\n",
       "      <td>32</td>\n",
       "      <td>Golf Vacation at the Northeast's Most Acclaime...</td>\n",
       "      <td>False</td>\n",
       "    </tr>\n",
       "    <tr>\n",
       "      <th>1619</th>\n",
       "      <td>=?UTF-8?B?TG93ZeKAmXMgSG9tZSBJbXByb3ZlbWVudA==...</td>\n",
       "      <td>View Web Version: \\nhttps://view.e.lowes.com/?...</td>\n",
       "      <td>Start Your Next Outdoor Project with Up to 25%...</td>\n",
       "      <td>Finance</td>\n",
       "      <td>68047</td>\n",
       "      <td>=?UTF-8?B?TG93ZeKAmXMgSG9tZSBJbXByb3ZlbWVudA==...</td>\n",
       "      <td>['Finance']</td>\n",
       "      <td>Finance</td>\n",
       "      <td>=?UTF-8?B?TG93ZeKAmXMgSG9tZSBJbXByb3ZlbWVudA==...</td>\n",
       "      <td>lowes@e.lowes.com</td>\n",
       "      <td>e</td>\n",
       "      <td>False</td>\n",
       "      <td>4</td>\n",
       "      <td>View Web Version https view e lowes com qs d a...</td>\n",
       "      <td>False</td>\n",
       "    </tr>\n",
       "    <tr>\n",
       "      <th>1620</th>\n",
       "      <td>\"Crystal Springs Resort\" &lt;csr@e.crystalgolfres...</td>\n",
       "      <td>Why is New Jersey Called the Garden State? \\n\\...</td>\n",
       "      <td>=?UTF-8?B?V2h5IGlzIE5ldyBKZXJzZXkgQ2FsbGVkIHRo...</td>\n",
       "      <td>Finance</td>\n",
       "      <td>68017</td>\n",
       "      <td>\"Crystal Springs Resort\" &lt;csr@e.crystalgolfres...</td>\n",
       "      <td>['Finance']</td>\n",
       "      <td>Finance</td>\n",
       "      <td>Crystal Springs Resort</td>\n",
       "      <td>csr@e.crystalgolfresort.com</td>\n",
       "      <td>e</td>\n",
       "      <td>False</td>\n",
       "      <td>26</td>\n",
       "      <td>Why is New Jersey Called the Garden State http...</td>\n",
       "      <td>False</td>\n",
       "    </tr>\n",
       "    <tr>\n",
       "      <th>1699</th>\n",
       "      <td>\"Crystal Springs Resort\" &lt;csr@e.crystalgolfres...</td>\n",
       "      <td>Free 2-Day Shipping on Resort Gift Cards \\n\\nh...</td>\n",
       "      <td>Free 2-Day Shipping on Resort Gift Cards</td>\n",
       "      <td>Other</td>\n",
       "      <td>64872</td>\n",
       "      <td>\"Crystal Springs Resort\" &lt;csr@e.crystalgolfres...</td>\n",
       "      <td>['Other']</td>\n",
       "      <td>Other</td>\n",
       "      <td>Crystal Springs Resort</td>\n",
       "      <td>csr@e.crystalgolfresort.com</td>\n",
       "      <td>e</td>\n",
       "      <td>False</td>\n",
       "      <td>23</td>\n",
       "      <td>Free Day Shipping on Resort Gift Cards http cl...</td>\n",
       "      <td>False</td>\n",
       "    </tr>\n",
       "    <tr>\n",
       "      <th>...</th>\n",
       "      <td>...</td>\n",
       "      <td>...</td>\n",
       "      <td>...</td>\n",
       "      <td>...</td>\n",
       "      <td>...</td>\n",
       "      <td>...</td>\n",
       "      <td>...</td>\n",
       "      <td>...</td>\n",
       "      <td>...</td>\n",
       "      <td>...</td>\n",
       "      <td>...</td>\n",
       "      <td>...</td>\n",
       "      <td>...</td>\n",
       "      <td>...</td>\n",
       "      <td>...</td>\n",
       "    </tr>\n",
       "    <tr>\n",
       "      <th>10036</th>\n",
       "      <td>Chase  &lt;Chase@e.chase.com&gt;</td>\n",
       "      <td>&lt;!--Assign codes for use with unsubscribe link...</td>\n",
       "      <td>John, check out your new Chase Offers</td>\n",
       "      <td>Finance</td>\n",
       "      <td>1280</td>\n",
       "      <td>Chase  &lt;Chase@e.chase.com&gt; John, check out you...</td>\n",
       "      <td>['Finance']</td>\n",
       "      <td>Finance</td>\n",
       "      <td>Chase</td>\n",
       "      <td>Chase@e.chase.com</td>\n",
       "      <td>e</td>\n",
       "      <td>False</td>\n",
       "      <td>17</td>\n",
       "      <td>Assign codes for use with unsubscribe links in...</td>\n",
       "      <td>False</td>\n",
       "    </tr>\n",
       "    <tr>\n",
       "      <th>10101</th>\n",
       "      <td>Chase  &lt;Chase@e.chase.com&gt;</td>\n",
       "      <td>\\r\\n\\r\\n\\r\\n\\r\\n\\r\\n\\r\\n&lt;!DOCTYPE html PUBLIC ...</td>\n",
       "      <td>JOHN, activate your Chase Offers before they'r...</td>\n",
       "      <td>Finance</td>\n",
       "      <td>1346</td>\n",
       "      <td>Chase  &lt;Chase@e.chase.com&gt; JOHN, activate your...</td>\n",
       "      <td>['Finance']</td>\n",
       "      <td>Finance</td>\n",
       "      <td>Chase</td>\n",
       "      <td>Chase@e.chase.com</td>\n",
       "      <td>e</td>\n",
       "      <td>False</td>\n",
       "      <td>51</td>\n",
       "      <td>DOCTYPE html PUBLIC W C DTD XHTML E Transition...</td>\n",
       "      <td>False</td>\n",
       "    </tr>\n",
       "    <tr>\n",
       "      <th>10144</th>\n",
       "      <td>\"NORDSTROM RACK\" &lt;nordstromrack@e.nordstromrac...</td>\n",
       "      <td>\\r\\n\\r\\n\\r\\n\\r\\n\\r\\n\\r\\n\\r\\n\\r\\n Shop luxury t...</td>\n",
       "      <td>The MICHELE Watches Event starts now</td>\n",
       "      <td>Shopping</td>\n",
       "      <td>1389</td>\n",
       "      <td>\"NORDSTROM RACK\" &lt;nordstromrack@e.nordstromrac...</td>\n",
       "      <td>['Shopping']</td>\n",
       "      <td>Shopping</td>\n",
       "      <td>NORDSTROM RACK</td>\n",
       "      <td>nordstromrack@e.nordstromrack.com</td>\n",
       "      <td>e</td>\n",
       "      <td>False</td>\n",
       "      <td>39</td>\n",
       "      <td>Shop luxury timepieces for her mdash; hours on...</td>\n",
       "      <td>False</td>\n",
       "    </tr>\n",
       "    <tr>\n",
       "      <th>10145</th>\n",
       "      <td>\"NORDSTROM RACK\" &lt;nordstromrack@e.nordstromrac...</td>\n",
       "      <td>\\r\\n\\r\\n\\r\\n\\r\\n\\r\\n\\r\\n\\r\\n\\r\\n Shop activewe...</td>\n",
       "      <td>The Outdoor Voices Event starts now</td>\n",
       "      <td>Shopping</td>\n",
       "      <td>1390</td>\n",
       "      <td>\"NORDSTROM RACK\" &lt;nordstromrack@e.nordstromrac...</td>\n",
       "      <td>['Shopping']</td>\n",
       "      <td>Shopping</td>\n",
       "      <td>NORDSTROM RACK</td>\n",
       "      <td>nordstromrack@e.nordstromrack.com</td>\n",
       "      <td>e</td>\n",
       "      <td>False</td>\n",
       "      <td>35</td>\n",
       "      <td>Shop activewear swim mdash; days only Shop act...</td>\n",
       "      <td>False</td>\n",
       "    </tr>\n",
       "    <tr>\n",
       "      <th>10484</th>\n",
       "      <td>Chase  &lt;Chase@e.chase.com&gt;</td>\n",
       "      <td>\\r\\n&lt;!DOCTYPE html PUBLIC \"-//W3C//DTD XHTML 1...</td>\n",
       "      <td>John, the way you receive notifications and le...</td>\n",
       "      <td>Finance</td>\n",
       "      <td>1730</td>\n",
       "      <td>Chase  &lt;Chase@e.chase.com&gt; John, the way you r...</td>\n",
       "      <td>['Finance']</td>\n",
       "      <td>Finance</td>\n",
       "      <td>Chase</td>\n",
       "      <td>Chase@e.chase.com</td>\n",
       "      <td>e</td>\n",
       "      <td>False</td>\n",
       "      <td>11</td>\n",
       "      <td>DOCTYPE html PUBLIC W C DTD XHTML E Transition...</td>\n",
       "      <td>False</td>\n",
       "    </tr>\n",
       "  </tbody>\n",
       "</table>\n",
       "<p>120 rows × 15 columns</p>\n",
       "</div>"
      ],
      "text/plain": [
       "                                                    From  \\\n",
       "1610   \"Udemy Instructor: Eduonix Learning Solutions\"...   \n",
       "1616   \"Crystal Springs Resort\" <csr@e.crystalgolfres...   \n",
       "1619   =?UTF-8?B?TG93ZeKAmXMgSG9tZSBJbXByb3ZlbWVudA==...   \n",
       "1620   \"Crystal Springs Resort\" <csr@e.crystalgolfres...   \n",
       "1699   \"Crystal Springs Resort\" <csr@e.crystalgolfres...   \n",
       "...                                                  ...   \n",
       "10036                         Chase  <Chase@e.chase.com>   \n",
       "10101                         Chase  <Chase@e.chase.com>   \n",
       "10144  \"NORDSTROM RACK\" <nordstromrack@e.nordstromrac...   \n",
       "10145  \"NORDSTROM RACK\" <nordstromrack@e.nordstromrac...   \n",
       "10484                         Chase  <Chase@e.chase.com>   \n",
       "\n",
       "                                                 Message  \\\n",
       "1610   <!DOCTYPE HTML PUBLIC \"-//W3C//DTD HTML 4.01//...   \n",
       "1616   Golf Vacation at the Northeast's Most Acclaime...   \n",
       "1619   View Web Version: \\nhttps://view.e.lowes.com/?...   \n",
       "1620   Why is New Jersey Called the Garden State? \\n\\...   \n",
       "1699   Free 2-Day Shipping on Resort Gift Cards \\n\\nh...   \n",
       "...                                                  ...   \n",
       "10036  <!--Assign codes for use with unsubscribe link...   \n",
       "10101  \\r\\n\\r\\n\\r\\n\\r\\n\\r\\n\\r\\n<!DOCTYPE html PUBLIC ...   \n",
       "10144  \\r\\n\\r\\n\\r\\n\\r\\n\\r\\n\\r\\n\\r\\n\\r\\n Shop luxury t...   \n",
       "10145  \\r\\n\\r\\n\\r\\n\\r\\n\\r\\n\\r\\n\\r\\n\\r\\n Shop activewe...   \n",
       "10484  \\r\\n<!DOCTYPE html PUBLIC \"-//W3C//DTD XHTML 1...   \n",
       "\n",
       "                                                 Subject           Tags  \\\n",
       "1610   Grand Sale! Grab Best Web Dev Courses At Just ...  Entertainment   \n",
       "1616   =?UTF-8?B?8J+PjO+4jyBWYWNhdGlvbiBhdCB0aGUgTm9y...        Finance   \n",
       "1619   Start Your Next Outdoor Project with Up to 25%...        Finance   \n",
       "1620   =?UTF-8?B?V2h5IGlzIE5ldyBKZXJzZXkgQ2FsbGVkIHRo...        Finance   \n",
       "1699            Free 2-Day Shipping on Resort Gift Cards          Other   \n",
       "...                                                  ...            ...   \n",
       "10036              John, check out your new Chase Offers        Finance   \n",
       "10101  JOHN, activate your Chase Offers before they'r...        Finance   \n",
       "10144               The MICHELE Watches Event starts now       Shopping   \n",
       "10145                The Outdoor Voices Event starts now       Shopping   \n",
       "10484  John, the way you receive notifications and le...        Finance   \n",
       "\n",
       "         UID                                               text  \\\n",
       "1610   68494  \"Udemy Instructor: Eduonix Learning Solutions\"...   \n",
       "1616   68288  \"Crystal Springs Resort\" <csr@e.crystalgolfres...   \n",
       "1619   68047  =?UTF-8?B?TG93ZeKAmXMgSG9tZSBJbXByb3ZlbWVudA==...   \n",
       "1620   68017  \"Crystal Springs Resort\" <csr@e.crystalgolfres...   \n",
       "1699   64872  \"Crystal Springs Resort\" <csr@e.crystalgolfres...   \n",
       "...      ...                                                ...   \n",
       "10036   1280  Chase  <Chase@e.chase.com> John, check out you...   \n",
       "10101   1346  Chase  <Chase@e.chase.com> JOHN, activate your...   \n",
       "10144   1389  \"NORDSTROM RACK\" <nordstromrack@e.nordstromrac...   \n",
       "10145   1390  \"NORDSTROM RACK\" <nordstromrack@e.nordstromrac...   \n",
       "10484   1730  Chase  <Chase@e.chase.com> John, the way you r...   \n",
       "\n",
       "                tag_list      first_tag  \\\n",
       "1610   ['Entertainment']  Entertainment   \n",
       "1616         ['Finance']        Finance   \n",
       "1619         ['Finance']        Finance   \n",
       "1620         ['Finance']        Finance   \n",
       "1699           ['Other']          Other   \n",
       "...                  ...            ...   \n",
       "10036        ['Finance']        Finance   \n",
       "10101        ['Finance']        Finance   \n",
       "10144       ['Shopping']       Shopping   \n",
       "10145       ['Shopping']       Shopping   \n",
       "10484        ['Finance']        Finance   \n",
       "\n",
       "                                             sender_name  \\\n",
       "1610        Udemy Instructor: Eduonix Learning Solutions   \n",
       "1616                              Crystal Springs Resort   \n",
       "1619   =?UTF-8?B?TG93ZeKAmXMgSG9tZSBJbXByb3ZlbWVudA==...   \n",
       "1620                              Crystal Springs Resort   \n",
       "1699                              Crystal Springs Resort   \n",
       "...                                                  ...   \n",
       "10036                                              Chase   \n",
       "10101                                              Chase   \n",
       "10144                                     NORDSTROM RACK   \n",
       "10145                                     NORDSTROM RACK   \n",
       "10484                                              Chase   \n",
       "\n",
       "                            sender_email domain_name  isNoReply  link_count  \\\n",
       "1610            no-reply@e.udemymail.com           e       True          40   \n",
       "1616         csr@e.crystalgolfresort.com           e      False          32   \n",
       "1619                   lowes@e.lowes.com           e      False           4   \n",
       "1620         csr@e.crystalgolfresort.com           e      False          26   \n",
       "1699         csr@e.crystalgolfresort.com           e      False          23   \n",
       "...                                  ...         ...        ...         ...   \n",
       "10036                  Chase@e.chase.com           e      False          17   \n",
       "10101                  Chase@e.chase.com           e      False          51   \n",
       "10144  nordstromrack@e.nordstromrack.com           e      False          39   \n",
       "10145  nordstromrack@e.nordstromrack.com           e      False          35   \n",
       "10484                  Chase@e.chase.com           e      False          11   \n",
       "\n",
       "                                              clean_text  is_personal  \n",
       "1610   DOCTYPE HTML PUBLIC W C DTD HTML EN http www w...        False  \n",
       "1616   Golf Vacation at the Northeast's Most Acclaime...        False  \n",
       "1619   View Web Version https view e lowes com qs d a...        False  \n",
       "1620   Why is New Jersey Called the Garden State http...        False  \n",
       "1699   Free Day Shipping on Resort Gift Cards http cl...        False  \n",
       "...                                                  ...          ...  \n",
       "10036  Assign codes for use with unsubscribe links in...        False  \n",
       "10101  DOCTYPE html PUBLIC W C DTD XHTML E Transition...        False  \n",
       "10144  Shop luxury timepieces for her mdash; hours on...        False  \n",
       "10145  Shop activewear swim mdash; days only Shop act...        False  \n",
       "10484  DOCTYPE html PUBLIC W C DTD XHTML E Transition...        False  \n",
       "\n",
       "[120 rows x 15 columns]"
      ]
     },
     "execution_count": 39,
     "metadata": {},
     "output_type": "execute_result"
    }
   ],
   "source": [
    "df[df['domain_name'] == 'e']"
   ]
  },
  {
   "cell_type": "code",
   "execution_count": 43,
   "metadata": {},
   "outputs": [
    {
     "data": {
      "text/plain": [
       "'e.udemymail.com>'"
      ]
     },
     "execution_count": 43,
     "metadata": {},
     "output_type": "execute_result"
    }
   ],
   "source": [
    "df['From'][1610].split('@')[-1]"
   ]
  },
  {
   "cell_type": "code",
   "execution_count": null,
   "metadata": {},
   "outputs": [],
   "source": [
    "df['domain_name'] = df['From']."
   ]
  },
  {
   "cell_type": "code",
   "execution_count": 44,
   "metadata": {},
   "outputs": [],
   "source": [
    "def get_domain_name(val):\n",
    "    domain = val.split('@')[-1]\n",
    "    domain_list = domain.split('.')\n",
    "    return domain_list[-2]"
   ]
  },
  {
   "cell_type": "code",
   "execution_count": 45,
   "metadata": {},
   "outputs": [],
   "source": [
    "df['domain_name'] = df['From'].apply(get_domain_name)"
   ]
  },
  {
   "cell_type": "code",
   "execution_count": 47,
   "metadata": {},
   "outputs": [
    {
     "data": {
      "text/plain": [
       "amazon          5170\n",
       "jdeal            752\n",
       "designsbyfmc     655\n",
       "pokerstars       548\n",
       "twoplustwo       449\n",
       "                ... \n",
       "wcs                1\n",
       "hawthornes         1\n",
       "sforumsmail        1\n",
       "ALSAFL             1\n",
       "udemymail          1\n",
       "Name: domain_name, Length: 414, dtype: int64"
      ]
     },
     "execution_count": 47,
     "metadata": {},
     "output_type": "execute_result"
    }
   ],
   "source": [
    "df['domain_name'].value_counts()"
   ]
  },
  {
   "cell_type": "code",
   "execution_count": 48,
   "metadata": {},
   "outputs": [
    {
     "data": {
      "text/plain": [
       "414"
      ]
     },
     "execution_count": 48,
     "metadata": {},
     "output_type": "execute_result"
    }
   ],
   "source": [
    "df['domain_name'].nunique()"
   ]
  },
  {
   "cell_type": "code",
   "execution_count": 49,
   "metadata": {},
   "outputs": [],
   "source": [
    "top_twenty = df['domain_name'].value_counts()[:20]"
   ]
  },
  {
   "cell_type": "code",
   "execution_count": 50,
   "metadata": {},
   "outputs": [
    {
     "data": {
      "text/plain": [
       "amazon                   5170\n",
       "jdeal                     752\n",
       "designsbyfmc              655\n",
       "pokerstars                548\n",
       "twoplustwo                449\n",
       "chase                     269\n",
       "cuny                      269\n",
       "uw                        260\n",
       "gmail                     259\n",
       "linkedin                  104\n",
       "nordstrom                  99\n",
       "carbonpoker                99\n",
       "starsaccount               89\n",
       "buildingblockstherapy      72\n",
       "slack                      67\n",
       "google                     60\n",
       "freecodecamp               51\n",
       "fulltiltpoker              48\n",
       "youtube                    46\n",
       "capitalone                 45\n",
       "Name: domain_name, dtype: int64"
      ]
     },
     "execution_count": 50,
     "metadata": {},
     "output_type": "execute_result"
    }
   ],
   "source": [
    "top_twenty"
   ]
  },
  {
   "cell_type": "code",
   "execution_count": 52,
   "metadata": {},
   "outputs": [],
   "source": [
    "import numpy as np\n",
    "import gensim\n",
    "\n",
    "from gensim.utils import simple_preprocess\n",
    "from gensim.parsing.preprocessing import STOPWORDS\n",
    "from gensim import corpora\n",
    "\n",
    "from gensim.models.ldamulticore import LdaMulticore\n",
    "\n",
    "import pandas as pd"
   ]
  },
  {
   "cell_type": "code",
   "execution_count": 53,
   "metadata": {},
   "outputs": [],
   "source": [
    "def tokenize(text):\n",
    "    return [token for token in simple_preprocess(text) if token not in STOPWORDS]"
   ]
  },
  {
   "cell_type": "code",
   "execution_count": 54,
   "metadata": {},
   "outputs": [],
   "source": [
    "df['tokens'] = [tokenize(text) for text in df['clean_text']]"
   ]
  },
  {
   "cell_type": "code",
   "execution_count": 55,
   "metadata": {},
   "outputs": [],
   "source": [
    "id2word = corpora.Dictionary(df['tokens'])"
   ]
  },
  {
   "cell_type": "code",
   "execution_count": 63,
   "metadata": {},
   "outputs": [
    {
     "data": {
      "text/plain": [
       "400963"
      ]
     },
     "execution_count": 63,
     "metadata": {},
     "output_type": "execute_result"
    }
   ],
   "source": [
    "len(id2word.keys())"
   ]
  },
  {
   "cell_type": "code",
   "execution_count": 64,
   "metadata": {},
   "outputs": [
    {
     "data": {
      "text/plain": [
       "7893"
      ]
     },
     "execution_count": 64,
     "metadata": {},
     "output_type": "execute_result"
    }
   ],
   "source": [
    "id2word.filter_extremes(no_below=10, no_above=0.75)\n",
    "len(id2word.keys())"
   ]
  },
  {
   "cell_type": "code",
   "execution_count": 65,
   "metadata": {},
   "outputs": [],
   "source": [
    "corpus = [id2word.doc2bow(text) for text in df['tokens']]"
   ]
  },
  {
   "cell_type": "code",
   "execution_count": null,
   "metadata": {},
   "outputs": [],
   "source": [
    "lda = LdaMulticore(corpus=corpus,\n",
    "                   id2word=id2word,\n",
    "                   random_state=723812,\n",
    "                   num_topics = 15,\n",
    "                   passes=10,\n",
    "                   workers=4\n",
    "                  )"
   ]
  },
  {
   "cell_type": "code",
   "execution_count": null,
   "metadata": {},
   "outputs": [],
   "source": []
  },
  {
   "cell_type": "code",
   "execution_count": null,
   "metadata": {},
   "outputs": [],
   "source": [
    "import pyLDAvis.gensim\n",
    "\n",
    "pyLDAvis.enable_notebook()"
   ]
  }
 ],
 "metadata": {
  "kernelspec": {
   "display_name": "Python 3",
   "language": "python",
   "name": "python3"
  },
  "language_info": {
   "codemirror_mode": {
    "name": "ipython",
    "version": 3
   },
   "file_extension": ".py",
   "mimetype": "text/x-python",
   "name": "python",
   "nbconvert_exporter": "python",
   "pygments_lexer": "ipython3",
   "version": "3.7.4"
  }
 },
 "nbformat": 4,
 "nbformat_minor": 4
}
