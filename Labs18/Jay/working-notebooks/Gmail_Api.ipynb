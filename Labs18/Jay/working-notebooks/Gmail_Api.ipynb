{
  "nbformat": 4,
  "nbformat_minor": 0,
  "metadata": {
    "colab": {
      "name": "Gmail-Api.ipynb",
      "provenance": []
    },
    "kernelspec": {
      "name": "python3",
      "display_name": "Python 3"
    }
  },
  "cells": [
    {
      "cell_type": "markdown",
      "metadata": {
        "id": "ZyFfjeALrX7c",
        "colab_type": "text"
      },
      "source": [
        "# Get emails from Gmail API \n",
        "\n",
        "##### This is the quickstart code with a few mods"
      ]
    },
    {
      "cell_type": "code",
      "metadata": {
        "id": "CjpLUNvyWdOs",
        "colab_type": "code",
        "colab": {}
      },
      "source": [
        "from __future__ import print_function\n",
        "import pickle\n",
        "import os.path\n",
        "from googleapiclient.discovery import build\n",
        "from google_auth_oauthlib.flow import InstalledAppFlow\n",
        "from google.auth.transport.requests import Request\n",
        "\n",
        "# If modifying these scopes, delete the file token.pickle.\n",
        "SCOPES = ['https://www.googleapis.com/auth/gmail.readonly']\n",
        "\n",
        "def main():\n",
        "    \"\"\"Shows basic usage of the Gmail API.\n",
        "    Lists the user's Gmail labels.\n",
        "    \"\"\"\n",
        "    creds = None\n",
        "    # The file token.pickle stores the user's access and refresh tokens, and is\n",
        "    # created automatically when the authorization flow completes for the first\n",
        "    # time.\n",
        "    if os.path.exists('token.pickle'):\n",
        "        with open('token.pickle', 'rb') as token:\n",
        "            creds = pickle.load(token)\n",
        "    # If there are no (valid) credentials available, let the user log in.\n",
        "    if not creds or not creds.valid:\n",
        "        if creds and creds.expired and creds.refresh_token:\n",
        "            creds.refresh(Request())\n",
        "        else:\n",
        "            flow = InstalledAppFlow.from_client_secrets_file(\n",
        "                'credentials.json', SCOPES)\n",
        "            creds = flow.run_local_server(port=0)\n",
        "        # Save the credentials for the next run\n",
        "        with open('token.pickle', 'wb') as token:\n",
        "            pickle.dump(creds, token)\n",
        "\n",
        "    service = build('gmail', 'v1', credentials=creds)\n",
        "\n",
        "    # Call the Gmail API\n",
        "    results = service.users().messages().list(userId='me').execute()\n",
        "    messages = results.get('messages', [])\n",
        "\n",
        "    if not messages:\n",
        "        print('No labels found.')\n",
        "    else:\n",
        "        print('Labels:')\n",
        "        for message in messages:\n",
        "            print(message)\n",
        "\n",
        "    return results, messages"
      ],
      "execution_count": 0,
      "outputs": []
    },
    {
      "cell_type": "markdown",
      "metadata": {
        "id": "jnpeWp4nrj7L",
        "colab_type": "text"
      },
      "source": [
        "### Separated out the steps to be able to play around"
      ]
    },
    {
      "cell_type": "code",
      "metadata": {
        "id": "YcreKylwmgyf",
        "colab_type": "code",
        "outputId": "bf0688d7-9d76-492c-8326-81888ddea615",
        "colab": {
          "base_uri": "https://localhost:8080/",
          "height": 350
        }
      },
      "source": [
        "main()"
      ],
      "execution_count": 0,
      "outputs": [
        {
          "output_type": "stream",
          "text": [
            "Please visit this URL to authorize this application: https://accounts.google.com/o/oauth2/auth?response_type=code&client_id=59513242107-tvsuj7o7ceiorkdsjp5d0jn9edib9pu3.apps.googleusercontent.com&redirect_uri=http%3A%2F%2Flocalhost%3A45591%2F&scope=https%3A%2F%2Fwww.googleapis.com%2Fauth%2Fgmail.readonly&state=ALERwCZmmrOwP7g1ymXkAwwWLPaK56&access_type=offline\n"
          ],
          "name": "stdout"
        },
        {
          "output_type": "error",
          "ename": "KeyboardInterrupt",
          "evalue": "ignored",
          "traceback": [
            "\u001b[0;31m---------------------------------------------------------------------------\u001b[0m",
            "\u001b[0;31mKeyboardInterrupt\u001b[0m                         Traceback (most recent call last)",
            "\u001b[0;32m<ipython-input-2-263240bbee7e>\u001b[0m in \u001b[0;36m<module>\u001b[0;34m()\u001b[0m\n\u001b[0;32m----> 1\u001b[0;31m \u001b[0mmain\u001b[0m\u001b[0;34m(\u001b[0m\u001b[0;34m)\u001b[0m\u001b[0;34m\u001b[0m\u001b[0;34m\u001b[0m\u001b[0m\n\u001b[0m",
            "\u001b[0;32m<ipython-input-1-852ccd9f53dc>\u001b[0m in \u001b[0;36mmain\u001b[0;34m()\u001b[0m\n\u001b[1;32m     27\u001b[0m             flow = InstalledAppFlow.from_client_secrets_file(\n\u001b[1;32m     28\u001b[0m                 'credentials.json', SCOPES)\n\u001b[0;32m---> 29\u001b[0;31m             \u001b[0mcreds\u001b[0m \u001b[0;34m=\u001b[0m \u001b[0mflow\u001b[0m\u001b[0;34m.\u001b[0m\u001b[0mrun_local_server\u001b[0m\u001b[0;34m(\u001b[0m\u001b[0mport\u001b[0m\u001b[0;34m=\u001b[0m\u001b[0;36m0\u001b[0m\u001b[0;34m)\u001b[0m\u001b[0;34m\u001b[0m\u001b[0;34m\u001b[0m\u001b[0m\n\u001b[0m\u001b[1;32m     30\u001b[0m         \u001b[0;31m# Save the credentials for the next run\u001b[0m\u001b[0;34m\u001b[0m\u001b[0;34m\u001b[0m\u001b[0;34m\u001b[0m\u001b[0m\n\u001b[1;32m     31\u001b[0m         \u001b[0;32mwith\u001b[0m \u001b[0mopen\u001b[0m\u001b[0;34m(\u001b[0m\u001b[0;34m'token.pickle'\u001b[0m\u001b[0;34m,\u001b[0m \u001b[0;34m'wb'\u001b[0m\u001b[0;34m)\u001b[0m \u001b[0;32mas\u001b[0m \u001b[0mtoken\u001b[0m\u001b[0;34m:\u001b[0m\u001b[0;34m\u001b[0m\u001b[0;34m\u001b[0m\u001b[0m\n",
            "\u001b[0;32m/usr/local/lib/python3.6/dist-packages/google_auth_oauthlib/flow.py\u001b[0m in \u001b[0;36mrun_local_server\u001b[0;34m(self, host, port, authorization_prompt_message, success_message, open_browser, **kwargs)\u001b[0m\n\u001b[1;32m    452\u001b[0m         \u001b[0mprint\u001b[0m\u001b[0;34m(\u001b[0m\u001b[0mauthorization_prompt_message\u001b[0m\u001b[0;34m.\u001b[0m\u001b[0mformat\u001b[0m\u001b[0;34m(\u001b[0m\u001b[0murl\u001b[0m\u001b[0;34m=\u001b[0m\u001b[0mauth_url\u001b[0m\u001b[0;34m)\u001b[0m\u001b[0;34m)\u001b[0m\u001b[0;34m\u001b[0m\u001b[0;34m\u001b[0m\u001b[0m\n\u001b[1;32m    453\u001b[0m \u001b[0;34m\u001b[0m\u001b[0m\n\u001b[0;32m--> 454\u001b[0;31m         \u001b[0mlocal_server\u001b[0m\u001b[0;34m.\u001b[0m\u001b[0mhandle_request\u001b[0m\u001b[0;34m(\u001b[0m\u001b[0;34m)\u001b[0m\u001b[0;34m\u001b[0m\u001b[0;34m\u001b[0m\u001b[0m\n\u001b[0m\u001b[1;32m    455\u001b[0m \u001b[0;34m\u001b[0m\u001b[0m\n\u001b[1;32m    456\u001b[0m         \u001b[0;31m# Note: using https here because oauthlib is very picky that\u001b[0m\u001b[0;34m\u001b[0m\u001b[0;34m\u001b[0m\u001b[0;34m\u001b[0m\u001b[0m\n",
            "\u001b[0;32m/usr/lib/python3.6/socketserver.py\u001b[0m in \u001b[0;36mhandle_request\u001b[0;34m(self)\u001b[0m\n\u001b[1;32m    296\u001b[0m \u001b[0;34m\u001b[0m\u001b[0m\n\u001b[1;32m    297\u001b[0m             \u001b[0;32mwhile\u001b[0m \u001b[0;32mTrue\u001b[0m\u001b[0;34m:\u001b[0m\u001b[0;34m\u001b[0m\u001b[0;34m\u001b[0m\u001b[0m\n\u001b[0;32m--> 298\u001b[0;31m                 \u001b[0mready\u001b[0m \u001b[0;34m=\u001b[0m \u001b[0mselector\u001b[0m\u001b[0;34m.\u001b[0m\u001b[0mselect\u001b[0m\u001b[0;34m(\u001b[0m\u001b[0mtimeout\u001b[0m\u001b[0;34m)\u001b[0m\u001b[0;34m\u001b[0m\u001b[0;34m\u001b[0m\u001b[0m\n\u001b[0m\u001b[1;32m    299\u001b[0m                 \u001b[0;32mif\u001b[0m \u001b[0mready\u001b[0m\u001b[0;34m:\u001b[0m\u001b[0;34m\u001b[0m\u001b[0;34m\u001b[0m\u001b[0m\n\u001b[1;32m    300\u001b[0m                     \u001b[0;32mreturn\u001b[0m \u001b[0mself\u001b[0m\u001b[0;34m.\u001b[0m\u001b[0m_handle_request_noblock\u001b[0m\u001b[0;34m(\u001b[0m\u001b[0;34m)\u001b[0m\u001b[0;34m\u001b[0m\u001b[0;34m\u001b[0m\u001b[0m\n",
            "\u001b[0;32m/usr/lib/python3.6/selectors.py\u001b[0m in \u001b[0;36mselect\u001b[0;34m(self, timeout)\u001b[0m\n\u001b[1;32m    374\u001b[0m             \u001b[0mready\u001b[0m \u001b[0;34m=\u001b[0m \u001b[0;34m[\u001b[0m\u001b[0;34m]\u001b[0m\u001b[0;34m\u001b[0m\u001b[0;34m\u001b[0m\u001b[0m\n\u001b[1;32m    375\u001b[0m             \u001b[0;32mtry\u001b[0m\u001b[0;34m:\u001b[0m\u001b[0;34m\u001b[0m\u001b[0;34m\u001b[0m\u001b[0m\n\u001b[0;32m--> 376\u001b[0;31m                 \u001b[0mfd_event_list\u001b[0m \u001b[0;34m=\u001b[0m \u001b[0mself\u001b[0m\u001b[0;34m.\u001b[0m\u001b[0m_poll\u001b[0m\u001b[0;34m.\u001b[0m\u001b[0mpoll\u001b[0m\u001b[0;34m(\u001b[0m\u001b[0mtimeout\u001b[0m\u001b[0;34m)\u001b[0m\u001b[0;34m\u001b[0m\u001b[0;34m\u001b[0m\u001b[0m\n\u001b[0m\u001b[1;32m    377\u001b[0m             \u001b[0;32mexcept\u001b[0m \u001b[0mInterruptedError\u001b[0m\u001b[0;34m:\u001b[0m\u001b[0;34m\u001b[0m\u001b[0;34m\u001b[0m\u001b[0m\n\u001b[1;32m    378\u001b[0m                 \u001b[0;32mreturn\u001b[0m \u001b[0mready\u001b[0m\u001b[0;34m\u001b[0m\u001b[0;34m\u001b[0m\u001b[0m\n",
            "\u001b[0;31mKeyboardInterrupt\u001b[0m: "
          ]
        }
      ]
    },
    {
      "cell_type": "code",
      "metadata": {
        "id": "AbOs8iiiCIdo",
        "colab_type": "code",
        "colab": {}
      },
      "source": [
        "with open('token.pickle', 'rb') as token:\n",
        "    creds = pickle.load(token)"
      ],
      "execution_count": 0,
      "outputs": []
    },
    {
      "cell_type": "code",
      "metadata": {
        "id": "jnrBDkD7CHEm",
        "colab_type": "code",
        "colab": {}
      },
      "source": [
        "service = build('gmail', 'v1', credentials=creds)"
      ],
      "execution_count": 0,
      "outputs": []
    },
    {
      "cell_type": "code",
      "metadata": {
        "id": "nStVhb44CgH8",
        "colab_type": "code",
        "colab": {}
      },
      "source": [
        "results = service.users().messages().list(userId='me').execute()"
      ],
      "execution_count": 0,
      "outputs": []
    },
    {
      "cell_type": "markdown",
      "metadata": {
        "id": "1VEEeBgWrvvL",
        "colab_type": "text"
      },
      "source": [
        "### Dont remember where this is from\n",
        "\n",
        "##### but it is two functions to get messages given an id"
      ]
    },
    {
      "cell_type": "code",
      "metadata": {
        "id": "TZ2XEMmBDLti",
        "colab_type": "code",
        "colab": {}
      },
      "source": [
        "\"\"\"Get Message with given ID.\n",
        "\"\"\"\n",
        "\n",
        "import base64\n",
        "import email\n",
        "from apiclient import errors\n",
        "\n",
        "def GetMessage(service, user_id, msg_id):\n",
        "  \"\"\"Get a Message with given ID.\n",
        "\n",
        "  Args:\n",
        "    service: Authorized Gmail API service instance.\n",
        "    user_id: User's email address. The special value \"me\"\n",
        "    can be used to indicate the authenticated user.\n",
        "    msg_id: The ID of the Message required.\n",
        "\n",
        "  Returns:\n",
        "    A Message.\n",
        "  \"\"\"\n",
        "  try:\n",
        "    message = service.users().messages().get(userId=user_id, id=msg_id).execute()\n",
        "\n",
        "    print(f\"Message snippet: {message['snippet']}\") \n",
        "\n",
        "    return message\n",
        "  except errors.HttpError as error:\n",
        "    print(f'An error occurred: {error}')\n",
        "\n",
        "\n",
        "def GetMimeMessage(service, user_id, msg_id):\n",
        "  \"\"\"Get a Message and use it to create a MIME Message.\n",
        "\n",
        "  Args:\n",
        "    service: Authorized Gmail API service instance.\n",
        "    user_id: User's email address. The special value \"me\"\n",
        "    can be used to indicate the authenticated user.\n",
        "    msg_id: The ID of the Message required.\n",
        "\n",
        "  Returns:\n",
        "    A MIME Message, consisting of data from Message.\n",
        "  \"\"\"\n",
        "  try:\n",
        "    message = service.users().messages().get(userId=user_id, id=msg_id,\n",
        "                                             format='raw').execute()\n",
        "\n",
        "    print(f\"Message snippet: {message['snippet']}\")\n",
        "\n",
        "    msg_str = base64.urlsafe_b64decode(message['raw'].encode('ASCII'))\n",
        "\n",
        "    mime_msg = email.message_from_string(msg_str)\n",
        "\n",
        "    return mime_msg\n",
        "  except errors.HttpError as error:\n",
        "    print(f'An error occurred: {error}')"
      ],
      "execution_count": 0,
      "outputs": []
    },
    {
      "cell_type": "markdown",
      "metadata": {
        "id": "nkqDaqwer6k_",
        "colab_type": "text"
      },
      "source": [
        "##### breaking out the steps to figure out how it wokrs"
      ]
    },
    {
      "cell_type": "code",
      "metadata": {
        "id": "nBFmXGTYEjt0",
        "colab_type": "code",
        "outputId": "3f4bdd9e-31f8-478d-9016-61c4d501b7f7",
        "colab": {
          "base_uri": "https://localhost:8080/",
          "height": 54
        }
      },
      "source": [
        "one = GetMessage(service, 'me', results['messages'][0]['id'])"
      ],
      "execution_count": 0,
      "outputs": [
        {
          "output_type": "stream",
          "text": [
            "Message snippet: Your Indie Hackers community digest for November 12th ‌ ‌ ‌ ‌ ‌ ‌ ‌ ‌ ‌ ‌ ‌ ‌ ‌ ‌ ‌ ‌ ‌ ‌ ‌ ‌ ‌ ‌ ‌ ‌ ‌ ‌ ‌ ‌ ‌ ‌ ‌ ‌ ‌ ‌ ‌ ‌ ‌ ‌ ‌ ‌ ‌ ‌ ‌ ‌ ‌ ‌ ‌ ‌ ‌ ‌ ‌ ‌ ‌ ‌ ‌ ‌ ‌ ‌ ‌ ‌ ‌ ‌ ‌ ‌ ‌ ‌ ‌ ‌ ‌ ‌ ‌ ‌ ‌ ‌\n"
          ],
          "name": "stdout"
        }
      ]
    },
    {
      "cell_type": "code",
      "metadata": {
        "id": "B890_tztD-Ea",
        "colab_type": "code",
        "colab": {}
      },
      "source": [
        "mess = GetMessage(service, 'me', results['messages'][1]['id'])\n",
        "Id = mess['id']\n",
        "label_ids = mess['labelIds']\n",
        "snippet = mess['snippet']\n",
        "mime_type = mess['payload']['mimeType']\n",
        "for item in mess['payload']['headers']:\n",
        "  if item['name'] == 'From':\n",
        "    from_ = item['value']\n",
        "    if item['name'] == 'subject':\n",
        "      subject = item['value']\n",
        "print(Id, label_ids, from_, subject, snippet, mime_type)\n"
      ],
      "execution_count": 0,
      "outputs": []
    },
    {
      "cell_type": "code",
      "metadata": {
        "id": "i5itkPubFblA",
        "colab_type": "code",
        "outputId": "50fad221-4e3e-4dcb-f858-bc8b8edc2f28",
        "colab": {
          "base_uri": "https://localhost:8080/",
          "height": 54
        }
      },
      "source": [
        "\n",
        "\n",
        "two = GetMessage(service, 'me', results['messages'][1]['id'])"
      ],
      "execution_count": 0,
      "outputs": [
        {
          "output_type": "stream",
          "text": [
            "Message snippet: Sponsored by Barron&#39;s The first step toward taking control of your finances is understanding the landscape—and it helps to have a guide like Barron&#39;s. Today, we&#39;re sharing a collection of\n"
          ],
          "name": "stdout"
        }
      ]
    },
    {
      "cell_type": "markdown",
      "metadata": {
        "id": "h5fAN6GP8f7z",
        "colab_type": "text"
      },
      "source": [
        ""
      ]
    },
    {
      "cell_type": "code",
      "metadata": {
        "id": "3YjZskY5COkh",
        "colab_type": "code",
        "colab": {}
      },
      "source": [
        "for key in two.keys():\n",
        "  print(key, two[key])"
      ],
      "execution_count": 0,
      "outputs": []
    },
    {
      "cell_type": "code",
      "metadata": {
        "id": "RXtIkGwNIZzH",
        "colab_type": "code",
        "outputId": "24f568b0-6eb1-4d5c-d1c2-66536d458ef6",
        "colab": {
          "base_uri": "https://localhost:8080/",
          "height": 34
        }
      },
      "source": [
        "for item in two['payload']['headers']:\n",
        "  if item['name'] == 'From':\n",
        "    print(item['value'])"
      ],
      "execution_count": 0,
      "outputs": [
        {
          "output_type": "stream",
          "text": [
            "Pocket <noreply@getpocket.com>\n"
          ],
          "name": "stdout"
        }
      ]
    },
    {
      "cell_type": "code",
      "metadata": {
        "id": "9HPWmwMKMp0A",
        "colab_type": "code",
        "outputId": "1e38a043-c59a-4e19-97a2-afa7c1d058af",
        "colab": {
          "base_uri": "https://localhost:8080/",
          "height": 34
        }
      },
      "source": [
        "len(results['messages'])"
      ],
      "execution_count": 0,
      "outputs": [
        {
          "output_type": "execute_result",
          "data": {
            "text/plain": [
              "100"
            ]
          },
          "metadata": {
            "tags": []
          },
          "execution_count": 58
        }
      ]
    },
    {
      "cell_type": "markdown",
      "metadata": {
        "id": "2DtydycnsADZ",
        "colab_type": "text"
      },
      "source": [
        "### Here i looped through the ids and wrote some information to the a csv"
      ]
    },
    {
      "cell_type": "code",
      "metadata": {
        "id": "29ASMLf8HLrp",
        "colab_type": "code",
        "colab": {}
      },
      "source": [
        "import csv\n",
        "\n",
        "csv_file = open('gmail_api_emails.csv', 'w', encoding='UTF-8')\n",
        "csv_writer = csv.writer(csv_file)\n",
        "csv_writer.writerow(['id', 'label_ids', 'from_' 'snippet', 'mime_type'])\n",
        "for msg in results['messages']:\n",
        "  mess = GetMessage(service, 'me', msg['id'])\n",
        "  Id = mess['id']\n",
        "  label_ids = mess['labelIds']\n",
        "  snippet = mess['snippet']\n",
        "  mime_type = mess['payload']['mimeType']\n",
        "  for item in mess['payload']['headers']:\n",
        "    if item['name'] == 'From':\n",
        "      from_ = item['value']\n",
        "  \n",
        "  csv_writer.writerow([Id, label_ids, from_, snippet, mime_type])"
      ],
      "execution_count": 0,
      "outputs": []
    },
    {
      "cell_type": "code",
      "metadata": {
        "id": "O8Al6BLkMgRH",
        "colab_type": "code",
        "colab": {}
      },
      "source": [
        "import pandas as pd\n",
        "\n",
        "df = pd.read_csv('/content/gmail_api_emails.csv')\n",
        "\n",
        "print(df.shape)\n",
        "\n",
        "df.head()"
      ],
      "execution_count": 0,
      "outputs": []
    },
    {
      "cell_type": "code",
      "metadata": {
        "id": "CEdqGc13WiCA",
        "colab_type": "code",
        "colab": {}
      },
      "source": [
        "flow = InstalledAppFlow.from_client_secrets_file(\n",
        "                'credentials.json', SCOPES)\n",
        "creds = flow.run_local_server(port=0)"
      ],
      "execution_count": 0,
      "outputs": []
    },
    {
      "cell_type": "code",
      "metadata": {
        "id": "790sBJo6XAL9",
        "colab_type": "code",
        "colab": {}
      },
      "source": [
        "messages"
      ],
      "execution_count": 0,
      "outputs": []
    },
    {
      "cell_type": "code",
      "metadata": {
        "id": "bP2oNhlVWk3G",
        "colab_type": "code",
        "colab": {}
      },
      "source": [
        "dir()"
      ],
      "execution_count": 0,
      "outputs": []
    },
    {
      "cell_type": "code",
      "metadata": {
        "id": "EpfPJHrdW2RS",
        "colab_type": "code",
        "colab": {}
      },
      "source": [
        ""
      ],
      "execution_count": 0,
      "outputs": []
    }
  ]
}