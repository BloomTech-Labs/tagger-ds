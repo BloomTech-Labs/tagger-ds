{
  "nbformat": 4,
  "nbformat_minor": 0,
  "metadata": {
    "kernelspec": {
      "display_name": "Python 3",
      "language": "python",
      "name": "python3"
    },
    "language_info": {
      "codemirror_mode": {
        "name": "ipython",
        "version": 3
      },
      "file_extension": ".py",
      "mimetype": "text/x-python",
      "name": "python",
      "nbconvert_exporter": "python",
      "pygments_lexer": "ipython3",
      "version": "3.7.4"
    },
    "colab": {
      "name": "personal-tag-model-testing.ipynb",
      "provenance": [],
      "toc_visible": true
    }
  },
  "cells": [
    {
      "cell_type": "code",
      "metadata": {
        "id": "Q-0X_w1PgSb-",
        "colab_type": "code",
        "colab": {}
      },
      "source": [
        ""
      ],
      "execution_count": 0,
      "outputs": []
    },
    {
      "cell_type": "code",
      "metadata": {
        "id": "PCU7b5hPgPgT",
        "colab_type": "code",
        "colab": {}
      },
      "source": [
        "import joblib\n",
        "import pandas as pd\n",
        "import numpy as np\n",
        "# import nltk\n",
        "# nltk.download('wordnet')\n",
        "\n",
        "from sklearn.model_selection import train_test_split\n",
        "from sklearn.feature_extraction.text import TfidfVectorizer\n",
        "from sklearn.linear_model import LogisticRegression\n",
        "# from nltk.stem import WordNetLemmatizer\n",
        "# from nltk.tokenize.regexp import regexp_tokenize\n",
        "from gensim.utils import simple_preprocess\n",
        "from gensim.parsing.preprocessing import STOPWORDS\n",
        "from gensim import corpora"
      ],
      "execution_count": 0,
      "outputs": []
    },
    {
      "cell_type": "code",
      "metadata": {
        "id": "QJsh1shGgPgr",
        "colab_type": "code",
        "colab": {},
        "outputId": "37b1d3b0-f944-4c34-f2c9-f38879f94872"
      },
      "source": [
        "import sys\n",
        "\n",
        "sys.executable"
      ],
      "execution_count": 0,
      "outputs": [
        {
          "output_type": "execute_result",
          "data": {
            "text/plain": [
              "'C:\\\\Users\\\\ajaco\\\\Anaconda3\\\\python.exe'"
            ]
          },
          "metadata": {
            "tags": []
          },
          "execution_count": 3
        }
      ]
    },
    {
      "cell_type": "code",
      "metadata": {
        "id": "I-7GxqQvgPg6",
        "colab_type": "code",
        "colab": {},
        "outputId": "4078f9d4-6bea-46ba-cef3-2ce6acd11a2c"
      },
      "source": [
        "sys.path"
      ],
      "execution_count": 0,
      "outputs": [
        {
          "output_type": "execute_result",
          "data": {
            "text/plain": [
              "['C:\\\\Users\\\\ajaco',\n",
              " 'C:\\\\Users\\\\ajaco\\\\Desktop\\\\repos\\\\noreallyimfine\\\\deploying-machine-learning-models\\\\packages\\\\regression_model',\n",
              " 'C:\\\\Users\\\\ajaco\\\\Anaconda3\\\\python37.zip',\n",
              " 'C:\\\\Users\\\\ajaco\\\\Anaconda3\\\\DLLs',\n",
              " 'C:\\\\Users\\\\ajaco\\\\Anaconda3\\\\lib',\n",
              " 'C:\\\\Users\\\\ajaco\\\\Anaconda3',\n",
              " '',\n",
              " 'C:\\\\Users\\\\ajaco\\\\AppData\\\\Roaming\\\\Python\\\\Python37\\\\site-packages',\n",
              " 'C:\\\\Users\\\\ajaco\\\\Anaconda3\\\\lib\\\\site-packages',\n",
              " 'C:\\\\Users\\\\ajaco\\\\Anaconda3\\\\lib\\\\site-packages\\\\win32',\n",
              " 'C:\\\\Users\\\\ajaco\\\\Anaconda3\\\\lib\\\\site-packages\\\\win32\\\\lib',\n",
              " 'C:\\\\Users\\\\ajaco\\\\Anaconda3\\\\lib\\\\site-packages\\\\Pythonwin',\n",
              " 'C:\\\\Users\\\\ajaco\\\\Anaconda3\\\\lib\\\\site-packages\\\\IPython\\\\extensions',\n",
              " 'C:\\\\Users\\\\ajaco\\\\.ipython']"
            ]
          },
          "metadata": {
            "tags": []
          },
          "execution_count": 4
        }
      ]
    },
    {
      "cell_type": "code",
      "metadata": {
        "id": "1IHBgasvgPhF",
        "colab_type": "code",
        "colab": {},
        "outputId": "ded84fe0-070d-43d5-f992-000b63267ad1"
      },
      "source": [
        "!jupyter kernelspec list"
      ],
      "execution_count": 0,
      "outputs": [
        {
          "output_type": "stream",
          "text": [
            "Available kernels:\n",
            "  python3    C:\\Users\\ajaco\\Anaconda3\\share\\jupyter\\kernels\\python3\n"
          ],
          "name": "stdout"
        }
      ]
    },
    {
      "cell_type": "code",
      "metadata": {
        "id": "zF28rOnTgPhQ",
        "colab_type": "code",
        "colab": {
          "base_uri": "https://localhost:8080/",
          "height": 626
        },
        "outputId": "2f432309-7052-44c3-ca1b-c59b7c2a2665"
      },
      "source": [
        "df = pd.read_csv('twelve_twelve_update.csv')\n",
        "\n",
        "print(df.shape)\n",
        "\n",
        "df.head()"
      ],
      "execution_count": 3,
      "outputs": [
        {
          "output_type": "stream",
          "text": [
            "(11114, 15)\n"
          ],
          "name": "stdout"
        },
        {
          "output_type": "execute_result",
          "data": {
            "text/html": [
              "<div>\n",
              "<style scoped>\n",
              "    .dataframe tbody tr th:only-of-type {\n",
              "        vertical-align: middle;\n",
              "    }\n",
              "\n",
              "    .dataframe tbody tr th {\n",
              "        vertical-align: top;\n",
              "    }\n",
              "\n",
              "    .dataframe thead th {\n",
              "        text-align: right;\n",
              "    }\n",
              "</style>\n",
              "<table border=\"1\" class=\"dataframe\">\n",
              "  <thead>\n",
              "    <tr style=\"text-align: right;\">\n",
              "      <th></th>\n",
              "      <th>From</th>\n",
              "      <th>Message</th>\n",
              "      <th>Subject</th>\n",
              "      <th>Tags</th>\n",
              "      <th>UID</th>\n",
              "      <th>text</th>\n",
              "      <th>tag_list</th>\n",
              "      <th>first_tag</th>\n",
              "      <th>sender_name</th>\n",
              "      <th>sender_email</th>\n",
              "      <th>domain_name</th>\n",
              "      <th>isNoReply</th>\n",
              "      <th>link_count</th>\n",
              "      <th>clean_text</th>\n",
              "      <th>is_personal</th>\n",
              "    </tr>\n",
              "  </thead>\n",
              "  <tbody>\n",
              "    <tr>\n",
              "      <th>0</th>\n",
              "      <td>&lt;grangepayments@westernunionspeedpay.com&gt;</td>\n",
              "      <td>Dear AVRAHAM JACOBSOHN,  This is to confirm th...</td>\n",
              "      <td>Grange Payment Confirmation</td>\n",
              "      <td>Finance</td>\n",
              "      <td>31780</td>\n",
              "      <td>&lt;grangepayments@westernunionspeedpay.com&gt; Gran...</td>\n",
              "      <td>['Finance']</td>\n",
              "      <td>Finance</td>\n",
              "      <td>NaN</td>\n",
              "      <td>grangepayments@westernunionspeedpay.com</td>\n",
              "      <td>westernunionspeedpay</td>\n",
              "      <td>False</td>\n",
              "      <td>0</td>\n",
              "      <td>Dear AVRAHAM JACOBSOHN This is to confirm that...</td>\n",
              "      <td>False</td>\n",
              "    </tr>\n",
              "    <tr>\n",
              "      <th>1</th>\n",
              "      <td>Chase &lt;no.reply.alerts@chase.com&gt;</td>\n",
              "      <td>This is an Alert to help manage your account ...</td>\n",
              "      <td>Your Debit Card Transaction</td>\n",
              "      <td>Finance</td>\n",
              "      <td>31779</td>\n",
              "      <td>Chase &lt;no.reply.alerts@chase.com&gt; Your Debit C...</td>\n",
              "      <td>['Finance']</td>\n",
              "      <td>Finance</td>\n",
              "      <td>Chase</td>\n",
              "      <td>no.reply.alerts@chase.com</td>\n",
              "      <td>chase</td>\n",
              "      <td>True</td>\n",
              "      <td>0</td>\n",
              "      <td>This is an Alert to help manage your account e...</td>\n",
              "      <td>False</td>\n",
              "    </tr>\n",
              "    <tr>\n",
              "      <th>2</th>\n",
              "      <td>Amazon Web Services &lt;no-reply-aws@amazon.com&gt;</td>\n",
              "      <td>Please let us know if we helped resolve your i...</td>\n",
              "      <td>Resolved 6559329691: Limit Increase: SageMaker</td>\n",
              "      <td>Productivity</td>\n",
              "      <td>31738</td>\n",
              "      <td>Amazon Web Services &lt;no-reply-aws@amazon.com&gt; ...</td>\n",
              "      <td>['Productivity']</td>\n",
              "      <td>Productivity</td>\n",
              "      <td>Amazon Web Services</td>\n",
              "      <td>no-reply-aws@amazon.com</td>\n",
              "      <td>amazon</td>\n",
              "      <td>True</td>\n",
              "      <td>3</td>\n",
              "      <td>Please let us know if we helped resolve your i...</td>\n",
              "      <td>False</td>\n",
              "    </tr>\n",
              "    <tr>\n",
              "      <th>3</th>\n",
              "      <td>Lambda Labs &lt;noreply@github.com&gt;</td>\n",
              "      <td>Youve been added to the Labs 18 - Tagger team ...</td>\n",
              "      <td>Bernie Durfee added you to the Lambda Labs tea...</td>\n",
              "      <td>Productivity</td>\n",
              "      <td>31693</td>\n",
              "      <td>Lambda Labs &lt;noreply@github.com&gt; Bernie Durfee...</td>\n",
              "      <td>['Productivity']</td>\n",
              "      <td>Productivity</td>\n",
              "      <td>Lambda Labs</td>\n",
              "      <td>noreply@github.com</td>\n",
              "      <td>github</td>\n",
              "      <td>True</td>\n",
              "      <td>2</td>\n",
              "      <td>Youve been added to the Labs Tagger team for t...</td>\n",
              "      <td>False</td>\n",
              "    </tr>\n",
              "    <tr>\n",
              "      <th>4</th>\n",
              "      <td>Amazon Web Services &lt;no-reply-aws@amazon.com&gt;</td>\n",
              "      <td>Hello,  We haven't heard back from you regard...</td>\n",
              "      <td>Attention required on case 6559329691: Limit I...</td>\n",
              "      <td>Productivity</td>\n",
              "      <td>31684</td>\n",
              "      <td>Amazon Web Services &lt;no-reply-aws@amazon.com&gt; ...</td>\n",
              "      <td>['Productivity']</td>\n",
              "      <td>Productivity</td>\n",
              "      <td>Amazon Web Services</td>\n",
              "      <td>no-reply-aws@amazon.com</td>\n",
              "      <td>amazon</td>\n",
              "      <td>True</td>\n",
              "      <td>2</td>\n",
              "      <td>Hello We haven't heard back from you regarding...</td>\n",
              "      <td>False</td>\n",
              "    </tr>\n",
              "  </tbody>\n",
              "</table>\n",
              "</div>"
            ],
            "text/plain": [
              "                                            From  ... is_personal\n",
              "0      <grangepayments@westernunionspeedpay.com>  ...       False\n",
              "1              Chase <no.reply.alerts@chase.com>  ...       False\n",
              "2  Amazon Web Services <no-reply-aws@amazon.com>  ...       False\n",
              "3               Lambda Labs <noreply@github.com>  ...       False\n",
              "4  Amazon Web Services <no-reply-aws@amazon.com>  ...       False\n",
              "\n",
              "[5 rows x 15 columns]"
            ]
          },
          "metadata": {
            "tags": []
          },
          "execution_count": 3
        }
      ]
    },
    {
      "cell_type": "code",
      "metadata": {
        "id": "xechdS_JgPhc",
        "colab_type": "code",
        "colab": {
          "base_uri": "https://localhost:8080/",
          "height": 34
        },
        "outputId": "65a2772c-b124-4cfe-98a8-e6792e576bbd"
      },
      "source": [
        "train, test = train_test_split(df, stratify=df['is_personal'])\n",
        "\n",
        "train.shape, test.shape"
      ],
      "execution_count": 4,
      "outputs": [
        {
          "output_type": "execute_result",
          "data": {
            "text/plain": [
              "((8335, 15), (2779, 15))"
            ]
          },
          "metadata": {
            "tags": []
          },
          "execution_count": 4
        }
      ]
    },
    {
      "cell_type": "code",
      "metadata": {
        "id": "XR4_9j0agPhk",
        "colab_type": "code",
        "colab": {
          "base_uri": "https://localhost:8080/",
          "height": 34
        },
        "outputId": "ede9f2d2-bf9a-4f64-be70-228fff0175b1"
      },
      "source": [
        "features = 'clean_text'\n",
        "target = 'is_personal'\n",
        "\n",
        "X_train = train[features]\n",
        "y_train = train[target]\n",
        "\n",
        "X_test = test[features]\n",
        "y_test = test[target]\n",
        "\n",
        "X_train.shape, y_train.shape, X_test.shape, y_test.shape"
      ],
      "execution_count": 14,
      "outputs": [
        {
          "output_type": "execute_result",
          "data": {
            "text/plain": [
              "((8335,), (8335,), (2779,), (2779,))"
            ]
          },
          "metadata": {
            "tags": []
          },
          "execution_count": 14
        }
      ]
    },
    {
      "cell_type": "code",
      "metadata": {
        "id": "G4HYFB0-gPhq",
        "colab_type": "code",
        "colab": {}
      },
      "source": [
        "def regnltk_tokenize(text, lemmatizer, tokenizer):\n",
        "    words = tokenizer(text, pattern='\\s+', gaps=True)\n",
        "    return [lemmatizer.lemmatize(word) for word in words if (len(word) >= 3)]"
      ],
      "execution_count": 0,
      "outputs": []
    },
    {
      "cell_type": "code",
      "metadata": {
        "id": "VOoF-brRgPh0",
        "colab_type": "code",
        "colab": {}
      },
      "source": [
        "def regnltk_tokenize(text):\n",
        "    lemmatizer = WordNetLemmatizer()\n",
        "    words = regexp_tokenize(text, pattern='\\s+', gaps=True)\n",
        "    return [lemmatizer.lemmatize(word) for word in words if (len(word) >= 3)]"
      ],
      "execution_count": 0,
      "outputs": []
    },
    {
      "cell_type": "code",
      "metadata": {
        "id": "CrAzocrfgPh8",
        "colab_type": "code",
        "colab": {},
        "outputId": "367907fc-eeae-40e1-c143-9fcf59f33a9b"
      },
      "source": [
        "vect = joblib.load('C://Users/ajaco/Downloads/vect.joblib')"
      ],
      "execution_count": 0,
      "outputs": [
        {
          "output_type": "stream",
          "text": [
            "C:\\Users\\ajaco\\Anaconda3\\lib\\site-packages\\sklearn\\base.py:306: UserWarning: Trying to unpickle estimator TfidfTransformer from version 0.20.3 when using version 0.21.3. This might lead to breaking code or invalid results. Use at your own risk.\n",
            "  UserWarning)\n",
            "C:\\Users\\ajaco\\Anaconda3\\lib\\site-packages\\sklearn\\base.py:306: UserWarning: Trying to unpickle estimator TfidfVectorizer from version 0.20.3 when using version 0.21.3. This might lead to breaking code or invalid results. Use at your own risk.\n",
            "  UserWarning)\n"
          ],
          "name": "stderr"
        }
      ]
    },
    {
      "cell_type": "code",
      "metadata": {
        "id": "rciOZ920gPiG",
        "colab_type": "code",
        "colab": {},
        "outputId": "90213bea-caac-4f0d-ad4c-5a5e4205cd55"
      },
      "source": [
        "X_train = vect.transform(X_train)\n",
        "X_test = vect.transform(X_test)"
      ],
      "execution_count": 0,
      "outputs": [
        {
          "output_type": "stream",
          "text": [
            "C:\\Users\\ajaco\\Anaconda3\\lib\\site-packages\\sklearn\\feature_extraction\\text.py:300: UserWarning: Your stop_words may be inconsistent with your preprocessing. Tokenizing the stop words generated tokens ['doe', 'ha', 'le', 'wa'] not in stop_words.\n",
            "  'stop_words.' % sorted(inconsistent))\n"
          ],
          "name": "stderr"
        }
      ]
    },
    {
      "cell_type": "code",
      "metadata": {
        "id": "mgnGDBhFgPiS",
        "colab_type": "code",
        "colab": {
          "base_uri": "https://localhost:8080/",
          "height": 34
        },
        "outputId": "ca7f2a5f-dcab-49ce-9715-0cde3630b6ee"
      },
      "source": [
        "model = LogisticRegression(solver='lbfgs')\n",
        "\n",
        "model.fit(X_train, y_train)\n",
        "\n",
        "print('Logistic Regression Accuracy: ', model.score(X_test, y_test))"
      ],
      "execution_count": 8,
      "outputs": [
        {
          "output_type": "stream",
          "text": [
            "Logistic Regression Accuracy:  0.9618567830154732\n"
          ],
          "name": "stdout"
        }
      ]
    },
    {
      "cell_type": "markdown",
      "metadata": {
        "id": "w7zxdzgXgPiZ",
        "colab_type": "text"
      },
      "source": [
        "#### This section I try to recreate 97% accuracy with basic TfidfVectorizer"
      ]
    },
    {
      "cell_type": "code",
      "metadata": {
        "id": "rmIgss0tgPic",
        "colab_type": "code",
        "colab": {}
      },
      "source": [
        "tfidf = TfidfVectorizer(stop_words='english')\n",
        "\n",
        "X_train = tfidf.fit_transform(X_train)\n",
        "X_test = tfidf.transform(X_test)"
      ],
      "execution_count": 0,
      "outputs": []
    },
    {
      "cell_type": "code",
      "metadata": {
        "id": "XF_bsAVOgPii",
        "colab_type": "code",
        "colab": {},
        "outputId": "72ddc0fa-0403-409b-9096-9c948e576deb"
      },
      "source": [
        "model.fit(X_train, y_train)\n",
        "\n",
        "# 96.3% acc. \n",
        "print('Logistic Regression Accuracy: ', model.score(X_test, y_test))"
      ],
      "execution_count": 0,
      "outputs": [
        {
          "output_type": "stream",
          "text": [
            "Logistic Regression Accuracy:  0.9636559913638\n"
          ],
          "name": "stdout"
        }
      ]
    },
    {
      "cell_type": "markdown",
      "metadata": {
        "id": "afW-q3fGgPiq",
        "colab_type": "text"
      },
      "source": [
        "### Here would like to try gensim or spacy tokenizer"
      ]
    },
    {
      "cell_type": "code",
      "metadata": {
        "id": "1KatA-vS23IE",
        "colab_type": "code",
        "colab": {}
      },
      "source": [
        "my_stopwords = STOPWORDS.union(set(['jacobsohn', 'avraham', 'http', 'https', 'kalman', 'com', 'sdui', 'www']))"
      ],
      "execution_count": 0,
      "outputs": []
    },
    {
      "cell_type": "code",
      "metadata": {
        "id": "8wxBQjYVgPis",
        "colab_type": "code",
        "colab": {}
      },
      "source": [
        "def tokenize(text):\n",
        "    return [token for token in simple_preprocess(text) if token not in my_stopwords]"
      ],
      "execution_count": 0,
      "outputs": []
    },
    {
      "cell_type": "code",
      "metadata": {
        "id": "4D9Pa1Cbn7mg",
        "colab_type": "code",
        "colab": {
          "base_uri": "https://localhost:8080/",
          "height": 34
        },
        "outputId": "cc74328c-6a7c-494b-bde5-7df469d427b9"
      },
      "source": [
        "vect = TfidfVectorizer(tokenizer=tokenize, ngram_range=(1,1), min_df=0.05, max_df=0.95)\n",
        "model = LogisticRegression(solver='lbfgs')\n",
        "\n",
        "features = 'clean_text'\n",
        "target = 'is_personal'\n",
        "\n",
        "X_train = train[features]\n",
        "y_train = train[target]\n",
        "\n",
        "X_test = test[features]\n",
        "y_test = test[target]\n",
        "\n",
        "X_train = vect.fit_transform(X_train)\n",
        "X_test = vect.transform(X_test)\n",
        "\n",
        "model.fit(X_train, y_train)\n",
        "\n",
        "print('Logistic Regression Accuracy: ', model.score(X_test, y_test))"
      ],
      "execution_count": 22,
      "outputs": [
        {
          "output_type": "stream",
          "text": [
            "Logistic Regression Accuracy:  0.9453040662108673\n"
          ],
          "name": "stdout"
        }
      ]
    },
    {
      "cell_type": "markdown",
      "metadata": {
        "id": "oDH6tXkVgPi0",
        "colab_type": "text"
      },
      "source": [
        "#### Here would like to try a grid search if that even makes sense."
      ]
    },
    {
      "cell_type": "code",
      "metadata": {
        "id": "aSzjIDPfgPi2",
        "colab_type": "code",
        "colab": {
          "base_uri": "https://localhost:8080/",
          "height": 34
        },
        "outputId": "5acb579b-eb15-4779-fc5c-d514d93f0ae2"
      },
      "source": [
        "joblib.dump(model, 'logreg.pkl')"
      ],
      "execution_count": 10,
      "outputs": [
        {
          "output_type": "execute_result",
          "data": {
            "text/plain": [
              "['logreg.pkl']"
            ]
          },
          "metadata": {
            "tags": []
          },
          "execution_count": 10
        }
      ]
    },
    {
      "cell_type": "code",
      "metadata": {
        "id": "5wDWi4-_j3ar",
        "colab_type": "code",
        "colab": {
          "base_uri": "https://localhost:8080/",
          "height": 34
        },
        "outputId": "ff8412e1-4b6e-470f-bb2e-9f213a9dd633"
      },
      "source": [
        "joblib.dump(tfidf, 'basic_tfidf.pkl')"
      ],
      "execution_count": 12,
      "outputs": [
        {
          "output_type": "execute_result",
          "data": {
            "text/plain": [
              "['basic_tfidf.pkl']"
            ]
          },
          "metadata": {
            "tags": []
          },
          "execution_count": 12
        }
      ]
    },
    {
      "cell_type": "code",
      "metadata": {
        "id": "8Zqs1gYLj8UT",
        "colab_type": "code",
        "colab": {}
      },
      "source": [
        ""
      ],
      "execution_count": 0,
      "outputs": []
    }
  ]
}