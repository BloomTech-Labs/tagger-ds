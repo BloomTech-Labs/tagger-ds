{
 "cells": [
  {
   "cell_type": "code",
   "execution_count": 1,
   "metadata": {
    "colab": {},
    "colab_type": "code",
    "id": "AhaWewB3itRZ"
   },
   "outputs": [],
   "source": [
    "from sklearn.model_selection import train_test_split\n",
    "from sklearn.feature_extraction.text import TfidfVectorizer\n",
    "import pickle\n",
    "import seaborn as sns\n",
    "import numpy as np\n",
    "import boto3\n",
    "import pandas as pd\n",
    "from sagemaker import get_execution_role\n",
    "import tensorflow as tf\n",
    "from tensorflow.keras.preprocessing.text import Tokenizer\n",
    "from tensorflow.keras.preprocessing.sequence import pad_sequences\n",
    "from tensorflow.keras.models import Sequential, Model\n",
    "from tensorflow.keras.layers import Dense, Embedding, LSTM, GRU\n",
    "from tensorflow.keras.callbacks import EarlyStopping\n",
    "from tensorflow.keras.layers import Dropout, SpatialDropout1D, Input, concatenate\n",
    "from tensorflow.core.protobuf import rewriter_config_pb2\n",
    "from tensorflow.keras.backend import set_session"
   ]
  },
  {
   "cell_type": "code",
   "execution_count": 2,
   "metadata": {
    "colab": {
     "base_uri": "https://localhost:8080/",
     "height": 125
    },
    "colab_type": "code",
    "id": "UD6iZMIALJ8H",
    "outputId": "0e3ccf63-f1a3-46c1-e9f7-391ff31a155b"
   },
   "outputs": [],
   "source": [
    "role = get_execution_role()\n",
    "bucket='sagemaker-tagger'\n",
    "data_key1 = 'update_twelve_three.csv'\n",
    "data_location1 = 's3://{}/{}'.format(bucket, data_key1)\n",
    "\n",
    "df = pd.read_csv(data_location1)"
   ]
  },
  {
   "cell_type": "code",
   "execution_count": 3,
   "metadata": {
    "colab": {
     "base_uri": "https://localhost:8080/",
     "height": 54
    },
    "colab_type": "code",
    "id": "qm1usu18VrKN",
    "outputId": "da4abaa4-95d2-4a07-aa2d-ae0a195540e1"
   },
   "outputs": [
    {
     "data": {
      "text/plain": [
       "'Dear AVRAHAM JACOBSOHN,  This is to confirm that a card payment for 142.48 was made to your Grange account ending in 1173 using the card ending in 2308.  Confirmation Number: 6786423  Scheduled Payment Date: 11/08/2019  Payment Amount: 142.48  Last 4 of Card: 2308  Please contact Grange Insurance at 1-800-425-1100 if you have any questions.  Sincerely,  Grange Insurance  Please note:  This email message was sent from a notification-only address that cannot accept incoming email.  Please do not reply to this message.  '"
      ]
     },
     "execution_count": 3,
     "metadata": {},
     "output_type": "execute_result"
    }
   ],
   "source": [
    "df['Message'][0]"
   ]
  },
  {
   "cell_type": "code",
   "execution_count": 4,
   "metadata": {
    "colab": {},
    "colab_type": "code",
    "id": "LxhryVWcdwzX"
   },
   "outputs": [],
   "source": [
    "# Change the name of the column with From + Subject + Message\n",
    "\n",
    "df.rename(columns={'text':'Combined_Text'}, inplace=True)"
   ]
  },
  {
   "cell_type": "code",
   "execution_count": 5,
   "metadata": {
    "colab": {},
    "colab_type": "code",
    "id": "VEhxUZs4GxTl"
   },
   "outputs": [],
   "source": [
    "# Function to clean the text prior to tokenizing\n",
    "\n",
    "def clean_text(text):\n",
    "    # Perform a few cleaning steps to remove non-alphabetic characters\n",
    "    \n",
    "    text = text.replace(\"\\n\", \" \").replace(\"\\r\", \" \")\n",
    "\n",
    "    text = text.strip(\" \")\n",
    "    \n",
    "    punc_list = '!@#$%^&*()+?-_=:.<>[]{}/\\~\",©' + '1234567890'\n",
    "    t = str.maketrans(dict.fromkeys(punc_list, \" \"))\n",
    "    text = text.translate(t)\n",
    "    \n",
    "    return text"
   ]
  },
  {
   "cell_type": "code",
   "execution_count": 6,
   "metadata": {
    "colab": {},
    "colab_type": "code",
    "id": "MqwHdyjfWM1U"
   },
   "outputs": [],
   "source": [
    "# Clean the From Message and Subject before separating to different models\n",
    "\n",
    "df['Clean_Message'] = df['Message'].apply(clean_text)\n",
    "\n",
    "df['Clean_From'] = df['From'].apply(clean_text)\n",
    "\n",
    "df['Clean_Subject'] = df['Subject'].apply(clean_text)\n",
    "\n",
    "df['Combined_Text'] = df['Combined_Text'].apply(clean_text)"
   ]
  },
  {
   "cell_type": "code",
   "execution_count": 7,
   "metadata": {
    "colab": {
     "base_uri": "https://localhost:8080/",
     "height": 534
    },
    "colab_type": "code",
    "id": "bS_B87XnWOk0",
    "outputId": "ac38643d-3b0d-4caa-f8b8-7ffc9504d73a"
   },
   "outputs": [
    {
     "data": {
      "text/html": [
       "<div>\n",
       "<style scoped>\n",
       "    .dataframe tbody tr th:only-of-type {\n",
       "        vertical-align: middle;\n",
       "    }\n",
       "\n",
       "    .dataframe tbody tr th {\n",
       "        vertical-align: top;\n",
       "    }\n",
       "\n",
       "    .dataframe thead th {\n",
       "        text-align: right;\n",
       "    }\n",
       "</style>\n",
       "<table border=\"1\" class=\"dataframe\">\n",
       "  <thead>\n",
       "    <tr style=\"text-align: right;\">\n",
       "      <th></th>\n",
       "      <th>From</th>\n",
       "      <th>Message</th>\n",
       "      <th>Subject</th>\n",
       "      <th>Tags</th>\n",
       "      <th>UID</th>\n",
       "      <th>Combined_Text</th>\n",
       "      <th>tag_list</th>\n",
       "      <th>first_tag</th>\n",
       "      <th>sender_name</th>\n",
       "      <th>sender_email</th>\n",
       "      <th>domain_name</th>\n",
       "      <th>isNoReply</th>\n",
       "      <th>Clean_Message</th>\n",
       "      <th>Clean_From</th>\n",
       "      <th>Clean_Subject</th>\n",
       "    </tr>\n",
       "  </thead>\n",
       "  <tbody>\n",
       "    <tr>\n",
       "      <th>0</th>\n",
       "      <td>&lt;grangepayments@westernunionspeedpay.com&gt;</td>\n",
       "      <td>Dear AVRAHAM JACOBSOHN,  This is to confirm th...</td>\n",
       "      <td>Grange Payment Confirmation</td>\n",
       "      <td>Finance</td>\n",
       "      <td>31780</td>\n",
       "      <td>grangepayments westernunionspeedpay com  Gran...</td>\n",
       "      <td>['Finance']</td>\n",
       "      <td>Finance</td>\n",
       "      <td>NaN</td>\n",
       "      <td>grangepayments@westernunionspeedpay.com</td>\n",
       "      <td>westernunionspeedpay</td>\n",
       "      <td>False</td>\n",
       "      <td>Dear AVRAHAM JACOBSOHN   This is to confirm th...</td>\n",
       "      <td>grangepayments westernunionspeedpay com</td>\n",
       "      <td>Grange Payment Confirmation</td>\n",
       "    </tr>\n",
       "    <tr>\n",
       "      <th>1</th>\n",
       "      <td>Chase &lt;no.reply.alerts@chase.com&gt;</td>\n",
       "      <td>This is an Alert to help manage your account ...</td>\n",
       "      <td>Your Debit Card Transaction</td>\n",
       "      <td>Finance</td>\n",
       "      <td>31779</td>\n",
       "      <td>Chase  no reply alerts chase com  Your Debit C...</td>\n",
       "      <td>['Finance']</td>\n",
       "      <td>Finance</td>\n",
       "      <td>Chase</td>\n",
       "      <td>no.reply.alerts@chase.com</td>\n",
       "      <td>chase</td>\n",
       "      <td>True</td>\n",
       "      <td>This is an Alert to help manage your account e...</td>\n",
       "      <td>Chase  no reply alerts chase com</td>\n",
       "      <td>Your Debit Card Transaction</td>\n",
       "    </tr>\n",
       "    <tr>\n",
       "      <th>2</th>\n",
       "      <td>Amazon Web Services &lt;no-reply-aws@amazon.com&gt;</td>\n",
       "      <td>Please let us know if we helped resolve your i...</td>\n",
       "      <td>Resolved 6559329691: Limit Increase: SageMaker</td>\n",
       "      <td>Productivity</td>\n",
       "      <td>31738</td>\n",
       "      <td>Amazon Web Services  no reply aws amazon com  ...</td>\n",
       "      <td>['Productivity']</td>\n",
       "      <td>Productivity</td>\n",
       "      <td>Amazon Web Services</td>\n",
       "      <td>no-reply-aws@amazon.com</td>\n",
       "      <td>amazon</td>\n",
       "      <td>True</td>\n",
       "      <td>Please let us know if we helped resolve your i...</td>\n",
       "      <td>Amazon Web Services  no reply aws amazon com</td>\n",
       "      <td>Resolved             Limit Increase  SageMaker</td>\n",
       "    </tr>\n",
       "    <tr>\n",
       "      <th>3</th>\n",
       "      <td>Lambda Labs &lt;noreply@github.com&gt;</td>\n",
       "      <td>Youve been added to the Labs 18 - Tagger team ...</td>\n",
       "      <td>Bernie Durfee added you to the Lambda Labs tea...</td>\n",
       "      <td>Productivity</td>\n",
       "      <td>31693</td>\n",
       "      <td>Lambda Labs  noreply github com  Bernie Durfee...</td>\n",
       "      <td>['Productivity']</td>\n",
       "      <td>Productivity</td>\n",
       "      <td>Lambda Labs</td>\n",
       "      <td>noreply@github.com</td>\n",
       "      <td>github</td>\n",
       "      <td>True</td>\n",
       "      <td>Youve been added to the Labs      Tagger team ...</td>\n",
       "      <td>Lambda Labs  noreply github com</td>\n",
       "      <td>Bernie Durfee added you to the Lambda Labs tea...</td>\n",
       "    </tr>\n",
       "    <tr>\n",
       "      <th>4</th>\n",
       "      <td>Amazon Web Services &lt;no-reply-aws@amazon.com&gt;</td>\n",
       "      <td>Hello,  We haven't heard back from you regard...</td>\n",
       "      <td>Attention required on case 6559329691: Limit I...</td>\n",
       "      <td>Productivity</td>\n",
       "      <td>31684</td>\n",
       "      <td>Amazon Web Services  no reply aws amazon com  ...</td>\n",
       "      <td>['Productivity']</td>\n",
       "      <td>Productivity</td>\n",
       "      <td>Amazon Web Services</td>\n",
       "      <td>no-reply-aws@amazon.com</td>\n",
       "      <td>amazon</td>\n",
       "      <td>True</td>\n",
       "      <td>Hello   We haven't heard back from you regardi...</td>\n",
       "      <td>Amazon Web Services  no reply aws amazon com</td>\n",
       "      <td>Attention required on case             Limit I...</td>\n",
       "    </tr>\n",
       "  </tbody>\n",
       "</table>\n",
       "</div>"
      ],
      "text/plain": [
       "                                            From  \\\n",
       "0      <grangepayments@westernunionspeedpay.com>   \n",
       "1              Chase <no.reply.alerts@chase.com>   \n",
       "2  Amazon Web Services <no-reply-aws@amazon.com>   \n",
       "3               Lambda Labs <noreply@github.com>   \n",
       "4  Amazon Web Services <no-reply-aws@amazon.com>   \n",
       "\n",
       "                                             Message  \\\n",
       "0  Dear AVRAHAM JACOBSOHN,  This is to confirm th...   \n",
       "1   This is an Alert to help manage your account ...   \n",
       "2  Please let us know if we helped resolve your i...   \n",
       "3  Youve been added to the Labs 18 - Tagger team ...   \n",
       "4   Hello,  We haven't heard back from you regard...   \n",
       "\n",
       "                                             Subject          Tags    UID  \\\n",
       "0                        Grange Payment Confirmation       Finance  31780   \n",
       "1                        Your Debit Card Transaction       Finance  31779   \n",
       "2     Resolved 6559329691: Limit Increase: SageMaker  Productivity  31738   \n",
       "3  Bernie Durfee added you to the Lambda Labs tea...  Productivity  31693   \n",
       "4  Attention required on case 6559329691: Limit I...  Productivity  31684   \n",
       "\n",
       "                                       Combined_Text          tag_list  \\\n",
       "0   grangepayments westernunionspeedpay com  Gran...       ['Finance']   \n",
       "1  Chase  no reply alerts chase com  Your Debit C...       ['Finance']   \n",
       "2  Amazon Web Services  no reply aws amazon com  ...  ['Productivity']   \n",
       "3  Lambda Labs  noreply github com  Bernie Durfee...  ['Productivity']   \n",
       "4  Amazon Web Services  no reply aws amazon com  ...  ['Productivity']   \n",
       "\n",
       "      first_tag          sender_name                             sender_email  \\\n",
       "0       Finance                  NaN  grangepayments@westernunionspeedpay.com   \n",
       "1       Finance                Chase                no.reply.alerts@chase.com   \n",
       "2  Productivity  Amazon Web Services                  no-reply-aws@amazon.com   \n",
       "3  Productivity          Lambda Labs                       noreply@github.com   \n",
       "4  Productivity  Amazon Web Services                  no-reply-aws@amazon.com   \n",
       "\n",
       "            domain_name  isNoReply  \\\n",
       "0  westernunionspeedpay      False   \n",
       "1                 chase       True   \n",
       "2                amazon       True   \n",
       "3                github       True   \n",
       "4                amazon       True   \n",
       "\n",
       "                                       Clean_Message  \\\n",
       "0  Dear AVRAHAM JACOBSOHN   This is to confirm th...   \n",
       "1  This is an Alert to help manage your account e...   \n",
       "2  Please let us know if we helped resolve your i...   \n",
       "3  Youve been added to the Labs      Tagger team ...   \n",
       "4  Hello   We haven't heard back from you regardi...   \n",
       "\n",
       "                                      Clean_From  \\\n",
       "0       grangepayments westernunionspeedpay com    \n",
       "1              Chase  no reply alerts chase com    \n",
       "2  Amazon Web Services  no reply aws amazon com    \n",
       "3               Lambda Labs  noreply github com    \n",
       "4  Amazon Web Services  no reply aws amazon com    \n",
       "\n",
       "                                       Clean_Subject  \n",
       "0                        Grange Payment Confirmation  \n",
       "1                        Your Debit Card Transaction  \n",
       "2     Resolved             Limit Increase  SageMaker  \n",
       "3  Bernie Durfee added you to the Lambda Labs tea...  \n",
       "4  Attention required on case             Limit I...  "
      ]
     },
     "execution_count": 7,
     "metadata": {},
     "output_type": "execute_result"
    }
   ],
   "source": [
    "df.head()"
   ]
  },
  {
   "cell_type": "code",
   "execution_count": 8,
   "metadata": {
    "colab": {
     "base_uri": "https://localhost:8080/",
     "height": 603
    },
    "colab_type": "code",
    "id": "0fNuPHE1SdLi",
    "outputId": "2d681018-0d84-46e4-c74b-b1b1dd8c526b"
   },
   "outputs": [
    {
     "data": {
      "text/plain": [
       "['Finance']                      5604\n",
       "['Entertainment']                1505\n",
       "['Shopping']                     1065\n",
       "['Personal', 'Other']             685\n",
       "['Other']                         514\n",
       "['Productivity']                  514\n",
       "['Personal', 'Productivity']      382\n",
       "['Social']                        146\n",
       "['Productivity', 'Events']        130\n",
       "['Entertainment', 'Finance']      102\n",
       "['Events']                         95\n",
       "['Personal', 'Shopping']           95\n",
       "['Personal', 'Events']             95\n",
       "['Travel']                         92\n",
       "['Personal', 'Finance']            69\n",
       "['Personal', 'Travel']             25\n",
       "['Personal', 'Entertainment']      19\n",
       "['Shopping', 'Finance']            13\n",
       "['Entertainment', 'Shopping']      10\n",
       "['Events', 'Productivity']          8\n",
       "['Travel', 'Finance']               5\n",
       "['Productivity', 'Finance']         4\n",
       "['Personal', 'Social']              4\n",
       "['Shopping', 'Entertainment']       4\n",
       "['Social', 'Productivity']          4\n",
       "['Shopping', 'Productivity']        2\n",
       "['Finance', 'Travel']               2\n",
       "['Productivity', 'Shopping']        1\n",
       "['Finance', 'Events']               1\n",
       "['Finance', 'Productivity']         1\n",
       "['Events', 'Entertainment']         1\n",
       "['Finance', 'Shopping']             1\n",
       "Name: tag_list, dtype: int64"
      ]
     },
     "execution_count": 8,
     "metadata": {},
     "output_type": "execute_result"
    }
   ],
   "source": [
    "df['tag_list'].value_counts()"
   ]
  },
  {
   "cell_type": "code",
   "execution_count": 9,
   "metadata": {
    "colab": {
     "base_uri": "https://localhost:8080/",
     "height": 603
    },
    "colab_type": "code",
    "id": "ph6GGRbdSyzm",
    "outputId": "13939edc-b2f3-4f2e-db23-d9061a09d496"
   },
   "outputs": [
    {
     "data": {
      "text/plain": [
       "Finance                    5604\n",
       "Entertainment              1505\n",
       "Shopping                   1065\n",
       "Personal, Other             685\n",
       "Productivity                514\n",
       "Other                       514\n",
       "Personal, Productivity      382\n",
       "Social                      146\n",
       "Productivity, Events        130\n",
       "Entertainment, Finance      102\n",
       "Events                       95\n",
       "Personal, Events             95\n",
       "Personal, Shopping           95\n",
       "Travel                       92\n",
       "Personal, Finance            69\n",
       "Personal, Travel             25\n",
       "Personal, Entertainment      19\n",
       "Shopping, Finance            13\n",
       "Entertainment, Shopping      10\n",
       "Events, Productivity          8\n",
       "Travel, Finance               5\n",
       "Social, Productivity          4\n",
       "Shopping, Entertainment       4\n",
       "Personal, Social              4\n",
       "Productivity, Finance         4\n",
       "Shopping, Productivity        2\n",
       "Finance, Travel               2\n",
       "Finance, Events               1\n",
       "Productivity, Shopping        1\n",
       "Finance, Productivity         1\n",
       "Finance, Shopping             1\n",
       "Events, Entertainment         1\n",
       "Name: Tags, dtype: int64"
      ]
     },
     "execution_count": 9,
     "metadata": {},
     "output_type": "execute_result"
    }
   ],
   "source": [
    "df['Tags'].value_counts()"
   ]
  },
  {
   "cell_type": "code",
   "execution_count": 10,
   "metadata": {
    "colab": {
     "base_uri": "https://localhost:8080/",
     "height": 70
    },
    "colab_type": "code",
    "id": "kj2T37nOSmu_",
    "outputId": "8b48f09d-f4b6-4885-977d-04fbba43e133"
   },
   "outputs": [
    {
     "data": {
      "text/plain": [
       "False    9824\n",
       "True     1374\n",
       "Name: Personal, dtype: int64"
      ]
     },
     "execution_count": 10,
     "metadata": {},
     "output_type": "execute_result"
    }
   ],
   "source": [
    "# Creating Personal Column\n",
    "\n",
    "df['Personal'] = df['Tags'].str.contains('Personal')\n",
    "df['Personal'].value_counts()"
   ]
  },
  {
   "cell_type": "code",
   "execution_count": 11,
   "metadata": {
    "colab": {
     "base_uri": "https://localhost:8080/",
     "height": 34
    },
    "colab_type": "code",
    "id": "gaBzqwYYG0jA",
    "outputId": "04cee3d0-a0f8-4d15-ef3a-f7ea41139a0a"
   },
   "outputs": [
    {
     "name": "stdout",
     "output_type": "stream",
     "text": [
      "0 3732402\n"
     ]
    }
   ],
   "source": [
    "# Applying length of CLEAN messages as feature\n",
    "\n",
    "df['Clean_Text_Length'] = df['Clean_Message'].apply(len)\n",
    "print(df['Clean_Text_Length'].min(), df['Clean_Text_Length'].max())"
   ]
  },
  {
   "cell_type": "code",
   "execution_count": 12,
   "metadata": {
    "colab": {
     "base_uri": "https://localhost:8080/",
     "height": 70
    },
    "colab_type": "code",
    "id": "dp5Bj6JnG2Se",
    "outputId": "a7f4e25a-03e6-4993-d937-5ee411586cd4"
   },
   "outputs": [
    {
     "data": {
      "text/plain": [
       "True     10544\n",
       "False      654\n",
       "Name: Clean_Text_Length, dtype: int64"
      ]
     },
     "execution_count": 12,
     "metadata": {},
     "output_type": "execute_result"
    }
   ],
   "source": [
    "# Most lengths are below 5000 even with a max of 370k length\n",
    "\n",
    "clean_text_length = df['Clean_Text_Length'] < 5000\n",
    "clean_text_length.value_counts()"
   ]
  },
  {
   "cell_type": "code",
   "execution_count": 13,
   "metadata": {
    "colab": {},
    "colab_type": "code",
    "id": "sEAN2_5PG39c"
   },
   "outputs": [],
   "source": [
    "# lemmatizer = WordNetLemmatizer()\n",
    "\n",
    "# def regnltk_tokenize(text):\n",
    "#     text = clean_text(text)\n",
    "#     words = regexp_tokenize(text, pattern = '\\s+', gaps = True)\n",
    "#     return [lemmatizer.lemmatize(word.lower()) for word in words if (len(word) >= 3)] "
   ]
  },
  {
   "cell_type": "code",
   "execution_count": 14,
   "metadata": {
    "colab": {},
    "colab_type": "code",
    "id": "dpfetY0tZNiF"
   },
   "outputs": [],
   "source": [
    "# Remove too small and too large texts from the messages before tokenizing\n",
    "\n",
    "message_values = df['Combined_Text'].values\n",
    "\n",
    "tokens = []\n",
    "\n",
    "for i in range(len(message_values)):\n",
    "    value = message_values[i]\n",
    "    value = value.split(\" \")\n",
    "    value = [x for x in value if len(x) > 3 and len(x) < 20]\n",
    "    value = \" \".join(value)\n",
    "    tokens.append(value)"
   ]
  },
  {
   "cell_type": "markdown",
   "metadata": {
    "colab_type": "text",
    "id": "6ERBtrKuIZHw"
   },
   "source": [
    "## Start of Keras Work"
   ]
  },
  {
   "cell_type": "code",
   "execution_count": 15,
   "metadata": {
    "colab": {
     "base_uri": "https://localhost:8080/",
     "height": 34
    },
    "colab_type": "code",
    "id": "QaH-6EDDG65r",
    "outputId": "f1753a97-70c0-4e42-8e03-3a489975ff70"
   },
   "outputs": [
    {
     "name": "stdout",
     "output_type": "stream",
     "text": [
      "Found 407235 unique tokens.\n"
     ]
    }
   ],
   "source": [
    "# Starting tokenizing from keras preprocessing\n",
    "\n",
    "tokenizer = Tokenizer(num_words=5000, filters='!\"#$%&()*+,-./:;<=>?@[\\]^_`{|}~', lower=True, split=' ')\n",
    "tokenizer.fit_on_texts(tokens)\n",
    "word_index = tokenizer.word_index\n",
    "print('Found %s unique tokens.' % len(word_index))\n",
    "\n",
    "# saving\n",
    "with open('final_tokenizer.pickle', 'wb') as handle:\n",
    "    pickle.dump(tokenizer, handle, protocol=pickle.HIGHEST_PROTOCOL)"
   ]
  },
  {
   "cell_type": "code",
   "execution_count": 16,
   "metadata": {
    "colab": {
     "base_uri": "https://localhost:8080/",
     "height": 52
    },
    "colab_type": "code",
    "id": "l7ImvnQAPopT",
    "outputId": "b1171f85-33fd-49c6-d8b1-dc4ba1f1fb5e"
   },
   "outputs": [
    {
     "name": "stdout",
     "output_type": "stream",
     "text": [
      "(10078, 15) (10078,)\n",
      "(1120, 15) (1120,)\n"
     ]
    }
   ],
   "source": [
    "# Split the data into train/test prior to prepping for each model\n",
    "\n",
    "X = df.drop(columns=['tag_list', 'first_tag'])\n",
    "\n",
    "Y = df['first_tag']\n",
    "\n",
    "X_train, X_test, Y_train, Y_test = train_test_split(X, Y, test_size = 0.10, random_state = 42)\n",
    "print(X_train.shape,Y_train.shape)\n",
    "print(X_test.shape,Y_test.shape)"
   ]
  },
  {
   "cell_type": "markdown",
   "metadata": {
    "colab_type": "text",
    "id": "Inv2Xxd5e9yH"
   },
   "source": [
    "#### Format all of the inputs for each Model"
   ]
  },
  {
   "cell_type": "code",
   "execution_count": 17,
   "metadata": {
    "colab": {
     "base_uri": "https://localhost:8080/",
     "height": 52
    },
    "colab_type": "code",
    "id": "fkUoeZlRPjCi",
    "outputId": "5537b812-44b2-44f9-a3ea-a8d203ce3f62"
   },
   "outputs": [
    {
     "name": "stdout",
     "output_type": "stream",
     "text": [
      "Shape of data tensor: (10078, 5000)\n",
      "Shape of data tensor: (1120, 5000)\n"
     ]
    }
   ],
   "source": [
    "# Format the inputs for Model 1 of predicting tag from message body\n",
    "\n",
    "Message_X_train = tokenizer.texts_to_sequences(X_train['Clean_Message'].values)\n",
    "Message_X_train = pad_sequences(Message_X_train, maxlen=5000)\n",
    "print('Shape of data tensor:', Message_X_train.shape)\n",
    "\n",
    "Message_X_test = tokenizer.texts_to_sequences(X_test['Clean_Message'].values)\n",
    "Message_X_test = pad_sequences(Message_X_test, maxlen=5000)\n",
    "print('Shape of data tensor:', Message_X_test.shape)"
   ]
  },
  {
   "cell_type": "code",
   "execution_count": 18,
   "metadata": {
    "colab": {
     "base_uri": "https://localhost:8080/",
     "height": 52
    },
    "colab_type": "code",
    "id": "TkHlIFgZT_w3",
    "outputId": "1324624c-505c-4bcb-ea10-e4f326104800"
   },
   "outputs": [
    {
     "name": "stdout",
     "output_type": "stream",
     "text": [
      "Shape of data tensor: (10078, 150)\n",
      "Shape of data tensor: (1120, 150)\n"
     ]
    }
   ],
   "source": [
    "# Format the inputs for Model 2 of predicting tag from message subject\n",
    "\n",
    "# First need to get length of subject messages\n",
    "\n",
    "clean_subject_length = df['Clean_Subject'].apply(len)\n",
    "(clean_subject_length < 150).value_counts()\n",
    "\n",
    "# Most are below 150 in length, will use this to pad\n",
    "\n",
    "Subject_X_train = tokenizer.texts_to_sequences(X_train['Clean_Subject'].values)\n",
    "Subject_X_train = pad_sequences(Subject_X_train, maxlen=150)\n",
    "print('Shape of data tensor:', Subject_X_train.shape)\n",
    "\n",
    "Subject_X_test = tokenizer.texts_to_sequences(X_test['Clean_Subject'].values)\n",
    "Subject_X_test = pad_sequences(Subject_X_test, maxlen=150)\n",
    "print('Shape of data tensor:', Subject_X_test.shape)"
   ]
  },
  {
   "cell_type": "code",
   "execution_count": 19,
   "metadata": {
    "colab": {
     "base_uri": "https://localhost:8080/",
     "height": 70
    },
    "colab_type": "code",
    "id": "Dpyf6fJYX9Kz",
    "outputId": "8b7427b2-fe29-4210-bb4b-1c0a0343a4f3"
   },
   "outputs": [
    {
     "name": "stdout",
     "output_type": "stream",
     "text": [
      "39.714770494731205\n",
      "Shape of data tensor: (10078, 100)\n",
      "Shape of data tensor: (1120, 100)\n"
     ]
    }
   ],
   "source": [
    "# Format the inputs for Model 3 of predicting tag from message sender\n",
    "\n",
    "# First need to get length of From messages sender\n",
    "\n",
    "clean_from_length = df['Clean_From'].apply(len)\n",
    "mean = clean_from_length.mean()\n",
    "print(mean)\n",
    "(clean_from_length < 100).value_counts()\n",
    "\n",
    "# Most are below 100 in length, will use this to pad\n",
    "\n",
    "From_X_train = tokenizer.texts_to_sequences(X_train['Clean_From'].values)\n",
    "From_X_train = pad_sequences(From_X_train, maxlen=100)\n",
    "print('Shape of data tensor:', From_X_train.shape)\n",
    "\n",
    "From_X_test = tokenizer.texts_to_sequences(X_test['Clean_From'].values)\n",
    "From_X_test = pad_sequences(From_X_test, maxlen=100)\n",
    "print('Shape of data tensor:', From_X_test.shape)"
   ]
  },
  {
   "cell_type": "code",
   "execution_count": 20,
   "metadata": {
    "colab": {
     "base_uri": "https://localhost:8080/",
     "height": 52
    },
    "colab_type": "code",
    "id": "MlNViWFYHHLA",
    "outputId": "de9b62f6-deac-4350-9107-a7f0990fe792"
   },
   "outputs": [
    {
     "name": "stdout",
     "output_type": "stream",
     "text": [
      "Shape of label tensor: (10078, 8)\n",
      "Shape of label tensor: (1120, 8)\n"
     ]
    }
   ],
   "source": [
    "# Format the Y inputs with encoding\n",
    "\n",
    "Encoded_Y_train = pd.get_dummies(Y_train).values\n",
    "print('Shape of label tensor:', Encoded_Y_train.shape)\n",
    "\n",
    "Encoded_Y_test = pd.get_dummies(Y_test).values\n",
    "print('Shape of label tensor:', Encoded_Y_test.shape)"
   ]
  },
  {
   "cell_type": "code",
   "execution_count": 21,
   "metadata": {
    "colab": {
     "base_uri": "https://localhost:8080/",
     "height": 70
    },
    "colab_type": "code",
    "id": "oBpVjSd2PI0K",
    "outputId": "a797ac3d-9a51-4d88-b2c4-c1c41a84055c"
   },
   "outputs": [
    {
     "name": "stdout",
     "output_type": "stream",
     "text": [
      "Index(['Entertainment', 'Events', 'Finance', 'Other', 'Productivity',\n",
      "       'Shopping', 'Social', 'Travel'],\n",
      "      dtype='object')\n"
     ]
    }
   ],
   "source": [
    "# Use these columns for the labels when decoding the neural net\n",
    "\n",
    "print(pd.get_dummies(df['first_tag']).columns)\n",
    "\n",
    "labels = ['Entertainment', 'Events', 'Finance', 'Other', 'Productivity',\n",
    "       'Shopping', 'Social', 'Travel']"
   ]
  },
  {
   "cell_type": "markdown",
   "metadata": {
    "colab_type": "text",
    "id": "mVfjt_nPE2qq"
   },
   "source": [
    "#### Setting up the Models"
   ]
  },
  {
   "cell_type": "code",
   "execution_count": 22,
   "metadata": {
    "colab": {},
    "colab_type": "code",
    "id": "Mm_tf0BvuDF-"
   },
   "outputs": [],
   "source": [
    "# LSTM function\n",
    "\n",
    "# 94.64 acc\n",
    "# Increased second layer GRU to 100 and all dropouts to 0.3\n",
    "# Also changed validation from test to validation split and increased epochs 3-5\n",
    "\n",
    "from tensorflow.core.protobuf import rewriter_config_pb2\n",
    "from tensorflow.keras.backend import set_session\n",
    "tf.keras.backend.clear_session()  # For easy reset of notebook state.\n",
    "\n",
    "config_proto = tf.ConfigProto()\n",
    "off = rewriter_config_pb2.RewriterConfig.OFF\n",
    "config_proto.graph_options.rewrite_options.arithmetic_optimization = off\n",
    "session = tf.Session(config=config_proto)\n",
    "set_session(session)\n",
    "\n",
    "def create_lstm(X):\n",
    "\n",
    "    model = Sequential()\n",
    "    model.add(Embedding(50000, 100, input_length=X.shape[1]))\n",
    "    model.add(LSTM(100, dropout=0.5, recurrent_dropout=0.2, return_sequences=True))\n",
    "    model.add(GRU(100, dropout=0.5, recurrent_dropout=0.2, return_sequences=True))\n",
    "    model.add(GRU(50, dropout=0.5, recurrent_dropout=0.2))\n",
    "\n",
    "    return model"
   ]
  },
  {
   "cell_type": "code",
   "execution_count": 23,
   "metadata": {
    "colab": {},
    "colab_type": "code",
    "id": "SWsOg6J35KQN"
   },
   "outputs": [
    {
     "name": "stdout",
     "output_type": "stream",
     "text": [
      "WARNING:tensorflow:From /home/ec2-user/anaconda3/envs/amazonei_tensorflow_p36/lib/python3.6/site-packages/tensorflow/python/ops/resource_variable_ops.py:435: colocate_with (from tensorflow.python.framework.ops) is deprecated and will be removed in a future version.\n",
      "Instructions for updating:\n",
      "Colocations handled automatically by placer.\n",
      "WARNING:tensorflow:From /home/ec2-user/anaconda3/envs/amazonei_tensorflow_p36/lib/python3.6/site-packages/tensorflow/python/keras/backend.py:4010: calling dropout (from tensorflow.python.ops.nn_ops) with keep_prob is deprecated and will be removed in a future version.\n",
      "Instructions for updating:\n",
      "Please use `rate` instead of `keep_prob`. Rate should be set to `rate = 1 - keep_prob`.\n"
     ]
    }
   ],
   "source": [
    "# Model for message, subject, and sender\n",
    "\n",
    "message_model = create_lstm(Message_X_train)\n",
    "subject_model = create_lstm(Subject_X_train)\n",
    "from_model = create_lstm(From_X_train)\n",
    "\n",
    "# Combine them all for the activation input\n",
    "\n",
    "combined_input = concatenate([message_model.output, subject_model.output, from_model.output])"
   ]
  },
  {
   "cell_type": "code",
   "execution_count": 24,
   "metadata": {
    "colab": {
     "base_uri": "https://localhost:8080/",
     "height": 798
    },
    "colab_type": "code",
    "id": "M93mOgWzDzUr",
    "outputId": "8c8e8244-dc54-48e8-88f9-8e7676d5a6a5"
   },
   "outputs": [
    {
     "name": "stdout",
     "output_type": "stream",
     "text": [
      "__________________________________________________________________________________________________\n",
      "Layer (type)                    Output Shape         Param #     Connected to                     \n",
      "==================================================================================================\n",
      "embedding_input (InputLayer)    (None, 5000)         0                                            \n",
      "__________________________________________________________________________________________________\n",
      "embedding_1_input (InputLayer)  (None, 150)          0                                            \n",
      "__________________________________________________________________________________________________\n",
      "embedding_2_input (InputLayer)  (None, 100)          0                                            \n",
      "__________________________________________________________________________________________________\n",
      "embedding (Embedding)           (None, 5000, 100)    5000000     embedding_input[0][0]            \n",
      "__________________________________________________________________________________________________\n",
      "embedding_1 (Embedding)         (None, 150, 100)     5000000     embedding_1_input[0][0]          \n",
      "__________________________________________________________________________________________________\n",
      "embedding_2 (Embedding)         (None, 100, 100)     5000000     embedding_2_input[0][0]          \n",
      "__________________________________________________________________________________________________\n",
      "lstm (LSTM)                     (None, 5000, 100)    80400       embedding[0][0]                  \n",
      "__________________________________________________________________________________________________\n",
      "lstm_1 (LSTM)                   (None, 150, 100)     80400       embedding_1[0][0]                \n",
      "__________________________________________________________________________________________________\n",
      "lstm_2 (LSTM)                   (None, 100, 100)     80400       embedding_2[0][0]                \n",
      "__________________________________________________________________________________________________\n",
      "gru (GRU)                       (None, 5000, 100)    60300       lstm[0][0]                       \n",
      "__________________________________________________________________________________________________\n",
      "gru_2 (GRU)                     (None, 150, 100)     60300       lstm_1[0][0]                     \n",
      "__________________________________________________________________________________________________\n",
      "gru_4 (GRU)                     (None, 100, 100)     60300       lstm_2[0][0]                     \n",
      "__________________________________________________________________________________________________\n",
      "gru_1 (GRU)                     (None, 50)           22650       gru[0][0]                        \n",
      "__________________________________________________________________________________________________\n",
      "gru_3 (GRU)                     (None, 50)           22650       gru_2[0][0]                      \n",
      "__________________________________________________________________________________________________\n",
      "gru_5 (GRU)                     (None, 50)           22650       gru_4[0][0]                      \n",
      "__________________________________________________________________________________________________\n",
      "concatenate (Concatenate)       (None, 150)          0           gru_1[0][0]                      \n",
      "                                                                 gru_3[0][0]                      \n",
      "                                                                 gru_5[0][0]                      \n",
      "__________________________________________________________________________________________________\n",
      "dense (Dense)                   (None, 8)            1208        concatenate[0][0]                \n",
      "==================================================================================================\n",
      "Total params: 15,491,258\n",
      "Trainable params: 15,491,258\n",
      "Non-trainable params: 0\n",
      "__________________________________________________________________________________________________\n"
     ]
    }
   ],
   "source": [
    "# End activation of model\n",
    "\n",
    "x = Dense(8, activation='softmax')(combined_input)\n",
    "\n",
    "model = Model(inputs=[message_model.input, subject_model.input, from_model.input], outputs=x)\n",
    "\n",
    "model.compile(loss='categorical_crossentropy', optimizer='adam', metrics=['accuracy'])\n",
    "\n",
    "model.summary()"
   ]
  },
  {
   "cell_type": "code",
   "execution_count": 25,
   "metadata": {
    "colab": {
     "base_uri": "https://localhost:8080/",
     "height": 425
    },
    "colab_type": "code",
    "id": "uu2MMQDCE97p",
    "outputId": "7099cc0e-9479-48c0-c15e-5ad3c76ae26d"
   },
   "outputs": [
    {
     "name": "stdout",
     "output_type": "stream",
     "text": [
      "[INFO] training model...\n",
      "Train on 9070 samples, validate on 1008 samples\n",
      "WARNING:tensorflow:From /home/ec2-user/anaconda3/envs/amazonei_tensorflow_p36/lib/python3.6/site-packages/tensorflow/python/ops/math_ops.py:3066: to_int32 (from tensorflow.python.ops.math_ops) is deprecated and will be removed in a future version.\n",
      "Instructions for updating:\n",
      "Use tf.cast instead.\n",
      "Epoch 1/5\n",
      "9070/9070 [==============================] - 1848s 204ms/sample - loss: 0.7757 - acc: 0.7405 - val_loss: 0.3283 - val_acc: 0.8919\n",
      "Epoch 2/5\n",
      "9070/9070 [==============================] - 1858s 205ms/sample - loss: 0.3012 - acc: 0.9045 - val_loss: 0.2583 - val_acc: 0.9147\n",
      "Epoch 3/5\n",
      "9070/9070 [==============================] - 1833s 202ms/sample - loss: 0.2114 - acc: 0.9344 - val_loss: 0.2180 - val_acc: 0.9415\n",
      "Epoch 4/5\n",
      "9070/9070 [==============================] - 1836s 202ms/sample - loss: 0.1503 - acc: 0.9536 - val_loss: 0.2481 - val_acc: 0.9276\n",
      "Epoch 5/5\n",
      "9070/9070 [==============================] - 1828s 202ms/sample - loss: 0.1085 - acc: 0.9656 - val_loss: 0.2458 - val_acc: 0.9325\n",
      "[INFO] predicting house prices...\n"
     ]
    }
   ],
   "source": [
    "# train the model\n",
    "print(\"[INFO] training model...\")\n",
    "\n",
    "epochs = 5\n",
    "\n",
    "batch_size=64\n",
    "\n",
    "history = model.fit(\n",
    "\t[Message_X_train, Subject_X_train, From_X_train], Encoded_Y_train,\n",
    "\tvalidation_split=0.1,\n",
    "\tepochs=epochs, batch_size=batch_size,\n",
    "  callbacks=[EarlyStopping(monitor='val_loss', patience=3, min_delta=0.0001)]\n",
    "  )\n",
    " \n",
    "# make predictions on the testing data\n",
    "print(\"[INFO] predicting house prices...\")\n",
    "preds = model.predict([Message_X_test, Subject_X_test, From_X_test])"
   ]
  },
  {
   "cell_type": "code",
   "execution_count": 26,
   "metadata": {
    "colab": {},
    "colab_type": "code",
    "id": "CI0RbAIZHKTB"
   },
   "outputs": [],
   "source": [
    "## Side notes to look back into, especially attention layer\n",
    "\n",
    "# GRU layers can be added as well as LSTM, GRU > LSTM\n",
    "\n",
    "# attention models or attention transformed models\n",
    "\n",
    "# clustering in different forms for unsupervised training and then try to label them\n"
   ]
  },
  {
   "cell_type": "code",
   "execution_count": 27,
   "metadata": {
    "colab": {
     "base_uri": "https://localhost:8080/",
     "height": 407
    },
    "colab_type": "code",
    "id": "RrX30PQpHLh2",
    "outputId": "e8d332d3-0454-4e7c-b486-0d2ccf399178"
   },
   "outputs": [],
   "source": [
    "# epochs = 1\n",
    "# batch_size = 64\n",
    "\n",
    "# history = model.fit(X_train, Y_train, epochs=epochs, batch_size=batch_size,validation_split=0.1,callbacks=[EarlyStopping(monitor='val_loss', patience=3, min_delta=0.0001)])"
   ]
  },
  {
   "cell_type": "code",
   "execution_count": 28,
   "metadata": {
    "colab": {},
    "colab_type": "code",
    "id": "NXxmsFaoCm6m"
   },
   "outputs": [],
   "source": [
    "# Saving model and weights\n",
    "\n",
    "\n",
    "#---------------------------\n",
    "## Change name each time ##\n",
    "#---------------------------\n",
    "\n",
    "from tensorflow.keras.models import model_from_json\n",
    "model_json = model.to_json()\n",
    "with open(\"combined_model4.json\", \"w\") as json_file:\n",
    "    json_file.write(model_json)\n",
    "model.save_weights(\"combined_weights4.h5\")"
   ]
  },
  {
   "cell_type": "code",
   "execution_count": 29,
   "metadata": {
    "colab": {
     "base_uri": "https://localhost:8080/",
     "height": 196
    },
    "colab_type": "code",
    "id": "rNZV1AJ5MQwi",
    "outputId": "ea35bf24-08ff-4a43-a4e0-0614d993bd2a"
   },
   "outputs": [],
   "source": [
    "# from tensorflow.keras.models import model_from_json\n",
    "\n",
    "# # load json and create model\n",
    "# json_file = open('combined_model2.json', 'r')\n",
    "# loaded_model_json = json_file.read()\n",
    "# json_file.close()\n",
    "# loaded_model = model_from_json(loaded_model_json)\n",
    "\n",
    "# # load weights into new model\n",
    "# loaded_model.load_weights(\"combined_weights2.h5\")\n",
    "# print(\"Loaded model from disk\")\n",
    "\n",
    "# obj = {\n",
    "#     \"id\": \"3023\",\n",
    "#     \"sender\": \"normstormin@gmail.com\",\n",
    "#     \"subject\": \"Re: Prague travel\",\n",
    "#     \"message\": \"ok    On Mon, Mar 27, 2017 at 4:56 PM, <samuelithian@gmail.com> wrote:    > July 17th  >  >  >  > Sent from Mail <https://go.microsoft.com/fwlink/?LinkId=3D550986> for  > Windows 10  >  >  >  > *From: *norman hepner <normstormin@gmail.com>  > *Sent: *Monday, March 27, 2017 4:55 PM  > *To: *Samuel Hepner <samuelithian@gmail.com>  > *Subject: *Re: Prague travel  >  >  >  > when do you need to depart by?  >  >  >  > On Mon, Mar 27, 2017 at 4:53 PM, <samuelithian@gmail.com> wrote:  >  > I just reviewed the information on the flight date and it says that  > students must make their reservations to arrive on July 19th between 9am  > and 1pm at the Vlaclav Havel airport and thats where there will =  be people  > to pick me up. They also say that I should have a round trip ticket due t=  o  > previous experiences with students being denied boarding.  >  >  >  > Sent from Mail <https://go.microsoft.com/fwlink/?LinkId=3D550986> for  > Windows 10  >  >  >  >  >  >  >  \"\n",
    "# }\n",
    "\n",
    "\n",
    "# def format_inputs(text, maxlength):\n",
    "#     text = clean_text(text)\n",
    "#     seq = tokenizer.texts_to_sequences([text])\n",
    "#     padded = pad_sequences(seq, maxlen=maxlength)\n",
    "#     return padded\n",
    "\n",
    "\n",
    "# def get_tags(text, model):\n",
    "#     labels = ['Entertainment', 'Events', 'Finance', 'Other', 'Productivity', 'Shopping', 'Social', 'Travel']\n",
    "#     padded = text\n",
    "#     pred = model.predict(padded)\n",
    "#     print(pred)\n",
    "#     if (np.argmax(pred)) >= .70:\n",
    "#         best = np.argmax(pred)\n",
    "#         prediction = labels[best]\n",
    "#         return prediction\n",
    "#     else:\n",
    "#         best = np.argmax(pred)\n",
    "#         best_pred = labels[best]\n",
    "#         pred = np.where(pred == np.argmax(pred), 0, pred)\n",
    "#         second = np.argmax(pred)\n",
    "#         second_pred = labels[second]\n",
    "#         return [best_pred[0], second_pred[0]]\n",
    "\n",
    "# def getTags(preds_proba, encoder):\n",
    "#     classes = encoder.classes_\n",
    "#     if preds_proba.max() >= .75:\n",
    "#         best = np.where(preds_proba == preds_proba.max())\n",
    "#         prediction = classes[best]\n",
    "#         return [prediction[0]]\n",
    "#     else:\n",
    "#         best = np.where(preds_proba == preds_proba.max())\n",
    "#         best_pred = classes[best]\n",
    "#         preds_proba = np.where(preds_proba==preds_proba.max(), 0, preds_proba)\n",
    "#         second = np.where(preds_proba== preds_proba.max())\n",
    "#         second_pred = classes[second]\n",
    "#         return [best_pred[0], second_pred[0]]"
   ]
  },
  {
   "cell_type": "code",
   "execution_count": 30,
   "metadata": {},
   "outputs": [],
   "source": [
    "# sender = format_inputs(obj['sender'], 100)\n",
    "# subject = format_inputs(obj['subject'], 150)\n",
    "# message = format_inputs(obj['message'], 5000)"
   ]
  },
  {
   "cell_type": "code",
   "execution_count": 31,
   "metadata": {},
   "outputs": [],
   "source": [
    "# np.set_printoptions(formatter={'float': lambda x: \"{0:0.9f}\".format(x)})\n",
    "# result = get_tags([message, subject, sender], loaded_model)"
   ]
  },
  {
   "cell_type": "code",
   "execution_count": 32,
   "metadata": {},
   "outputs": [],
   "source": [
    "# result"
   ]
  },
  {
   "cell_type": "code",
   "execution_count": 33,
   "metadata": {
    "colab": {},
    "colab_type": "code",
    "id": "JQBOKLxiHg8d"
   },
   "outputs": [
    {
     "name": "stdout",
     "output_type": "stream",
     "text": [
      "1120/1120 [==============================] - 88s 78ms/sample - loss: 0.1832 - acc: 0.9464\n",
      "Test set\n",
      "  Loss: 0.183\n",
      "  Accuracy: 0.946\n"
     ]
    }
   ],
   "source": [
    "accr = model.evaluate([Message_X_test, Subject_X_test, From_X_test],Encoded_Y_test)\n",
    "print('Test set\\n  Loss: {:0.3f}\\n  Accuracy: {:0.3f}'.format(accr[0],accr[1]))"
   ]
  },
  {
   "cell_type": "code",
   "execution_count": 34,
   "metadata": {
    "colab": {},
    "colab_type": "code",
    "id": "_uEhz3oaYi6r"
   },
   "outputs": [
    {
     "data": {
      "image/png": "[encoded data removed]",
      "text/plain": [
       "<Figure size 432x288 with 1 Axes>"
      ]
     },
     "metadata": {},
     "output_type": "display_data"
    }
   ],
   "source": [
    "import matplotlib.pyplot as plt\n",
    "\n",
    "plt.title('Loss')\n",
    "plt.plot(history.history['loss'], label='train')\n",
    "plt.plot(history.history['val_loss'], label='test')\n",
    "plt.legend()\n",
    "plt.show();"
   ]
  },
  {
   "cell_type": "code",
   "execution_count": 35,
   "metadata": {
    "colab": {},
    "colab_type": "code",
    "id": "486-J91eYnjE"
   },
   "outputs": [
    {
     "data": {
      "image/png": "[encoded data removed]",
      "text/plain": [
       "<Figure size 432x288 with 1 Axes>"
      ]
     },
     "metadata": {},
     "output_type": "display_data"
    }
   ],
   "source": [
    "plt.title('Accuracy')\n",
    "plt.plot(history.history['acc'], label='train')\n",
    "plt.plot(history.history['val_acc'], label='test')\n",
    "plt.legend()\n",
    "plt.show();"
   ]
  },
  {
   "cell_type": "code",
   "execution_count": null,
   "metadata": {
    "colab": {},
    "colab_type": "code",
    "id": "S7Nu6Ir1YrHQ"
   },
   "outputs": [],
   "source": []
  }
 ],
 "metadata": {
  "colab": {
   "collapsed_sections": [],
   "name": "Model_Test.ipynb",
   "provenance": []
  },
  "kernelspec": {
   "display_name": "conda_amazonei_tensorflow_p36",
   "language": "python",
   "name": "conda_amazonei_tensorflow_p36"
  },
  "language_info": {
   "codemirror_mode": {
    "name": "ipython",
    "version": 3
   },
   "file_extension": ".py",
   "mimetype": "text/x-python",
   "name": "python",
   "nbconvert_exporter": "python",
   "pygments_lexer": "ipython3",
   "version": "3.6.5"
  }
 },
 "nbformat": 4,
 "nbformat_minor": 4
}
