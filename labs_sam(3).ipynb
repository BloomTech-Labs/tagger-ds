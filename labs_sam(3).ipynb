{
 "cells": [
  {
   "cell_type": "code",
   "execution_count": 1,
   "metadata": {},
   "outputs": [
    {
     "name": "stdout",
     "output_type": "stream",
     "text": [
      "[nltk_data] Downloading package wordnet to /home/ec2-user/nltk_data...\n",
      "[nltk_data]   Package wordnet is already up-to-date!\n"
     ]
    },
    {
     "data": {
      "text/plain": [
       "True"
      ]
     },
     "execution_count": 1,
     "metadata": {},
     "output_type": "execute_result"
    }
   ],
   "source": [
    "# This is the cell where we do all the imports\n",
    "import os\n",
    "import boto3\n",
    "import re\n",
    "import copy\n",
    "import time\n",
    "from time import gmtime, strftime\n",
    "from sagemaker import get_execution_role\n",
    "from sklearn.model_selection import train_test_split, GridSearchCV\n",
    "import pandas as pd\n",
    "from gensim.parsing.preprocessing import STOPWORDS\n",
    "from sklearn.feature_extraction.text import CountVectorizer, TfidfVectorizer\n",
    "from sklearn.ensemble import RandomForestClassifier\n",
    "from nltk.tokenize.regexp import regexp_tokenize\n",
    "from sklearn.preprocessing import LabelEncoder\n",
    "import nltk\n",
    "from nltk.stem import WordNetLemmatizer\n",
    "import numpy as np\n",
    "import joblib\n",
    "import pickle\n",
    "\n",
    "nltk.download('wordnet')"
   ]
  },
  {
   "cell_type": "code",
   "execution_count": 2,
   "metadata": {},
   "outputs": [],
   "source": [
    "# Connecting to an s3 bucket\n",
    "role = get_execution_role()\n",
    "\n",
    "region = boto3.Session().region_name\n",
    "\n",
    "bucket='sagemaker-name'\n",
    "prefix = 'sagemaker/nlp-email'\n",
    "bucket_path = 'https://s3-{}.amazonaws.com/{}'.format(region,bucket)"
   ]
  },
  {
   "cell_type": "code",
   "execution_count": 3,
   "metadata": {},
   "outputs": [
    {
     "data": {
      "text/html": [
       "<div>\n",
       "<style scoped>\n",
       "    .dataframe tbody tr th:only-of-type {\n",
       "        vertical-align: middle;\n",
       "    }\n",
       "\n",
       "    .dataframe tbody tr th {\n",
       "        vertical-align: top;\n",
       "    }\n",
       "\n",
       "    .dataframe thead th {\n",
       "        text-align: right;\n",
       "    }\n",
       "</style>\n",
       "<table border=\"1\" class=\"dataframe\">\n",
       "  <thead>\n",
       "    <tr style=\"text-align: right;\">\n",
       "      <th></th>\n",
       "      <th>From</th>\n",
       "      <th>Message</th>\n",
       "      <th>Subject</th>\n",
       "      <th>Tags</th>\n",
       "      <th>UID</th>\n",
       "      <th>text</th>\n",
       "      <th>tag_list</th>\n",
       "      <th>first_tag</th>\n",
       "      <th>sender_name</th>\n",
       "      <th>sender_email</th>\n",
       "      <th>domain_name</th>\n",
       "      <th>isNoReply</th>\n",
       "    </tr>\n",
       "  </thead>\n",
       "  <tbody>\n",
       "    <tr>\n",
       "      <th>0</th>\n",
       "      <td>&lt;grangepayments@westernunionspeedpay.com&gt;</td>\n",
       "      <td>Dear AVRAHAM JACOBSOHN,  This is to confirm th...</td>\n",
       "      <td>Grange Payment Confirmation</td>\n",
       "      <td>Finance</td>\n",
       "      <td>31780</td>\n",
       "      <td>&lt;grangepayments@westernunionspeedpay.com&gt; Gran...</td>\n",
       "      <td>['Finance']</td>\n",
       "      <td>Finance</td>\n",
       "      <td>NaN</td>\n",
       "      <td>grangepayments@westernunionspeedpay.com</td>\n",
       "      <td>westernunionspeedpay</td>\n",
       "      <td>False</td>\n",
       "    </tr>\n",
       "    <tr>\n",
       "      <th>1</th>\n",
       "      <td>Chase &lt;no.reply.alerts@chase.com&gt;</td>\n",
       "      <td>This is an Alert to help manage your account ...</td>\n",
       "      <td>Your Debit Card Transaction</td>\n",
       "      <td>Finance</td>\n",
       "      <td>31779</td>\n",
       "      <td>Chase &lt;no.reply.alerts@chase.com&gt; Your Debit C...</td>\n",
       "      <td>['Finance']</td>\n",
       "      <td>Finance</td>\n",
       "      <td>Chase</td>\n",
       "      <td>no.reply.alerts@chase.com</td>\n",
       "      <td>chase</td>\n",
       "      <td>True</td>\n",
       "    </tr>\n",
       "    <tr>\n",
       "      <th>2</th>\n",
       "      <td>Amazon Web Services &lt;no-reply-aws@amazon.com&gt;</td>\n",
       "      <td>Please let us know if we helped resolve your i...</td>\n",
       "      <td>Resolved 6559329691: Limit Increase: SageMaker</td>\n",
       "      <td>Productivity</td>\n",
       "      <td>31738</td>\n",
       "      <td>Amazon Web Services &lt;no-reply-aws@amazon.com&gt; ...</td>\n",
       "      <td>['Productivity']</td>\n",
       "      <td>Productivity</td>\n",
       "      <td>Amazon Web Services</td>\n",
       "      <td>no-reply-aws@amazon.com</td>\n",
       "      <td>amazon</td>\n",
       "      <td>True</td>\n",
       "    </tr>\n",
       "    <tr>\n",
       "      <th>3</th>\n",
       "      <td>Lambda Labs &lt;noreply@github.com&gt;</td>\n",
       "      <td>Youve been added to the Labs 18 - Tagger team ...</td>\n",
       "      <td>Bernie Durfee added you to the Lambda Labs tea...</td>\n",
       "      <td>Productivity</td>\n",
       "      <td>31693</td>\n",
       "      <td>Lambda Labs &lt;noreply@github.com&gt; Bernie Durfee...</td>\n",
       "      <td>['Productivity']</td>\n",
       "      <td>Productivity</td>\n",
       "      <td>Lambda Labs</td>\n",
       "      <td>noreply@github.com</td>\n",
       "      <td>github</td>\n",
       "      <td>True</td>\n",
       "    </tr>\n",
       "    <tr>\n",
       "      <th>4</th>\n",
       "      <td>Amazon Web Services &lt;no-reply-aws@amazon.com&gt;</td>\n",
       "      <td>Hello,  We haven't heard back from you regard...</td>\n",
       "      <td>Attention required on case 6559329691: Limit I...</td>\n",
       "      <td>Productivity</td>\n",
       "      <td>31684</td>\n",
       "      <td>Amazon Web Services &lt;no-reply-aws@amazon.com&gt; ...</td>\n",
       "      <td>['Productivity']</td>\n",
       "      <td>Productivity</td>\n",
       "      <td>Amazon Web Services</td>\n",
       "      <td>no-reply-aws@amazon.com</td>\n",
       "      <td>amazon</td>\n",
       "      <td>True</td>\n",
       "    </tr>\n",
       "  </tbody>\n",
       "</table>\n",
       "</div>"
      ],
      "text/plain": [
       "                                            From  \\\n",
       "0      <grangepayments@westernunionspeedpay.com>   \n",
       "1              Chase <no.reply.alerts@chase.com>   \n",
       "2  Amazon Web Services <no-reply-aws@amazon.com>   \n",
       "3               Lambda Labs <noreply@github.com>   \n",
       "4  Amazon Web Services <no-reply-aws@amazon.com>   \n",
       "\n",
       "                                             Message  \\\n",
       "0  Dear AVRAHAM JACOBSOHN,  This is to confirm th...   \n",
       "1   This is an Alert to help manage your account ...   \n",
       "2  Please let us know if we helped resolve your i...   \n",
       "3  Youve been added to the Labs 18 - Tagger team ...   \n",
       "4   Hello,  We haven't heard back from you regard...   \n",
       "\n",
       "                                             Subject          Tags    UID  \\\n",
       "0                        Grange Payment Confirmation       Finance  31780   \n",
       "1                        Your Debit Card Transaction       Finance  31779   \n",
       "2     Resolved 6559329691: Limit Increase: SageMaker  Productivity  31738   \n",
       "3  Bernie Durfee added you to the Lambda Labs tea...  Productivity  31693   \n",
       "4  Attention required on case 6559329691: Limit I...  Productivity  31684   \n",
       "\n",
       "                                                text          tag_list  \\\n",
       "0  <grangepayments@westernunionspeedpay.com> Gran...       ['Finance']   \n",
       "1  Chase <no.reply.alerts@chase.com> Your Debit C...       ['Finance']   \n",
       "2  Amazon Web Services <no-reply-aws@amazon.com> ...  ['Productivity']   \n",
       "3  Lambda Labs <noreply@github.com> Bernie Durfee...  ['Productivity']   \n",
       "4  Amazon Web Services <no-reply-aws@amazon.com> ...  ['Productivity']   \n",
       "\n",
       "      first_tag          sender_name                             sender_email  \\\n",
       "0       Finance                  NaN  grangepayments@westernunionspeedpay.com   \n",
       "1       Finance                Chase                no.reply.alerts@chase.com   \n",
       "2  Productivity  Amazon Web Services                  no-reply-aws@amazon.com   \n",
       "3  Productivity          Lambda Labs                       noreply@github.com   \n",
       "4  Productivity  Amazon Web Services                  no-reply-aws@amazon.com   \n",
       "\n",
       "            domain_name  isNoReply  \n",
       "0  westernunionspeedpay      False  \n",
       "1                 chase       True  \n",
       "2                amazon       True  \n",
       "3                github       True  \n",
       "4                amazon       True  "
      ]
     },
     "execution_count": 3,
     "metadata": {},
     "output_type": "execute_result"
    }
   ],
   "source": [
    "# Pull in the csv\n",
    "emails = pd.read_csv('name.csv')\n",
    "emails.head()"
   ]
  },
  {
   "cell_type": "code",
   "execution_count": 4,
   "metadata": {},
   "outputs": [
    {
     "data": {
      "text/html": [
       "<div>\n",
       "<style scoped>\n",
       "    .dataframe tbody tr th:only-of-type {\n",
       "        vertical-align: middle;\n",
       "    }\n",
       "\n",
       "    .dataframe tbody tr th {\n",
       "        vertical-align: top;\n",
       "    }\n",
       "\n",
       "    .dataframe thead th {\n",
       "        text-align: right;\n",
       "    }\n",
       "</style>\n",
       "<table border=\"1\" class=\"dataframe\">\n",
       "  <thead>\n",
       "    <tr style=\"text-align: right;\">\n",
       "      <th></th>\n",
       "      <th>sender_email</th>\n",
       "      <th>Message</th>\n",
       "      <th>Subject</th>\n",
       "      <th>Tags</th>\n",
       "      <th>UID</th>\n",
       "      <th>first_tag</th>\n",
       "    </tr>\n",
       "  </thead>\n",
       "  <tbody>\n",
       "    <tr>\n",
       "      <th>11193</th>\n",
       "      <td>noreply@medium.com</td>\n",
       "      <td>Today's highlights    Understanding Random For...</td>\n",
       "      <td>Understanding Random Forest | Tony Yiu in Towa...</td>\n",
       "      <td>Entertainment</td>\n",
       "      <td>3693</td>\n",
       "      <td>Entertainment</td>\n",
       "    </tr>\n",
       "    <tr>\n",
       "      <th>11194</th>\n",
       "      <td>noreply@glassdoor.com</td>\n",
       "      <td>...</td>\n",
       "      <td>You look like a good fit for the job at Procte...</td>\n",
       "      <td>Productivity</td>\n",
       "      <td>3702</td>\n",
       "      <td>Productivity</td>\n",
       "    </tr>\n",
       "    <tr>\n",
       "      <th>11195</th>\n",
       "      <td>aws-marketing-email-replies@amazon.com</td>\n",
       "      <td>Thank you for attending AWS Machine Learning W...</td>\n",
       "      <td>Thank you for attending AWS Machine Learning W...</td>\n",
       "      <td>Events, Productivity</td>\n",
       "      <td>3706</td>\n",
       "      <td>Events</td>\n",
       "    </tr>\n",
       "    <tr>\n",
       "      <th>11196</th>\n",
       "      <td>no-reply-aws@amazon.com</td>\n",
       "      <td>Hello again,     I hope you're having a nice...</td>\n",
       "      <td>RE:[CASE 6570793521] Limit Increase: SageMaker</td>\n",
       "      <td>Productivity</td>\n",
       "      <td>3721</td>\n",
       "      <td>Productivity</td>\n",
       "    </tr>\n",
       "    <tr>\n",
       "      <th>11197</th>\n",
       "      <td>noreply@medium.com</td>\n",
       "      <td>Today's highlights    How To Wake Up at 5 A.M....</td>\n",
       "      <td>How To Wake Up at 5 A.M. Every Day | Bryan Ye ...</td>\n",
       "      <td>Entertainment</td>\n",
       "      <td>3724</td>\n",
       "      <td>Entertainment</td>\n",
       "    </tr>\n",
       "  </tbody>\n",
       "</table>\n",
       "</div>"
      ],
      "text/plain": [
       "                                 sender_email  \\\n",
       "11193                      noreply@medium.com   \n",
       "11194                   noreply@glassdoor.com   \n",
       "11195  aws-marketing-email-replies@amazon.com   \n",
       "11196                 no-reply-aws@amazon.com   \n",
       "11197                      noreply@medium.com   \n",
       "\n",
       "                                                 Message  \\\n",
       "11193  Today's highlights    Understanding Random For...   \n",
       "11194                                                ...   \n",
       "11195  Thank you for attending AWS Machine Learning W...   \n",
       "11196    Hello again,     I hope you're having a nice...   \n",
       "11197  Today's highlights    How To Wake Up at 5 A.M....   \n",
       "\n",
       "                                                 Subject  \\\n",
       "11193  Understanding Random Forest | Tony Yiu in Towa...   \n",
       "11194  You look like a good fit for the job at Procte...   \n",
       "11195  Thank you for attending AWS Machine Learning W...   \n",
       "11196     RE:[CASE 6570793521] Limit Increase: SageMaker   \n",
       "11197  How To Wake Up at 5 A.M. Every Day | Bryan Ye ...   \n",
       "\n",
       "                       Tags   UID      first_tag  \n",
       "11193         Entertainment  3693  Entertainment  \n",
       "11194          Productivity  3702   Productivity  \n",
       "11195  Events, Productivity  3706         Events  \n",
       "11196          Productivity  3721   Productivity  \n",
       "11197         Entertainment  3724  Entertainment  "
      ]
     },
     "execution_count": 4,
     "metadata": {},
     "output_type": "execute_result"
    }
   ],
   "source": [
    "# Take the columns we want\n",
    "emails = emails[['sender_email', 'Message', 'Subject', 'Tags', 'UID', 'first_tag']]\n",
    "emails.tail()"
   ]
  },
  {
   "cell_type": "code",
   "execution_count": 5,
   "metadata": {},
   "outputs": [],
   "source": [
    "# Make sure all the columns we want to be strings are strings\n",
    "emails['Message'] = emails['Message'].apply(str)\n",
    "emails['sender_email'] = emails['sender_email'].apply(str)\n",
    "emails['Subject'] = emails['Subject'].apply(str)\n",
    "emails['Tags'] = emails['Tags'].apply(str)\n",
    "emails['first_tag'] = emails['first_tag'].apply(str)"
   ]
  },
  {
   "cell_type": "code",
   "execution_count": 6,
   "metadata": {},
   "outputs": [
    {
     "data": {
      "text/plain": [
       "Finance          5678\n",
       "Entertainment    1636\n",
       "Other            1199\n",
       "Shopping         1179\n",
       "Productivity     1031\n",
       "Events            199\n",
       "Social            154\n",
       "Travel            122\n",
       "Name: first_tag, dtype: int64"
      ]
     },
     "execution_count": 6,
     "metadata": {},
     "output_type": "execute_result"
    }
   ],
   "source": [
    "# Check out all the unique tags\n",
    "emails['first_tag'].value_counts()"
   ]
  },
  {
   "cell_type": "code",
   "execution_count": 7,
   "metadata": {},
   "outputs": [],
   "source": [
    "# A little feature engineering to spice things up\n",
    "emails['Text'] = emails['sender_email'] + ' ' + emails['Message'] + ' ' + emails['Subject']"
   ]
  },
  {
   "cell_type": "code",
   "execution_count": 8,
   "metadata": {},
   "outputs": [],
   "source": [
    "# emails[['First_Tag','Second_Tag']] = emails['Tags'].str.split(',', expand=True)\n",
    "# emails.tail()"
   ]
  },
  {
   "cell_type": "code",
   "execution_count": 9,
   "metadata": {},
   "outputs": [],
   "source": [
    "# Make like a banana and split\n",
    "train, test = train_test_split(emails, stratify=emails['first_tag'])"
   ]
  },
  {
   "cell_type": "code",
   "execution_count": 10,
   "metadata": {},
   "outputs": [],
   "source": [
    "# 2's a party and four is a crowd\n",
    "X_train = train['Text']\n",
    "y_train = train['first_tag']\n",
    "\n",
    "X_test = test['Text']\n",
    "y_test = test['first_tag']"
   ]
  },
  {
   "cell_type": "code",
   "execution_count": 11,
   "metadata": {},
   "outputs": [],
   "source": [
    "# A function that removes all unnecessary puncuation, html code, and/or any apostrophes lying around\n",
    "def clean_text(text):\n",
    "    # replace new line and carriage return with space\n",
    "    text = text.replace(\"\\n\", \" \").replace(\"\\r\", \" \")\n",
    "    \n",
    "    # replace the numbers and punctuation (exclude single quote) with space\n",
    "    punc_list = '!\"#$%&()*+,-/:;<=>?[\\]^_{|}~' + '0123456789'\n",
    "    t = str.maketrans(dict.fromkeys(punc_list, \" \"))\n",
    "    text = text.translate(t)\n",
    "    \n",
    "    # replace single quote with empty character\n",
    "    t = str.maketrans(dict.fromkeys(\"''\", \"\"))\n",
    "    text = text.translate(t)\n",
    "    \n",
    "    return text\n",
    "\n",
    "# joblib.dump(clean_text, 'clean_text.joblib')"
   ]
  },
  {
   "cell_type": "code",
   "execution_count": 12,
   "metadata": {},
   "outputs": [],
   "source": [
    "# The lemmatizer\n",
    "lemmatizer = WordNetLemmatizer()\n",
    "\n",
    "# nltk's regexp tokenizer mixed with our personal clean_text function\n",
    "class tokenize:\n",
    "    def regnltk_tokenize(text):\n",
    "        text = clean_text(text)\n",
    "        words = regexp_tokenize(text, pattern = '\\s+', gaps = True)\n",
    "        return [lemmatizer.lemmatize(word) for word in words if (len(word) >= 3)]\n",
    "\n",
    "# joblib.dump(regnltk_tokenize, 'regnltk_tokenize.joblib')"
   ]
  },
  {
   "cell_type": "code",
   "execution_count": 13,
   "metadata": {},
   "outputs": [],
   "source": [
    "# gensim's stopwords mixed with a few I added\n",
    "my_stopwords = STOPWORDS.union(set(['jacobsohn', 'avraham', 'http', 'https', 'kalman', 'com', 'sdui', 'www']))"
   ]
  },
  {
   "cell_type": "code",
   "execution_count": 14,
   "metadata": {},
   "outputs": [
    {
     "name": "stderr",
     "output_type": "stream",
     "text": [
      "/home/ec2-user/anaconda3/envs/python3/lib/python3.6/site-packages/sklearn/feature_extraction/text.py:301: UserWarning: Your stop_words may be inconsistent with your preprocessing. Tokenizing the stop words generated tokens ['doe', 'ha', 'le', 'wa'] not in stop_words.\n",
      "  'stop_words.' % sorted(inconsistent))\n"
     ]
    }
   ],
   "source": [
    "# Vectorize the X's with the regex tokenize and my_stopwords\n",
    "tokeni_zer = tokenize\n",
    "vect = TfidfVectorizer(tokenizer=tokenize.regnltk_tokenize, stop_words=my_stopwords, min_df=0.02, max_df=0.98)\n",
    "X_train = vect.fit_transform(X_train)\n",
    "X_test = vect.transform(X_test)\n",
    "\n",
    "pickle.dump(vect, open('vect.pkl', 'wb'))"
   ]
  },
  {
   "cell_type": "code",
   "execution_count": 15,
   "metadata": {},
   "outputs": [],
   "source": [
    "# encode the y's so the computer understands\n",
    "encoder = LabelEncoder()\n",
    "y_train = encoder.fit_transform(y_train)\n",
    "y_test = encoder.transform(y_test)\n",
    "\n",
    "pickle.dump(encoder, open('labeller.pkl','wb'))"
   ]
  },
  {
   "cell_type": "code",
   "execution_count": 16,
   "metadata": {},
   "outputs": [
    {
     "data": {
      "text/plain": [
       "0.9185714285714286"
      ]
     },
     "execution_count": 16,
     "metadata": {},
     "output_type": "execute_result"
    }
   ],
   "source": [
    "model = RandomForestClassifier(bootstrap=False, n_estimators=300, max_depth=110, min_samples_leaf=3, min_samples_split=10, random_state=42)\n",
    "model.fit(X_train, y_train)\n",
    "\n",
    "pickle.dump(model, open('randomforest.pkl', 'wb'))\n",
    "\n",
    "model.score(X_test, y_test)"
   ]
  },
  {
   "cell_type": "code",
   "execution_count": 17,
   "metadata": {},
   "outputs": [],
   "source": [
    "preds = model.predict(X_test)\n",
    "str_preds = encoder.inverse_transform(preds)"
   ]
  },
  {
   "cell_type": "code",
   "execution_count": 18,
   "metadata": {},
   "outputs": [
    {
     "data": {
      "text/plain": [
       "Finance          1409\n",
       "Entertainment     392\n",
       "Productivity      369\n",
       "Shopping          290\n",
       "Other             267\n",
       "Social             33\n",
       "Travel             20\n",
       "Events             20\n",
       "Name: String Predictions, dtype: int64"
      ]
     },
     "execution_count": 18,
     "metadata": {},
     "output_type": "execute_result"
    }
   ],
   "source": [
    "df = pd.DataFrame({'Predictions': preds,\n",
    "                  'String Predictions': str_preds})\n",
    "df['String Predictions'].value_counts()"
   ]
  },
  {
   "cell_type": "code",
   "execution_count": 19,
   "metadata": {},
   "outputs": [
    {
     "data": {
      "text/plain": [
       "array(['Finance', 'Other', 'Finance', ..., 'Productivity', 'Finance',\n",
       "       'Entertainment'], dtype=object)"
      ]
     },
     "execution_count": 19,
     "metadata": {},
     "output_type": "execute_result"
    }
   ],
   "source": [
    "test_tags = encoder.inverse_transform(y_test)\n",
    "test_tags"
   ]
  },
  {
   "cell_type": "code",
   "execution_count": 20,
   "metadata": {},
   "outputs": [],
   "source": [
    "act_pre = pd.DataFrame({'Actual': test_tags,\n",
    "                       'Preds': preds})"
   ]
  },
  {
   "cell_type": "code",
   "execution_count": 21,
   "metadata": {},
   "outputs": [
    {
     "data": {
      "text/plain": [
       "Finance          1420\n",
       "Entertainment     409\n",
       "Other             300\n",
       "Shopping          295\n",
       "Productivity      258\n",
       "Events             50\n",
       "Social             38\n",
       "Travel             30\n",
       "Name: Actual, dtype: int64"
      ]
     },
     "execution_count": 21,
     "metadata": {},
     "output_type": "execute_result"
    }
   ],
   "source": [
    "act_pre['Actual'].value_counts()"
   ]
  },
  {
   "cell_type": "code",
   "execution_count": 22,
   "metadata": {},
   "outputs": [
    {
     "name": "stderr",
     "output_type": "stream",
     "text": [
      "/home/ec2-user/anaconda3/envs/python3/lib/python3.6/site-packages/ipykernel/__main__.py:1: SettingWithCopyWarning: \n",
      "A value is trying to be set on a copy of a slice from a DataFrame.\n",
      "Try using .loc[row_indexer,col_indexer] = value instead\n",
      "\n",
      "See the caveats in the documentation: http://pandas.pydata.org/pandas-docs/stable/indexing.html#indexing-view-versus-copy\n",
      "  if __name__ == '__main__':\n"
     ]
    },
    {
     "data": {
      "text/html": [
       "<div>\n",
       "<style scoped>\n",
       "    .dataframe tbody tr th:only-of-type {\n",
       "        vertical-align: middle;\n",
       "    }\n",
       "\n",
       "    .dataframe tbody tr th {\n",
       "        vertical-align: top;\n",
       "    }\n",
       "\n",
       "    .dataframe thead th {\n",
       "        text-align: right;\n",
       "    }\n",
       "</style>\n",
       "<table border=\"1\" class=\"dataframe\">\n",
       "  <thead>\n",
       "    <tr style=\"text-align: right;\">\n",
       "      <th></th>\n",
       "      <th>sender_email</th>\n",
       "      <th>Message</th>\n",
       "      <th>Subject</th>\n",
       "      <th>Tags</th>\n",
       "      <th>UID</th>\n",
       "      <th>first_tag</th>\n",
       "      <th>Text</th>\n",
       "      <th>preds</th>\n",
       "    </tr>\n",
       "  </thead>\n",
       "  <tbody>\n",
       "    <tr>\n",
       "      <th>9499</th>\n",
       "      <td>BAExecutiveClub_US@my.ba.com</td>\n",
       "      <td>\\r\\n\\r\\n&lt;!--If you are unable to see the messa...</td>\n",
       "      <td>Important update: Your Executive Club account</td>\n",
       "      <td>Travel</td>\n",
       "      <td>3023</td>\n",
       "      <td>Travel</td>\n",
       "      <td>BAExecutiveClub_US@my.ba.com \\r\\n\\r\\n&lt;!--If yo...</td>\n",
       "      <td>Travel</td>\n",
       "    </tr>\n",
       "    <tr>\n",
       "      <th>10857</th>\n",
       "      <td>normstormin@gmail.com</td>\n",
       "      <td>ok    On Mon, Mar 27, 2017 at 4:56 PM, &lt;samuel...</td>\n",
       "      <td>Re: Prague travel</td>\n",
       "      <td>Personal, Travel</td>\n",
       "      <td>18427</td>\n",
       "      <td>Travel</td>\n",
       "      <td>normstormin@gmail.com ok    On Mon, Mar 27, 20...</td>\n",
       "      <td>Travel</td>\n",
       "    </tr>\n",
       "    <tr>\n",
       "      <th>9946</th>\n",
       "      <td>express@airbnb.com</td>\n",
       "      <td>RE: Reservation request at Penthouse apartment...</td>\n",
       "      <td>RE: Reservation request at Penthouse apartment...</td>\n",
       "      <td>Travel</td>\n",
       "      <td>1188</td>\n",
       "      <td>Travel</td>\n",
       "      <td>express@airbnb.com RE: Reservation request at ...</td>\n",
       "      <td>Travel</td>\n",
       "    </tr>\n",
       "    <tr>\n",
       "      <th>9430</th>\n",
       "      <td>BAExecutiveClub_US@my.ba.com</td>\n",
       "      <td>\\r\\n\\r\\n&lt;!--If you are unable to see the messa...</td>\n",
       "      <td>Executive Club Statement</td>\n",
       "      <td>Travel</td>\n",
       "      <td>2915</td>\n",
       "      <td>Travel</td>\n",
       "      <td>BAExecutiveClub_US@my.ba.com \\r\\n\\r\\n&lt;!--If yo...</td>\n",
       "      <td>Travel</td>\n",
       "    </tr>\n",
       "    <tr>\n",
       "      <th>10117</th>\n",
       "      <td>accountservices@mercuryinsurance.com</td>\n",
       "      <td>[&lt;email.message.Message object at 0x0000022BB4...</td>\n",
       "      <td>Paperless enrollment confirmation for policy F...</td>\n",
       "      <td>Finance</td>\n",
       "      <td>1362</td>\n",
       "      <td>Finance</td>\n",
       "      <td>accountservices@mercuryinsurance.com [&lt;email.m...</td>\n",
       "      <td>Travel</td>\n",
       "    </tr>\n",
       "    <tr>\n",
       "      <th>919</th>\n",
       "      <td>BA.CustSvcs@email.ba.com</td>\n",
       "      <td>PLEASE DO NOT RESPOND DIRECTLY TO THIS EMAIL. ...</td>\n",
       "      <td>Password Reset on ba.com</td>\n",
       "      <td>Travel</td>\n",
       "      <td>765</td>\n",
       "      <td>Travel</td>\n",
       "      <td>BA.CustSvcs@email.ba.com PLEASE DO NOT RESPOND...</td>\n",
       "      <td>Travel</td>\n",
       "    </tr>\n",
       "    <tr>\n",
       "      <th>10813</th>\n",
       "      <td>rosal@uw.edu</td>\n",
       "      <td>T2suIFRoYW5rcywgU2FtIQ0KDQpSb3NhDQpSb3NhIEwuIE...</td>\n",
       "      <td>RE: FW: COPY: Appointment Confirmation - UW Bo...</td>\n",
       "      <td>Productivity, Events</td>\n",
       "      <td>15860</td>\n",
       "      <td>Productivity</td>\n",
       "      <td>rosal@uw.edu T2suIFRoYW5rcywgU2FtIQ0KDQpSb3NhD...</td>\n",
       "      <td>Travel</td>\n",
       "    </tr>\n",
       "    <tr>\n",
       "      <th>8715</th>\n",
       "      <td>BAExecutiveClub_US@my.ba.com</td>\n",
       "      <td>\\r\\n\\r\\n&lt;!--If you are unable to see the messa...</td>\n",
       "      <td>Convert your hotel loyalty points\\r\\n for Avio...</td>\n",
       "      <td>Travel</td>\n",
       "      <td>1912</td>\n",
       "      <td>Travel</td>\n",
       "      <td>BAExecutiveClub_US@my.ba.com \\r\\n\\r\\n&lt;!--If yo...</td>\n",
       "      <td>Travel</td>\n",
       "    </tr>\n",
       "    <tr>\n",
       "      <th>10910</th>\n",
       "      <td>normstormin@gmail.com</td>\n",
       "      <td>---------- Forwarded message ----------  From:...</td>\n",
       "      <td>Fwd: Prague ticket purchased</td>\n",
       "      <td>Personal, Travel</td>\n",
       "      <td>20916</td>\n",
       "      <td>Travel</td>\n",
       "      <td>normstormin@gmail.com ---------- Forwarded mes...</td>\n",
       "      <td>Travel</td>\n",
       "    </tr>\n",
       "    <tr>\n",
       "      <th>9939</th>\n",
       "      <td>MileagePlus@news.united.com</td>\n",
       "      <td>&lt;=21doctype html&gt;&lt;html&gt;&lt;head&gt;&lt;meta charset=3D=...</td>\n",
       "      <td>Choose how you use your miles with MileagePlus</td>\n",
       "      <td>Travel</td>\n",
       "      <td>1181</td>\n",
       "      <td>Travel</td>\n",
       "      <td>MileagePlus@news.united.com &lt;=21doctype html&gt;&lt;...</td>\n",
       "      <td>Travel</td>\n",
       "    </tr>\n",
       "    <tr>\n",
       "      <th>8975</th>\n",
       "      <td>BAExecutiveClub_US@my.ba.com</td>\n",
       "      <td>\\r\\n\\r\\n&lt;!--If you are unable to see the messa...</td>\n",
       "      <td>Executive Club Statement</td>\n",
       "      <td>Travel</td>\n",
       "      <td>2290</td>\n",
       "      <td>Travel</td>\n",
       "      <td>BAExecutiveClub_US@my.ba.com \\r\\n\\r\\n&lt;!--If yo...</td>\n",
       "      <td>Travel</td>\n",
       "    </tr>\n",
       "    <tr>\n",
       "      <th>905</th>\n",
       "      <td>BA.CustSvcs@email.ba.com</td>\n",
       "      <td>PLEASE DO NOT RESPOND DIRECTLY TO THIS EMAIL. ...</td>\n",
       "      <td>Password Reset on ba.com</td>\n",
       "      <td>Travel</td>\n",
       "      <td>1397</td>\n",
       "      <td>Travel</td>\n",
       "      <td>BA.CustSvcs@email.ba.com PLEASE DO NOT RESPOND...</td>\n",
       "      <td>Travel</td>\n",
       "    </tr>\n",
       "  </tbody>\n",
       "</table>\n",
       "</div>"
      ],
      "text/plain": [
       "                               sender_email  \\\n",
       "9499           BAExecutiveClub_US@my.ba.com   \n",
       "10857                 normstormin@gmail.com   \n",
       "9946                     express@airbnb.com   \n",
       "9430           BAExecutiveClub_US@my.ba.com   \n",
       "10117  accountservices@mercuryinsurance.com   \n",
       "919                BA.CustSvcs@email.ba.com   \n",
       "10813                          rosal@uw.edu   \n",
       "8715           BAExecutiveClub_US@my.ba.com   \n",
       "10910                 normstormin@gmail.com   \n",
       "9939            MileagePlus@news.united.com   \n",
       "8975           BAExecutiveClub_US@my.ba.com   \n",
       "905                BA.CustSvcs@email.ba.com   \n",
       "\n",
       "                                                 Message  \\\n",
       "9499   \\r\\n\\r\\n<!--If you are unable to see the messa...   \n",
       "10857  ok    On Mon, Mar 27, 2017 at 4:56 PM, <samuel...   \n",
       "9946   RE: Reservation request at Penthouse apartment...   \n",
       "9430   \\r\\n\\r\\n<!--If you are unable to see the messa...   \n",
       "10117  [<email.message.Message object at 0x0000022BB4...   \n",
       "919    PLEASE DO NOT RESPOND DIRECTLY TO THIS EMAIL. ...   \n",
       "10813  T2suIFRoYW5rcywgU2FtIQ0KDQpSb3NhDQpSb3NhIEwuIE...   \n",
       "8715   \\r\\n\\r\\n<!--If you are unable to see the messa...   \n",
       "10910  ---------- Forwarded message ----------  From:...   \n",
       "9939   <=21doctype html><html><head><meta charset=3D=...   \n",
       "8975   \\r\\n\\r\\n<!--If you are unable to see the messa...   \n",
       "905    PLEASE DO NOT RESPOND DIRECTLY TO THIS EMAIL. ...   \n",
       "\n",
       "                                                 Subject  \\\n",
       "9499       Important update: Your Executive Club account   \n",
       "10857                                  Re: Prague travel   \n",
       "9946   RE: Reservation request at Penthouse apartment...   \n",
       "9430                            Executive Club Statement   \n",
       "10117  Paperless enrollment confirmation for policy F...   \n",
       "919                             Password Reset on ba.com   \n",
       "10813  RE: FW: COPY: Appointment Confirmation - UW Bo...   \n",
       "8715   Convert your hotel loyalty points\\r\\n for Avio...   \n",
       "10910                       Fwd: Prague ticket purchased   \n",
       "9939      Choose how you use your miles with MileagePlus   \n",
       "8975                            Executive Club Statement   \n",
       "905                             Password Reset on ba.com   \n",
       "\n",
       "                       Tags    UID     first_tag  \\\n",
       "9499                 Travel   3023        Travel   \n",
       "10857      Personal, Travel  18427        Travel   \n",
       "9946                 Travel   1188        Travel   \n",
       "9430                 Travel   2915        Travel   \n",
       "10117               Finance   1362       Finance   \n",
       "919                  Travel    765        Travel   \n",
       "10813  Productivity, Events  15860  Productivity   \n",
       "8715                 Travel   1912        Travel   \n",
       "10910      Personal, Travel  20916        Travel   \n",
       "9939                 Travel   1181        Travel   \n",
       "8975                 Travel   2290        Travel   \n",
       "905                  Travel   1397        Travel   \n",
       "\n",
       "                                                    Text   preds  \n",
       "9499   BAExecutiveClub_US@my.ba.com \\r\\n\\r\\n<!--If yo...  Travel  \n",
       "10857  normstormin@gmail.com ok    On Mon, Mar 27, 20...  Travel  \n",
       "9946   express@airbnb.com RE: Reservation request at ...  Travel  \n",
       "9430   BAExecutiveClub_US@my.ba.com \\r\\n\\r\\n<!--If yo...  Travel  \n",
       "10117  accountservices@mercuryinsurance.com [<email.m...  Travel  \n",
       "919    BA.CustSvcs@email.ba.com PLEASE DO NOT RESPOND...  Travel  \n",
       "10813  rosal@uw.edu T2suIFRoYW5rcywgU2FtIQ0KDQpSb3NhD...  Travel  \n",
       "8715   BAExecutiveClub_US@my.ba.com \\r\\n\\r\\n<!--If yo...  Travel  \n",
       "10910  normstormin@gmail.com ---------- Forwarded mes...  Travel  \n",
       "9939   MileagePlus@news.united.com <=21doctype html><...  Travel  \n",
       "8975   BAExecutiveClub_US@my.ba.com \\r\\n\\r\\n<!--If yo...  Travel  \n",
       "905    BA.CustSvcs@email.ba.com PLEASE DO NOT RESPOND...  Travel  "
      ]
     },
     "execution_count": 22,
     "metadata": {},
     "output_type": "execute_result"
    }
   ],
   "source": [
    "test['preds'] = str_preds\n",
    "test[test['preds'] == 'Travel']"
   ]
  },
  {
   "cell_type": "code",
   "execution_count": 30,
   "metadata": {},
   "outputs": [
    {
     "data": {
      "text/plain": [
       "'ok    On Mon, Mar 27, 2017 at 4:56 PM, <samuelithian@gmail.com> wrote:    > July 17th  >  >  >  > Sent from Mail <https://go.microsoft.com/fwlink/?LinkId=3D550986> for  > Windows 10  >  >  >  > *From: *norman hepner <normstormin@gmail.com>  > *Sent: *Monday, March 27, 2017 4:55 PM  > *To: *Samuel Hepner <samuelithian@gmail.com>  > *Subject: *Re: Prague travel  >  >  >  > when do you need to depart by?  >  >  >  > On Mon, Mar 27, 2017 at 4:53 PM, <samuelithian@gmail.com> wrote:  >  > I just reviewed the information on the flight date and it says that  > students must make their reservations to arrive on July 19th between 9am  > and 1pm at the Vlaclav Havel airport and thats where there will =  be people  > to pick me up. They also say that I should have a round trip ticket due t=  o  > previous experiences with students being denied boarding.  >  >  >  > Sent from Mail <https://go.microsoft.com/fwlink/?LinkId=3D550986> for  > Windows 10  >  >  >  >  >  >  >  '"
      ]
     },
     "execution_count": 30,
     "metadata": {},
     "output_type": "execute_result"
    }
   ],
   "source": [
    "test[(test['sender_email'] == 'normstormin@gmail.com') & (test['first_tag'] == 'Travel') & (test['preds'] == 'Travel')]['Message'][10857]"
   ]
  },
  {
   "cell_type": "code",
   "execution_count": 23,
   "metadata": {},
   "outputs": [
    {
     "data": {
      "text/plain": [
       "Finance          1420\n",
       "Entertainment     409\n",
       "Other             300\n",
       "Shopping          295\n",
       "Productivity      258\n",
       "Events             50\n",
       "Social             38\n",
       "Travel             30\n",
       "Name: first_tag, dtype: int64"
      ]
     },
     "execution_count": 23,
     "metadata": {},
     "output_type": "execute_result"
    }
   ],
   "source": [
    "test['first_tag'].value_counts()"
   ]
  },
  {
   "cell_type": "code",
   "execution_count": 20,
   "metadata": {},
   "outputs": [],
   "source": [
    "# Set up for the GridSearchCV\n",
    "param_grid = {\n",
    "    'bootstrap': [False],\n",
    "    'max_depth': [7, 10, 110],\n",
    "    'min_samples_leaf': [3, 6, 9],\n",
    "    'min_samples_split': [10],\n",
    "    'n_estimators': [500]\n",
    "}\n",
    "\n",
    "# Base model\n",
    "rfc = RandomForestClassifier()\n",
    "\n",
    "# grid search time!\n",
    "grid_search = GridSearchCV(estimator=rfc, param_grid=param_grid, n_jobs=-1, verbose=2)"
   ]
  },
  {
   "cell_type": "code",
   "execution_count": 21,
   "metadata": {},
   "outputs": [
    {
     "name": "stdout",
     "output_type": "stream",
     "text": [
      "Fitting 3 folds for each of 9 candidates, totalling 27 fits\n"
     ]
    },
    {
     "name": "stderr",
     "output_type": "stream",
     "text": [
      "/home/ec2-user/anaconda3/envs/python3/lib/python3.6/site-packages/sklearn/model_selection/_split.py:2053: FutureWarning: You should specify a value for 'cv' instead of relying on the default value. The default value will change from 3 to 5 in version 0.22.\n",
      "  warnings.warn(CV_WARNING, FutureWarning)\n",
      "[Parallel(n_jobs=-1)]: Using backend LokyBackend with 2 concurrent workers.\n",
      "[Parallel(n_jobs=-1)]: Done  27 out of  27 | elapsed:  1.1min finished\n"
     ]
    },
    {
     "data": {
      "text/plain": [
       "GridSearchCV(cv='warn', error_score='raise-deprecating',\n",
       "       estimator=RandomForestClassifier(bootstrap=True, class_weight=None, criterion='gini',\n",
       "            max_depth=None, max_features='auto', max_leaf_nodes=None,\n",
       "            min_impurity_decrease=0.0, min_impurity_split=None,\n",
       "            min_samples_leaf=1, min_samples_split=2,\n",
       "            min_weight_fraction_leaf=0.0, n_estimators='warn', n_jobs=None,\n",
       "            oob_score=False, random_state=None, verbose=0,\n",
       "            warm_start=False),\n",
       "       fit_params=None, iid='warn', n_jobs=-1,\n",
       "       param_grid={'bootstrap': [False], 'max_depth': [7, 10, 110], 'min_samples_leaf': [3, 6, 9], 'min_samples_split': [10], 'n_estimators': [500]},\n",
       "       pre_dispatch='2*n_jobs', refit=True, return_train_score='warn',\n",
       "       scoring=None, verbose=2)"
      ]
     },
     "execution_count": 21,
     "metadata": {},
     "output_type": "execute_result"
    }
   ],
   "source": [
    "grid_search.fit(X_train, y_train)"
   ]
  },
  {
   "cell_type": "code",
   "execution_count": 22,
   "metadata": {},
   "outputs": [],
   "source": [
    "def evaluate(model, test_features, test_labels):\n",
    "    predictions = model.predict(test_features)\n",
    "    errors = abs(predictions - test_labels)\n",
    "    mape = 100 * np.mean(errors / test_labels)\n",
    "    accuracy = 100 - mape\n",
    "    print('Model Performance')\n",
    "    print('Average Error: {:0.4f} degrees.'.format(np.mean(errors)))\n",
    "    print('Accuracy = {:0.2f}%.'.format(accuracy))\n",
    "    \n",
    "    return accuracy"
   ]
  },
  {
   "cell_type": "code",
   "execution_count": 23,
   "metadata": {},
   "outputs": [
    {
     "name": "stdout",
     "output_type": "stream",
     "text": [
      "Best params {'bootstrap': False, 'max_depth': 110, 'min_samples_leaf': 3, 'min_samples_split': 10, 'n_estimators': 500}\n",
      "Best grid RandomForestClassifier(bootstrap=False, class_weight=None, criterion='gini',\n",
      "            max_depth=110, max_features='auto', max_leaf_nodes=None,\n",
      "            min_impurity_decrease=0.0, min_impurity_split=None,\n",
      "            min_samples_leaf=3, min_samples_split=10,\n",
      "            min_weight_fraction_leaf=0.0, n_estimators=500, n_jobs=None,\n",
      "            oob_score=False, random_state=None, verbose=0,\n",
      "            warm_start=False)\n"
     ]
    },
    {
     "ename": "AttributeError",
     "evalue": "'numpy.ndarray' object has no attribute 'values'",
     "output_type": "error",
     "traceback": [
      "\u001b[0;31m---------------------------------------------------------------------------\u001b[0m",
      "\u001b[0;31mAttributeError\u001b[0m                            Traceback (most recent call last)",
      "\u001b[0;32m<ipython-input-23-5b6db927296d>\u001b[0m in \u001b[0;36m<module>\u001b[0;34m()\u001b[0m\n\u001b[1;32m      3\u001b[0m \u001b[0mbest_grid\u001b[0m \u001b[0;34m=\u001b[0m \u001b[0mgrid_search\u001b[0m\u001b[0;34m.\u001b[0m\u001b[0mbest_estimator_\u001b[0m\u001b[0;34m\u001b[0m\u001b[0m\n\u001b[1;32m      4\u001b[0m \u001b[0mprint\u001b[0m\u001b[0;34m(\u001b[0m\u001b[0;34m'Best grid'\u001b[0m\u001b[0;34m,\u001b[0m \u001b[0mbest_grid\u001b[0m\u001b[0;34m)\u001b[0m\u001b[0;34m\u001b[0m\u001b[0m\n\u001b[0;32m----> 5\u001b[0;31m \u001b[0mgrid_accuracy\u001b[0m \u001b[0;34m=\u001b[0m \u001b[0mevaluate\u001b[0m\u001b[0;34m(\u001b[0m\u001b[0mbest_grid\u001b[0m\u001b[0;34m,\u001b[0m \u001b[0mX_test\u001b[0m\u001b[0;34m,\u001b[0m \u001b[0my_test\u001b[0m\u001b[0;34m.\u001b[0m\u001b[0mvalues\u001b[0m\u001b[0;34m)\u001b[0m\u001b[0;34m\u001b[0m\u001b[0m\n\u001b[0m",
      "\u001b[0;31mAttributeError\u001b[0m: 'numpy.ndarray' object has no attribute 'values'"
     ]
    }
   ],
   "source": [
    "print('Best params', grid_search.best_params_)\n",
    "\n",
    "best_grid = grid_search.best_estimator_\n",
    "print('Best grid', best_grid)\n",
    "grid_accuracy = evaluate(best_grid, X_test, y_test.values)"
   ]
  },
  {
   "cell_type": "code",
   "execution_count": null,
   "metadata": {},
   "outputs": [],
   "source": []
  }
 ],
 "metadata": {
  "kernelspec": {
   "display_name": "conda_python3",
   "language": "python",
   "name": "conda_python3"
  },
  "language_info": {
   "codemirror_mode": {
    "name": "ipython",
    "version": 3
   },
   "file_extension": ".py",
   "mimetype": "text/x-python",
   "name": "python",
   "nbconvert_exporter": "python",
   "pygments_lexer": "ipython3",
   "version": "3.6.5"
  }
 },
 "nbformat": 4,
 "nbformat_minor": 4
}