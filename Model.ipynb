{
 "cells": [
  {
   "cell_type": "code",
   "execution_count": 1,
   "metadata": {},
   "outputs": [],
   "source": [
    "import pandas as pd\n",
    "import matplotlib.pyplot as plt\n",
    "import re\n",
    "\n",
    "import boto3\n",
    "import pandas as pd\n",
    "from sagemaker import get_execution_role\n",
    "\n",
    "from sklearn.model_selection import train_test_split\n",
    "from sklearn.feature_extraction.text import TfidfVectorizer\n",
    "from sklearn.ensemble import RandomForestClassifier\n",
    "from sklearn.linear_model import SGDClassifier\n",
    "from sklearn.preprocessing import MultiLabelBinarizer\n",
    "import category_encoders as ce\n",
    "\n",
    "import gensim\n",
    "from gensim.utils import simple_preprocess\n",
    "from gensim.parsing.preprocessing import STOPWORDS\n",
    "from gensim import corpora\n",
    "from gensim.models.ldamulticore import LdaMulticore"
   ]
  },
  {
   "cell_type": "code",
   "execution_count": 2,
   "metadata": {},
   "outputs": [],
   "source": [
    "# Dataset\n",
    "\n",
    "role = get_execution_role()\n",
    "bucket='sagemaker-tagger'\n",
    "data_key1 = 'Master_emails.csv'\n",
    "data_location1 = 's3://{}/{}'.format(bucket, data_key1)\n",
    "\n",
    "df = pd.read_csv(data_location1)"
   ]
  },
  {
   "cell_type": "code",
   "execution_count": 3,
   "metadata": {},
   "outputs": [],
   "source": [
    "# Drop unneeded columns, nulls, and change message type to str\n",
    "\n",
    "df.drop(columns=['Unnamed: 0'], inplace=True)\n",
    "df['Message'] = df['Message'].apply(str)\n",
    "\n",
    "print(df.shape)\n",
    "df.dropna(inplace=True)\n",
    "print(df.shape)"
   ]
  },
  {
   "cell_type": "markdown",
   "metadata": {},
   "source": [
    "### EDA/Cleaning Function"
   ]
  },
  {
   "cell_type": "code",
   "execution_count": 4,
   "metadata": {},
   "outputs": [
    {
     "data": {
      "text/html": [
       "<div>\n",
       "<style scoped>\n",
       "    .dataframe tbody tr th:only-of-type {\n",
       "        vertical-align: middle;\n",
       "    }\n",
       "\n",
       "    .dataframe tbody tr th {\n",
       "        vertical-align: top;\n",
       "    }\n",
       "\n",
       "    .dataframe thead th {\n",
       "        text-align: right;\n",
       "    }\n",
       "</style>\n",
       "<table border=\"1\" class=\"dataframe\">\n",
       "  <thead>\n",
       "    <tr style=\"text-align: right;\">\n",
       "      <th></th>\n",
       "      <th>Content_Type</th>\n",
       "      <th>From</th>\n",
       "      <th>Message</th>\n",
       "      <th>Subject</th>\n",
       "      <th>Tags</th>\n",
       "      <th>UID</th>\n",
       "    </tr>\n",
       "  </thead>\n",
       "  <tbody>\n",
       "    <tr>\n",
       "      <th>0</th>\n",
       "      <td>text/plain</td>\n",
       "      <td>&lt;grangepayments@westernunionspeedpay.com&gt;</td>\n",
       "      <td>Dear AVRAHAM JACOBSOHN,  This is to confirm th...</td>\n",
       "      <td>Grange Payment Confirmation</td>\n",
       "      <td>Finance</td>\n",
       "      <td>31780</td>\n",
       "    </tr>\n",
       "    <tr>\n",
       "      <th>1</th>\n",
       "      <td>text/plain</td>\n",
       "      <td>Chase &lt;no.reply.alerts@chase.com&gt;</td>\n",
       "      <td>This is an Alert to help manage your account ...</td>\n",
       "      <td>Your Debit Card Transaction</td>\n",
       "      <td>Finance</td>\n",
       "      <td>31779</td>\n",
       "    </tr>\n",
       "    <tr>\n",
       "      <th>2</th>\n",
       "      <td>text/plain</td>\n",
       "      <td>Amazon Web Services &lt;no-reply-aws@amazon.com&gt;</td>\n",
       "      <td>Please let us know if we helped resolve your i...</td>\n",
       "      <td>Resolved 6559329691: Limit Increase: SageMaker</td>\n",
       "      <td>Productivity</td>\n",
       "      <td>31738</td>\n",
       "    </tr>\n",
       "    <tr>\n",
       "      <th>3</th>\n",
       "      <td>text/plain</td>\n",
       "      <td>Lambda Labs &lt;noreply@github.com&gt;</td>\n",
       "      <td>Youve been added to the Labs 18 - Tagger team ...</td>\n",
       "      <td>Bernie Durfee added you to the Lambda Labs tea...</td>\n",
       "      <td>Productivity</td>\n",
       "      <td>31693</td>\n",
       "    </tr>\n",
       "    <tr>\n",
       "      <th>4</th>\n",
       "      <td>text/plain</td>\n",
       "      <td>Amazon Web Services &lt;no-reply-aws@amazon.com&gt;</td>\n",
       "      <td>Hello,  We haven't heard back from you regard...</td>\n",
       "      <td>Attention required on case 6559329691: Limit I...</td>\n",
       "      <td>Productivity</td>\n",
       "      <td>31684</td>\n",
       "    </tr>\n",
       "  </tbody>\n",
       "</table>\n",
       "</div>"
      ],
      "text/plain": [
       "  Content_Type                                           From  \\\n",
       "0   text/plain      <grangepayments@westernunionspeedpay.com>   \n",
       "1   text/plain              Chase <no.reply.alerts@chase.com>   \n",
       "2   text/plain  Amazon Web Services <no-reply-aws@amazon.com>   \n",
       "3   text/plain               Lambda Labs <noreply@github.com>   \n",
       "4   text/plain  Amazon Web Services <no-reply-aws@amazon.com>   \n",
       "\n",
       "                                             Message  \\\n",
       "0  Dear AVRAHAM JACOBSOHN,  This is to confirm th...   \n",
       "1   This is an Alert to help manage your account ...   \n",
       "2  Please let us know if we helped resolve your i...   \n",
       "3  Youve been added to the Labs 18 - Tagger team ...   \n",
       "4   Hello,  We haven't heard back from you regard...   \n",
       "\n",
       "                                             Subject          Tags    UID  \n",
       "0                        Grange Payment Confirmation       Finance  31780  \n",
       "1                        Your Debit Card Transaction       Finance  31779  \n",
       "2     Resolved 6559329691: Limit Increase: SageMaker  Productivity  31738  \n",
       "3  Bernie Durfee added you to the Lambda Labs tea...  Productivity  31693  \n",
       "4  Attention required on case 6559329691: Limit I...  Productivity  31684  "
      ]
     },
     "execution_count": 4,
     "metadata": {},
     "output_type": "execute_result"
    }
   ],
   "source": [
    "df.head()"
   ]
  },
  {
   "cell_type": "code",
   "execution_count": 5,
   "metadata": {},
   "outputs": [
    {
     "data": {
      "image/png": "[encoded data removed]",
      "text/plain": [
       "<Figure size 432x288 with 1 Axes>"
      ]
     },
     "metadata": {},
     "output_type": "display_data"
    }
   ],
   "source": [
    "# Text length\n",
    "df['Text_Length'] = df['Message'].apply(str)\n",
    "df['Text_Length'] = df['Text_Length'].apply(len)\n",
    "\n",
    "# Too many messages have the same length, too many of the same email from Amazon\n",
    "plt.hist(df['Text_Length'].values, bins = range(0, 1000, 1));"
   ]
  },
  {
   "cell_type": "code",
   "execution_count": 6,
   "metadata": {},
   "outputs": [],
   "source": [
    "# Function to clean the text prior to tokenizing\n",
    "\n",
    "def clean_text(text):\n",
    "    # Perform a few cleaning steps to remove non-alphabetic characters\n",
    "    \n",
    "    text = text.replace(\"\\n\", \" \").replace(\"\\r\", \" \")\n",
    "    \n",
    "    punc_list = '!@#$%^&*()+?-_=:.<>[]{}/\\~\",' + '1234567890'\n",
    "    t = str.maketrans(dict.fromkeys(punc_list, \" \"))\n",
    "    text = text.translate(t)\n",
    "    \n",
    "    return text   "
   ]
  },
  {
   "cell_type": "code",
   "execution_count": 7,
   "metadata": {},
   "outputs": [
    {
     "name": "stdout",
     "output_type": "stream",
     "text": [
      "Please let us know if we helped resolve your issue:   If YES, click here: https://console.aws.amazon.com/support/feedback?eventId=6559329691&language=en&questionnaireId=Support-HMD-Yes  If NO, click here: https://console.aws.amazon.com/support/feedback?eventId=6559329691&language=en&questionnaireId=Support-HMD-No   To contact us again about this case, please return to the AWS Support Center using the following URL:   https://console.aws.amazon.com/support/home?#/case/?caseId=6559329691&displayId=6559329691&language=en  (If you will connect by federation, log in before following the link.)  *Please note: this e-mail was sent from an address that cannot accept incoming e-mail. Please use the link above if you need to contact us again about this same issue.  Amazon Web Services, Inc. is a subsidiary of Amazon.com, Inc. Amazon.com is a registered trademark of Amazon.com, Inc.     SPACE    Please let us know if we helped resolve your issue    If YES  click here  https   console aws amazon com support feedback eventId            language en questionnaireId Support HMD Yes  If NO  click here  https   console aws amazon com support feedback eventId            language en questionnaireId Support HMD No   To contact us again about this case  please return to the AWS Support Center using the following URL    https   console aws amazon com support home   case  caseId            displayId            language en   If you will connect by federation  log in before following the link     Please note  this e mail was sent from an address that cannot accept incoming e mail  Please use the link above if you need to contact us again about this same issue   Amazon Web Services  Inc  is a subsidiary of Amazon com  Inc  Amazon com is a registered trademark of Amazon com  Inc  \n"
     ]
    }
   ],
   "source": [
    "# Compare before and after clean function\n",
    "\n",
    "df['Clean_Message'] = df['Message'].apply(clean_text)\n",
    "print(df['Message'][2], '   SPACE   ',  df['Clean_Message'][2])"
   ]
  },
  {
   "cell_type": "code",
   "execution_count": 8,
   "metadata": {},
   "outputs": [],
   "source": [
    "# Regex Tokenizer Start\n",
    "\n",
    "WORD = re.compile(r'\\w+')\n",
    "def reg_tokenize(text):\n",
    "    text = clean_text(text)\n",
    "    words = WORD.findall(text)\n",
    "    return words"
   ]
  },
  {
   "cell_type": "code",
   "execution_count": 9,
   "metadata": {},
   "outputs": [
    {
     "name": "stdout",
     "output_type": "stream",
     "text": [
      "Please let us know if we helped resolve your issue:   If YES, click here: https://console.aws.amazon.com/support/feedback?eventId=6559329691&language=en&questionnaireId=Support-HMD-Yes  If NO, click here: https://console.aws.amazon.com/support/feedback?eventId=6559329691&language=en&questionnaireId=Support-HMD-No   To contact us again about this case, please return to the AWS Support Center using the following URL:   https://console.aws.amazon.com/support/home?#/case/?caseId=6559329691&displayId=6559329691&language=en  (If you will connect by federation, log in before following the link.)  *Please note: this e-mail was sent from an address that cannot accept incoming e-mail. Please use the link above if you need to contact us again about this same issue.  Amazon Web Services, Inc. is a subsidiary of Amazon.com, Inc. Amazon.com is a registered trademark of Amazon.com, Inc.     SPACE    ['Please', 'let', 'us', 'know', 'if', 'we', 'helped', 'resolve', 'your', 'issue', 'If', 'YES', 'click', 'here', 'https', 'console', 'aws', 'amazon', 'com', 'support', 'feedback', 'eventId', 'language', 'en', 'questionnaireId', 'Support', 'HMD', 'Yes', 'If', 'NO', 'click', 'here', 'https', 'console', 'aws', 'amazon', 'com', 'support', 'feedback', 'eventId', 'language', 'en', 'questionnaireId', 'Support', 'HMD', 'No', 'To', 'contact', 'us', 'again', 'about', 'this', 'case', 'please', 'return', 'to', 'the', 'AWS', 'Support', 'Center', 'using', 'the', 'following', 'URL', 'https', 'console', 'aws', 'amazon', 'com', 'support', 'home', 'case', 'caseId', 'displayId', 'language', 'en', 'If', 'you', 'will', 'connect', 'by', 'federation', 'log', 'in', 'before', 'following', 'the', 'link', 'Please', 'note', 'this', 'e', 'mail', 'was', 'sent', 'from', 'an', 'address', 'that', 'cannot', 'accept', 'incoming', 'e', 'mail', 'Please', 'use', 'the', 'link', 'above', 'if', 'you', 'need', 'to', 'contact', 'us', 'again', 'about', 'this', 'same', 'issue', 'Amazon', 'Web', 'Services', 'Inc', 'is', 'a', 'subsidiary', 'of', 'Amazon', 'com', 'Inc', 'Amazon', 'com', 'is', 'a', 'registered', 'trademark', 'of', 'Amazon', 'com', 'Inc']\n"
     ]
    }
   ],
   "source": [
    "# Compare before and after regex tokenize/clean function\n",
    "\n",
    "df['Clean_Message'] = df['Message'].apply(reg_tokenize)\n",
    "print(df['Message'][2], '   SPACE   ',  df['Clean_Message'][2])"
   ]
  },
  {
   "cell_type": "code",
   "execution_count": 4,
   "metadata": {
    "jupyter": {
     "source_hidden": true
    }
   },
   "outputs": [],
   "source": [
    "# def clean_categories(text):\n",
    "#     text = text.replace(\"Promotions\", '')\n",
    "#     text = text.replace(\"'\", '')\n",
    "#     text = text.strip(\"[\").strip(\"]\")\n",
    "#     text = text.strip(\"'\").strip(\",\").strip(\" \")\n",
    "#     text = text.split(\",\")\n",
    "#     return text\n",
    "\n",
    "# emails['tags'] = emails['tags'].apply(clean_categories)\n",
    "# emails.head()"
   ]
  },
  {
   "cell_type": "code",
   "execution_count": 5,
   "metadata": {},
   "outputs": [],
   "source": [
    "# Functions for checking NLP measures of sentiment\n",
    "\n",
    "# def polarity_txt(text):\n",
    "#     return TextBlob(text).sentiment[0]\n",
    "\n",
    "# def subj_txt(text):\n",
    "#     return  TextBlob(text).sentiment[1]\n",
    "\n",
    "# def len_txt(text):\n",
    "#     if len(text.split())>0:\n",
    "#          return len(set(clean_txt(text).split()))/ len(text.split())\n",
    "#     else:\n",
    "#          return 0\n",
    "        \n",
    "# Implement the sentiment features\n",
    "\n",
    "# emails['body'] = emails['body'].apply(str)\n",
    "\n",
    "# emails['polarity'] = emails['body'].apply(polarity_txt)\n",
    "\n",
    "# emails['subjectivity'] = emails['body'].apply(subj_txt)\n",
    "\n",
    "# emails['len'] = emails['body'].apply(len_txt)\n",
    "\n",
    "# emails.head()"
   ]
  },
  {
   "cell_type": "markdown",
   "metadata": {},
   "source": [
    "### Start of Vectorizing "
   ]
  },
  {
   "cell_type": "code",
   "execution_count": 11,
   "metadata": {},
   "outputs": [],
   "source": [
    "df['First_Tag'] = [x[0:4] for x in df['Tags']]\n",
    "df['Text'] = df['Message'] + df['From'] + df['Subject']"
   ]
  },
  {
   "cell_type": "code",
   "execution_count": 12,
   "metadata": {
    "collapsed": true,
    "jupyter": {
     "outputs_hidden": true
    }
   },
   "outputs": [
    {
     "data": {
      "text/plain": [
       "(0        Dear AVRAHAM JACOBSOHN,  This is to confirm th...\n",
       " 1         This is an Alert to help manage your account ...\n",
       " 2        Please let us know if we helped resolve your i...\n",
       " 3        Youve been added to the Labs 18 - Tagger team ...\n",
       " 4         Hello,  We haven't heard back from you regard...\n",
       " 5         This is an Alert to help manage your account ...\n",
       " 6         This is an Alert to help manage your account ...\n",
       " 7        Limit increase request 1 Service: SageMaker Re...\n",
       " 8        Thank you for contacting Amazon Web Services. ...\n",
       " 9         This is an Alert to help manage your account ...\n",
       " 10       Hey noreallyimfine!  A third-party OAuth appli...\n",
       " 11       Hey noreallyimfine!  A third-party OAuth appli...\n",
       " 12       Hey noreallyimfine!  A third-party OAuth appli...\n",
       " 13       Hey noreallyimfine!  A third-party OAuth appli...\n",
       " 14        This is an Alert to help manage your account ...\n",
       " 15       VGhpcyBpcyBhbiBhdXRvbWF0aWNhbGx5IGdlbmVyYXRlZC...\n",
       " 16       VGhpcyBpcyBhbiBhdXRvbWF0aWNhbGx5IGdlbmVyYXRlZC...\n",
       " 17        This is an Alert to help manage your account ...\n",
       " 18        This is an Alert to help manage your account ...\n",
       " 19       Hey noreallyimfine!  A first-party GitHub OAut...\n",
       " 20       Dear AVRAHAM JACOBSOHN,  This is to confirm th...\n",
       " 21        This is an Alert to help manage your account ...\n",
       " 22        This is an Alert to help manage your account ...\n",
       " 23       Hey noreallyimfine!  A third-party OAuth appli...\n",
       " 24        This is an Alert to help manage your account ...\n",
       " 25       You have been granted admin access to better-r...\n",
       " 26       09/18/2019                                    ...\n",
       " 27       Hello  Welcome to your new Ubuntu One account....\n",
       " 28       Your recurring monthly subscription for SamHar...\n",
       " 29        This is an Alert to help manage your account ...\n",
       "                                ...                        \n",
       " 11520    Congrats on registering your domain samuelhepn...\n",
       " 11521    Today's highlights    How to combine multiple ...\n",
       " 11522    Samuel I received the docs you sent. Did you m...\n",
       " 11523      Your email samuelhepner03@gmail.com has been...\n",
       " 11524    Hey SamH3pn3r!    A third-party OAuth applicat...\n",
       " 11525    Samuel, Pursue the Guard and if it doesnt work...\n",
       " 11526    Hello,    Thanks for your interest in building...\n",
       " 11527    Go ahead and reach back out to MSgt Dehler and...\n",
       " 11528    Greetings from Amazon Web Services,    Thank y...\n",
       " 11529    Welcome to Amazon Web Services,    For the nex...\n",
       " 11530            Modern Health: Your New Emotional Heal...\n",
       " 11531    Greetings from Amazon Web Services,    Thank y...\n",
       " 11532    Dear Customer,    Based on your affiliation wi...\n",
       " 11533    Thank you for being an AWS Activate member. As...\n",
       " 11534    Have a Question? We Have Answers.    Whether y...\n",
       " 11535    Today's highlights    What are Eigenvalues and...\n",
       " 11536    Thank you for being an AWS Activate member. We...\n",
       " 11537    To view this email as a web page, go to the fo...\n",
       " 11538    Today's highlights    Ever Wondered Why Normal...\n",
       " 11539    Samuell, Below is a list of documents that I w...\n",
       " 11540    Limit increase request 1  Service: SageMaker  ...\n",
       " 11541    Thank you for contacting Amazon Web Services. ...\n",
       " 11542      Hi there,    I hope the day is treating you ...\n",
       " 11543    This is to confirm that a credit card payment ...\n",
       " 11544    AWS Free Tier usage limit alerting via AWS Bud...\n",
       " 11545    Today's highlights    Understanding Random For...\n",
       " 11546                                                  ...\n",
       " 11547    Thank you for attending AWS Machine Learning W...\n",
       " 11548      Hello again,     I hope you're having a nice...\n",
       " 11549    Today's highlights    How To Wake Up at 5 A.M....\n",
       " Name: Text, Length: 11452, dtype: object, 0        Fina\n",
       " 1        Fina\n",
       " 2        Prod\n",
       " 3        Prod\n",
       " 4        Prod\n",
       " 5        Fina\n",
       " 6        Fina\n",
       " 7        Prod\n",
       " 8        Prod\n",
       " 9        Fina\n",
       " 10       Prod\n",
       " 11       Prod\n",
       " 12       Prod\n",
       " 13       Prod\n",
       " 14       Fina\n",
       " 15       Ente\n",
       " 16       Ente\n",
       " 17       Fina\n",
       " 18       Fina\n",
       " 19       Prod\n",
       " 20       Fina\n",
       " 21       Fina\n",
       " 22       Fina\n",
       " 23       Prod\n",
       " 24       Fina\n",
       " 25       Prod\n",
       " 26       Fina\n",
       " 27       Prod\n",
       " 28       Fina\n",
       " 29       Fina\n",
       "          ... \n",
       " 11520    Prod\n",
       " 11521    Ente\n",
       " 11522    Pers\n",
       " 11523    Prod\n",
       " 11524    Prod\n",
       " 11525    Pers\n",
       " 11526    Soci\n",
       " 11527    Pers\n",
       " 11528    Prod\n",
       " 11529    Prod\n",
       " 11530    Prod\n",
       " 11531    Prod\n",
       " 11532    Prod\n",
       " 11533    Prod\n",
       " 11534    Prod\n",
       " 11535    Ente\n",
       " 11536    Prod\n",
       " 11537    Even\n",
       " 11538    Ente\n",
       " 11539    Pers\n",
       " 11540    Prod\n",
       " 11541    Prod\n",
       " 11542    Prod\n",
       " 11543    Shop\n",
       " 11544    Prod\n",
       " 11545    Ente\n",
       " 11546    Prod\n",
       " 11547    Even\n",
       " 11548    Prod\n",
       " 11549    Ente\n",
       " Name: First_Tag, Length: 11452, dtype: object)"
      ]
     },
     "execution_count": 12,
     "metadata": {},
     "output_type": "execute_result"
    }
   ],
   "source": [
    "X = df['Text']\n",
    "y = df['First_Tag']\n",
    "X, y"
   ]
  },
  {
   "cell_type": "code",
   "execution_count": 13,
   "metadata": {},
   "outputs": [
    {
     "data": {
      "text/plain": [
       "((9161,), (2291,), (9161,), (2291,))"
      ]
     },
     "execution_count": 13,
     "metadata": {},
     "output_type": "execute_result"
    }
   ],
   "source": [
    "X_train, X_test, y_train, y_test = train_test_split(X, y, test_size = 0.2)\n",
    "X_train.shape, X_test.shape, y_train.shape, y_test.shape"
   ]
  },
  {
   "cell_type": "code",
   "execution_count": 14,
   "metadata": {},
   "outputs": [],
   "source": [
    "vect = TfidfVectorizer(tokenizer=reg_tokenize, stop_words='english')\n",
    "X_train = vect.fit_transform(X_train)\n",
    "X_test = vect.transform(X_test)\n",
    "\n",
    "encoder = ce.OrdinalEncoder()\n",
    "y_train = encoder.fit_transform(y_train)\n",
    "y_test = encoder.transform(y_test)"
   ]
  },
  {
   "cell_type": "markdown",
   "metadata": {},
   "source": [
    "### Baseline Models"
   ]
  },
  {
   "cell_type": "code",
   "execution_count": 15,
   "metadata": {},
   "outputs": [
    {
     "name": "stderr",
     "output_type": "stream",
     "text": [
      "/home/ec2-user/anaconda3/envs/python3/lib/python3.6/site-packages/sklearn/linear_model/stochastic_gradient.py:166: FutureWarning: max_iter and tol parameters have been added in SGDClassifier in 0.19. If both are left unset, they default to max_iter=5 and tol=None. If tol is not None, max_iter defaults to max_iter=1000. From 0.21, default max_iter will be 1000, and default tol will be 1e-3.\n",
      "  FutureWarning)\n",
      "/home/ec2-user/anaconda3/envs/python3/lib/python3.6/site-packages/sklearn/utils/validation.py:761: DataConversionWarning: A column-vector y was passed when a 1d array was expected. Please change the shape of y to (n_samples, ), for example using ravel().\n",
      "  y = column_or_1d(y, warn=True)\n"
     ]
    },
    {
     "data": {
      "text/plain": [
       "0.9467481449148843"
      ]
     },
     "execution_count": 15,
     "metadata": {},
     "output_type": "execute_result"
    }
   ],
   "source": [
    "sgd = SGDClassifier()\n",
    "\n",
    "sgd.fit(X_train, y_train)\n",
    "\n",
    "sgd.score(X_test, y_test)"
   ]
  },
  {
   "cell_type": "code",
   "execution_count": 16,
   "metadata": {},
   "outputs": [
    {
     "name": "stderr",
     "output_type": "stream",
     "text": [
      "/home/ec2-user/anaconda3/envs/python3/lib/python3.6/site-packages/sklearn/ensemble/forest.py:246: FutureWarning: The default value of n_estimators will change from 10 in version 0.20 to 100 in 0.22.\n",
      "  \"10 in version 0.20 to 100 in 0.22.\", FutureWarning)\n",
      "/home/ec2-user/anaconda3/envs/python3/lib/python3.6/site-packages/ipykernel/__main__.py:3: DataConversionWarning: A column-vector y was passed when a 1d array was expected. Please change the shape of y to (n_samples,), for example using ravel().\n",
      "  app.launch_new_instance()\n"
     ]
    },
    {
     "data": {
      "text/plain": [
       "0.9236141422959406"
      ]
     },
     "execution_count": 16,
     "metadata": {},
     "output_type": "execute_result"
    }
   ],
   "source": [
    "rf = RandomForestClassifier()\n",
    "\n",
    "rf.fit(X_train, y_train)\n",
    "\n",
    "rf.score(X_test, y_test)"
   ]
  },
  {
   "cell_type": "markdown",
   "metadata": {},
   "source": [
    "### Neural Net Start"
   ]
  },
  {
   "cell_type": "markdown",
   "metadata": {},
   "source": [
    "For now, switch to NeuralNet notebook"
   ]
  },
  {
   "cell_type": "code",
   "execution_count": 18,
   "metadata": {},
   "outputs": [],
   "source": [
    "ALS_test = df.loc[10020]"
   ]
  },
  {
   "cell_type": "code",
   "execution_count": 19,
   "metadata": {},
   "outputs": [
    {
     "data": {
      "text/plain": [
       "'\"The ALS Association Florida Chapter\" <jniehoff@alsafl.org> Kids Camp Hope Loves Company is coming to Florida in April! =54he ALS Association Florida Chapter=0A___________________________________=\\r\\n=5F_____________________________=0A=0A=C2=A0Hope Loves Company\\'s Camp HLC i=\\r\\n=73=0A=0AComing to Florida Again this Year!=C2=A0=0A=0A=C2=A0=0A=0AThe Flor=\\r\\n=69da Chapter is excited to sponsor Hope Loves Company, Inc. to=0Ahelp brin=\\r\\n=67 Camp HLC to Florida again this fall!=C2=A0 Hope Loves=0ACompany is a no=\\r\\n=6E profit organization with the mission of providing=0Aboth educational an=\\r\\n=64 emotional support to children and young adults,=0Aages 6 - 21, who have=\\r\\n=20or had a loved one battling ALS.=C2=A0 It is an=0Aopportunity to have fu=\\r\\n=6E, to be challenged through team building=0Aexercises, and to meet other =\\r\\n=63hildren who are in the same=0Asituation.=C2=A0 =C2=A0=0A=0A=C2=A0=0AThe =\\r\\n=63amp is free to attendees thanks to supporters like The ALS=0AAssociation=\\r\\n=2E=0A=C2=A0=0A=0ACircle F Dude Ranch Camp=0A=0ASeptember 16 - 18, 2018=0A=\\r\\n=0A5301 Dude Ranch Road=0A=0ALake Wales, FL 33853=0A=0ARegister Today Butto=\\r\\n=6E=0A=0Ahttp://webfl.alsa.org/site/R?i=3DE6X3FocpFD4-1uGAlqAwoQ=0A=0A=C2=\\r\\n=A0=0AQuestions?=C2=A0 For more information, contact=0A=0AHope Loves Compan=\\r\\n=79 609.730.1144=0A=0Aor email jodi.odonnell-ames@hopelovescompany.org.=0AU=\\r\\n=73@HopeLovesCompany.org=0A=0A=0A=0A_______________________________________=\\r\\n=5F_________________________=0A=0AThe ALS Association Florida Chapter=0A(88=\\r\\n=38) 257-1717  =C2=B0  3242 Parkside Center Circle  =C2=B0=0A Tampa, FL 336=\\r\\n=319-0907 =C2=B0  Fax (813) 637-9010=0A=0A=0A=0AClick here to forward to a =\\r\\n=46riend:=0Ahttp://webfl.alsa.org/site/R?i=3DgpwDEbe63ObM03J6QHttjg=0A=0A=\\r\\n=0AView Online:=0Ahttp://webfl.alsa.org/site/R?i=3DmehWvut38PUcS9c5p1T2sw=\\r\\n=0A=0AUnsubscribe:=0Ahttp://web.alsa.org/site/CO?i=3Dl2WgBtZ2rq4um1pGCuK99n=\\r\\n=55483Z08BU3&cid=3D0=0A=0APrivacy Policy:=0Ahttp://webfl.alsa.org/site/R?i=\\r\\n=3DYF4sUknezUOQrSvQO484zw=0A=0AResearch:=0Ahttp://webfl.alsa.org/site/R?i=\\r\\n=3D9zB2uKQCz1ANFgDyC4Rw7Q=0A=0APublic Policy:=0Ahttp://webfl.alsa.org/site/=\\r\\n=52?i=3D3iYBhUtMMvyVFIVOxd9sqA=0A=0AGet Involved:=0Ahttp://webfl.alsa.org/s=\\r\\n=69te/R?i=3Dcel0uFj2uUKlWtYPNLSYnw=0A=0ACare Services:=0Ahttp://webfl.alsa.=\\r\\n=6Frg/site/R?i=3DvIANJi4dBXfdhgkSKvf0Ng=0A=0ADonate:=0Ahttp://webfl.alsa.or=\\r\\n=67/site/R?i=3Dd_6Hw6B5HzpZWos5Tue6PQ=0A=C2=A0'"
      ]
     },
     "execution_count": 19,
     "metadata": {},
     "output_type": "execute_result"
    }
   ],
   "source": [
    "ALS_test['Text']"
   ]
  },
  {
   "cell_type": "code",
   "execution_count": null,
   "metadata": {},
   "outputs": [],
   "source": []
  }
 ],
 "metadata": {
  "kernelspec": {
   "display_name": "conda_python3",
   "language": "python",
   "name": "conda_python3"
  },
  "language_info": {
   "codemirror_mode": {
    "name": "ipython",
    "version": 3
   },
   "file_extension": ".py",
   "mimetype": "text/x-python",
   "name": "python",
   "nbconvert_exporter": "python",
   "pygments_lexer": "ipython3",
   "version": "3.6.5"
  }
 },
 "nbformat": 4,
 "nbformat_minor": 4
}
