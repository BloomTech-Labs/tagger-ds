{
 "cells": [
  {
   "cell_type": "code",
   "execution_count": 16,
   "metadata": {},
   "outputs": [],
   "source": [
    "import pandas as pd\n",
    "\n",
    "import boto3\n",
    "import pandas as pd\n",
    "from sagemaker import get_execution_role\n",
    "\n",
    "from sklearn.model_selection import train_test_split\n",
    "from sklearn.feature_extraction.text import TfidfVectorizer\n",
    "from sklearn.ensemble import RandomForestClassifier\n",
    "from sklearn.linear_model import SGDClassifier\n",
    "from sklearn.preprocessing import MultiLabelBinarizer\n",
    "import category_encoders as ce\n",
    "\n",
    "import gensim\n",
    "from gensim.utils import simple_preprocess\n",
    "from gensim.parsing.preprocessing import STOPWORDS\n",
    "from gensim import corpora\n",
    "from gensim.models.ldamulticore import LdaMulticore"
   ]
  },
  {
   "cell_type": "code",
   "execution_count": 6,
   "metadata": {},
   "outputs": [],
   "source": [
    "# Dataset\n",
    "\n",
    "role = get_execution_role()\n",
    "bucket='sagemaker-tagger'\n",
    "data_key1 = 'Master_emails.csv'\n",
    "data_location1 = 's3://{}/{}'.format(bucket, data_key1)\n",
    "\n",
    "df = pd.read_csv(data_location1)"
   ]
  },
  {
   "cell_type": "code",
   "execution_count": 59,
   "metadata": {
    "collapsed": true,
    "jupyter": {
     "outputs_hidden": true,
     "source_hidden": true
    }
   },
   "outputs": [
    {
     "data": {
      "text/html": [
       "<div>\n",
       "<style scoped>\n",
       "    .dataframe tbody tr th:only-of-type {\n",
       "        vertical-align: middle;\n",
       "    }\n",
       "\n",
       "    .dataframe tbody tr th {\n",
       "        vertical-align: top;\n",
       "    }\n",
       "\n",
       "    .dataframe thead th {\n",
       "        text-align: right;\n",
       "    }\n",
       "</style>\n",
       "<table border=\"1\" class=\"dataframe\">\n",
       "  <thead>\n",
       "    <tr style=\"text-align: right;\">\n",
       "      <th></th>\n",
       "      <th>keys</th>\n",
       "      <th>from/to</th>\n",
       "      <th>subject</th>\n",
       "      <th>body</th>\n",
       "      <th>tags</th>\n",
       "    </tr>\n",
       "  </thead>\n",
       "  <tbody>\n",
       "    <tr>\n",
       "      <th>0</th>\n",
       "      <td>809</td>\n",
       "      <td>Google &lt;no-reply@accounts.google.com&gt;</td>\n",
       "      <td>App password created</td>\n",
       "      <td>--00000000000002379205972971fd Content-Type: t...</td>\n",
       "      <td>[Security]</td>\n",
       "    </tr>\n",
       "    <tr>\n",
       "      <th>1</th>\n",
       "      <td>808</td>\n",
       "      <td>Google &lt;no-reply@accounts.google.com&gt;</td>\n",
       "      <td>2-Step Verification turned on</td>\n",
       "      <td>--000000000000d50ed3059729649c Content-Type: t...</td>\n",
       "      <td>[Security]</td>\n",
       "    </tr>\n",
       "    <tr>\n",
       "      <th>2</th>\n",
       "      <td>807</td>\n",
       "      <td>\"Medium Daily Digest\" &lt;noreply@medium.com&gt;</td>\n",
       "      <td>How To Wake Up at 5 A.M. Every Day | Bryan Ye ...</td>\n",
       "      <td>--337b1df667177cb513899ad44e31fb8d4f8637575996...</td>\n",
       "      <td>[Productivity]</td>\n",
       "    </tr>\n",
       "    <tr>\n",
       "      <th>3</th>\n",
       "      <td>806</td>\n",
       "      <td>\"no-reply-aws@amazon.com\" &lt;no-reply-aws@amazon...</td>\n",
       "      <td>RE:[CASE 6570793521] Limit Increase: SageMaker</td>\n",
       "      <td>------=_Part_26869745_214056034.1573352866590 ...</td>\n",
       "      <td>[Productivity]</td>\n",
       "    </tr>\n",
       "    <tr>\n",
       "      <th>4</th>\n",
       "      <td>805</td>\n",
       "      <td>\"Medium Daily Digest\" &lt;noreply@medium.com&gt;</td>\n",
       "      <td>Multiclass Text Classification From Start To F...</td>\n",
       "      <td>--c4169d46c40775d3344614c9be2f1235565dfa74c04d...</td>\n",
       "      <td>[Productivity]</td>\n",
       "    </tr>\n",
       "  </tbody>\n",
       "</table>\n",
       "</div>"
      ],
      "text/plain": [
       "   keys                                            from/to  \\\n",
       "0   809              Google <no-reply@accounts.google.com>   \n",
       "1   808              Google <no-reply@accounts.google.com>   \n",
       "2   807         \"Medium Daily Digest\" <noreply@medium.com>   \n",
       "3   806  \"no-reply-aws@amazon.com\" <no-reply-aws@amazon...   \n",
       "4   805         \"Medium Daily Digest\" <noreply@medium.com>   \n",
       "\n",
       "                                             subject  \\\n",
       "0                               App password created   \n",
       "1                      2-Step Verification turned on   \n",
       "2  How To Wake Up at 5 A.M. Every Day | Bryan Ye ...   \n",
       "3     RE:[CASE 6570793521] Limit Increase: SageMaker   \n",
       "4  Multiclass Text Classification From Start To F...   \n",
       "\n",
       "                                                body            tags  \n",
       "0  --00000000000002379205972971fd Content-Type: t...      [Security]  \n",
       "1  --000000000000d50ed3059729649c Content-Type: t...      [Security]  \n",
       "2  --337b1df667177cb513899ad44e31fb8d4f8637575996...  [Productivity]  \n",
       "3  ------=_Part_26869745_214056034.1573352866590 ...  [Productivity]  \n",
       "4  --c4169d46c40775d3344614c9be2f1235565dfa74c04d...  [Productivity]  "
      ]
     },
     "execution_count": 59,
     "metadata": {},
     "output_type": "execute_result"
    }
   ],
   "source": [
    "# def clean_categories(text):\n",
    "#     text = text.replace(\"Promotions\", '')\n",
    "#     text = text.replace(\"'\", '')\n",
    "#     text = text.strip(\"[\").strip(\"]\")\n",
    "#     text = text.strip(\"'\").strip(\",\").strip(\" \")\n",
    "#     text = text.split(\",\")\n",
    "#     return text\n",
    "\n",
    "# emails['tags'] = emails['tags'].apply(clean_categories)\n",
    "# emails.head()"
   ]
  },
  {
   "cell_type": "code",
   "execution_count": 86,
   "metadata": {},
   "outputs": [],
   "source": [
    "# Functions for checking NLP measures of sentiment\n",
    "\n",
    "# def polarity_txt(text):\n",
    "#     return TextBlob(text).sentiment[0]\n",
    "\n",
    "# def subj_txt(text):\n",
    "#     return  TextBlob(text).sentiment[1]\n",
    "\n",
    "# def len_txt(text):\n",
    "#     if len(text.split())>0:\n",
    "#          return len(set(clean_txt(text).split()))/ len(text.split())\n",
    "#     else:\n",
    "#          return 0\n",
    "        \n",
    "# Implement the sentiment features\n",
    "\n",
    "# emails['body'] = emails['body'].apply(str)\n",
    "\n",
    "# emails['polarity'] = emails['body'].apply(polarity_txt)\n",
    "\n",
    "# emails['subjectivity'] = emails['body'].apply(subj_txt)\n",
    "\n",
    "# emails['len'] = emails['body'].apply(len_txt)\n",
    "\n",
    "# emails.head()"
   ]
  },
  {
   "cell_type": "code",
   "execution_count": 8,
   "metadata": {},
   "outputs": [],
   "source": [
    "mlb = MultiLabelBinarizer()\n",
    "mlb_result = mlb.fit_transform([str(df.loc[i,'Tags']).split(', ') for i in range(len(df))])\n",
    "mlb_df = pd.DataFrame(mlb_result,columns=list(mlb.classes_))"
   ]
  },
  {
   "cell_type": "code",
   "execution_count": 9,
   "metadata": {},
   "outputs": [
    {
     "data": {
      "text/plain": [
       "Index(['Entertainment', 'Events', 'Finance', 'Other', 'Personal',\n",
       "       'Productivity', 'Security', 'Shopping', 'Social', 'Travel', 'nan'],\n",
       "      dtype='object')"
      ]
     },
     "execution_count": 9,
     "metadata": {},
     "output_type": "execute_result"
    }
   ],
   "source": [
    "mlb_df.columns"
   ]
  },
  {
   "cell_type": "code",
   "execution_count": 11,
   "metadata": {},
   "outputs": [],
   "source": [
    "df['Productivity'] = mlb_df['Productivity']\n",
    "df['Entertainment'] = mlb_df['Entertainment']\n",
    "df['Finance'] = mlb_df['Finance']\n",
    "df['Other'] = mlb_df['Other']\n",
    "df['Events'] = mlb_df['Events']\n",
    "df['Travel'] = mlb_df['Travel']\n",
    "df['Shopping'] = mlb_df['Shopping']\n",
    "df['Social'] = mlb_df['Social']\n",
    "df['Personal'] = mlb_df['Personal']"
   ]
  },
  {
   "cell_type": "code",
   "execution_count": 13,
   "metadata": {},
   "outputs": [
    {
     "name": "stdout",
     "output_type": "stream",
     "text": [
      "(11550, 16)\n",
      "(11446, 16)\n"
     ]
    }
   ],
   "source": [
    "print(df.shape)\n",
    "df.dropna(inplace=True)\n",
    "print(df.shape)"
   ]
  },
  {
   "cell_type": "code",
   "execution_count": 26,
   "metadata": {},
   "outputs": [],
   "source": [
    "df['Text'] = df['From'] + ' ' + df['Subject'] + ' ' + df['Message']\n",
    "df['First_Tag'] = [x[0:3] for x in df['Tags']]"
   ]
  },
  {
   "cell_type": "code",
   "execution_count": 27,
   "metadata": {
    "collapsed": true,
    "jupyter": {
     "outputs_hidden": true
    }
   },
   "outputs": [
    {
     "data": {
      "text/plain": [
       "0        Fin\n",
       "1        Fin\n",
       "2        Pro\n",
       "3        Pro\n",
       "4        Pro\n",
       "5        Fin\n",
       "6        Fin\n",
       "7        Pro\n",
       "8        Pro\n",
       "9        Fin\n",
       "10       Pro\n",
       "11       Pro\n",
       "12       Pro\n",
       "13       Pro\n",
       "14       Fin\n",
       "15       Ent\n",
       "16       Ent\n",
       "17       Fin\n",
       "18       Fin\n",
       "19       Pro\n",
       "20       Fin\n",
       "21       Fin\n",
       "22       Fin\n",
       "23       Pro\n",
       "24       Fin\n",
       "25       Pro\n",
       "26       Fin\n",
       "27       Pro\n",
       "28       Fin\n",
       "29       Fin\n",
       "        ... \n",
       "11520    Pro\n",
       "11521    Ent\n",
       "11522    Per\n",
       "11523    Pro\n",
       "11524    Pro\n",
       "11525    Per\n",
       "11526    Soc\n",
       "11527    Per\n",
       "11528    Pro\n",
       "11529    Pro\n",
       "11530    Pro\n",
       "11531    Pro\n",
       "11532    Pro\n",
       "11533    Pro\n",
       "11534    Pro\n",
       "11535    Ent\n",
       "11536    Pro\n",
       "11537    Eve\n",
       "11538    Ent\n",
       "11539    Per\n",
       "11540    Pro\n",
       "11541    Pro\n",
       "11542    Pro\n",
       "11543    Sho\n",
       "11544    Pro\n",
       "11545    Ent\n",
       "11546    Pro\n",
       "11547    Eve\n",
       "11548    Pro\n",
       "11549    Ent\n",
       "Name: First_Tag, Length: 11446, dtype: object"
      ]
     },
     "execution_count": 27,
     "metadata": {},
     "output_type": "execute_result"
    }
   ],
   "source": [
    "X = df['Text']\n",
    "y = df['First_Tag']"
   ]
  },
  {
   "cell_type": "code",
   "execution_count": 48,
   "metadata": {},
   "outputs": [
    {
     "data": {
      "text/plain": [
       "((9156,), (2290,), (9156,), (2290,))"
      ]
     },
     "execution_count": 48,
     "metadata": {},
     "output_type": "execute_result"
    }
   ],
   "source": [
    "X_train, X_test, y_train, y_test = train_test_split(X, y, test_size = 0.2)\n",
    "X_train.shape, X_test.shape, y_train.shape, y_test.shape"
   ]
  },
  {
   "cell_type": "code",
   "execution_count": 49,
   "metadata": {},
   "outputs": [],
   "source": [
    "vect = TfidfVectorizer(stop_words='english')\n",
    "X_train = vect.fit_transform(X_train)\n",
    "X_test = vect.transform(X_test)\n",
    "\n",
    "encoder = ce.OrdinalEncoder()\n",
    "y_train = encoder.fit_transform(y_train)\n",
    "y_test = encoder.transform(y_test)"
   ]
  },
  {
   "cell_type": "code",
   "execution_count": 44,
   "metadata": {},
   "outputs": [
    {
     "data": {
      "text/plain": [
       "<9156x670 sparse matrix of type '<class 'numpy.float64'>'\n",
       "\twith 599956 stored elements in Compressed Sparse Row format>"
      ]
     },
     "execution_count": 44,
     "metadata": {},
     "output_type": "execute_result"
    }
   ],
   "source": []
  },
  {
   "cell_type": "code",
   "execution_count": 50,
   "metadata": {},
   "outputs": [
    {
     "name": "stderr",
     "output_type": "stream",
     "text": [
      "/home/ec2-user/anaconda3/envs/python3/lib/python3.6/site-packages/sklearn/linear_model/stochastic_gradient.py:166: FutureWarning: max_iter and tol parameters have been added in SGDClassifier in 0.19. If both are left unset, they default to max_iter=5 and tol=None. If tol is not None, max_iter defaults to max_iter=1000. From 0.21, default max_iter will be 1000, and default tol will be 1e-3.\n",
      "  FutureWarning)\n",
      "/home/ec2-user/anaconda3/envs/python3/lib/python3.6/site-packages/sklearn/utils/validation.py:761: DataConversionWarning: A column-vector y was passed when a 1d array was expected. Please change the shape of y to (n_samples, ), for example using ravel().\n",
      "  y = column_or_1d(y, warn=True)\n"
     ]
    },
    {
     "data": {
      "text/plain": [
       "0.9462882096069869"
      ]
     },
     "execution_count": 50,
     "metadata": {},
     "output_type": "execute_result"
    }
   ],
   "source": [
    "sgd = SGDClassifier()\n",
    "\n",
    "sgd.fit(X_train, y_train)\n",
    "\n",
    "sgd.score(X_test, y_test)"
   ]
  },
  {
   "cell_type": "code",
   "execution_count": 51,
   "metadata": {},
   "outputs": [
    {
     "name": "stderr",
     "output_type": "stream",
     "text": [
      "/home/ec2-user/anaconda3/envs/python3/lib/python3.6/site-packages/sklearn/ensemble/forest.py:246: FutureWarning: The default value of n_estimators will change from 10 in version 0.20 to 100 in 0.22.\n",
      "  \"10 in version 0.20 to 100 in 0.22.\", FutureWarning)\n",
      "/home/ec2-user/anaconda3/envs/python3/lib/python3.6/site-packages/ipykernel/__main__.py:3: DataConversionWarning: A column-vector y was passed when a 1d array was expected. Please change the shape of y to (n_samples,), for example using ravel().\n",
      "  app.launch_new_instance()\n"
     ]
    },
    {
     "data": {
      "text/plain": [
       "0.9253275109170306"
      ]
     },
     "execution_count": 51,
     "metadata": {},
     "output_type": "execute_result"
    }
   ],
   "source": [
    "rf = RandomForestClassifier()\n",
    "\n",
    "rf.fit(X_train, y_train)\n",
    "\n",
    "rf.score(X_test, y_test)"
   ]
  },
  {
   "cell_type": "code",
   "execution_count": 155,
   "metadata": {},
   "outputs": [],
   "source": [
    "# tfidf = TfidfVectorizer(tokenizer=tokenize, analyzer='word', strip_accents='unicode', min_df=0.025, max_df=.95, ngram_range=(1,2))\n",
    "\n",
    "# sparse = tfidf.fit_transform(emails['body'])"
   ]
  },
  {
   "cell_type": "code",
   "execution_count": 156,
   "metadata": {
    "collapsed": true,
    "jupyter": {
     "outputs_hidden": true
    }
   },
   "outputs": [
    {
     "data": {
      "text/html": [
       "<div>\n",
       "<style scoped>\n",
       "    .dataframe tbody tr th:only-of-type {\n",
       "        vertical-align: middle;\n",
       "    }\n",
       "\n",
       "    .dataframe tbody tr th {\n",
       "        vertical-align: top;\n",
       "    }\n",
       "\n",
       "    .dataframe thead th {\n",
       "        text-align: right;\n",
       "    }\n",
       "</style>\n",
       "<table border=\"1\" class=\"dataframe\">\n",
       "  <thead>\n",
       "    <tr style=\"text-align: right;\">\n",
       "      <th></th>\n",
       "      <th>aaa</th>\n",
       "      <th>aaaa</th>\n",
       "      <th>aaad</th>\n",
       "      <th>aab</th>\n",
       "      <th>aad</th>\n",
       "      <th>aaecaxeebsex</th>\n",
       "      <th>aaecaxeebsex rcygromjygpkju</th>\n",
       "      <th>aaf</th>\n",
       "      <th>aaf fhbyjxfdkbkaeii</th>\n",
       "      <th>aap</th>\n",
       "      <th>...</th>\n",
       "      <th>zzs</th>\n",
       "      <th>zzs xojig</th>\n",
       "      <th>zzs xojignca</th>\n",
       "      <th>zzxjp</th>\n",
       "      <th>zzxjpzii</th>\n",
       "      <th>zzxjpzjsncgljb</th>\n",
       "      <th>zzxjpzjsncgljb xvcjojmuy</th>\n",
       "      <th>zzxjpzjt</th>\n",
       "      <th>zzxjpzjtjb</th>\n",
       "      <th>zzxjpzjtjb xvcjojmuy</th>\n",
       "    </tr>\n",
       "  </thead>\n",
       "  <tbody>\n",
       "    <tr>\n",
       "      <th>0</th>\n",
       "      <td>0.0</td>\n",
       "      <td>0.0</td>\n",
       "      <td>0.0</td>\n",
       "      <td>0.000000</td>\n",
       "      <td>0.0</td>\n",
       "      <td>0.0</td>\n",
       "      <td>0.0</td>\n",
       "      <td>0.0</td>\n",
       "      <td>0.0</td>\n",
       "      <td>0.0</td>\n",
       "      <td>...</td>\n",
       "      <td>0.0</td>\n",
       "      <td>0.0</td>\n",
       "      <td>0.0</td>\n",
       "      <td>0.0</td>\n",
       "      <td>0.0</td>\n",
       "      <td>0.0</td>\n",
       "      <td>0.0</td>\n",
       "      <td>0.0</td>\n",
       "      <td>0.0</td>\n",
       "      <td>0.0</td>\n",
       "    </tr>\n",
       "    <tr>\n",
       "      <th>1</th>\n",
       "      <td>0.0</td>\n",
       "      <td>0.0</td>\n",
       "      <td>0.0</td>\n",
       "      <td>0.000000</td>\n",
       "      <td>0.0</td>\n",
       "      <td>0.0</td>\n",
       "      <td>0.0</td>\n",
       "      <td>0.0</td>\n",
       "      <td>0.0</td>\n",
       "      <td>0.0</td>\n",
       "      <td>...</td>\n",
       "      <td>0.0</td>\n",
       "      <td>0.0</td>\n",
       "      <td>0.0</td>\n",
       "      <td>0.0</td>\n",
       "      <td>0.0</td>\n",
       "      <td>0.0</td>\n",
       "      <td>0.0</td>\n",
       "      <td>0.0</td>\n",
       "      <td>0.0</td>\n",
       "      <td>0.0</td>\n",
       "    </tr>\n",
       "    <tr>\n",
       "      <th>2</th>\n",
       "      <td>0.0</td>\n",
       "      <td>0.0</td>\n",
       "      <td>0.0</td>\n",
       "      <td>0.000000</td>\n",
       "      <td>0.0</td>\n",
       "      <td>0.0</td>\n",
       "      <td>0.0</td>\n",
       "      <td>0.0</td>\n",
       "      <td>0.0</td>\n",
       "      <td>0.0</td>\n",
       "      <td>...</td>\n",
       "      <td>0.0</td>\n",
       "      <td>0.0</td>\n",
       "      <td>0.0</td>\n",
       "      <td>0.0</td>\n",
       "      <td>0.0</td>\n",
       "      <td>0.0</td>\n",
       "      <td>0.0</td>\n",
       "      <td>0.0</td>\n",
       "      <td>0.0</td>\n",
       "      <td>0.0</td>\n",
       "    </tr>\n",
       "    <tr>\n",
       "      <th>3</th>\n",
       "      <td>0.0</td>\n",
       "      <td>0.0</td>\n",
       "      <td>0.0</td>\n",
       "      <td>0.000000</td>\n",
       "      <td>0.0</td>\n",
       "      <td>0.0</td>\n",
       "      <td>0.0</td>\n",
       "      <td>0.0</td>\n",
       "      <td>0.0</td>\n",
       "      <td>0.0</td>\n",
       "      <td>...</td>\n",
       "      <td>0.0</td>\n",
       "      <td>0.0</td>\n",
       "      <td>0.0</td>\n",
       "      <td>0.0</td>\n",
       "      <td>0.0</td>\n",
       "      <td>0.0</td>\n",
       "      <td>0.0</td>\n",
       "      <td>0.0</td>\n",
       "      <td>0.0</td>\n",
       "      <td>0.0</td>\n",
       "    </tr>\n",
       "    <tr>\n",
       "      <th>4</th>\n",
       "      <td>0.0</td>\n",
       "      <td>0.0</td>\n",
       "      <td>0.0</td>\n",
       "      <td>0.016173</td>\n",
       "      <td>0.0</td>\n",
       "      <td>0.0</td>\n",
       "      <td>0.0</td>\n",
       "      <td>0.0</td>\n",
       "      <td>0.0</td>\n",
       "      <td>0.0</td>\n",
       "      <td>...</td>\n",
       "      <td>0.0</td>\n",
       "      <td>0.0</td>\n",
       "      <td>0.0</td>\n",
       "      <td>0.0</td>\n",
       "      <td>0.0</td>\n",
       "      <td>0.0</td>\n",
       "      <td>0.0</td>\n",
       "      <td>0.0</td>\n",
       "      <td>0.0</td>\n",
       "      <td>0.0</td>\n",
       "    </tr>\n",
       "  </tbody>\n",
       "</table>\n",
       "<p>5 rows × 3789 columns</p>\n",
       "</div>"
      ],
      "text/plain": [
       "   aaa  aaaa  aaad       aab  aad  aaecaxeebsex  aaecaxeebsex rcygromjygpkju  \\\n",
       "0  0.0   0.0   0.0  0.000000  0.0           0.0                          0.0   \n",
       "1  0.0   0.0   0.0  0.000000  0.0           0.0                          0.0   \n",
       "2  0.0   0.0   0.0  0.000000  0.0           0.0                          0.0   \n",
       "3  0.0   0.0   0.0  0.000000  0.0           0.0                          0.0   \n",
       "4  0.0   0.0   0.0  0.016173  0.0           0.0                          0.0   \n",
       "\n",
       "   aaf  aaf fhbyjxfdkbkaeii  aap          ...           zzs  zzs xojig  \\\n",
       "0  0.0                  0.0  0.0          ...           0.0        0.0   \n",
       "1  0.0                  0.0  0.0          ...           0.0        0.0   \n",
       "2  0.0                  0.0  0.0          ...           0.0        0.0   \n",
       "3  0.0                  0.0  0.0          ...           0.0        0.0   \n",
       "4  0.0                  0.0  0.0          ...           0.0        0.0   \n",
       "\n",
       "   zzs xojignca  zzxjp  zzxjpzii  zzxjpzjsncgljb  zzxjpzjsncgljb xvcjojmuy  \\\n",
       "0           0.0    0.0       0.0             0.0                       0.0   \n",
       "1           0.0    0.0       0.0             0.0                       0.0   \n",
       "2           0.0    0.0       0.0             0.0                       0.0   \n",
       "3           0.0    0.0       0.0             0.0                       0.0   \n",
       "4           0.0    0.0       0.0             0.0                       0.0   \n",
       "\n",
       "   zzxjpzjt  zzxjpzjtjb  zzxjpzjtjb xvcjojmuy  \n",
       "0       0.0         0.0                   0.0  \n",
       "1       0.0         0.0                   0.0  \n",
       "2       0.0         0.0                   0.0  \n",
       "3       0.0         0.0                   0.0  \n",
       "4       0.0         0.0                   0.0  \n",
       "\n",
       "[5 rows x 3789 columns]"
      ]
     },
     "execution_count": 156,
     "metadata": {},
     "output_type": "execute_result"
    }
   ],
   "source": [
    "# dtm = pd.DataFrame(sparse.todense(), columns=tfidf.get_feature_names())\n",
    "\n",
    "# dtm.head()"
   ]
  },
  {
   "cell_type": "code",
   "execution_count": 66,
   "metadata": {},
   "outputs": [],
   "source": [
    "ALS_test = df.loc[10020]"
   ]
  },
  {
   "cell_type": "code",
   "execution_count": 68,
   "metadata": {},
   "outputs": [
    {
     "data": {
      "text/plain": [
       "'\"The ALS Association Florida Chapter\" <jniehoff@alsafl.org> Kids Camp Hope Loves Company is coming to Florida in April! =54he ALS Association Florida Chapter=0A___________________________________=\\r\\n=5F_____________________________=0A=0A=C2=A0Hope Loves Company\\'s Camp HLC i=\\r\\n=73=0A=0AComing to Florida Again this Year!=C2=A0=0A=0A=C2=A0=0A=0AThe Flor=\\r\\n=69da Chapter is excited to sponsor Hope Loves Company, Inc. to=0Ahelp brin=\\r\\n=67 Camp HLC to Florida again this fall!=C2=A0 Hope Loves=0ACompany is a no=\\r\\n=6E profit organization with the mission of providing=0Aboth educational an=\\r\\n=64 emotional support to children and young adults,=0Aages 6 - 21, who have=\\r\\n=20or had a loved one battling ALS.=C2=A0 It is an=0Aopportunity to have fu=\\r\\n=6E, to be challenged through team building=0Aexercises, and to meet other =\\r\\n=63hildren who are in the same=0Asituation.=C2=A0 =C2=A0=0A=0A=C2=A0=0AThe =\\r\\n=63amp is free to attendees thanks to supporters like The ALS=0AAssociation=\\r\\n=2E=0A=C2=A0=0A=0ACircle F Dude Ranch Camp=0A=0ASeptember 16 - 18, 2018=0A=\\r\\n=0A5301 Dude Ranch Road=0A=0ALake Wales, FL 33853=0A=0ARegister Today Butto=\\r\\n=6E=0A=0Ahttp://webfl.alsa.org/site/R?i=3DE6X3FocpFD4-1uGAlqAwoQ=0A=0A=C2=\\r\\n=A0=0AQuestions?=C2=A0 For more information, contact=0A=0AHope Loves Compan=\\r\\n=79 609.730.1144=0A=0Aor email jodi.odonnell-ames@hopelovescompany.org.=0AU=\\r\\n=73@HopeLovesCompany.org=0A=0A=0A=0A_______________________________________=\\r\\n=5F_________________________=0A=0AThe ALS Association Florida Chapter=0A(88=\\r\\n=38) 257-1717  =C2=B0  3242 Parkside Center Circle  =C2=B0=0A Tampa, FL 336=\\r\\n=319-0907 =C2=B0  Fax (813) 637-9010=0A=0A=0A=0AClick here to forward to a =\\r\\n=46riend:=0Ahttp://webfl.alsa.org/site/R?i=3DgpwDEbe63ObM03J6QHttjg=0A=0A=\\r\\n=0AView Online:=0Ahttp://webfl.alsa.org/site/R?i=3DmehWvut38PUcS9c5p1T2sw=\\r\\n=0A=0AUnsubscribe:=0Ahttp://web.alsa.org/site/CO?i=3Dl2WgBtZ2rq4um1pGCuK99n=\\r\\n=55483Z08BU3&cid=3D0=0A=0APrivacy Policy:=0Ahttp://webfl.alsa.org/site/R?i=\\r\\n=3DYF4sUknezUOQrSvQO484zw=0A=0AResearch:=0Ahttp://webfl.alsa.org/site/R?i=\\r\\n=3D9zB2uKQCz1ANFgDyC4Rw7Q=0A=0APublic Policy:=0Ahttp://webfl.alsa.org/site/=\\r\\n=52?i=3D3iYBhUtMMvyVFIVOxd9sqA=0A=0AGet Involved:=0Ahttp://webfl.alsa.org/s=\\r\\n=69te/R?i=3Dcel0uFj2uUKlWtYPNLSYnw=0A=0ACare Services:=0Ahttp://webfl.alsa.=\\r\\n=6Frg/site/R?i=3DvIANJi4dBXfdhgkSKvf0Ng=0A=0ADonate:=0Ahttp://webfl.alsa.or=\\r\\n=67/site/R?i=3Dd_6Hw6B5HzpZWos5Tue6PQ=0A=C2=A0'"
      ]
     },
     "execution_count": 68,
     "metadata": {},
     "output_type": "execute_result"
    }
   ],
   "source": [
    "ALS_test['Text']"
   ]
  },
  {
   "cell_type": "code",
   "execution_count": null,
   "metadata": {},
   "outputs": [],
   "source": []
  }
 ],
 "metadata": {
  "kernelspec": {
   "display_name": "conda_python3",
   "language": "python",
   "name": "conda_python3"
  },
  "language_info": {
   "codemirror_mode": {
    "name": "ipython",
    "version": 3
   },
   "file_extension": ".py",
   "mimetype": "text/x-python",
   "name": "python",
   "nbconvert_exporter": "python",
   "pygments_lexer": "ipython3",
   "version": "3.6.5"
  }
 },
 "nbformat": 4,
 "nbformat_minor": 4
}
