{
  "nbformat": 4,
  "nbformat_minor": 0,
  "metadata": {
    "colab": {
      "name": "Consolidated_Model.ipynb",
      "provenance": []
    },
    "kernelspec": {
      "name": "python3",
      "display_name": "Python 3"
    }
  },
  "cells": [
    {
      "cell_type": "code",
      "metadata": {
        "id": "PeGXoiN2zgsr",
        "colab_type": "code",
        "outputId": "1a038254-f8df-41ce-9387-219c96b20b56",
        "colab": {
          "base_uri": "https://localhost:8080/",
          "height": 119
        }
      },
      "source": [
        "!pip install vaderSentiment"
      ],
      "execution_count": 431,
      "outputs": [
        {
          "output_type": "stream",
          "text": [
            "Requirement already satisfied: vaderSentiment in /usr/local/lib/python3.6/dist-packages (3.3.2)\n",
            "Requirement already satisfied: requests in /usr/local/lib/python3.6/dist-packages (from vaderSentiment) (2.23.0)\n",
            "Requirement already satisfied: idna<3,>=2.5 in /usr/local/lib/python3.6/dist-packages (from requests->vaderSentiment) (2.9)\n",
            "Requirement already satisfied: urllib3!=1.25.0,!=1.25.1,<1.26,>=1.21.1 in /usr/local/lib/python3.6/dist-packages (from requests->vaderSentiment) (1.24.3)\n",
            "Requirement already satisfied: certifi>=2017.4.17 in /usr/local/lib/python3.6/dist-packages (from requests->vaderSentiment) (2020.4.5.1)\n",
            "Requirement already satisfied: chardet<4,>=3.0.2 in /usr/local/lib/python3.6/dist-packages (from requests->vaderSentiment) (3.0.4)\n"
          ],
          "name": "stdout"
        }
      ]
    },
    {
      "cell_type": "code",
      "metadata": {
        "id": "FXJX06qp7IyJ",
        "colab_type": "code",
        "outputId": "463adf53-e3a5-416a-d0de-e5c40768f9be",
        "colab": {
          "base_uri": "https://localhost:8080/",
          "height": 428
        }
      },
      "source": [
        "!python -m spacy download en_core_web_lg"
      ],
      "execution_count": 432,
      "outputs": [
        {
          "output_type": "stream",
          "text": [
            "Requirement already satisfied: en_core_web_lg==2.2.5 from https://github.com/explosion/spacy-models/releases/download/en_core_web_lg-2.2.5/en_core_web_lg-2.2.5.tar.gz#egg=en_core_web_lg==2.2.5 in /usr/local/lib/python3.6/dist-packages (2.2.5)\n",
            "Requirement already satisfied: spacy>=2.2.2 in /usr/local/lib/python3.6/dist-packages (from en_core_web_lg==2.2.5) (2.2.4)\n",
            "Requirement already satisfied: murmurhash<1.1.0,>=0.28.0 in /usr/local/lib/python3.6/dist-packages (from spacy>=2.2.2->en_core_web_lg==2.2.5) (1.0.2)\n",
            "Requirement already satisfied: blis<0.5.0,>=0.4.0 in /usr/local/lib/python3.6/dist-packages (from spacy>=2.2.2->en_core_web_lg==2.2.5) (0.4.1)\n",
            "Requirement already satisfied: numpy>=1.15.0 in /usr/local/lib/python3.6/dist-packages (from spacy>=2.2.2->en_core_web_lg==2.2.5) (1.18.5)\n",
            "Requirement already satisfied: preshed<3.1.0,>=3.0.2 in /usr/local/lib/python3.6/dist-packages (from spacy>=2.2.2->en_core_web_lg==2.2.5) (3.0.2)\n",
            "Requirement already satisfied: setuptools in /usr/local/lib/python3.6/dist-packages (from spacy>=2.2.2->en_core_web_lg==2.2.5) (47.1.1)\n",
            "Requirement already satisfied: wasabi<1.1.0,>=0.4.0 in /usr/local/lib/python3.6/dist-packages (from spacy>=2.2.2->en_core_web_lg==2.2.5) (0.6.0)\n",
            "Requirement already satisfied: cymem<2.1.0,>=2.0.2 in /usr/local/lib/python3.6/dist-packages (from spacy>=2.2.2->en_core_web_lg==2.2.5) (2.0.3)\n",
            "Requirement already satisfied: catalogue<1.1.0,>=0.0.7 in /usr/local/lib/python3.6/dist-packages (from spacy>=2.2.2->en_core_web_lg==2.2.5) (1.0.0)\n",
            "Requirement already satisfied: tqdm<5.0.0,>=4.38.0 in /usr/local/lib/python3.6/dist-packages (from spacy>=2.2.2->en_core_web_lg==2.2.5) (4.41.1)\n",
            "Requirement already satisfied: srsly<1.1.0,>=1.0.2 in /usr/local/lib/python3.6/dist-packages (from spacy>=2.2.2->en_core_web_lg==2.2.5) (1.0.2)\n",
            "Requirement already satisfied: requests<3.0.0,>=2.13.0 in /usr/local/lib/python3.6/dist-packages (from spacy>=2.2.2->en_core_web_lg==2.2.5) (2.23.0)\n",
            "Requirement already satisfied: thinc==7.4.0 in /usr/local/lib/python3.6/dist-packages (from spacy>=2.2.2->en_core_web_lg==2.2.5) (7.4.0)\n",
            "Requirement already satisfied: plac<1.2.0,>=0.9.6 in /usr/local/lib/python3.6/dist-packages (from spacy>=2.2.2->en_core_web_lg==2.2.5) (1.1.3)\n",
            "Requirement already satisfied: importlib-metadata>=0.20; python_version < \"3.8\" in /usr/local/lib/python3.6/dist-packages (from catalogue<1.1.0,>=0.0.7->spacy>=2.2.2->en_core_web_lg==2.2.5) (1.6.0)\n",
            "Requirement already satisfied: idna<3,>=2.5 in /usr/local/lib/python3.6/dist-packages (from requests<3.0.0,>=2.13.0->spacy>=2.2.2->en_core_web_lg==2.2.5) (2.9)\n",
            "Requirement already satisfied: certifi>=2017.4.17 in /usr/local/lib/python3.6/dist-packages (from requests<3.0.0,>=2.13.0->spacy>=2.2.2->en_core_web_lg==2.2.5) (2020.4.5.1)\n",
            "Requirement already satisfied: urllib3!=1.25.0,!=1.25.1,<1.26,>=1.21.1 in /usr/local/lib/python3.6/dist-packages (from requests<3.0.0,>=2.13.0->spacy>=2.2.2->en_core_web_lg==2.2.5) (1.24.3)\n",
            "Requirement already satisfied: chardet<4,>=3.0.2 in /usr/local/lib/python3.6/dist-packages (from requests<3.0.0,>=2.13.0->spacy>=2.2.2->en_core_web_lg==2.2.5) (3.0.4)\n",
            "Requirement already satisfied: zipp>=0.5 in /usr/local/lib/python3.6/dist-packages (from importlib-metadata>=0.20; python_version < \"3.8\"->catalogue<1.1.0,>=0.0.7->spacy>=2.2.2->en_core_web_lg==2.2.5) (3.1.0)\n",
            "\u001b[38;5;2m✔ Download and installation successful\u001b[0m\n",
            "You can now load the model via spacy.load('en_core_web_lg')\n"
          ],
          "name": "stdout"
        }
      ]
    },
    {
      "cell_type": "code",
      "metadata": {
        "id": "Up_4TexVtQzH",
        "colab_type": "code",
        "outputId": "a5fd3fec-4f96-4dff-95f4-8eba4a30bfd1",
        "colab": {
          "base_uri": "https://localhost:8080/",
          "height": 85
        }
      },
      "source": [
        "#import Library\n",
        "import pandas as pd\n",
        "import string\n",
        "import numpy as np\n",
        "import nltk\n",
        "from nltk.corpus import stopwords\n",
        "from sklearn.feature_extraction.text import CountVectorizer\n",
        "nltk.download('stopwords')\n",
        "nltk.download('punkt')\n",
        "from gensim.corpora import Dictionary\n",
        "from gensim.models.ldamulticore import LdaMulticore\n",
        "import spacy\n",
        "from spacy.lang.en.stop_words import STOP_WORDS"
      ],
      "execution_count": 433,
      "outputs": [
        {
          "output_type": "stream",
          "text": [
            "[nltk_data] Downloading package stopwords to /root/nltk_data...\n",
            "[nltk_data]   Package stopwords is already up-to-date!\n",
            "[nltk_data] Downloading package punkt to /root/nltk_data...\n",
            "[nltk_data]   Package punkt is already up-to-date!\n"
          ],
          "name": "stdout"
        }
      ]
    },
    {
      "cell_type": "code",
      "metadata": {
        "id": "C2Yk-X8F-q06",
        "colab_type": "code",
        "colab": {}
      },
      "source": [
        "from collections import Counter"
      ],
      "execution_count": 0,
      "outputs": []
    },
    {
      "cell_type": "code",
      "metadata": {
        "id": "uUWZJgc84oX9",
        "colab_type": "code",
        "colab": {}
      },
      "source": [
        "nlp = spacy.load('en_core_web_lg')\n"
      ],
      "execution_count": 0,
      "outputs": []
    },
    {
      "cell_type": "code",
      "metadata": {
        "id": "XL6vFES8tbuY",
        "colab_type": "code",
        "outputId": "db9f222f-b2e9-42a2-a54e-23d5ab9b524b",
        "colab": {
          "base_uri": "https://localhost:8080/",
          "height": 34
        }
      },
      "source": [
        "import requests\n",
        "url = 'https://raw.githubusercontent.com/Moly-malibu/Tag-Smart-Emails/master/Enronemails.csv?token=AN2RW2GGHXCN4RRW3NT6C2S65KRHS'\n",
        "myfile = requests.get(url)\n",
        "open('email.csv', 'wb').write(myfile.content)"
      ],
      "execution_count": 436,
      "outputs": [
        {
          "output_type": "execute_result",
          "data": {
            "text/plain": [
              "24004915"
            ]
          },
          "metadata": {
            "tags": []
          },
          "execution_count": 436
        }
      ]
    },
    {
      "cell_type": "code",
      "metadata": {
        "id": "wNipZJ4Otn9n",
        "colab_type": "code",
        "colab": {}
      },
      "source": [
        "df = pd.read_csv(\"email.csv\").drop(['Unnamed: 0'], axis=1)"
      ],
      "execution_count": 0,
      "outputs": []
    },
    {
      "cell_type": "code",
      "metadata": {
        "id": "mnlPiDYqtr-w",
        "colab_type": "code",
        "outputId": "aa951908-f565-46f6-c263-0ad20c0f16cb",
        "colab": {
          "base_uri": "https://localhost:8080/",
          "height": 323
        }
      },
      "source": [
        "[s.strip() for s in df['message'][100].splitlines()]"
      ],
      "execution_count": 438,
      "outputs": [
        {
          "output_type": "execute_result",
          "data": {
            "text/plain": [
              "['Message-ID: <15940494.1075855689309.JavaMail.evans@thyme>',\n",
              " 'Date: Wed, 16 Aug 2000 05:35:00 -0700 (PDT)',\n",
              " 'From: phillip.allen@enron.com',\n",
              " 'To: cooper.richey@enron.com',\n",
              " 'Subject: Re:',\n",
              " 'Mime-Version: 1.0',\n",
              " 'Content-Type: text/plain; charset=us-ascii',\n",
              " 'Content-Transfer-Encoding: 7bit',\n",
              " 'X-From: Phillip K Allen',\n",
              " 'X-To: Cooper Richey',\n",
              " 'X-cc:',\n",
              " 'X-bcc:',\n",
              " \"X-Folder: \\\\Phillip_Allen_Dec2000\\\\Notes Folders\\\\'sent mail\",\n",
              " 'X-Origin: Allen-P',\n",
              " 'X-FileName: pallen.nsf',\n",
              " '',\n",
              " \"I tried the new address but I don't have access.  also, what do I need to\",\n",
              " 'enter under domain?']"
            ]
          },
          "metadata": {
            "tags": []
          },
          "execution_count": 438
        }
      ]
    },
    {
      "cell_type": "code",
      "metadata": {
        "id": "8sgVV1VYtwyN",
        "colab_type": "code",
        "colab": {}
      },
      "source": [
        "emails = ' '.join([s.strip() for s in df['message'][0].splitlines()][15:])"
      ],
      "execution_count": 0,
      "outputs": []
    },
    {
      "cell_type": "code",
      "metadata": {
        "id": "TH6b3a68uV5S",
        "colab_type": "code",
        "colab": {}
      },
      "source": [
        "dates = ' '.join([s.strip() for s in df['message'][1].splitlines()][1:2])"
      ],
      "execution_count": 0,
      "outputs": []
    },
    {
      "cell_type": "code",
      "metadata": {
        "id": "EZ4StMUhubgD",
        "colab_type": "code",
        "colab": {}
      },
      "source": [
        "from_who = ' '.join([s.strip('') for s in df['message'][1].splitlines()][2:3])"
      ],
      "execution_count": 0,
      "outputs": []
    },
    {
      "cell_type": "code",
      "metadata": {
        "id": "CQyZzx7muf7Y",
        "colab_type": "code",
        "colab": {}
      },
      "source": [
        "to_who = ' '.join([s.strip('') for s in df['message'][1].splitlines()][3:4])"
      ],
      "execution_count": 0,
      "outputs": []
    },
    {
      "cell_type": "code",
      "metadata": {
        "id": "KeWKfL9uulGR",
        "colab_type": "code",
        "colab": {}
      },
      "source": [
        "subject = ' '.join([s.strip('') for s in df['message'][1].splitlines()][4:5])"
      ],
      "execution_count": 0,
      "outputs": []
    },
    {
      "cell_type": "code",
      "metadata": {
        "id": "GidaHmGUvHdq",
        "colab_type": "code",
        "colab": {}
      },
      "source": [
        "content_type = ' '.join([s.strip('') for s in df['message'][1].splitlines()][6:7])"
      ],
      "execution_count": 0,
      "outputs": []
    },
    {
      "cell_type": "code",
      "metadata": {
        "id": "rNIag_biutK2",
        "colab_type": "code",
        "colab": {}
      },
      "source": [
        "#CLEAN DATASET\n",
        "import re\n",
        "import html\n",
        "def cleanup_html(raw_html):\n",
        "    clean_html = re.sub(r'<.*?>', '', raw_html)\n",
        "    clean_html_http = re.sub(r'http\\S+([\\.]{3})?', '', clean_html)\n",
        "    clean_txt = html.unescape(clean_html)\n",
        "    return clean_txt\n",
        "df['email_body'] = df['message'].apply(cleanup_html)"
      ],
      "execution_count": 0,
      "outputs": []
    },
    {
      "cell_type": "code",
      "metadata": {
        "id": "TxN25eq0uxkQ",
        "colab_type": "code",
        "outputId": "475310fc-ab39-421a-f74a-d2a0a1b1f778",
        "colab": {
          "base_uri": "https://localhost:8080/",
          "height": 139
        }
      },
      "source": [
        "def clean_email(email):\n",
        "    return ' '.join([s.strip() for s in email.splitlines()][15:])\n",
        "def clean_content_type(email):\n",
        "    return ' '.join([s.strip() for s in email.splitlines()][6:7])\n",
        "def clean_subject(email):\n",
        "    return ' '.join([s.strip() for s in email.splitlines()][4:5])\n",
        "def clean_to_who(email):\n",
        "    return ' '.join([s.strip() for s in email.splitlines()][4:4])\n",
        "def clean_from_who(email):\n",
        "    return ' '.join([s.strip() for s in email.splitlines()][2:3])\n",
        "def clean_dates(email):\n",
        "    return ' '.join([s.strip() for s in email.splitlines()][1:2])\n",
        "\n",
        "df['email_body'] = df['message'].apply(clean_email)\n",
        "df['subject'] = df['message'].apply(clean_subject)\n",
        "df['content_type'] = df['message'].apply(clean_content_type)\n",
        "df['to_who'] = df['message'].apply(clean_to_who)\n",
        "df['from_who'] = df['message'].apply(clean_from_who)\n",
        "df['dates'] = df['message'].apply(clean_dates)\n",
        "df[\"email_body\"].value_counts(sort=True).head()"
      ],
      "execution_count": 446,
      "outputs": [
        {
          "output_type": "execute_result",
          "data": {
            "text/plain": [
              " most bullish thing at this point is moving closer to everyone's psychological $4 price target and that everybody and their dog is still short.  next sellers need to be from producer community.  saw a little this week with williams hedging the barrett transaction but wouldnt say thats indicative of the rest of the e&p community.  short covering rallies will get more common here.  velocity of move down has slowed significantly for good (except maybe in bid week).  my concern is if we go to $4 and people want to cover some shorts, who's selling it to them?  might feel a lot like it did when we were trying to break $5.    9\n",
              " Jim,  Is there going to be a conference call or some type of weekly meeting about all the regulatory issues facing California this week?  Can you make sure the gas desk is included.  Phillip                                                                                                                                                                                                                                                                                                                                                                                                                                                    6\n",
              " Let me know when you get the quotes from Pauline.  I am expecting to pay something in the $3,000 to $5,000 range.  I would like to see the quotes and a description of the work to be done.  It is my understanding that some rock will be removed and replaced with siding.  If they are getting quotes to put up new rock then we will need to clarify.  Jacques is ready to drop in a dollar amount on the release.  If the negotiations stall, it seems like I need to go ahead and cut off the utilities.  Hopefully things will go smoothly.  Phillip                                                                                       6\n",
              " Tim,  mike grigsby is having problems with accessing the west power site.  Can you please make sure he has an active password.  Thank you,  Phillip                                                                                                                                                                                                                                                                                                                                                                                                                                                                                               6\n",
              " Harry:  Let me know what you think.  Thanks.  SR:-)                                                                                                                                                                                                                                                                                                                                                                                                                                                                                                                                                                                               6\n",
              "Name: email_body, dtype: int64"
            ]
          },
          "metadata": {
            "tags": []
          },
          "execution_count": 446
        }
      ]
    },
    {
      "cell_type": "code",
      "metadata": {
        "id": "vaY4YlnboY-S",
        "colab_type": "code",
        "outputId": "11c8f252-5d85-4545-a9b9-b7d12c80cff2",
        "colab": {
          "base_uri": "https://localhost:8080/",
          "height": 34
        }
      },
      "source": [
        "df.shape"
      ],
      "execution_count": 447,
      "outputs": [
        {
          "output_type": "execute_result",
          "data": {
            "text/plain": [
              "(10000, 8)"
            ]
          },
          "metadata": {
            "tags": []
          },
          "execution_count": 447
        }
      ]
    },
    {
      "cell_type": "code",
      "metadata": {
        "id": "9na3ntQbw-YS",
        "colab_type": "code",
        "colab": {}
      },
      "source": [
        "#CLEAN DATA\n",
        "\n",
        "#Str the data\n",
        "df['email_body'] = df['email_body'].astype(str)\n",
        "\n",
        "#remove whitespace\n",
        "df['email_body'] = df['email_body'].str.strip().str.lower()\n",
        "\n",
        "#Start with date\n",
        "df['email_body'].str.match('\\d?\\d/\\d?\\d/\\d{4}').all()\n",
        "\n",
        "#\\s indicates a white space. So [^\\s] is any non-white space and includes letters, numbers, special characters\n",
        "df['email_body'] = df['email_body'].str.replace('[^a-zA-Z\\s]', '').str.replace('\\s+', ' ')"
      ],
      "execution_count": 0,
      "outputs": []
    },
    {
      "cell_type": "code",
      "metadata": {
        "id": "2e8bolnuodTS",
        "colab_type": "code",
        "outputId": "24f523ac-616c-46d8-9a75-16ae8a020f9f",
        "colab": {
          "base_uri": "https://localhost:8080/",
          "height": 34
        }
      },
      "source": [
        "df.shape"
      ],
      "execution_count": 449,
      "outputs": [
        {
          "output_type": "execute_result",
          "data": {
            "text/plain": [
              "(10000, 8)"
            ]
          },
          "metadata": {
            "tags": []
          },
          "execution_count": 449
        }
      ]
    },
    {
      "cell_type": "code",
      "metadata": {
        "id": "Xt8dkOzfzdvm",
        "colab_type": "code",
        "colab": {}
      },
      "source": [
        "#Vander model\n",
        "from vaderSentiment.vaderSentiment import SentimentIntensityAnalyzer\n",
        "analyzer = SentimentIntensityAnalyzer() \n",
        "\n",
        "def vaderizeSentiment(sentence):\n",
        "    return analyzer.polarity_scores(sentence)"
      ],
      "execution_count": 0,
      "outputs": []
    },
    {
      "cell_type": "code",
      "metadata": {
        "id": "vGoNguvsztHV",
        "colab_type": "code",
        "colab": {}
      },
      "source": [
        "#create columns score with numbers\n",
        "df['Scores'] = df['email_body'].apply(vaderizeSentiment)"
      ],
      "execution_count": 0,
      "outputs": []
    },
    {
      "cell_type": "code",
      "metadata": {
        "id": "TyA_DH80ohS_",
        "colab_type": "code",
        "outputId": "9d151d89-df02-456a-ba45-e4c707e9b514",
        "colab": {
          "base_uri": "https://localhost:8080/",
          "height": 34
        }
      },
      "source": [
        "df.shape"
      ],
      "execution_count": 452,
      "outputs": [
        {
          "output_type": "execute_result",
          "data": {
            "text/plain": [
              "(10000, 9)"
            ]
          },
          "metadata": {
            "tags": []
          },
          "execution_count": 452
        }
      ]
    },
    {
      "cell_type": "code",
      "metadata": {
        "id": "tbIqLkzOz0v3",
        "colab_type": "code",
        "colab": {}
      },
      "source": [
        "df[['negative', 'neutral', 'positive', 'compound']] = df.Scores.apply(pd.Series)"
      ],
      "execution_count": 0,
      "outputs": []
    },
    {
      "cell_type": "code",
      "metadata": {
        "id": "iR454mEg0oX1",
        "colab_type": "code",
        "colab": {}
      },
      "source": [
        "#Model to see final prediction\n",
        "Model = SentimentIntensityAnalyzer()\n",
        "def score(sentence, Model):\n",
        "    return Model.polarity_scores(sentence)['compound']\n",
        "\n",
        "# Sentiment score\n",
        "df['final_score'] = df['email_body'].apply(lambda x: score(x, Model))\n",
        "\n",
        "#Discretize variable.\n",
        "df['final_pred'] = pd.cut(df['final_score'], bins=5, labels=[1, 2, 3, 4, 5])\n",
        "#df = df.drop('final_score', axis=1).sort_values(by=['file','final_pred']).iloc[:5]"
      ],
      "execution_count": 0,
      "outputs": []
    },
    {
      "cell_type": "code",
      "metadata": {
        "id": "GwL3Aj_6olPm",
        "colab_type": "code",
        "outputId": "19873ad9-6f20-44d8-e720-82d97d52f707",
        "colab": {
          "base_uri": "https://localhost:8080/",
          "height": 34
        }
      },
      "source": [
        "df.shape"
      ],
      "execution_count": 455,
      "outputs": [
        {
          "output_type": "execute_result",
          "data": {
            "text/plain": [
              "(10000, 15)"
            ]
          },
          "metadata": {
            "tags": []
          },
          "execution_count": 455
        }
      ]
    },
    {
      "cell_type": "code",
      "metadata": {
        "id": "f882TythT8Q5",
        "colab_type": "code",
        "colab": {}
      },
      "source": [
        "tokens = []\n",
        "for doc in nlp.pipe(df['email_body'], batch_size=500):\n",
        "\n",
        "    doc_tokens = []\n",
        "\n",
        "    for token in doc:\n",
        "        if (token.is_stop == False) & (token.is_punct == False):\n",
        "            doc_tokens.append(token.lemma_.lower())\n",
        "\n",
        "    tokens.append(doc_tokens)\n",
        "\n",
        "df['tokens'] = tokens\n"
      ],
      "execution_count": 0,
      "outputs": []
    },
    {
      "cell_type": "code",
      "metadata": {
        "id": "4lubkhbGK8Ye",
        "colab_type": "code",
        "colab": {}
      },
      "source": [
        "df = df.drop(columns = ['file', 'message', 'Scores'])\n"
      ],
      "execution_count": 0,
      "outputs": []
    },
    {
      "cell_type": "code",
      "metadata": {
        "id": "i0NiaG5dmACv",
        "colab_type": "code",
        "outputId": "8a08c21b-1e0a-41a4-d0c1-9d4a9efb1601",
        "colab": {
          "base_uri": "https://localhost:8080/",
          "height": 34
        }
      },
      "source": [
        "df.shape"
      ],
      "execution_count": 458,
      "outputs": [
        {
          "output_type": "execute_result",
          "data": {
            "text/plain": [
              "(10000, 13)"
            ]
          },
          "metadata": {
            "tags": []
          },
          "execution_count": 458
        }
      ]
    },
    {
      "cell_type": "code",
      "metadata": {
        "id": "Llb-n3lgh6Vk",
        "colab_type": "code",
        "outputId": "0f253b71-0e31-47cd-9220-a0e49541e6f0",
        "colab": {
          "base_uri": "https://localhost:8080/",
          "height": 34
        }
      },
      "source": [
        "url = 'https://raw.githubusercontent.com/Lambda-School-Labs/tagger-ds/master/notebooks/tags.csv'\n",
        "myfile = requests.get(url)\n",
        "open('tags.csv', 'wb').write(myfile.content)"
      ],
      "execution_count": 460,
      "outputs": [
        {
          "output_type": "execute_result",
          "data": {
            "text/plain": [
              "13296306"
            ]
          },
          "metadata": {
            "tags": []
          },
          "execution_count": 460
        }
      ]
    },
    {
      "cell_type": "code",
      "metadata": {
        "id": "b9f0Mzsh16x1",
        "colab_type": "code",
        "colab": {}
      },
      "source": [
        "df_tags = pd.read_csv(\"tags.csv\")"
      ],
      "execution_count": 0,
      "outputs": []
    },
    {
      "cell_type": "code",
      "metadata": {
        "id": "kZioe6kGL51n",
        "colab_type": "code",
        "colab": {}
      },
      "source": [
        "df_tags.rename(columns={'tags':'smart_tags'}, inplace=True)"
      ],
      "execution_count": 0,
      "outputs": []
    },
    {
      "cell_type": "code",
      "metadata": {
        "id": "Uvx_WSZ28OHm",
        "colab_type": "code",
        "colab": {}
      },
      "source": [
        "frames = [df, df_tags]\n",
        "\n",
        "result = pd.concat([df, df_tags], axis=1, sort=False)"
      ],
      "execution_count": 0,
      "outputs": []
    },
    {
      "cell_type": "code",
      "metadata": {
        "id": "9T6Jd8sn3RGX",
        "colab_type": "code",
        "colab": {}
      },
      "source": [
        "result = result.drop(columns=['email_body', 'tokens', 'final_score'])"
      ],
      "execution_count": 0,
      "outputs": []
    },
    {
      "cell_type": "code",
      "metadata": {
        "id": "9wI64SDN4Ey-",
        "colab_type": "code",
        "colab": {}
      },
      "source": [
        "result = result.drop(columns=['body_email'])"
      ],
      "execution_count": 0,
      "outputs": []
    },
    {
      "cell_type": "code",
      "metadata": {
        "id": "IK1CBP0t9XP7",
        "colab_type": "code",
        "colab": {}
      },
      "source": [
        "result['message_id'] = result.index + 1"
      ],
      "execution_count": 0,
      "outputs": []
    },
    {
      "cell_type": "code",
      "metadata": {
        "id": "1w00A1rsB9b0",
        "colab_type": "code",
        "outputId": "a7ce38c2-3033-4a60-9d82-2ff7257ba3cb",
        "colab": {
          "base_uri": "https://localhost:8080/",
          "height": 1000
        }
      },
      "source": [
        "result"
      ],
      "execution_count": 468,
      "outputs": [
        {
          "output_type": "execute_result",
          "data": {
            "text/html": [
              "<div>\n",
              "<style scoped>\n",
              "    .dataframe tbody tr th:only-of-type {\n",
              "        vertical-align: middle;\n",
              "    }\n",
              "\n",
              "    .dataframe tbody tr th {\n",
              "        vertical-align: top;\n",
              "    }\n",
              "\n",
              "    .dataframe thead th {\n",
              "        text-align: right;\n",
              "    }\n",
              "</style>\n",
              "<table border=\"1\" class=\"dataframe\">\n",
              "  <thead>\n",
              "    <tr style=\"text-align: right;\">\n",
              "      <th></th>\n",
              "      <th>subject</th>\n",
              "      <th>content_type</th>\n",
              "      <th>to_who</th>\n",
              "      <th>from_who</th>\n",
              "      <th>dates</th>\n",
              "      <th>negative</th>\n",
              "      <th>neutral</th>\n",
              "      <th>positive</th>\n",
              "      <th>compound</th>\n",
              "      <th>final_pred</th>\n",
              "      <th>smart_tags</th>\n",
              "      <th>negative</th>\n",
              "      <th>neutral</th>\n",
              "      <th>positive</th>\n",
              "      <th>compound</th>\n",
              "      <th>final_pred</th>\n",
              "      <th>message_id</th>\n",
              "    </tr>\n",
              "  </thead>\n",
              "  <tbody>\n",
              "    <tr>\n",
              "      <th>0</th>\n",
              "      <td>Subject:</td>\n",
              "      <td>Content-Type: text/plain; charset=us-ascii</td>\n",
              "      <td></td>\n",
              "      <td>From: phillip.allen@enron.com</td>\n",
              "      <td>Date: Mon, 14 May 2001 16:39:00 -0700 (PDT)</td>\n",
              "      <td>0.000</td>\n",
              "      <td>1.000</td>\n",
              "      <td>0.000</td>\n",
              "      <td>0.0000</td>\n",
              "      <td>3</td>\n",
              "      <td>['forecast']</td>\n",
              "      <td>0.000</td>\n",
              "      <td>1.000</td>\n",
              "      <td>0.000</td>\n",
              "      <td>0.0000</td>\n",
              "      <td>3.0</td>\n",
              "      <td>1</td>\n",
              "    </tr>\n",
              "    <tr>\n",
              "      <th>1</th>\n",
              "      <td>Subject: Re:</td>\n",
              "      <td>Content-Type: text/plain; charset=us-ascii</td>\n",
              "      <td></td>\n",
              "      <td>From: phillip.allen@enron.com</td>\n",
              "      <td>Date: Fri, 4 May 2001 13:51:00 -0700 (PDT)</td>\n",
              "      <td>0.000</td>\n",
              "      <td>0.893</td>\n",
              "      <td>0.107</td>\n",
              "      <td>0.9313</td>\n",
              "      <td>5</td>\n",
              "      <td>['travel', 'business', 'meeting', 'take', 'fun...</td>\n",
              "      <td>0.000</td>\n",
              "      <td>0.893</td>\n",
              "      <td>0.107</td>\n",
              "      <td>0.9313</td>\n",
              "      <td>5.0</td>\n",
              "      <td>2</td>\n",
              "    </tr>\n",
              "    <tr>\n",
              "      <th>2</th>\n",
              "      <td>Subject: Re: test</td>\n",
              "      <td>Content-Type: text/plain; charset=us-ascii</td>\n",
              "      <td></td>\n",
              "      <td>From: phillip.allen@enron.com</td>\n",
              "      <td>Date: Wed, 18 Oct 2000 03:00:00 -0700 (PDT)</td>\n",
              "      <td>0.000</td>\n",
              "      <td>0.513</td>\n",
              "      <td>0.487</td>\n",
              "      <td>0.5859</td>\n",
              "      <td>4</td>\n",
              "      <td>['test', 'successful', 'way']</td>\n",
              "      <td>0.000</td>\n",
              "      <td>0.513</td>\n",
              "      <td>0.487</td>\n",
              "      <td>0.5859</td>\n",
              "      <td>4.0</td>\n",
              "      <td>3</td>\n",
              "    </tr>\n",
              "    <tr>\n",
              "      <th>3</th>\n",
              "      <td>Subject:</td>\n",
              "      <td>Content-Type: text/plain; charset=us-ascii</td>\n",
              "      <td></td>\n",
              "      <td>From: phillip.allen@enron.com</td>\n",
              "      <td>Date: Mon, 23 Oct 2000 06:13:00 -0700 (PDT)</td>\n",
              "      <td>0.000</td>\n",
              "      <td>1.000</td>\n",
              "      <td>0.000</td>\n",
              "      <td>0.0000</td>\n",
              "      <td>3</td>\n",
              "      <td>['randy', 'send', 'schedule', 'salary', 'level...</td>\n",
              "      <td>0.000</td>\n",
              "      <td>1.000</td>\n",
              "      <td>0.000</td>\n",
              "      <td>0.0000</td>\n",
              "      <td>3.0</td>\n",
              "      <td>4</td>\n",
              "    </tr>\n",
              "    <tr>\n",
              "      <th>4</th>\n",
              "      <td>Subject: Re: Hello</td>\n",
              "      <td>Content-Type: text/plain; charset=us-ascii</td>\n",
              "      <td></td>\n",
              "      <td>From: phillip.allen@enron.com</td>\n",
              "      <td>Date: Thu, 31 Aug 2000 05:07:00 -0700 (PDT)</td>\n",
              "      <td>0.375</td>\n",
              "      <td>0.625</td>\n",
              "      <td>0.000</td>\n",
              "      <td>-0.3400</td>\n",
              "      <td>2</td>\n",
              "      <td>['let', 'shoot', 'tuesday']</td>\n",
              "      <td>0.375</td>\n",
              "      <td>0.625</td>\n",
              "      <td>0.000</td>\n",
              "      <td>-0.3400</td>\n",
              "      <td>2.0</td>\n",
              "      <td>5</td>\n",
              "    </tr>\n",
              "    <tr>\n",
              "      <th>...</th>\n",
              "      <td>...</td>\n",
              "      <td>...</td>\n",
              "      <td>...</td>\n",
              "      <td>...</td>\n",
              "      <td>...</td>\n",
              "      <td>...</td>\n",
              "      <td>...</td>\n",
              "      <td>...</td>\n",
              "      <td>...</td>\n",
              "      <td>...</td>\n",
              "      <td>...</td>\n",
              "      <td>...</td>\n",
              "      <td>...</td>\n",
              "      <td>...</td>\n",
              "      <td>...</td>\n",
              "      <td>...</td>\n",
              "      <td>...</td>\n",
              "    </tr>\n",
              "    <tr>\n",
              "      <th>9995</th>\n",
              "      <td>Subject: Re: Evite: Super Bowl Party</td>\n",
              "      <td>Content-Type: text/plain; charset=us-ascii</td>\n",
              "      <td></td>\n",
              "      <td>From: eric.bass@enron.com</td>\n",
              "      <td>Date: Tue, 25 Jan 2000 02:31:00 -0800 (PST)</td>\n",
              "      <td>0.031</td>\n",
              "      <td>0.799</td>\n",
              "      <td>0.170</td>\n",
              "      <td>0.9895</td>\n",
              "      <td>5</td>\n",
              "      <td>['s', 'pretty', 'sexy', 'huh', 'get', 'talk', ...</td>\n",
              "      <td>NaN</td>\n",
              "      <td>NaN</td>\n",
              "      <td>NaN</td>\n",
              "      <td>NaN</td>\n",
              "      <td>NaN</td>\n",
              "      <td>9996</td>\n",
              "    </tr>\n",
              "    <tr>\n",
              "      <th>9996</th>\n",
              "      <td>Subject:</td>\n",
              "      <td>Content-Type: text/plain; charset=us-ascii</td>\n",
              "      <td></td>\n",
              "      <td>From: eric.bass@enron.com</td>\n",
              "      <td>Date: Tue, 25 Jan 2000 02:15:00 -0800 (PST)</td>\n",
              "      <td>0.262</td>\n",
              "      <td>0.738</td>\n",
              "      <td>0.000</td>\n",
              "      <td>-0.4939</td>\n",
              "      <td>2</td>\n",
              "      <td>['copy', 'idea', 'screw']</td>\n",
              "      <td>NaN</td>\n",
              "      <td>NaN</td>\n",
              "      <td>NaN</td>\n",
              "      <td>NaN</td>\n",
              "      <td>NaN</td>\n",
              "      <td>9997</td>\n",
              "    </tr>\n",
              "    <tr>\n",
              "      <th>9997</th>\n",
              "      <td>Subject: 9912 Texas Financial Liquidations</td>\n",
              "      <td>Content-Type: text/plain; charset=us-ascii</td>\n",
              "      <td></td>\n",
              "      <td>From: eric.bass@enron.com</td>\n",
              "      <td>Date: Tue, 25 Jan 2000 01:36:00 -0800 (PST)</td>\n",
              "      <td>0.000</td>\n",
              "      <td>0.914</td>\n",
              "      <td>0.086</td>\n",
              "      <td>0.4404</td>\n",
              "      <td>4</td>\n",
              "      <td>[' ', 'forward', 'eric', 'basshouect', 'troy',...</td>\n",
              "      <td>NaN</td>\n",
              "      <td>NaN</td>\n",
              "      <td>NaN</td>\n",
              "      <td>NaN</td>\n",
              "      <td>NaN</td>\n",
              "      <td>9998</td>\n",
              "    </tr>\n",
              "    <tr>\n",
              "      <th>9998</th>\n",
              "      <td>Subject:</td>\n",
              "      <td>Content-Type: text/plain; charset=us-ascii</td>\n",
              "      <td></td>\n",
              "      <td>From: eric.bass@enron.com</td>\n",
              "      <td>Date: Wed, 6 Dec 2000 06:03:00 -0800 (PST)</td>\n",
              "      <td>0.000</td>\n",
              "      <td>1.000</td>\n",
              "      <td>0.000</td>\n",
              "      <td>0.0000</td>\n",
              "      <td>3</td>\n",
              "      <td>['buy', 'enron', 's']</td>\n",
              "      <td>NaN</td>\n",
              "      <td>NaN</td>\n",
              "      <td>NaN</td>\n",
              "      <td>NaN</td>\n",
              "      <td>NaN</td>\n",
              "      <td>9999</td>\n",
              "    </tr>\n",
              "    <tr>\n",
              "      <th>9999</th>\n",
              "      <td>Subject: Re:</td>\n",
              "      <td>Content-Type: text/plain; charset=us-ascii</td>\n",
              "      <td></td>\n",
              "      <td>From: eric.bass@enron.com</td>\n",
              "      <td>Date: Mon, 24 Jan 2000 08:36:00 -0800 (PST)</td>\n",
              "      <td>0.000</td>\n",
              "      <td>0.829</td>\n",
              "      <td>0.171</td>\n",
              "      <td>0.8442</td>\n",
              "      <td>5</td>\n",
              "      <td>['yea', 'thank', 'remind', 'bday', 'nearly', '...</td>\n",
              "      <td>NaN</td>\n",
              "      <td>NaN</td>\n",
              "      <td>NaN</td>\n",
              "      <td>NaN</td>\n",
              "      <td>NaN</td>\n",
              "      <td>10000</td>\n",
              "    </tr>\n",
              "  </tbody>\n",
              "</table>\n",
              "<p>10000 rows × 17 columns</p>\n",
              "</div>"
            ],
            "text/plain": [
              "                                         subject  ... message_id\n",
              "0                                       Subject:  ...          1\n",
              "1                                   Subject: Re:  ...          2\n",
              "2                              Subject: Re: test  ...          3\n",
              "3                                       Subject:  ...          4\n",
              "4                             Subject: Re: Hello  ...          5\n",
              "...                                          ...  ...        ...\n",
              "9995        Subject: Re: Evite: Super Bowl Party  ...       9996\n",
              "9996                                    Subject:  ...       9997\n",
              "9997  Subject: 9912 Texas Financial Liquidations  ...       9998\n",
              "9998                                    Subject:  ...       9999\n",
              "9999                                Subject: Re:  ...      10000\n",
              "\n",
              "[10000 rows x 17 columns]"
            ]
          },
          "metadata": {
            "tags": []
          },
          "execution_count": 468
        }
      ]
    },
    {
      "cell_type": "code",
      "metadata": {
        "id": "g-nz2LfUB_21",
        "colab_type": "code",
        "colab": {}
      },
      "source": [
        "result['user_tags'] = np.nan\n",
        "result['thread_id'] = np.nan"
      ],
      "execution_count": 0,
      "outputs": []
    },
    {
      "cell_type": "code",
      "metadata": {
        "id": "_dUUh_ACFekK",
        "colab_type": "code",
        "outputId": "cd7bfa36-a5b7-478e-874b-3f0df30c1320",
        "colab": {
          "base_uri": "https://localhost:8080/",
          "height": 1000
        }
      },
      "source": [
        "result"
      ],
      "execution_count": 470,
      "outputs": [
        {
          "output_type": "execute_result",
          "data": {
            "text/html": [
              "<div>\n",
              "<style scoped>\n",
              "    .dataframe tbody tr th:only-of-type {\n",
              "        vertical-align: middle;\n",
              "    }\n",
              "\n",
              "    .dataframe tbody tr th {\n",
              "        vertical-align: top;\n",
              "    }\n",
              "\n",
              "    .dataframe thead th {\n",
              "        text-align: right;\n",
              "    }\n",
              "</style>\n",
              "<table border=\"1\" class=\"dataframe\">\n",
              "  <thead>\n",
              "    <tr style=\"text-align: right;\">\n",
              "      <th></th>\n",
              "      <th>subject</th>\n",
              "      <th>content_type</th>\n",
              "      <th>to_who</th>\n",
              "      <th>from_who</th>\n",
              "      <th>dates</th>\n",
              "      <th>negative</th>\n",
              "      <th>neutral</th>\n",
              "      <th>positive</th>\n",
              "      <th>compound</th>\n",
              "      <th>final_pred</th>\n",
              "      <th>smart_tags</th>\n",
              "      <th>negative</th>\n",
              "      <th>neutral</th>\n",
              "      <th>positive</th>\n",
              "      <th>compound</th>\n",
              "      <th>final_pred</th>\n",
              "      <th>message_id</th>\n",
              "      <th>user_tags</th>\n",
              "      <th>thread_id</th>\n",
              "    </tr>\n",
              "  </thead>\n",
              "  <tbody>\n",
              "    <tr>\n",
              "      <th>0</th>\n",
              "      <td>Subject:</td>\n",
              "      <td>Content-Type: text/plain; charset=us-ascii</td>\n",
              "      <td></td>\n",
              "      <td>From: phillip.allen@enron.com</td>\n",
              "      <td>Date: Mon, 14 May 2001 16:39:00 -0700 (PDT)</td>\n",
              "      <td>0.000</td>\n",
              "      <td>1.000</td>\n",
              "      <td>0.000</td>\n",
              "      <td>0.0000</td>\n",
              "      <td>3</td>\n",
              "      <td>['forecast']</td>\n",
              "      <td>0.000</td>\n",
              "      <td>1.000</td>\n",
              "      <td>0.000</td>\n",
              "      <td>0.0000</td>\n",
              "      <td>3.0</td>\n",
              "      <td>1</td>\n",
              "      <td>NaN</td>\n",
              "      <td>NaN</td>\n",
              "    </tr>\n",
              "    <tr>\n",
              "      <th>1</th>\n",
              "      <td>Subject: Re:</td>\n",
              "      <td>Content-Type: text/plain; charset=us-ascii</td>\n",
              "      <td></td>\n",
              "      <td>From: phillip.allen@enron.com</td>\n",
              "      <td>Date: Fri, 4 May 2001 13:51:00 -0700 (PDT)</td>\n",
              "      <td>0.000</td>\n",
              "      <td>0.893</td>\n",
              "      <td>0.107</td>\n",
              "      <td>0.9313</td>\n",
              "      <td>5</td>\n",
              "      <td>['travel', 'business', 'meeting', 'take', 'fun...</td>\n",
              "      <td>0.000</td>\n",
              "      <td>0.893</td>\n",
              "      <td>0.107</td>\n",
              "      <td>0.9313</td>\n",
              "      <td>5.0</td>\n",
              "      <td>2</td>\n",
              "      <td>NaN</td>\n",
              "      <td>NaN</td>\n",
              "    </tr>\n",
              "    <tr>\n",
              "      <th>2</th>\n",
              "      <td>Subject: Re: test</td>\n",
              "      <td>Content-Type: text/plain; charset=us-ascii</td>\n",
              "      <td></td>\n",
              "      <td>From: phillip.allen@enron.com</td>\n",
              "      <td>Date: Wed, 18 Oct 2000 03:00:00 -0700 (PDT)</td>\n",
              "      <td>0.000</td>\n",
              "      <td>0.513</td>\n",
              "      <td>0.487</td>\n",
              "      <td>0.5859</td>\n",
              "      <td>4</td>\n",
              "      <td>['test', 'successful', 'way']</td>\n",
              "      <td>0.000</td>\n",
              "      <td>0.513</td>\n",
              "      <td>0.487</td>\n",
              "      <td>0.5859</td>\n",
              "      <td>4.0</td>\n",
              "      <td>3</td>\n",
              "      <td>NaN</td>\n",
              "      <td>NaN</td>\n",
              "    </tr>\n",
              "    <tr>\n",
              "      <th>3</th>\n",
              "      <td>Subject:</td>\n",
              "      <td>Content-Type: text/plain; charset=us-ascii</td>\n",
              "      <td></td>\n",
              "      <td>From: phillip.allen@enron.com</td>\n",
              "      <td>Date: Mon, 23 Oct 2000 06:13:00 -0700 (PDT)</td>\n",
              "      <td>0.000</td>\n",
              "      <td>1.000</td>\n",
              "      <td>0.000</td>\n",
              "      <td>0.0000</td>\n",
              "      <td>3</td>\n",
              "      <td>['randy', 'send', 'schedule', 'salary', 'level...</td>\n",
              "      <td>0.000</td>\n",
              "      <td>1.000</td>\n",
              "      <td>0.000</td>\n",
              "      <td>0.0000</td>\n",
              "      <td>3.0</td>\n",
              "      <td>4</td>\n",
              "      <td>NaN</td>\n",
              "      <td>NaN</td>\n",
              "    </tr>\n",
              "    <tr>\n",
              "      <th>4</th>\n",
              "      <td>Subject: Re: Hello</td>\n",
              "      <td>Content-Type: text/plain; charset=us-ascii</td>\n",
              "      <td></td>\n",
              "      <td>From: phillip.allen@enron.com</td>\n",
              "      <td>Date: Thu, 31 Aug 2000 05:07:00 -0700 (PDT)</td>\n",
              "      <td>0.375</td>\n",
              "      <td>0.625</td>\n",
              "      <td>0.000</td>\n",
              "      <td>-0.3400</td>\n",
              "      <td>2</td>\n",
              "      <td>['let', 'shoot', 'tuesday']</td>\n",
              "      <td>0.375</td>\n",
              "      <td>0.625</td>\n",
              "      <td>0.000</td>\n",
              "      <td>-0.3400</td>\n",
              "      <td>2.0</td>\n",
              "      <td>5</td>\n",
              "      <td>NaN</td>\n",
              "      <td>NaN</td>\n",
              "    </tr>\n",
              "    <tr>\n",
              "      <th>...</th>\n",
              "      <td>...</td>\n",
              "      <td>...</td>\n",
              "      <td>...</td>\n",
              "      <td>...</td>\n",
              "      <td>...</td>\n",
              "      <td>...</td>\n",
              "      <td>...</td>\n",
              "      <td>...</td>\n",
              "      <td>...</td>\n",
              "      <td>...</td>\n",
              "      <td>...</td>\n",
              "      <td>...</td>\n",
              "      <td>...</td>\n",
              "      <td>...</td>\n",
              "      <td>...</td>\n",
              "      <td>...</td>\n",
              "      <td>...</td>\n",
              "      <td>...</td>\n",
              "      <td>...</td>\n",
              "    </tr>\n",
              "    <tr>\n",
              "      <th>9995</th>\n",
              "      <td>Subject: Re: Evite: Super Bowl Party</td>\n",
              "      <td>Content-Type: text/plain; charset=us-ascii</td>\n",
              "      <td></td>\n",
              "      <td>From: eric.bass@enron.com</td>\n",
              "      <td>Date: Tue, 25 Jan 2000 02:31:00 -0800 (PST)</td>\n",
              "      <td>0.031</td>\n",
              "      <td>0.799</td>\n",
              "      <td>0.170</td>\n",
              "      <td>0.9895</td>\n",
              "      <td>5</td>\n",
              "      <td>['s', 'pretty', 'sexy', 'huh', 'get', 'talk', ...</td>\n",
              "      <td>NaN</td>\n",
              "      <td>NaN</td>\n",
              "      <td>NaN</td>\n",
              "      <td>NaN</td>\n",
              "      <td>NaN</td>\n",
              "      <td>9996</td>\n",
              "      <td>NaN</td>\n",
              "      <td>NaN</td>\n",
              "    </tr>\n",
              "    <tr>\n",
              "      <th>9996</th>\n",
              "      <td>Subject:</td>\n",
              "      <td>Content-Type: text/plain; charset=us-ascii</td>\n",
              "      <td></td>\n",
              "      <td>From: eric.bass@enron.com</td>\n",
              "      <td>Date: Tue, 25 Jan 2000 02:15:00 -0800 (PST)</td>\n",
              "      <td>0.262</td>\n",
              "      <td>0.738</td>\n",
              "      <td>0.000</td>\n",
              "      <td>-0.4939</td>\n",
              "      <td>2</td>\n",
              "      <td>['copy', 'idea', 'screw']</td>\n",
              "      <td>NaN</td>\n",
              "      <td>NaN</td>\n",
              "      <td>NaN</td>\n",
              "      <td>NaN</td>\n",
              "      <td>NaN</td>\n",
              "      <td>9997</td>\n",
              "      <td>NaN</td>\n",
              "      <td>NaN</td>\n",
              "    </tr>\n",
              "    <tr>\n",
              "      <th>9997</th>\n",
              "      <td>Subject: 9912 Texas Financial Liquidations</td>\n",
              "      <td>Content-Type: text/plain; charset=us-ascii</td>\n",
              "      <td></td>\n",
              "      <td>From: eric.bass@enron.com</td>\n",
              "      <td>Date: Tue, 25 Jan 2000 01:36:00 -0800 (PST)</td>\n",
              "      <td>0.000</td>\n",
              "      <td>0.914</td>\n",
              "      <td>0.086</td>\n",
              "      <td>0.4404</td>\n",
              "      <td>4</td>\n",
              "      <td>[' ', 'forward', 'eric', 'basshouect', 'troy',...</td>\n",
              "      <td>NaN</td>\n",
              "      <td>NaN</td>\n",
              "      <td>NaN</td>\n",
              "      <td>NaN</td>\n",
              "      <td>NaN</td>\n",
              "      <td>9998</td>\n",
              "      <td>NaN</td>\n",
              "      <td>NaN</td>\n",
              "    </tr>\n",
              "    <tr>\n",
              "      <th>9998</th>\n",
              "      <td>Subject:</td>\n",
              "      <td>Content-Type: text/plain; charset=us-ascii</td>\n",
              "      <td></td>\n",
              "      <td>From: eric.bass@enron.com</td>\n",
              "      <td>Date: Wed, 6 Dec 2000 06:03:00 -0800 (PST)</td>\n",
              "      <td>0.000</td>\n",
              "      <td>1.000</td>\n",
              "      <td>0.000</td>\n",
              "      <td>0.0000</td>\n",
              "      <td>3</td>\n",
              "      <td>['buy', 'enron', 's']</td>\n",
              "      <td>NaN</td>\n",
              "      <td>NaN</td>\n",
              "      <td>NaN</td>\n",
              "      <td>NaN</td>\n",
              "      <td>NaN</td>\n",
              "      <td>9999</td>\n",
              "      <td>NaN</td>\n",
              "      <td>NaN</td>\n",
              "    </tr>\n",
              "    <tr>\n",
              "      <th>9999</th>\n",
              "      <td>Subject: Re:</td>\n",
              "      <td>Content-Type: text/plain; charset=us-ascii</td>\n",
              "      <td></td>\n",
              "      <td>From: eric.bass@enron.com</td>\n",
              "      <td>Date: Mon, 24 Jan 2000 08:36:00 -0800 (PST)</td>\n",
              "      <td>0.000</td>\n",
              "      <td>0.829</td>\n",
              "      <td>0.171</td>\n",
              "      <td>0.8442</td>\n",
              "      <td>5</td>\n",
              "      <td>['yea', 'thank', 'remind', 'bday', 'nearly', '...</td>\n",
              "      <td>NaN</td>\n",
              "      <td>NaN</td>\n",
              "      <td>NaN</td>\n",
              "      <td>NaN</td>\n",
              "      <td>NaN</td>\n",
              "      <td>10000</td>\n",
              "      <td>NaN</td>\n",
              "      <td>NaN</td>\n",
              "    </tr>\n",
              "  </tbody>\n",
              "</table>\n",
              "<p>10000 rows × 19 columns</p>\n",
              "</div>"
            ],
            "text/plain": [
              "                                         subject  ... thread_id\n",
              "0                                       Subject:  ...       NaN\n",
              "1                                   Subject: Re:  ...       NaN\n",
              "2                              Subject: Re: test  ...       NaN\n",
              "3                                       Subject:  ...       NaN\n",
              "4                             Subject: Re: Hello  ...       NaN\n",
              "...                                          ...  ...       ...\n",
              "9995        Subject: Re: Evite: Super Bowl Party  ...       NaN\n",
              "9996                                    Subject:  ...       NaN\n",
              "9997  Subject: 9912 Texas Financial Liquidations  ...       NaN\n",
              "9998                                    Subject:  ...       NaN\n",
              "9999                                Subject: Re:  ...       NaN\n",
              "\n",
              "[10000 rows x 19 columns]"
            ]
          },
          "metadata": {
            "tags": []
          },
          "execution_count": 470
        }
      ]
    },
    {
      "cell_type": "code",
      "metadata": {
        "id": "Zc_8xt7_FsKS",
        "colab_type": "code",
        "colab": {}
      },
      "source": [
        "def save_data_frame_as_csv(result=None, file=None):\n",
        "    \"\"\"\n",
        "    Save a Pandas DataFrame to CSV format.\n",
        "    \"\"\"\n",
        "    try:\n",
        "        if not file.endswith('.csv'):\n",
        "            file += '.csv'\n",
        "        result.to_csv(file, index=False)\n",
        "        print(f'DataFrame saved as: {file}')\n",
        "    except Exception as e:\n",
        "        print(\"DataFrame couldn't be saved: \", sys.exc_info()[0])\n",
        "        raise"
      ],
      "execution_count": 0,
      "outputs": []
    },
    {
      "cell_type": "code",
      "metadata": {
        "id": "80OHkFK9GKel",
        "colab_type": "code",
        "outputId": "47b1ea73-c2a8-4da6-8037-899655064803",
        "colab": {
          "base_uri": "https://localhost:8080/",
          "height": 34
        }
      },
      "source": [
        "save_data_frame_as_csv(result, './merged_data_for_KNN.csv')"
      ],
      "execution_count": 474,
      "outputs": [
        {
          "output_type": "stream",
          "text": [
            "DataFrame saved as: ./merged_data_for_KNN.csv\n"
          ],
          "name": "stdout"
        }
      ]
    },
    {
      "cell_type": "code",
      "metadata": {
        "id": "JOUvUbQCmLA4",
        "colab_type": "code",
        "colab": {}
      },
      "source": [
        ""
      ],
      "execution_count": 0,
      "outputs": []
    }
  ]
}