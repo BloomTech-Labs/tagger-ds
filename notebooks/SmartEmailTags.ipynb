{
 "cells": [
  {
   "cell_type": "markdown",
   "metadata": {
    "colab_type": "text",
    "id": "OGa-3IJ0czGT"
   },
   "source": [
    "#TAG SMART EMAILS\n",
    "\n",
    "GENSIM AND LDA\n",
    "\n",
    "https://radimrehurek.com/gensim/apiref.html"
   ]
  },
  {
   "cell_type": "code",
   "execution_count": 1,
   "metadata": {
    "colab": {},
    "colab_type": "code",
    "id": "4wYWP2ayYZs0"
   },
   "outputs": [],
   "source": [
    "#Library\n",
    "from gensim.corpora import Dictionary\n",
    "from gensim.models.ldamulticore import LdaMulticore\n",
    "from gensim.models.coherencemodel import CoherenceModel\n",
    "import spacy\n",
    "import pandas as pd"
   ]
  },
  {
   "cell_type": "code",
   "execution_count": 2,
   "metadata": {
    "colab": {
     "base_uri": "https://localhost:8080/",
     "height": 34
    },
    "colab_type": "code",
    "id": "v2RfLweVYZs5",
    "outputId": "fd1e51a0-878b-4e62-b52c-fc0526c63ad6"
   },
   "outputs": [
    {
     "data": {
      "text/plain": [
       "'C:\\\\Users\\\\HomePC\\\\tagger-ds'"
      ]
     },
     "execution_count": 2,
     "metadata": {},
     "output_type": "execute_result"
    }
   ],
   "source": [
    "%pwd"
   ]
  },
  {
   "cell_type": "code",
   "execution_count": 3,
   "metadata": {
    "colab": {
     "base_uri": "https://localhost:8080/",
     "height": 34
    },
    "colab_type": "code",
    "id": "jQeR-whKrj0j",
    "outputId": "767271c7-85ff-4e0b-d1ea-c61f4f251f71"
   },
   "outputs": [
    {
     "data": {
      "text/plain": [
       "24004915"
      ]
     },
     "execution_count": 3,
     "metadata": {},
     "output_type": "execute_result"
    }
   ],
   "source": [
    "import requests\n",
    "url = 'https://raw.githubusercontent.com/Moly-malibu/Tag-Smart-Emails/master/Enronemails.csv?token=AN2RW2FK3OPVHW7HTK5AKZS624Z7U'\n",
    "myfile = requests.get(url)\n",
    "open('email.csv', 'wb').write(myfile.content)"
   ]
  },
  {
   "cell_type": "code",
   "execution_count": 4,
   "metadata": {
    "colab": {
     "base_uri": "https://localhost:8080/",
     "height": 271
    },
    "colab_type": "code",
    "id": "oIl2fVRnYZs-",
    "outputId": "1f2b0ab4-1594-4f31-c95a-2f9654ff140d"
   },
   "outputs": [
    {
     "name": "stdout",
     "output_type": "stream",
     "text": [
      "(10000, 2)\n"
     ]
    },
    {
     "data": {
      "text/html": [
       "<div>\n",
       "<style scoped>\n",
       "    .dataframe tbody tr th:only-of-type {\n",
       "        vertical-align: middle;\n",
       "    }\n",
       "\n",
       "    .dataframe tbody tr th {\n",
       "        vertical-align: top;\n",
       "    }\n",
       "\n",
       "    .dataframe thead th {\n",
       "        text-align: right;\n",
       "    }\n",
       "</style>\n",
       "<table border=\"1\" class=\"dataframe\">\n",
       "  <thead>\n",
       "    <tr style=\"text-align: right;\">\n",
       "      <th></th>\n",
       "      <th>file</th>\n",
       "      <th>message</th>\n",
       "    </tr>\n",
       "  </thead>\n",
       "  <tbody>\n",
       "    <tr>\n",
       "      <th>0</th>\n",
       "      <td>allen-p/_sent_mail/1.</td>\n",
       "      <td>Message-ID: &lt;18782981.1075855378110.JavaMail.e...</td>\n",
       "    </tr>\n",
       "    <tr>\n",
       "      <th>1</th>\n",
       "      <td>allen-p/_sent_mail/10.</td>\n",
       "      <td>Message-ID: &lt;15464986.1075855378456.JavaMail.e...</td>\n",
       "    </tr>\n",
       "    <tr>\n",
       "      <th>2</th>\n",
       "      <td>allen-p/_sent_mail/100.</td>\n",
       "      <td>Message-ID: &lt;24216240.1075855687451.JavaMail.e...</td>\n",
       "    </tr>\n",
       "    <tr>\n",
       "      <th>3</th>\n",
       "      <td>allen-p/_sent_mail/1000.</td>\n",
       "      <td>Message-ID: &lt;13505866.1075863688222.JavaMail.e...</td>\n",
       "    </tr>\n",
       "    <tr>\n",
       "      <th>4</th>\n",
       "      <td>allen-p/_sent_mail/1001.</td>\n",
       "      <td>Message-ID: &lt;30922949.1075863688243.JavaMail.e...</td>\n",
       "    </tr>\n",
       "    <tr>\n",
       "      <th>5</th>\n",
       "      <td>allen-p/_sent_mail/1002.</td>\n",
       "      <td>Message-ID: &lt;30965995.1075863688265.JavaMail.e...</td>\n",
       "    </tr>\n",
       "    <tr>\n",
       "      <th>6</th>\n",
       "      <td>allen-p/_sent_mail/1003.</td>\n",
       "      <td>Message-ID: &lt;16254169.1075863688286.JavaMail.e...</td>\n",
       "    </tr>\n",
       "  </tbody>\n",
       "</table>\n",
       "</div>"
      ],
      "text/plain": [
       "                       file                                            message\n",
       "0     allen-p/_sent_mail/1.  Message-ID: <18782981.1075855378110.JavaMail.e...\n",
       "1    allen-p/_sent_mail/10.  Message-ID: <15464986.1075855378456.JavaMail.e...\n",
       "2   allen-p/_sent_mail/100.  Message-ID: <24216240.1075855687451.JavaMail.e...\n",
       "3  allen-p/_sent_mail/1000.  Message-ID: <13505866.1075863688222.JavaMail.e...\n",
       "4  allen-p/_sent_mail/1001.  Message-ID: <30922949.1075863688243.JavaMail.e...\n",
       "5  allen-p/_sent_mail/1002.  Message-ID: <30965995.1075863688265.JavaMail.e...\n",
       "6  allen-p/_sent_mail/1003.  Message-ID: <16254169.1075863688286.JavaMail.e..."
      ]
     },
     "execution_count": 4,
     "metadata": {},
     "output_type": "execute_result"
    }
   ],
   "source": [
    "#EMAILS FROM ENRON COMPANY SAMPLING\n",
    "df = pd.read_csv(\"email.csv\").drop(['Unnamed: 0'], axis=1)\n",
    "print(df.shape) \n",
    "df.head(7)"
   ]
  },
  {
   "cell_type": "code",
   "execution_count": 5,
   "metadata": {
    "colab": {
     "base_uri": "https://localhost:8080/",
     "height": 390
    },
    "colab_type": "code",
    "id": "GXR_9XPLeN-n",
    "outputId": "f8738233-ff32-4bab-cf99-af0e9bb602e2"
   },
   "outputs": [
    {
     "data": {
      "text/plain": [
       "['Message-ID: <15464986.1075855378456.JavaMail.evans@thyme>',\n",
       " 'Date: Fri, 4 May 2001 13:51:00 -0700 (PDT)',\n",
       " 'From: phillip.allen@enron.com',\n",
       " 'To: john.lavorato@enron.com',\n",
       " 'Subject: Re:',\n",
       " 'Mime-Version: 1.0',\n",
       " 'Content-Type: text/plain; charset=us-ascii',\n",
       " 'Content-Transfer-Encoding: 7bit',\n",
       " 'X-From: Phillip K Allen',\n",
       " 'X-To: John J Lavorato <John J Lavorato/ENRON@enronXgate@ENRON>',\n",
       " 'X-cc:',\n",
       " 'X-bcc:',\n",
       " \"X-Folder: \\\\Phillip_Allen_Jan2002_1\\\\Allen, Phillip K.\\\\'Sent Mail\",\n",
       " 'X-Origin: Allen-P',\n",
       " 'X-FileName: pallen (Non-Privileged).pst',\n",
       " '',\n",
       " 'Traveling to have a business meeting takes the fun out of the trip.  Especially if you have to prepare a presentation.  I would suggest holding the business plan meetings here then take a trip without any formal business meetings.  I would even try and get some honest opinions on whether a trip is even desired or necessary.',\n",
       " '',\n",
       " 'As far as the business meetings, I think it would be more productive to try and stimulate discussions across the different groups about what is working and what is not.  Too often the presenter speaks and the others are quiet just waiting for their turn.   The meetings might be better if held in a round table discussion format.',\n",
       " '',\n",
       " \"My suggestion for where to go is Austin.  Play golf and rent a ski boat and jet ski's.  Flying somewhere takes too much time.\"]"
      ]
     },
     "execution_count": 5,
     "metadata": {},
     "output_type": "execute_result"
    }
   ],
   "source": [
    "#TO GET EMAIL BODY\n",
    "[s.strip() for s in df['message'][1].splitlines()]"
   ]
  },
  {
   "cell_type": "code",
   "execution_count": 6,
   "metadata": {
    "colab": {},
    "colab_type": "code",
    "id": "cobxnIcPeREl"
   },
   "outputs": [],
   "source": [
    "email = ' '.join([s.strip() for s in df['message'][1].splitlines()][15:])"
   ]
  },
  {
   "cell_type": "code",
   "execution_count": 7,
   "metadata": {
    "colab": {
     "base_uri": "https://localhost:8080/",
     "height": 195
    },
    "colab_type": "code",
    "id": "Lqux2nRyebXX",
    "outputId": "59a06568-5117-41d4-a71a-1a87280ed7c3"
   },
   "outputs": [
    {
     "data": {
      "text/html": [
       "<div>\n",
       "<style scoped>\n",
       "    .dataframe tbody tr th:only-of-type {\n",
       "        vertical-align: middle;\n",
       "    }\n",
       "\n",
       "    .dataframe tbody tr th {\n",
       "        vertical-align: top;\n",
       "    }\n",
       "\n",
       "    .dataframe thead th {\n",
       "        text-align: right;\n",
       "    }\n",
       "</style>\n",
       "<table border=\"1\" class=\"dataframe\">\n",
       "  <thead>\n",
       "    <tr style=\"text-align: right;\">\n",
       "      <th></th>\n",
       "      <th>file</th>\n",
       "      <th>message</th>\n",
       "      <th>email_body</th>\n",
       "    </tr>\n",
       "  </thead>\n",
       "  <tbody>\n",
       "    <tr>\n",
       "      <th>0</th>\n",
       "      <td>allen-p/_sent_mail/1.</td>\n",
       "      <td>Message-ID: &lt;18782981.1075855378110.JavaMail.e...</td>\n",
       "      <td>Here is our forecast</td>\n",
       "    </tr>\n",
       "    <tr>\n",
       "      <th>1</th>\n",
       "      <td>allen-p/_sent_mail/10.</td>\n",
       "      <td>Message-ID: &lt;15464986.1075855378456.JavaMail.e...</td>\n",
       "      <td>Traveling to have a business meeting takes th...</td>\n",
       "    </tr>\n",
       "    <tr>\n",
       "      <th>2</th>\n",
       "      <td>allen-p/_sent_mail/100.</td>\n",
       "      <td>Message-ID: &lt;24216240.1075855687451.JavaMail.e...</td>\n",
       "      <td>test successful.  way to go!!!</td>\n",
       "    </tr>\n",
       "    <tr>\n",
       "      <th>3</th>\n",
       "      <td>allen-p/_sent_mail/1000.</td>\n",
       "      <td>Message-ID: &lt;13505866.1075863688222.JavaMail.e...</td>\n",
       "      <td>Randy,  Can you send me a schedule of the sal...</td>\n",
       "    </tr>\n",
       "    <tr>\n",
       "      <th>4</th>\n",
       "      <td>allen-p/_sent_mail/1001.</td>\n",
       "      <td>Message-ID: &lt;30922949.1075863688243.JavaMail.e...</td>\n",
       "      <td>Let's shoot for Tuesday at 11:45.</td>\n",
       "    </tr>\n",
       "  </tbody>\n",
       "</table>\n",
       "</div>"
      ],
      "text/plain": [
       "                       file  \\\n",
       "0     allen-p/_sent_mail/1.   \n",
       "1    allen-p/_sent_mail/10.   \n",
       "2   allen-p/_sent_mail/100.   \n",
       "3  allen-p/_sent_mail/1000.   \n",
       "4  allen-p/_sent_mail/1001.   \n",
       "\n",
       "                                             message  \\\n",
       "0  Message-ID: <18782981.1075855378110.JavaMail.e...   \n",
       "1  Message-ID: <15464986.1075855378456.JavaMail.e...   \n",
       "2  Message-ID: <24216240.1075855687451.JavaMail.e...   \n",
       "3  Message-ID: <13505866.1075863688222.JavaMail.e...   \n",
       "4  Message-ID: <30922949.1075863688243.JavaMail.e...   \n",
       "\n",
       "                                          email_body  \n",
       "0                             Here is our forecast    \n",
       "1   Traveling to have a business meeting takes th...  \n",
       "2                     test successful.  way to go!!!  \n",
       "3   Randy,  Can you send me a schedule of the sal...  \n",
       "4                  Let's shoot for Tuesday at 11:45.  "
      ]
     },
     "execution_count": 7,
     "metadata": {},
     "output_type": "execute_result"
    }
   ],
   "source": [
    "#CLEAN EMAIL BODY\n",
    "def cleanemail(email):\n",
    "    return ' '.join([s.strip() for s in email.splitlines()][15:])\n",
    "\n",
    "df['email_body'] = df['message'].apply(cleanemail)\n",
    "\n",
    "df.head()"
   ]
  },
  {
   "cell_type": "code",
   "execution_count": 8,
   "metadata": {
    "colab": {
     "base_uri": "https://localhost:8080/",
     "height": 373
    },
    "colab_type": "code",
    "id": "pDqHSrvx2Mig",
    "outputId": "adacbf2e-c13d-48bc-f8d1-b45bc1797e7c"
   },
   "outputs": [],
   "source": [
    "#CLEAN HTML\n",
    "import re\n",
    "import html\n",
    "\n",
    "def cleanup_html(raw_html):\n",
    "    clean_html = re.sub(r'<.*?>', '', raw_html)\n",
    "    clean_html_http = re.sub(r'http\\S+([\\.]{3})?', '', clean_html)\n",
    "    clean_txt = html.unescape(clean_html)\n",
    "    return clean_txt\n",
    "df['email_body'] = df['email_body'].apply(cleanup_html)"
   ]
  },
  {
   "cell_type": "code",
   "execution_count": 9,
   "metadata": {
    "colab": {},
    "colab_type": "code",
    "id": "yDeIEvoh2QYX"
   },
   "outputs": [],
   "source": [
    "#CLEAN DATA\n",
    "#remove whitespace\n",
    "df['email_body'] = df['email_body'].str.strip().str.lower()\n",
    "\n",
    "#Start with date\n",
    "df['email_body'].str.match('\\d?\\d/\\d?\\d/\\d{4}').all()\n",
    "\n",
    "#Replace all non-overlapping matches\n",
    "df['email_body'] = df['email_body'].str.replace('[^a-zA-Z\\s]', '').str.replace('\\s+', ' ')"
   ]
  },
  {
   "cell_type": "code",
   "execution_count": 10,
   "metadata": {
    "colab": {
     "base_uri": "https://localhost:8080/",
     "height": 67
    },
    "colab_type": "code",
    "id": "7XGo8E78P5-L",
    "outputId": "90d0a9eb-e5a3-4872-b17b-4b9bce6ef25a"
   },
   "outputs": [
    {
     "name": "stderr",
     "output_type": "stream",
     "text": [
      "[nltk_data] Downloading package stopwords to\n",
      "[nltk_data]     C:\\Users\\HomePC\\AppData\\Roaming\\nltk_data...\n",
      "[nltk_data]   Package stopwords is already up-to-date!\n"
     ]
    },
    {
     "data": {
      "text/plain": [
       "True"
      ]
     },
     "execution_count": 10,
     "metadata": {},
     "output_type": "execute_result"
    }
   ],
   "source": [
    "import nltk\n",
    "import string\n",
    "nltk.download('stopwords')"
   ]
  },
  {
   "cell_type": "code",
   "execution_count": 11,
   "metadata": {
    "colab": {
     "base_uri": "https://localhost:8080/",
     "height": 255
    },
    "colab_type": "code",
    "id": "UliBb6XAiObU",
    "outputId": "4d9329aa-c91a-4e8e-cce5-cb008917c9b3"
   },
   "outputs": [
    {
     "name": "stdout",
     "output_type": "stream",
     "text": [
      "['i', 'me', 'my', 'myself', 'we', 'our', 'ours', 'ourselves', 'you', \"you're\", \"you've\", \"you'll\", \"you'd\", 'your', 'yours', 'yourself', 'yourselves', 'he', 'him', 'his', 'himself', 'she', \"she's\", 'her', 'hers', 'herself', 'it', \"it's\", 'its', 'itself', 'they', 'them', 'their', 'theirs', 'themselves', 'what', 'which', 'who', 'whom', 'this', 'that', \"that'll\", 'these', 'those', 'am', 'is', 'are', 'was', 'were', 'be', 'been', 'being', 'have', 'has', 'had', 'having', 'do', 'does', 'did', 'doing', 'a', 'an', 'the', 'and', 'but', 'if', 'or', 'because', 'as', 'until', 'while', 'of', 'at', 'by', 'for', 'with', 'about', 'against', 'between', 'into', 'through', 'during', 'before', 'after', 'above', 'below', 'to', 'from', 'up', 'down', 'in', 'out', 'on', 'off', 'over', 'under', 'again', 'further', 'then', 'once', 'here', 'there', 'when', 'where', 'why', 'how', 'all', 'any', 'both', 'each', 'few', 'more', 'most', 'other', 'some', 'such', 'no', 'nor', 'not', 'only', 'own', 'same', 'so', 'than', 'too', 'very', 's', 't', 'can', 'will', 'just', 'don', \"don't\", 'should', \"should've\", 'now', 'd', 'll', 'm', 'o', 're', 've', 'y', 'ain', 'aren', \"aren't\", 'couldn', \"couldn't\", 'didn', \"didn't\", 'doesn', \"doesn't\", 'hadn', \"hadn't\", 'hasn', \"hasn't\", 'haven', \"haven't\", 'isn', \"isn't\", 'ma', 'mightn', \"mightn't\", 'mustn', \"mustn't\", 'needn', \"needn't\", 'shan', \"shan't\", 'shouldn', \"shouldn't\", 'wasn', \"wasn't\", 'weren', \"weren't\", 'won', \"won't\", 'wouldn', \"wouldn't\"]\n",
      "***************************************\n",
      "tasti\n",
      "just\n",
      "various\n",
      "also\n",
      "‘ve\n",
      "whenever\n",
      "except\n",
      "couldn't\n",
      "me\n",
      "and\n",
      "thence\n"
     ]
    }
   ],
   "source": [
    "#Getting Stopwords\n",
    "import spacy\n",
    "from spacy.lang.en.stop_words import STOP_WORDS\n",
    "from nltk.corpus import stopwords\n",
    "from nltk.stem.snowball import SnowballStemmer\n",
    "from nltk.stem.wordnet import WordNetLemmatizer\n",
    "\n",
    "# define additional stop words\n",
    "import nltk\n",
    "import spacy\n",
    "\n",
    "nlp = spacy.load('en_core_web_lg')\n",
    "my_stop_words = ['i', 'me', 'my', 'myself', 'we', 'our', 'ours', 'ourselves', \n",
    "                 'you', \"you're\", \"you've\", \"you'll\", \"you'd\", 'your', 'yours', \n",
    "                 'yourself', 'yourselves', 'he', 'him', 'his', 'himself', 'she', \n",
    "                 \"she's\", 'her', 'hers', 'herself', 'it', \"it's\", 'its', 'itself', \n",
    "                 'they', 'them', 'their', 'theirs', 'themselves', 'what', 'which', \n",
    "                 'who', 'whom', 'this', 'that', \"that'll\", 'these', 'those', 'am', \n",
    "                 'is', 'are', 'was', 'were', 'be', 'been', 'being', 'have', 'has', \n",
    "                 'had', 'having', 'do', 'does', 'did', 'doing', 'a', 'an', 'the', \n",
    "                 'and', 'but', 'if', 'or', 'because', 'as', 'until', 'while', \n",
    "                 'of', 'at', 'by', 'for', 'with', 'about', 'against', 'between', \n",
    "                 'into', 'through', 'during', 'before', 'after', 'above', 'below',\n",
    "                 'to', 'from', 'up', 'down', 'in', 'out', 'on', 'off', 'over', 'under', \n",
    "                 'again', 'further', 'then', 'once', 'here', 'there', 'when', \n",
    "                 'where', 'why', 'how', 'all', 'any', 'both', 'each', 'few', \n",
    "                 'more', 'most', 'other', 'some', 'such', 'no', 'nor', 'not', \n",
    "                 'only', 'own', 'same', 'so', 'than', 'too', 'very', 's', 't', \n",
    "                 'can', 'will', 'just', 'don', \"don't\", 'should', \"should've\", \n",
    "                 'now', 'd', 'll', 'm', 'o', 're', 've', 'y', 'ain', 'aren', \n",
    "                 \"aren't\", 'couldn', \"couldn't\", 'didn', \"didn't\", 'doesn', \n",
    "                 \"doesn't\", 'hadn', \"hadn't\", 'hasn', \"hasn't\", 'haven', \n",
    "                 \"haven't\", 'isn', \"isn't\", 'ma', 'mightn', \"mightn't\", \n",
    "                 'mustn', \"mustn't\", 'needn', \"needn't\", 'shan', \"shan't\", \n",
    "                 'shouldn', \"shouldn't\", 'wasn', \"wasn't\", 'weren', \n",
    "                 \"weren't\", 'won', \"won't\", 'wouldn', \"wouldn't\"]\n",
    "\n",
    "STOP_WORDS = nlp.Defaults.stop_words.union(my_stop_words)\n",
    "\n",
    "stop = stopwords.words('english')\n",
    "sno = SnowballStemmer('english')\n",
    "print (stop)\n",
    "print('***************************************')\n",
    "print(sno.stem('tasty'))\n",
    "\n",
    "STOP_WORDS = list(STOP_WORDS)\n",
    "print('\\n'.join([word for word in STOP_WORDS[:10]]))"
   ]
  },
  {
   "cell_type": "code",
   "execution_count": 12,
   "metadata": {
    "colab": {},
    "colab_type": "code",
    "id": "hlky5wp6YZtt"
   },
   "outputs": [],
   "source": [
    "tokens = []\n",
    "for doc in nlp.pipe(df['email_body'], batch_size=500):\n",
    "\n",
    "    doc_tokens = []\n",
    "\n",
    "    for token in doc:\n",
    "        if (token.is_stop == False) & (token.is_punct == False):\n",
    "            doc_tokens.append(token.lemma_.lower())\n",
    "\n",
    "    tokens.append(doc_tokens)\n",
    "\n",
    "df['tokens'] = tokens"
   ]
  },
  {
   "cell_type": "code",
   "execution_count": 13,
   "metadata": {
    "colab": {
     "base_uri": "https://localhost:8080/",
     "height": 118
    },
    "colab_type": "code",
    "id": "EdpPGC91YZtx",
    "outputId": "a20bb99f-3494-400a-d47b-d3d32b415f2b"
   },
   "outputs": [
    {
     "data": {
      "text/plain": [
       "0                                           [forecast]\n",
       "1    [travel, business, meeting, take, fun, trip, e...\n",
       "2                              [test, successful, way]\n",
       "3    [randy, send, schedule, salary, level, schedul...\n",
       "4                                [let, shoot, tuesday]\n",
       "Name: tokens, dtype: object"
      ]
     },
     "execution_count": 13,
     "metadata": {},
     "output_type": "execute_result"
    }
   ],
   "source": [
    "df['tokens'].head()"
   ]
  },
  {
   "cell_type": "code",
   "execution_count": 14,
   "metadata": {
    "colab": {
     "base_uri": "https://localhost:8080/",
     "height": 34
    },
    "colab_type": "code",
    "id": "qW-ydKWeYZuE",
    "outputId": "be5a5355-fe8a-4f8c-d197-443753d136f6"
   },
   "outputs": [
    {
     "name": "stdout",
     "output_type": "stream",
     "text": [
      "45973\n"
     ]
    }
   ],
   "source": [
    "id2word = Dictionary(df['tokens'])\n",
    "print(len(id2word))"
   ]
  },
  {
   "cell_type": "code",
   "execution_count": 15,
   "metadata": {
    "colab": {
     "base_uri": "https://localhost:8080/",
     "height": 34
    },
    "colab_type": "code",
    "id": "r0sCngOsYZuI",
    "outputId": "1b58af96-c89b-4a9d-a88e-18c01703b961"
   },
   "outputs": [
    {
     "name": "stdout",
     "output_type": "stream",
     "text": [
      "14978\n"
     ]
    }
   ],
   "source": [
    "id2word.filter_extremes(no_below=5, no_above=.98)\n",
    "print(len(id2word))"
   ]
  },
  {
   "cell_type": "code",
   "execution_count": 16,
   "metadata": {
    "colab": {},
    "colab_type": "code",
    "id": "QNZoA36BYZuP"
   },
   "outputs": [],
   "source": [
    "#https://radimrehurek.com/gensim/corpora/dictionary.html\n",
    "\n",
    "corpus = [id2word.doc2bow(d) for d in df['tokens']]"
   ]
  },
  {
   "cell_type": "code",
   "execution_count": 17,
   "metadata": {
    "colab": {},
    "colab_type": "code",
    "id": "oQh81puoYZuV"
   },
   "outputs": [],
   "source": [
    "lda = LdaMulticore(corpus=corpus,\n",
    "                   id2word=id2word,\n",
    "                   random_state=723812,\n",
    "                   num_topics = 15,\n",
    "                   passes=10,\n",
    "                   workers=12\n",
    "                  )"
   ]
  },
  {
   "cell_type": "code",
   "execution_count": 18,
   "metadata": {
    "colab": {},
    "colab_type": "code",
    "id": "1dnNU6IdYZuX"
   },
   "outputs": [],
   "source": [
    "model = LdaMulticore(corpus=corpus, num_topics=10, id2word=id2word, workers=12, passes=5)"
   ]
  },
  {
   "cell_type": "code",
   "execution_count": 19,
   "metadata": {
    "colab": {},
    "colab_type": "code",
    "id": "7U5v5vj_YZua"
   },
   "outputs": [],
   "source": [
    "import re\n",
    "\n",
    "words = [re.findall(r'\"([^\"]*)\"',t[1]) for t in model.print_topics()]"
   ]
  },
  {
   "cell_type": "code",
   "execution_count": 20,
   "metadata": {
    "colab": {},
    "colab_type": "code",
    "id": "Zr61YmT2YZuc"
   },
   "outputs": [],
   "source": [
    "topics = [' '.join(t[0:5]) for t in words]"
   ]
  },
  {
   "cell_type": "code",
   "execution_count": 21,
   "metadata": {
    "colab": {
     "base_uri": "https://localhost:8080/",
     "height": 353
    },
    "colab_type": "code",
    "id": "FVsC1adZYZue",
    "outputId": "d3a2ef07-dd05-44cf-cf5d-24f729d325eb"
   },
   "outputs": [
    {
     "name": "stdout",
     "output_type": "stream",
     "text": [
      "------ Topic 0 ------\n",
      "enron subject thank john contract\n",
      "------ Topic 1 ------\n",
      "john subject buy enron send\n",
      "------ Topic 2 ------\n",
      "image email message subject click\n",
      "------ Topic 3 ------\n",
      "email gas john request wine\n",
      "------ Topic 4 ------\n",
      "pm phillip subject new forward\n",
      "------ Topic 5 ------\n",
      "market iso john subject pm\n",
      "------ Topic 6 ------\n",
      "john subject phillip pm cc\n",
      "------ Topic 7 ------\n",
      "enron say company power market\n",
      "------ Topic 8 ------\n",
      "loan cost say company subject\n",
      "------ Topic 9 ------\n",
      "pm subject send email john\n"
     ]
    }
   ],
   "source": [
    "for id, t in enumerate(topics): \n",
    "    print(f\"------ Topic {id} ------\")\n",
    "    print(t, end=\"\\n\")"
   ]
  },
  {
   "cell_type": "code",
   "execution_count": 22,
   "metadata": {
    "colab": {
     "base_uri": "https://localhost:8080/",
     "height": 605
    },
    "colab_type": "code",
    "id": "h935vng4avNg",
    "outputId": "6d8b5490-c21d-414e-b7d4-92d4ffd36ef4"
   },
   "outputs": [
    {
     "name": "stdout",
     "output_type": "stream",
     "text": [
      "Requirement already satisfied: pyLDAvis in c:\\users\\homepc\\anaconda3\\lib\\site-packages (2.1.2)\n",
      "Requirement already satisfied: joblib>=0.8.4 in c:\\users\\homepc\\anaconda3\\lib\\site-packages (from pyLDAvis) (0.14.1)\n",
      "Requirement already satisfied: future in c:\\users\\homepc\\anaconda3\\lib\\site-packages (from pyLDAvis) (0.18.2)\n",
      "Requirement already satisfied: numexpr in c:\\users\\homepc\\anaconda3\\lib\\site-packages (from pyLDAvis) (2.7.1)\n",
      "Requirement already satisfied: wheel>=0.23.0 in c:\\users\\homepc\\anaconda3\\lib\\site-packages (from pyLDAvis) (0.34.2)\n",
      "Requirement already satisfied: pandas>=0.17.0 in c:\\users\\homepc\\anaconda3\\lib\\site-packages (from pyLDAvis) (1.0.1)\n",
      "Requirement already satisfied: jinja2>=2.7.2 in c:\\users\\homepc\\anaconda3\\lib\\site-packages (from pyLDAvis) (2.11.2)\n",
      "Requirement already satisfied: scipy>=0.18.0 in c:\\users\\homepc\\anaconda3\\lib\\site-packages (from pyLDAvis) (1.4.1)\n",
      "Requirement already satisfied: numpy>=1.9.2 in c:\\users\\homepc\\anaconda3\\lib\\site-packages (from pyLDAvis) (1.18.1)\n",
      "Requirement already satisfied: funcy in c:\\users\\homepc\\anaconda3\\lib\\site-packages (from pyLDAvis) (1.14)\n",
      "Requirement already satisfied: pytest in c:\\users\\homepc\\anaconda3\\lib\\site-packages (from pyLDAvis) (5.3.5)\n",
      "Requirement already satisfied: pytz>=2017.2 in c:\\users\\homepc\\anaconda3\\lib\\site-packages (from pandas>=0.17.0->pyLDAvis) (2019.3)\n",
      "Requirement already satisfied: python-dateutil>=2.6.1 in c:\\users\\homepc\\anaconda3\\lib\\site-packages (from pandas>=0.17.0->pyLDAvis) (2.8.1)\n",
      "Requirement already satisfied: MarkupSafe>=0.23 in c:\\users\\homepc\\anaconda3\\lib\\site-packages (from jinja2>=2.7.2->pyLDAvis) (1.1.1)\n",
      "Requirement already satisfied: py>=1.5.0 in c:\\users\\homepc\\anaconda3\\lib\\site-packages (from pytest->pyLDAvis) (1.8.1)\n",
      "Requirement already satisfied: packaging in c:\\users\\homepc\\anaconda3\\lib\\site-packages (from pytest->pyLDAvis) (20.1)\n",
      "Requirement already satisfied: attrs>=17.4.0 in c:\\users\\homepc\\anaconda3\\lib\\site-packages (from pytest->pyLDAvis) (19.3.0)\n",
      "Requirement already satisfied: more-itertools>=4.0.0 in c:\\users\\homepc\\anaconda3\\lib\\site-packages (from pytest->pyLDAvis) (8.2.0)\n",
      "Requirement already satisfied: pluggy<1.0,>=0.12 in c:\\users\\homepc\\anaconda3\\lib\\site-packages (from pytest->pyLDAvis) (0.13.1)\n",
      "Requirement already satisfied: wcwidth in c:\\users\\homepc\\anaconda3\\lib\\site-packages (from pytest->pyLDAvis) (0.1.8)\n",
      "Requirement already satisfied: importlib-metadata>=0.12 in c:\\users\\homepc\\anaconda3\\lib\\site-packages (from pytest->pyLDAvis) (1.6.0)\n",
      "Requirement already satisfied: atomicwrites>=1.0 in c:\\users\\homepc\\anaconda3\\lib\\site-packages (from pytest->pyLDAvis) (1.3.0)\n",
      "Requirement already satisfied: colorama in c:\\users\\homepc\\anaconda3\\lib\\site-packages (from pytest->pyLDAvis) (0.4.3)\n",
      "Requirement already satisfied: six>=1.5 in c:\\users\\homepc\\anaconda3\\lib\\site-packages (from python-dateutil>=2.6.1->pandas>=0.17.0->pyLDAvis) (1.15.0)\n",
      "Requirement already satisfied: pyparsing>=2.0.2 in c:\\users\\homepc\\anaconda3\\lib\\site-packages (from packaging->pytest->pyLDAvis) (2.4.6)\n",
      "Requirement already satisfied: zipp>=0.5 in c:\\users\\homepc\\anaconda3\\lib\\site-packages (from importlib-metadata>=0.12->pytest->pyLDAvis) (3.1.0)\n"
     ]
    }
   ],
   "source": [
    "!pip install pyLDAvis\n",
    "import pyLDAvis"
   ]
  },
  {
   "cell_type": "code",
   "execution_count": 23,
   "metadata": {
    "colab": {
     "base_uri": "https://localhost:8080/",
     "height": 861
    },
    "colab_type": "code",
    "id": "bVhMkSiLazW_",
    "outputId": "99a3491c-e82a-486d-b9f7-2aaa824f49bd"
   },
   "outputs": [
    {
     "data": {
      "text/html": [
       "\n",
       "<link rel=\"stylesheet\" type=\"text/css\" href=\"https://cdn.rawgit.com/bmabey/pyLDAvis/files/ldavis.v1.0.0.css\">\n",
       "\n",
       "\n",
       "<div id=\"ldavis_el492422894750674802460981470\"></div>\n",
       "<script type=\"text/javascript\">\n",
       "\n",
       "var ldavis_el492422894750674802460981470_data = {\"mdsDat\": {\"x\": [0.141797530961486, -0.01138867809397447, -0.0435256379034146, 0.03558623489614874, -0.11388088005990075, -0.0719896231245757, -0.00357582561866592, 0.021141174188915875, -0.02609565036284013, 0.0719313551168212], \"y\": [-0.0031290693513305276, 0.0761138558789916, 0.05629292701642298, 0.03103939189659437, 0.0346049179710188, -0.12232285035044099, -0.02067575147389426, 0.01938673235485995, -0.024856909808090653, -0.046453244134131676], \"topics\": [1, 2, 3, 4, 5, 6, 7, 8, 9, 10], \"cluster\": [1, 1, 1, 1, 1, 1, 1, 1, 1, 1], \"Freq\": [27.014419555664062, 13.364538192749023, 10.785114288330078, 9.362777709960938, 8.965399742126465, 7.5224456787109375, 6.782044410705566, 5.825483798980713, 5.817935466766357, 4.5598368644714355]}, \"tinfo\": {\"Term\": [\"pm\", \"image\", \"email\", \"enron\", \"subject\", \"john\", \"send\", \"message\", \"iso\", \"phillip\", \"original\", \"say\", \"market\", \"cc\", \"company\", \"loan\", \"buy\", \"cost\", \"click\", \"arnold\", \"think\", \"k\", \"thank\", \"forward\", \"position\", \"xfilename\", \"outage\", \"meeting\", \"wine\", \"price\", \"allenxls\", \"proformaphillip\", \"downdraft\", \"nothingshare\", \"algebraic\", \"tantamount\", \"infill\", \"detentionretention\", \"pershare\", \"freakish\", \"tender\", \"incapacitate\", \"orr\", \"acquirer\", \"complication\", \"bedridden\", \"spreadoffset\", \"console\", \"spine\", \"drilling\", \"intensity\", \"widening\", \"adjoin\", \"filtration\", \"userdefined\", \"vertebra\", \"ordinance\", \"uneven\", \"exploration\", \"sore\", \"dpc\", \"mseb\", \"moodys\", \"dabhol\", \"takeover\", \"chronicle\", \"saudi\", \"indias\", \"deregulation\", \"tata\", \"fastow\", \"billion\", \"percent\", \"offset\", \"ljm\", \"stake\", \"reporter\", \"say\", \"dow\", \"sec\", \"indian\", \"company\", \"rating\", \"dynegy\", \"securities\", \"english\", \"copyright\", \"india\", \"companys\", \"earning\", \"shareholder\", \"jones\", \"share\", \"electricity\", \"stock\", \"sector\", \"reuters\", \"investor\", \"cent\", \"rights\", \"power\", \"government\", \"million\", \"enron\", \"investment\", \"analyst\", \"energy\", \"mr\", \"industry\", \"state\", \"inc\", \"year\", \"project\", \"market\", \"business\", \"report\", \"price\", \"new\", \"financial\", \"utility\", \"sell\", \"not\", \"gas\", \"s\", \"service\", \"week\", \"orbits\", \"kingsgate\", \"stanfield\", \"deathly\", \"nosey\", \"mapping\", \"stagecoachmamahotmailcom\", \"malin\", \"allenenron\", \"inj\", \"guggenheim\", \"rentrollxls\", \"buster\", \"rentroll\", \"thot\", \"maintained\", \"xs\", \"comnespdxect\", \"marchapr\", \"propertys\", \"vx\", \"arsystemectenroncom\", \"keanlay\", \"httpitcappscorpenroncomsrrsapprovedetailaspidemail\", \"lounge\", \"plansactually\", \"elliotthouectect\", \"kayvan\", \"khosla\", \"sanjiv\", \"mkts\", \"fha\", \"hj\", \"tenant\", \"cuz\", \"equilibrium\", \"fangme\", \"wud\", \"lucy\", \"hoskinsenron\", \"allencorpenronenron\", \"destruction\", \"edie\", \"arnoldect\", \"rent\", \"jacques\", \"bearish\", \"phillip\", \"deposit\", \"think\", \"bmc\", \"slafontaineglobalpcom\", \"arnoldhouectect\", \"let\", \"be\", \"go\", \"ina\", \"know\", \"cc\", \"guy\", \"tonight\", \"k\", \"allenhouect\", \"john\", \"subject\", \"not\", \"get\", \"need\", \"work\", \"tomorrow\", \"forward\", \"pm\", \"want\", \"margaret\", \"like\", \"thank\", \"look\", \"good\", \"week\", \"try\", \"come\", \"have\", \"demand\", \"number\", \" \", \"send\", \"time\", \"gas\", \"year\", \"enron\", \"deal\", \"email\", \"iwon\", \"buycom\", \"gasdoc\", \"salespopswinecom\", \"reset\", \"decay\", \"kristidemaioloenroncom\", \"httpcgizdnetcomslinkadeskbadt\", \"imagemore\", \"vous\", \"netback\", \"partielle\", \"httpwwwcarrfutcomresearchenergyngaspdf\", \"httpwwwcarrfutcomresearchenergystripmatrixpdf\", \"httpwwwcarrfutcomresearchenergycandlestickspdf\", \"httpwwwcarrfutcomresearchenergyspreadmatrixclpdf\", \"httpcgizdnetcomslink\", \"utilisation\", \"etabli\", \"candlesticks\", \"detruire\", \"permettant\", \"titre\", \"interdite\", \"conforme\", \"httpwwwcarrfutcomresearchenergycrudepdf\", \"httpwwwcarrfutcomresearchenergyhoilpdf\", \"lexpediteur\", \"httpwwwcarrfutcomresearchenergyunldedpdf\", \"immediatement\", \"toute\", \"zdnet\", \"carr\", \"sont\", \"httpwwwcarrfutcomresearchenergyspreadmatrixngpdf\", \"soblandercarrfutcom\", \"futures\", \"paribas\", \"bnp\", \"matrix\", \"ses\", \"ce\", \"unleade\", \"wacker\", \"image\", \"chart\", \"et\", \"click\", \"il\", \"ou\", \"solely\", \"author\", \"de\", \"link\", \"differ\", \"amazoncom\", \"email\", \"contain\", \"free\", \"web\", \"message\", \"address\", \"receive\", \"offer\", \"yahoo\", \"nat\", \"information\", \"attachment\", \"subject\", \"thank\", \"send\", \"use\", \"gas\", \"john\", \"price\", \"online\", \"good\", \"cc\", \"s\", \"new\", \"time\", \"not\", \"spread\", \"today\", \"pm\", \"forward\", \"espeak\", \"iptv\", \"hlopak\", \"packaging\", \"billlovejoyhpcom\", \"crosssell\", \"gilad\", \"architects\", \"gregpylehpcom\", \"gad\", \"bobjordancompaqcom\", \"thuraisingham\", \"caspy\", \"httpiptvenroncom\", \"mailtoeiaenroncom\", \"boxster\", \"gmat\", \"gypsum\", \"emeet\", \"downcrude\", \"chrisrobersonhpcom\", \"deakins\", \"outlier\", \"newbrough\", \"muthukumar\", \"httpcrenroncomeiahtml\", \"krishnan\", \"spurlin\", \"muthukumarkrishnanowenvanderbiltedu\", \"requisite\", \"kinkos\", \"caima\", \"compaq\", \"sarahjoy\", \"ravi\", \"cfa\", \"godfrey\", \"charbonneau\", \"sourcing\", \"medcalf\", \"medcalfnaenronenron\", \"cupertino\", \"ebs\", \"johnarnoldnovnotes\", \"products\", \"huntley\", \"ravithuraisinghamenroncom\", \"hsc\", \"gss\", \"avaya\", \"ecc\", \"cashiola\", \"hunternaenron\", \"proposition\", \"strategic\", \"hp\", \"netting\", \"pulp\", \"relationship\", \"continental\", \"master\", \"enron\", \"agreement\", \"contract\", \"services\", \"opportunity\", \"global\", \"initiative\", \"broadband\", \"communicationsenron\", \"jarnoldnsf\", \"communications\", \"meeting\", \"jennifer\", \"product\", \"business\", \"corp\", \"service\", \"thank\", \"trading\", \"th\", \"jeff\", \"work\", \"copy\", \"subject\", \"deal\", \"management\", \"need\", \"gas\", \"john\", \"trade\", \"price\", \"send\", \"new\", \"time\", \"cc\", \"pm\", \"energy\", \"market\", \"company\", \"message\", \"showtime\", \"showtimes\", \"severudehouect\", \"sturmhouect\", \"millshouect\", \"seversonhouect\", \"physicalfinancail\", \"pickem\", \"httptournamentfantasysportsyahoocommen\", \"jfk\", \"cicchetti\", \"chairperson\", \"shivelyhouect\", \"ttc\", \"nealhouect\", \"rrobert\", \"amc\", \"redford\", \"daman\", \"ubspainewebber\", \"assistantscheduling\", \"ttcs\", \"jfkyahoocom\", \"severson\", \"multicinema\", \"rahal\", \"jfks\", \"yippee\", \"severudehouectect\", \"backout\", \"ngdoc\", \"pt\", \"baughmanhouectect\", \"outage\", \"ectric\", \"tail\", \"tweed\", \"sun\", \"edi\", \"painewebber\", \"fri\", \"oncall\", \"flip\", \"ews\", \"sit\", \"ct\", \"active\", \"ward\", \"pm\", \"pager\", \"disk\", \"instruction\", \"london\", \"original\", \"send\", \"arnold\", \"impact\", \"epaombahbsedu\", \"image\", \"message\", \"environment\", \"subject\", \"email\", \"kim\", \"bailey\", \"john\", \"monday\", \"s\", \"houston\", \"schedule\", \"susan\", \"michael\", \"cc\", \"mark\", \"october\", \"allen\", \"time\", \"thank\", \"phillip\", \"k\", \"enron\", \"forward\", \"contact\", \"meeting\", \"httpwwwwinebidcomositemhtmlhtshtml\", \"nahoutrdhoustonpwrcommonpowerregion\", \"nahoutrdhoustonpwrcommonelectric\", \"jaimegualyenroncom\", \"mailer\", \"mime\", \"mimecompliant\", \"pegasus\", \"httpitcappscorpenroncomsrrsauthemaillinkaspidpageapproval\", \"msword\", \"liter\", \"librarycom\", \"petrus\", \"ngpl\", \"tetco\", \"liquefaction\", \"mattsmithenroncom\", \"lafiterothschild\", \"httpwwwwinebidcomaboutwinebidupdateshtml\", \"fieldsid\", \"masterdisc\", \"httpwwwwinebidcomossendpasswordshtml\", \"ela\", \"apartments\", \"winebidcoms\", \"spotweddoc\", \"nameserver\", \"dexterintelligencepresscom\", \"vintage\", \"spectator\", \"savagehoueesees\", \"sic\", \"andyzipperenroncom\", \"intercontinentalexchange\", \"disc\", \"ver\", \"salesintcxcom\", \"tasting\", \"midcontinent\", \"mckay\", \"wine\", \"admin\", \"fultoncorpenronenron\", \"pool\", \"citygate\", \"md\", \"gilbertsmith\", \"pts\", \"bottle\", \"directory\", \"billing\", \"request\", \"jason\", \"resource\", \"joe\", \"robert\", \"email\", \"parker\", \"chris\", \"daniel\", \"pende\", \"gas\", \"david\", \"mike\", \"james\", \"l\", \"record\", \"richard\", \"type\", \"j\", \"john\", \"paul\", \"phone\", \"m\", \"bill\", \"include\", \"d\", \"index\", \"susan\", \"date\", \"available\", \"price\", \"address\", \"day\", \"power\", \"natural\", \"enron\", \"fax\", \"subject\", \"cc\", \"pm\", \"time\", \"s\", \"pepl\", \"adjustable\", \"psa\", \"confebc\", \"toni\", \"intersc\", \"markintelligencepresscom\", \"woertz\", \"lavarato\", \"gehrigs\", \"cmr\", \"researchit\", \"hehub\", \"eschmidcaisocom\", \"bwoertzcaisocom\", \"lydia\", \"propsoed\", \"locational\", \"marquezcorpenronenron\", \"anticpate\", \"caisos\", \"decisiion\", \"rahimi\", \"httpwwwcaisocomclientservcongestionreformhtml\", \"longs\", \"sqeeze\", \"zalaywancaisocom\", \"rothleder\", \"appendix\", \"qfs\", \"byron\", \"wager\", \"pdt\", \"imparato\", \"congestion\", \"tswg\", \"stakeholder\", \"rwestbrookenroncom\", \"blatchford\", \"udc\", \"caiso\", \"iso\", \"hu\", \"dicarlo\", \"scheduling\", \"fraserenronenronxgate\", \"deferral\", \"participant\", \"relation\", \"coordinator\", \"recommendation\", \"settlement\", \"ng\", \"jen\", \"ho\", \"section\", \"client\", \"rbadeernsf\", \"august\", \"market\", \"june\", \"isos\", \"comment\", \"july\", \"xfilename\", \"john\", \"meeting\", \"xorigin\", \"fraser\", \"system\", \"subject\", \"document\", \"change\", \"pm\", \"price\", \"cc\", \"send\", \"issue\", \"date\", \"thank\", \"enron\", \"schedule\", \"provide\", \"california\", \"plan\", \"information\", \"message\", \"gas\", \"deal\", \"phillip\", \"time\", \"forward\", \"burnshouectect\", \"wv\", \"cactus\", \"bawahouectect\", \"bfm\", \"pielop\", \"fallonhouectect\", \"jonathon\", \"clarkelonectect\", \"peterlonectect\", \"httpecthouwebclntectenroncomgas\", \"responsibilitiesobligation\", \"telephonic\", \"shank\", \"bath\", \"berkelandcorpenron\", \"stair\", \"natgaswwwwwaesconcom\", \"lard\", \"vip\", \"dth\", \"preapre\", \"ownernatgaswwwwwaesconcom\", \"olive\", \"veggie\", \"wwwwwaesconcom\", \"physicalfinancial\", \"stucco\", \"stain\", \"ussoccerfancom\", \"gable\", \"roman\", \"mainzerpdxectect\", \"exterior\", \"httpwwwindependentorgtiilighthouselhlinkhtml\", \"buerklepdxectect\", \"lighthouse\", \"dormer\", \"dyersfectect\", \"soccer\", \"cup\", \"gilbertpdxectect\", \"clearing\", \"upstairs\", \"porch\", \"sprecher\", \"giveup\", \"club\", \"execute\", \"tds\", \"broker\", \"womens\", \"position\", \"kuykendall\", \"roof\", \"lenhart\", \"member\", \"membership\", \"dimension\", \"order\", \"limit\", \"phillip\", \"k\", \"forward\", \"tim\", \"burn\", \"new\", \"event\", \"pm\", \"subject\", \"cc\", \"year\", \"price\", \"market\", \"information\", \" \", \"trade\", \"customer\", \"gas\", \"provide\", \"plan\", \"open\", \"energy\", \"think\", \"email\", \"like\", \"not\", \"john\", \"time\", \"enron\", \"need\", \"greeks\", \"propt\", \"accum\", \"httpiosetsenroncominfopostingssharedetnoncriticalnoticeaspcompany\", \"continentalcom\", \"onepass\", \"reformer\", \"kristingandyenroncom\", \"upgradedowngrade\", \"wwwblackberrynet\", \"coolus\", \"hotels\", \"soundview\", \"upgradesdowngradescoverage\", \"indeces\", \"cnjeff\", \"arnoldougcooenron\", \"cbot\", \"embassy\", \"recoupment\", \"robins\", \"renter\", \"concordjpg\", \"alamo\", \"parsippany\", \"eticket\", \"ush\", \"ewr\", \"bubbie\", \"driving\", \"sheraton\", \"newark\", \"hilton\", \"pivot\", \"suites\", \"fangmingzhuenroncom\", \"nj\", \"miles\", \"initiate\", \"earningscom\", \"theoretical\", \"cleveland\", \"jarnold\", \"johndelete\", \"coverage\", \"nonprivilegedarnold\", \"hotel\", \"resort\", \"reservation\", \"downgrade\", \"doubletree\", \"outperform\", \"pl\", \"rental\", \"buy\", \"nonprivilegedpst\", \"xorigin\", \"xfolder\", \"xfilename\", \"frank\", \"rate\", \"special\", \"xbcc\", \"travel\", \"send\", \"day\", \"original\", \"john\", \"subject\", \"arnold\", \"message\", \"tuesday\", \"enron\", \"pm\", \"time\", \"october\", \"cc\", \"market\", \"thank\", \"new\", \"price\", \"gas\", \"know\", \"report\", \"offer\", \"otmc\", \"otmp\", \"mws\", \"std\", \"econmic\", \"dmand\", \"recoverywill\", \"absulte\", \"caboim\", \"lyle\", \"surpised\", \"equivalence\", \"dmccartyenroncom\", \"anthem\", \"cb\", \"scsotcaolcom\", \"presold\", \"recourse\", \"yepim\", \"effortplease\", \"funciton\", \"daha\", \"phasing\", \"magazineback\", \"inormation\", \"appraise\", \"roofing\", \"petro\", \"disbursement\", \"cornice\", \"coa\", \"kyoto\", \"inspect\", \"cea\", \"covering\", \"improvement\", \"lengkeek\", \"epa\", \"loan\", \"sub\", \"wesnerenron\", \"land\", \"creekside\", \"emission\", \"environmental\", \"vis\", \"mccutchens\", \"dorinson\", \"pretax\", \"air\", \"construction\", \"dj\", \"cost\", \"scs\", \"lot\", \"aftertax\", \"unit\", \"fee\", \"iso\", \"expense\", \"say\", \"power\", \"company\", \"cover\", \"plant\", \"million\", \"cash\", \"subject\", \"market\", \"price\", \"cc\", \"dow\", \"enron\", \"pm\", \"year\", \"value\", \"report\", \"s\", \"john\", \"sell\", \"not\", \"credit\", \"day\", \"energy\", \"gas\", \"week\"], \"Freq\": [8787.0, 3489.0, 5898.0, 11436.0, 7895.0, 7493.0, 4826.0, 4516.0, 1719.0, 4041.0, 3113.0, 6051.0, 5357.0, 5070.0, 6160.0, 872.0, 2482.0, 1857.0, 1464.0, 1845.0, 2506.0, 2394.0, 3508.0, 3325.0, 1183.0, 1470.0, 624.0, 2142.0, 642.0, 4993.0, 25.430770874023438, 25.13231086730957, 25.147499084472656, 20.957481384277344, 20.887746810913086, 20.838903427124023, 12.80968952178955, 24.53937530517578, 34.481964111328125, 12.680614471435547, 66.74564361572266, 12.64925765991211, 34.963558197021484, 26.253286361694336, 21.336170196533203, 12.543556213378906, 36.63017654418945, 28.109228134155273, 12.497373580932617, 56.1142692565918, 103.79728698730469, 14.37637996673584, 12.434645652770996, 24.90071678161621, 21.07659149169922, 12.422825813293457, 14.237711906433105, 12.32103443145752, 143.21165466308594, 8.509186744689941, 173.34835815429688, 163.45721435546875, 183.69178771972656, 244.80934143066406, 82.13251495361328, 131.219482421875, 133.25140380859375, 111.50151062011719, 208.01657104492188, 69.60963439941406, 323.42474365234375, 1255.6878662109375, 794.7651977539062, 302.66619873046875, 159.89389038085938, 210.8341064453125, 111.9859848022461, 4513.1123046875, 1185.2652587890625, 232.0202178955078, 195.4934539794922, 4468.873046875, 510.0081481933594, 669.1557006835938, 232.76483154296875, 211.5024871826172, 941.3268432617188, 377.4784240722656, 472.6108703613281, 609.0872192382812, 287.795166015625, 1142.38916015625, 1481.3880615234375, 993.8406982421875, 1440.5455322265625, 331.0060119628906, 512.5921020507812, 919.8662719726562, 618.107421875, 452.355224609375, 2512.28076171875, 449.91998291015625, 1223.916015625, 5674.7099609375, 814.8828735351562, 791.2352905273438, 2051.037109375, 536.6847534179688, 569.668212890625, 1046.9185791015625, 1187.542236328125, 1739.776123046875, 1081.2589111328125, 2257.31689453125, 1325.5296630859375, 1203.4837646484375, 1892.972900390625, 1708.4149169921875, 940.9947509765625, 752.2064208984375, 927.2509155273438, 1211.87841796875, 1288.1248779296875, 1079.0709228515625, 961.33544921875, 996.2781982421875, 24.389575958251953, 32.792659759521484, 23.081846237182617, 24.062482833862305, 18.23451805114746, 17.164722442626953, 12.439775466918945, 32.2691650390625, 117.94173431396484, 28.218976974487305, 53.66846466064453, 15.95258903503418, 13.152464866638184, 131.47958374023438, 35.292171478271484, 8.361151695251465, 9.281479835510254, 11.982325553894043, 12.032084465026855, 8.327827453613281, 57.45314025878906, 8.289918899536133, 11.908690452575684, 8.261417388916016, 13.755878448486328, 9.157225608825684, 13.629657745361328, 10.08387279510498, 9.16689682006836, 9.156332015991211, 37.28907012939453, 20.835214614868164, 56.41695022583008, 97.34349060058594, 63.09986114501953, 30.49961280822754, 82.89344024658203, 39.04669189453125, 219.6470947265625, 83.73849487304688, 51.99607467651367, 47.48647689819336, 21.321420669555664, 59.05847930908203, 222.347412109375, 77.13925170898438, 101.23802185058594, 2005.08349609375, 118.6230239868164, 1298.3624267578125, 196.7262420654297, 154.07046508789062, 707.6600952148438, 836.3944091796875, 647.0642700195312, 940.677978515625, 289.17279052734375, 1239.0958251953125, 1852.9722900390625, 257.6573791503906, 138.8948974609375, 935.9330444335938, 417.0896911621094, 2244.507568359375, 2211.234619140625, 1335.660888671875, 626.0424194335938, 1063.78125, 920.69140625, 299.4034729003906, 999.4126586914062, 1981.4556884765625, 763.0038452148438, 264.656005859375, 778.9811401367188, 941.3472290039062, 660.2328491210938, 683.1134033203125, 806.8306274414062, 455.8023376464844, 555.8213500976562, 440.7288513183594, 453.7874450683594, 496.6673278808594, 427.6567077636719, 769.1951293945312, 688.8018798828125, 723.41943359375, 607.8389892578125, 678.1929321289062, 514.5094604492188, 545.4558715820312, 38.42377471923828, 138.6964874267578, 28.92365837097168, 13.401830673217773, 15.044204711914062, 11.693961143493652, 13.199806213378906, 89.55548095703125, 35.70925521850586, 57.018096923828125, 7.408668041229248, 54.41640090942383, 68.56661987304688, 22.2962703704834, 28.124229431152344, 64.98192596435547, 136.43763732910156, 55.026981353759766, 51.67597961425781, 32.90913772583008, 51.52483367919922, 51.52006530761719, 51.563194274902344, 51.59646224975586, 51.500125885009766, 67.99238586425781, 59.86973190307617, 53.91887664794922, 59.71615219116211, 53.96993637084961, 205.38746643066406, 145.24253845214844, 339.3579406738281, 100.88296508789062, 64.40747833251953, 210.57679748535156, 252.05645751953125, 176.89891052246094, 159.07595825195312, 244.1593475341797, 104.88604736328125, 271.4142150878906, 62.30630111694336, 94.2369384765625, 2109.52490234375, 401.2872009277344, 490.4537353515625, 881.2718505859375, 150.19508361816406, 167.54827880859375, 181.20333862304688, 120.92095947265625, 304.8635559082031, 444.27880859375, 111.96708679199219, 103.01740264892578, 2031.1947021484375, 461.7847595214844, 634.78466796875, 422.11395263671875, 1327.1595458984375, 519.0408935546875, 751.2352294921875, 670.0595092773438, 221.50624084472656, 210.9440460205078, 615.4819946289062, 234.13331604003906, 936.5302734375, 631.0323486328125, 671.2354736328125, 403.3277587890625, 645.6332397460938, 761.1976928710938, 641.39501953125, 289.9150390625, 430.6080627441406, 557.9824829101562, 504.3501892089844, 508.537353515625, 443.2618713378906, 441.60540771484375, 314.48492431640625, 336.1889953613281, 380.852783203125, 344.4325256347656, 22.120859146118164, 10.196535110473633, 13.49199104309082, 38.04875946044922, 12.65850830078125, 17.591432571411133, 13.364925384521484, 8.736861228942871, 10.799763679504395, 19.759185791015625, 14.043248176574707, 56.52553176879883, 15.567044258117676, 4.920200347900391, 5.731411457061768, 7.929790496826172, 23.820663452148438, 17.231948852539062, 8.17852783203125, 7.337917327880859, 9.022706031799316, 10.598189353942871, 13.887707710266113, 19.626705169677734, 5.685022354125977, 5.674122333526611, 5.68068790435791, 13.801997184753418, 5.677581310272217, 30.105119705200195, 81.65348052978516, 10.529367446899414, 206.12469482421875, 208.32862854003906, 84.4094467163086, 18.546751022338867, 26.058326721191406, 13.662784576416016, 78.9326400756836, 78.39591217041016, 51.43158721923828, 29.121185302734375, 419.9460144042969, 55.46980667114258, 34.24015426635742, 27.49433708190918, 19.098634719848633, 28.3245792388916, 71.48633575439453, 98.177978515625, 29.54277992248535, 37.39948654174805, 37.41812515258789, 39.820404052734375, 177.9958038330078, 115.69709014892578, 53.76347732543945, 45.67902374267578, 202.36288452148438, 153.24609375, 130.70860290527344, 2618.40771484375, 380.2762145996094, 540.2139892578125, 172.8078155517578, 291.513916015625, 275.3258361816406, 85.50199890136719, 174.577392578125, 181.1765899658203, 132.67686462402344, 208.1138458251953, 446.3955383300781, 331.2587585449219, 341.4558410644531, 514.78515625, 415.31866455078125, 459.7956237792969, 550.6643676757812, 415.8721618652344, 335.75634765625, 331.2010192871094, 427.4209899902344, 213.4419403076172, 629.8715209960938, 364.6593933105469, 280.9293212890625, 393.7740478515625, 468.77471923828125, 540.40869140625, 357.4924011230469, 440.5313720703125, 433.3511047363281, 413.9021911621094, 384.3559875488281, 416.5069580078125, 458.3263854980469, 376.2206115722656, 397.9070129394531, 394.1186828613281, 374.6197509765625, 92.33149719238281, 110.03597259521484, 29.045490264892578, 25.436315536499023, 28.875228881835938, 28.84685707092285, 25.354188919067383, 23.24507713317871, 14.615019798278809, 14.570244789123535, 38.78755569458008, 38.92509460449219, 31.899110794067383, 21.286691665649414, 31.700376510620117, 11.003764152526855, 11.678894996643066, 10.833836555480957, 18.259349822998047, 47.2646598815918, 5.801312446594238, 5.8001017570495605, 7.404262542724609, 12.397119522094727, 8.22842025756836, 13.86920166015625, 7.303061485290527, 28.7351016998291, 13.829055786132812, 152.29966735839844, 21.947364807128906, 293.5014343261719, 24.985212326049805, 490.3502502441406, 34.28285217285156, 148.2980194091797, 28.545015335083008, 259.66156005859375, 33.861488342285156, 135.0634002685547, 190.5191650390625, 52.1281852722168, 108.15874481201172, 94.79280853271484, 451.1333923339844, 305.62841796875, 408.12237548828125, 210.42518615722656, 3747.84228515625, 122.69522094726562, 77.36793518066406, 232.8526153564453, 372.0608215332031, 1187.776123046875, 1515.71533203125, 671.5872192382812, 347.6863098144531, 95.24372863769531, 992.7466430664062, 1181.68115234375, 164.5382537841797, 1596.8387451171875, 1293.038818359375, 266.36798095703125, 220.88719177246094, 1285.3863525390625, 484.56182861328125, 734.0387573242188, 465.5521545410156, 359.1802062988281, 326.367919921875, 259.9850158691406, 559.831787109375, 344.1048583984375, 326.1485290527344, 310.492431640625, 440.1668701171875, 415.884521484375, 432.5229187011719, 369.9997863769531, 484.50225830078125, 364.8524475097656, 322.6719665527344, 316.2835998535156, 48.04340744018555, 17.745901107788086, 17.45170783996582, 53.57136535644531, 15.335928916931152, 15.305895805358887, 15.208287239074707, 15.182398796081543, 74.18436431884766, 9.015932083129883, 10.605810165405273, 53.705814361572266, 8.929671287536621, 34.1757926940918, 25.13605308532715, 12.809810638427734, 27.45254135131836, 10.43261432647705, 9.563809394836426, 72.13870239257812, 24.579580307006836, 9.511319160461426, 16.637422561645508, 4.689971923828125, 8.674420356750488, 8.610410690307617, 16.499099731445312, 5.495488166809082, 28.268444061279297, 47.75124740600586, 19.493377685546875, 34.15394973754883, 23.13477325439453, 174.29327392578125, 111.31517791748047, 86.52252197265625, 19.97920799255371, 59.31975555419922, 34.46049499511719, 50.163963317871094, 379.7334289550781, 128.1916046142578, 30.08207130432129, 120.9845962524414, 61.67722702026367, 71.37747955322266, 42.366844177246094, 35.306331634521484, 60.1925163269043, 73.14053344726562, 81.66658782958984, 490.8708190917969, 162.3821563720703, 205.6564483642578, 159.36106872558594, 270.2402038574219, 1030.1624755859375, 71.37047576904297, 198.41122436523438, 113.16507720947266, 81.10985565185547, 683.2210083007812, 269.36395263671875, 274.6484069824219, 196.02427673339844, 228.86166381835938, 153.5023651123047, 167.6934356689453, 158.77447509765625, 247.39683532714844, 596.1647338867188, 167.10272216796875, 225.69244384765625, 245.45516967773438, 204.51065063476562, 289.6997375488281, 220.3681640625, 166.66539001464844, 197.5942840576172, 230.43450927734375, 209.47886657714844, 324.0818176269531, 203.62940979003906, 251.7523193359375, 276.18634033203125, 212.91867065429688, 280.61126708984375, 193.87692260742188, 255.2806396484375, 233.19125366210938, 234.3922119140625, 214.57078552246094, 205.36158752441406, 12.753655433654785, 30.41411781311035, 21.95244789123535, 40.29649353027344, 17.09630012512207, 50.08135986328125, 7.280442237854004, 97.63732147216797, 7.946566581726074, 7.96853494644165, 139.76991271972656, 10.21247386932373, 16.627317428588867, 12.647429466247559, 19.805070877075195, 16.549396514892578, 5.552374362945557, 18.994468688964844, 10.230270385742188, 14.999388694763184, 29.161884307861328, 5.523784637451172, 12.489072799682617, 28.930727005004883, 5.440831184387207, 14.877691268920898, 17.120479583740234, 17.12089729309082, 60.78830337524414, 35.68344497680664, 97.92689514160156, 65.75788879394531, 31.436847686767578, 19.439855575561523, 104.33565521240234, 29.899940490722656, 149.53948974609375, 30.640541076660156, 29.331682205200195, 38.04123306274414, 161.8199920654297, 836.0603637695312, 48.1349983215332, 56.336788177490234, 75.81670379638672, 89.3907241821289, 45.81927490234375, 346.30218505859375, 151.42071533203125, 67.72087860107422, 133.50338745117188, 156.3455047607422, 195.23936462402344, 90.5595474243164, 72.1251220703125, 154.96713256835938, 219.29270935058594, 134.4901580810547, 272.27606201171875, 865.1463012695312, 218.7261962890625, 74.80149841308594, 234.6165313720703, 190.01065063476562, 295.45501708984375, 743.37255859375, 355.2979431152344, 244.97799682617188, 149.61659240722656, 263.292236328125, 528.9887084960938, 181.52777099609375, 270.0036926269531, 512.9605712890625, 394.29876708984375, 390.4417724609375, 352.0332336425781, 239.6840057373047, 231.9880828857422, 295.6948547363281, 403.3519592285156, 203.79344177246094, 216.61087036132812, 210.66725158691406, 218.76406860351562, 231.63478088378906, 248.36207580566406, 249.30914306640625, 221.842529296875, 232.8035430908203, 228.2925262451172, 225.08172607421875, 17.290908813476562, 13.619610786437988, 11.085915565490723, 13.515573501586914, 24.376195907592773, 13.471179962158203, 16.334796905517578, 13.409564971923828, 8.550069808959961, 8.51922607421875, 9.959385871887207, 20.178586959838867, 16.249670028686523, 6.1514997482299805, 37.99810028076172, 6.14202880859375, 25.526838302612305, 6.118228435516357, 6.113746166229248, 16.72304344177246, 6.063355922698975, 5.3180365562438965, 6.054450988769531, 12.876358032226562, 6.795815944671631, 6.049238204956055, 15.815799713134766, 15.968198776245117, 21.87997817993164, 17.45924186706543, 24.02215576171875, 16.36646270751953, 17.866540908813477, 39.70681381225586, 39.42375946044922, 17.840368270874023, 43.35761260986328, 17.179048538208008, 17.77007293701172, 86.88163757324219, 45.716060638427734, 17.69267463684082, 132.81077575683594, 24.358442306518555, 54.38359069824219, 21.370044708251953, 42.5417366027832, 89.82264709472656, 169.22413635253906, 51.24308395385742, 202.79177856445312, 22.714176177978516, 381.81280517578125, 42.3414421081543, 55.39693832397461, 52.284751892089844, 227.1659698486328, 56.4526481628418, 31.87282943725586, 286.23577880859375, 145.5567626953125, 496.93408203125, 323.3446350097656, 391.0340270996094, 136.0016632080078, 52.450599670410156, 394.97320556640625, 132.6844940185547, 499.4146728515625, 457.3090515136719, 347.37738037109375, 283.3935852050781, 322.2515869140625, 325.4290771484375, 226.54660034179688, 161.3380126953125, 216.0648193359375, 173.47122192382812, 276.56585693359375, 180.8524627685547, 183.44700622558594, 123.16236877441406, 229.529052734375, 196.8065643310547, 256.6796875, 196.6114501953125, 220.94532775878906, 222.09536743164062, 186.2991485595703, 198.87310791015625, 173.7125701904297, 20.286937713623047, 16.08504867553711, 26.379497528076172, 12.83406925201416, 143.02362060546875, 71.77281951904297, 5.6070685386657715, 6.625678539276123, 13.938850402832031, 14.563304901123047, 15.22246265411377, 33.02710723876953, 11.244423866271973, 13.894287109375, 3.94944429397583, 19.02225685119629, 19.021203994750977, 8.505472183227539, 19.013893127441406, 14.982892990112305, 10.345233917236328, 10.374524116516113, 5.829207420349121, 49.30030059814453, 13.607645988464355, 10.987926483154297, 5.154527187347412, 14.888468742370605, 7.079794883728027, 9.638603210449219, 74.29930877685547, 56.9620475769043, 95.67481231689453, 16.495176315307617, 18.352863311767578, 15.991928100585938, 71.53670501708984, 53.459320068359375, 134.3675994873047, 47.237037658691406, 22.158748626708984, 34.014381408691406, 155.704833984375, 48.68059158325195, 120.1297607421875, 57.939979553222656, 151.75723266601562, 70.9499282836914, 97.28571319580078, 183.3179168701172, 26.23751449584961, 42.377994537353516, 124.33919525146484, 95.5573959350586, 584.7971801757812, 194.70286560058594, 289.22491455078125, 187.37986755371094, 326.0761413574219, 186.7800750732422, 283.4946594238281, 181.94894409179688, 162.96807861328125, 100.81575775146484, 509.4703063964844, 364.1139221191406, 384.57098388671875, 605.3592529296875, 601.0405883789062, 277.8988037109375, 412.0668640136719, 202.61073303222656, 522.806884765625, 393.5397644042969, 272.357666015625, 191.46778869628906, 267.31622314453125, 248.06190490722656, 221.97337341308594, 228.69662475585938, 232.55987548828125, 232.015625, 196.9826202392578, 187.73263549804688, 173.75869750976562, 135.01406860351562, 130.55934143066406, 15.634669303894043, 152.96141052246094, 7.328273773193359, 7.3335185050964355, 7.314722061157227, 7.319207668304443, 7.308575630187988, 6.577791690826416, 7.279163360595703, 7.270814418792725, 5.085638046264648, 6.781909465789795, 51.69338607788086, 9.107864379882812, 34.258941650390625, 20.226608276367188, 4.874029636383057, 6.964469909667969, 6.964379787445068, 4.842166900634766, 17.168794631958008, 4.797881603240967, 4.780705451965332, 28.399127960205078, 8.74382209777832, 21.75479507446289, 23.000490188598633, 8.687992095947266, 17.29569435119629, 19.903139114379883, 25.26648712158203, 24.011062622070312, 20.9950008392334, 136.5695037841797, 12.974553108215332, 16.40565299987793, 399.4723205566406, 44.73591995239258, 20.55567169189453, 166.49847412109375, 63.44694900512695, 66.4373779296875, 63.822757720947266, 13.981365203857422, 12.3809232711792, 14.502812385559082, 35.36018753051758, 117.50806427001953, 147.75839233398438, 70.2253646850586, 376.24993896484375, 40.63933181762695, 192.2959747314453, 34.265098571777344, 159.13357543945312, 113.62556457519531, 209.88209533691406, 79.2134017944336, 312.4297180175781, 257.3631896972656, 288.0680847167969, 81.58767700195312, 117.2613525390625, 159.21282958984375, 123.54856872558594, 273.9688720703125, 230.9781494140625, 220.6795196533203, 213.2922821044922, 131.860107421875, 253.6432647705078, 227.26292419433594, 169.6746063232422, 129.38247680664062, 147.03334045410156, 159.41664123535156, 179.82940673828125, 135.7727813720703, 146.25338745117188, 131.99246215820312, 137.11009216308594, 140.00015258789062, 142.9568328857422, 133.4057159423828], \"Total\": [8787.0, 3489.0, 5898.0, 11436.0, 7895.0, 7493.0, 4826.0, 4516.0, 1719.0, 4041.0, 3113.0, 6051.0, 5357.0, 5070.0, 6160.0, 872.0, 2482.0, 1857.0, 1464.0, 1845.0, 2506.0, 2394.0, 3508.0, 3325.0, 1183.0, 1470.0, 624.0, 2142.0, 642.0, 4993.0, 27.81407928466797, 27.726524353027344, 27.75497817993164, 23.317270278930664, 23.329185485839844, 23.315065383911133, 14.382022857666016, 27.5764102935791, 38.82614517211914, 14.336153030395508, 75.59507751464844, 14.330690383911133, 39.737735748291016, 29.839611053466797, 24.325668334960938, 14.307329177856445, 41.87117385864258, 32.13918685913086, 14.294977188110352, 64.2322006225586, 118.8518295288086, 16.498931884765625, 14.270878791809082, 28.60822296142578, 24.21472930908203, 14.274678230285645, 16.443408966064453, 14.25781536102295, 165.7283477783203, 9.872031211853027, 201.72743225097656, 190.64662170410156, 215.43927001953125, 288.62628173828125, 95.83430480957031, 153.95632934570312, 156.5993194580078, 130.78829956054688, 247.92481994628906, 81.41873931884766, 390.9294128417969, 1581.67431640625, 987.8159790039062, 366.3768005371094, 191.0550079345703, 254.71951293945312, 132.85946655273438, 6051.21044921875, 1536.7413330078125, 281.74139404296875, 236.2067108154297, 6160.73291015625, 642.4843139648438, 858.4400024414062, 284.8392639160156, 258.6416931152344, 1245.3770751953125, 477.022705078125, 604.7886962890625, 793.062744140625, 359.8996276855469, 1597.8291015625, 2133.06640625, 1393.34765625, 2110.92578125, 422.6066589355469, 686.9393310546875, 1324.8740234375, 854.2848510742188, 601.9490966796875, 4317.4208984375, 604.881591796875, 1920.0302734375, 11436.7255859375, 1219.0936279296875, 1192.421875, 3672.95947265625, 760.974853515625, 839.0987548828125, 1825.7041015625, 2188.945068359375, 3696.9951171875, 1967.438720703125, 5357.34228515625, 2793.25, 2469.6259765625, 4993.45458984375, 4447.0302734375, 1874.634765625, 1295.205322265625, 2162.2421875, 4164.27587890625, 4951.70361328125, 3855.434326171875, 2499.3720703125, 3094.687744140625, 26.53843116760254, 35.9056510925293, 25.389188766479492, 26.473466873168945, 20.12579345703125, 18.97589874267578, 13.785745620727539, 35.954750061035156, 131.5164337158203, 31.612903594970703, 60.141998291015625, 17.91592788696289, 14.780441284179688, 147.97991943359375, 40.0640983581543, 9.492451667785645, 10.54428768157959, 13.644272804260254, 13.714351654052734, 9.492289543151855, 65.51365661621094, 9.475564956665039, 13.641694068908691, 9.471258163452148, 15.785391807556152, 10.530426979064941, 15.704697608947754, 11.623549461364746, 10.572161674499512, 10.56661319732666, 43.13727951049805, 24.11324119567871, 66.03655242919922, 114.87364196777344, 74.48810577392578, 35.581031799316406, 99.04402923583984, 46.32358169555664, 277.58685302734375, 102.85079956054688, 62.94187927246094, 58.586639404296875, 25.152803421020508, 75.18254852294922, 314.6062316894531, 101.06546783447266, 140.3638916015625, 4041.5908203125, 169.48251342773438, 2506.30224609375, 304.54669189453125, 230.9983367919922, 1365.632568359375, 1777.7685546875, 1320.5565185546875, 2124.18994140625, 514.7899780273438, 3068.133544921875, 5070.6337890625, 465.9127502441406, 219.45558166503906, 2394.641357421875, 882.73388671875, 7493.21142578125, 7895.25927734375, 4164.27587890625, 1546.2178955078125, 3173.889892578125, 2859.279052734375, 627.7797241210938, 3325.525634765625, 8787.298828125, 2340.02490234375, 531.9283447265625, 2579.267578125, 3508.28759765625, 2140.7392578125, 2265.80126953125, 3094.687744140625, 1237.2362060546875, 1774.6187744140625, 1197.564208984375, 1282.901611328125, 1651.1243896484375, 1250.52783203125, 4826.99658203125, 3863.407958984375, 4951.70361328125, 3696.9951171875, 11436.7255859375, 2520.5390625, 5898.91064453125, 41.117977142333984, 149.60488891601562, 31.881866455078125, 14.975395202636719, 16.874094009399414, 13.129124641418457, 14.94027328491211, 101.65045166015625, 40.55208969116211, 64.77053833007812, 8.421468734741211, 61.92001724243164, 78.0310287475586, 25.385345458984375, 32.075504302978516, 74.22537231445312, 156.0113525390625, 62.93336486816406, 59.114627838134766, 37.715087890625, 59.083797454833984, 59.11835479736328, 59.168033599853516, 59.219329833984375, 59.110572814941406, 78.05023956298828, 68.75047302246094, 61.94950485229492, 68.62415313720703, 62.0216064453125, 236.65283203125, 167.0819854736328, 397.9593505859375, 117.30914306640625, 74.30085754394531, 249.3732147216797, 300.32330322265625, 209.5537109375, 189.49191284179688, 299.71234130859375, 124.27423095703125, 350.1386413574219, 72.42320251464844, 113.37945556640625, 3489.22021484375, 565.0396118164062, 714.4426879882812, 1464.3165283203125, 197.5442352294922, 227.68321228027344, 251.97195434570312, 157.1880645751953, 470.8818359375, 752.4421997070312, 146.41763305664062, 134.09768676757812, 5898.91064453125, 902.9760131835938, 1371.6873779296875, 838.5172119140625, 4516.31591796875, 1256.47900390625, 2148.741943359375, 2146.964111328125, 393.7098693847656, 369.786865234375, 2667.080322265625, 454.635986328125, 7895.25927734375, 3508.28759765625, 4826.99658203125, 1621.74951171875, 4951.70361328125, 7493.21142578125, 4993.45458984375, 778.8714599609375, 2265.80126953125, 5070.6337890625, 3855.434326171875, 4447.0302734375, 3863.407958984375, 4164.27587890625, 1053.751708984375, 1856.726806640625, 8787.298828125, 3325.525634765625, 25.173967361450195, 11.611095428466797, 15.404273986816406, 43.68907928466797, 14.57360553741455, 20.349960327148438, 15.483920097351074, 10.164444923400879, 12.627237319946289, 23.120147705078125, 16.467926025390625, 66.28993225097656, 18.31191635131836, 5.790436267852783, 6.753292083740234, 9.350725173950195, 28.12261962890625, 20.36774253845215, 9.667256355285645, 8.679645538330078, 10.675524711608887, 12.54872989654541, 16.4821834564209, 23.308435440063477, 6.755335330963135, 6.745058059692383, 6.755416393280029, 16.420433044433594, 6.754948616027832, 35.841793060302734, 98.99820709228516, 12.568656921386719, 255.85958862304688, 263.8226623535156, 105.6101303100586, 22.426807403564453, 31.85329246520996, 16.425567626953125, 101.11582946777344, 100.64974975585938, 64.90943145751953, 35.89483642578125, 589.0650634765625, 71.33072662353516, 43.24757385253906, 34.35626983642578, 23.29030418395996, 35.75654983520508, 99.05079650878906, 141.4627227783203, 37.83330154418945, 49.54694747924805, 49.65657424926758, 53.82206726074219, 300.9682922363281, 183.90716552734375, 76.20121002197266, 63.20249938964844, 385.95794677734375, 283.8444519042969, 236.2039337158203, 11436.7255859375, 1017.9179077148438, 1627.682373046875, 389.3907775878906, 843.375244140625, 785.5945434570312, 161.17481994628906, 459.1376953125, 490.650634765625, 313.4020080566406, 650.38916015625, 2142.457275390625, 1345.552001953125, 1439.642333984375, 2793.25, 2082.7783203125, 2499.3720703125, 3508.28759765625, 2175.892578125, 1528.1234130859375, 1627.1981201171875, 2859.279052734375, 707.5679321289062, 7895.25927734375, 2520.5390625, 1401.529052734375, 3173.889892578125, 4951.70361328125, 7493.21142578125, 2647.493896484375, 4993.45458984375, 4826.99658203125, 4447.0302734375, 3863.407958984375, 5070.6337890625, 8787.298828125, 3672.95947265625, 5357.34228515625, 6160.73291015625, 4516.31591796875, 99.11953735351562, 118.71598052978516, 31.473304748535156, 27.602420806884766, 31.441944122314453, 31.43304443359375, 27.63452911376953, 25.46026039123535, 16.063045501708984, 16.0540771484375, 42.827144622802734, 42.999019622802734, 35.32535171508789, 23.65947151184082, 35.28229904174805, 12.387256622314453, 13.358080863952637, 12.392973899841309, 20.923044204711914, 54.22127914428711, 6.6577839851379395, 6.657100200653076, 8.51038932800293, 14.306818008422852, 9.536325454711914, 16.09037971496582, 8.490742683410645, 33.45424270629883, 16.10599136352539, 177.58555603027344, 25.65410041809082, 356.65362548828125, 29.481412887573242, 624.879150390625, 40.95553207397461, 187.7327880859375, 34.115230560302734, 347.8981018066406, 40.94057083129883, 177.1117401123047, 255.6658935546875, 64.80721282958984, 142.2822265625, 123.52436828613281, 665.0380859375, 436.0993957519531, 626.9610595703125, 316.03021240234375, 8787.298828125, 174.6285400390625, 103.3792724609375, 371.59423828125, 710.7476196289062, 3113.933837890625, 4826.99658203125, 1845.0614013671875, 805.9296264648438, 147.64859008789062, 3489.22021484375, 4516.31591796875, 320.2624206542969, 7895.25927734375, 5898.91064453125, 644.2036743164062, 494.2156982421875, 7493.21142578125, 1707.212646484375, 3855.434326171875, 1882.6793212890625, 1244.3914794921875, 1039.28857421875, 812.1856079101562, 5070.6337890625, 1585.3150634765625, 1421.99853515625, 1308.205322265625, 3863.407958984375, 3508.28759765625, 4041.5908203125, 2394.641357421875, 11436.7255859375, 3325.525634765625, 1810.3756103515625, 2142.457275390625, 51.99995803833008, 19.24249267578125, 19.26679229736328, 59.48543167114258, 17.197052001953125, 17.20274543762207, 17.206668853759766, 17.19049835205078, 84.08090209960938, 10.488587379455566, 12.469189643859863, 63.363563537597656, 10.544661521911621, 40.36206817626953, 29.72329330444336, 15.287193298339844, 32.78892517089844, 12.476384162902832, 11.506670951843262, 87.17854309082031, 29.705528259277344, 11.508167266845703, 20.155866622924805, 5.699828147888184, 10.543797492980957, 10.49050521850586, 20.107240676879883, 6.699487209320068, 34.46677017211914, 58.383419036865234, 23.888591766357422, 42.123374938964844, 28.6674861907959, 226.69482421875, 145.0991973876953, 114.83267974853516, 24.895092010498047, 80.25042724609375, 45.25597381591797, 68.66069793701172, 642.1114501953125, 197.02540588378906, 39.239742279052734, 189.6955108642578, 89.16605377197266, 107.83712768554688, 58.928951263427734, 47.438743591308594, 93.31068420410156, 122.81263732910156, 142.29080200195312, 1632.669921875, 385.0329895019531, 557.474609375, 401.8617858886719, 866.216796875, 5898.91064453125, 130.73191833496094, 624.9912719726562, 270.83056640625, 164.98135375976562, 4951.70361328125, 1129.4921875, 1257.6898193359375, 724.0706787109375, 992.634765625, 488.8786315917969, 591.8025512695312, 536.324462890625, 1272.258544921875, 7493.21142578125, 605.8497314453125, 1126.4871826171875, 1421.1563720703125, 999.6336669921875, 2201.669189453125, 1267.900146484375, 665.86865234375, 1039.28857421875, 1558.679443359375, 1233.13427734375, 4993.45458984375, 1256.47900390625, 2796.38037109375, 4317.4208984375, 1562.8165283203125, 11436.7255859375, 1345.6942138671875, 7895.25927734375, 5070.6337890625, 8787.298828125, 3863.407958984375, 3855.434326171875, 14.033766746520996, 33.51997375488281, 24.20612335205078, 45.62550354003906, 19.544469833374023, 57.48020553588867, 8.362796783447266, 112.91358947753906, 9.288677215576172, 9.318683624267578, 163.65524291992188, 11.961409568786621, 19.532012939453125, 14.858100891113281, 23.269887924194336, 19.48931884765625, 6.542760848999023, 22.463058471679688, 12.098685264587402, 17.745019912719727, 34.557273864746094, 6.548146724700928, 14.847084045410156, 34.43601608276367, 6.483879089355469, 17.735469818115234, 20.436399459838867, 20.474720001220703, 72.70526123046875, 42.71174621582031, 118.95350646972656, 79.62916564941406, 38.099124908447266, 23.342174530029297, 132.93402099609375, 37.22389221191406, 203.18251037597656, 38.22195053100586, 37.10060501098633, 49.70651626586914, 244.86073303222656, 1719.521240234375, 68.26403045654297, 83.80908203125, 121.86333465576172, 149.43983459472656, 67.10555267333984, 818.2586059570312, 294.98577880859375, 110.01808166503906, 267.8751220703125, 328.92779541015625, 465.059326171875, 174.99951171875, 129.86192321777344, 398.739501953125, 669.1924438476562, 326.1364440917969, 942.1165771484375, 5357.34228515625, 703.4036865234375, 142.8009490966797, 958.2061157226562, 691.5647583007812, 1470.6865234375, 7493.21142578125, 2142.457275390625, 1144.4814453125, 482.0918884277344, 1480.8387451171875, 7895.25927734375, 796.277099609375, 1961.8367919921875, 8787.298828125, 4993.45458984375, 5070.6337890625, 4826.99658203125, 1645.519287109375, 1558.679443359375, 3508.28759765625, 11436.7255859375, 1244.3914794921875, 1791.7847900390625, 1551.9637451171875, 1924.396484375, 2667.080322265625, 4516.31591796875, 4951.70361328125, 2520.5390625, 4041.5908203125, 3863.407958984375, 3325.525634765625, 19.07423210144043, 15.548728942871094, 12.70234203338623, 15.568359375, 28.153423309326172, 15.574053764343262, 18.964468002319336, 15.587257385253906, 9.976554870605469, 9.976808547973633, 11.675480842590332, 23.728328704833984, 19.14352798461914, 7.252837181091309, 44.90833282470703, 7.2675042152404785, 30.269088745117188, 7.266705513000488, 7.265189170837402, 19.97378921508789, 7.266308784484863, 6.378489971160889, 7.26870059967041, 15.461350440979004, 8.162738800048828, 7.26837158203125, 19.03404426574707, 19.21780014038086, 26.34265899658203, 21.02654457092285, 29.425844192504883, 19.992481231689453, 21.878814697265625, 49.44758605957031, 49.18476867675781, 21.882034301757812, 55.33236312866211, 21.15960121154785, 21.963518142700195, 117.49275207519531, 60.90892791748047, 21.897811889648438, 204.30226135253906, 31.437559127807617, 82.69042205810547, 27.42177391052246, 63.87894821166992, 163.84080505371094, 374.7906188964844, 84.48762512207031, 510.905517578125, 30.24480628967285, 1183.5333251953125, 67.94678497314453, 98.52234649658203, 91.90992736816406, 872.72314453125, 117.71875762939453, 51.86522674560547, 1443.3232421875, 519.6505737304688, 4041.5908203125, 2394.641357421875, 3325.525634765625, 579.788330078125, 120.45545196533203, 4447.0302734375, 650.0460815429688, 8787.298828125, 7895.25927734375, 5070.6337890625, 3696.9951171875, 4993.45458984375, 5357.34228515625, 2667.080322265625, 1250.52783203125, 2647.493896484375, 1592.8515625, 4951.70361328125, 1791.7847900390625, 1924.396484375, 734.268310546875, 3672.95947265625, 2506.30224609375, 5898.91064453125, 2579.267578125, 4164.27587890625, 7493.21142578125, 3863.407958984375, 11436.7255859375, 3173.889892578125, 22.095247268676758, 18.22796630859375, 30.337657928466797, 15.231894493103027, 170.37490844726562, 85.81292724609375, 6.775332450866699, 8.03012752532959, 16.915725708007812, 17.69361114501953, 18.509084701538086, 40.2417106628418, 13.714271545410156, 16.956993103027344, 4.821020126342773, 23.24677276611328, 23.2459774017334, 10.41687297821045, 23.358413696289062, 18.597816467285156, 12.844783782958984, 12.919109344482422, 7.269506454467773, 61.5635871887207, 16.9991455078125, 13.733926773071289, 6.4444379806518555, 18.61496353149414, 8.882885932922363, 12.1384859085083, 93.84163665771484, 72.38329315185547, 122.50196075439453, 20.98542594909668, 23.452058792114258, 20.348655700683594, 101.18014526367188, 74.84053802490234, 206.8483428955078, 66.72843170166016, 29.54391098022461, 47.71291732788086, 294.14971923828125, 76.45399475097656, 225.2335205078125, 94.4245834350586, 301.751708984375, 123.61051940917969, 184.2252197265625, 418.43853759765625, 37.275054931640625, 69.4482192993164, 282.3833312988281, 200.81138610839844, 2482.025146484375, 558.6304931640625, 1144.4814453125, 648.13818359375, 1470.6865234375, 694.0068969726562, 1358.98046875, 677.1803588867188, 584.858642578125, 281.18023681640625, 4826.99658203125, 2796.38037109375, 3113.933837890625, 7493.21142578125, 7895.25927734375, 1845.0614013671875, 4516.31591796875, 1253.0240478515625, 11436.7255859375, 8787.298828125, 3863.407958984375, 1421.99853515625, 5070.6337890625, 5357.34228515625, 3508.28759765625, 4447.0302734375, 4993.45458984375, 4951.70361328125, 3068.133544921875, 2469.6259765625, 2146.964111328125, 153.23251342773438, 148.210205078125, 17.809158325195312, 174.60470581054688, 8.484020233154297, 8.493176460266113, 8.485763549804688, 8.491565704345703, 8.489202499389648, 7.642596244812012, 8.493267059326172, 8.495294570922852, 5.953767776489258, 8.029430389404297, 62.14360427856445, 11.092962265014648, 41.79851150512695, 24.824987411499023, 5.982128620147705, 8.56148624420166, 8.565163612365723, 5.991584777832031, 21.330005645751953, 5.975113868713379, 5.999979019165039, 35.97270202636719, 11.112253189086914, 27.690902709960938, 29.317529678344727, 11.118072509765625, 22.392826080322266, 25.92162322998047, 33.744163513183594, 32.238670349121094, 28.89868927001953, 231.89736938476562, 17.182819366455078, 22.642581939697266, 872.4323120117188, 75.07910919189453, 29.836708068847656, 389.4348449707031, 122.43588256835938, 129.905029296875, 124.70375061035156, 19.01975440979004, 16.4641056060791, 20.219585418701172, 63.50019073486328, 311.5308532714844, 449.1326599121094, 176.23959350585938, 1857.155517578125, 84.07827758789062, 905.5723266601562, 67.23081970214844, 978.232177734375, 569.7517700195312, 1719.521240234375, 342.57415771484375, 6051.21044921875, 4317.4208984375, 6160.73291015625, 423.3445129394531, 948.9168701171875, 1920.0302734375, 1162.742919921875, 7895.25927734375, 5357.34228515625, 4993.45458984375, 5070.6337890625, 1536.7413330078125, 11436.7255859375, 8787.298828125, 3696.9951171875, 1511.3150634765625, 2469.6259765625, 3855.434326171875, 7493.21142578125, 2162.2421875, 4164.27587890625, 1833.543212890625, 2796.38037109375, 3672.95947265625, 4951.70361328125, 3094.687744140625], \"Category\": [\"Default\", \"Default\", \"Default\", \"Default\", \"Default\", \"Default\", \"Default\", \"Default\", \"Default\", \"Default\", \"Default\", \"Default\", \"Default\", \"Default\", \"Default\", \"Default\", \"Default\", \"Default\", \"Default\", \"Default\", \"Default\", \"Default\", \"Default\", \"Default\", \"Default\", \"Default\", \"Default\", \"Default\", \"Default\", \"Default\", \"Topic1\", \"Topic1\", \"Topic1\", \"Topic1\", \"Topic1\", \"Topic1\", \"Topic1\", \"Topic1\", \"Topic1\", \"Topic1\", \"Topic1\", \"Topic1\", \"Topic1\", \"Topic1\", \"Topic1\", \"Topic1\", \"Topic1\", \"Topic1\", \"Topic1\", \"Topic1\", \"Topic1\", \"Topic1\", \"Topic1\", \"Topic1\", \"Topic1\", \"Topic1\", \"Topic1\", \"Topic1\", \"Topic1\", \"Topic1\", \"Topic1\", \"Topic1\", \"Topic1\", \"Topic1\", \"Topic1\", \"Topic1\", \"Topic1\", \"Topic1\", \"Topic1\", \"Topic1\", \"Topic1\", \"Topic1\", \"Topic1\", \"Topic1\", \"Topic1\", \"Topic1\", \"Topic1\", \"Topic1\", \"Topic1\", \"Topic1\", \"Topic1\", \"Topic1\", \"Topic1\", \"Topic1\", \"Topic1\", \"Topic1\", \"Topic1\", \"Topic1\", \"Topic1\", \"Topic1\", \"Topic1\", \"Topic1\", \"Topic1\", \"Topic1\", \"Topic1\", \"Topic1\", \"Topic1\", \"Topic1\", \"Topic1\", \"Topic1\", \"Topic1\", \"Topic1\", \"Topic1\", \"Topic1\", \"Topic1\", \"Topic1\", \"Topic1\", \"Topic1\", \"Topic1\", \"Topic1\", \"Topic1\", \"Topic1\", \"Topic1\", \"Topic1\", \"Topic1\", \"Topic1\", \"Topic1\", \"Topic1\", \"Topic1\", \"Topic1\", \"Topic1\", \"Topic1\", \"Topic1\", \"Topic1\", \"Topic1\", \"Topic1\", \"Topic2\", \"Topic2\", \"Topic2\", \"Topic2\", \"Topic2\", \"Topic2\", \"Topic2\", \"Topic2\", \"Topic2\", \"Topic2\", \"Topic2\", \"Topic2\", \"Topic2\", \"Topic2\", \"Topic2\", \"Topic2\", \"Topic2\", \"Topic2\", \"Topic2\", \"Topic2\", \"Topic2\", \"Topic2\", \"Topic2\", \"Topic2\", \"Topic2\", \"Topic2\", \"Topic2\", \"Topic2\", \"Topic2\", \"Topic2\", \"Topic2\", \"Topic2\", \"Topic2\", \"Topic2\", \"Topic2\", \"Topic2\", \"Topic2\", \"Topic2\", \"Topic2\", \"Topic2\", \"Topic2\", \"Topic2\", \"Topic2\", \"Topic2\", \"Topic2\", \"Topic2\", \"Topic2\", \"Topic2\", \"Topic2\", \"Topic2\", \"Topic2\", \"Topic2\", \"Topic2\", \"Topic2\", \"Topic2\", \"Topic2\", \"Topic2\", \"Topic2\", \"Topic2\", \"Topic2\", \"Topic2\", \"Topic2\", \"Topic2\", \"Topic2\", \"Topic2\", \"Topic2\", \"Topic2\", \"Topic2\", \"Topic2\", \"Topic2\", \"Topic2\", \"Topic2\", \"Topic2\", \"Topic2\", \"Topic2\", \"Topic2\", \"Topic2\", \"Topic2\", \"Topic2\", \"Topic2\", \"Topic2\", \"Topic2\", \"Topic2\", \"Topic2\", \"Topic2\", \"Topic2\", \"Topic2\", \"Topic2\", \"Topic2\", \"Topic2\", \"Topic2\", \"Topic2\", \"Topic3\", \"Topic3\", \"Topic3\", \"Topic3\", \"Topic3\", \"Topic3\", \"Topic3\", \"Topic3\", \"Topic3\", \"Topic3\", \"Topic3\", \"Topic3\", \"Topic3\", \"Topic3\", \"Topic3\", \"Topic3\", \"Topic3\", \"Topic3\", \"Topic3\", \"Topic3\", \"Topic3\", \"Topic3\", \"Topic3\", \"Topic3\", \"Topic3\", \"Topic3\", \"Topic3\", \"Topic3\", \"Topic3\", \"Topic3\", \"Topic3\", \"Topic3\", \"Topic3\", \"Topic3\", \"Topic3\", \"Topic3\", \"Topic3\", \"Topic3\", \"Topic3\", \"Topic3\", \"Topic3\", \"Topic3\", \"Topic3\", \"Topic3\", \"Topic3\", \"Topic3\", \"Topic3\", \"Topic3\", \"Topic3\", \"Topic3\", \"Topic3\", \"Topic3\", \"Topic3\", \"Topic3\", \"Topic3\", \"Topic3\", \"Topic3\", \"Topic3\", \"Topic3\", \"Topic3\", \"Topic3\", \"Topic3\", \"Topic3\", \"Topic3\", \"Topic3\", \"Topic3\", \"Topic3\", \"Topic3\", \"Topic3\", \"Topic3\", \"Topic3\", \"Topic3\", \"Topic3\", \"Topic3\", \"Topic3\", \"Topic3\", \"Topic3\", \"Topic3\", \"Topic3\", \"Topic3\", \"Topic3\", \"Topic3\", \"Topic3\", \"Topic3\", \"Topic3\", \"Topic3\", \"Topic4\", \"Topic4\", \"Topic4\", \"Topic4\", \"Topic4\", \"Topic4\", \"Topic4\", \"Topic4\", \"Topic4\", \"Topic4\", \"Topic4\", \"Topic4\", \"Topic4\", \"Topic4\", \"Topic4\", \"Topic4\", \"Topic4\", \"Topic4\", \"Topic4\", \"Topic4\", \"Topic4\", \"Topic4\", \"Topic4\", \"Topic4\", \"Topic4\", \"Topic4\", \"Topic4\", \"Topic4\", \"Topic4\", \"Topic4\", \"Topic4\", \"Topic4\", \"Topic4\", \"Topic4\", \"Topic4\", \"Topic4\", \"Topic4\", \"Topic4\", \"Topic4\", \"Topic4\", \"Topic4\", \"Topic4\", \"Topic4\", \"Topic4\", \"Topic4\", \"Topic4\", \"Topic4\", \"Topic4\", \"Topic4\", \"Topic4\", \"Topic4\", \"Topic4\", \"Topic4\", \"Topic4\", \"Topic4\", \"Topic4\", \"Topic4\", \"Topic4\", \"Topic4\", \"Topic4\", \"Topic4\", \"Topic4\", \"Topic4\", \"Topic4\", \"Topic4\", \"Topic4\", \"Topic4\", \"Topic4\", \"Topic4\", \"Topic4\", \"Topic4\", \"Topic4\", \"Topic4\", \"Topic4\", \"Topic4\", \"Topic4\", \"Topic4\", \"Topic4\", \"Topic4\", \"Topic4\", \"Topic4\", \"Topic4\", \"Topic4\", \"Topic4\", \"Topic4\", \"Topic4\", \"Topic4\", \"Topic4\", \"Topic4\", \"Topic4\", \"Topic4\", \"Topic4\", \"Topic4\", \"Topic4\", \"Topic4\", \"Topic4\", \"Topic4\", \"Topic4\", \"Topic4\", \"Topic4\", \"Topic4\", \"Topic5\", \"Topic5\", \"Topic5\", \"Topic5\", \"Topic5\", \"Topic5\", \"Topic5\", \"Topic5\", \"Topic5\", \"Topic5\", \"Topic5\", \"Topic5\", \"Topic5\", \"Topic5\", \"Topic5\", \"Topic5\", \"Topic5\", \"Topic5\", \"Topic5\", \"Topic5\", \"Topic5\", \"Topic5\", \"Topic5\", \"Topic5\", \"Topic5\", \"Topic5\", \"Topic5\", \"Topic5\", \"Topic5\", \"Topic5\", \"Topic5\", \"Topic5\", \"Topic5\", \"Topic5\", \"Topic5\", \"Topic5\", \"Topic5\", \"Topic5\", \"Topic5\", \"Topic5\", \"Topic5\", \"Topic5\", \"Topic5\", \"Topic5\", \"Topic5\", \"Topic5\", \"Topic5\", \"Topic5\", \"Topic5\", \"Topic5\", \"Topic5\", \"Topic5\", \"Topic5\", \"Topic5\", \"Topic5\", \"Topic5\", \"Topic5\", \"Topic5\", \"Topic5\", \"Topic5\", \"Topic5\", \"Topic5\", \"Topic5\", \"Topic5\", \"Topic5\", \"Topic5\", \"Topic5\", \"Topic5\", \"Topic5\", \"Topic5\", \"Topic5\", \"Topic5\", \"Topic5\", \"Topic5\", \"Topic5\", \"Topic5\", \"Topic5\", \"Topic5\", \"Topic5\", \"Topic5\", \"Topic5\", \"Topic5\", \"Topic5\", \"Topic5\", \"Topic6\", \"Topic6\", \"Topic6\", \"Topic6\", \"Topic6\", \"Topic6\", \"Topic6\", \"Topic6\", \"Topic6\", \"Topic6\", \"Topic6\", \"Topic6\", \"Topic6\", \"Topic6\", \"Topic6\", \"Topic6\", \"Topic6\", \"Topic6\", \"Topic6\", \"Topic6\", \"Topic6\", \"Topic6\", \"Topic6\", \"Topic6\", \"Topic6\", \"Topic6\", \"Topic6\", \"Topic6\", \"Topic6\", \"Topic6\", \"Topic6\", \"Topic6\", \"Topic6\", \"Topic6\", \"Topic6\", \"Topic6\", \"Topic6\", \"Topic6\", \"Topic6\", \"Topic6\", \"Topic6\", \"Topic6\", \"Topic6\", \"Topic6\", \"Topic6\", \"Topic6\", \"Topic6\", \"Topic6\", \"Topic6\", \"Topic6\", \"Topic6\", \"Topic6\", \"Topic6\", \"Topic6\", \"Topic6\", \"Topic6\", \"Topic6\", \"Topic6\", \"Topic6\", \"Topic6\", \"Topic6\", \"Topic6\", \"Topic6\", \"Topic6\", \"Topic6\", \"Topic6\", \"Topic6\", \"Topic6\", \"Topic6\", \"Topic6\", \"Topic6\", \"Topic6\", \"Topic6\", \"Topic6\", \"Topic6\", \"Topic6\", \"Topic6\", \"Topic6\", \"Topic6\", \"Topic6\", \"Topic6\", \"Topic6\", \"Topic6\", \"Topic6\", \"Topic6\", \"Topic6\", \"Topic6\", \"Topic6\", \"Topic6\", \"Topic6\", \"Topic6\", \"Topic6\", \"Topic6\", \"Topic7\", \"Topic7\", \"Topic7\", \"Topic7\", \"Topic7\", \"Topic7\", \"Topic7\", \"Topic7\", \"Topic7\", \"Topic7\", \"Topic7\", \"Topic7\", \"Topic7\", \"Topic7\", \"Topic7\", \"Topic7\", \"Topic7\", \"Topic7\", \"Topic7\", \"Topic7\", \"Topic7\", \"Topic7\", \"Topic7\", \"Topic7\", \"Topic7\", \"Topic7\", \"Topic7\", \"Topic7\", \"Topic7\", \"Topic7\", \"Topic7\", \"Topic7\", \"Topic7\", \"Topic7\", \"Topic7\", \"Topic7\", \"Topic7\", \"Topic7\", \"Topic7\", \"Topic7\", \"Topic7\", \"Topic7\", \"Topic7\", \"Topic7\", \"Topic7\", \"Topic7\", \"Topic7\", \"Topic7\", \"Topic7\", \"Topic7\", \"Topic7\", \"Topic7\", \"Topic7\", \"Topic7\", \"Topic7\", \"Topic7\", \"Topic7\", \"Topic7\", \"Topic7\", \"Topic7\", \"Topic7\", \"Topic7\", \"Topic7\", \"Topic7\", \"Topic7\", \"Topic7\", \"Topic7\", \"Topic7\", \"Topic7\", \"Topic7\", \"Topic7\", \"Topic7\", \"Topic7\", \"Topic7\", \"Topic7\", \"Topic7\", \"Topic7\", \"Topic7\", \"Topic7\", \"Topic7\", \"Topic7\", \"Topic7\", \"Topic7\", \"Topic7\", \"Topic7\", \"Topic7\", \"Topic7\", \"Topic7\", \"Topic7\", \"Topic7\", \"Topic7\", \"Topic7\", \"Topic8\", \"Topic8\", \"Topic8\", \"Topic8\", \"Topic8\", \"Topic8\", \"Topic8\", \"Topic8\", \"Topic8\", \"Topic8\", \"Topic8\", \"Topic8\", \"Topic8\", \"Topic8\", \"Topic8\", \"Topic8\", \"Topic8\", \"Topic8\", \"Topic8\", \"Topic8\", \"Topic8\", \"Topic8\", \"Topic8\", \"Topic8\", \"Topic8\", \"Topic8\", \"Topic8\", \"Topic8\", \"Topic8\", \"Topic8\", \"Topic8\", \"Topic8\", \"Topic8\", \"Topic8\", \"Topic8\", \"Topic8\", \"Topic8\", \"Topic8\", \"Topic8\", \"Topic8\", \"Topic8\", \"Topic8\", \"Topic8\", \"Topic8\", \"Topic8\", \"Topic8\", \"Topic8\", \"Topic8\", \"Topic8\", \"Topic8\", \"Topic8\", \"Topic8\", \"Topic8\", \"Topic8\", \"Topic8\", \"Topic8\", \"Topic8\", \"Topic8\", \"Topic8\", \"Topic8\", \"Topic8\", \"Topic8\", \"Topic8\", \"Topic8\", \"Topic8\", \"Topic8\", \"Topic8\", \"Topic8\", \"Topic8\", \"Topic8\", \"Topic8\", \"Topic8\", \"Topic8\", \"Topic8\", \"Topic8\", \"Topic8\", \"Topic8\", \"Topic8\", \"Topic8\", \"Topic8\", \"Topic8\", \"Topic8\", \"Topic8\", \"Topic8\", \"Topic8\", \"Topic8\", \"Topic8\", \"Topic8\", \"Topic8\", \"Topic8\", \"Topic8\", \"Topic9\", \"Topic9\", \"Topic9\", \"Topic9\", \"Topic9\", \"Topic9\", \"Topic9\", \"Topic9\", \"Topic9\", \"Topic9\", \"Topic9\", \"Topic9\", \"Topic9\", \"Topic9\", \"Topic9\", \"Topic9\", \"Topic9\", \"Topic9\", \"Topic9\", \"Topic9\", \"Topic9\", \"Topic9\", \"Topic9\", \"Topic9\", \"Topic9\", \"Topic9\", \"Topic9\", \"Topic9\", \"Topic9\", \"Topic9\", \"Topic9\", \"Topic9\", \"Topic9\", \"Topic9\", \"Topic9\", \"Topic9\", \"Topic9\", \"Topic9\", \"Topic9\", \"Topic9\", \"Topic9\", \"Topic9\", \"Topic9\", \"Topic9\", \"Topic9\", \"Topic9\", \"Topic9\", \"Topic9\", \"Topic9\", \"Topic9\", \"Topic9\", \"Topic9\", \"Topic9\", \"Topic9\", \"Topic9\", \"Topic9\", \"Topic9\", \"Topic9\", \"Topic9\", \"Topic9\", \"Topic9\", \"Topic9\", \"Topic9\", \"Topic9\", \"Topic9\", \"Topic9\", \"Topic9\", \"Topic9\", \"Topic9\", \"Topic9\", \"Topic9\", \"Topic9\", \"Topic9\", \"Topic9\", \"Topic9\", \"Topic9\", \"Topic9\", \"Topic9\", \"Topic9\", \"Topic9\", \"Topic9\", \"Topic9\", \"Topic9\", \"Topic9\", \"Topic9\", \"Topic10\", \"Topic10\", \"Topic10\", \"Topic10\", \"Topic10\", \"Topic10\", \"Topic10\", \"Topic10\", \"Topic10\", \"Topic10\", \"Topic10\", \"Topic10\", \"Topic10\", \"Topic10\", \"Topic10\", \"Topic10\", \"Topic10\", \"Topic10\", \"Topic10\", \"Topic10\", \"Topic10\", \"Topic10\", \"Topic10\", \"Topic10\", \"Topic10\", \"Topic10\", \"Topic10\", \"Topic10\", \"Topic10\", \"Topic10\", \"Topic10\", \"Topic10\", \"Topic10\", \"Topic10\", \"Topic10\", \"Topic10\", \"Topic10\", \"Topic10\", \"Topic10\", \"Topic10\", \"Topic10\", \"Topic10\", \"Topic10\", \"Topic10\", \"Topic10\", \"Topic10\", \"Topic10\", \"Topic10\", \"Topic10\", \"Topic10\", \"Topic10\", \"Topic10\", \"Topic10\", \"Topic10\", \"Topic10\", \"Topic10\", \"Topic10\", \"Topic10\", \"Topic10\", \"Topic10\", \"Topic10\", \"Topic10\", \"Topic10\", \"Topic10\", \"Topic10\", \"Topic10\", \"Topic10\", \"Topic10\", \"Topic10\", \"Topic10\", \"Topic10\", \"Topic10\", \"Topic10\", \"Topic10\", \"Topic10\", \"Topic10\", \"Topic10\", \"Topic10\", \"Topic10\", \"Topic10\", \"Topic10\", \"Topic10\", \"Topic10\", \"Topic10\", \"Topic10\", \"Topic10\"], \"logprob\": [30.0, 29.0, 28.0, 27.0, 26.0, 25.0, 24.0, 23.0, 22.0, 21.0, 20.0, 19.0, 18.0, 17.0, 16.0, 15.0, 14.0, 13.0, 12.0, 11.0, 10.0, 9.0, 8.0, 7.0, 6.0, 5.0, 4.0, 3.0, 2.0, 1.0, -9.444000244140625, -9.45580005645752, -9.4552001953125, -9.637399673461914, -9.640800476074219, -9.643099784851074, -10.12969970703125, -9.479599952697754, -9.13949966430664, -10.139800071716309, -8.479000091552734, -10.14229965209961, -9.12559986114502, -9.412099838256836, -9.619500160217285, -10.150699615478516, -9.079000473022461, -9.343799591064453, -10.154399871826172, -8.65250015258789, -8.037500381469727, -10.014300346374512, -10.15939998626709, -9.46500015258789, -9.631799697875977, -10.160400390625, -10.02400016784668, -10.168600082397461, -7.71560001373291, -10.538800239562988, -7.524600028991699, -7.583399772644043, -7.466700077056885, -7.1793999671936035, -8.271599769592285, -7.802999973297119, -7.787700176239014, -7.96589994430542, -7.342299938201904, -8.437000274658203, -6.900899887084961, -5.54449987411499, -6.0019001960754395, -6.967299938201904, -7.605400085449219, -7.328800201416016, -7.96150016784668, -4.265200138092041, -5.602200031280518, -7.233099937438965, -7.404399871826172, -4.275000095367432, -6.445499897003174, -6.173900127410889, -7.229899883270264, -7.325699806213379, -5.832600116729736, -6.746399879455566, -6.521599769592285, -6.26800012588501, -7.0177001953125, -5.638999938964844, -5.379199981689453, -5.778299808502197, -5.407100200653076, -6.877799987792969, -6.440400123596191, -5.8557000160217285, -6.253300189971924, -6.565400123596191, -4.85099983215332, -6.570799827575684, -5.570099830627441, -4.036099910736084, -5.976900100708008, -6.00629997253418, -5.053800106048584, -6.394499778747559, -6.33489990234375, -5.72629976272583, -5.600299835205078, -5.218400001525879, -5.693999767303467, -4.958000183105469, -5.490300178527832, -5.586900234222412, -5.133999824523926, -5.236599922180176, -5.833000183105469, -6.0569000244140625, -5.847700119018555, -5.579999923706055, -5.519000053405762, -5.696100234985352, -5.811600208282471, -5.775899887084961, -8.781999588012695, -8.485899925231934, -8.8371000289917, -8.795499801635742, -9.072799682617188, -9.133299827575684, -9.455300331115723, -8.501999855041504, -7.205999851226807, -8.636199951171875, -7.993299961090088, -9.206500053405762, -9.399499893188477, -7.097300052642822, -8.412500381469727, -9.85260009765625, -9.748100280761719, -9.49269962310791, -9.48859977722168, -9.856499671936035, -7.92519998550415, -9.861100196838379, -9.498900413513184, -9.86460018157959, -9.354700088500977, -9.76159954071045, -9.363900184631348, -9.665200233459473, -9.760600090026855, -9.761699676513672, -8.357399940490723, -8.939499855041504, -7.943399906158447, -7.397900104522705, -7.831399917602539, -8.55840015411377, -7.558599948883057, -8.311400413513184, -6.584099769592285, -7.548500061035156, -8.024999618530273, -8.115699768066406, -8.916399955749512, -7.897600173950195, -6.571899890899658, -7.630499839782715, -7.358699798583984, -4.372700214385986, -7.200200080871582, -4.807300090789795, -6.694300174713135, -6.938700199127197, -5.4141998291015625, -5.247000217437744, -5.503699779510498, -5.129499912261963, -6.309100151062012, -4.854000091552734, -4.451600074768066, -6.424499988555908, -7.042399883270264, -5.1346001625061035, -5.942800045013428, -4.259900093078613, -4.274799823760986, -4.7789998054504395, -5.5366997718811035, -5.0065999031066895, -5.151000022888184, -6.274400234222412, -5.068999767303467, -4.3846001625061035, -5.338900089263916, -6.39769983291626, -5.31820011138916, -5.128799915313721, -5.48360013961792, -5.44950008392334, -5.2829999923706055, -5.854100227355957, -5.655700206756592, -5.887700080871582, -5.858500003814697, -5.768199920654297, -5.917799949645996, -5.3308000564575195, -5.441199779510498, -5.392199993133545, -5.566199779510498, -5.456699848175049, -5.732900142669678, -5.674499988555908, -8.11299991607666, -6.829400062561035, -8.397100448608398, -9.166299819946289, -9.050700187683105, -9.302599906921387, -9.181500434875488, -7.266900062561035, -8.186300277709961, -7.718299865722656, -9.759099960327148, -7.764999866485596, -7.533899784088135, -8.657299995422363, -8.425100326538086, -7.587600231170654, -6.845799922943115, -7.753900051116943, -7.816699981689453, -8.267999649047852, -7.8196001052856445, -7.819699764251709, -7.818900108337402, -7.818299770355225, -7.820099830627441, -7.542300224304199, -7.66949987411499, -7.774199962615967, -7.672100067138672, -7.7733001708984375, -6.436800003051758, -6.783299922943115, -5.934700012207031, -7.147799968719482, -7.596499919891357, -6.411900043487549, -6.232100009918213, -6.586100101470947, -6.692299842834473, -6.263899803161621, -7.108799934387207, -6.158100128173828, -7.6296000480651855, -7.21589994430542, -4.107500076293945, -5.767000198364258, -5.566400051116943, -4.980299949645996, -6.749800205230713, -6.640399932861328, -6.562099933624268, -6.966599941253662, -6.041800022125244, -5.665299892425537, -7.043499946594238, -7.126800060272217, -4.145299911499023, -5.6265997886657715, -5.3084001541137695, -5.716400146484375, -4.570899963378906, -5.509699821472168, -5.139999866485596, -5.254300117492676, -6.361299991607666, -6.410099983215332, -5.339300155639648, -6.305799961090088, -4.91949987411499, -5.3144001960754395, -5.252600193023682, -5.76200008392334, -5.291500091552734, -5.126800060272217, -5.298099994659424, -6.092100143432617, -5.696499824523926, -5.437399864196777, -5.538400173187256, -5.530200004577637, -5.667600154876709, -5.671299934387207, -6.010799884796143, -5.943999767303467, -5.819300174713135, -5.9197998046875, -8.523799896240234, -9.298199653625488, -9.018199920654297, -7.981400012969971, -9.081999778747559, -8.752900123596191, -9.027700424194336, -9.452699661254883, -9.240799903869629, -8.636699676513672, -8.978099822998047, -7.585599899291992, -8.875100135803223, -10.026900291442871, -9.874300003051758, -9.549699783325195, -8.449700355529785, -8.773500442504883, -9.518799781799316, -9.62720012664795, -9.420499801635742, -9.259599685668945, -8.989299774169922, -8.643400192260742, -9.882499694824219, -9.884400367736816, -9.883199691772461, -8.995499610900879, -9.88379955291748, -8.21560001373291, -7.217800140380859, -9.26609992980957, -6.291800022125244, -6.281199932098389, -7.184599876403809, -8.699999809265137, -8.35990047454834, -9.005599975585938, -7.251699924468994, -7.258500099182129, -7.679999828338623, -8.248800277709961, -5.5802001953125, -7.604400157928467, -8.086899757385254, -8.306300163269043, -8.670700073242188, -8.276599884033203, -7.350800037384033, -7.0335001945495605, -8.234399795532227, -7.998600006103516, -7.9980998039245605, -7.9359002113342285, -6.438499927520752, -6.86929988861084, -7.635700225830078, -7.798600196838379, -6.310200214385986, -6.588200092315674, -6.747300148010254, -3.75, -5.6793999671936035, -5.3282999992370605, -6.468100070953369, -5.945199966430664, -6.002299785614014, -7.1717000007629395, -6.457900047302246, -6.42080020904541, -6.732399940490723, -6.282199859619141, -5.519100189208984, -5.817399978637695, -5.787099838256836, -5.376500129699707, -5.59119987487793, -5.489500045776367, -5.309199810028076, -5.589900016784668, -5.803899765014648, -5.817599773406982, -5.5625, -6.256899833679199, -5.174799919128418, -5.72130012512207, -5.9822001457214355, -5.644499778747559, -5.470200061798096, -5.328000068664551, -5.741199970245361, -5.532299995422363, -5.548699855804443, -5.594699859619141, -5.668700218200684, -5.588399887084961, -5.492700099945068, -5.690100193023682, -5.634099960327148, -5.643599987030029, -5.694399833679199, -7.051499843597412, -6.876100063323975, -8.208100318908691, -8.340700149536133, -8.213899612426758, -8.214900016784668, -8.343999862670898, -8.430800437927246, -8.89490032196045, -8.897899627685547, -7.918799877166748, -7.915299892425537, -8.114299774169922, -8.518799781799316, -8.120599746704102, -9.17870044708252, -9.119099617004395, -9.194199562072754, -8.672200202941895, -7.721199989318848, -9.81879997253418, -9.819000244140625, -9.574899673461914, -9.059499740600586, -9.469300270080566, -8.947199821472168, -9.588600158691406, -8.218799591064453, -8.95009994506836, -6.55109977722168, -8.488300323486328, -5.894999980926514, -8.358599662780762, -5.381800174713135, -8.0423002243042, -6.577700138092041, -8.2253999710083, -6.017499923706055, -8.05459976196289, -6.671199798583984, -6.327199935913086, -7.623199939727783, -6.8933000564575195, -7.025199890136719, -5.465199947357178, -5.854499816894531, -5.565400123596191, -6.227799892425537, -3.3480000495910645, -6.767199993133545, -7.228300094604492, -6.126500129699707, -5.657899856567383, -4.497099876403809, -4.253300189971924, -5.067299842834473, -5.725599765777588, -7.020500183105469, -4.676400184631348, -4.502200126647949, -6.473800182342529, -4.201099872589111, -4.412199974060059, -5.992000102996826, -6.179299831390381, -4.418099880218506, -5.393700122833252, -4.978400230407715, -5.433700084686279, -5.6930999755859375, -5.788899898529053, -6.016300201416016, -5.249300003051758, -5.736000061035156, -5.789599895477295, -5.838799953460693, -5.489799976348877, -5.546500205993652, -5.507299900054932, -5.663400173187256, -5.393799781799316, -5.6774001121521, -5.800300121307373, -5.820300102233887, -7.529300212860107, -8.525300025939941, -8.541999816894531, -7.420400142669678, -8.671199798583984, -8.673199653625488, -8.67959976196289, -8.681300163269043, -7.094900131225586, -9.202400207519531, -9.039999961853027, -7.417900085449219, -9.2121000289917, -7.869900226593018, -8.17710018157959, -8.851200103759766, -8.08899974822998, -9.056500434875488, -9.143400192260742, -7.122799873352051, -8.19950008392334, -9.14900016784668, -8.589799880981445, -9.855999946594238, -9.241100311279297, -9.248499870300293, -8.598099708557129, -9.697500228881836, -8.059700012207031, -7.535399913787842, -8.431400299072266, -7.87060022354126, -8.260100364685059, -6.240699768066406, -6.6890997886657715, -6.940999984741211, -8.406700134277344, -7.31850004196167, -7.861599922180176, -7.486100196838379, -5.461999893188477, -6.547900199890137, -7.997499942779541, -6.605800151824951, -7.2795000076293945, -7.133500099182129, -7.655099868774414, -7.837399959564209, -7.303899765014648, -7.109099864959717, -6.998799800872803, -5.2052998542785645, -6.311500072479248, -6.075200080871582, -6.3302998542785645, -5.80210018157959, -4.464000225067139, -7.133600234985352, -6.111100196838379, -6.672599792480469, -7.0055999755859375, -4.874599933624268, -5.8053998947143555, -5.785900115966797, -6.123199939727783, -5.968299865722656, -6.367700099945068, -6.279300212860107, -6.334000110626221, -5.890399932861328, -5.010900020599365, -6.282800197601318, -5.9822998046875, -5.8983001708984375, -6.0808000564575195, -5.732600212097168, -6.006100177764893, -6.285399913787842, -6.115200042724609, -5.96150016784668, -6.05679988861084, -5.6203999519348145, -6.085100173950195, -5.873000144958496, -5.780399799346924, -6.040500164031982, -5.764500141143799, -6.134200096130371, -5.859099864959717, -5.9496002197265625, -5.944399833679199, -6.032800197601318, -6.076700210571289, -8.751999855041504, -7.882900238037109, -8.208900451660156, -7.601600170135498, -8.458999633789062, -7.384200096130371, -9.312600135803223, -6.716599941253662, -9.225099563598633, -9.222299575805664, -6.357800006866455, -8.974200248718262, -8.486800193786621, -8.76039981842041, -8.31190013885498, -8.491499900817871, -9.583600044250488, -8.353699684143066, -8.97249984741211, -8.589799880981445, -7.925000190734863, -9.588800430297852, -8.77299976348877, -7.9328999519348145, -9.603899955749512, -8.597999572753906, -8.457500457763672, -8.457500457763672, -7.190400123596191, -7.723100185394287, -6.713600158691406, -7.111800193786621, -7.849800109863281, -8.330499649047852, -6.650199890136719, -7.900000095367432, -6.290299892425537, -7.875500202178955, -7.9191999435424805, -7.659200191497803, -6.211299896240234, -4.5690999031066895, -7.423799991607666, -7.266499996185303, -6.9695000648498535, -6.804800033569336, -7.473100185394287, -5.450500011444092, -6.2778000831604, -7.082399845123291, -6.40369987487793, -6.245800018310547, -6.023600101470947, -6.791800022125244, -7.019400119781494, -6.2546000480651855, -5.907400131225586, -6.396299839019775, -5.690999984741211, -4.534900188446045, -5.909999847412109, -6.982999801635742, -5.839900016784668, -6.0507001876831055, -5.609300136566162, -4.686600208282471, -5.424900054931641, -5.7967000007629395, -6.289700031280518, -5.724599838256836, -5.026899814605713, -6.096399784088135, -5.699399948120117, -5.057600021362305, -5.320700168609619, -5.33050012588501, -5.434100151062012, -5.81850004196167, -5.851099967956543, -5.608500003814697, -5.297999858856201, -5.9807000160217285, -5.9197001457214355, -5.947500228881836, -5.909800052642822, -5.852700233459473, -5.782899856567383, -5.779099941253662, -5.895899772644043, -5.847599983215332, -5.867199897766113, -5.881400108337402, -8.295599937438965, -8.534299850463867, -8.740099906921387, -8.541899681091309, -7.952199935913086, -8.54520034790039, -8.352499961853027, -8.549799919128418, -8.999799728393555, -9.003499984741211, -8.847299575805664, -8.141200065612793, -8.35770034790039, -9.329099655151367, -7.508299827575684, -9.330599784851074, -7.906099796295166, -9.334500312805176, -9.335200309753418, -8.329000473022461, -9.343500137329102, -9.474699974060059, -9.345000267028809, -8.590399742126465, -9.229499816894531, -9.34589958190918, -8.38479995727539, -8.375200271606445, -8.060199737548828, -8.285900115966797, -7.966800212860107, -8.350600242614746, -8.262900352478027, -7.464300155639648, -7.471399784088135, -8.264300346374512, -7.376299858093262, -8.30210018157959, -8.26830005645752, -6.68120002746582, -7.323299884796143, -8.272600173950195, -6.256899833679199, -7.952899932861328, -7.149700164794922, -8.083800315856934, -7.395299911499023, -6.6479997634887695, -6.014599800109863, -7.209199905395508, -5.833600044250488, -8.02280044555664, -5.200900077819824, -7.400000095367432, -7.13129997253418, -7.1890997886657715, -5.720099925994873, -7.112400054931641, -7.684000015258789, -5.488999843597412, -6.165200233459473, -4.937300205230713, -5.367099761962891, -5.177000045776367, -6.233099937438965, -7.1859002113342285, -5.166999816894531, -6.257800102233887, -4.932400226593018, -5.020400047302246, -5.295400142669678, -5.499000072479248, -5.370500087738037, -5.360599994659424, -5.722799777984619, -6.062300205230713, -5.770199775695801, -5.989799976348877, -5.5233001708984375, -5.9481000900268555, -5.933899879455566, -6.332300186157227, -5.709799766540527, -5.86359977722168, -5.5980000495910645, -5.86460018157959, -5.747900009155273, -5.742700099945068, -5.918399810791016, -5.853099822998047, -5.988399982452393, -8.134499549865723, -8.366600036621094, -7.8719000816345215, -8.592399597167969, -6.18149995803833, -6.870999813079834, -9.420499801635742, -9.253499984741211, -8.50979995727539, -8.465999603271484, -8.421699523925781, -7.647200107574463, -8.724599838256836, -8.512999534606934, -9.770899772644043, -8.19890022277832, -8.19890022277832, -9.003800392150879, -8.199299812316895, -8.437600135803223, -8.807999610900879, -8.805100440979004, -9.381600379943848, -7.246600151062012, -8.533900260925293, -8.747699737548828, -9.504599571228027, -8.443900108337402, -9.187199592590332, -8.878700256347656, -6.836400032043457, -7.102099895477295, -6.583499908447266, -8.341400146484375, -8.234700202941895, -8.372400283813477, -6.874300003051758, -7.165599822998047, -6.243899822235107, -7.289299964904785, -8.046299934387207, -7.617700099945068, -6.096499919891357, -7.259200096130371, -6.355899810791016, -7.085100173950195, -6.122200012207031, -6.882500171661377, -6.566800117492676, -5.933300018310547, -7.877299785614014, -7.397900104522705, -6.321499824523926, -6.584799766540527, -4.773200035095215, -5.873000144958496, -5.47730016708374, -5.911399841308594, -5.357399940490723, -5.914599895477295, -5.497300148010254, -5.940800189971924, -6.050899982452393, -6.531199932098389, -4.911099910736084, -5.247000217437744, -5.192399978637695, -4.738699913024902, -4.745800018310547, -5.517199993133545, -5.123300075531006, -5.833199977874756, -4.885300159454346, -5.169300079345703, -5.537399768829346, -5.889800071716309, -5.556099891662598, -5.630799770355225, -5.7418999671936035, -5.712100028991699, -5.695300102233887, -5.697700023651123, -5.861400127410889, -5.9095001220703125, -5.986800193786621, -5.995500087738037, -6.0289998054504395, -8.151300430297852, -5.87060022354126, -8.909099578857422, -8.90839958190918, -8.910900115966797, -8.910300254821777, -8.911800384521484, -9.01710033416748, -8.915800094604492, -8.916999816894531, -9.274399757385254, -8.986599922180176, -6.95550012588501, -8.691699981689453, -7.3668999671936035, -7.893799781799316, -9.316900253295898, -8.960000038146973, -8.960000038146973, -9.32349967956543, -8.057700157165527, -9.3326997756958, -9.336199760437012, -7.554500102996826, -8.732500076293945, -7.821000099182129, -7.7652997970581055, -8.738900184631348, -8.050399780273438, -7.909999847412109, -7.67140007019043, -7.722300052642822, -7.856500148773193, -5.984000205993652, -8.337800025939941, -8.10319995880127, -4.910699844360352, -7.100100040435791, -7.877699851989746, -5.785799980163574, -6.7505998611450195, -6.704599857330322, -6.744699954986572, -8.263099670410156, -8.384699821472168, -8.226499557495117, -7.33519983291626, -6.134300231933594, -5.905300140380859, -6.649099826812744, -4.970600128173828, -7.196100234985352, -5.6417999267578125, -7.366700172424316, -5.831099987030029, -6.167900085449219, -5.554299831390381, -6.52869987487793, -5.156499862670898, -5.350299835205078, -5.237599849700928, -6.499199867248535, -6.13640022277832, -5.830599784851074, -6.084199905395508, -5.287799835205078, -5.458499908447266, -5.5040998458862305, -5.5381999015808105, -6.019100189208984, -5.3649001121521, -5.474699974060059, -5.766900062561035, -6.038099765777588, -5.910200119018555, -5.8292999267578125, -5.708799839019775, -5.989799976348877, -5.915500164031982, -6.018099784851074, -5.980000019073486, -5.959199905395508, -5.938300132751465, -6.007400035858154], \"loglift\": [30.0, 29.0, 28.0, 27.0, 26.0, 25.0, 24.0, 23.0, 22.0, 21.0, 20.0, 19.0, 18.0, 17.0, 16.0, 15.0, 14.0, 13.0, 12.0, 11.0, 10.0, 9.0, 8.0, 7.0, 6.0, 5.0, 4.0, 3.0, 2.0, 1.0, 1.2192000150680542, 1.2106000185012817, 1.2101000547409058, 1.2021000385284424, 1.1983000040054321, 1.1964999437332153, 1.1929999589920044, 1.1921000480651855, 1.1900999546051025, 1.1861000061035156, 1.1842999458312988, 1.184000015258789, 1.180799961090088, 1.180799961090088, 1.1777000427246094, 1.1771999597549438, 1.1750999689102173, 1.1748000383377075, 1.174399971961975, 1.173699975013733, 1.1734000444412231, 1.1711000204086304, 1.1711000204086304, 1.1699999570846558, 1.1699999570846558, 1.169800043106079, 1.1648000478744507, 1.1627999544143677, 1.1627999544143677, 1.1601999998092651, 1.1571999788284302, 1.1548999547958374, 1.149399995803833, 1.1440999507904053, 1.1545000076293945, 1.1490000486373901, 1.1473000049591064, 1.1492999792099, 1.1332999467849731, 1.1520999670028687, 1.1191999912261963, 1.0779999494552612, 1.0913000106811523, 1.117799997329712, 1.1306999921798706, 1.1196999549865723, 1.1378999948501587, 1.0154999494552612, 1.0491000413894653, 1.1145999431610107, 1.1196000576019287, 0.9876999855041504, 1.0779000520706177, 1.0597000122070312, 1.1068999767303467, 1.1075999736785889, 1.0289000272750854, 1.0746999979019165, 1.0621999502182007, 1.0448999404907227, 1.0851999521255493, 0.9732999801635742, 0.9441999793052673, 0.9708999991416931, 0.9266999959945679, 1.0644999742507935, 1.0160000324249268, 0.9440000057220459, 0.9851999878883362, 1.0231000185012817, 0.767300009727478, 1.0127999782562256, 0.8585000038146973, 0.6079999804496765, 0.906000018119812, 0.8986999988555908, 0.7261000275611877, 0.9595999717712402, 0.921500027179718, 0.7526999711990356, 0.6973000168800354, 0.5550000071525574, 0.7102000117301941, 0.44449999928474426, 0.5633999705314636, 0.5899999737739563, 0.33880001306533813, 0.3521000146865845, 0.6195999979972839, 0.7653999924659729, 0.46209999918937683, 0.07440000027418137, -0.037700001150369644, 0.03539999946951866, 0.353300005197525, 0.1754000037908554, 1.9280999898910522, 1.9219000339508057, 1.9172999858856201, 1.917099952697754, 1.9139000177383423, 1.9122999906539917, 1.9098000526428223, 1.9043999910354614, 1.9035999774932861, 1.8990000486373901, 1.8986999988555908, 1.8964999914169312, 1.895900011062622, 1.8942999839782715, 1.885699987411499, 1.885699987411499, 1.8849999904632568, 1.882699966430664, 1.881700038909912, 1.881700038909912, 1.8812999725341797, 1.8789000511169434, 1.8767000436782837, 1.8759000301361084, 1.874899983406067, 1.8727999925613403, 1.87090003490448, 1.8704999685287476, 1.8698999881744385, 1.8693000078201294, 1.8668999671936035, 1.8664000034332275, 1.8551000356674194, 1.847000002861023, 1.84660005569458, 1.8585000038146973, 1.8345999717712402, 1.8416999578475952, 1.778499960899353, 1.8070000410079956, 1.8214999437332153, 1.8025000095367432, 1.8473000526428223, 1.7711999416351318, 1.6655000448226929, 1.742400050163269, 1.6857999563217163, 1.3115999698638916, 1.6557999849319458, 1.3549000024795532, 1.575600028038025, 1.6075999736785889, 1.3552000522613525, 1.2585999965667725, 1.2992000579833984, 1.1979999542236328, 1.4357999563217163, 1.1059000492095947, 1.0059000253677368, 1.420199990272522, 1.5550999641418457, 1.073099970817566, 1.2627999782562256, 0.8070999979972839, 0.7398999929428101, 0.8754000067710876, 1.1083999872207642, 0.9193999767303467, 0.8794000148773193, 1.2721999883651733, 0.8104000091552734, 0.5231000185012817, 0.8919000029563904, 1.3144999742507935, 0.8152999877929688, 0.6970000267028809, 0.8363000154495239, 0.8134999871253967, 0.6682000160217285, 1.0140000581741333, 0.8517000079154968, 1.0130000114440918, 0.9732999801635742, 0.8112999796867371, 0.9395999908447266, 0.17589999735355377, 0.2881999909877777, 0.08910000324249268, 0.20720000565052032, -0.8126000165939331, 0.4235999882221222, -0.3682999908924103, 2.1591999530792236, 2.1512999534606934, 2.1296000480651855, 2.115999937057495, 2.1122000217437744, 2.1112000942230225, 2.103100061416626, 2.1003000736236572, 2.0998001098632812, 2.0994999408721924, 2.098900079727173, 2.0978000164031982, 2.0977001190185547, 2.0973000526428223, 2.0954999923706055, 2.0940001010894775, 2.092900037765503, 2.0927999019622803, 2.0924999713897705, 2.0906999111175537, 2.090100049972534, 2.089400053024292, 2.089400053024292, 2.089200019836426, 2.089200019836426, 2.0889999866485596, 2.08870005607605, 2.088200092315674, 2.0880000591278076, 2.087899923324585, 2.0852999687194824, 2.086899995803833, 2.067699909210205, 2.076200008392334, 2.0841000080108643, 2.0578999519348145, 2.051800012588501, 2.0576000213623047, 2.052000045776367, 2.0220000743865967, 2.0573999881744385, 1.9723000526428223, 2.0764999389648438, 2.042099952697754, 1.7237999439239502, 1.8847999572753906, 1.8508000373840332, 1.7192000150680542, 1.9529999494552612, 1.920300006866455, 1.8973000049591064, 1.9646999835968018, 1.7922999858856201, 1.7000999450683594, 1.9586999416351318, 1.9632999897003174, 1.1608999967575073, 1.556399941444397, 1.4565000534057617, 1.5405999422073364, 1.0023000240325928, 1.342900037765503, 1.1761000156402588, 1.062600016593933, 1.6518000364303589, 1.6656999588012695, 0.760699987411499, 1.5634000301361084, 0.09520000219345093, 0.5115000009536743, 0.2540999948978424, 0.8355000019073486, 0.18970000743865967, -0.05990000069141388, 0.17479999363422394, 1.238700032234192, 0.5665000081062317, 0.020099999383091927, 0.19300000369548798, 0.05860000103712082, 0.061900001019239426, -0.016899999231100082, 1.017799973487854, 0.5181000232696533, -0.9115999937057495, -0.04050000011920929, 2.2390999794006348, 2.2385001182556152, 2.2358999252319336, 2.2302000522613525, 2.2274999618530273, 2.2228000164031982, 2.221299886703491, 2.217099905014038, 2.212100028991699, 2.2112998962402344, 2.209199905395508, 2.2091000080108643, 2.2060000896453857, 2.2056000232696533, 2.204400062561035, 2.2035999298095703, 2.202399969100952, 2.201200008392334, 2.201200008392334, 2.200500011444092, 2.200200080871582, 2.19950008392334, 2.197200059890747, 2.196500062942505, 2.1958999633789062, 2.195499897003174, 2.195199966430664, 2.194700002670288, 2.194700002670288, 2.194000005722046, 2.175800085067749, 2.1914000511169434, 2.1522998809814453, 2.1322999000549316, 2.144399881362915, 2.178499937057495, 2.16759991645813, 2.184299945831299, 2.120800018310547, 2.1185998916625977, 2.135699987411499, 2.1593000888824463, 2.0299999713897705, 2.1168999671936035, 2.1349000930786133, 2.1456000804901123, 2.1700000762939453, 2.1354000568389893, 2.04229998588562, 2.003200054168701, 2.1210999488830566, 2.0871999263763428, 2.0855000019073486, 2.0671000480651855, 1.8431999683380127, 1.9049999713897705, 2.0195999145507812, 2.0436999797821045, 1.7228000164031982, 1.7519999742507935, 1.7767000198364258, 0.8942000269889832, 1.3838000297546387, 1.2654999494552612, 1.555999994277954, 1.3061000108718872, 1.3199000358581543, 1.7345000505447388, 1.4013999700546265, 1.3722000122070312, 1.5089000463485718, 1.2288999557495117, 0.7998999953269958, 0.9667999744415283, 0.9294999837875366, 0.6772000193595886, 0.7559999823570251, 0.6754000186920166, 0.516700029373169, 0.7135999798774719, 0.8529999852180481, 0.7764999866485596, 0.46790000796318054, 1.1699999570846558, -0.16009999811649323, 0.4352000057697296, 0.7612000107765198, 0.2815000116825104, 0.011099999770522118, -0.26100000739097595, 0.3662000000476837, -0.05950000137090683, -0.041999999433755875, -0.005900000222027302, 0.06069999933242798, -0.13089999556541443, -0.585099995136261, 0.08990000188350677, -0.23160000145435333, -0.38089999556541443, -0.12110000103712082, 2.34089994430542, 2.335900068283081, 2.3315000534057617, 2.3301000595092773, 2.3266000747680664, 2.325900077819824, 2.325700044631958, 2.3208000659942627, 2.3173000812530518, 2.3148000240325928, 2.312700033187866, 2.312299966812134, 2.309799909591675, 2.3060998916625977, 2.3046998977661133, 2.2934000492095947, 2.2774999141693115, 2.2772998809814453, 2.275599956512451, 2.2744998931884766, 2.2741000652313232, 2.2739999294281006, 2.272599935531616, 2.2685000896453857, 2.2643001079559326, 2.263200044631958, 2.2611000537872314, 2.259700059890747, 2.259399890899658, 2.25819993019104, 2.25570011138916, 2.216900110244751, 2.246299982070923, 2.1693999767303467, 2.2339999675750732, 2.1760001182556152, 2.2335000038146973, 2.11929988861084, 2.2219998836517334, 2.1407999992370605, 2.1177000999450684, 2.1940999031066895, 2.1375999450683594, 2.1470999717712402, 2.023699998855591, 2.056299924850464, 1.9824999570846558, 2.0051000118255615, 1.5597000122070312, 2.058799982070923, 2.121999979019165, 1.9443999528884888, 1.7645000219345093, 1.4479999542236328, 1.253499984741211, 1.4012000560760498, 1.5710999965667725, 1.9733999967575073, 1.1548000574111938, 1.0709999799728394, 1.7458000183105469, 0.8136000037193298, 0.8939999938011169, 1.5286999940872192, 1.6065000295639038, 0.6488999724388123, 1.152400016784668, 0.7530999779701233, 1.0146000385284424, 1.1691999435424805, 1.253499984741211, 1.2726999521255493, 0.20819999277591705, 0.8841999769210815, 0.939300000667572, 0.9735000133514404, 0.23960000276565552, 0.2793000042438507, 0.1770000010728836, 0.5443000197410583, -0.7497000098228455, 0.20190000534057617, 0.6870999932289124, 0.49869999289512634, 2.5081000328063965, 2.5062999725341797, 2.488300085067749, 2.482599973678589, 2.4727001190185547, 2.470400094985962, 2.4637999534606934, 2.463099956512451, 2.462100028991699, 2.436000108718872, 2.4254000186920166, 2.4219000339508057, 2.4210000038146973, 2.4209001064300537, 2.4196999073028564, 2.4105000495910645, 2.409600019454956, 2.408400058746338, 2.4022998809814453, 2.397900104522705, 2.397900104522705, 2.396699905395508, 2.395400047302246, 2.3922998905181885, 2.3921000957489014, 2.3898000717163086, 2.3894999027252197, 2.38919997215271, 2.3889999389648438, 2.3863000869750977, 2.384000062942505, 2.3775999546051025, 2.3729000091552734, 2.324399948120117, 2.322200059890747, 2.3041999340057373, 2.367300033569336, 2.285099983215332, 2.3148000240325928, 2.273400068283081, 2.062000036239624, 2.1575000286102295, 2.321500062942505, 2.137500047683716, 2.2186999320983887, 2.1745998859405518, 2.2572999000549316, 2.2918999195098877, 2.148900032043457, 2.069000005722046, 2.032099962234497, 1.3854999542236328, 1.7238999605178833, 1.5901000499725342, 1.6622999906539917, 1.4225000143051147, 0.842199981212616, 1.9819999933242798, 1.4399000406265259, 1.7145999670028687, 1.8773000240325928, 0.6065999865531921, 1.1538000106811523, 1.0657000541687012, 1.2805999517440796, 1.1200000047683716, 1.4289000034332275, 1.326200008392334, 1.3700000047683716, 0.9496999979019165, 0.0560000017285347, 1.299299955368042, 0.9796000123023987, 0.8312000036239624, 1.000499963760376, 0.5591999888420105, 0.8374999761581421, 1.2022000551223755, 0.9272000193595886, 0.6757000088691711, 0.8145999908447266, -0.147599995136261, 0.7674999833106995, 0.17960000038146973, -0.16210000216960907, 0.5939000248908997, -1.120300054550171, 0.6498000025749207, -0.8443999886512756, -0.4921000003814697, -1.0368000268936157, -0.3034000098705292, -0.3452000021934509, 2.5952000617980957, 2.5936999320983887, 2.5931999683380127, 2.566699981689453, 2.5571000576019287, 2.553100109100342, 2.552299976348877, 2.5455000400543213, 2.5348000526428223, 2.53439998626709, 2.533099889755249, 2.5327999591827393, 2.529900074005127, 2.5297999382019043, 2.5297000408172607, 2.527400016784668, 2.5267999172210693, 2.523200035095215, 2.523099899291992, 2.5227999687194824, 2.5211000442504883, 2.5208001136779785, 2.517899990081787, 2.516700029373169, 2.515500068664551, 2.515199899673462, 2.5137999057769775, 2.51200008392334, 2.511899948120117, 2.5111000537872314, 2.4964001178741455, 2.499500036239624, 2.498699903488159, 2.507999897003174, 2.448699951171875, 2.4718000888824463, 2.3842999935150146, 2.4697999954223633, 2.455899953842163, 2.4233999252319336, 2.276700019836426, 1.9697999954223633, 2.3415000438690186, 2.2936999797821045, 2.2163000106811523, 2.177000045776367, 2.309299945831299, 1.8309999704360962, 2.0239999294281006, 2.2056000232696533, 1.9945000410079956, 1.947100043296814, 1.8229999542236328, 2.032099962234497, 2.102799892425537, 1.7458000183105469, 1.5751999616622925, 1.8050999641418457, 1.4495999813079834, 0.8676000237464905, 1.5227999687194824, 2.044300079345703, 1.2838000059127808, 1.3990000486373901, 1.0858999490737915, 0.38029998540878296, 0.89410001039505, 1.149399995803833, 1.520799994468689, 0.9638000130653381, -0.012199999764561653, 1.212399959564209, 0.7077000141143799, -0.15000000596046448, 0.15209999680519104, 0.12690000236034393, 0.07259999960660934, 0.7644000053405762, 0.7860000133514404, 0.21729999780654907, -0.6539000272750854, 0.881600022315979, 0.578000009059906, 0.6938999891281128, 0.5164999961853027, 0.24729999899864197, -0.20970000326633453, -0.29789999127388, 0.2606000006198883, -0.16329999268054962, -0.13779999315738678, -0.0020000000949949026, 2.744800090789795, 2.7105000019073486, 2.7067999839782715, 2.7014999389648438, 2.698899984359741, 2.6979000568389893, 2.693700075149536, 2.6923999786376953, 2.6886000633239746, 2.684999942779541, 2.684000015258789, 2.6809000968933105, 2.678999900817871, 2.6782000064849854, 2.675800085067749, 2.6747000217437744, 2.672499895095825, 2.6709001064300537, 2.6703999042510986, 2.665299892425537, 2.661900043487549, 2.661099910736084, 2.660099983215332, 2.6600000858306885, 2.6596999168395996, 2.6593000888824463, 2.6577000617980957, 2.6577000617980957, 2.6572999954223633, 2.6570000648498535, 2.640000104904175, 2.6428000926971436, 2.6403000354766846, 2.623500108718872, 2.6217000484466553, 2.638700008392334, 2.599100112915039, 2.634500026702881, 2.6310999393463135, 2.541100025177002, 2.555999994277954, 2.629699945449829, 2.4123001098632812, 2.5878000259399414, 2.4238998889923096, 2.593600034713745, 2.4363999366760254, 2.2418999671936035, 2.047800064086914, 2.342900037765503, 1.9189000129699707, 2.5566000938415527, 1.7115999460220337, 2.369999885559082, 2.267199993133545, 2.2788000106811523, 1.496999979019165, 2.1080000400543213, 2.3559999465942383, 1.225000023841858, 1.5702999830245972, 0.746999979019165, 0.8406999707221985, 0.7023000121116638, 1.392899990081787, 2.0114998817443848, 0.42179998755455017, 1.2539000511169434, -0.024700000882148743, -0.00570000009611249, 0.16210000216960907, 0.2745000123977661, 0.10239999741315842, 0.04179999977350235, 0.37709999084472656, 0.7950999736785889, 0.33709999918937683, 0.6256999969482422, -0.042100001126527786, 0.5496000051498413, 0.4925000071525574, 1.0576000213623047, 0.07020000368356705, 0.2985999882221222, -0.29179999232292175, 0.2689000070095062, -0.09350000321865082, -0.6757000088691711, -0.1889999955892563, -1.2089999914169312, -0.06239999830722809, 2.7588000297546387, 2.7191998958587646, 2.704400062561035, 2.6728999614715576, 2.6691999435424805, 2.665600061416626, 2.6549999713897705, 2.6519999504089355, 2.650700092315674, 2.6494998931884766, 2.648699998855591, 2.6466000080108643, 2.645699977874756, 2.6449999809265137, 2.6447999477386475, 2.643699884414673, 2.6435999870300293, 2.6414999961853027, 2.638400077819824, 2.6280999183654785, 2.6277999877929688, 2.6249001026153564, 2.6233999729156494, 2.6221001148223877, 2.6217000484466553, 2.6212000846862793, 2.6208999156951904, 2.620800018310547, 2.617300033569336, 2.613600015640259, 2.6106998920440674, 2.604599952697754, 2.597100019454956, 2.6034998893737793, 2.599100112915039, 2.603300094604492, 2.497499942779541, 2.5078001022338867, 2.4128000736236572, 2.498800039291382, 2.5566000938415527, 2.5058000087738037, 2.2081000804901123, 2.3928000926971436, 2.2156999111175537, 2.355799913406372, 2.156899929046631, 2.289099931716919, 2.205699920654297, 2.018899917602539, 2.4930999279022217, 2.3503000736236572, 2.0239999294281006, 2.101599931716919, 1.3986999988555908, 1.7901999950408936, 1.4687000513076782, 1.6032999753952026, 1.3379000425338745, 1.5317000150680542, 1.276900053024292, 1.5299999713897705, 1.5664000511169434, 1.81850004196167, 0.5956000089645386, 0.8055999875068665, 0.7526999711990356, 0.32829999923706055, 0.2689000070095062, 0.951200008392334, 0.44999998807907104, 1.0221999883651733, -0.2410999983549118, -0.26170000433921814, 0.19200000166893005, 0.8391000032424927, -0.09860000014305115, -0.22830000519752502, 0.08389999717473984, -0.1234000027179718, -0.2224999964237213, -0.21649999916553497, 0.09849999845027924, 0.26739999651908875, 0.33009999990463257, 2.9612998962402344, 2.9611001014709473, 2.95770001411438, 2.9554998874664307, 2.9414000511169434, 2.9410998821258545, 2.9393999576568604, 2.939300060272217, 2.9381000995635986, 2.9377999305725098, 2.9335999488830566, 2.9321999549865723, 2.930299997329712, 2.9189999103546143, 2.9038000106811523, 2.890700101852417, 2.8889999389648438, 2.882999897003174, 2.882999897003174, 2.8814001083374023, 2.88100004196167, 2.8749001026153564, 2.8708999156951904, 2.868499994277954, 2.8606998920440674, 2.8515000343322754, 2.8482000827789307, 2.84660005569458, 2.8452000617980957, 2.8413000106811523, 2.8296000957489014, 2.823699951171875, 2.7985999584198, 2.7932000160217285, 2.768399953842163, 2.5583999156951904, 2.806999921798706, 2.765700101852417, 2.3066999912261963, 2.5701000690460205, 2.7153000831604004, 2.2381999492645264, 2.430500030517578, 2.41729998588562, 2.418100118637085, 2.780100107192993, 2.8029000759124756, 2.7555999755859375, 2.5023999214172363, 2.1129000186920166, 1.976099967956543, 2.1677000522613525, 1.4912999868392944, 2.3608999252319336, 1.5384000539779663, 2.4138998985290527, 1.2719000577926636, 1.475600004196167, 0.9846000075340271, 1.6234999895095825, 0.1242000013589859, 0.2680000066757202, 0.025100000202655792, 1.4414000511169434, 0.996999979019165, 0.5979999899864197, 0.8460000157356262, -0.27309998869895935, -0.0560000017285347, -0.031300000846385956, -0.08070000261068344, 0.6322000026702881, -0.72079998254776, -0.5670999884605408, 0.006500000134110451, 0.6298999786376953, 0.26669999957084656, -0.09780000150203705, -0.6419000029563904, 0.3199999928474426, -0.26109999418258667, 0.45660001039505005, 0.07259999960660934, -0.17919999361038208, -0.4571000039577484, -0.05620000138878822]}, \"token.table\": {\"Topic\": [1, 2, 3, 4, 5, 6, 7, 8, 9, 10, 10, 1, 4, 7, 9, 1, 7, 10, 1, 2, 3, 4, 5, 6, 7, 8, 9, 10, 1, 2, 3, 4, 5, 6, 7, 8, 9, 10, 1, 1, 7, 8, 1, 2, 3, 4, 5, 6, 7, 8, 9, 10, 1, 2, 3, 4, 5, 6, 7, 8, 9, 10, 1, 2, 3, 4, 5, 6, 7, 8, 9, 10, 1, 2, 3, 4, 5, 6, 7, 8, 9, 10, 1, 2, 3, 4, 6, 7, 8, 9, 10, 1, 7, 10, 1, 2, 3, 4, 5, 6, 7, 8, 9, 10, 1, 2, 3, 4, 5, 7, 8, 10, 1, 2, 3, 4, 5, 7, 8, 10, 1, 2, 3, 4, 5, 6, 7, 8, 9, 10, 1, 1, 2, 3, 4, 5, 6, 8, 9, 10, 2, 5, 1, 2, 3, 4, 5, 6, 7, 8, 9, 10, 1, 2, 3, 4, 5, 6, 7, 9, 10, 10, 1, 3, 7, 6, 1, 5, 6, 7, 8, 9, 10, 1, 2, 5, 7, 9, 10, 4, 1, 2, 3, 4, 5, 6, 7, 8, 9, 10, 1, 2, 3, 4, 5, 6, 7, 8, 9, 10, 1, 2, 3, 4, 5, 6, 7, 8, 9, 10, 2, 3, 8, 9, 2, 5, 1, 2, 3, 4, 5, 6, 7, 8, 9, 10, 1, 2, 3, 4, 5, 6, 7, 8, 9, 10, 1, 2, 3, 4, 5, 6, 8, 9, 10, 1, 2, 3, 4, 5, 6, 7, 8, 9, 10, 1, 2, 3, 4, 5, 6, 7, 8, 9, 10, 1, 2, 3, 5, 6, 7, 8, 9, 10, 1, 2, 3, 4, 5, 6, 7, 8, 9, 10, 1, 2, 3, 8, 2, 5, 7, 9, 2, 8, 1, 2, 3, 4, 5, 6, 7, 8, 9, 10, 1, 2, 3, 4, 5, 6, 7, 8, 9, 10, 1, 8, 3, 4, 6, 8, 1, 2, 3, 4, 5, 6, 7, 8, 9, 10, 1, 2, 3, 4, 5, 6, 7, 8, 9, 10, 1, 2, 3, 4, 5, 6, 7, 8, 9, 10, 1, 4, 5, 6, 7, 8, 9, 1, 2, 3, 4, 5, 6, 7, 8, 9, 10, 1, 2, 3, 4, 5, 6, 7, 9, 3, 4, 1, 2, 3, 4, 5, 6, 7, 8, 9, 10, 4, 1, 2, 3, 4, 5, 6, 7, 8, 9, 10, 1, 2, 3, 4, 5, 6, 7, 8, 9, 10, 4, 9, 1, 2, 5, 8, 9, 1, 2, 3, 4, 5, 6, 7, 8, 9, 10, 1, 8, 1, 2, 3, 4, 5, 6, 7, 8, 9, 10, 2, 1, 2, 3, 4, 5, 6, 7, 8, 9, 10, 1, 2, 3, 4, 6, 7, 1, 7, 8, 9, 1, 2, 3, 4, 5, 6, 7, 8, 9, 10, 10, 7, 8, 3, 4, 1, 2, 3, 4, 5, 6, 7, 8, 9, 10, 1, 2, 3, 4, 5, 7, 8, 10, 1, 2, 3, 4, 5, 6, 7, 8, 9, 10, 1, 3, 5, 8, 1, 2, 3, 4, 5, 6, 7, 8, 9, 10, 1, 2, 3, 4, 5, 6, 7, 8, 9, 10, 1, 2, 3, 4, 6, 8, 10, 4, 7, 1, 2, 4, 5, 7, 9, 10, 3, 9, 1, 2, 3, 4, 5, 6, 7, 8, 9, 10, 1, 2, 3, 4, 5, 6, 7, 8, 9, 10, 1, 2, 3, 4, 6, 9, 10, 1, 2, 3, 4, 5, 6, 7, 8, 9, 10, 1, 4, 7, 2, 5, 10, 1, 2, 3, 4, 5, 6, 7, 8, 9, 10, 4, 6, 1, 2, 3, 4, 5, 6, 7, 8, 9, 10, 1, 2, 3, 4, 5, 6, 7, 8, 9, 10, 4, 1, 2, 3, 4, 5, 6, 7, 8, 9, 10, 2, 5, 10, 1, 2, 3, 4, 5, 6, 7, 8, 9, 10, 8, 1, 2, 3, 4, 5, 6, 7, 8, 9, 10, 1, 2, 4, 5, 6, 7, 8, 9, 10, 1, 2, 3, 4, 5, 6, 7, 8, 9, 10, 1, 2, 3, 4, 5, 6, 7, 8, 9, 10, 1, 2, 3, 4, 5, 6, 7, 8, 9, 10, 1, 2, 4, 5, 7, 8, 9, 10, 2, 3, 8, 9, 1, 2, 9, 10, 1, 2, 3, 4, 5, 6, 7, 8, 9, 10, 1, 2, 3, 4, 5, 6, 7, 8, 9, 10, 1, 2, 3, 4, 5, 6, 7, 8, 9, 10, 1, 2, 3, 4, 5, 6, 7, 8, 9, 10, 2, 10, 1, 2, 3, 4, 5, 6, 7, 8, 9, 10, 1, 2, 3, 4, 5, 6, 7, 8, 9, 10, 1, 2, 3, 4, 5, 6, 7, 8, 9, 10, 1, 7, 10, 9, 4, 5, 6, 7, 2, 3, 4, 5, 6, 7, 9, 1, 2, 3, 4, 5, 6, 7, 8, 9, 10, 1, 3, 1, 2, 3, 4, 5, 6, 7, 8, 9, 10, 1, 2, 3, 4, 5, 6, 7, 8, 9, 10, 1, 2, 3, 4, 5, 6, 7, 8, 9, 10, 1, 2, 3, 4, 5, 6, 7, 8, 9, 10, 1, 2, 3, 4, 5, 6, 7, 8, 9, 10, 1, 2, 3, 4, 5, 6, 7, 8, 9, 10, 1, 4, 6, 9, 1, 2, 3, 4, 5, 6, 7, 8, 9, 10, 1, 2, 3, 4, 5, 6, 7, 8, 9, 10, 1, 2, 3, 4, 5, 6, 7, 8, 9, 10, 9, 10, 1, 2, 3, 4, 5, 6, 7, 8, 9, 10, 1, 2, 3, 4, 5, 6, 7, 8, 9, 10, 1, 2, 3, 4, 5, 6, 7, 8, 9, 10, 1, 2, 3, 4, 5, 6, 7, 8, 9, 10, 2, 5, 7, 9, 10, 1, 2, 3, 4, 5, 6, 7, 8, 9, 10, 1, 2, 3, 4, 5, 7, 8, 9, 10, 2, 3, 4, 1, 2, 3, 4, 5, 6, 7, 8, 9, 10, 1, 2, 3, 5, 6, 7, 8, 10, 1, 2, 3, 4, 5, 6, 7, 8, 1, 2, 3, 4, 5, 6, 7, 8, 9, 10, 1, 2, 3, 4, 5, 6, 7, 8, 9, 10, 1, 2, 3, 4, 5, 6, 7, 8, 9, 10, 1, 2, 3, 4, 5, 6, 7, 8, 9, 10, 10, 2, 5, 9, 1, 2, 3, 4, 5, 6, 7, 8, 9, 10, 1, 2, 3, 4, 5, 6, 7, 8, 9, 10, 1, 2, 3, 4, 5, 6, 7, 8, 9, 10, 1, 2, 3, 4, 5, 6, 7, 8, 9, 10, 1, 2, 3, 4, 5, 6, 7, 8, 9, 10, 4, 1, 2, 3, 4, 5, 6, 7, 8, 9, 10, 2, 4, 3, 7, 1, 2, 3, 4, 5, 6, 7, 8, 9, 10, 1, 2, 3, 4, 5, 6, 7, 8, 9, 10, 1, 2, 3, 4, 5, 6, 7, 8, 9, 10, 1, 2, 3, 4, 5, 6, 7, 8, 9, 10, 1, 2, 3, 4, 7, 8, 9, 10, 1, 8, 9, 2, 3, 4, 5, 6, 7, 9, 6, 2, 3, 4, 5, 6, 7, 8, 9, 1, 2, 3, 4, 5, 6, 7, 8, 9, 10, 1, 2, 3, 5, 6, 8, 10, 1, 2, 3, 4, 5, 6, 7, 8, 9, 10, 1, 2, 5, 9, 10, 1, 2, 3, 4, 5, 6, 8, 9, 10, 1, 2, 3, 5, 6, 7, 8, 9, 10, 1, 2, 3, 4, 5, 6, 7, 8, 9, 10, 10, 10, 1, 2, 3, 4, 5, 6, 7, 8, 9, 10, 1, 4, 10, 1, 2, 3, 8, 1, 2, 3, 4, 6, 7, 8, 9, 10, 1, 2, 3, 4, 5, 6, 7, 8, 9, 10, 4, 1, 8, 9, 1, 2, 3, 4, 5, 6, 7, 8, 9, 10, 1, 2, 3, 4, 5, 6, 7, 8, 9, 10, 1, 2, 4, 5, 7, 10, 1, 9, 8, 1, 2, 5, 8, 9, 1, 2, 3, 4, 5, 6, 7, 8, 9, 10, 1, 2, 3, 4, 5, 6, 7, 8, 9, 10, 1, 3, 4, 5, 7, 9, 10, 1, 2, 3, 4, 5, 6, 7, 8, 9, 10, 1, 2, 3, 4, 8, 10, 1, 3, 4, 5, 6, 1, 2, 3, 5, 6, 8, 9, 10, 2, 4, 6, 10, 5, 10, 2, 6, 1, 2, 3, 4, 5, 6, 7, 8, 9, 10, 2, 8, 1, 2, 3, 4, 5, 6, 7, 8, 9, 10, 1, 4, 6, 8, 9, 4, 1, 2, 3, 4, 5, 6, 7, 8, 9, 10, 1, 2, 3, 4, 5, 6, 7, 8, 9, 10, 1, 2, 3, 4, 5, 6, 7, 8, 9, 10, 1, 2, 3, 4, 5, 6, 7, 8, 9, 10, 1, 2, 3, 4, 5, 6, 7, 8, 9, 10, 1, 2, 3, 4, 5, 6, 7, 8, 9, 10, 1, 2, 3, 4, 5, 6, 10, 1, 2, 3, 5, 7, 8, 9, 10, 1, 2, 3, 7, 8, 9, 10, 7, 1, 4, 5, 1, 2, 3, 4, 5, 6, 7, 8, 9, 10, 2, 3, 4, 5, 6, 7, 9, 2, 9, 1, 2, 3, 4, 5, 6, 7, 8, 9, 10, 1, 4, 6, 9, 1, 2, 3, 4, 5, 6, 7, 8, 9, 1, 2, 3, 4, 5, 6, 7, 8, 9, 10, 1, 2, 3, 4, 5, 6, 7, 8, 9, 10, 1, 2, 3, 4, 5, 6, 7, 8, 9, 10, 1, 2, 3, 5, 8, 9, 8, 10, 2, 3, 4, 6, 7, 8, 9, 10, 2, 7, 9, 1, 2, 3, 4, 5, 6, 7, 8, 9, 10, 1, 2, 3, 4, 5, 6, 7, 8, 9, 10, 1, 2, 3, 4, 5, 6, 7, 8, 9, 10, 2, 4, 8, 9, 1, 3, 4, 5, 6, 8, 9, 10, 1, 6, 8, 9, 1, 2, 3, 4, 5, 6, 7, 8, 9, 10, 1, 2, 3, 5, 6, 9, 10, 1, 2, 3, 4, 5, 6, 7, 8, 9, 10, 1, 2, 3, 4, 5, 6, 7, 8, 9, 10, 1, 2, 3, 4, 5, 6, 7, 8, 9, 10, 1, 2, 3, 4, 5, 7, 8, 9, 10, 1, 1, 2, 3, 4, 5, 6, 7, 8, 9, 10, 1, 2, 3, 4, 5, 6, 7, 8, 9, 10, 1, 2, 3, 4, 5, 6, 8, 9, 10, 5, 10, 1, 2, 3, 4, 5, 6, 7, 8, 9, 10, 1, 2, 3, 8, 4, 7, 9, 1, 2, 3, 4, 5, 6, 7, 8, 9, 10, 3, 4, 5, 7, 1, 2, 3, 4, 5, 6, 7, 8, 9, 10, 4, 5, 1, 2, 5, 8, 9, 1, 2, 3, 4, 5, 6, 7, 8, 9, 10, 1, 2, 3, 5, 6, 7, 8, 9, 10, 1, 2, 3, 4, 5, 6, 7, 8, 9, 10, 1, 4, 6, 1, 2, 3, 4, 5, 6, 7, 8, 9, 10, 1, 2, 3, 4, 5, 9, 10, 1, 2, 3, 4, 5, 6, 7, 8, 9, 10, 1, 2, 3, 4, 5, 6, 7, 8, 9, 10, 4, 9, 1, 4, 1, 2, 3, 4, 5, 6, 7, 8, 9, 10, 2, 4, 6, 7, 8, 1, 2, 3, 4, 5, 6, 7, 8, 9, 10, 2, 3, 4, 1, 2, 3, 4, 5, 6, 7, 8, 9, 10, 1, 3, 7, 1, 2, 3, 4, 5, 6, 7, 8, 9, 10, 1, 2, 3, 4, 5, 6, 7, 8, 9, 4, 1, 2, 3, 4, 5, 6, 7, 8, 9, 10, 2, 3, 4, 5, 7, 8, 9, 10, 1, 2, 3, 4, 5, 6, 7, 8, 9, 10, 1, 2, 4, 6, 8, 9, 10, 1, 2, 3, 4, 5, 6, 7, 8, 9, 10, 1, 2, 3, 4, 5, 6, 7, 8, 9, 10, 2, 4, 7, 1, 2, 3, 4, 5, 6, 7, 8, 9, 10, 1, 2, 3, 4, 5, 6, 7, 8, 10, 4, 8, 9, 1, 8, 9, 4, 2, 2, 3, 4, 6, 5, 9, 1, 5, 7, 8, 10, 1, 3, 5, 8, 1, 3, 6, 8, 10, 1, 3, 5, 6, 8, 10, 1, 3, 6, 8, 10, 1, 3, 6, 8, 10, 1, 3, 6, 8, 10, 1, 3, 6, 8, 1, 3, 4, 5, 6, 8, 10, 1, 2, 3, 5, 6, 7, 8, 9, 10, 6, 3, 5, 6, 6, 1, 2, 3, 4, 5, 7, 8, 9, 10, 1, 2, 4, 5, 6, 7, 8, 4, 5, 8, 9, 1, 2, 3, 4, 5, 6, 7, 8, 9, 10, 1, 2, 3, 4, 5, 6, 7, 8, 9, 10, 2, 3, 4, 5, 6, 2, 3, 4, 5, 6, 7, 9, 1, 2, 3, 4, 5, 6, 7, 8, 9, 10, 1, 2, 4, 5, 7, 1, 2, 3, 4, 5, 6, 7, 8, 9, 10, 1, 2, 3, 4, 5, 6, 7, 8, 9, 10, 1, 2, 3, 4, 5, 6, 7, 8, 9, 10, 1, 1, 2, 3, 4, 5, 6, 7, 8, 9, 10, 9, 1, 2, 3, 4, 5, 6, 7, 8, 9, 10, 1, 2, 3, 4, 5, 6, 7, 8, 9, 10, 1, 2, 3, 4, 5, 6, 7, 8, 9, 10, 1, 2, 3, 4, 5, 6, 7, 8, 9, 10, 1, 2, 3, 4, 5, 6, 7, 8, 9, 10, 1, 1, 2, 3, 4, 5, 6, 7, 8, 9, 10, 1, 2, 3, 4, 5, 6, 7, 8, 9, 10, 1, 2, 3, 4, 5, 6, 7, 8, 9, 10, 2, 8, 10, 1, 2, 3, 6, 8, 9, 10, 1, 2, 3, 4, 5, 6, 7, 8, 9, 10, 1, 2, 3, 4, 5, 6, 7, 8, 9, 10, 1, 2, 3, 4, 5, 6, 7, 8, 9, 10, 2, 3, 4, 5, 6, 7, 9, 1, 7, 8, 1, 2, 3, 4, 5, 6, 7, 8, 9, 10, 1, 2, 3, 4, 5, 6, 7, 8, 9, 10, 4, 1, 2, 3, 4, 5, 6, 7, 8, 9, 10, 1, 2, 3, 4, 5, 6, 7, 8, 9, 10, 1, 2, 3, 4, 5, 6, 7, 8, 9, 10, 3, 10, 1, 2, 3, 4, 5, 6, 7, 8, 9, 10, 1, 2, 3, 4, 5, 6, 7, 8, 9, 10, 2, 3, 4, 6, 10, 1, 2, 3, 4, 5, 6, 7, 8, 9, 10, 1, 2, 3, 4, 5, 6, 7, 8, 9, 10, 1, 2, 3, 4, 5, 6, 7, 8, 9, 10, 1, 2, 3, 4, 5, 6, 7, 8, 9, 10, 1, 2, 3, 4, 5, 6, 7, 8, 9, 10, 1, 2, 3, 4, 5, 6, 7, 8, 9, 10, 1, 2, 3, 4, 5, 6, 7, 8, 9, 10, 5, 9, 5, 5, 1, 2, 3, 4, 5, 6, 7, 8, 9, 10, 1, 2, 3, 4, 5, 6, 7, 8, 9, 10, 1, 2, 3, 4, 5, 6, 7, 9, 10, 1, 2, 3, 4, 5, 6, 7, 9, 10, 2, 8, 1, 2, 3, 4, 5, 6, 7, 8, 9, 10, 1, 2, 3, 4, 5, 6, 7, 8, 9, 10, 1, 2, 3, 4, 5, 6, 7, 8, 9, 10, 1, 2, 3, 4, 5, 6, 7, 8, 9, 10, 2, 2, 2, 1, 2, 3, 4, 5, 6, 7, 8, 9, 10, 2, 6, 9, 1, 2, 3, 4, 5, 6, 7, 8, 9, 10, 1, 2, 3, 4, 5, 6, 7, 8, 9, 10, 4, 3, 9, 1, 2, 3, 4, 6, 7, 8, 9, 10, 1, 2, 3, 6, 7, 9, 10, 1, 2, 3, 4, 5, 6, 7, 8, 9, 10, 5, 6, 1, 2, 3, 4, 5, 6, 7, 8, 9, 10, 8, 7, 3, 4, 10, 1, 2, 3, 4, 5, 6, 7, 8, 9, 10, 1, 2, 3, 4, 5, 6, 7, 8, 9, 10, 2, 3, 4, 5, 6, 7, 9, 1, 2, 3, 5, 6, 8, 10, 1, 2, 3, 5, 6, 7, 8, 9, 10, 1, 2, 3, 4, 5, 6, 7, 8, 9, 10, 1, 2, 3, 4, 5, 6, 7, 8, 9, 10, 1, 2, 3, 4, 5, 6, 7, 8, 9, 10, 5, 6, 10, 6, 1, 2, 3, 4, 5, 6, 7, 8, 9, 10, 1, 2, 3, 4, 5, 6, 7, 8, 9, 10, 1, 2, 5, 7, 8, 1, 2, 3, 4, 5, 6, 7, 8, 9, 10, 7, 1, 2, 3, 4, 5, 6, 7, 8, 9, 10, 1, 2, 3, 4, 5, 6, 7, 8, 9, 10, 2, 1, 2, 3, 4, 5, 6, 7, 8, 9, 10, 3, 6, 7, 9, 10, 1, 2, 3, 4, 5, 6, 7, 8, 9, 10, 10, 6, 7, 4, 2, 1, 2, 5, 8, 9, 2, 4, 8, 1, 2, 3, 4, 5, 6, 7, 8, 9, 10, 2, 2, 1, 2, 3, 4, 5, 6, 7, 8, 9, 10, 1, 2, 3, 4, 5, 6, 7, 8, 9, 10, 1, 2, 3, 4, 5, 6, 7, 8, 9, 10, 7, 7, 1, 2, 3, 4, 5, 6, 7, 8, 9, 10, 3, 6, 8, 1, 2, 3, 4, 5, 6, 7, 8, 9, 10, 2, 3, 4, 6, 1, 6, 10, 1, 2, 3, 5, 6, 7, 8, 9, 10, 1, 2, 3, 4, 5, 6, 8, 9, 10, 1, 2, 3, 4, 5, 6, 7, 8, 9, 10, 1, 2, 3, 4, 5, 7, 8, 9, 10, 1, 2, 3, 4, 5, 6, 7, 8, 9, 10, 1, 2, 3, 4, 5, 6, 7, 8, 9, 10, 1, 2, 3, 4, 5, 6, 7, 8, 9, 10, 1, 2, 3, 4, 5, 6, 7, 8, 9, 10, 1, 2, 3, 4, 5, 6, 7, 8, 9, 10, 1, 2, 3, 4, 6, 7, 8, 9, 10, 1, 2, 3, 4, 5, 6, 7, 8, 9, 10, 1, 2, 4, 5, 6, 7, 8, 9, 10, 1, 2, 3, 4, 5, 6, 7, 8, 9, 10, 2, 5, 10, 6, 7, 6, 7, 1, 2, 3, 6, 8, 1, 2, 3, 4, 5, 6, 7, 8, 9, 10, 1, 2, 3, 4, 5, 6, 7, 8, 9, 10, 1, 2, 3, 4, 5, 6, 7, 8, 9, 10, 1, 2, 3, 4, 5, 6, 7, 8, 9, 10, 6, 5, 4, 4, 1, 10, 6, 6, 3, 6, 8, 1, 2, 3, 4, 5, 6, 7, 8, 9, 10, 8, 1, 2, 3, 4, 5, 6, 7, 8, 9, 10, 2, 5, 10, 1, 2, 3, 4, 5, 6, 7, 8, 9, 10, 3, 1, 4, 5, 6, 7, 9, 1, 2, 3, 4, 5, 6, 7, 8, 9, 10, 1, 2, 3, 4, 5, 6, 7, 8, 9, 10, 1, 2, 3, 4, 8, 1, 2, 3, 4, 5, 6, 7, 8, 9, 10, 1, 3, 5, 9, 2, 3, 6, 8, 9, 1, 2, 3, 4, 6, 7, 8, 9, 10, 1, 2, 3, 4, 5, 6, 7, 8, 9, 10, 1, 2, 3, 4, 5, 6, 7, 8, 9, 10, 2, 3, 1, 2, 3, 4, 5, 6, 7, 8, 9, 10, 1, 7, 10, 1, 2, 3, 4, 5, 6, 7, 8, 9, 10, 1, 2, 3, 4, 5, 6, 7, 8, 9, 10, 1, 2, 3, 4, 5, 6, 7, 8, 9, 10, 1, 2, 3, 4, 5, 6, 7, 8, 9, 10, 6, 8, 1, 2, 3, 4, 5, 6, 7, 8, 9, 10, 1, 2, 3, 4, 5, 6, 7, 8, 9, 10, 1, 2, 3, 4, 5, 6, 7, 8, 9, 10, 1, 2, 3, 4, 5, 6, 7, 8, 9, 10, 1, 2, 3, 4, 5, 6, 7, 8, 9, 10, 2, 3, 1, 2, 3, 4, 5, 6, 7, 8, 9, 10, 1, 9, 1, 2, 3, 4, 5, 6, 7, 8, 9, 10, 1, 2, 4, 8, 9, 3, 5, 7, 9, 10, 3, 5, 7, 8, 9, 10, 1, 2, 3, 4, 5, 6, 7, 8, 9, 10, 1, 2, 3, 4, 5, 6, 7, 8, 9, 10, 4, 5, 6, 1, 3, 4, 5, 7, 8, 9, 10, 8, 1, 2, 3, 4, 8, 1, 2, 3, 4, 5, 6, 7, 8, 9, 10, 1, 2, 4, 5, 6, 7, 8, 10, 2, 3, 4, 5, 6, 7, 8, 9, 1, 2, 3, 4, 5, 6, 7, 8, 9, 10, 1, 6, 9, 1, 2, 3, 4, 5, 6, 7, 8, 9, 10, 2, 3, 4, 5, 6, 7, 9, 1, 2, 3, 4, 5, 6, 7, 8, 9, 10, 1, 4, 5, 6, 7, 8, 9, 6, 7, 1, 2, 3, 4, 5, 6, 7, 8, 9, 10, 1, 7, 1, 2, 3, 4, 5, 6, 7, 8, 9, 10, 2, 3, 4, 5, 6, 7, 9, 1, 7, 10, 8, 2, 8, 10, 6, 1, 2, 9, 10, 1, 2, 3, 4, 5, 6, 7, 8, 9, 10, 1, 2, 3, 4, 5, 6, 7, 8, 9, 10, 2, 5, 10, 4, 8, 9, 5, 9, 2, 8, 3, 5, 9, 1, 2, 3, 4, 5, 6, 7, 8, 9, 10, 1, 2, 3, 4, 5, 6, 7, 8, 9, 10, 2, 1, 2, 3, 4, 5, 6, 7, 8, 9, 10, 1, 2, 3, 4, 5, 6, 7, 8, 9, 10, 1, 2, 3, 4, 5, 6, 7, 8, 9, 10, 1, 2, 3, 4, 5, 6, 8, 9, 1, 2, 3, 4, 5, 6, 7, 8, 9, 10, 1, 2, 3, 4, 5, 6, 7, 8, 9, 10, 8, 1, 2, 4, 5, 7, 9, 10, 1, 2, 3, 4, 5, 6, 7, 8, 9, 10, 1, 2, 3, 4, 5, 6, 7, 8, 9, 10, 1, 2, 3, 4, 5, 6, 7, 8, 9, 10, 2, 3, 4, 6, 8, 9, 10, 1, 8, 9, 1, 2, 3, 4, 5, 6, 7, 8, 9, 10, 2, 1, 2, 3, 4, 5, 6, 8, 9, 10, 7, 7, 9, 1, 2, 3, 4, 5, 6, 7, 8, 9, 10, 3, 6, 7, 1, 2, 3, 5, 6, 7, 8, 9, 10, 1, 2, 3, 4, 5, 6, 8, 10, 1, 2, 3, 4, 5, 6, 8, 9, 10, 1, 4, 5, 7, 8, 9, 5, 9, 7, 1, 2, 3, 4, 5, 6, 7, 8, 9, 10, 1, 2, 3, 4, 5, 6, 7, 8, 9, 10, 1, 2, 3, 4, 5, 7, 9, 10, 1, 4, 7, 10, 1, 2, 3, 4, 5, 6, 7, 8, 9, 10, 1, 2, 3, 4, 5, 6, 7, 8, 9, 10, 1, 2, 3, 4, 5, 6, 7, 8, 9, 10, 1, 2, 3, 4, 5, 6, 7, 8, 9, 10, 1, 4, 6, 9, 1, 2, 5, 9, 10, 10, 5, 9, 1, 2, 3, 4, 5, 6, 7, 8, 9, 10, 1, 2, 3, 4, 5, 6, 7, 8, 9, 10, 1, 2, 3, 4, 5, 6, 7, 8, 9, 10, 1, 2, 3, 4, 5, 6, 7, 8, 9, 10, 9, 2, 4, 5, 7, 8, 9, 2, 8, 1, 2, 3, 4, 5, 6, 7, 8, 9, 10, 1, 2, 3, 4, 5, 6, 7, 8, 9, 10, 1, 2, 3, 4, 5, 6, 7, 8, 9, 10, 1, 2, 3, 4, 7, 8, 7, 9, 1, 2, 3, 4, 5, 6, 7, 8, 9, 10, 3, 1, 2, 3, 4, 5, 6, 7, 8, 9, 10, 1, 2, 3, 4, 5, 6, 7, 8, 9, 10, 1, 2, 8, 1, 2, 3, 4, 5, 6, 7, 8, 9, 10, 1, 2, 3, 4, 5, 6, 7, 8, 9, 10, 1, 2, 3, 4, 5, 6, 7, 8, 9, 10, 1, 2, 3, 4, 5, 6, 7, 8, 9, 10, 7, 9, 4, 5, 8, 9, 1, 2, 3, 6, 7, 8, 9, 10, 9, 10, 5, 7, 8, 5, 1, 2, 3, 4, 5, 6, 7, 8, 10, 1, 2, 3, 4, 5, 6, 7, 8, 9, 10, 2, 5, 6, 8, 3, 2, 1, 2, 3, 4, 5, 6, 7, 8, 9, 10, 1, 2, 3, 4, 5, 6, 7, 8, 9, 10, 3, 5, 6, 10, 1, 2, 3, 4, 5, 6, 7, 8, 9, 10, 1, 2, 3, 4, 5, 6, 7, 8, 9, 10, 1, 2, 3, 4, 5, 6, 7, 8, 9, 10, 1, 2, 3, 4, 5, 7, 8, 9, 10, 5, 10, 1, 2, 3, 4, 5, 6, 7, 8, 9, 10, 1, 2, 3, 4, 5, 6, 7, 8, 9, 10, 1, 2, 3, 4, 5, 6, 7, 8, 9, 10, 1, 2, 3, 4, 5, 6, 7, 8, 9, 10, 1, 2, 3, 4, 5, 6, 7, 8, 9, 10, 1, 2, 3, 4, 5, 6, 7, 8, 9, 10, 1, 2, 3, 4, 5, 6, 7, 8, 9, 10, 1, 2, 3, 4, 5, 6, 7, 8, 9, 10, 1, 2, 3, 4, 5, 6, 7, 9, 1, 2, 3, 4, 5, 6, 7, 8, 9, 10, 5, 2, 5, 10, 2, 5, 10, 5, 8, 1, 2, 3, 4, 5, 6, 7, 8, 9, 10, 1, 2, 3, 4, 5, 6, 7, 8, 9, 10, 1, 2, 3, 4, 5, 6, 7, 8, 9, 10, 2, 5, 10, 2, 5, 7, 10, 2, 5, 7, 10, 1, 3, 6, 8, 9, 1, 2, 3, 4, 5, 6, 7, 8, 9, 10, 1, 2, 3, 4, 5, 6, 7, 8, 9, 10, 1, 2, 3, 4, 5, 6, 8, 9, 10, 1, 2, 3, 4, 5, 6, 7, 8, 9, 10, 1, 2, 3, 4, 5, 6, 7, 8, 9, 10, 2, 3, 4, 5, 6, 7, 9, 1, 1, 7, 9, 1, 2, 3, 4, 5, 6, 7, 8, 9, 10, 1, 2, 3, 4, 5, 6, 7, 8, 9, 10, 1, 2, 3, 4, 5, 6, 8, 10, 1, 6, 7, 1, 2, 3, 4, 5, 6, 7, 8, 9, 10, 1, 2, 4, 7, 8, 9, 1, 2, 8, 9, 10, 4, 3, 7, 2, 1, 3, 5, 8, 9, 1, 2, 3, 8, 1, 2, 3, 4, 5, 6, 7, 8, 9, 10, 1, 2, 3, 4, 5, 6, 7, 8, 9, 10, 2, 3, 8, 1, 2, 3, 4, 5, 6, 7, 8, 9, 10, 1, 3, 5, 7, 8, 9, 10, 1, 2, 3, 4, 5, 6, 7, 8, 9, 10, 1, 2, 3, 4, 5, 6, 7, 8, 9, 10, 2, 3, 8, 2, 5, 10, 1, 2, 3, 4, 5, 6, 7, 9, 10, 1, 2, 3, 4, 5, 6, 7, 8, 9, 10, 1, 4, 6, 8, 9, 10, 1, 2, 3, 4, 5, 6, 7, 8, 9, 10, 10, 1, 2, 3, 4, 5, 6, 7, 8, 9, 10, 1, 2, 3, 4, 5, 6, 7, 8, 9, 10, 1, 2, 3, 5, 7, 8, 9, 10, 1, 2, 3, 4, 5, 6, 7, 8, 9, 10, 1, 7, 1, 2, 3, 4, 5, 6, 8, 9, 10, 1, 2, 3, 4, 5, 6, 7, 8, 9, 10, 1, 2, 4, 5, 6, 7, 8, 9, 10, 1, 8, 1, 2, 3, 4, 5, 7, 8, 10, 1, 2, 5, 7, 10, 2, 3, 6, 8, 9, 1, 2, 3, 4, 5, 6, 7, 8, 9, 10, 1, 2, 3, 4, 5, 6, 7, 8, 9, 10, 1, 4, 9, 1, 2, 3, 4, 5, 6, 7, 8, 9, 10, 1, 2, 3, 7, 8, 9, 1, 4, 5, 7, 9, 10, 1, 2, 3, 4, 5, 6, 7, 8, 9, 10, 1, 2, 3, 4, 5, 6, 7, 8, 9, 10, 2, 3, 4, 5, 6, 7, 9, 1, 2, 3, 4, 5, 6, 7, 8, 9, 10, 1, 2, 3, 4, 5, 6, 7, 8, 9, 10, 5, 6, 7, 1, 2, 3, 4, 5, 6, 7, 8, 9, 10, 2, 3, 4, 5, 6, 7, 9, 1, 2, 3, 4, 5, 6, 7, 8, 9, 10, 1, 2, 3, 4, 5, 6, 7, 8, 9, 10, 1, 2, 3, 4, 5, 6, 7, 8, 9, 10, 1, 2, 3, 4, 5, 6, 7, 8, 9, 10, 1, 5, 6, 7, 8, 9, 5, 6, 9, 5, 1, 2, 3, 4, 5, 6, 7, 8, 9, 10, 1, 3, 5, 6, 9, 1, 2, 3, 4, 5, 6, 7, 8, 9, 10, 3, 4, 5, 8, 1, 2, 7, 8, 9, 1, 1, 2, 3, 4, 5, 6, 7, 8, 9, 10, 1, 3, 5, 6, 8, 10, 1, 4, 7, 9, 1, 7, 9, 1, 2, 5, 7, 8, 1, 2, 3, 4, 5, 6, 7, 8, 9, 10, 1, 9, 3, 9, 1, 2, 5, 8, 2, 3, 4, 5, 6, 7, 9, 1, 2, 3, 4, 5, 6, 7, 8, 9, 10, 1, 2, 3, 4, 5, 6, 7, 8, 9, 10, 8, 1, 2, 3, 4, 5, 6, 7, 8, 9, 10, 1, 3, 5, 6, 8, 10, 3, 8, 10, 1, 3, 5, 6, 10, 2, 3, 4, 5, 6, 7, 9, 1, 2, 3, 4, 5, 6, 8, 9, 10, 1, 2, 3, 4, 5, 6, 8, 9, 10, 1, 2, 3, 4, 5, 7, 8, 9, 1, 2, 3, 4, 5, 6, 7, 8, 9, 10, 1, 2, 3, 4, 5, 6, 7, 8, 9, 10, 1, 2, 3, 4, 5, 6, 7, 8, 9, 10, 1, 2, 3, 4, 5, 6, 7, 8, 9, 10, 1, 4, 6, 10, 1, 1, 2, 3, 4, 5, 6, 7, 8, 9, 10, 6, 1, 2, 3, 4, 5, 6, 7, 8, 9, 10, 1, 3, 5, 6, 8, 1, 2, 3, 4, 5, 6, 7, 8, 9, 10, 1, 2, 3, 4, 8, 2, 8, 1, 5, 7, 9, 8, 1, 2, 3, 4, 5, 6, 7, 8, 9, 10, 1, 2, 3, 4, 5, 6, 7, 8, 9, 10, 1, 2, 3, 4, 5, 6, 7, 8, 9, 10, 1, 2, 3, 4, 5, 6, 7, 8, 9, 10, 2, 1, 2, 3, 4, 5, 6, 7, 8, 9, 10, 1, 2, 3, 4, 5, 6, 7, 8, 9, 10, 10, 1, 2, 3, 5, 7, 2, 7, 9, 1, 2, 3, 4, 5, 6, 7, 8, 9, 10], \"Freq\": [0.032786156982183456, 0.34225547313690186, 0.13434326648712158, 0.037584129720926285, 0.17352671921253204, 0.03918345272541046, 0.04398142918944359, 0.12874563038349152, 0.03518514335155487, 0.03198649361729622, 0.8243473768234253, 0.03296233341097832, 0.03296233341097832, 0.03296233341097832, 0.8570206761360168, 0.8713250160217285, 0.033512502908706665, 0.033512502908706665, 0.059014830738306046, 0.012759963050484657, 0.08612975478172302, 0.0239249300211668, 0.6507581472396851, 0.07336978614330292, 0.00956997275352478, 0.03668489307165146, 0.014354958198964596, 0.03349490463733673, 0.0907297283411026, 0.047752488404512405, 0.4130590260028839, 0.07083285599946976, 0.06287410855293274, 0.16235846281051636, 0.05969060957431793, 0.042977239936590195, 0.030243244022130966, 0.020692745223641396, 0.8408732414245605, 0.029832959175109863, 0.8949887752532959, 0.05966591835021973, 0.025377437472343445, 0.09135877341032028, 0.05075487494468689, 0.03552841395139694, 0.020301951095461845, 0.649662435054779, 0.08628328889608383, 0.025377437472343445, 0.015226462855935097, 0.005075487773865461, 0.32723087072372437, 0.014874130487442017, 0.029748260974884033, 0.029748260974884033, 0.014874130487442017, 0.014874130487442017, 0.029748260974884033, 0.014874130487442017, 0.014874130487442017, 0.5057204365730286, 0.2583705484867096, 0.12181729078292847, 0.0216127447783947, 0.37331104278564453, 0.0540318638086319, 0.04911987483501434, 0.038313500583171844, 0.03438391163945198, 0.014735962264239788, 0.03340151533484459, 0.2600063383579254, 0.07382896542549133, 0.0609891451895237, 0.02246968448162079, 0.025679638609290123, 0.0802488699555397, 0.009629865176975727, 0.01604977436363697, 0.07061900943517685, 0.3787746727466583, 0.03248673677444458, 0.01624336838722229, 0.01624336838722229, 0.01624336838722229, 0.08121684193611145, 0.01624336838722229, 0.01624336838722229, 0.7959250211715698, 0.01624336838722229, 0.900160014629364, 0.042864762246608734, 0.042864762246608734, 0.024460991844534874, 0.3164640963077545, 0.026754209771752357, 0.08484906703233719, 0.2369658648967743, 0.08637788146734238, 0.07338297367095947, 0.08102703839540482, 0.05045079439878464, 0.018345743417739868, 0.015887673944234848, 0.8261590003967285, 0.015887673944234848, 0.015887673944234848, 0.06355069577693939, 0.015887673944234848, 0.015887673944234848, 0.015887673944234848, 0.01520722545683384, 0.8972262740135193, 0.022810837253928185, 0.01520722545683384, 0.00760361272841692, 0.01520722545683384, 0.01520722545683384, 0.00760361272841692, 0.020391196012496948, 0.47239604592323303, 0.028321105986833572, 0.0317196398973465, 0.1801222413778305, 0.03511817008256912, 0.03738385811448097, 0.14273837208747864, 0.022656884044408798, 0.028321105986833572, 0.8988253474235535, 0.06711525470018387, 0.014914500527083874, 0.7680967450141907, 0.022371750324964523, 0.0894870012998581, 0.014914500527083874, 0.007457250263541937, 0.007457250263541937, 0.007457250263541937, 0.07486104965209961, 0.8983326554298401, 0.663355827331543, 0.0645744577050209, 0.04025420919060707, 0.05451091006398201, 0.04612461477518082, 0.015933958813548088, 0.031029285863041878, 0.024320252239704132, 0.02683614008128643, 0.03270654380321503, 0.03488272428512573, 0.03488272428512573, 0.03488272428512573, 0.03488272428512573, 0.03488272428512573, 0.8023026585578918, 0.03488272428512573, 0.03488272428512573, 0.03488272428512573, 0.8717928528785706, 0.056353840976953506, 0.056353840976953506, 0.8453075885772705, 0.8772194385528564, 0.041262488812208176, 0.013754162937402725, 0.013754162937402725, 0.8390039205551147, 0.06877081096172333, 0.013754162937402725, 0.013754162937402725, 0.027798857539892197, 0.05559771507978439, 0.05559771507978439, 0.027798857539892197, 0.05559771507978439, 0.7783679962158203, 0.885439395904541, 0.018427571281790733, 0.17018403112888336, 0.07154233753681183, 0.05907662585377693, 0.36421552300453186, 0.03522918000817299, 0.0856340080499649, 0.03360321745276451, 0.15067249536514282, 0.01138173509389162, 0.013300959020853043, 0.784756600856781, 0.026601918041706085, 0.026601918041706085, 0.013300959020853043, 0.013300959020853043, 0.026601918041706085, 0.013300959020853043, 0.05320383608341217, 0.026601918041706085, 0.03880985453724861, 0.5184410810470581, 0.06443899869918823, 0.04100663587450981, 0.0695648342370987, 0.02343236468732357, 0.1281457394361496, 0.05345508083701134, 0.03661306947469711, 0.02562914788722992, 0.043018195778131485, 0.043018195778131485, 0.043018195778131485, 0.8173457384109497, 0.8442768454551697, 0.9012007713317871, 0.015396933071315289, 0.09018203616142273, 0.5146974921226501, 0.0593881718814373, 0.061587732285261154, 0.0549890473484993, 0.12977415323257446, 0.028594305738806725, 0.03519298881292343, 0.013197371736168861, 0.1836290806531906, 0.07960798591375351, 0.045641910284757614, 0.09552957862615585, 0.17301468551158905, 0.018044475466012955, 0.2887116074562073, 0.05519486963748932, 0.03502751141786575, 0.02441311441361904, 0.08270347863435745, 0.00636180629953742, 0.7697785496711731, 0.01272361259907484, 0.019085418432950974, 0.019085418432950974, 0.05725625529885292, 0.00636180629953742, 0.02544722519814968, 0.09974582493305206, 0.05514403432607651, 0.2303074449300766, 0.12001936882734299, 0.07217381149530411, 0.16948682069778442, 0.036492377519607544, 0.061631567776203156, 0.13380537927150726, 0.021084483712911606, 0.014138000085949898, 0.12017299979925156, 0.014138000085949898, 0.692762017250061, 0.028276000171899796, 0.09189700335264206, 0.007069000042974949, 0.007069000042974949, 0.014138000085949898, 0.014138000085949898, 0.03941762074828148, 0.016893265768885612, 0.005631088744848967, 0.855925440788269, 0.016893265768885612, 0.005631088744848967, 0.016893265768885612, 0.016893265768885612, 0.022524354979395866, 0.0222574882209301, 0.010117040015757084, 0.026304304599761963, 0.18210671842098236, 0.44717317819595337, 0.11938107013702393, 0.052608609199523926, 0.0222574882209301, 0.09307676553726196, 0.026304304599761963, 0.044535163789987564, 0.044535163789987564, 0.044535163789987564, 0.8461681008338928, 0.03391967713832855, 0.847991943359375, 0.03391967713832855, 0.03391967713832855, 0.06423284113407135, 0.8992598056793213, 0.08405546844005585, 0.4899449646472931, 0.09920059889554977, 0.048464417457580566, 0.11586024612188339, 0.026503976434469223, 0.0310475155711174, 0.034076541662216187, 0.04997892677783966, 0.021203182637691498, 0.03562169522047043, 0.7195582985877991, 0.03562169522047043, 0.007124339230358601, 0.021373018622398376, 0.007124339230358601, 0.09974075108766556, 0.03562169522047043, 0.014248678460717201, 0.021373018622398376, 0.9086251854896545, 0.8255929350852966, 0.03551965951919556, 0.03551965951919556, 0.03551965951919556, 0.8524718284606934, 0.2751007676124573, 0.050018321722745895, 0.10903994739055634, 0.0820300504565239, 0.05602052062749863, 0.20507512986660004, 0.07402712106704712, 0.09803591668605804, 0.032011728733778, 0.020007329061627388, 0.11947363615036011, 0.021083584055304527, 0.11244577914476395, 0.021083584055304527, 0.007027861196547747, 0.5762845873832703, 0.035139307379722595, 0.09136219322681427, 0.014055722393095493, 0.014055722393095493, 0.7940952181816101, 0.024657415226101875, 0.018967242911458015, 0.02845086343586445, 0.015173793770372868, 0.018335001543164253, 0.013909311033785343, 0.02023172564804554, 0.027186380699276924, 0.04046345129609108, 0.06861720234155655, 0.8920236229896545, 0.053907476365566254, 0.026953738182783127, 0.781658411026001, 0.053907476365566254, 0.026953738182783127, 0.022984981536865234, 0.6468630433082581, 0.013134274631738663, 0.2429840862751007, 0.013134274631738663, 0.006567137315869331, 0.026268549263477325, 0.013134274631738663, 0.006567137315869331, 0.009850705973803997, 0.0052772699855268, 0.015831809490919113, 0.8390859365463257, 0.06332723796367645, 0.026386350393295288, 0.0105545399710536, 0.015831809490919113, 0.026386350393295288, 0.06072410196065903, 0.8501374125480652, 0.06430131942033768, 0.021433772519230843, 0.12860263884067535, 0.010716886259615421, 0.06430131942033768, 0.6430131793022156, 0.010716886259615421, 0.042867545038461685, 0.010716886259615421, 0.021433772519230843, 0.855548620223999, 0.3963952362537384, 0.10018780827522278, 0.023957954719662666, 0.3811492621898651, 0.0174239668995142, 0.006533987354487181, 0.013067974708974361, 0.01088997907936573, 0.03266993910074234, 0.019601963460445404, 0.2348770946264267, 0.2133466899394989, 0.025445017963647842, 0.035231564193964005, 0.01565847173333168, 0.009786545298993587, 0.01565847173333168, 0.3973337411880493, 0.03327425569295883, 0.019573090597987175, 0.11257602274417877, 0.7880321741104126, 0.0456995889544487, 0.0456995889544487, 0.0456995889544487, 0.8225926160812378, 0.0456995889544487, 0.1909419596195221, 0.18264013528823853, 0.1079237163066864, 0.00830182433128357, 0.00830182433128357, 0.01660364866256714, 0.01660364866256714, 0.4316948652267456, 0.01660364866256714, 0.01660364866256714, 0.05242675170302391, 0.891254723072052, 0.47471582889556885, 0.048330798745155334, 0.0640830546617508, 0.18437303602695465, 0.02935648523271084, 0.04009666293859482, 0.031146513298153877, 0.05871297046542168, 0.030072495341300964, 0.03973865509033203, 0.879540741443634, 0.3489086329936981, 0.09186047315597534, 0.09145757555961609, 0.06365769356489182, 0.029008569195866585, 0.026994086802005768, 0.0491534098982811, 0.031425949186086655, 0.23569463193416595, 0.03182884678244591, 0.0066842734813690186, 0.0066842734813690186, 0.929114043712616, 0.020052820444107056, 0.026737093925476074, 0.0066842734813690186, 0.042973991483449936, 0.8594798445701599, 0.042973991483449936, 0.042973991483449936, 0.025219937786459923, 0.033626582473516464, 0.008406645618379116, 0.025219937786459923, 0.025219937786459923, 0.016813291236758232, 0.8238512873649597, 0.025219937786459923, 0.008406645618379116, 0.008406645618379116, 0.8245768547058105, 0.07872563600540161, 0.8659820556640625, 0.07956299930810928, 0.8751929402351379, 0.03267163410782814, 0.21236561238765717, 0.012251862324774265, 0.008167908526957035, 0.02450372464954853, 0.012251862324774265, 0.6616005897521973, 0.01633581705391407, 0.01633581705391407, 0.008167908526957035, 0.02893746830523014, 0.02893746830523014, 0.02893746830523014, 0.02893746830523014, 0.02893746830523014, 0.8391865491867065, 0.02893746830523014, 0.02893746830523014, 0.46199533343315125, 0.05476932227611542, 0.02899552322924137, 0.048970215022563934, 0.029639868065714836, 0.09536305069923401, 0.1359567791223526, 0.034794628620147705, 0.033505938947200775, 0.07667704671621323, 0.053029175847768784, 0.8749814033508301, 0.026514587923884392, 0.026514587923884392, 0.02010255493223667, 0.010051277466118336, 0.8518458008766174, 0.005025638733059168, 0.01256409753113985, 0.030153833329677582, 0.002512819366529584, 0.04271792992949486, 0.0075384583324193954, 0.02010255493223667, 0.3104727566242218, 0.2115686982870102, 0.12642519176006317, 0.06450264900922775, 0.014620601199567318, 0.020640848204493523, 0.08428346365690231, 0.01978081278502941, 0.041281696408987045, 0.10664438456296921, 0.020182877779006958, 0.08073151111602783, 0.060548633337020874, 0.7467665076255798, 0.020182877779006958, 0.020182877779006958, 0.020182877779006958, 0.8737480044364929, 0.05460925027728081, 0.03218352049589157, 0.03218352049589157, 0.016091760247945786, 0.016091760247945786, 0.016091760247945786, 0.04827528074383736, 0.836771547794342, 0.09599810093641281, 0.8639829158782959, 0.04575365036725998, 0.3654375374317169, 0.1100454181432724, 0.08223824203014374, 0.11043984442949295, 0.045950863510370255, 0.07691346108913422, 0.0684332624077797, 0.052656140178442, 0.04200658202171326, 0.06854427605867386, 0.017136069014668465, 0.773979127407074, 0.0599762424826622, 0.019992081448435783, 0.011424046009778976, 0.017136069014668465, 0.002856011502444744, 0.022848092019557953, 0.005712023004889488, 0.09305594861507416, 0.03101864829659462, 0.03101864829659462, 0.03101864829659462, 0.06203729659318924, 0.03101864829659462, 0.7444475889205933, 0.7234120965003967, 0.05501677840948105, 0.03160538151860237, 0.04331108182668686, 0.015217406675219536, 0.014046836644411087, 0.024581965059041977, 0.03277595341205597, 0.03043481335043907, 0.028093673288822174, 0.08917898684740067, 0.8472003936767578, 0.04458949342370033, 0.04651268944144249, 0.9069974422454834, 0.023256344720721245, 0.1957349330186844, 0.1289607733488083, 0.13711640238761902, 0.08512430638074875, 0.11213980615139008, 0.04587537422776222, 0.13762612640857697, 0.07085196673870087, 0.04485592246055603, 0.0423072911798954, 0.8523297309875488, 0.06088069826364517, 0.0867195874452591, 0.03716553747653961, 0.7096847295761108, 0.0212374497205019, 0.007079149596393108, 0.019467661157250404, 0.024777023121714592, 0.053093623369932175, 0.007079149596393108, 0.03362596035003662, 0.035200491547584534, 0.07520104944705963, 0.04800067096948624, 0.0528007373213768, 0.14240199327468872, 0.316804438829422, 0.1568021923303604, 0.03040042519569397, 0.1056014746427536, 0.035200491547584534, 0.8430498838424683, 0.8508906364440918, 0.019486045464873314, 0.012990697287023067, 0.019486045464873314, 0.012990697287023067, 0.019486045464873314, 0.012990697287023067, 0.012990697287023067, 0.019486045464873314, 0.019486045464873314, 0.02334967628121376, 0.9106374382972717, 0.02334967628121376, 0.0112150302156806, 0.2130855768918991, 0.0112150302156806, 0.0224300604313612, 0.0112150302156806, 0.695331871509552, 0.0112150302156806, 0.0112150302156806, 0.0112150302156806, 0.0112150302156806, 0.9021150469779968, 0.07831533253192902, 0.13705183565616608, 0.019578833132982254, 0.0048947082832455635, 0.03426295891404152, 0.019578833132982254, 0.01468412484973669, 0.650996208190918, 0.024473542347550392, 0.019578833132982254, 0.04191736876964569, 0.020958684384822845, 0.06287605315446854, 0.04191736876964569, 0.04191736876964569, 0.020958684384822845, 0.04191736876964569, 0.7125952839851379, 0.020958684384822845, 0.061462122946977615, 0.045072223991155624, 0.6016458868980408, 0.02663358673453331, 0.05873047187924385, 0.13111919164657593, 0.010243686847388744, 0.019804460927844048, 0.034828536212444305, 0.010926599614322186, 0.17184892296791077, 0.055290523916482925, 0.08368295431137085, 0.09713199734687805, 0.1135697215795517, 0.01942639984190464, 0.3272601068019867, 0.041841477155685425, 0.017932061105966568, 0.0732225850224495, 0.06713834404945374, 0.10375925898551941, 0.030517427250742912, 0.05493137240409851, 0.05493137240409851, 0.042724400758743286, 0.018310457468032837, 0.5493137240409851, 0.06713834404945374, 0.012206971645355225, 0.042772844433784485, 0.012220812030136585, 0.006110406015068293, 0.02444162406027317, 0.8554568290710449, 0.042772844433784485, 0.006110406015068293, 0.012220812030136585, 0.04301672428846359, 0.04301672428846359, 0.04301672428846359, 0.8173177242279053, 0.08931431919336319, 0.044657159596681595, 0.044657159596681595, 0.759171724319458, 0.26822662353515625, 0.3133067190647125, 0.07607267796993256, 0.05804063379764557, 0.06818366050720215, 0.05184211954474449, 0.054096125066280365, 0.045643605291843414, 0.03324657678604126, 0.030992571264505386, 0.28490740060806274, 0.0845329612493515, 0.061573389917612076, 0.10644891113042831, 0.04591913893818855, 0.03965744003653526, 0.245249941945076, 0.035482972860336304, 0.04278828948736191, 0.05322445556521416, 0.04920131340622902, 0.3075082004070282, 0.02460065670311451, 0.3198085427284241, 0.21833081543445587, 0.01076278742402792, 0.026138197630643845, 0.00922524556517601, 0.029213279485702515, 0.004612622782588005, 0.016304880380630493, 0.21807777881622314, 0.022419210523366928, 0.3688979148864746, 0.2975640594959259, 0.014266770333051682, 0.016304880380630493, 0.006114330142736435, 0.032609760761260986, 0.006114330142736435, 0.8794898986816406, 0.07329082489013672, 0.7254006862640381, 0.031165122985839844, 0.02256225049495697, 0.06395342946052551, 0.025321662425994873, 0.020452111959457397, 0.024997025728225708, 0.014284014701843262, 0.024997025728225708, 0.046747684478759766, 0.7820913195610046, 0.014881230890750885, 0.016534700989723206, 0.03968328237533569, 0.016534700989723206, 0.011574290692806244, 0.019841641187667847, 0.02645552158355713, 0.02645552158355713, 0.046297162771224976, 0.05471751093864441, 0.019541967660188675, 0.03908393532037735, 0.8051291108131409, 0.027358755469322205, 0.01172518078237772, 0.01563357561826706, 0.00781678780913353, 0.01172518078237772, 0.01563357561826706, 0.8632856607437134, 0.041108839213848114, 0.041108839213848114, 0.8253655433654785, 0.021917566657066345, 0.021917566657066345, 0.04383513331413269, 0.8767026662826538, 0.01691744662821293, 0.8797072768211365, 0.03383489325642586, 0.01691744662821293, 0.01691744662821293, 0.01691744662821293, 0.01691744662821293, 0.03009011596441269, 0.015045057982206345, 0.007522528991103172, 0.007522528991103172, 0.03761264309287071, 0.007522528991103172, 0.7823429703712463, 0.03761264309287071, 0.015045057982206345, 0.05265770107507706, 0.8712105751037598, 0.09334399551153183, 0.2582755982875824, 0.2404634803533554, 0.00667954096570611, 0.04898330196738243, 0.01335908193141222, 0.011132568120956421, 0.017812108621001244, 0.031171191483736038, 0.04675678536295891, 0.3295240104198456, 0.09500791132450104, 0.09003656357526779, 0.16239723563194275, 0.15908300876617432, 0.17841601371765137, 0.08561759442090988, 0.05468478426337242, 0.08230336010456085, 0.06683696061372757, 0.025961462408304214, 0.07530654221773148, 0.02547132968902588, 0.5116415023803711, 0.07641398906707764, 0.0332234725356102, 0.11738960444927216, 0.02879367768764496, 0.07862889021635056, 0.02547132968902588, 0.02768622897565365, 0.08103029429912567, 0.08455335348844528, 0.028184451162815094, 0.5390276312828064, 0.03523056209087372, 0.014092225581407547, 0.03523056209087372, 0.01056916918605566, 0.16910670697689056, 0.0035230563953518867, 0.03521645441651344, 0.02347763627767563, 0.005869409069418907, 0.02347763627767563, 0.005869409069418907, 0.02347763627767563, 0.011738818138837814, 0.01760822720825672, 0.839325487613678, 0.01760822720825672, 0.22117337584495544, 0.08355438709259033, 0.0663520097732544, 0.331760048866272, 0.041777193546295166, 0.031332895159721375, 0.05406460165977478, 0.08048253506422043, 0.06143704801797867, 0.028875412419438362, 0.05402752384543419, 0.05402752384543419, 0.05402752384543419, 0.8104128241539001, 0.06362590193748474, 0.05453649163246155, 0.027268245816230774, 0.04544707387685776, 0.009089414961636066, 0.05453649163246155, 0.618080198764801, 0.036357659846544266, 0.027268245816230774, 0.05453649163246155, 0.04098546504974365, 0.11730322241783142, 0.1102367639541626, 0.3010311722755432, 0.11588992923498154, 0.05794496461749077, 0.0551183819770813, 0.13002285361289978, 0.04663863033056259, 0.024025961756706238, 0.7555944323539734, 0.010438605211675167, 0.05139005929231644, 0.03131581470370293, 0.02248314954340458, 0.03292175754904747, 0.015256423503160477, 0.01927127130329609, 0.02569502964615822, 0.03533066436648369, 0.08994364738464355, 0.809492826461792, 0.3692183494567871, 0.047532662749290466, 0.07922110706567764, 0.19925308227539062, 0.12387300282716751, 0.052814070135354996, 0.03841023147106171, 0.023046139627695084, 0.0441717691719532, 0.0220858845859766, 0.3117671012878418, 0.16907577216625214, 0.03015364147722721, 0.07484564185142517, 0.02799980901181698, 0.03984588384628296, 0.04953812435269356, 0.048999667167663574, 0.044153545051813126, 0.2024601548910141, 0.25747352838516235, 0.13936640322208405, 0.06377784162759781, 0.08031284064054489, 0.051967132836580276, 0.04960498958826065, 0.06850212812423706, 0.06141570210456848, 0.035432133823633194, 0.19369567930698395, 0.20423248410224915, 0.01775934547185898, 0.053278036415576935, 0.026639018207788467, 0.022199181839823723, 0.03995852917432785, 0.04883820191025734, 0.031078854575753212, 0.5327803492546082, 0.01775934547185898, 0.17301823198795319, 0.03460364416241646, 0.03460364416241646, 0.03460364416241646, 0.7266765832901001, 0.3954092860221863, 0.03817744925618172, 0.11944086849689484, 0.12162244319915771, 0.09108047932386398, 0.04526754468679428, 0.034905094653367996, 0.02127029187977314, 0.06108391657471657, 0.07199175655841827, 0.10617802292108536, 0.17151834070682526, 0.008167540654540062, 0.008167540654540062, 0.024502620100975037, 0.016335081309080124, 0.11434556543827057, 0.03267016261816025, 0.514555037021637, 0.049140144139528275, 0.049140144139528275, 0.8845226168632507, 0.055033326148986816, 0.09401526302099228, 0.009172220714390278, 0.006879165768623352, 0.7016748785972595, 0.018344441428780556, 0.018344441428780556, 0.02980971708893776, 0.055033326148986816, 0.016051387414336205, 0.04925386235117912, 0.04925386235117912, 0.04925386235117912, 0.04925386235117912, 0.016417954117059708, 0.016417954117059708, 0.7552258968353271, 0.016417954117059708, 0.02785916067659855, 0.0557183213531971, 0.02785916067659855, 0.8079156279563904, 0.02785916067659855, 0.02785916067659855, 0.02785916067659855, 0.02785916067659855, 0.29381269216537476, 0.13246683776378632, 0.1142604872584343, 0.11112146824598312, 0.05713024362921715, 0.0621526837348938, 0.048968780785799026, 0.10861024260520935, 0.034529268741607666, 0.03641268238425255, 0.01342496182769537, 0.8457726240158081, 0.04027488827705383, 0.01342496182769537, 0.01342496182769537, 0.01342496182769537, 0.01342496182769537, 0.02684992365539074, 0.01342496182769537, 0.01342496182769537, 0.23266816139221191, 0.06309644877910614, 0.06782868504524231, 0.10963008552789688, 0.15379759669303894, 0.17351524531841278, 0.043378811329603195, 0.02760469727218151, 0.0741383284330368, 0.05284327641129494, 0.8488485217094421, 0.017323439940810204, 0.010394063778221607, 0.027717502787709236, 0.013858751393854618, 0.013858751393854618, 0.010394063778221607, 0.010394063778221607, 0.024252815172076225, 0.024252815172076225, 0.8345037698745728, 0.047794193029403687, 0.8602954745292664, 0.047794193029403687, 0.04061580076813698, 0.01476938184350729, 0.05907752737402916, 0.06276987493038177, 0.12553974986076355, 0.41723504662513733, 0.07384690642356873, 0.033231109380722046, 0.114462710916996, 0.055385179817676544, 0.07185570150613785, 0.1546180695295334, 0.07057256251573563, 0.12189806252717972, 0.13408786058425903, 0.14756080508232117, 0.1488439440727234, 0.05068393051624298, 0.08725334703922272, 0.011548236943781376, 0.09561818838119507, 0.07614041119813919, 0.05843333899974823, 0.04603838920593262, 0.1876949667930603, 0.2381601184606552, 0.10004495829343796, 0.056662630289793015, 0.09207677841186523, 0.04869445040822029, 0.20633816719055176, 0.17916017770767212, 0.11836729943752289, 0.09512297064065933, 0.022171519696712494, 0.09011649340391159, 0.06508413702249527, 0.04434303939342499, 0.13016827404499054, 0.04899190366268158, 0.10193639993667603, 0.03185512498021126, 0.6477208733558655, 0.03822614997625351, 0.03822614997625351, 0.0785759761929512, 0.021236751228570938, 0.010618375614285469, 0.019113074988126755, 0.014865725301206112, 0.8765827417373657, 0.3455609977245331, 0.20432136952877045, 0.050782788544893265, 0.144810289144516, 0.04245123639702797, 0.019440285861492157, 0.0880763977766037, 0.04959256574511528, 0.035706646740436554, 0.019837025552988052, 0.9065680503845215, 0.03777366876602173, 0.9139984846115112, 0.9162898063659668, 0.05960758775472641, 0.029803793877363205, 0.014901896938681602, 0.11921517550945282, 0.029803793877363205, 0.014901896938681602, 0.6854872107505798, 0.014901896938681602, 0.014901896938681602, 0.014901896938681602, 0.292306125164032, 0.353885293006897, 0.030399836599826813, 0.03741518408060074, 0.028840871527791023, 0.0358562171459198, 0.13952745497226715, 0.020266558974981308, 0.023384490981698036, 0.03897415101528168, 0.053102824836969376, 0.7021373510360718, 0.00590031361207366, 0.04130219668149948, 0.07080376148223877, 0.00590031361207366, 0.017700940370559692, 0.017700940370559692, 0.029501568526029587, 0.053102824836969376, 0.8389639854431152, 0.016133923083543777, 0.008066961541771889, 0.024200884625315666, 0.016133923083543777, 0.028234366327524185, 0.012100442312657833, 0.016133923083543777, 0.028234366327524185, 0.012100442312657833, 0.05120621249079704, 0.802230715751648, 0.03413747623562813, 0.017068738117814064, 0.017068738117814064, 0.05120621249079704, 0.017068738117814064, 0.017068738117814064, 0.9065719246864319, 0.0362628772854805, 0.0362628772854805, 0.016925113275647163, 0.8801059126853943, 0.05077534168958664, 0.016925113275647163, 0.016925113275647163, 0.016925113275647163, 0.016925113275647163, 0.7463257908821106, 0.023863762617111206, 0.023863762617111206, 0.011931881308555603, 0.059659406542778015, 0.011931881308555603, 0.6681853532791138, 0.011931881308555603, 0.17897821962833405, 0.10244667530059814, 0.006829778663814068, 0.7649351954460144, 0.006829778663814068, 0.013659557327628136, 0.02731911465525627, 0.006829778663814068, 0.02731911465525627, 0.006829778663814068, 0.04097867012023926, 0.03856148198246956, 0.05784222111105919, 0.05784222111105919, 0.01928074099123478, 0.01928074099123478, 0.6169837117195129, 0.17352667450904846, 0.03256993740797043, 0.06513987481594086, 0.08142484724521637, 0.016284968703985214, 0.040712423622608185, 0.5944013595581055, 0.008142484351992607, 0.02442745305597782, 0.06513987481594086, 0.06513987481594086, 0.06821857392787933, 0.03410928696393967, 0.03410928696393967, 0.03410928696393967, 0.7845135927200317, 0.04135102033615112, 0.006891836877912283, 0.11716122925281525, 0.013783673755824566, 0.006891836877912283, 0.7649939060211182, 0.0344591848552227, 0.006891836877912283, 0.006891836877912283, 0.02901935763657093, 0.04836559295654297, 0.07738494873046875, 0.7448301315307617, 0.02901935763657093, 0.009673118591308594, 0.019346237182617188, 0.009673118591308594, 0.02901935763657093, 0.3177492618560791, 0.011348187923431396, 0.022696375846862793, 0.03404456377029419, 0.07376322150230408, 0.05674093961715698, 0.011348187923431396, 0.05674093961715698, 0.022696375846862793, 0.3971865773200989, 0.8241910338401794, 0.8398043513298035, 0.1130259782075882, 0.27377402782440186, 0.06028052419424057, 0.15195715427398682, 0.02260519564151764, 0.04646623507142067, 0.22856365144252777, 0.03265194967389107, 0.052745457738637924, 0.018837664276361465, 0.14837099611759186, 0.04945699870586395, 0.7418549656867981, 0.047259870916604996, 0.047259870916604996, 0.047259870916604996, 0.8034178018569946, 0.02682759240269661, 0.08048278093338013, 0.02682759240269661, 0.02682759240269661, 0.05365518480539322, 0.02682759240269661, 0.05365518480539322, 0.6975173950195312, 0.02682759240269661, 0.7711122035980225, 0.011713096871972084, 0.01756964437663555, 0.032536379992961884, 0.015617462806403637, 0.015617462806403637, 0.01691891811788082, 0.009110186249017715, 0.024076921865344048, 0.08589604496955872, 0.8064845204353333, 0.900739312171936, 0.036029573529958725, 0.036029573529958725, 0.4516792297363281, 0.0071695116348564625, 0.004779674578458071, 0.019118698313832283, 0.009559349156916142, 0.0071695116348564625, 0.02867804653942585, 0.0071695116348564625, 0.43734022974967957, 0.02867804653942585, 0.8575928211212158, 0.014871551655232906, 0.009914368391036987, 0.019828736782073975, 0.014871551655232906, 0.019828736782073975, 0.009914368391036987, 0.019828736782073975, 0.014871551655232906, 0.014871551655232906, 0.8718368411064148, 0.015568515285849571, 0.015568515285849571, 0.015568515285849571, 0.04670554772019386, 0.015568515285849571, 0.08238259702920914, 0.8238259553909302, 0.825728714466095, 0.0455300472676754, 0.0455300472676754, 0.0455300472676754, 0.8195408582687378, 0.0455300472676754, 0.7793205976486206, 0.022133171558380127, 0.013978845439851284, 0.04193653538823128, 0.013978845439851284, 0.01048413384705782, 0.029122594743967056, 0.012813941575586796, 0.043101441115140915, 0.03261730447411537, 0.7679089903831482, 0.02143588289618492, 0.03278429061174393, 0.030262421816587448, 0.02143588289618492, 0.010087474249303341, 0.02521868608891964, 0.015131210908293724, 0.02521868608891964, 0.05043737217783928, 0.1498611569404602, 0.014986115507781506, 0.02997223101556301, 0.014986115507781506, 0.02997223101556301, 0.7043474316596985, 0.04495834559202194, 0.015278448350727558, 0.13241322338581085, 0.015278448350727558, 0.7129942178726196, 0.059416186064481735, 0.01358084287494421, 0.015278448350727558, 0.006790421437472105, 0.01867365837097168, 0.010185631923377514, 0.026431741192936897, 0.026431741192936897, 0.10572696477174759, 0.7929521799087524, 0.026431741192936897, 0.8250805139541626, 0.0244167260825634, 0.0244167260825634, 0.0488334521651268, 0.8301686644554138, 0.0244167260825634, 0.024425648152828217, 0.024425648152828217, 0.024425648152828217, 0.8304720520973206, 0.024425648152828217, 0.024425648152828217, 0.024425648152828217, 0.024425648152828217, 0.834896981716156, 0.03975699841976166, 0.03975699841976166, 0.03975699841976166, 0.1168021485209465, 0.8176150321960449, 0.0496133454144001, 0.8434268832206726, 0.7133898138999939, 0.02511935867369175, 0.012918527238070965, 0.06387494504451752, 0.01507161557674408, 0.0717695951461792, 0.02081318385899067, 0.0179423987865448, 0.01866009458899498, 0.04090867191553116, 0.8914530277252197, 0.06367521733045578, 0.023733194917440414, 0.09238994121551514, 0.34430086612701416, 0.04221118241548538, 0.2191930115222931, 0.174608513712883, 0.025936992838978767, 0.043567366898059845, 0.021020829677581787, 0.01288373488932848, 0.04281112551689148, 0.04281112551689148, 0.04281112551689148, 0.04281112551689148, 0.8134114146232605, 0.8275357484817505, 0.19244828820228577, 0.03079172596335411, 0.015395862981677055, 0.07697931677103043, 0.015395862981677055, 0.07697931677103043, 0.04618758708238602, 0.015395862981677055, 0.02309379354119301, 0.5080634951591492, 0.5584052801132202, 0.03784414380788803, 0.01905820146203041, 0.1023697629570961, 0.061530765146017075, 0.040839001536369324, 0.04029448330402374, 0.06261980533599854, 0.03893318027257919, 0.03811640292406082, 0.8196667432785034, 0.01546541042625904, 0.00773270521312952, 0.01546541042625904, 0.05412893742322922, 0.011599058285355568, 0.01546541042625904, 0.01546541042625904, 0.01546541042625904, 0.03093082085251808, 0.49620845913887024, 0.05928270146250725, 0.02815491147339344, 0.22891166806221008, 0.04240724444389343, 0.02456996962428093, 0.03523735702037811, 0.017400085926055908, 0.0457298718392849, 0.022209154441952705, 0.15299953520298004, 0.05932634696364403, 0.03434683382511139, 0.04059171304106712, 0.515202522277832, 0.05620390921831131, 0.062448788434267044, 0.03434683382511139, 0.02185707539319992, 0.024979515001177788, 0.24057014286518097, 0.06415203958749771, 0.016038009896874428, 0.024057015776634216, 0.016038009896874428, 0.05613303557038307, 0.024057015776634216, 0.016038009896874428, 0.024057015776634216, 0.5132163166999817, 0.04416457563638687, 0.04416457563638687, 0.04416457563638687, 0.04416457563638687, 0.04416457563638687, 0.04416457563638687, 0.7066332101821899, 0.2980048656463623, 0.006772838067263365, 0.006772838067263365, 0.643419623374939, 0.01354567613452673, 0.006772838067263365, 0.006772838067263365, 0.020318513736128807, 0.028104862198233604, 0.8431458473205566, 0.028104862198233604, 0.028104862198233604, 0.028104862198233604, 0.028104862198233604, 0.8239855766296387, 0.8749435544013977, 0.03972357511520386, 0.8739186525344849, 0.03972357511520386, 0.05878708139061928, 0.02519446238875389, 0.6858492493629456, 0.08258184790611267, 0.07838277518749237, 0.018196001648902893, 0.018196001648902893, 0.005598769523203373, 0.011197539046406746, 0.01539661642163992, 0.016916286200284958, 0.879646897315979, 0.033832572400569916, 0.016916286200284958, 0.016916286200284958, 0.016916286200284958, 0.016916286200284958, 0.07281238585710526, 0.8009362816810608, 0.28767192363739014, 0.11845313757658005, 0.0799943283200264, 0.06922586262226105, 0.04768892750144005, 0.0584573931992054, 0.0799943283200264, 0.20460088551044464, 0.03230540081858635, 0.02307528629899025, 0.053720224648714066, 0.053720224648714066, 0.053720224648714066, 0.8058033585548401, 0.008095568977296352, 0.03238227590918541, 0.016191137954592705, 0.03238227590918541, 0.7690790295600891, 0.024286706000566483, 0.07286011427640915, 0.024286706000566483, 0.016191137954592705, 0.05069497227668762, 0.03201787546277046, 0.04269050434231758, 0.290829062461853, 0.010672626085579395, 0.0400223471224308, 0.02934972010552883, 0.45091843605041504, 0.03201787546277046, 0.02134525217115879, 0.17806363105773926, 0.1722254902124405, 0.20725439488887787, 0.04378613829612732, 0.02627168409526348, 0.011676304042339325, 0.032109834253787994, 0.055462442338466644, 0.03794798627495766, 0.23060700297355652, 0.8628578186035156, 0.01810191199183464, 0.01810191199183464, 0.012067941017448902, 0.012067941017448902, 0.006033970508724451, 0.030169853940606117, 0.012067941017448902, 0.006033970508724451, 0.01810191199183464, 0.020223435014486313, 0.040446870028972626, 0.06067030131816864, 0.020223435014486313, 0.8089373707771301, 0.020223435014486313, 0.8436830639839172, 0.05273019149899483, 0.8380111455917358, 0.030289558693766594, 0.020193040370941162, 0.010096520185470581, 0.010096520185470581, 0.020193040370941162, 0.07067564129829407, 0.010096520185470581, 0.09828659147024155, 0.04914329573512077, 0.7862927317619324, 0.8262361288070679, 0.01534803956747055, 0.010232025757431984, 0.04604411870241165, 0.01790604554116726, 0.007674019783735275, 0.020464051514863968, 0.010232025757431984, 0.01790604554116726, 0.025580065324902534, 0.04755909740924835, 0.25488701462745667, 0.1627412736415863, 0.11295285075902939, 0.12112706899642944, 0.14416350424289703, 0.033439990133047104, 0.04830220714211464, 0.03492620959877968, 0.04087109863758087, 0.17375987768173218, 0.12637081742286682, 0.0807369127869606, 0.1474326252937317, 0.033347856253385544, 0.029837556183338165, 0.014041202142834663, 0.08424721658229828, 0.11057446897029877, 0.20008713006973267, 0.8708907961845398, 0.04147098958492279, 0.04147098958492279, 0.04147098958492279, 0.011470712721347809, 0.09176570177078247, 0.011470712721347809, 0.011470712721347809, 0.8258913159370422, 0.022941425442695618, 0.011470712721347809, 0.011470712721347809, 0.8738746047019958, 0.034954983741045, 0.034954983741045, 0.034954983741045, 0.5019644498825073, 0.040541231632232666, 0.10882119834423065, 0.1360265016555786, 0.06401246786117554, 0.021870926022529602, 0.01653655432164669, 0.0389409177005291, 0.04267498105764389, 0.029339049011468887, 0.1335374116897583, 0.042169708758592606, 0.007028284948319197, 0.7590547800064087, 0.007028284948319197, 0.007028284948319197, 0.028113139793276787, 0.07006411254405975, 0.3004036247730255, 0.10344229638576508, 0.09893172979354858, 0.10975708812475204, 0.052923962473869324, 0.06765847653150558, 0.11757539957761765, 0.04390283301472664, 0.034881703555583954, 0.020172709599137306, 0.1239180788397789, 0.06772267073392868, 0.03458178788423538, 0.11239081621170044, 0.1988452821969986, 0.04899086803197861, 0.10518627613782883, 0.26944977045059204, 0.01729089394211769, 0.014520053751766682, 0.30492112040519714, 0.05393162742257118, 0.05393162742257118, 0.08089744299650192, 0.04563445225358009, 0.31114399433135986, 0.031114399433135986, 0.08712032437324524, 0.01659434661269188, 0.013383312150835991, 0.23420797288417816, 0.026766624301671982, 0.013383312150835991, 0.02007496915757656, 0.5955573916435242, 0.0066916560754179955, 0.026766624301671982, 0.060224905610084534, 0.9067983627319336, 0.15382513403892517, 0.0940447524189949, 0.4629334807395935, 0.020412813872098923, 0.06488358974456787, 0.04811592027544975, 0.029161162674427032, 0.04519980400800705, 0.040096599608659744, 0.040825627744197845, 0.04693625494837761, 0.058670319616794586, 0.019556773826479912, 0.007822709158062935, 0.7470687627792358, 0.023468127474188805, 0.007822709158062935, 0.019556773826479912, 0.03520219400525093, 0.03129083663225174, 0.025484366342425346, 0.05096873268485069, 0.025484366342425346, 0.025484366342425346, 0.025484366342425346, 0.7645310163497925, 0.025484366342425346, 0.025484366342425346, 0.025484366342425346, 0.11675199866294861, 0.8172640204429626, 0.033297449350357056, 0.009989234618842602, 0.8390957117080688, 0.016648724675178528, 0.013318980112671852, 0.016648724675178528, 0.003329745028167963, 0.03995693847537041, 0.009989234618842602, 0.013318980112671852, 0.06796746701002121, 0.033983733505010605, 0.033983733505010605, 0.8156095743179321, 0.8650463819503784, 0.04325231909751892, 0.04325231909751892, 0.2601124942302704, 0.1460103541612625, 0.13046015799045563, 0.09471487998962402, 0.04887206852436066, 0.13793233036994934, 0.05028572306036949, 0.05594034492969513, 0.046852562576532364, 0.02887894958257675, 0.9096079468727112, 0.03136579319834709, 0.03136579319834709, 0.8584903478622437, 0.20048920810222626, 0.40485885739326477, 0.10024460405111313, 0.06790763139724731, 0.06144024059176445, 0.021989138796925545, 0.031043490394949913, 0.02975001186132431, 0.05950002372264862, 0.02134239859879017, 0.8395806550979614, 0.06458313018083572, 0.045666664838790894, 0.045666664838790894, 0.045666664838790894, 0.8219999074935913, 0.045666664838790894, 0.01696958765387535, 0.01696958765387535, 0.01696958765387535, 0.01696958765387535, 0.01696958765387535, 0.712722659111023, 0.0339391753077507, 0.01696958765387535, 0.08484793454408646, 0.0678783506155014, 0.015654610469937325, 0.015654610469937325, 0.015654610469937325, 0.1878553181886673, 0.015654610469937325, 0.015654610469937325, 0.6731482148170471, 0.046963829547166824, 0.015654610469937325, 0.22912582755088806, 0.052189771085977554, 0.03818763792514801, 0.3500533401966095, 0.0598272979259491, 0.04455224424600601, 0.11456291377544403, 0.026731345802545547, 0.03691471740603447, 0.04709808528423309, 0.03555856645107269, 0.8534055352210999, 0.03555856645107269, 0.21372853219509125, 0.4429923892021179, 0.06072903424501419, 0.053196750581264496, 0.04378139600157738, 0.022126082330942154, 0.046606000512838364, 0.05084291100502014, 0.04001525416970253, 0.025892222300171852, 0.031393930315971375, 0.031393930315971375, 0.031393930315971375, 0.8162421584129333, 0.031393930315971375, 0.031393930315971375, 0.031393930315971375, 0.19066102802753448, 0.3014386296272278, 0.1902196854352951, 0.0626709833741188, 0.025156663730740547, 0.0313354916870594, 0.030452802777290344, 0.0648777112364769, 0.06620174646377563, 0.03707297891378403, 0.7439472675323486, 0.019838593900203705, 0.023145025596022606, 0.041330404579639435, 0.038023971021175385, 0.026451457291841507, 0.009919296950101852, 0.06447543203830719, 0.019838593900203705, 0.014878945425152779, 0.045258600264787674, 0.9051720499992371, 0.07919389009475708, 0.8711327314376831, 0.020191660150885582, 0.11105412989854813, 0.040383320301771164, 0.7168039083480835, 0.020191660150885582, 0.010095830075442791, 0.010095830075442791, 0.020191660150885582, 0.020191660150885582, 0.0302874892950058, 0.8978750705718994, 0.016627315431833267, 0.016627315431833267, 0.016627315431833267, 0.0498819462954998, 0.07726768404245377, 0.5537517666816711, 0.04721914231777191, 0.049365464597940445, 0.06868238747119904, 0.07082871347665787, 0.02575589530169964, 0.04507281631231308, 0.05151179060339928, 0.01287794765084982, 0.04909724369645119, 0.04909724369645119, 0.8346531391143799, 0.23213785886764526, 0.36824747920036316, 0.12107910215854645, 0.07932768762111664, 0.026720905676484108, 0.030061017721891403, 0.026720905676484108, 0.03757627308368683, 0.05511186644434929, 0.022545764222741127, 0.051197998225688934, 0.051197998225688934, 0.8703659772872925, 0.08163134753704071, 0.016326269134879112, 0.008163134567439556, 0.016326269134879112, 0.008163134567439556, 0.024489404633641243, 0.008163134567439556, 0.040815673768520355, 0.7836609482765198, 0.016326269134879112, 0.015143128111958504, 0.8480151891708374, 0.015143128111958504, 0.015143128111958504, 0.015143128111958504, 0.015143128111958504, 0.04542938619852066, 0.015143128111958504, 0.015143128111958504, 0.8439216017723083, 0.08470535278320312, 0.12320778518915176, 0.046202920377254486, 0.023101460188627243, 0.053903404623270035, 0.007700486574321985, 0.5544350147247314, 0.01540097314864397, 0.053903404623270035, 0.03850243240594864, 0.8167170286178589, 0.029168466106057167, 0.03889128565788269, 0.009722821414470673, 0.009722821414470673, 0.019445642828941345, 0.06805974990129471, 0.009722821414470673, 0.0695936381816864, 0.09279152005910873, 0.0596516914665699, 0.0397677943110466, 0.07290762662887573, 0.07290762662887573, 0.013255931437015533, 0.056337710469961166, 0.5037254095077515, 0.023197880014777184, 0.02484983764588833, 0.02484983764588833, 0.02484983764588833, 0.02484983764588833, 0.02484983764588833, 0.8200446367263794, 0.02484983764588833, 0.2921368479728699, 0.07489326596260071, 0.037712212651968, 0.10516926646232605, 0.2475195825099945, 0.06798820942640305, 0.03133831545710564, 0.052584633231163025, 0.0770178958773613, 0.013278947211802006, 0.027187630534172058, 0.05981278792023659, 0.17943835258483887, 0.6307530403137207, 0.010875051841139793, 0.010875051841139793, 0.005437525920569897, 0.016312578693032265, 0.005437525920569897, 0.054375261068344116, 0.027966903522610664, 0.7830733060836792, 0.13983452320098877, 0.025639159604907036, 0.006409789901226759, 0.8717314600944519, 0.006409789901226759, 0.012819579802453518, 0.006409789901226759, 0.03204894810914993, 0.006409789901226759, 0.012819579802453518, 0.012819579802453518, 0.029512904584407806, 0.009837634861469269, 0.885387122631073, 0.009837634861469269, 0.009837634861469269, 0.009837634861469269, 0.039350539445877075, 0.009837634861469269, 0.009837634861469269, 0.8895401358604431, 0.8564957976341248, 0.08564957976341248, 0.06565171480178833, 0.06565171480178833, 0.8534722924232483, 0.8634927868843079, 0.844660758972168, 0.04757322743535042, 0.03567992150783539, 0.03567992150783539, 0.8801047205924988, 0.9338204264640808, 0.06225469335913658, 0.02903936430811882, 0.05807872861623764, 0.8421415686607361, 0.02903936430811882, 0.02903936430811882, 0.031176438555121422, 0.8729403018951416, 0.031176438555121422, 0.031176438555121422, 0.02562452107667923, 0.8712337017059326, 0.038436781615018845, 0.02562452107667923, 0.012812260538339615, 0.02909070812165737, 0.872721254825592, 0.014545354060828686, 0.02909070812165737, 0.02909070812165737, 0.014545354060828686, 0.025630829855799675, 0.8842636346817017, 0.03844624385237694, 0.025630829855799675, 0.012815414927899837, 0.02694496512413025, 0.8757113218307495, 0.040417447686195374, 0.02694496512413025, 0.013472482562065125, 0.026917589828372, 0.861362874507904, 0.04037638381123543, 0.026917589828372, 0.013458794914186, 0.039392806589603424, 0.8666417598724365, 0.039392806589603424, 0.039392806589603424, 0.029144257307052612, 0.8743277192115784, 0.014572128653526306, 0.014572128653526306, 0.029144257307052612, 0.029144257307052612, 0.014572128653526306, 0.04066299647092819, 0.020331498235464096, 0.020331498235464096, 0.020331498235464096, 0.04066299647092819, 0.020331498235464096, 0.7929283976554871, 0.020331498235464096, 0.020331498235464096, 0.8690611124038696, 0.019230784848332405, 0.03846156969666481, 0.9230776429176331, 0.8689481019973755, 0.07324501872062683, 0.014649002812802792, 0.014649002812802792, 0.014649002812802792, 0.014649002812802792, 0.7031521797180176, 0.014649002812802792, 0.07324501872062683, 0.07324501872062683, 0.020138319581747055, 0.060414962470531464, 0.7451178431510925, 0.060414962470531464, 0.060414962470531464, 0.020138319581747055, 0.020138319581747055, 0.7858827710151672, 0.02910676784813404, 0.08732030540704727, 0.05821353569626808, 0.030372943729162216, 0.015186471864581108, 0.7593235969543457, 0.05568373203277588, 0.02024862915277481, 0.02024862915277481, 0.005062157288193703, 0.03543510288000107, 0.045559417456388474, 0.010124314576387405, 0.012037073262035847, 0.016622625291347504, 0.6047196388244629, 0.04098336771130562, 0.28459081053733826, 0.012323670089244843, 0.006591730751097202, 0.002292775781825185, 0.011750476434826851, 0.008311312645673752, 0.024659641087055206, 0.8877471089363098, 0.024659641087055206, 0.024659641087055206, 0.024659641087055206, 0.016123414039611816, 0.8706642985343933, 0.04837023839354515, 0.016123414039611816, 0.016123414039611816, 0.016123414039611816, 0.016123414039611816, 0.2221037596464157, 0.09181942790746689, 0.02233445644378662, 0.03846489638090134, 0.4317995011806488, 0.023575259372591972, 0.04218730702996254, 0.03970570117235184, 0.023575259372591972, 0.06452175974845886, 0.04284090921282768, 0.04284090921282768, 0.04284090921282768, 0.04284090921282768, 0.8139773011207581, 0.18111459910869598, 0.03449802100658417, 0.012936756946146488, 0.05605928227305412, 0.012936756946146488, 0.012936756946146488, 0.04312252625823021, 0.012936756946146488, 0.04743477702140808, 0.5907785892486572, 0.03690825402736664, 0.5613939762115479, 0.05827619135379791, 0.011655238457024097, 0.06798889487981796, 0.13597778975963593, 0.062161270529031754, 0.029138095676898956, 0.029138095676898956, 0.005827619228512049, 0.5427271723747253, 0.02010100707411766, 0.09456609934568405, 0.10644397139549255, 0.08771348744630814, 0.03289255499839783, 0.016446277499198914, 0.015532596036791801, 0.04111569747328758, 0.042486220598220825, 0.9071440100669861, 0.29386794567108154, 0.05904610827565193, 0.11218760907649994, 0.12581363320350647, 0.04042387381196022, 0.131718248128891, 0.06676752120256424, 0.05268729850649834, 0.07267213612794876, 0.04451168328523636, 0.8296999335289001, 0.31537750363349915, 0.031537752598524094, 0.06457730382680893, 0.17120493948459625, 0.05256291851401329, 0.250800222158432, 0.043552134186029434, 0.03904673829674721, 0.013516179285943508, 0.01802157238125801, 0.7903187870979309, 0.018867027014493942, 0.025156036019325256, 0.0293487086892128, 0.03144504502415657, 0.012578018009662628, 0.0146743543446064, 0.01677069067955017, 0.04192672669887543, 0.01677069067955017, 0.8255481123924255, 0.016934320330619812, 0.016934320330619812, 0.02963506057858467, 0.012700740247964859, 0.016934320330619812, 0.012700740247964859, 0.021167900413274765, 0.016934320330619812, 0.033868640661239624, 0.8563457131385803, 0.01529188733547926, 0.00764594366773963, 0.03058377467095852, 0.01529188733547926, 0.01529188733547926, 0.00764594366773963, 0.01529188733547926, 0.02293783240020275, 0.02293783240020275, 0.6793002486228943, 0.0572042316198349, 0.03575264662504196, 0.054820723831653595, 0.013109303079545498, 0.030985625460743904, 0.01668456755578518, 0.03456088900566101, 0.02860211580991745, 0.05005370453000069, 0.9039062261581421, 0.1406031847000122, 0.08473685383796692, 0.23058922588825226, 0.1098579615354538, 0.09261063486337662, 0.07386354357004166, 0.08698650449514389, 0.08511179685592651, 0.059990692883729935, 0.03599441796541214, 0.13536487519741058, 0.019337838515639305, 0.004834459628909826, 0.03867567703127861, 0.02417229861021042, 0.004834459628909826, 0.06284797936677933, 0.04351013898849487, 0.6478176116943359, 0.014503379352390766, 0.1923377364873886, 0.062044430524110794, 0.031022215262055397, 0.5335820913314819, 0.062044430524110794, 0.024817772209644318, 0.012408886104822159, 0.012408886104822159, 0.012408886104822159, 0.062044430524110794, 0.8857142925262451, 0.03163265436887741, 0.8333362340927124, 0.059269510209560394, 0.059269510209560394, 0.029634755104780197, 0.029634755104780197, 0.029634755104780197, 0.029634755104780197, 0.740868866443634, 0.016146644949913025, 0.07535100728273392, 0.07265990227460861, 0.08342432975769043, 0.6270280480384827, 0.01883775182068348, 0.03229328989982605, 0.03229328989982605, 0.016146644949913025, 0.024219965562224388, 0.8750391006469727, 0.016827674582600594, 0.008413837291300297, 0.008413837291300297, 0.008413837291300297, 0.025241512805223465, 0.008413837291300297, 0.016827674582600594, 0.04206918925046921, 0.008413837291300297, 0.026467300951480865, 0.030878517776727676, 0.013233650475740433, 0.022056084126234055, 0.022056084126234055, 0.7675517201423645, 0.030878517776727676, 0.06175703555345535, 0.008822433650493622, 0.013233650475740433, 0.016886377707123756, 0.8780916929244995, 0.05065913498401642, 0.016886377707123756, 0.016886377707123756, 0.016886377707123756, 0.016886377707123756, 0.0869864672422409, 0.8698646426200867, 0.01739729382097721, 0.6685294508934021, 0.03609238937497139, 0.03199097886681557, 0.06644280254840851, 0.027069291099905968, 0.010663660243153572, 0.014765067957341671, 0.03609238937497139, 0.02542872726917267, 0.08366871625185013, 0.6944056153297424, 0.05887352302670479, 0.02717239409685135, 0.06340225785970688, 0.016605352982878685, 0.009057465009391308, 0.013586197048425674, 0.03019155003130436, 0.01585056446492672, 0.07095014303922653, 0.8612451553344727, 0.23727534711360931, 0.016865160316228867, 0.007560243830084801, 0.020936060696840286, 0.016865160316228867, 0.026170074939727783, 0.4861818253993988, 0.04768769070506096, 0.01919138804078102, 0.12212701886892319, 0.24509641528129578, 0.007002754602581263, 0.007002754602581263, 0.021008264273405075, 0.014005509205162525, 0.021008264273405075, 0.5252065658569336, 0.021008264273405075, 0.035013772547245026, 0.10504131764173508, 0.3135788142681122, 0.1494968831539154, 0.04922458156943321, 0.10331085324287415, 0.04010891914367676, 0.030385544523596764, 0.14585061371326447, 0.07292530685663223, 0.04861687123775482, 0.04679374024271965, 0.9241699576377869, 0.048640526831150055, 0.08960442990064621, 0.11632855981588364, 0.03772817924618721, 0.047946229577064514, 0.211435005068779, 0.1941429227590561, 0.10925452411174774, 0.04323020577430725, 0.10611050575971603, 0.044802214950323105, 0.009894576855003834, 0.7618823647499084, 0.009894576855003834, 0.13852407038211823, 0.009894576855003834, 0.009894576855003834, 0.009894576855003834, 0.029683729633688927, 0.009894576855003834, 0.009894576855003834, 0.016810838133096695, 0.016810838133096695, 0.016810838133096695, 0.9077852964401245, 0.016810838133096695, 0.1201540157198906, 0.05524322763085365, 0.037289176136255264, 0.09805672615766525, 0.2043999284505844, 0.27069181203842163, 0.06491079181432724, 0.02900269441306591, 0.0773405134677887, 0.041432417929172516, 0.023797405883669853, 0.027197035029530525, 0.07819147408008575, 0.027197035029530525, 0.020397774875164032, 0.11218776553869247, 0.1325855404138565, 0.03399629145860672, 0.530342161655426, 0.01699814572930336, 0.04148026928305626, 0.14039476215839386, 0.09253291040658951, 0.42437508702278137, 0.05743421986699104, 0.04148026928305626, 0.07338817417621613, 0.03190790116786957, 0.07338817417621613, 0.025526320561766624, 0.06233232095837593, 0.02337462082505226, 0.07272104173898697, 0.018180260434746742, 0.12985900044441223, 0.4207431674003601, 0.02856898121535778, 0.07531822472810745, 0.08310975879430771, 0.08570694178342819, 0.10140129923820496, 0.2912982702255249, 0.03564409166574478, 0.20341715216636658, 0.05899711698293686, 0.11983789503574371, 0.044247839599847794, 0.044247839599847794, 0.05715345963835716, 0.043018732219934464, 0.017142904922366142, 0.1942862570285797, 0.12000033259391785, 0.028571508824825287, 0.034285809844732285, 0.01142860297113657, 0.5200014710426331, 0.01142860297113657, 0.034285809844732285, 0.034285809844732285, 0.023038871586322784, 0.25491395592689514, 0.09066911041736603, 0.24599570035934448, 0.04830731078982353, 0.04756412282586098, 0.1449219286441803, 0.05276644974946976, 0.06391429156064987, 0.02749800868332386, 0.934342086315155, 0.06228947266936302, 0.8244273066520691, 0.8225240707397461, 0.06221044436097145, 0.0746525302529335, 0.03981468454003334, 0.04727993905544281, 0.12939772009849548, 0.3956584334373474, 0.02239575982093811, 0.03981468454003334, 0.0995367094874382, 0.08709461987018585, 0.042038049548864365, 0.29960450530052185, 0.10155858844518661, 0.07206522673368454, 0.17148855328559875, 0.07953865826129913, 0.09915641695261002, 0.029626816511154175, 0.08073974400758743, 0.02402174286544323, 0.02803840860724449, 0.09813442826271057, 0.014019204303622246, 0.7710562348365784, 0.014019204303622246, 0.014019204303622246, 0.014019204303622246, 0.014019204303622246, 0.014019204303622246, 0.013079761527478695, 0.013079761527478695, 0.02615952305495739, 0.013079761527478695, 0.013079761527478695, 0.14387737214565277, 0.14387737214565277, 0.6409083008766174, 0.013079761527478695, 0.0641549676656723, 0.8340145945549011, 0.7147197127342224, 0.018775474280118942, 0.01814962550997734, 0.03066660836338997, 0.03442170470952988, 0.033170007169246674, 0.02315641939640045, 0.014394531026482582, 0.04068019613623619, 0.07197265326976776, 0.1503836065530777, 0.10844971239566803, 0.15182960033416748, 0.06506983190774918, 0.09254375845193863, 0.037595901638269424, 0.27473926544189453, 0.04482588171958923, 0.06073183938860893, 0.01735195331275463, 0.21324880421161652, 0.10520274937152863, 0.04691473767161369, 0.05117971450090408, 0.09951610863208771, 0.02416819892823696, 0.311343252658844, 0.03696312755346298, 0.09382947534322739, 0.01990322209894657, 0.05261748284101486, 0.3908727169036865, 0.04301270470023155, 0.03591351956129074, 0.15451166033744812, 0.06347505748271942, 0.05387027934193611, 0.13488450646400452, 0.042177505791187286, 0.028396736830472946, 0.8603224158287048, 0.8796561360359192, 0.8512923121452332, 0.10245206952095032, 0.19093340635299683, 0.009313824586570263, 0.1334981471300125, 0.41291287541389465, 0.060539860278367996, 0.027941472828388214, 0.009313824586570263, 0.03880760073661804, 0.015523040667176247, 0.9190753698348999, 0.027850769460201263, 0.027850769460201263, 0.020202385261654854, 0.010101192630827427, 0.010101192630827427, 0.8282978534698486, 0.010101192630827427, 0.020202385261654854, 0.06060715764760971, 0.010101192630827427, 0.020202385261654854, 0.030303578823804855, 0.15351352095603943, 0.40382856130599976, 0.08180869370698929, 0.09712745249271393, 0.053778622299432755, 0.03748207166790962, 0.043348830193281174, 0.044326622039079666, 0.06420841813087463, 0.02053365670144558, 0.8881762027740479, 0.8701313138008118, 0.8717171549797058, 0.014717400074005127, 0.029434800148010254, 0.014717400074005127, 0.014717400074005127, 0.20604360103607178, 0.029434800148010254, 0.6181308031082153, 0.029434800148010254, 0.014717400074005127, 0.03857783228158951, 0.03857783228158951, 0.03857783228158951, 0.03857783228158951, 0.03857783228158951, 0.03857783228158951, 0.7715566158294678, 0.13801652193069458, 0.06044519320130348, 0.08966036885976791, 0.051378414034843445, 0.17428363859653473, 0.23069915175437927, 0.06447487324476242, 0.04331905394792557, 0.09369005262851715, 0.05440067499876022, 0.08015142381191254, 0.8015142679214478, 0.22853630781173706, 0.1437981277704239, 0.017974765971302986, 0.03851735591888428, 0.025678236037492752, 0.010271294973790646, 0.010271294973790646, 0.061627767980098724, 0.03594953194260597, 0.42625871300697327, 0.8258559703826904, 0.861263632774353, 0.1745930016040802, 0.058197665959596634, 0.7565696835517883, 0.010880217887461185, 0.02176043577492237, 0.03264065086841583, 0.010880217887461185, 0.010880217887461185, 0.17408348619937897, 0.02176043577492237, 0.5657712817192078, 0.11968239396810532, 0.02176043577492237, 0.055687788873910904, 0.47025245428085327, 0.1001255214214325, 0.10687555372714996, 0.05512528494000435, 0.033750176429748535, 0.04218772053718567, 0.03150016441941261, 0.07762540131807327, 0.026437636464834213, 0.01614217832684517, 0.8716776967048645, 0.048426538705825806, 0.01614217832684517, 0.01614217832684517, 0.01614217832684517, 0.01614217832684517, 0.015781940892338753, 0.015781940892338753, 0.031563881784677505, 0.015781940892338753, 0.8522247672080994, 0.031563881784677505, 0.015781940892338753, 0.03614521026611328, 0.01807260513305664, 0.01807260513305664, 0.03614521026611328, 0.03614521026611328, 0.01807260513305664, 0.7771220803260803, 0.03614521026611328, 0.01807260513305664, 0.2016076147556305, 0.3020237386226654, 0.10778253525495529, 0.10855794697999954, 0.0422600582242012, 0.03489362820982933, 0.06784871965646744, 0.07637827098369598, 0.03411821275949478, 0.024813245981931686, 0.30982357263565063, 0.03271429240703583, 0.048109252005815506, 0.11546220630407333, 0.05195799097418785, 0.03271429240703583, 0.03656303137540817, 0.28095802664756775, 0.05003362149000168, 0.04041177034378052, 0.0850563645362854, 0.031896136701107025, 0.5900785326957703, 0.08239835500717163, 0.07043730467557907, 0.05714724585413933, 0.01860607974231243, 0.02790912054479122, 0.029238125309348106, 0.006645028479397297, 0.06541423499584198, 0.8503850102424622, 0.06541423499584198, 0.8821744322776794, 0.837455153465271, 0.02617047354578972, 0.010468189604580402, 0.03140456974506378, 0.01570228487253189, 0.010468189604580402, 0.020936379209160805, 0.010468189604580402, 0.01570228487253189, 0.020936379209160805, 0.22580547630786896, 0.11920695751905441, 0.04011772572994232, 0.01719331182539463, 0.025216855108737946, 0.006877324543893337, 0.019485753029584885, 0.018339531496167183, 0.06877324730157852, 0.4573420584201813, 0.04451753571629524, 0.04451753571629524, 0.04451753571629524, 0.8458331823348999, 0.04451753571629524, 0.21526628732681274, 0.06753452122211456, 0.01266272272914648, 0.0562787689268589, 0.5233925580978394, 0.03517422825098038, 0.02251150645315647, 0.023918475955724716, 0.02532544545829296, 0.01688363030552864, 0.7711433172225952, 0.22468873858451843, 0.30830469727516174, 0.09529418498277664, 0.10743951797485352, 0.04437719285488129, 0.038771651685237885, 0.05044986307621002, 0.06446371227502823, 0.04624570533633232, 0.020086519420146942, 0.24514883756637573, 0.24183601140975952, 0.07067354023456573, 0.02539830282330513, 0.018772657960653305, 0.030919672921299934, 0.03975386545062065, 0.0342324934899807, 0.08061200380325317, 0.212020605802536, 0.8868959546089172, 0.010807428508996964, 0.7925447225570679, 0.00720495218411088, 0.018012380227446556, 0.05763961747288704, 0.03242228552699089, 0.039627235382795334, 0.01440990436822176, 0.021614857017993927, 0.010807428508996964, 0.05131015554070473, 0.05131015554070473, 0.8722726702690125, 0.05131015554070473, 0.9159191250801086, 0.18646787106990814, 0.11821359395980835, 0.05769949033856392, 0.05347757786512375, 0.165358304977417, 0.17239482700824738, 0.09640037268400192, 0.03588626906275749, 0.06895793229341507, 0.04433009773492813, 0.8368041515350342, 0.8722425103187561, 0.05814950168132782, 0.8884555697441101, 0.8427749276161194, 0.04570631682872772, 0.04570631682872772, 0.04570631682872772, 0.8227136731147766, 0.04570631682872772, 0.8900075554847717, 0.027812736108899117, 0.027812736108899117, 0.36888283491134644, 0.04923194274306297, 0.042096879333257675, 0.20049530267715454, 0.07135064154863358, 0.013556621968746185, 0.14412829279899597, 0.05279947444796562, 0.014983635395765305, 0.043523892760276794, 0.8958732485771179, 0.874995768070221, 0.011279714293777943, 0.498187392950058, 0.0169195719063282, 0.035719096660614014, 0.3684706687927246, 0.011279714293777943, 0.03195919096469879, 0.009399762377142906, 0.011279714293777943, 0.005639857146888971, 0.14381998777389526, 0.10281867533922195, 0.06623288989067078, 0.07884868234395981, 0.2169915735721588, 0.11921920627355576, 0.09966473281383514, 0.030908683314919472, 0.08957210183143616, 0.05172473564743996, 0.4212909936904907, 0.07877039909362793, 0.04853152483701706, 0.07429056614637375, 0.03378541022539139, 0.0315454937517643, 0.16146065294742584, 0.06066440790891647, 0.04629160836338997, 0.043118394911289215, 0.8370405435562134, 0.8265360593795776, 0.07197170704603195, 0.021168148145079613, 0.05080355703830719, 0.5546054840087891, 0.07620533555746078, 0.09313985705375671, 0.06773807853460312, 0.04656992852687836, 0.01693451963365078, 0.00846725981682539, 0.06732753664255142, 0.8415942192077637, 0.03366376832127571, 0.02001919597387314, 0.0033365325070917606, 0.814113974571228, 0.016682663932442665, 0.006673065014183521, 0.046711456030607224, 0.0033365325070917606, 0.036701858043670654, 0.036701858043670654, 0.013346130028367043, 0.03049810230731964, 0.03049810230731964, 0.09149430692195892, 0.8234487771987915, 0.06073819100856781, 0.06073819100856781, 0.7288582921028137, 0.014564372599124908, 0.043693117797374725, 0.029128745198249817, 0.014564372599124908, 0.7282186150550842, 0.029128745198249817, 0.014564372599124908, 0.10195060819387436, 0.014564372599124908, 0.018546488136053085, 0.07418595254421234, 0.11127892881631851, 0.046366218477487564, 0.018546488136053085, 0.658400297164917, 0.055639464408159256, 0.009273244068026543, 0.009273244068026543, 0.029806332662701607, 0.04967722296714783, 0.01987088844180107, 0.7749646902084351, 0.009935444220900536, 0.009935444220900536, 0.009935444220900536, 0.01987088844180107, 0.009935444220900536, 0.059612665325403214, 0.015406081452965736, 0.061624325811862946, 0.030812162905931473, 0.7857101559638977, 0.015406081452965736, 0.015406081452965736, 0.015406081452965736, 0.015406081452965736, 0.030812162905931473, 0.11995571851730347, 0.17596617341041565, 0.03874056413769722, 0.20817217230796814, 0.14749419689178467, 0.02053716592490673, 0.1656975895166397, 0.07234683632850647, 0.029872240498661995, 0.02053716592490673, 0.294480562210083, 0.035521000623703, 0.152396559715271, 0.05270858108997345, 0.021770935505628586, 0.04354187101125717, 0.027500130236148834, 0.2601054012775421, 0.07218784093856812, 0.04010435566306114, 0.13591717183589935, 0.025484468787908554, 0.14441199600696564, 0.12742234766483307, 0.01698964647948742, 0.01698964647948742, 0.00849482323974371, 0.47571009397506714, 0.025484468787908554, 0.025484468787908554, 0.03719846159219742, 0.11314531415700912, 0.29382357001304626, 0.0830322802066803, 0.2617177367210388, 0.030113039538264275, 0.054912012070417404, 0.02302761934697628, 0.0912247970700264, 0.011956647969782352, 0.07633723318576813, 0.09234342724084854, 0.036937370896339417, 0.07387474179267883, 0.3201238811016083, 0.1822243630886078, 0.08372470736503601, 0.07141225039958954, 0.04063110798597336, 0.02216242253780365, 0.04419305920600891, 0.04419305920600891, 0.022096529603004456, 0.04419305920600891, 0.7512820363044739, 0.022096529603004456, 0.022096529603004456, 0.022096529603004456, 0.022096529603004456, 0.06360869109630585, 0.14311954379081726, 0.044526081532239914, 0.08110107481479645, 0.11608585715293884, 0.21865487098693848, 0.12085650861263275, 0.06440379470586777, 0.10018368810415268, 0.04691140726208687, 0.04008522629737854, 0.013361742720007896, 0.013361742720007896, 0.013361742720007896, 0.10689394176006317, 0.013361742720007896, 0.053446970880031586, 0.7081723809242249, 0.013361742720007896, 0.6374899744987488, 0.042707659304142, 0.031249506399035454, 0.08489449322223663, 0.01666640304028988, 0.03333280608057976, 0.028124555945396423, 0.01822887919843197, 0.023957954719662666, 0.08281119167804718, 0.0318046472966671, 0.9223348498344421, 0.0318046472966671, 0.8719538450241089, 0.058130256831645966, 0.8717550039291382, 0.05811700224876404, 0.02318180538713932, 0.8577268123626709, 0.04636361077427864, 0.02318180538713932, 0.02318180538713932, 0.1716247797012329, 0.1317937821149826, 0.0755617618560791, 0.08141926676034927, 0.28408879041671753, 0.03631650656461716, 0.06443250924348831, 0.03104475513100624, 0.09840601682662964, 0.025187253952026367, 0.8540689945220947, 0.018566716462373734, 0.013925038278102875, 0.02320839650928974, 0.009283358231186867, 0.004641679115593433, 0.02320839650928974, 0.013925038278102875, 0.013925038278102875, 0.03249175474047661, 0.7056737542152405, 0.032852597534656525, 0.019711557775735855, 0.09330137819051743, 0.04073721915483475, 0.01708335056900978, 0.02233976498246193, 0.02233976498246193, 0.02233976498246193, 0.023653870448470116, 0.8549849987030029, 0.015735920518636703, 0.01049061305820942, 0.026226533576846123, 0.01049061305820942, 0.02098122611641884, 0.01049061305820942, 0.01049061305820942, 0.02098122611641884, 0.015735920518636703, 0.8580754995346069, 0.8388975262641907, 0.8881868720054626, 0.888237714767456, 0.056150883436203, 0.898414134979248, 0.8823471665382385, 0.9354297518730164, 0.04973332956433296, 0.7957332730293274, 0.04973332956433296, 0.02163408324122429, 0.08112781494855881, 0.5705989599227905, 0.0513809472322464, 0.06490225344896317, 0.024338344112038612, 0.07842355221509933, 0.056789468973875046, 0.013521302491426468, 0.03515538573265076, 0.8256836533546448, 0.3973594903945923, 0.060787685215473175, 0.16188719868659973, 0.07102560997009277, 0.04927001893520355, 0.13629238307476044, 0.021115722134709358, 0.055028852075338364, 0.022395463660359383, 0.02431507408618927, 0.028342824429273605, 0.9069703817367554, 0.028342824429273605, 0.1512339860200882, 0.3352353274822235, 0.09011024981737137, 0.12413789331912994, 0.07215121388435364, 0.031192008405923843, 0.05639767274260521, 0.05482231825590134, 0.045685265213251114, 0.038753706961870193, 0.8312089443206787, 0.09186206012964249, 0.7086501717567444, 0.05249260365962982, 0.09186206012964249, 0.02624630182981491, 0.013123150914907455, 0.3840765357017517, 0.10254034399986267, 0.11445840448141098, 0.09309583902359009, 0.0685850977897644, 0.03530446067452431, 0.03373037651181221, 0.08882331848144531, 0.051495037972927094, 0.027883777394890785, 0.02763068489730358, 0.0414460264146328, 0.01381534244865179, 0.05526136979460716, 0.01381534244865179, 0.02763068489730358, 0.01381534244865179, 0.01381534244865179, 0.787474513053894, 0.01381534244865179, 0.04290292412042618, 0.04290292412042618, 0.04290292412042618, 0.8580584526062012, 0.04290292412042618, 0.15051843225955963, 0.07310894876718521, 0.04085500165820122, 0.04085500165820122, 0.03870473802089691, 0.010751316323876381, 0.4193013310432434, 0.04085500165820122, 0.16557027399539948, 0.021502632647752762, 0.03898012265563011, 0.07796024531126022, 0.8575627207756042, 0.03898012265563011, 0.049551475793123245, 0.024775737896561623, 0.8423750996589661, 0.024775737896561623, 0.024775737896561623, 0.059300173074007034, 0.03953344747424126, 0.009883361868560314, 0.0889502540230751, 0.029650086537003517, 0.009883361868560314, 0.03953344747424126, 0.7116020321846008, 0.009883361868560314, 0.010590462014079094, 0.021180924028158188, 0.021180924028158188, 0.010590462014079094, 0.010590462014079094, 0.1694473922252655, 0.11649508774280548, 0.010590462014079094, 0.6142468452453613, 0.010590462014079094, 0.023271197453141212, 0.032221656292676926, 0.09308478981256485, 0.046542394906282425, 0.039382025599479675, 0.15036773681640625, 0.1557380110025406, 0.06981358677148819, 0.34906795620918274, 0.0429622083902359, 0.894374668598175, 0.04968748241662979, 0.29104700684547424, 0.3208240866661072, 0.10614090412855148, 0.052350036799907684, 0.05403100326657295, 0.02593488059937954, 0.035300254821777344, 0.05307045206427574, 0.026655294001102448, 0.03506011888384819, 0.9006199836730957, 0.04288666695356369, 0.04288666695356369, 0.21076546609401703, 0.3010070025920868, 0.09811495989561081, 0.08236811310052872, 0.043000999838113785, 0.05632525309920311, 0.06298737972974777, 0.054508309811353683, 0.0605647899210453, 0.03028239496052265, 0.1188468188047409, 0.08579474687576294, 0.0907173901796341, 0.12447270005941391, 0.229254812002182, 0.04149090126156807, 0.08368504047393799, 0.07173003256320953, 0.13431799411773682, 0.01898736134171486, 0.31626051664352417, 0.04564584791660309, 0.31206855177879333, 0.09920985251665115, 0.029809534549713135, 0.03260417655110359, 0.023288698866963387, 0.04238543286919594, 0.08104467391967773, 0.018165184184908867, 0.8270174264907837, 0.0218354444950819, 0.01091772224754095, 0.04094145819544792, 0.005458861123770475, 0.0027294305618852377, 0.00818829145282507, 0.013647152110934258, 0.05731803923845291, 0.01091772224754095, 0.0646774023771286, 0.840806245803833, 0.030860763043165207, 0.015430381521582603, 0.015430381521582603, 0.030860763043165207, 0.802379846572876, 0.030860763043165207, 0.015430381521582603, 0.015430381521582603, 0.015430381521582603, 0.015430381521582603, 0.023306511342525482, 0.011653255671262741, 0.023306511342525482, 0.023306511342525482, 0.011653255671262741, 0.023306511342525482, 0.011653255671262741, 0.03495976701378822, 0.8390344381332397, 0.011653255671262741, 0.15663687884807587, 0.02311035990715027, 0.3723335862159729, 0.2015736997127533, 0.021826451644301414, 0.05135635659098625, 0.015406906604766846, 0.04365290328860283, 0.09244143962860107, 0.02054254151880741, 0.28872278332710266, 0.15661849081516266, 0.05447600036859512, 0.07762829959392548, 0.09941869974136353, 0.0449426993727684, 0.038133200258016586, 0.16751369833946228, 0.0449426993727684, 0.02587609924376011, 0.15295682847499847, 0.12924258410930634, 0.07707127183675766, 0.34622785449028015, 0.034385643899440765, 0.030828507617115974, 0.05335703119635582, 0.09485694766044617, 0.04979989677667618, 0.034385643899440765, 0.9043488502502441, 0.037681203335523605, 0.12401933968067169, 0.06443463265895844, 0.13441202044487, 0.09561267495155334, 0.14619040489196777, 0.12263365089893341, 0.05542764067649841, 0.1981538087129593, 0.018706828355789185, 0.04087788239121437, 0.8514049649238586, 0.060814641416072845, 0.048812855035066605, 0.1329507976770401, 0.08895500749349594, 0.09826798737049103, 0.38151100277900696, 0.017341408878564835, 0.0616583414375782, 0.026654386892914772, 0.12363782525062561, 0.020552780479192734, 0.8807749152183533, 0.025164997205138206, 0.025164997205138206, 0.025164997205138206, 0.025164997205138206, 0.006526030134409666, 0.07831235975027084, 0.006526030134409666, 0.013052060268819332, 0.8810140490531921, 0.006747173611074686, 0.08096608519554138, 0.006747173611074686, 0.006747173611074686, 0.006747173611074686, 0.8838797807693481, 0.07905720919370651, 0.026352403685450554, 0.7378672957420349, 0.057096876204013824, 0.03074447065591812, 0.01756826974451542, 0.013176201842725277, 0.004392067436128855, 0.01756826974451542, 0.00878413487225771, 0.05281021073460579, 0.019203713163733482, 0.006401237566024065, 0.0032006187830120325, 0.7841516137123108, 0.036807116121053696, 0.02080402337014675, 0.011202165856957436, 0.02240433171391487, 0.04320835322141647, 0.8494020104408264, 0.060671571642160416, 0.060671571642160416, 0.27358514070510864, 0.014399217441678047, 0.028798434883356094, 0.014399217441678047, 0.028798434883356094, 0.028798434883356094, 0.6047671437263489, 0.014399217441678047, 0.8254570364952087, 0.022889014333486557, 0.022889014333486557, 0.045778028666973114, 0.869782567024231, 0.022889014333486557, 0.10880237817764282, 0.017179323360323906, 0.022905763238668442, 0.0057264408096671104, 0.7043522000312805, 0.022905763238668442, 0.05153796821832657, 0.011452881619334221, 0.03435864672064781, 0.022905763238668442, 0.011292305774986744, 0.022584611549973488, 0.1637384444475174, 0.7622306942939758, 0.005646152887493372, 0.005646152887493372, 0.016938459128141403, 0.011292305774986744, 0.01908818446099758, 0.8446521759033203, 0.05249251052737236, 0.023860231041908264, 0.00954409223049879, 0.014316138811409473, 0.004772046115249395, 0.03340432420372963, 0.11473862081766129, 0.015298482961952686, 0.11473862081766129, 0.015298482961952686, 0.061193931847810745, 0.543096125125885, 0.061193931847810745, 0.045895449817180634, 0.007649241480976343, 0.015298482961952686, 0.05882648751139641, 0.05882648751139641, 0.8235707879066467, 0.20531406998634338, 0.013443183153867722, 0.029330581426620483, 0.07088223844766617, 0.12221075594425201, 0.047662194818258286, 0.42284920811653137, 0.024442151188850403, 0.028108473867177963, 0.035441119223833084, 0.016149865463376045, 0.8720927834510803, 0.03229973092675209, 0.016149865463376045, 0.016149865463376045, 0.016149865463376045, 0.016149865463376045, 0.09738388657569885, 0.09903445839881897, 0.049517229199409485, 0.02971033751964569, 0.17991259694099426, 0.275645911693573, 0.08252871781587601, 0.05942067503929138, 0.07922756671905518, 0.049517229199409485, 0.02624732255935669, 0.02624732255935669, 0.02624732255935669, 0.02624732255935669, 0.8136669993400574, 0.05249464511871338, 0.02624732255935669, 0.872575044631958, 0.05817167088389397, 0.284880667924881, 0.060612909495830536, 0.0363677479326725, 0.072735495865345, 0.006061290856450796, 0.4909645617008209, 0.006061290856450796, 0.01818387396633625, 0.006061290856450796, 0.01818387396633625, 0.07125670462846756, 0.9263371825218201, 0.8048057556152344, 0.011135676875710487, 0.025308357551693916, 0.038468703627586365, 0.013160346075892448, 0.022271353751420975, 0.01720968261361122, 0.019234351813793182, 0.01720968261361122, 0.03138236328959465, 0.016915220767259598, 0.8795914649963379, 0.05074566230177879, 0.016915220767259598, 0.016915220767259598, 0.016915220767259598, 0.016915220767259598, 0.8756985664367676, 0.05151168256998062, 0.02575584128499031, 0.9020920991897583, 0.14445176720619202, 0.036112941801548004, 0.7944847345352173, 0.8535124659538269, 0.04688231274485588, 0.04688231274485588, 0.04688231274485588, 0.7969993352890015, 0.022515885531902313, 0.4960917830467224, 0.045031771063804626, 0.0512174554169178, 0.10713603347539902, 0.04552662745118141, 0.05765056610107422, 0.12297137826681137, 0.03439239785075188, 0.017567340284585953, 0.06569093465805054, 0.15890105068683624, 0.1615642011165619, 0.10741356015205383, 0.1553501933813095, 0.20062367618083954, 0.04882434755563736, 0.03728404641151428, 0.05237520858645439, 0.011540300212800503, 0.03618661314249039, 0.9046652913093567, 0.03618661314249039, 0.05253744125366211, 0.8405990600585938, 0.05253744125366211, 0.9033685922622681, 0.03927689418196678, 0.06420935690402985, 0.8347216844558716, 0.047652117908000946, 0.09530423581600189, 0.7624338865280151, 0.042495425790548325, 0.21247713267803192, 0.014165141619741917, 0.049577996134757996, 0.003541285404935479, 0.017706427723169327, 0.028330283239483833, 0.18768812716007233, 0.4391193985939026, 0.003541285404935479, 0.32997357845306396, 0.1673251837491989, 0.046767909079790115, 0.07482865452766418, 0.047287553548812866, 0.025462528690695763, 0.11380191147327423, 0.09509474784135818, 0.058719709515571594, 0.04105183109641075, 0.8546661734580994, 0.5627468824386597, 0.04320715740323067, 0.02634582668542862, 0.03477649390697479, 0.0337226577103138, 0.05585315451025963, 0.012645997107028961, 0.0642838180065155, 0.04320715740323067, 0.12329847365617752, 0.03994401544332504, 0.22543901205062866, 0.04335803538560867, 0.05212068185210228, 0.42652469873428345, 0.026629343628883362, 0.05837971344590187, 0.05678650736808777, 0.04483744129538536, 0.02583273872733116, 0.047444455325603485, 0.06325927376747131, 0.02635803073644638, 0.04217284917831421, 0.01581481844186783, 0.637864351272583, 0.021086424589157104, 0.03162963688373566, 0.10016051679849625, 0.01581481844186783, 0.03627989813685417, 0.06046649441123009, 0.04837319627404213, 0.012093299068510532, 0.10883969068527222, 0.012093299068510532, 0.6530381441116333, 0.06046649441123009, 0.19771306216716766, 0.09547682106494904, 0.01605362445116043, 0.11406522989273071, 0.09970145672559738, 0.011828986927866936, 0.038021743297576904, 0.3227623403072357, 0.07857827097177505, 0.02619275636970997, 0.5818288326263428, 0.057904940098524094, 0.0266362726688385, 0.06832782924175262, 0.039606980979442596, 0.0639270544052124, 0.03868050128221512, 0.02756275236606598, 0.035669442266225815, 0.05952627956867218, 0.783884584903717, 0.047848593443632126, 0.023924296721816063, 0.023924296721816063, 0.023924296721816063, 0.023924296721816063, 0.047848593443632126, 0.8134260773658752, 0.267715722322464, 0.015747984871268272, 0.031495969742536545, 0.015747984871268272, 0.015747984871268272, 0.015747984871268272, 0.04724395275115967, 0.015747984871268272, 0.015747984871268272, 0.5511794686317444, 0.37909626960754395, 0.08971744775772095, 0.1283680498600006, 0.08831561356782913, 0.015420186333358288, 0.06488493829965591, 0.07890328764915466, 0.06448441743850708, 0.04666108265519142, 0.044257938861846924, 0.16045652329921722, 0.1264202892780304, 0.17990580201148987, 0.2368643879890442, 0.01736542396247387, 0.07293478399515152, 0.06668323278427124, 0.05765320733189583, 0.059737060219049454, 0.02222774364054203, 0.02312268503010273, 0.04624537006020546, 0.7861712574958801, 0.02312268503010273, 0.02312268503010273, 0.02312268503010273, 0.02312268503010273, 0.9016636610031128, 0.03606654703617096, 0.03606654703617096, 0.5494453310966492, 0.09453915804624557, 0.017789626494050026, 0.0914895087480545, 0.015756526961922646, 0.015248251147568226, 0.05031922832131386, 0.07929090410470963, 0.024905476719141006, 0.0609930045902729, 0.8427892923355103, 0.09289869666099548, 0.03715948015451431, 0.03715948015451431, 0.7431895732879639, 0.03715948015451431, 0.018579740077257156, 0.018579740077257156, 0.018579740077257156, 0.018579740077257156, 0.9170440435409546, 0.05486075580120087, 0.8777720928192139, 0.2517043352127075, 0.0887383371591568, 0.10436521470546722, 0.1674308180809021, 0.032369960099458694, 0.053577862679958344, 0.1211082935333252, 0.10101659595966339, 0.03125375509262085, 0.04855493828654289, 0.04131186008453369, 0.04131186008453369, 0.9088609218597412, 0.04205761104822159, 0.044861454516649246, 0.008411522954702377, 0.8243291974067688, 0.022430727258324623, 0.005607681814581156, 0.016823045909404755, 0.011215363629162312, 0.022430727258324623, 0.08431926369667053, 0.021079815924167633, 0.021079815924167633, 0.021079815924167633, 0.0632394477725029, 0.7377935647964478, 0.042159631848335266, 0.021079815924167633, 0.06328863650560379, 0.015822159126400948, 0.015822159126400948, 0.7278193235397339, 0.047466475516557693, 0.015822159126400948, 0.015822159126400948, 0.06328863650560379, 0.031644318252801895, 0.023412764072418213, 0.023412764072418213, 0.023412764072418213, 0.8428594470024109, 0.046825528144836426, 0.023412764072418213, 0.8700851202011108, 0.062148936092853546, 0.8082395195960999, 0.3929416239261627, 0.0757921114563942, 0.03826398029923439, 0.07726380228996277, 0.015452760271728039, 0.0485658198595047, 0.01839614287018776, 0.0757921114563942, 0.20824435353279114, 0.0485658198595047, 0.7937936782836914, 0.021790415048599243, 0.03112916462123394, 0.04202437400817871, 0.009338749572634697, 0.009338749572634697, 0.01556458231061697, 0.018677499145269394, 0.02023395709693432, 0.03735499829053879, 0.07575030624866486, 0.02840636670589447, 0.009468788281083107, 0.7953782677650452, 0.047343943268060684, 0.009468788281083107, 0.009468788281083107, 0.009468788281083107, 0.08587264269590378, 0.8157901167869568, 0.04293632134795189, 0.04293632134795189, 0.11958184838294983, 0.021463409066200256, 0.006132402457296848, 0.02759581245481968, 0.07052262872457504, 0.049059219658374786, 0.4108709692955017, 0.07052262872457504, 0.1594424694776535, 0.06439022719860077, 0.10890093445777893, 0.10890093445777893, 0.34950682520866394, 0.09493927657604218, 0.1023854911327362, 0.06003512814640999, 0.05538124218583107, 0.05351968854665756, 0.036300309002399445, 0.02978486940264702, 0.17172180116176605, 0.04853007569909096, 0.04853007569909096, 0.1157255619764328, 0.03733082860708237, 0.0074661653488874435, 0.5002331137657166, 0.026131579652428627, 0.03733082860708237, 0.011199248023331165, 0.22091372311115265, 0.10841136425733566, 0.12477534264326096, 0.04090994969010353, 0.018409477546811104, 0.3150066137313843, 0.04090994969010353, 0.045000944286584854, 0.018409477546811104, 0.06750141829252243, 0.05376975238323212, 0.05376975238323212, 0.05376975238323212, 0.8065462708473206, 0.040281992405653, 0.040281992405653, 0.040281992405653, 0.040281992405653, 0.8056398630142212, 0.8249110579490662, 0.8875997066497803, 0.8855654001235962, 0.12542977929115295, 0.0542399026453495, 0.010169981978833675, 0.10508981347084045, 0.10508981347084045, 0.02372995764017105, 0.5118891000747681, 0.03728993237018585, 0.01694997027516365, 0.013559975661337376, 0.2098674178123474, 0.0906834527850151, 0.03368242457509041, 0.5233730673789978, 0.031091470271348953, 0.015545735135674477, 0.03886433690786362, 0.012954778969287872, 0.020727647468447685, 0.02331860177218914, 0.034964341670274734, 0.7056440114974976, 0.006357152946293354, 0.012714305892586708, 0.009535729885101318, 0.006357152946293354, 0.009535729885101318, 0.0890001431107521, 0.11442875862121582, 0.015892883762717247, 0.21911108493804932, 0.01991918869316578, 0.044818174093961716, 0.01991918869316578, 0.004979797173291445, 0.01991918869316578, 0.014939391985535622, 0.10955554246902466, 0.4780605435371399, 0.0697171613574028, 0.7740471959114075, 0.8852552175521851, 0.02027302049100399, 0.054061390459537506, 0.013515347614884377, 0.013515347614884377, 0.006757673807442188, 0.8930600881576538, 0.05581625550985336, 0.48711830377578735, 0.053854309022426605, 0.102849580347538, 0.04616083577275276, 0.04292147979140282, 0.053854309022426605, 0.043326400220394135, 0.03441816568374634, 0.0761248841881752, 0.05952318385243416, 0.8429960012435913, 0.022580251097679138, 0.015053500421345234, 0.022580251097679138, 0.007526750210672617, 0.022580251097679138, 0.015053500421345234, 0.015053500421345234, 0.022580251097679138, 0.015053500421345234, 0.06859929114580154, 0.1610858291387558, 0.0863616093993187, 0.10044896602630615, 0.07656171172857285, 0.30073440074920654, 0.10351143032312393, 0.04532453045248985, 0.03858710080385208, 0.01959979720413685, 0.027900390326976776, 0.027900390326976776, 0.027900390326976776, 0.8370116949081421, 0.027900390326976776, 0.027900390326976776, 0.8360218405723572, 0.0836021900177002, 0.032568830996751785, 0.07056579738855362, 0.09227835386991501, 0.01085627730935812, 0.03799697011709213, 0.06513766199350357, 0.027140691876411438, 0.13027532398700714, 0.5265294313430786, 0.01085627730935812, 0.8889366388320923, 0.14561867713928223, 0.008089926093816757, 0.04853955656290054, 0.02426977828145027, 0.008089926093816757, 0.12134889513254166, 0.016179852187633514, 0.03235970437526703, 0.5743847489356995, 0.016179852187633514, 0.13991668820381165, 0.1076282188296318, 0.08430877327919006, 0.10942202061414719, 0.0538141094148159, 0.3695235550403595, 0.0448450930416584, 0.03766987845301628, 0.01973184011876583, 0.03408227115869522, 0.04214371740818024, 0.04214371740818024, 0.8428743481636047, 0.7467908263206482, 0.03348185122013092, 0.06259649991989136, 0.03348185122013092, 0.026203187182545662, 0.026203187182545662, 0.014557326212525368, 0.013101593591272831, 0.013101593591272831, 0.030570385977625847, 0.11152368038892746, 0.06252085417509079, 0.020277032628655434, 0.08279788494110107, 0.1926318109035492, 0.28387847542762756, 0.04224381968379021, 0.06759011000394821, 0.08279788494110107, 0.05407208949327469, 0.7508940696716309, 0.011628890410065651, 0.06977333873510361, 0.029902860522270203, 0.024919049814343452, 0.043193019926548004, 0.0166127011179924, 0.013290160335600376, 0.014951430261135101, 0.023257780820131302, 0.1189078763127327, 0.060031160712242126, 0.04733226075768471, 0.045023370534181595, 0.12814344465732574, 0.3117002546787262, 0.0634944960474968, 0.0819656252861023, 0.09004674106836319, 0.05310449004173279, 0.07785261422395706, 0.7785261273384094, 0.0500188022851944, 0.0500188022851944, 0.8003008365631104, 0.0500188022851944, 0.28419947624206543, 0.10149981826543808, 0.020299963653087616, 0.010149981826543808, 0.010149981826543808, 0.5582489967346191, 0.010149981826543808, 0.010149981826543808, 0.08999074995517731, 0.8099167346954346, 0.0488407164812088, 0.8302921652793884, 0.0488407164812088, 0.8880093693733215, 0.026162976399064064, 0.026162976399064064, 0.026162976399064064, 0.026162976399064064, 0.026162976399064064, 0.026162976399064064, 0.8110522627830505, 0.05232595279812813, 0.026162976399064064, 0.27986469864845276, 0.11853398382663727, 0.13072456419467926, 0.05394982174038887, 0.19038063287734985, 0.05317170172929764, 0.05576544255018234, 0.032681141048669815, 0.04331548139452934, 0.04124049097299576, 0.04016856104135513, 0.04016856104135513, 0.8033711910247803, 0.04016856104135513, 0.8680906295776367, 0.8517393469810486, 0.015161699615418911, 0.06443722546100616, 0.02274254895746708, 0.7884083986282349, 0.030323399230837822, 0.037904247641563416, 0.015161699615418911, 0.0075808498077094555, 0.01137127447873354, 0.0075808498077094555, 0.849301278591156, 0.01915717124938965, 0.00638572359457612, 0.0383143424987793, 0.01277144718915224, 0.01915717124938965, 0.01277144718915224, 0.01277144718915224, 0.01277144718915224, 0.01277144718915224, 0.04186098650097847, 0.04186098650097847, 0.7953587174415588, 0.04186098650097847, 0.7458012104034424, 0.05767441168427467, 0.013055238872766495, 0.03321649506688118, 0.012394214048981667, 0.023631636053323746, 0.014707800932228565, 0.023301122710108757, 0.024457916617393494, 0.0515599325299263, 0.11973723769187927, 0.14223819971084595, 0.04741273075342178, 0.06187763437628746, 0.28849440813064575, 0.034555040299892426, 0.16393554210662842, 0.035358648747205734, 0.05143076181411743, 0.05464518442749977, 0.05744139477610588, 0.032823655754327774, 0.008205913938581944, 0.06564731150865555, 0.08205913752317429, 0.016411827877163887, 0.6236494183540344, 0.05744139477610588, 0.024617740884423256, 0.032823655754327774, 0.08325575292110443, 0.011893678456544876, 0.011893678456544876, 0.011893678456544876, 0.03568103536963463, 0.3330230116844177, 0.023787356913089752, 0.011893678456544876, 0.4876408278942108, 0.09014724940061569, 0.811325192451477, 0.8234501481056213, 0.014197416603565216, 0.01774677075445652, 0.031944189220666885, 0.024845479056239128, 0.010648062452673912, 0.01774677075445652, 0.010648062452673912, 0.021296124905347824, 0.028394833207130432, 0.21567966043949127, 0.022571127861738205, 0.08025289326906204, 0.0777449905872345, 0.010031611658632755, 0.11285563558340073, 0.3887249529361725, 0.0501580610871315, 0.012539515271782875, 0.027586933225393295, 0.7832342386245728, 0.0402265302836895, 0.02839519828557968, 0.037860263139009476, 0.01419759914278984, 0.018930131569504738, 0.009465065784752369, 0.030761465430259705, 0.016563866287469864, 0.02129639871418476, 0.8180052042007446, 0.024575263261795044, 0.03159676864743233, 0.03159676864743233, 0.014043007977306843, 0.007021503988653421, 0.010532256215810776, 0.014043007977306843, 0.024575263261795044, 0.028086015954613686, 0.4287216365337372, 0.12440789490938187, 0.10359616577625275, 0.07584719359874725, 0.017111865803599358, 0.02127421274781227, 0.0591978095471859, 0.04532332345843315, 0.061510223895311356, 0.06289767473936081, 0.054070889949798584, 0.15931230783462524, 0.13900983333587646, 0.08970381319522858, 0.31406691670417786, 0.020302480086684227, 0.0729231908917427, 0.028796374797821045, 0.10544859617948532, 0.016159117221832275, 0.3844965696334839, 0.06521637737751007, 0.11242824047803879, 0.18404622375965118, 0.05481376871466637, 0.04481125622987747, 0.03960995003581047, 0.053213365375995636, 0.03560894355177879, 0.026006532832980156, 0.1386781632900238, 0.09502022713422775, 0.04108982905745506, 0.44428375363349915, 0.028249256312847137, 0.09758833795785904, 0.025681141763925552, 0.02054491452872753, 0.10015645623207092, 0.010272457264363766, 0.024140160530805588, 0.016093440353870392, 0.84490567445755, 0.05632704496383667, 0.016093440353870392, 0.016093440353870392, 0.016093440353870392, 0.016093440353870392, 0.18849121034145355, 0.03952234983444214, 0.02736162766814232, 0.09424560517072678, 0.02736162766814232, 0.01824108511209488, 0.47426822781562805, 0.0456027127802372, 0.07904469966888428, 0.00912054255604744, 0.8387609124183655, 0.03181365504860878, 0.9225959777832031, 0.03181365504860878, 0.03177295997738838, 0.9214158058166504, 0.03177295997738838, 0.8692417144775391, 0.8272624611854553, 0.6943055987358093, 0.028597328811883926, 0.032816607505083084, 0.034691840410232544, 0.026722094044089317, 0.02156519889831543, 0.08532317727804184, 0.010782599449157715, 0.01875234581530094, 0.0459432490170002, 0.8002231121063232, 0.013892762362957, 0.0111142098903656, 0.0361211821436882, 0.0166713148355484, 0.0111142098903656, 0.0333426296710968, 0.0111142098903656, 0.0194498673081398, 0.0472353920340538, 0.021312501281499863, 0.010656250640749931, 0.010656250640749931, 0.031968750059604645, 0.021312501281499863, 0.06393750011920929, 0.010656250640749931, 0.021312501281499863, 0.788562536239624, 0.010656250640749931, 0.028308281674981117, 0.9058650135993958, 0.028308281674981117, 0.03026648424565792, 0.92817223072052, 0.010088828392326832, 0.020177656784653664, 0.05054079368710518, 0.9265812635421753, 0.008423466235399246, 0.008423466235399246, 0.023739788681268692, 0.07121936231851578, 0.8071528077125549, 0.023739788681268692, 0.023739788681268692, 0.08420570194721222, 0.08871672302484512, 0.021051425486803055, 0.013533059507608414, 0.6781566739082336, 0.027066119015216827, 0.03608815744519234, 0.013533059507608414, 0.021051425486803055, 0.01804407872259617, 0.0259742122143507, 0.6666714549064636, 0.06060649827122688, 0.008658071048557758, 0.008658071048557758, 0.01298710610717535, 0.02164517715573311, 0.07792264223098755, 0.02164517715573311, 0.09956781566143036, 0.02005026862025261, 0.004010053817182779, 0.8461213707923889, 0.008020107634365559, 0.004010053817182779, 0.02005026862025261, 0.08020107448101044, 0.01203016098588705, 0.004010053817182779, 0.10213395953178406, 0.05106697976589203, 0.04255581647157669, 0.008511163294315338, 0.025533489882946014, 0.008511163294315338, 0.008511163294315338, 0.7404711842536926, 0.008511163294315338, 0.008511163294315338, 0.0674678236246109, 0.023812174797058105, 0.718333899974823, 0.0674678236246109, 0.03174956515431404, 0.023812174797058105, 0.00793739128857851, 0.03174956515431404, 0.011906087398529053, 0.011906087398529053, 0.017048969864845276, 0.8609729409217834, 0.05114690959453583, 0.017048969864845276, 0.017048969864845276, 0.017048969864845276, 0.017048969864845276, 0.9116665124893188, 0.07291673868894577, 0.07291673868894577, 0.8020841479301453, 0.04944824054837227, 0.039558593183755875, 0.019779296591877937, 0.7812822461128235, 0.009889648295938969, 0.02966894581913948, 0.009889648295938969, 0.009889648295938969, 0.009889648295938969, 0.039558593183755875, 0.1343807429075241, 0.060545168817043304, 0.2702381908893585, 0.0767889991402626, 0.0206739604473114, 0.0516849011182785, 0.0206739604473114, 0.070882149040699, 0.2687614858150482, 0.0265808068215847, 0.017128150910139084, 0.017128150910139084, 0.06851260364055634, 0.017128150910139084, 0.017128150910139084, 0.822151243686676, 0.017128150910139084, 0.03425630182027817, 0.8394557237625122, 0.8579186201095581, 0.09532429277896881, 0.25243139266967773, 0.17651216685771942, 0.2979829013347626, 0.054092440754175186, 0.010438892059028149, 0.04460253566503525, 0.0237247534096241, 0.04365354776382446, 0.046500518918037415, 0.04839849844574928, 0.8836628198623657, 0.023882778361439705, 0.023882778361439705, 0.023882778361439705, 0.023882778361439705, 0.023882778361439705, 0.07293473929166794, 0.03646736964583397, 0.7658147811889648, 0.03646736964583397, 0.03646736964583397, 0.8525962829589844, 0.05638418346643448, 0.8457627892494202, 0.8704643249511719, 0.037961240857839584, 0.037961240857839584, 0.037961240857839584, 0.8351472616195679, 0.037961240857839584, 0.03303700312972069, 0.03303700312972069, 0.03303700312972069, 0.8589621186256409, 0.8283621072769165, 0.01570354774594307, 0.01570354774594307, 0.043184757232666016, 0.011777660809457302, 0.01570354774594307, 0.011777660809457302, 0.011777660809457302, 0.023555321618914604, 0.027481207624077797, 0.12304208427667618, 0.024608416482806206, 0.009843367151916027, 0.014765050262212753, 0.03445178270339966, 0.0049216835759580135, 0.7382525205612183, 0.03445178270339966, 0.0049216835759580135, 0.014765050262212753, 0.9058973789215088, 0.03938684239983559, 0.03938684239983559, 0.5734773874282837, 0.0399845726788044, 0.046009644865989685, 0.05367792025208473, 0.021361621096730232, 0.07723047584295273, 0.04984378442168236, 0.03395950049161911, 0.04381871223449707, 0.05970299243927002, 0.0057272226549685, 0.0057272226549685, 0.091635562479496, 0.0057272226549685, 0.0057272226549685, 0.011454445309937, 0.8762650489807129, 0.6826388835906982, 0.04026669263839722, 0.04784630611538887, 0.06774278730154037, 0.031265903264284134, 0.009474515914916992, 0.06111062690615654, 0.010421967133879662, 0.020843934267759323, 0.028423547744750977, 0.14619480073451996, 0.05980696529150009, 0.023258263245224953, 0.5914244055747986, 0.013290436938405037, 0.029903482645750046, 0.013290436938405037, 0.029903482645750046, 0.023258263245224953, 0.07309740036725998, 0.05203509330749512, 0.05203509330749512, 0.8325614929199219, 0.03622870519757271, 0.905717670917511, 0.03622870519757271, 0.07991570234298706, 0.09323499351739883, 0.09323499351739883, 0.013319284655153751, 0.013319284655153751, 0.013319284655153751, 0.03995785117149353, 0.06659641861915588, 0.5993677973747253, 0.051169946789741516, 0.2800414562225342, 0.11867881566286087, 0.07979471981525421, 0.20227327942848206, 0.03229786083102226, 0.06700222939252853, 0.05788283795118332, 0.07612162828445435, 0.03470436856150627, 0.04264017939567566, 0.04264017939567566, 0.04264017939567566, 0.04264017939567566, 0.7675232291221619, 0.04264017939567566, 0.07186011970043182, 0.02874404937028885, 0.04024166986346245, 0.005748809780925512, 0.7473452687263489, 0.0344928577542305, 0.014372024685144424, 0.01724642887711525, 0.025869643315672874, 0.014372024685144424, 0.8241822719573975, 0.04137445613741875, 0.018281737342476845, 0.024054916575551033, 0.16453562676906586, 0.313676118850708, 0.19051493704319, 0.10295504331588745, 0.025979310274124146, 0.095257468521595, 0.02309272065758705, 0.2674160301685333, 0.06482812762260437, 0.10669629275798798, 0.09048926085233688, 0.0898139625787735, 0.06415282934904099, 0.17760205268859863, 0.05064697191119194, 0.03376464918255806, 0.05334814637899399, 0.12251456081867218, 0.015980159863829613, 0.010653439909219742, 0.7883545756340027, 0.005326719954609871, 0.010653439909219742, 0.010653439909219742, 0.031960319727659225, 0.8556435108184814, 0.020869353786110878, 0.010434676893055439, 0.03130403161048889, 0.010434676893055439, 0.010434676893055439, 0.020869353786110878, 0.010434676893055439, 0.020869353786110878, 0.020869353786110878, 0.9007051587104797, 0.042890723794698715, 0.01246099267154932, 0.01246099267154932, 0.14953191578388214, 0.01246099267154932, 0.01246099267154932, 0.7351985573768616, 0.037382978945970535, 0.01246099267154932, 0.02492198534309864, 0.8597529530525208, 0.012282184325158596, 0.012282184325158596, 0.024564368650317192, 0.012282184325158596, 0.012282184325158596, 0.012282184325158596, 0.012282184325158596, 0.012282184325158596, 0.024564368650317192, 0.023672105744481087, 0.023672105744481087, 0.04734421148896217, 0.2248850017786026, 0.011836052872240543, 0.011836052872240543, 0.6036387085914612, 0.035508159548044205, 0.011836052872240543, 0.052236974239349365, 0.8357915878295898, 0.026115652173757553, 0.8444060683250427, 0.017410434782505035, 0.017410434782505035, 0.008705217391252518, 0.017410434782505035, 0.052231304347515106, 0.008705217391252518, 0.8863011002540588, 0.026456749066710472, 0.013228374533355236, 0.052913498133420944, 0.013228374533355236, 0.03364364802837372, 0.03364364802837372, 0.8410911560058594, 0.03364364802837372, 0.03364364802837372, 0.20024560391902924, 0.14723941683769226, 0.0948876217007637, 0.21987752616405487, 0.10012280195951462, 0.050388600677251816, 0.08834365010261536, 0.034028664231300354, 0.041227035224437714, 0.024212704971432686, 0.03334960341453552, 0.26822203397750854, 0.17985983192920685, 0.15705667436122894, 0.11857637017965317, 0.03677007555961609, 0.0843716487288475, 0.04247086122632027, 0.06327873468399048, 0.01624724268913269, 0.06769584119319916, 0.13539168238639832, 0.7446542978286743, 0.14204192161560059, 0.517894446849823, 0.05945013090968132, 0.04548533633351326, 0.038303442299366, 0.012368819676339626, 0.0438893586397171, 0.07860185205936432, 0.04269237816333771, 0.019550714641809464, 0.024960001930594444, 0.8736000657081604, 0.024960001930594444, 0.024960001930594444, 0.024960001930594444, 0.024960001930594444, 0.07542623579502106, 0.859859049320221, 0.015085247345268726, 0.015085247345268726, 0.015085247345268726, 0.015085247345268726, 0.11038511246442795, 0.12245848774909973, 0.02932104468345642, 0.031045813113451004, 0.09831173717975616, 0.12763278186321259, 0.10003650933504105, 0.23456835746765137, 0.09141267091035843, 0.05691732466220856, 0.22700165212154388, 0.17833995819091797, 0.11466560512781143, 0.09939411282539368, 0.11388908326625824, 0.05565034970641136, 0.05901525169610977, 0.04814402386546135, 0.07040416449308395, 0.033131372183561325, 0.01690101809799671, 0.8788529634475708, 0.050703052431344986, 0.01690101809799671, 0.01690101809799671, 0.01690101809799671, 0.01690101809799671, 0.18958093225955963, 0.21866437792778015, 0.18096362054347992, 0.09048181027173996, 0.054935384541749954, 0.04577948525547981, 0.0861731544137001, 0.038239337503910065, 0.058166876435279846, 0.0371621698141098, 0.0573449544608593, 0.47628170251846313, 0.0860174298286438, 0.06849536299705505, 0.10831824690103531, 0.0573449544608593, 0.03504413738846779, 0.047787461429834366, 0.03822996839880943, 0.023893730714917183, 0.051165368407964706, 0.051165368407964706, 0.8698112368583679, 0.06379423290491104, 0.6333855986595154, 0.11391826719045639, 0.022783653810620308, 0.045567307621240616, 0.02734038420021534, 0.041010577231645584, 0.004556730855256319, 0.03645384684205055, 0.004556730855256319, 0.02112799510359764, 0.866247832775116, 0.04648159071803093, 0.016902396455407143, 0.016902396455407143, 0.016902396455407143, 0.016902396455407143, 0.2662895619869232, 0.18772469460964203, 0.07252141088247299, 0.13484449684619904, 0.032861266285181046, 0.07025512307882309, 0.07025512307882309, 0.08158659189939499, 0.034372128546237946, 0.049103040248155594, 0.368124783039093, 0.10754207521677017, 0.03584735840559006, 0.19118590652942657, 0.06388182938098907, 0.05239229276776314, 0.028953636065125465, 0.07537136971950531, 0.03630694001913071, 0.04044317454099655, 0.16715256869792938, 0.09958025813102722, 0.1209188848733902, 0.07824163138866425, 0.05334656685590744, 0.017782188951969147, 0.007112875580787659, 0.07824163138866425, 0.35920020937919617, 0.021338626742362976, 0.22307784855365753, 0.3685634136199951, 0.10345640033483505, 0.06223548948764801, 0.033138375729322433, 0.027480605989694595, 0.035563137382268906, 0.06950976699590683, 0.033138375729322433, 0.043645668774843216, 0.026864467188715935, 0.05372893437743187, 0.026864467188715935, 0.8059340119361877, 0.026864467188715935, 0.026864467188715935, 0.8875938057899475, 0.042266372591257095, 0.042266372591257095, 0.9012933373451233, 0.186748206615448, 0.16121000051498413, 0.08379727602005005, 0.08619148284196854, 0.16440227627754211, 0.04309574142098427, 0.03511504828929901, 0.02793242409825325, 0.16200806200504303, 0.04868222773075104, 0.02931242063641548, 0.02931242063641548, 0.850060224533081, 0.02931242063641548, 0.02931242063641548, 0.05407174676656723, 0.12492437660694122, 0.12492437660694122, 0.06525900214910507, 0.06712354719638824, 0.2964623272418976, 0.05780083313584328, 0.08390443027019501, 0.08576897531747818, 0.03729085996747017, 0.018442943692207336, 0.05532883107662201, 0.866818368434906, 0.018442943692207336, 0.16094470024108887, 0.02011808753013611, 0.7644872665405273, 0.02011808753013611, 0.02011808753013611, 0.8416436910629272, 0.2852083742618561, 0.19218342006206512, 0.028623061254620552, 0.08382467925548553, 0.020445043221116066, 0.06133513152599335, 0.07769116759300232, 0.047023601830005646, 0.04089008644223213, 0.1625380963087082, 0.027615459635853767, 0.8560792207717896, 0.013807729817926884, 0.041423190385103226, 0.027615459635853767, 0.013807729817926884, 0.05911658704280853, 0.05911658704280853, 0.05911658704280853, 0.8276322484016418, 0.05897272005677223, 0.05897272005677223, 0.8256180882453918, 0.06361816823482513, 0.06361816823482513, 0.03180908411741257, 0.03180908411741257, 0.7634180188179016, 0.16217054426670074, 0.13318949937820435, 0.24849706888198853, 0.1165408119559288, 0.07152768969535828, 0.04501311853528023, 0.04254664480686188, 0.06906121969223022, 0.053645770996809006, 0.057962097227573395, 0.8672407269477844, 0.04129717871546745, 0.15517257153987885, 0.7758628726005554, 0.04755893349647522, 0.04755893349647522, 0.04755893349647522, 0.8085018396377563, 0.01588982343673706, 0.8739402294158936, 0.04766946658492088, 0.01588982343673706, 0.01588982343673706, 0.01588982343673706, 0.01588982343673706, 0.5806029438972473, 0.07643575966358185, 0.01621364615857601, 0.07875199615955353, 0.017757801339030266, 0.07180328667163849, 0.04709678143262863, 0.01698572374880314, 0.03319936990737915, 0.06253834813833237, 0.46515780687332153, 0.08469445258378983, 0.040362197905778885, 0.12637999653816223, 0.0310987439006567, 0.021835288032889366, 0.08469445258378983, 0.021835288032889366, 0.039038848131895065, 0.08535612374544144, 0.8575553297996521, 0.04354161396622658, 0.026124967262148857, 0.06966657936573029, 0.01741664484143257, 0.01741664484143257, 0.7576240301132202, 0.008708322420716286, 0.03483328968286514, 0.008708322420716286, 0.008708322420716286, 0.840649425983429, 0.02901345305144787, 0.02901345305144787, 0.8123766779899597, 0.02901345305144787, 0.02901345305144787, 0.05006561428308487, 0.8511154055595398, 0.05006561428308487, 0.05257691442966461, 0.05257691442966461, 0.05257691442966461, 0.05257691442966461, 0.7360767722129822, 0.015439118258655071, 0.8800297379493713, 0.04631735384464264, 0.015439118258655071, 0.015439118258655071, 0.015439118258655071, 0.015439118258655071, 0.030527986586093903, 0.8700476288795471, 0.015263993293046951, 0.015263993293046951, 0.015263993293046951, 0.015263993293046951, 0.015263993293046951, 0.015263993293046951, 0.015263993293046951, 0.026459820568561554, 0.008819940499961376, 0.8290743827819824, 0.008819940499961376, 0.008819940499961376, 0.017639880999922752, 0.07937946170568466, 0.017639880999922752, 0.008819940499961376, 0.05023285001516342, 0.012558212503790855, 0.037674639374017715, 0.02511642500758171, 0.02511642500758171, 0.828842043876648, 0.012558212503790855, 0.012558212503790855, 0.16196408867835999, 0.32606491446495056, 0.10726381838321686, 0.097434863448143, 0.12093888223171234, 0.027777481824159622, 0.01794852688908577, 0.04957212135195732, 0.03888847678899765, 0.051708851009607315, 0.11074890196323395, 0.018985526636242867, 0.018985526636242867, 0.006328508723527193, 0.6644934415817261, 0.05695657804608345, 0.06328509002923965, 0.009492763318121433, 0.018985526636242867, 0.028478289023041725, 0.11687297374010086, 0.033392276614904404, 0.5032693147659302, 0.04174034669995308, 0.09302134811878204, 0.03219969570636749, 0.04770325496792793, 0.04651067405939102, 0.06201422959566116, 0.023851627483963966, 0.321841835975647, 0.26076945662498474, 0.08918508887290955, 0.10307987034320831, 0.02552761510014534, 0.0219731368124485, 0.06527314335107803, 0.025850750505924225, 0.04330000653862953, 0.04297687113285065, 0.06703152507543564, 0.20109456777572632, 0.03351576253771782, 0.7038310170173645, 0.8485397696495056, 0.018688345327973366, 0.01245889626443386, 0.2445058375597, 0.007786810398101807, 0.03581932559609413, 0.5917975902557373, 0.00622944813221693, 0.06229448318481445, 0.00622944813221693, 0.014016258530318737, 0.8535823822021484, 0.017712660133838654, 0.017712660133838654, 0.008856330066919327, 0.008856330066919327, 0.02656899020075798, 0.008856330066919327, 0.8679203391075134, 0.02656899020075798, 0.008856330066919327, 0.008856330066919327, 0.03306352719664574, 0.03306352719664574, 0.09919058531522751, 0.03306352719664574, 0.760461151599884, 0.17451952397823334, 0.3221091628074646, 0.06854874640703201, 0.14933834969997406, 0.050012607127428055, 0.04476653039455414, 0.04826391488313675, 0.05106182396411896, 0.05385972931981087, 0.037072282284498215, 0.04317455366253853, 0.841903805732727, 0.04317455366253853, 0.021587276831269264, 0.021587276831269264, 0.06431394070386887, 0.9003951549530029, 0.056517574936151505, 0.056517574936151505, 0.056517574936151505, 0.8477636575698853, 0.8254944086074829, 0.061553336679935455, 0.05129444599151611, 0.05300426110625267, 0.08549074083566666, 0.032486483454704285, 0.13678519427776337, 0.22056612372398376, 0.039325740188360214, 0.2786998152732849, 0.04274537041783333, 0.05303645506501198, 0.06867541372776031, 0.07411504536867142, 0.11287245899438858, 0.05303645506501198, 0.09723350405693054, 0.20058658719062805, 0.07683486491441727, 0.2216651886701584, 0.041477229446172714, 0.05245795100927353, 0.05554370954632759, 0.04474354535341263, 0.0941157341003418, 0.027771854773163795, 0.13577350974082947, 0.22526060044765472, 0.03394337743520737, 0.2885187268257141, 0.04011490195989609, 0.040192876011133194, 0.0690268948674202, 0.04718293994665146, 0.12931621074676514, 0.03582408279180527, 0.10572473704814911, 0.21407075226306915, 0.06465810537338257, 0.25251612067222595, 0.04106663167476654, 0.8535427451133728, 0.01269970741122961, 0.13715682923793793, 0.5638669729232788, 0.03301923722028732, 0.12953701615333557, 0.022859472781419754, 0.01269970741122961, 0.01777959056198597, 0.05587871000170708, 0.01777959056198597, 0.4706524908542633, 0.16445788741111755, 0.07032738626003265, 0.07438473403453827, 0.029753893613815308, 0.025426054373383522, 0.02218017540872097, 0.07654865086078644, 0.020286746323108673, 0.045983292162418365, 0.8358228802680969, 0.029891574755311012, 0.029891574755311012, 0.029891574755311012, 0.8668556809425354, 0.029891574755311012, 0.04893229901790619, 0.8318490982055664, 0.04893229901790619, 0.01795525662600994, 0.005985085852444172, 0.8678374290466309, 0.005985085852444172, 0.011970171704888344, 0.023940343409776688, 0.03591051325201988, 0.005985085852444172, 0.005985085852444172, 0.023940343409776688], \"Term\": [\" \", \" \", \" \", \" \", \" \", \" \", \" \", \" \", \" \", \" \", \"absulte\", \"accum\", \"accum\", \"accum\", \"accum\", \"acquirer\", \"acquirer\", \"acquirer\", \"active\", \"active\", \"active\", \"active\", \"active\", \"active\", \"active\", \"active\", \"active\", \"active\", \"address\", \"address\", \"address\", \"address\", \"address\", \"address\", \"address\", \"address\", \"address\", \"address\", \"adjoin\", \"adjustable\", \"adjustable\", \"adjustable\", \"admin\", \"admin\", \"admin\", \"admin\", \"admin\", \"admin\", \"admin\", \"admin\", \"admin\", \"admin\", \"aftertax\", \"aftertax\", \"aftertax\", \"aftertax\", \"aftertax\", \"aftertax\", \"aftertax\", \"aftertax\", \"aftertax\", \"aftertax\", \"agreement\", \"agreement\", \"agreement\", \"agreement\", \"agreement\", \"agreement\", \"agreement\", \"agreement\", \"agreement\", \"agreement\", \"air\", \"air\", \"air\", \"air\", \"air\", \"air\", \"air\", \"air\", \"air\", \"air\", \"alamo\", \"alamo\", \"alamo\", \"alamo\", \"alamo\", \"alamo\", \"alamo\", \"alamo\", \"alamo\", \"algebraic\", \"algebraic\", \"algebraic\", \"allen\", \"allen\", \"allen\", \"allen\", \"allen\", \"allen\", \"allen\", \"allen\", \"allen\", \"allen\", \"allencorpenronenron\", \"allencorpenronenron\", \"allencorpenronenron\", \"allencorpenronenron\", \"allencorpenronenron\", \"allencorpenronenron\", \"allencorpenronenron\", \"allencorpenronenron\", \"allenenron\", \"allenenron\", \"allenenron\", \"allenenron\", \"allenenron\", \"allenenron\", \"allenenron\", \"allenenron\", \"allenhouect\", \"allenhouect\", \"allenhouect\", \"allenhouect\", \"allenhouect\", \"allenhouect\", \"allenhouect\", \"allenhouect\", \"allenhouect\", \"allenhouect\", \"allenxls\", \"amazoncom\", \"amazoncom\", \"amazoncom\", \"amazoncom\", \"amazoncom\", \"amazoncom\", \"amazoncom\", \"amazoncom\", \"amazoncom\", \"amc\", \"amc\", \"analyst\", \"analyst\", \"analyst\", \"analyst\", \"analyst\", \"analyst\", \"analyst\", \"analyst\", \"analyst\", \"analyst\", \"andyzipperenroncom\", \"andyzipperenroncom\", \"andyzipperenroncom\", \"andyzipperenroncom\", \"andyzipperenroncom\", \"andyzipperenroncom\", \"andyzipperenroncom\", \"andyzipperenroncom\", \"andyzipperenroncom\", \"anthem\", \"anticpate\", \"anticpate\", \"anticpate\", \"apartments\", \"appendix\", \"appendix\", \"appendix\", \"appendix\", \"appendix\", \"appendix\", \"appendix\", \"appraise\", \"appraise\", \"appraise\", \"appraise\", \"appraise\", \"appraise\", \"architects\", \"arnold\", \"arnold\", \"arnold\", \"arnold\", \"arnold\", \"arnold\", \"arnold\", \"arnold\", \"arnold\", \"arnold\", \"arnoldect\", \"arnoldect\", \"arnoldect\", \"arnoldect\", \"arnoldect\", \"arnoldect\", \"arnoldect\", \"arnoldect\", \"arnoldect\", \"arnoldect\", \"arnoldhouectect\", \"arnoldhouectect\", \"arnoldhouectect\", \"arnoldhouectect\", \"arnoldhouectect\", \"arnoldhouectect\", \"arnoldhouectect\", \"arnoldhouectect\", \"arnoldhouectect\", \"arnoldhouectect\", \"arnoldougcooenron\", \"arnoldougcooenron\", \"arnoldougcooenron\", \"arnoldougcooenron\", \"arsystemectenroncom\", \"assistantscheduling\", \"attachment\", \"attachment\", \"attachment\", \"attachment\", \"attachment\", \"attachment\", \"attachment\", \"attachment\", \"attachment\", \"attachment\", \"august\", \"august\", \"august\", \"august\", \"august\", \"august\", \"august\", \"august\", \"august\", \"august\", \"author\", \"author\", \"author\", \"author\", \"author\", \"author\", \"author\", \"author\", \"author\", \"available\", \"available\", \"available\", \"available\", \"available\", \"available\", \"available\", \"available\", \"available\", \"available\", \"avaya\", \"avaya\", \"avaya\", \"avaya\", \"avaya\", \"avaya\", \"avaya\", \"avaya\", \"avaya\", \"avaya\", \"backout\", \"backout\", \"backout\", \"backout\", \"backout\", \"backout\", \"backout\", \"backout\", \"backout\", \"bailey\", \"bailey\", \"bailey\", \"bailey\", \"bailey\", \"bailey\", \"bailey\", \"bailey\", \"bailey\", \"bailey\", \"bath\", \"bath\", \"bath\", \"bath\", \"baughmanhouectect\", \"baughmanhouectect\", \"baughmanhouectect\", \"baughmanhouectect\", \"bawahouectect\", \"bawahouectect\", \"be\", \"be\", \"be\", \"be\", \"be\", \"be\", \"be\", \"be\", \"be\", \"be\", \"bearish\", \"bearish\", \"bearish\", \"bearish\", \"bearish\", \"bearish\", \"bearish\", \"bearish\", \"bearish\", \"bearish\", \"bedridden\", \"berkelandcorpenron\", \"bfm\", \"bfm\", \"bfm\", \"bfm\", \"bill\", \"bill\", \"bill\", \"bill\", \"bill\", \"bill\", \"bill\", \"bill\", \"bill\", \"bill\", \"billing\", \"billing\", \"billing\", \"billing\", \"billing\", \"billing\", \"billing\", \"billing\", \"billing\", \"billing\", \"billion\", \"billion\", \"billion\", \"billion\", \"billion\", \"billion\", \"billion\", \"billion\", \"billion\", \"billion\", \"billlovejoyhpcom\", \"billlovejoyhpcom\", \"blatchford\", \"blatchford\", \"blatchford\", \"blatchford\", \"blatchford\", \"bmc\", \"bmc\", \"bmc\", \"bmc\", \"bmc\", \"bmc\", \"bmc\", \"bmc\", \"bmc\", \"bmc\", \"bnp\", \"bnp\", \"bnp\", \"bnp\", \"bnp\", \"bnp\", \"bnp\", \"bnp\", \"bobjordancompaqcom\", \"bobjordancompaqcom\", \"bottle\", \"bottle\", \"bottle\", \"bottle\", \"bottle\", \"bottle\", \"bottle\", \"bottle\", \"bottle\", \"bottle\", \"boxster\", \"broadband\", \"broadband\", \"broadband\", \"broadband\", \"broadband\", \"broadband\", \"broadband\", \"broadband\", \"broadband\", \"broadband\", \"broker\", \"broker\", \"broker\", \"broker\", \"broker\", \"broker\", \"broker\", \"broker\", \"broker\", \"broker\", \"bubbie\", \"bubbie\", \"buerklepdxectect\", \"buerklepdxectect\", \"buerklepdxectect\", \"buerklepdxectect\", \"buerklepdxectect\", \"burn\", \"burn\", \"burn\", \"burn\", \"burn\", \"burn\", \"burn\", \"burn\", \"burn\", \"burn\", \"burnshouectect\", \"burnshouectect\", \"business\", \"business\", \"business\", \"business\", \"business\", \"business\", \"business\", \"business\", \"business\", \"business\", \"buster\", \"buy\", \"buy\", \"buy\", \"buy\", \"buy\", \"buy\", \"buy\", \"buy\", \"buy\", \"buy\", \"buycom\", \"buycom\", \"buycom\", \"buycom\", \"buycom\", \"buycom\", \"bwoertzcaisocom\", \"bwoertzcaisocom\", \"bwoertzcaisocom\", \"bwoertzcaisocom\", \"byron\", \"byron\", \"byron\", \"byron\", \"byron\", \"byron\", \"byron\", \"byron\", \"byron\", \"byron\", \"caboim\", \"cactus\", \"cactus\", \"caima\", \"caima\", \"caiso\", \"caiso\", \"caiso\", \"caiso\", \"caiso\", \"caiso\", \"caiso\", \"caiso\", \"caiso\", \"caiso\", \"caisos\", \"caisos\", \"caisos\", \"caisos\", \"caisos\", \"caisos\", \"caisos\", \"caisos\", \"california\", \"california\", \"california\", \"california\", \"california\", \"california\", \"california\", \"california\", \"california\", \"california\", \"candlesticks\", \"candlesticks\", \"candlesticks\", \"candlesticks\", \"carr\", \"carr\", \"carr\", \"carr\", \"carr\", \"carr\", \"carr\", \"carr\", \"carr\", \"carr\", \"cash\", \"cash\", \"cash\", \"cash\", \"cash\", \"cash\", \"cash\", \"cash\", \"cash\", \"cash\", \"cashiola\", \"cashiola\", \"cashiola\", \"cashiola\", \"cashiola\", \"cashiola\", \"cashiola\", \"caspy\", \"caspy\", \"cb\", \"cb\", \"cb\", \"cb\", \"cb\", \"cb\", \"cb\", \"cbot\", \"cbot\", \"cc\", \"cc\", \"cc\", \"cc\", \"cc\", \"cc\", \"cc\", \"cc\", \"cc\", \"cc\", \"ce\", \"ce\", \"ce\", \"ce\", \"ce\", \"ce\", \"ce\", \"ce\", \"ce\", \"ce\", \"cea\", \"cea\", \"cea\", \"cea\", \"cea\", \"cea\", \"cea\", \"cent\", \"cent\", \"cent\", \"cent\", \"cent\", \"cent\", \"cent\", \"cent\", \"cent\", \"cent\", \"cfa\", \"cfa\", \"cfa\", \"chairperson\", \"chairperson\", \"chairperson\", \"change\", \"change\", \"change\", \"change\", \"change\", \"change\", \"change\", \"change\", \"change\", \"change\", \"charbonneau\", \"charbonneau\", \"chart\", \"chart\", \"chart\", \"chart\", \"chart\", \"chart\", \"chart\", \"chart\", \"chart\", \"chart\", \"chris\", \"chris\", \"chris\", \"chris\", \"chris\", \"chris\", \"chris\", \"chris\", \"chris\", \"chris\", \"chrisrobersonhpcom\", \"chronicle\", \"chronicle\", \"chronicle\", \"chronicle\", \"chronicle\", \"chronicle\", \"chronicle\", \"chronicle\", \"chronicle\", \"chronicle\", \"cicchetti\", \"cicchetti\", \"cicchetti\", \"citygate\", \"citygate\", \"citygate\", \"citygate\", \"citygate\", \"citygate\", \"citygate\", \"citygate\", \"citygate\", \"citygate\", \"clarkelonectect\", \"clearing\", \"clearing\", \"clearing\", \"clearing\", \"clearing\", \"clearing\", \"clearing\", \"clearing\", \"clearing\", \"clearing\", \"cleveland\", \"cleveland\", \"cleveland\", \"cleveland\", \"cleveland\", \"cleveland\", \"cleveland\", \"cleveland\", \"cleveland\", \"click\", \"click\", \"click\", \"click\", \"click\", \"click\", \"click\", \"click\", \"click\", \"click\", \"client\", \"client\", \"client\", \"client\", \"client\", \"client\", \"client\", \"client\", \"client\", \"client\", \"club\", \"club\", \"club\", \"club\", \"club\", \"club\", \"club\", \"club\", \"club\", \"club\", \"cmr\", \"cmr\", \"cmr\", \"cmr\", \"cmr\", \"cmr\", \"cmr\", \"cmr\", \"cnjeff\", \"cnjeff\", \"cnjeff\", \"cnjeff\", \"coa\", \"coa\", \"coa\", \"coa\", \"come\", \"come\", \"come\", \"come\", \"come\", \"come\", \"come\", \"come\", \"come\", \"come\", \"comment\", \"comment\", \"comment\", \"comment\", \"comment\", \"comment\", \"comment\", \"comment\", \"comment\", \"comment\", \"communications\", \"communications\", \"communications\", \"communications\", \"communications\", \"communications\", \"communications\", \"communications\", \"communications\", \"communications\", \"communicationsenron\", \"communicationsenron\", \"communicationsenron\", \"communicationsenron\", \"communicationsenron\", \"communicationsenron\", \"communicationsenron\", \"communicationsenron\", \"communicationsenron\", \"communicationsenron\", \"comnespdxect\", \"comnespdxect\", \"company\", \"company\", \"company\", \"company\", \"company\", \"company\", \"company\", \"company\", \"company\", \"company\", \"companys\", \"companys\", \"companys\", \"companys\", \"companys\", \"companys\", \"companys\", \"companys\", \"companys\", \"companys\", \"compaq\", \"compaq\", \"compaq\", \"compaq\", \"compaq\", \"compaq\", \"compaq\", \"compaq\", \"compaq\", \"compaq\", \"complication\", \"complication\", \"complication\", \"concordjpg\", \"confebc\", \"confebc\", \"confebc\", \"confebc\", \"conforme\", \"conforme\", \"conforme\", \"conforme\", \"conforme\", \"conforme\", \"conforme\", \"congestion\", \"congestion\", \"congestion\", \"congestion\", \"congestion\", \"congestion\", \"congestion\", \"congestion\", \"congestion\", \"congestion\", \"console\", \"console\", \"construction\", \"construction\", \"construction\", \"construction\", \"construction\", \"construction\", \"construction\", \"construction\", \"construction\", \"construction\", \"contact\", \"contact\", \"contact\", \"contact\", \"contact\", \"contact\", \"contact\", \"contact\", \"contact\", \"contact\", \"contain\", \"contain\", \"contain\", \"contain\", \"contain\", \"contain\", \"contain\", \"contain\", \"contain\", \"contain\", \"continental\", \"continental\", \"continental\", \"continental\", \"continental\", \"continental\", \"continental\", \"continental\", \"continental\", \"continental\", \"continentalcom\", \"continentalcom\", \"continentalcom\", \"continentalcom\", \"continentalcom\", \"continentalcom\", \"continentalcom\", \"continentalcom\", \"continentalcom\", \"continentalcom\", \"contract\", \"contract\", \"contract\", \"contract\", \"contract\", \"contract\", \"contract\", \"contract\", \"contract\", \"contract\", \"coolus\", \"coolus\", \"coolus\", \"coolus\", \"coordinator\", \"coordinator\", \"coordinator\", \"coordinator\", \"coordinator\", \"coordinator\", \"coordinator\", \"coordinator\", \"coordinator\", \"coordinator\", \"copy\", \"copy\", \"copy\", \"copy\", \"copy\", \"copy\", \"copy\", \"copy\", \"copy\", \"copy\", \"copyright\", \"copyright\", \"copyright\", \"copyright\", \"copyright\", \"copyright\", \"copyright\", \"copyright\", \"copyright\", \"copyright\", \"cornice\", \"cornice\", \"corp\", \"corp\", \"corp\", \"corp\", \"corp\", \"corp\", \"corp\", \"corp\", \"corp\", \"corp\", \"cost\", \"cost\", \"cost\", \"cost\", \"cost\", \"cost\", \"cost\", \"cost\", \"cost\", \"cost\", \"cover\", \"cover\", \"cover\", \"cover\", \"cover\", \"cover\", \"cover\", \"cover\", \"cover\", \"cover\", \"coverage\", \"coverage\", \"coverage\", \"coverage\", \"coverage\", \"coverage\", \"coverage\", \"coverage\", \"coverage\", \"coverage\", \"covering\", \"covering\", \"covering\", \"covering\", \"covering\", \"credit\", \"credit\", \"credit\", \"credit\", \"credit\", \"credit\", \"credit\", \"credit\", \"credit\", \"credit\", \"creekside\", \"creekside\", \"creekside\", \"creekside\", \"creekside\", \"creekside\", \"creekside\", \"creekside\", \"creekside\", \"crosssell\", \"crosssell\", \"crosssell\", \"ct\", \"ct\", \"ct\", \"ct\", \"ct\", \"ct\", \"ct\", \"ct\", \"ct\", \"ct\", \"cup\", \"cup\", \"cup\", \"cup\", \"cup\", \"cup\", \"cup\", \"cup\", \"cupertino\", \"cupertino\", \"cupertino\", \"cupertino\", \"cupertino\", \"cupertino\", \"cupertino\", \"cupertino\", \"customer\", \"customer\", \"customer\", \"customer\", \"customer\", \"customer\", \"customer\", \"customer\", \"customer\", \"customer\", \"cuz\", \"cuz\", \"cuz\", \"cuz\", \"cuz\", \"cuz\", \"cuz\", \"cuz\", \"cuz\", \"cuz\", \"d\", \"d\", \"d\", \"d\", \"d\", \"d\", \"d\", \"d\", \"d\", \"d\", \"dabhol\", \"dabhol\", \"dabhol\", \"dabhol\", \"dabhol\", \"dabhol\", \"dabhol\", \"dabhol\", \"dabhol\", \"dabhol\", \"daha\", \"daman\", \"daman\", \"daman\", \"daniel\", \"daniel\", \"daniel\", \"daniel\", \"daniel\", \"daniel\", \"daniel\", \"daniel\", \"daniel\", \"daniel\", \"date\", \"date\", \"date\", \"date\", \"date\", \"date\", \"date\", \"date\", \"date\", \"date\", \"david\", \"david\", \"david\", \"david\", \"david\", \"david\", \"david\", \"david\", \"david\", \"david\", \"day\", \"day\", \"day\", \"day\", \"day\", \"day\", \"day\", \"day\", \"day\", \"day\", \"de\", \"de\", \"de\", \"de\", \"de\", \"de\", \"de\", \"de\", \"de\", \"de\", \"deakins\", \"deal\", \"deal\", \"deal\", \"deal\", \"deal\", \"deal\", \"deal\", \"deal\", \"deal\", \"deal\", \"deathly\", \"deathly\", \"decay\", \"decisiion\", \"deferral\", \"deferral\", \"deferral\", \"deferral\", \"deferral\", \"deferral\", \"deferral\", \"deferral\", \"deferral\", \"deferral\", \"demand\", \"demand\", \"demand\", \"demand\", \"demand\", \"demand\", \"demand\", \"demand\", \"demand\", \"demand\", \"deposit\", \"deposit\", \"deposit\", \"deposit\", \"deposit\", \"deposit\", \"deposit\", \"deposit\", \"deposit\", \"deposit\", \"deregulation\", \"deregulation\", \"deregulation\", \"deregulation\", \"deregulation\", \"deregulation\", \"deregulation\", \"deregulation\", \"deregulation\", \"deregulation\", \"destruction\", \"destruction\", \"destruction\", \"destruction\", \"destruction\", \"destruction\", \"destruction\", \"destruction\", \"detentionretention\", \"detentionretention\", \"detentionretention\", \"detruire\", \"detruire\", \"detruire\", \"detruire\", \"detruire\", \"detruire\", \"detruire\", \"dexterintelligencepresscom\", \"dicarlo\", \"dicarlo\", \"dicarlo\", \"dicarlo\", \"dicarlo\", \"dicarlo\", \"dicarlo\", \"dicarlo\", \"differ\", \"differ\", \"differ\", \"differ\", \"differ\", \"differ\", \"differ\", \"differ\", \"differ\", \"differ\", \"dimension\", \"dimension\", \"dimension\", \"dimension\", \"dimension\", \"dimension\", \"dimension\", \"directory\", \"directory\", \"directory\", \"directory\", \"directory\", \"directory\", \"directory\", \"directory\", \"directory\", \"directory\", \"disbursement\", \"disbursement\", \"disbursement\", \"disbursement\", \"disbursement\", \"disc\", \"disc\", \"disc\", \"disc\", \"disc\", \"disc\", \"disc\", \"disc\", \"disc\", \"disk\", \"disk\", \"disk\", \"disk\", \"disk\", \"disk\", \"disk\", \"disk\", \"disk\", \"dj\", \"dj\", \"dj\", \"dj\", \"dj\", \"dj\", \"dj\", \"dj\", \"dj\", \"dj\", \"dmand\", \"dmccartyenroncom\", \"document\", \"document\", \"document\", \"document\", \"document\", \"document\", \"document\", \"document\", \"document\", \"document\", \"dorinson\", \"dorinson\", \"dorinson\", \"dormer\", \"dormer\", \"dormer\", \"dormer\", \"doubletree\", \"doubletree\", \"doubletree\", \"doubletree\", \"doubletree\", \"doubletree\", \"doubletree\", \"doubletree\", \"doubletree\", \"dow\", \"dow\", \"dow\", \"dow\", \"dow\", \"dow\", \"dow\", \"dow\", \"dow\", \"dow\", \"downcrude\", \"downdraft\", \"downdraft\", \"downdraft\", \"downgrade\", \"downgrade\", \"downgrade\", \"downgrade\", \"downgrade\", \"downgrade\", \"downgrade\", \"downgrade\", \"downgrade\", \"downgrade\", \"dpc\", \"dpc\", \"dpc\", \"dpc\", \"dpc\", \"dpc\", \"dpc\", \"dpc\", \"dpc\", \"dpc\", \"drilling\", \"drilling\", \"drilling\", \"drilling\", \"drilling\", \"drilling\", \"driving\", \"driving\", \"dth\", \"dyersfectect\", \"dyersfectect\", \"dyersfectect\", \"dyersfectect\", \"dyersfectect\", \"dynegy\", \"dynegy\", \"dynegy\", \"dynegy\", \"dynegy\", \"dynegy\", \"dynegy\", \"dynegy\", \"dynegy\", \"dynegy\", \"earning\", \"earning\", \"earning\", \"earning\", \"earning\", \"earning\", \"earning\", \"earning\", \"earning\", \"earning\", \"earningscom\", \"earningscom\", \"earningscom\", \"earningscom\", \"earningscom\", \"earningscom\", \"earningscom\", \"ebs\", \"ebs\", \"ebs\", \"ebs\", \"ebs\", \"ebs\", \"ebs\", \"ebs\", \"ebs\", \"ebs\", \"ecc\", \"ecc\", \"ecc\", \"ecc\", \"ecc\", \"econmic\", \"ectric\", \"ectric\", \"ectric\", \"ectric\", \"ectric\", \"edi\", \"edi\", \"edi\", \"edi\", \"edi\", \"edi\", \"edi\", \"edi\", \"edie\", \"edie\", \"edie\", \"edie\", \"effortplease\", \"effortplease\", \"ela\", \"ela\", \"electricity\", \"electricity\", \"electricity\", \"electricity\", \"electricity\", \"electricity\", \"electricity\", \"electricity\", \"electricity\", \"electricity\", \"elliotthouectect\", \"elliotthouectect\", \"email\", \"email\", \"email\", \"email\", \"email\", \"email\", \"email\", \"email\", \"email\", \"email\", \"embassy\", \"embassy\", \"embassy\", \"embassy\", \"embassy\", \"emeet\", \"emission\", \"emission\", \"emission\", \"emission\", \"emission\", \"emission\", \"emission\", \"emission\", \"emission\", \"emission\", \"energy\", \"energy\", \"energy\", \"energy\", \"energy\", \"energy\", \"energy\", \"energy\", \"energy\", \"energy\", \"english\", \"english\", \"english\", \"english\", \"english\", \"english\", \"english\", \"english\", \"english\", \"english\", \"enron\", \"enron\", \"enron\", \"enron\", \"enron\", \"enron\", \"enron\", \"enron\", \"enron\", \"enron\", \"environment\", \"environment\", \"environment\", \"environment\", \"environment\", \"environment\", \"environment\", \"environment\", \"environment\", \"environment\", \"environmental\", \"environmental\", \"environmental\", \"environmental\", \"environmental\", \"environmental\", \"environmental\", \"environmental\", \"environmental\", \"environmental\", \"epa\", \"epa\", \"epa\", \"epa\", \"epa\", \"epa\", \"epa\", \"epaombahbsedu\", \"epaombahbsedu\", \"epaombahbsedu\", \"epaombahbsedu\", \"epaombahbsedu\", \"epaombahbsedu\", \"epaombahbsedu\", \"epaombahbsedu\", \"equilibrium\", \"equilibrium\", \"equilibrium\", \"equilibrium\", \"equilibrium\", \"equilibrium\", \"equivalence\", \"eschmidcaisocom\", \"espeak\", \"espeak\", \"espeak\", \"et\", \"et\", \"et\", \"et\", \"et\", \"et\", \"et\", \"et\", \"et\", \"et\", \"etabli\", \"etabli\", \"etabli\", \"etabli\", \"etabli\", \"etabli\", \"etabli\", \"eticket\", \"eticket\", \"event\", \"event\", \"event\", \"event\", \"event\", \"event\", \"event\", \"event\", \"event\", \"event\", \"ewr\", \"ewr\", \"ewr\", \"ewr\", \"ews\", \"ews\", \"ews\", \"ews\", \"ews\", \"ews\", \"ews\", \"ews\", \"ews\", \"execute\", \"execute\", \"execute\", \"execute\", \"execute\", \"execute\", \"execute\", \"execute\", \"execute\", \"execute\", \"expense\", \"expense\", \"expense\", \"expense\", \"expense\", \"expense\", \"expense\", \"expense\", \"expense\", \"expense\", \"exploration\", \"exploration\", \"exploration\", \"exploration\", \"exploration\", \"exploration\", \"exploration\", \"exploration\", \"exploration\", \"exploration\", \"exterior\", \"exterior\", \"exterior\", \"exterior\", \"exterior\", \"exterior\", \"fallonhouectect\", \"fallonhouectect\", \"fangme\", \"fangme\", \"fangme\", \"fangme\", \"fangme\", \"fangme\", \"fangme\", \"fangme\", \"fangmingzhuenroncom\", \"fangmingzhuenroncom\", \"fangmingzhuenroncom\", \"fastow\", \"fastow\", \"fastow\", \"fastow\", \"fastow\", \"fastow\", \"fastow\", \"fastow\", \"fastow\", \"fastow\", \"fax\", \"fax\", \"fax\", \"fax\", \"fax\", \"fax\", \"fax\", \"fax\", \"fax\", \"fax\", \"fee\", \"fee\", \"fee\", \"fee\", \"fee\", \"fee\", \"fee\", \"fee\", \"fee\", \"fee\", \"fha\", \"fha\", \"fha\", \"fha\", \"fieldsid\", \"fieldsid\", \"fieldsid\", \"fieldsid\", \"fieldsid\", \"fieldsid\", \"fieldsid\", \"fieldsid\", \"filtration\", \"filtration\", \"filtration\", \"filtration\", \"financial\", \"financial\", \"financial\", \"financial\", \"financial\", \"financial\", \"financial\", \"financial\", \"financial\", \"financial\", \"flip\", \"flip\", \"flip\", \"flip\", \"flip\", \"flip\", \"flip\", \"forward\", \"forward\", \"forward\", \"forward\", \"forward\", \"forward\", \"forward\", \"forward\", \"forward\", \"forward\", \"frank\", \"frank\", \"frank\", \"frank\", \"frank\", \"frank\", \"frank\", \"frank\", \"frank\", \"frank\", \"fraser\", \"fraser\", \"fraser\", \"fraser\", \"fraser\", \"fraser\", \"fraser\", \"fraser\", \"fraser\", \"fraser\", \"fraserenronenronxgate\", \"fraserenronenronxgate\", \"fraserenronenronxgate\", \"fraserenronenronxgate\", \"fraserenronenronxgate\", \"fraserenronenronxgate\", \"fraserenronenronxgate\", \"fraserenronenronxgate\", \"fraserenronenronxgate\", \"freakish\", \"free\", \"free\", \"free\", \"free\", \"free\", \"free\", \"free\", \"free\", \"free\", \"free\", \"fri\", \"fri\", \"fri\", \"fri\", \"fri\", \"fri\", \"fri\", \"fri\", \"fri\", \"fri\", \"fultoncorpenronenron\", \"fultoncorpenronenron\", \"fultoncorpenronenron\", \"fultoncorpenronenron\", \"fultoncorpenronenron\", \"fultoncorpenronenron\", \"fultoncorpenronenron\", \"fultoncorpenronenron\", \"fultoncorpenronenron\", \"funciton\", \"funciton\", \"futures\", \"futures\", \"futures\", \"futures\", \"futures\", \"futures\", \"futures\", \"futures\", \"futures\", \"futures\", \"gable\", \"gable\", \"gable\", \"gable\", \"gad\", \"gad\", \"gad\", \"gas\", \"gas\", \"gas\", \"gas\", \"gas\", \"gas\", \"gas\", \"gas\", \"gas\", \"gas\", \"gasdoc\", \"gasdoc\", \"gasdoc\", \"gehrigs\", \"get\", \"get\", \"get\", \"get\", \"get\", \"get\", \"get\", \"get\", \"get\", \"get\", \"gilad\", \"gilad\", \"gilbertpdxectect\", \"gilbertpdxectect\", \"gilbertpdxectect\", \"gilbertpdxectect\", \"gilbertpdxectect\", \"gilbertsmith\", \"gilbertsmith\", \"gilbertsmith\", \"gilbertsmith\", \"gilbertsmith\", \"gilbertsmith\", \"gilbertsmith\", \"gilbertsmith\", \"gilbertsmith\", \"gilbertsmith\", \"giveup\", \"giveup\", \"giveup\", \"giveup\", \"giveup\", \"giveup\", \"giveup\", \"giveup\", \"giveup\", \"global\", \"global\", \"global\", \"global\", \"global\", \"global\", \"global\", \"global\", \"global\", \"global\", \"gmat\", \"gmat\", \"gmat\", \"go\", \"go\", \"go\", \"go\", \"go\", \"go\", \"go\", \"go\", \"go\", \"go\", \"godfrey\", \"godfrey\", \"godfrey\", \"godfrey\", \"godfrey\", \"godfrey\", \"godfrey\", \"good\", \"good\", \"good\", \"good\", \"good\", \"good\", \"good\", \"good\", \"good\", \"good\", \"government\", \"government\", \"government\", \"government\", \"government\", \"government\", \"government\", \"government\", \"government\", \"government\", \"greeks\", \"greeks\", \"gregpylehpcom\", \"gregpylehpcom\", \"gss\", \"gss\", \"gss\", \"gss\", \"gss\", \"gss\", \"gss\", \"gss\", \"gss\", \"gss\", \"guggenheim\", \"guggenheim\", \"guggenheim\", \"guggenheim\", \"guggenheim\", \"guy\", \"guy\", \"guy\", \"guy\", \"guy\", \"guy\", \"guy\", \"guy\", \"guy\", \"guy\", \"gypsum\", \"gypsum\", \"gypsum\", \"have\", \"have\", \"have\", \"have\", \"have\", \"have\", \"have\", \"have\", \"have\", \"have\", \"hehub\", \"hehub\", \"hehub\", \"hilton\", \"hilton\", \"hilton\", \"hilton\", \"hilton\", \"hilton\", \"hilton\", \"hilton\", \"hilton\", \"hilton\", \"hj\", \"hj\", \"hj\", \"hj\", \"hj\", \"hj\", \"hj\", \"hj\", \"hj\", \"hlopak\", \"ho\", \"ho\", \"ho\", \"ho\", \"ho\", \"ho\", \"ho\", \"ho\", \"ho\", \"ho\", \"hoskinsenron\", \"hoskinsenron\", \"hoskinsenron\", \"hoskinsenron\", \"hoskinsenron\", \"hoskinsenron\", \"hoskinsenron\", \"hoskinsenron\", \"hotel\", \"hotel\", \"hotel\", \"hotel\", \"hotel\", \"hotel\", \"hotel\", \"hotel\", \"hotel\", \"hotel\", \"hotels\", \"hotels\", \"hotels\", \"hotels\", \"hotels\", \"hotels\", \"hotels\", \"houston\", \"houston\", \"houston\", \"houston\", \"houston\", \"houston\", \"houston\", \"houston\", \"houston\", \"houston\", \"hp\", \"hp\", \"hp\", \"hp\", \"hp\", \"hp\", \"hp\", \"hp\", \"hp\", \"hp\", \"hsc\", \"hsc\", \"hsc\", \"httpcgizdnetcomslink\", \"httpcgizdnetcomslink\", \"httpcgizdnetcomslink\", \"httpcgizdnetcomslink\", \"httpcgizdnetcomslink\", \"httpcgizdnetcomslink\", \"httpcgizdnetcomslink\", \"httpcgizdnetcomslink\", \"httpcgizdnetcomslink\", \"httpcgizdnetcomslink\", \"httpcgizdnetcomslinkadeskbadt\", \"httpcgizdnetcomslinkadeskbadt\", \"httpcgizdnetcomslinkadeskbadt\", \"httpcgizdnetcomslinkadeskbadt\", \"httpcgizdnetcomslinkadeskbadt\", \"httpcgizdnetcomslinkadeskbadt\", \"httpcgizdnetcomslinkadeskbadt\", \"httpcgizdnetcomslinkadeskbadt\", \"httpcgizdnetcomslinkadeskbadt\", \"httpcrenroncomeiahtml\", \"httpecthouwebclntectenroncomgas\", \"httpecthouwebclntectenroncomgas\", \"httpiosetsenroncominfopostingssharedetnoncriticalnoticeaspcompany\", \"httpiosetsenroncominfopostingssharedetnoncriticalnoticeaspcompany\", \"httpiosetsenroncominfopostingssharedetnoncriticalnoticeaspcompany\", \"httpiptvenroncom\", \"httpitcappscorpenroncomsrrsapprovedetailaspidemail\", \"httpitcappscorpenroncomsrrsauthemaillinkaspidpageapproval\", \"httpitcappscorpenroncomsrrsauthemaillinkaspidpageapproval\", \"httpitcappscorpenroncomsrrsauthemaillinkaspidpageapproval\", \"httpitcappscorpenroncomsrrsauthemaillinkaspidpageapproval\", \"httptournamentfantasysportsyahoocommen\", \"httptournamentfantasysportsyahoocommen\", \"httpwwwcaisocomclientservcongestionreformhtml\", \"httpwwwcaisocomclientservcongestionreformhtml\", \"httpwwwcaisocomclientservcongestionreformhtml\", \"httpwwwcaisocomclientservcongestionreformhtml\", \"httpwwwcaisocomclientservcongestionreformhtml\", \"httpwwwcarrfutcomresearchenergycandlestickspdf\", \"httpwwwcarrfutcomresearchenergycandlestickspdf\", \"httpwwwcarrfutcomresearchenergycandlestickspdf\", \"httpwwwcarrfutcomresearchenergycandlestickspdf\", \"httpwwwcarrfutcomresearchenergycrudepdf\", \"httpwwwcarrfutcomresearchenergycrudepdf\", \"httpwwwcarrfutcomresearchenergycrudepdf\", \"httpwwwcarrfutcomresearchenergycrudepdf\", \"httpwwwcarrfutcomresearchenergycrudepdf\", \"httpwwwcarrfutcomresearchenergyhoilpdf\", \"httpwwwcarrfutcomresearchenergyhoilpdf\", \"httpwwwcarrfutcomresearchenergyhoilpdf\", \"httpwwwcarrfutcomresearchenergyhoilpdf\", \"httpwwwcarrfutcomresearchenergyhoilpdf\", \"httpwwwcarrfutcomresearchenergyhoilpdf\", \"httpwwwcarrfutcomresearchenergyngaspdf\", \"httpwwwcarrfutcomresearchenergyngaspdf\", \"httpwwwcarrfutcomresearchenergyngaspdf\", \"httpwwwcarrfutcomresearchenergyngaspdf\", \"httpwwwcarrfutcomresearchenergyngaspdf\", \"httpwwwcarrfutcomresearchenergyspreadmatrixclpdf\", \"httpwwwcarrfutcomresearchenergyspreadmatrixclpdf\", \"httpwwwcarrfutcomresearchenergyspreadmatrixclpdf\", \"httpwwwcarrfutcomresearchenergyspreadmatrixclpdf\", \"httpwwwcarrfutcomresearchenergyspreadmatrixclpdf\", \"httpwwwcarrfutcomresearchenergyspreadmatrixngpdf\", \"httpwwwcarrfutcomresearchenergyspreadmatrixngpdf\", \"httpwwwcarrfutcomresearchenergyspreadmatrixngpdf\", \"httpwwwcarrfutcomresearchenergyspreadmatrixngpdf\", \"httpwwwcarrfutcomresearchenergyspreadmatrixngpdf\", \"httpwwwcarrfutcomresearchenergystripmatrixpdf\", \"httpwwwcarrfutcomresearchenergystripmatrixpdf\", \"httpwwwcarrfutcomresearchenergystripmatrixpdf\", \"httpwwwcarrfutcomresearchenergystripmatrixpdf\", \"httpwwwcarrfutcomresearchenergyunldedpdf\", \"httpwwwcarrfutcomresearchenergyunldedpdf\", \"httpwwwcarrfutcomresearchenergyunldedpdf\", \"httpwwwcarrfutcomresearchenergyunldedpdf\", \"httpwwwcarrfutcomresearchenergyunldedpdf\", \"httpwwwcarrfutcomresearchenergyunldedpdf\", \"httpwwwcarrfutcomresearchenergyunldedpdf\", \"httpwwwindependentorgtiilighthouselhlinkhtml\", \"httpwwwindependentorgtiilighthouselhlinkhtml\", \"httpwwwindependentorgtiilighthouselhlinkhtml\", \"httpwwwindependentorgtiilighthouselhlinkhtml\", \"httpwwwindependentorgtiilighthouselhlinkhtml\", \"httpwwwindependentorgtiilighthouselhlinkhtml\", \"httpwwwindependentorgtiilighthouselhlinkhtml\", \"httpwwwindependentorgtiilighthouselhlinkhtml\", \"httpwwwindependentorgtiilighthouselhlinkhtml\", \"httpwwwwinebidcomaboutwinebidupdateshtml\", \"httpwwwwinebidcomositemhtmlhtshtml\", \"httpwwwwinebidcomositemhtmlhtshtml\", \"httpwwwwinebidcomositemhtmlhtshtml\", \"httpwwwwinebidcomossendpasswordshtml\", \"hu\", \"hu\", \"hu\", \"hu\", \"hu\", \"hu\", \"hu\", \"hu\", \"hu\", \"hunternaenron\", \"hunternaenron\", \"hunternaenron\", \"hunternaenron\", \"hunternaenron\", \"hunternaenron\", \"hunternaenron\", \"huntley\", \"huntley\", \"huntley\", \"huntley\", \"il\", \"il\", \"il\", \"il\", \"il\", \"il\", \"il\", \"il\", \"il\", \"il\", \"image\", \"image\", \"image\", \"image\", \"image\", \"image\", \"image\", \"image\", \"image\", \"image\", \"imagemore\", \"imagemore\", \"imagemore\", \"imagemore\", \"imagemore\", \"immediatement\", \"immediatement\", \"immediatement\", \"immediatement\", \"immediatement\", \"immediatement\", \"immediatement\", \"impact\", \"impact\", \"impact\", \"impact\", \"impact\", \"impact\", \"impact\", \"impact\", \"impact\", \"impact\", \"imparato\", \"imparato\", \"imparato\", \"imparato\", \"imparato\", \"improvement\", \"improvement\", \"improvement\", \"improvement\", \"improvement\", \"improvement\", \"improvement\", \"improvement\", \"improvement\", \"improvement\", \"ina\", \"ina\", \"ina\", \"ina\", \"ina\", \"ina\", \"ina\", \"ina\", \"ina\", \"ina\", \"inc\", \"inc\", \"inc\", \"inc\", \"inc\", \"inc\", \"inc\", \"inc\", \"inc\", \"inc\", \"incapacitate\", \"include\", \"include\", \"include\", \"include\", \"include\", \"include\", \"include\", \"include\", \"include\", \"include\", \"indeces\", \"index\", \"index\", \"index\", \"index\", \"index\", \"index\", \"index\", \"index\", \"index\", \"index\", \"india\", \"india\", \"india\", \"india\", \"india\", \"india\", \"india\", \"india\", \"india\", \"india\", \"indian\", \"indian\", \"indian\", \"indian\", \"indian\", \"indian\", \"indian\", \"indian\", \"indian\", \"indian\", \"indias\", \"indias\", \"indias\", \"indias\", \"indias\", \"indias\", \"indias\", \"indias\", \"indias\", \"indias\", \"industry\", \"industry\", \"industry\", \"industry\", \"industry\", \"industry\", \"industry\", \"industry\", \"industry\", \"industry\", \"infill\", \"information\", \"information\", \"information\", \"information\", \"information\", \"information\", \"information\", \"information\", \"information\", \"information\", \"initiate\", \"initiate\", \"initiate\", \"initiate\", \"initiate\", \"initiate\", \"initiate\", \"initiate\", \"initiate\", \"initiate\", \"initiative\", \"initiative\", \"initiative\", \"initiative\", \"initiative\", \"initiative\", \"initiative\", \"initiative\", \"initiative\", \"initiative\", \"inj\", \"inj\", \"inormation\", \"inspect\", \"inspect\", \"inspect\", \"inspect\", \"inspect\", \"inspect\", \"inspect\", \"instruction\", \"instruction\", \"instruction\", \"instruction\", \"instruction\", \"instruction\", \"instruction\", \"instruction\", \"instruction\", \"instruction\", \"intensity\", \"intensity\", \"intensity\", \"intensity\", \"intensity\", \"intensity\", \"intensity\", \"intensity\", \"intensity\", \"intensity\", \"intercontinentalexchange\", \"intercontinentalexchange\", \"intercontinentalexchange\", \"intercontinentalexchange\", \"intercontinentalexchange\", \"intercontinentalexchange\", \"intercontinentalexchange\", \"intercontinentalexchange\", \"intercontinentalexchange\", \"intercontinentalexchange\", \"interdite\", \"interdite\", \"interdite\", \"interdite\", \"interdite\", \"interdite\", \"interdite\", \"intersc\", \"intersc\", \"intersc\", \"investment\", \"investment\", \"investment\", \"investment\", \"investment\", \"investment\", \"investment\", \"investment\", \"investment\", \"investment\", \"investor\", \"investor\", \"investor\", \"investor\", \"investor\", \"investor\", \"investor\", \"investor\", \"investor\", \"investor\", \"iptv\", \"iso\", \"iso\", \"iso\", \"iso\", \"iso\", \"iso\", \"iso\", \"iso\", \"iso\", \"iso\", \"isos\", \"isos\", \"isos\", \"isos\", \"isos\", \"isos\", \"isos\", \"isos\", \"isos\", \"isos\", \"issue\", \"issue\", \"issue\", \"issue\", \"issue\", \"issue\", \"issue\", \"issue\", \"issue\", \"issue\", \"iwon\", \"iwon\", \"j\", \"j\", \"j\", \"j\", \"j\", \"j\", \"j\", \"j\", \"j\", \"j\", \"jacques\", \"jacques\", \"jacques\", \"jacques\", \"jacques\", \"jacques\", \"jacques\", \"jacques\", \"jacques\", \"jacques\", \"jaimegualyenroncom\", \"jaimegualyenroncom\", \"jaimegualyenroncom\", \"jaimegualyenroncom\", \"jaimegualyenroncom\", \"james\", \"james\", \"james\", \"james\", \"james\", \"james\", \"james\", \"james\", \"james\", \"james\", \"jarnold\", \"jarnold\", \"jarnold\", \"jarnold\", \"jarnold\", \"jarnold\", \"jarnold\", \"jarnold\", \"jarnold\", \"jarnold\", \"jarnoldnsf\", \"jarnoldnsf\", \"jarnoldnsf\", \"jarnoldnsf\", \"jarnoldnsf\", \"jarnoldnsf\", \"jarnoldnsf\", \"jarnoldnsf\", \"jarnoldnsf\", \"jarnoldnsf\", \"jason\", \"jason\", \"jason\", \"jason\", \"jason\", \"jason\", \"jason\", \"jason\", \"jason\", \"jason\", \"jeff\", \"jeff\", \"jeff\", \"jeff\", \"jeff\", \"jeff\", \"jeff\", \"jeff\", \"jeff\", \"jeff\", \"jen\", \"jen\", \"jen\", \"jen\", \"jen\", \"jen\", \"jen\", \"jen\", \"jen\", \"jen\", \"jennifer\", \"jennifer\", \"jennifer\", \"jennifer\", \"jennifer\", \"jennifer\", \"jennifer\", \"jennifer\", \"jennifer\", \"jennifer\", \"jfk\", \"jfk\", \"jfks\", \"jfkyahoocom\", \"joe\", \"joe\", \"joe\", \"joe\", \"joe\", \"joe\", \"joe\", \"joe\", \"joe\", \"joe\", \"john\", \"john\", \"john\", \"john\", \"john\", \"john\", \"john\", \"john\", \"john\", \"john\", \"johnarnoldnovnotes\", \"johnarnoldnovnotes\", \"johnarnoldnovnotes\", \"johnarnoldnovnotes\", \"johnarnoldnovnotes\", \"johnarnoldnovnotes\", \"johnarnoldnovnotes\", \"johnarnoldnovnotes\", \"johnarnoldnovnotes\", \"johndelete\", \"johndelete\", \"johndelete\", \"johndelete\", \"johndelete\", \"johndelete\", \"johndelete\", \"johndelete\", \"johndelete\", \"jonathon\", \"jonathon\", \"jones\", \"jones\", \"jones\", \"jones\", \"jones\", \"jones\", \"jones\", \"jones\", \"jones\", \"jones\", \"july\", \"july\", \"july\", \"july\", \"july\", \"july\", \"july\", \"july\", \"july\", \"july\", \"june\", \"june\", \"june\", \"june\", \"june\", \"june\", \"june\", \"june\", \"june\", \"june\", \"k\", \"k\", \"k\", \"k\", \"k\", \"k\", \"k\", \"k\", \"k\", \"k\", \"kayvan\", \"keanlay\", \"khosla\", \"kim\", \"kim\", \"kim\", \"kim\", \"kim\", \"kim\", \"kim\", \"kim\", \"kim\", \"kim\", \"kingsgate\", \"kingsgate\", \"kingsgate\", \"kinkos\", \"kinkos\", \"kinkos\", \"kinkos\", \"kinkos\", \"kinkos\", \"kinkos\", \"kinkos\", \"kinkos\", \"kinkos\", \"know\", \"know\", \"know\", \"know\", \"know\", \"know\", \"know\", \"know\", \"know\", \"know\", \"krishnan\", \"kristidemaioloenroncom\", \"kristingandyenroncom\", \"kuykendall\", \"kuykendall\", \"kuykendall\", \"kuykendall\", \"kuykendall\", \"kuykendall\", \"kuykendall\", \"kuykendall\", \"kuykendall\", \"kyoto\", \"kyoto\", \"kyoto\", \"kyoto\", \"kyoto\", \"kyoto\", \"kyoto\", \"l\", \"l\", \"l\", \"l\", \"l\", \"l\", \"l\", \"l\", \"l\", \"l\", \"lafiterothschild\", \"lafiterothschild\", \"land\", \"land\", \"land\", \"land\", \"land\", \"land\", \"land\", \"land\", \"land\", \"land\", \"lard\", \"lavarato\", \"lengkeek\", \"lengkeek\", \"lengkeek\", \"lenhart\", \"lenhart\", \"lenhart\", \"lenhart\", \"lenhart\", \"lenhart\", \"lenhart\", \"lenhart\", \"lenhart\", \"lenhart\", \"let\", \"let\", \"let\", \"let\", \"let\", \"let\", \"let\", \"let\", \"let\", \"let\", \"lexpediteur\", \"lexpediteur\", \"lexpediteur\", \"lexpediteur\", \"lexpediteur\", \"lexpediteur\", \"lexpediteur\", \"librarycom\", \"librarycom\", \"librarycom\", \"librarycom\", \"librarycom\", \"librarycom\", \"librarycom\", \"lighthouse\", \"lighthouse\", \"lighthouse\", \"lighthouse\", \"lighthouse\", \"lighthouse\", \"lighthouse\", \"lighthouse\", \"lighthouse\", \"like\", \"like\", \"like\", \"like\", \"like\", \"like\", \"like\", \"like\", \"like\", \"like\", \"limit\", \"limit\", \"limit\", \"limit\", \"limit\", \"limit\", \"limit\", \"limit\", \"limit\", \"limit\", \"link\", \"link\", \"link\", \"link\", \"link\", \"link\", \"link\", \"link\", \"link\", \"link\", \"liquefaction\", \"liquefaction\", \"liquefaction\", \"liter\", \"ljm\", \"ljm\", \"ljm\", \"ljm\", \"ljm\", \"ljm\", \"ljm\", \"ljm\", \"ljm\", \"ljm\", \"loan\", \"loan\", \"loan\", \"loan\", \"loan\", \"loan\", \"loan\", \"loan\", \"loan\", \"loan\", \"locational\", \"locational\", \"locational\", \"locational\", \"locational\", \"london\", \"london\", \"london\", \"london\", \"london\", \"london\", \"london\", \"london\", \"london\", \"london\", \"longs\", \"look\", \"look\", \"look\", \"look\", \"look\", \"look\", \"look\", \"look\", \"look\", \"look\", \"lot\", \"lot\", \"lot\", \"lot\", \"lot\", \"lot\", \"lot\", \"lot\", \"lot\", \"lot\", \"lounge\", \"lucy\", \"lucy\", \"lucy\", \"lucy\", \"lucy\", \"lucy\", \"lucy\", \"lucy\", \"lucy\", \"lucy\", \"lydia\", \"lydia\", \"lydia\", \"lydia\", \"lyle\", \"m\", \"m\", \"m\", \"m\", \"m\", \"m\", \"m\", \"m\", \"m\", \"m\", \"magazineback\", \"mailer\", \"mailer\", \"mailtoeiaenroncom\", \"maintained\", \"mainzerpdxectect\", \"mainzerpdxectect\", \"mainzerpdxectect\", \"mainzerpdxectect\", \"mainzerpdxectect\", \"malin\", \"malin\", \"malin\", \"management\", \"management\", \"management\", \"management\", \"management\", \"management\", \"management\", \"management\", \"management\", \"management\", \"mapping\", \"marchapr\", \"margaret\", \"margaret\", \"margaret\", \"margaret\", \"margaret\", \"margaret\", \"margaret\", \"margaret\", \"margaret\", \"margaret\", \"mark\", \"mark\", \"mark\", \"mark\", \"mark\", \"mark\", \"mark\", \"mark\", \"mark\", \"mark\", \"market\", \"market\", \"market\", \"market\", \"market\", \"market\", \"market\", \"market\", \"market\", \"market\", \"markintelligencepresscom\", \"marquezcorpenronenron\", \"master\", \"master\", \"master\", \"master\", \"master\", \"master\", \"master\", \"master\", \"master\", \"master\", \"masterdisc\", \"masterdisc\", \"masterdisc\", \"matrix\", \"matrix\", \"matrix\", \"matrix\", \"matrix\", \"matrix\", \"matrix\", \"matrix\", \"matrix\", \"matrix\", \"mattsmithenroncom\", \"mattsmithenroncom\", \"mattsmithenroncom\", \"mattsmithenroncom\", \"mccutchens\", \"mccutchens\", \"mccutchens\", \"mckay\", \"mckay\", \"mckay\", \"mckay\", \"mckay\", \"mckay\", \"mckay\", \"mckay\", \"mckay\", \"md\", \"md\", \"md\", \"md\", \"md\", \"md\", \"md\", \"md\", \"md\", \"medcalf\", \"medcalf\", \"medcalf\", \"medcalf\", \"medcalf\", \"medcalf\", \"medcalf\", \"medcalf\", \"medcalf\", \"medcalf\", \"medcalfnaenronenron\", \"medcalfnaenronenron\", \"medcalfnaenronenron\", \"medcalfnaenronenron\", \"medcalfnaenronenron\", \"medcalfnaenronenron\", \"medcalfnaenronenron\", \"medcalfnaenronenron\", \"medcalfnaenronenron\", \"meeting\", \"meeting\", \"meeting\", \"meeting\", \"meeting\", \"meeting\", \"meeting\", \"meeting\", \"meeting\", \"meeting\", \"member\", \"member\", \"member\", \"member\", \"member\", \"member\", \"member\", \"member\", \"member\", \"member\", \"membership\", \"membership\", \"membership\", \"membership\", \"membership\", \"membership\", \"membership\", \"membership\", \"membership\", \"membership\", \"message\", \"message\", \"message\", \"message\", \"message\", \"message\", \"message\", \"message\", \"message\", \"message\", \"michael\", \"michael\", \"michael\", \"michael\", \"michael\", \"michael\", \"michael\", \"michael\", \"michael\", \"michael\", \"midcontinent\", \"midcontinent\", \"midcontinent\", \"midcontinent\", \"midcontinent\", \"midcontinent\", \"midcontinent\", \"midcontinent\", \"midcontinent\", \"mike\", \"mike\", \"mike\", \"mike\", \"mike\", \"mike\", \"mike\", \"mike\", \"mike\", \"mike\", \"miles\", \"miles\", \"miles\", \"miles\", \"miles\", \"miles\", \"miles\", \"miles\", \"miles\", \"million\", \"million\", \"million\", \"million\", \"million\", \"million\", \"million\", \"million\", \"million\", \"million\", \"millshouect\", \"millshouect\", \"millshouect\", \"mime\", \"mime\", \"mimecompliant\", \"mimecompliant\", \"mkts\", \"mkts\", \"mkts\", \"mkts\", \"mkts\", \"monday\", \"monday\", \"monday\", \"monday\", \"monday\", \"monday\", \"monday\", \"monday\", \"monday\", \"monday\", \"moodys\", \"moodys\", \"moodys\", \"moodys\", \"moodys\", \"moodys\", \"moodys\", \"moodys\", \"moodys\", \"moodys\", \"mr\", \"mr\", \"mr\", \"mr\", \"mr\", \"mr\", \"mr\", \"mr\", \"mr\", \"mr\", \"mseb\", \"mseb\", \"mseb\", \"mseb\", \"mseb\", \"mseb\", \"mseb\", \"mseb\", \"mseb\", \"mseb\", \"msword\", \"multicinema\", \"muthukumar\", \"muthukumarkrishnanowenvanderbiltedu\", \"mws\", \"mws\", \"nahoutrdhoustonpwrcommonelectric\", \"nahoutrdhoustonpwrcommonpowerregion\", \"nameserver\", \"nameserver\", \"nameserver\", \"nat\", \"nat\", \"nat\", \"nat\", \"nat\", \"nat\", \"nat\", \"nat\", \"nat\", \"nat\", \"natgaswwwwwaesconcom\", \"natural\", \"natural\", \"natural\", \"natural\", \"natural\", \"natural\", \"natural\", \"natural\", \"natural\", \"natural\", \"nealhouect\", \"nealhouect\", \"nealhouect\", \"need\", \"need\", \"need\", \"need\", \"need\", \"need\", \"need\", \"need\", \"need\", \"need\", \"netback\", \"netting\", \"netting\", \"netting\", \"netting\", \"netting\", \"netting\", \"new\", \"new\", \"new\", \"new\", \"new\", \"new\", \"new\", \"new\", \"new\", \"new\", \"newark\", \"newark\", \"newark\", \"newark\", \"newark\", \"newark\", \"newark\", \"newark\", \"newark\", \"newark\", \"newbrough\", \"newbrough\", \"newbrough\", \"newbrough\", \"newbrough\", \"ng\", \"ng\", \"ng\", \"ng\", \"ng\", \"ng\", \"ng\", \"ng\", \"ng\", \"ng\", \"ngdoc\", \"ngdoc\", \"ngdoc\", \"ngdoc\", \"ngpl\", \"ngpl\", \"ngpl\", \"ngpl\", \"ngpl\", \"nj\", \"nj\", \"nj\", \"nj\", \"nj\", \"nj\", \"nj\", \"nj\", \"nj\", \"nonprivilegedarnold\", \"nonprivilegedarnold\", \"nonprivilegedarnold\", \"nonprivilegedarnold\", \"nonprivilegedarnold\", \"nonprivilegedarnold\", \"nonprivilegedarnold\", \"nonprivilegedarnold\", \"nonprivilegedarnold\", \"nonprivilegedarnold\", \"nonprivilegedpst\", \"nonprivilegedpst\", \"nonprivilegedpst\", \"nonprivilegedpst\", \"nonprivilegedpst\", \"nonprivilegedpst\", \"nonprivilegedpst\", \"nonprivilegedpst\", \"nonprivilegedpst\", \"nonprivilegedpst\", \"nosey\", \"nosey\", \"not\", \"not\", \"not\", \"not\", \"not\", \"not\", \"not\", \"not\", \"not\", \"not\", \"nothingshare\", \"nothingshare\", \"nothingshare\", \"number\", \"number\", \"number\", \"number\", \"number\", \"number\", \"number\", \"number\", \"number\", \"number\", \"october\", \"october\", \"october\", \"october\", \"october\", \"october\", \"october\", \"october\", \"october\", \"october\", \"offer\", \"offer\", \"offer\", \"offer\", \"offer\", \"offer\", \"offer\", \"offer\", \"offer\", \"offer\", \"offset\", \"offset\", \"offset\", \"offset\", \"offset\", \"offset\", \"offset\", \"offset\", \"offset\", \"offset\", \"olive\", \"olive\", \"oncall\", \"oncall\", \"oncall\", \"oncall\", \"oncall\", \"oncall\", \"oncall\", \"oncall\", \"oncall\", \"oncall\", \"onepass\", \"onepass\", \"onepass\", \"onepass\", \"onepass\", \"onepass\", \"onepass\", \"onepass\", \"onepass\", \"onepass\", \"online\", \"online\", \"online\", \"online\", \"online\", \"online\", \"online\", \"online\", \"online\", \"online\", \"open\", \"open\", \"open\", \"open\", \"open\", \"open\", \"open\", \"open\", \"open\", \"open\", \"opportunity\", \"opportunity\", \"opportunity\", \"opportunity\", \"opportunity\", \"opportunity\", \"opportunity\", \"opportunity\", \"opportunity\", \"opportunity\", \"orbits\", \"orbits\", \"order\", \"order\", \"order\", \"order\", \"order\", \"order\", \"order\", \"order\", \"order\", \"order\", \"ordinance\", \"ordinance\", \"original\", \"original\", \"original\", \"original\", \"original\", \"original\", \"original\", \"original\", \"original\", \"original\", \"orr\", \"orr\", \"orr\", \"orr\", \"orr\", \"otmc\", \"otmc\", \"otmc\", \"otmc\", \"otmc\", \"otmp\", \"otmp\", \"otmp\", \"otmp\", \"otmp\", \"otmp\", \"ou\", \"ou\", \"ou\", \"ou\", \"ou\", \"ou\", \"ou\", \"ou\", \"ou\", \"ou\", \"outage\", \"outage\", \"outage\", \"outage\", \"outage\", \"outage\", \"outage\", \"outage\", \"outage\", \"outage\", \"outlier\", \"outlier\", \"outlier\", \"outperform\", \"outperform\", \"outperform\", \"outperform\", \"outperform\", \"outperform\", \"outperform\", \"outperform\", \"ownernatgaswwwwwaesconcom\", \"packaging\", \"packaging\", \"packaging\", \"packaging\", \"packaging\", \"pager\", \"pager\", \"pager\", \"pager\", \"pager\", \"pager\", \"pager\", \"pager\", \"pager\", \"pager\", \"painewebber\", \"painewebber\", \"painewebber\", \"painewebber\", \"painewebber\", \"painewebber\", \"painewebber\", \"painewebber\", \"paribas\", \"paribas\", \"paribas\", \"paribas\", \"paribas\", \"paribas\", \"paribas\", \"paribas\", \"parker\", \"parker\", \"parker\", \"parker\", \"parker\", \"parker\", \"parker\", \"parker\", \"parker\", \"parker\", \"parsippany\", \"parsippany\", \"parsippany\", \"participant\", \"participant\", \"participant\", \"participant\", \"participant\", \"participant\", \"participant\", \"participant\", \"participant\", \"participant\", \"partielle\", \"partielle\", \"partielle\", \"partielle\", \"partielle\", \"partielle\", \"partielle\", \"paul\", \"paul\", \"paul\", \"paul\", \"paul\", \"paul\", \"paul\", \"paul\", \"paul\", \"paul\", \"pdt\", \"pdt\", \"pdt\", \"pdt\", \"pdt\", \"pdt\", \"pdt\", \"pegasus\", \"pegasus\", \"pende\", \"pende\", \"pende\", \"pende\", \"pende\", \"pende\", \"pende\", \"pende\", \"pende\", \"pende\", \"pepl\", \"pepl\", \"percent\", \"percent\", \"percent\", \"percent\", \"percent\", \"percent\", \"percent\", \"percent\", \"percent\", \"percent\", \"permettant\", \"permettant\", \"permettant\", \"permettant\", \"permettant\", \"permettant\", \"permettant\", \"pershare\", \"pershare\", \"pershare\", \"peterlonectect\", \"petro\", \"petro\", \"petro\", \"petrus\", \"phasing\", \"phasing\", \"phasing\", \"phasing\", \"phillip\", \"phillip\", \"phillip\", \"phillip\", \"phillip\", \"phillip\", \"phillip\", \"phillip\", \"phillip\", \"phillip\", \"phone\", \"phone\", \"phone\", \"phone\", \"phone\", \"phone\", \"phone\", \"phone\", \"phone\", \"phone\", \"physicalfinancail\", \"physicalfinancail\", \"physicalfinancail\", \"physicalfinancial\", \"physicalfinancial\", \"physicalfinancial\", \"pickem\", \"pickem\", \"pielop\", \"pielop\", \"pivot\", \"pivot\", \"pivot\", \"pl\", \"pl\", \"pl\", \"pl\", \"pl\", \"pl\", \"pl\", \"pl\", \"pl\", \"pl\", \"plan\", \"plan\", \"plan\", \"plan\", \"plan\", \"plan\", \"plan\", \"plan\", \"plan\", \"plan\", \"plansactually\", \"plant\", \"plant\", \"plant\", \"plant\", \"plant\", \"plant\", \"plant\", \"plant\", \"plant\", \"plant\", \"pm\", \"pm\", \"pm\", \"pm\", \"pm\", \"pm\", \"pm\", \"pm\", \"pm\", \"pm\", \"pool\", \"pool\", \"pool\", \"pool\", \"pool\", \"pool\", \"pool\", \"pool\", \"pool\", \"pool\", \"porch\", \"porch\", \"porch\", \"porch\", \"porch\", \"porch\", \"porch\", \"porch\", \"position\", \"position\", \"position\", \"position\", \"position\", \"position\", \"position\", \"position\", \"position\", \"position\", \"power\", \"power\", \"power\", \"power\", \"power\", \"power\", \"power\", \"power\", \"power\", \"power\", \"preapre\", \"presold\", \"presold\", \"presold\", \"presold\", \"presold\", \"presold\", \"presold\", \"pretax\", \"pretax\", \"pretax\", \"pretax\", \"pretax\", \"pretax\", \"pretax\", \"pretax\", \"pretax\", \"pretax\", \"price\", \"price\", \"price\", \"price\", \"price\", \"price\", \"price\", \"price\", \"price\", \"price\", \"product\", \"product\", \"product\", \"product\", \"product\", \"product\", \"product\", \"product\", \"product\", \"product\", \"products\", \"products\", \"products\", \"products\", \"products\", \"products\", \"products\", \"proformaphillip\", \"proformaphillip\", \"proformaphillip\", \"project\", \"project\", \"project\", \"project\", \"project\", \"project\", \"project\", \"project\", \"project\", \"project\", \"propertys\", \"proposition\", \"proposition\", \"proposition\", \"proposition\", \"proposition\", \"proposition\", \"proposition\", \"proposition\", \"proposition\", \"propsoed\", \"propt\", \"propt\", \"provide\", \"provide\", \"provide\", \"provide\", \"provide\", \"provide\", \"provide\", \"provide\", \"provide\", \"provide\", \"psa\", \"psa\", \"psa\", \"pt\", \"pt\", \"pt\", \"pt\", \"pt\", \"pt\", \"pt\", \"pt\", \"pt\", \"pts\", \"pts\", \"pts\", \"pts\", \"pts\", \"pts\", \"pts\", \"pts\", \"pulp\", \"pulp\", \"pulp\", \"pulp\", \"pulp\", \"pulp\", \"pulp\", \"pulp\", \"pulp\", \"qfs\", \"qfs\", \"qfs\", \"qfs\", \"qfs\", \"qfs\", \"rahal\", \"rahal\", \"rahimi\", \"rate\", \"rate\", \"rate\", \"rate\", \"rate\", \"rate\", \"rate\", \"rate\", \"rate\", \"rate\", \"rating\", \"rating\", \"rating\", \"rating\", \"rating\", \"rating\", \"rating\", \"rating\", \"rating\", \"rating\", \"ravi\", \"ravi\", \"ravi\", \"ravi\", \"ravi\", \"ravi\", \"ravi\", \"ravi\", \"ravithuraisinghamenroncom\", \"ravithuraisinghamenroncom\", \"ravithuraisinghamenroncom\", \"ravithuraisinghamenroncom\", \"rbadeernsf\", \"rbadeernsf\", \"rbadeernsf\", \"rbadeernsf\", \"rbadeernsf\", \"rbadeernsf\", \"rbadeernsf\", \"rbadeernsf\", \"rbadeernsf\", \"rbadeernsf\", \"receive\", \"receive\", \"receive\", \"receive\", \"receive\", \"receive\", \"receive\", \"receive\", \"receive\", \"receive\", \"recommendation\", \"recommendation\", \"recommendation\", \"recommendation\", \"recommendation\", \"recommendation\", \"recommendation\", \"recommendation\", \"recommendation\", \"recommendation\", \"record\", \"record\", \"record\", \"record\", \"record\", \"record\", \"record\", \"record\", \"record\", \"record\", \"recoupment\", \"recoupment\", \"recoupment\", \"recoupment\", \"recourse\", \"recourse\", \"recourse\", \"recourse\", \"recourse\", \"recoverywill\", \"redford\", \"reformer\", \"relation\", \"relation\", \"relation\", \"relation\", \"relation\", \"relation\", \"relation\", \"relation\", \"relation\", \"relation\", \"relationship\", \"relationship\", \"relationship\", \"relationship\", \"relationship\", \"relationship\", \"relationship\", \"relationship\", \"relationship\", \"relationship\", \"rent\", \"rent\", \"rent\", \"rent\", \"rent\", \"rent\", \"rent\", \"rent\", \"rent\", \"rent\", \"rental\", \"rental\", \"rental\", \"rental\", \"rental\", \"rental\", \"rental\", \"rental\", \"rental\", \"rental\", \"renter\", \"rentroll\", \"rentroll\", \"rentroll\", \"rentroll\", \"rentroll\", \"rentroll\", \"rentrollxls\", \"rentrollxls\", \"report\", \"report\", \"report\", \"report\", \"report\", \"report\", \"report\", \"report\", \"report\", \"report\", \"reporter\", \"reporter\", \"reporter\", \"reporter\", \"reporter\", \"reporter\", \"reporter\", \"reporter\", \"reporter\", \"reporter\", \"request\", \"request\", \"request\", \"request\", \"request\", \"request\", \"request\", \"request\", \"request\", \"request\", \"requisite\", \"requisite\", \"requisite\", \"requisite\", \"requisite\", \"requisite\", \"researchit\", \"researchit\", \"reservation\", \"reservation\", \"reservation\", \"reservation\", \"reservation\", \"reservation\", \"reservation\", \"reservation\", \"reservation\", \"reservation\", \"reset\", \"resort\", \"resort\", \"resort\", \"resort\", \"resort\", \"resort\", \"resort\", \"resort\", \"resort\", \"resort\", \"resource\", \"resource\", \"resource\", \"resource\", \"resource\", \"resource\", \"resource\", \"resource\", \"resource\", \"resource\", \"responsibilitiesobligation\", \"responsibilitiesobligation\", \"responsibilitiesobligation\", \"reuters\", \"reuters\", \"reuters\", \"reuters\", \"reuters\", \"reuters\", \"reuters\", \"reuters\", \"reuters\", \"reuters\", \"richard\", \"richard\", \"richard\", \"richard\", \"richard\", \"richard\", \"richard\", \"richard\", \"richard\", \"richard\", \"rights\", \"rights\", \"rights\", \"rights\", \"rights\", \"rights\", \"rights\", \"rights\", \"rights\", \"rights\", \"robert\", \"robert\", \"robert\", \"robert\", \"robert\", \"robert\", \"robert\", \"robert\", \"robert\", \"robert\", \"robins\", \"robins\", \"roman\", \"roman\", \"roman\", \"roman\", \"roof\", \"roof\", \"roof\", \"roof\", \"roof\", \"roof\", \"roof\", \"roof\", \"roofing\", \"roofing\", \"rothleder\", \"rothleder\", \"rothleder\", \"rrobert\", \"rwestbrookenroncom\", \"rwestbrookenroncom\", \"rwestbrookenroncom\", \"rwestbrookenroncom\", \"rwestbrookenroncom\", \"rwestbrookenroncom\", \"rwestbrookenroncom\", \"rwestbrookenroncom\", \"rwestbrookenroncom\", \"s\", \"s\", \"s\", \"s\", \"s\", \"s\", \"s\", \"s\", \"s\", \"s\", \"salesintcxcom\", \"salesintcxcom\", \"salesintcxcom\", \"salesintcxcom\", \"salespopswinecom\", \"sanjiv\", \"sarahjoy\", \"sarahjoy\", \"sarahjoy\", \"sarahjoy\", \"sarahjoy\", \"sarahjoy\", \"sarahjoy\", \"sarahjoy\", \"sarahjoy\", \"sarahjoy\", \"saudi\", \"saudi\", \"saudi\", \"saudi\", \"saudi\", \"saudi\", \"saudi\", \"saudi\", \"saudi\", \"saudi\", \"savagehoueesees\", \"savagehoueesees\", \"savagehoueesees\", \"savagehoueesees\", \"say\", \"say\", \"say\", \"say\", \"say\", \"say\", \"say\", \"say\", \"say\", \"say\", \"schedule\", \"schedule\", \"schedule\", \"schedule\", \"schedule\", \"schedule\", \"schedule\", \"schedule\", \"schedule\", \"schedule\", \"scheduling\", \"scheduling\", \"scheduling\", \"scheduling\", \"scheduling\", \"scheduling\", \"scheduling\", \"scheduling\", \"scheduling\", \"scheduling\", \"scs\", \"scs\", \"scs\", \"scs\", \"scs\", \"scs\", \"scs\", \"scs\", \"scs\", \"scsotcaolcom\", \"scsotcaolcom\", \"sec\", \"sec\", \"sec\", \"sec\", \"sec\", \"sec\", \"sec\", \"sec\", \"sec\", \"sec\", \"section\", \"section\", \"section\", \"section\", \"section\", \"section\", \"section\", \"section\", \"section\", \"section\", \"sector\", \"sector\", \"sector\", \"sector\", \"sector\", \"sector\", \"sector\", \"sector\", \"sector\", \"sector\", \"securities\", \"securities\", \"securities\", \"securities\", \"securities\", \"securities\", \"securities\", \"securities\", \"securities\", \"securities\", \"sell\", \"sell\", \"sell\", \"sell\", \"sell\", \"sell\", \"sell\", \"sell\", \"sell\", \"sell\", \"send\", \"send\", \"send\", \"send\", \"send\", \"send\", \"send\", \"send\", \"send\", \"send\", \"service\", \"service\", \"service\", \"service\", \"service\", \"service\", \"service\", \"service\", \"service\", \"service\", \"services\", \"services\", \"services\", \"services\", \"services\", \"services\", \"services\", \"services\", \"services\", \"services\", \"ses\", \"ses\", \"ses\", \"ses\", \"ses\", \"ses\", \"ses\", \"ses\", \"settlement\", \"settlement\", \"settlement\", \"settlement\", \"settlement\", \"settlement\", \"settlement\", \"settlement\", \"settlement\", \"settlement\", \"severson\", \"seversonhouect\", \"seversonhouect\", \"seversonhouect\", \"severudehouect\", \"severudehouect\", \"severudehouect\", \"severudehouectect\", \"shank\", \"share\", \"share\", \"share\", \"share\", \"share\", \"share\", \"share\", \"share\", \"share\", \"share\", \"shareholder\", \"shareholder\", \"shareholder\", \"shareholder\", \"shareholder\", \"shareholder\", \"shareholder\", \"shareholder\", \"shareholder\", \"shareholder\", \"sheraton\", \"sheraton\", \"sheraton\", \"sheraton\", \"sheraton\", \"sheraton\", \"sheraton\", \"sheraton\", \"sheraton\", \"sheraton\", \"shivelyhouect\", \"shivelyhouect\", \"shivelyhouect\", \"showtime\", \"showtime\", \"showtime\", \"showtime\", \"showtimes\", \"showtimes\", \"showtimes\", \"showtimes\", \"sic\", \"sic\", \"sic\", \"sic\", \"sic\", \"sit\", \"sit\", \"sit\", \"sit\", \"sit\", \"sit\", \"sit\", \"sit\", \"sit\", \"sit\", \"slafontaineglobalpcom\", \"slafontaineglobalpcom\", \"slafontaineglobalpcom\", \"slafontaineglobalpcom\", \"slafontaineglobalpcom\", \"slafontaineglobalpcom\", \"slafontaineglobalpcom\", \"slafontaineglobalpcom\", \"slafontaineglobalpcom\", \"slafontaineglobalpcom\", \"soblandercarrfutcom\", \"soblandercarrfutcom\", \"soblandercarrfutcom\", \"soblandercarrfutcom\", \"soblandercarrfutcom\", \"soblandercarrfutcom\", \"soblandercarrfutcom\", \"soblandercarrfutcom\", \"soblandercarrfutcom\", \"soccer\", \"soccer\", \"soccer\", \"soccer\", \"soccer\", \"soccer\", \"soccer\", \"soccer\", \"soccer\", \"soccer\", \"solely\", \"solely\", \"solely\", \"solely\", \"solely\", \"solely\", \"solely\", \"solely\", \"solely\", \"solely\", \"sont\", \"sont\", \"sont\", \"sont\", \"sont\", \"sont\", \"sont\", \"sore\", \"soundview\", \"soundview\", \"soundview\", \"sourcing\", \"sourcing\", \"sourcing\", \"sourcing\", \"sourcing\", \"sourcing\", \"sourcing\", \"sourcing\", \"sourcing\", \"sourcing\", \"special\", \"special\", \"special\", \"special\", \"special\", \"special\", \"special\", \"special\", \"special\", \"special\", \"spectator\", \"spectator\", \"spectator\", \"spectator\", \"spectator\", \"spectator\", \"spectator\", \"spectator\", \"spine\", \"spotweddoc\", \"spotweddoc\", \"spread\", \"spread\", \"spread\", \"spread\", \"spread\", \"spread\", \"spread\", \"spread\", \"spread\", \"spread\", \"spreadoffset\", \"spreadoffset\", \"spreadoffset\", \"spreadoffset\", \"spreadoffset\", \"spreadoffset\", \"sprecher\", \"sprecher\", \"sprecher\", \"sprecher\", \"sprecher\", \"spurlin\", \"sqeeze\", \"sqeeze\", \"stagecoachmamahotmailcom\", \"stain\", \"stain\", \"stain\", \"stain\", \"stain\", \"stair\", \"stair\", \"stair\", \"stair\", \"stake\", \"stake\", \"stake\", \"stake\", \"stake\", \"stake\", \"stake\", \"stake\", \"stake\", \"stake\", \"stakeholder\", \"stakeholder\", \"stakeholder\", \"stakeholder\", \"stakeholder\", \"stakeholder\", \"stakeholder\", \"stakeholder\", \"stakeholder\", \"stakeholder\", \"stanfield\", \"stanfield\", \"stanfield\", \"state\", \"state\", \"state\", \"state\", \"state\", \"state\", \"state\", \"state\", \"state\", \"state\", \"std\", \"std\", \"std\", \"std\", \"std\", \"std\", \"std\", \"stock\", \"stock\", \"stock\", \"stock\", \"stock\", \"stock\", \"stock\", \"stock\", \"stock\", \"stock\", \"strategic\", \"strategic\", \"strategic\", \"strategic\", \"strategic\", \"strategic\", \"strategic\", \"strategic\", \"strategic\", \"strategic\", \"stucco\", \"stucco\", \"stucco\", \"sturmhouect\", \"sturmhouect\", \"sturmhouect\", \"sub\", \"sub\", \"sub\", \"sub\", \"sub\", \"sub\", \"sub\", \"sub\", \"sub\", \"subject\", \"subject\", \"subject\", \"subject\", \"subject\", \"subject\", \"subject\", \"subject\", \"subject\", \"subject\", \"suites\", \"suites\", \"suites\", \"suites\", \"suites\", \"suites\", \"sun\", \"sun\", \"sun\", \"sun\", \"sun\", \"sun\", \"sun\", \"sun\", \"sun\", \"sun\", \"surpised\", \"susan\", \"susan\", \"susan\", \"susan\", \"susan\", \"susan\", \"susan\", \"susan\", \"susan\", \"susan\", \"system\", \"system\", \"system\", \"system\", \"system\", \"system\", \"system\", \"system\", \"system\", \"system\", \"tail\", \"tail\", \"tail\", \"tail\", \"tail\", \"tail\", \"tail\", \"tail\", \"takeover\", \"takeover\", \"takeover\", \"takeover\", \"takeover\", \"takeover\", \"takeover\", \"takeover\", \"takeover\", \"takeover\", \"tantamount\", \"tantamount\", \"tasting\", \"tasting\", \"tasting\", \"tasting\", \"tasting\", \"tasting\", \"tasting\", \"tasting\", \"tasting\", \"tata\", \"tata\", \"tata\", \"tata\", \"tata\", \"tata\", \"tata\", \"tata\", \"tata\", \"tata\", \"tds\", \"tds\", \"tds\", \"tds\", \"tds\", \"tds\", \"tds\", \"tds\", \"tds\", \"telephonic\", \"telephonic\", \"tenant\", \"tenant\", \"tenant\", \"tenant\", \"tenant\", \"tenant\", \"tenant\", \"tenant\", \"tender\", \"tender\", \"tender\", \"tender\", \"tender\", \"tetco\", \"tetco\", \"tetco\", \"tetco\", \"tetco\", \"th\", \"th\", \"th\", \"th\", \"th\", \"th\", \"th\", \"th\", \"th\", \"th\", \"thank\", \"thank\", \"thank\", \"thank\", \"thank\", \"thank\", \"thank\", \"thank\", \"thank\", \"thank\", \"theoretical\", \"theoretical\", \"theoretical\", \"think\", \"think\", \"think\", \"think\", \"think\", \"think\", \"think\", \"think\", \"think\", \"think\", \"thot\", \"thot\", \"thot\", \"thot\", \"thot\", \"thot\", \"thuraisingham\", \"thuraisingham\", \"thuraisingham\", \"thuraisingham\", \"thuraisingham\", \"thuraisingham\", \"tim\", \"tim\", \"tim\", \"tim\", \"tim\", \"tim\", \"tim\", \"tim\", \"tim\", \"tim\", \"time\", \"time\", \"time\", \"time\", \"time\", \"time\", \"time\", \"time\", \"time\", \"time\", \"titre\", \"titre\", \"titre\", \"titre\", \"titre\", \"titre\", \"titre\", \"today\", \"today\", \"today\", \"today\", \"today\", \"today\", \"today\", \"today\", \"today\", \"today\", \"tomorrow\", \"tomorrow\", \"tomorrow\", \"tomorrow\", \"tomorrow\", \"tomorrow\", \"tomorrow\", \"tomorrow\", \"tomorrow\", \"tomorrow\", \"toni\", \"toni\", \"toni\", \"tonight\", \"tonight\", \"tonight\", \"tonight\", \"tonight\", \"tonight\", \"tonight\", \"tonight\", \"tonight\", \"tonight\", \"toute\", \"toute\", \"toute\", \"toute\", \"toute\", \"toute\", \"toute\", \"trade\", \"trade\", \"trade\", \"trade\", \"trade\", \"trade\", \"trade\", \"trade\", \"trade\", \"trade\", \"trading\", \"trading\", \"trading\", \"trading\", \"trading\", \"trading\", \"trading\", \"trading\", \"trading\", \"trading\", \"travel\", \"travel\", \"travel\", \"travel\", \"travel\", \"travel\", \"travel\", \"travel\", \"travel\", \"travel\", \"try\", \"try\", \"try\", \"try\", \"try\", \"try\", \"try\", \"try\", \"try\", \"try\", \"tswg\", \"tswg\", \"tswg\", \"tswg\", \"tswg\", \"tswg\", \"ttc\", \"ttc\", \"ttc\", \"ttcs\", \"tuesday\", \"tuesday\", \"tuesday\", \"tuesday\", \"tuesday\", \"tuesday\", \"tuesday\", \"tuesday\", \"tuesday\", \"tuesday\", \"tweed\", \"tweed\", \"tweed\", \"tweed\", \"tweed\", \"type\", \"type\", \"type\", \"type\", \"type\", \"type\", \"type\", \"type\", \"type\", \"type\", \"ubspainewebber\", \"ubspainewebber\", \"ubspainewebber\", \"ubspainewebber\", \"udc\", \"udc\", \"udc\", \"udc\", \"udc\", \"uneven\", \"unit\", \"unit\", \"unit\", \"unit\", \"unit\", \"unit\", \"unit\", \"unit\", \"unit\", \"unit\", \"unleade\", \"unleade\", \"unleade\", \"unleade\", \"unleade\", \"unleade\", \"upgradedowngrade\", \"upgradedowngrade\", \"upgradedowngrade\", \"upgradedowngrade\", \"upgradesdowngradescoverage\", \"upgradesdowngradescoverage\", \"upgradesdowngradescoverage\", \"upstairs\", \"upstairs\", \"upstairs\", \"upstairs\", \"upstairs\", \"use\", \"use\", \"use\", \"use\", \"use\", \"use\", \"use\", \"use\", \"use\", \"use\", \"userdefined\", \"userdefined\", \"ush\", \"ush\", \"ussoccerfancom\", \"ussoccerfancom\", \"ussoccerfancom\", \"ussoccerfancom\", \"utilisation\", \"utilisation\", \"utilisation\", \"utilisation\", \"utilisation\", \"utilisation\", \"utilisation\", \"utility\", \"utility\", \"utility\", \"utility\", \"utility\", \"utility\", \"utility\", \"utility\", \"utility\", \"utility\", \"value\", \"value\", \"value\", \"value\", \"value\", \"value\", \"value\", \"value\", \"value\", \"value\", \"veggie\", \"ver\", \"ver\", \"ver\", \"ver\", \"ver\", \"ver\", \"ver\", \"ver\", \"ver\", \"ver\", \"vertebra\", \"vintage\", \"vintage\", \"vintage\", \"vintage\", \"vintage\", \"vip\", \"vip\", \"vip\", \"vis\", \"vis\", \"vis\", \"vis\", \"vis\", \"vous\", \"vous\", \"vous\", \"vous\", \"vous\", \"vous\", \"vous\", \"vx\", \"vx\", \"vx\", \"vx\", \"vx\", \"vx\", \"vx\", \"vx\", \"vx\", \"wacker\", \"wacker\", \"wacker\", \"wacker\", \"wacker\", \"wacker\", \"wacker\", \"wacker\", \"wacker\", \"wager\", \"wager\", \"wager\", \"wager\", \"wager\", \"wager\", \"wager\", \"wager\", \"want\", \"want\", \"want\", \"want\", \"want\", \"want\", \"want\", \"want\", \"want\", \"want\", \"ward\", \"ward\", \"ward\", \"ward\", \"ward\", \"ward\", \"ward\", \"ward\", \"ward\", \"ward\", \"web\", \"web\", \"web\", \"web\", \"web\", \"web\", \"web\", \"web\", \"web\", \"web\", \"week\", \"week\", \"week\", \"week\", \"week\", \"week\", \"week\", \"week\", \"week\", \"week\", \"wesnerenron\", \"wesnerenron\", \"wesnerenron\", \"wesnerenron\", \"widening\", \"wine\", \"wine\", \"wine\", \"wine\", \"wine\", \"wine\", \"wine\", \"wine\", \"wine\", \"wine\", \"winebidcoms\", \"woertz\", \"woertz\", \"woertz\", \"woertz\", \"woertz\", \"woertz\", \"woertz\", \"woertz\", \"woertz\", \"woertz\", \"womens\", \"womens\", \"womens\", \"womens\", \"womens\", \"work\", \"work\", \"work\", \"work\", \"work\", \"work\", \"work\", \"work\", \"work\", \"work\", \"wud\", \"wud\", \"wud\", \"wud\", \"wud\", \"wv\", \"wv\", \"wwwblackberrynet\", \"wwwblackberrynet\", \"wwwblackberrynet\", \"wwwblackberrynet\", \"wwwwwaesconcom\", \"xbcc\", \"xbcc\", \"xbcc\", \"xbcc\", \"xbcc\", \"xbcc\", \"xbcc\", \"xbcc\", \"xbcc\", \"xbcc\", \"xfilename\", \"xfilename\", \"xfilename\", \"xfilename\", \"xfilename\", \"xfilename\", \"xfilename\", \"xfilename\", \"xfilename\", \"xfilename\", \"xfolder\", \"xfolder\", \"xfolder\", \"xfolder\", \"xfolder\", \"xfolder\", \"xfolder\", \"xfolder\", \"xfolder\", \"xfolder\", \"xorigin\", \"xorigin\", \"xorigin\", \"xorigin\", \"xorigin\", \"xorigin\", \"xorigin\", \"xorigin\", \"xorigin\", \"xorigin\", \"xs\", \"yahoo\", \"yahoo\", \"yahoo\", \"yahoo\", \"yahoo\", \"yahoo\", \"yahoo\", \"yahoo\", \"yahoo\", \"yahoo\", \"year\", \"year\", \"year\", \"year\", \"year\", \"year\", \"year\", \"year\", \"year\", \"year\", \"yepim\", \"yippee\", \"yippee\", \"yippee\", \"yippee\", \"yippee\", \"zalaywancaisocom\", \"zalaywancaisocom\", \"zalaywancaisocom\", \"zdnet\", \"zdnet\", \"zdnet\", \"zdnet\", \"zdnet\", \"zdnet\", \"zdnet\", \"zdnet\", \"zdnet\", \"zdnet\"]}, \"R\": 30, \"lambda.step\": 0.01, \"plot.opts\": {\"xlab\": \"PC1\", \"ylab\": \"PC2\"}, \"topic.order\": [8, 7, 3, 1, 10, 4, 6, 5, 2, 9]};\n",
       "\n",
       "function LDAvis_load_lib(url, callback){\n",
       "  var s = document.createElement('script');\n",
       "  s.src = url;\n",
       "  s.async = true;\n",
       "  s.onreadystatechange = s.onload = callback;\n",
       "  s.onerror = function(){console.warn(\"failed to load library \" + url);};\n",
       "  document.getElementsByTagName(\"head\")[0].appendChild(s);\n",
       "}\n",
       "\n",
       "if(typeof(LDAvis) !== \"undefined\"){\n",
       "   // already loaded: just create the visualization\n",
       "   !function(LDAvis){\n",
       "       new LDAvis(\"#\" + \"ldavis_el492422894750674802460981470\", ldavis_el492422894750674802460981470_data);\n",
       "   }(LDAvis);\n",
       "}else if(typeof define === \"function\" && define.amd){\n",
       "   // require.js is available: use it to load d3/LDAvis\n",
       "   require.config({paths: {d3: \"https://cdnjs.cloudflare.com/ajax/libs/d3/3.5.5/d3.min\"}});\n",
       "   require([\"d3\"], function(d3){\n",
       "      window.d3 = d3;\n",
       "      LDAvis_load_lib(\"https://cdn.rawgit.com/bmabey/pyLDAvis/files/ldavis.v1.0.0.js\", function(){\n",
       "        new LDAvis(\"#\" + \"ldavis_el492422894750674802460981470\", ldavis_el492422894750674802460981470_data);\n",
       "      });\n",
       "    });\n",
       "}else{\n",
       "    // require.js not available: dynamically load d3 & LDAvis\n",
       "    LDAvis_load_lib(\"https://cdnjs.cloudflare.com/ajax/libs/d3/3.5.5/d3.min.js\", function(){\n",
       "         LDAvis_load_lib(\"https://cdn.rawgit.com/bmabey/pyLDAvis/files/ldavis.v1.0.0.js\", function(){\n",
       "                 new LDAvis(\"#\" + \"ldavis_el492422894750674802460981470\", ldavis_el492422894750674802460981470_data);\n",
       "            })\n",
       "         });\n",
       "}\n",
       "</script>"
      ],
      "text/plain": [
       "PreparedData(topic_coordinates=              x         y  topics  cluster       Freq\n",
       "topic                                                \n",
       "7      0.141798 -0.003129       1        1  27.014420\n",
       "6     -0.011389  0.076114       2        1  13.364538\n",
       "2     -0.043526  0.056293       3        1  10.785114\n",
       "0      0.035586  0.031039       4        1   9.362778\n",
       "9     -0.113881  0.034605       5        1   8.965400\n",
       "3     -0.071990 -0.122323       6        1   7.522446\n",
       "5     -0.003576 -0.020676       7        1   6.782044\n",
       "4      0.021141  0.019387       8        1   5.825484\n",
       "1     -0.026096 -0.024857       9        1   5.817935\n",
       "8      0.071931 -0.046453      10        1   4.559837, topic_info=         Term          Freq         Total Category  logprob  loglift\n",
       "173        pm   8787.000000   8787.000000  Default  30.0000  30.0000\n",
       "2674    image   3489.000000   3489.000000  Default  29.0000  29.0000\n",
       "959     email   5898.000000   5898.000000  Default  28.0000  28.0000\n",
       "208     enron  11436.000000  11436.000000  Default  27.0000  27.0000\n",
       "193   subject   7895.000000   7895.000000  Default  26.0000  26.0000\n",
       "...       ...           ...           ...      ...      ...      ...\n",
       "692    credit    131.992462   1833.543213  Topic10  -6.0181   0.4566\n",
       "125       day    137.110092   2796.380371  Topic10  -5.9800   0.0726\n",
       "134    energy    140.000153   3672.959473  Topic10  -5.9592  -0.1792\n",
       "141       gas    142.956833   4951.703613  Topic10  -5.9383  -0.4571\n",
       "975      week    133.405716   3094.687744  Topic10  -6.0074  -0.0562\n",
       "\n",
       "[936 rows x 6 columns], token_table=      Topic      Freq   Term\n",
       "term                        \n",
       "90        1  0.032786       \n",
       "90        2  0.342255       \n",
       "90        3  0.134343       \n",
       "90        4  0.037584       \n",
       "90        5  0.173527       \n",
       "...     ...       ...    ...\n",
       "5226      6  0.023940  zdnet\n",
       "5226      7  0.035911  zdnet\n",
       "5226      8  0.005985  zdnet\n",
       "5226      9  0.005985  zdnet\n",
       "5226     10  0.023940  zdnet\n",
       "\n",
       "[5001 rows x 3 columns], R=30, lambda_step=0.01, plot_opts={'xlab': 'PC1', 'ylab': 'PC2'}, topic_order=[8, 7, 3, 1, 10, 4, 6, 5, 2, 9])"
      ]
     },
     "execution_count": 23,
     "metadata": {},
     "output_type": "execute_result"
    }
   ],
   "source": [
    "import pyLDAvis.gensim\n",
    "\n",
    "pyLDAvis.enable_notebook()\n",
    "\n",
    "pyLDAvis.gensim.prepare(model, corpus, id2word)"
   ]
  },
  {
   "cell_type": "code",
   "execution_count": 24,
   "metadata": {
    "colab": {},
    "colab_type": "code",
    "id": "Mu0vqgx1YZuh"
   },
   "outputs": [],
   "source": [
    "#'corpus'\n",
    "\n",
    "distro = [lda[d] for d in corpus]\n",
    "\n",
    "num_topics = 20\n",
    "\n",
    "def update(doc):\n",
    "        d_dist = {k:0 for k in range(0,num_topics)}\n",
    "        for topic in doc:\n",
    "            d_dist[topic[0]] = topic[1]\n",
    "        return d_dist\n",
    "    \n",
    "new_distro = [update(d) for d in distro]"
   ]
  },
  {
   "cell_type": "code",
   "execution_count": 25,
   "metadata": {
    "colab": {
     "base_uri": "https://localhost:8080/",
     "height": 195
    },
    "colab_type": "code",
    "id": "wzRj8c1_3SJD",
    "outputId": "e76bb55d-9600-4a9b-db38-2762514ae18c"
   },
   "outputs": [
    {
     "data": {
      "text/html": [
       "<div>\n",
       "<style scoped>\n",
       "    .dataframe tbody tr th:only-of-type {\n",
       "        vertical-align: middle;\n",
       "    }\n",
       "\n",
       "    .dataframe tbody tr th {\n",
       "        vertical-align: top;\n",
       "    }\n",
       "\n",
       "    .dataframe thead th {\n",
       "        text-align: right;\n",
       "    }\n",
       "</style>\n",
       "<table border=\"1\" class=\"dataframe\">\n",
       "  <thead>\n",
       "    <tr style=\"text-align: right;\">\n",
       "      <th></th>\n",
       "      <th>0</th>\n",
       "      <th>1</th>\n",
       "      <th>2</th>\n",
       "      <th>3</th>\n",
       "      <th>4</th>\n",
       "      <th>5</th>\n",
       "      <th>6</th>\n",
       "      <th>7</th>\n",
       "      <th>8</th>\n",
       "      <th>9</th>\n",
       "      <th>10</th>\n",
       "      <th>11</th>\n",
       "      <th>12</th>\n",
       "      <th>13</th>\n",
       "      <th>14</th>\n",
       "      <th>15</th>\n",
       "      <th>16</th>\n",
       "      <th>17</th>\n",
       "      <th>18</th>\n",
       "      <th>19</th>\n",
       "    </tr>\n",
       "  </thead>\n",
       "  <tbody>\n",
       "    <tr>\n",
       "      <th>0</th>\n",
       "      <td>0.033339</td>\n",
       "      <td>0.033338</td>\n",
       "      <td>0.533262</td>\n",
       "      <td>0.033338</td>\n",
       "      <td>0.033338</td>\n",
       "      <td>0.033339</td>\n",
       "      <td>0.033338</td>\n",
       "      <td>0.033338</td>\n",
       "      <td>0.033338</td>\n",
       "      <td>0.033338</td>\n",
       "      <td>0.033338</td>\n",
       "      <td>0.033338</td>\n",
       "      <td>0.033338</td>\n",
       "      <td>0.033338</td>\n",
       "      <td>0.033338</td>\n",
       "      <td>0</td>\n",
       "      <td>0</td>\n",
       "      <td>0</td>\n",
       "      <td>0</td>\n",
       "      <td>0</td>\n",
       "    </tr>\n",
       "    <tr>\n",
       "      <th>1</th>\n",
       "      <td>0.000000</td>\n",
       "      <td>0.000000</td>\n",
       "      <td>0.000000</td>\n",
       "      <td>0.000000</td>\n",
       "      <td>0.000000</td>\n",
       "      <td>0.000000</td>\n",
       "      <td>0.254033</td>\n",
       "      <td>0.057943</td>\n",
       "      <td>0.000000</td>\n",
       "      <td>0.000000</td>\n",
       "      <td>0.000000</td>\n",
       "      <td>0.000000</td>\n",
       "      <td>0.000000</td>\n",
       "      <td>0.674670</td>\n",
       "      <td>0.000000</td>\n",
       "      <td>0</td>\n",
       "      <td>0</td>\n",
       "      <td>0</td>\n",
       "      <td>0</td>\n",
       "      <td>0</td>\n",
       "    </tr>\n",
       "    <tr>\n",
       "      <th>2</th>\n",
       "      <td>0.016672</td>\n",
       "      <td>0.016672</td>\n",
       "      <td>0.016672</td>\n",
       "      <td>0.016672</td>\n",
       "      <td>0.016672</td>\n",
       "      <td>0.016672</td>\n",
       "      <td>0.016672</td>\n",
       "      <td>0.016672</td>\n",
       "      <td>0.016672</td>\n",
       "      <td>0.016672</td>\n",
       "      <td>0.016672</td>\n",
       "      <td>0.016672</td>\n",
       "      <td>0.545097</td>\n",
       "      <td>0.238171</td>\n",
       "      <td>0.016672</td>\n",
       "      <td>0</td>\n",
       "      <td>0</td>\n",
       "      <td>0</td>\n",
       "      <td>0</td>\n",
       "      <td>0</td>\n",
       "    </tr>\n",
       "    <tr>\n",
       "      <th>3</th>\n",
       "      <td>0.000000</td>\n",
       "      <td>0.000000</td>\n",
       "      <td>0.000000</td>\n",
       "      <td>0.000000</td>\n",
       "      <td>0.503627</td>\n",
       "      <td>0.000000</td>\n",
       "      <td>0.442187</td>\n",
       "      <td>0.000000</td>\n",
       "      <td>0.000000</td>\n",
       "      <td>0.000000</td>\n",
       "      <td>0.000000</td>\n",
       "      <td>0.000000</td>\n",
       "      <td>0.000000</td>\n",
       "      <td>0.000000</td>\n",
       "      <td>0.000000</td>\n",
       "      <td>0</td>\n",
       "      <td>0</td>\n",
       "      <td>0</td>\n",
       "      <td>0</td>\n",
       "      <td>0</td>\n",
       "    </tr>\n",
       "    <tr>\n",
       "      <th>4</th>\n",
       "      <td>0.016670</td>\n",
       "      <td>0.016670</td>\n",
       "      <td>0.016670</td>\n",
       "      <td>0.016670</td>\n",
       "      <td>0.016670</td>\n",
       "      <td>0.016670</td>\n",
       "      <td>0.766621</td>\n",
       "      <td>0.016670</td>\n",
       "      <td>0.016670</td>\n",
       "      <td>0.016670</td>\n",
       "      <td>0.016670</td>\n",
       "      <td>0.016670</td>\n",
       "      <td>0.016670</td>\n",
       "      <td>0.016670</td>\n",
       "      <td>0.016670</td>\n",
       "      <td>0</td>\n",
       "      <td>0</td>\n",
       "      <td>0</td>\n",
       "      <td>0</td>\n",
       "      <td>0</td>\n",
       "    </tr>\n",
       "  </tbody>\n",
       "</table>\n",
       "</div>"
      ],
      "text/plain": [
       "         0         1         2         3         4         5         6   \\\n",
       "0  0.033339  0.033338  0.533262  0.033338  0.033338  0.033339  0.033338   \n",
       "1  0.000000  0.000000  0.000000  0.000000  0.000000  0.000000  0.254033   \n",
       "2  0.016672  0.016672  0.016672  0.016672  0.016672  0.016672  0.016672   \n",
       "3  0.000000  0.000000  0.000000  0.000000  0.503627  0.000000  0.442187   \n",
       "4  0.016670  0.016670  0.016670  0.016670  0.016670  0.016670  0.766621   \n",
       "\n",
       "         7         8         9         10        11        12        13  \\\n",
       "0  0.033338  0.033338  0.033338  0.033338  0.033338  0.033338  0.033338   \n",
       "1  0.057943  0.000000  0.000000  0.000000  0.000000  0.000000  0.674670   \n",
       "2  0.016672  0.016672  0.016672  0.016672  0.016672  0.545097  0.238171   \n",
       "3  0.000000  0.000000  0.000000  0.000000  0.000000  0.000000  0.000000   \n",
       "4  0.016670  0.016670  0.016670  0.016670  0.016670  0.016670  0.016670   \n",
       "\n",
       "         14  15  16  17  18  19  \n",
       "0  0.033338   0   0   0   0   0  \n",
       "1  0.000000   0   0   0   0   0  \n",
       "2  0.016672   0   0   0   0   0  \n",
       "3  0.000000   0   0   0   0   0  \n",
       "4  0.016670   0   0   0   0   0  "
      ]
     },
     "execution_count": 25,
     "metadata": {},
     "output_type": "execute_result"
    }
   ],
   "source": [
    "#Correlated\n",
    "topics = pd.DataFrame.from_records(new_distro)\n",
    "topics.head()"
   ]
  },
  {
   "cell_type": "code",
   "execution_count": 26,
   "metadata": {
    "colab": {},
    "colab_type": "code",
    "id": "mEFICbWM3UjZ"
   },
   "outputs": [
    {
     "data": {
      "text/plain": [
       "count    10000.000000\n",
       "mean         8.099300\n",
       "std          3.886174\n",
       "min          0.000000\n",
       "25%          5.000000\n",
       "50%          8.000000\n",
       "75%         12.000000\n",
       "max         14.000000\n",
       "Name: email_body, dtype: float64"
      ]
     },
     "execution_count": 26,
     "metadata": {},
     "output_type": "execute_result"
    }
   ],
   "source": [
    "df['email_body'] = topics.idxmax(axis=1)\n",
    "\n",
    "#Topic  \n",
    "df['email_body'].describe()"
   ]
  },
  {
   "cell_type": "code",
   "execution_count": 27,
   "metadata": {
    "colab": {
     "base_uri": "https://localhost:8080/",
     "height": 286
    },
    "colab_type": "code",
    "id": "zcoAl52wZ2ac",
    "outputId": "b5b481a1-352e-4cdd-a6a3-6f0dde9faf14"
   },
   "outputs": [
    {
     "data": {
      "text/plain": [
       "13    1737\n",
       "9     1434\n",
       "6     1064\n",
       "5      893\n",
       "4      857\n",
       "8      782\n",
       "12     717\n",
       "1      462\n",
       "10     440\n",
       "14     392\n",
       "7      290\n",
       "11     257\n",
       "3      242\n",
       "2      218\n",
       "0      215\n",
       "Name: email_body, dtype: int64"
      ]
     },
     "execution_count": 27,
     "metadata": {},
     "output_type": "execute_result"
    }
   ],
   "source": [
    "df['email_body'].value_counts()"
   ]
  },
  {
   "cell_type": "markdown",
   "metadata": {
    "colab_type": "text",
    "id": "b1XTjLs5Nb1w"
   },
   "source": [
    "Create the Emails Tags"
   ]
  },
  {
   "cell_type": "markdown",
   "metadata": {
    "colab_type": "text",
    "id": "oDBEbw4QAdvA"
   },
   "source": [
    "Tfidf term frequency–inverse document frequency"
   ]
  },
  {
   "cell_type": "code",
   "execution_count": 28,
   "metadata": {
    "colab": {
     "base_uri": "https://localhost:8080/",
     "height": 101
    },
    "colab_type": "code",
    "id": "2MUeorp9jplF",
    "outputId": "e735a5e2-da72-4a72-f834-173f6b552b20"
   },
   "outputs": [
    {
     "name": "stderr",
     "output_type": "stream",
     "text": [
      "[nltk_data] Downloading package stopwords to\n",
      "[nltk_data]     C:\\Users\\HomePC\\AppData\\Roaming\\nltk_data...\n",
      "[nltk_data]   Package stopwords is already up-to-date!\n",
      "[nltk_data] Downloading package punkt to\n",
      "[nltk_data]     C:\\Users\\HomePC\\AppData\\Roaming\\nltk_data...\n",
      "[nltk_data]   Package punkt is already up-to-date!\n"
     ]
    },
    {
     "data": {
      "text/plain": [
       "True"
      ]
     },
     "execution_count": 28,
     "metadata": {},
     "output_type": "execute_result"
    }
   ],
   "source": [
    "import nltk\n",
    "nltk.download('stopwords')\n",
    "nltk.download('punkt')"
   ]
  },
  {
   "cell_type": "code",
   "execution_count": 29,
   "metadata": {
    "colab": {
     "base_uri": "https://localhost:8080/",
     "height": 54
    },
    "colab_type": "code",
    "id": "3bXK0VeKjfCq",
    "outputId": "9977894e-102a-4946-8fa6-a73a61f6d56a"
   },
   "outputs": [
    {
     "name": "stdout",
     "output_type": "stream",
     "text": [
      "['traveling', 'business', 'meeting', 'takes', 'fun', 'trip', 'especially', 'prepare', 'presentation', 'would', 'suggest', 'holding', 'business', 'plan', 'meetings', 'take', 'trip', 'without', 'formal', 'business', 'meetings', 'would', 'even', 'try', 'get', 'honest', 'opinions', 'whether', 'trip', 'even', 'desired', 'necessary', 'far', 'business', 'meetings', 'think', 'would', 'productive', 'try', 'stimulate', 'discussions', 'across', 'different', 'groups', 'working', 'often', 'presenter', 'speaks', 'others', 'quiet', 'waiting', 'turn', 'meetings', 'might', 'better', 'held', 'round', 'table', 'discussion', 'format', 'suggestion', 'go', 'austin', 'play', 'golf', 'rent', 'ski', 'boat', 'jet', 'ski', 'flying', 'somewhere', 'takes', 'much', 'time']\n"
     ]
    }
   ],
   "source": [
    "from nltk.tokenize import word_tokenize\n",
    "\n",
    "# split into words\n",
    "tokens = word_tokenize(email)\n",
    "\n",
    "# convert to lower case\n",
    "tokens = [w.lower() for w in tokens]\n",
    "\n",
    "# prepare regex for char filtering\n",
    "re_punc = re.compile('[%s]' % re.escape(string.punctuation))\n",
    "\n",
    "# remove punctuation from each word\n",
    "stripped = [re_punc.sub('', w) for w in tokens]\n",
    "\n",
    "# remove remaining tokens that are not alphabetic\n",
    "words = [word for word in stripped if word.isalpha()]\n",
    "\n",
    "# filter out stop words\n",
    "stop_words = set(stopwords.words('english'))\n",
    "words = [w for w in words if not w in stop_words]\n",
    "print(words[:200])"
   ]
  },
  {
   "cell_type": "code",
   "execution_count": 30,
   "metadata": {
    "colab": {
     "base_uri": "https://localhost:8080/",
     "height": 54
    },
    "colab_type": "code",
    "id": "n6sRp4mhci07",
    "outputId": "b2f1f080-f472-467b-f99e-5755e202bdda"
   },
   "outputs": [
    {
     "name": "stdout",
     "output_type": "stream",
     "text": [
      "['austin', 'better', 'boat', 'business', 'desired', 'different', 'discussion', 'discussions', 'especially', 'far', 'flying', 'formal', 'format', 'fun', 'golf', 'groups', 'held', 'holding', 'honest', 'jet', 'meeting', 'meetings', 'necessary', 'opinions', 'plan', 'play', 'prepare', 'presentation', 'presenter', 'productive', 'quiet', 'rent', 'round', 'ski', 'speaks', 'stimulate', 'suggest', 'suggestion', 'table', 'takes', 'think', 'time', 'traveling', 'trip', 'try', 'turn', 'waiting', 'working']\n"
     ]
    }
   ],
   "source": [
    "from sklearn.feature_extraction.text import CountVectorizer\n",
    "\n",
    "count_vec = CountVectorizer(stop_words=\"english\", analyzer='word', \n",
    "                            ngram_range=(1, 2), max_df=1.0, min_df=1, max_features=None)\n",
    "\n",
    "count_train = count_vec.fit(words)\n",
    "bag_of_words = count_vec.transform(words)\n",
    "\n",
    "print(count_vec.get_feature_names())"
   ]
  },
  {
   "cell_type": "code",
   "execution_count": 31,
   "metadata": {
    "colab": {
     "base_uri": "https://localhost:8080/",
     "height": 54
    },
    "colab_type": "code",
    "id": "kKc20BkocwOV",
    "outputId": "b9093bf9-724a-4813-aaba-7ec91d6a0f7d"
   },
   "outputs": [
    {
     "name": "stdout",
     "output_type": "stream",
     "text": [
      "The text:  ['traveling', 'business', 'meeting', 'takes', 'fun', 'trip', 'especially', 'prepare', 'presentation', 'would', 'suggest', 'holding', 'business', 'plan', 'meetings', 'take', 'trip', 'without', 'formal', 'business', 'meetings', 'would', 'even', 'try', 'get', 'honest', 'opinions', 'whether', 'trip', 'even', 'desired', 'necessary', 'far', 'business', 'meetings', 'think', 'would', 'productive', 'try', 'stimulate', 'discussions', 'across', 'different', 'groups', 'working', 'often', 'presenter', 'speaks', 'others', 'quiet', 'waiting', 'turn', 'meetings', 'might', 'better', 'held', 'round', 'table', 'discussion', 'format', 'suggestion', 'go', 'austin', 'play', 'golf', 'rent', 'ski', 'boat', 'jet', 'ski', 'flying', 'somewhere', 'takes', 'much', 'time']\n"
     ]
    }
   ],
   "source": [
    "from sklearn.feature_extraction.text import TfidfVectorizer\n",
    "\n",
    "text_freque = TfidfVectorizer(smooth_idf=False, sublinear_tf=False, norm=None, analyzer='word')\n",
    "txt_fitted = text_freque.fit(words)\n",
    "txt_transformed = txt_fitted.transform(words)\n",
    "print (\"The text: \", words)"
   ]
  },
  {
   "cell_type": "code",
   "execution_count": 32,
   "metadata": {
    "colab": {
     "base_uri": "https://localhost:8080/",
     "height": 54
    },
    "colab_type": "code",
    "id": "RvAnPbzxcx75",
    "outputId": "66bfb21b-167e-4777-8582-2dcab364aa09"
   },
   "outputs": [
    {
     "name": "stdout",
     "output_type": "stream",
     "text": [
      "{'across': 5.31748811353631, 'austin': 5.31748811353631, 'better': 5.31748811353631, 'boat': 5.31748811353631, 'business': 3.9311937524164198, 'desired': 5.31748811353631, 'different': 5.31748811353631, 'discussion': 5.31748811353631, 'discussions': 5.31748811353631, 'especially': 5.31748811353631, 'even': 4.624340932976365, 'far': 5.31748811353631, 'flying': 5.31748811353631, 'formal': 5.31748811353631, 'format': 5.31748811353631, 'fun': 5.31748811353631, 'get': 5.31748811353631, 'go': 5.31748811353631, 'golf': 5.31748811353631, 'groups': 5.31748811353631, 'held': 5.31748811353631, 'holding': 5.31748811353631, 'honest': 5.31748811353631, 'jet': 5.31748811353631, 'meeting': 5.31748811353631, 'meetings': 3.9311937524164198, 'might': 5.31748811353631, 'much': 5.31748811353631, 'necessary': 5.31748811353631, 'often': 5.31748811353631, 'opinions': 5.31748811353631, 'others': 5.31748811353631, 'plan': 5.31748811353631, 'play': 5.31748811353631, 'prepare': 5.31748811353631, 'presentation': 5.31748811353631, 'presenter': 5.31748811353631, 'productive': 5.31748811353631, 'quiet': 5.31748811353631, 'rent': 5.31748811353631, 'round': 5.31748811353631, 'ski': 4.624340932976365, 'somewhere': 5.31748811353631, 'speaks': 5.31748811353631, 'stimulate': 5.31748811353631, 'suggest': 5.31748811353631, 'suggestion': 5.31748811353631, 'table': 5.31748811353631, 'take': 5.31748811353631, 'takes': 4.624340932976365, 'think': 5.31748811353631, 'time': 5.31748811353631, 'traveling': 5.31748811353631, 'trip': 4.218875824868201, 'try': 4.624340932976365, 'turn': 5.31748811353631, 'waiting': 5.31748811353631, 'whether': 5.31748811353631, 'without': 5.31748811353631, 'working': 5.31748811353631, 'would': 4.218875824868201}\n"
     ]
    }
   ],
   "source": [
    "idfreque = text_freque.idf_\n",
    "print(dict(zip(txt_fitted.get_feature_names(), idfreque)))"
   ]
  },
  {
   "cell_type": "code",
   "execution_count": 33,
   "metadata": {
    "colab": {
     "base_uri": "https://localhost:8080/",
     "height": 1000
    },
    "colab_type": "code",
    "id": "tp7q_UHCczqO",
    "outputId": "bdfa503e-0f6e-4d46-ea28-5c8aee992eed"
   },
   "outputs": [
    {
     "data": {
      "text/plain": [
       "{'traveling': 52,\n",
       " 'business': 4,\n",
       " 'meeting': 24,\n",
       " 'takes': 49,\n",
       " 'fun': 15,\n",
       " 'trip': 53,\n",
       " 'especially': 9,\n",
       " 'prepare': 34,\n",
       " 'presentation': 35,\n",
       " 'would': 60,\n",
       " 'suggest': 45,\n",
       " 'holding': 21,\n",
       " 'plan': 32,\n",
       " 'meetings': 25,\n",
       " 'take': 48,\n",
       " 'without': 58,\n",
       " 'formal': 13,\n",
       " 'even': 10,\n",
       " 'try': 54,\n",
       " 'get': 16,\n",
       " 'honest': 22,\n",
       " 'opinions': 30,\n",
       " 'whether': 57,\n",
       " 'desired': 5,\n",
       " 'necessary': 28,\n",
       " 'far': 11,\n",
       " 'think': 50,\n",
       " 'productive': 37,\n",
       " 'stimulate': 44,\n",
       " 'discussions': 8,\n",
       " 'across': 0,\n",
       " 'different': 6,\n",
       " 'groups': 19,\n",
       " 'working': 59,\n",
       " 'often': 29,\n",
       " 'presenter': 36,\n",
       " 'speaks': 43,\n",
       " 'others': 31,\n",
       " 'quiet': 38,\n",
       " 'waiting': 56,\n",
       " 'turn': 55,\n",
       " 'might': 26,\n",
       " 'better': 2,\n",
       " 'held': 20,\n",
       " 'round': 40,\n",
       " 'table': 47,\n",
       " 'discussion': 7,\n",
       " 'format': 14,\n",
       " 'suggestion': 46,\n",
       " 'go': 17,\n",
       " 'austin': 1,\n",
       " 'play': 33,\n",
       " 'golf': 18,\n",
       " 'rent': 39,\n",
       " 'ski': 41,\n",
       " 'boat': 3,\n",
       " 'jet': 23,\n",
       " 'flying': 12,\n",
       " 'somewhere': 42,\n",
       " 'much': 27,\n",
       " 'time': 51}"
      ]
     },
     "execution_count": 33,
     "metadata": {},
     "output_type": "execute_result"
    }
   ],
   "source": [
    "text_freque.vocabulary_"
   ]
  },
  {
   "cell_type": "code",
   "execution_count": 34,
   "metadata": {
    "colab": {
     "base_uri": "https://localhost:8080/",
     "height": 1000
    },
    "colab_type": "code",
    "id": "pBdx3bBic4WH",
    "outputId": "ff28aee9-d1f2-41a3-e46b-4f706c4a24b7"
   },
   "outputs": [
    {
     "data": {
      "text/plain": [
       "{'across': 5.31748811353631,\n",
       " 'austin': 5.31748811353631,\n",
       " 'better': 5.31748811353631,\n",
       " 'boat': 5.31748811353631,\n",
       " 'business': 3.9311937524164198,\n",
       " 'desired': 5.31748811353631,\n",
       " 'different': 5.31748811353631,\n",
       " 'discussion': 5.31748811353631,\n",
       " 'discussions': 5.31748811353631,\n",
       " 'especially': 5.31748811353631,\n",
       " 'even': 4.624340932976365,\n",
       " 'far': 5.31748811353631,\n",
       " 'flying': 5.31748811353631,\n",
       " 'formal': 5.31748811353631,\n",
       " 'format': 5.31748811353631,\n",
       " 'fun': 5.31748811353631,\n",
       " 'get': 5.31748811353631,\n",
       " 'go': 5.31748811353631,\n",
       " 'golf': 5.31748811353631,\n",
       " 'groups': 5.31748811353631,\n",
       " 'held': 5.31748811353631,\n",
       " 'holding': 5.31748811353631,\n",
       " 'honest': 5.31748811353631,\n",
       " 'jet': 5.31748811353631,\n",
       " 'meeting': 5.31748811353631,\n",
       " 'meetings': 3.9311937524164198,\n",
       " 'might': 5.31748811353631,\n",
       " 'much': 5.31748811353631,\n",
       " 'necessary': 5.31748811353631,\n",
       " 'often': 5.31748811353631,\n",
       " 'opinions': 5.31748811353631,\n",
       " 'others': 5.31748811353631,\n",
       " 'plan': 5.31748811353631,\n",
       " 'play': 5.31748811353631,\n",
       " 'prepare': 5.31748811353631,\n",
       " 'presentation': 5.31748811353631,\n",
       " 'presenter': 5.31748811353631,\n",
       " 'productive': 5.31748811353631,\n",
       " 'quiet': 5.31748811353631,\n",
       " 'rent': 5.31748811353631,\n",
       " 'round': 5.31748811353631,\n",
       " 'ski': 4.624340932976365,\n",
       " 'somewhere': 5.31748811353631,\n",
       " 'speaks': 5.31748811353631,\n",
       " 'stimulate': 5.31748811353631,\n",
       " 'suggest': 5.31748811353631,\n",
       " 'suggestion': 5.31748811353631,\n",
       " 'table': 5.31748811353631,\n",
       " 'take': 5.31748811353631,\n",
       " 'takes': 4.624340932976365,\n",
       " 'think': 5.31748811353631,\n",
       " 'time': 5.31748811353631,\n",
       " 'traveling': 5.31748811353631,\n",
       " 'trip': 4.218875824868201,\n",
       " 'try': 4.624340932976365,\n",
       " 'turn': 5.31748811353631,\n",
       " 'waiting': 5.31748811353631,\n",
       " 'whether': 5.31748811353631,\n",
       " 'without': 5.31748811353631,\n",
       " 'working': 5.31748811353631,\n",
       " 'would': 4.218875824868201}"
      ]
     },
     "execution_count": 34,
     "metadata": {},
     "output_type": "execute_result"
    }
   ],
   "source": [
    "words_dist = dict(zip(txt_fitted.get_feature_names(), idfreque))\n",
    "words_dist"
   ]
  },
  {
   "cell_type": "code",
   "execution_count": 35,
   "metadata": {
    "colab": {
     "base_uri": "https://localhost:8080/",
     "height": 101
    },
    "colab_type": "code",
    "id": "YD0Sy6ZRo5b6",
    "outputId": "3289789a-dec5-4eef-de91-b074e80cbb50"
   },
   "outputs": [
    {
     "name": "stdout",
     "output_type": "stream",
     "text": [
      "Features with lowest id frequence:\n",
      "['business' 'meetings' 'would']\n",
      "\n",
      "Features with highest id frequence:\n",
      "['often' 'get' 'opinions']\n"
     ]
    }
   ],
   "source": [
    "import numpy as np\n",
    "\n",
    "# get feature names\n",
    "feature_names = np.array(text_freque.get_feature_names())\n",
    "sorted_by_idf = np.argsort(text_freque.idf_)\n",
    "print(\"Features with lowest id frequence:\\n{}\".format(feature_names[sorted_by_idf[:3]]))\n",
    "print(\"\\nFeatures with highest id frequence:\\n{}\".format(feature_names[sorted_by_idf[-3:]]))"
   ]
  },
  {
   "cell_type": "markdown",
   "metadata": {
    "colab_type": "text",
    "id": "0w1c1L8QkmO-"
   },
   "source": [
    "TFID VECTORIZER  - Transforms text to feature vectors\n"
   ]
  },
  {
   "cell_type": "code",
   "execution_count": 38,
   "metadata": {
    "colab": {
     "base_uri": "https://localhost:8080/",
     "height": 215
    },
    "colab_type": "code",
    "id": "K3Rrh2M7kmkl",
    "outputId": "556718c8-4cc7-477f-9f93-8299a6dc076f"
   },
   "outputs": [
    {
     "data": {
      "text/html": [
       "<div>\n",
       "<style scoped>\n",
       "    .dataframe tbody tr th:only-of-type {\n",
       "        vertical-align: middle;\n",
       "    }\n",
       "\n",
       "    .dataframe tbody tr th {\n",
       "        vertical-align: top;\n",
       "    }\n",
       "\n",
       "    .dataframe thead th {\n",
       "        text-align: right;\n",
       "    }\n",
       "</style>\n",
       "<table border=\"1\" class=\"dataframe\">\n",
       "  <thead>\n",
       "    <tr style=\"text-align: right;\">\n",
       "      <th></th>\n",
       "      <th>austin</th>\n",
       "      <th>better</th>\n",
       "      <th>boat</th>\n",
       "      <th>business</th>\n",
       "      <th>desired</th>\n",
       "      <th>different</th>\n",
       "      <th>discussion</th>\n",
       "      <th>discussions</th>\n",
       "      <th>especially</th>\n",
       "      <th>far</th>\n",
       "      <th>...</th>\n",
       "      <th>table</th>\n",
       "      <th>takes</th>\n",
       "      <th>think</th>\n",
       "      <th>time</th>\n",
       "      <th>traveling</th>\n",
       "      <th>trip</th>\n",
       "      <th>try</th>\n",
       "      <th>turn</th>\n",
       "      <th>waiting</th>\n",
       "      <th>working</th>\n",
       "    </tr>\n",
       "  </thead>\n",
       "  <tbody>\n",
       "    <tr>\n",
       "      <th>0</th>\n",
       "      <td>0.0</td>\n",
       "      <td>0.0</td>\n",
       "      <td>0.0</td>\n",
       "      <td>0.0</td>\n",
       "      <td>0.0</td>\n",
       "      <td>0.0</td>\n",
       "      <td>0.0</td>\n",
       "      <td>0.0</td>\n",
       "      <td>0.0</td>\n",
       "      <td>0.0</td>\n",
       "      <td>...</td>\n",
       "      <td>0.0</td>\n",
       "      <td>0.0</td>\n",
       "      <td>0.0</td>\n",
       "      <td>0.0</td>\n",
       "      <td>1.0</td>\n",
       "      <td>0.0</td>\n",
       "      <td>0.0</td>\n",
       "      <td>0.0</td>\n",
       "      <td>0.0</td>\n",
       "      <td>0.0</td>\n",
       "    </tr>\n",
       "    <tr>\n",
       "      <th>1</th>\n",
       "      <td>0.0</td>\n",
       "      <td>0.0</td>\n",
       "      <td>0.0</td>\n",
       "      <td>1.0</td>\n",
       "      <td>0.0</td>\n",
       "      <td>0.0</td>\n",
       "      <td>0.0</td>\n",
       "      <td>0.0</td>\n",
       "      <td>0.0</td>\n",
       "      <td>0.0</td>\n",
       "      <td>...</td>\n",
       "      <td>0.0</td>\n",
       "      <td>0.0</td>\n",
       "      <td>0.0</td>\n",
       "      <td>0.0</td>\n",
       "      <td>0.0</td>\n",
       "      <td>0.0</td>\n",
       "      <td>0.0</td>\n",
       "      <td>0.0</td>\n",
       "      <td>0.0</td>\n",
       "      <td>0.0</td>\n",
       "    </tr>\n",
       "    <tr>\n",
       "      <th>2</th>\n",
       "      <td>0.0</td>\n",
       "      <td>0.0</td>\n",
       "      <td>0.0</td>\n",
       "      <td>0.0</td>\n",
       "      <td>0.0</td>\n",
       "      <td>0.0</td>\n",
       "      <td>0.0</td>\n",
       "      <td>0.0</td>\n",
       "      <td>0.0</td>\n",
       "      <td>0.0</td>\n",
       "      <td>...</td>\n",
       "      <td>0.0</td>\n",
       "      <td>0.0</td>\n",
       "      <td>0.0</td>\n",
       "      <td>0.0</td>\n",
       "      <td>0.0</td>\n",
       "      <td>0.0</td>\n",
       "      <td>0.0</td>\n",
       "      <td>0.0</td>\n",
       "      <td>0.0</td>\n",
       "      <td>0.0</td>\n",
       "    </tr>\n",
       "    <tr>\n",
       "      <th>3</th>\n",
       "      <td>0.0</td>\n",
       "      <td>0.0</td>\n",
       "      <td>0.0</td>\n",
       "      <td>0.0</td>\n",
       "      <td>0.0</td>\n",
       "      <td>0.0</td>\n",
       "      <td>0.0</td>\n",
       "      <td>0.0</td>\n",
       "      <td>0.0</td>\n",
       "      <td>0.0</td>\n",
       "      <td>...</td>\n",
       "      <td>0.0</td>\n",
       "      <td>1.0</td>\n",
       "      <td>0.0</td>\n",
       "      <td>0.0</td>\n",
       "      <td>0.0</td>\n",
       "      <td>0.0</td>\n",
       "      <td>0.0</td>\n",
       "      <td>0.0</td>\n",
       "      <td>0.0</td>\n",
       "      <td>0.0</td>\n",
       "    </tr>\n",
       "    <tr>\n",
       "      <th>4</th>\n",
       "      <td>0.0</td>\n",
       "      <td>0.0</td>\n",
       "      <td>0.0</td>\n",
       "      <td>0.0</td>\n",
       "      <td>0.0</td>\n",
       "      <td>0.0</td>\n",
       "      <td>0.0</td>\n",
       "      <td>0.0</td>\n",
       "      <td>0.0</td>\n",
       "      <td>0.0</td>\n",
       "      <td>...</td>\n",
       "      <td>0.0</td>\n",
       "      <td>0.0</td>\n",
       "      <td>0.0</td>\n",
       "      <td>0.0</td>\n",
       "      <td>0.0</td>\n",
       "      <td>0.0</td>\n",
       "      <td>0.0</td>\n",
       "      <td>0.0</td>\n",
       "      <td>0.0</td>\n",
       "      <td>0.0</td>\n",
       "    </tr>\n",
       "  </tbody>\n",
       "</table>\n",
       "<p>5 rows × 48 columns</p>\n",
       "</div>"
      ],
      "text/plain": [
       "   austin  better  boat  business  desired  different  discussion  \\\n",
       "0     0.0     0.0   0.0       0.0      0.0        0.0         0.0   \n",
       "1     0.0     0.0   0.0       1.0      0.0        0.0         0.0   \n",
       "2     0.0     0.0   0.0       0.0      0.0        0.0         0.0   \n",
       "3     0.0     0.0   0.0       0.0      0.0        0.0         0.0   \n",
       "4     0.0     0.0   0.0       0.0      0.0        0.0         0.0   \n",
       "\n",
       "   discussions  especially  far  ...  table  takes  think  time  traveling  \\\n",
       "0          0.0         0.0  0.0  ...    0.0    0.0    0.0   0.0        1.0   \n",
       "1          0.0         0.0  0.0  ...    0.0    0.0    0.0   0.0        0.0   \n",
       "2          0.0         0.0  0.0  ...    0.0    0.0    0.0   0.0        0.0   \n",
       "3          0.0         0.0  0.0  ...    0.0    1.0    0.0   0.0        0.0   \n",
       "4          0.0         0.0  0.0  ...    0.0    0.0    0.0   0.0        0.0   \n",
       "\n",
       "   trip  try  turn  waiting  working  \n",
       "0   0.0  0.0   0.0      0.0      0.0  \n",
       "1   0.0  0.0   0.0      0.0      0.0  \n",
       "2   0.0  0.0   0.0      0.0      0.0  \n",
       "3   0.0  0.0   0.0      0.0      0.0  \n",
       "4   0.0  0.0   0.0      0.0      0.0  \n",
       "\n",
       "[5 rows x 48 columns]"
      ]
     },
     "execution_count": 38,
     "metadata": {},
     "output_type": "execute_result"
    }
   ],
   "source": [
    "from sklearn.feature_extraction.text import TfidfVectorizer\n",
    "\n",
    "# Instantiate vectorizer object\n",
    "tfidf = TfidfVectorizer(stop_words='english', max_features=5000)\n",
    "\n",
    "# Create a vocabulary and get word counts per document\n",
    "data = tfidf.fit_transform(words) # Similiar to fit_predict\n",
    "\n",
    "# Print word counts\n",
    "\n",
    "# Get feature names to use as dataframe column headers\n",
    "data = pd.DataFrame(data.todense(), columns=tfidf.get_feature_names())\n",
    "\n",
    "# View Feature Matrix as DataFrame\n",
    "data.head()"
   ]
  },
  {
   "cell_type": "code",
   "execution_count": 39,
   "metadata": {
    "colab": {},
    "colab_type": "code",
    "id": "RPAcsAgBk-lV"
   },
   "outputs": [],
   "source": [
    "#TOKENIZER AND LEMMA\n",
    "def tokenize(document):\n",
    "    \n",
    "    doc = nlp(document)\n",
    "    \n",
    "    return [token.lemma_.strip() for token in doc if (token.is_stop != True) and (token.is_punct != True)]"
   ]
  },
  {
   "cell_type": "code",
   "execution_count": 40,
   "metadata": {
    "colab": {
     "base_uri": "https://localhost:8080/",
     "height": 195
    },
    "colab_type": "code",
    "id": "w7WuExkXkqHr",
    "outputId": "89d8fa1a-e97e-4084-bf2b-ccfb7db20dff"
   },
   "outputs": [
    {
     "data": {
      "text/html": [
       "<div>\n",
       "<style scoped>\n",
       "    .dataframe tbody tr th:only-of-type {\n",
       "        vertical-align: middle;\n",
       "    }\n",
       "\n",
       "    .dataframe tbody tr th {\n",
       "        vertical-align: top;\n",
       "    }\n",
       "\n",
       "    .dataframe thead th {\n",
       "        text-align: right;\n",
       "    }\n",
       "</style>\n",
       "<table border=\"1\" class=\"dataframe\">\n",
       "  <thead>\n",
       "    <tr style=\"text-align: right;\">\n",
       "      <th></th>\n",
       "      <th>business</th>\n",
       "      <th>meeting</th>\n",
       "      <th>trip</th>\n",
       "    </tr>\n",
       "  </thead>\n",
       "  <tbody>\n",
       "    <tr>\n",
       "      <th>0</th>\n",
       "      <td>0.0</td>\n",
       "      <td>0.0</td>\n",
       "      <td>0.0</td>\n",
       "    </tr>\n",
       "    <tr>\n",
       "      <th>1</th>\n",
       "      <td>1.0</td>\n",
       "      <td>0.0</td>\n",
       "      <td>0.0</td>\n",
       "    </tr>\n",
       "    <tr>\n",
       "      <th>2</th>\n",
       "      <td>0.0</td>\n",
       "      <td>1.0</td>\n",
       "      <td>0.0</td>\n",
       "    </tr>\n",
       "    <tr>\n",
       "      <th>3</th>\n",
       "      <td>0.0</td>\n",
       "      <td>0.0</td>\n",
       "      <td>0.0</td>\n",
       "    </tr>\n",
       "    <tr>\n",
       "      <th>4</th>\n",
       "      <td>0.0</td>\n",
       "      <td>0.0</td>\n",
       "      <td>0.0</td>\n",
       "    </tr>\n",
       "  </tbody>\n",
       "</table>\n",
       "</div>"
      ],
      "text/plain": [
       "   business  meeting  trip\n",
       "0       0.0      0.0   0.0\n",
       "1       1.0      0.0   0.0\n",
       "2       0.0      1.0   0.0\n",
       "3       0.0      0.0   0.0\n",
       "4       0.0      0.0   0.0"
      ]
     },
     "execution_count": 40,
     "metadata": {},
     "output_type": "execute_result"
    }
   ],
   "source": [
    "# Instantiate vectorizer object\n",
    "tfidf = TfidfVectorizer(stop_words='english', \n",
    "                        ngram_range=(1,2),\n",
    "                        max_df=.97,\n",
    "                        min_df=3,\n",
    "                        tokenizer=tokenize)\n",
    "\n",
    "# Create a vocabulary and get word counts per document\n",
    "data = tfidf.fit_transform(words) # Similiar to fit_predict\n",
    "\n",
    "# Print word counts\n",
    "\n",
    "# Get feature names to use as dataframe column headers\n",
    "data = pd.DataFrame(data.todense(), columns=tfidf.get_feature_names())\n",
    "\n",
    "# View Feature Matrix as DataFrame\n",
    "data.head()"
   ]
  },
  {
   "cell_type": "code",
   "execution_count": 41,
   "metadata": {
    "colab": {},
    "colab_type": "code",
    "id": "ZpHoAw11krRO"
   },
   "outputs": [],
   "source": [
    "from sklearn.metrics.pairwise import cosine_similarity\n",
    "\n",
    "# Calculate Distance of TF-IDF Vectors\n",
    "dist_matrix  = cosine_similarity(data)\n",
    "\n",
    "# Turn it into a DataFrame\n",
    "df = pd.DataFrame(dist_matrix)"
   ]
  },
  {
   "cell_type": "code",
   "execution_count": 42,
   "metadata": {
    "colab": {
     "base_uri": "https://localhost:8080/",
     "height": 34
    },
    "colab_type": "code",
    "id": "zqDJ8z75kuEF",
    "outputId": "6dcee01f-17d8-4b4f-b2e7-35c3ba045beb"
   },
   "outputs": [
    {
     "data": {
      "text/plain": [
       "'trip'"
      ]
     },
     "execution_count": 42,
     "metadata": {},
     "output_type": "execute_result"
    }
   ],
   "source": [
    "words[5][:300]"
   ]
  },
  {
   "cell_type": "code",
   "execution_count": 43,
   "metadata": {
    "colab": {
     "base_uri": "https://localhost:8080/",
     "height": 34
    },
    "colab_type": "code",
    "id": "2o3usgVQou28",
    "outputId": "821fe043-cee5-43fa-a825-600562b64e0e"
   },
   "outputs": [
    {
     "name": "stdout",
     "output_type": "stream",
     "text": [
      "business\n"
     ]
    }
   ],
   "source": [
    "print(words[12][:130])"
   ]
  },
  {
   "cell_type": "code",
   "execution_count": 44,
   "metadata": {
    "colab": {
     "base_uri": "https://localhost:8080/",
     "height": 34
    },
    "colab_type": "code",
    "id": "9ZQ4GIvsozBX",
    "outputId": "2da32c01-1870-488f-beec-e61dd6de1d1f"
   },
   "outputs": [
    {
     "data": {
      "text/plain": [
       "4.0"
      ]
     },
     "execution_count": 44,
     "metadata": {},
     "output_type": "execute_result"
    }
   ],
   "source": [
    "sum(data['business'])"
   ]
  },
  {
   "cell_type": "markdown",
   "metadata": {
    "colab_type": "text",
    "id": "Ts-bFIXnA9VO"
   },
   "source": [
    "Json and CSV"
   ]
  },
  {
   "cell_type": "code",
   "execution_count": null,
   "metadata": {
    "colab": {},
    "colab_type": "code",
    "id": "dASjbIr2BDjm"
   },
   "outputs": [],
   "source": [
    "def save_data_frame_as_csv(df=None, file=None):\n",
    "    \"\"\"\n",
    "    Save a Pandas DataFrame to CSV format.\n",
    "    \"\"\"\n",
    "    try:\n",
    "        if not file.endswith('.csv'):\n",
    "            file += '.csv'\n",
    "        df.to_csv(file, index=False)\n",
    "        print(f'DataFrame saved as: {file}')\n",
    "    except Exception as e:\n",
    "        print(\"DataFrame couldn't be saved: \", sys.exc_info()[0])\n",
    "        raise"
   ]
  },
  {
   "cell_type": "code",
   "execution_count": null,
   "metadata": {
    "colab": {},
    "colab_type": "code",
    "id": "Re0T9m8XBED6"
   },
   "outputs": [],
   "source": [
    "save_data_frame_as_csv(df, './merged_data.csv')"
   ]
  },
  {
   "cell_type": "code",
   "execution_count": null,
   "metadata": {
    "colab": {},
    "colab_type": "code",
    "id": "nItj_UHNBHY5"
   },
   "outputs": [],
   "source": [
    "def save_data_frame_as_json(df=None, file=None, orient='records'):\n",
    "  \"\"\"\n",
    "  Save a Pandas DataFrame to Json format.\n",
    "  \"\"\"\n",
    "  try:\n",
    "    if not file.endswith('.json'):\n",
    "      file += '.json'\n",
    "    df.to_json(file, orient=orient)\n",
    "    print(f'Dataframe saved as: {file}')\n",
    "  except Exception as e:\n",
    "    print(\"Dataframe couldn't be saved: \", sys.exc_info()[0])\n",
    "    raise"
   ]
  },
  {
   "cell_type": "code",
   "execution_count": null,
   "metadata": {
    "colab": {},
    "colab_type": "code",
    "id": "_SGrntpdBPFm"
   },
   "outputs": [],
   "source": [
    "save_data_frame_as_json(df, '.merged_data.json', orient='records')"
   ]
  }
 ],
 "metadata": {
  "accelerator": "GPU",
  "colab": {
   "collapsed_sections": [],
   "name": "SmartEmailTags.ipynb",
   "provenance": []
  },
  "kernelspec": {
   "display_name": "U4-S1-NLP (Python3)",
   "language": "python",
   "name": "u4-s1-nlp"
  },
  "language_info": {
   "codemirror_mode": {
    "name": "ipython",
    "version": 3
   },
   "file_extension": ".py",
   "mimetype": "text/x-python",
   "name": "python",
   "nbconvert_exporter": "python",
   "pygments_lexer": "ipython3",
   "version": "3.7.0"
  }
 },
 "nbformat": 4,
 "nbformat_minor": 4
}
