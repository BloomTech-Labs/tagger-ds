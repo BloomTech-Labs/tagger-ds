{
 "cells": [
  {
   "cell_type": "markdown",
   "metadata": {
    "colab_type": "text",
    "id": "OGa-3IJ0czGT"
   },
   "source": [
    "#TAG SMART EMAILS\n",
    "\n",
    "GENSIM AND LDA\n",
    "\n",
    "https://radimrehurek.com/gensim/apiref.html"
   ]
  },
  {
   "cell_type": "code",
   "execution_count": 12,
   "metadata": {
    "colab": {},
    "colab_type": "code",
    "id": "4wYWP2ayYZs0"
   },
   "outputs": [],
   "source": [
    "#Library\n",
    "from gensim.corpora import Dictionary\n",
    "from gensim.models.ldamulticore import LdaMulticore\n",
    "from gensim.models.coherencemodel import CoherenceModel\n",
    "import spacy\n",
    "import pandas as pd"
   ]
  },
  {
   "cell_type": "code",
   "execution_count": 13,
   "metadata": {
    "colab": {
     "base_uri": "https://localhost:8080/",
     "height": 34
    },
    "colab_type": "code",
    "id": "v2RfLweVYZs5",
    "outputId": "fd1e51a0-878b-4e62-b52c-fc0526c63ad6"
   },
   "outputs": [
    {
     "data": {
      "text/plain": [
       "'C:\\\\Users\\\\HomePC\\\\tagger-ds'"
      ]
     },
     "execution_count": 13,
     "metadata": {},
     "output_type": "execute_result"
    }
   ],
   "source": [
    "%pwd"
   ]
  },
  {
   "cell_type": "code",
   "execution_count": 24,
   "metadata": {
    "colab": {
     "base_uri": "https://localhost:8080/",
     "height": 34
    },
    "colab_type": "code",
    "id": "jQeR-whKrj0j",
    "outputId": "767271c7-85ff-4e0b-d1ea-c61f4f251f71"
   },
   "outputs": [
    {
     "data": {
      "text/plain": [
       "24004915"
      ]
     },
     "execution_count": 24,
     "metadata": {},
     "output_type": "execute_result"
    }
   ],
   "source": [
    "import requests\n",
    "url = 'https://raw.githubusercontent.com/Moly-malibu/Tag-Smart-Emails/master/Enronemails.csv?token=AN2RW2FK3OPVHW7HTK5AKZS624Z7U'\n",
    "myfile = requests.get(url)\n",
    "open('email.csv', 'wb').write(myfile.content)"
   ]
  },
  {
   "cell_type": "code",
   "execution_count": 25,
   "metadata": {
    "colab": {
     "base_uri": "https://localhost:8080/",
     "height": 271
    },
    "colab_type": "code",
    "id": "oIl2fVRnYZs-",
    "outputId": "1f2b0ab4-1594-4f31-c95a-2f9654ff140d"
   },
   "outputs": [
    {
     "name": "stdout",
     "output_type": "stream",
     "text": [
      "(10000, 2)\n"
     ]
    },
    {
     "data": {
      "text/html": [
       "<div>\n",
       "<style scoped>\n",
       "    .dataframe tbody tr th:only-of-type {\n",
       "        vertical-align: middle;\n",
       "    }\n",
       "\n",
       "    .dataframe tbody tr th {\n",
       "        vertical-align: top;\n",
       "    }\n",
       "\n",
       "    .dataframe thead th {\n",
       "        text-align: right;\n",
       "    }\n",
       "</style>\n",
       "<table border=\"1\" class=\"dataframe\">\n",
       "  <thead>\n",
       "    <tr style=\"text-align: right;\">\n",
       "      <th></th>\n",
       "      <th>file</th>\n",
       "      <th>message</th>\n",
       "    </tr>\n",
       "  </thead>\n",
       "  <tbody>\n",
       "    <tr>\n",
       "      <th>0</th>\n",
       "      <td>allen-p/_sent_mail/1.</td>\n",
       "      <td>Message-ID: &lt;18782981.1075855378110.JavaMail.e...</td>\n",
       "    </tr>\n",
       "    <tr>\n",
       "      <th>1</th>\n",
       "      <td>allen-p/_sent_mail/10.</td>\n",
       "      <td>Message-ID: &lt;15464986.1075855378456.JavaMail.e...</td>\n",
       "    </tr>\n",
       "    <tr>\n",
       "      <th>2</th>\n",
       "      <td>allen-p/_sent_mail/100.</td>\n",
       "      <td>Message-ID: &lt;24216240.1075855687451.JavaMail.e...</td>\n",
       "    </tr>\n",
       "    <tr>\n",
       "      <th>3</th>\n",
       "      <td>allen-p/_sent_mail/1000.</td>\n",
       "      <td>Message-ID: &lt;13505866.1075863688222.JavaMail.e...</td>\n",
       "    </tr>\n",
       "    <tr>\n",
       "      <th>4</th>\n",
       "      <td>allen-p/_sent_mail/1001.</td>\n",
       "      <td>Message-ID: &lt;30922949.1075863688243.JavaMail.e...</td>\n",
       "    </tr>\n",
       "    <tr>\n",
       "      <th>5</th>\n",
       "      <td>allen-p/_sent_mail/1002.</td>\n",
       "      <td>Message-ID: &lt;30965995.1075863688265.JavaMail.e...</td>\n",
       "    </tr>\n",
       "    <tr>\n",
       "      <th>6</th>\n",
       "      <td>allen-p/_sent_mail/1003.</td>\n",
       "      <td>Message-ID: &lt;16254169.1075863688286.JavaMail.e...</td>\n",
       "    </tr>\n",
       "  </tbody>\n",
       "</table>\n",
       "</div>"
      ],
      "text/plain": [
       "                       file                                            message\n",
       "0     allen-p/_sent_mail/1.  Message-ID: <18782981.1075855378110.JavaMail.e...\n",
       "1    allen-p/_sent_mail/10.  Message-ID: <15464986.1075855378456.JavaMail.e...\n",
       "2   allen-p/_sent_mail/100.  Message-ID: <24216240.1075855687451.JavaMail.e...\n",
       "3  allen-p/_sent_mail/1000.  Message-ID: <13505866.1075863688222.JavaMail.e...\n",
       "4  allen-p/_sent_mail/1001.  Message-ID: <30922949.1075863688243.JavaMail.e...\n",
       "5  allen-p/_sent_mail/1002.  Message-ID: <30965995.1075863688265.JavaMail.e...\n",
       "6  allen-p/_sent_mail/1003.  Message-ID: <16254169.1075863688286.JavaMail.e..."
      ]
     },
     "execution_count": 25,
     "metadata": {},
     "output_type": "execute_result"
    }
   ],
   "source": [
    "#EMAILS FROM ENRON COMPANY SAMPLING\n",
    "df = pd.read_csv(\"email.csv\").drop(['Unnamed: 0'], axis=1)\n",
    "print(df.shape) \n",
    "df.head(7)"
   ]
  },
  {
   "cell_type": "code",
   "execution_count": 26,
   "metadata": {
    "colab": {
     "base_uri": "https://localhost:8080/",
     "height": 390
    },
    "colab_type": "code",
    "id": "GXR_9XPLeN-n",
    "outputId": "f8738233-ff32-4bab-cf99-af0e9bb602e2"
   },
   "outputs": [
    {
     "data": {
      "text/plain": [
       "['Message-ID: <15464986.1075855378456.JavaMail.evans@thyme>',\n",
       " 'Date: Fri, 4 May 2001 13:51:00 -0700 (PDT)',\n",
       " 'From: phillip.allen@enron.com',\n",
       " 'To: john.lavorato@enron.com',\n",
       " 'Subject: Re:',\n",
       " 'Mime-Version: 1.0',\n",
       " 'Content-Type: text/plain; charset=us-ascii',\n",
       " 'Content-Transfer-Encoding: 7bit',\n",
       " 'X-From: Phillip K Allen',\n",
       " 'X-To: John J Lavorato <John J Lavorato/ENRON@enronXgate@ENRON>',\n",
       " 'X-cc:',\n",
       " 'X-bcc:',\n",
       " \"X-Folder: \\\\Phillip_Allen_Jan2002_1\\\\Allen, Phillip K.\\\\'Sent Mail\",\n",
       " 'X-Origin: Allen-P',\n",
       " 'X-FileName: pallen (Non-Privileged).pst',\n",
       " '',\n",
       " 'Traveling to have a business meeting takes the fun out of the trip.  Especially if you have to prepare a presentation.  I would suggest holding the business plan meetings here then take a trip without any formal business meetings.  I would even try and get some honest opinions on whether a trip is even desired or necessary.',\n",
       " '',\n",
       " 'As far as the business meetings, I think it would be more productive to try and stimulate discussions across the different groups about what is working and what is not.  Too often the presenter speaks and the others are quiet just waiting for their turn.   The meetings might be better if held in a round table discussion format.',\n",
       " '',\n",
       " \"My suggestion for where to go is Austin.  Play golf and rent a ski boat and jet ski's.  Flying somewhere takes too much time.\"]"
      ]
     },
     "execution_count": 26,
     "metadata": {},
     "output_type": "execute_result"
    }
   ],
   "source": [
    "#TO GET EMAIL BODY\n",
    "[s.strip() for s in df['message'][1].splitlines()]"
   ]
  },
  {
   "cell_type": "code",
   "execution_count": 27,
   "metadata": {
    "colab": {},
    "colab_type": "code",
    "id": "cobxnIcPeREl"
   },
   "outputs": [],
   "source": [
    "email = ' '.join([s.strip() for s in df['message'][1].splitlines()][15:])"
   ]
  },
  {
   "cell_type": "code",
   "execution_count": 28,
   "metadata": {
    "colab": {
     "base_uri": "https://localhost:8080/",
     "height": 195
    },
    "colab_type": "code",
    "id": "Lqux2nRyebXX",
    "outputId": "59a06568-5117-41d4-a71a-1a87280ed7c3"
   },
   "outputs": [
    {
     "data": {
      "text/html": [
       "<div>\n",
       "<style scoped>\n",
       "    .dataframe tbody tr th:only-of-type {\n",
       "        vertical-align: middle;\n",
       "    }\n",
       "\n",
       "    .dataframe tbody tr th {\n",
       "        vertical-align: top;\n",
       "    }\n",
       "\n",
       "    .dataframe thead th {\n",
       "        text-align: right;\n",
       "    }\n",
       "</style>\n",
       "<table border=\"1\" class=\"dataframe\">\n",
       "  <thead>\n",
       "    <tr style=\"text-align: right;\">\n",
       "      <th></th>\n",
       "      <th>file</th>\n",
       "      <th>message</th>\n",
       "      <th>email_body</th>\n",
       "    </tr>\n",
       "  </thead>\n",
       "  <tbody>\n",
       "    <tr>\n",
       "      <th>0</th>\n",
       "      <td>allen-p/_sent_mail/1.</td>\n",
       "      <td>Message-ID: &lt;18782981.1075855378110.JavaMail.e...</td>\n",
       "      <td>Here is our forecast</td>\n",
       "    </tr>\n",
       "    <tr>\n",
       "      <th>1</th>\n",
       "      <td>allen-p/_sent_mail/10.</td>\n",
       "      <td>Message-ID: &lt;15464986.1075855378456.JavaMail.e...</td>\n",
       "      <td>Traveling to have a business meeting takes th...</td>\n",
       "    </tr>\n",
       "    <tr>\n",
       "      <th>2</th>\n",
       "      <td>allen-p/_sent_mail/100.</td>\n",
       "      <td>Message-ID: &lt;24216240.1075855687451.JavaMail.e...</td>\n",
       "      <td>test successful.  way to go!!!</td>\n",
       "    </tr>\n",
       "    <tr>\n",
       "      <th>3</th>\n",
       "      <td>allen-p/_sent_mail/1000.</td>\n",
       "      <td>Message-ID: &lt;13505866.1075863688222.JavaMail.e...</td>\n",
       "      <td>Randy,  Can you send me a schedule of the sal...</td>\n",
       "    </tr>\n",
       "    <tr>\n",
       "      <th>4</th>\n",
       "      <td>allen-p/_sent_mail/1001.</td>\n",
       "      <td>Message-ID: &lt;30922949.1075863688243.JavaMail.e...</td>\n",
       "      <td>Let's shoot for Tuesday at 11:45.</td>\n",
       "    </tr>\n",
       "  </tbody>\n",
       "</table>\n",
       "</div>"
      ],
      "text/plain": [
       "                       file  \\\n",
       "0     allen-p/_sent_mail/1.   \n",
       "1    allen-p/_sent_mail/10.   \n",
       "2   allen-p/_sent_mail/100.   \n",
       "3  allen-p/_sent_mail/1000.   \n",
       "4  allen-p/_sent_mail/1001.   \n",
       "\n",
       "                                             message  \\\n",
       "0  Message-ID: <18782981.1075855378110.JavaMail.e...   \n",
       "1  Message-ID: <15464986.1075855378456.JavaMail.e...   \n",
       "2  Message-ID: <24216240.1075855687451.JavaMail.e...   \n",
       "3  Message-ID: <13505866.1075863688222.JavaMail.e...   \n",
       "4  Message-ID: <30922949.1075863688243.JavaMail.e...   \n",
       "\n",
       "                                          email_body  \n",
       "0                             Here is our forecast    \n",
       "1   Traveling to have a business meeting takes th...  \n",
       "2                     test successful.  way to go!!!  \n",
       "3   Randy,  Can you send me a schedule of the sal...  \n",
       "4                  Let's shoot for Tuesday at 11:45.  "
      ]
     },
     "execution_count": 28,
     "metadata": {},
     "output_type": "execute_result"
    }
   ],
   "source": [
    "#CLEAN EMAIL BODY\n",
    "def cleanemail(email):\n",
    "    return ' '.join([s.strip() for s in email.splitlines()][15:])\n",
    "\n",
    "df['email_body'] = df['message'].apply(cleanemail)\n",
    "\n",
    "df.head()"
   ]
  },
  {
   "cell_type": "code",
   "execution_count": 29,
   "metadata": {
    "colab": {
     "base_uri": "https://localhost:8080/",
     "height": 373
    },
    "colab_type": "code",
    "id": "pDqHSrvx2Mig",
    "outputId": "adacbf2e-c13d-48bc-f8d1-b45bc1797e7c"
   },
   "outputs": [
    {
     "name": "stdout",
     "output_type": "stream",
     "text": [
      " Thank you very,very much. Love you, John     Liz M Taylor 06/15/2000 10:19 AM To: Ina Rangel/HOU/ECT@ECT cc: John Arnold/HOU/ECT@ECT Subject: Re: PLEASE,PLEASE,PLEASE  Ina,  Because Johnny is my favorite trader, he can use my world phone.  What time is he leaving tomorrow?  How long will he be gone?  I'll get everything to you late this afternoon.  Many Thanks,  Liz    Ina Rangel 06/15/2000 09:41 AM To: Liz M Taylor/HOU/ECT@ECT cc: Subject: PLEASE,PLEASE,PLEASE  I NEED YOUR HELP IF AT ALL POSSIBLE.  JOHN ARNOLD IS TRAVELING TO EUROPE TOMMORROW AND HAS ASKED ME TO GET HIM A WORLD PHONE.  I CALLED NEXTEL, HOUSTON CELLULAR AND GTE. NOONE CAN HELP ME WITH THIS BY TOMMORROW.  IF I REMEMBER YOU SAID YOU TURNED OFF THE PHONES YOU HAD.  DO YOU HAVE ANY SUGGESTIONS? ANY ADVICE?  -INA    \n",
      "\n",
      "X-Origin: ARNOLD-J X-FileName: jarnold.nsf  Jeff,  As of Dec 14th, Enron received the message regarding David Spurlin greater involvement in the EBS relationship.   In the past, EBS had included David on the direction of our relationship and not the details.   Our prior direction was to have Derrick Deakins as our key point of communication.  In regards to your comment about amending the Agreement.   I would like to fill yourself, David and Bob in on some history.   During the meetings in August 2000,  EBS and Compaq reviewed the Agreement line by line and identified 5 sections to be clarified / amended.  There was a group of at least 8 Compaq attendees (Chris Sweet took extensive notes for Compaq).  Both EBS and Compaq agreed on the methodology to calculate the value of the Compaq Minimum Annual Spend of EBS Services.   Spreadsheets were exchanged between both Parties and the amounts were agreed upon.   A significant amount of time was spent in this process between August through October.   EBS and Compaq (Derrick Deakins) developed contract language to clarify the outstanding 5 sections.   This contract amendment was sent to Compaq (Rob and Derrick) for comments in November.   EBS has not heard anything regarding the language. During the course of these discussions, EBS agreed to concede on certain points of interpretation on the Server Purchase Agreement and Compaq agreed to work with EBS to achieve revenue recognition in 2000.   The EBS concessions were used by both Parties to develop the methodology to calculate the Compaq Minimum Spend toward EBS Services.  This was reason for the development of the EBS Consulting Payment ($832,000).  EBS looks forward to the resolution of these issues and moving forward with our relationship.  Kim Godfrey Director, Enterprise Services Enron Broadband Services phone : 713 345 8813 cell :      713 501 8105 fax:        713 853 7354    Jeff.Gooden@compaq.com 12/18/00 07:58 PM  To: Kim Godfrey/Enron Communications@Enron Communications cc: Subject: RE: Compaq / EBS Relationship  Kim,  Thank you for including me in this email...I agree, without question, Dave Spurlin \"Owns\" the Enron/Compaq relationship, from Compaq's perspective. All matters should go through Dave...Thank you, this will make your life easier.  Although I was not in the entire meeting with yourself, Keith and Rob; My reaction was that this agreement needs to be amended to protect both Enron and Compaq.  We are both exposed to potential unnecessary pitfalls that are clearly evident in the original agreement.  We look forward to resolving this issue, amending this agreement, and moving forward in the partnership between Enron and Compaq.  Sincerely,  Jeff Gooden Enterprise Sales Manager Compaq Computer Corporation (281) 927-3500   -----Original Message----- From: Kim_Godfrey@enron.net [mailto:Kim_Godfrey@enron.net] Sent: Monday, December 18, 2000 5:54 PM To: Gooden, Jeff Subject: Compaq / EBS Relationship     Jeff,  David asked that I include you in future Emails.  thanks,  Kim G ----- Forwarded by Kim Godfrey/Enron Communications on 12/18/00 05:57 PM ----- |--------+-----------------------> |        |          Kim Godfrey  | |        |                       | |        |          12/18/00     | |        |          05:49 PM     | |        |                       | |--------+----------------------->  >--------------------------------------------------------------------------- -| | | |       To:     bob.jordan@compaq.com, david.spurlin@compaq.com | |       cc:     Jim Crowder/Enron Communications@Enron Communications, | |       Everett Plante/Enron Communications@Enron Communications, Tracy | |       Prater/Enron Communications@Enron Communications, | |       derrick.deakins@compaq.com, Gil Melman/Enron Communications@Enron | |       Communications | |       Subject:     Compaq / EBS Relationship |  >--------------------------------------------------------------------------- -|    David and Bob,  We look forward to working with you to strengthen the Compaq and EBS relationship.   EBS has identified potential server business opportunities (storage, streaming media) where our two organizations can work together. After our meeting on Dec 14th, EBS now understands to utilize David Spurlin as the point person for these communications.  EBS had prior direction from Compaq to direct our discussions to Derrick Deakins, Rob Senders, Keith McAuliffe or Kent Major.  Tracy Prater and myself look forward to spending additional time with David to ensure that he is aware of the EBS business opportunities and issues.  EBS had invested significant dollars, time and energy with Compaq to develop the streaming media server solutions.  We discussed during the Dec 14th meeting that there are decisions to be made regarding the existing Product and Server Supply Agreement that are contingent on those streaming media solutions.  EBS and Compaq have both acted in good faith to achieve the intent of the Product and Server Supply Agreement in pursuing these solutions.  To that end, EBS has had internal discussions regarding the appropriate next steps to further our relationship.  The January 2000 Product and Service Supply Agreement is the legal framework for our relationship until both parties mutually agree to change.  Until those changes are made: 1) 2000 Compaq Annual Purchase of ECI Services:  Per the Agreement, Compaq was invoiced for the 2000 Minimum Annual Purchase of ECI Services on November 7, 2000 as per Sections 3.1, 3.2 and 3.3.  Compaq had agreed  to the invoice amount.  EBS expects payment for the total invoice as outlined in Section 3.0 on or before December 31,2000. 2) Potential for Agreement Termination:  Prior to the Dec 14th meeting, Compaq (Keith and Rob) have discussed this with EBS (Jim Crowder, myself).   The understanding between both Parties was that EBS would need a written notice and payment by Compaq of $2,500,000.  The concept to start over with a new contractual agreement was again discussed during the Dec 14th meeting.  EBS strongly believes in the value of the Compaq and EBS relationship, if Compaq believes that to start over with a new agreement is necessary then we look forward to working with Compaq to achieve that goal.  Again, we look forward to working with yourselves to identify and create strategic business opportunities for both EBS and Compaq.  Kim Godfrey Director, Enterprise Services Enron Broadband Services phone : 713 345 8813 cell :      713 501 8105 fax:        713 853 7354  \n",
      "\n",
      "X-Origin: ARORA-H X-FileName: harora.nsf  Harry:  Just give me or Steve Herrup a call and we'll get moving on the options.  My number is 212 469 5673   - if I am not around Steve is at 212 469 5955.  Regards,  Nicholas  Nicholas Mayes Sopkin Structured Transactions Phone: 212 469 5673 Fax: 212 469 5630       Harry.Arora@enron.com on 12/04/2000 10:31:48 AM  To:   nicholas.m.sopkin@db.com, William.Stuart@enron.com, Tina.Livingston@enron.com cc: Subject:  Option settings in structured note      Nick  Hope things are going well.  In the next few days we need to do two things.  1. Set the termination value of the existing options 2. Set the terms for new options for the next year.  Since the option is cash settled and not settled with actual currency payments, while we need actual currency exchanges to mitigate our risk, we would like to talk to you to manage that.  We also need to spend a few minutes, on the structure of the next set of options, to ensure a good execution.  When you get  a chance give William Stuart ( 713-853-1507) our ccy trader or myself (713-853-6750) a call, or point us in the right direction.  Thanks   Harry   \n",
      "\n",
      "warrick.franklin@enron.com, paul.lewis@enron.com, w..white@enron.com X-From: Mattox, Michael  X-To: Hai Chen (E-mail) , Harry Arora (E-mail) , Jaime Gualy (E-mail) , Robert Stalford (E-mail) , Steve Wang (E-mail)  X-cc: Carter, Tim , Chapman, Tom , Dahlke, Andrea , Estrada, Israel , Evans, Casey , Franklin, Warrick , Lewis,  Jon Paul , White, Stacey W.  X-bcc: X-Folder: \\HARORA (Non-Privileged)\\Arora, Harry\\Inbox X-Origin: Arora-H X-FileName: HARORA (Non-Privileged).pst  We are ready to start using Swaption Volatility Curves in our calcs  I have identified the following regions and terms that need swaption volatilities posted and the values I have currently entered into curve manager.  These values were based on the latest deals or my best guess, as not all the volatilities are consistent across similar deals:  Cinergy, Cal '02, .25 Entergy, Cal '02, .27 Ercot South, Cal '02, .25 Nepool, Cal '02, .3 Nepool, Cal '02, .24 West Hub, Cal '02, .24 West Hub, Cal '03, .28 NY East (zone G), Cal'02-'03, .16 (position in LT-NEMGMT book)  Options Desk: for today only, besides final posting swaption vols for today 11/15 please also final post yesterday 11/14.  Please call if you have any questions.  Michael Mattox x34317\n",
      "\n",
      "X-Origin: Bailey-S X-FileName: sbaile2 (Non-Privileged).pst  Spoke with Dale Ginter (bankruptcy lawyer).  Problem is that Merced wants to cut a deal and terminate if they can pay over 18 months.  I explained that we would terminate if he didn't.  I agreed to not act today and advise him of our decision.  Louis, we should talk about this one.  Sara Shackleton Enron Wholesale Services 1400 Smith Street, EB3801a Houston, TX  77002 Ph:  (713) 853-5620 Fax: (713) 646-3490\n",
      "\n",
      " Sorry for the delay.  I was alone today. r\n",
      "\n",
      " Should I appeal to Skilling.  ---------------------- Forwarded by Phillip K Allen/HOU/ECT on 02/15/2000 12:52 PM ---------------------------   Lee Wright@ENRON 02/15/2000 10:48 AM To: Phillip K Allen/HOU/ECT@ECT cc: Amelia Alder/OTS/Enron@ENRON Subject: Storage of Cycles at the Body Shop  Phillip - I applaud you for using your cycle as daily transportation.  Saves on gas, pollution and helps keep you strong and healthy.  Enron provides bike racks in the front of the building for requests such as this.  Phillip, I wish we could accommodate this request; however, The Body Shop does not have the capacity nor can assume the responsibility for storing cycles on a daily basis.  If you bring a very good lock you should be able to secure the bike at the designated outside racks.  Keep Pedalling - Lee\n",
      "\n",
      " ---------------------- Forwarded by Phillip K Allen/HOU/ECT on 02/12/2001 11:57 AM --------------------------- From: Mark Whitt@ENRON on 02/08/2001 03:44 PM MST Sent by: Mark Whitt@ENRON To: Phillip K Allen/HOU/ECT@ECT cc: Barry Tycholiz/NA/Enron@ENRON, Paul T Lucci/NA/Enron@Enron Subject: AEC Volumes at OPAL  Phillip these are the volumes that AEC is considering selling at Opal over the next five years.  The structure they are looking for is a firm physical sale at a NYMEX related price.  There is a very good chance that they will do this all with one party.  We are definitely being considered as that party. Given what we have seen in the marketplace they may be one of the few producers willing to sell long dated physical gas for size into Kern River.  What would be your bid for this gas?   ----- Forwarded by Mark Whitt/NA/Enron on 02/08/2001 03:13 PM -----  Tyrell Harrison@ECT Sent by: Tyrell Harrison@ECT 02/08/2001 03:12 PM  To: Mark Whitt/NA/Enron@Enron cc: Subject: AEC Volumes at OPAL  \n",
      "\n",
      "jason.wolfe@enron.com Subject: Prebid Mime-Version: 1.0 Content-Type: text/plain; charset=us-ascii Content-Transfer-Encoding: 7bit X-From: Sullivan, Patti  X-To: Adams, Jacqueline P. , Allen, Phillip K. , Brewer, Stacey J. , Christiansen, Suzanne , Ermis, Frank , Fernandez, Justin , Gay, Randall L. , Groenewold, Shannon , Heu, Mog , Holst, Keith , Huang, Jason , Kuykendall, Tori , Lenhart, Matthew , Lisk, Daniel , McCarroll, Zachary , Mendel, Shelly , O'Conner, John , Reitmeyer, Jay , Schoene, Benjamin , Scott, Susan M. , Smith, Matt , South, Steven P. , Spiegelhauer, Walter , Sullivan, Patti , Tholt, Jane M. , Tycholiz, Barry , Wilkes, Corey , Wolfe, Jason  X-cc: X-bcc: X-Folder: \\PALLEN (Non-Privileged)\\Allen, Phillip K.\\Deleted Items X-Origin: Allen-P X-FileName: PALLEN (Non-Privileged).pst  The prebid meeting is tomorrow from 3:00 to 5:00 in ECS 5075.\n",
      "\n",
      "X-Origin: ARNOLD-J X-FileName: jarnold.nsf  I just noticed I missed Jim, who was, of course, in attendance. ----- Forwarded by Colleen Koenig/NA/Enron on 12/14/2000 01:20 PM -----  Colleen Koenig 12/14/2000 01:19 PM  To: Jennifer Medcalf/NA/Enron@Enron cc: James Wininger/NA/Enron@Enron Subject: Attendees for brown bags (12/13-12/14)  12/13 - GSS BD Brown Bag (Jennifer Medcalf) Jim Wininger Diane Eckels Dan Coleman Bob Johansen Jim Durbin (EES Capital Corp) Mark Hudgens John Gillespie Norm Stevens Jim Ischy Jerry Thomas Colleen Koenig Calvin Eakins Cathy Riley Karina Prizont Tom Moore Sarah-Joy Hunter Raul Davila Lisa Honey Jody Clement Jeff Yougflesh  12-14 - Experience Enron (Carrie Robert) Jeff Youngflesh Cathy Riley Lisa Honey Jim Wininger Colleen Koenig Karina Prizont Mike Frost Jody Clement Ron Smith David Rinehardt Jennifer Medcalf Cheri Sublet Rick Perkins Randy Lagrimmi Norm Stevens\n",
      "\n"
     ]
    }
   ],
   "source": [
    "#CLEAN HTML\n",
    "import re\n",
    "import html\n",
    "\n",
    "def cleanup_html(raw_html):\n",
    "    clean_html = re.sub(r'<.*?>', '', raw_html)\n",
    "    clean_html_http = re.sub(r'http\\S+([\\.]{3})?', '', clean_html)\n",
    "    clean_txt = html.unescape(clean_html)\n",
    "    return clean_txt\n",
    "df['email_body'] = df['email_body'].apply(cleanup_html)\n",
    "df.sample(10)\n",
    "for row in df['email_body'].sample(10):\n",
    "    print(row)\n",
    "    print()"
   ]
  },
  {
   "cell_type": "code",
   "execution_count": 30,
   "metadata": {
    "colab": {},
    "colab_type": "code",
    "id": "yDeIEvoh2QYX"
   },
   "outputs": [],
   "source": [
    "#CLEAN DATA\n",
    "#remove whitespace\n",
    "df['email_body'] = df['email_body'].str.strip().str.lower()\n",
    "\n",
    "#Start with date\n",
    "df['email_body'].str.match('\\d?\\d/\\d?\\d/\\d{4}').all()\n",
    "\n",
    "#Replace all non-overlapping matches\n",
    "df['email_body'] = df['email_body'].str.replace('[^a-zA-Z\\s]', '').str.replace('\\s+', ' ')"
   ]
  },
  {
   "cell_type": "code",
   "execution_count": 31,
   "metadata": {
    "colab": {
     "base_uri": "https://localhost:8080/",
     "height": 67
    },
    "colab_type": "code",
    "id": "7XGo8E78P5-L",
    "outputId": "90d0a9eb-e5a3-4872-b17b-4b9bce6ef25a"
   },
   "outputs": [
    {
     "name": "stderr",
     "output_type": "stream",
     "text": [
      "[nltk_data] Downloading package stopwords to\n",
      "[nltk_data]     C:\\Users\\HomePC\\AppData\\Roaming\\nltk_data...\n",
      "[nltk_data]   Package stopwords is already up-to-date!\n"
     ]
    },
    {
     "data": {
      "text/plain": [
       "True"
      ]
     },
     "execution_count": 31,
     "metadata": {},
     "output_type": "execute_result"
    }
   ],
   "source": [
    "import nltk\n",
    "import string\n",
    "nltk.download('stopwords')"
   ]
  },
  {
   "cell_type": "code",
   "execution_count": 32,
   "metadata": {
    "colab": {
     "base_uri": "https://localhost:8080/",
     "height": 255
    },
    "colab_type": "code",
    "id": "UliBb6XAiObU",
    "outputId": "4d9329aa-c91a-4e8e-cce5-cb008917c9b3"
   },
   "outputs": [
    {
     "name": "stdout",
     "output_type": "stream",
     "text": [
      "['i', 'me', 'my', 'myself', 'we', 'our', 'ours', 'ourselves', 'you', \"you're\", \"you've\", \"you'll\", \"you'd\", 'your', 'yours', 'yourself', 'yourselves', 'he', 'him', 'his', 'himself', 'she', \"she's\", 'her', 'hers', 'herself', 'it', \"it's\", 'its', 'itself', 'they', 'them', 'their', 'theirs', 'themselves', 'what', 'which', 'who', 'whom', 'this', 'that', \"that'll\", 'these', 'those', 'am', 'is', 'are', 'was', 'were', 'be', 'been', 'being', 'have', 'has', 'had', 'having', 'do', 'does', 'did', 'doing', 'a', 'an', 'the', 'and', 'but', 'if', 'or', 'because', 'as', 'until', 'while', 'of', 'at', 'by', 'for', 'with', 'about', 'against', 'between', 'into', 'through', 'during', 'before', 'after', 'above', 'below', 'to', 'from', 'up', 'down', 'in', 'out', 'on', 'off', 'over', 'under', 'again', 'further', 'then', 'once', 'here', 'there', 'when', 'where', 'why', 'how', 'all', 'any', 'both', 'each', 'few', 'more', 'most', 'other', 'some', 'such', 'no', 'nor', 'not', 'only', 'own', 'same', 'so', 'than', 'too', 'very', 's', 't', 'can', 'will', 'just', 'don', \"don't\", 'should', \"should've\", 'now', 'd', 'll', 'm', 'o', 're', 've', 'y', 'ain', 'aren', \"aren't\", 'couldn', \"couldn't\", 'didn', \"didn't\", 'doesn', \"doesn't\", 'hadn', \"hadn't\", 'hasn', \"hasn't\", 'haven', \"haven't\", 'isn', \"isn't\", 'ma', 'mightn', \"mightn't\", 'mustn', \"mustn't\", 'needn', \"needn't\", 'shan', \"shan't\", 'shouldn', \"shouldn't\", 'wasn', \"wasn't\", 'weren', \"weren't\", 'won', \"won't\", 'wouldn', \"wouldn't\"]\n",
      "***************************************\n",
      "tasti\n",
      "nevertheless\n",
      "yourself\n",
      "anyone\n",
      "didn't\n",
      "into\n",
      "onto\n",
      "fifty\n",
      "might\n",
      "neither\n",
      "having\n"
     ]
    }
   ],
   "source": [
    "#Getting Stopwords\n",
    "import spacy\n",
    "from spacy.lang.en.stop_words import STOP_WORDS\n",
    "from nltk.corpus import stopwords\n",
    "from nltk.stem.snowball import SnowballStemmer\n",
    "from nltk.stem.wordnet import WordNetLemmatizer\n",
    "\n",
    "# define additional stop words\n",
    "import nltk\n",
    "import spacy\n",
    "\n",
    "nlp = spacy.load('en_core_web_lg')\n",
    "my_stop_words = ['i', 'me', 'my', 'myself', 'we', 'our', 'ours', 'ourselves', \n",
    "                 'you', \"you're\", \"you've\", \"you'll\", \"you'd\", 'your', 'yours', \n",
    "                 'yourself', 'yourselves', 'he', 'him', 'his', 'himself', 'she', \n",
    "                 \"she's\", 'her', 'hers', 'herself', 'it', \"it's\", 'its', 'itself', \n",
    "                 'they', 'them', 'their', 'theirs', 'themselves', 'what', 'which', \n",
    "                 'who', 'whom', 'this', 'that', \"that'll\", 'these', 'those', 'am', \n",
    "                 'is', 'are', 'was', 'were', 'be', 'been', 'being', 'have', 'has', \n",
    "                 'had', 'having', 'do', 'does', 'did', 'doing', 'a', 'an', 'the', \n",
    "                 'and', 'but', 'if', 'or', 'because', 'as', 'until', 'while', \n",
    "                 'of', 'at', 'by', 'for', 'with', 'about', 'against', 'between', \n",
    "                 'into', 'through', 'during', 'before', 'after', 'above', 'below',\n",
    "                 'to', 'from', 'up', 'down', 'in', 'out', 'on', 'off', 'over', 'under', \n",
    "                 'again', 'further', 'then', 'once', 'here', 'there', 'when', \n",
    "                 'where', 'why', 'how', 'all', 'any', 'both', 'each', 'few', \n",
    "                 'more', 'most', 'other', 'some', 'such', 'no', 'nor', 'not', \n",
    "                 'only', 'own', 'same', 'so', 'than', 'too', 'very', 's', 't', \n",
    "                 'can', 'will', 'just', 'don', \"don't\", 'should', \"should've\", \n",
    "                 'now', 'd', 'll', 'm', 'o', 're', 've', 'y', 'ain', 'aren', \n",
    "                 \"aren't\", 'couldn', \"couldn't\", 'didn', \"didn't\", 'doesn', \n",
    "                 \"doesn't\", 'hadn', \"hadn't\", 'hasn', \"hasn't\", 'haven', \n",
    "                 \"haven't\", 'isn', \"isn't\", 'ma', 'mightn', \"mightn't\", \n",
    "                 'mustn', \"mustn't\", 'needn', \"needn't\", 'shan', \"shan't\", \n",
    "                 'shouldn', \"shouldn't\", 'wasn', \"wasn't\", 'weren', \n",
    "                 \"weren't\", 'won', \"won't\", 'wouldn', \"wouldn't\"]\n",
    "\n",
    "STOP_WORDS = nlp.Defaults.stop_words.union(my_stop_words)\n",
    "\n",
    "stop = stopwords.words('english')\n",
    "sno = SnowballStemmer('english')\n",
    "print (stop)\n",
    "print('***************************************')\n",
    "print(sno.stem('tasty'))\n",
    "\n",
    "STOP_WORDS = list(STOP_WORDS)\n",
    "print('\\n'.join([word for word in STOP_WORDS[:10]]))"
   ]
  },
  {
   "cell_type": "code",
   "execution_count": 33,
   "metadata": {
    "colab": {},
    "colab_type": "code",
    "id": "hlky5wp6YZtt"
   },
   "outputs": [],
   "source": [
    "tokens = []\n",
    "for doc in nlp.pipe(df['email_body'], batch_size=500):\n",
    "\n",
    "    doc_tokens = []\n",
    "\n",
    "    for token in doc:\n",
    "        if (token.is_stop == False) & (token.is_punct == False):\n",
    "            doc_tokens.append(token.lemma_.lower())\n",
    "\n",
    "    tokens.append(doc_tokens)\n",
    "\n",
    "df['tokens'] = tokens"
   ]
  },
  {
   "cell_type": "code",
   "execution_count": 34,
   "metadata": {
    "colab": {
     "base_uri": "https://localhost:8080/",
     "height": 118
    },
    "colab_type": "code",
    "id": "EdpPGC91YZtx",
    "outputId": "a20bb99f-3494-400a-d47b-d3d32b415f2b"
   },
   "outputs": [
    {
     "data": {
      "text/plain": [
       "0                                           [forecast]\n",
       "1    [travel, business, meeting, take, fun, trip, e...\n",
       "2                              [test, successful, way]\n",
       "3    [randy, send, schedule, salary, level, schedul...\n",
       "4                                [let, shoot, tuesday]\n",
       "Name: tokens, dtype: object"
      ]
     },
     "execution_count": 34,
     "metadata": {},
     "output_type": "execute_result"
    }
   ],
   "source": [
    "df['tokens'].head()"
   ]
  },
  {
   "cell_type": "code",
   "execution_count": 35,
   "metadata": {
    "colab": {
     "base_uri": "https://localhost:8080/",
     "height": 34
    },
    "colab_type": "code",
    "id": "qW-ydKWeYZuE",
    "outputId": "be5a5355-fe8a-4f8c-d197-443753d136f6"
   },
   "outputs": [
    {
     "name": "stdout",
     "output_type": "stream",
     "text": [
      "45973\n"
     ]
    }
   ],
   "source": [
    "id2word = Dictionary(df['tokens'])\n",
    "print(len(id2word))"
   ]
  },
  {
   "cell_type": "code",
   "execution_count": 36,
   "metadata": {
    "colab": {
     "base_uri": "https://localhost:8080/",
     "height": 34
    },
    "colab_type": "code",
    "id": "r0sCngOsYZuI",
    "outputId": "1b58af96-c89b-4a9d-a88e-18c01703b961"
   },
   "outputs": [
    {
     "name": "stdout",
     "output_type": "stream",
     "text": [
      "14978\n"
     ]
    }
   ],
   "source": [
    "id2word.filter_extremes(no_below=5, no_above=.98)\n",
    "print(len(id2word))"
   ]
  },
  {
   "cell_type": "code",
   "execution_count": 37,
   "metadata": {
    "colab": {},
    "colab_type": "code",
    "id": "QNZoA36BYZuP"
   },
   "outputs": [],
   "source": [
    "#https://radimrehurek.com/gensim/corpora/dictionary.html\n",
    "\n",
    "corpus = [id2word.doc2bow(d) for d in df['tokens']]"
   ]
  },
  {
   "cell_type": "code",
   "execution_count": 38,
   "metadata": {
    "colab": {},
    "colab_type": "code",
    "id": "oQh81puoYZuV"
   },
   "outputs": [],
   "source": [
    "lda = LdaMulticore(corpus=corpus,\n",
    "                   id2word=id2word,\n",
    "                   random_state=723812,\n",
    "                   num_topics = 15,\n",
    "                   passes=10,\n",
    "                   workers=12\n",
    "                  )"
   ]
  },
  {
   "cell_type": "code",
   "execution_count": 39,
   "metadata": {
    "colab": {},
    "colab_type": "code",
    "id": "1dnNU6IdYZuX"
   },
   "outputs": [],
   "source": [
    "model = LdaMulticore(corpus=corpus, num_topics=10, id2word=id2word, workers=12, passes=5)"
   ]
  },
  {
   "cell_type": "code",
   "execution_count": 40,
   "metadata": {
    "colab": {},
    "colab_type": "code",
    "id": "7U5v5vj_YZua"
   },
   "outputs": [],
   "source": [
    "import re\n",
    "\n",
    "words = [re.findall(r'\"([^\"]*)\"',t[1]) for t in model.print_topics()]"
   ]
  },
  {
   "cell_type": "code",
   "execution_count": 41,
   "metadata": {
    "colab": {},
    "colab_type": "code",
    "id": "Zr61YmT2YZuc"
   },
   "outputs": [],
   "source": [
    "topics = [' '.join(t[0:5]) for t in words]"
   ]
  },
  {
   "cell_type": "code",
   "execution_count": 42,
   "metadata": {
    "colab": {
     "base_uri": "https://localhost:8080/",
     "height": 353
    },
    "colab_type": "code",
    "id": "FVsC1adZYZue",
    "outputId": "d3a2ef07-dd05-44cf-cf5d-24f729d325eb"
   },
   "outputs": [
    {
     "name": "stdout",
     "output_type": "stream",
     "text": [
      "------ Topic 0 ------\n",
      "pm subject john cc jennifer\n",
      "------ Topic 1 ------\n",
      "subject pm email phillip john\n",
      "------ Topic 2 ------\n",
      "power say price gas market\n",
      "------ Topic 3 ------\n",
      "enron company say energy power\n",
      "------ Topic 4 ------\n",
      "enron message company wine new\n",
      "------ Topic 5 ------\n",
      "pm subject john enron original\n",
      "------ Topic 6 ------\n",
      "market buy iso request email\n",
      "------ Topic 7 ------\n",
      "image email new market click\n",
      "------ Topic 8 ------\n",
      "john subject gas meeting pm\n",
      "------ Topic 9 ------\n",
      "john subject pm email send\n"
     ]
    }
   ],
   "source": [
    "for id, t in enumerate(topics): \n",
    "    print(f\"------ Topic {id} ------\")\n",
    "    print(t, end=\"\\n\")"
   ]
  },
  {
   "cell_type": "code",
   "execution_count": 43,
   "metadata": {
    "colab": {
     "base_uri": "https://localhost:8080/",
     "height": 605
    },
    "colab_type": "code",
    "id": "h935vng4avNg",
    "outputId": "6d8b5490-c21d-414e-b7d4-92d4ffd36ef4"
   },
   "outputs": [
    {
     "name": "stdout",
     "output_type": "stream",
     "text": [
      "Requirement already satisfied: pyLDAvis in c:\\users\\homepc\\anaconda3\\lib\\site-packages (2.1.2)\n",
      "Requirement already satisfied: scipy>=0.18.0 in c:\\users\\homepc\\anaconda3\\lib\\site-packages (from pyLDAvis) (1.4.1)\n",
      "Requirement already satisfied: numpy>=1.9.2 in c:\\users\\homepc\\anaconda3\\lib\\site-packages (from pyLDAvis) (1.18.1)\n",
      "Requirement already satisfied: pytest in c:\\users\\homepc\\anaconda3\\lib\\site-packages (from pyLDAvis) (5.3.5)\n",
      "Requirement already satisfied: future in c:\\users\\homepc\\anaconda3\\lib\\site-packages (from pyLDAvis) (0.18.2)\n",
      "Requirement already satisfied: wheel>=0.23.0 in c:\\users\\homepc\\anaconda3\\lib\\site-packages (from pyLDAvis) (0.34.2)\n",
      "Requirement already satisfied: joblib>=0.8.4 in c:\\users\\homepc\\anaconda3\\lib\\site-packages (from pyLDAvis) (0.14.1)\n",
      "Requirement already satisfied: pandas>=0.17.0 in c:\\users\\homepc\\anaconda3\\lib\\site-packages (from pyLDAvis) (1.0.1)\n",
      "Requirement already satisfied: numexpr in c:\\users\\homepc\\anaconda3\\lib\\site-packages (from pyLDAvis) (2.7.1)\n",
      "Requirement already satisfied: jinja2>=2.7.2 in c:\\users\\homepc\\anaconda3\\lib\\site-packages (from pyLDAvis) (2.11.2)\n",
      "Requirement already satisfied: funcy in c:\\users\\homepc\\anaconda3\\lib\\site-packages (from pyLDAvis) (1.14)\n",
      "Requirement already satisfied: py>=1.5.0 in c:\\users\\homepc\\anaconda3\\lib\\site-packages (from pytest->pyLDAvis) (1.8.1)\n",
      "Requirement already satisfied: packaging in c:\\users\\homepc\\anaconda3\\lib\\site-packages (from pytest->pyLDAvis) (20.1)\n",
      "Requirement already satisfied: attrs>=17.4.0 in c:\\users\\homepc\\anaconda3\\lib\\site-packages (from pytest->pyLDAvis) (19.3.0)\n",
      "Requirement already satisfied: more-itertools>=4.0.0 in c:\\users\\homepc\\anaconda3\\lib\\site-packages (from pytest->pyLDAvis) (8.2.0)\n",
      "Requirement already satisfied: pluggy<1.0,>=0.12 in c:\\users\\homepc\\anaconda3\\lib\\site-packages (from pytest->pyLDAvis) (0.13.1)\n",
      "Requirement already satisfied: wcwidth in c:\\users\\homepc\\anaconda3\\lib\\site-packages (from pytest->pyLDAvis) (0.1.8)\n",
      "Requirement already satisfied: importlib-metadata>=0.12 in c:\\users\\homepc\\anaconda3\\lib\\site-packages (from pytest->pyLDAvis) (1.6.0)\n",
      "Requirement already satisfied: atomicwrites>=1.0 in c:\\users\\homepc\\anaconda3\\lib\\site-packages (from pytest->pyLDAvis) (1.3.0)\n",
      "Requirement already satisfied: colorama in c:\\users\\homepc\\anaconda3\\lib\\site-packages (from pytest->pyLDAvis) (0.4.3)\n",
      "Requirement already satisfied: python-dateutil>=2.6.1 in c:\\users\\homepc\\anaconda3\\lib\\site-packages (from pandas>=0.17.0->pyLDAvis) (2.8.1)\n",
      "Requirement already satisfied: pytz>=2017.2 in c:\\users\\homepc\\anaconda3\\lib\\site-packages (from pandas>=0.17.0->pyLDAvis) (2019.3)\n",
      "Requirement already satisfied: MarkupSafe>=0.23 in c:\\users\\homepc\\anaconda3\\lib\\site-packages (from jinja2>=2.7.2->pyLDAvis) (1.1.1)\n",
      "Requirement already satisfied: six in c:\\users\\homepc\\anaconda3\\lib\\site-packages (from packaging->pytest->pyLDAvis) (1.15.0)\n",
      "Requirement already satisfied: pyparsing>=2.0.2 in c:\\users\\homepc\\anaconda3\\lib\\site-packages (from packaging->pytest->pyLDAvis) (2.4.6)\n",
      "Requirement already satisfied: zipp>=0.5 in c:\\users\\homepc\\anaconda3\\lib\\site-packages (from importlib-metadata>=0.12->pytest->pyLDAvis) (3.1.0)\n"
     ]
    }
   ],
   "source": [
    "!pip install pyLDAvis\n",
    "import pyLDAvis"
   ]
  },
  {
   "cell_type": "code",
   "execution_count": 44,
   "metadata": {
    "colab": {
     "base_uri": "https://localhost:8080/",
     "height": 861
    },
    "colab_type": "code",
    "id": "bVhMkSiLazW_",
    "outputId": "99a3491c-e82a-486d-b9f7-2aaa824f49bd"
   },
   "outputs": [
    {
     "data": {
      "text/html": [
       "\n",
       "<link rel=\"stylesheet\" type=\"text/css\" href=\"https://cdn.rawgit.com/bmabey/pyLDAvis/files/ldavis.v1.0.0.css\">\n",
       "\n",
       "\n",
       "<div id=\"ldavis_el1569614476022861684687356105\"></div>\n",
       "<script type=\"text/javascript\">\n",
       "\n",
       "var ldavis_el1569614476022861684687356105_data = {\"mdsDat\": {\"x\": [0.126297135400579, -0.10883761139666831, 0.037224570298918416, 0.07003278712933839, -0.026916659318223592, -0.08246768632297219, -0.07215136769178805, 0.03425090984807175, -0.06042588455521894, 0.0829938066079634], \"y\": [-0.028382654704300573, -0.039004304967090134, 0.012716125439163872, 0.061483157093783096, 0.029482737283868188, -0.01861847062936636, -0.017912613750613354, 0.08256774967659818, 0.02418732578180986, -0.10651905122385219], \"topics\": [1, 2, 3, 4, 5, 6, 7, 8, 9, 10], \"cluster\": [1, 1, 1, 1, 1, 1, 1, 1, 1, 1], \"Freq\": [21.510812759399414, 12.05422306060791, 10.339917182922363, 9.699423789978027, 9.177303314208984, 8.68078327178955, 8.122003555297852, 7.8286662101745605, 7.37064790725708, 5.216215133666992]}, \"tinfo\": {\"Term\": [\"image\", \"pm\", \"enron\", \"subject\", \"john\", \"email\", \"cc\", \"message\", \"phillip\", \"say\", \"original\", \"company\", \"send\", \"iso\", \"market\", \"power\", \"k\", \"thank\", \"arnold\", \"buy\", \"click\", \"request\", \"jennifer\", \"forward\", \"wine\", \"arnoldhouectect\", \"margaret\", \"sit\", \"share\", \"outage\", \"rentable\", \"amenity\", \"jl\", \"httpexpensexmsenroncom\", \"masonry\", \"sic\", \"fieldsid\", \"arnoldougcooenron\", \"cnjeff\", \"masterdisc\", \"diluted\", \"pretax\", \"maxdiscusazip\", \"datacom\", \"nameserver\", \"httpwwwdatacommarketingcom\", \"aftertax\", \"disc\", \"queue\", \"petrochina\", \"bg\", \"tata\", \"sichuan\", \"bcm\", \"undervalue\", \"interconnector\", \"admincontactname\", \"techcontactname\", \"utilicorp\", \"slb\", \"ver\", \"reiten\", \"wineisitcom\", \"indian\", \"stake\", \"exploration\", \"aquila\", \"company\", \"oregon\", \"english\", \"dabhol\", \"indias\", \"earning\", \"drilling\", \"percent\", \"say\", \"billion\", \"million\", \"india\", \"share\", \"copyright\", \"northwest\", \"asset\", \"dow\", \"rights\", \"reuters\", \"companys\", \"jones\", \"loss\", \"times\", \"energy\", \"cent\", \"debt\", \"inc\", \"quarter\", \"enron\", \"dynegy\", \"stock\", \"york\", \"reserve\", \"power\", \"oil\", \"year\", \"business\", \"new\", \"gas\", \"report\", \"price\", \"project\", \"news\", \"t\", \"financial\", \"state\", \"natural\", \"credit\", \"market\", \"not\", \"include\", \"corp\", \"s\", \"trading\", \"deal\", \"service\", \"wardenronenronxgate\", \"tickleless\", \"cheapskate\", \"dyersfectect\", \"buerklepdxectect\", \"mcnary\", \"gilbertpdxectect\", \"clarkpdxectect\", \"mainzerpdxectect\", \"httpiosetsenroncominfopostingssharedetnoncriticalnoticeaspcompany\", \"donovanhouectect\", \"tickleknees\", \"slaughterenrondevelopmentenrondevelopment\", \"presold\", \"ohpdxectect\", \"sore\", \"feelingas\", \"fcm\", \"cb\", \"vulcan\", \"elliot\", \"rosmanhouectect\", \"annebikeenroncom\", \"perrypdxectect\", \"recourse\", \"curless\", \"lutz\", \"infomercial\", \"wininger\", \"phasing\", \"ward\", \"jake\", \"shari\", \"mainzer\", \"disbursement\", \"active\", \"kim\", \"carpenter\", \"delaineyhouectect\", \"mcdonaldsfectect\", \"christopher\", \"appraise\", \"loan\", \"chris\", \"lisa\", \"migration\", \"j\", \"grigsby\", \"ermis\", \"tim\", \"daniel\", \"david\", \"sanchez\", \"fred\", \"xto\", \"jay\", \"improvement\", \"xfrom\", \"robert\", \"jonathan\", \"john\", \"jeff\", \"mike\", \"jim\", \"kevin\", \"james\", \"jeffrey\", \"scott\", \"xcc\", \"eric\", \"michael\", \"xfilename\", \"xorigin\", \"w\", \"email\", \"subject\", \"arnold\", \"send\", \"pm\", \"l\", \"mark\", \"original\", \"cc\", \"message\", \"s\", \"m\", \"phillip\", \"need\", \"thank\", \"jennifer\", \"k\", \"forward\", \"enron\", \"time\", \"know\", \"new\", \"propt\", \"adjustable\", \"durango\", \"appendix\", \"infoseek\", \"std\", \"otmp\", \"resistance\", \"otmc\", \"iwon\", \"concordjpg\", \"websupportmoneynetcom\", \"jeffbrenda\", \"westgasx\", \"imagemore\", \"ttc\", \"rollout\", \"acronym\", \"realnetworks\", \"reis\", \"ngis\", \"autowebcom\", \"downdraft\", \"outlier\", \"buycom\", \"picturetel\", \"researchit\", \"cbi\", \"imageimage\", \"allenxls\", \"image\", \"trademark\", \"mmbtus\", \"lycos\", \"cmr\", \"proformaphillip\", \"businesswire\", \"mage\", \"imageimageimage\", \"sprint\", \"dvd\", \"tracker\", \"imag\", \"multex\", \"westgate\", \"amazoncom\", \"unsubscribe\", \"yahoo\", \"feature\", \"httpcgizdnetcomslink\", \"click\", \"et\", \"site\", \"online\", \"free\", \"gift\", \"newsletter\", \"portfolio\", \"subscribe\", \"register\", \"visit\", \"daily\", \"save\", \"email\", \"page\", \"project\", \"news\", \"internet\", \"change\", \"new\", \"receive\", \"product\", \"service\", \"market\", \"web\", \"report\", \"include\", \"trade\", \"price\", \"offer\", \"time\", \"enron\", \"address\", \"list\", \"update\", \"information\", \"send\", \"s\", \"week\", \"inc\", \"phillip\", \"not\", \"pm\", \"subject\", \"rezoning\", \"microturbine\", \"kwh\", \"pergher\", \"gunther\", \"continentalcom\", \"hoffmanpdxect\", \"bullington\", \"gnther\", \"httpwwwcarrfutcomresearchenergyhozhokpdf\", \"dorinson\", \"wtibrent\", \"httpwwwcarrfutcomresearchenergyclzqozpdf\", \"httpwwwcarrfutcomresearchenergyhuzhozpdf\", \"stucco\", \"decmay\", \"recoupment\", \"parsippany\", \"amf\", \"ewr\", \"bath\", \"petrello\", \"httpwwwcarrfutcomresearchenergyhuxhoxpdf\", \"coolus\", \"embassy\", \"ladwp\", \"assembly\", \"steed\", \"smiley\", \"birkofer\", \"onepass\", \"ffapdf\", \"inspect\", \"intensity\", \"hilton\", \"retransmission\", \"leopold\", \"hotels\", \"carla\", \"miles\", \"sheraton\", \"newark\", \"emailvcf\", \"blackout\", \"offset\", \"gasheat\", \"alamo\", \"qfs\", \"dj\", \"calif\", \"httpwwwindependentorgtiilighthouselhlinkhtml\", \"nj\", \"cap\", \"rentroll\", \"rate\", \"power\", \"california\", \"pge\", \"spread\", \"diego\", \"independent\", \"utility\", \"resort\", \"sdge\", \"state\", \"electricity\", \"iso\", \"hotel\", \"price\", \"say\", \"gas\", \"plant\", \"generator\", \"supply\", \"market\", \"sell\", \"customer\", \"special\", \"energy\", \"day\", \"pay\", \"dow\", \"purchase\", \"contract\", \"phillip\", \"need\", \"new\", \"offer\", \"buy\", \"time\", \"not\", \"company\", \"year\", \"subject\", \"forward\", \"leschber\", \"edie\", \"daman\", \"jpi\", \"tyh\", \"wwwcapitolconnectionorg\", \"cbot\", \"backtest\", \"horning\", \"understating\", \"sph\", \"ush\", \"fvh\", \"upstreamecommerce\", \"delano\", \"salespopswinecom\", \"edm\", \"tyfv\", \"aquilla\", \"liszewski\", \"pegasus\", \"munson\", \"mailer\", \"efps\", \"prorate\", \"miniportfolios\", \"mimecompliant\", \"mime\", \"bandaid\", \"aggregation\", \"daniela\", \"amunsonbmccom\", \"physicalfinancial\", \"requisite\", \"gencheva\", \"compaq\", \"var\", \"ebs\", \"bmc\", \"gamma\", \"crowder\", \"tutor\", \"psytech\", \"skew\", \"kyoto\", \"vlady\", \"youngfleshnaenron\", \"sponsorship\", \"tds\", \"avaya\", \"position\", \"deliverable\", \"youngflesh\", \"jeffyoungfleshenroncom\", \"meeting\", \"universal\", \"sme\", \"strategic\", \"stress\", \"nymex\", \"file\", \"vol\", \"pl\", \"sagel\", \"work\", \"day\", \"john\", \"trader\", \"thank\", \"scope\", \"forward\", \"number\", \"gas\", \"order\", \"cc\", \"change\", \"price\", \"system\", \"curve\", \"jeff\", \"let\", \"subject\", \"need\", \"know\", \"deal\", \"like\", \"not\", \"phillip\", \"pm\", \"enron\", \"market\", \"trade\", \"information\", \"time\", \"send\", \"zhucorpenronenron\", \"markintelligencepresscom\", \"elliotthouectect\", \"brianhoskinsenronnet\", \"buckleyenronenronxgate\", \"spb\", \"bubbie\", \"fangme\", \"steis\", \"holbrook\", \"jeannine\", \"carlstrom\", \"creem\", \"votruba\", \"fangmingzhuenroncom\", \"hoskinsenron\", \"httpecthouwebclntectenroncomgas\", \"dexter\", \"jfk\", \"dexterintelligencepresscom\", \"httptournamentfantasysportsyahoocommen\", \"rater\", \"ubspainewebber\", \"hoey\", \"hilson\", \"prank\", \"jerky\", \"painewebber\", \"restaurantmp\", \"lodonnellspbankcom\", \"susanbailey\", \"gapinski\", \"mailtophillipkallenenroncom\", \"rahal\", \"hoskins\", \"synthetic\", \"expit\", \"nealhouect\", \"instruction\", \"peaker\", \"kdavismanfinancialcomenron\", \"hennessynaenronenron\", \"pickem\", \"skogsagarna\", \"shivelyhouect\", \"chairperson\", \"enroncom\", \"cicchetti\", \"phillip\", \"httpwwwzdnetoneboxcom\", \"onebox\", \"allenhouect\", \"k\", \"adrianne\", \"email\", \"andor\", \"brian\", \"allenhouectect\", \"bailey\", \"blair\", \"susan\", \"demo\", \"subject\", \" \", \"allen\", \"ina\", \"pm\", \"send\", \"cc\", \"message\", \"thank\", \"original\", \"john\", \"forward\", \"fax\", \"yes\", \"eb\", \"monday\", \"enron\", \"arnoldhouectect\", \"receive\", \"need\", \"want\", \"s\", \"meeting\", \"information\", \"corp\", \"know\", \"arnold\", \"gas\", \"not\", \"kingsgate\", \"huntley\", \"comiskey\", \"responsibilitiesobligation\", \"mapping\", \"eshort\", \"augoct\", \"johnnnyyou\", \"orbits\", \"telephonic\", \"cantrells\", \"idealistic\", \"girlfriend\", \"gad\", \"docdoc\", \"nosey\", \"allenenron\", \"caspy\", \"gregpylehpcom\", \"yippee\", \"buster\", \"billlovejoyhpcom\", \"yarger\", \"kal\", \"pmso\", \"assignmentsample\", \"navajo\", \"slaughterenron\", \"statoil\", \"thief\", \"margaret\", \"deathly\", \"cpr\", \"backout\", \"allencorpenronenron\", \"msa\", \"pt\", \"tix\", \"outage\", \"sit\", \"sun\", \"ct\", \"oncall\", \"guggenheim\", \"execute\", \"fri\", \"hsc\", \"pager\", \"giveup\", \"unify\", \"sitara\", \"clearing\", \"astros\", \"disk\", \"broker\", \"be\", \"london\", \"impact\", \"october\", \"original\", \"recipient\", \"purpose\", \"pm\", \"environment\", \"subject\", \"send\", \"message\", \"arnold\", \"john\", \"server\", \"ill\", \"know\", \"schedule\", \"enron\", \"time\", \"thank\", \"think\", \"cc\", \"not\", \"work\", \"corp\", \"go\", \"good\", \"monday\", \"let\", \"like\", \"s\", \"httpitcappscorpenroncomsrrsauthemaillinkaspidpageapproval\", \"nahoutrdhoustonpwrcommonpowerregion\", \"nahoutrdhoustonpwrcommonelectric\", \"accum\", \"pepl\", \"velocity\", \"starpoint\", \"soundview\", \"ufe\", \"httpwwwcarrfutcomresearchenergycandlestickspdf\", \"kobra\", \"starwood\", \"upgradedowngrade\", \"upgradesdowngradescoverage\", \"httpitcappscorpenroncomsrrsauthemaillinkaspidpage\", \"psychological\", \"candlesticks\", \"gasdoc\", \"neutrallt\", \"httpinteractivewsjcomusercgibinsearchuserplactionemailalert\", \"wessels\", \"cea\", \"inquiriesinteractivewsjcom\", \"cowen\", \"hrobertsonhbkcom\", \"buylt\", \"morro\", \"superpeak\", \"burrito\", \"httpwwwcarrfutcomresearchenergystripmatrixpdf\", \"itfs\", \"soblandercarrfutcom\", \"httpwwwcarrfutcom\", \"earningscom\", \"carr\", \"mattsmithenroncom\", \"initiate\", \"matrix\", \"wacker\", \"chart\", \"outperform\", \"futures\", \"httpwwwcarrfutcomresearchenergyunldedpdf\", \"unleade\", \"solicitation\", \"iso\", \"httpwwwcarrfutcomresearchenergyhoilpdf\", \"coverage\", \"request\", \"downgrade\", \"differ\", \"author\", \"reliable\", \"resource\", \"hot\", \"buy\", \"opinion\", \"settlement\", \"instrument\", \"participant\", \"nat\", \"market\", \"contain\", \"express\", \"click\", \"information\", \"client\", \"program\", \"strong\", \"web\", \"email\", \"receive\", \"bid\", \"link\", \"week\", \"gas\", \"offer\", \"price\", \"time\", \"date\", \"contact\", \"s\", \"subject\", \"day\", \"energy\", \"think\", \"sell\", \"know\", \"california\", \"work\", \"pm\", \"showtimes\", \"pipegas\", \"bawahouectect\", \"pielop\", \"kemplonectect\", \"jonathon\", \"parkerdrewmsdwcom\", \"girdy\", \"unintentionally\", \"wv\", \"greenway\", \"coin\", \"tail\", \"rrobert\", \"donaldwherrickenroncom\", \"showtime\", \"baileylonectect\", \"redford\", \"padd\", \"amc\", \"ownernatgaswwwwwaesconcom\", \"multicinema\", \"zahn\", \"wwwsailmainecoastcomindexhtml\", \"pookie\", \"mcleisheuenronenron\", \"lard\", \"wwwwwaesconcom\", \"dunvale\", \"dth\", \"flip\", \"fraserenronenronxgate\", \"olive\", \"bcfd\", \"wager\", \"bidoffer\", \"fraser\", \"hj\", \"cashiola\", \"jen\", \"benchluch\", \"jf\", \"pyle\", \"sr\", \"console\", \"fundamental\", \"slafontaineglobalpcom\", \"epaombahbsedu\", \"hu\", \"destruction\", \"cal\", \"mkts\", \"jennifer\", \"fernley\", \"pm\", \"ho\", \"switching\", \"ng\", \"hp\", \"johnarnoldenroncom\", \"game\", \"play\", \"head\", \"bearish\", \"cc\", \"subject\", \"sunday\", \"think\", \"john\", \"arnoldhouectect\", \"demand\", \"steve\", \"jan\", \"not\", \"year\", \"week\", \"arnold\", \"month\", \"term\", \"send\", \"forward\", \"gas\", \"message\", \"original\", \"market\", \"s\", \"time\", \"enron\", \"like\", \"go\", \"thank\", \"know\", \"price\", \"trade\", \"confebc\", \"procctrldeskcaisocom\", \"michaelbyrneamericasbnpparibascom\", \"httpwwwcaisocomthegridoperationsopsdocindexhtml\", \"librarycom\", \"vous\", \"avertir\", \"totale\", \"toute\", \"lintention\", \"linternet\", \"spectator\", \"merci\", \"leite\", \"destinataires\", \"partielle\", \"httpwwwwinebidcomhomespotlightshtml\", \"jointes\", \"georgeellisamericasbnpparibascom\", \"ete\", \"recevez\", \"utilisation\", \"byrne\", \"confidentiels\", \"nonprivilegedbailey\", \"diffusion\", \"conforme\", \"permettant\", \"lexpediteur\", \"sayre\", \"bnp\", \"autorisation\", \"expresse\", \"immediatement\", \"pieces\", \"sont\", \"ce\", \"ses\", \"paribas\", \"tasting\", \"wine\", \"ou\", \"de\", \"enron\", \"est\", \"le\", \"par\", \"fastow\", \"si\", \"message\", \"officer\", \"et\", \"stock\", \"company\", \"chief\", \"partnership\", \"procedure\", \"rating\", \"new\", \"business\", \"investor\", \"market\", \"analyst\", \"share\", \"dynegy\", \"credit\", \"e\", \"financial\", \"year\", \"say\", \"billion\", \"service\", \"week\", \"energy\", \"s\", \"investment\", \"management\"], \"Freq\": [3771.0, 8657.0, 10981.0, 7851.0, 7390.0, 5957.0, 4980.0, 4429.0, 3987.0, 6165.0, 3179.0, 6317.0, 4919.0, 1663.0, 5212.0, 4335.0, 2390.0, 3532.0, 1859.0, 2519.0, 1489.0, 1594.0, 1291.0, 3313.0, 529.0, 1301.0, 523.0, 678.0, 2156.0, 646.0, 24.1931209564209, 19.57120704650879, 9.834962844848633, 11.803681373596191, 10.786149024963379, 47.392822265625, 97.4930191040039, 30.801090240478516, 30.799861907958984, 32.76409912109375, 56.24649429321289, 71.84358978271484, 19.794591903686523, 27.03932762145996, 21.746347427368164, 19.57305908203125, 73.83557891845703, 155.47695922851562, 23.51883316040039, 43.91269302368164, 47.80179214477539, 75.42115020751953, 23.29109001159668, 31.50065040588379, 9.076789855957031, 25.190967559814453, 11.030839920043945, 11.034332275390625, 49.932552337646484, 5.971868991851807, 117.16105651855469, 34.704158782958984, 25.598003387451172, 207.76356506347656, 219.91220092773438, 138.7933807373047, 83.8289794921875, 4283.63671875, 137.08746337890625, 207.75489807128906, 232.90480041503906, 110.03378295898438, 589.23681640625, 56.38965606689453, 702.1583251953125, 3855.677734375, 1073.156005859375, 1346.658203125, 361.5177001953125, 1383.6365966796875, 852.3093872070312, 284.1077880859375, 560.7091674804688, 993.235107421875, 431.36822509765625, 476.8352355957031, 409.7750244140625, 979.6530151367188, 475.90631103515625, 329.493896484375, 1927.9024658203125, 538.1258544921875, 492.15655517578125, 1223.54541015625, 463.4848937988281, 4402.4873046875, 510.2436218261719, 1028.9232177734375, 578.1231689453125, 700.3318481445312, 1655.1790771484375, 558.00927734375, 1395.5819091796875, 1083.6202392578125, 1379.4803466796875, 1498.3519287109375, 968.64892578125, 1464.336181640625, 833.726806640625, 707.1568603515625, 697.6915893554688, 784.3151245117188, 758.1771850585938, 708.874267578125, 746.4939575195312, 1051.1241455078125, 938.7373046875, 782.277099609375, 759.5317993164062, 806.0966186523438, 729.9204711914062, 736.0787353515625, 734.7847290039062, 73.67869567871094, 17.077436447143555, 13.666423797607422, 19.336284637451172, 19.205638885498047, 10.351119995117188, 19.163894653320312, 15.943248748779297, 19.09212303161621, 14.999532699584961, 15.832389831542969, 10.243273735046387, 15.788524627685547, 38.02814483642578, 9.266282081604004, 6.918450832366943, 6.9145073890686035, 16.86773681640625, 56.230201721191406, 14.544188499450684, 36.08184814453125, 11.439608573913574, 13.72750186920166, 9.182793617248535, 22.110675811767578, 11.354939460754395, 7.543057441711426, 9.746932983398438, 12.030219078063965, 18.85968017578125, 241.84259033203125, 37.984683990478516, 44.14912033081055, 16.419340133666992, 25.033653259277344, 437.9961242675781, 409.4956970214844, 22.747631072998047, 21.131996154785156, 25.2637939453125, 149.16998291015625, 29.223031997680664, 463.80072021484375, 327.3159484863281, 165.6317596435547, 153.90562438964844, 567.9719848632812, 129.4647979736328, 64.5088882446289, 288.4669494628906, 148.9737091064453, 494.1440124511719, 46.84942626953125, 110.65106201171875, 174.7581787109375, 160.0334014892578, 133.75123596191406, 144.60952758789062, 356.8699035644531, 92.93280029296875, 1962.11181640625, 563.1889038085938, 476.5874938964844, 301.52044677734375, 259.01483154296875, 300.898193359375, 200.4384002685547, 326.45806884765625, 196.6962432861328, 221.4388427734375, 307.931640625, 489.4887390136719, 410.227294921875, 347.0680847167969, 1185.8868408203125, 1418.44189453125, 537.2901000976562, 975.8057250976562, 1367.074462890625, 347.3956604003906, 441.26171875, 656.4557495117188, 821.9205322265625, 769.9642944335938, 664.4287719726562, 399.70745849609375, 568.9890747070312, 494.5691223144531, 485.7864685058594, 363.1629333496094, 426.1149597167969, 452.1405944824219, 562.3010864257812, 440.99810791015625, 410.78643798828125, 430.6687927246094, 22.354177474975586, 34.50537872314453, 17.184757232666016, 72.60499572753906, 26.28884506225586, 192.24913024902344, 162.81417846679688, 28.441864013671875, 166.7347869873047, 40.60969161987305, 8.201472282409668, 17.303407669067383, 8.136518478393555, 8.14902114868164, 38.78750991821289, 22.18699073791504, 20.723726272583008, 12.314053535461426, 12.42758560180664, 39.188316345214844, 11.519608497619629, 29.011573791503906, 22.071014404296875, 14.928142547607422, 138.37326049804688, 8.74347972869873, 11.371158599853516, 5.239283561706543, 127.30220031738281, 21.894529342651367, 3222.718994140625, 61.788787841796875, 18.135421752929688, 86.53626251220703, 144.09262084960938, 21.83074951171875, 72.30742645263672, 41.083717346191406, 53.317874908447266, 37.6590690612793, 70.28477478027344, 38.989017486572266, 38.787010192871094, 62.03034591674805, 53.844303131103516, 100.50482177734375, 230.0287322998047, 255.94448852539062, 227.94447326660156, 113.24320983886719, 676.5661010742188, 361.5326843261719, 412.2747497558594, 388.3938903808594, 561.80078125, 114.0355224609375, 146.97756958007812, 193.09877014160156, 113.94093322753906, 145.47781372070312, 246.5284881591797, 315.8620300292969, 197.39903259277344, 995.4546508789062, 216.65744018554688, 479.2069091796875, 397.60357666015625, 273.6038513183594, 464.0702819824219, 721.5692749023438, 463.07769775390625, 372.33111572265625, 485.7201232910156, 719.5744018554688, 267.2214660644531, 457.7918395996094, 424.3568115234375, 440.99017333984375, 568.5674438476562, 389.4867858886719, 469.76544189453125, 588.9786987304688, 303.0526428222656, 321.23406982421875, 301.626708984375, 354.6070556640625, 380.54473876953125, 357.9834289550781, 342.6354675292969, 328.04840087890625, 350.9765319824219, 340.1924743652344, 342.3358459472656, 339.4736328125, 8.604769706726074, 20.749919891357422, 18.795068740844727, 113.7398452758789, 78.3652114868164, 174.24085998535156, 68.27882385253906, 16.389869689941406, 36.068603515625, 21.23392105102539, 18.844987869262695, 35.79298782348633, 11.405950546264648, 21.001976013183594, 16.968599319458008, 20.968524932861328, 18.58037567138672, 16.869802474975586, 8.072486877441406, 18.53504753112793, 39.38539123535156, 10.373931884765625, 20.775344848632812, 18.48552131652832, 23.265413284301758, 16.855253219604492, 38.205631256103516, 9.568208694458008, 10.343196868896484, 11.126251220703125, 84.6452407836914, 16.748065948486328, 30.907394409179688, 84.55722045898438, 116.82820129394531, 37.86745834350586, 40.635643005371094, 39.11840057373047, 76.26750183105469, 68.27334594726562, 85.4830322265625, 66.45484161376953, 32.684959411621094, 88.69673919677734, 228.3289794921875, 50.49089813232422, 55.9315299987793, 35.49074935913086, 128.25030517578125, 116.31354522705078, 40.937782287597656, 83.84342193603516, 313.61602783203125, 88.33789825439453, 555.2335205078125, 1329.484375, 551.33984375, 185.211181640625, 396.76617431640625, 119.7626724243164, 186.01666259765625, 452.9101867675781, 85.79890441894531, 153.35409545898438, 552.8236083984375, 440.64013671875, 488.1744079589844, 161.34246826171875, 952.2301025390625, 1043.044921875, 887.0767211914062, 293.1639709472656, 149.12969970703125, 233.8476104736328, 674.32080078125, 408.07855224609375, 344.72015380859375, 226.0652313232422, 481.6946105957031, 413.1136474609375, 306.1981506347656, 307.5696105957031, 242.29063415527344, 295.3594665527344, 408.02520751953125, 367.7763977050781, 403.7564697265625, 311.65673828125, 320.8670959472656, 356.5757141113281, 343.7960510253906, 357.53387451171875, 320.5869445800781, 332.9165954589844, 305.43377685546875, 20.074159622192383, 24.070663452148438, 21.043804168701172, 27.475101470947266, 12.309901237487793, 11.199227333068848, 12.249115943908691, 12.067848205566406, 12.150578498840332, 7.439844131469727, 7.437216281890869, 7.424959182739258, 6.481020927429199, 5.530884742736816, 7.268490791320801, 14.839070320129395, 5.432466506958008, 5.414126873016357, 9.006243705749512, 13.517560005187988, 15.984882354736328, 39.9149055480957, 15.887726783752441, 13.241235733032227, 6.2559967041015625, 9.794051170349121, 15.790011405944824, 15.747215270996094, 10.816995620727539, 8.787291526794434, 18.565593719482422, 20.049474716186523, 18.321916580200195, 31.4830379486084, 18.380558013916016, 201.3340606689453, 190.18594360351562, 413.7720642089844, 210.02894592285156, 28.898069381713867, 28.531404495239258, 24.518268585205078, 20.93526268005371, 38.601295471191406, 24.720182418823242, 30.94309425354004, 41.38566207885742, 35.168556213378906, 62.17616271972656, 87.40558624267578, 536.1326293945312, 25.22003746032715, 48.65261459350586, 26.7491455078125, 684.7820434570312, 52.70360565185547, 37.44289016723633, 132.3967742919922, 57.04850387573242, 202.0394744873047, 346.70147705078125, 128.90655517578125, 132.19161987304688, 53.28715515136719, 600.7783203125, 603.6521606445312, 1157.7373046875, 317.5259094238281, 614.948486328125, 59.660118103027344, 563.0844116210938, 350.93133544921875, 721.1611938476562, 309.1456298828125, 643.6043701171875, 365.6048889160156, 637.5132446289062, 301.2204284667969, 152.22030639648438, 300.49481201171875, 324.86260986328125, 773.4429321289062, 444.99530029296875, 437.6040344238281, 395.57635498046875, 390.845947265625, 485.88763427734375, 460.70849609375, 648.0824584960938, 626.342041015625, 469.7649841308594, 340.44036865234375, 332.4559326171875, 340.6461486816406, 329.96563720703125, 15.924614906311035, 7.960373401641846, 13.229601860046387, 37.057151794433594, 9.596205711364746, 14.851492881774902, 9.623003959655762, 83.38066101074219, 18.161195755004883, 14.667094230651855, 13.936920166015625, 14.770771980285645, 11.246984481811523, 12.059941291809082, 21.428226470947266, 85.01725769042969, 10.969770431518555, 38.78865432739258, 14.462055206298828, 5.932705402374268, 14.414776802062988, 10.955572128295898, 48.39253234863281, 11.882616996765137, 18.5385799407959, 10.895161628723145, 10.884527206420898, 155.69044494628906, 10.875948905944824, 7.506821632385254, 24.905054092407227, 51.26654052734375, 37.8622932434082, 14.27747631072998, 55.44013214111328, 59.60316848754883, 18.63132095336914, 29.376670837402344, 244.88970947265625, 67.70160675048828, 20.796463012695312, 21.61126136779785, 21.617826461791992, 32.93644332885742, 28.697343826293945, 33.990509033203125, 40.06858444213867, 33.84168243408203, 1549.2626953125, 43.42829513549805, 43.391944885253906, 423.0651550292969, 947.5125122070312, 47.927825927734375, 1797.5736083984375, 252.5536651611328, 251.224609375, 281.7664794921875, 236.91233825683594, 63.119110107421875, 401.06036376953125, 66.55848693847656, 1816.268310546875, 431.17047119140625, 441.27130126953125, 207.9046630859375, 1798.0550537109375, 1169.2574462890625, 1179.907470703125, 1080.279052734375, 820.3308715820312, 745.953125, 1299.6851806640625, 750.339599609375, 381.6748962402344, 190.71444702148438, 113.90010070800781, 357.1595764160156, 947.8897705078125, 292.80584716796875, 375.9128112792969, 427.2374267578125, 348.67083740234375, 419.8716125488281, 330.9653015136719, 344.6396789550781, 319.911865234375, 336.2718200683594, 311.08197021484375, 355.8542785644531, 323.9664001464844, 30.246227264404297, 32.10167694091797, 11.525991439819336, 22.58710289001465, 15.562520027160645, 6.013193130493164, 6.011186122894287, 5.996293544769287, 20.979402542114258, 17.8873233795166, 8.542890548706055, 15.341580390930176, 27.754722595214844, 20.20962142944336, 11.118025779724121, 15.772581100463867, 104.18485260009766, 15.890792846679688, 10.906944274902344, 29.28933334350586, 11.629688262939453, 12.523253440856934, 9.154129981994629, 16.815866470336914, 14.967107772827148, 10.95538330078125, 11.641386985778809, 9.14840030670166, 7.497352600097656, 9.1421480178833, 426.7137451171875, 20.42683982849121, 41.150203704833984, 143.1245574951172, 47.39933395385742, 47.99120330810547, 268.8724365234375, 69.86699676513672, 439.13690185546875, 443.2381896972656, 238.11135864257812, 294.3011474609375, 50.22335433959961, 41.66181564331055, 244.91770935058594, 164.834716796875, 28.398866653442383, 113.65288543701172, 48.75916290283203, 41.42781448364258, 61.229766845703125, 129.71530151367188, 37.58123016357422, 67.95952606201172, 243.4552001953125, 498.3908386230469, 312.71356201171875, 333.4348449707031, 515.299560546875, 909.86181640625, 237.3905029296875, 188.69065856933594, 1462.5032958984375, 148.04183959960938, 1276.625732421875, 891.1617431640625, 815.0942993164062, 455.6063232421875, 1122.3046875, 141.32553100585938, 216.42984008789062, 570.138671875, 325.4945373535156, 1118.8355712890625, 603.5482788085938, 551.0449829101562, 419.2640686035156, 590.7158813476562, 529.7015991210938, 425.74609375, 379.90863037109375, 346.19659423828125, 341.7908630371094, 319.2520751953125, 318.66363525390625, 321.65631103515625, 316.8317565917969, 75.97887420654297, 17.023269653320312, 16.94549560546875, 32.23302459716797, 12.629860877990723, 23.096349716186523, 19.83078384399414, 13.899771690368652, 116.75700378417969, 27.592355728149414, 11.994315147399902, 59.6093635559082, 16.890413284301758, 16.87738609313965, 8.74228286743164, 26.88071060180664, 31.499406814575195, 26.127002716064453, 8.611870765686035, 10.866530418395996, 11.64995288848877, 28.414670944213867, 10.734917640686035, 21.494356155395508, 14.43398380279541, 6.073972225189209, 21.108627319335938, 18.725881576538086, 32.26082992553711, 20.337635040283203, 18.68004035949707, 191.1099395751953, 64.69466400146484, 58.939823150634766, 287.184326171875, 24.937862396240234, 164.15643310546875, 206.33848571777344, 82.5180435180664, 354.03717041015625, 55.82012939453125, 187.55105590820312, 50.66926956176758, 52.784385681152344, 128.61172485351562, 764.6715698242188, 49.300498962402344, 146.3905029296875, 696.9190673828125, 226.6896209716797, 92.69507598876953, 96.527587890625, 112.01498413085938, 252.3350067138672, 184.11227416992188, 785.3258666992188, 151.93133544921875, 157.62283325195312, 99.74901580810547, 292.509765625, 168.1746826171875, 1052.8525390625, 302.5734558105469, 224.6082000732422, 389.7240295410156, 500.8638610839844, 219.15762329101562, 254.15048217773438, 202.47808837890625, 235.40272521972656, 619.1237182617188, 366.13958740234375, 238.1011962890625, 218.5072784423828, 370.6165466308594, 448.3246765136719, 312.1120300292969, 414.443115234375, 350.5606994628906, 266.89605712890625, 275.8709411621094, 317.4923400878906, 341.148681640625, 281.69921875, 293.673583984375, 271.1646423339844, 258.0384521484375, 262.85101318359375, 245.1278076171875, 250.75755310058594, 258.07220458984375, 108.64710235595703, 10.617918014526367, 13.892010688781738, 13.873919486999512, 10.570713996887207, 13.856538772583008, 6.439540863037109, 6.439034461975098, 6.438515663146973, 13.733366012573242, 8.827964782714844, 38.154884338378906, 154.4514617919922, 10.408989906311035, 10.280494689941406, 82.87139129638672, 8.724234580993652, 10.241095542907715, 16.45511817932129, 10.992703437805176, 6.2538981437683105, 7.806829452514648, 8.554645538330078, 10.78768539428711, 10.772676467895508, 8.548263549804688, 6.2139058113098145, 6.212897777557373, 8.529555320739746, 6.180771350860596, 111.90180206298828, 115.28826141357422, 12.788686752319336, 104.86430358886719, 62.606746673583984, 40.77455139160156, 294.28729248046875, 43.53314208984375, 35.206851959228516, 112.62401580810547, 14.877457618713379, 23.610517501831055, 30.460773468017578, 77.63018798828125, 20.363035202026367, 152.89210510253906, 124.43807220458984, 87.18769073486328, 46.417884826660156, 36.337371826171875, 168.6311492919922, 27.820499420166016, 505.7679443359375, 26.77005958557129, 2320.319580078125, 74.37728881835938, 49.062042236328125, 205.94276428222656, 93.71383666992188, 246.5035858154297, 221.8470916748047, 207.68116760253906, 214.78526306152344, 70.3529052734375, 912.8681640625, 1194.3697509765625, 146.6277618408203, 478.40771484375, 956.2958984375, 315.33294677734375, 294.9403991699219, 239.8429412841797, 162.39724731445312, 500.0057067871094, 430.674560546875, 386.9965515136719, 306.2016906738281, 290.3031921386719, 248.21600341796875, 428.9157409667969, 358.42584228515625, 415.4787902832031, 386.0200500488281, 332.6876220703125, 389.3085632324219, 348.4398193359375, 337.61419677734375, 447.9464111328125, 291.3792724609375, 273.4709777832031, 288.6572570800781, 278.6632385253906, 295.8915710449219, 262.5946960449219, 29.592222213745117, 7.8609418869018555, 15.0118408203125, 7.797563076019287, 39.34566879272461, 40.591983795166016, 38.459659576416016, 36.5655517578125, 146.22640991210938, 36.54383087158203, 36.545509338378906, 35.43286895751953, 38.19637680053711, 25.381540298461914, 36.323814392089844, 37.99509048461914, 12.704008102416992, 36.27414321899414, 12.664377212524414, 36.787837982177734, 36.20903015136719, 38.492340087890625, 7.471420764923096, 36.18444061279297, 17.792205810546875, 38.47272872924805, 36.1713981628418, 36.14445877075195, 37.84904479980469, 21.71010971069336, 115.77163696289062, 36.13237762451172, 36.13872146606445, 37.720787048339844, 36.01199722290039, 70.91809844970703, 202.3789520263672, 74.35447692871094, 121.48272705078125, 47.73351287841797, 337.6457214355469, 122.56099700927734, 222.12213134765625, 1824.9578857421875, 81.14653015136719, 85.30419921875, 45.117008209228516, 124.35986328125, 53.458255767822266, 472.9286804199219, 145.15435791015625, 154.37286376953125, 256.029541015625, 411.2498779296875, 138.20181274414062, 140.70709228515625, 76.79048919677734, 124.38087463378906, 310.13934326171875, 246.12843322753906, 169.5912628173828, 307.55181884765625, 155.10769653320312, 202.18638610839844, 132.2470245361328, 182.6222381591797, 160.75746154785156, 177.6023712158203, 220.74005126953125, 246.59423828125, 155.5170440673828, 175.36441040039062, 178.39402770996094, 183.77487182617188, 177.14993286132812, 139.1714324951172, 140.7040252685547], \"Total\": [3771.0, 8657.0, 10981.0, 7851.0, 7390.0, 5957.0, 4980.0, 4429.0, 3987.0, 6165.0, 3179.0, 6317.0, 4919.0, 1663.0, 5212.0, 4335.0, 2390.0, 3532.0, 1859.0, 2519.0, 1489.0, 1594.0, 1291.0, 3313.0, 529.0, 1301.0, 523.0, 678.0, 2156.0, 646.0, 25.400367736816406, 20.562294006347656, 10.752994537353516, 12.990911483764648, 11.902268409729004, 52.57462692260742, 108.67517852783203, 34.357784271240234, 34.35652160644531, 36.91058349609375, 63.90544891357422, 81.72875213623047, 22.545543670654297, 30.837047576904297, 24.905445098876953, 22.498960494995117, 84.96089172363281, 179.4460906982422, 27.145889282226562, 50.746707916259766, 55.258995056152344, 87.22620391845703, 27.054649353027344, 36.60969161987305, 10.576193809509277, 29.363468170166016, 12.926589965820312, 12.939508438110352, 58.70502853393555, 7.026462078094482, 139.72756958007812, 40.997314453125, 30.23249053955078, 251.4303436279297, 268.3930358886719, 172.5140380859375, 102.12073516845703, 6317.919921875, 172.23606872558594, 267.079345703125, 301.5704345703125, 137.22317504882812, 818.859130859375, 68.0617904663086, 998.5321655273438, 6165.4931640625, 1578.8104248046875, 2026.218994140625, 501.05010986328125, 2156.381103515625, 1279.6728515625, 387.5011901855469, 826.909423828125, 1565.6019287109375, 623.90625, 706.700927734375, 597.9740600585938, 1610.06591796875, 717.1641235351562, 475.615966796875, 3757.713623046875, 858.4463500976562, 774.7272338867188, 2293.4375, 727.2263793945312, 10981.845703125, 826.4683227539062, 2042.650146484375, 1011.4268188476562, 1322.66064453125, 4335.21337890625, 994.8018798828125, 3646.111572265625, 2781.8271484375, 4449.671875, 5125.25439453125, 2532.221923828125, 5111.068359375, 2022.414794921875, 1512.1788330078125, 1483.3564453125, 1865.1300048828125, 1848.137939453125, 1612.6304931640625, 1862.4554443359375, 5212.6357421875, 4107.9931640625, 2318.54150390625, 2140.039794921875, 3793.0908203125, 2198.519775390625, 2521.160400390625, 2508.520263671875, 77.13124084472656, 18.22071075439453, 14.769250869750977, 20.913562774658203, 20.938674926757812, 11.296278953552246, 20.949037551879883, 17.442062377929688, 20.965791702270508, 16.490802764892578, 17.46234130859375, 11.319807052612305, 17.468294143676758, 42.9246826171875, 10.518802642822266, 7.86275577545166, 7.8647236824035645, 19.207496643066406, 64.0484848022461, 16.582311630249023, 41.271202087402344, 13.119855880737305, 15.758845329284668, 10.550535202026367, 25.420433044433594, 13.08289909362793, 8.740042686462402, 11.30770206451416, 13.968674659729004, 21.979434967041016, 287.16815185546875, 44.580928802490234, 53.61369323730469, 19.283451080322266, 29.927885055541992, 590.459228515625, 592.9898681640625, 27.4354190826416, 25.531051635742188, 31.21990394592285, 234.14678955078125, 37.252262115478516, 898.9009399414062, 604.9801635742188, 282.53131103515625, 261.1155090332031, 1237.844482421875, 214.2150115966797, 94.83841705322266, 564.96630859375, 259.61737060546875, 1105.48046875, 65.39939880371094, 187.075927734375, 329.6917724609375, 297.5058898925781, 240.54043579101562, 267.6246032714844, 839.9959106445312, 153.99513244628906, 7390.29736328125, 1548.5042724609375, 1250.828857421875, 698.4092407226562, 583.9395141601562, 712.6463012695312, 420.93115234375, 822.8834838867188, 411.821533203125, 488.6180114746094, 781.3095703125, 1516.1905517578125, 1185.2369384765625, 950.7515869140625, 5957.2177734375, 7851.4853515625, 1859.7584228515625, 4919.4912109375, 8657.6669921875, 995.0968017578125, 1561.3330078125, 3179.887939453125, 4980.81640625, 4429.5673828125, 3793.0908203125, 1403.894287109375, 3987.917724609375, 3095.436767578125, 3532.53662109375, 1291.155029296875, 2390.846923828125, 3313.664306640625, 10981.845703125, 3850.15625, 3014.374755859375, 4449.671875, 23.570022583007812, 36.971622467041016, 18.457632064819336, 78.9278335571289, 28.693328857421875, 211.24395751953125, 179.4384307861328, 31.615507125854492, 185.61878967285156, 45.235992431640625, 9.147364616394043, 19.428876876831055, 9.17194652557373, 9.193780899047852, 44.09459686279297, 25.39478874206543, 23.72892189025879, 14.117238998413086, 14.25299072265625, 44.98967742919922, 13.27341079711914, 33.653099060058594, 25.615060806274414, 17.353975296020508, 160.96385192871094, 10.188441276550293, 13.25861930847168, 6.10971212387085, 148.67918395996094, 25.584686279296875, 3771.855712890625, 72.72412109375, 21.220077514648438, 103.89326477050781, 177.80833435058594, 25.60282325744629, 88.43588256835938, 49.332366943359375, 64.73005676269531, 45.19390106201172, 87.2685775756836, 47.149864196777344, 47.17222213745117, 78.41173553466797, 69.61065673828125, 141.4918975830078, 369.08538818359375, 419.8733215332031, 381.1715393066406, 171.13839721679688, 1489.927734375, 699.3509521484375, 883.6464233398438, 826.53515625, 1414.4945068359375, 191.24307250976562, 274.2502746582031, 407.5188293457031, 198.0068817138672, 293.1288757324219, 637.7333984375, 955.7918701171875, 470.5958251953125, 5957.2177734375, 551.8997802734375, 2022.414794921875, 1512.1788330078125, 825.279541015625, 2031.6241455078125, 4449.671875, 2162.6123046875, 1474.880859375, 2508.520263671875, 5212.6357421875, 859.4788208007812, 2532.221923828125, 2318.54150390625, 2647.83935546875, 5111.068359375, 2200.873291015625, 3850.15625, 10981.845703125, 1313.225830078125, 1626.5301513671875, 1353.0543212890625, 2713.757080078125, 4919.4912109375, 3793.0908203125, 2996.066162109375, 2293.4375, 3987.917724609375, 4107.9931640625, 8657.6669921875, 7851.4853515625, 9.674095153808594, 23.335004806518555, 21.33928108215332, 133.33856201171875, 91.94696044921875, 204.8213348388672, 80.2775650024414, 19.316486358642578, 42.520206451416016, 25.139524459838867, 22.344301223754883, 42.446685791015625, 13.532796859741211, 25.118471145629883, 20.29932403564453, 25.10700798034668, 22.329633712768555, 20.294389724731445, 9.717472076416016, 22.318994522094727, 47.498958587646484, 12.518575668334961, 25.091211318969727, 22.34046745300293, 28.127605438232422, 20.390769958496094, 46.25583267211914, 11.584689140319824, 12.523158073425293, 13.477645874023438, 103.09777069091797, 20.318798065185547, 37.77851104736328, 104.4700698852539, 145.9812774658203, 46.62290573120117, 50.18549728393555, 48.31083679199219, 98.37083435058594, 88.32412719726562, 112.26832580566406, 86.4381332397461, 40.71974563598633, 118.85299682617188, 334.9317321777344, 65.21658325195312, 73.15151977539062, 44.577754974365234, 184.30807495117188, 167.6086883544922, 52.75040054321289, 119.59164428710938, 644.0442504882812, 137.64431762695312, 1405.09912109375, 4335.21337890625, 1522.5543212890625, 371.1832580566406, 1020.3890991210938, 211.9873046875, 390.6254577636719, 1301.3984375, 138.93460083007812, 310.7325744628906, 1848.137939453125, 1370.28076171875, 1663.36767578125, 337.6554260253906, 5111.068359375, 6165.4931640625, 5125.25439453125, 976.1072998046875, 316.8778076171875, 719.0829467773438, 5212.6357421875, 2155.0107421875, 1596.9361572265625, 721.1331787109375, 3757.713623046875, 2883.8828125, 1524.71484375, 1565.6019287109375, 987.6914672851562, 1663.4337158203125, 3987.917724609375, 3095.436767578125, 4449.671875, 2200.873291015625, 2519.661865234375, 3850.15625, 4107.9931640625, 6317.919921875, 3646.111572265625, 7851.4853515625, 3313.664306640625, 21.683452606201172, 26.036907196044922, 23.661298751831055, 30.924057006835938, 14.052164077758789, 12.791153907775879, 14.019932746887207, 13.842326164245605, 13.938206672668457, 8.54716682434082, 8.56148910522461, 8.5621919631958, 7.474720001220703, 6.399022579193115, 8.461484909057617, 17.448923110961914, 6.393801212310791, 6.3951263427734375, 10.665824890136719, 16.037809371948242, 19.02062225341797, 47.680381774902344, 18.991600036621094, 15.829694747924805, 7.486631393432617, 11.748468399047852, 18.980113983154297, 18.943815231323242, 13.020127296447754, 10.59660816192627, 22.42681884765625, 24.305675506591797, 22.18268585205078, 38.75749969482422, 22.41440773010254, 277.0453796386719, 271.04608154296875, 623.1321411132812, 305.7481994628906, 36.972259521484375, 36.66383361816406, 31.277538299560547, 26.42078399658203, 51.77535629272461, 31.727771759033203, 41.61806106567383, 58.446048736572266, 48.67235565185547, 96.06963348388672, 145.1968536376953, 1277.71630859375, 33.48138427734375, 75.32504272460938, 36.09714889526367, 2170.42431640625, 85.28823852539062, 56.89621353149414, 308.23822021484375, 100.71991729736328, 569.0938720703125, 1196.7198486328125, 309.19879150390625, 331.1830139160156, 92.90196990966797, 2829.867431640625, 2883.8828125, 7390.29736328125, 1258.2999267578125, 3532.53662109375, 110.44049835205078, 3313.664306640625, 1652.485107421875, 5125.25439453125, 1525.0673828125, 4980.81640625, 2031.6241455078125, 5111.068359375, 1525.4622802734375, 496.8009338378906, 1548.5042724609375, 1763.931396484375, 7851.4853515625, 3095.436767578125, 3014.374755859375, 2521.160400390625, 2557.460205078125, 4107.9931640625, 3987.917724609375, 8657.6669921875, 10981.845703125, 5212.6357421875, 2647.83935546875, 2713.757080078125, 3850.15625, 4919.4912109375, 17.611417770385742, 8.830000877380371, 14.686429977416992, 41.19088363647461, 10.772538185119629, 16.674381256103516, 10.811077117919922, 93.74285125732422, 20.49346351623535, 16.58267593383789, 15.766257286071777, 16.739582061767578, 12.789912223815918, 13.779558181762695, 24.606840133666992, 97.88390350341797, 12.646700859069824, 44.745296478271484, 16.683229446411133, 6.859719276428223, 16.67734146118164, 12.681522369384766, 56.0736083984375, 13.791013717651367, 21.543367385864258, 12.687034606933594, 12.687516212463379, 181.49949645996094, 12.686018943786621, 8.811661720275879, 29.246286392211914, 60.913543701171875, 45.94569396972656, 16.82713508605957, 70.73658752441406, 77.20367431640625, 22.3453369140625, 36.5184440612793, 376.7810363769531, 92.64421844482422, 25.361812591552734, 26.473526000976562, 26.57381248474121, 42.7729377746582, 36.61109924316406, 44.502403259277344, 53.79833984375, 44.369571685791016, 3987.917724609375, 59.824947357177734, 59.85446548461914, 875.5464477539062, 2390.846923828125, 69.6712646484375, 5957.2177734375, 533.1937255859375, 530.3640747070312, 614.7265625, 511.62237548828125, 98.89108276367188, 1063.7193603515625, 105.86360168457031, 7851.4853515625, 1234.91748046875, 1304.6748046875, 482.5610656738281, 8657.6669921875, 4919.4912109375, 4980.81640625, 4429.5673828125, 3532.53662109375, 3179.887939453125, 7390.29736328125, 3313.664306640625, 1375.5517578125, 511.1203918457031, 236.1243896484375, 1735.0953369140625, 10981.845703125, 1301.135498046875, 2162.6123046875, 3095.436767578125, 2283.450439453125, 3793.0908203125, 2170.42431640625, 2713.757080078125, 2140.039794921875, 3014.374755859375, 1859.7584228515625, 5125.25439453125, 4107.9931640625, 34.247982025146484, 36.45497512817383, 13.172176361083984, 26.10089111328125, 18.08160400390625, 7.0389862060546875, 7.0373640060424805, 7.039762496948242, 24.666229248046875, 21.060075759887695, 10.097397804260254, 18.133819580078125, 32.80748748779297, 23.93360137939453, 13.176186561584473, 18.73797607421875, 123.86227416992188, 18.940706253051758, 13.021710395812988, 35.043880462646484, 13.935705184936523, 15.024171829223633, 10.993640899658203, 20.211181640625, 17.9993896484375, 13.17956829071045, 14.047930717468262, 11.041520118713379, 9.054101943969727, 11.07221794128418, 523.2239379882812, 24.799243927001953, 50.78535461425781, 184.34140014648438, 59.20235824584961, 61.037269592285156, 367.68939208984375, 91.38597869873047, 646.4028930664062, 678.1787109375, 358.88116455078125, 452.1593017578125, 67.39132690429688, 55.596900939941406, 400.76123046875, 264.9984130859375, 36.626068115234375, 179.24403381347656, 68.29449462890625, 56.967987060546875, 90.19086456298828, 219.4572296142578, 51.10923767089844, 105.25944519042969, 521.8068237304688, 1298.26904296875, 726.4098510742188, 822.6384887695312, 1476.2628173828125, 3179.887939453125, 561.6210327148438, 445.71575927734375, 8657.6669921875, 329.10595703125, 7851.4853515625, 4919.4912109375, 4429.5673828125, 1859.7584228515625, 7390.29736328125, 323.28082275390625, 637.1480712890625, 3014.374755859375, 1235.898193359375, 10981.845703125, 3850.15625, 3532.53662109375, 2414.52197265625, 4980.81640625, 4107.9931640625, 2829.867431640625, 2140.039794921875, 2053.15185546875, 2244.146240234375, 1735.0953369140625, 1763.931396484375, 2557.460205078125, 3793.0908203125, 78.15794372558594, 17.990699768066406, 17.99371337890625, 34.30548095703125, 13.508286476135254, 25.19359016418457, 21.669681549072266, 15.378032684326172, 130.1610565185547, 30.7810001373291, 13.474028587341309, 67.11276245117188, 19.032503128051758, 19.044658660888672, 9.912185668945312, 30.886131286621094, 36.27894973754883, 30.148056030273438, 10.00861930847168, 12.692962646484375, 13.621699333190918, 33.597469329833984, 12.714399337768555, 25.574872970581055, 17.25153160095215, 7.2790141105651855, 25.391273498535156, 22.621671676635742, 38.996559143066406, 24.618820190429688, 22.671138763427734, 243.67298889160156, 81.31593322753906, 74.19395446777344, 389.72412109375, 30.685775756835938, 228.18429565429688, 295.9966735839844, 111.0101547241211, 554.1448364257812, 73.86831665039062, 283.8232727050781, 66.83427429199219, 70.4660873413086, 197.6260223388672, 1663.36767578125, 66.9204330444336, 244.94635009765625, 1594.6348876953125, 426.6831970214844, 144.4452362060547, 153.9089813232422, 187.49647521972656, 546.1071166992188, 369.0305480957031, 2519.661865234375, 300.0254821777344, 325.6033020019531, 175.00875854492188, 804.86279296875, 368.153076171875, 5212.6357421875, 921.7747192382812, 606.7147216796875, 1489.927734375, 2713.757080078125, 656.9805297851562, 862.595947265625, 607.318115234375, 859.4788208007812, 5957.2177734375, 2162.6123046875, 916.7952880859375, 755.5281982421875, 2996.066162109375, 5125.25439453125, 2200.873291015625, 5111.068359375, 3850.15625, 1553.1007080078125, 1840.2685546875, 3793.0908203125, 7851.4853515625, 2883.8828125, 3757.713623046875, 2414.52197265625, 2155.0107421875, 3014.374755859375, 1522.5543212890625, 2829.867431640625, 8657.6669921875, 112.86439514160156, 11.886384963989258, 15.61012077331543, 15.611180305480957, 11.898453712463379, 15.614540100097656, 7.316751003265381, 7.31624698638916, 7.315727710723877, 15.646466255187988, 10.0657958984375, 43.55545425415039, 176.53775024414062, 11.901104927062988, 11.834060668945312, 95.46824645996094, 10.083861351013184, 11.912576675415039, 19.154155731201172, 12.835306167602539, 7.319316387176514, 9.164788246154785, 10.04820728302002, 12.673293113708496, 12.672090530395508, 10.061371803283691, 7.316800594329834, 7.317822456359863, 10.089523315429688, 7.316683292388916, 133.1700897216797, 142.8406982421875, 15.236685752868652, 131.2989044189453, 77.75202941894531, 50.30438995361328, 456.8165588378906, 58.12458419799805, 46.42649841308594, 168.99761962890625, 18.356748580932617, 30.802183151245117, 41.02256774902344, 120.1099853515625, 26.292598724365234, 269.2817077636719, 213.41270446777344, 143.47084045410156, 68.85606384277344, 51.681087493896484, 314.72943115234375, 37.8487663269043, 1291.155029296875, 36.66216278076172, 8657.6669921875, 128.75567626953125, 77.31178283691406, 477.4495849609375, 176.8151092529297, 632.2744750976562, 555.263427734375, 531.1082153320312, 580.1896362304688, 128.39141845703125, 4980.81640625, 7851.4853515625, 391.6963806152344, 2414.52197265625, 7390.29736328125, 1301.135498046875, 1230.3077392578125, 890.7483520507812, 472.2732238769531, 4107.9931640625, 3646.111572265625, 2996.066162109375, 1859.7584228515625, 1751.7637939453125, 1279.78466796875, 4919.4912109375, 3313.664306640625, 5125.25439453125, 4429.5673828125, 3179.887939453125, 5212.6357421875, 3793.0908203125, 3850.15625, 10981.845703125, 2557.460205078125, 2053.15185546875, 3532.53662109375, 3014.374755859375, 5111.068359375, 2647.83935546875, 35.632957458496094, 9.51122760772705, 18.268657684326172, 9.55169677734375, 48.66020965576172, 50.67842102050781, 48.70079803466797, 46.496925354003906, 185.99200439453125, 46.51223373413086, 46.5368766784668, 45.12474060058594, 48.780155181884766, 32.41747283935547, 46.60307693481445, 48.820274353027344, 16.325706481933594, 46.629478454589844, 16.280132293701172, 47.340492248535156, 46.65233612060547, 49.595035552978516, 9.635403633117676, 46.671302795410156, 22.95584487915039, 49.63874053955078, 46.67076110839844, 46.651939392089844, 48.87605285644531, 28.05127716064453, 149.7404327392578, 46.691200256347656, 46.71120071411133, 48.955047607421875, 46.76361083984375, 92.85607147216797, 278.69354248046875, 98.69844818115234, 169.39044189453125, 63.01307678222656, 529.2167358398438, 185.5415496826172, 392.74249267578125, 10981.845703125, 147.28744506835938, 163.021728515625, 64.95498657226562, 328.65533447265625, 92.00860595703125, 4429.5673828125, 562.65771484375, 699.3509521484375, 2042.650146484375, 6317.919921875, 693.9151611328125, 772.5195922851562, 213.75323486328125, 598.6256713867188, 4449.671875, 2781.8271484375, 1268.4749755859375, 5212.6357421875, 1117.9642333984375, 2156.381103515625, 826.4683227539062, 1862.4554443359375, 1407.0128173828125, 1865.1300048828125, 3646.111572265625, 6165.4931640625, 1578.8104248046875, 2508.520263671875, 2996.066162109375, 3757.713623046875, 3793.0908203125, 1173.9700927734375, 1397.125244140625], \"Category\": [\"Default\", \"Default\", \"Default\", \"Default\", \"Default\", \"Default\", \"Default\", \"Default\", \"Default\", \"Default\", \"Default\", \"Default\", \"Default\", \"Default\", \"Default\", \"Default\", \"Default\", \"Default\", \"Default\", \"Default\", \"Default\", \"Default\", \"Default\", \"Default\", \"Default\", \"Default\", \"Default\", \"Default\", \"Default\", \"Default\", \"Topic1\", \"Topic1\", \"Topic1\", \"Topic1\", \"Topic1\", \"Topic1\", \"Topic1\", \"Topic1\", \"Topic1\", \"Topic1\", \"Topic1\", \"Topic1\", \"Topic1\", \"Topic1\", \"Topic1\", \"Topic1\", \"Topic1\", \"Topic1\", \"Topic1\", \"Topic1\", \"Topic1\", \"Topic1\", \"Topic1\", \"Topic1\", \"Topic1\", \"Topic1\", \"Topic1\", \"Topic1\", \"Topic1\", \"Topic1\", \"Topic1\", \"Topic1\", \"Topic1\", \"Topic1\", \"Topic1\", \"Topic1\", \"Topic1\", \"Topic1\", \"Topic1\", \"Topic1\", \"Topic1\", \"Topic1\", \"Topic1\", \"Topic1\", \"Topic1\", \"Topic1\", \"Topic1\", \"Topic1\", \"Topic1\", \"Topic1\", \"Topic1\", \"Topic1\", \"Topic1\", \"Topic1\", \"Topic1\", \"Topic1\", \"Topic1\", \"Topic1\", \"Topic1\", \"Topic1\", \"Topic1\", \"Topic1\", \"Topic1\", \"Topic1\", \"Topic1\", \"Topic1\", \"Topic1\", \"Topic1\", \"Topic1\", \"Topic1\", \"Topic1\", \"Topic1\", \"Topic1\", \"Topic1\", \"Topic1\", \"Topic1\", \"Topic1\", \"Topic1\", \"Topic1\", \"Topic1\", \"Topic1\", \"Topic1\", \"Topic1\", \"Topic1\", \"Topic1\", \"Topic1\", \"Topic1\", \"Topic1\", \"Topic1\", \"Topic1\", \"Topic1\", \"Topic1\", \"Topic1\", \"Topic2\", \"Topic2\", \"Topic2\", \"Topic2\", \"Topic2\", \"Topic2\", \"Topic2\", \"Topic2\", \"Topic2\", \"Topic2\", \"Topic2\", \"Topic2\", \"Topic2\", \"Topic2\", \"Topic2\", \"Topic2\", \"Topic2\", \"Topic2\", \"Topic2\", \"Topic2\", \"Topic2\", \"Topic2\", \"Topic2\", \"Topic2\", \"Topic2\", \"Topic2\", \"Topic2\", \"Topic2\", \"Topic2\", \"Topic2\", \"Topic2\", \"Topic2\", \"Topic2\", \"Topic2\", \"Topic2\", \"Topic2\", \"Topic2\", \"Topic2\", \"Topic2\", \"Topic2\", \"Topic2\", \"Topic2\", \"Topic2\", \"Topic2\", \"Topic2\", \"Topic2\", \"Topic2\", \"Topic2\", \"Topic2\", \"Topic2\", \"Topic2\", \"Topic2\", \"Topic2\", \"Topic2\", \"Topic2\", \"Topic2\", \"Topic2\", \"Topic2\", \"Topic2\", \"Topic2\", \"Topic2\", \"Topic2\", \"Topic2\", \"Topic2\", \"Topic2\", \"Topic2\", \"Topic2\", \"Topic2\", \"Topic2\", \"Topic2\", \"Topic2\", \"Topic2\", \"Topic2\", \"Topic2\", \"Topic2\", \"Topic2\", \"Topic2\", \"Topic2\", \"Topic2\", \"Topic2\", \"Topic2\", \"Topic2\", \"Topic2\", \"Topic2\", \"Topic2\", \"Topic2\", \"Topic2\", \"Topic2\", \"Topic2\", \"Topic2\", \"Topic2\", \"Topic2\", \"Topic2\", \"Topic2\", \"Topic2\", \"Topic2\", \"Topic3\", \"Topic3\", \"Topic3\", \"Topic3\", \"Topic3\", \"Topic3\", \"Topic3\", \"Topic3\", \"Topic3\", \"Topic3\", \"Topic3\", \"Topic3\", \"Topic3\", \"Topic3\", \"Topic3\", \"Topic3\", \"Topic3\", \"Topic3\", \"Topic3\", \"Topic3\", \"Topic3\", \"Topic3\", \"Topic3\", \"Topic3\", \"Topic3\", \"Topic3\", \"Topic3\", \"Topic3\", \"Topic3\", \"Topic3\", \"Topic3\", \"Topic3\", \"Topic3\", \"Topic3\", \"Topic3\", \"Topic3\", \"Topic3\", \"Topic3\", \"Topic3\", \"Topic3\", \"Topic3\", \"Topic3\", \"Topic3\", \"Topic3\", \"Topic3\", \"Topic3\", \"Topic3\", \"Topic3\", \"Topic3\", \"Topic3\", \"Topic3\", \"Topic3\", \"Topic3\", \"Topic3\", \"Topic3\", \"Topic3\", \"Topic3\", \"Topic3\", \"Topic3\", \"Topic3\", \"Topic3\", \"Topic3\", \"Topic3\", \"Topic3\", \"Topic3\", \"Topic3\", \"Topic3\", \"Topic3\", \"Topic3\", \"Topic3\", \"Topic3\", \"Topic3\", \"Topic3\", \"Topic3\", \"Topic3\", \"Topic3\", \"Topic3\", \"Topic3\", \"Topic3\", \"Topic3\", \"Topic3\", \"Topic3\", \"Topic3\", \"Topic3\", \"Topic3\", \"Topic3\", \"Topic3\", \"Topic3\", \"Topic3\", \"Topic3\", \"Topic3\", \"Topic3\", \"Topic3\", \"Topic3\", \"Topic4\", \"Topic4\", \"Topic4\", \"Topic4\", \"Topic4\", \"Topic4\", \"Topic4\", \"Topic4\", \"Topic4\", \"Topic4\", \"Topic4\", \"Topic4\", \"Topic4\", \"Topic4\", \"Topic4\", \"Topic4\", \"Topic4\", \"Topic4\", \"Topic4\", \"Topic4\", \"Topic4\", \"Topic4\", \"Topic4\", \"Topic4\", \"Topic4\", \"Topic4\", \"Topic4\", \"Topic4\", \"Topic4\", \"Topic4\", \"Topic4\", \"Topic4\", \"Topic4\", \"Topic4\", \"Topic4\", \"Topic4\", \"Topic4\", \"Topic4\", \"Topic4\", \"Topic4\", \"Topic4\", \"Topic4\", \"Topic4\", \"Topic4\", \"Topic4\", \"Topic4\", \"Topic4\", \"Topic4\", \"Topic4\", \"Topic4\", \"Topic4\", \"Topic4\", \"Topic4\", \"Topic4\", \"Topic4\", \"Topic4\", \"Topic4\", \"Topic4\", \"Topic4\", \"Topic4\", \"Topic4\", \"Topic4\", \"Topic4\", \"Topic4\", \"Topic4\", \"Topic4\", \"Topic4\", \"Topic4\", \"Topic4\", \"Topic4\", \"Topic4\", \"Topic4\", \"Topic4\", \"Topic4\", \"Topic4\", \"Topic4\", \"Topic4\", \"Topic4\", \"Topic4\", \"Topic4\", \"Topic4\", \"Topic4\", \"Topic4\", \"Topic4\", \"Topic4\", \"Topic4\", \"Topic4\", \"Topic4\", \"Topic4\", \"Topic4\", \"Topic4\", \"Topic4\", \"Topic4\", \"Topic4\", \"Topic4\", \"Topic5\", \"Topic5\", \"Topic5\", \"Topic5\", \"Topic5\", \"Topic5\", \"Topic5\", \"Topic5\", \"Topic5\", \"Topic5\", \"Topic5\", \"Topic5\", \"Topic5\", \"Topic5\", \"Topic5\", \"Topic5\", \"Topic5\", \"Topic5\", \"Topic5\", \"Topic5\", \"Topic5\", \"Topic5\", \"Topic5\", \"Topic5\", \"Topic5\", \"Topic5\", \"Topic5\", \"Topic5\", \"Topic5\", \"Topic5\", \"Topic5\", \"Topic5\", \"Topic5\", \"Topic5\", \"Topic5\", \"Topic5\", \"Topic5\", \"Topic5\", \"Topic5\", \"Topic5\", \"Topic5\", \"Topic5\", \"Topic5\", \"Topic5\", \"Topic5\", \"Topic5\", \"Topic5\", \"Topic5\", \"Topic5\", \"Topic5\", \"Topic5\", \"Topic5\", \"Topic5\", \"Topic5\", \"Topic5\", \"Topic5\", \"Topic5\", \"Topic5\", \"Topic5\", \"Topic5\", \"Topic5\", \"Topic5\", \"Topic5\", \"Topic5\", \"Topic5\", \"Topic5\", \"Topic5\", \"Topic5\", \"Topic5\", \"Topic5\", \"Topic5\", \"Topic5\", \"Topic5\", \"Topic5\", \"Topic5\", \"Topic5\", \"Topic5\", \"Topic5\", \"Topic5\", \"Topic5\", \"Topic5\", \"Topic5\", \"Topic5\", \"Topic5\", \"Topic5\", \"Topic5\", \"Topic5\", \"Topic5\", \"Topic5\", \"Topic5\", \"Topic5\", \"Topic5\", \"Topic5\", \"Topic5\", \"Topic5\", \"Topic6\", \"Topic6\", \"Topic6\", \"Topic6\", \"Topic6\", \"Topic6\", \"Topic6\", \"Topic6\", \"Topic6\", \"Topic6\", \"Topic6\", \"Topic6\", \"Topic6\", \"Topic6\", \"Topic6\", \"Topic6\", \"Topic6\", \"Topic6\", \"Topic6\", \"Topic6\", \"Topic6\", \"Topic6\", \"Topic6\", \"Topic6\", \"Topic6\", \"Topic6\", \"Topic6\", \"Topic6\", \"Topic6\", \"Topic6\", \"Topic6\", \"Topic6\", \"Topic6\", \"Topic6\", \"Topic6\", \"Topic6\", \"Topic6\", \"Topic6\", \"Topic6\", \"Topic6\", \"Topic6\", \"Topic6\", \"Topic6\", \"Topic6\", \"Topic6\", \"Topic6\", \"Topic6\", \"Topic6\", \"Topic6\", \"Topic6\", \"Topic6\", \"Topic6\", \"Topic6\", \"Topic6\", \"Topic6\", \"Topic6\", \"Topic6\", \"Topic6\", \"Topic6\", \"Topic6\", \"Topic6\", \"Topic6\", \"Topic6\", \"Topic6\", \"Topic6\", \"Topic6\", \"Topic6\", \"Topic6\", \"Topic6\", \"Topic6\", \"Topic6\", \"Topic6\", \"Topic6\", \"Topic6\", \"Topic6\", \"Topic6\", \"Topic6\", \"Topic6\", \"Topic6\", \"Topic6\", \"Topic6\", \"Topic6\", \"Topic6\", \"Topic6\", \"Topic6\", \"Topic6\", \"Topic6\", \"Topic6\", \"Topic6\", \"Topic6\", \"Topic6\", \"Topic7\", \"Topic7\", \"Topic7\", \"Topic7\", \"Topic7\", \"Topic7\", \"Topic7\", \"Topic7\", \"Topic7\", \"Topic7\", \"Topic7\", \"Topic7\", \"Topic7\", \"Topic7\", \"Topic7\", \"Topic7\", \"Topic7\", \"Topic7\", \"Topic7\", \"Topic7\", \"Topic7\", \"Topic7\", \"Topic7\", \"Topic7\", \"Topic7\", \"Topic7\", \"Topic7\", \"Topic7\", \"Topic7\", \"Topic7\", \"Topic7\", \"Topic7\", \"Topic7\", \"Topic7\", \"Topic7\", \"Topic7\", \"Topic7\", \"Topic7\", \"Topic7\", \"Topic7\", \"Topic7\", \"Topic7\", \"Topic7\", \"Topic7\", \"Topic7\", \"Topic7\", \"Topic7\", \"Topic7\", \"Topic7\", \"Topic7\", \"Topic7\", \"Topic7\", \"Topic7\", \"Topic7\", \"Topic7\", \"Topic7\", \"Topic7\", \"Topic7\", \"Topic7\", \"Topic7\", \"Topic7\", \"Topic7\", \"Topic7\", \"Topic7\", \"Topic7\", \"Topic7\", \"Topic7\", \"Topic7\", \"Topic7\", \"Topic7\", \"Topic7\", \"Topic7\", \"Topic7\", \"Topic7\", \"Topic7\", \"Topic7\", \"Topic7\", \"Topic7\", \"Topic7\", \"Topic7\", \"Topic7\", \"Topic7\", \"Topic7\", \"Topic7\", \"Topic7\", \"Topic7\", \"Topic7\", \"Topic8\", \"Topic8\", \"Topic8\", \"Topic8\", \"Topic8\", \"Topic8\", \"Topic8\", \"Topic8\", \"Topic8\", \"Topic8\", \"Topic8\", \"Topic8\", \"Topic8\", \"Topic8\", \"Topic8\", \"Topic8\", \"Topic8\", \"Topic8\", \"Topic8\", \"Topic8\", \"Topic8\", \"Topic8\", \"Topic8\", \"Topic8\", \"Topic8\", \"Topic8\", \"Topic8\", \"Topic8\", \"Topic8\", \"Topic8\", \"Topic8\", \"Topic8\", \"Topic8\", \"Topic8\", \"Topic8\", \"Topic8\", \"Topic8\", \"Topic8\", \"Topic8\", \"Topic8\", \"Topic8\", \"Topic8\", \"Topic8\", \"Topic8\", \"Topic8\", \"Topic8\", \"Topic8\", \"Topic8\", \"Topic8\", \"Topic8\", \"Topic8\", \"Topic8\", \"Topic8\", \"Topic8\", \"Topic8\", \"Topic8\", \"Topic8\", \"Topic8\", \"Topic8\", \"Topic8\", \"Topic8\", \"Topic8\", \"Topic8\", \"Topic8\", \"Topic8\", \"Topic8\", \"Topic8\", \"Topic8\", \"Topic8\", \"Topic8\", \"Topic8\", \"Topic8\", \"Topic8\", \"Topic8\", \"Topic8\", \"Topic8\", \"Topic8\", \"Topic8\", \"Topic8\", \"Topic8\", \"Topic8\", \"Topic8\", \"Topic8\", \"Topic8\", \"Topic8\", \"Topic8\", \"Topic8\", \"Topic8\", \"Topic8\", \"Topic8\", \"Topic8\", \"Topic9\", \"Topic9\", \"Topic9\", \"Topic9\", \"Topic9\", \"Topic9\", \"Topic9\", \"Topic9\", \"Topic9\", \"Topic9\", \"Topic9\", \"Topic9\", \"Topic9\", \"Topic9\", \"Topic9\", \"Topic9\", \"Topic9\", \"Topic9\", \"Topic9\", \"Topic9\", \"Topic9\", \"Topic9\", \"Topic9\", \"Topic9\", \"Topic9\", \"Topic9\", \"Topic9\", \"Topic9\", \"Topic9\", \"Topic9\", \"Topic9\", \"Topic9\", \"Topic9\", \"Topic9\", \"Topic9\", \"Topic9\", \"Topic9\", \"Topic9\", \"Topic9\", \"Topic9\", \"Topic9\", \"Topic9\", \"Topic9\", \"Topic9\", \"Topic9\", \"Topic9\", \"Topic9\", \"Topic9\", \"Topic9\", \"Topic9\", \"Topic9\", \"Topic9\", \"Topic9\", \"Topic9\", \"Topic9\", \"Topic9\", \"Topic9\", \"Topic9\", \"Topic9\", \"Topic9\", \"Topic9\", \"Topic9\", \"Topic9\", \"Topic9\", \"Topic9\", \"Topic9\", \"Topic9\", \"Topic9\", \"Topic9\", \"Topic9\", \"Topic9\", \"Topic9\", \"Topic9\", \"Topic9\", \"Topic9\", \"Topic9\", \"Topic9\", \"Topic9\", \"Topic9\", \"Topic9\", \"Topic9\", \"Topic9\", \"Topic9\", \"Topic9\", \"Topic9\", \"Topic9\", \"Topic9\", \"Topic9\", \"Topic9\", \"Topic9\", \"Topic9\", \"Topic9\", \"Topic9\", \"Topic9\", \"Topic10\", \"Topic10\", \"Topic10\", \"Topic10\", \"Topic10\", \"Topic10\", \"Topic10\", \"Topic10\", \"Topic10\", \"Topic10\", \"Topic10\", \"Topic10\", \"Topic10\", \"Topic10\", \"Topic10\", \"Topic10\", \"Topic10\", \"Topic10\", \"Topic10\", \"Topic10\", \"Topic10\", \"Topic10\", \"Topic10\", \"Topic10\", \"Topic10\", \"Topic10\", \"Topic10\", \"Topic10\", \"Topic10\", \"Topic10\", \"Topic10\", \"Topic10\", \"Topic10\", \"Topic10\", \"Topic10\", \"Topic10\", \"Topic10\", \"Topic10\", \"Topic10\", \"Topic10\", \"Topic10\", \"Topic10\", \"Topic10\", \"Topic10\", \"Topic10\", \"Topic10\", \"Topic10\", \"Topic10\", \"Topic10\", \"Topic10\", \"Topic10\", \"Topic10\", \"Topic10\", \"Topic10\", \"Topic10\", \"Topic10\", \"Topic10\", \"Topic10\", \"Topic10\", \"Topic10\", \"Topic10\", \"Topic10\", \"Topic10\", \"Topic10\", \"Topic10\", \"Topic10\", \"Topic10\", \"Topic10\", \"Topic10\", \"Topic10\", \"Topic10\", \"Topic10\", \"Topic10\", \"Topic10\", \"Topic10\", \"Topic10\", \"Topic10\"], \"logprob\": [30.0, 29.0, 28.0, 27.0, 26.0, 25.0, 24.0, 23.0, 22.0, 21.0, 20.0, 19.0, 18.0, 17.0, 16.0, 15.0, 14.0, 13.0, 12.0, 11.0, 10.0, 9.0, 8.0, 7.0, 6.0, 5.0, 4.0, 3.0, 2.0, 1.0, -9.265999794006348, -9.477999687194824, -10.166199684143066, -9.983699798583984, -10.073800086975098, -8.593600273132324, -7.872300148010254, -9.0246000289917, -9.0246000289917, -8.962800025939941, -8.42240047454834, -8.177599906921387, -9.466699600219727, -9.154800415039062, -9.372699737548828, -9.477999687194824, -8.150300025939941, -7.405600070953369, -9.294300079345703, -8.669899940490723, -8.585000038146973, -8.128999710083008, -9.303999900817871, -9.002099990844727, -10.246399879455566, -9.225600242614746, -10.051400184631348, -10.05109977722168, -8.541399955749512, -10.664999961853027, -7.688600063323975, -8.905200004577637, -9.209600448608398, -7.115699768066406, -7.058899879455566, -7.519100189208984, -8.023300170898438, -4.089600086212158, -7.531499862670898, -7.115699768066406, -7.001500129699707, -7.751299858093262, -6.073299884796143, -8.4197998046875, -5.897900104522705, -4.194799900054932, -5.473700046539307, -5.246699810028076, -6.561800003051758, -5.219600200653076, -5.70419979095459, -6.802800178527832, -6.122900009155273, -5.55109977722168, -6.3850998878479, -6.284900188446045, -6.436500072479248, -5.564899921417236, -6.286900043487549, -6.654600143432617, -4.887899875640869, -6.164000034332275, -6.253300189971924, -5.342599868774414, -6.313300132751465, -4.06220006942749, -6.217199802398682, -5.5157999992370605, -6.092299938201904, -5.900599956512451, -5.04040002822876, -6.127699851989746, -5.210999965667725, -5.464000225067139, -5.222599983215332, -5.139999866485596, -5.576200008392334, -5.163000106811523, -5.726200103759766, -5.890900135040283, -5.904300212860107, -5.787300109863281, -5.821199893951416, -5.888400077819824, -5.836699962615967, -5.494500160217285, -5.607600212097168, -5.789899826049805, -5.819399833679199, -5.759900093078613, -5.8592000007629395, -5.850800037384033, -5.852499961853027, -7.573299884796143, -9.035200119018555, -9.258000373840332, -8.91100025177002, -8.917799949645996, -9.535900115966797, -8.919899940490723, -9.103899955749512, -8.923700332641602, -9.164899826049805, -9.110899925231934, -9.546299934387207, -9.113699913024902, -8.234600067138672, -9.646599769592285, -9.938799858093262, -9.939299583435059, -9.047599792480469, -7.843500137329102, -9.195799827575684, -8.287199974060059, -9.43589973449707, -9.253600120544434, -9.655599594116211, -8.776900291442871, -9.443300247192383, -9.852299690246582, -9.595999717712402, -9.385499954223633, -8.93589973449707, -6.384699821472168, -8.235799789428711, -8.085399627685547, -9.07450008392334, -8.652700424194336, -5.790800094604492, -5.857999801635742, -8.748499870300293, -8.822199821472168, -8.643600463867188, -6.8678998947143555, -8.498000144958496, -5.733500003814697, -6.081999778747559, -6.763199806213379, -6.836599826812744, -5.530900001525879, -7.0096001625061035, -7.706200122833252, -6.208399772644043, -6.869200229644775, -5.670100212097168, -8.026000022888184, -7.166600227355957, -6.70959997177124, -6.797599792480469, -6.9770002365112305, -6.898900032043457, -5.99560022354126, -7.341100215911865, -4.291200160980225, -5.539400100708008, -5.706299781799316, -6.164100170135498, -6.316100120544434, -6.166200160980225, -6.572500228881836, -6.084700107574463, -6.591300010681152, -6.472799777984619, -6.143099784851074, -5.679599761962891, -5.856299877166748, -6.023399829864502, -4.7947001457214355, -4.615699768066406, -5.586400032043457, -4.989699840545654, -4.652500152587891, -6.022500038146973, -5.783299922943115, -5.386099815368652, -5.161300182342529, -5.226600170135498, -5.374000072479248, -5.882199764251709, -5.529099941253662, -5.669300079345703, -5.68720006942749, -5.978099822998047, -5.818299770355225, -5.758999824523926, -5.540900230407715, -5.783899784088135, -5.854899883270264, -5.807600021362305, -8.612600326538086, -8.178400039672852, -8.875499725341797, -7.434500217437744, -8.450400352478027, -6.4608001708984375, -6.626999855041504, -8.371700286865234, -6.6031999588012695, -8.015600204467773, -9.615300178527832, -8.86870002746582, -9.623200416564941, -9.621700286865234, -8.06149959564209, -8.620100021362305, -8.688300132751465, -9.208800315856934, -9.199600219726562, -8.051199913024902, -9.275500297546387, -8.351900100708008, -8.625300407409668, -9.016300201416016, -6.789599895477295, -9.551300048828125, -9.28849983215332, -10.063400268554688, -6.873000144958496, -8.633299827575684, -3.6415998935699463, -7.595799922943115, -8.821700096130371, -7.258999824523926, -6.749100208282471, -8.636199951171875, -7.438600063323975, -8.003999710083008, -7.743299961090088, -8.090999603271484, -7.4670000076293945, -8.056300163269043, -8.06149959564209, -7.591899871826172, -7.733500003814697, -7.109399795532227, -6.281400203704834, -6.174600124359131, -6.290500164031982, -6.989999771118164, -5.202499866485596, -5.82919979095459, -5.69789981842041, -5.757500171661377, -5.388400077819824, -6.983099937438965, -6.729300022125244, -6.456399917602539, -6.98390007019043, -6.739500045776367, -6.212100028991699, -5.964300155639648, -6.434299945831299, -4.816400051116943, -6.34119987487793, -5.547399997711182, -5.734099864959717, -6.107900142669678, -5.579500198364258, -5.1381001472473145, -5.581699848175049, -5.799799919128418, -5.533899784088135, -5.140900135040283, -6.131499767303467, -5.593100070953369, -5.669000148773193, -5.630499839782715, -5.376399993896484, -5.754700183868408, -5.567299842834473, -5.34119987487793, -6.00570011138916, -5.947400093078613, -6.01039981842041, -5.848599910736084, -5.7779998779296875, -5.839099884033203, -5.882900238037109, -5.926400184631348, -5.858799934387207, -5.890100002288818, -5.883800029754639, -5.892199993133545, -9.503299713134766, -8.623100280761719, -8.722000122070312, -6.9217000007629395, -7.2941999435424805, -6.495200157165527, -7.432000160217285, -8.859000205993652, -8.070199966430664, -8.600000381469727, -8.719400405883789, -8.077899932861328, -9.221500396728516, -8.611000061035156, -8.824299812316895, -8.612600326538086, -8.733499526977539, -8.830100059509277, -9.56719970703125, -8.736000061035156, -7.9822001457214355, -9.316300392150879, -8.621899604797363, -8.73859977722168, -8.508700370788574, -8.831000328063965, -8.01259994506836, -9.397199630737305, -9.319299697875977, -9.246299743652344, -7.217199802398682, -8.837300300598145, -8.224599838256836, -7.218200206756592, -6.894899845123291, -8.021499633789062, -7.951000213623047, -7.988999843597412, -7.321400165557861, -7.43209981918335, -7.207300186157227, -7.459099769592285, -8.168700218200684, -7.170400142669678, -6.224800109863281, -7.733799934387207, -7.631499767303467, -8.086299896240234, -6.801599979400635, -6.8993000984191895, -7.943600177764893, -7.2266998291015625, -5.907400131225586, -7.1743998527526855, -5.33620023727417, -4.463099956512451, -5.343299865722656, -6.434100151062012, -5.672299861907959, -6.870100021362305, -6.429800033569336, -5.539899826049805, -7.20359992980957, -6.622900009155273, -5.34060001373291, -5.567399978637695, -5.464900016784668, -6.5721001625061035, -4.796800136566162, -4.705699920654297, -4.867700099945068, -5.974899768829346, -6.6508002281188965, -6.200900077819824, -5.141900062561035, -5.644199848175049, -5.812900066375732, -6.234799861907959, -5.478300094604492, -5.631899833679199, -5.931399822235107, -5.9268999099731445, -6.165500164031982, -5.967400074005127, -5.6442999839782715, -5.7480998039245605, -5.654799938201904, -5.913700103759766, -5.8846001625061035, -5.779099941253662, -5.8155999183654785, -5.776400089263916, -5.885499954223633, -5.847700119018555, -5.933899879455566, -8.600899696350098, -8.419300079345703, -8.55370044708252, -8.286999702453613, -9.089900016784668, -9.184399604797363, -9.094799995422363, -9.109700202941895, -9.102899551391602, -9.593400001525879, -9.593799591064453, -9.595399856567383, -9.731399536132812, -9.889900207519531, -9.616700172424316, -8.902999877929688, -9.907899856567383, -9.911299705505371, -9.402400016784668, -8.996299743652344, -8.82859992980957, -7.91349983215332, -8.834699630737305, -9.017000198364258, -9.76669979095459, -9.318499565124512, -8.840900421142578, -8.843600273132324, -9.219200134277344, -9.427000045776367, -8.678999900817871, -8.602100372314453, -8.69219970703125, -8.150799751281738, -8.689000129699707, -6.295300006866455, -6.35230016708374, -5.574999809265137, -6.252999782562256, -8.236499786376953, -8.249300003051758, -8.400899887084961, -8.558799743652344, -7.947000026702881, -8.3927001953125, -8.168100357055664, -7.877399921417236, -8.04010009765625, -7.470300197601318, -7.129700183868408, -5.315899848937988, -8.372599601745605, -7.71560001373291, -8.313799858093262, -5.071199893951416, -7.6356000900268555, -7.977499961853027, -6.7144999504089355, -7.556399822235107, -6.291800022125244, -5.751800060272217, -6.741199970245361, -6.716000080108643, -7.624599933624268, -5.202099800109863, -5.197299957275391, -4.54610013961792, -5.839700222015381, -5.178699970245361, -7.511600017547607, -5.266900062561035, -5.739699840545654, -5.019400119781494, -5.866499900817871, -5.133200168609619, -5.698699951171875, -5.1427001953125, -5.892399787902832, -6.574999809265137, -5.894899845123291, -5.81689977645874, -4.949399948120117, -5.502200126647949, -5.519000053405762, -5.619900226593018, -5.631999969482422, -5.414299964904785, -5.46750020980835, -5.126299858093262, -5.160399913787842, -5.4481000900268555, -5.769999980926514, -5.793799877166748, -5.769400119781494, -5.801300048828125, -8.776800155639648, -9.470199584960938, -8.962200164794922, -7.932199954986572, -9.283300399780273, -8.846599578857422, -9.280500411987305, -7.121200084686279, -8.645400047302246, -8.859100341796875, -8.910099983215332, -8.85200023651123, -9.124600410461426, -9.054800033569336, -8.479999542236328, -7.101799964904785, -9.149499893188477, -7.886499881744385, -8.873100280761719, -9.764200210571289, -8.876399993896484, -9.150799751281738, -7.665299892425537, -9.069600105285645, -8.624799728393555, -9.156299591064453, -9.157299995422363, -6.496799945831299, -9.158100128173828, -9.528900146484375, -8.32960033416748, -7.607600212097168, -7.910699844360352, -8.88599967956543, -7.529399871826172, -7.456999778747559, -8.619799613952637, -8.16450023651123, -6.043900012969971, -7.329599857330322, -8.509900093078613, -8.471400260925293, -8.471099853515625, -8.050100326538086, -8.187899589538574, -8.018600463867188, -7.854100227355957, -8.02299976348877, -4.199100017547607, -7.773600101470947, -7.774400234222412, -5.497099876403809, -4.690800189971924, -7.675000190734863, -4.05049991607666, -6.013000011444092, -6.0183000564575195, -5.903600215911865, -6.077000141143799, -7.399600028991699, -5.550600051879883, -7.34660005569458, -4.04010009765625, -5.4781999588012695, -5.454999923706055, -6.207600116729736, -4.05019998550415, -4.480500221252441, -4.471499919891357, -4.559700012207031, -4.835000038146973, -4.929999828338623, -4.374800205230713, -4.924099922180176, -5.600100040435791, -6.293900012969971, -6.809299945831299, -5.666500091552734, -4.690400123596191, -5.865200042724609, -5.615300178527832, -5.487299919128418, -5.690499782562256, -5.504700183868408, -5.742700099945068, -5.702199935913086, -5.776599884033203, -5.7266998291015625, -5.804599761962891, -5.670100212097168, -5.763999938964844, -8.06879997253418, -8.009200096130371, -9.033499717712402, -8.360799789428711, -8.73330020904541, -9.684200286865234, -9.684499740600586, -9.687000274658203, -8.434599876403809, -8.593999862670898, -9.333000183105469, -8.747599601745605, -8.15470027923584, -8.472000122070312, -9.069600105285645, -8.719900131225586, -6.831999778747559, -8.712400436401367, -9.088700294494629, -8.100899696350098, -9.0246000289917, -8.950499534606934, -9.263899803161621, -8.655799865722656, -8.772299766540527, -9.08430004119873, -9.023599624633789, -9.264599800109863, -9.463600158691406, -9.265199661254883, -5.421999931335449, -8.461299896240234, -7.760900020599365, -6.514400005340576, -7.619500160217285, -7.607100009918213, -5.883900165557861, -7.231500148773193, -5.3933000564575195, -5.383999824523926, -6.00540018081665, -5.793499946594238, -7.561600208282471, -7.748499870300293, -5.977200031280518, -6.373199939727783, -8.131799697875977, -6.744999885559082, -7.59119987487793, -7.754199981689453, -7.363500118255615, -6.612800121307373, -7.851600170135498, -7.259200096130371, -5.9832000732421875, -5.26669979095459, -5.732800006866455, -5.668700218200684, -5.233399868011475, -4.66480016708374, -6.008399963378906, -6.23799991607666, -4.190199851989746, -6.480599880218506, -4.326200008392334, -4.6855998039245605, -4.774799823760986, -5.356500148773193, -4.454999923706055, -6.527100086212158, -6.100900173187256, -5.132199764251709, -5.692800045013428, -4.458099842071533, -5.075300216674805, -5.166299819946289, -5.439599990844727, -5.096799850463867, -5.2058000564575195, -5.424300193786621, -5.5381999015808105, -5.631100177764893, -5.643899917602539, -5.712100028991699, -5.714000225067139, -5.704599857330322, -5.719799995422363, -7.110899925231934, -8.606800079345703, -8.611300468444824, -7.968400001525879, -8.90530014038086, -8.3016996383667, -8.454099655151367, -8.809499740600586, -6.68120002746582, -8.123800277709961, -8.956899642944336, -7.353499889373779, -8.61460018157959, -8.615400314331055, -9.273200035095215, -8.149900436401367, -7.991399765014648, -8.178400039672852, -9.288200378417969, -9.055700302124023, -8.986000061035156, -8.094400405883789, -9.06779956817627, -8.373600006103516, -8.77180004119873, -9.637299537658691, -8.39169979095459, -8.51140022277832, -7.96750020980835, -8.428899765014648, -8.513899803161621, -6.188499927520752, -7.271699905395508, -7.364799976348877, -5.781199932098389, -8.225000381469727, -6.3404998779296875, -6.111800193786621, -7.028299808502197, -5.571899890899658, -7.4191999435424805, -6.207300186157227, -7.515999794006348, -7.475100040435791, -6.584499835968018, -4.8018999099731445, -7.543399810791016, -6.455100059509277, -4.894700050354004, -6.0177998542785645, -6.9120001792907715, -6.871500015258789, -6.722700119018555, -5.910600185394287, -6.225800037384033, -4.775199890136719, -6.417900085449219, -6.381100177764893, -6.838699817657471, -5.762800216674805, -6.316299915313721, -4.482100009918213, -5.729000091552734, -6.0269999504089355, -5.475900173187256, -5.224999904632568, -6.051599979400635, -5.90339994430542, -6.13070011138916, -5.980000019073486, -5.013000011444092, -5.538300037384033, -5.968599796295166, -6.054500102996826, -5.526199817657471, -5.3358001708984375, -5.697999954223633, -5.414400100708008, -5.5817999839782715, -5.854499816894531, -5.821400165557861, -5.6809000968933105, -5.609000205993652, -5.80049991607666, -5.758900165557861, -5.838600158691406, -5.888199806213379, -5.869800090789795, -5.939599990844727, -5.916900157928467, -5.8881001472473145, -6.692999839782715, -9.018500328063965, -8.749699592590332, -8.75100040435791, -9.02299976348877, -8.752300262451172, -9.518600463867188, -9.518699645996094, -9.518799781799316, -8.761199951171875, -9.203100204467773, -7.7393999099731445, -6.34119987487793, -9.038399696350098, -9.050800323486328, -6.963799953460693, -9.21500015258789, -9.05459976196289, -8.580400466918945, -8.983799934387207, -9.547900199890137, -9.32610034942627, -9.234600067138672, -9.002699851989746, -9.003999710083008, -9.235300064086914, -9.554300308227539, -9.554400444030762, -9.237500190734863, -9.559599876403809, -6.663400173187256, -6.633600234985352, -8.832500457763672, -6.728400230407715, -7.244200229644775, -7.672999858856201, -5.696499824523926, -7.607500076293945, -7.819799900054932, -6.6570000648498535, -8.68120002746582, -8.219400405883789, -7.964600086212158, -7.029099941253662, -8.367300033569336, -6.35129976272583, -6.557199954986572, -6.913000106811523, -7.543399810791016, -7.7881999015808105, -6.253300189971924, -8.055299758911133, -5.15500020980835, -8.093799591064453, -3.6315999031066895, -7.071899890899658, -7.48799991607666, -6.053500175476074, -6.840799808502197, -5.873700141906738, -5.979100227355957, -6.045100212097168, -6.01140022277832, -7.127500057220459, -4.564499855041504, -4.2957000732421875, -6.393199920654297, -5.210599899291992, -4.51800012588501, -5.627399921417236, -5.694300174713135, -5.901100158691406, -6.290999889373779, -5.166399955749512, -5.315700054168701, -5.422599792480469, -5.656799793243408, -5.710100173950195, -5.866799831390381, -5.319799900054932, -5.499300003051758, -5.351600170135498, -5.42519998550415, -5.57390022277832, -5.4166998863220215, -5.527599811553955, -5.559199810028076, -5.276400089263916, -5.706399917602539, -5.769899845123291, -5.715799808502197, -5.751100063323975, -5.691100120544434, -5.810400009155273, -7.647799968719482, -8.973400115966797, -8.326499938964844, -8.981499671936035, -7.3628997802734375, -7.3317999839782715, -7.385700225830078, -7.436200141906738, -6.05019998550415, -7.436800003051758, -7.436800003051758, -7.467700004577637, -7.392600059509277, -7.801300048828125, -7.44290018081665, -7.397900104522705, -8.493399620056152, -7.444200038909912, -8.496500015258789, -7.430200099945068, -7.446000099182129, -7.384900093078613, -9.024200439453125, -7.446700096130371, -8.156599998474121, -7.38539981842041, -7.4471001625061035, -7.447800159454346, -7.401700019836426, -7.957499980926514, -6.283699989318848, -7.4481000900268555, -7.447999954223633, -7.405099868774414, -7.451499938964844, -6.773799896240234, -5.725200176239014, -6.726500034332275, -6.235599994659424, -7.1697001457214355, -5.2133002281188965, -6.2266998291015625, -5.6321001052856445, -3.5260000228881836, -6.639100074768066, -6.589099884033203, -7.226099967956543, -6.212100028991699, -7.056399822235107, -4.876399993896484, -6.057499885559082, -5.995999813079834, -5.489999771118164, -5.01609992980957, -6.106599807739258, -6.088600158691406, -6.694200038909912, -6.211999893188477, -5.298299789428711, -5.5295000076293945, -5.901899814605713, -5.306700229644775, -5.991199970245361, -5.726099967956543, -6.150700092315674, -5.827899932861328, -5.955399990081787, -5.855800151824951, -5.638299942016602, -5.527599811553955, -5.98859977722168, -5.868500232696533, -5.85129976272583, -5.821599960327148, -5.85830020904541, -6.099599838256836, -6.088699817657471], \"loglift\": [30.0, 29.0, 28.0, 27.0, 26.0, 25.0, 24.0, 23.0, 22.0, 21.0, 20.0, 19.0, 18.0, 17.0, 16.0, 15.0, 14.0, 13.0, 12.0, 11.0, 10.0, 9.0, 8.0, 7.0, 6.0, 5.0, 4.0, 3.0, 2.0, 1.0, 1.4879000186920166, 1.4872000217437744, 1.4473999738693237, 1.4407999515533447, 1.438099980354309, 1.4328999519348145, 1.4279999732971191, 1.427299976348877, 1.427299976348877, 1.4174000024795532, 1.409000039100647, 1.4076999425888062, 1.406499981880188, 1.4052000045776367, 1.4010000228881836, 1.3973000049591064, 1.396299958229065, 1.3932000398635864, 1.3932000398635864, 1.3919999599456787, 1.3916000127792358, 1.3911999464035034, 1.3868000507354736, 1.386299967765808, 1.3837000131607056, 1.3832999467849731, 1.378000020980835, 1.3773000240325928, 1.3747999668121338, 1.3739999532699585, 1.3604999780654907, 1.3700000047683716, 1.3702000379562378, 1.3458000421524048, 1.337399959564209, 1.319100022315979, 1.3392000198364258, 1.1480000019073486, 1.30840003490448, 1.2854000329971313, 1.2782000303268433, 1.3157999515533447, 1.2074999809265137, 1.3485000133514404, 1.184499979019165, 1.067199945449829, 1.1505000591278076, 1.128100037574768, 1.2101999521255493, 1.092900037765503, 1.1302000284194946, 1.226199984550476, 1.1481000185012817, 1.0815999507904053, 1.1676000356674194, 1.1432000398635864, 1.1586999893188477, 1.0398000478744507, 1.1265000104904175, 1.169600009918213, 0.8691999912261963, 1.069599986076355, 1.082900047302246, 0.90829998254776, 1.0861999988555908, 0.6225000023841858, 1.0542999505996704, 0.8508999943733215, 0.9772999882698059, 0.9007999897003174, 0.5738000273704529, 0.9584000110626221, 0.5763000249862671, 0.5938000082969666, 0.36550000309944153, 0.3068000078201294, 0.5756999850273132, 0.2865999937057495, 0.6504999995231628, 0.7766000032424927, 0.7822999954223633, 0.6703000068664551, 0.6456000208854675, 0.7146999835968018, 0.6223999857902527, -0.06459999829530716, 0.060499999672174454, 0.45010000467300415, 0.5006999969482422, -0.01209999993443489, 0.4339999854564667, 0.30550000071525574, 0.30869999527931213, 2.069999933242798, 2.0510001182556152, 2.038100004196167, 2.0373001098632812, 2.029400110244751, 2.02839994430542, 2.026700019836426, 2.025899887084961, 2.0220999717712402, 2.0209999084472656, 2.0178000926971436, 2.0157999992370605, 2.014699935913086, 1.9946000576019287, 1.9889999628067017, 1.9878000020980835, 1.9869999885559082, 1.9859000444412231, 1.9855999946594238, 1.9845999479293823, 1.9814000129699707, 1.978700041770935, 1.9778000116348267, 1.9768999814987183, 1.9763000011444092, 1.9740999937057495, 1.968500018119812, 1.9672000408172607, 1.9664000272750854, 1.9627000093460083, 1.944000005722046, 1.9556000232696533, 1.9214999675750732, 1.9550000429153442, 1.9371999502182007, 1.8171000480651855, 1.7454999685287476, 1.9284000396728516, 1.9265999794006348, 1.904099941253662, 1.6648999452590942, 1.8730000257492065, 1.4539999961853027, 1.5015000104904175, 1.5816999673843384, 1.5871000289916992, 1.3366999626159668, 1.6122000217437744, 1.7303999662399292, 1.443600058555603, 1.5602999925613403, 1.3105000257492065, 1.7821999788284302, 1.5906000137329102, 1.4809999465942383, 1.4957000017166138, 1.5288000106811523, 1.5002000331878662, 1.2596999406814575, 1.610700011253357, 0.7896000146865845, 1.1043000221252441, 1.1507999897003174, 1.2757999897003174, 1.3028000593185425, 1.253499984741211, 1.3738000392913818, 1.1912000179290771, 1.3767999410629272, 1.3243000507354736, 1.1847000122070312, 0.9851999878883362, 1.054800033569336, 1.1080000400543213, 0.5016000270843506, 0.40459999442100525, 0.8741000294685364, 0.49810001254081726, 0.27000001072883606, 1.0634000301361084, 0.8521000146865845, 0.5379999876022339, 0.3140000104904175, 0.3659999966621399, 0.37369999289512634, 0.859499990940094, 0.16859999299049377, 0.2818000018596649, 0.13179999589920044, 0.8472999930381775, 0.3910999894142151, 0.12389999628067017, -0.8561999797821045, -0.051100000739097595, 0.12269999831914902, -0.21950000524520874, 2.216200113296509, 2.2000999450683594, 2.197700023651123, 2.185699939727783, 2.1816000938415527, 2.1749000549316406, 2.1719000339508057, 2.1633999347686768, 2.161900043487549, 2.16129994392395, 2.1600000858306885, 2.1533000469207764, 2.149399995803833, 2.1484999656677246, 2.140899896621704, 2.1340999603271484, 2.133699893951416, 2.132499933242798, 2.1321001052856445, 2.1310999393463135, 2.1273999214172363, 2.120699882507324, 2.1201999187469482, 2.1185998916625977, 2.1178998947143555, 2.1161999702453613, 2.115600109100342, 2.115499973297119, 2.1138999462127686, 2.1133999824523926, 2.111799955368042, 2.1061999797821045, 2.1120998859405518, 2.086400032043457, 2.0589001178741455, 2.109800100326538, 2.0678000450134277, 2.086199998855591, 2.075200080871582, 2.0868000984191895, 2.0527000427246094, 2.0790998935699463, 2.0734000205993652, 2.0348000526428223, 2.0123000144958496, 1.9270999431610107, 1.7963000535964966, 1.7741999626159668, 1.7549999952316284, 1.8561999797821045, 1.479699969291687, 1.6094000339508057, 1.5068000555038452, 1.5139000415802002, 1.3458000421524048, 1.7520999908447266, 1.645400047302246, 1.5223000049591064, 1.7165000438690186, 1.568600058555603, 1.3186999559402466, 1.1619000434875488, 1.4004000425338745, 0.47999998927116394, 1.3341000080108643, 0.829200029373169, 0.9333000183105469, 1.1650999784469604, 0.7925999760627747, 0.44999998807907104, 0.7279999852180481, 0.8925999999046326, 0.6273000240325928, 0.289000004529953, 1.1009000539779663, 0.5587000250816345, 0.5709999799728394, 0.4767000079154968, 0.0731000006198883, 0.5374000072479248, 0.1655000001192093, -0.656499981880188, 0.8027999997138977, 0.6470999717712402, 0.7681999802589417, 0.23409999907016754, -0.29019999504089355, -0.09130000323057175, 0.10080000013113022, 0.3244999945163727, -0.16110000014305115, -0.22200000286102295, -0.9613000154495239, -0.8719000220298767, 2.2160000801086426, 2.2156999111175537, 2.2060999870300293, 2.174099922180176, 2.17330002784729, 2.1714000701904297, 2.1712000370025635, 2.168800115585327, 2.1684999465942383, 2.164299964904785, 2.1628000736236572, 2.162600040435791, 2.162100076675415, 2.154099941253662, 2.153899908065796, 2.1530001163482666, 2.1493000984191895, 2.1482999324798584, 2.147599935531616, 2.1473000049591064, 2.1458001136779785, 2.14520001411438, 2.144399881362915, 2.143699884414673, 2.1433000564575195, 2.142699956893921, 2.141900062561035, 2.141900062561035, 2.141900062561035, 2.141400098800659, 2.1359000205993652, 2.1398000717163086, 2.1324000358581543, 2.1215999126434326, 2.110300064086914, 2.1250998973846436, 2.121999979019165, 2.121999979019165, 2.0785999298095703, 2.0755999088287354, 2.060499906539917, 2.070199966430664, 2.113300085067749, 2.0404000282287598, 1.9500000476837158, 2.077199935913086, 2.06469988822937, 2.10509991645813, 1.9704999923706055, 1.9678000211715698, 2.0796000957489014, 1.9780000448226929, 1.6134999990463257, 1.8896000385284424, 1.4046000242233276, 1.1511000394821167, 1.3172999620437622, 1.6378999948501587, 1.3884999752044678, 1.7620999813079834, 1.5911999940872192, 1.2776000499725342, 1.851099967956543, 1.6268999576568604, 1.1261999607086182, 1.1986000537872314, 1.107200026512146, 1.594599962234497, 0.6527000069618225, 0.5562999844551086, 0.5791000127792358, 1.1303000450134277, 1.5793999433517456, 1.2098000049591064, 0.2879999876022339, 0.6690000295639038, 0.800000011920929, 1.1730999946594238, 0.27880001068115234, 0.38989999890327454, 0.7278000116348267, 0.7057999968528748, 0.9279000163078308, 0.6047000288963318, 0.05339999869465828, 0.2029000073671341, -0.06669999659061432, 0.3783999979496002, 0.27230000495910645, -0.04619999974966049, -0.14749999344348907, -0.5388000011444092, -0.0982000008225441, -0.8274999856948853, -0.050999999046325684, 2.311300039291382, 2.3099000453948975, 2.271199941635132, 2.27020001411438, 2.2560999393463135, 2.255500078201294, 2.2534000873565674, 2.251300096511841, 2.251199960708618, 2.2497000694274902, 2.2476999759674072, 2.2458999156951904, 2.245800018310547, 2.2425999641418457, 2.2365000247955322, 2.2263998985290527, 2.2255001068115234, 2.22189998626709, 2.2193000316619873, 2.2174999713897705, 2.214600086212158, 2.210700035095215, 2.2100000381469727, 2.20989990234375, 2.208899974822998, 2.2065000534057617, 2.204400062561035, 2.2035999298095703, 2.2030999660491943, 2.201200008392334, 2.19950008392334, 2.1958999633789062, 2.197200059890747, 2.1805999279022217, 2.190000057220459, 2.069200038909912, 2.0341999530792236, 1.9789999723434448, 2.0129001140594482, 2.1419999599456787, 2.137700080871582, 2.1449999809265137, 2.1556999683380127, 2.0947999954223633, 2.1389000415802, 2.092099905014038, 2.043299913406372, 2.063499927520752, 1.9532999992370605, 1.8809000253677368, 1.5199999809265137, 2.10509991645813, 1.951300024986267, 2.08870005607605, 1.2348999977111816, 1.907099962234497, 1.9700000286102295, 1.5434000492095947, 1.8200000524520874, 1.3529000282287598, 1.1496000289916992, 1.5134999752044678, 1.4700000286102295, 1.8325999975204468, 0.838699996471405, 0.8245000243186951, 0.5346999764442444, 1.0115000009536743, 0.6402000188827515, 1.7726000547409058, 0.616100013256073, 0.8389999866485596, 0.42739999294281006, 0.7925000190734863, 0.34220001101493835, 0.6733999848365784, 0.3068000078201294, 0.7662000060081482, 1.2056000232696533, 0.7487999796867371, 0.6965000033378601, 0.07079999893903732, 0.4487999975681305, 0.4586000144481659, 0.536300003528595, 0.5099999904632568, 0.25369998812675476, 0.23019999265670776, -0.2037000060081482, -0.4756999909877777, -0.018200000748038292, 0.33719998598098755, 0.2888999879360199, -0.03660000115633011, -0.31349998712539673, 2.343400001525879, 2.340399980545044, 2.339600086212158, 2.3382999897003174, 2.328399896621704, 2.3282999992370605, 2.3276000022888184, 2.326900005340576, 2.323199987411499, 2.3213000297546387, 2.32069993019104, 2.3189001083374023, 2.315500020980835, 2.310800075531006, 2.3057000637054443, 2.303100109100342, 2.301800012588501, 2.3011999130249023, 2.3011999130249023, 2.2988998889923096, 2.29830002784729, 2.297800064086914, 2.2967000007629395, 2.295099973678589, 2.293800115585327, 2.291800022125244, 2.290800094604492, 2.2906999588012695, 2.29010009765625, 2.283799886703491, 2.283400058746338, 2.2716000080108643, 2.2506000995635986, 2.2797000408172607, 2.2004001140594482, 2.18530011177063, 2.2623000144958496, 2.2263998985290527, 2.013200044631958, 2.1303999423980713, 2.2455999851226807, 2.2411000728607178, 2.2376999855041504, 2.1826999187469482, 2.200500011444092, 2.1745998859405518, 2.149399995803833, 2.1731998920440674, 1.4986000061035156, 2.123699903488159, 2.1224000453948975, 1.7166999578475952, 1.5184999704360962, 2.069999933242798, 1.24590003490448, 1.6967999935150146, 1.6967999935150146, 1.6640000343322754, 1.6742000579833984, 1.9951000213623047, 1.4686000347137451, 1.9800000190734863, 0.9800999760627747, 1.391800045967102, 1.3600000143051147, 1.6019999980926514, 0.8723000288009644, 1.007200002670288, 1.0039000511169434, 1.0329999923706055, 0.984000027179718, 0.9940999746322632, 0.7059999704360962, 0.9588000178337097, 1.1619999408721924, 1.4581999778747559, 1.715000033378601, 0.8633999824523926, -0.00570000009611249, 0.9526000022888184, 0.6942999958992004, 0.46369999647140503, 0.5647000074386597, 0.24310000240802765, 0.5633999705314636, 0.3804999887943268, 0.5435000061988831, 0.2508000135421753, 0.6559000015258789, -0.22339999675750732, -0.09600000083446503, 2.3863000869750977, 2.3833999633789062, 2.3770999908447266, 2.365999937057495, 2.360599994659424, 2.353100061416626, 2.3529999256134033, 2.3501999378204346, 2.3487000465393066, 2.3473000526428223, 2.343400001525879, 2.343400001525879, 2.3433001041412354, 2.3415000438690186, 2.3406999111175537, 2.3382999897003174, 2.337599992752075, 2.3350000381469727, 2.333400011062622, 2.331199884414673, 2.329699993133545, 2.3285000324249268, 2.327500104904175, 2.32669997215271, 2.3261001110076904, 2.3257999420166016, 2.322700023651123, 2.322499990463257, 2.321899890899658, 2.319000005722046, 2.3066999912261963, 2.3166000843048096, 2.3001999855041504, 2.257499933242798, 2.2881999015808105, 2.2701001167297363, 2.1975998878479004, 2.2421000003814697, 2.124000072479248, 2.0852999687194824, 2.1003000736236572, 2.081199884414673, 2.216599941253662, 2.222100019454956, 2.0181000232696533, 2.035799980163574, 2.256200075149536, 2.055000066757202, 2.1737000942230225, 2.1921000480651855, 2.123300075531006, 1.9847999811172485, 2.2030999660491943, 2.0731000900268555, 1.7482000589370728, 1.5532000064849854, 1.667799949645996, 1.6074999570846558, 1.4580999612808228, 1.2592999935150146, 1.6495000123977661, 1.6510000228881836, 0.7322999835014343, 1.7116999626159668, 0.694100022315979, 0.8022000193595886, 0.817799985408783, 1.1039999723434448, 0.6258000135421753, 1.6830999851226807, 1.430899977684021, 0.845300018787384, 1.1763999462127686, 0.22660000622272491, 0.6575999855995178, 0.6525999903678894, 0.7598000168800354, 0.37860000133514404, 0.46219998598098755, 0.6165000200271606, 0.7818999886512756, 0.7304999828338623, 0.6287000179290771, 0.817799985408783, 0.7993999719619751, 0.4372999966144562, 0.02800000086426735, 2.5190999507904053, 2.4921000003814697, 2.4874000549316406, 2.485100030899048, 2.48009991645813, 2.4605000019073486, 2.458699941635132, 2.4463000297546387, 2.438699960708618, 2.437999963760376, 2.430999994277954, 2.428800106048584, 2.427999973297119, 2.4265999794006348, 2.421799898147583, 2.4084999561309814, 2.406100034713745, 2.4042000770568848, 2.3970999717712402, 2.3919999599456787, 2.3910000324249268, 2.3798000812530518, 2.3780999183654785, 2.3736000061035156, 2.3691000938415527, 2.3664000034332275, 2.3626999855041504, 2.3584001064300537, 2.357800006866455, 2.356300115585327, 2.3536999225616455, 2.3043999671936035, 2.318700075149536, 2.317199945449829, 2.2421000003814697, 2.3399999141693115, 2.2179999351501465, 2.186500072479248, 2.2507998943328857, 2.099400043487549, 2.267199993133545, 2.1331000328063965, 2.2704999446868896, 2.258500099182129, 2.117799997329712, 1.7702000141143799, 2.24180006980896, 2.032599925994873, 1.719599962234497, 1.9148999452590942, 2.103800058364868, 2.0808000564575195, 2.0322999954223633, 1.7753000259399414, 1.8519999980926514, 1.381600022315979, 1.8668999671936035, 1.8219000101089478, 1.985200047492981, 1.5351999998092651, 1.7639000415802002, 0.9477999806404114, 1.43340003490448, 1.5536999702453613, 1.2063000202178955, 0.8575999736785889, 1.4494999647140503, 1.3253999948501587, 1.4490000009536743, 1.2523000240325928, 0.2833000123500824, 0.7713000178337097, 1.1992000341415405, 1.3068000078201294, 0.45750001072883606, 0.11100000143051147, 0.5940999984741211, 0.035100001841783524, 0.1509999930858612, 0.7861999869346619, 0.6496000289916992, 0.06689999997615814, -0.5888000130653381, 0.22130000591278076, -0.0017000000225380063, 0.36079999804496765, 0.42489999532699585, 0.10779999941587448, 0.7210000157356262, 0.12389999628067017, -0.9656000137329102, 2.5696001052856445, 2.494800090789795, 2.4911000728607178, 2.4897000789642334, 2.489300012588501, 2.4881999492645264, 2.4800000190734863, 2.4798998832702637, 2.4798998832702637, 2.4772000312805176, 2.4763998985290527, 2.4753000736236572, 2.4739999771118164, 2.4737000465393066, 2.466900110244751, 2.466200113296509, 2.4628000259399414, 2.4565000534057617, 2.4558000564575195, 2.452699899673462, 2.4504001140594482, 2.4472999572753906, 2.446700096130371, 2.4465999603271484, 2.4453001022338867, 2.444700002670288, 2.4442999362945557, 2.444000005722046, 2.43969988822937, 2.438999891281128, 2.4337000846862793, 2.393399953842163, 2.432499885559082, 2.3828999996185303, 2.3910000324249268, 2.397599935531616, 2.1679000854492188, 2.3185999393463135, 2.3310000896453857, 2.2018001079559326, 2.3975000381469727, 2.3417999744415283, 2.309999942779541, 2.1712000370025635, 2.352099895477295, 2.041599988937378, 2.06820011138916, 2.109600067138672, 2.2132999897003174, 2.2553999423980713, 1.9837000370025635, 2.299799919128418, 1.6704000234603882, 2.2932000160217285, 1.2908999919891357, 2.0589001178741455, 2.152899980545044, 1.766800045967102, 1.9728000164031982, 1.6656999588012695, 1.6901999711990356, 1.6686999797821045, 1.6138999462127686, 2.0060999393463135, 0.9108999967575073, 0.7246000170707703, 1.625100016593933, 0.9889000058174133, 0.5627999901771545, 1.1902999877929688, 1.1793999671936035, 1.2956000566482544, 1.5401999950408936, 0.5016000270843506, 0.4715999960899353, 0.5609999895095825, 0.8036999702453613, 0.8101999759674072, 0.9674999713897705, 0.1679999977350235, 0.38359999656677246, 0.09520000219345093, 0.16750000417232513, 0.35030001401901245, 0.013199999928474426, 0.22020000219345093, 0.1737000048160553, -0.59170001745224, 0.43549999594688416, 0.59170001745224, 0.1031000018119812, 0.226500004529953, -0.24150000512599945, 0.29679998755455017, 2.7676000595092773, 2.7627999782562256, 2.7571001052856445, 2.750499963760376, 2.7409000396728516, 2.7314999103546143, 2.7172999382019043, 2.713099956512451, 2.712899923324585, 2.7121999263763428, 2.711699962615967, 2.7116000652313232, 2.7088000774383545, 2.708699941635132, 2.704200029373169, 2.702699899673462, 2.7026000022888184, 2.7023000717163086, 2.702199935913086, 2.701200008392334, 2.700000047683716, 2.700000047683716, 2.6989998817443848, 2.698899984359741, 2.6986000537872314, 2.6986000537872314, 2.698499917984009, 2.698199987411499, 2.697700023651123, 2.6970999240875244, 2.6960999965667725, 2.697000026702881, 2.6967999935150146, 2.692699909210205, 2.6921000480651855, 2.6839001178741455, 2.6333999633789062, 2.6702001094818115, 2.621000051498413, 2.6756999492645264, 2.503999948501587, 2.5387001037597656, 2.383500099182129, 1.1586999893188477, 2.357300043106079, 2.3057000637054443, 2.5889999866485596, 1.981600046157837, 2.410399913787842, 0.7163000106811523, 1.5985000133514404, 1.4426000118255615, 0.8766999840736389, 0.2214999943971634, 1.3398000001907349, 1.2503999471664429, 1.9297000169754028, 1.382099986076355, 0.2897999882698059, 0.5284000039100647, 0.9412000179290771, 0.12319999933242798, 0.9782999753952026, 0.5863999724388123, 1.12090003490448, 0.6312000155448914, 0.7840999960899353, 0.6018999814987183, 0.14900000393390656, -0.2655999958515167, 0.635699987411499, 0.29280000925064087, 0.13230000436306, -0.06449999660253525, -0.11050000041723251, 0.8209999799728394, 0.6578999757766724]}, \"token.table\": {\"Topic\": [1, 2, 3, 4, 5, 6, 7, 8, 9, 10, 1, 8, 3, 1, 2, 3, 4, 5, 6, 7, 8, 9, 10, 1, 2, 3, 4, 5, 6, 7, 8, 9, 10, 3, 7, 1, 2, 4, 5, 6, 9, 1, 2, 3, 4, 5, 6, 7, 8, 9, 10, 5, 1, 2, 3, 4, 5, 6, 7, 8, 9, 10, 1, 2, 3, 4, 5, 6, 7, 8, 9, 10, 2, 3, 5, 7, 9, 10, 1, 2, 3, 5, 6, 7, 8, 9, 10, 1, 2, 3, 4, 5, 6, 7, 8, 9, 10, 1, 2, 3, 4, 5, 6, 7, 8, 9, 10, 1, 2, 3, 1, 2, 3, 4, 5, 6, 7, 8, 9, 10, 6, 9, 1, 4, 6, 5, 6, 9, 1, 2, 3, 4, 5, 6, 7, 8, 9, 10, 1, 2, 3, 4, 5, 6, 7, 8, 9, 10, 2, 3, 4, 5, 10, 1, 2, 3, 4, 6, 7, 9, 1, 2, 3, 4, 5, 6, 7, 8, 9, 10, 5, 1, 2, 3, 4, 5, 6, 7, 8, 9, 10, 1, 2, 3, 4, 5, 6, 7, 8, 9, 10, 1, 2, 9, 1, 2, 4, 5, 6, 7, 8, 9, 10, 1, 2, 3, 4, 5, 6, 7, 8, 9, 10, 5, 7, 1, 2, 5, 6, 7, 8, 9, 7, 1, 2, 3, 4, 5, 6, 7, 8, 9, 10, 3, 4, 5, 6, 7, 9, 10, 1, 2, 3, 4, 8, 9, 1, 2, 3, 4, 5, 6, 7, 8, 9, 3, 4, 5, 6, 7, 9, 10, 1, 2, 3, 5, 6, 7, 8, 10, 5, 1, 2, 3, 4, 5, 6, 7, 8, 9, 10, 9, 1, 5, 1, 2, 4, 5, 7, 8, 9, 5, 9, 1, 2, 3, 4, 5, 6, 7, 8, 9, 10, 1, 3, 4, 6, 7, 9, 1, 2, 3, 4, 5, 6, 7, 8, 9, 10, 1, 2, 3, 4, 5, 6, 7, 8, 9, 10, 2, 5, 6, 9, 1, 3, 4, 5, 6, 7, 9, 10, 1, 2, 3, 4, 5, 6, 7, 8, 9, 10, 2, 5, 8, 9, 1, 2, 3, 4, 5, 6, 7, 8, 9, 10, 5, 7, 9, 2, 4, 1, 2, 3, 4, 5, 6, 7, 8, 9, 10, 1, 2, 3, 4, 5, 6, 7, 8, 9, 1, 2, 3, 4, 5, 6, 7, 8, 9, 10, 2, 3, 4, 5, 6, 7, 9, 10, 1, 2, 3, 4, 5, 6, 7, 8, 9, 10, 2, 6, 7, 8, 1, 2, 3, 4, 5, 6, 7, 8, 9, 10, 6, 6, 2, 2, 4, 5, 1, 2, 3, 4, 5, 7, 8, 9, 1, 2, 3, 4, 5, 6, 7, 8, 9, 10, 1, 3, 5, 6, 7, 9, 2, 7, 1, 2, 3, 4, 5, 6, 7, 8, 9, 10, 2, 3, 5, 6, 8, 9, 10, 8, 10, 1, 2, 3, 4, 5, 6, 7, 8, 9, 10, 1, 2, 3, 4, 5, 6, 7, 8, 9, 10, 1, 2, 3, 4, 5, 6, 7, 8, 9, 10, 4, 5, 6, 8, 9, 7, 1, 2, 3, 4, 5, 6, 7, 8, 9, 10, 1, 2, 3, 4, 5, 6, 7, 8, 9, 10, 3, 6, 1, 2, 1, 2, 3, 4, 5, 6, 7, 8, 9, 2, 5, 6, 7, 8, 9, 10, 2, 6, 7, 1, 2, 3, 4, 5, 7, 8, 9, 10, 3, 1, 5, 1, 2, 3, 4, 5, 6, 7, 8, 9, 10, 1, 2, 3, 4, 5, 6, 7, 8, 9, 10, 1, 3, 7, 8, 9, 1, 2, 3, 4, 5, 6, 7, 8, 9, 10, 1, 2, 3, 4, 5, 6, 8, 1, 2, 3, 4, 5, 6, 7, 8, 9, 10, 1, 2, 3, 4, 5, 6, 7, 8, 9, 10, 2, 1, 2, 3, 4, 5, 6, 7, 8, 9, 10, 1, 2, 3, 4, 5, 6, 7, 8, 9, 10, 1, 2, 3, 4, 5, 6, 7, 8, 9, 10, 1, 2, 4, 5, 6, 8, 9, 2, 1, 2, 3, 4, 5, 6, 7, 8, 9, 10, 1, 2, 3, 4, 5, 6, 7, 8, 9, 10, 1, 2, 3, 4, 5, 6, 7, 8, 9, 10, 1, 2, 3, 4, 5, 7, 10, 1, 2, 9, 2, 8, 9, 1, 7, 1, 2, 3, 4, 5, 6, 7, 8, 9, 10, 1, 2, 3, 4, 5, 6, 7, 8, 9, 10, 1, 2, 3, 4, 5, 6, 7, 8, 9, 10, 3, 6, 8, 10, 2, 3, 4, 5, 6, 7, 9, 10, 3, 4, 5, 6, 7, 9, 10, 2, 3, 6, 9, 10, 1, 2, 3, 4, 5, 6, 7, 8, 9, 10, 1, 2, 3, 4, 5, 6, 7, 8, 9, 10, 1, 2, 3, 4, 5, 6, 7, 8, 9, 10, 1, 2, 3, 4, 5, 6, 7, 8, 9, 10, 1, 4, 5, 6, 1, 2, 3, 4, 5, 6, 7, 8, 9, 10, 1, 2, 3, 4, 5, 6, 7, 8, 9, 10, 1, 2, 3, 4, 5, 6, 7, 8, 9, 10, 1, 3, 8, 1, 2, 3, 5, 6, 7, 1, 2, 3, 4, 5, 6, 7, 8, 9, 10, 3, 6, 2, 4, 5, 6, 7, 9, 1, 2, 3, 4, 5, 6, 7, 8, 9, 10, 2, 9, 1, 2, 3, 4, 5, 6, 7, 8, 9, 10, 1, 2, 3, 4, 5, 6, 7, 8, 9, 10, 1, 2, 3, 4, 5, 6, 7, 8, 9, 10, 1, 2, 3, 4, 5, 6, 7, 8, 9, 10, 5, 7, 1, 2, 3, 4, 5, 6, 7, 8, 9, 10, 3, 5, 9, 1, 2, 5, 1, 2, 3, 4, 5, 6, 7, 8, 9, 10, 1, 2, 3, 4, 5, 6, 7, 8, 9, 10, 1, 2, 3, 4, 5, 6, 7, 8, 9, 10, 1, 2, 3, 4, 5, 6, 7, 8, 9, 10, 1, 2, 3, 4, 5, 6, 7, 8, 9, 10, 2, 6, 7, 10, 1, 2, 3, 4, 5, 6, 7, 8, 9, 10, 4, 6, 8, 2, 5, 6, 9, 5, 2, 3, 4, 5, 6, 7, 9, 1, 2, 3, 4, 5, 6, 7, 8, 9, 10, 1, 2, 3, 4, 5, 6, 7, 8, 10, 2, 3, 4, 5, 6, 7, 9, 10, 1, 2, 4, 5, 6, 7, 8, 9, 10, 3, 6, 8, 10, 6, 1, 2, 3, 4, 5, 6, 7, 8, 9, 10, 1, 2, 3, 4, 5, 6, 7, 8, 9, 10, 2, 3, 4, 5, 6, 7, 9, 10, 1, 2, 3, 4, 5, 6, 7, 9, 10, 1, 2, 3, 8, 9, 1, 2, 3, 4, 5, 6, 7, 8, 9, 10, 1, 2, 3, 4, 5, 6, 7, 8, 10, 1, 2, 3, 4, 5, 6, 7, 8, 9, 10, 5, 7, 9, 2, 1, 4, 8, 9, 1, 2, 3, 4, 5, 6, 7, 8, 9, 10, 1, 2, 3, 1, 2, 3, 4, 5, 6, 7, 8, 9, 10, 1, 3, 4, 5, 7, 10, 9, 6, 9, 3, 1, 2, 3, 5, 6, 7, 8, 9, 10, 2, 1, 2, 3, 4, 5, 6, 7, 8, 9, 10, 1, 2, 3, 4, 5, 6, 7, 8, 9, 10, 1, 2, 3, 4, 5, 6, 7, 8, 9, 10, 1, 2, 3, 4, 6, 8, 9, 10, 1, 2, 3, 4, 5, 6, 7, 8, 9, 10, 1, 2, 3, 4, 5, 6, 7, 8, 9, 10, 1, 5, 5, 2, 5, 1, 2, 3, 4, 5, 6, 7, 8, 9, 10, 1, 2, 3, 5, 6, 8, 6, 1, 2, 3, 4, 5, 6, 7, 8, 9, 10, 1, 2, 4, 6, 7, 8, 9, 1, 4, 5, 6, 10, 1, 2, 3, 4, 5, 6, 7, 8, 9, 10, 1, 2, 3, 4, 5, 6, 7, 8, 9, 10, 1, 2, 3, 4, 5, 6, 7, 8, 9, 10, 1, 2, 3, 4, 5, 6, 7, 8, 10, 1, 2, 3, 4, 5, 6, 7, 8, 9, 10, 1, 2, 3, 6, 7, 9, 10, 1, 2, 3, 4, 5, 6, 7, 8, 9, 10, 1, 2, 3, 4, 5, 6, 7, 9, 7, 1, 2, 3, 4, 5, 6, 7, 8, 9, 10, 1, 2, 3, 4, 5, 6, 7, 8, 9, 10, 2, 3, 4, 5, 6, 7, 9, 10, 1, 4, 6, 1, 2, 3, 4, 5, 6, 7, 8, 9, 10, 2, 4, 6, 7, 8, 1, 2, 3, 4, 5, 6, 7, 8, 9, 10, 1, 2, 3, 4, 5, 6, 7, 8, 9, 10, 3, 4, 5, 6, 7, 9, 10, 2, 3, 5, 6, 7, 8, 9, 3, 6, 7, 1, 2, 3, 4, 5, 6, 7, 8, 9, 10, 1, 2, 3, 4, 5, 6, 7, 8, 9, 10, 2, 8, 1, 2, 3, 4, 5, 6, 7, 8, 9, 10, 2, 2, 6, 7, 9, 4, 5, 7, 9, 1, 2, 3, 4, 5, 6, 7, 8, 1, 2, 3, 4, 5, 6, 7, 8, 9, 10, 1, 2, 3, 4, 5, 6, 7, 8, 9, 10, 1, 2, 6, 7, 8, 9, 10, 1, 2, 3, 4, 5, 6, 7, 8, 9, 10, 1, 2, 3, 4, 5, 6, 7, 8, 9, 10, 1, 2, 3, 4, 5, 6, 7, 8, 9, 10, 1, 2, 3, 4, 5, 6, 7, 8, 9, 10, 1, 2, 3, 4, 5, 6, 7, 8, 9, 10, 1, 2, 3, 4, 5, 6, 7, 8, 9, 10, 1, 2, 3, 4, 5, 6, 7, 8, 9, 10, 1, 2, 3, 4, 5, 6, 7, 8, 9, 10, 5, 2, 6, 7, 1, 2, 3, 4, 5, 6, 7, 8, 9, 10, 2, 3, 4, 5, 6, 7, 9, 1, 2, 3, 5, 6, 7, 8, 9, 1, 2, 3, 4, 5, 6, 7, 8, 9, 10, 4, 8, 10, 4, 6, 8, 3, 5, 9, 1, 2, 3, 4, 5, 6, 7, 8, 9, 10, 3, 6, 10, 1, 2, 3, 4, 5, 6, 7, 8, 9, 10, 2, 9, 2, 3, 7, 2, 3, 5, 6, 7, 8, 9, 1, 2, 4, 6, 8, 9, 10, 1, 2, 3, 4, 5, 6, 7, 8, 9, 10, 1, 2, 3, 4, 5, 6, 7, 8, 9, 10, 9, 7, 1, 2, 3, 4, 5, 6, 7, 8, 9, 10, 2, 3, 7, 9, 1, 2, 3, 4, 5, 6, 7, 8, 9, 10, 1, 2, 3, 4, 5, 6, 7, 8, 9, 10, 2, 3, 4, 6, 2, 5, 6, 1, 2, 3, 4, 5, 6, 7, 8, 9, 10, 2, 3, 4, 5, 6, 7, 8, 9, 1, 2, 3, 4, 5, 6, 7, 8, 9, 10, 3, 6, 1, 2, 3, 4, 5, 6, 7, 8, 9, 10, 2, 6, 5, 2, 3, 5, 6, 7, 8, 9, 2, 3, 5, 6, 7, 8, 9, 1, 2, 3, 4, 5, 6, 7, 8, 9, 10, 1, 2, 3, 4, 5, 6, 7, 8, 9, 10, 1, 3, 4, 5, 6, 8, 9, 10, 1, 2, 3, 4, 5, 6, 7, 8, 9, 10, 1, 7, 8, 3, 4, 7, 8, 1, 2, 3, 4, 5, 6, 7, 8, 9, 10, 2, 6, 1, 6, 8, 2, 9, 8, 1, 2, 8, 6, 1, 10, 2, 4, 5, 6, 7, 8, 9, 4, 5, 6, 8, 4, 6, 4, 5, 6, 8, 4, 6, 8, 4, 6, 8, 4, 6, 8, 4, 5, 6, 8, 4, 5, 6, 8, 1, 6, 1, 2, 3, 4, 5, 8, 9, 10, 1, 4, 5, 9, 10, 1, 2, 3, 5, 6, 7, 8, 9, 1, 2, 3, 4, 5, 6, 8, 9, 10, 1, 4, 6, 7, 5, 6, 7, 9, 1, 2, 3, 4, 5, 6, 7, 8, 9, 10, 1, 3, 5, 6, 9, 1, 2, 3, 4, 5, 6, 7, 8, 9, 10, 1, 2, 3, 4, 5, 6, 7, 8, 9, 1, 3, 5, 6, 8, 9, 1, 3, 6, 9, 3, 4, 5, 6, 7, 9, 10, 1, 2, 3, 4, 5, 6, 7, 8, 9, 10, 1, 2, 3, 4, 5, 6, 7, 8, 9, 10, 1, 2, 3, 4, 5, 6, 7, 8, 9, 10, 1, 2, 3, 4, 5, 6, 7, 8, 9, 10, 1, 2, 3, 4, 5, 6, 7, 8, 9, 10, 1, 2, 3, 4, 5, 6, 7, 8, 9, 10, 1, 2, 3, 4, 5, 6, 7, 8, 9, 10, 1, 2, 3, 4, 5, 6, 7, 8, 9, 10, 1, 2, 3, 4, 5, 6, 7, 8, 9, 10, 2, 1, 2, 3, 4, 5, 6, 7, 8, 9, 10, 3, 6, 1, 2, 3, 4, 5, 6, 7, 8, 9, 10, 6, 8, 1, 2, 3, 4, 6, 8, 9, 1, 2, 3, 4, 5, 6, 7, 8, 9, 10, 1, 2, 3, 4, 5, 6, 7, 8, 9, 10, 1, 2, 3, 4, 5, 6, 7, 8, 9, 10, 1, 3, 6, 7, 9, 1, 2, 3, 4, 5, 6, 7, 8, 9, 10, 1, 2, 3, 4, 5, 6, 7, 8, 9, 10, 1, 2, 3, 4, 5, 6, 7, 8, 9, 10, 1, 2, 3, 4, 5, 6, 7, 8, 9, 10, 2, 3, 5, 8, 1, 3, 4, 8, 9, 1, 2, 3, 4, 5, 6, 7, 8, 9, 10, 1, 2, 3, 5, 6, 8, 9, 10, 1, 2, 3, 4, 5, 6, 7, 8, 9, 10, 1, 2, 3, 4, 5, 6, 7, 8, 9, 10, 1, 2, 3, 4, 5, 6, 7, 8, 9, 10, 3, 6, 1, 2, 3, 4, 5, 6, 7, 8, 9, 10, 3, 1, 2, 3, 4, 5, 6, 7, 8, 9, 10, 2, 5, 6, 7, 9, 1, 2, 3, 4, 5, 6, 7, 8, 9, 10, 1, 2, 3, 4, 5, 6, 7, 8, 9, 10, 6, 9, 2, 6, 8, 9, 6, 1, 2, 3, 4, 5, 6, 7, 8, 9, 10, 1, 1, 2, 3, 4, 5, 6, 7, 8, 9, 10, 1, 2, 3, 4, 5, 6, 7, 8, 9, 10, 7, 2, 3, 4, 5, 6, 7, 9, 10, 1, 2, 3, 4, 5, 6, 7, 8, 9, 10, 5, 9, 1, 2, 3, 4, 5, 6, 7, 8, 9, 10, 1, 2, 5, 9, 1, 2, 3, 4, 5, 6, 7, 8, 9, 10, 5, 7, 1, 2, 6, 9, 1, 2, 3, 4, 5, 6, 7, 8, 9, 10, 1, 2, 3, 4, 5, 6, 7, 8, 9, 10, 1, 2, 3, 7, 1, 2, 3, 4, 5, 6, 7, 8, 9, 10, 8, 4, 1, 2, 5, 8, 9, 1, 2, 3, 4, 5, 6, 7, 8, 9, 10, 1, 4, 9, 1, 2, 3, 4, 5, 6, 7, 8, 9, 10, 2, 3, 4, 6, 8, 9, 10, 1, 2, 3, 4, 5, 6, 8, 9, 1, 5, 1, 2, 3, 4, 5, 6, 7, 8, 9, 10, 2, 3, 4, 5, 6, 7, 9, 10, 1, 3, 4, 5, 6, 7, 9, 10, 1, 2, 3, 4, 5, 6, 7, 8, 9, 10, 1, 2, 3, 4, 5, 6, 7, 8, 9, 10, 2, 3, 4, 5, 6, 7, 9, 10, 3, 4, 5, 6, 7, 9, 10, 1, 2, 3, 4, 5, 6, 7, 8, 9, 10, 1, 2, 3, 4, 5, 6, 7, 8, 9, 10, 3, 5, 9, 1, 2, 3, 4, 5, 6, 7, 8, 9, 10, 6, 1, 2, 3, 4, 5, 6, 7, 8, 9, 10, 1, 2, 3, 4, 5, 6, 7, 8, 9, 10, 2, 1, 2, 3, 4, 5, 6, 7, 9, 1, 2, 3, 4, 5, 6, 7, 8, 9, 10, 1, 3, 5, 6, 9, 2, 5, 1, 2, 3, 4, 6, 7, 8, 9, 2, 6, 2, 1, 2, 3, 4, 5, 6, 7, 8, 9, 10, 2, 7, 1, 2, 3, 4, 5, 6, 7, 8, 9, 10, 1, 2, 3, 4, 5, 6, 7, 8, 9, 10, 1, 2, 3, 4, 5, 6, 7, 8, 9, 10, 6, 1, 1, 2, 3, 5, 6, 1, 2, 3, 4, 5, 6, 7, 8, 9, 1, 8, 9, 1, 1, 2, 3, 5, 9, 2, 1, 2, 3, 4, 5, 6, 7, 8, 9, 10, 3, 4, 5, 6, 7, 9, 10, 1, 2, 3, 4, 5, 6, 7, 8, 9, 10, 1, 2, 3, 4, 5, 6, 7, 8, 9, 10, 3, 6, 10, 1, 4, 1, 2, 3, 4, 5, 6, 7, 8, 9, 10, 1, 2, 3, 4, 5, 6, 7, 8, 9, 10, 1, 2, 3, 4, 5, 6, 7, 8, 9, 10, 1, 2, 3, 4, 5, 6, 7, 8, 9, 10, 2, 5, 2, 5, 3, 5, 1, 2, 5, 6, 7, 8, 9, 3, 9, 1, 2, 3, 4, 5, 6, 7, 8, 9, 10, 1, 2, 3, 4, 5, 6, 7, 8, 9, 10, 2, 4, 5, 8, 2, 5, 6, 7, 8, 9, 1, 2, 3, 4, 5, 6, 8, 9, 10, 9, 2, 3, 4, 5, 6, 7, 9, 10, 8, 8, 1, 3, 5, 1, 2, 3, 4, 5, 6, 7, 8, 9, 10, 1, 2, 3, 4, 5, 6, 7, 8, 9, 10, 2, 7, 1, 2, 3, 5, 6, 8, 1, 2, 3, 4, 5, 6, 7, 8, 9, 10, 8, 1, 2, 3, 4, 5, 6, 7, 8, 9, 10, 1, 3, 4, 5, 6, 7, 8, 9, 10, 1, 2, 3, 4, 5, 6, 7, 8, 9, 10, 1, 2, 3, 4, 5, 6, 7, 8, 9, 10, 1, 2, 3, 4, 5, 6, 7, 8, 9, 10, 3, 6, 1, 2, 3, 4, 5, 6, 7, 8, 9, 10, 3, 6, 9, 10, 1, 2, 3, 4, 5, 6, 7, 8, 9, 10, 2, 7, 10, 1, 2, 3, 4, 5, 6, 7, 8, 9, 10, 1, 2, 3, 4, 5, 6, 7, 8, 9, 10, 1, 2, 3, 4, 5, 6, 7, 8, 9, 10, 1, 2, 3, 4, 5, 6, 7, 8, 9, 10, 1, 2, 3, 4, 5, 6, 7, 8, 9, 10, 1, 2, 3, 4, 5, 6, 7, 8, 9, 10, 1, 2, 3, 4, 5, 6, 7, 8, 9, 10, 2, 1, 2, 3, 4, 5, 6, 7, 8, 9, 10, 9, 10, 1, 2, 3, 5, 6, 7, 1, 2, 3, 5, 6, 7, 8, 9, 1, 3, 4, 5, 6, 7, 8, 9, 10, 1, 2, 3, 4, 5, 6, 7, 8, 9, 10, 1, 2, 3, 4, 5, 6, 7, 8, 9, 10, 2, 7, 10, 1, 2, 3, 4, 5, 6, 7, 8, 9, 10, 1, 2, 3, 4, 5, 6, 7, 8, 9, 10, 1, 2, 3, 4, 5, 6, 7, 8, 9, 10, 1, 2, 3, 5, 8, 9, 1, 2, 3, 5, 8, 9, 1, 2, 3, 4, 5, 6, 7, 8, 9, 10, 1, 2, 3, 4, 5, 6, 7, 8, 9, 10, 3, 5, 9, 1, 2, 3, 6, 8, 10, 9, 2, 5, 9, 1, 2, 3, 4, 5, 6, 7, 8, 9, 10, 1, 2, 3, 4, 5, 6, 7, 8, 9, 10, 1, 2, 3, 4, 5, 6, 7, 8, 9, 1, 2, 3, 4, 5, 6, 7, 9, 10, 1, 2, 3, 4, 5, 6, 7, 9, 10, 9, 1, 4, 6, 1, 2, 3, 4, 5, 6, 7, 8, 9, 10, 2, 3, 4, 5, 6, 7, 9, 10, 1, 2, 3, 4, 5, 6, 7, 8, 9, 10, 1, 2, 3, 4, 5, 6, 7, 8, 9, 10, 1, 2, 3, 4, 5, 6, 7, 8, 9, 10, 2, 5, 8, 1, 2, 3, 4, 5, 6, 7, 8, 9, 10, 1, 2, 3, 4, 5, 6, 7, 8, 9, 10, 2, 3, 4, 5, 6, 7, 9, 10, 2, 2, 4, 1, 3, 4, 5, 6, 7, 8, 9, 10, 1, 2, 3, 4, 5, 6, 7, 8, 9, 10, 1, 2, 1, 2, 3, 4, 5, 6, 7, 8, 9, 10, 2, 5, 9, 1, 2, 3, 6, 9, 3, 3, 4, 5, 6, 7, 9, 10, 5, 9, 9, 1, 2, 3, 4, 5, 6, 7, 8, 9, 10, 1, 2, 3, 4, 5, 6, 7, 8, 9, 10, 1, 2, 3, 4, 5, 6, 7, 8, 9, 10, 1, 2, 3, 4, 5, 6, 7, 8, 9, 10, 2, 6, 7, 9, 2, 9, 1, 2, 3, 4, 5, 6, 7, 8, 9, 10, 1, 2, 3, 4, 5, 6, 7, 8, 9, 10, 1, 2, 3, 4, 5, 6, 7, 8, 9, 10, 6, 9, 1, 2, 3, 9, 1, 2, 3, 4, 5, 6, 7, 9, 10, 1, 2, 3, 4, 5, 6, 7, 8, 9, 10, 10, 1, 2, 3, 4, 5, 6, 7, 8, 9, 10, 1, 2, 3, 4, 5, 6, 7, 8, 9, 10, 1, 2, 3, 7, 1, 2, 3, 4, 5, 6, 7, 8, 9, 10, 1, 2, 3, 4, 5, 6, 7, 8, 9, 10, 3, 5, 1, 2, 8, 1, 5, 6, 7, 8, 9, 1, 2, 3, 5, 6, 7, 8, 9, 10, 1, 2, 3, 4, 5, 6, 7, 8, 9, 10, 1, 2, 3, 4, 5, 6, 7, 8, 9, 10, 2, 5, 6, 7, 8, 9, 10, 2, 3, 4, 5, 6, 7, 9, 1, 2, 3, 4, 5, 6, 7, 8, 9, 10, 1, 2, 5, 6, 1, 4, 6, 1, 2, 3, 4, 5, 6, 7, 8, 9, 10, 6, 8, 1, 2, 3, 4, 5, 6, 7, 8, 9, 10, 3, 9, 1, 2, 3, 4, 5, 6, 7, 8, 9, 10, 2, 3, 4, 5, 6, 7, 9, 10, 1, 2, 3, 4, 5, 6, 7, 8, 9, 10, 1, 4, 5, 6, 1, 2, 6, 9, 1, 2, 3, 4, 5, 6, 7, 8, 9, 10, 1, 3, 6, 7, 8, 9, 1, 3, 4, 5, 6, 9, 10, 1, 2, 3, 4, 5, 6, 7, 8, 9, 10, 1, 1, 2, 3, 4, 5, 6, 7, 8, 9, 1, 2, 3, 4, 5, 6, 7, 8, 9, 10, 1, 2, 3, 4, 5, 6, 7, 8, 9, 10, 1, 2, 5, 6, 7, 8, 9, 3, 7, 1, 2, 3, 4, 5, 6, 7, 8, 9, 10, 2, 3, 7, 1, 2, 3, 4, 5, 6, 7, 8, 9, 10, 1, 2, 3, 4, 5, 6, 7, 8, 9, 10, 2, 7, 9, 6, 9, 1, 2, 4, 5, 6, 7, 8, 9, 1, 2, 3, 4, 5, 6, 7, 8, 9, 10, 4, 1, 2, 3, 4, 5, 6, 7, 8, 9, 10, 1, 2, 3, 4, 5, 6, 7, 8, 9, 10, 1, 3, 2, 6, 9, 1, 2, 3, 4, 5, 6, 7, 8, 9, 10, 2, 3, 5, 6, 7, 8, 9, 1, 5, 1, 2, 3, 4, 5, 6, 7, 9, 10, 1, 2, 3, 4, 5, 6, 7, 8, 9, 10, 1, 2, 3, 4, 5, 6, 7, 8, 9, 10, 1, 2, 3, 6, 8, 9, 10, 1, 2, 3, 4, 5, 6, 7, 8, 9, 10, 1, 2, 3, 4, 5, 6, 7, 8, 9, 10, 1, 2, 3, 4, 5, 6, 7, 8, 9, 10, 1, 2, 3, 4, 5, 6, 7, 8, 9, 10, 1, 2, 3, 4, 5, 6, 7, 8, 9, 10, 1, 2, 3, 4, 5, 6, 7, 8, 9, 10, 1, 2, 3, 4, 5, 6, 7, 8, 9, 10, 1, 2, 3, 4, 5, 6, 7, 8, 9, 10, 2, 3, 4, 5, 6, 7, 9, 10, 1, 2, 3, 4, 5, 6, 7, 8, 9, 10, 1, 2, 3, 4, 5, 6, 7, 8, 9, 10, 2, 3, 6, 7, 8, 9, 1, 2, 3, 4, 5, 6, 7, 8, 9, 10, 1, 2, 3, 4, 5, 6, 3, 6, 7, 9, 2, 6, 9, 1, 2, 3, 4, 5, 6, 7, 8, 9, 10, 1, 2, 3, 5, 6, 8, 1, 7, 1, 2, 3, 4, 5, 6, 7, 8, 9, 10, 1, 2, 3, 5, 6, 7, 8, 9, 1, 2, 3, 4, 5, 6, 7, 8, 9, 10, 1, 2, 3, 4, 5, 6, 7, 9, 1, 2, 4, 6, 8, 1, 2, 3, 4, 5, 6, 7, 8, 9, 10, 7, 2, 1, 1, 2, 3, 5, 6, 7, 8, 9, 10, 2, 4, 1, 2, 4, 5, 6, 7, 8, 9, 1, 2, 3, 4, 5, 6, 7, 8, 9, 10, 2, 3, 4, 5, 6, 7, 9, 10, 2, 8, 6, 1, 2, 3, 4, 5, 6, 7, 8, 9, 10, 1, 2, 3, 4, 5, 6, 7, 9, 10, 5, 1, 2, 5, 7, 8, 9, 10, 1, 2, 3, 4, 5, 6, 7, 8, 9, 10, 1, 2, 3, 4, 6, 7, 8, 1, 2, 3, 4, 5, 6, 7, 8, 9, 10, 1, 2, 3, 4, 5, 6, 7, 8, 9, 10, 8, 1, 3, 4, 5, 6, 8, 1, 2, 3, 4, 5, 6, 7, 8, 9, 10, 7, 1, 2, 3, 5, 8, 9, 2, 4, 6, 8, 1, 2, 3, 4, 5, 6, 7, 8, 9, 10, 1, 2, 3, 4, 5, 6, 7, 8, 9, 10, 1, 2, 3, 4, 5, 6, 7, 8, 9, 10, 1, 2, 3, 4, 5, 6, 7, 8, 9, 10, 1, 2, 3, 4, 5, 6, 7, 8, 9, 10, 4, 5, 7, 9, 1, 2, 3, 4, 5, 6, 7, 8, 9, 10, 1, 2, 3, 4, 5, 6, 7, 8, 9, 10, 1, 2, 3, 4, 5, 6, 7, 8, 9, 10, 1, 2, 3, 4, 5, 6, 7, 8, 9, 10, 2, 3, 8, 1, 2, 3, 4, 5, 6, 7, 8, 9, 10, 1, 2, 3, 4, 5, 6, 7, 8, 9, 10, 1, 2, 4, 6, 8, 10, 1, 2, 3, 4, 5, 6, 7, 8, 9, 10, 1, 2, 3, 4, 5, 6, 7, 8, 9, 1, 2, 3, 4, 5, 6, 7, 8, 9, 10, 1, 2, 3, 4, 5, 6, 7, 8, 9, 10, 1, 2, 5, 6, 8, 9, 10, 1, 2, 3, 4, 5, 6, 7, 9, 10, 1, 2, 3, 4, 5, 6, 7, 8, 9, 10, 1, 2, 3, 4, 5, 6, 7, 8, 9, 1, 2, 5, 7, 9, 1, 2, 3, 4, 5, 6, 7, 8, 9, 10, 1, 2, 3, 4, 5, 6, 7, 8, 9, 10, 5, 7, 1, 2, 3, 4, 5, 6, 7, 8, 9, 10, 2, 2, 1, 2, 3, 4, 5, 6, 7, 8, 9, 10, 1, 2, 3, 4, 5, 6, 7, 8, 9, 10, 1, 2, 3, 4, 5, 6, 7, 8, 9, 10, 1, 2, 4, 5, 6, 7, 8, 9, 10, 2, 3, 4, 5, 6, 7, 9, 10, 2, 3, 4, 5, 6, 7, 9, 10, 1, 3, 5, 6, 9, 10, 1, 2, 3, 4, 5, 6, 7, 8, 9, 10, 1, 2, 3, 4, 5, 6, 8, 9, 1, 2, 3, 4, 5, 6, 7, 8, 9, 10, 1, 2, 3, 4, 5, 6, 7, 8, 9, 10, 3, 6, 8, 4, 5, 8, 5, 1, 5, 2, 3, 4, 5, 6, 7, 9, 1, 2, 3, 5, 6, 8, 10, 5, 1, 1, 2, 3, 5, 6, 7, 8, 9, 9, 1, 2, 3, 4, 5, 7, 8, 9, 10, 4, 5, 6, 8, 9, 1, 2, 3, 4, 5, 6, 7, 8, 9, 10, 1, 2, 3, 4, 5, 6, 7, 8, 9, 10, 3, 8, 3, 8, 5, 5, 1, 3, 4, 5, 6, 7, 8, 9, 10, 2, 3, 4, 5, 6, 7, 9, 10, 1, 2, 3, 4, 5, 6, 7, 8, 9, 10, 1, 2, 3, 4, 5, 6, 7, 8, 9, 10, 2, 8, 1, 2, 3, 4, 5, 6, 7, 8, 9, 10, 1, 2, 3, 4, 5, 6, 7, 8, 9, 10, 1, 2, 3, 5, 1, 2, 3, 4, 5, 6, 7, 8, 9, 10, 3, 6, 2, 3, 4, 5, 6, 7, 9, 10, 2, 7, 1, 2, 3, 4, 5, 6, 7, 8, 9, 10, 1, 2, 4, 5, 6, 7, 8, 9, 2, 3, 4, 6, 8, 9, 1, 2, 3, 4, 5, 6, 7, 8, 9, 10, 1, 2, 3, 4, 5, 6, 7, 8, 9, 10, 2, 6, 7, 1, 2, 3, 4, 5, 6, 7, 8, 9, 10, 3, 6, 1, 2, 3, 4, 5, 6, 7, 8, 9, 10, 1, 8, 3, 1, 2, 3, 4, 5, 7, 8, 9, 1, 2, 3, 4, 5, 6, 7, 8, 9, 10, 1, 2, 8, 2, 9, 1, 2, 3, 4, 5, 6, 7, 8, 9, 10, 2, 4, 6, 8, 5, 9, 5, 2, 9, 9, 1, 2, 3, 4, 5, 6, 7, 8, 9, 10, 1, 2, 3, 4, 5, 6, 7, 8, 9, 10, 1, 2, 3, 4, 5, 6, 7, 8, 9, 10, 1, 2, 3, 4, 5, 6, 7, 8, 9, 10, 1, 2, 3, 4, 5, 6, 7, 8, 9, 10, 1, 2, 3, 4, 5, 6, 7, 8, 9, 10, 6, 7, 1, 2, 3, 4, 5, 6, 7, 8, 9, 10, 1, 2, 3, 4, 5, 6, 7, 8, 9, 10, 2, 6, 7, 9, 1, 2, 3, 4, 5, 6, 7, 8, 9, 10, 2, 3, 5, 6, 7, 9, 10, 2, 4, 5, 6, 7, 9, 9, 2, 6], \"Freq\": [0.05101555585861206, 0.11579721421003342, 0.09150408953428268, 0.05749372020363808, 0.06397188454866409, 0.3490111827850342, 0.05263509601354599, 0.07692822068929672, 0.11822652071714401, 0.022673578932881355, 0.0291498601436615, 0.932795524597168, 0.8500245809555054, 0.07451827079057693, 0.7417954802513123, 0.06266309320926666, 0.023710358887910843, 0.018629567697644234, 0.02709755301475525, 0.003387194126844406, 0.023710358887910843, 0.013548776507377625, 0.011855179443955421, 0.2124539315700531, 0.12107589840888977, 0.23072955012321472, 0.0715794637799263, 0.05711127445101738, 0.12336035072803497, 0.04264308512210846, 0.0738639160990715, 0.02817489579319954, 0.03807418420910835, 0.9466720223426819, 0.027047771960496902, 0.8509591221809387, 0.20094367861747742, 0.04305936023592949, 0.014353119768202305, 0.6889497637748718, 0.02870623953640461, 0.8709889650344849, 0.011770120821893215, 0.011770120821893215, 0.011770120821893215, 0.02354024164378643, 0.011770120821893215, 0.011770120821893215, 0.011770120821893215, 0.011770120821893215, 0.011770120821893215, 0.8493283987045288, 0.027340512722730637, 0.06835127621889114, 0.013670256361365318, 0.7655343413352966, 0.041010767221450806, 0.027340512722730637, 0.013670256361365318, 0.013670256361365318, 0.013670256361365318, 0.027340512722730637, 0.026826608926057816, 0.16632497310638428, 0.06361738592386246, 0.03755725175142288, 0.0889110416173935, 0.33801525831222534, 0.21154697239398956, 0.01686243899166584, 0.0321919284760952, 0.01762891374528408, 0.13512974977493286, 0.016891218721866608, 0.016891218721866608, 0.7938873171806335, 0.016891218721866608, 0.016891218721866608, 0.008073483593761921, 0.05651438236236572, 0.008073483593761921, 0.032293934375047684, 0.032293934375047684, 0.8396422863006592, 0.008073483593761921, 0.016146967187523842, 0.008073483593761921, 0.05368076264858246, 0.12335153669118881, 0.07538149505853653, 0.09022936224937439, 0.10393509268760681, 0.48312684893608093, 0.014847869984805584, 0.01713215745985508, 0.03426431491971016, 0.003426431678235531, 0.04229522868990898, 0.1708076447248459, 0.029281310737133026, 0.052055664360523224, 0.14152634143829346, 0.45874056220054626, 0.02765457145869732, 0.011387176811695099, 0.06506957858800888, 0.0032534790225327015, 0.03908587992191315, 0.03908587992191315, 0.8598893880844116, 0.04947279766201973, 0.021202627569437027, 0.7138217687606812, 0.007067542523145676, 0.021202627569437027, 0.014135085046291351, 0.014135085046291351, 0.007067542523145676, 0.13428330421447754, 0.021202627569437027, 0.07791010290384293, 0.8570111393928528, 0.9726541042327881, 0.8232593536376953, 0.10290741920471191, 0.8228530883789062, 0.04114265367388725, 0.04114265367388725, 0.3783663213253021, 0.06261380761861801, 0.16279590129852295, 0.08139795064926147, 0.04919656366109848, 0.04293518513441086, 0.02057310938835144, 0.039357252418994904, 0.025045523419976234, 0.13864485919475555, 0.043136291205883026, 0.06189120188355446, 0.084397092461586, 0.09940101951360703, 0.08627258241176605, 0.4744991958141327, 0.10315199941396713, 0.02250589057803154, 0.018754908815026283, 0.005626472644507885, 0.8883899450302124, 0.9248955249786377, 0.025339603424072266, 0.012669801712036133, 0.0380094051361084, 0.026844007894396782, 0.7784762382507324, 0.026844007894396782, 0.026844007894396782, 0.0805320218205452, 0.026844007894396782, 0.026844007894396782, 0.8225557804107666, 0.009792330674827099, 0.019584661349654198, 0.009792330674827099, 0.009792330674827099, 0.029376991093158722, 0.029376991093158722, 0.009792330674827099, 0.029376991093158722, 0.019584661349654198, 0.8438165783882141, 0.007527859415858984, 0.2887471914291382, 0.03279995918273926, 0.011291788890957832, 0.06613761931657791, 0.16722601652145386, 0.24519313871860504, 0.010216380469501019, 0.16453750431537628, 0.005914746783673763, 0.0061484756879508495, 0.19675122201442719, 0.009991273283958435, 0.0061484756879508495, 0.13065510988235474, 0.22518792748451233, 0.16139748692512512, 0.015371189452707767, 0.24209623038768768, 0.005379916168749332, 0.9022700786590576, 0.02910548634827137, 0.02910548634827137, 0.02161889523267746, 0.04323779046535492, 0.8215180039405823, 0.02161889523267746, 0.02161889523267746, 0.02161889523267746, 0.02161889523267746, 0.02161889523267746, 0.02161889523267746, 0.6784297823905945, 0.02176780067384243, 0.03144238144159317, 0.03507034480571747, 0.06530340015888214, 0.03386102244257927, 0.02176780067384243, 0.02297712303698063, 0.019349155947566032, 0.07014068961143494, 0.07587502151727676, 0.8346251845359802, 0.01956593431532383, 0.13696153461933136, 0.01956593431532383, 0.03913186863064766, 0.7435055375099182, 0.01956593431532383, 0.03913186863064766, 0.8525919914245605, 0.012994693592190742, 0.006497346796095371, 0.03248673304915428, 0.2014177441596985, 0.01949203945696354, 0.05847612023353577, 0.01949203945696354, 0.630242645740509, 0.012994693592190742, 0.006497346796095371, 0.02141731232404709, 0.02141731232404709, 0.02141731232404709, 0.10708656162023544, 0.02141731232404709, 0.02141731232404709, 0.7710232138633728, 0.02971494570374489, 0.02971494570374489, 0.8617334365844727, 0.02971494570374489, 0.02971494570374489, 0.02971494570374489, 0.006887201685458422, 0.2617136538028717, 0.013774403370916843, 0.006887201685458422, 0.5991865396499634, 0.006887201685458422, 0.041323211044073105, 0.013774403370916843, 0.055097613483667374, 0.04106708988547325, 0.020533544942736626, 0.020533544942736626, 0.0821341797709465, 0.020533544942736626, 0.020533544942736626, 0.7802746891975403, 0.01627415232360363, 0.1356179416179657, 0.03797302022576332, 0.01084943488240242, 0.00542471744120121, 0.7757346034049988, 0.01084943488240242, 0.00542471744120121, 0.8669063448905945, 0.1231376975774765, 0.07622809708118439, 0.04495503008365631, 0.050818730145692825, 0.005863699596375227, 0.46323227882385254, 0.0801372304558754, 0.0410458967089653, 0.05668243020772934, 0.058636996895074844, 0.892515242099762, 0.07680416107177734, 0.8448458313941956, 0.021053092554211617, 0.04210618510842323, 0.8210706114768982, 0.04210618510842323, 0.021053092554211617, 0.021053092554211617, 0.021053092554211617, 0.0640610009431839, 0.896854043006897, 0.030464839190244675, 0.02284862846136093, 0.007616209797561169, 0.007616209797561169, 0.015232419595122337, 0.015232419595122337, 0.02284862846136093, 0.07616209983825684, 0.7997020483016968, 0.007616209797561169, 0.8740854859352112, 0.02731517143547535, 0.02731517143547535, 0.02731517143547535, 0.02731517143547535, 0.02731517143547535, 0.06778255850076675, 0.08703897148370743, 0.07856614887714386, 0.03081025555729866, 0.0916605070233345, 0.06855281442403793, 0.38358765840530396, 0.06701230257749557, 0.11476819962263107, 0.010013332590460777, 0.03894341364502907, 0.031154729425907135, 0.07788682729005814, 0.007788682356476784, 0.07788682729005814, 0.015577364712953568, 0.0934641882777214, 0.1168302372097969, 0.5452077984809875, 0.007788682356476784, 0.054475877434015274, 0.054475877434015274, 0.054475877434015274, 0.8171381950378418, 0.8686368465423584, 0.018096601590514183, 0.018096601590514183, 0.018096601590514183, 0.018096601590514183, 0.018096601590514183, 0.018096601590514183, 0.018096601590514183, 0.2345125526189804, 0.06871762871742249, 0.06980838626623154, 0.12325543165206909, 0.0523562915623188, 0.0076352921314537525, 0.12870921194553375, 0.2595999240875244, 0.017452096566557884, 0.038176462054252625, 0.07951592653989792, 0.05963694304227829, 0.01987898163497448, 0.8150382041931152, 0.6796256303787231, 0.015834705904126167, 0.027869082987308502, 0.08170709013938904, 0.016468094661831856, 0.03230280056595802, 0.010767600499093533, 0.020901812240481377, 0.015834705904126167, 0.09880857169628143, 0.06655941158533096, 0.8652723431587219, 0.06655941158533096, 0.07419693470001221, 0.8161662817001343, 0.10096506029367447, 0.00841375533491373, 0.01682751066982746, 0.7488241791725159, 0.01682751066982746, 0.01682751066982746, 0.00841375533491373, 0.050482530146837234, 0.025241265073418617, 0.00841375533491373, 0.07078494876623154, 0.14156989753246307, 0.010112135671079159, 0.020224271342158318, 0.020224271342158318, 0.637064516544342, 0.010112135671079159, 0.07078494876623154, 0.020224271342158318, 0.0032706651836633682, 0.042518649250268936, 0.042518649250268936, 0.009811995550990105, 0.6868396997451782, 0.09811995923519135, 0.013082660734653473, 0.0032706651836633682, 0.09157862514257431, 0.009811995550990105, 0.013356446288526058, 0.0400693379342556, 0.0200346689671278, 0.0200346689671278, 0.07346045225858688, 0.026712892577052116, 0.026712892577052116, 0.7746738791465759, 0.02828245796263218, 0.29790857434272766, 0.015083977952599525, 0.033938951790332794, 0.02828245796263218, 0.4732598066329956, 0.03016795590519905, 0.03016795590519905, 0.052793923765420914, 0.011312982998788357, 0.02427721582353115, 0.8982570171356201, 0.02427721582353115, 0.02427721582353115, 0.1073194071650505, 0.09390448033809662, 0.1207343339920044, 0.030662687495350838, 0.04599403217434883, 0.026829851791262627, 0.4656895697116852, 0.030662687495350838, 0.07090746611356735, 0.007665671873837709, 0.9249772429466248, 0.9282863140106201, 0.9074117541313171, 0.05176924914121628, 0.8283079862594604, 0.05176924914121628, 0.02564328722655773, 0.02564328722655773, 0.02564328722655773, 0.02564328722655773, 0.02564328722655773, 0.02564328722655773, 0.8205851912498474, 0.02564328722655773, 0.3896719515323639, 0.05571877583861351, 0.11215650290250778, 0.05607825145125389, 0.09418269991874695, 0.027679650112986565, 0.05140506476163864, 0.06937886029481888, 0.05535930022597313, 0.08843109011650085, 0.03392288088798523, 0.8141491413116455, 0.022615253925323486, 0.0791533887386322, 0.011307626962661743, 0.022615253925323486, 0.07175812125205994, 0.8610974550247192, 0.2055831402540207, 0.023415841162204742, 0.07699445635080338, 0.1273980438709259, 0.04643480107188225, 0.059134919196367264, 0.02817838452756405, 0.31154975295066833, 0.07897885143756866, 0.04246601462364197, 0.012425149790942669, 0.8573353290557861, 0.0062125748954713345, 0.03106287494301796, 0.05591317638754845, 0.018637724220752716, 0.0062125748954713345, 0.824287474155426, 0.7264874577522278, 0.022241326048970222, 0.022241326048970222, 0.034950654953718185, 0.1493346244096756, 0.0476599857211113, 0.015886662527918816, 0.06354665011167526, 0.1016746312379837, 0.5369691848754883, 0.0063546644523739815, 0.1252918392419815, 0.035797666758298874, 0.011932555586099625, 0.69208824634552, 0.011932555586099625, 0.011932555586099625, 0.02983138896524906, 0.017898833379149437, 0.02983138896524906, 0.02983138896524906, 0.25155097246170044, 0.06108156591653824, 0.030869178473949432, 0.36189183592796326, 0.030869178473949432, 0.025614850223064423, 0.01050865650177002, 0.16091379523277283, 0.03940746188163757, 0.026928432285785675, 0.027564194053411484, 0.027564194053411484, 0.05512838810682297, 0.8544899821281433, 0.027564194053411484, 0.8913187384605408, 0.05744946748018265, 0.054344091564416885, 0.020184949040412903, 0.48754414916038513, 0.11334624886512756, 0.03415914252400398, 0.03571183234453201, 0.15682151913642883, 0.023290324956178665, 0.01707957126200199, 0.020331230014562607, 0.05082807317376137, 0.040662460029125214, 0.7725867033004761, 0.010165615007281303, 0.020331230014562607, 0.010165615007281303, 0.03049684502184391, 0.03049684502184391, 0.010165615007281303, 0.0597386471927166, 0.8960797190666199, 0.07289846986532211, 0.8383323550224304, 0.007697753142565489, 0.012829587794840336, 0.005131835117936134, 0.10007078945636749, 0.043620601296424866, 0.0641479417681694, 0.017961423844099045, 0.7364183664321899, 0.012829587794840336, 0.04307884722948074, 0.02153942361474037, 0.02153942361474037, 0.04307884722948074, 0.08615769445896149, 0.7538797855377197, 0.02153942361474037, 0.052796341478824615, 0.052796341478824615, 0.8447414636611938, 0.031226344406604767, 0.8743376135826111, 0.015613172203302383, 0.015613172203302383, 0.015613172203302383, 0.015613172203302383, 0.015613172203302383, 0.015613172203302383, 0.015613172203302383, 0.8183691501617432, 0.07132701575756073, 0.8559242486953735, 0.030316315591335297, 0.16503319144248962, 0.04376792535185814, 0.035737112164497375, 0.12929607927799225, 0.236908957362175, 0.1186552494764328, 0.046377938240766525, 0.18330328166484833, 0.010841595940291882, 0.017940852791070938, 0.010764512233436108, 0.07176341116428375, 0.025117194280028343, 0.01435268297791481, 0.0789397582411766, 0.02870536595582962, 0.007176341488957405, 0.017940852791070938, 0.7248104810714722, 0.029764145612716675, 0.029764145612716675, 0.029764145612716675, 0.8333960771560669, 0.029764145612716675, 0.6267135739326477, 0.01980321854352951, 0.03145216777920723, 0.05940965190529823, 0.048925597220659256, 0.024462798610329628, 0.03378196060657501, 0.024462798610329628, 0.050090491771698, 0.08037776499986649, 0.02247069589793682, 0.04494139179587364, 0.02247069589793682, 0.02247069589793682, 0.11235348135232925, 0.7640036940574646, 0.02247069589793682, 0.16686157882213593, 0.051682788878679276, 0.2283886969089508, 0.07777029275894165, 0.18015143275260925, 0.06349599361419678, 0.078754723072052, 0.047745052725076675, 0.06005047634243965, 0.0452839657664299, 0.052332889288663864, 0.007218329235911369, 0.012632076628506184, 0.08661995083093643, 0.046919140964746475, 0.11368869245052338, 0.0036091646179556847, 0.6388221383094788, 0.028873316943645477, 0.007218329235911369, 0.9479153752326965, 0.5577050447463989, 0.020175376906991005, 0.027380868792533875, 0.05187954008579254, 0.010087688453495502, 0.015852082520723343, 0.03314526379108429, 0.04467405006289482, 0.038909655064344406, 0.19887156784534454, 0.023141253739595413, 0.5405135750770569, 0.026447148993611336, 0.07438260316848755, 0.0495884045958519, 0.08760617673397064, 0.0495884045958519, 0.023141253739595413, 0.10744153708219528, 0.018182413652539253, 0.0341666005551815, 0.6363529562950134, 0.0341666005551815, 0.03843742609024048, 0.021354125812649727, 0.05552072823047638, 0.07260403037071228, 0.008541650138795376, 0.059791553765535355, 0.029895776882767677, 0.022537969052791595, 0.04507593810558319, 0.022537969052791595, 0.09015187621116638, 0.7662909030914307, 0.022537969052791595, 0.022537969052791595, 0.9173226952552795, 0.07746384292840958, 0.09569063037633896, 0.04101026803255081, 0.013670089654624462, 0.09569063037633896, 0.02278348244726658, 0.5923705697059631, 0.013670089654624462, 0.04101026803255081, 0.004556696396321058, 0.04698214307427406, 0.06510382890701294, 0.454384446144104, 0.02416224591434002, 0.025504592806100845, 0.048995666205883026, 0.006040561478585005, 0.26175767183303833, 0.038928061723709106, 0.028189286589622498, 0.12633556127548218, 0.18417592346668243, 0.15829996764659882, 0.039574991911649704, 0.04261922463774681, 0.03805287927389145, 0.019787495955824852, 0.3333432078361511, 0.019787495955824852, 0.039574991911649704, 0.005624033510684967, 0.03936823457479477, 0.8098608255386353, 0.022496134042739868, 0.08998453617095947, 0.011248067021369934, 0.022496134042739868, 0.9023032188415527, 0.02910655550658703, 0.02910655550658703, 0.06887771189212799, 0.022959237918257713, 0.8724510073661804, 0.07591760158538818, 0.9110111594200134, 0.6780712604522705, 0.023741992190480232, 0.03672094643115997, 0.05666422098875046, 0.019310152158141136, 0.034979868680238724, 0.04131106659770012, 0.02548306994140148, 0.018677033483982086, 0.0650530532002449, 0.6856484413146973, 0.016723133623600006, 0.02842932753264904, 0.03344626724720001, 0.02508470043540001, 0.03511857986450195, 0.013378506526350975, 0.01170619297772646, 0.016723133623600006, 0.13712969422340393, 0.075799860060215, 0.1010664775967598, 0.014438067562878132, 0.021657101809978485, 0.7255129218101501, 0.01804758422076702, 0.010828550904989243, 0.003609516890719533, 0.014438067562878132, 0.010828550904989243, 0.8745688199996948, 0.11225562542676926, 0.028063906356692314, 0.8419172167778015, 0.02142644301056862, 0.02142644301056862, 0.02142644301056862, 0.02142644301056862, 0.08570577204227448, 0.02142644301056862, 0.02142644301056862, 0.7713519334793091, 0.021426690742373466, 0.04285338148474693, 0.021426690742373466, 0.10713345557451248, 0.021426690742373466, 0.021426690742373466, 0.7713608741760254, 0.038033515214920044, 0.07606703042984009, 0.038033515214920044, 0.7606703639030457, 0.038033515214920044, 0.13041575253009796, 0.16682347655296326, 0.09346462041139603, 0.07390225678682327, 0.0956382155418396, 0.0994420051574707, 0.12606856226921082, 0.14997811615467072, 0.02934354357421398, 0.03477753326296806, 0.09438315033912659, 0.04881887137889862, 0.028206458315253258, 0.16272956132888794, 0.0867891013622284, 0.11282583326101303, 0.11065610498189926, 0.32871371507644653, 0.016272956505417824, 0.013018365018069744, 0.0244115199893713, 0.00488230399787426, 0.01952921599149704, 0.8495208621025085, 0.0244115199893713, 0.0244115199893713, 0.00488230399787426, 0.00976460799574852, 0.00488230399787426, 0.02929382398724556, 0.16171368956565857, 0.05049795284867287, 0.06973527371883392, 0.17734400928020477, 0.12504255771636963, 0.12263789027929306, 0.16411834955215454, 0.04148046299815178, 0.04689095914363861, 0.040879298001527786, 0.04476182162761688, 0.8057127594947815, 0.04476182162761688, 0.04476182162761688, 0.6657951474189758, 0.009377396665513515, 0.07033047825098038, 0.11878035962581635, 0.013284645043313503, 0.02188059315085411, 0.01250319555401802, 0.0156289953738451, 0.020317692309617996, 0.05313858017325401, 0.355133593082428, 0.04672810435295105, 0.06401750445365906, 0.05794284865260124, 0.05327003821730614, 0.14952993392944336, 0.177566796541214, 0.021962208673357964, 0.01822395995259285, 0.05607372522354126, 0.126558318734169, 0.016330106183886528, 0.16330106556415558, 0.012247580103576183, 0.020412633195519447, 0.008165053091943264, 0.004082526545971632, 0.596048891544342, 0.032660212367773056, 0.016330106183886528, 0.07820175588130951, 0.039100877940654755, 0.8211184740066528, 0.01969071663916111, 0.0984535813331604, 0.03938143327832222, 0.01969071663916111, 0.01969071663916111, 0.8073193430900574, 0.40054649114608765, 0.07355880737304688, 0.10953281819820404, 0.04832330346107483, 0.04778637737035751, 0.05100793018937111, 0.057987965643405914, 0.0472494512796402, 0.06604184955358505, 0.0982573851943016, 0.07818661630153656, 0.8600528240203857, 0.05454966798424721, 0.027274833992123604, 0.7909702062606812, 0.05454966798424721, 0.027274833992123604, 0.05454966798424721, 0.0398089773952961, 0.10394566506147385, 0.05750185623764992, 0.050867028534412384, 0.013269659131765366, 0.00884643942117691, 0.6502133011817932, 0.03317414969205856, 0.03538575768470764, 0.004423219710588455, 0.8407922387123108, 0.07643565535545349, 0.028180301189422607, 0.032206058502197266, 0.07850226759910583, 0.012077271938323975, 0.305957555770874, 0.056360602378845215, 0.10668256878852844, 0.058373481035232544, 0.3099833130836487, 0.008051514625549316, 0.18973833322525024, 0.055731721222400665, 0.1408948004245758, 0.21603868901729584, 0.05322692543268204, 0.05260072648525238, 0.11208964139223099, 0.07138669490814209, 0.07952728867530823, 0.030057556927204132, 0.7726221680641174, 0.009947924874722958, 0.019895849749445915, 0.10279522091150284, 0.013263899832963943, 0.019895849749445915, 0.013263899832963943, 0.009947924874722958, 0.016579873859882355, 0.019895849749445915, 0.07323770225048065, 0.04498887434601784, 0.33061590790748596, 0.13182786107063293, 0.14333663880825043, 0.06486767530441284, 0.031387586146593094, 0.08893149346113205, 0.07009894400835037, 0.02092505805194378, 0.8875252604484558, 0.08452621102333069, 0.050073690712451935, 0.5739215612411499, 0.030814578756690025, 0.053925514221191406, 0.04237004742026329, 0.03466640040278435, 0.02311093360185623, 0.030814578756690025, 0.0962955579161644, 0.06162915751338005, 0.08917894214391708, 0.8471999764442444, 0.04458947107195854, 0.8755701780319214, 0.032428525388240814, 0.032428525388240814, 0.0701821818947792, 0.15195408463478088, 0.12491141259670258, 0.10430746525526047, 0.06631894409656525, 0.1101023256778717, 0.1101023256778717, 0.17191416025161743, 0.049578242003917694, 0.04120788723230362, 0.0642254650592804, 0.446864515542984, 0.03889711573719978, 0.05246587470173836, 0.09679049253463745, 0.05698879435658455, 0.0796033963561058, 0.012664176523685455, 0.12030968070030212, 0.02985127456486225, 0.1491045355796814, 0.09847833961248398, 0.07836657017469406, 0.14320969581604004, 0.20943985879421234, 0.05894830450415611, 0.07281849533319473, 0.09778483211994171, 0.065189890563488, 0.027046868577599525, 0.07638593018054962, 0.06110874190926552, 0.053470149636268616, 0.03564676642417908, 0.02546197548508644, 0.08402451872825623, 0.04328535869717598, 0.028008174151182175, 0.028008174151182175, 0.565255880355835, 0.29192906618118286, 0.11621632426977158, 0.06782591342926025, 0.08369161933660507, 0.15707053244113922, 0.06822255253791809, 0.06465277075767517, 0.0190388523042202, 0.09717747569084167, 0.03450791910290718, 0.040323808789253235, 0.08064761757850647, 0.8064761757850647, 0.040323808789253235, 0.6350622177124023, 0.04388641566038132, 0.032269421964883804, 0.030978644266724586, 0.007744661066681147, 0.04259563609957695, 0.009035438299179077, 0.030978644266724586, 0.052921850234270096, 0.11487913876771927, 0.8364198803901672, 0.07965903729200363, 0.039829518646001816, 0.8225278258323669, 0.039167992770671844, 0.039167992770671844, 0.039167992770671844, 0.8272779583930969, 0.029867343604564667, 0.029867343604564667, 0.029867343604564667, 0.7466835975646973, 0.029867343604564667, 0.059734687209129333, 0.029867343604564667, 0.19913716614246368, 0.053645115345716476, 0.039014630019664764, 0.15443290770053864, 0.0894085243344307, 0.021132923662662506, 0.09591096639633179, 0.07477803528308868, 0.23977740108966827, 0.03251219168305397, 0.12279952317476273, 0.018892234191298485, 0.08501505851745605, 0.009446117095649242, 0.028338352218270302, 0.6328898668289185, 0.07556893676519394, 0.028338352218270302, 0.009446117095649242, 0.021457809954881668, 0.021457809954881668, 0.021457809954881668, 0.021457809954881668, 0.08583123981952667, 0.021457809954881668, 0.021457809954881668, 0.7724812030792236, 0.058048315346241, 0.03869887441396713, 0.019349437206983566, 0.019349437206983566, 0.019349437206983566, 0.03869887441396713, 0.07739774882793427, 0.6965797543525696, 0.019349437206983566, 0.022348716855049133, 0.8715999722480774, 0.0670461505651474, 0.022348716855049133, 0.8746713399887085, 0.056607164442539215, 0.09434527158737183, 0.018869053572416306, 0.566071629524231, 0.028303582221269608, 0.014151791110634804, 0.061324428766965866, 0.10377980023622513, 0.04717263579368591, 0.018869053572416306, 0.10384558141231537, 0.006923038978129625, 0.020769117400050163, 0.13153773546218872, 0.020769117400050163, 0.048461273312568665, 0.006923038978129625, 0.6438426375389099, 0.01384607795625925, 0.01384607795625925, 0.020145555958151817, 0.020145555958151817, 0.020145555958151817, 0.020145555958151817, 0.10072777420282364, 0.020145555958151817, 0.020145555958151817, 0.7655311226844788, 0.8762946128845215, 0.015648117288947105, 0.015648117288947105, 0.015648117288947105, 0.015648117288947105, 0.015648117288947105, 0.015648117288947105, 0.015648117288947105, 0.015648117288947105, 0.03341365233063698, 0.8353413343429565, 0.03341365233063698, 0.03341365233063698, 0.03341365233063698, 0.8637691736221313, 0.011145408265292645, 0.05015433952212334, 0.011145408265292645, 0.01671811379492283, 0.01671811379492283, 0.011145408265292645, 0.011145408265292645, 0.005572704132646322, 0.005572704132646322, 0.019000669941306114, 0.22800804674625397, 0.06650234758853912, 0.009500334970653057, 0.009500334970653057, 0.009500334970653057, 0.6460227966308594, 0.009500334970653057, 0.009500334970653057, 0.08681116998195648, 0.016277095302939415, 0.07595977187156677, 0.6944893598556519, 0.03255419060587883, 0.02170279249548912, 0.00542569812387228, 0.03255419060587883, 0.02170279249548912, 0.01085139624774456, 0.07589448988437653, 0.834839403629303, 0.8450185060501099, 0.9162574410438538, 0.044754140079021454, 0.8503286838531494, 0.044754140079021454, 0.044754140079021454, 0.6342608332633972, 0.01341337151825428, 0.020439423620700836, 0.19672945141792297, 0.010219711810350418, 0.028742939233779907, 0.009580979123711586, 0.014690835028886795, 0.017245763912796974, 0.0542922168970108, 0.03903953358530998, 0.03903953358530998, 0.858869731426239, 0.2812390923500061, 0.00703097740188241, 0.021092932671308517, 0.01406195480376482, 0.00703097740188241, 0.01406195480376482, 0.00703097740188241, 0.5320106148719788, 0.00703097740188241, 0.1101519837975502, 0.8227817416191101, 0.014692531898617744, 0.014692531898617744, 0.014692531898617744, 0.08815518766641617, 0.014692531898617744, 0.820043683052063, 0.09911271184682846, 0.8920143842697144, 0.921028196811676, 0.02291775681078434, 0.01145887840539217, 0.8021214604377747, 0.01145887840539217, 0.02291775681078434, 0.02291775681078434, 0.057294391095638275, 0.034376636147499084, 0.01145887840539217, 0.9085013270378113, 0.6170835494995117, 0.02056945115327835, 0.037508998066186905, 0.06533825397491455, 0.012099677696824074, 0.03387909755110741, 0.013309645466506481, 0.009679742157459259, 0.03024919331073761, 0.15971574187278748, 0.27291861176490784, 0.10447666049003601, 0.16346688568592072, 0.04690788686275482, 0.10518738627433777, 0.03127192705869675, 0.08244416862726212, 0.031982652842998505, 0.04690788686275482, 0.11442682147026062, 0.7192934155464172, 0.014654534868896008, 0.08059994131326675, 0.017096957191824913, 0.013433324173092842, 0.028087859973311424, 0.017096957191824913, 0.017096957191824913, 0.024424225091934204, 0.06594540923833847, 0.10782549530267715, 0.013478186912834644, 0.02695637382566929, 0.013478186912834644, 0.02695637382566929, 0.7952130436897278, 0.013478186912834644, 0.013478186912834644, 0.012705167755484581, 0.23716312646865845, 0.021175280213356018, 0.008470111526548862, 0.029645390808582306, 0.4827963709831238, 0.0974062830209732, 0.021175280213356018, 0.021175280213356018, 0.07199595123529434, 0.011233571916818619, 0.08184459805488586, 0.04172469675540924, 0.011233571916818619, 0.6643855571746826, 0.024071941152215004, 0.07863500714302063, 0.00802398007363081, 0.07061102986335754, 0.009628776460886002, 0.03840702027082443, 0.9217684864997864, 0.7820073962211609, 0.06317241489887238, 0.8212413787841797, 0.4473535716533661, 0.02773154340684414, 0.014595548622310162, 0.3218318521976471, 0.03648887202143669, 0.0445164255797863, 0.010946662165224552, 0.03356976434588432, 0.029920876026153564, 0.03283998370170593, 0.024229969829320908, 0.8722789287567139, 0.024229969829320908, 0.024229969829320908, 0.024229969829320908, 0.024229969829320908, 0.8851708769798279, 0.06580252945423126, 0.19908621907234192, 0.16702428460121155, 0.04465171694755554, 0.03743358328938484, 0.30181875824928284, 0.04968762397766113, 0.10390756279230118, 0.017122086137533188, 0.013261224143207073, 0.024558110162615776, 0.024558110162615776, 0.810417652130127, 0.07367432862520218, 0.024558110162615776, 0.024558110162615776, 0.024558110162615776, 0.035552263259887695, 0.817702054977417, 0.035552263259887695, 0.035552263259887695, 0.035552263259887695, 0.513077974319458, 0.04284520074725151, 0.046038635075092316, 0.1282694935798645, 0.04949818551540375, 0.02501521073281765, 0.03379714861512184, 0.0782390683889389, 0.034329384565353394, 0.0489659458398819, 0.7787947654724121, 0.011232617311179638, 0.01872102916240692, 0.02620944008231163, 0.022465234622359276, 0.01872102916240692, 0.011232617311179638, 0.007488411385565996, 0.04493046924471855, 0.05990729108452797, 0.4008433520793915, 0.05117536708712578, 0.05363397300243378, 0.022491665557026863, 0.057003170251846313, 0.0863242894411087, 0.10189543664455414, 0.019577765837311745, 0.040794599801301956, 0.16618335247039795, 0.03717586770653725, 0.05576380342245102, 0.018587933853268623, 0.03717586770653725, 0.018587933853268623, 0.7435173392295837, 0.03717586770653725, 0.018587933853268623, 0.018587933853268623, 0.11850287020206451, 0.14584968984127045, 0.08811751753091812, 0.027346815913915634, 0.0668477714061737, 0.027346815913915634, 0.449703186750412, 0.024308281019330025, 0.04253949224948883, 0.009115605615079403, 0.223041832447052, 0.055760458111763, 0.006970057263970375, 0.01394011452794075, 0.0836406871676445, 0.6063950061798096, 0.006970057263970375, 0.045024946331977844, 0.45229604840278625, 0.03479200601577759, 0.026605650782585144, 0.02046588435769081, 0.17600661516189575, 0.13916802406311035, 0.012279530987143517, 0.0736771821975708, 0.0184192955493927, 0.06326550245285034, 0.6853762865066528, 0.06326550245285034, 0.03163275122642517, 0.06326550245285034, 0.05272125080227852, 0.010544249787926674, 0.021088499575853348, 0.8523954749107361, 0.07468389719724655, 0.027157779783010483, 0.054315559566020966, 0.020368335768580437, 0.04073667153716087, 0.11542056500911713, 0.03394722566008568, 0.06110500544309616, 0.013578889891505241, 0.549945056438446, 0.06434537470340729, 0.010009280405938625, 0.5176228284835815, 0.018588664010167122, 0.04289691895246506, 0.08865363150835037, 0.008579383604228497, 0.008579383604228497, 0.02001856081187725, 0.2202041745185852, 0.02112356573343277, 0.02112356573343277, 0.02112356573343277, 0.02112356573343277, 0.08449426293373108, 0.02112356573343277, 0.02112356573343277, 0.7815719246864319, 0.0448048859834671, 0.8512928485870361, 0.0448048859834671, 0.024952514097094536, 0.0399240218102932, 0.0873337984085083, 0.007485753856599331, 0.07236228883266449, 0.0873337984085083, 0.6113365888595581, 0.024952514097094536, 0.024952514097094536, 0.0199620109051466, 0.04475206509232521, 0.04475206509232521, 0.8502892851829529, 0.04475206509232521, 0.04475206509232521, 0.8057315349578857, 0.011593259871006012, 0.011593259871006012, 0.02898314781486988, 0.017389889806509018, 0.005796629935503006, 0.06376292556524277, 0.011593259871006012, 0.011593259871006012, 0.04057640954852104, 0.202731192111969, 0.018130432814359665, 0.07416994869709015, 0.15328456461429596, 0.047798410058021545, 0.054391294717788696, 0.041205525398254395, 0.37084975838661194, 0.026371536776423454, 0.013185768388211727, 0.021408142521977425, 0.021408142521977425, 0.021408142521977425, 0.10704071074724197, 0.021408142521977425, 0.021408142521977425, 0.7706931233406067, 0.053337398916482925, 0.010667480528354645, 0.010667480528354645, 0.8854008316993713, 0.02133496105670929, 0.010667480528354645, 0.010667480528354645, 0.040639106184244156, 0.8534212112426758, 0.040639106184244156, 0.47770410776138306, 0.021298909559845924, 0.018256207928061485, 0.012170804664492607, 0.012170804664492607, 0.03346971422433853, 0.018256207928061485, 0.012170804664492607, 0.018256207928061485, 0.37729495763778687, 0.15775488317012787, 0.053796593099832535, 0.05234263092279434, 0.10105036199092865, 0.09305357187986374, 0.27770674228668213, 0.0610664039850235, 0.1395803540945053, 0.04725376516580582, 0.016720563173294067, 0.8850710988044739, 0.05206300690770149, 0.06296377629041672, 0.060340285301208496, 0.5981559157371521, 0.06558726727962494, 0.028858397156000137, 0.06821075826883316, 0.013117454014718533, 0.03148188814520836, 0.03935236111283302, 0.03148188814520836, 0.8900503516197205, 0.08182823657989502, 0.10910431295633316, 0.05455215647816658, 0.7364540696144104, 0.8366636633872986, 0.04921551048755646, 0.04921551048755646, 0.04921551048755646, 0.8925681114196777, 0.018403466790914536, 0.018403466790914536, 0.009201733395457268, 0.018403466790914536, 0.009201733395457268, 0.009201733395457268, 0.009201733395457268, 0.17380842566490173, 0.12200015038251877, 0.07687680423259735, 0.09609600901603699, 0.28995925188064575, 0.07520557194948196, 0.07520557194948196, 0.0359315499663353, 0.027575375512242317, 0.029246611520648003, 0.4203460216522217, 0.03538627177476883, 0.10026110708713531, 0.07345332205295563, 0.04235629737377167, 0.07452563941478729, 0.04557323083281517, 0.0890018418431282, 0.02412700466811657, 0.09543570876121521, 0.030036775395274162, 0.07509193569421768, 0.007509193848818541, 0.007509193848818541, 0.015018387697637081, 0.841029703617096, 0.007509193848818541, 0.04134395718574524, 0.136404886841774, 0.07544518262147903, 0.09204311668872833, 0.16990254819393158, 0.2263355404138565, 0.0703149065375328, 0.06488285213708878, 0.10803749412298203, 0.015089035965502262, 0.008756250143051147, 0.19701562821865082, 0.015323437750339508, 0.024079687893390656, 0.013134375214576721, 0.0503484383225441, 0.013134375214576721, 0.030646875500679016, 0.6435843706130981, 0.006567187607288361, 0.00700080581009388, 0.07700886577367783, 0.00700080581009388, 0.01400161162018776, 0.01400161162018776, 0.03500403091311455, 0.00700080581009388, 0.02800322324037552, 0.8050926923751831, 0.00700080581009388, 0.03207254037261009, 0.5933419466018677, 0.04276338592171669, 0.021381692960858345, 0.11759930849075317, 0.03741796314716339, 0.03207254037261009, 0.04276338592171669, 0.07483592629432678, 0.010690846480429173, 0.08766382932662964, 0.09685438871383667, 0.3973150849342346, 0.04029707983136177, 0.05514337494969368, 0.13149574398994446, 0.0424179807305336, 0.08059415966272354, 0.05585034191608429, 0.012018428184092045, 0.018868038430809975, 0.11320822685956955, 0.0754721537232399, 0.03018886037170887, 0.015094430185854435, 0.0754721537232399, 0.6226452589035034, 0.018868038430809975, 0.02264164574444294, 0.0037736075464636087, 0.02970866486430168, 0.06684449315071106, 0.06684449315071106, 0.025995081290602684, 0.06313091516494751, 0.055703748017549515, 0.04456299543380737, 0.055703748017549515, 0.5681782364845276, 0.022281497716903687, 0.014093277044594288, 0.01056995801627636, 0.007046638522297144, 0.08808298408985138, 0.017616596072912216, 0.06694306433200836, 0.024663234129548073, 0.662384033203125, 0.01056995801627636, 0.1021762564778328, 0.8027056455612183, 0.04178226366639137, 0.04178226366639137, 0.8356452584266663, 0.06843598932027817, 0.0936492457985878, 0.10625587403774261, 0.04322272911667824, 0.05042651668190956, 0.057630304247140884, 0.13327008485794067, 0.039620835334062576, 0.39981022477149963, 0.009004735387861729, 0.027047306299209595, 0.027047306299209595, 0.027047306299209595, 0.7843718528747559, 0.027047306299209595, 0.05409461259841919, 0.027047306299209595, 0.01641670987010002, 0.03283341974020004, 0.01641670987010002, 0.03283341974020004, 0.8372521996498108, 0.01641670987010002, 0.01641670987010002, 0.01641670987010002, 0.2922781705856323, 0.0452660471200943, 0.039022453129291534, 0.17306457459926605, 0.14067594707012177, 0.06945996731519699, 0.05404609814286232, 0.08741029351949692, 0.08097159117460251, 0.01756010390818119, 0.03316963464021683, 0.8624104857444763, 0.06633926928043365, 0.7666761875152588, 0.04600057005882263, 0.15333522856235504, 0.0892283245921135, 0.803054928779602, 0.04461416229605675, 0.14516636729240417, 0.0599600225687027, 0.028402114287018776, 0.47021278738975525, 0.04418106749653816, 0.012623162008821964, 0.02209053374826908, 0.13885478675365448, 0.0599600225687027, 0.018934743478894234, 0.061424560844898224, 0.061424560844898224, 0.7985193133354187, 0.06274737417697906, 0.020915789529681206, 0.5961000323295593, 0.020915789529681206, 0.06274737417697906, 0.03137368708848953, 0.020915789529681206, 0.08889210969209671, 0.05228947475552559, 0.04183157905936241, 0.9069629311561584, 0.8200926184654236, 0.06096169352531433, 0.030480846762657166, 0.8534637093544006, 0.19035209715366364, 0.01464246865361929, 0.01464246865361929, 0.01464246865361929, 0.7174809575080872, 0.01464246865361929, 0.02928493730723858, 0.023518230766057968, 0.023518230766057968, 0.8466562628746033, 0.023518230766057968, 0.023518230766057968, 0.023518230766057968, 0.023518230766057968, 0.15342265367507935, 0.09692414849996567, 0.0331198088824749, 0.1164063885807991, 0.13053101301193237, 0.06429139524698257, 0.16852138936519623, 0.07987719029188156, 0.1329662948846817, 0.023865746334195137, 0.14482122659683228, 0.08912075310945511, 0.10427127778530121, 0.051690034568309784, 0.13412673771381378, 0.07397022098302841, 0.15239648520946503, 0.09446799755096436, 0.10605369508266449, 0.04946201667189598, 0.8941170573234558, 0.8447430729866028, 0.07469131052494049, 0.6021987199783325, 0.03267744928598404, 0.018672827631235123, 0.0840277224779129, 0.11670517176389694, 0.028009241446852684, 0.004668206907808781, 0.014004620723426342, 0.018672827631235123, 0.1618795245885849, 0.017986614257097244, 0.7554377913475037, 0.05395984277129173, 0.02175167016685009, 0.02175167016685009, 0.010875835083425045, 0.8483151793479919, 0.010875835083425045, 0.03262750431895256, 0.010875835083425045, 0.02175167016685009, 0.02175167016685009, 0.010875835083425045, 0.2016582041978836, 0.0723901242017746, 0.04998365789651871, 0.029300764203071594, 0.09479659050703049, 0.032747913151979446, 0.020682891830801964, 0.0723901242017746, 0.37056848406791687, 0.05687795579433441, 0.03777358680963516, 0.07554717361927032, 0.03777358680963516, 0.83101886510849, 0.046418000012636185, 0.046418000012636185, 0.8819419741630554, 0.041101161390542984, 0.0068501937203109264, 0.027400774881243706, 0.8014726638793945, 0.027400774881243706, 0.03425096720457077, 0.0068501937203109264, 0.020550580695271492, 0.013700387440621853, 0.020550580695271492, 0.017204424366354942, 0.05161327123641968, 0.034408848732709885, 0.017204424366354942, 0.017204424366354942, 0.05161327123641968, 0.05161327123641968, 0.7569946646690369, 0.06989982724189758, 0.03883323818445206, 0.13979965448379517, 0.015533295460045338, 0.015533295460045338, 0.03883323818445206, 0.007766647730022669, 0.08543312549591064, 0.5747319459915161, 0.015533295460045338, 0.0725109875202179, 0.8701318502426147, 0.02491356059908867, 0.02491356059908867, 0.012456780299544334, 0.8470610976219177, 0.012456780299544334, 0.02491356059908867, 0.012456780299544334, 0.02491356059908867, 0.02491356059908867, 0.012456780299544334, 0.06030389666557312, 0.9045584797859192, 0.8609429001808167, 0.11309564858675003, 0.014136956073343754, 0.014136956073343754, 0.7775325775146484, 0.04241086542606354, 0.014136956073343754, 0.028273912146687508, 0.05108091980218887, 0.010216183960437775, 0.010216183960437775, 0.8683756589889526, 0.05108091980218887, 0.010216183960437775, 0.010216183960437775, 0.06774506717920303, 0.013549013994634151, 0.12465092539787292, 0.15174895524978638, 0.021678421646356583, 0.03522743657231331, 0.03522743657231331, 0.4986037015914917, 0.018968619406223297, 0.02980783022940159, 0.04738558456301689, 0.014807995408773422, 0.13919515907764435, 0.47681745886802673, 0.029615990817546844, 0.09180957078933716, 0.008884796872735023, 0.14215674996376038, 0.02665439248085022, 0.017769593745470047, 0.020699288696050644, 0.020699288696050644, 0.8072723150253296, 0.020699288696050644, 0.020699288696050644, 0.06209786981344223, 0.020699288696050644, 0.020699288696050644, 0.011311250738799572, 0.028278125450015068, 0.04524500295519829, 0.01696687564253807, 0.022622501477599144, 0.011311250738799572, 0.12442375719547272, 0.19794689118862152, 0.5316287875175476, 0.011311250738799572, 0.05796586722135544, 0.05796586722135544, 0.8115221261978149, 0.027302958071231842, 0.027302958071231842, 0.7644827961921692, 0.1365147829055786, 0.011686448007822037, 0.03505934402346611, 0.6602843403816223, 0.011686448007822037, 0.222042515873909, 0.023372896015644073, 0.005843224003911018, 0.005843224003911018, 0.011686448007822037, 0.005843224003911018, 0.079072006046772, 0.8697920441627502, 0.9237226843833923, 0.07878381013870239, 0.8666219711303711, 0.9095979332923889, 0.06063986197113991, 0.9079732894897461, 0.012794604524970055, 0.012794604524970055, 0.9723899364471436, 0.8394623398780823, 0.1046934425830841, 0.8375475406646729, 0.012297713197767735, 0.02459542639553547, 0.02459542639553547, 0.07378628104925156, 0.0614885650575161, 0.7993513345718384, 0.012297713197767735, 0.032487574964761734, 0.032487574964761734, 0.032487574964761734, 0.909652054309845, 0.8128401041030884, 0.07389455288648605, 0.16437430679798126, 0.014943119138479233, 0.05977247655391693, 0.7322128415107727, 0.8353379964828491, 0.07955600321292877, 0.039778001606464386, 0.836946427822113, 0.07970918715000153, 0.07970918715000153, 0.8360381722450256, 0.07962267845869064, 0.03981133922934532, 0.04061933234333992, 0.04061933234333992, 0.04061933234333992, 0.8123866319656372, 0.1496238261461258, 0.01496238261461258, 0.05984953045845032, 0.7630815505981445, 0.8889299631118774, 0.04444649815559387, 0.07582880556583405, 0.01895720139145851, 0.01895720139145851, 0.777245283126831, 0.03791440278291702, 0.01895720139145851, 0.03791440278291702, 0.01895720139145851, 0.06125309318304062, 0.06125309318304062, 0.06125309318304062, 0.06125309318304062, 0.7962902188301086, 0.06686174124479294, 0.050146304070949554, 0.016715435311198235, 0.016715435311198235, 0.7187637090682983, 0.016715435311198235, 0.03343087062239647, 0.06686174124479294, 0.02904609777033329, 0.014523048885166645, 0.15975354611873627, 0.014523048885166645, 0.014523048885166645, 0.02904609777033329, 0.04356914758682251, 0.6680602431297302, 0.014523048885166645, 0.027431098744273186, 0.027431098744273186, 0.027431098744273186, 0.8777951598167419, 0.05514558032155037, 0.05514558032155037, 0.827183723449707, 0.05514558032155037, 0.05807127431035042, 0.08475267142057419, 0.017264433205127716, 0.0408068411052227, 0.08004418760538101, 0.15067140758037567, 0.33901068568229675, 0.03766785189509392, 0.1836307793855667, 0.00941696297377348, 0.04239783436059952, 0.8267577290534973, 0.02119891718029976, 0.06359674781560898, 0.04239783436059952, 0.02094459719955921, 0.004241943825036287, 0.8544865846633911, 0.003446579445153475, 0.0037117009051144123, 0.04109383001923561, 0.005567551124840975, 0.010869980789721012, 0.05408478528261185, 0.0018558504525572062, 0.03362945467233658, 0.006725891027599573, 0.8541881442070007, 0.006725891027599573, 0.013451782055199146, 0.03362945467233658, 0.006725891027599573, 0.006725891027599573, 0.04035534709692001, 0.03089754655957222, 0.8187850117683411, 0.01544877327978611, 0.077243871986866, 0.01544877327978611, 0.01544877327978611, 0.022678514942526817, 0.8844621181488037, 0.0680355429649353, 0.022678514942526817, 0.020426902920007706, 0.020426902920007706, 0.020426902920007706, 0.10213451087474823, 0.020426902920007706, 0.020426902920007706, 0.776222288608551, 0.1470876932144165, 0.08509205281734467, 0.09481686353683472, 0.05713323876261711, 0.05348643660545349, 0.04740843176841736, 0.4047950506210327, 0.055917635560035706, 0.027958817780017853, 0.02552761696279049, 0.0914607122540474, 0.5570788979530334, 0.1746068149805069, 0.04157305136322975, 0.03325844183564186, 0.020786525681614876, 0.037415746599435806, 0.01662922091782093, 0.01662922091782093, 0.008314610458910465, 0.02072276547551155, 0.2963355481624603, 0.06631284952163696, 0.00414455309510231, 0.05387919023633003, 0.43103352189064026, 0.07667423039674759, 0.022795042023062706, 0.01657821238040924, 0.010361382737755775, 0.533696711063385, 0.01482490822672844, 0.1430167555809021, 0.10813461989164352, 0.02616160176694393, 0.05755552649497986, 0.018749147653579712, 0.03139392286539078, 0.023981468752026558, 0.04273061826825142, 0.3372809886932373, 0.06900890171527863, 0.18287359178066254, 0.09618115425109863, 0.09100548923015594, 0.053481899201869965, 0.03838619962334633, 0.059088870882987976, 0.03191661834716797, 0.04097403585910797, 0.2918396592140198, 0.02303997240960598, 0.04095995053648949, 0.4761594533920288, 0.04095995053648949, 0.007679990958422422, 0.007679990958422422, 0.04095995053648949, 0.04095995053648949, 0.028159966692328453, 0.7224826216697693, 0.01995808444917202, 0.021953891962766647, 0.09979041665792465, 0.03592455014586449, 0.017962275072932243, 0.029937125742435455, 0.00997904222458601, 0.02794131636619568, 0.017962275072932243, 0.8272668719291687, 0.011931734159588814, 0.01590897887945175, 0.051704179495573044, 0.01590897887945175, 0.01590897887945175, 0.01988622359931469, 0.007954489439725876, 0.01988622359931469, 0.01988622359931469, 0.8016138672828674, 0.014574797824025154, 0.014574797824025154, 0.08016138523817062, 0.014574797824025154, 0.014574797824025154, 0.021862195804715157, 0.007287398912012577, 0.014574797824025154, 0.021862195804715157, 0.88435298204422, 0.1260245442390442, 0.09875607490539551, 0.13081495463848114, 0.08327937871217728, 0.12233961373567581, 0.12713001668453217, 0.06264378130435944, 0.184614896774292, 0.021741077303886414, 0.04274516552686691, 0.9061339497566223, 0.034851305186748505, 0.08764845132827759, 0.013147267512977123, 0.05258907005190849, 0.035059381276369095, 0.021912112832069397, 0.008764845319092274, 0.035059381276369095, 0.7187172770500183, 0.013147267512977123, 0.013147267512977123, 0.07865098118782043, 0.8651608228683472, 0.05294014886021614, 0.02647007443010807, 0.02647007443010807, 0.8205723166465759, 0.02647007443010807, 0.02647007443010807, 0.02647007443010807, 0.015924368053674698, 0.09554620832204819, 0.09820026904344559, 0.021232491359114647, 0.018578430637717247, 0.6502450108528137, 0.013270307332277298, 0.045119043439626694, 0.031848736107349396, 0.010616245679557323, 0.039997998625040054, 0.017141999676823616, 0.04571199789643288, 0.18856199085712433, 0.04571199789643288, 0.04571199789643288, 0.00571399973705411, 0.571399986743927, 0.02285599894821644, 0.02285599894821644, 0.02871635928750038, 0.019144238904118538, 0.02871635928750038, 0.8136301636695862, 0.009572119452059269, 0.038288477808237076, 0.009572119452059269, 0.019144238904118538, 0.019144238904118538, 0.019144238904118538, 0.8513980507850647, 0.0340559221804142, 0.0340559221804142, 0.0340559221804142, 0.0340559221804142, 0.18175660073757172, 0.11874764412641525, 0.3320087194442749, 0.03029276616871357, 0.07027921825647354, 0.066644087433815, 0.03513960912823677, 0.06422066688537598, 0.03150447830557823, 0.07027921825647354, 0.4369787573814392, 0.07581113278865814, 0.1541776955127716, 0.04514595493674278, 0.028961556032299995, 0.053664058446884155, 0.01873983070254326, 0.04855319485068321, 0.019591640681028366, 0.1184016540646553, 0.4982360899448395, 0.06070281192660332, 0.14505606889724731, 0.018920358270406723, 0.02207375131547451, 0.029957232996821404, 0.015766965225338936, 0.052819330245256424, 0.02365044690668583, 0.13401919603347778, 0.03246425837278366, 0.030660688877105713, 0.09859515726566315, 0.2933807075023651, 0.008416660130023956, 0.007214279845356941, 0.009619039483368397, 0.4599103331565857, 0.013226179406046867, 0.04629163071513176, 0.04410894587635994, 0.04410894587635994, 0.04410894587635994, 0.8380699157714844, 0.04421257972717285, 0.9063579440116882, 0.022106289863586426, 0.022106289863586426, 0.022106289863586426, 0.05735776945948601, 0.45886215567588806, 0.025043534114956856, 0.05816562846302986, 0.10017413645982742, 0.10340555757284164, 0.05493420362472534, 0.02908281423151493, 0.07755416631698608, 0.036353517323732376, 0.022431116551160812, 0.8523824214935303, 0.022431116551160812, 0.022431116551160812, 0.022431116551160812, 0.022431116551160812, 0.022431116551160812, 0.022431116551160812, 0.10103188455104828, 0.42236942052841187, 0.026661192998290062, 0.10103188455104828, 0.09261256456375122, 0.09120934456586838, 0.053322385996580124, 0.026661192998290062, 0.07016102969646454, 0.016838647425174713, 0.03811353072524071, 0.1355147808790207, 0.09104899317026138, 0.09316641092300415, 0.08469673246145248, 0.05293545871973038, 0.07622706145048141, 0.055052876472473145, 0.34302178025245667, 0.03176127374172211, 0.07730939239263535, 0.5378044843673706, 0.023528946563601494, 0.03361278027296066, 0.023528946563601494, 0.17478644847869873, 0.023528946563601494, 0.01680639013648033, 0.08067066967487335, 0.006722555961459875, 0.06342659145593643, 0.8879722952842712, 0.0548916794359684, 0.36357665061950684, 0.020665103569626808, 0.08459776639938354, 0.19373534619808197, 0.07749413698911667, 0.050371188670396805, 0.038747068494558334, 0.06716158241033554, 0.049079619348049164, 0.8722248673439026, 0.06414350867271423, 0.4751370847225189, 0.02138116955757141, 0.014254112727940083, 0.08552467823028564, 0.10453015565872192, 0.07364624738693237, 0.014254112727940083, 0.09502741694450378, 0.05226507782936096, 0.13851509988307953, 0.7479814887046814, 0.027703018859028816, 0.027703018859028816, 0.027703018859028816, 0.017751729115843773, 0.09467589110136032, 0.01183448638767004, 0.017751729115843773, 0.01183448638767004, 0.12426210194826126, 0.00591724319383502, 0.04733794555068016, 0.6686484813690186, 0.00591724319383502, 0.015490006655454636, 0.2811436355113983, 0.04104851931333542, 0.012392004951834679, 0.12004755437374115, 0.06505803018808365, 0.027107512578368187, 0.03330351412296295, 0.39189717173576355, 0.012392004951834679, 0.8669939637184143, 0.07881763577461243, 0.12986092269420624, 0.03246523067355156, 0.03246523067355156, 0.7791655659675598, 0.8391660451889038, 0.06729578971862793, 0.43241122364997864, 0.04868206009268761, 0.01718190312385559, 0.19043275713920593, 0.047250233590602875, 0.047250233590602875, 0.047250233590602875, 0.08734133839607239, 0.01718190312385559, 0.9299734830856323, 0.02868626080453396, 0.26548323035240173, 0.03464001417160034, 0.013260629959404469, 0.15669193863868713, 0.17590631544589996, 0.15182068943977356, 0.0303100124001503, 0.12935879826545715, 0.013801880180835724, 0.0664268508553505, 0.0680084377527237, 0.01265273243188858, 0.011071140877902508, 0.02530546486377716, 0.20402531325817108, 0.11387459188699722, 0.09647709131240845, 0.390653133392334, 0.014234323985874653, 0.8523014783859253, 0.021445661783218384, 0.021445661783218384, 0.021445661783218384, 0.021445661783218384, 0.08578264713287354, 0.021445661783218384, 0.021445661783218384, 0.7720438241958618, 0.10389938950538635, 0.6039152145385742, 0.01948113553225994, 0.01948113553225994, 0.03896227106451988, 0.032468557357788086, 0.058443404734134674, 0.012987423688173294, 0.08441825211048126, 0.032468557357788086, 0.06404287368059158, 0.8966001868247986, 0.608670711517334, 0.03416009247303009, 0.020496055483818054, 0.15962079167366028, 0.00993748102337122, 0.03416009247303009, 0.014285129494965076, 0.014906222000718117, 0.01863277703523636, 0.08571077883243561, 0.03233728185296059, 0.03233728185296059, 0.8731066584587097, 0.03233728185296059, 0.0936906486749649, 0.178179532289505, 0.05437403917312622, 0.06190275028347969, 0.11293069273233414, 0.3965122103691101, 0.030533112585544586, 0.0200765673071146, 0.04308096691966057, 0.008365236222743988, 0.09895512461662292, 0.841118574142456, 0.03942935913801193, 0.07885871827602386, 0.8280165195465088, 0.9244898557662964, 0.027400098741054535, 0.4435390830039978, 0.027400098741054535, 0.013700049370527267, 0.05480019748210907, 0.12501294910907745, 0.13357548415660858, 0.03938763961195946, 0.10103785991668701, 0.035962630063295364, 0.025295542553067207, 0.6897251009941101, 0.006745477672666311, 0.016863694414496422, 0.10792764276266098, 0.04553197696805, 0.0590229295194149, 0.01517732534557581, 0.021922802552580833, 0.010118216276168823, 0.029198801144957542, 0.029198801144957542, 0.029198801144957542, 0.8759640455245972, 0.11710554361343384, 0.13634668290615082, 0.05274725705385208, 0.05274725705385208, 0.14530377089977264, 0.11146590113639832, 0.1890939474105835, 0.08724860846996307, 0.09255650639533997, 0.015591956675052643, 0.8906022310256958, 0.8903767466545105, 0.06303625553846359, 0.031518127769231796, 0.7879531979560852, 0.031518127769231796, 0.06303625553846359, 0.1607883721590042, 0.3487097918987274, 0.07536955177783966, 0.06130056828260422, 0.07335969805717468, 0.06833506375551224, 0.08240403980016708, 0.01708376593887806, 0.06933999061584473, 0.04321187734603882, 0.04904179647564888, 0.8337105512619019, 0.8200305700302124, 0.09201227128505707, 0.08587812632322311, 0.06747566908597946, 0.07974397391080856, 0.036804910749197006, 0.06747566908597946, 0.018402455374598503, 0.006134151481091976, 0.030670758336782455, 0.521402895450592, 0.030847562476992607, 0.030847562476992607, 0.030847562476992607, 0.030847562476992607, 0.030847562476992607, 0.030847562476992607, 0.7711890339851379, 0.019926074892282486, 0.03985214978456497, 0.019926074892282486, 0.816969096660614, 0.019926074892282486, 0.019926074892282486, 0.019926074892282486, 0.05977822467684746, 0.0461181178689003, 0.9223623275756836, 0.05782537907361984, 0.1275559812784195, 0.052156224846839905, 0.050455477088689804, 0.18424752354621887, 0.1712084710597992, 0.18084603548049927, 0.07086443156003952, 0.09807637333869934, 0.007369901053607464, 0.020459916442632675, 0.020459916442632675, 0.020459916442632675, 0.020459916442632675, 0.0818396657705307, 0.020459916442632675, 0.020459916442632675, 0.7774768471717834, 0.020550671964883804, 0.04110134392976761, 0.020550671964883804, 0.020550671964883804, 0.020550671964883804, 0.020550671964883804, 0.020550671964883804, 0.8014761805534363, 0.14467477798461914, 0.10870159417390823, 0.1110476702451706, 0.06881827861070633, 0.1528860479593277, 0.07742056250572205, 0.12590616941452026, 0.08015765249729156, 0.11378476023674011, 0.016422543674707413, 0.08206179738044739, 0.03573658689856529, 0.28059840202331543, 0.04764878377318382, 0.04500162973999977, 0.07941464334726334, 0.02117723785340786, 0.2898634374141693, 0.0675024464726448, 0.0516195148229599, 0.021499719470739365, 0.021499719470739365, 0.021499719470739365, 0.021499719470739365, 0.08599887788295746, 0.021499719470739365, 0.021499719470739365, 0.7954896092414856, 0.021488334983587265, 0.021488334983587265, 0.021488334983587265, 0.08595333993434906, 0.021488334983587265, 0.021488334983587265, 0.7950683832168579, 0.042473167181015015, 0.5875455141067505, 0.03185487538576126, 0.05663089081645012, 0.024776015430688858, 0.06017032265663147, 0.03185487538576126, 0.010618291795253754, 0.10264348983764648, 0.05309145897626877, 0.1340276449918747, 0.129109188914299, 0.19735263288021088, 0.07992473989725113, 0.1340276449918747, 0.09529488533735275, 0.03565873205661774, 0.08422838151454926, 0.07377668470144272, 0.0362735353410244, 0.062352653592824936, 0.8729372024536133, 0.062352653592824936, 0.2247188687324524, 0.5161859393119812, 0.08566015958786011, 0.02336186170578003, 0.014462104998528957, 0.05673595145344734, 0.016687044873833656, 0.03003668040037155, 0.016687044873833656, 0.014462104998528957, 0.9078877568244934, 0.1996118277311325, 0.15693619847297668, 0.07296156883239746, 0.01101306639611721, 0.03303920105099678, 0.0412990003824234, 0.43088623881340027, 0.01101306639611721, 0.02340276539325714, 0.01927286572754383, 0.6637253165245056, 0.020915715023875237, 0.043225809931755066, 0.020915715023875237, 0.02928199991583824, 0.06135276332497597, 0.02928199991583824, 0.015338190831243992, 0.05159209668636322, 0.06414152681827545, 0.9153273105621338, 0.04812631383538246, 0.009625262580811977, 0.8373978734016418, 0.009625262580811977, 0.009625262580811977, 0.057751577347517014, 0.009625262580811977, 0.019250525161623955, 0.15741926431655884, 0.2849217355251312, 0.08476421982049942, 0.0584089569747448, 0.07265504449605942, 0.07479195296764374, 0.1061333492398262, 0.02564295567572117, 0.09117495268583298, 0.044162869453430176, 0.04054133594036102, 0.8310973644256592, 0.02027066797018051, 0.060812003910541534, 0.02027066797018051, 0.10530971735715866, 0.8424777388572693, 0.02176482602953911, 0.04352965205907822, 0.02176482602953911, 0.02176482602953911, 0.8270633816719055, 0.02176482602953911, 0.02176482602953911, 0.02176482602953911, 0.8297269940376282, 0.05185793712735176, 0.9062381386756897, 0.29847002029418945, 0.049387127161026, 0.16032922267913818, 0.03077748417854309, 0.0837433859705925, 0.04366108030080795, 0.13456203043460846, 0.06584949791431427, 0.03149323910474777, 0.10092151910066605, 0.05530482903122902, 0.8848772644996643, 0.00573368277400732, 0.07262664288282394, 0.00573368277400732, 0.003822455182671547, 0.015289820730686188, 0.04013577848672867, 0.816094160079956, 0.00573368277400732, 0.019112275913357735, 0.017201047390699387, 0.10183605551719666, 0.28245094418525696, 0.0678907036781311, 0.09799318760633469, 0.1159265860915184, 0.08838601410388947, 0.05187874659895897, 0.03266439586877823, 0.09799318760633469, 0.06212640181183815, 0.20162545144557953, 0.04412355273962021, 0.13812589645385742, 0.12930119037628174, 0.09016551822423935, 0.02417203225195408, 0.037025414407253265, 0.20200912654399872, 0.07462635636329651, 0.05908719077706337, 0.9060021638870239, 0.9241935610771179, 0.8940525054931641, 0.027092499658465385, 0.027092499658465385, 0.027092499658465385, 0.027092499658465385, 0.0067568328231573105, 0.0033784164115786552, 0.010135249234735966, 0.12837982177734375, 0.0168920811265707, 0.08783882856369019, 0.0337841622531414, 0.6959537863731384, 0.013513665646314621, 0.03258838877081871, 0.8147097229957581, 0.13035355508327484, 0.8870932459831238, 0.06406169384717941, 0.800771176815033, 0.032030846923589706, 0.032030846923589706, 0.8945102095603943, 0.8852472901344299, 0.06542499363422394, 0.15572991967201233, 0.04929911717772484, 0.07003238797187805, 0.3156065046787262, 0.15250474214553833, 0.05989612266421318, 0.08293309062719345, 0.03271249681711197, 0.01612587831914425, 0.020500140264630318, 0.020500140264630318, 0.020500140264630318, 0.10250069946050644, 0.020500140264630318, 0.020500140264630318, 0.7790052890777588, 0.024381613358855247, 0.17383188009262085, 0.05418136343359947, 0.03860422223806381, 0.05937374383211136, 0.24381613731384277, 0.18399088084697723, 0.027767948806285858, 0.08714169263839722, 0.10678243637084961, 0.05631570518016815, 0.39420995116233826, 0.02559804730117321, 0.034557364881038666, 0.08447355777025223, 0.15614809095859528, 0.11007160693407059, 0.03071765787899494, 0.047356389462947845, 0.060155414044857025, 0.05473855882883072, 0.05473855882883072, 0.821078360080719, 0.04285407438874245, 0.8999355435371399, 0.1034025102853775, 0.5897772908210754, 0.03446750342845917, 0.007659445516765118, 0.01914861425757408, 0.08808362483978271, 0.04978639632463455, 0.03829722851514816, 0.01914861425757408, 0.04978639632463455, 0.07754857838153839, 0.381347119808197, 0.02478356659412384, 0.035976145416498184, 0.12551677227020264, 0.15749557316303253, 0.04397084191441536, 0.04876766353845596, 0.087142214179039, 0.01838780753314495, 0.04528773948550224, 0.06793160736560822, 0.01132193487137556, 0.7698915600776672, 0.03396580368280411, 0.02264386974275112, 0.01132193487137556, 0.01132193487137556, 0.01132193487137556, 0.01132193487137556, 0.6647850275039673, 0.01727355271577835, 0.04836594685912132, 0.05132712796330452, 0.06169125810265541, 0.028131213039159775, 0.029611803591251373, 0.026650624349713326, 0.0202347319573164, 0.052314188331365585, 0.10557535290718079, 0.8446028232574463, 0.10537344217300415, 0.8429875373840332, 0.08511748164892197, 0.8511747717857361, 0.026420939713716507, 0.026420939713716507, 0.026420939713716507, 0.026420939713716507, 0.13210469484329224, 0.026420939713716507, 0.7397863268852234, 0.8482532501220703, 0.047125183045864105, 0.14120261371135712, 0.14293162524700165, 0.0461069755256176, 0.0778055265545845, 0.06570243835449219, 0.2057523876428604, 0.18385156989097595, 0.028816860169172287, 0.07895819842815399, 0.028816860169172287, 0.2431834638118744, 0.09761589765548706, 0.1078912615776062, 0.09647419303655624, 0.06793153285980225, 0.037676312029361725, 0.06336470693349838, 0.0645064115524292, 0.1655474305152893, 0.05537276342511177, 0.03938360884785652, 0.03938360884785652, 0.03938360884785652, 0.827055811882019, 0.04915029928088188, 0.03276686370372772, 0.0819171667098999, 0.7864047884941101, 0.01638343185186386, 0.03276686370372772, 0.012753193266689777, 0.025506386533379555, 0.7906979918479919, 0.012753193266689777, 0.012753193266689777, 0.012753193266689777, 0.07651916146278381, 0.025506386533379555, 0.012753193266689777, 0.8729061484336853, 0.02097298577427864, 0.02097298577427864, 0.02097298577427864, 0.838919460773468, 0.04194597154855728, 0.02097298577427864, 0.04194597154855728, 0.02097298577427864, 0.9447743892669678, 0.9449326992034912, 0.8833409547805786, 0.04015186056494713, 0.04015186056494713, 0.02173009142279625, 0.027162613347172737, 0.03802765905857086, 0.086920365691185, 0.1466781198978424, 0.0434601828455925, 0.03802765905857086, 0.45633190870285034, 0.12766428291797638, 0.013581306673586369, 0.4396543502807617, 0.03038513846695423, 0.043407339602708817, 0.12526118755340576, 0.07875331491231918, 0.05394912138581276, 0.03162534907460213, 0.1128590852022171, 0.04092692211270332, 0.04216713085770607, 0.07118485867977142, 0.8542183637619019, 0.02738342247903347, 0.02738342247903347, 0.02738342247903347, 0.05476684495806694, 0.7941192388534546, 0.02738342247903347, 0.09853214025497437, 0.1599128097295761, 0.08560989052057266, 0.11888467520475388, 0.14376001060009003, 0.1379449963569641, 0.07753348350524902, 0.07365681231021881, 0.06881096959114075, 0.03521312400698662, 0.8992249369621277, 0.30991050601005554, 0.09686107188463211, 0.16225916147232056, 0.09079321473836899, 0.05843127518892288, 0.045621342957019806, 0.0683196410536766, 0.04652028530836105, 0.05168920382857323, 0.06966806203126907, 0.05784483999013901, 0.023137936368584633, 0.7635518908500671, 0.023137936368584633, 0.023137936368584633, 0.011568968184292316, 0.023137936368584633, 0.034706905484199524, 0.034706905484199524, 0.4675372838973999, 0.01983892358839512, 0.2631963789463043, 0.02248411253094673, 0.05687158182263374, 0.04629082232713699, 0.014548543840646744, 0.027774492278695107, 0.02579060010612011, 0.05621028319001198, 0.10938913375139236, 0.036463044583797455, 0.5360067486763, 0.043755654245615005, 0.036463044583797455, 0.036463044583797455, 0.014585217460989952, 0.11668173968791962, 0.036463044583797455, 0.036463044583797455, 0.1110064834356308, 0.05445601046085358, 0.21572957932949066, 0.012566772289574146, 0.03979477658867836, 0.03141693025827408, 0.023039082065224648, 0.04817262664437294, 0.4314591586589813, 0.03351139277219772, 0.9040630459785461, 0.07533858716487885, 0.06689430773258209, 0.033447153866291046, 0.016723576933145523, 0.702390193939209, 0.08361788094043732, 0.033447153866291046, 0.008361788466572762, 0.033447153866291046, 0.025085365399718285, 0.016723576933145523, 0.043561890721321106, 0.043561890721321106, 0.043561890721321106, 0.7841140031814575, 0.7329009771347046, 0.007741911802440882, 0.03612891957163811, 0.12387058883905411, 0.018064459785819054, 0.015483823604881763, 0.010322549380362034, 0.012903186492621899, 0.028387010097503662, 0.015483823604881763, 0.053367555141448975, 0.8538808822631836, 0.053367555141448975, 0.22857876121997833, 0.08349575847387314, 0.08276547491550446, 0.08373918384313583, 0.11830594390630722, 0.07887062430381775, 0.12901677191257477, 0.046738151460886, 0.12171392887830734, 0.027020493522286415, 0.1512872874736786, 0.07987969368696213, 0.0732230469584465, 0.10529595613479614, 0.21240736544132233, 0.07624879479408264, 0.10953199863433838, 0.08774662762880325, 0.0732230469584465, 0.03146775811910629, 0.043929483741521835, 0.057986918836832047, 0.07204435020685196, 0.054472558200359344, 0.3549502193927765, 0.06501563638448715, 0.17923229932785034, 0.042172305285930634, 0.08610178530216217, 0.043929483741521835, 0.08670543134212494, 0.10364007949829102, 0.049449190497398376, 0.05080396309494972, 0.06909339129924774, 0.1239616647362709, 0.3488538861274719, 0.0765446349978447, 0.06299691647291183, 0.02709544636309147, 0.2262738198041916, 0.030442461371421814, 0.17674802243709564, 0.141761913895607, 0.08769246190786362, 0.051797620952129364, 0.07633333653211594, 0.141761913895607, 0.023626985028386116, 0.0427103191614151, 0.293251097202301, 0.03554558753967285, 0.023104632273316383, 0.07642301917076111, 0.012440956197679043, 0.037322867661714554, 0.023104632273316383, 0.22571448981761932, 0.01421823538839817, 0.2577055096626282, 0.12241300195455551, 0.017914097756147385, 0.03284251317381859, 0.6807357668876648, 0.029856830835342407, 0.04478524625301361, 0.017914097756147385, 0.029856830835342407, 0.020899781957268715, 0.005971366073936224, 0.8556106686592102, 0.5609157085418701, 0.022114956751465797, 0.05528739094734192, 0.0794127956032753, 0.03920378535985947, 0.01708883047103882, 0.07137099653482437, 0.04322468861937523, 0.09248072654008865, 0.01909928023815155, 0.8532038927078247, 0.06563106924295425, 0.014838704839348793, 0.13354834914207458, 0.07419352233409882, 0.014838704839348793, 0.014838704839348793, 0.7419352531433105, 0.06682876497507095, 0.050121571868658066, 0.01670719124376774, 0.01670719124376774, 0.7184092402458191, 0.01670719124376774, 0.03341438248753548, 0.06682876497507095, 0.029098592698574066, 0.029098592698574066, 0.8244600892066956, 0.019399061799049377, 0.029098592698574066, 0.009699530899524689, 0.019399061799049377, 0.009699530899524689, 0.038798123598098755, 0.12582646310329437, 0.03387635573744774, 0.46942952275276184, 0.093159981071949, 0.07380206137895584, 0.04718492552638054, 0.03508622571825981, 0.06412310153245926, 0.02661713771522045, 0.03024674765765667, 0.0933254063129425, 0.03333050385117531, 0.04999575391411781, 0.08665930479764938, 0.056661855429410934, 0.03333050385117531, 0.07332710176706314, 0.5066236257553101, 0.056661855429410934, 0.009999150410294533, 0.040541257709264755, 0.8513664603233337, 0.040541257709264755, 0.15933722257614136, 0.041309650987386703, 0.10688052326440811, 0.08458642661571503, 0.20261399447917938, 0.1750742346048355, 0.10097914189100266, 0.07016083598136902, 0.024916931986808777, 0.03344114497303963, 0.7954199314117432, 0.005805984605103731, 0.01741795428097248, 0.058059848845005035, 0.05225386470556259, 0.01741795428097248, 0.011611969210207462, 0.005805984605103731, 0.01741795428097248, 0.011611969210207462, 0.042768802493810654, 0.20629657804965973, 0.026416026055812836, 0.023900212720036507, 0.04717147350311279, 0.23459945619106293, 0.28617361187934875, 0.019183065742254257, 0.10472067445516586, 0.008490865118801594, 0.021549543365836143, 0.005387385841459036, 0.8996934294700623, 0.010774771682918072, 0.005387385841459036, 0.053873855620622635, 0.022291768342256546, 0.0055729420855641365, 0.9083895683288574, 0.0055729420855641365, 0.0055729420855641365, 0.050156477838754654, 0.05928591266274452, 0.01077925693243742, 0.08084442466497421, 0.026948140934109688, 0.016168884932994843, 0.07545479387044907, 0.03772739693522453, 0.01077925693243742, 0.026948140934109688, 0.6629242897033691, 0.015470228157937527, 0.14077907800674438, 0.07425709068775177, 0.026299387216567993, 0.012376181781291962, 0.013923205435276031, 0.6791430115699768, 0.024752363562583923, 0.004641068167984486, 0.007735114078968763, 0.8643552660942078, 0.05762368440628052, 0.05762368440628052, 0.09476322680711746, 0.013537603430449963, 0.06768801808357239, 0.013537603430449963, 0.7581058144569397, 0.027075206860899925, 0.8197486996650696, 0.05220799148082733, 0.05220799148082733, 0.8353278636932373, 0.12683461606502533, 0.06341730803251266, 0.3931873142719269, 0.07791269570589066, 0.06522923707962036, 0.01993115432560444, 0.04892192408442497, 0.06522923707962036, 0.10146769881248474, 0.03986230865120888, 0.022315945476293564, 0.15063263475894928, 0.0669478327035904, 0.07810580730438232, 0.011157972738146782, 0.005578986369073391, 0.6360044479370117, 0.0167369581758976, 0.005578986369073391, 0.005578986369073391, 0.011019314639270306, 0.04958691447973251, 0.02203862927854061, 0.005509657319635153, 0.027548285201191902, 0.8595064878463745, 0.011019314639270306, 0.011019314639270306, 0.005509657319635153, 0.030790554359555244, 0.015395277179777622, 0.07697638124227524, 0.030790554359555244, 0.015395277179777622, 0.07697638124227524, 0.030790554359555244, 0.030790554359555244, 0.6927874684333801, 0.005903520621359348, 0.01771056279540062, 0.05903520807623863, 0.01771056279540062, 0.01771056279540062, 0.10626337677240372, 0.047228164970874786, 0.011807041242718697, 0.714326024055481, 0.8200361132621765, 0.04927470162510872, 0.8376699090003967, 0.04927470162510872, 0.11306274682283401, 0.06833463162183762, 0.14785128831863403, 0.08572889864444733, 0.04845546558499336, 0.02236405946314335, 0.0782742127776146, 0.3640372157096863, 0.016151821240782738, 0.055910151451826096, 0.020483292639255524, 0.020483292639255524, 0.020483292639255524, 0.020483292639255524, 0.10241646319627762, 0.020483292639255524, 0.020483292639255524, 0.7783651351928711, 0.5488533973693848, 0.10355724394321442, 0.03495056927204132, 0.019416984170675278, 0.04660075902938843, 0.019416984170675278, 0.02200591377913952, 0.009061259217560291, 0.014239121228456497, 0.18251964449882507, 0.33973565697669983, 0.08854114264249802, 0.06427431106567383, 0.2006932646036148, 0.03935161978006363, 0.03869576007127762, 0.08067081868648529, 0.0629625916481018, 0.06427431106567383, 0.021643390879034996, 0.06476388871669769, 0.04317592829465866, 0.010793982073664665, 0.05396990850567818, 0.04317592829465866, 0.7339907288551331, 0.010793982073664665, 0.032381944358348846, 0.02158796414732933, 0.010793982073664665, 0.1051490306854248, 0.8411922454833984, 0.9623722434043884, 0.7030319571495056, 0.013019110076129436, 0.04807056114077568, 0.07611171901226044, 0.02403528057038784, 0.014020579867064953, 0.017024990171194077, 0.009013229981064796, 0.014020579867064953, 0.08212053775787354, 0.022499118000268936, 0.022499118000268936, 0.007499706000089645, 0.8549664616584778, 0.007499706000089645, 0.02999882400035858, 0.007499706000089645, 0.01499941200017929, 0.022499118000268936, 0.01499941200017929, 0.021435335278511047, 0.021435335278511047, 0.021435335278511047, 0.021435335278511047, 0.10717668384313583, 0.021435335278511047, 0.021435335278511047, 0.7716720700263977, 0.8530372977256775, 0.07988129556179047, 0.7988129258155823, 0.8670513033866882, 0.01970571093261242, 0.01970571093261242, 0.01970571093261242, 0.01970571093261242, 0.03941142186522484, 0.01970571093261242, 0.01970571093261242, 0.01970571093261242, 0.1454806923866272, 0.02155269682407379, 0.04579947888851166, 0.4984061121940613, 0.06465809047222137, 0.07004626095294952, 0.05657582730054855, 0.05657582730054855, 0.03232904523611069, 0.002694087103009224, 0.04549707472324371, 0.8644444346427917, 0.05316057428717613, 0.14268097281455994, 0.0880158543586731, 0.10230903327465057, 0.11559917777776718, 0.38842326402664185, 0.04689164087176323, 0.027081802487373352, 0.029087861999869347, 0.007021207828074694, 0.04508020356297493, 0.8114436864852905, 0.04508020356297493, 0.03763103112578392, 0.03763103112578392, 0.07526206225156784, 0.827882707118988, 0.03763103112578392, 0.8833539485931396, 0.02138414792716503, 0.02138414792716503, 0.02138414792716503, 0.1069207414984703, 0.02138414792716503, 0.02138414792716503, 0.7698293328285217, 0.06405665725469589, 0.8967931866645813, 0.925428569316864, 0.018116870895028114, 0.021136349067091942, 0.1781492382287979, 0.00603895727545023, 0.3985711634159088, 0.0332142636179924, 0.30194786190986633, 0.01207791455090046, 0.027175307273864746, 0.00603895727545023, 0.4384763836860657, 0.038930147886276245, 0.03790566697716713, 0.3001719117164612, 0.019465073943138123, 0.032783281058073044, 0.008195820264518261, 0.07581133395433426, 0.029709847643971443, 0.019465073943138123, 0.17133983969688416, 0.08096278458833694, 0.07907992601394653, 0.032008543610572815, 0.03953996300697327, 0.037657108157873154, 0.09602563083171844, 0.060251373797655106, 0.39163392782211304, 0.011297132819890976, 0.02437146194279194, 0.15789473056793213, 0.03950255736708641, 0.020213298499584198, 0.07484695315361023, 0.2076772004365921, 0.16898316144943237, 0.0298001766204834, 0.26797056198120117, 0.008662842214107513, 0.05555744096636772, 0.05555744096636772, 0.8333615660667419, 0.05555744096636772, 0.07891357690095901, 0.8680493831634521, 0.20121769607067108, 0.02208486944437027, 0.4735977351665497, 0.04416973888874054, 0.12269371747970581, 0.049077488481998444, 0.012269372120499611, 0.02208486944437027, 0.02208486944437027, 0.029446491971611977, 0.14087633788585663, 0.03991496190428734, 0.0320884995162487, 0.05008936673402786, 0.4194984436035156, 0.1244407668709755, 0.07043816894292831, 0.06730758398771286, 0.03600173071026802, 0.018783511593937874, 0.3817574381828308, 0.035292379558086395, 0.029756320640444756, 0.306559294462204, 0.059973981231451035, 0.032985687255859375, 0.036215055733919144, 0.04728717729449272, 0.053053904324769974, 0.017300186678767204, 0.8670268654823303, 0.0788206234574318, 0.023296618834137917, 0.8852715492248535, 0.023296618834137917, 0.023296618834137917, 0.8809629082679749, 0.012235595844686031, 0.012235595844686031, 0.012235595844686031, 0.024471191689372063, 0.012235595844686031, 0.012235595844686031, 0.012235595844686031, 0.012235595844686031, 0.28643718361854553, 0.050087373703718185, 0.11132701486349106, 0.18626242876052856, 0.12482713162899017, 0.03130460903048515, 0.04460906982421875, 0.0810006782412529, 0.05791352689266205, 0.026217611506581306, 0.8411111831665039, 0.07953096181154251, 0.21520142257213593, 0.02339145913720131, 0.02339145913720131, 0.0888875424861908, 0.02339145913720131, 0.04678291827440262, 0.10292241722345352, 0.03274804353713989, 0.3602284789085388, 0.11933167278766632, 0.0589878149330616, 0.25222375988960266, 0.09831302613019943, 0.1335701048374176, 0.08068448305130005, 0.05763177201151848, 0.054919689893722534, 0.11729761213064194, 0.025764793157577515, 0.03905819356441498, 0.03905819356441498, 0.8592802286148071, 0.03905819356441498, 0.0834689736366272, 0.06607960909605026, 0.08462826907634735, 0.1588229089975357, 0.08230968564748764, 0.10085834562778473, 0.049849528819322586, 0.2944599986076355, 0.034778740257024765, 0.045212361961603165, 0.41237831115722656, 0.053401507437229156, 0.23684558272361755, 0.041534505784511566, 0.07664105296134949, 0.03955667093396187, 0.03263425454497337, 0.06724634021520615, 0.026700753718614578, 0.013844835571944714, 0.9333890080451965, 0.8014285564422607, 0.03237698972225189, 0.03237698972225189, 0.8741787672042847, 0.03784899041056633, 0.7948287725448608, 0.03784899041056633, 0.03784899041056633, 0.07569798082113266, 0.03784899041056633, 0.021757494658231735, 0.13870403170585632, 0.040795303881168365, 0.008159060962498188, 0.027196869254112244, 0.7315957546234131, 0.008159060962498188, 0.016318121924996376, 0.005439373664557934, 0.20552976429462433, 0.09820880740880966, 0.10833342373371124, 0.24501578509807587, 0.13060759007930756, 0.047585710883140564, 0.016199391335248947, 0.08302187919616699, 0.03037385828793049, 0.03341124206781387, 0.04935881122946739, 0.12788419425487518, 0.0583331398665905, 0.05160239338874817, 0.09647403657436371, 0.040384482592344284, 0.42403706908226013, 0.01121791172772646, 0.013461493887007236, 0.12788419425487518, 0.07313048094511032, 0.024376826360821724, 0.024376826360821724, 0.04875365272164345, 0.04875365272164345, 0.7313047647476196, 0.024376826360821724, 0.022432712838053703, 0.022432712838053703, 0.7851449847221375, 0.022432712838053703, 0.06729813665151596, 0.022432712838053703, 0.04486542567610741, 0.6366655826568604, 0.019251227378845215, 0.08938069641590118, 0.03712736442685127, 0.05637859180569649, 0.028876841068267822, 0.028876841068267822, 0.008250526152551174, 0.03162701427936554, 0.06462911516427994, 0.884111762046814, 0.03683799132704735, 0.03683799132704735, 0.03683799132704735, 0.05942782387137413, 0.05942782387137413, 0.8319895267486572, 0.23058871924877167, 0.02846774272620678, 0.06191733852028847, 0.394989937543869, 0.05337701737880707, 0.04483669623732567, 0.02846774272620678, 0.08825000375509262, 0.02775604836642742, 0.04198991879820824, 0.8674037456512451, 0.07885488867759705, 0.5796610713005066, 0.020045915618538857, 0.07684268057346344, 0.02171640843153, 0.013363944366574287, 0.035080354660749435, 0.013363944366574287, 0.013363944366574287, 0.016704929992556572, 0.20714113116264343, 0.8419285416603088, 0.07016071677207947, 0.08646950125694275, 0.07999584823846817, 0.2140929251909256, 0.0910935327410698, 0.04161633551120758, 0.17386379837989807, 0.08092065155506134, 0.16923975944519043, 0.021270571276545525, 0.04161633551120758, 0.021435154601931572, 0.021435154601931572, 0.021435154601931572, 0.021435154601931572, 0.08574061840772629, 0.021435154601931572, 0.021435154601931572, 0.7716655135154724, 0.007122240494936705, 0.04629456251859665, 0.01424448098987341, 0.11395584791898727, 0.048075120896101, 0.3044757843017578, 0.4219927489757538, 0.021366721019148827, 0.008902800269424915, 0.012463920749723911, 0.04478353634476662, 0.8508872389793396, 0.04478353634476662, 0.04478353634476662, 0.039338432252407074, 0.8654454946517944, 0.0839448943734169, 0.8394489288330078, 0.06822937726974487, 0.030703218653798103, 0.49466297030448914, 0.07164084166288376, 0.02729175053536892, 0.06822937726974487, 0.051172032952308655, 0.15351609885692596, 0.01364587526768446, 0.020468812435865402, 0.022227320820093155, 0.8668655157089233, 0.022227320820093155, 0.022227320820093155, 0.022227320820093155, 0.04445464164018631, 0.8537144660949707, 0.024391841143369675, 0.04878368228673935, 0.024391841143369675, 0.024391841143369675, 0.024391841143369675, 0.024391841143369675, 0.010666866786777973, 0.010666866786777973, 0.11200210452079773, 0.10133523494005203, 0.09066837280988693, 0.04800090193748474, 0.005333433393388987, 0.5973445773124695, 0.021333733573555946, 0.005333433393388987, 0.9448682069778442, 0.03632551059126854, 0.02906040847301483, 0.03632551059126854, 0.6393289566040039, 0.02906040847301483, 0.06538591533899307, 0.13077183067798615, 0.02906040847301483, 0.007265102118253708, 0.3826678693294525, 0.10899518430233002, 0.18086881935596466, 0.053312864154577255, 0.07029400020837784, 0.04422993212938309, 0.02961825765669346, 0.06910926848649979, 0.021720055490732193, 0.03909609839320183, 0.09531962871551514, 0.07587943971157074, 0.03950747475028038, 0.05894766375422478, 0.08716728538274765, 0.0965738296508789, 0.050168223679065704, 0.437090665102005, 0.02821962535381317, 0.031982243061065674, 0.025801457464694977, 0.051602914929389954, 0.7998452186584473, 0.025801457464694977, 0.025801457464694977, 0.025801457464694977, 0.051602914929389954, 0.8296489715576172, 0.07542263716459274, 0.5292362570762634, 0.025705762207508087, 0.08392175287008286, 0.08240965008735657, 0.016633139923214912, 0.07031282037496567, 0.04233890399336815, 0.059728093445301056, 0.017389191314578056, 0.0725809782743454, 0.03163004666566849, 0.88564133644104, 0.03163004666566849, 0.06477867811918259, 0.021592892706394196, 0.050383418798446655, 0.618996262550354, 0.021592892706394196, 0.04318578541278839, 0.007197631057351828, 0.12955735623836517, 0.014395262114703655, 0.02879052422940731, 0.14832255244255066, 0.08240141719579697, 0.062258847057819366, 0.03479170799255371, 0.07873912900686264, 0.07324570417404175, 0.009155713021755219, 0.46144792437553406, 0.032960567623376846, 0.01281799841672182, 0.038312867283821106, 0.8811959624290466, 0.038312867283821106, 0.8670963048934937, 0.07882693409919739, 0.021448684856295586, 0.021448684856295586, 0.8150500059127808, 0.021448684856295586, 0.04289736971259117, 0.021448684856295586, 0.021448684856295586, 0.021448684856295586, 0.6749672889709473, 0.012735231779515743, 0.1315973997116089, 0.028300514444708824, 0.011320206336677074, 0.036790668964385986, 0.014150257222354412, 0.02264041267335415, 0.019810359925031662, 0.049525901675224304, 0.9303195476531982, 0.690808892250061, 0.009616829454898834, 0.11700475960969925, 0.05609817057847977, 0.012822438962757587, 0.022439269348978996, 0.01602804847061634, 0.014425244182348251, 0.012822438962757587, 0.04648134112358093, 0.06428603082895279, 0.4250020682811737, 0.0583336167037487, 0.10833386331796646, 0.036904942244291306, 0.11309579014778137, 0.047619279474020004, 0.03333349525928497, 0.06785747408866882, 0.04523831605911255, 0.04214266315102577, 0.8849959373474121, 0.8384238481521606, 0.08402581512928009, 0.8402581214904785, 0.21249161660671234, 0.175055131316185, 0.09438212960958481, 0.05193653702735901, 0.049300163984298706, 0.11072763800621033, 0.08357300609350204, 0.08357300609350204, 0.0917457565665245, 0.0466637909412384, 0.01076403446495533, 0.11840438097715378, 0.5704938173294067, 0.02152806892991066, 0.02152806892991066, 0.04305613785982132, 0.20451664924621582, 0.11462025344371796, 0.8596519231796265, 0.09174396097660065, 0.7186610698699951, 0.061162643134593964, 0.015290660783648491, 0.045871980488300323, 0.015290660783648491, 0.015290660783648491, 0.015290660783648491, 0.015290660783648491, 0.0956234559416771, 0.04249931499361992, 0.41861826181411743, 0.05949904024600983, 0.1338728368282318, 0.027624554932117462, 0.038249384611845016, 0.1041233241558075, 0.06587393581867218, 0.012749793939292431, 0.6254163384437561, 0.014921758323907852, 0.02627526968717575, 0.16916732490062714, 0.027248429134488106, 0.029519131407141685, 0.01897658407688141, 0.012326669879257679, 0.036331236362457275, 0.04006167873740196, 0.035649001598358154, 0.035649001598358154, 0.035649001598358154, 0.035649001598358154, 0.035649001598358154, 0.035649001598358154, 0.7842780351638794, 0.04045640677213669, 0.20551854372024536, 0.1302696317434311, 0.06068461015820503, 0.06068461015820503, 0.053402457386255264, 0.2629666328430176, 0.1197509616613388, 0.03964727744460106, 0.024273844435811043, 0.03621859848499298, 0.06338254362344742, 0.09054649621248245, 0.027163948863744736, 0.5432789921760559, 0.01810929924249649, 0.05432789772748947, 0.05432789772748947, 0.07243719696998596, 0.05432789772748947, 0.032811447978019714, 0.3961678743362427, 0.017013344913721085, 0.10208006203174591, 0.0802057683467865, 0.23697158694267273, 0.04253336042165756, 0.035241927951574326, 0.032811447978019714, 0.02187429927289486, 0.009654603898525238, 0.08367323875427246, 0.016091007739305496, 0.49238482117652893, 0.1255098581314087, 0.012872805818915367, 0.012872805818915367, 0.20596489310264587, 0.03218201547861099, 0.0064364029094576836, 0.2756366729736328, 0.04129909723997116, 0.056148212403059006, 0.1893261969089508, 0.07795784622430801, 0.06635697931051254, 0.04037102684378624, 0.11972098052501678, 0.10069555044174194, 0.032482437789440155, 0.06301464885473251, 0.1983945071697235, 0.07744703441858292, 0.04207752272486687, 0.06708011031150818, 0.23762619495391846, 0.18111629784107208, 0.03597933053970337, 0.08720414340496063, 0.010163652710616589, 0.07733214646577835, 0.17013072967529297, 0.09279857575893402, 0.027839573100209236, 0.1608508676290512, 0.01546642929315567, 0.4361532926559448, 0.009279857389628887, 0.006186571903526783, 0.0030932859517633915, 0.2930014133453369, 0.03707364946603775, 0.19373971223831177, 0.05700571835041046, 0.10045763105154037, 0.061390772461891174, 0.04983017221093178, 0.09009295701980591, 0.04743832349777222, 0.06976224482059479, 0.010131871327757835, 0.06079122796654701, 0.02026374265551567, 0.010131871327757835, 0.09118684381246567, 0.030395613983273506, 0.010131871327757835, 0.7497584819793701, 0.08292299509048462, 0.04913955181837082, 0.1105639860033989, 0.05835321545600891, 0.030712218955159187, 0.015356109477579594, 0.11977765709161758, 0.48525306582450867, 0.027640996500849724, 0.02456977590918541, 0.6418160200119019, 0.037099193781614304, 0.040809113532304764, 0.018549596890807152, 0.012057238258421421, 0.0384904146194458, 0.08532814681529999, 0.014375937171280384, 0.01808585599064827, 0.09367546439170837, 0.820685863494873, 0.018651951104402542, 0.07460780441761017, 0.018651951104402542, 0.037303902208805084, 0.018651951104402542, 0.026721695438027382, 0.008907231502234936, 0.008907231502234936, 0.7571147084236145, 0.03562892600893974, 0.01781446300446987, 0.008907231502234936, 0.10688678175210953, 0.008907231502234936, 0.008907231502234936, 0.027314120903611183, 0.027314120903611183, 0.027314120903611183, 0.027314120903611183, 0.0819423645734787, 0.792109489440918, 0.02094937488436699, 0.08379749953746796, 0.010474687442183495, 0.8693990111351013, 0.008860190398991108, 0.017720380797982216, 0.9657607078552246, 0.09781693667173386, 0.021737096831202507, 0.043474193662405014, 0.021737096831202507, 0.010868548415601254, 0.05434274300932884, 0.021737096831202507, 0.11955403536558151, 0.032605644315481186, 0.5760330557823181, 0.89396733045578, 0.019020581617951393, 0.019020581617951393, 0.019020581617951393, 0.019020581617951393, 0.019020581617951393, 0.8501311540603638, 0.036962222307920456, 0.039812516421079636, 0.16514821350574493, 0.04571066424250603, 0.028016213327646255, 0.022118063643574715, 0.011796300299465656, 0.6532201766967773, 0.01916898787021637, 0.011796300299465656, 0.002949075074866414, 0.011087597347795963, 0.0887007787823677, 0.033262792974710464, 0.0997883751988411, 0.06652558594942093, 0.6763434410095215, 0.011087597347795963, 0.011087597347795963, 0.10864073783159256, 0.09845566749572754, 0.46624982357025146, 0.08713892847299576, 0.046398647129535675, 0.05884706601500511, 0.019238464534282684, 0.07016380876302719, 0.026028510183095932, 0.019238464534282684, 0.038628414273262024, 0.038628414273262024, 0.038628414273262024, 0.057942625135183334, 0.7532541155815125, 0.019314207136631012, 0.057942625135183334, 0.019314207136631012, 0.09351707249879837, 0.023379268124699593, 0.046758536249399185, 0.7715158462524414, 0.023379268124699593, 0.01874302700161934, 0.014057270251214504, 0.03748605400323868, 0.07497210800647736, 0.02811454050242901, 0.03280029818415642, 0.07497210800647736, 0.1265154331922531, 0.5810338258743286, 0.004685756750404835, 0.815105140209198, 0.9159451723098755, 0.8539147973060608, 0.017575861886143684, 0.0527275875210762, 0.017575861886143684, 0.6503068804740906, 0.0527275875210762, 0.08787930756807327, 0.017575861886143684, 0.017575861886143684, 0.0527275875210762, 0.07985205948352814, 0.7985206246376038, 0.004103860817849636, 0.008207721635699272, 0.028727024793624878, 0.036934744566679, 0.06566177308559418, 0.057454049587249756, 0.7838373780250549, 0.012311582453548908, 0.015180187299847603, 0.01012012455612421, 0.005060062278062105, 0.10626131296157837, 0.09614118188619614, 0.07590093463659286, 0.02024024911224842, 0.6527480483055115, 0.01012012455612421, 0.005060062278062105, 0.010769355110824108, 0.021538710221648216, 0.021538710221648216, 0.010769355110824108, 0.10769355297088623, 0.021538710221648216, 0.021538710221648216, 0.7646241784095764, 0.8902730941772461, 0.9103895425796509, 0.8995835781097412, 0.11509662866592407, 0.056854963302612305, 0.25515398383140564, 0.3133956491947174, 0.06101508066058159, 0.02634742110967636, 0.018027182668447495, 0.058241669088602066, 0.020800596103072166, 0.07626885175704956, 0.022160792723298073, 0.022160792723298073, 0.022160792723298073, 0.022160792723298073, 0.022160792723298073, 0.044321585446596146, 0.044321585446596146, 0.022160792723298073, 0.7756277322769165, 0.8176147937774658, 0.16436435282230377, 0.04109108820557594, 0.7190940380096436, 0.02054554410278797, 0.02054554410278797, 0.02054554410278797, 0.02054554410278797, 0.03332062438130379, 0.04606086015701294, 0.05586104467511177, 0.38906726241111755, 0.06272117048501968, 0.059781115502119064, 0.04312080517411232, 0.1675831377506256, 0.13426250219345093, 0.00784014631062746, 0.04425375908613205, 0.022126879543066025, 0.8408214449882507, 0.022126879543066025, 0.022126879543066025, 0.022126879543066025, 0.022126879543066025, 0.01665140502154827, 0.03330281004309654, 0.03330281004309654, 0.01665140502154827, 0.04162851348519325, 0.1498626470565796, 0.01665140502154827, 0.01665140502154827, 0.649404764175415, 0.03330281004309654, 0.819693386554718, 0.011177637614309788, 0.014903516508638859, 0.04471055045723915, 0.011177637614309788, 0.018629396334290504, 0.018629396334290504, 0.011177637614309788, 0.018629396334290504, 0.03353291004896164, 0.9229484796524048, 0.029800591990351677, 0.014900295995175838, 0.029800591990351677, 0.014900295995175838, 0.014900295995175838, 0.89401775598526, 0.41014254093170166, 0.04058138653635979, 0.02867751382291317, 0.29922008514404297, 0.04058138653635979, 0.02488991618156433, 0.03246510773897171, 0.07575192302465439, 0.02813642844557762, 0.020561235025525093, 0.7731302380561829, 0.01893545314669609, 0.009467726573348045, 0.9089017510414124, 0.009467726573348045, 0.004733863286674023, 0.04733863100409508, 0.08632083237171173, 0.8632082939147949, 0.8783288598060608, 0.048796046525239944, 0.047151364386081696, 0.21105848252773285, 0.05164197087287903, 0.05950053036212921, 0.16166181862354279, 0.08195356279611588, 0.047151364386081696, 0.057255227118730545, 0.2694363594055176, 0.014594470150768757, 0.5037573575973511, 0.023988444358110428, 0.14980538189411163, 0.012728562578558922, 0.01762416400015354, 0.050424691289663315, 0.043081287294626236, 0.050424691289663315, 0.022519763559103012, 0.12532737851142883, 0.097327321767807, 0.09083883464336395, 0.06488487869501114, 0.009732731617987156, 0.42824020981788635, 0.019465463235974312, 0.07786185294389725, 0.06164063513278961, 0.09408307820558548, 0.05190790444612503, 0.1389993131160736, 0.02978556789457798, 0.019857045263051987, 0.07942818105220795, 0.5659257769584656, 0.02978556789457798, 0.049642615020275116, 0.02978556789457798, 0.019857045263051987, 0.02978556789457798, 0.19923660159111023, 0.019759003072977066, 0.11196768283843994, 0.024698752909898758, 0.05433725565671921, 0.024698752909898758, 0.0411645881831646, 0.3326098620891571, 0.13995960354804993, 0.049397505819797516, 0.837466299533844, 0.049262724816799164, 0.049262724816799164, 0.049262724816799164, 0.03464312478899956, 0.1806027740240097, 0.04317654296755791, 0.04241235554218292, 0.09845270961523056, 0.23129381239414215, 0.1626443862915039, 0.043431270867586136, 0.15207313001155853, 0.011080705560743809, 0.06565428525209427, 0.010100658982992172, 0.5757375359535217, 0.1111072525382042, 0.04040263593196869, 0.030301976948976517, 0.005050329491496086, 0.10605692118406296, 0.045452967286109924, 0.010100658982992172, 0.03065081499516964, 0.1309625655412674, 0.06687450408935547, 0.011145750992000103, 0.016718626022338867, 0.019505063071846962, 0.66317218542099, 0.022291501984000206, 0.03622369095683098, 0.0055728754960000515, 0.14041487872600555, 0.10977890342473984, 0.022976979613304138, 0.025529978796839714, 0.061271946877241135, 0.08935492485761642, 0.09446091949939728, 0.05871894955635071, 0.3752906918525696, 0.022976979613304138, 0.04420539736747742, 0.04420539736747742, 0.8399025797843933, 0.2127709984779358, 0.05284508690237999, 0.037547823041677475, 0.3254144787788391, 0.12933139503002167, 0.037547823041677475, 0.047282446175813675, 0.0681423470377922, 0.06953300535678864, 0.02225056290626526, 0.0930696576833725, 0.19742049276828766, 0.03760390356183052, 0.06298653781414032, 0.030083123594522476, 0.37697914242744446, 0.07990829646587372, 0.040424197912216187, 0.05264546349644661, 0.02914302423596382, 0.03419237583875656, 0.03419237583875656, 0.03419237583875656, 0.8548094034194946, 0.03419237583875656, 0.03419237583875656, 0.025869278237223625, 0.03880391642451286, 0.012934639118611813, 0.07760783284902573, 0.012934639118611813, 0.025869278237223625, 0.05173855647444725, 0.07760783284902573, 0.633797287940979, 0.025869278237223625, 0.07771650701761246, 0.05181100592017174, 0.012952751480042934, 0.012952751480042934, 0.02590550296008587, 0.7771650552749634, 0.012952751480042934, 0.012952751480042934, 0.012952751480042934, 0.15864042937755585, 0.06555389612913132, 0.12520794570446014, 0.13110779225826263, 0.1973172426223755, 0.066864974796772, 0.09243099391460419, 0.06620943546295166, 0.07800913602113724, 0.01835509203374386, 0.4705544710159302, 0.08763908594846725, 0.1004478707909584, 0.0161795224994421, 0.03033660538494587, 0.07415615022182465, 0.08494249731302261, 0.038426369428634644, 0.03438148647546768, 0.06404394656419754, 0.01132902130484581, 0.062309619039297104, 0.02265804260969162, 0.005664510652422905, 0.016993531957268715, 0.8723346590995789, 0.005664510652422905, 0.04760916531085968, 0.01586972177028656, 0.04760916531085968, 0.01586972177028656, 0.03173944354057312, 0.01586972177028656, 0.04760916531085968, 0.03173944354057312, 0.7617466449737549, 0.8598333597183228, 0.011464444920420647, 0.011464444920420647, 0.022928889840841293, 0.011464444920420647, 0.022928889840841293, 0.011464444920420647, 0.011464444920420647, 0.011464444920420647, 0.011464444920420647, 0.010409116744995117, 0.062454696744680405, 0.031227348372340202, 0.010409116744995117, 0.6453652381896973, 0.010409116744995117, 0.19777321815490723, 0.010409116744995117, 0.020818233489990234, 0.8501095771789551, 0.047483209520578384, 0.047483209520578384, 0.8546977639198303, 0.047483209520578384, 0.16799701750278473, 0.05313393846154213, 0.07032433152198792, 0.11251892894506454, 0.13596037030220032, 0.033599402755498886, 0.07970090955495834, 0.11955136060714722, 0.19378259778022766, 0.0328180193901062, 0.041896238923072815, 0.13757818937301636, 0.0665244311094284, 0.03425300493836403, 0.17409585416316986, 0.2321278154850006, 0.15597856044769287, 0.05067180469632149, 0.08181089907884598, 0.025194359943270683, 0.09031613916158676, 0.8128452897071838, 0.12797564268112183, 0.09401446580886841, 0.039759423583745956, 0.07579139620065689, 0.1089242547750473, 0.05922497436404228, 0.17353332042694092, 0.11223753541707993, 0.19796879589557648, 0.010354015976190567, 0.8834072947502136, 0.9330042004585266, 0.026550255715847015, 0.5097649097442627, 0.01593015342950821, 0.11682112514972687, 0.04779046028852463, 0.1681516170501709, 0.05310051143169403, 0.024780238047242165, 0.028320273384451866, 0.010620102286338806, 0.1363580971956253, 0.11454080790281296, 0.1220729649066925, 0.09272351115942001, 0.0885678306221962, 0.07817864418029785, 0.15687674283981323, 0.09116513282060623, 0.0877886414527893, 0.03246621415019035, 0.6917345523834229, 0.023127902299165726, 0.09671668708324432, 0.06097356230020523, 0.010512683540582657, 0.023127902299165726, 0.027332976460456848, 0.010512683540582657, 0.014717756770551205, 0.03994819521903992, 0.01094259787350893, 0.04377039149403572, 0.01094259787350893, 0.02188519574701786, 0.08754078298807144, 0.7659818530082703, 0.02188519574701786, 0.02188519574701786, 0.01094259787350893, 0.021506797522306442, 0.021506797522306442, 0.021506797522306442, 0.021506797522306442, 0.08602719008922577, 0.021506797522306442, 0.021506797522306442, 0.7957515120506287, 0.010753150098025799, 0.021506300196051598, 0.021506300196051598, 0.01612972654402256, 0.10753150284290314, 0.021506300196051598, 0.021506300196051598, 0.7849799990653992, 0.06362690776586533, 0.8271498084068298, 0.02120896801352501, 0.04241793602705002, 0.02120896801352501, 0.02120896801352501, 0.18505653738975525, 0.06949061900377274, 0.1665508896112442, 0.09252826869487762, 0.1284065842628479, 0.03927730768918991, 0.11329992115497589, 0.05967129394412041, 0.09932626783847809, 0.04645296931266785, 0.041251786053180695, 0.013750595971941948, 0.8525369167327881, 0.013750595971941948, 0.013750595971941948, 0.027501191943883896, 0.013750595971941948, 0.041251786053180695, 0.31709450483322144, 0.0699356347322464, 0.05324644595384598, 0.05880950763821602, 0.2527219355106354, 0.0699356347322464, 0.0770881399512291, 0.025431139394640923, 0.04688866063952446, 0.02940475381910801, 0.33204159140586853, 0.05594673380255699, 0.04457544535398483, 0.06322436034679413, 0.10552554577589035, 0.10916435718536377, 0.0968833714723587, 0.0377526730298996, 0.09915762394666672, 0.05549188330769539, 0.866319477558136, 0.03937815874814987, 0.03937815874814987, 0.031971827149391174, 0.7992956638336182, 0.15985912084579468, 0.7818453907966614, 0.07116341590881348, 0.8539609909057617, 0.017833702266216278, 0.035667404532432556, 0.017833702266216278, 0.017833702266216278, 0.8560176491737366, 0.017833702266216278, 0.017833702266216278, 0.015365579165518284, 0.023048369213938713, 0.023048369213938713, 0.007682789582759142, 0.007682789582759142, 0.8988863825798035, 0.023048369213938713, 0.8189848065376282, 0.8509677648544312, 0.07021487504243851, 0.08776859194040298, 0.035107437521219254, 0.017553718760609627, 0.017553718760609627, 0.7197024822235107, 0.05266115441918373, 0.017553718760609627, 0.8201507925987244, 0.09379956871271133, 0.023449892178177834, 0.18759913742542267, 0.035174839198589325, 0.6214221715927124, 0.011724946089088917, 0.011724946089088917, 0.011724946089088917, 0.011724946089088917, 0.14191223680973053, 0.014191223308444023, 0.05676489323377609, 0.7521348595619202, 0.014191223308444023, 0.07044440507888794, 0.029803400859236717, 0.623162031173706, 0.089410200715065, 0.01896580122411251, 0.021675201132893562, 0.005418800283223391, 0.07315380126237869, 0.05689740180969238, 0.00812820065766573, 0.18254995346069336, 0.0849928930401802, 0.22319872677326202, 0.05395200848579407, 0.13820582628250122, 0.07316779345273972, 0.03473622724413872, 0.038431569933891296, 0.10864308476448059, 0.06282083690166473, 0.05254169553518295, 0.8932088613510132, 0.0525081604719162, 0.8926387429237366, 0.9376431703567505, 0.8175476789474487, 0.8517158031463623, 0.017034316435456276, 0.017034316435456276, 0.017034316435456276, 0.017034316435456276, 0.017034316435456276, 0.017034316435456276, 0.017034316435456276, 0.017034316435456276, 0.020163308829069138, 0.020163308829069138, 0.040326617658138275, 0.020163308829069138, 0.08065323531627655, 0.020163308829069138, 0.020163308829069138, 0.7662057280540466, 0.4026437997817993, 0.037651803344488144, 0.028430955484509468, 0.3480871021747589, 0.039957016706466675, 0.03304138034582138, 0.01844169944524765, 0.04149382561445236, 0.03457818925380707, 0.015368083491921425, 0.036894094198942184, 0.029515275731682777, 0.06640937179327011, 0.003689409466460347, 0.7009878158569336, 0.08485642075538635, 0.04058350622653961, 0.018447047099471092, 0.007378818932920694, 0.011068228632211685, 0.03969263657927513, 0.9129306077957153, 0.837343692779541, 0.01431356742978096, 0.03578392043709755, 0.00715678371489048, 0.02147035114467144, 0.02147035114467144, 0.00715678371489048, 0.02862713485956192, 0.01431356742978096, 0.00715678371489048, 0.10662762820720673, 0.04233743995428085, 0.387309193611145, 0.18659834563732147, 0.07056239992380142, 0.031361065804958344, 0.015680532902479172, 0.07683461159467697, 0.04390549287199974, 0.040769387036561966, 0.024028029292821884, 0.024028029292821884, 0.1681962013244629, 0.7448689341545105, 0.045278314501047134, 0.03557581827044487, 0.2490307241678238, 0.04851248115301132, 0.4172073304653168, 0.012936661019921303, 0.04204414784908295, 0.022639157250523567, 0.11319578438997269, 0.012936661019921303, 0.0725712701678276, 0.8708552122116089, 0.019732264801859856, 0.019732264801859856, 0.03946452960371971, 0.019732264801859856, 0.07892905920743942, 0.019732264801859856, 0.019732264801859856, 0.809022843837738, 0.9045783281326294, 0.06030522286891937, 0.14830371737480164, 0.36497440934181213, 0.06836696714162827, 0.08309216052293777, 0.10623174160718918, 0.0778331607580185, 0.07993675768375397, 0.016828792169690132, 0.02945038489997387, 0.025243187323212624, 0.009008185006678104, 0.009008185006678104, 0.0900818482041359, 0.01801637001335621, 0.07206548005342484, 0.04504092410206795, 0.7476793527603149, 0.009008185006678104, 0.025722801685333252, 0.025722801685333252, 0.025722801685333252, 0.03858420252799988, 0.06430700421333313, 0.810268223285675, 0.09590748697519302, 0.13356979191303253, 0.0897764191031456, 0.09722129255533218, 0.08890055119991302, 0.15283887088298798, 0.12130764871835709, 0.1002868264913559, 0.10247649252414703, 0.01795528270304203, 0.013929121196269989, 0.8427118062973022, 0.010446840897202492, 0.031340524554252625, 0.0069645605981349945, 0.045269645750522614, 0.010446840897202492, 0.017411401495337486, 0.010446840897202492, 0.010446840897202492, 0.9594037532806396, 0.012964915484189987, 0.012964915484189987, 0.10238762944936752, 0.07213673740625381, 0.3106533885002136, 0.09424316138029099, 0.02908739447593689, 0.0593382865190506, 0.01163495797663927, 0.2734215259552002, 0.02443341165781021, 0.022106420248746872, 0.8749862313270569, 0.05146978050470352, 0.22596296668052673, 0.06141386553645134, 0.11448345333337784, 0.08144012093544006, 0.0744309350848198, 0.04806302487850189, 0.08177389204502106, 0.12382904440164566, 0.12916937470436096, 0.05941123887896538, 0.07341227680444717, 0.8809473514556885, 0.8701534271240234, 0.04309684783220291, 0.11492493003606796, 0.775743305683136, 0.014365616254508495, 0.014365616254508495, 0.014365616254508495, 0.014365616254508495, 0.014365616254508495, 0.077472984790802, 0.03212294355034828, 0.04157086834311485, 0.034012529999017715, 0.056687548756599426, 0.028343774378299713, 0.06235630437731743, 0.007558339741080999, 0.02267502062022686, 0.6386797428131104, 0.8600019216537476, 0.033076997846364975, 0.033076997846364975, 0.859065055847168, 0.07158875465393066, 0.10671877861022949, 0.1137862503528595, 0.05830661952495575, 0.06714095175266266, 0.21237744390964508, 0.09435071051120758, 0.15053708851337433, 0.08869673311710358, 0.08021577447652817, 0.027916502207517624, 0.0235589649528265, 0.848122775554657, 0.047117929905653, 0.07067689299583435, 0.06391219794750214, 0.8947707414627075, 0.8599693179130554, 0.0789060890674591, 0.8679670095443726, 0.8199160099029541, 0.021854126825928688, 0.4783625602722168, 0.0777035653591156, 0.1554071307182312, 0.033995307981967926, 0.016997653990983963, 0.026710599660873413, 0.0388517826795578, 0.08984474092721939, 0.06313414126634598, 0.025722360238432884, 0.32251882553100586, 0.15367461740970612, 0.10222989320755005, 0.1101444661617279, 0.07584798336029053, 0.06199748441576958, 0.04814698174595833, 0.06001884117722511, 0.038913313299417496, 0.026156039908528328, 0.5418037176132202, 0.06725838780403137, 0.05978523567318916, 0.01868288591504097, 0.01868288591504097, 0.01868288591504097, 0.04483892768621445, 0.11209731549024582, 0.08594127744436264, 0.01856168918311596, 0.3459223806858063, 0.15693064033985138, 0.10124558210372925, 0.1105264201760292, 0.06749705225229263, 0.053997643291950226, 0.033748526126146317, 0.07509046792984009, 0.03543595224618912, 0.02123195305466652, 0.5307987928390503, 0.051563311368227005, 0.11829230934381485, 0.027298225089907646, 0.02123195305466652, 0.027298225089907646, 0.04246390610933304, 0.09099408239126205, 0.07279526442289352, 0.02858004905283451, 0.011908353306353092, 0.6097077131271362, 0.014290024526417255, 0.038106732070446014, 0.05001508444547653, 0.1309918910264969, 0.05001508444547653, 0.052396755665540695, 0.011908353306353092, 0.09096167236566544, 0.8186550736427307, 0.38287362456321716, 0.05512722209095955, 0.06445222347974777, 0.08803899586200714, 0.07350296527147293, 0.04388236626982689, 0.052384573966264725, 0.06116104498505592, 0.11820812523365021, 0.0606125183403492, 0.13695403933525085, 0.2249959111213684, 0.015651889145374298, 0.019564861431717873, 0.04499918222427368, 0.37368887662887573, 0.04304269701242447, 0.05478161573410034, 0.0645640417933464, 0.021521348506212234, 0.02853565290570259, 0.08560695499181747, 0.8275339007377625, 0.02853565290570259, 0.5714699029922485, 0.029661068692803383, 0.06920915842056274, 0.10776855051517487, 0.032627176493406296, 0.04943511262536049, 0.02175145037472248, 0.019774045795202255, 0.024717556312680244, 0.07118656486272812, 0.15930956602096558, 0.013275797478854656, 0.6505140662193298, 0.026551594957709312, 0.06637898832559586, 0.06637898832559586, 0.013275797478854656, 0.1368783712387085, 0.017109796404838562, 0.7015016674995422, 0.034219592809677124, 0.017109796404838562, 0.06843918561935425, 0.895682156085968, 0.0567813441157341, 0.9085015058517456], \"Term\": [\" \", \" \", \" \", \" \", \" \", \" \", \" \", \" \", \" \", \" \", \"accum\", \"accum\", \"acronym\", \"active\", \"active\", \"active\", \"active\", \"active\", \"active\", \"active\", \"active\", \"active\", \"active\", \"address\", \"address\", \"address\", \"address\", \"address\", \"address\", \"address\", \"address\", \"address\", \"address\", \"adjustable\", \"adjustable\", \"admincontactname\", \"adrianne\", \"adrianne\", \"adrianne\", \"adrianne\", \"adrianne\", \"aftertax\", \"aftertax\", \"aftertax\", \"aftertax\", \"aftertax\", \"aftertax\", \"aftertax\", \"aftertax\", \"aftertax\", \"aftertax\", \"aggregation\", \"alamo\", \"alamo\", \"alamo\", \"alamo\", \"alamo\", \"alamo\", \"alamo\", \"alamo\", \"alamo\", \"alamo\", \"allen\", \"allen\", \"allen\", \"allen\", \"allen\", \"allen\", \"allen\", \"allen\", \"allen\", \"allen\", \"allencorpenronenron\", \"allencorpenronenron\", \"allencorpenronenron\", \"allencorpenronenron\", \"allencorpenronenron\", \"allencorpenronenron\", \"allenenron\", \"allenenron\", \"allenenron\", \"allenenron\", \"allenenron\", \"allenenron\", \"allenenron\", \"allenenron\", \"allenenron\", \"allenhouect\", \"allenhouect\", \"allenhouect\", \"allenhouect\", \"allenhouect\", \"allenhouect\", \"allenhouect\", \"allenhouect\", \"allenhouect\", \"allenhouect\", \"allenhouectect\", \"allenhouectect\", \"allenhouectect\", \"allenhouectect\", \"allenhouectect\", \"allenhouectect\", \"allenhouectect\", \"allenhouectect\", \"allenhouectect\", \"allenhouectect\", \"allenxls\", \"allenxls\", \"allenxls\", \"amazoncom\", \"amazoncom\", \"amazoncom\", \"amazoncom\", \"amazoncom\", \"amazoncom\", \"amazoncom\", \"amazoncom\", \"amazoncom\", \"amazoncom\", \"amc\", \"amc\", \"amenity\", \"amf\", \"amf\", \"amunsonbmccom\", \"amunsonbmccom\", \"amunsonbmccom\", \"analyst\", \"analyst\", \"analyst\", \"analyst\", \"analyst\", \"analyst\", \"analyst\", \"analyst\", \"analyst\", \"analyst\", \"andor\", \"andor\", \"andor\", \"andor\", \"andor\", \"andor\", \"andor\", \"andor\", \"andor\", \"andor\", \"annebikeenroncom\", \"appendix\", \"appendix\", \"appendix\", \"appendix\", \"appraise\", \"appraise\", \"appraise\", \"appraise\", \"appraise\", \"appraise\", \"appraise\", \"aquila\", \"aquila\", \"aquila\", \"aquila\", \"aquila\", \"aquila\", \"aquila\", \"aquila\", \"aquila\", \"aquila\", \"aquilla\", \"arnold\", \"arnold\", \"arnold\", \"arnold\", \"arnold\", \"arnold\", \"arnold\", \"arnold\", \"arnold\", \"arnold\", \"arnoldhouectect\", \"arnoldhouectect\", \"arnoldhouectect\", \"arnoldhouectect\", \"arnoldhouectect\", \"arnoldhouectect\", \"arnoldhouectect\", \"arnoldhouectect\", \"arnoldhouectect\", \"arnoldhouectect\", \"arnoldougcooenron\", \"arnoldougcooenron\", \"arnoldougcooenron\", \"assembly\", \"assembly\", \"assembly\", \"assembly\", \"assembly\", \"assembly\", \"assembly\", \"assembly\", \"assembly\", \"asset\", \"asset\", \"asset\", \"asset\", \"asset\", \"asset\", \"asset\", \"asset\", \"asset\", \"asset\", \"assignmentsample\", \"assignmentsample\", \"astros\", \"astros\", \"astros\", \"astros\", \"astros\", \"astros\", \"astros\", \"augoct\", \"author\", \"author\", \"author\", \"author\", \"author\", \"author\", \"author\", \"author\", \"author\", \"author\", \"autorisation\", \"autorisation\", \"autorisation\", \"autorisation\", \"autorisation\", \"autorisation\", \"autorisation\", \"autowebcom\", \"autowebcom\", \"autowebcom\", \"autowebcom\", \"autowebcom\", \"autowebcom\", \"avaya\", \"avaya\", \"avaya\", \"avaya\", \"avaya\", \"avaya\", \"avaya\", \"avaya\", \"avaya\", \"avertir\", \"avertir\", \"avertir\", \"avertir\", \"avertir\", \"avertir\", \"avertir\", \"backout\", \"backout\", \"backout\", \"backout\", \"backout\", \"backout\", \"backout\", \"backout\", \"backtest\", \"bailey\", \"bailey\", \"bailey\", \"bailey\", \"bailey\", \"bailey\", \"bailey\", \"bailey\", \"bailey\", \"bailey\", \"baileylonectect\", \"bandaid\", \"bandaid\", \"bath\", \"bath\", \"bath\", \"bath\", \"bath\", \"bath\", \"bath\", \"bawahouectect\", \"bawahouectect\", \"bcfd\", \"bcfd\", \"bcfd\", \"bcfd\", \"bcfd\", \"bcfd\", \"bcfd\", \"bcfd\", \"bcfd\", \"bcfd\", \"bcm\", \"bcm\", \"bcm\", \"bcm\", \"bcm\", \"bcm\", \"be\", \"be\", \"be\", \"be\", \"be\", \"be\", \"be\", \"be\", \"be\", \"be\", \"bearish\", \"bearish\", \"bearish\", \"bearish\", \"bearish\", \"bearish\", \"bearish\", \"bearish\", \"bearish\", \"bearish\", \"benchluch\", \"benchluch\", \"benchluch\", \"benchluch\", \"bg\", \"bg\", \"bg\", \"bg\", \"bg\", \"bg\", \"bg\", \"bg\", \"bid\", \"bid\", \"bid\", \"bid\", \"bid\", \"bid\", \"bid\", \"bid\", \"bid\", \"bid\", \"bidoffer\", \"bidoffer\", \"bidoffer\", \"bidoffer\", \"billion\", \"billion\", \"billion\", \"billion\", \"billion\", \"billion\", \"billion\", \"billion\", \"billion\", \"billion\", \"billlovejoyhpcom\", \"billlovejoyhpcom\", \"billlovejoyhpcom\", \"birkofer\", \"birkofer\", \"blackout\", \"blackout\", \"blackout\", \"blackout\", \"blackout\", \"blackout\", \"blackout\", \"blackout\", \"blackout\", \"blackout\", \"blair\", \"blair\", \"blair\", \"blair\", \"blair\", \"blair\", \"blair\", \"blair\", \"blair\", \"bmc\", \"bmc\", \"bmc\", \"bmc\", \"bmc\", \"bmc\", \"bmc\", \"bmc\", \"bmc\", \"bmc\", \"bnp\", \"bnp\", \"bnp\", \"bnp\", \"bnp\", \"bnp\", \"bnp\", \"bnp\", \"brian\", \"brian\", \"brian\", \"brian\", \"brian\", \"brian\", \"brian\", \"brian\", \"brian\", \"brian\", \"brianhoskinsenronnet\", \"brianhoskinsenronnet\", \"brianhoskinsenronnet\", \"brianhoskinsenronnet\", \"broker\", \"broker\", \"broker\", \"broker\", \"broker\", \"broker\", \"broker\", \"broker\", \"broker\", \"broker\", \"bubbie\", \"buckleyenronenronxgate\", \"buerklepdxectect\", \"bullington\", \"bullington\", \"bullington\", \"burrito\", \"burrito\", \"burrito\", \"burrito\", \"burrito\", \"burrito\", \"burrito\", \"burrito\", \"business\", \"business\", \"business\", \"business\", \"business\", \"business\", \"business\", \"business\", \"business\", \"business\", \"businesswire\", \"businesswire\", \"businesswire\", \"businesswire\", \"businesswire\", \"businesswire\", \"buster\", \"buster\", \"buy\", \"buy\", \"buy\", \"buy\", \"buy\", \"buy\", \"buy\", \"buy\", \"buy\", \"buy\", \"buycom\", \"buycom\", \"buycom\", \"buycom\", \"buycom\", \"buycom\", \"buycom\", \"buylt\", \"byrne\", \"cal\", \"cal\", \"cal\", \"cal\", \"cal\", \"cal\", \"cal\", \"cal\", \"cal\", \"cal\", \"calif\", \"calif\", \"calif\", \"calif\", \"calif\", \"calif\", \"calif\", \"calif\", \"calif\", \"calif\", \"california\", \"california\", \"california\", \"california\", \"california\", \"california\", \"california\", \"california\", \"california\", \"california\", \"candlesticks\", \"candlesticks\", \"candlesticks\", \"candlesticks\", \"candlesticks\", \"cantrells\", \"cap\", \"cap\", \"cap\", \"cap\", \"cap\", \"cap\", \"cap\", \"cap\", \"cap\", \"cap\", \"carla\", \"carla\", \"carla\", \"carla\", \"carla\", \"carla\", \"carla\", \"carla\", \"carla\", \"carla\", \"carlstrom\", \"carlstrom\", \"carpenter\", \"carpenter\", \"carr\", \"carr\", \"carr\", \"carr\", \"carr\", \"carr\", \"carr\", \"carr\", \"carr\", \"cashiola\", \"cashiola\", \"cashiola\", \"cashiola\", \"cashiola\", \"cashiola\", \"cashiola\", \"caspy\", \"caspy\", \"caspy\", \"cb\", \"cb\", \"cb\", \"cb\", \"cb\", \"cb\", \"cb\", \"cb\", \"cb\", \"cbi\", \"cbot\", \"cbot\", \"cc\", \"cc\", \"cc\", \"cc\", \"cc\", \"cc\", \"cc\", \"cc\", \"cc\", \"cc\", \"ce\", \"ce\", \"ce\", \"ce\", \"ce\", \"ce\", \"ce\", \"ce\", \"ce\", \"ce\", \"cea\", \"cea\", \"cea\", \"cea\", \"cea\", \"cent\", \"cent\", \"cent\", \"cent\", \"cent\", \"cent\", \"cent\", \"cent\", \"cent\", \"cent\", \"chairperson\", \"chairperson\", \"chairperson\", \"chairperson\", \"chairperson\", \"chairperson\", \"chairperson\", \"change\", \"change\", \"change\", \"change\", \"change\", \"change\", \"change\", \"change\", \"change\", \"change\", \"chart\", \"chart\", \"chart\", \"chart\", \"chart\", \"chart\", \"chart\", \"chart\", \"chart\", \"chart\", \"cheapskate\", \"chief\", \"chief\", \"chief\", \"chief\", \"chief\", \"chief\", \"chief\", \"chief\", \"chief\", \"chief\", \"chris\", \"chris\", \"chris\", \"chris\", \"chris\", \"chris\", \"chris\", \"chris\", \"chris\", \"chris\", \"christopher\", \"christopher\", \"christopher\", \"christopher\", \"christopher\", \"christopher\", \"christopher\", \"christopher\", \"christopher\", \"christopher\", \"cicchetti\", \"cicchetti\", \"cicchetti\", \"cicchetti\", \"cicchetti\", \"cicchetti\", \"cicchetti\", \"clarkpdxectect\", \"clearing\", \"clearing\", \"clearing\", \"clearing\", \"clearing\", \"clearing\", \"clearing\", \"clearing\", \"clearing\", \"clearing\", \"click\", \"click\", \"click\", \"click\", \"click\", \"click\", \"click\", \"click\", \"click\", \"click\", \"client\", \"client\", \"client\", \"client\", \"client\", \"client\", \"client\", \"client\", \"client\", \"client\", \"cmr\", \"cmr\", \"cmr\", \"cmr\", \"cmr\", \"cmr\", \"cmr\", \"cnjeff\", \"cnjeff\", \"cnjeff\", \"coin\", \"coin\", \"coin\", \"comiskey\", \"comiskey\", \"company\", \"company\", \"company\", \"company\", \"company\", \"company\", \"company\", \"company\", \"company\", \"company\", \"companys\", \"companys\", \"companys\", \"companys\", \"companys\", \"companys\", \"companys\", \"companys\", \"companys\", \"companys\", \"compaq\", \"compaq\", \"compaq\", \"compaq\", \"compaq\", \"compaq\", \"compaq\", \"compaq\", \"compaq\", \"compaq\", \"concordjpg\", \"confebc\", \"confebc\", \"confebc\", \"confidentiels\", \"confidentiels\", \"confidentiels\", \"confidentiels\", \"confidentiels\", \"confidentiels\", \"confidentiels\", \"confidentiels\", \"conforme\", \"conforme\", \"conforme\", \"conforme\", \"conforme\", \"conforme\", \"conforme\", \"console\", \"console\", \"console\", \"console\", \"console\", \"contact\", \"contact\", \"contact\", \"contact\", \"contact\", \"contact\", \"contact\", \"contact\", \"contact\", \"contact\", \"contain\", \"contain\", \"contain\", \"contain\", \"contain\", \"contain\", \"contain\", \"contain\", \"contain\", \"contain\", \"continentalcom\", \"continentalcom\", \"continentalcom\", \"continentalcom\", \"continentalcom\", \"continentalcom\", \"continentalcom\", \"continentalcom\", \"continentalcom\", \"continentalcom\", \"contract\", \"contract\", \"contract\", \"contract\", \"contract\", \"contract\", \"contract\", \"contract\", \"contract\", \"contract\", \"coolus\", \"coolus\", \"coolus\", \"coolus\", \"copyright\", \"copyright\", \"copyright\", \"copyright\", \"copyright\", \"copyright\", \"copyright\", \"copyright\", \"copyright\", \"copyright\", \"corp\", \"corp\", \"corp\", \"corp\", \"corp\", \"corp\", \"corp\", \"corp\", \"corp\", \"corp\", \"coverage\", \"coverage\", \"coverage\", \"coverage\", \"coverage\", \"coverage\", \"coverage\", \"coverage\", \"coverage\", \"coverage\", \"cowen\", \"cowen\", \"cowen\", \"cpr\", \"cpr\", \"cpr\", \"cpr\", \"cpr\", \"cpr\", \"credit\", \"credit\", \"credit\", \"credit\", \"credit\", \"credit\", \"credit\", \"credit\", \"credit\", \"credit\", \"creem\", \"creem\", \"crowder\", \"crowder\", \"crowder\", \"crowder\", \"crowder\", \"crowder\", \"ct\", \"ct\", \"ct\", \"ct\", \"ct\", \"ct\", \"ct\", \"ct\", \"ct\", \"ct\", \"curless\", \"curless\", \"curve\", \"curve\", \"curve\", \"curve\", \"curve\", \"curve\", \"curve\", \"curve\", \"curve\", \"curve\", \"customer\", \"customer\", \"customer\", \"customer\", \"customer\", \"customer\", \"customer\", \"customer\", \"customer\", \"customer\", \"dabhol\", \"dabhol\", \"dabhol\", \"dabhol\", \"dabhol\", \"dabhol\", \"dabhol\", \"dabhol\", \"dabhol\", \"dabhol\", \"daily\", \"daily\", \"daily\", \"daily\", \"daily\", \"daily\", \"daily\", \"daily\", \"daily\", \"daily\", \"daman\", \"daman\", \"daniel\", \"daniel\", \"daniel\", \"daniel\", \"daniel\", \"daniel\", \"daniel\", \"daniel\", \"daniel\", \"daniel\", \"daniela\", \"daniela\", \"daniela\", \"datacom\", \"datacom\", \"datacom\", \"date\", \"date\", \"date\", \"date\", \"date\", \"date\", \"date\", \"date\", \"date\", \"date\", \"david\", \"david\", \"david\", \"david\", \"david\", \"david\", \"david\", \"david\", \"david\", \"david\", \"day\", \"day\", \"day\", \"day\", \"day\", \"day\", \"day\", \"day\", \"day\", \"day\", \"de\", \"de\", \"de\", \"de\", \"de\", \"de\", \"de\", \"de\", \"de\", \"de\", \"deal\", \"deal\", \"deal\", \"deal\", \"deal\", \"deal\", \"deal\", \"deal\", \"deal\", \"deal\", \"deathly\", \"deathly\", \"deathly\", \"deathly\", \"debt\", \"debt\", \"debt\", \"debt\", \"debt\", \"debt\", \"debt\", \"debt\", \"debt\", \"debt\", \"decmay\", \"decmay\", \"decmay\", \"delaineyhouectect\", \"delaineyhouectect\", \"delaineyhouectect\", \"delaineyhouectect\", \"delano\", \"deliverable\", \"deliverable\", \"deliverable\", \"deliverable\", \"deliverable\", \"deliverable\", \"deliverable\", \"demand\", \"demand\", \"demand\", \"demand\", \"demand\", \"demand\", \"demand\", \"demand\", \"demand\", \"demand\", \"demo\", \"demo\", \"demo\", \"demo\", \"demo\", \"demo\", \"demo\", \"demo\", \"demo\", \"destinataires\", \"destinataires\", \"destinataires\", \"destinataires\", \"destinataires\", \"destinataires\", \"destinataires\", \"destinataires\", \"destruction\", \"destruction\", \"destruction\", \"destruction\", \"destruction\", \"destruction\", \"destruction\", \"destruction\", \"destruction\", \"dexter\", \"dexter\", \"dexter\", \"dexter\", \"dexterintelligencepresscom\", \"diego\", \"diego\", \"diego\", \"diego\", \"diego\", \"diego\", \"diego\", \"diego\", \"diego\", \"diego\", \"differ\", \"differ\", \"differ\", \"differ\", \"differ\", \"differ\", \"differ\", \"differ\", \"differ\", \"differ\", \"diffusion\", \"diffusion\", \"diffusion\", \"diffusion\", \"diffusion\", \"diffusion\", \"diffusion\", \"diffusion\", \"diluted\", \"diluted\", \"diluted\", \"diluted\", \"diluted\", \"diluted\", \"diluted\", \"diluted\", \"diluted\", \"disbursement\", \"disbursement\", \"disbursement\", \"disbursement\", \"disbursement\", \"disc\", \"disc\", \"disc\", \"disc\", \"disc\", \"disc\", \"disc\", \"disc\", \"disc\", \"disc\", \"disk\", \"disk\", \"disk\", \"disk\", \"disk\", \"disk\", \"disk\", \"disk\", \"disk\", \"dj\", \"dj\", \"dj\", \"dj\", \"dj\", \"dj\", \"dj\", \"dj\", \"dj\", \"dj\", \"docdoc\", \"docdoc\", \"donaldwherrickenroncom\", \"donovanhouectect\", \"dorinson\", \"dorinson\", \"dorinson\", \"dorinson\", \"dow\", \"dow\", \"dow\", \"dow\", \"dow\", \"dow\", \"dow\", \"dow\", \"dow\", \"dow\", \"downdraft\", \"downdraft\", \"downdraft\", \"downgrade\", \"downgrade\", \"downgrade\", \"downgrade\", \"downgrade\", \"downgrade\", \"downgrade\", \"downgrade\", \"downgrade\", \"downgrade\", \"drilling\", \"drilling\", \"drilling\", \"drilling\", \"drilling\", \"drilling\", \"dth\", \"dunvale\", \"dunvale\", \"durango\", \"dvd\", \"dvd\", \"dvd\", \"dvd\", \"dvd\", \"dvd\", \"dvd\", \"dvd\", \"dvd\", \"dyersfectect\", \"dynegy\", \"dynegy\", \"dynegy\", \"dynegy\", \"dynegy\", \"dynegy\", \"dynegy\", \"dynegy\", \"dynegy\", \"dynegy\", \"e\", \"e\", \"e\", \"e\", \"e\", \"e\", \"e\", \"e\", \"e\", \"e\", \"earning\", \"earning\", \"earning\", \"earning\", \"earning\", \"earning\", \"earning\", \"earning\", \"earning\", \"earning\", \"earningscom\", \"earningscom\", \"earningscom\", \"earningscom\", \"earningscom\", \"earningscom\", \"earningscom\", \"earningscom\", \"eb\", \"eb\", \"eb\", \"eb\", \"eb\", \"eb\", \"eb\", \"eb\", \"eb\", \"eb\", \"ebs\", \"ebs\", \"ebs\", \"ebs\", \"ebs\", \"ebs\", \"ebs\", \"ebs\", \"ebs\", \"ebs\", \"edie\", \"edie\", \"edm\", \"efps\", \"efps\", \"electricity\", \"electricity\", \"electricity\", \"electricity\", \"electricity\", \"electricity\", \"electricity\", \"electricity\", \"electricity\", \"electricity\", \"elliot\", \"elliot\", \"elliot\", \"elliot\", \"elliot\", \"elliot\", \"elliotthouectect\", \"email\", \"email\", \"email\", \"email\", \"email\", \"email\", \"email\", \"email\", \"email\", \"email\", \"emailvcf\", \"emailvcf\", \"emailvcf\", \"emailvcf\", \"emailvcf\", \"emailvcf\", \"emailvcf\", \"embassy\", \"embassy\", \"embassy\", \"embassy\", \"embassy\", \"energy\", \"energy\", \"energy\", \"energy\", \"energy\", \"energy\", \"energy\", \"energy\", \"energy\", \"energy\", \"english\", \"english\", \"english\", \"english\", \"english\", \"english\", \"english\", \"english\", \"english\", \"english\", \"enron\", \"enron\", \"enron\", \"enron\", \"enron\", \"enron\", \"enron\", \"enron\", \"enron\", \"enron\", \"enroncom\", \"enroncom\", \"enroncom\", \"enroncom\", \"enroncom\", \"enroncom\", \"enroncom\", \"enroncom\", \"enroncom\", \"environment\", \"environment\", \"environment\", \"environment\", \"environment\", \"environment\", \"environment\", \"environment\", \"environment\", \"environment\", \"epaombahbsedu\", \"epaombahbsedu\", \"epaombahbsedu\", \"epaombahbsedu\", \"epaombahbsedu\", \"epaombahbsedu\", \"epaombahbsedu\", \"eric\", \"eric\", \"eric\", \"eric\", \"eric\", \"eric\", \"eric\", \"eric\", \"eric\", \"eric\", \"ermis\", \"ermis\", \"ermis\", \"ermis\", \"ermis\", \"ermis\", \"ermis\", \"ermis\", \"eshort\", \"est\", \"est\", \"est\", \"est\", \"est\", \"est\", \"est\", \"est\", \"est\", \"est\", \"et\", \"et\", \"et\", \"et\", \"et\", \"et\", \"et\", \"et\", \"et\", \"et\", \"ete\", \"ete\", \"ete\", \"ete\", \"ete\", \"ete\", \"ete\", \"ete\", \"ewr\", \"ewr\", \"ewr\", \"execute\", \"execute\", \"execute\", \"execute\", \"execute\", \"execute\", \"execute\", \"execute\", \"execute\", \"execute\", \"expit\", \"expit\", \"expit\", \"expit\", \"expit\", \"exploration\", \"exploration\", \"exploration\", \"exploration\", \"exploration\", \"exploration\", \"exploration\", \"exploration\", \"exploration\", \"exploration\", \"express\", \"express\", \"express\", \"express\", \"express\", \"express\", \"express\", \"express\", \"express\", \"express\", \"expresse\", \"expresse\", \"expresse\", \"expresse\", \"expresse\", \"expresse\", \"expresse\", \"fangme\", \"fangme\", \"fangme\", \"fangme\", \"fangme\", \"fangme\", \"fangme\", \"fangmingzhuenroncom\", \"fangmingzhuenroncom\", \"fangmingzhuenroncom\", \"fastow\", \"fastow\", \"fastow\", \"fastow\", \"fastow\", \"fastow\", \"fastow\", \"fastow\", \"fastow\", \"fastow\", \"fax\", \"fax\", \"fax\", \"fax\", \"fax\", \"fax\", \"fax\", \"fax\", \"fax\", \"fax\", \"fcm\", \"fcm\", \"feature\", \"feature\", \"feature\", \"feature\", \"feature\", \"feature\", \"feature\", \"feature\", \"feature\", \"feature\", \"feelingas\", \"fernley\", \"fernley\", \"fernley\", \"fernley\", \"ffapdf\", \"ffapdf\", \"ffapdf\", \"ffapdf\", \"fieldsid\", \"fieldsid\", \"fieldsid\", \"fieldsid\", \"fieldsid\", \"fieldsid\", \"fieldsid\", \"fieldsid\", \"file\", \"file\", \"file\", \"file\", \"file\", \"file\", \"file\", \"file\", \"file\", \"file\", \"financial\", \"financial\", \"financial\", \"financial\", \"financial\", \"financial\", \"financial\", \"financial\", \"financial\", \"financial\", \"flip\", \"flip\", \"flip\", \"flip\", \"flip\", \"flip\", \"flip\", \"forward\", \"forward\", \"forward\", \"forward\", \"forward\", \"forward\", \"forward\", \"forward\", \"forward\", \"forward\", \"fraser\", \"fraser\", \"fraser\", \"fraser\", \"fraser\", \"fraser\", \"fraser\", \"fraser\", \"fraser\", \"fraser\", \"fraserenronenronxgate\", \"fraserenronenronxgate\", \"fraserenronenronxgate\", \"fraserenronenronxgate\", \"fraserenronenronxgate\", \"fraserenronenronxgate\", \"fraserenronenronxgate\", \"fraserenronenronxgate\", \"fraserenronenronxgate\", \"fraserenronenronxgate\", \"fred\", \"fred\", \"fred\", \"fred\", \"fred\", \"fred\", \"fred\", \"fred\", \"fred\", \"fred\", \"free\", \"free\", \"free\", \"free\", \"free\", \"free\", \"free\", \"free\", \"free\", \"free\", \"fri\", \"fri\", \"fri\", \"fri\", \"fri\", \"fri\", \"fri\", \"fri\", \"fri\", \"fri\", \"fundamental\", \"fundamental\", \"fundamental\", \"fundamental\", \"fundamental\", \"fundamental\", \"fundamental\", \"fundamental\", \"fundamental\", \"fundamental\", \"futures\", \"futures\", \"futures\", \"futures\", \"futures\", \"futures\", \"futures\", \"futures\", \"futures\", \"futures\", \"fvh\", \"gad\", \"gad\", \"gad\", \"game\", \"game\", \"game\", \"game\", \"game\", \"game\", \"game\", \"game\", \"game\", \"game\", \"gamma\", \"gamma\", \"gamma\", \"gamma\", \"gamma\", \"gamma\", \"gamma\", \"gapinski\", \"gapinski\", \"gapinski\", \"gapinski\", \"gapinski\", \"gapinski\", \"gapinski\", \"gapinski\", \"gas\", \"gas\", \"gas\", \"gas\", \"gas\", \"gas\", \"gas\", \"gas\", \"gas\", \"gas\", \"gasdoc\", \"gasdoc\", \"gasdoc\", \"gasheat\", \"gasheat\", \"gasheat\", \"gencheva\", \"gencheva\", \"gencheva\", \"generator\", \"generator\", \"generator\", \"generator\", \"generator\", \"generator\", \"generator\", \"generator\", \"generator\", \"generator\", \"georgeellisamericasbnpparibascom\", \"georgeellisamericasbnpparibascom\", \"georgeellisamericasbnpparibascom\", \"gift\", \"gift\", \"gift\", \"gift\", \"gift\", \"gift\", \"gift\", \"gift\", \"gift\", \"gift\", \"gilbertpdxectect\", \"girdy\", \"girlfriend\", \"girlfriend\", \"girlfriend\", \"giveup\", \"giveup\", \"giveup\", \"giveup\", \"giveup\", \"giveup\", \"giveup\", \"gnther\", \"gnther\", \"gnther\", \"gnther\", \"gnther\", \"gnther\", \"gnther\", \"go\", \"go\", \"go\", \"go\", \"go\", \"go\", \"go\", \"go\", \"go\", \"go\", \"good\", \"good\", \"good\", \"good\", \"good\", \"good\", \"good\", \"good\", \"good\", \"good\", \"greenway\", \"gregpylehpcom\", \"grigsby\", \"grigsby\", \"grigsby\", \"grigsby\", \"grigsby\", \"grigsby\", \"grigsby\", \"grigsby\", \"grigsby\", \"grigsby\", \"guggenheim\", \"guggenheim\", \"guggenheim\", \"guggenheim\", \"gunther\", \"gunther\", \"gunther\", \"gunther\", \"gunther\", \"gunther\", \"gunther\", \"gunther\", \"gunther\", \"gunther\", \"head\", \"head\", \"head\", \"head\", \"head\", \"head\", \"head\", \"head\", \"head\", \"head\", \"hennessynaenronenron\", \"hennessynaenronenron\", \"hennessynaenronenron\", \"hennessynaenronenron\", \"hilson\", \"hilson\", \"hilson\", \"hilton\", \"hilton\", \"hilton\", \"hilton\", \"hilton\", \"hilton\", \"hilton\", \"hilton\", \"hilton\", \"hilton\", \"hj\", \"hj\", \"hj\", \"hj\", \"hj\", \"hj\", \"hj\", \"hj\", \"ho\", \"ho\", \"ho\", \"ho\", \"ho\", \"ho\", \"ho\", \"ho\", \"ho\", \"ho\", \"hoey\", \"hoey\", \"hoffmanpdxect\", \"hoffmanpdxect\", \"hoffmanpdxect\", \"hoffmanpdxect\", \"hoffmanpdxect\", \"hoffmanpdxect\", \"hoffmanpdxect\", \"hoffmanpdxect\", \"hoffmanpdxect\", \"hoffmanpdxect\", \"holbrook\", \"holbrook\", \"horning\", \"hoskins\", \"hoskins\", \"hoskins\", \"hoskins\", \"hoskins\", \"hoskins\", \"hoskins\", \"hoskinsenron\", \"hoskinsenron\", \"hoskinsenron\", \"hoskinsenron\", \"hoskinsenron\", \"hoskinsenron\", \"hoskinsenron\", \"hot\", \"hot\", \"hot\", \"hot\", \"hot\", \"hot\", \"hot\", \"hot\", \"hot\", \"hot\", \"hotel\", \"hotel\", \"hotel\", \"hotel\", \"hotel\", \"hotel\", \"hotel\", \"hotel\", \"hotel\", \"hotel\", \"hotels\", \"hotels\", \"hotels\", \"hotels\", \"hotels\", \"hotels\", \"hotels\", \"hotels\", \"hp\", \"hp\", \"hp\", \"hp\", \"hp\", \"hp\", \"hp\", \"hp\", \"hp\", \"hp\", \"hrobertsonhbkcom\", \"hrobertsonhbkcom\", \"hrobertsonhbkcom\", \"hsc\", \"hsc\", \"hsc\", \"hsc\", \"httpcgizdnetcomslink\", \"httpcgizdnetcomslink\", \"httpcgizdnetcomslink\", \"httpcgizdnetcomslink\", \"httpcgizdnetcomslink\", \"httpcgizdnetcomslink\", \"httpcgizdnetcomslink\", \"httpcgizdnetcomslink\", \"httpcgizdnetcomslink\", \"httpcgizdnetcomslink\", \"httpecthouwebclntectenroncomgas\", \"httpecthouwebclntectenroncomgas\", \"httpexpensexmsenroncom\", \"httpinteractivewsjcomusercgibinsearchuserplactionemailalert\", \"httpinteractivewsjcomusercgibinsearchuserplactionemailalert\", \"httpiosetsenroncominfopostingssharedetnoncriticalnoticeaspcompany\", \"httpiosetsenroncominfopostingssharedetnoncriticalnoticeaspcompany\", \"httpitcappscorpenroncomsrrsauthemaillinkaspidpage\", \"httpitcappscorpenroncomsrrsauthemaillinkaspidpageapproval\", \"httpitcappscorpenroncomsrrsauthemaillinkaspidpageapproval\", \"httpitcappscorpenroncomsrrsauthemaillinkaspidpageapproval\", \"httptournamentfantasysportsyahoocommen\", \"httpwwwcaisocomthegridoperationsopsdocindexhtml\", \"httpwwwcaisocomthegridoperationsopsdocindexhtml\", \"httpwwwcarrfutcom\", \"httpwwwcarrfutcom\", \"httpwwwcarrfutcom\", \"httpwwwcarrfutcom\", \"httpwwwcarrfutcom\", \"httpwwwcarrfutcom\", \"httpwwwcarrfutcom\", \"httpwwwcarrfutcomresearchenergycandlestickspdf\", \"httpwwwcarrfutcomresearchenergycandlestickspdf\", \"httpwwwcarrfutcomresearchenergycandlestickspdf\", \"httpwwwcarrfutcomresearchenergycandlestickspdf\", \"httpwwwcarrfutcomresearchenergyclzqozpdf\", \"httpwwwcarrfutcomresearchenergyclzqozpdf\", \"httpwwwcarrfutcomresearchenergyhoilpdf\", \"httpwwwcarrfutcomresearchenergyhoilpdf\", \"httpwwwcarrfutcomresearchenergyhoilpdf\", \"httpwwwcarrfutcomresearchenergyhoilpdf\", \"httpwwwcarrfutcomresearchenergyhozhokpdf\", \"httpwwwcarrfutcomresearchenergyhozhokpdf\", \"httpwwwcarrfutcomresearchenergyhozhokpdf\", \"httpwwwcarrfutcomresearchenergyhuxhoxpdf\", \"httpwwwcarrfutcomresearchenergyhuxhoxpdf\", \"httpwwwcarrfutcomresearchenergyhuxhoxpdf\", \"httpwwwcarrfutcomresearchenergyhuzhozpdf\", \"httpwwwcarrfutcomresearchenergyhuzhozpdf\", \"httpwwwcarrfutcomresearchenergyhuzhozpdf\", \"httpwwwcarrfutcomresearchenergystripmatrixpdf\", \"httpwwwcarrfutcomresearchenergystripmatrixpdf\", \"httpwwwcarrfutcomresearchenergystripmatrixpdf\", \"httpwwwcarrfutcomresearchenergystripmatrixpdf\", \"httpwwwcarrfutcomresearchenergyunldedpdf\", \"httpwwwcarrfutcomresearchenergyunldedpdf\", \"httpwwwcarrfutcomresearchenergyunldedpdf\", \"httpwwwcarrfutcomresearchenergyunldedpdf\", \"httpwwwdatacommarketingcom\", \"httpwwwdatacommarketingcom\", \"httpwwwindependentorgtiilighthouselhlinkhtml\", \"httpwwwindependentorgtiilighthouselhlinkhtml\", \"httpwwwindependentorgtiilighthouselhlinkhtml\", \"httpwwwindependentorgtiilighthouselhlinkhtml\", \"httpwwwindependentorgtiilighthouselhlinkhtml\", \"httpwwwindependentorgtiilighthouselhlinkhtml\", \"httpwwwindependentorgtiilighthouselhlinkhtml\", \"httpwwwindependentorgtiilighthouselhlinkhtml\", \"httpwwwwinebidcomhomespotlightshtml\", \"httpwwwwinebidcomhomespotlightshtml\", \"httpwwwwinebidcomhomespotlightshtml\", \"httpwwwwinebidcomhomespotlightshtml\", \"httpwwwwinebidcomhomespotlightshtml\", \"httpwwwzdnetoneboxcom\", \"httpwwwzdnetoneboxcom\", \"httpwwwzdnetoneboxcom\", \"httpwwwzdnetoneboxcom\", \"httpwwwzdnetoneboxcom\", \"httpwwwzdnetoneboxcom\", \"httpwwwzdnetoneboxcom\", \"httpwwwzdnetoneboxcom\", \"hu\", \"hu\", \"hu\", \"hu\", \"hu\", \"hu\", \"hu\", \"hu\", \"hu\", \"huntley\", \"huntley\", \"huntley\", \"huntley\", \"idealistic\", \"idealistic\", \"idealistic\", \"idealistic\", \"ill\", \"ill\", \"ill\", \"ill\", \"ill\", \"ill\", \"ill\", \"ill\", \"ill\", \"ill\", \"imag\", \"imag\", \"imag\", \"imag\", \"imag\", \"image\", \"image\", \"image\", \"image\", \"image\", \"image\", \"image\", \"image\", \"image\", \"image\", \"imageimage\", \"imageimage\", \"imageimage\", \"imageimage\", \"imageimage\", \"imageimage\", \"imageimage\", \"imageimage\", \"imageimage\", \"imageimageimage\", \"imageimageimage\", \"imageimageimage\", \"imageimageimage\", \"imageimageimage\", \"imageimageimage\", \"imagemore\", \"imagemore\", \"imagemore\", \"imagemore\", \"immediatement\", \"immediatement\", \"immediatement\", \"immediatement\", \"immediatement\", \"immediatement\", \"immediatement\", \"impact\", \"impact\", \"impact\", \"impact\", \"impact\", \"impact\", \"impact\", \"impact\", \"impact\", \"impact\", \"improvement\", \"improvement\", \"improvement\", \"improvement\", \"improvement\", \"improvement\", \"improvement\", \"improvement\", \"improvement\", \"improvement\", \"ina\", \"ina\", \"ina\", \"ina\", \"ina\", \"ina\", \"ina\", \"ina\", \"ina\", \"ina\", \"inc\", \"inc\", \"inc\", \"inc\", \"inc\", \"inc\", \"inc\", \"inc\", \"inc\", \"inc\", \"include\", \"include\", \"include\", \"include\", \"include\", \"include\", \"include\", \"include\", \"include\", \"include\", \"independent\", \"independent\", \"independent\", \"independent\", \"independent\", \"independent\", \"independent\", \"independent\", \"independent\", \"independent\", \"india\", \"india\", \"india\", \"india\", \"india\", \"india\", \"india\", \"india\", \"india\", \"india\", \"indian\", \"indian\", \"indian\", \"indian\", \"indian\", \"indian\", \"indian\", \"indian\", \"indian\", \"indian\", \"indias\", \"indias\", \"indias\", \"indias\", \"indias\", \"indias\", \"indias\", \"indias\", \"indias\", \"indias\", \"infomercial\", \"information\", \"information\", \"information\", \"information\", \"information\", \"information\", \"information\", \"information\", \"information\", \"information\", \"infoseek\", \"infoseek\", \"initiate\", \"initiate\", \"initiate\", \"initiate\", \"initiate\", \"initiate\", \"initiate\", \"initiate\", \"initiate\", \"initiate\", \"inquiriesinteractivewsjcom\", \"inquiriesinteractivewsjcom\", \"inspect\", \"inspect\", \"inspect\", \"inspect\", \"inspect\", \"inspect\", \"inspect\", \"instruction\", \"instruction\", \"instruction\", \"instruction\", \"instruction\", \"instruction\", \"instruction\", \"instruction\", \"instruction\", \"instruction\", \"instrument\", \"instrument\", \"instrument\", \"instrument\", \"instrument\", \"instrument\", \"instrument\", \"instrument\", \"instrument\", \"instrument\", \"intensity\", \"intensity\", \"intensity\", \"intensity\", \"intensity\", \"intensity\", \"intensity\", \"intensity\", \"intensity\", \"intensity\", \"interconnector\", \"interconnector\", \"interconnector\", \"interconnector\", \"interconnector\", \"internet\", \"internet\", \"internet\", \"internet\", \"internet\", \"internet\", \"internet\", \"internet\", \"internet\", \"internet\", \"investment\", \"investment\", \"investment\", \"investment\", \"investment\", \"investment\", \"investment\", \"investment\", \"investment\", \"investment\", \"investor\", \"investor\", \"investor\", \"investor\", \"investor\", \"investor\", \"investor\", \"investor\", \"investor\", \"investor\", \"iso\", \"iso\", \"iso\", \"iso\", \"iso\", \"iso\", \"iso\", \"iso\", \"iso\", \"iso\", \"itfs\", \"itfs\", \"itfs\", \"itfs\", \"iwon\", \"iwon\", \"iwon\", \"iwon\", \"iwon\", \"j\", \"j\", \"j\", \"j\", \"j\", \"j\", \"j\", \"j\", \"j\", \"j\", \"jake\", \"jake\", \"jake\", \"jake\", \"jake\", \"jake\", \"jake\", \"jake\", \"james\", \"james\", \"james\", \"james\", \"james\", \"james\", \"james\", \"james\", \"james\", \"james\", \"jan\", \"jan\", \"jan\", \"jan\", \"jan\", \"jan\", \"jan\", \"jan\", \"jan\", \"jan\", \"jay\", \"jay\", \"jay\", \"jay\", \"jay\", \"jay\", \"jay\", \"jay\", \"jay\", \"jay\", \"jeannine\", \"jeannine\", \"jeff\", \"jeff\", \"jeff\", \"jeff\", \"jeff\", \"jeff\", \"jeff\", \"jeff\", \"jeff\", \"jeff\", \"jeffbrenda\", \"jeffrey\", \"jeffrey\", \"jeffrey\", \"jeffrey\", \"jeffrey\", \"jeffrey\", \"jeffrey\", \"jeffrey\", \"jeffrey\", \"jeffrey\", \"jeffyoungfleshenroncom\", \"jeffyoungfleshenroncom\", \"jeffyoungfleshenroncom\", \"jeffyoungfleshenroncom\", \"jeffyoungfleshenroncom\", \"jen\", \"jen\", \"jen\", \"jen\", \"jen\", \"jen\", \"jen\", \"jen\", \"jen\", \"jen\", \"jennifer\", \"jennifer\", \"jennifer\", \"jennifer\", \"jennifer\", \"jennifer\", \"jennifer\", \"jennifer\", \"jennifer\", \"jennifer\", \"jerky\", \"jerky\", \"jf\", \"jf\", \"jf\", \"jf\", \"jfk\", \"jim\", \"jim\", \"jim\", \"jim\", \"jim\", \"jim\", \"jim\", \"jim\", \"jim\", \"jim\", \"jl\", \"john\", \"john\", \"john\", \"john\", \"john\", \"john\", \"john\", \"john\", \"john\", \"john\", \"johnarnoldenroncom\", \"johnarnoldenroncom\", \"johnarnoldenroncom\", \"johnarnoldenroncom\", \"johnarnoldenroncom\", \"johnarnoldenroncom\", \"johnarnoldenroncom\", \"johnarnoldenroncom\", \"johnarnoldenroncom\", \"johnarnoldenroncom\", \"johnnnyyou\", \"jointes\", \"jointes\", \"jointes\", \"jointes\", \"jointes\", \"jointes\", \"jointes\", \"jointes\", \"jonathan\", \"jonathan\", \"jonathan\", \"jonathan\", \"jonathan\", \"jonathan\", \"jonathan\", \"jonathan\", \"jonathan\", \"jonathan\", \"jonathon\", \"jonathon\", \"jones\", \"jones\", \"jones\", \"jones\", \"jones\", \"jones\", \"jones\", \"jones\", \"jones\", \"jones\", \"jpi\", \"jpi\", \"jpi\", \"jpi\", \"k\", \"k\", \"k\", \"k\", \"k\", \"k\", \"k\", \"k\", \"k\", \"k\", \"kal\", \"kal\", \"kdavismanfinancialcomenron\", \"kdavismanfinancialcomenron\", \"kdavismanfinancialcomenron\", \"kemplonectect\", \"kevin\", \"kevin\", \"kevin\", \"kevin\", \"kevin\", \"kevin\", \"kevin\", \"kevin\", \"kevin\", \"kevin\", \"kim\", \"kim\", \"kim\", \"kim\", \"kim\", \"kim\", \"kim\", \"kim\", \"kim\", \"kim\", \"kingsgate\", \"kingsgate\", \"kingsgate\", \"kingsgate\", \"know\", \"know\", \"know\", \"know\", \"know\", \"know\", \"know\", \"know\", \"know\", \"know\", \"kobra\", \"kwh\", \"kyoto\", \"kyoto\", \"kyoto\", \"kyoto\", \"kyoto\", \"l\", \"l\", \"l\", \"l\", \"l\", \"l\", \"l\", \"l\", \"l\", \"l\", \"ladwp\", \"ladwp\", \"lard\", \"le\", \"le\", \"le\", \"le\", \"le\", \"le\", \"le\", \"le\", \"le\", \"le\", \"leite\", \"leite\", \"leite\", \"leite\", \"leite\", \"leite\", \"leite\", \"leopold\", \"leopold\", \"leopold\", \"leopold\", \"leopold\", \"leopold\", \"leopold\", \"leopold\", \"leschber\", \"leschber\", \"let\", \"let\", \"let\", \"let\", \"let\", \"let\", \"let\", \"let\", \"let\", \"let\", \"lexpediteur\", \"lexpediteur\", \"lexpediteur\", \"lexpediteur\", \"lexpediteur\", \"lexpediteur\", \"lexpediteur\", \"lexpediteur\", \"librarycom\", \"librarycom\", \"librarycom\", \"librarycom\", \"librarycom\", \"librarycom\", \"librarycom\", \"librarycom\", \"like\", \"like\", \"like\", \"like\", \"like\", \"like\", \"like\", \"like\", \"like\", \"like\", \"link\", \"link\", \"link\", \"link\", \"link\", \"link\", \"link\", \"link\", \"link\", \"link\", \"lintention\", \"lintention\", \"lintention\", \"lintention\", \"lintention\", \"lintention\", \"lintention\", \"lintention\", \"linternet\", \"linternet\", \"linternet\", \"linternet\", \"linternet\", \"linternet\", \"linternet\", \"lisa\", \"lisa\", \"lisa\", \"lisa\", \"lisa\", \"lisa\", \"lisa\", \"lisa\", \"lisa\", \"lisa\", \"list\", \"list\", \"list\", \"list\", \"list\", \"list\", \"list\", \"list\", \"list\", \"list\", \"liszewski\", \"liszewski\", \"liszewski\", \"loan\", \"loan\", \"loan\", \"loan\", \"loan\", \"loan\", \"loan\", \"loan\", \"loan\", \"loan\", \"lodonnellspbankcom\", \"london\", \"london\", \"london\", \"london\", \"london\", \"london\", \"london\", \"london\", \"london\", \"london\", \"loss\", \"loss\", \"loss\", \"loss\", \"loss\", \"loss\", \"loss\", \"loss\", \"loss\", \"loss\", \"lutz\", \"lycos\", \"lycos\", \"lycos\", \"lycos\", \"lycos\", \"lycos\", \"lycos\", \"lycos\", \"m\", \"m\", \"m\", \"m\", \"m\", \"m\", \"m\", \"m\", \"m\", \"m\", \"mage\", \"mage\", \"mage\", \"mage\", \"mage\", \"mailer\", \"mailer\", \"mailtophillipkallenenroncom\", \"mailtophillipkallenenroncom\", \"mailtophillipkallenenroncom\", \"mailtophillipkallenenroncom\", \"mailtophillipkallenenroncom\", \"mailtophillipkallenenroncom\", \"mailtophillipkallenenroncom\", \"mailtophillipkallenenroncom\", \"mainzer\", \"mainzer\", \"mainzerpdxectect\", \"management\", \"management\", \"management\", \"management\", \"management\", \"management\", \"management\", \"management\", \"management\", \"management\", \"mapping\", \"mapping\", \"margaret\", \"margaret\", \"margaret\", \"margaret\", \"margaret\", \"margaret\", \"margaret\", \"margaret\", \"margaret\", \"margaret\", \"mark\", \"mark\", \"mark\", \"mark\", \"mark\", \"mark\", \"mark\", \"mark\", \"mark\", \"mark\", \"market\", \"market\", \"market\", \"market\", \"market\", \"market\", \"market\", \"market\", \"market\", \"market\", \"markintelligencepresscom\", \"masonry\", \"masterdisc\", \"masterdisc\", \"masterdisc\", \"masterdisc\", \"masterdisc\", \"matrix\", \"matrix\", \"matrix\", \"matrix\", \"matrix\", \"matrix\", \"matrix\", \"matrix\", \"matrix\", \"mattsmithenroncom\", \"mattsmithenroncom\", \"mattsmithenroncom\", \"maxdiscusazip\", \"mcdonaldsfectect\", \"mcdonaldsfectect\", \"mcdonaldsfectect\", \"mcdonaldsfectect\", \"mcleisheuenronenron\", \"mcnary\", \"meeting\", \"meeting\", \"meeting\", \"meeting\", \"meeting\", \"meeting\", \"meeting\", \"meeting\", \"meeting\", \"meeting\", \"merci\", \"merci\", \"merci\", \"merci\", \"merci\", \"merci\", \"merci\", \"message\", \"message\", \"message\", \"message\", \"message\", \"message\", \"message\", \"message\", \"message\", \"message\", \"michael\", \"michael\", \"michael\", \"michael\", \"michael\", \"michael\", \"michael\", \"michael\", \"michael\", \"michael\", \"michaelbyrneamericasbnpparibascom\", \"michaelbyrneamericasbnpparibascom\", \"michaelbyrneamericasbnpparibascom\", \"microturbine\", \"microturbine\", \"migration\", \"migration\", \"migration\", \"migration\", \"migration\", \"migration\", \"migration\", \"migration\", \"migration\", \"migration\", \"mike\", \"mike\", \"mike\", \"mike\", \"mike\", \"mike\", \"mike\", \"mike\", \"mike\", \"mike\", \"miles\", \"miles\", \"miles\", \"miles\", \"miles\", \"miles\", \"miles\", \"miles\", \"miles\", \"miles\", \"million\", \"million\", \"million\", \"million\", \"million\", \"million\", \"million\", \"million\", \"million\", \"million\", \"mime\", \"mime\", \"mimecompliant\", \"mimecompliant\", \"miniportfolios\", \"miniportfolios\", \"mkts\", \"mkts\", \"mkts\", \"mkts\", \"mkts\", \"mkts\", \"mkts\", \"mmbtus\", \"mmbtus\", \"monday\", \"monday\", \"monday\", \"monday\", \"monday\", \"monday\", \"monday\", \"monday\", \"monday\", \"monday\", \"month\", \"month\", \"month\", \"month\", \"month\", \"month\", \"month\", \"month\", \"month\", \"month\", \"morro\", \"morro\", \"morro\", \"morro\", \"msa\", \"msa\", \"msa\", \"msa\", \"msa\", \"msa\", \"multex\", \"multex\", \"multex\", \"multex\", \"multex\", \"multex\", \"multex\", \"multex\", \"multex\", \"multicinema\", \"munson\", \"munson\", \"munson\", \"munson\", \"munson\", \"munson\", \"munson\", \"munson\", \"nahoutrdhoustonpwrcommonelectric\", \"nahoutrdhoustonpwrcommonpowerregion\", \"nameserver\", \"nameserver\", \"nameserver\", \"nat\", \"nat\", \"nat\", \"nat\", \"nat\", \"nat\", \"nat\", \"nat\", \"nat\", \"nat\", \"natural\", \"natural\", \"natural\", \"natural\", \"natural\", \"natural\", \"natural\", \"natural\", \"natural\", \"natural\", \"navajo\", \"navajo\", \"nealhouect\", \"nealhouect\", \"nealhouect\", \"nealhouect\", \"nealhouect\", \"nealhouect\", \"need\", \"need\", \"need\", \"need\", \"need\", \"need\", \"need\", \"need\", \"need\", \"need\", \"neutrallt\", \"new\", \"new\", \"new\", \"new\", \"new\", \"new\", \"new\", \"new\", \"new\", \"new\", \"newark\", \"newark\", \"newark\", \"newark\", \"newark\", \"newark\", \"newark\", \"newark\", \"newark\", \"news\", \"news\", \"news\", \"news\", \"news\", \"news\", \"news\", \"news\", \"news\", \"news\", \"newsletter\", \"newsletter\", \"newsletter\", \"newsletter\", \"newsletter\", \"newsletter\", \"newsletter\", \"newsletter\", \"newsletter\", \"newsletter\", \"ng\", \"ng\", \"ng\", \"ng\", \"ng\", \"ng\", \"ng\", \"ng\", \"ng\", \"ng\", \"ngis\", \"ngis\", \"nj\", \"nj\", \"nj\", \"nj\", \"nj\", \"nj\", \"nj\", \"nj\", \"nj\", \"nj\", \"nonprivilegedbailey\", \"nonprivilegedbailey\", \"nonprivilegedbailey\", \"nonprivilegedbailey\", \"northwest\", \"northwest\", \"northwest\", \"northwest\", \"northwest\", \"northwest\", \"northwest\", \"northwest\", \"northwest\", \"northwest\", \"nosey\", \"nosey\", \"nosey\", \"not\", \"not\", \"not\", \"not\", \"not\", \"not\", \"not\", \"not\", \"not\", \"not\", \"number\", \"number\", \"number\", \"number\", \"number\", \"number\", \"number\", \"number\", \"number\", \"number\", \"nymex\", \"nymex\", \"nymex\", \"nymex\", \"nymex\", \"nymex\", \"nymex\", \"nymex\", \"nymex\", \"nymex\", \"october\", \"october\", \"october\", \"october\", \"october\", \"october\", \"october\", \"october\", \"october\", \"october\", \"offer\", \"offer\", \"offer\", \"offer\", \"offer\", \"offer\", \"offer\", \"offer\", \"offer\", \"offer\", \"officer\", \"officer\", \"officer\", \"officer\", \"officer\", \"officer\", \"officer\", \"officer\", \"officer\", \"officer\", \"offset\", \"offset\", \"offset\", \"offset\", \"offset\", \"offset\", \"offset\", \"offset\", \"offset\", \"offset\", \"ohpdxectect\", \"oil\", \"oil\", \"oil\", \"oil\", \"oil\", \"oil\", \"oil\", \"oil\", \"oil\", \"oil\", \"olive\", \"olive\", \"oncall\", \"oncall\", \"oncall\", \"oncall\", \"oncall\", \"oncall\", \"onebox\", \"onebox\", \"onebox\", \"onebox\", \"onebox\", \"onebox\", \"onebox\", \"onebox\", \"onepass\", \"onepass\", \"onepass\", \"onepass\", \"onepass\", \"onepass\", \"onepass\", \"onepass\", \"onepass\", \"online\", \"online\", \"online\", \"online\", \"online\", \"online\", \"online\", \"online\", \"online\", \"online\", \"opinion\", \"opinion\", \"opinion\", \"opinion\", \"opinion\", \"opinion\", \"opinion\", \"opinion\", \"opinion\", \"opinion\", \"orbits\", \"orbits\", \"orbits\", \"order\", \"order\", \"order\", \"order\", \"order\", \"order\", \"order\", \"order\", \"order\", \"order\", \"oregon\", \"oregon\", \"oregon\", \"oregon\", \"oregon\", \"oregon\", \"oregon\", \"oregon\", \"oregon\", \"oregon\", \"original\", \"original\", \"original\", \"original\", \"original\", \"original\", \"original\", \"original\", \"original\", \"original\", \"otmc\", \"otmc\", \"otmc\", \"otmc\", \"otmc\", \"otmc\", \"otmp\", \"otmp\", \"otmp\", \"otmp\", \"otmp\", \"otmp\", \"ou\", \"ou\", \"ou\", \"ou\", \"ou\", \"ou\", \"ou\", \"ou\", \"ou\", \"ou\", \"outage\", \"outage\", \"outage\", \"outage\", \"outage\", \"outage\", \"outage\", \"outage\", \"outage\", \"outage\", \"outlier\", \"outlier\", \"outlier\", \"outperform\", \"outperform\", \"outperform\", \"outperform\", \"outperform\", \"outperform\", \"ownernatgaswwwwwaesconcom\", \"padd\", \"padd\", \"padd\", \"page\", \"page\", \"page\", \"page\", \"page\", \"page\", \"page\", \"page\", \"page\", \"page\", \"pager\", \"pager\", \"pager\", \"pager\", \"pager\", \"pager\", \"pager\", \"pager\", \"pager\", \"pager\", \"painewebber\", \"painewebber\", \"painewebber\", \"painewebber\", \"painewebber\", \"painewebber\", \"painewebber\", \"painewebber\", \"painewebber\", \"par\", \"par\", \"par\", \"par\", \"par\", \"par\", \"par\", \"par\", \"par\", \"paribas\", \"paribas\", \"paribas\", \"paribas\", \"paribas\", \"paribas\", \"paribas\", \"paribas\", \"paribas\", \"parkerdrewmsdwcom\", \"parsippany\", \"parsippany\", \"parsippany\", \"participant\", \"participant\", \"participant\", \"participant\", \"participant\", \"participant\", \"participant\", \"participant\", \"participant\", \"participant\", \"partielle\", \"partielle\", \"partielle\", \"partielle\", \"partielle\", \"partielle\", \"partielle\", \"partielle\", \"partnership\", \"partnership\", \"partnership\", \"partnership\", \"partnership\", \"partnership\", \"partnership\", \"partnership\", \"partnership\", \"partnership\", \"pay\", \"pay\", \"pay\", \"pay\", \"pay\", \"pay\", \"pay\", \"pay\", \"pay\", \"pay\", \"peaker\", \"peaker\", \"peaker\", \"peaker\", \"peaker\", \"peaker\", \"peaker\", \"peaker\", \"peaker\", \"peaker\", \"pegasus\", \"pegasus\", \"pepl\", \"percent\", \"percent\", \"percent\", \"percent\", \"percent\", \"percent\", \"percent\", \"percent\", \"percent\", \"percent\", \"pergher\", \"pergher\", \"pergher\", \"pergher\", \"pergher\", \"pergher\", \"pergher\", \"pergher\", \"pergher\", \"pergher\", \"permettant\", \"permettant\", \"permettant\", \"permettant\", \"permettant\", \"permettant\", \"permettant\", \"permettant\", \"perrypdxectect\", \"petrello\", \"petrello\", \"petrochina\", \"petrochina\", \"petrochina\", \"petrochina\", \"petrochina\", \"petrochina\", \"petrochina\", \"petrochina\", \"petrochina\", \"pge\", \"pge\", \"pge\", \"pge\", \"pge\", \"pge\", \"pge\", \"pge\", \"pge\", \"pge\", \"phasing\", \"phasing\", \"phillip\", \"phillip\", \"phillip\", \"phillip\", \"phillip\", \"phillip\", \"phillip\", \"phillip\", \"phillip\", \"phillip\", \"physicalfinancial\", \"physicalfinancial\", \"physicalfinancial\", \"pickem\", \"pickem\", \"pickem\", \"pickem\", \"pickem\", \"picturetel\", \"pieces\", \"pieces\", \"pieces\", \"pieces\", \"pieces\", \"pieces\", \"pieces\", \"pielop\", \"pielop\", \"pipegas\", \"pl\", \"pl\", \"pl\", \"pl\", \"pl\", \"pl\", \"pl\", \"pl\", \"pl\", \"pl\", \"plant\", \"plant\", \"plant\", \"plant\", \"plant\", \"plant\", \"plant\", \"plant\", \"plant\", \"plant\", \"play\", \"play\", \"play\", \"play\", \"play\", \"play\", \"play\", \"play\", \"play\", \"play\", \"pm\", \"pm\", \"pm\", \"pm\", \"pm\", \"pm\", \"pm\", \"pm\", \"pm\", \"pm\", \"pmso\", \"pmso\", \"pmso\", \"pmso\", \"pookie\", \"pookie\", \"portfolio\", \"portfolio\", \"portfolio\", \"portfolio\", \"portfolio\", \"portfolio\", \"portfolio\", \"portfolio\", \"portfolio\", \"portfolio\", \"position\", \"position\", \"position\", \"position\", \"position\", \"position\", \"position\", \"position\", \"position\", \"position\", \"power\", \"power\", \"power\", \"power\", \"power\", \"power\", \"power\", \"power\", \"power\", \"power\", \"prank\", \"prank\", \"presold\", \"presold\", \"presold\", \"presold\", \"pretax\", \"pretax\", \"pretax\", \"pretax\", \"pretax\", \"pretax\", \"pretax\", \"pretax\", \"pretax\", \"price\", \"price\", \"price\", \"price\", \"price\", \"price\", \"price\", \"price\", \"price\", \"price\", \"procctrldeskcaisocom\", \"procedure\", \"procedure\", \"procedure\", \"procedure\", \"procedure\", \"procedure\", \"procedure\", \"procedure\", \"procedure\", \"procedure\", \"product\", \"product\", \"product\", \"product\", \"product\", \"product\", \"product\", \"product\", \"product\", \"product\", \"proformaphillip\", \"proformaphillip\", \"proformaphillip\", \"proformaphillip\", \"program\", \"program\", \"program\", \"program\", \"program\", \"program\", \"program\", \"program\", \"program\", \"program\", \"project\", \"project\", \"project\", \"project\", \"project\", \"project\", \"project\", \"project\", \"project\", \"project\", \"propt\", \"prorate\", \"psychological\", \"psychological\", \"psychological\", \"psytech\", \"psytech\", \"psytech\", \"psytech\", \"psytech\", \"psytech\", \"pt\", \"pt\", \"pt\", \"pt\", \"pt\", \"pt\", \"pt\", \"pt\", \"pt\", \"purchase\", \"purchase\", \"purchase\", \"purchase\", \"purchase\", \"purchase\", \"purchase\", \"purchase\", \"purchase\", \"purchase\", \"purpose\", \"purpose\", \"purpose\", \"purpose\", \"purpose\", \"purpose\", \"purpose\", \"purpose\", \"purpose\", \"purpose\", \"pyle\", \"pyle\", \"pyle\", \"pyle\", \"pyle\", \"pyle\", \"pyle\", \"qfs\", \"qfs\", \"qfs\", \"qfs\", \"qfs\", \"qfs\", \"qfs\", \"quarter\", \"quarter\", \"quarter\", \"quarter\", \"quarter\", \"quarter\", \"quarter\", \"quarter\", \"quarter\", \"quarter\", \"queue\", \"queue\", \"queue\", \"queue\", \"rahal\", \"rahal\", \"rahal\", \"rate\", \"rate\", \"rate\", \"rate\", \"rate\", \"rate\", \"rate\", \"rate\", \"rate\", \"rate\", \"rater\", \"rater\", \"rating\", \"rating\", \"rating\", \"rating\", \"rating\", \"rating\", \"rating\", \"rating\", \"rating\", \"rating\", \"realnetworks\", \"realnetworks\", \"receive\", \"receive\", \"receive\", \"receive\", \"receive\", \"receive\", \"receive\", \"receive\", \"receive\", \"receive\", \"recevez\", \"recevez\", \"recevez\", \"recevez\", \"recevez\", \"recevez\", \"recevez\", \"recevez\", \"recipient\", \"recipient\", \"recipient\", \"recipient\", \"recipient\", \"recipient\", \"recipient\", \"recipient\", \"recipient\", \"recipient\", \"recoupment\", \"recoupment\", \"recoupment\", \"recoupment\", \"recourse\", \"recourse\", \"redford\", \"redford\", \"register\", \"register\", \"register\", \"register\", \"register\", \"register\", \"register\", \"register\", \"register\", \"register\", \"reis\", \"reis\", \"reis\", \"reis\", \"reis\", \"reis\", \"reiten\", \"reiten\", \"reiten\", \"reiten\", \"reiten\", \"reiten\", \"reiten\", \"reliable\", \"reliable\", \"reliable\", \"reliable\", \"reliable\", \"reliable\", \"reliable\", \"reliable\", \"reliable\", \"reliable\", \"rentable\", \"rentroll\", \"rentroll\", \"rentroll\", \"rentroll\", \"rentroll\", \"rentroll\", \"rentroll\", \"rentroll\", \"rentroll\", \"report\", \"report\", \"report\", \"report\", \"report\", \"report\", \"report\", \"report\", \"report\", \"report\", \"request\", \"request\", \"request\", \"request\", \"request\", \"request\", \"request\", \"request\", \"request\", \"request\", \"requisite\", \"requisite\", \"requisite\", \"requisite\", \"requisite\", \"requisite\", \"requisite\", \"researchit\", \"researchit\", \"reserve\", \"reserve\", \"reserve\", \"reserve\", \"reserve\", \"reserve\", \"reserve\", \"reserve\", \"reserve\", \"reserve\", \"resistance\", \"resistance\", \"resistance\", \"resort\", \"resort\", \"resort\", \"resort\", \"resort\", \"resort\", \"resort\", \"resort\", \"resort\", \"resort\", \"resource\", \"resource\", \"resource\", \"resource\", \"resource\", \"resource\", \"resource\", \"resource\", \"resource\", \"resource\", \"responsibilitiesobligation\", \"responsibilitiesobligation\", \"responsibilitiesobligation\", \"restaurantmp\", \"restaurantmp\", \"retransmission\", \"retransmission\", \"retransmission\", \"retransmission\", \"retransmission\", \"retransmission\", \"retransmission\", \"retransmission\", \"reuters\", \"reuters\", \"reuters\", \"reuters\", \"reuters\", \"reuters\", \"reuters\", \"reuters\", \"reuters\", \"reuters\", \"rezoning\", \"rights\", \"rights\", \"rights\", \"rights\", \"rights\", \"rights\", \"rights\", \"rights\", \"rights\", \"rights\", \"robert\", \"robert\", \"robert\", \"robert\", \"robert\", \"robert\", \"robert\", \"robert\", \"robert\", \"robert\", \"rollout\", \"rollout\", \"rosmanhouectect\", \"rrobert\", \"rrobert\", \"s\", \"s\", \"s\", \"s\", \"s\", \"s\", \"s\", \"s\", \"s\", \"s\", \"sagel\", \"sagel\", \"sagel\", \"sagel\", \"sagel\", \"sagel\", \"sagel\", \"salespopswinecom\", \"salespopswinecom\", \"sanchez\", \"sanchez\", \"sanchez\", \"sanchez\", \"sanchez\", \"sanchez\", \"sanchez\", \"sanchez\", \"sanchez\", \"save\", \"save\", \"save\", \"save\", \"save\", \"save\", \"save\", \"save\", \"save\", \"save\", \"say\", \"say\", \"say\", \"say\", \"say\", \"say\", \"say\", \"say\", \"say\", \"say\", \"sayre\", \"sayre\", \"sayre\", \"sayre\", \"sayre\", \"sayre\", \"sayre\", \"schedule\", \"schedule\", \"schedule\", \"schedule\", \"schedule\", \"schedule\", \"schedule\", \"schedule\", \"schedule\", \"schedule\", \"scope\", \"scope\", \"scope\", \"scope\", \"scope\", \"scope\", \"scope\", \"scope\", \"scope\", \"scope\", \"scott\", \"scott\", \"scott\", \"scott\", \"scott\", \"scott\", \"scott\", \"scott\", \"scott\", \"scott\", \"sdge\", \"sdge\", \"sdge\", \"sdge\", \"sdge\", \"sdge\", \"sdge\", \"sdge\", \"sdge\", \"sdge\", \"sell\", \"sell\", \"sell\", \"sell\", \"sell\", \"sell\", \"sell\", \"sell\", \"sell\", \"sell\", \"send\", \"send\", \"send\", \"send\", \"send\", \"send\", \"send\", \"send\", \"send\", \"send\", \"server\", \"server\", \"server\", \"server\", \"server\", \"server\", \"server\", \"server\", \"server\", \"server\", \"service\", \"service\", \"service\", \"service\", \"service\", \"service\", \"service\", \"service\", \"service\", \"service\", \"ses\", \"ses\", \"ses\", \"ses\", \"ses\", \"ses\", \"ses\", \"ses\", \"settlement\", \"settlement\", \"settlement\", \"settlement\", \"settlement\", \"settlement\", \"settlement\", \"settlement\", \"settlement\", \"settlement\", \"share\", \"share\", \"share\", \"share\", \"share\", \"share\", \"share\", \"share\", \"share\", \"share\", \"shari\", \"shari\", \"shari\", \"shari\", \"shari\", \"shari\", \"sheraton\", \"sheraton\", \"sheraton\", \"sheraton\", \"sheraton\", \"sheraton\", \"sheraton\", \"sheraton\", \"sheraton\", \"sheraton\", \"shivelyhouect\", \"shivelyhouect\", \"shivelyhouect\", \"shivelyhouect\", \"shivelyhouect\", \"shivelyhouect\", \"showtime\", \"showtime\", \"showtime\", \"showtime\", \"showtimes\", \"showtimes\", \"showtimes\", \"si\", \"si\", \"si\", \"si\", \"si\", \"si\", \"si\", \"si\", \"si\", \"si\", \"sic\", \"sic\", \"sic\", \"sic\", \"sic\", \"sic\", \"sichuan\", \"sichuan\", \"sit\", \"sit\", \"sit\", \"sit\", \"sit\", \"sit\", \"sit\", \"sit\", \"sit\", \"sit\", \"sitara\", \"sitara\", \"sitara\", \"sitara\", \"sitara\", \"sitara\", \"sitara\", \"sitara\", \"site\", \"site\", \"site\", \"site\", \"site\", \"site\", \"site\", \"site\", \"site\", \"site\", \"skew\", \"skew\", \"skew\", \"skew\", \"skew\", \"skew\", \"skew\", \"skew\", \"skogsagarna\", \"skogsagarna\", \"skogsagarna\", \"skogsagarna\", \"skogsagarna\", \"slafontaineglobalpcom\", \"slafontaineglobalpcom\", \"slafontaineglobalpcom\", \"slafontaineglobalpcom\", \"slafontaineglobalpcom\", \"slafontaineglobalpcom\", \"slafontaineglobalpcom\", \"slafontaineglobalpcom\", \"slafontaineglobalpcom\", \"slafontaineglobalpcom\", \"slaughterenron\", \"slaughterenrondevelopmentenrondevelopment\", \"slb\", \"sme\", \"sme\", \"sme\", \"sme\", \"sme\", \"sme\", \"sme\", \"sme\", \"sme\", \"smiley\", \"smiley\", \"soblandercarrfutcom\", \"soblandercarrfutcom\", \"soblandercarrfutcom\", \"soblandercarrfutcom\", \"soblandercarrfutcom\", \"soblandercarrfutcom\", \"soblandercarrfutcom\", \"soblandercarrfutcom\", \"solicitation\", \"solicitation\", \"solicitation\", \"solicitation\", \"solicitation\", \"solicitation\", \"solicitation\", \"solicitation\", \"solicitation\", \"solicitation\", \"sont\", \"sont\", \"sont\", \"sont\", \"sont\", \"sont\", \"sont\", \"sont\", \"sore\", \"soundview\", \"spb\", \"special\", \"special\", \"special\", \"special\", \"special\", \"special\", \"special\", \"special\", \"special\", \"special\", \"spectator\", \"spectator\", \"spectator\", \"spectator\", \"spectator\", \"spectator\", \"spectator\", \"spectator\", \"spectator\", \"sph\", \"sponsorship\", \"sponsorship\", \"sponsorship\", \"sponsorship\", \"sponsorship\", \"sponsorship\", \"sponsorship\", \"spread\", \"spread\", \"spread\", \"spread\", \"spread\", \"spread\", \"spread\", \"spread\", \"spread\", \"spread\", \"sprint\", \"sprint\", \"sprint\", \"sprint\", \"sprint\", \"sprint\", \"sprint\", \"sr\", \"sr\", \"sr\", \"sr\", \"sr\", \"sr\", \"sr\", \"sr\", \"sr\", \"sr\", \"stake\", \"stake\", \"stake\", \"stake\", \"stake\", \"stake\", \"stake\", \"stake\", \"stake\", \"stake\", \"starpoint\", \"starwood\", \"starwood\", \"starwood\", \"starwood\", \"starwood\", \"starwood\", \"state\", \"state\", \"state\", \"state\", \"state\", \"state\", \"state\", \"state\", \"state\", \"state\", \"statoil\", \"std\", \"std\", \"std\", \"std\", \"std\", \"std\", \"steed\", \"steed\", \"steis\", \"steis\", \"steve\", \"steve\", \"steve\", \"steve\", \"steve\", \"steve\", \"steve\", \"steve\", \"steve\", \"steve\", \"stock\", \"stock\", \"stock\", \"stock\", \"stock\", \"stock\", \"stock\", \"stock\", \"stock\", \"stock\", \"strategic\", \"strategic\", \"strategic\", \"strategic\", \"strategic\", \"strategic\", \"strategic\", \"strategic\", \"strategic\", \"strategic\", \"stress\", \"stress\", \"stress\", \"stress\", \"stress\", \"stress\", \"stress\", \"stress\", \"stress\", \"stress\", \"strong\", \"strong\", \"strong\", \"strong\", \"strong\", \"strong\", \"strong\", \"strong\", \"strong\", \"strong\", \"stucco\", \"stucco\", \"stucco\", \"stucco\", \"subject\", \"subject\", \"subject\", \"subject\", \"subject\", \"subject\", \"subject\", \"subject\", \"subject\", \"subject\", \"subscribe\", \"subscribe\", \"subscribe\", \"subscribe\", \"subscribe\", \"subscribe\", \"subscribe\", \"subscribe\", \"subscribe\", \"subscribe\", \"sun\", \"sun\", \"sun\", \"sun\", \"sun\", \"sun\", \"sun\", \"sun\", \"sun\", \"sun\", \"sunday\", \"sunday\", \"sunday\", \"sunday\", \"sunday\", \"sunday\", \"sunday\", \"sunday\", \"sunday\", \"sunday\", \"superpeak\", \"superpeak\", \"superpeak\", \"supply\", \"supply\", \"supply\", \"supply\", \"supply\", \"supply\", \"supply\", \"supply\", \"supply\", \"supply\", \"susan\", \"susan\", \"susan\", \"susan\", \"susan\", \"susan\", \"susan\", \"susan\", \"susan\", \"susan\", \"susanbailey\", \"susanbailey\", \"susanbailey\", \"susanbailey\", \"susanbailey\", \"susanbailey\", \"switching\", \"switching\", \"switching\", \"switching\", \"switching\", \"switching\", \"switching\", \"switching\", \"switching\", \"switching\", \"synthetic\", \"synthetic\", \"synthetic\", \"synthetic\", \"synthetic\", \"synthetic\", \"synthetic\", \"synthetic\", \"synthetic\", \"system\", \"system\", \"system\", \"system\", \"system\", \"system\", \"system\", \"system\", \"system\", \"system\", \"t\", \"t\", \"t\", \"t\", \"t\", \"t\", \"t\", \"t\", \"t\", \"t\", \"tail\", \"tail\", \"tail\", \"tail\", \"tail\", \"tail\", \"tail\", \"tasting\", \"tasting\", \"tasting\", \"tasting\", \"tasting\", \"tasting\", \"tasting\", \"tasting\", \"tasting\", \"tata\", \"tata\", \"tata\", \"tata\", \"tata\", \"tata\", \"tata\", \"tata\", \"tata\", \"tata\", \"tds\", \"tds\", \"tds\", \"tds\", \"tds\", \"tds\", \"tds\", \"tds\", \"tds\", \"techcontactname\", \"telephonic\", \"telephonic\", \"telephonic\", \"telephonic\", \"term\", \"term\", \"term\", \"term\", \"term\", \"term\", \"term\", \"term\", \"term\", \"term\", \"thank\", \"thank\", \"thank\", \"thank\", \"thank\", \"thank\", \"thank\", \"thank\", \"thank\", \"thank\", \"thief\", \"thief\", \"think\", \"think\", \"think\", \"think\", \"think\", \"think\", \"think\", \"think\", \"think\", \"think\", \"tickleknees\", \"tickleless\", \"tim\", \"tim\", \"tim\", \"tim\", \"tim\", \"tim\", \"tim\", \"tim\", \"tim\", \"tim\", \"time\", \"time\", \"time\", \"time\", \"time\", \"time\", \"time\", \"time\", \"time\", \"time\", \"times\", \"times\", \"times\", \"times\", \"times\", \"times\", \"times\", \"times\", \"times\", \"times\", \"tix\", \"tix\", \"tix\", \"tix\", \"tix\", \"tix\", \"tix\", \"tix\", \"tix\", \"totale\", \"totale\", \"totale\", \"totale\", \"totale\", \"totale\", \"totale\", \"totale\", \"toute\", \"toute\", \"toute\", \"toute\", \"toute\", \"toute\", \"toute\", \"toute\", \"tracker\", \"tracker\", \"tracker\", \"tracker\", \"tracker\", \"tracker\", \"trade\", \"trade\", \"trade\", \"trade\", \"trade\", \"trade\", \"trade\", \"trade\", \"trade\", \"trade\", \"trademark\", \"trademark\", \"trademark\", \"trademark\", \"trademark\", \"trademark\", \"trademark\", \"trademark\", \"trader\", \"trader\", \"trader\", \"trader\", \"trader\", \"trader\", \"trader\", \"trader\", \"trader\", \"trader\", \"trading\", \"trading\", \"trading\", \"trading\", \"trading\", \"trading\", \"trading\", \"trading\", \"trading\", \"trading\", \"ttc\", \"ttc\", \"ttc\", \"tutor\", \"tutor\", \"tutor\", \"tyfv\", \"tyh\", \"tyh\", \"ubspainewebber\", \"ubspainewebber\", \"ubspainewebber\", \"ubspainewebber\", \"ubspainewebber\", \"ubspainewebber\", \"ubspainewebber\", \"ufe\", \"ufe\", \"ufe\", \"ufe\", \"ufe\", \"ufe\", \"ufe\", \"understating\", \"undervalue\", \"unify\", \"unify\", \"unify\", \"unify\", \"unify\", \"unify\", \"unify\", \"unify\", \"unintentionally\", \"universal\", \"universal\", \"universal\", \"universal\", \"universal\", \"universal\", \"universal\", \"universal\", \"universal\", \"unleade\", \"unleade\", \"unleade\", \"unleade\", \"unleade\", \"unsubscribe\", \"unsubscribe\", \"unsubscribe\", \"unsubscribe\", \"unsubscribe\", \"unsubscribe\", \"unsubscribe\", \"unsubscribe\", \"unsubscribe\", \"unsubscribe\", \"update\", \"update\", \"update\", \"update\", \"update\", \"update\", \"update\", \"update\", \"update\", \"update\", \"upgradedowngrade\", \"upgradedowngrade\", \"upgradesdowngradescoverage\", \"upgradesdowngradescoverage\", \"upstreamecommerce\", \"ush\", \"utilicorp\", \"utilicorp\", \"utilicorp\", \"utilicorp\", \"utilicorp\", \"utilicorp\", \"utilicorp\", \"utilicorp\", \"utilicorp\", \"utilisation\", \"utilisation\", \"utilisation\", \"utilisation\", \"utilisation\", \"utilisation\", \"utilisation\", \"utilisation\", \"utility\", \"utility\", \"utility\", \"utility\", \"utility\", \"utility\", \"utility\", \"utility\", \"utility\", \"utility\", \"var\", \"var\", \"var\", \"var\", \"var\", \"var\", \"var\", \"var\", \"var\", \"var\", \"velocity\", \"velocity\", \"ver\", \"ver\", \"ver\", \"ver\", \"ver\", \"ver\", \"ver\", \"ver\", \"ver\", \"ver\", \"visit\", \"visit\", \"visit\", \"visit\", \"visit\", \"visit\", \"visit\", \"visit\", \"visit\", \"visit\", \"vlady\", \"vlady\", \"vlady\", \"vlady\", \"vol\", \"vol\", \"vol\", \"vol\", \"vol\", \"vol\", \"vol\", \"vol\", \"vol\", \"vol\", \"votruba\", \"votruba\", \"vous\", \"vous\", \"vous\", \"vous\", \"vous\", \"vous\", \"vous\", \"vous\", \"vulcan\", \"vulcan\", \"w\", \"w\", \"w\", \"w\", \"w\", \"w\", \"w\", \"w\", \"w\", \"w\", \"wacker\", \"wacker\", \"wacker\", \"wacker\", \"wacker\", \"wacker\", \"wacker\", \"wacker\", \"wager\", \"wager\", \"wager\", \"wager\", \"wager\", \"wager\", \"want\", \"want\", \"want\", \"want\", \"want\", \"want\", \"want\", \"want\", \"want\", \"want\", \"ward\", \"ward\", \"ward\", \"ward\", \"ward\", \"ward\", \"ward\", \"ward\", \"ward\", \"ward\", \"wardenronenronxgate\", \"wardenronenronxgate\", \"wardenronenronxgate\", \"web\", \"web\", \"web\", \"web\", \"web\", \"web\", \"web\", \"web\", \"web\", \"web\", \"websupportmoneynetcom\", \"websupportmoneynetcom\", \"week\", \"week\", \"week\", \"week\", \"week\", \"week\", \"week\", \"week\", \"week\", \"week\", \"wessels\", \"wessels\", \"westgasx\", \"westgate\", \"westgate\", \"westgate\", \"westgate\", \"westgate\", \"westgate\", \"westgate\", \"westgate\", \"wine\", \"wine\", \"wine\", \"wine\", \"wine\", \"wine\", \"wine\", \"wine\", \"wine\", \"wine\", \"wineisitcom\", \"wineisitcom\", \"wineisitcom\", \"wininger\", \"wininger\", \"work\", \"work\", \"work\", \"work\", \"work\", \"work\", \"work\", \"work\", \"work\", \"work\", \"wtibrent\", \"wtibrent\", \"wtibrent\", \"wtibrent\", \"wv\", \"wv\", \"wwwcapitolconnectionorg\", \"wwwsailmainecoastcomindexhtml\", \"wwwsailmainecoastcomindexhtml\", \"wwwwwaesconcom\", \"xcc\", \"xcc\", \"xcc\", \"xcc\", \"xcc\", \"xcc\", \"xcc\", \"xcc\", \"xcc\", \"xcc\", \"xfilename\", \"xfilename\", \"xfilename\", \"xfilename\", \"xfilename\", \"xfilename\", \"xfilename\", \"xfilename\", \"xfilename\", \"xfilename\", \"xfrom\", \"xfrom\", \"xfrom\", \"xfrom\", \"xfrom\", \"xfrom\", \"xfrom\", \"xfrom\", \"xfrom\", \"xfrom\", \"xorigin\", \"xorigin\", \"xorigin\", \"xorigin\", \"xorigin\", \"xorigin\", \"xorigin\", \"xorigin\", \"xorigin\", \"xorigin\", \"xto\", \"xto\", \"xto\", \"xto\", \"xto\", \"xto\", \"xto\", \"xto\", \"xto\", \"xto\", \"yahoo\", \"yahoo\", \"yahoo\", \"yahoo\", \"yahoo\", \"yahoo\", \"yahoo\", \"yahoo\", \"yahoo\", \"yahoo\", \"yarger\", \"yarger\", \"year\", \"year\", \"year\", \"year\", \"year\", \"year\", \"year\", \"year\", \"year\", \"year\", \"yes\", \"yes\", \"yes\", \"yes\", \"yes\", \"yes\", \"yes\", \"yes\", \"yes\", \"yes\", \"yippee\", \"yippee\", \"yippee\", \"yippee\", \"york\", \"york\", \"york\", \"york\", \"york\", \"york\", \"york\", \"york\", \"york\", \"york\", \"youngflesh\", \"youngflesh\", \"youngflesh\", \"youngflesh\", \"youngflesh\", \"youngflesh\", \"youngflesh\", \"youngfleshnaenron\", \"youngfleshnaenron\", \"youngfleshnaenron\", \"youngfleshnaenron\", \"youngfleshnaenron\", \"youngfleshnaenron\", \"zahn\", \"zhucorpenronenron\", \"zhucorpenronenron\"]}, \"R\": 30, \"lambda.step\": 0.01, \"plot.opts\": {\"xlab\": \"PC1\", \"ylab\": \"PC2\"}, \"topic.order\": [4, 10, 8, 3, 9, 2, 6, 7, 1, 5]};\n",
       "\n",
       "function LDAvis_load_lib(url, callback){\n",
       "  var s = document.createElement('script');\n",
       "  s.src = url;\n",
       "  s.async = true;\n",
       "  s.onreadystatechange = s.onload = callback;\n",
       "  s.onerror = function(){console.warn(\"failed to load library \" + url);};\n",
       "  document.getElementsByTagName(\"head\")[0].appendChild(s);\n",
       "}\n",
       "\n",
       "if(typeof(LDAvis) !== \"undefined\"){\n",
       "   // already loaded: just create the visualization\n",
       "   !function(LDAvis){\n",
       "       new LDAvis(\"#\" + \"ldavis_el1569614476022861684687356105\", ldavis_el1569614476022861684687356105_data);\n",
       "   }(LDAvis);\n",
       "}else if(typeof define === \"function\" && define.amd){\n",
       "   // require.js is available: use it to load d3/LDAvis\n",
       "   require.config({paths: {d3: \"https://cdnjs.cloudflare.com/ajax/libs/d3/3.5.5/d3.min\"}});\n",
       "   require([\"d3\"], function(d3){\n",
       "      window.d3 = d3;\n",
       "      LDAvis_load_lib(\"https://cdn.rawgit.com/bmabey/pyLDAvis/files/ldavis.v1.0.0.js\", function(){\n",
       "        new LDAvis(\"#\" + \"ldavis_el1569614476022861684687356105\", ldavis_el1569614476022861684687356105_data);\n",
       "      });\n",
       "    });\n",
       "}else{\n",
       "    // require.js not available: dynamically load d3 & LDAvis\n",
       "    LDAvis_load_lib(\"https://cdnjs.cloudflare.com/ajax/libs/d3/3.5.5/d3.min.js\", function(){\n",
       "         LDAvis_load_lib(\"https://cdn.rawgit.com/bmabey/pyLDAvis/files/ldavis.v1.0.0.js\", function(){\n",
       "                 new LDAvis(\"#\" + \"ldavis_el1569614476022861684687356105\", ldavis_el1569614476022861684687356105_data);\n",
       "            })\n",
       "         });\n",
       "}\n",
       "</script>"
      ],
      "text/plain": [
       "PreparedData(topic_coordinates=              x         y  topics  cluster       Freq\n",
       "topic                                                \n",
       "3      0.126297 -0.028383       1        1  21.510813\n",
       "9     -0.108838 -0.039004       2        1  12.054223\n",
       "7      0.037225  0.012716       3        1  10.339917\n",
       "2      0.070033  0.061483       4        1   9.699424\n",
       "8     -0.026917  0.029483       5        1   9.177303\n",
       "1     -0.082468 -0.018618       6        1   8.680783\n",
       "5     -0.072151 -0.017913       7        1   8.122004\n",
       "6      0.034251  0.082568       8        1   7.828666\n",
       "0     -0.060426  0.024187       9        1   7.370648\n",
       "4      0.082994 -0.106519      10        1   5.216215, topic_info=            Term          Freq         Total Category  logprob  loglift\n",
       "2674       image   3771.000000   3771.000000  Default  30.0000  30.0000\n",
       "173           pm   8657.000000   8657.000000  Default  29.0000  29.0000\n",
       "208        enron  10981.000000  10981.000000  Default  28.0000  28.0000\n",
       "193      subject   7851.000000   7851.000000  Default  27.0000  27.0000\n",
       "77          john   7390.000000   7390.000000  Default  26.0000  26.0000\n",
       "...          ...           ...           ...      ...      ...      ...\n",
       "975         week    178.394028   2996.066162  Topic10  -5.8513   0.1323\n",
       "134       energy    183.774872   3757.713623  Topic10  -5.8216  -0.0645\n",
       "57             s    177.149933   3793.090820  Topic10  -5.8583  -0.1105\n",
       "746   investment    139.171432   1173.970093  Topic10  -6.0996   0.8210\n",
       "759   management    140.704025   1397.125244  Topic10  -6.0887   0.6579\n",
       "\n",
       "[943 rows x 6 columns], token_table=       Topic      Freq               Term\n",
       "term                                     \n",
       "90         1  0.051016                   \n",
       "90         2  0.115797                   \n",
       "90         3  0.091504                   \n",
       "90         4  0.057494                   \n",
       "90         5  0.063972                   \n",
       "...      ...       ...                ...\n",
       "11452      7  0.017110  youngfleshnaenron\n",
       "11452      9  0.068439  youngfleshnaenron\n",
       "6310       9  0.895682               zahn\n",
       "9598       2  0.056781  zhucorpenronenron\n",
       "9598       6  0.908502  zhucorpenronenron\n",
       "\n",
       "[4900 rows x 3 columns], R=30, lambda_step=0.01, plot_opts={'xlab': 'PC1', 'ylab': 'PC2'}, topic_order=[4, 10, 8, 3, 9, 2, 6, 7, 1, 5])"
      ]
     },
     "execution_count": 44,
     "metadata": {},
     "output_type": "execute_result"
    }
   ],
   "source": [
    "import pyLDAvis.gensim\n",
    "\n",
    "pyLDAvis.enable_notebook()\n",
    "\n",
    "pyLDAvis.gensim.prepare(model, corpus, id2word)"
   ]
  },
  {
   "cell_type": "code",
   "execution_count": 47,
   "metadata": {
    "colab": {},
    "colab_type": "code",
    "id": "Mu0vqgx1YZuh"
   },
   "outputs": [],
   "source": [
    "#'corpus'\n",
    "\n",
    "distro = [lda[d] for d in corpus]\n",
    "\n",
    "num_topics = 20\n",
    "\n",
    "def update(doc):\n",
    "        d_dist = {k:0 for k in range(0,num_topics)}\n",
    "        for topic in doc:\n",
    "            d_dist[topic[0]] = topic[1]\n",
    "        return d_dist\n",
    "    \n",
    "new_distro = [update(d) for d in distro]"
   ]
  },
  {
   "cell_type": "code",
   "execution_count": 48,
   "metadata": {
    "colab": {
     "base_uri": "https://localhost:8080/",
     "height": 195
    },
    "colab_type": "code",
    "id": "wzRj8c1_3SJD",
    "outputId": "e76bb55d-9600-4a9b-db38-2762514ae18c"
   },
   "outputs": [
    {
     "data": {
      "text/html": [
       "<div>\n",
       "<style scoped>\n",
       "    .dataframe tbody tr th:only-of-type {\n",
       "        vertical-align: middle;\n",
       "    }\n",
       "\n",
       "    .dataframe tbody tr th {\n",
       "        vertical-align: top;\n",
       "    }\n",
       "\n",
       "    .dataframe thead th {\n",
       "        text-align: right;\n",
       "    }\n",
       "</style>\n",
       "<table border=\"1\" class=\"dataframe\">\n",
       "  <thead>\n",
       "    <tr style=\"text-align: right;\">\n",
       "      <th></th>\n",
       "      <th>0</th>\n",
       "      <th>1</th>\n",
       "      <th>2</th>\n",
       "      <th>3</th>\n",
       "      <th>4</th>\n",
       "      <th>5</th>\n",
       "      <th>6</th>\n",
       "      <th>7</th>\n",
       "      <th>8</th>\n",
       "      <th>9</th>\n",
       "      <th>10</th>\n",
       "      <th>11</th>\n",
       "      <th>12</th>\n",
       "      <th>13</th>\n",
       "      <th>14</th>\n",
       "      <th>15</th>\n",
       "      <th>16</th>\n",
       "      <th>17</th>\n",
       "      <th>18</th>\n",
       "      <th>19</th>\n",
       "    </tr>\n",
       "  </thead>\n",
       "  <tbody>\n",
       "    <tr>\n",
       "      <th>0</th>\n",
       "      <td>0.533262</td>\n",
       "      <td>0.033338</td>\n",
       "      <td>0.033339</td>\n",
       "      <td>0.033338</td>\n",
       "      <td>0.033338</td>\n",
       "      <td>0.033339</td>\n",
       "      <td>0.033338</td>\n",
       "      <td>0.033338</td>\n",
       "      <td>0.033338</td>\n",
       "      <td>0.033338</td>\n",
       "      <td>0.033338</td>\n",
       "      <td>0.033338</td>\n",
       "      <td>0.033338</td>\n",
       "      <td>0.033338</td>\n",
       "      <td>0.033338</td>\n",
       "      <td>0</td>\n",
       "      <td>0</td>\n",
       "      <td>0</td>\n",
       "      <td>0</td>\n",
       "      <td>0</td>\n",
       "    </tr>\n",
       "    <tr>\n",
       "      <th>1</th>\n",
       "      <td>0.000000</td>\n",
       "      <td>0.000000</td>\n",
       "      <td>0.000000</td>\n",
       "      <td>0.000000</td>\n",
       "      <td>0.000000</td>\n",
       "      <td>0.000000</td>\n",
       "      <td>0.254014</td>\n",
       "      <td>0.057987</td>\n",
       "      <td>0.000000</td>\n",
       "      <td>0.000000</td>\n",
       "      <td>0.000000</td>\n",
       "      <td>0.000000</td>\n",
       "      <td>0.000000</td>\n",
       "      <td>0.674644</td>\n",
       "      <td>0.000000</td>\n",
       "      <td>0</td>\n",
       "      <td>0</td>\n",
       "      <td>0</td>\n",
       "      <td>0</td>\n",
       "      <td>0</td>\n",
       "    </tr>\n",
       "    <tr>\n",
       "      <th>2</th>\n",
       "      <td>0.016672</td>\n",
       "      <td>0.016672</td>\n",
       "      <td>0.016672</td>\n",
       "      <td>0.016672</td>\n",
       "      <td>0.016672</td>\n",
       "      <td>0.016672</td>\n",
       "      <td>0.016672</td>\n",
       "      <td>0.016672</td>\n",
       "      <td>0.016672</td>\n",
       "      <td>0.016672</td>\n",
       "      <td>0.016672</td>\n",
       "      <td>0.016672</td>\n",
       "      <td>0.544639</td>\n",
       "      <td>0.238629</td>\n",
       "      <td>0.016672</td>\n",
       "      <td>0</td>\n",
       "      <td>0</td>\n",
       "      <td>0</td>\n",
       "      <td>0</td>\n",
       "      <td>0</td>\n",
       "    </tr>\n",
       "    <tr>\n",
       "      <th>3</th>\n",
       "      <td>0.000000</td>\n",
       "      <td>0.000000</td>\n",
       "      <td>0.000000</td>\n",
       "      <td>0.000000</td>\n",
       "      <td>0.503204</td>\n",
       "      <td>0.000000</td>\n",
       "      <td>0.442610</td>\n",
       "      <td>0.000000</td>\n",
       "      <td>0.000000</td>\n",
       "      <td>0.000000</td>\n",
       "      <td>0.000000</td>\n",
       "      <td>0.000000</td>\n",
       "      <td>0.000000</td>\n",
       "      <td>0.000000</td>\n",
       "      <td>0.000000</td>\n",
       "      <td>0</td>\n",
       "      <td>0</td>\n",
       "      <td>0</td>\n",
       "      <td>0</td>\n",
       "      <td>0</td>\n",
       "    </tr>\n",
       "    <tr>\n",
       "      <th>4</th>\n",
       "      <td>0.016670</td>\n",
       "      <td>0.016670</td>\n",
       "      <td>0.016670</td>\n",
       "      <td>0.016670</td>\n",
       "      <td>0.016670</td>\n",
       "      <td>0.016670</td>\n",
       "      <td>0.766621</td>\n",
       "      <td>0.016670</td>\n",
       "      <td>0.016670</td>\n",
       "      <td>0.016670</td>\n",
       "      <td>0.016670</td>\n",
       "      <td>0.016670</td>\n",
       "      <td>0.016670</td>\n",
       "      <td>0.016670</td>\n",
       "      <td>0.016670</td>\n",
       "      <td>0</td>\n",
       "      <td>0</td>\n",
       "      <td>0</td>\n",
       "      <td>0</td>\n",
       "      <td>0</td>\n",
       "    </tr>\n",
       "  </tbody>\n",
       "</table>\n",
       "</div>"
      ],
      "text/plain": [
       "         0         1         2         3         4         5         6   \\\n",
       "0  0.533262  0.033338  0.033339  0.033338  0.033338  0.033339  0.033338   \n",
       "1  0.000000  0.000000  0.000000  0.000000  0.000000  0.000000  0.254014   \n",
       "2  0.016672  0.016672  0.016672  0.016672  0.016672  0.016672  0.016672   \n",
       "3  0.000000  0.000000  0.000000  0.000000  0.503204  0.000000  0.442610   \n",
       "4  0.016670  0.016670  0.016670  0.016670  0.016670  0.016670  0.766621   \n",
       "\n",
       "         7         8         9         10        11        12        13  \\\n",
       "0  0.033338  0.033338  0.033338  0.033338  0.033338  0.033338  0.033338   \n",
       "1  0.057987  0.000000  0.000000  0.000000  0.000000  0.000000  0.674644   \n",
       "2  0.016672  0.016672  0.016672  0.016672  0.016672  0.544639  0.238629   \n",
       "3  0.000000  0.000000  0.000000  0.000000  0.000000  0.000000  0.000000   \n",
       "4  0.016670  0.016670  0.016670  0.016670  0.016670  0.016670  0.016670   \n",
       "\n",
       "         14  15  16  17  18  19  \n",
       "0  0.033338   0   0   0   0   0  \n",
       "1  0.000000   0   0   0   0   0  \n",
       "2  0.016672   0   0   0   0   0  \n",
       "3  0.000000   0   0   0   0   0  \n",
       "4  0.016670   0   0   0   0   0  "
      ]
     },
     "execution_count": 48,
     "metadata": {},
     "output_type": "execute_result"
    }
   ],
   "source": [
    "#Correlated\n",
    "topics = pd.DataFrame.from_records(new_distro)\n",
    "topics.head()"
   ]
  },
  {
   "cell_type": "code",
   "execution_count": 49,
   "metadata": {
    "colab": {},
    "colab_type": "code",
    "id": "mEFICbWM3UjZ"
   },
   "outputs": [
    {
     "data": {
      "text/plain": [
       "count    10000.000000\n",
       "mean         8.098700\n",
       "std          3.887399\n",
       "min          0.000000\n",
       "25%          5.000000\n",
       "50%          8.000000\n",
       "75%         12.000000\n",
       "max         14.000000\n",
       "Name: email_body, dtype: float64"
      ]
     },
     "execution_count": 49,
     "metadata": {},
     "output_type": "execute_result"
    }
   ],
   "source": [
    "df['email_body'] = topics.idxmax(axis=1)\n",
    "\n",
    "#Topic  \n",
    "df['email_body'].describe()"
   ]
  },
  {
   "cell_type": "code",
   "execution_count": 50,
   "metadata": {
    "colab": {
     "base_uri": "https://localhost:8080/",
     "height": 286
    },
    "colab_type": "code",
    "id": "zcoAl52wZ2ac",
    "outputId": "b5b481a1-352e-4cdd-a6a3-6f0dde9faf14"
   },
   "outputs": [
    {
     "data": {
      "text/plain": [
       "13    1737\n",
       "9     1437\n",
       "6     1060\n",
       "5      888\n",
       "4      863\n",
       "8      780\n",
       "12     717\n",
       "1      464\n",
       "10     438\n",
       "14     391\n",
       "7      292\n",
       "11     260\n",
       "3      243\n",
       "0      217\n",
       "2      213\n",
       "Name: email_body, dtype: int64"
      ]
     },
     "execution_count": 50,
     "metadata": {},
     "output_type": "execute_result"
    }
   ],
   "source": [
    "df['email_body'].value_counts()"
   ]
  },
  {
   "cell_type": "markdown",
   "metadata": {
    "colab_type": "text",
    "id": "b1XTjLs5Nb1w"
   },
   "source": [
    "Create the Emails Tags"
   ]
  },
  {
   "cell_type": "markdown",
   "metadata": {
    "colab_type": "text",
    "id": "oDBEbw4QAdvA"
   },
   "source": [
    "Tfidf term frequency–inverse document frequency"
   ]
  },
  {
   "cell_type": "code",
   "execution_count": 51,
   "metadata": {
    "colab": {
     "base_uri": "https://localhost:8080/",
     "height": 101
    },
    "colab_type": "code",
    "id": "2MUeorp9jplF",
    "outputId": "e735a5e2-da72-4a72-f834-173f6b552b20"
   },
   "outputs": [
    {
     "name": "stderr",
     "output_type": "stream",
     "text": [
      "[nltk_data] Downloading package stopwords to\n",
      "[nltk_data]     C:\\Users\\HomePC\\AppData\\Roaming\\nltk_data...\n",
      "[nltk_data]   Package stopwords is already up-to-date!\n",
      "[nltk_data] Downloading package punkt to\n",
      "[nltk_data]     C:\\Users\\HomePC\\AppData\\Roaming\\nltk_data...\n",
      "[nltk_data]   Package punkt is already up-to-date!\n"
     ]
    },
    {
     "data": {
      "text/plain": [
       "True"
      ]
     },
     "execution_count": 51,
     "metadata": {},
     "output_type": "execute_result"
    }
   ],
   "source": [
    "import nltk\n",
    "nltk.download('stopwords')\n",
    "nltk.download('punkt')"
   ]
  },
  {
   "cell_type": "code",
   "execution_count": 52,
   "metadata": {
    "colab": {
     "base_uri": "https://localhost:8080/",
     "height": 54
    },
    "colab_type": "code",
    "id": "3bXK0VeKjfCq",
    "outputId": "9977894e-102a-4946-8fa6-a73a61f6d56a"
   },
   "outputs": [
    {
     "name": "stdout",
     "output_type": "stream",
     "text": [
      "['traveling', 'business', 'meeting', 'takes', 'fun', 'trip', 'especially', 'prepare', 'presentation', 'would', 'suggest', 'holding', 'business', 'plan', 'meetings', 'take', 'trip', 'without', 'formal', 'business', 'meetings', 'would', 'even', 'try', 'get', 'honest', 'opinions', 'whether', 'trip', 'even', 'desired', 'necessary', 'far', 'business', 'meetings', 'think', 'would', 'productive', 'try', 'stimulate', 'discussions', 'across', 'different', 'groups', 'working', 'often', 'presenter', 'speaks', 'others', 'quiet', 'waiting', 'turn', 'meetings', 'might', 'better', 'held', 'round', 'table', 'discussion', 'format', 'suggestion', 'go', 'austin', 'play', 'golf', 'rent', 'ski', 'boat', 'jet', 'ski', 'flying', 'somewhere', 'takes', 'much', 'time']\n"
     ]
    }
   ],
   "source": [
    "from nltk.tokenize import word_tokenize\n",
    "\n",
    "# split into words\n",
    "tokens = word_tokenize(email)\n",
    "\n",
    "# convert to lower case\n",
    "tokens = [w.lower() for w in tokens]\n",
    "\n",
    "# prepare regex for char filtering\n",
    "re_punc = re.compile('[%s]' % re.escape(string.punctuation))\n",
    "\n",
    "# remove punctuation from each word\n",
    "stripped = [re_punc.sub('', w) for w in tokens]\n",
    "\n",
    "# remove remaining tokens that are not alphabetic\n",
    "words = [word for word in stripped if word.isalpha()]\n",
    "\n",
    "# filter out stop words\n",
    "stop_words = set(stopwords.words('english'))\n",
    "words = [w for w in words if not w in stop_words]\n",
    "print(words[:200])"
   ]
  },
  {
   "cell_type": "code",
   "execution_count": 53,
   "metadata": {
    "colab": {
     "base_uri": "https://localhost:8080/",
     "height": 54
    },
    "colab_type": "code",
    "id": "n6sRp4mhci07",
    "outputId": "b2f1f080-f472-467b-f99e-5755e202bdda"
   },
   "outputs": [
    {
     "name": "stdout",
     "output_type": "stream",
     "text": [
      "['austin', 'better', 'boat', 'business', 'desired', 'different', 'discussion', 'discussions', 'especially', 'far', 'flying', 'formal', 'format', 'fun', 'golf', 'groups', 'held', 'holding', 'honest', 'jet', 'meeting', 'meetings', 'necessary', 'opinions', 'plan', 'play', 'prepare', 'presentation', 'presenter', 'productive', 'quiet', 'rent', 'round', 'ski', 'speaks', 'stimulate', 'suggest', 'suggestion', 'table', 'takes', 'think', 'time', 'traveling', 'trip', 'try', 'turn', 'waiting', 'working']\n"
     ]
    }
   ],
   "source": [
    "from sklearn.feature_extraction.text import CountVectorizer\n",
    "\n",
    "count_vec = CountVectorizer(stop_words=\"english\", analyzer='word', \n",
    "                            ngram_range=(1, 2), max_df=1.0, min_df=1, max_features=None)\n",
    "\n",
    "count_train = count_vec.fit(words)\n",
    "bag_of_words = count_vec.transform(words)\n",
    "\n",
    "print(count_vec.get_feature_names())"
   ]
  },
  {
   "cell_type": "code",
   "execution_count": 55,
   "metadata": {
    "colab": {
     "base_uri": "https://localhost:8080/",
     "height": 54
    },
    "colab_type": "code",
    "id": "kKc20BkocwOV",
    "outputId": "b9093bf9-724a-4813-aaba-7ec91d6a0f7d"
   },
   "outputs": [
    {
     "name": "stdout",
     "output_type": "stream",
     "text": [
      "The text:  ['traveling', 'business', 'meeting', 'takes', 'fun', 'trip', 'especially', 'prepare', 'presentation', 'would', 'suggest', 'holding', 'business', 'plan', 'meetings', 'take', 'trip', 'without', 'formal', 'business', 'meetings', 'would', 'even', 'try', 'get', 'honest', 'opinions', 'whether', 'trip', 'even', 'desired', 'necessary', 'far', 'business', 'meetings', 'think', 'would', 'productive', 'try', 'stimulate', 'discussions', 'across', 'different', 'groups', 'working', 'often', 'presenter', 'speaks', 'others', 'quiet', 'waiting', 'turn', 'meetings', 'might', 'better', 'held', 'round', 'table', 'discussion', 'format', 'suggestion', 'go', 'austin', 'play', 'golf', 'rent', 'ski', 'boat', 'jet', 'ski', 'flying', 'somewhere', 'takes', 'much', 'time']\n"
     ]
    }
   ],
   "source": [
    "from sklearn.feature_extraction.text import TfidfVectorizer\n",
    "\n",
    "text_freque = TfidfVectorizer(smooth_idf=False, sublinear_tf=False, norm=None, analyzer='word')\n",
    "txt_fitted = text_freque.fit(words)\n",
    "txt_transformed = txt_fitted.transform(words)\n",
    "print (\"The text: \", words)"
   ]
  },
  {
   "cell_type": "code",
   "execution_count": 56,
   "metadata": {
    "colab": {
     "base_uri": "https://localhost:8080/",
     "height": 54
    },
    "colab_type": "code",
    "id": "RvAnPbzxcx75",
    "outputId": "66bfb21b-167e-4777-8582-2dcab364aa09"
   },
   "outputs": [
    {
     "name": "stdout",
     "output_type": "stream",
     "text": [
      "{'across': 5.31748811353631, 'austin': 5.31748811353631, 'better': 5.31748811353631, 'boat': 5.31748811353631, 'business': 3.9311937524164198, 'desired': 5.31748811353631, 'different': 5.31748811353631, 'discussion': 5.31748811353631, 'discussions': 5.31748811353631, 'especially': 5.31748811353631, 'even': 4.624340932976365, 'far': 5.31748811353631, 'flying': 5.31748811353631, 'formal': 5.31748811353631, 'format': 5.31748811353631, 'fun': 5.31748811353631, 'get': 5.31748811353631, 'go': 5.31748811353631, 'golf': 5.31748811353631, 'groups': 5.31748811353631, 'held': 5.31748811353631, 'holding': 5.31748811353631, 'honest': 5.31748811353631, 'jet': 5.31748811353631, 'meeting': 5.31748811353631, 'meetings': 3.9311937524164198, 'might': 5.31748811353631, 'much': 5.31748811353631, 'necessary': 5.31748811353631, 'often': 5.31748811353631, 'opinions': 5.31748811353631, 'others': 5.31748811353631, 'plan': 5.31748811353631, 'play': 5.31748811353631, 'prepare': 5.31748811353631, 'presentation': 5.31748811353631, 'presenter': 5.31748811353631, 'productive': 5.31748811353631, 'quiet': 5.31748811353631, 'rent': 5.31748811353631, 'round': 5.31748811353631, 'ski': 4.624340932976365, 'somewhere': 5.31748811353631, 'speaks': 5.31748811353631, 'stimulate': 5.31748811353631, 'suggest': 5.31748811353631, 'suggestion': 5.31748811353631, 'table': 5.31748811353631, 'take': 5.31748811353631, 'takes': 4.624340932976365, 'think': 5.31748811353631, 'time': 5.31748811353631, 'traveling': 5.31748811353631, 'trip': 4.218875824868201, 'try': 4.624340932976365, 'turn': 5.31748811353631, 'waiting': 5.31748811353631, 'whether': 5.31748811353631, 'without': 5.31748811353631, 'working': 5.31748811353631, 'would': 4.218875824868201}\n"
     ]
    }
   ],
   "source": [
    "idfreque = text_freque.idf_\n",
    "print(dict(zip(txt_fitted.get_feature_names(), idfreque)))"
   ]
  },
  {
   "cell_type": "code",
   "execution_count": 57,
   "metadata": {
    "colab": {
     "base_uri": "https://localhost:8080/",
     "height": 1000
    },
    "colab_type": "code",
    "id": "tp7q_UHCczqO",
    "outputId": "bdfa503e-0f6e-4d46-ea28-5c8aee992eed"
   },
   "outputs": [
    {
     "data": {
      "text/plain": [
       "{'traveling': 52,\n",
       " 'business': 4,\n",
       " 'meeting': 24,\n",
       " 'takes': 49,\n",
       " 'fun': 15,\n",
       " 'trip': 53,\n",
       " 'especially': 9,\n",
       " 'prepare': 34,\n",
       " 'presentation': 35,\n",
       " 'would': 60,\n",
       " 'suggest': 45,\n",
       " 'holding': 21,\n",
       " 'plan': 32,\n",
       " 'meetings': 25,\n",
       " 'take': 48,\n",
       " 'without': 58,\n",
       " 'formal': 13,\n",
       " 'even': 10,\n",
       " 'try': 54,\n",
       " 'get': 16,\n",
       " 'honest': 22,\n",
       " 'opinions': 30,\n",
       " 'whether': 57,\n",
       " 'desired': 5,\n",
       " 'necessary': 28,\n",
       " 'far': 11,\n",
       " 'think': 50,\n",
       " 'productive': 37,\n",
       " 'stimulate': 44,\n",
       " 'discussions': 8,\n",
       " 'across': 0,\n",
       " 'different': 6,\n",
       " 'groups': 19,\n",
       " 'working': 59,\n",
       " 'often': 29,\n",
       " 'presenter': 36,\n",
       " 'speaks': 43,\n",
       " 'others': 31,\n",
       " 'quiet': 38,\n",
       " 'waiting': 56,\n",
       " 'turn': 55,\n",
       " 'might': 26,\n",
       " 'better': 2,\n",
       " 'held': 20,\n",
       " 'round': 40,\n",
       " 'table': 47,\n",
       " 'discussion': 7,\n",
       " 'format': 14,\n",
       " 'suggestion': 46,\n",
       " 'go': 17,\n",
       " 'austin': 1,\n",
       " 'play': 33,\n",
       " 'golf': 18,\n",
       " 'rent': 39,\n",
       " 'ski': 41,\n",
       " 'boat': 3,\n",
       " 'jet': 23,\n",
       " 'flying': 12,\n",
       " 'somewhere': 42,\n",
       " 'much': 27,\n",
       " 'time': 51}"
      ]
     },
     "execution_count": 57,
     "metadata": {},
     "output_type": "execute_result"
    }
   ],
   "source": [
    "text_freque.vocabulary_"
   ]
  },
  {
   "cell_type": "code",
   "execution_count": 58,
   "metadata": {
    "colab": {
     "base_uri": "https://localhost:8080/",
     "height": 1000
    },
    "colab_type": "code",
    "id": "pBdx3bBic4WH",
    "outputId": "ff28aee9-d1f2-41a3-e46b-4f706c4a24b7"
   },
   "outputs": [
    {
     "data": {
      "text/plain": [
       "{'across': 5.31748811353631,\n",
       " 'austin': 5.31748811353631,\n",
       " 'better': 5.31748811353631,\n",
       " 'boat': 5.31748811353631,\n",
       " 'business': 3.9311937524164198,\n",
       " 'desired': 5.31748811353631,\n",
       " 'different': 5.31748811353631,\n",
       " 'discussion': 5.31748811353631,\n",
       " 'discussions': 5.31748811353631,\n",
       " 'especially': 5.31748811353631,\n",
       " 'even': 4.624340932976365,\n",
       " 'far': 5.31748811353631,\n",
       " 'flying': 5.31748811353631,\n",
       " 'formal': 5.31748811353631,\n",
       " 'format': 5.31748811353631,\n",
       " 'fun': 5.31748811353631,\n",
       " 'get': 5.31748811353631,\n",
       " 'go': 5.31748811353631,\n",
       " 'golf': 5.31748811353631,\n",
       " 'groups': 5.31748811353631,\n",
       " 'held': 5.31748811353631,\n",
       " 'holding': 5.31748811353631,\n",
       " 'honest': 5.31748811353631,\n",
       " 'jet': 5.31748811353631,\n",
       " 'meeting': 5.31748811353631,\n",
       " 'meetings': 3.9311937524164198,\n",
       " 'might': 5.31748811353631,\n",
       " 'much': 5.31748811353631,\n",
       " 'necessary': 5.31748811353631,\n",
       " 'often': 5.31748811353631,\n",
       " 'opinions': 5.31748811353631,\n",
       " 'others': 5.31748811353631,\n",
       " 'plan': 5.31748811353631,\n",
       " 'play': 5.31748811353631,\n",
       " 'prepare': 5.31748811353631,\n",
       " 'presentation': 5.31748811353631,\n",
       " 'presenter': 5.31748811353631,\n",
       " 'productive': 5.31748811353631,\n",
       " 'quiet': 5.31748811353631,\n",
       " 'rent': 5.31748811353631,\n",
       " 'round': 5.31748811353631,\n",
       " 'ski': 4.624340932976365,\n",
       " 'somewhere': 5.31748811353631,\n",
       " 'speaks': 5.31748811353631,\n",
       " 'stimulate': 5.31748811353631,\n",
       " 'suggest': 5.31748811353631,\n",
       " 'suggestion': 5.31748811353631,\n",
       " 'table': 5.31748811353631,\n",
       " 'take': 5.31748811353631,\n",
       " 'takes': 4.624340932976365,\n",
       " 'think': 5.31748811353631,\n",
       " 'time': 5.31748811353631,\n",
       " 'traveling': 5.31748811353631,\n",
       " 'trip': 4.218875824868201,\n",
       " 'try': 4.624340932976365,\n",
       " 'turn': 5.31748811353631,\n",
       " 'waiting': 5.31748811353631,\n",
       " 'whether': 5.31748811353631,\n",
       " 'without': 5.31748811353631,\n",
       " 'working': 5.31748811353631,\n",
       " 'would': 4.218875824868201}"
      ]
     },
     "execution_count": 58,
     "metadata": {},
     "output_type": "execute_result"
    }
   ],
   "source": [
    "words_dist = dict(zip(txt_fitted.get_feature_names(), idfreque))\n",
    "words_dist"
   ]
  },
  {
   "cell_type": "code",
   "execution_count": 59,
   "metadata": {
    "colab": {
     "base_uri": "https://localhost:8080/",
     "height": 101
    },
    "colab_type": "code",
    "id": "YD0Sy6ZRo5b6",
    "outputId": "3289789a-dec5-4eef-de91-b074e80cbb50"
   },
   "outputs": [
    {
     "name": "stdout",
     "output_type": "stream",
     "text": [
      "Features with lowest id frequence:\n",
      "['business' 'meetings' 'would']\n",
      "\n",
      "Features with highest id frequence:\n",
      "['often' 'get' 'opinions']\n"
     ]
    }
   ],
   "source": [
    "import numpy as np\n",
    "\n",
    "# get feature names\n",
    "feature_names = np.array(text_freque.get_feature_names())\n",
    "sorted_by_idf = np.argsort(text_freque.idf_)\n",
    "print(\"Features with lowest id frequence:\\n{}\".format(feature_names[sorted_by_idf[:3]]))\n",
    "print(\"\\nFeatures with highest id frequence:\\n{}\".format(feature_names[sorted_by_idf[-3:]]))"
   ]
  },
  {
   "cell_type": "markdown",
   "metadata": {
    "colab_type": "text",
    "id": "0w1c1L8QkmO-"
   },
   "source": [
    "##TFID VECTORIZER  - Transforms text to feature vectors\n"
   ]
  },
  {
   "cell_type": "code",
   "execution_count": 60,
   "metadata": {
    "colab": {
     "base_uri": "https://localhost:8080/",
     "height": 215
    },
    "colab_type": "code",
    "id": "K3Rrh2M7kmkl",
    "outputId": "556718c8-4cc7-477f-9f93-8299a6dc076f"
   },
   "outputs": [
    {
     "data": {
      "text/html": [
       "<div>\n",
       "<style scoped>\n",
       "    .dataframe tbody tr th:only-of-type {\n",
       "        vertical-align: middle;\n",
       "    }\n",
       "\n",
       "    .dataframe tbody tr th {\n",
       "        vertical-align: top;\n",
       "    }\n",
       "\n",
       "    .dataframe thead th {\n",
       "        text-align: right;\n",
       "    }\n",
       "</style>\n",
       "<table border=\"1\" class=\"dataframe\">\n",
       "  <thead>\n",
       "    <tr style=\"text-align: right;\">\n",
       "      <th></th>\n",
       "      <th>austin</th>\n",
       "      <th>better</th>\n",
       "      <th>boat</th>\n",
       "      <th>business</th>\n",
       "      <th>desired</th>\n",
       "      <th>different</th>\n",
       "      <th>discussion</th>\n",
       "      <th>discussions</th>\n",
       "      <th>especially</th>\n",
       "      <th>far</th>\n",
       "      <th>...</th>\n",
       "      <th>table</th>\n",
       "      <th>takes</th>\n",
       "      <th>think</th>\n",
       "      <th>time</th>\n",
       "      <th>traveling</th>\n",
       "      <th>trip</th>\n",
       "      <th>try</th>\n",
       "      <th>turn</th>\n",
       "      <th>waiting</th>\n",
       "      <th>working</th>\n",
       "    </tr>\n",
       "  </thead>\n",
       "  <tbody>\n",
       "    <tr>\n",
       "      <th>0</th>\n",
       "      <td>0.0</td>\n",
       "      <td>0.0</td>\n",
       "      <td>0.0</td>\n",
       "      <td>0.0</td>\n",
       "      <td>0.0</td>\n",
       "      <td>0.0</td>\n",
       "      <td>0.0</td>\n",
       "      <td>0.0</td>\n",
       "      <td>0.0</td>\n",
       "      <td>0.0</td>\n",
       "      <td>...</td>\n",
       "      <td>0.0</td>\n",
       "      <td>0.0</td>\n",
       "      <td>0.0</td>\n",
       "      <td>0.0</td>\n",
       "      <td>1.0</td>\n",
       "      <td>0.0</td>\n",
       "      <td>0.0</td>\n",
       "      <td>0.0</td>\n",
       "      <td>0.0</td>\n",
       "      <td>0.0</td>\n",
       "    </tr>\n",
       "    <tr>\n",
       "      <th>1</th>\n",
       "      <td>0.0</td>\n",
       "      <td>0.0</td>\n",
       "      <td>0.0</td>\n",
       "      <td>1.0</td>\n",
       "      <td>0.0</td>\n",
       "      <td>0.0</td>\n",
       "      <td>0.0</td>\n",
       "      <td>0.0</td>\n",
       "      <td>0.0</td>\n",
       "      <td>0.0</td>\n",
       "      <td>...</td>\n",
       "      <td>0.0</td>\n",
       "      <td>0.0</td>\n",
       "      <td>0.0</td>\n",
       "      <td>0.0</td>\n",
       "      <td>0.0</td>\n",
       "      <td>0.0</td>\n",
       "      <td>0.0</td>\n",
       "      <td>0.0</td>\n",
       "      <td>0.0</td>\n",
       "      <td>0.0</td>\n",
       "    </tr>\n",
       "    <tr>\n",
       "      <th>2</th>\n",
       "      <td>0.0</td>\n",
       "      <td>0.0</td>\n",
       "      <td>0.0</td>\n",
       "      <td>0.0</td>\n",
       "      <td>0.0</td>\n",
       "      <td>0.0</td>\n",
       "      <td>0.0</td>\n",
       "      <td>0.0</td>\n",
       "      <td>0.0</td>\n",
       "      <td>0.0</td>\n",
       "      <td>...</td>\n",
       "      <td>0.0</td>\n",
       "      <td>0.0</td>\n",
       "      <td>0.0</td>\n",
       "      <td>0.0</td>\n",
       "      <td>0.0</td>\n",
       "      <td>0.0</td>\n",
       "      <td>0.0</td>\n",
       "      <td>0.0</td>\n",
       "      <td>0.0</td>\n",
       "      <td>0.0</td>\n",
       "    </tr>\n",
       "    <tr>\n",
       "      <th>3</th>\n",
       "      <td>0.0</td>\n",
       "      <td>0.0</td>\n",
       "      <td>0.0</td>\n",
       "      <td>0.0</td>\n",
       "      <td>0.0</td>\n",
       "      <td>0.0</td>\n",
       "      <td>0.0</td>\n",
       "      <td>0.0</td>\n",
       "      <td>0.0</td>\n",
       "      <td>0.0</td>\n",
       "      <td>...</td>\n",
       "      <td>0.0</td>\n",
       "      <td>1.0</td>\n",
       "      <td>0.0</td>\n",
       "      <td>0.0</td>\n",
       "      <td>0.0</td>\n",
       "      <td>0.0</td>\n",
       "      <td>0.0</td>\n",
       "      <td>0.0</td>\n",
       "      <td>0.0</td>\n",
       "      <td>0.0</td>\n",
       "    </tr>\n",
       "    <tr>\n",
       "      <th>4</th>\n",
       "      <td>0.0</td>\n",
       "      <td>0.0</td>\n",
       "      <td>0.0</td>\n",
       "      <td>0.0</td>\n",
       "      <td>0.0</td>\n",
       "      <td>0.0</td>\n",
       "      <td>0.0</td>\n",
       "      <td>0.0</td>\n",
       "      <td>0.0</td>\n",
       "      <td>0.0</td>\n",
       "      <td>...</td>\n",
       "      <td>0.0</td>\n",
       "      <td>0.0</td>\n",
       "      <td>0.0</td>\n",
       "      <td>0.0</td>\n",
       "      <td>0.0</td>\n",
       "      <td>0.0</td>\n",
       "      <td>0.0</td>\n",
       "      <td>0.0</td>\n",
       "      <td>0.0</td>\n",
       "      <td>0.0</td>\n",
       "    </tr>\n",
       "  </tbody>\n",
       "</table>\n",
       "<p>5 rows × 48 columns</p>\n",
       "</div>"
      ],
      "text/plain": [
       "   austin  better  boat  business  desired  different  discussion  \\\n",
       "0     0.0     0.0   0.0       0.0      0.0        0.0         0.0   \n",
       "1     0.0     0.0   0.0       1.0      0.0        0.0         0.0   \n",
       "2     0.0     0.0   0.0       0.0      0.0        0.0         0.0   \n",
       "3     0.0     0.0   0.0       0.0      0.0        0.0         0.0   \n",
       "4     0.0     0.0   0.0       0.0      0.0        0.0         0.0   \n",
       "\n",
       "   discussions  especially  far  ...  table  takes  think  time  traveling  \\\n",
       "0          0.0         0.0  0.0  ...    0.0    0.0    0.0   0.0        1.0   \n",
       "1          0.0         0.0  0.0  ...    0.0    0.0    0.0   0.0        0.0   \n",
       "2          0.0         0.0  0.0  ...    0.0    0.0    0.0   0.0        0.0   \n",
       "3          0.0         0.0  0.0  ...    0.0    1.0    0.0   0.0        0.0   \n",
       "4          0.0         0.0  0.0  ...    0.0    0.0    0.0   0.0        0.0   \n",
       "\n",
       "   trip  try  turn  waiting  working  \n",
       "0   0.0  0.0   0.0      0.0      0.0  \n",
       "1   0.0  0.0   0.0      0.0      0.0  \n",
       "2   0.0  0.0   0.0      0.0      0.0  \n",
       "3   0.0  0.0   0.0      0.0      0.0  \n",
       "4   0.0  0.0   0.0      0.0      0.0  \n",
       "\n",
       "[5 rows x 48 columns]"
      ]
     },
     "execution_count": 60,
     "metadata": {},
     "output_type": "execute_result"
    }
   ],
   "source": [
    "from sklearn.feature_extraction.text import TfidfVectorizer\n",
    "\n",
    "# Instantiate vectorizer object\n",
    "tfidf = TfidfVectorizer(stop_words='english', max_features=5000)\n",
    "\n",
    "# Create a vocabulary and get word counts per document\n",
    "data = tfidf.fit_transform(words) # Similiar to fit_predict\n",
    "\n",
    "# Print word counts\n",
    "\n",
    "# Get feature names to use as dataframe column headers\n",
    "data = pd.DataFrame(data.todense(), columns=tfidf.get_feature_names())\n",
    "\n",
    "# View Feature Matrix as DataFrame\n",
    "data.head()"
   ]
  },
  {
   "cell_type": "code",
   "execution_count": 61,
   "metadata": {
    "colab": {},
    "colab_type": "code",
    "id": "RPAcsAgBk-lV"
   },
   "outputs": [],
   "source": [
    "#TOKENIZER AND LEMMA\n",
    "def tokenize(document):\n",
    "    \n",
    "    doc = nlp(document)\n",
    "    \n",
    "    return [token.lemma_.strip() for token in doc if (token.is_stop != True) and (token.is_punct != True)]"
   ]
  },
  {
   "cell_type": "code",
   "execution_count": 62,
   "metadata": {
    "colab": {
     "base_uri": "https://localhost:8080/",
     "height": 195
    },
    "colab_type": "code",
    "id": "w7WuExkXkqHr",
    "outputId": "89d8fa1a-e97e-4084-bf2b-ccfb7db20dff"
   },
   "outputs": [
    {
     "data": {
      "text/html": [
       "<div>\n",
       "<style scoped>\n",
       "    .dataframe tbody tr th:only-of-type {\n",
       "        vertical-align: middle;\n",
       "    }\n",
       "\n",
       "    .dataframe tbody tr th {\n",
       "        vertical-align: top;\n",
       "    }\n",
       "\n",
       "    .dataframe thead th {\n",
       "        text-align: right;\n",
       "    }\n",
       "</style>\n",
       "<table border=\"1\" class=\"dataframe\">\n",
       "  <thead>\n",
       "    <tr style=\"text-align: right;\">\n",
       "      <th></th>\n",
       "      <th>business</th>\n",
       "      <th>meeting</th>\n",
       "      <th>trip</th>\n",
       "    </tr>\n",
       "  </thead>\n",
       "  <tbody>\n",
       "    <tr>\n",
       "      <th>0</th>\n",
       "      <td>0.0</td>\n",
       "      <td>0.0</td>\n",
       "      <td>0.0</td>\n",
       "    </tr>\n",
       "    <tr>\n",
       "      <th>1</th>\n",
       "      <td>1.0</td>\n",
       "      <td>0.0</td>\n",
       "      <td>0.0</td>\n",
       "    </tr>\n",
       "    <tr>\n",
       "      <th>2</th>\n",
       "      <td>0.0</td>\n",
       "      <td>1.0</td>\n",
       "      <td>0.0</td>\n",
       "    </tr>\n",
       "    <tr>\n",
       "      <th>3</th>\n",
       "      <td>0.0</td>\n",
       "      <td>0.0</td>\n",
       "      <td>0.0</td>\n",
       "    </tr>\n",
       "    <tr>\n",
       "      <th>4</th>\n",
       "      <td>0.0</td>\n",
       "      <td>0.0</td>\n",
       "      <td>0.0</td>\n",
       "    </tr>\n",
       "  </tbody>\n",
       "</table>\n",
       "</div>"
      ],
      "text/plain": [
       "   business  meeting  trip\n",
       "0       0.0      0.0   0.0\n",
       "1       1.0      0.0   0.0\n",
       "2       0.0      1.0   0.0\n",
       "3       0.0      0.0   0.0\n",
       "4       0.0      0.0   0.0"
      ]
     },
     "execution_count": 62,
     "metadata": {},
     "output_type": "execute_result"
    }
   ],
   "source": [
    "# Instantiate vectorizer object\n",
    "tfidf = TfidfVectorizer(stop_words='english', \n",
    "                        ngram_range=(1,2),\n",
    "                        max_df=.97,\n",
    "                        min_df=3,\n",
    "                        tokenizer=tokenize)\n",
    "\n",
    "# Create a vocabulary and get word counts per document\n",
    "data = tfidf.fit_transform(words) # Similiar to fit_predict\n",
    "\n",
    "# Print word counts\n",
    "\n",
    "# Get feature names to use as dataframe column headers\n",
    "data = pd.DataFrame(data.todense(), columns=tfidf.get_feature_names())\n",
    "\n",
    "# View Feature Matrix as DataFrame\n",
    "data.head()"
   ]
  },
  {
   "cell_type": "code",
   "execution_count": 68,
   "metadata": {
    "colab": {},
    "colab_type": "code",
    "id": "ZpHoAw11krRO"
   },
   "outputs": [],
   "source": [
    "from sklearn.metrics.pairwise import cosine_similarity\n",
    "\n",
    "# Calculate Distance of TF-IDF Vectors\n",
    "dist_matrix  = cosine_similarity(data)\n",
    "\n",
    "# Turn it into a DataFrame\n",
    "df = pd.DataFrame(dist_matrix)"
   ]
  },
  {
   "cell_type": "code",
   "execution_count": 69,
   "metadata": {
    "colab": {
     "base_uri": "https://localhost:8080/",
     "height": 34
    },
    "colab_type": "code",
    "id": "zqDJ8z75kuEF",
    "outputId": "6dcee01f-17d8-4b4f-b2e7-35c3ba045beb"
   },
   "outputs": [
    {
     "data": {
      "text/plain": [
       "'trip'"
      ]
     },
     "execution_count": 69,
     "metadata": {},
     "output_type": "execute_result"
    }
   ],
   "source": [
    "words[5][:300]"
   ]
  },
  {
   "cell_type": "code",
   "execution_count": 70,
   "metadata": {
    "colab": {
     "base_uri": "https://localhost:8080/",
     "height": 34
    },
    "colab_type": "code",
    "id": "2o3usgVQou28",
    "outputId": "821fe043-cee5-43fa-a825-600562b64e0e"
   },
   "outputs": [
    {
     "name": "stdout",
     "output_type": "stream",
     "text": [
      "business\n"
     ]
    }
   ],
   "source": [
    "print(words[12][:130])"
   ]
  },
  {
   "cell_type": "code",
   "execution_count": 71,
   "metadata": {
    "colab": {
     "base_uri": "https://localhost:8080/",
     "height": 34
    },
    "colab_type": "code",
    "id": "9ZQ4GIvsozBX",
    "outputId": "2da32c01-1870-488f-beec-e61dd6de1d1f"
   },
   "outputs": [
    {
     "data": {
      "text/plain": [
       "4.0"
      ]
     },
     "execution_count": 71,
     "metadata": {},
     "output_type": "execute_result"
    }
   ],
   "source": [
    "sum(data['business'])"
   ]
  },
  {
   "cell_type": "markdown",
   "metadata": {
    "colab_type": "text",
    "id": "Ts-bFIXnA9VO"
   },
   "source": [
    "##Json and CSV"
   ]
  },
  {
   "cell_type": "code",
   "execution_count": null,
   "metadata": {
    "colab": {},
    "colab_type": "code",
    "id": "dASjbIr2BDjm"
   },
   "outputs": [],
   "source": [
    "def save_data_frame_as_csv(df=None, file=None):\n",
    "    \"\"\"\n",
    "    Save a Pandas DataFrame to CSV format.\n",
    "    \"\"\"\n",
    "    try:\n",
    "        if not file.endswith('.csv'):\n",
    "            file += '.csv'\n",
    "        df.to_csv(file, index=False)\n",
    "        print(f'DataFrame saved as: {file}')\n",
    "    except Exception as e:\n",
    "        print(\"DataFrame couldn't be saved: \", sys.exc_info()[0])\n",
    "        raise"
   ]
  },
  {
   "cell_type": "code",
   "execution_count": null,
   "metadata": {
    "colab": {},
    "colab_type": "code",
    "id": "Re0T9m8XBED6"
   },
   "outputs": [],
   "source": [
    "save_data_frame_as_csv(df, './merged_data.csv')"
   ]
  },
  {
   "cell_type": "code",
   "execution_count": null,
   "metadata": {
    "colab": {},
    "colab_type": "code",
    "id": "nItj_UHNBHY5"
   },
   "outputs": [],
   "source": [
    "def save_data_frame_as_json(df=None, file=None, orient='records'):\n",
    "  \"\"\"\n",
    "  Save a Pandas DataFrame to Json format.\n",
    "  \"\"\"\n",
    "  try:\n",
    "    if not file.endswith('.json'):\n",
    "      file += '.json'\n",
    "    df.to_json(file, orient=orient)\n",
    "    print(f'Dataframe saved as: {file}')\n",
    "  except Exception as e:\n",
    "    print(\"Dataframe couldn't be saved: \", sys.exc_info()[0])\n",
    "    raise"
   ]
  },
  {
   "cell_type": "code",
   "execution_count": null,
   "metadata": {
    "colab": {},
    "colab_type": "code",
    "id": "_SGrntpdBPFm"
   },
   "outputs": [],
   "source": [
    "save_data_frame_as_json(df, '.merged_data.json', orient='records')"
   ]
  }
 ],
 "metadata": {
  "accelerator": "GPU",
  "colab": {
   "collapsed_sections": [],
   "name": "SmartEmailTags.ipynb",
   "provenance": []
  },
  "kernelspec": {
   "display_name": "U4-S1-NLP (Python3)",
   "language": "python",
   "name": "u4-s1-nlp"
  },
  "language_info": {
   "codemirror_mode": {
    "name": "ipython",
    "version": 3
   },
   "file_extension": ".py",
   "mimetype": "text/x-python",
   "name": "python",
   "nbconvert_exporter": "python",
   "pygments_lexer": "ipython3",
   "version": "3.7.0"
  }
 },
 "nbformat": 4,
 "nbformat_minor": 4
}
