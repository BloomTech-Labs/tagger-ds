{
 "cells": [
  {
   "cell_type": "code",
   "execution_count": null,
   "metadata": {},
   "outputs": [],
   "source": [
    "# import spacy\n",
    "# nlp = spacy.load('en_core_web_lg')\n",
    "\n",
    "# def most_similar(word, topn=5):\n",
    "#     word = nlp.vocab[str(word)]\n",
    "#     queries = [w for w in word.vocab if w.is_lower == word.is_lower and w.prob >= -15]\n",
    "#     by_similarity = sorted(queries, key=lambda w: word.similarity(w), reverse=True)\n",
    "#     return [(w.lower_,w.similarity(word)) for w in by_similarity[:topn+1] if w.lower_ != word.lower_]\n",
    "\n",
    "# top3 = most_similar(\"dog\", topn=3)\n",
    "# print(top3[0])"
   ]
  },
  {
   "cell_type": "code",
   "execution_count": 1,
   "metadata": {},
   "outputs": [],
   "source": [
    "from nltk.corpus import wordnet"
   ]
  },
  {
   "cell_type": "code",
   "execution_count": 2,
   "metadata": {},
   "outputs": [],
   "source": [
    "def getSynonyms(word):\n",
    "    synonyms = []\n",
    "\n",
    "    for syn in wordnet.synsets(word):\n",
    "        for l in syn.lemmas():\n",
    "            if (l.name() != word):\n",
    "                synonyms.append(l.name())\n",
    "                \n",
    "    return synonyms"
   ]
  },
  {
   "cell_type": "code",
   "execution_count": 3,
   "metadata": {},
   "outputs": [],
   "source": [
    "import gensim\n",
    "from gensim.utils import simple_preprocess"
   ]
  },
  {
   "cell_type": "code",
   "execution_count": 4,
   "metadata": {},
   "outputs": [],
   "source": [
    "from nltk.corpus import stopwords\n",
    "stop_words = set(stopwords.words('english')) "
   ]
  },
  {
   "cell_type": "code",
   "execution_count": 51,
   "metadata": {},
   "outputs": [
    {
     "name": "stdout",
     "output_type": "stream",
     "text": [
      "['should', 'we', 'impeach', 'trump', 'why', 'or', 'why', 'not']\n"
     ]
    }
   ],
   "source": [
    "string = \"Should we impeach Trump, why or why not?\"\n",
    "words = simple_preprocess(string)\n",
    "print(words)\n",
    "wordList = []\n",
    "\n",
    "for word in words:\n",
    "    something = []\n",
    "    if (not word in stop_words and len(word) > 3):\n",
    "        syns = getSynonyms(word)\n",
    "        for i in (0,1):\n",
    "            if ((len(syns)==0) or len(syns)<2):\n",
    "                syns.append(word)\n",
    "            something.append(syns[i])  \n",
    "#         something.append(word)\n",
    "    wordList.append(something)            "
   ]
  },
  {
   "cell_type": "code",
   "execution_count": 52,
   "metadata": {},
   "outputs": [
    {
     "data": {
      "text/plain": [
       "[[], [], ['accuse', 'incriminate'], ['trump_card', 'cornet'], [], [], [], []]"
      ]
     },
     "execution_count": 52,
     "metadata": {},
     "output_type": "execute_result"
    }
   ],
   "source": [
    "wordList"
   ]
  },
  {
   "cell_type": "code",
   "execution_count": 53,
   "metadata": {},
   "outputs": [
    {
     "data": {
      "text/plain": [
       "[['should'],\n",
       " ['we'],\n",
       " ['accuse', 'incriminate'],\n",
       " ['trump_card', 'cornet'],\n",
       " ['why'],\n",
       " ['or'],\n",
       " ['why'],\n",
       " ['not']]"
      ]
     },
     "execution_count": 53,
     "metadata": {},
     "output_type": "execute_result"
    }
   ],
   "source": [
    "for i in range(len(words)):\n",
    "    if (len(wordList[i])==0):\n",
    "        wordList[i] = [words[i]]\n",
    "wordList"
   ]
  },
  {
   "cell_type": "code",
   "execution_count": 54,
   "metadata": {},
   "outputs": [],
   "source": [
    "def listToString(listname):\n",
    "    str1 = \" \"\n",
    "    return (str1.join(listname))"
   ]
  },
  {
   "cell_type": "code",
   "execution_count": 55,
   "metadata": {},
   "outputs": [
    {
     "data": {
      "text/plain": [
       "'should we impeach trump why or why not'"
      ]
     },
     "execution_count": 55,
     "metadata": {},
     "output_type": "execute_result"
    }
   ],
   "source": [
    "first_search = listToString(words)\n",
    "first_search"
   ]
  },
  {
   "cell_type": "code",
   "execution_count": 56,
   "metadata": {},
   "outputs": [],
   "source": [
    "secondList = []\n",
    "for i in range(len(words)):\n",
    "    secondList.append(wordList[i][0])\n",
    "        \n",
    "second_search = listToString(secondList)"
   ]
  },
  {
   "cell_type": "code",
   "execution_count": 57,
   "metadata": {},
   "outputs": [
    {
     "name": "stdout",
     "output_type": "stream",
     "text": [
      "should we accuse trump_card why or why not\n"
     ]
    }
   ],
   "source": [
    "print(second_search)"
   ]
  },
  {
   "cell_type": "code",
   "execution_count": 58,
   "metadata": {},
   "outputs": [],
   "source": [
    "thirdList = []\n",
    "for i in range(len(words)):\n",
    "    if (len(wordList[i])==2):\n",
    "        thirdList.append(wordList[i][1])\n",
    "    else:\n",
    "        thirdList.append(wordList[i][0])\n",
    "third_search = listToString(thirdList)"
   ]
  },
  {
   "cell_type": "code",
   "execution_count": 59,
   "metadata": {},
   "outputs": [
    {
     "name": "stdout",
     "output_type": "stream",
     "text": [
      "should we incriminate cornet why or why not\n"
     ]
    }
   ],
   "source": [
    "print(third_search)"
   ]
  }
 ],
 "metadata": {
  "kernelspec": {
   "display_name": "Python 3",
   "language": "python",
   "name": "python3"
  },
  "language_info": {
   "codemirror_mode": {
    "name": "ipython",
    "version": 3
   },
   "file_extension": ".py",
   "mimetype": "text/x-python",
   "name": "python",
   "nbconvert_exporter": "python",
   "pygments_lexer": "ipython3",
   "version": "3.7.4"
  }
 },
 "nbformat": 4,
 "nbformat_minor": 4
}
