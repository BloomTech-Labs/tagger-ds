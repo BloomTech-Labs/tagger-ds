{
 "cells": [
  {
   "cell_type": "code",
   "execution_count": 13,
   "metadata": {},
   "outputs": [],
   "source": [
    "def imap_login(address=None, password=None):\n",
    "    '''Wrapper for logging into to email through IMAP\n",
    "    \n",
    "    ARGS: \n",
    "    address - str (defaul: None, prompt input). Email address \n",
    "    being connected to.\n",
    "    \n",
    "    password - str (default: None, prompt input). Password for email address.\n",
    "    \n",
    "    Returns:\n",
    "    Mail object connected to corresponding server for email address'''\n",
    "    \n",
    "    import imaplib\n",
    "    \n",
    "    if not address:\n",
    "        address = input('Enter you email address: ')\n",
    "        \n",
    "    if not password:\n",
    "        password = input('Enter your password')\n",
    "        \n",
    "    if 'gmail' in address:\n",
    "        SMTP_SERVER = 'imap.gmail.com'\n",
    "    elif 'yahoo' in password:\n",
    "        SMTP_SERVER = 'imap.mail.yahoo.com'\n",
    "    else:\n",
    "        raise NameError('Please enter a gmail or yahoo email address')\n",
    "        \n",
    "    SMTP_PORT = 993\n",
    "    try:\n",
    "        mail = imaplib.IMAP4_SSL(SMTP_SERVER)\n",
    "        mail.login(address, password)\n",
    "    except Exception as e:\n",
    "        raise\n",
    "        \n",
    "    return mail"
   ]
  },
  {
   "cell_type": "code",
   "execution_count": 27,
   "metadata": {},
   "outputs": [],
   "source": [
    "def search_mailbox(mail, inbox='inbox'):\n",
    "    \"\"\"Connects to mailbox and collects a list of ids from mailbox\n",
    "    \n",
    "    ARGS:\n",
    "    mail - logged in mail object\n",
    "    \n",
    "    inbox - str (defauls: 'inbox'). Mailbox to connect to. Must be valid\n",
    "    imap mailbox.\n",
    "    \n",
    "    Returns:\n",
    "    tup (mail object, list of mail_ids)\n",
    "    If you don't need the ids, you can use an underscore like so:\n",
    "    mail, _ = search_mailbox(mail)\"\"\"\n",
    "    \n",
    "    import imaplib\n",
    "    \n",
    "    mail.select(inbox)\n",
    "    \n",
    "    typ, data = mail.search(None, 'ALL')\n",
    "    \n",
    "    mail_ids = data[0]\n",
    "    \n",
    "    return mail, mail_ids"
   ]
  },
  {
   "cell_type": "code",
   "execution_count": 38,
   "metadata": {},
   "outputs": [],
   "source": [
    "def print_mail(mail, i_d=None, mail_part='(RFC822)'):\n",
    "    \"\"\"Prints out mail messages to screen\n",
    "    \n",
    "    ARGS:\n",
    "    mail - logged in mail object\n",
    "    \n",
    "    i_d - single id or list of ids\n",
    "    id of email \"\"\"\n",
    "    \n",
    "    import imaplib\n",
    "    import email\n",
    "    \n",
    "    if type(i_d) == 'list':\n",
    "        for i in i_d:\n",
    "            typ, data = mail.fetch(str(i).encode(), mail_part)\n",
    "            meta = email.message_from_string()\n",
    "            print(data[0][1])\n",
    "    \n",
    "    else:\n",
    "        typ, data = mail.fetch(str(i_d).encode(), mail_part)\n",
    "        print(data[0][1])"
   ]
  },
  {
   "cell_type": "markdown",
   "metadata": {},
   "source": [
    "#### Testing above func"
   ]
  },
  {
   "cell_type": "code",
   "execution_count": 16,
   "metadata": {},
   "outputs": [],
   "source": [
    "mail = imap_login('avraham.jacobsohn@gmail.com', 'FtcVb!8gWHA')"
   ]
  },
  {
   "cell_type": "code",
   "execution_count": 17,
   "metadata": {},
   "outputs": [
    {
     "data": {
      "text/plain": [
       "<imaplib.IMAP4_SSL at 0x7f1a13c0fe10>"
      ]
     },
     "execution_count": 17,
     "metadata": {},
     "output_type": "execute_result"
    }
   ],
   "source": [
    "mail"
   ]
  },
  {
   "cell_type": "code",
   "execution_count": 21,
   "metadata": {},
   "outputs": [],
   "source": [
    "mail.select('inbox')\n",
    "\n",
    "typ, data = mail.search(None, 'ALL')"
   ]
  },
  {
   "cell_type": "code",
   "execution_count": 29,
   "metadata": {},
   "outputs": [],
   "source": [
    "mail, mail_ids = search_mailbox(mail)"
   ]
  },
  {
   "cell_type": "code",
   "execution_count": 35,
   "metadata": {},
   "outputs": [
    {
     "data": {
      "text/plain": [
       "b'Delivered-To: avraham.jacobsohn@gmail.com\\r\\nReceived: by 10.231.35.131 with SMTP id p3cs356965ibd;\\r\\n        Mon, 1 Nov 2010 10:04:12 -0700 (PDT)\\r\\nReceived: by 10.231.11.3 with SMTP id r3mr13761275ibr.53.1288631051143;\\r\\n        Mon, 01 Nov 2010 10:04:11 -0700 (PDT)\\r\\nReturn-Path: <nobody@host.israeliconsulate.org>\\r\\nReceived: from host.israeliconsulate.org ([96.30.56.90])\\r\\n        by mx.google.com with ESMTP id 14si16538775ibo.38.2010.11.01.10.04.10;\\r\\n        Mon, 01 Nov 2010 10:04:10 -0700 (PDT)\\r\\nReceived-SPF: neutral (google.com: 96.30.56.90 is neither permitted nor denied by best guess record for domain of nobody@host.israeliconsulate.org) client-ip=96.30.56.90;\\r\\nAuthentication-Results: mx.google.com; spf=neutral (google.com: 96.30.56.90 is neither permitted nor denied by best guess record for domain of nobody@host.israeliconsulate.org) smtp.mail=nobody@host.israeliconsulate.org\\r\\nReceived: from nobody by host.israeliconsulate.org with local (Exim 4.69)\\r\\n\\t(envelope-from <nobody@host.israeliconsulate.org>)\\r\\n\\tid 1PCxnl-0002wk-OO\\r\\n\\tfor Avraham.Jacobsohn@gmail.com; Mon, 01 Nov 2010 13:04:09 -0400\\r\\nTo: Avraham.Jacobsohn@gmail.com\\r\\nSubject: Copy of: Office Hours\\r\\nX-PHP-Script: www.israelfm.org/index.php for 24.190.96.54\\r\\nDate: Mon, 1 Nov 2010 12:04:09 -0500\\r\\nFrom: Consulate General of Israel in New York <webmaster@newyork.mfa.gov.il>\\r\\nMessage-ID: <233c1f8dc7edfb2029aadb372071ab09@www.israelfm.org>\\r\\nX-Priority: 3\\r\\nX-Mailer: PHPMailer (phpmailer.sourceforge.net) [version 2.0.4]\\r\\nMIME-Version: 1.0\\r\\nContent-Transfer-Encoding: 8bit\\r\\nContent-Type: text/plain; charset=\"utf-8\"\\r\\nSender: Nobody <nobody@host.israeliconsulate.org>\\r\\nX-AntiAbuse: This header was added to track abuse, please include it with any abuse report\\r\\nX-AntiAbuse: Primary Hostname - host.israeliconsulate.org\\r\\nX-AntiAbuse: Original Domain - gmail.com\\r\\nX-AntiAbuse: Originator/Caller UID/GID - [99 32003] / [47 12]\\r\\nX-AntiAbuse: Sender Address Domain - host.israeliconsulate.org\\r\\nX-Source: \\r\\nX-Source-Args: /usr/local/apache/bin/httpd -k start -DSSL \\r\\nX-Source-Dir: israelfm.org:/public_html\\r\\n\\r\\nCopy of:\\r\\n\\r\\nThis is an enquiry e-mail via http://www.israelfm.org/ from:\\r\\nAvraham Jacobsohn <Avraham.Jacobsohn@gmail.com>\\r\\n\\r\\nTo Whom This May Concern,\\r\\n\\r\\nI would like to know if the consulate is open Tuesday, November 2nd and Friday, November 26th.\\r\\n\\r\\nThank you very much.\\r\\n\\r\\nAvraham Jacobsohn\\r\\n\\r\\n'"
      ]
     },
     "execution_count": 35,
     "metadata": {},
     "output_type": "execute_result"
    }
   ],
   "source": [
    "typ, data = mail.fetch(str(mail_ids[-1]), '(RFC822)')\n",
    "\n",
    "data[0][1]"
   ]
  },
  {
   "cell_type": "code",
   "execution_count": 41,
   "metadata": {},
   "outputs": [
    {
     "name": "stdout",
     "output_type": "stream",
     "text": [
      "b'Delivered-To: avraham.jacobsohn@gmail.com\\r\\nReceived: by 10.231.35.131 with SMTP id p3cs356965ibd;\\r\\n        Mon, 1 Nov 2010 10:04:12 -0700 (PDT)\\r\\nReceived: by 10.231.11.3 with SMTP id r3mr13761275ibr.53.1288631051143;\\r\\n        Mon, 01 Nov 2010 10:04:11 -0700 (PDT)\\r\\nReturn-Path: <nobody@host.israeliconsulate.org>\\r\\nReceived: from host.israeliconsulate.org ([96.30.56.90])\\r\\n        by mx.google.com with ESMTP id 14si16538775ibo.38.2010.11.01.10.04.10;\\r\\n        Mon, 01 Nov 2010 10:04:10 -0700 (PDT)\\r\\nReceived-SPF: neutral (google.com: 96.30.56.90 is neither permitted nor denied by best guess record for domain of nobody@host.israeliconsulate.org) client-ip=96.30.56.90;\\r\\nAuthentication-Results: mx.google.com; spf=neutral (google.com: 96.30.56.90 is neither permitted nor denied by best guess record for domain of nobody@host.israeliconsulate.org) smtp.mail=nobody@host.israeliconsulate.org\\r\\nReceived: from nobody by host.israeliconsulate.org with local (Exim 4.69)\\r\\n\\t(envelope-from <nobody@host.israeliconsulate.org>)\\r\\n\\tid 1PCxnl-0002wk-OO\\r\\n\\tfor Avraham.Jacobsohn@gmail.com; Mon, 01 Nov 2010 13:04:09 -0400\\r\\nTo: Avraham.Jacobsohn@gmail.com\\r\\nSubject: Copy of: Office Hours\\r\\nX-PHP-Script: www.israelfm.org/index.php for 24.190.96.54\\r\\nDate: Mon, 1 Nov 2010 12:04:09 -0500\\r\\nFrom: Consulate General of Israel in New York <webmaster@newyork.mfa.gov.il>\\r\\nMessage-ID: <233c1f8dc7edfb2029aadb372071ab09@www.israelfm.org>\\r\\nX-Priority: 3\\r\\nX-Mailer: PHPMailer (phpmailer.sourceforge.net) [version 2.0.4]\\r\\nMIME-Version: 1.0\\r\\nContent-Transfer-Encoding: 8bit\\r\\nContent-Type: text/plain; charset=\"utf-8\"\\r\\nSender: Nobody <nobody@host.israeliconsulate.org>\\r\\nX-AntiAbuse: This header was added to track abuse, please include it with any abuse report\\r\\nX-AntiAbuse: Primary Hostname - host.israeliconsulate.org\\r\\nX-AntiAbuse: Original Domain - gmail.com\\r\\nX-AntiAbuse: Originator/Caller UID/GID - [99 32003] / [47 12]\\r\\nX-AntiAbuse: Sender Address Domain - host.israeliconsulate.org\\r\\nX-Source: \\r\\nX-Source-Args: /usr/local/apache/bin/httpd -k start -DSSL \\r\\nX-Source-Dir: israelfm.org:/public_html\\r\\n\\r\\nCopy of:\\r\\n\\r\\nThis is an enquiry e-mail via http://www.israelfm.org/ from:\\r\\nAvraham Jacobsohn <Avraham.Jacobsohn@gmail.com>\\r\\n\\r\\nTo Whom This May Concern,\\r\\n\\r\\nI would like to know if the consulate is open Tuesday, November 2nd and Friday, November 26th.\\r\\n\\r\\nThank you very much.\\r\\n\\r\\nAvraham Jacobsohn\\r\\n\\r\\n'\n"
     ]
    }
   ],
   "source": [
    "print_mail(mail, mail_ids[-1])"
   ]
  },
  {
   "cell_type": "code",
   "execution_count": null,
   "metadata": {},
   "outputs": [],
   "source": []
  }
 ],
 "metadata": {
  "kernelspec": {
   "display_name": "Python 3",
   "language": "python",
   "name": "python3"
  },
  "language_info": {
   "codemirror_mode": {
    "name": "ipython",
    "version": 3
   },
   "file_extension": ".py",
   "mimetype": "text/x-python",
   "name": "python",
   "nbconvert_exporter": "python",
   "pygments_lexer": "ipython3",
   "version": "3.7.4"
  }
 },
 "nbformat": 4,
 "nbformat_minor": 4
}
