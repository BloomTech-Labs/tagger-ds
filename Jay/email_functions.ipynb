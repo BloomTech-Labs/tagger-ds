{
 "cells": [
  {
   "cell_type": "code",
   "execution_count": 1,
   "metadata": {},
   "outputs": [],
   "source": [
    "def imap_login(address=None, password=None):\n",
    "    '''Wrapper for logging into to email through IMAP\n",
    "    \n",
    "    ARGS: \n",
    "    address - str (defaul: None, prompt input). Email address \n",
    "    being connected to.\n",
    "    \n",
    "    password - str (default: None, prompt input). Password for email address.\n",
    "    \n",
    "    Returns:\n",
    "    Mail object connected to corresponding server for email address'''\n",
    "    \n",
    "    import imaplib\n",
    "    \n",
    "    if not address:\n",
    "        address = input('Enter you email address: ')\n",
    "        \n",
    "    if not password:\n",
    "        password = input('Enter your password')\n",
    "        \n",
    "    if 'gmail' in address:\n",
    "        SMTP_SERVER = 'imap.gmail.com'\n",
    "    elif 'yahoo' in password:\n",
    "        SMTP_SERVER = 'imap.mail.yahoo.com'\n",
    "    else:\n",
    "        raise NameError('Please enter a gmail or yahoo email address')\n",
    "        \n",
    "    SMTP_PORT = 993\n",
    "    try:\n",
    "        mail = imaplib.IMAP4_SSL(SMTP_SERVER)\n",
    "        mail.login(address, password)\n",
    "    except Exception as e:\n",
    "        raise\n",
    "        \n",
    "    return mail"
   ]
  },
  {
   "cell_type": "code",
   "execution_count": 2,
   "metadata": {},
   "outputs": [],
   "source": [
    "def search_mailbox(mail, inbox='inbox'):\n",
    "    \"\"\"Connects to mailbox and collects a list of ids from mailbox\n",
    "    \n",
    "    ARGS:\n",
    "    mail - logged in mail object\n",
    "    \n",
    "    inbox - str (defauls: 'inbox'). Mailbox to connect to. Must be valid\n",
    "    imap mailbox.\n",
    "    \n",
    "    Returns:\n",
    "    tup (mail object, list of mail_ids)\n",
    "    If you don't need the ids, you can use an underscore like so:\n",
    "    mail, _ = search_mailbox(mail)\"\"\"\n",
    "    \n",
    "    import imaplib\n",
    "    \n",
    "    mail.select(inbox)\n",
    "    \n",
    "    typ, data = mail.search(None, 'ALL')\n",
    "    \n",
    "    mail_ids = data[0].decode()\n",
    "    mail_ids = mail_ids.split()\n",
    "    \n",
    "    return mail, mail_ids"
   ]
  },
  {
   "cell_type": "code",
   "execution_count": 3,
   "metadata": {},
   "outputs": [],
   "source": [
    "def print_mail(mail, i_d=None, mail_part='(RFC822)'):\n",
    "    \"\"\"Prints out mail messages to screen\n",
    "    \n",
    "    ARGS:\n",
    "    mail - logged in mail object\n",
    "    \n",
    "    i_d - single id or list of ids\n",
    "    id(s) of email(s) to print\n",
    "    \n",
    "    Returns: None; prints message to screen\"\"\"\n",
    "    \n",
    "    import imaplib\n",
    "    import email\n",
    "    \n",
    "    if type(i_d) == 'list':\n",
    "        for i in i_d:\n",
    "            typ, data = mail.fetch(str(i).encode(), mail_part)\n",
    "            meta = email.message_from_string(data[0][1].decode())\n",
    "            print(meta)\n",
    "    \n",
    "    else:\n",
    "        typ, data = mail.fetch(str(i_d).encode(), mail_part)\n",
    "        meta = email.message_from_string(data[0][1].decode())\n",
    "        print(meta)"
   ]
  },
  {
   "cell_type": "code",
   "execution_count": null,
   "metadata": {},
   "outputs": [],
   "source": []
  }
 ],
 "metadata": {
  "kernelspec": {
   "display_name": "Python 3",
   "language": "python",
   "name": "python3"
  },
  "language_info": {
   "codemirror_mode": {
    "name": "ipython",
    "version": 3
   },
   "file_extension": ".py",
   "mimetype": "text/x-python",
   "name": "python",
   "nbconvert_exporter": "python",
   "pygments_lexer": "ipython3",
   "version": "3.7.4"
  }
 },
 "nbformat": 4,
 "nbformat_minor": 4
}
