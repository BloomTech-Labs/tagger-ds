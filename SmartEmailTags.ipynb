{
  "nbformat": 4,
  "nbformat_minor": 0,
  "metadata": {
    "kernelspec": {
      "display_name": "U4-S1-NLP (Python3)",
      "language": "python",
      "name": "u4-s1-nlp"
    },
    "language_info": {
      "codemirror_mode": {
        "name": "ipython",
        "version": 3
      },
      "file_extension": ".py",
      "mimetype": "text/x-python",
      "name": "python",
      "nbconvert_exporter": "python",
      "pygments_lexer": "ipython3",
      "version": "3.7.0"
    },
    "colab": {
      "name": "SmartEmailTags.ipynb",
      "provenance": [],
      "collapsed_sections": []
    },
    "accelerator": "GPU"
  },
  "cells": [
    {
      "cell_type": "markdown",
      "metadata": {
        "id": "OGa-3IJ0czGT",
        "colab_type": "text"
      },
      "source": [
        "#TAG SMART EMAILS\n",
        "\n",
        "GENSIM AND LDA\n",
        "\n",
        "https://radimrehurek.com/gensim/apiref.html"
      ]
    },
    {
      "cell_type": "code",
      "metadata": {
        "id": "4wYWP2ayYZs0",
        "colab_type": "code",
        "colab": {}
      },
      "source": [
        "#Library\n",
        "from gensim.corpora import Dictionary\n",
        "from gensim.models.ldamulticore import LdaMulticore\n",
        "from gensim.models.coherencemodel import CoherenceModel\n",
        "import spacy\n",
        "import pandas as pd"
      ],
      "execution_count": 0,
      "outputs": []
    },
    {
      "cell_type": "code",
      "metadata": {
        "id": "v2RfLweVYZs5",
        "colab_type": "code",
        "outputId": "fd1e51a0-878b-4e62-b52c-fc0526c63ad6",
        "colab": {
          "base_uri": "https://localhost:8080/",
          "height": 34
        }
      },
      "source": [
        "%pwd"
      ],
      "execution_count": 0,
      "outputs": [
        {
          "output_type": "execute_result",
          "data": {
            "text/plain": [
              "'/content'"
            ]
          },
          "metadata": {
            "tags": []
          },
          "execution_count": 2
        }
      ]
    },
    {
      "cell_type": "code",
      "metadata": {
        "id": "jQeR-whKrj0j",
        "colab_type": "code",
        "outputId": "767271c7-85ff-4e0b-d1ea-c61f4f251f71",
        "colab": {
          "base_uri": "https://localhost:8080/",
          "height": 34
        }
      },
      "source": [
        "import requests\n",
        "url = 'https://raw.githubusercontent.com/Moly-malibu/Tag-Smart-Emails/master/Enronemails.csv?token=AN2RW2GO4AWTXK4OPUDXJV26ZQ3QC'\n",
        "myfile = requests.get(url)\n",
        "open('email.csv', 'wb').write(myfile.content)"
      ],
      "execution_count": 0,
      "outputs": [
        {
          "output_type": "execute_result",
          "data": {
            "text/plain": [
              "24004915"
            ]
          },
          "metadata": {
            "tags": []
          },
          "execution_count": 3
        }
      ]
    },
    {
      "cell_type": "code",
      "metadata": {
        "id": "oIl2fVRnYZs-",
        "colab_type": "code",
        "outputId": "1f2b0ab4-1594-4f31-c95a-2f9654ff140d",
        "colab": {
          "base_uri": "https://localhost:8080/",
          "height": 271
        }
      },
      "source": [
        "#EMAILS FROM ENRON COMPANY SAMPLING\n",
        "df = pd.read_csv(\"email.csv\")\n",
        "print(df.shape) \n",
        "df.head(7).drop(['Unnamed: 0'], axis=1)"
      ],
      "execution_count": 0,
      "outputs": [
        {
          "output_type": "stream",
          "text": [
            "(10000, 3)\n"
          ],
          "name": "stdout"
        },
        {
          "output_type": "execute_result",
          "data": {
            "text/html": [
              "<div>\n",
              "<style scoped>\n",
              "    .dataframe tbody tr th:only-of-type {\n",
              "        vertical-align: middle;\n",
              "    }\n",
              "\n",
              "    .dataframe tbody tr th {\n",
              "        vertical-align: top;\n",
              "    }\n",
              "\n",
              "    .dataframe thead th {\n",
              "        text-align: right;\n",
              "    }\n",
              "</style>\n",
              "<table border=\"1\" class=\"dataframe\">\n",
              "  <thead>\n",
              "    <tr style=\"text-align: right;\">\n",
              "      <th></th>\n",
              "      <th>file</th>\n",
              "      <th>message</th>\n",
              "    </tr>\n",
              "  </thead>\n",
              "  <tbody>\n",
              "    <tr>\n",
              "      <th>0</th>\n",
              "      <td>allen-p/_sent_mail/1.</td>\n",
              "      <td>Message-ID: &lt;18782981.1075855378110.JavaMail.e...</td>\n",
              "    </tr>\n",
              "    <tr>\n",
              "      <th>1</th>\n",
              "      <td>allen-p/_sent_mail/10.</td>\n",
              "      <td>Message-ID: &lt;15464986.1075855378456.JavaMail.e...</td>\n",
              "    </tr>\n",
              "    <tr>\n",
              "      <th>2</th>\n",
              "      <td>allen-p/_sent_mail/100.</td>\n",
              "      <td>Message-ID: &lt;24216240.1075855687451.JavaMail.e...</td>\n",
              "    </tr>\n",
              "    <tr>\n",
              "      <th>3</th>\n",
              "      <td>allen-p/_sent_mail/1000.</td>\n",
              "      <td>Message-ID: &lt;13505866.1075863688222.JavaMail.e...</td>\n",
              "    </tr>\n",
              "    <tr>\n",
              "      <th>4</th>\n",
              "      <td>allen-p/_sent_mail/1001.</td>\n",
              "      <td>Message-ID: &lt;30922949.1075863688243.JavaMail.e...</td>\n",
              "    </tr>\n",
              "    <tr>\n",
              "      <th>5</th>\n",
              "      <td>allen-p/_sent_mail/1002.</td>\n",
              "      <td>Message-ID: &lt;30965995.1075863688265.JavaMail.e...</td>\n",
              "    </tr>\n",
              "    <tr>\n",
              "      <th>6</th>\n",
              "      <td>allen-p/_sent_mail/1003.</td>\n",
              "      <td>Message-ID: &lt;16254169.1075863688286.JavaMail.e...</td>\n",
              "    </tr>\n",
              "  </tbody>\n",
              "</table>\n",
              "</div>"
            ],
            "text/plain": [
              "                       file                                            message\n",
              "0     allen-p/_sent_mail/1.  Message-ID: <18782981.1075855378110.JavaMail.e...\n",
              "1    allen-p/_sent_mail/10.  Message-ID: <15464986.1075855378456.JavaMail.e...\n",
              "2   allen-p/_sent_mail/100.  Message-ID: <24216240.1075855687451.JavaMail.e...\n",
              "3  allen-p/_sent_mail/1000.  Message-ID: <13505866.1075863688222.JavaMail.e...\n",
              "4  allen-p/_sent_mail/1001.  Message-ID: <30922949.1075863688243.JavaMail.e...\n",
              "5  allen-p/_sent_mail/1002.  Message-ID: <30965995.1075863688265.JavaMail.e...\n",
              "6  allen-p/_sent_mail/1003.  Message-ID: <16254169.1075863688286.JavaMail.e..."
            ]
          },
          "metadata": {
            "tags": []
          },
          "execution_count": 4
        }
      ]
    },
    {
      "cell_type": "code",
      "metadata": {
        "id": "GXR_9XPLeN-n",
        "colab_type": "code",
        "outputId": "f8738233-ff32-4bab-cf99-af0e9bb602e2",
        "colab": {
          "base_uri": "https://localhost:8080/",
          "height": 390
        }
      },
      "source": [
        "#TO GET EMAIL BODY\n",
        "[s.strip() for s in df['message'][1].splitlines()]"
      ],
      "execution_count": 0,
      "outputs": [
        {
          "output_type": "execute_result",
          "data": {
            "text/plain": [
              "['Message-ID: <15464986.1075855378456.JavaMail.evans@thyme>',\n",
              " 'Date: Fri, 4 May 2001 13:51:00 -0700 (PDT)',\n",
              " 'From: phillip.allen@enron.com',\n",
              " 'To: john.lavorato@enron.com',\n",
              " 'Subject: Re:',\n",
              " 'Mime-Version: 1.0',\n",
              " 'Content-Type: text/plain; charset=us-ascii',\n",
              " 'Content-Transfer-Encoding: 7bit',\n",
              " 'X-From: Phillip K Allen',\n",
              " 'X-To: John J Lavorato <John J Lavorato/ENRON@enronXgate@ENRON>',\n",
              " 'X-cc:',\n",
              " 'X-bcc:',\n",
              " \"X-Folder: \\\\Phillip_Allen_Jan2002_1\\\\Allen, Phillip K.\\\\'Sent Mail\",\n",
              " 'X-Origin: Allen-P',\n",
              " 'X-FileName: pallen (Non-Privileged).pst',\n",
              " '',\n",
              " 'Traveling to have a business meeting takes the fun out of the trip.  Especially if you have to prepare a presentation.  I would suggest holding the business plan meetings here then take a trip without any formal business meetings.  I would even try and get some honest opinions on whether a trip is even desired or necessary.',\n",
              " '',\n",
              " 'As far as the business meetings, I think it would be more productive to try and stimulate discussions across the different groups about what is working and what is not.  Too often the presenter speaks and the others are quiet just waiting for their turn.   The meetings might be better if held in a round table discussion format.',\n",
              " '',\n",
              " \"My suggestion for where to go is Austin.  Play golf and rent a ski boat and jet ski's.  Flying somewhere takes too much time.\"]"
            ]
          },
          "metadata": {
            "tags": []
          },
          "execution_count": 5
        }
      ]
    },
    {
      "cell_type": "code",
      "metadata": {
        "id": "cobxnIcPeREl",
        "colab_type": "code",
        "colab": {}
      },
      "source": [
        "email = ' '.join([s.strip() for s in df['message'][1].splitlines()][15:])"
      ],
      "execution_count": 0,
      "outputs": []
    },
    {
      "cell_type": "code",
      "metadata": {
        "id": "Lqux2nRyebXX",
        "colab_type": "code",
        "outputId": "59a06568-5117-41d4-a71a-1a87280ed7c3",
        "colab": {
          "base_uri": "https://localhost:8080/",
          "height": 195
        }
      },
      "source": [
        "#CLEAN EMAIL BODY\n",
        "def cleanemail(email):\n",
        "    return ' '.join([s.strip() for s in email.splitlines()][15:])\n",
        "\n",
        "df['email_body'] = df['message'].apply(cleanemail)\n",
        "\n",
        "df.head()"
      ],
      "execution_count": 0,
      "outputs": [
        {
          "output_type": "execute_result",
          "data": {
            "text/html": [
              "<div>\n",
              "<style scoped>\n",
              "    .dataframe tbody tr th:only-of-type {\n",
              "        vertical-align: middle;\n",
              "    }\n",
              "\n",
              "    .dataframe tbody tr th {\n",
              "        vertical-align: top;\n",
              "    }\n",
              "\n",
              "    .dataframe thead th {\n",
              "        text-align: right;\n",
              "    }\n",
              "</style>\n",
              "<table border=\"1\" class=\"dataframe\">\n",
              "  <thead>\n",
              "    <tr style=\"text-align: right;\">\n",
              "      <th></th>\n",
              "      <th>Unnamed: 0</th>\n",
              "      <th>file</th>\n",
              "      <th>message</th>\n",
              "      <th>email_body</th>\n",
              "    </tr>\n",
              "  </thead>\n",
              "  <tbody>\n",
              "    <tr>\n",
              "      <th>0</th>\n",
              "      <td>0</td>\n",
              "      <td>allen-p/_sent_mail/1.</td>\n",
              "      <td>Message-ID: &lt;18782981.1075855378110.JavaMail.e...</td>\n",
              "      <td>Here is our forecast</td>\n",
              "    </tr>\n",
              "    <tr>\n",
              "      <th>1</th>\n",
              "      <td>1</td>\n",
              "      <td>allen-p/_sent_mail/10.</td>\n",
              "      <td>Message-ID: &lt;15464986.1075855378456.JavaMail.e...</td>\n",
              "      <td>Traveling to have a business meeting takes th...</td>\n",
              "    </tr>\n",
              "    <tr>\n",
              "      <th>2</th>\n",
              "      <td>2</td>\n",
              "      <td>allen-p/_sent_mail/100.</td>\n",
              "      <td>Message-ID: &lt;24216240.1075855687451.JavaMail.e...</td>\n",
              "      <td>test successful.  way to go!!!</td>\n",
              "    </tr>\n",
              "    <tr>\n",
              "      <th>3</th>\n",
              "      <td>3</td>\n",
              "      <td>allen-p/_sent_mail/1000.</td>\n",
              "      <td>Message-ID: &lt;13505866.1075863688222.JavaMail.e...</td>\n",
              "      <td>Randy,  Can you send me a schedule of the sal...</td>\n",
              "    </tr>\n",
              "    <tr>\n",
              "      <th>4</th>\n",
              "      <td>4</td>\n",
              "      <td>allen-p/_sent_mail/1001.</td>\n",
              "      <td>Message-ID: &lt;30922949.1075863688243.JavaMail.e...</td>\n",
              "      <td>Let's shoot for Tuesday at 11:45.</td>\n",
              "    </tr>\n",
              "  </tbody>\n",
              "</table>\n",
              "</div>"
            ],
            "text/plain": [
              "   Unnamed: 0  ...                                         email_body\n",
              "0           0  ...                             Here is our forecast  \n",
              "1           1  ...   Traveling to have a business meeting takes th...\n",
              "2           2  ...                     test successful.  way to go!!!\n",
              "3           3  ...   Randy,  Can you send me a schedule of the sal...\n",
              "4           4  ...                  Let's shoot for Tuesday at 11:45.\n",
              "\n",
              "[5 rows x 4 columns]"
            ]
          },
          "metadata": {
            "tags": []
          },
          "execution_count": 7
        }
      ]
    },
    {
      "cell_type": "code",
      "metadata": {
        "id": "pDqHSrvx2Mig",
        "colab_type": "code",
        "outputId": "adacbf2e-c13d-48bc-f8d1-b45bc1797e7c",
        "colab": {
          "base_uri": "https://localhost:8080/",
          "height": 373
        }
      },
      "source": [
        "#CLEAN HTML\n",
        "import re\n",
        "import html\n",
        "\n",
        "def cleanup_html(raw_html):\n",
        "    clean_html = re.sub(r'<.*?>', '', raw_html)\n",
        "    clean_html_http = re.sub(r'http\\S+([\\.]{3})?', '', clean_html)\n",
        "    clean_txt = html.unescape(clean_html)\n",
        "    return clean_txt\n",
        "df['email_body'] = df['email_body'].apply(cleanup_html)\n",
        "df.sample(10)\n",
        "for row in df['email_body'].sample(10):\n",
        "    print(row)\n",
        "    print()"
      ],
      "execution_count": 0,
      "outputs": [
        {
          "output_type": "stream",
          "text": [
            "X-bcc: X-Folder: \\Phillip_Allen_Dec2000\\Notes Folders\\Notes inbox X-Origin: Allen-P X-FileName: pallen.nsf  FYI. ---------------------- Forwarded by Rebecca W Cantrell/HOU/ECT on 12/13/2000 04:18 PM ---------------------------   \"Randall Rich\"  on 12/13/2000 04:13:55 PM To: \"Jeffrey Watkiss\" , , , , , ,  cc: Subject: Final Filed Version   The filed version of the comments in the San Diego Gas & Electric matter at FERC is attached.  - SANDIEGO.DOC\n",
            "\n",
            " I would look at properties in San Antonio or Dallas.\n",
            "\n",
            "X-Folder: \\SBAILE2 (Non-Privileged)\\Bailey, Susan\\Sent Items X-Origin: Bailey-S X-FileName: SBAILE2 (Non-Privileged).pst   All,  Attached is the template for Annex B & B-1, along with the LC form for the captioned Counterparty's Omnibus Confirmation for Deal No. YK1853.1.   Contact me with any questions.   Regards, Susan S. Bailey Senior Legal Specialist Enron Wholesale Services Legal Department 1400 Smith Street, Suite 3803A Houston, Texas 77002 phone: (713) 853-4737 fax: (713) 646-3490 email: susan.bailey@ enron.com\n",
            "\n",
            "X-bcc: X-Folder: \\PALLEN (Non-Privileged)\\Allen, Phillip K.\\Sent Items X-Origin: Allen-P X-FileName: PALLEN (Non-Privileged).pst   ---------------------- Forwarded by Phillip K Allen/HOU/ECT on 04/24/2001 02:23 PM ---------------------------   Eric Benson@ENRON on 04/24/2001 11:47:40 AM To:\tPhillip K Allen/HOU/ECT@ECT cc: Subject:\tInstructions for FERC Meetings  Mr. Allen -  Per our phone conversation, please see the instructions below to get access to view FERC meetings.  Please advise if there are any problems, questions or concerns.  Eric Benson Sr. Specialist Enron Government Affairs - The Americas 713-853-1711  ++++++++++++++++++++++++++  ----- Forwarded by Eric Benson/NA/Enron on 04/24/2001 01:45 PM -----  Janet Butler 11/06/2000 04:51 PM \t   To: Eric.Benson@enron.com, Steve.Kean@enron.com, Richard.Shapiro@enron.com  cc:   Subject: Instructions for FERC Meetings   As long as you are configured to receive Real Video, you should be able to access the FERC meeting this Wednesday, November 8.  The instructions are below.   ---------------------- Forwarded by Janet Butler/ET&S/Enron on 11/06/2000 04:49 PM ---------------------------   Janet Butler 10/31/2000 04:12 PM To:\tChristi.L.Nicolay@enron.com, James D Steffes/NA/Enron@Enron, Rebecca.Cantrell@enron.com cc:\tShelley Corman/ET&S/Enron@Enron  Subject:\tInstructions for FERC Meetings     Here is the URL address for the Capitol Connection.  You should be able to simply click on this URL below and it should come up for you.  (This is assuming your computer is configured for Real Video/Audio).  We will pay for the annual contract and bill your cost centers.  You are connected for tomorrow as long as you have access to Real Video.  http://www.capitolconnection.gmu.edu/  Instructions:  Once into the Capitol Connection sight, click on FERC Click on first line (either \"click here\" or box) Dialogue box should require:  user name:  enron-y password:  fercnow  Real Player will connect you to the meeting  Expand your screen as you wish for easier viewing  Adjust your sound as you wish     \n",
            "\n",
            " anybody want four good tix to tonight's baseball game\n",
            "\n",
            " please add ---------------------- Forwarded by John Arnold/HOU/ECT on 03/21/2001 05:51 PM ---------------------------  Enron North America Corp.  From:  Debbie Nowak @ ENRON                           03/21/2001 12:57 PM   To: John Arnold/HOU/ECT@ECT cc: Subject: CONFIRMATION: March 30, 2001 Executive Forum   ---------------------- Forwarded by Debbie Nowak/HR/Corp/Enron on 03/21/2001 12:56 PM ---------------------------    From:  Debbie Nowak                           03/20/2001 09:02 AM   To: David Shields/ENRON_DEVELOPMENT@ENRON_DEVELOPMENT, Peter Styles/LON/ECT@ECT, Richard Lydecker/Corp/Enron@Enron, Kathleen E Magruder/HOU/EES@EES, Steve Pruett/Corp/Enron, George W Posey/HOU/EES@EES, Matt Harris/Enron Communications@Enron Communications, Richard L Zdunkewicz/HOU/EES@EES, Jeffrey T Hodge/HOU/ECT@ECT, Cheryl Lipshutz/HOU/EES@EES, Marty Sunde/HOU/EES@EES, Jesse Neyman/HOU/ECT@ECT, Scott Josey/Corp/Enron cc:  Subject: CONFIRMATION: March 30, 2001 Executive Forum   This is to confirm your attendance for the Friday, March 30, 2001 Executive Forum to be hosted by The Office of the Chairman.  The Forum will begin at 2:30 p.m. and ends at 4:00 p.m. in the Enron Building 50M.  If you have any additional questions, please feel free to give me a call.  Thank you.  Debbie Nowak Executive Development 713.853.3304   \n",
            "\n",
            " tara,  Please grant access to manage financial products to the following:  Janie Tholt Frank Ermis Steve South Tory Kuykendall Matt Lenhart Randy Gay  We are making markets on one day gas daily swaps.  Thank you.  Phillip Allen\n",
            "\n",
            "X-bcc: X-Folder: \\Robert_Badeer_Aug2000\\Notes Folders\\All documents X-Origin: Badeer-R X-FileName: rbadeer.nsf  Market Participants:  After yesterday's announcement of CMR stakeholder meeting schedule changes, we learned of a conflict with previously-scheduled meetings on August 15 that affected many of you who have been active in the CMR process.  As a result, we have rescheduled the stakeholder meetings to discuss details of the CMR Recommendation for August 16-18.  We give you specifics of these meetings as soon as they are available.  Byron Woertz Director, Client Relations\n",
            "\n",
            " it works.  thank you\n",
            "\n",
            " An update of the Summer 2001 Preparedness MIF presentation has been posted on the website. The update specifically addresses the Load Programs Schedule with clarification for the Vendor meeting and the Participant meeting. The link below will take you directly to the website.  http://www.caiso.com/docs/2000/06/12/200006121229457917.html  Don Fuller Director, Client Relations 916-608-7055 DFuller@caiso.com\n",
            "\n"
          ],
          "name": "stdout"
        }
      ]
    },
    {
      "cell_type": "code",
      "metadata": {
        "id": "yDeIEvoh2QYX",
        "colab_type": "code",
        "colab": {}
      },
      "source": [
        "#CLEAN DATA\n",
        "#remove whitespace\n",
        "df['email_body'] = df['email_body'].str.strip().str.lower()\n",
        "\n",
        "#Start with date\n",
        "df['email_body'].str.match('\\d?\\d/\\d?\\d/\\d{4}').all()\n",
        "\n",
        "#Replace all non-overlapping matches\n",
        "df['email_body'] = df['email_body'].str.replace('[^a-zA-Z\\s]', '').str.replace('\\s+', ' ')"
      ],
      "execution_count": 0,
      "outputs": []
    },
    {
      "cell_type": "code",
      "metadata": {
        "id": "7XGo8E78P5-L",
        "colab_type": "code",
        "outputId": "90d0a9eb-e5a3-4872-b17b-4b9bce6ef25a",
        "colab": {
          "base_uri": "https://localhost:8080/",
          "height": 67
        }
      },
      "source": [
        "import nltk\n",
        "import string\n",
        "nltk.download('stopwords')"
      ],
      "execution_count": 0,
      "outputs": [
        {
          "output_type": "stream",
          "text": [
            "[nltk_data] Downloading package stopwords to /root/nltk_data...\n",
            "[nltk_data]   Unzipping corpora/stopwords.zip.\n"
          ],
          "name": "stdout"
        },
        {
          "output_type": "execute_result",
          "data": {
            "text/plain": [
              "True"
            ]
          },
          "metadata": {
            "tags": []
          },
          "execution_count": 10
        }
      ]
    },
    {
      "cell_type": "code",
      "metadata": {
        "id": "UliBb6XAiObU",
        "colab_type": "code",
        "outputId": "4d9329aa-c91a-4e8e-cce5-cb008917c9b3",
        "colab": {
          "base_uri": "https://localhost:8080/",
          "height": 255
        }
      },
      "source": [
        "#Getting Stopwords\n",
        "import spacy\n",
        "from spacy.lang.en.stop_words import STOP_WORDS\n",
        "from nltk.corpus import stopwords\n",
        "from nltk.stem.snowball import SnowballStemmer\n",
        "from nltk.stem.wordnet import WordNetLemmatizer\n",
        "\n",
        "# define additional stop words\n",
        "import nltk\n",
        "import spacy\n",
        "\n",
        "nlp = spacy.load('en_core_web_sm')\n",
        "my_stop_words = ['i', 'me', 'my', 'myself', 'we', 'our', 'ours', 'ourselves', \n",
        "                 'you', \"you're\", \"you've\", \"you'll\", \"you'd\", 'your', 'yours', \n",
        "                 'yourself', 'yourselves', 'he', 'him', 'his', 'himself', 'she', \n",
        "                 \"she's\", 'her', 'hers', 'herself', 'it', \"it's\", 'its', 'itself', \n",
        "                 'they', 'them', 'their', 'theirs', 'themselves', 'what', 'which', \n",
        "                 'who', 'whom', 'this', 'that', \"that'll\", 'these', 'those', 'am', \n",
        "                 'is', 'are', 'was', 'were', 'be', 'been', 'being', 'have', 'has', \n",
        "                 'had', 'having', 'do', 'does', 'did', 'doing', 'a', 'an', 'the', \n",
        "                 'and', 'but', 'if', 'or', 'because', 'as', 'until', 'while', \n",
        "                 'of', 'at', 'by', 'for', 'with', 'about', 'against', 'between', \n",
        "                 'into', 'through', 'during', 'before', 'after', 'above', 'below',\n",
        "                 'to', 'from', 'up', 'down', 'in', 'out', 'on', 'off', 'over', 'under', \n",
        "                 'again', 'further', 'then', 'once', 'here', 'there', 'when', \n",
        "                 'where', 'why', 'how', 'all', 'any', 'both', 'each', 'few', \n",
        "                 'more', 'most', 'other', 'some', 'such', 'no', 'nor', 'not', \n",
        "                 'only', 'own', 'same', 'so', 'than', 'too', 'very', 's', 't', \n",
        "                 'can', 'will', 'just', 'don', \"don't\", 'should', \"should've\", \n",
        "                 'now', 'd', 'll', 'm', 'o', 're', 've', 'y', 'ain', 'aren', \n",
        "                 \"aren't\", 'couldn', \"couldn't\", 'didn', \"didn't\", 'doesn', \n",
        "                 \"doesn't\", 'hadn', \"hadn't\", 'hasn', \"hasn't\", 'haven', \n",
        "                 \"haven't\", 'isn', \"isn't\", 'ma', 'mightn', \"mightn't\", \n",
        "                 'mustn', \"mustn't\", 'needn', \"needn't\", 'shan', \"shan't\", \n",
        "                 'shouldn', \"shouldn't\", 'wasn', \"wasn't\", 'weren', \n",
        "                 \"weren't\", 'won', \"won't\", 'wouldn', \"wouldn't\"]\n",
        "\n",
        "STOP_WORDS = nlp.Defaults.stop_words.union(my_stop_words)\n",
        "\n",
        "stop = stopwords.words('english')\n",
        "sno = SnowballStemmer('english')\n",
        "print (stop)\n",
        "print('***************************************')\n",
        "print(sno.stem('tasty'))\n",
        "\n",
        "STOP_WORDS = list(STOP_WORDS)\n",
        "print('\\n'.join([word for word in STOP_WORDS[:10]]))"
      ],
      "execution_count": 0,
      "outputs": [
        {
          "output_type": "stream",
          "text": [
            "['i', 'me', 'my', 'myself', 'we', 'our', 'ours', 'ourselves', 'you', \"you're\", \"you've\", \"you'll\", \"you'd\", 'your', 'yours', 'yourself', 'yourselves', 'he', 'him', 'his', 'himself', 'she', \"she's\", 'her', 'hers', 'herself', 'it', \"it's\", 'its', 'itself', 'they', 'them', 'their', 'theirs', 'themselves', 'what', 'which', 'who', 'whom', 'this', 'that', \"that'll\", 'these', 'those', 'am', 'is', 'are', 'was', 'were', 'be', 'been', 'being', 'have', 'has', 'had', 'having', 'do', 'does', 'did', 'doing', 'a', 'an', 'the', 'and', 'but', 'if', 'or', 'because', 'as', 'until', 'while', 'of', 'at', 'by', 'for', 'with', 'about', 'against', 'between', 'into', 'through', 'during', 'before', 'after', 'above', 'below', 'to', 'from', 'up', 'down', 'in', 'out', 'on', 'off', 'over', 'under', 'again', 'further', 'then', 'once', 'here', 'there', 'when', 'where', 'why', 'how', 'all', 'any', 'both', 'each', 'few', 'more', 'most', 'other', 'some', 'such', 'no', 'nor', 'not', 'only', 'own', 'same', 'so', 'than', 'too', 'very', 's', 't', 'can', 'will', 'just', 'don', \"don't\", 'should', \"should've\", 'now', 'd', 'll', 'm', 'o', 're', 've', 'y', 'ain', 'aren', \"aren't\", 'couldn', \"couldn't\", 'didn', \"didn't\", 'doesn', \"doesn't\", 'hadn', \"hadn't\", 'hasn', \"hasn't\", 'haven', \"haven't\", 'isn', \"isn't\", 'ma', 'mightn', \"mightn't\", 'mustn', \"mustn't\", 'needn', \"needn't\", 'shan', \"shan't\", 'shouldn', \"shouldn't\", 'wasn', \"wasn't\", 'weren', \"weren't\", 'won', \"won't\", 'wouldn', \"wouldn't\"]\n",
            "***************************************\n",
            "tasti\n",
            "hadn\n",
            "already\n",
            "throughout\n",
            "however\n",
            "whereafter\n",
            "ain\n",
            "although\n",
            "be\n",
            "forty\n",
            "do\n"
          ],
          "name": "stdout"
        }
      ]
    },
    {
      "cell_type": "code",
      "metadata": {
        "id": "hlky5wp6YZtt",
        "colab_type": "code",
        "colab": {}
      },
      "source": [
        "tokens = []\n",
        "for doc in nlp.pipe(df['email_body'], batch_size=500):\n",
        "\n",
        "    doc_tokens = []\n",
        "\n",
        "    for token in doc:\n",
        "        if (token.is_stop == False) & (token.is_punct == False):\n",
        "            doc_tokens.append(token.lemma_.lower())\n",
        "\n",
        "    tokens.append(doc_tokens)\n",
        "\n",
        "df['tokens'] = tokens"
      ],
      "execution_count": 0,
      "outputs": []
    },
    {
      "cell_type": "code",
      "metadata": {
        "id": "EdpPGC91YZtx",
        "colab_type": "code",
        "outputId": "a20bb99f-3494-400a-d47b-d3d32b415f2b",
        "colab": {
          "base_uri": "https://localhost:8080/",
          "height": 118
        }
      },
      "source": [
        "df['tokens'].head()"
      ],
      "execution_count": 0,
      "outputs": [
        {
          "output_type": "execute_result",
          "data": {
            "text/plain": [
              "0                                           [forecast]\n",
              "1    [travel, business, meeting, take, fun, trip, e...\n",
              "2                              [test, successful, way]\n",
              "3    [randy, send, schedule, salary, level, schedul...\n",
              "4                                [let, shoot, tuesday]\n",
              "Name: tokens, dtype: object"
            ]
          },
          "metadata": {
            "tags": []
          },
          "execution_count": 14
        }
      ]
    },
    {
      "cell_type": "code",
      "metadata": {
        "id": "qW-ydKWeYZuE",
        "colab_type": "code",
        "outputId": "be5a5355-fe8a-4f8c-d197-443753d136f6",
        "colab": {
          "base_uri": "https://localhost:8080/",
          "height": 34
        }
      },
      "source": [
        "id2word = Dictionary(df['tokens'])\n",
        "print(len(id2word))"
      ],
      "execution_count": 0,
      "outputs": [
        {
          "output_type": "stream",
          "text": [
            "45828\n"
          ],
          "name": "stdout"
        }
      ]
    },
    {
      "cell_type": "code",
      "metadata": {
        "id": "r0sCngOsYZuI",
        "colab_type": "code",
        "outputId": "1b58af96-c89b-4a9d-a88e-18c01703b961",
        "colab": {
          "base_uri": "https://localhost:8080/",
          "height": 34
        }
      },
      "source": [
        "id2word.filter_extremes(no_below=5, no_above=.98)\n",
        "print(len(id2word))"
      ],
      "execution_count": 0,
      "outputs": [
        {
          "output_type": "stream",
          "text": [
            "14979\n"
          ],
          "name": "stdout"
        }
      ]
    },
    {
      "cell_type": "code",
      "metadata": {
        "id": "QNZoA36BYZuP",
        "colab_type": "code",
        "colab": {}
      },
      "source": [
        "#https://radimrehurek.com/gensim/corpora/dictionary.html\n",
        "\n",
        "corpus = [id2word.doc2bow(d) for d in df['tokens']]"
      ],
      "execution_count": 0,
      "outputs": []
    },
    {
      "cell_type": "code",
      "metadata": {
        "id": "oQh81puoYZuV",
        "colab_type": "code",
        "colab": {}
      },
      "source": [
        "lda = LdaMulticore(corpus=corpus,\n",
        "                   id2word=id2word,\n",
        "                   random_state=723812,\n",
        "                   num_topics = 15,\n",
        "                   passes=10,\n",
        "                   workers=12\n",
        "                  )"
      ],
      "execution_count": 0,
      "outputs": []
    },
    {
      "cell_type": "code",
      "metadata": {
        "id": "1dnNU6IdYZuX",
        "colab_type": "code",
        "colab": {}
      },
      "source": [
        "model = LdaMulticore(corpus=corpus, num_topics=10, id2word=id2word, workers=12, passes=5)"
      ],
      "execution_count": 0,
      "outputs": []
    },
    {
      "cell_type": "code",
      "metadata": {
        "id": "7U5v5vj_YZua",
        "colab_type": "code",
        "colab": {}
      },
      "source": [
        "import re\n",
        "\n",
        "words = [re.findall(r'\"([^\"]*)\"',t[1]) for t in model.print_topics()]"
      ],
      "execution_count": 0,
      "outputs": []
    },
    {
      "cell_type": "code",
      "metadata": {
        "id": "Zr61YmT2YZuc",
        "colab_type": "code",
        "colab": {}
      },
      "source": [
        "topics = [' '.join(t[0:5]) for t in words]"
      ],
      "execution_count": 0,
      "outputs": []
    },
    {
      "cell_type": "code",
      "metadata": {
        "id": "FVsC1adZYZue",
        "colab_type": "code",
        "outputId": "d3a2ef07-dd05-44cf-cf5d-24f729d325eb",
        "colab": {
          "base_uri": "https://localhost:8080/",
          "height": 353
        }
      },
      "source": [
        "for id, t in enumerate(topics): \n",
        "    print(f\"------ Topic {id} ------\")\n",
        "    print(t, end=\"\\n\")"
      ],
      "execution_count": 0,
      "outputs": [
        {
          "output_type": "stream",
          "text": [
            "------ Topic 0 ------\n",
            "request email cost market iso\n",
            "------ Topic 1 ------\n",
            "enron email pm send subject\n",
            "------ Topic 2 ------\n",
            "buy day wine enron price\n",
            "------ Topic 3 ------\n",
            "market power price enron say\n",
            "------ Topic 4 ------\n",
            "enron say company energy power\n",
            "------ Topic 5 ------\n",
            "image company enron message gas\n",
            "------ Topic 6 ------\n",
            "pm subject time send outage\n",
            "------ Topic 7 ------\n",
            "phillip john subject pm k\n",
            "------ Topic 8 ------\n",
            "john subject pm send message\n",
            "------ Topic 9 ------\n",
            "email gas spread price chart\n"
          ],
          "name": "stdout"
        }
      ]
    },
    {
      "cell_type": "code",
      "metadata": {
        "id": "h935vng4avNg",
        "colab_type": "code",
        "outputId": "6d8b5490-c21d-414e-b7d4-92d4ffd36ef4",
        "colab": {
          "base_uri": "https://localhost:8080/",
          "height": 605
        }
      },
      "source": [
        "!pip install pyLDAvis\n",
        "import pyLDAvis"
      ],
      "execution_count": 0,
      "outputs": [
        {
          "output_type": "stream",
          "text": [
            "Collecting pyLDAvis\n",
            "\u001b[?25l  Downloading https://files.pythonhosted.org/packages/a5/3a/af82e070a8a96e13217c8f362f9a73e82d61ac8fff3a2561946a97f96266/pyLDAvis-2.1.2.tar.gz (1.6MB)\n",
            "\u001b[K     |████████████████████████████████| 1.6MB 9.8MB/s \n",
            "\u001b[?25hRequirement already satisfied: wheel>=0.23.0 in /usr/local/lib/python3.6/dist-packages (from pyLDAvis) (0.34.2)\n",
            "Requirement already satisfied: numpy>=1.9.2 in /usr/local/lib/python3.6/dist-packages (from pyLDAvis) (1.18.4)\n",
            "Requirement already satisfied: scipy>=0.18.0 in /usr/local/lib/python3.6/dist-packages (from pyLDAvis) (1.4.1)\n",
            "Requirement already satisfied: pandas>=0.17.0 in /usr/local/lib/python3.6/dist-packages (from pyLDAvis) (1.0.3)\n",
            "Requirement already satisfied: joblib>=0.8.4 in /usr/local/lib/python3.6/dist-packages (from pyLDAvis) (0.15.0)\n",
            "Requirement already satisfied: jinja2>=2.7.2 in /usr/local/lib/python3.6/dist-packages (from pyLDAvis) (2.11.2)\n",
            "Requirement already satisfied: numexpr in /usr/local/lib/python3.6/dist-packages (from pyLDAvis) (2.7.1)\n",
            "Requirement already satisfied: pytest in /usr/local/lib/python3.6/dist-packages (from pyLDAvis) (3.6.4)\n",
            "Requirement already satisfied: future in /usr/local/lib/python3.6/dist-packages (from pyLDAvis) (0.16.0)\n",
            "Collecting funcy\n",
            "\u001b[?25l  Downloading https://files.pythonhosted.org/packages/ce/4b/6ffa76544e46614123de31574ad95758c421aae391a1764921b8a81e1eae/funcy-1.14.tar.gz (548kB)\n",
            "\u001b[K     |████████████████████████████████| 552kB 54.5MB/s \n",
            "\u001b[?25hRequirement already satisfied: python-dateutil>=2.6.1 in /usr/local/lib/python3.6/dist-packages (from pandas>=0.17.0->pyLDAvis) (2.8.1)\n",
            "Requirement already satisfied: pytz>=2017.2 in /usr/local/lib/python3.6/dist-packages (from pandas>=0.17.0->pyLDAvis) (2018.9)\n",
            "Requirement already satisfied: MarkupSafe>=0.23 in /usr/local/lib/python3.6/dist-packages (from jinja2>=2.7.2->pyLDAvis) (1.1.1)\n",
            "Requirement already satisfied: py>=1.5.0 in /usr/local/lib/python3.6/dist-packages (from pytest->pyLDAvis) (1.8.1)\n",
            "Requirement already satisfied: setuptools in /usr/local/lib/python3.6/dist-packages (from pytest->pyLDAvis) (46.3.0)\n",
            "Requirement already satisfied: pluggy<0.8,>=0.5 in /usr/local/lib/python3.6/dist-packages (from pytest->pyLDAvis) (0.7.1)\n",
            "Requirement already satisfied: atomicwrites>=1.0 in /usr/local/lib/python3.6/dist-packages (from pytest->pyLDAvis) (1.4.0)\n",
            "Requirement already satisfied: six>=1.10.0 in /usr/local/lib/python3.6/dist-packages (from pytest->pyLDAvis) (1.12.0)\n",
            "Requirement already satisfied: attrs>=17.4.0 in /usr/local/lib/python3.6/dist-packages (from pytest->pyLDAvis) (19.3.0)\n",
            "Requirement already satisfied: more-itertools>=4.0.0 in /usr/local/lib/python3.6/dist-packages (from pytest->pyLDAvis) (8.2.0)\n",
            "Building wheels for collected packages: pyLDAvis, funcy\n",
            "  Building wheel for pyLDAvis (setup.py) ... \u001b[?25l\u001b[?25hdone\n",
            "  Created wheel for pyLDAvis: filename=pyLDAvis-2.1.2-py2.py3-none-any.whl size=97711 sha256=e578b6a84db1371a88ff0256f5015b1d7c0e278e22d95bbbfd83322d2b08d9d7\n",
            "  Stored in directory: /root/.cache/pip/wheels/98/71/24/513a99e58bb6b8465bae4d2d5e9dba8f0bef8179e3051ac414\n",
            "  Building wheel for funcy (setup.py) ... \u001b[?25l\u001b[?25hdone\n",
            "  Created wheel for funcy: filename=funcy-1.14-py2.py3-none-any.whl size=32042 sha256=cb12e59f211c20a11d44c3b0e0a24af2ed30aefe8ad04046db6f2c1740e9910f\n",
            "  Stored in directory: /root/.cache/pip/wheels/20/5a/d8/1d875df03deae6f178dfdf70238cca33f948ef8a6f5209f2eb\n",
            "Successfully built pyLDAvis funcy\n",
            "Installing collected packages: funcy, pyLDAvis\n",
            "Successfully installed funcy-1.14 pyLDAvis-2.1.2\n"
          ],
          "name": "stdout"
        }
      ]
    },
    {
      "cell_type": "code",
      "metadata": {
        "id": "bVhMkSiLazW_",
        "colab_type": "code",
        "outputId": "99a3491c-e82a-486d-b9f7-2aaa824f49bd",
        "colab": {
          "base_uri": "https://localhost:8080/",
          "height": 861
        }
      },
      "source": [
        "import pyLDAvis.gensim\n",
        "\n",
        "pyLDAvis.enable_notebook()\n",
        "\n",
        "pyLDAvis.gensim.prepare(model, corpus, id2word)"
      ],
      "execution_count": 0,
      "outputs": [
        {
          "output_type": "execute_result",
          "data": {
            "text/html": [
              "\n",
              "<link rel=\"stylesheet\" type=\"text/css\" href=\"https://cdn.rawgit.com/bmabey/pyLDAvis/files/ldavis.v1.0.0.css\">\n",
              "\n",
              "\n",
              "<div id=\"ldavis_el1221402082260619127402095492\"></div>\n",
              "<script type=\"text/javascript\">\n",
              "\n",
              "var ldavis_el1221402082260619127402095492_data = {\"mdsDat\": {\"x\": [-0.11630990304231739, 0.05494792538199452, 0.18378874464933997, -0.03948736908284047, -0.06064248230736035, -0.035966959550378284, 0.04306970977873318, -0.025084390546393057, -0.02680374846758518, 0.02248847318680717], \"y\": [0.049421308006618835, -0.0059940913044419005, 0.02696644606240132, 0.0279660783091183, -0.06008208979211824, 0.04927723138249156, -0.025050631945889492, -0.11604834542938078, 0.05440311449021915, -0.0008590197790191191], \"topics\": [1, 2, 3, 4, 5, 6, 7, 8, 9, 10], \"cluster\": [1, 1, 1, 1, 1, 1, 1, 1, 1, 1], \"Freq\": [21.221546173095703, 17.427230834960938, 13.102701187133789, 10.88709545135498, 10.115371704101562, 5.953597545623779, 5.639209747314453, 5.594695568084717, 5.228474140167236, 4.830076694488525]}, \"tinfo\": {\"Term\": [\"pm\", \"image\", \"email\", \"john\", \"subject\", \"enron\", \"company\", \"buy\", \"message\", \"phillip\", \"say\", \"send\", \"cc\", \"original\", \"gas\", \"spread\", \"wine\", \"price\", \"day\", \"outage\", \"offer\", \"market\", \"iso\", \"et\", \"power\", \"sit\", \"chart\", \"time\", \"k\", \"request\", \"queue\", \"aeco\", \"httpexpensexmsenroncom\", \"kingsgate\", \"rappaport\", \"investmentgrade\", \"kyoto\", \"moodys\", \"afx\", \"hindu\", \"httpinteractivewsjcomusercgibinsearchuserplactionemailalert\", \"junk\", \"mapping\", \"dabhol\", \"indias\", \"mseb\", \"baa\", \"fleischer\", \"arabia\", \"inquiriesinteractivewsjcom\", \"greenfield\", \"maharashtra\", \"dlrs\", \"admired\", \"rove\", \"arbitration\", \"heim\", \"criminal\", \"saudi\", \"shaybah\", \"qatar\", \"dpc\", \"cheney\", \"houstonbased\", \"fastow\", \"tata\", \"sec\", \"abu\", \"india\", \"ljm\", \"associated\", \"dynegy\", \"indian\", \"houstonbase\", \"shareholder\", \"billion\", \"rating\", \"english\", \"companys\", \"securities\", \"dow\", \"copyright\", \"say\", \"jones\", \"cent\", \"stock\", \"percent\", \"enron\", \"company\", \"reuters\", \"share\", \"debt\", \"investor\", \"partnership\", \"chief\", \"million\", \"asset\", \"mr\", \"energy\", \"inc\", \"reserve\", \"business\", \"financial\", \"power\", \"year\", \"state\", \"new\", \"news\", \"corp\", \"report\", \"service\", \"market\", \"gas\", \"not\", \"price\", \"deal\", \"s\", \"credit\", \"week\", \"otmc\", \"otmp\", \"shivelyhouect\", \"daman\", \"edie\", \"std\", \"seversonhouect\", \"chairperson\", \"millshouect\", \"severudehouect\", \"physicalfinancail\", \"jerky\", \"prank\", \"leschber\", \"sturmhouect\", \"restaurantmp\", \"cicchetti\", \"iwon\", \"fangme\", \"rory\", \"brianhoskinsenronnet\", \"httpintelligencepresscom\", \"painewebber\", \"apoct\", \"absulte\", \"updating\", \"recoverywill\", \"surpise\", \"econmic\", \"equivalence\", \"fraserenronenronxgate\", \"ospraie\", \"torrey\", \"sweitzer\", \"zhucorpenronenron\", \"hoskinsenron\", \"fangmingzhuenroncom\", \"wager\", \"skogsagarna\", \"gapinski\", \"fraser\", \"margaret\", \"arnoldect\", \"pira\", \"jen\", \"hu\", \"arnold\", \"buycom\", \"john\", \"arnoldhouectect\", \"original\", \"privileged\", \"send\", \"subject\", \"recipient\", \"message\", \"be\", \"curve\", \"instruction\", \"cc\", \"vol\", \"andor\", \"think\", \"eol\", \"jennifer\", \"thank\", \"pm\", \"go\", \"october\", \"ill\", \"order\", \"meeting\", \"monday\", \"not\", \"deal\", \"know\", \"email\", \"s\", \"good\", \"gas\", \"position\", \"like\", \"forward\", \"enron\", \"time\", \"week\", \"need\", \"price\", \"phillip\", \"confebc\", \"rahal\", \"fallonhouectect\", \"salespopswinecom\", \"wv\", \"bawahouectect\", \"toni\", \"pops\", \"burnshouectect\", \"jonathon\", \"spb\", \"pielop\", \"markintelligencepresscom\", \"heu\", \"heizenrader\", \"mclean\", \"marquezcorpenronenron\", \"mcquadehouectect\", \"stephane\", \"seasonrestructuringtodaycom\", \"georgerahalacnpowercom\", \"energyill\", \"outofstock\", \"grahamcorpenronenronvince\", \"orourkehouectect\", \"masson\", \"managerpossible\", \"rtpdf\", \"wwwpopswinecom\", \"grigsby\", \"kuykendall\", \"ermis\", \"dunton\", \"reitmeyer\", \"tholt\", \"forney\", \"matthew\", \"gilbertsmith\", \"lenhart\", \"brawner\", \"jae\", \"tori\", \"sanchez\", \"debra\", \"shively\", \"buckley\", \"charsetusascii\", \"contenttransferencoding\", \"baughman\", \"mckay\", \"tricoli\", \"textplain\", \"jay\", \"leslie\", \"rogers\", \"tycholiz\", \"xfrom\", \"holst\", \"lisa\", \"allenhouectect\", \"tim\", \"mimeversion\", \"phillip\", \"kevin\", \"xto\", \"contenttype\", \"k\", \"mike\", \"christi\", \"chris\", \"joe\", \"david\", \"allenhouect\", \"jason\", \"j\", \"scott\", \"migration\", \"robert\", \"frank\", \"xcc\", \"daniel\", \"mark\", \"forward\", \"paul\", \"john\", \"allen\", \"jeff\", \"cc\", \"m\", \"subject\", \"l\", \" \", \"michael\", \"w\", \"pm\", \"thank\", \"attach\", \"xfilename\", \"send\", \"need\", \"know\", \"question\", \"s\", \"gas\", \"message\", \"adjustable\", \"outlier\", \"ratcliff\", \"intersc\", \"harrassment\", \"bund\", \"liquefaction\", \"sonat\", \"decisiion\", \"narrower\", \"propsoe\", \"unch\", \"pesot\", \"downcrude\", \"replatting\", \"arredondo\", \"mancino\", \"predictive\", \"kedavis\", \"bobl\", \"nothinguk\", \"parser\", \"estimation\", \"reasonableness\", \"profnl\", \"boxter\", \"thwhat\", \"merten\", \"alpert\", \"pretax\", \"tcv\", \"corestaff\", \"eur\", \"mou\", \"mg\", \"issuance\", \"aftertax\", \"pergher\", \"bilateral\", \"sdge\", \"gunther\", \"hoffmanpdxect\", \"active\", \"legislature\", \"leopold\", \"dj\", \"cap\", \"republicans\", \"sb\", \"compaq\", \"diego\", \"nortel\", \"market\", \"puc\", \"ebs\", \"net\", \"generator\", \"complaint\", \"power\", \"utility\", \"socal\", \"electricity\", \"california\", \"price\", \"iso\", \"work\", \"ferc\", \"supply\", \"state\", \"trade\", \"energy\", \"san\", \"commission\", \"say\", \"business\", \"position\", \"customer\", \"time\", \"contract\", \"gas\", \"million\", \"enron\", \"purchase\", \"new\", \"service\", \"not\", \"company\", \"need\", \"report\", \"day\", \"john\", \"email\", \"subject\", \"know\", \"httpitcappscorpenroncomsrrsauthemaillinkaspidpageapproval\", \"rentable\", \"fitness\", \"amenity\", \"nahoutrdhoustonpwrcommonpowerregion\", \"ufe\", \"gasdoc\", \"nahoutrdhoustonpwrcommonelectric\", \"issues\", \"fieldsid\", \"masonry\", \"roman\", \"sic\", \"masterdisc\", \"cftcngdoc\", \"httpwwwcaisocomdocshtml\", \"datacom\", \"jl\", \"internship\", \"httpitcappscorpenroncomsrrsauthemaillinkaspidpage\", \"nameserver\", \"autowebcom\", \"ssn\", \"maxdiscusazip\", \"mattsmithenroncom\", \"disbursement\", \"kinkos\", \"httpwwwdatacommarketingcom\", \"rosenbury\", \"recourse\", \"disc\", \"cb\", \"multex\", \"presold\", \"httpwwwmultexinvestorcomedituinfoasp\", \"appraisal\", \"udc\", \"appraise\", \"creekside\", \"ver\", \"land\", \"loan\", \"md\", \"permanent\", \"improvement\", \"admin\", \"domain\", \"httpwwwmultexinvestorcomdownloadaspdocidnd\", \"request\", \"construction\", \"builder\", \"tech\", \"zip\", \"resource\", \"record\", \"cost\", \"iso\", \"fee\", \"site\", \"approval\", \"yahoo\", \"click\", \"remove\", \"include\", \"project\", \"information\", \"client\", \"unit\", \"free\", \"address\", \"program\", \"email\", \"market\", \"provide\", \"review\", \"new\", \"need\", \"find\", \"use\", \"service\", \"receive\", \"report\", \"question\", \"phillip\", \"enron\", \"contact\", \"follow\", \"time\", \"day\", \"propt\", \"httpwwwzdnetoneboxcom\", \"onebox\", \"fcm\", \"docdoc\", \"assignmentsample\", \"tantamount\", \"algebraic\", \"reis\", \"strada\", \"nothingshare\", \"michaelbyrneamericasbnpparibascom\", \"toute\", \"avertir\", \"businesswire\", \"vous\", \"interdite\", \"lycos\", \"chg\", \"dans\", \"declinent\", \"sont\", \"diffusion\", \"imagethe\", \"modifie\", \"lintegrite\", \"filiale\", \"totale\", \"detruire\", \"etablis\", \"lexpediteur\", \"bnp\", \"image\", \"ses\", \"immediatement\", \"utilisation\", \"paribas\", \"responsabilite\", \"destinataire\", \"et\", \"ce\", \"ou\", \"imageimage\", \"de\", \"merci\", \"le\", \"company\", \"continental\", \"t\", \"message\", \"offer\", \"management\", \"free\", \"gas\", \"news\", \"enron\", \"share\", \"value\", \"ts\", \"inc\", \"est\", \"receive\", \"energy\", \"subject\", \"price\", \"email\", \"pm\", \"s\", \"new\", \"year\", \"cc\", \"say\", \"market\", \"project\", \"send\", \"showtimes\", \"showtime\", \"httpiosetsenroncominfopostingssharedetnoncriticalnoticeaspcompany\", \"backout\", \"enpower\", \"rrobert\", \"amc\", \"redford\", \"velocity\", \"tails\", \"disk\", \"tail\", \"ardmore\", \"cpr\", \"dunvale\", \"oncall\", \"coin\", \"rusgopsgeotoolsaprs\", \"sapisc\", \"concordjpg\", \"ossuatarp\", \"pt\", \"tickleless\", \"multicinema\", \"edi\", \"flip\", \"assistantschedule\", \"sunoss\", \"ttcs\", \"outage\", \"dolore\", \"wwwsailmainecoastcomindexhtml\", \"scheduled\", \"sun\", \"sit\", \"unify\", \"pager\", \"fri\", \"ct\", \"wardenronenronxgate\", \"sauce\", \"evite\", \"epaombahbsedu\", \"pm\", \"malcolm\", \"server\", \"london\", \"environment\", \"wells\", \"impact\", \"pao\", \"schedule\", \"ward\", \"eva\", \"head\", \"purpose\", \"kim\", \"game\", \"time\", \"subject\", \"original\", \"play\", \"sunday\", \"send\", \"message\", \"s\", \"cc\", \"not\", \"new\", \"week\", \"want\", \"contact\", \"need\", \"pay\", \"price\", \"information\", \"enron\", \"look\", \"john\", \"work\", \"frogger\", \"shockwavecom\", \"shockmachine\", \"accum\", \"upgradedowngrade\", \"upgradesdowngradescoverage\", \"hlopak\", \"mcnary\", \"millesine\", \"arcade\", \"soundview\", \"ewscct\", \"idealistic\", \"httpshockwavemnetmushksaspepallenenroncom\", \"shockwavecomshockwavemnet\", \"nighthehe\", \"towbin\", \"dlj\", \"unterberg\", \"brut\", \"awake\", \"swaps\", \"thief\", \"wessel\", \"electronicpdf\", \"similiar\", \"dame\", \"jacquart\", \"sand\", \"philosophical\", \"earningscom\", \"sauvignon\", \"pinot\", \"cashiola\", \"chardonnay\", \"cabernet\", \"zinfandel\", \"merlot\", \"wine\", \"librarycom\", \"flavor\", \"grigio\", \"continentalcom\", \"sheraton\", \"fruit\", \"specs\", \"duplex\", \"initiate\", \"hilton\", \"avaya\", \"coverage\", \"onepass\", \"vineyard\", \"taste\", \"miles\", \"nj\", \"hp\", \"downgrade\", \"rental\", \"buy\", \"hotel\", \"upgrade\", \"reservation\", \"santa\", \"day\", \"special\", \"strong\", \"valid\", \"rate\", \"tx\", \"lot\", \"good\", \"price\", \"car\", \"sell\", \"offer\", \"not\", \"enron\", \"point\", \"phillip\", \"year\", \"date\", \"week\", \"know\", \"new\", \"email\", \"market\", \"term\", \"subject\", \"time\", \"work\", \"send\", \"pm\", \"like\", \"include\", \"pepl\", \"httpwwwcarrfutcomresearchenergystripmatrixngpdf\", \"httpwwwcarrfutcomresearchenergyhoilpdf\", \"httpwwwcarrfutcomresearchenergycrudepdf\", \"httpwwwcarrfutcomresearchenergyunldedpdf\", \"httpwwwcarrfutcomresearchenergyspreadmatrixngpdf\", \"httpwwwcarrfutcomresearchenergyngaspdf\", \"gasheat\", \"httpwwwwinebidcomositemhtmlhtshtml\", \"httpwwwcarrfutcomresearchenergyspreadmatrixclpdf\", \"unlead\", \"tyh\", \"httpwwwcarrfutcomresearchenergygascrackpdf\", \"crudepdf\", \"oblander\", \"httpwwwcarrfutcomresearchenergyheatcrackpdf\", \"httpwwwcarrfutcomresearchenergyhofhogpdf\", \"wacker\", \"carr\", \"httpwwwcarrfutcomresearchenergystripmatrixpdf\", \"httpwwwcarrfutcomresearchenergycandlestickspdf\", \"vishal\", \"httpwwwcarrfutcomresearchenergyhuxhoxpdf\", \"decmay\", \"httpwwwcarrfutcom\", \"httpwwwcarrfutcomresearchenergyhuxhuhpdf\", \"soblandercarrfutcom\", \"wtibrent\", \"httpwwwcarrfutcomresearchenergyhuzhozpdf\", \"carlstrom\", \"matrix\", \"distillate\", \"intensity\", \"ews\", \"candlestick\", \"unleaded\", \"chart\", \"author\", \"differ\", \"httpcgizdnetcomslinkadeskbadt\", \"kroner\", \"offset\", \"spread\", \"reliable\", \"solicitation\", \"futures\", \"hot\", \"email\", \"accurate\", \"instrument\", \"chicago\", \"contain\", \"express\", \"link\", \"web\", \"nat\", \"future\", \"gas\", \"respect\", \"crude\", \"sell\", \"buy\", \"offer\", \"price\", \"power\", \"year\", \"information\", \"click\", \"s\", \"john\", \"trade\", \"base\", \"say\", \"houston\", \"natural\", \"subject\", \"new\", \"forwardcuz\", \"suckhope\", \"usfuel\", \"spotweddoc\", \"ems\", \"cpt\", \"witho\", \"onpea\", \"interco\", \"recious\", \"tinentalexchange\", \"intercon\", \"jpi\", \"merican\", \"marge\", \"gbush\", \"prevailin\", \"infoseek\", \"rthermore\", \"msword\", \"nadasky\", \"erthecounter\", \"intercontinentalexc\", \"websupportmoneynetcom\", \"boettcher\", \"etkt\", \"diza\", \"ibuyit\", \"pjmwest\", \"wiltfong\", \"shielah\", \"marde\", \"appendix\", \"munson\", \"tracker\", \"intercontinentalexchange\", \"amunsonbmccom\", \"sr\", \"jenniferarnold\", \"stephenmorseenronnet\", \"universal\", \"soccer\", \"cup\", \"sponsorship\", \"cmr\", \"congestion\", \"communicationsenron\", \"pegasus\", \"mailer\", \"communications\", \"passcode\", \"invoice\", \"specialist\", \"salesintcxcom\", \"bmc\", \"rmt\", \"dicarlo\", \"portfolio\", \"wtd\", \"recommendation\", \"sourcing\", \"conference\", \"stakeholder\", \"consent\", \"colleen\", \"email\", \"louis\", \"east\", \"enron\", \"central\", \"letter\", \"management\", \"director\", \"question\", \"ebs\", \"thank\", \"participant\", \"service\", \"send\", \"team\", \"file\", \"number\", \"smith\", \"provide\", \"forward\", \"cc\", \"pm\", \"subject\", \"receive\", \"time\", \"market\", \"meeting\", \"message\", \"date\", \"xfilename\", \"include\", \"know\", \"power\", \"energy\"], \"Freq\": [8200.0, 3027.0, 5846.0, 7569.0, 7832.0, 12169.0, 5890.0, 2568.0, 4472.0, 4020.0, 5903.0, 4898.0, 4994.0, 3138.0, 4826.0, 955.0, 655.0, 4823.0, 2896.0, 517.0, 2065.0, 5277.0, 1788.0, 623.0, 4119.0, 534.0, 520.0, 3856.0, 2392.0, 1740.0, 24.519746780395508, 17.416963577270508, 10.884724617004395, 33.466094970703125, 10.707916259765625, 48.986392974853516, 28.89653205871582, 187.24972534179688, 111.79574584960938, 35.12639236450195, 13.156625747680664, 67.87370300292969, 16.968303680419922, 251.51617431640625, 67.44225311279297, 162.25933837890625, 33.77846908569336, 47.71587371826172, 41.00542068481445, 12.99566650390625, 27.018884658813477, 129.3118438720703, 48.55926513671875, 8.424626350402832, 25.06837272644043, 51.16886520385742, 28.795669555664062, 10.268814086914062, 134.94776916503906, 24.053428649902344, 66.68640899658203, 177.82823181152344, 43.50736618041992, 39.78520202636719, 324.6703186035156, 64.0797119140625, 228.77615356445312, 52.18437194824219, 419.6355285644531, 153.86180114746094, 136.5855255126953, 657.228759765625, 189.33848571777344, 107.16756439208984, 280.7526550292969, 1138.5452880859375, 483.4169921875, 202.29483032226562, 465.0003662109375, 201.62240600585938, 1075.944580078125, 880.0438842773438, 3791.221435546875, 1092.3546142578125, 604.2647094726562, 1378.2535400390625, 665.3529052734375, 6711.3759765625, 3431.756103515625, 444.3028564453125, 1202.307373046875, 514.3406372070312, 830.4816284179688, 542.9972534179688, 482.123291015625, 1009.3800048828125, 486.56683349609375, 463.70965576171875, 1548.68603515625, 1036.6856689453125, 699.146240234375, 1193.4510498046875, 871.233642578125, 1488.6407470703125, 1324.0126953125, 808.7728271484375, 1372.04443359375, 666.8223266601562, 784.7564086914062, 827.3237915039062, 834.438720703125, 1129.0224609375, 1069.868408203125, 988.5591430664062, 986.4422607421875, 784.8196411132812, 831.012939453125, 701.64501953125, 702.6559448242188, 170.09654235839844, 164.1197967529297, 34.56541061401367, 20.575084686279297, 22.397422790527344, 190.63209533691406, 30.709049224853516, 41.81110382080078, 30.590843200683594, 30.549898147583008, 26.80130386352539, 12.01192569732666, 12.000974655151367, 18.395729064941406, 26.700153350830078, 11.995944023132324, 41.17491912841797, 39.87216567993164, 79.01041412353516, 13.731582641601562, 37.879852294921875, 13.689826965332031, 168.58258056640625, 15.38878059387207, 9.042313575744629, 13.569022178649902, 9.039373397827148, 9.033390045166016, 9.033333778381348, 9.022089004516602, 139.8472442626953, 27.184919357299805, 22.46776580810547, 16.203468322753906, 16.094606399536133, 87.85205078125, 22.213069915771484, 73.59812927246094, 38.03572082519531, 54.31998825073242, 392.9708251953125, 405.56976318359375, 62.097511291503906, 160.55467224121094, 154.23138427734375, 61.9254035949707, 1254.56591796875, 122.51731872558594, 4104.9482421875, 849.3970947265625, 1810.79638671875, 121.48680877685547, 2494.31982421875, 3691.46728515625, 367.6934814453125, 2215.693115234375, 686.603515625, 307.53759765625, 247.1877899169922, 2089.5078125, 211.98165893554688, 317.5754699707031, 1084.9517822265625, 308.9700622558594, 666.7896118164062, 1428.7811279296875, 2615.89990234375, 865.4173583984375, 643.740478515625, 343.7254943847656, 628.273193359375, 800.8070678710938, 687.1375732421875, 1153.621337890625, 820.711181640625, 900.27978515625, 1303.738037109375, 971.282470703125, 714.4642944335938, 1095.6998291015625, 497.1902770996094, 737.1727905273438, 835.4867553710938, 1526.7940673828125, 860.081298828125, 746.8148803710938, 745.5813598632812, 805.0006103515625, 709.4100952148438, 45.7228889465332, 15.577627182006836, 19.106348037719727, 14.451316833496094, 15.095855712890625, 14.996362686157227, 18.675790786743164, 10.623021125793457, 18.546815872192383, 14.880248069763184, 15.0094633102417, 14.765390396118164, 7.871562957763672, 30.541492462158203, 51.45487976074219, 7.857148170471191, 11.296192169189453, 17.98286247253418, 15.594759941101074, 11.289602279663086, 7.794184684753418, 7.794876575469971, 6.886238098144531, 7.754781246185303, 17.81924819946289, 7.744202613830566, 10.346074104309082, 11.20244312286377, 7.700711250305176, 198.9368438720703, 62.72959518432617, 86.59575653076172, 20.49462127685547, 90.36376190185547, 83.61205291748047, 46.26551818847656, 259.09173583984375, 52.582122802734375, 85.8707275390625, 38.53076171875, 59.39148712158203, 92.74917602539062, 59.34962844848633, 63.903663635253906, 149.31358337402344, 60.79844665527344, 155.56524658203125, 152.47265625, 70.12932586669922, 59.12836837768555, 35.21963119506836, 161.8206024169922, 230.30331420898438, 109.574462890625, 111.6214599609375, 70.47257232666016, 218.22152709960938, 111.63758087158203, 222.0735626220703, 399.6966552734375, 387.02764892578125, 154.8380889892578, 2034.5341796875, 398.7226257324219, 248.2025146484375, 165.4140167236328, 1263.93408203125, 741.6898803710938, 119.2503890991211, 391.6368713378906, 269.45367431640625, 611.0160522460938, 481.84234619140625, 256.9065246582031, 654.52880859375, 466.05560302734375, 189.80162048339844, 462.6316833496094, 391.19287109375, 266.67047119140625, 189.32421875, 648.5457763671875, 1051.599853515625, 329.7720947265625, 1823.8402099609375, 543.3349609375, 615.8348388671875, 1232.8485107421875, 548.7526245117188, 1548.754150390625, 436.7821044921875, 489.612060546875, 385.91900634765625, 423.7533874511719, 1347.44580078125, 754.881591796875, 440.3275451660156, 423.0700988769531, 551.44189453125, 479.5084533691406, 441.1314697265625, 426.3251037597656, 441.2132263183594, 444.09075927734375, 423.775634765625, 30.239681243896484, 13.844417572021484, 13.725573539733887, 48.97722244262695, 10.260716438293457, 11.825448036193848, 12.544079780578613, 9.32933235168457, 5.457201957702637, 12.447992324829102, 5.376769542694092, 11.553750038146973, 9.217965126037598, 6.894308567047119, 6.808399200439453, 12.159570693969727, 12.968170166015625, 9.836319923400879, 5.299612998962402, 7.563763618469238, 5.274471282958984, 11.998952865600586, 6.738821506500244, 25.174013137817383, 8.20064640045166, 5.208718299865723, 8.176526069641113, 8.171967506408691, 16.13896942138672, 51.50849151611328, 11.147747039794922, 33.9919548034668, 21.33946990966797, 28.095096588134766, 35.483028411865234, 47.78675079345703, 49.67202377319336, 89.64583587646484, 56.39871597290039, 198.27676391601562, 61.814857482910156, 54.03919219970703, 357.8169860839844, 58.808162689208984, 33.630126953125, 101.32199096679688, 304.8329772949219, 52.919639587402344, 26.33612632751465, 132.16891479492188, 110.13114929199219, 37.13541030883789, 1483.763671875, 88.0976333618164, 242.9842987060547, 239.44102478027344, 145.3557891845703, 91.00627136230469, 1006.5645751953125, 392.2742919921875, 118.92202758789062, 402.4975280761719, 437.3973083496094, 974.40625, 463.9278564453125, 609.9954833984375, 208.06756591796875, 224.68621826171875, 426.2268371582031, 528.4043579101562, 623.9252319335938, 215.40240478515625, 209.2021026611328, 790.845947265625, 501.9327392578125, 292.8139343261719, 335.2861328125, 549.0692138671875, 340.18670654296875, 596.8762817382812, 358.80810546875, 908.1178588867188, 253.37225341796875, 478.6697692871094, 375.7301025390625, 457.9659423828125, 487.50958251953125, 355.4208679199219, 320.91943359375, 332.446044921875, 407.81549072265625, 378.434326171875, 361.6632385253906, 325.5798645019531, 88.42524719238281, 21.33333969116211, 18.06617546081543, 16.85824203491211, 19.495384216308594, 142.87306213378906, 33.243919372558594, 19.2067928314209, 13.444404602050781, 86.66852569580078, 9.460383415222168, 20.81664276123047, 41.482017517089844, 29.19487953186035, 7.56003999710083, 17.851078033447266, 24.41445541381836, 8.38759708404541, 9.320648193359375, 10.26781940460205, 19.418521881103516, 34.91693115234375, 15.618661880493164, 17.44669532775879, 31.377748489379883, 31.10264015197754, 91.61373138427734, 17.319517135620117, 32.69972610473633, 26.451160430908203, 137.4900665283203, 66.61412811279297, 69.76560974121094, 44.303829193115234, 33.48096466064453, 69.1570816040039, 46.45695495605469, 37.08774948120117, 112.10641479492188, 100.5611801147461, 305.3067932128906, 643.0494995117188, 89.03759765625, 74.03604888916016, 181.22776794433594, 150.38507080078125, 75.47856140136719, 42.568115234375, 844.6409912109375, 284.8279113769531, 144.67489624023438, 161.20738220214844, 84.71244812011719, 298.3780212402344, 268.1998291015625, 748.3431396484375, 666.6720581054688, 275.6865234375, 350.69793701171875, 228.1985321044922, 195.0395965576172, 473.5681457519531, 182.4604034423828, 576.8533935546875, 520.0379638671875, 641.716552734375, 267.26971435546875, 327.9017639160156, 384.7474365234375, 367.26336669921875, 292.39990234375, 801.8896484375, 726.7191772460938, 408.4593811035156, 366.26934814453125, 591.6067504882812, 498.84027099609375, 340.6885070800781, 357.2645263671875, 413.8680114746094, 389.9164733886719, 401.25946044921875, 368.9163513183594, 432.87957763671875, 523.5932006835938, 334.2228698730469, 333.0459899902344, 359.5534362792969, 339.5943603515625, 16.09732437133789, 41.842132568359375, 41.61628723144531, 14.900431632995605, 8.744855880737305, 8.706724166870117, 14.125536918640137, 14.076860427856445, 29.95557403564453, 12.553754806518555, 13.985288619995117, 16.325237274169922, 203.84877014160156, 42.89396286010742, 56.590721130371094, 44.653324127197266, 40.81864547729492, 66.20918273925781, 22.909852981567383, 40.48032760620117, 40.54081344604492, 80.10944366455078, 43.03688430786133, 7.170658111572266, 40.374427795410156, 40.20002746582031, 40.26764678955078, 40.14252471923828, 40.03740692138672, 40.00409698486328, 41.924163818359375, 125.86390686035156, 2174.765380859375, 81.76872253417969, 41.93532943725586, 42.52408981323242, 137.64256286621094, 39.92970275878906, 41.86275863647461, 432.6729431152344, 215.40748596191406, 135.07138061523438, 85.85600280761719, 231.15557861328125, 41.43941879272461, 90.81645965576172, 843.8297119140625, 117.34918212890625, 301.079345703125, 576.8743896484375, 323.2276306152344, 240.8726348876953, 236.28591918945312, 450.28131103515625, 231.06610107421875, 681.3463134765625, 270.31744384765625, 214.3499755859375, 65.19355010986328, 250.18687438964844, 70.62482452392578, 225.61795043945312, 266.89227294921875, 369.4967041015625, 301.6256103515625, 305.4760437011719, 333.16314697265625, 254.57005310058594, 252.29347229003906, 235.13755798339844, 237.6846466064453, 240.24560546875, 230.74598693847656, 184.49252319335938, 204.11180114746094, 93.72982025146484, 74.70597076416016, 13.98452091217041, 132.102783203125, 27.513748168945312, 9.056268692016602, 9.692212104797363, 8.99111270904541, 19.444683074951172, 17.275175094604492, 74.14923858642578, 116.69345092773438, 15.027673721313477, 34.5423583984375, 7.479142189025879, 45.86164474487305, 32.2869873046875, 14.232397079467773, 14.211309432983398, 6.10451602935791, 14.148512840270996, 250.89146423339844, 14.087860107421875, 6.70929479598999, 28.554121017456055, 97.84550476074219, 4.6905927658081055, 14.002765655517578, 4.67948055267334, 429.4647521972656, 12.524064064025879, 9.294827461242676, 29.64997100830078, 219.754638671875, 383.8583984375, 35.721492767333984, 109.91284942626953, 151.97242736816406, 261.7221984863281, 53.78544616699219, 23.86627197265625, 22.88731575012207, 74.55000305175781, 2627.078857421875, 48.5625114440918, 141.6720428466797, 270.1056823730469, 135.67068481445312, 49.38901901245117, 264.4734802246094, 81.10710906982422, 328.2364196777344, 120.53206634521484, 86.54472351074219, 177.9408721923828, 143.60401916503906, 181.30491638183594, 160.00746154785156, 505.06585693359375, 717.408935546875, 415.0390319824219, 150.1474609375, 124.55077362060547, 446.796630859375, 425.6280212402344, 372.21728515625, 362.55584716796875, 324.8104553222656, 306.9394226074219, 256.87738037109375, 231.39779663085938, 211.8596649169922, 244.164794921875, 196.7992706298828, 239.82815551757812, 213.4104766845703, 273.9801940917969, 201.28778076171875, 204.49969482421875, 185.91783142089844, 18.84737205505371, 47.41279602050781, 39.775142669677734, 33.16120910644531, 18.29123306274414, 18.247812271118164, 13.873098373413086, 11.333477973937988, 12.801753997802734, 22.309921264648438, 14.53914737701416, 8.549263954162598, 15.204418182373047, 11.060791015625, 11.04566478729248, 12.643057823181152, 9.311305046081543, 7.5957746505737305, 10.088913917541504, 13.20449161529541, 17.510419845581055, 12.736923217773438, 9.13999080657959, 9.171331405639648, 9.938738822937012, 7.419382095336914, 9.73779296875, 6.489835262298584, 8.988161087036133, 8.935107231140137, 65.0648422241211, 73.5121841430664, 54.01893615722656, 40.599586486816406, 56.31521224975586, 79.22418212890625, 37.14787292480469, 61.21452331542969, 475.0821533203125, 52.18841552734375, 69.49613189697266, 23.933565139770508, 153.82260131835938, 85.84181213378906, 80.6435546875, 43.27260971069336, 23.769311904907227, 166.81387329101562, 105.42488098144531, 97.14659881591797, 159.55584716796875, 73.39701080322266, 44.72563934326172, 87.4747314453125, 61.403106689453125, 81.0532455444336, 114.53018951416016, 236.00234985351562, 127.12316131591797, 786.5958862304688, 168.88717651367188, 135.89845275878906, 108.9094009399414, 68.33509826660156, 558.7499389648438, 226.169677734375, 195.69998168945312, 88.60082244873047, 276.4156188964844, 127.93987274169922, 216.12217712402344, 262.7506103515625, 348.2309265136719, 113.3105239868164, 222.88934326171875, 219.46627807617188, 274.14678955078125, 378.9280700683594, 175.19166564941406, 250.0081329345703, 236.93800354003906, 186.1373748779297, 218.7259521484375, 213.6835174560547, 234.32272338867188, 246.8431854248047, 229.100830078125, 168.11569213867188, 227.49598693847656, 199.78477478027344, 186.9955291748047, 183.45579528808594, 187.0242462158203, 176.02621459960938, 170.3711700439453, 11.869830131530762, 43.89474868774414, 56.052940368652344, 63.61013412475586, 55.91355895996094, 60.47123336791992, 63.52859878540039, 51.768699645996094, 40.859256744384766, 59.470947265625, 25.40235710144043, 9.733955383300781, 25.986690521240234, 11.198664665222168, 24.428627014160156, 25.875595092773438, 22.872644424438477, 89.2548599243164, 314.5473937988281, 19.88128662109375, 25.04020118713379, 11.796453475952148, 19.12552833557129, 19.06886863708496, 65.0622787475586, 18.213666915893555, 193.5333251953125, 31.445493698120117, 18.743345260620117, 12.405118942260742, 228.74453735351562, 80.58007049560547, 74.82048797607422, 87.03253173828125, 52.3432502746582, 64.9126968383789, 363.4829406738281, 109.57410430908203, 100.65449523925781, 70.25234985351562, 42.79944610595703, 186.383056640625, 491.0471496582031, 115.30850982666016, 121.13401794433594, 91.27214050292969, 193.232421875, 1596.989501953125, 121.78146362304688, 103.27333068847656, 133.93157958984375, 319.94598388671875, 213.6920928955078, 241.39361572265625, 252.95440673828125, 150.04776000976562, 283.59283447265625, 574.0651245117188, 123.12149047851562, 154.20655822753906, 340.7903747558594, 359.45465087890625, 323.9720153808594, 454.7791442871094, 285.59307861328125, 266.6862487792969, 233.97512817382812, 193.34017944335938, 247.00912475585938, 282.6200866699219, 210.3416290283203, 166.18003845214844, 237.75856018066406, 192.0345458984375, 181.23617553710938, 214.4986572265625, 198.78225708007812, 7.527801990509033, 7.5228590965271, 7.492757320404053, 10.174782752990723, 14.45211124420166, 14.514564514160156, 10.81448745727539, 10.798440933227539, 15.220487594604492, 10.769922256469727, 11.660372734069824, 11.619806289672852, 26.013622283935547, 10.735089302062988, 9.812634468078613, 15.084429740905762, 10.676610946655273, 24.747488021850586, 10.627436637878418, 9.697439193725586, 9.701351165771484, 10.570724487304688, 10.53140926361084, 16.591293334960938, 6.076445579528809, 10.274024963378906, 6.0242486000061035, 18.7166690826416, 17.88419532775879, 6.009273529052734, 14.451417922973633, 9.458202362060547, 62.06232452392578, 36.394264221191406, 37.38908004760742, 161.2281494140625, 18.990224838256836, 91.07440185546875, 16.59137725830078, 21.645933151245117, 57.4206657409668, 84.35433197021484, 46.26262283325195, 34.02351379394531, 109.18709564208984, 89.45073699951172, 247.60166931152344, 15.036361694335938, 15.000850677490234, 280.3185729980469, 46.582908630371094, 102.54438018798828, 91.65882110595703, 19.943002700805664, 118.50145721435547, 28.749160766601562, 48.595516204833984, 123.62268829345703, 21.126405715942383, 96.62242889404297, 45.11684036254883, 180.05865478515625, 75.72455596923828, 43.067569732666016, 73.23299407958984, 525.3081665039062, 58.712562561035156, 84.2803726196289, 668.2548828125, 79.58879852294922, 108.11217498779297, 176.91326904296875, 155.10377502441406, 213.1185760498047, 114.65230560302734, 266.37982177734375, 138.1168670654297, 222.25596618652344, 295.6918640136719, 141.32144165039062, 153.69802856445312, 173.68309020996094, 133.36912536621094, 181.9112091064453, 228.03663635253906, 265.3190002441406, 307.01141357421875, 291.34930419921875, 179.3148193359375, 208.6124725341797, 220.0520782470703, 173.74652099609375, 201.1566162109375, 158.34889221191406, 152.54556274414062, 160.58804321289062, 158.1843719482422, 161.3115997314453, 155.8748779296875], \"Total\": [8200.0, 3027.0, 5846.0, 7569.0, 7832.0, 12169.0, 5890.0, 2568.0, 4472.0, 4020.0, 5903.0, 4898.0, 4994.0, 3138.0, 4826.0, 955.0, 655.0, 4823.0, 2896.0, 517.0, 2065.0, 5277.0, 1788.0, 623.0, 4119.0, 534.0, 520.0, 3856.0, 2392.0, 1740.0, 26.148818969726562, 19.172861099243164, 12.310831069946289, 37.954437255859375, 12.24447250366211, 56.82331848144531, 33.530757904052734, 217.30909729003906, 129.9712677001953, 41.07697296142578, 15.463884353637695, 79.79114532470703, 19.959890365600586, 295.94244384765625, 79.38429260253906, 191.11151123046875, 39.90912628173828, 56.44055938720703, 48.52771759033203, 15.398608207702637, 32.0284423828125, 153.28892517089844, 57.58067321777344, 9.989816665649414, 29.74919319152832, 60.74800491333008, 34.237159729003906, 12.2262601852417, 160.79119873046875, 28.665246963500977, 79.48925018310547, 214.35585021972656, 51.85505676269531, 47.485172271728516, 397.6049499511719, 76.93472290039062, 282.9309997558594, 62.757511138916016, 530.78173828125, 190.9397430419922, 169.0366668701172, 863.0658569335938, 237.82598876953125, 131.804931640625, 360.4881896972656, 1564.8287353515625, 639.1113891601562, 256.7717590332031, 617.9447021484375, 257.7017517089844, 1531.8448486328125, 1237.8443603515625, 5903.31884765625, 1607.9007568359375, 857.1256713867188, 2102.172607421875, 959.7717895507812, 12169.1591796875, 5890.64306640625, 633.9691162109375, 2055.607666015625, 783.8704223632812, 1383.1876220703125, 838.0709838867188, 732.85009765625, 1899.0260009765625, 791.046630859375, 744.3446044921875, 3599.01708984375, 2136.1357421875, 1303.1192626953125, 2802.40087890625, 1866.7762451171875, 4119.84619140625, 3602.17041015625, 1821.745361328125, 4417.294921875, 1415.12939453125, 2080.96533203125, 2480.58056640625, 2529.86474609375, 5277.28515625, 4826.59375, 4014.783935546875, 4823.26708984375, 2485.94970703125, 3747.677490234375, 1872.0745849609375, 3011.88330078125, 179.9517059326172, 174.072509765625, 36.803016662597656, 21.911304473876953, 23.875030517578125, 203.63973999023438, 32.85435104370117, 44.76596450805664, 32.854496002197266, 32.84321594238281, 28.867259979248047, 12.964736938476562, 12.965776443481445, 19.879135131835938, 28.858192443847656, 12.966164588928223, 44.64768600463867, 43.32265853881836, 85.90687561035156, 14.951064109802246, 41.3964729309082, 14.98647689819336, 184.64404296875, 16.90009880065918, 9.952893257141113, 14.937499046325684, 9.953470230102539, 9.951847076416016, 9.953250885009766, 9.952509880065918, 155.3165283203125, 29.99834442138672, 24.839061737060547, 17.891937255859375, 17.781694412231445, 99.28923797607422, 24.621578216552734, 83.6086654663086, 42.689735412597656, 61.692317962646484, 495.28314208984375, 518.0390014648438, 72.27887725830078, 199.1103973388672, 191.45851135253906, 73.00125122070312, 1926.4071044921875, 155.3411102294922, 7569.86181640625, 1329.9630126953125, 3138.714111328125, 156.73321533203125, 4898.2109375, 7832.2197265625, 557.2119140625, 4472.833984375, 1253.62109375, 491.9519958496094, 379.3456115722656, 4994.037109375, 320.4770202636719, 530.9296875, 2416.612060546875, 522.1141967773438, 1363.064697265625, 3582.9599609375, 8200.2958984375, 2068.56494140625, 1461.8839111328125, 630.7274169921875, 1484.03857421875, 2190.20751953125, 1745.6053466796875, 4014.783935546875, 2485.94970703125, 2985.475830078125, 5846.56884765625, 3747.677490234375, 2212.760009765625, 4826.59375, 1208.2286376953125, 2541.453857421875, 3319.0244140625, 12169.1591796875, 3856.66845703125, 3011.88330078125, 3159.9755859375, 4823.26708984375, 4020.75244140625, 48.22597885131836, 16.76470375061035, 20.638887405395508, 15.712296485900879, 16.582908630371094, 16.561309814453125, 20.657230377197266, 11.773689270019531, 20.558076858520508, 16.536104202270508, 16.735172271728516, 16.511165618896484, 8.8334321975708, 34.28883361816406, 57.907100677490234, 8.863371849060059, 12.78841781616211, 20.381982803344727, 17.678308486938477, 12.819358825683594, 8.864617347717285, 8.865669250488281, 7.853160858154297, 8.851242065429688, 20.344573974609375, 8.845675468444824, 11.827310562133789, 12.823410034179688, 8.82580280303955, 228.14108276367188, 72.603759765625, 101.12467193603516, 23.59004020690918, 105.59003448486328, 98.3986587524414, 53.895999908447266, 314.2793884277344, 61.75510787963867, 102.97068786621094, 45.24687194824219, 70.72208404541016, 112.81563568115234, 71.06227111816406, 76.77979278564453, 187.65431213378906, 72.99874877929688, 198.3832550048828, 194.30313110351562, 85.80529022216797, 71.6405029296875, 41.38566589355469, 213.46353149414062, 313.88275146484375, 140.4832000732422, 143.7338104248047, 87.26941680908203, 298.64453125, 144.8592987060547, 314.9187927246094, 609.9637451171875, 595.60009765625, 211.62120056152344, 4020.75244140625, 625.8532104492188, 364.2626953125, 229.8827667236328, 2392.19677734375, 1322.205810546875, 158.84059143066406, 653.2766723632812, 419.37164306640625, 1157.3743896484375, 875.7603149414062, 403.0643005371094, 1305.43359375, 860.4973754882812, 281.996826171875, 906.3538208007812, 741.7438354492188, 448.5632629394531, 285.87176513671875, 1602.554443359375, 3319.0244140625, 624.1869506835938, 7569.86181640625, 1323.943603515625, 1633.343017578125, 4994.037109375, 1419.004638671875, 7832.2197265625, 1011.8271484375, 1235.2772216796875, 821.2484130859375, 973.0026245117188, 8200.2958984375, 3582.9599609375, 1329.349609375, 1559.5848388671875, 4898.2109375, 3159.9755859375, 2985.475830078125, 2066.998046875, 3747.677490234375, 4826.59375, 4472.833984375, 33.420509338378906, 15.763696670532227, 15.880423545837402, 57.108985900878906, 11.99158000946045, 13.999738693237305, 14.865270614624023, 11.061273574829102, 6.515167713165283, 14.91897964477539, 6.517294883728027, 14.026838302612305, 11.238043785095215, 8.416702270507812, 8.317935943603516, 14.877612113952637, 15.909432411193848, 12.12572193145752, 6.537022113800049, 9.347169876098633, 6.552269458770752, 14.96668529510498, 8.418625831604004, 31.61907386779785, 10.319809913635254, 6.556458473205566, 10.303613662719727, 10.300436019897461, 20.343481063842773, 64.9461669921875, 14.076772689819336, 43.83816909790039, 27.551862716674805, 36.697994232177734, 47.21527862548828, 64.47821044921875, 68.470947265625, 128.45205688476562, 79.00541687011719, 308.2247619628906, 88.21865844726562, 77.34039306640625, 605.751220703125, 86.32215118408203, 47.978172302246094, 170.15135192871094, 621.0044555664062, 82.43474578857422, 36.80301284790039, 251.60403442382812, 206.51995849609375, 56.41814041137695, 5277.28515625, 163.12501525878906, 582.7704467773438, 581.75732421875, 313.22784423828125, 180.78245544433594, 4119.84619140625, 1213.8685302734375, 256.9795227050781, 1299.55126953125, 1537.2410888671875, 4823.26708984375, 1788.3828125, 2783.001708984375, 593.8973388671875, 683.1273803710938, 1821.745361328125, 2606.186767578125, 3599.01708984375, 698.8536987304688, 667.251708984375, 5903.31884765625, 2802.40087890625, 1208.2286376953125, 1550.0523681640625, 3856.66845703125, 1654.71630859375, 4826.59375, 1899.0260009765625, 12169.1591796875, 989.5440673828125, 4417.294921875, 2529.86474609375, 4014.783935546875, 5890.64306640625, 3159.9755859375, 2480.58056640625, 2896.32861328125, 7569.86181640625, 5846.56884765625, 7832.2197265625, 2985.475830078125, 95.37458801269531, 23.202302932739258, 19.843408584594727, 18.667146682739258, 21.819055557250977, 160.58843994140625, 37.461971282958984, 21.644025802612305, 15.314409255981445, 99.65668487548828, 10.923258781433105, 24.06203842163086, 48.003883361816406, 33.880126953125, 8.781172752380371, 20.735851287841797, 28.400653839111328, 9.793327331542969, 10.93355941772461, 12.062389373779297, 22.889556884765625, 41.29553985595703, 18.515520095825195, 20.693103790283203, 37.28264617919922, 37.00397872924805, 109.18023681640625, 20.649749755859375, 39.0115852355957, 31.573619842529297, 164.50047302246094, 79.57083129882812, 84.36315155029297, 53.25078201293945, 40.23292541503906, 84.52857971191406, 56.60647201538086, 45.310150146484375, 146.59046936035156, 130.99822998046875, 446.3609619140625, 1012.6695556640625, 119.20932006835938, 98.01881408691406, 270.01824951171875, 221.31015014648438, 102.05824279785156, 53.058719635009766, 1740.197998046875, 495.3766784667969, 226.97837829589844, 261.1783447265625, 122.79377746582031, 570.4202270507812, 527.7091064453125, 1940.129150390625, 1788.3828125, 635.2094116210938, 897.3885498046875, 518.3258056640625, 417.7397766113281, 1482.905517578125, 389.293701171875, 2287.72509765625, 1961.099853515625, 2748.25244140625, 718.0084228515625, 1020.353515625, 1347.7685546875, 1296.2567138671875, 895.621826171875, 5846.56884765625, 5277.28515625, 1837.5224609375, 1490.773193359375, 4417.294921875, 3159.9755859375, 1439.927490234375, 1659.5970458984375, 2529.86474609375, 2178.66015625, 2480.58056640625, 2066.998046875, 4020.75244140625, 12169.1591796875, 1820.474853515625, 1814.4512939453125, 3856.66845703125, 2896.32861328125, 18.226245880126953, 48.30841064453125, 48.34806823730469, 17.559276580810547, 10.340370178222656, 10.349949836730957, 16.88365936279297, 16.905345916748047, 36.057762145996094, 15.116864204406738, 16.932233810424805, 19.809436798095703, 247.40878295898438, 52.17612075805664, 68.88438415527344, 54.42772674560547, 49.76514434814453, 81.09432983398438, 28.083209991455078, 49.74314880371094, 49.85927963256836, 98.54297637939453, 52.986793518066406, 8.829120635986328, 49.86107635498047, 49.69639587402344, 49.787960052490234, 49.8151741027832, 49.79914855957031, 49.80659103393555, 52.20366668701172, 160.189453125, 3027.889892578125, 103.55502319335938, 52.24312210083008, 53.00490188598633, 180.04054260253906, 49.79544448852539, 52.334007263183594, 623.8865356445312, 308.7809143066406, 196.4466552734375, 119.35018157958984, 429.87066650390625, 52.19560241699219, 174.4970245361328, 5890.64306640625, 269.7652893066406, 1353.8729248046875, 4472.833984375, 2065.39208984375, 1360.654052734375, 1347.7685546875, 4826.59375, 1415.12939453125, 12169.1591796875, 2055.607666015625, 1452.593017578125, 124.1214828491211, 2136.1357421875, 153.31802368164062, 2178.66015625, 3599.01708984375, 7832.2197265625, 4823.26708984375, 5846.56884765625, 8200.2958984375, 3747.677490234375, 4417.294921875, 3602.17041015625, 4994.037109375, 5903.31884765625, 5277.28515625, 1961.099853515625, 4898.2109375, 97.75530242919922, 79.40104675292969, 14.872136116027832, 146.05593872070312, 30.63471031188965, 10.264920234680176, 11.055785179138184, 10.264679908752441, 22.230281829833984, 19.779829025268555, 85.37296295166016, 134.94500732421875, 17.447847366333008, 40.206417083740234, 8.721702575683594, 53.57829666137695, 37.74980926513672, 16.691415786743164, 16.69976806640625, 7.190964221954346, 16.7137393951416, 297.15350341796875, 16.688974380493164, 7.953581809997559, 33.9458122253418, 116.8315658569336, 5.607199668884277, 16.741621017456055, 5.610465049743652, 517.1399536132812, 15.127635955810547, 11.211507797241211, 37.06325149536133, 295.7779235839844, 534.6063842773438, 45.295677185058594, 147.96861267089844, 222.07456970214844, 402.40106201171875, 72.59661102294922, 29.7640380859375, 28.71782684326172, 117.20455169677734, 8200.2958984375, 73.85649108886719, 277.7553405761719, 649.1583251953125, 286.16693115234375, 77.98458862304688, 737.9280395507812, 160.98922729492188, 1235.79052734375, 288.88031005859375, 182.24488830566406, 556.6332397460938, 406.9598388671875, 595.510009765625, 528.1287841796875, 3856.66845703125, 7832.2197265625, 3138.714111328125, 505.8680419921875, 370.55865478515625, 4898.2109375, 4472.833984375, 3747.677490234375, 4994.037109375, 4014.783935546875, 4417.294921875, 3011.88330078125, 2281.256591796875, 1820.474853515625, 3159.9755859375, 1453.898681640625, 4823.26708984375, 2748.25244140625, 12169.1591796875, 2076.02783203125, 7569.86181640625, 2783.001708984375, 20.861814498901367, 52.682533264160156, 44.66604232788086, 37.793548583984375, 20.89884376525879, 20.870515823364258, 15.883382797241211, 12.989490509033203, 14.705598831176758, 25.738048553466797, 16.881046295166016, 9.945270538330078, 17.726665496826172, 12.905488967895508, 12.900464057922363, 14.81743335723877, 10.92786693572998, 8.936915397644043, 11.896586418151855, 15.602574348449707, 20.728797912597656, 15.094529151916504, 10.836206436157227, 10.932138442993164, 11.905938148498535, 8.913310050964355, 11.760282516479492, 7.845463752746582, 10.870881080627441, 10.814427375793457, 79.09014129638672, 91.12324523925781, 67.11654663085938, 50.37692642211914, 70.47561645507812, 100.75812530517578, 46.1915168762207, 77.51638793945312, 655.9410400390625, 66.353515625, 90.51578521728516, 29.593406677246094, 215.29473876953125, 115.87290954589844, 109.16441345214844, 55.91659164428711, 29.39625358581543, 247.9461669921875, 153.1122283935547, 143.17108154296875, 261.51617431640625, 109.03258514404297, 61.30231857299805, 133.876953125, 88.83023071289062, 123.23672485351562, 188.3184814453125, 468.5048522949219, 235.7479248046875, 2568.22607421875, 359.412109375, 292.5811462402344, 217.897705078125, 110.19329833984375, 2896.32861328125, 730.5480346679688, 620.041259765625, 167.5719451904297, 1413.144287109375, 338.2391357421875, 942.9298706054688, 2212.760009765625, 4823.26708984375, 322.5907897949219, 2108.53466796875, 2065.39208984375, 4014.783935546875, 12169.1591796875, 1256.526123046875, 4020.75244140625, 3602.17041015625, 1621.4736328125, 3011.88330078125, 2985.475830078125, 4417.294921875, 5846.56884765625, 5277.28515625, 1312.8690185546875, 7832.2197265625, 3856.66845703125, 2783.001708984375, 4898.2109375, 8200.2958984375, 2541.453857421875, 2287.72509765625, 12.750530242919922, 48.35991668701172, 61.85689926147461, 70.27693939208984, 61.87759017944336, 66.9576416015625, 70.34424591064453, 57.85566329956055, 45.69036865234375, 67.10265350341797, 28.925575256347656, 11.159448623657227, 29.799837112426758, 12.868199348449707, 28.155202865600586, 29.850358963012695, 26.409305572509766, 103.3548583984375, 364.2783508300781, 23.041479110717773, 29.026996612548828, 13.68025016784668, 22.200149536132812, 22.1976375579834, 76.13330841064453, 21.35235023498535, 227.3647918701172, 37.21031188964844, 22.198774337768555, 14.708393096923828, 274.7129821777344, 98.44066619873047, 93.25625610351562, 109.32391357421875, 64.65665435791016, 81.19078826904297, 520.0987548828125, 144.33834838867188, 133.49070739746094, 92.11129760742188, 53.2601318359375, 292.5840148925781, 955.56494140625, 173.81231689453125, 189.28196716308594, 138.1814422607422, 349.04302978515625, 5846.56884765625, 213.29515075683594, 168.857666015625, 244.97470092773438, 893.2032470703125, 577.993896484375, 736.8684692382812, 822.98583984375, 361.0461120605469, 1218.348876953125, 4826.59375, 259.4131774902344, 411.00897216796875, 2108.53466796875, 2568.22607421875, 2065.39208984375, 4823.26708984375, 4119.84619140625, 3602.17041015625, 2748.25244140625, 1482.905517578125, 3747.677490234375, 7569.86181640625, 2606.186767578125, 958.8435668945312, 5903.31884765625, 1982.135498046875, 1547.956298828125, 7832.2197265625, 4417.294921875, 8.511808395385742, 8.510892868041992, 8.508727073669434, 11.714526176452637, 16.843914031982422, 16.93562126159668, 12.700095176696777, 12.708067893981934, 17.934995651245117, 12.696013450622559, 13.75377368927002, 13.724838256835938, 30.73447608947754, 12.700221061706543, 11.626154899597168, 17.887256622314453, 12.684292793273926, 29.483505249023438, 12.690912246704102, 11.599854469299316, 11.60710620880127, 12.673624992370605, 12.65567398071289, 19.961875915527344, 7.374975681304932, 12.561492919921875, 7.3682146072387695, 22.892929077148438, 21.882787704467773, 7.365513324737549, 17.800270080566406, 11.601825714111328, 78.9291000366211, 46.78608322143555, 48.59183120727539, 243.93017578125, 24.038455963134766, 135.45761108398438, 20.89043426513672, 28.121110916137695, 84.20260620117188, 130.97227478027344, 67.02763366699219, 47.64179611206055, 183.135986328125, 146.51625061035156, 510.30377197265625, 18.8866024017334, 18.893096923828125, 677.6189575195312, 76.10498046875, 213.39137268066406, 185.41358947753906, 27.181842803955078, 291.6040344238281, 44.66258239746094, 91.69133758544922, 392.2033386230469, 29.46728515625, 288.83074951171875, 94.79122161865234, 824.5682983398438, 216.9437255859375, 88.65333557128906, 217.65927124023438, 5846.56884765625, 153.05918884277344, 289.7013244628906, 12169.1591796875, 276.15924072265625, 506.4120788574219, 1360.654052734375, 1046.7353515625, 2066.998046875, 582.7704467773438, 3582.9599609375, 869.0000610351562, 2529.86474609375, 4898.2109375, 938.546630859375, 1182.562744140625, 1638.0379638671875, 860.619873046875, 1837.5224609375, 3319.0244140625, 4994.037109375, 8200.2958984375, 7832.2197265625, 2178.66015625, 3856.66845703125, 5277.28515625, 2190.20751953125, 4472.833984375, 1621.4736328125, 1559.5848388671875, 2287.72509765625, 2985.475830078125, 4119.84619140625, 3599.01708984375], \"Category\": [\"Default\", \"Default\", \"Default\", \"Default\", \"Default\", \"Default\", \"Default\", \"Default\", \"Default\", \"Default\", \"Default\", \"Default\", \"Default\", \"Default\", \"Default\", \"Default\", \"Default\", \"Default\", \"Default\", \"Default\", \"Default\", \"Default\", \"Default\", \"Default\", \"Default\", \"Default\", \"Default\", \"Default\", \"Default\", \"Default\", \"Topic1\", \"Topic1\", \"Topic1\", \"Topic1\", \"Topic1\", \"Topic1\", \"Topic1\", \"Topic1\", \"Topic1\", \"Topic1\", \"Topic1\", \"Topic1\", \"Topic1\", \"Topic1\", \"Topic1\", \"Topic1\", \"Topic1\", \"Topic1\", \"Topic1\", \"Topic1\", \"Topic1\", \"Topic1\", \"Topic1\", \"Topic1\", \"Topic1\", \"Topic1\", \"Topic1\", \"Topic1\", \"Topic1\", \"Topic1\", \"Topic1\", \"Topic1\", \"Topic1\", \"Topic1\", \"Topic1\", \"Topic1\", \"Topic1\", \"Topic1\", \"Topic1\", \"Topic1\", \"Topic1\", \"Topic1\", \"Topic1\", \"Topic1\", \"Topic1\", \"Topic1\", \"Topic1\", \"Topic1\", \"Topic1\", \"Topic1\", \"Topic1\", \"Topic1\", \"Topic1\", \"Topic1\", \"Topic1\", \"Topic1\", \"Topic1\", \"Topic1\", \"Topic1\", \"Topic1\", \"Topic1\", \"Topic1\", \"Topic1\", \"Topic1\", \"Topic1\", \"Topic1\", \"Topic1\", \"Topic1\", \"Topic1\", \"Topic1\", \"Topic1\", \"Topic1\", \"Topic1\", \"Topic1\", \"Topic1\", \"Topic1\", \"Topic1\", \"Topic1\", \"Topic1\", \"Topic1\", \"Topic1\", \"Topic1\", \"Topic1\", \"Topic1\", \"Topic1\", \"Topic1\", \"Topic1\", \"Topic1\", \"Topic1\", \"Topic2\", \"Topic2\", \"Topic2\", \"Topic2\", \"Topic2\", \"Topic2\", \"Topic2\", \"Topic2\", \"Topic2\", \"Topic2\", \"Topic2\", \"Topic2\", \"Topic2\", \"Topic2\", \"Topic2\", \"Topic2\", \"Topic2\", \"Topic2\", \"Topic2\", \"Topic2\", \"Topic2\", \"Topic2\", \"Topic2\", \"Topic2\", \"Topic2\", \"Topic2\", \"Topic2\", \"Topic2\", \"Topic2\", \"Topic2\", \"Topic2\", \"Topic2\", \"Topic2\", \"Topic2\", \"Topic2\", \"Topic2\", \"Topic2\", \"Topic2\", \"Topic2\", \"Topic2\", \"Topic2\", \"Topic2\", \"Topic2\", \"Topic2\", \"Topic2\", \"Topic2\", \"Topic2\", \"Topic2\", \"Topic2\", \"Topic2\", \"Topic2\", \"Topic2\", \"Topic2\", \"Topic2\", \"Topic2\", \"Topic2\", \"Topic2\", \"Topic2\", \"Topic2\", \"Topic2\", \"Topic2\", \"Topic2\", \"Topic2\", \"Topic2\", \"Topic2\", \"Topic2\", \"Topic2\", \"Topic2\", \"Topic2\", \"Topic2\", \"Topic2\", \"Topic2\", \"Topic2\", \"Topic2\", \"Topic2\", \"Topic2\", \"Topic2\", \"Topic2\", \"Topic2\", \"Topic2\", \"Topic2\", \"Topic2\", \"Topic2\", \"Topic2\", \"Topic2\", \"Topic2\", \"Topic2\", \"Topic2\", \"Topic2\", \"Topic3\", \"Topic3\", \"Topic3\", \"Topic3\", \"Topic3\", \"Topic3\", \"Topic3\", \"Topic3\", \"Topic3\", \"Topic3\", \"Topic3\", \"Topic3\", \"Topic3\", \"Topic3\", \"Topic3\", \"Topic3\", \"Topic3\", \"Topic3\", \"Topic3\", \"Topic3\", \"Topic3\", \"Topic3\", \"Topic3\", \"Topic3\", \"Topic3\", \"Topic3\", \"Topic3\", \"Topic3\", \"Topic3\", \"Topic3\", \"Topic3\", \"Topic3\", \"Topic3\", \"Topic3\", \"Topic3\", \"Topic3\", \"Topic3\", \"Topic3\", \"Topic3\", \"Topic3\", \"Topic3\", \"Topic3\", \"Topic3\", \"Topic3\", \"Topic3\", \"Topic3\", \"Topic3\", \"Topic3\", \"Topic3\", \"Topic3\", \"Topic3\", \"Topic3\", \"Topic3\", \"Topic3\", \"Topic3\", \"Topic3\", \"Topic3\", \"Topic3\", \"Topic3\", \"Topic3\", \"Topic3\", \"Topic3\", \"Topic3\", \"Topic3\", \"Topic3\", \"Topic3\", \"Topic3\", \"Topic3\", \"Topic3\", \"Topic3\", \"Topic3\", \"Topic3\", \"Topic3\", \"Topic3\", \"Topic3\", \"Topic3\", \"Topic3\", \"Topic3\", \"Topic3\", \"Topic3\", \"Topic3\", \"Topic3\", \"Topic3\", \"Topic3\", \"Topic3\", \"Topic3\", \"Topic3\", \"Topic3\", \"Topic3\", \"Topic3\", \"Topic3\", \"Topic3\", \"Topic3\", \"Topic3\", \"Topic3\", \"Topic3\", \"Topic3\", \"Topic3\", \"Topic3\", \"Topic3\", \"Topic3\", \"Topic3\", \"Topic3\", \"Topic3\", \"Topic3\", \"Topic4\", \"Topic4\", \"Topic4\", \"Topic4\", \"Topic4\", \"Topic4\", \"Topic4\", \"Topic4\", \"Topic4\", \"Topic4\", \"Topic4\", \"Topic4\", \"Topic4\", \"Topic4\", \"Topic4\", \"Topic4\", \"Topic4\", \"Topic4\", \"Topic4\", \"Topic4\", \"Topic4\", \"Topic4\", \"Topic4\", \"Topic4\", \"Topic4\", \"Topic4\", \"Topic4\", \"Topic4\", \"Topic4\", \"Topic4\", \"Topic4\", \"Topic4\", \"Topic4\", \"Topic4\", \"Topic4\", \"Topic4\", \"Topic4\", \"Topic4\", \"Topic4\", \"Topic4\", \"Topic4\", \"Topic4\", \"Topic4\", \"Topic4\", \"Topic4\", \"Topic4\", \"Topic4\", \"Topic4\", \"Topic4\", \"Topic4\", \"Topic4\", \"Topic4\", \"Topic4\", \"Topic4\", \"Topic4\", \"Topic4\", \"Topic4\", \"Topic4\", \"Topic4\", \"Topic4\", \"Topic4\", \"Topic4\", \"Topic4\", \"Topic4\", \"Topic4\", \"Topic4\", \"Topic4\", \"Topic4\", \"Topic4\", \"Topic4\", \"Topic4\", \"Topic4\", \"Topic4\", \"Topic4\", \"Topic4\", \"Topic4\", \"Topic4\", \"Topic4\", \"Topic4\", \"Topic4\", \"Topic4\", \"Topic4\", \"Topic4\", \"Topic4\", \"Topic4\", \"Topic4\", \"Topic4\", \"Topic4\", \"Topic4\", \"Topic4\", \"Topic4\", \"Topic4\", \"Topic4\", \"Topic4\", \"Topic5\", \"Topic5\", \"Topic5\", \"Topic5\", \"Topic5\", \"Topic5\", \"Topic5\", \"Topic5\", \"Topic5\", \"Topic5\", \"Topic5\", \"Topic5\", \"Topic5\", \"Topic5\", \"Topic5\", \"Topic5\", \"Topic5\", \"Topic5\", \"Topic5\", \"Topic5\", \"Topic5\", \"Topic5\", \"Topic5\", \"Topic5\", \"Topic5\", \"Topic5\", \"Topic5\", \"Topic5\", \"Topic5\", \"Topic5\", \"Topic5\", \"Topic5\", \"Topic5\", \"Topic5\", \"Topic5\", \"Topic5\", \"Topic5\", \"Topic5\", \"Topic5\", \"Topic5\", \"Topic5\", \"Topic5\", \"Topic5\", \"Topic5\", \"Topic5\", \"Topic5\", \"Topic5\", \"Topic5\", \"Topic5\", \"Topic5\", \"Topic5\", \"Topic5\", \"Topic5\", \"Topic5\", \"Topic5\", \"Topic5\", \"Topic5\", \"Topic5\", \"Topic5\", \"Topic5\", \"Topic5\", \"Topic5\", \"Topic5\", \"Topic5\", \"Topic5\", \"Topic5\", \"Topic5\", \"Topic5\", \"Topic5\", \"Topic5\", \"Topic5\", \"Topic5\", \"Topic5\", \"Topic5\", \"Topic5\", \"Topic5\", \"Topic5\", \"Topic5\", \"Topic5\", \"Topic5\", \"Topic5\", \"Topic5\", \"Topic5\", \"Topic5\", \"Topic5\", \"Topic5\", \"Topic5\", \"Topic5\", \"Topic5\", \"Topic6\", \"Topic6\", \"Topic6\", \"Topic6\", \"Topic6\", \"Topic6\", \"Topic6\", \"Topic6\", \"Topic6\", \"Topic6\", \"Topic6\", \"Topic6\", \"Topic6\", \"Topic6\", \"Topic6\", \"Topic6\", \"Topic6\", \"Topic6\", \"Topic6\", \"Topic6\", \"Topic6\", \"Topic6\", \"Topic6\", \"Topic6\", \"Topic6\", \"Topic6\", \"Topic6\", \"Topic6\", \"Topic6\", \"Topic6\", \"Topic6\", \"Topic6\", \"Topic6\", \"Topic6\", \"Topic6\", \"Topic6\", \"Topic6\", \"Topic6\", \"Topic6\", \"Topic6\", \"Topic6\", \"Topic6\", \"Topic6\", \"Topic6\", \"Topic6\", \"Topic6\", \"Topic6\", \"Topic6\", \"Topic6\", \"Topic6\", \"Topic6\", \"Topic6\", \"Topic6\", \"Topic6\", \"Topic6\", \"Topic6\", \"Topic6\", \"Topic6\", \"Topic6\", \"Topic6\", \"Topic6\", \"Topic6\", \"Topic6\", \"Topic6\", \"Topic6\", \"Topic6\", \"Topic6\", \"Topic6\", \"Topic6\", \"Topic6\", \"Topic6\", \"Topic6\", \"Topic6\", \"Topic6\", \"Topic6\", \"Topic7\", \"Topic7\", \"Topic7\", \"Topic7\", \"Topic7\", \"Topic7\", \"Topic7\", \"Topic7\", \"Topic7\", \"Topic7\", \"Topic7\", \"Topic7\", \"Topic7\", \"Topic7\", \"Topic7\", \"Topic7\", \"Topic7\", \"Topic7\", \"Topic7\", \"Topic7\", \"Topic7\", \"Topic7\", \"Topic7\", \"Topic7\", \"Topic7\", \"Topic7\", \"Topic7\", \"Topic7\", \"Topic7\", \"Topic7\", \"Topic7\", \"Topic7\", \"Topic7\", \"Topic7\", \"Topic7\", \"Topic7\", \"Topic7\", \"Topic7\", \"Topic7\", \"Topic7\", \"Topic7\", \"Topic7\", \"Topic7\", \"Topic7\", \"Topic7\", \"Topic7\", \"Topic7\", \"Topic7\", \"Topic7\", \"Topic7\", \"Topic7\", \"Topic7\", \"Topic7\", \"Topic7\", \"Topic7\", \"Topic7\", \"Topic7\", \"Topic7\", \"Topic7\", \"Topic7\", \"Topic7\", \"Topic7\", \"Topic7\", \"Topic7\", \"Topic7\", \"Topic7\", \"Topic7\", \"Topic7\", \"Topic7\", \"Topic7\", \"Topic7\", \"Topic7\", \"Topic7\", \"Topic7\", \"Topic7\", \"Topic7\", \"Topic7\", \"Topic7\", \"Topic7\", \"Topic7\", \"Topic8\", \"Topic8\", \"Topic8\", \"Topic8\", \"Topic8\", \"Topic8\", \"Topic8\", \"Topic8\", \"Topic8\", \"Topic8\", \"Topic8\", \"Topic8\", \"Topic8\", \"Topic8\", \"Topic8\", \"Topic8\", \"Topic8\", \"Topic8\", \"Topic8\", \"Topic8\", \"Topic8\", \"Topic8\", \"Topic8\", \"Topic8\", \"Topic8\", \"Topic8\", \"Topic8\", \"Topic8\", \"Topic8\", \"Topic8\", \"Topic8\", \"Topic8\", \"Topic8\", \"Topic8\", \"Topic8\", \"Topic8\", \"Topic8\", \"Topic8\", \"Topic8\", \"Topic8\", \"Topic8\", \"Topic8\", \"Topic8\", \"Topic8\", \"Topic8\", \"Topic8\", \"Topic8\", \"Topic8\", \"Topic8\", \"Topic8\", \"Topic8\", \"Topic8\", \"Topic8\", \"Topic8\", \"Topic8\", \"Topic8\", \"Topic8\", \"Topic8\", \"Topic8\", \"Topic8\", \"Topic8\", \"Topic8\", \"Topic8\", \"Topic8\", \"Topic8\", \"Topic8\", \"Topic8\", \"Topic8\", \"Topic8\", \"Topic8\", \"Topic8\", \"Topic8\", \"Topic8\", \"Topic8\", \"Topic8\", \"Topic8\", \"Topic8\", \"Topic8\", \"Topic8\", \"Topic8\", \"Topic8\", \"Topic8\", \"Topic8\", \"Topic8\", \"Topic8\", \"Topic8\", \"Topic8\", \"Topic8\", \"Topic8\", \"Topic8\", \"Topic8\", \"Topic8\", \"Topic8\", \"Topic8\", \"Topic8\", \"Topic9\", \"Topic9\", \"Topic9\", \"Topic9\", \"Topic9\", \"Topic9\", \"Topic9\", \"Topic9\", \"Topic9\", \"Topic9\", \"Topic9\", \"Topic9\", \"Topic9\", \"Topic9\", \"Topic9\", \"Topic9\", \"Topic9\", \"Topic9\", \"Topic9\", \"Topic9\", \"Topic9\", \"Topic9\", \"Topic9\", \"Topic9\", \"Topic9\", \"Topic9\", \"Topic9\", \"Topic9\", \"Topic9\", \"Topic9\", \"Topic9\", \"Topic9\", \"Topic9\", \"Topic9\", \"Topic9\", \"Topic9\", \"Topic9\", \"Topic9\", \"Topic9\", \"Topic9\", \"Topic9\", \"Topic9\", \"Topic9\", \"Topic9\", \"Topic9\", \"Topic9\", \"Topic9\", \"Topic9\", \"Topic9\", \"Topic9\", \"Topic9\", \"Topic9\", \"Topic9\", \"Topic9\", \"Topic9\", \"Topic9\", \"Topic9\", \"Topic9\", \"Topic9\", \"Topic9\", \"Topic9\", \"Topic9\", \"Topic9\", \"Topic9\", \"Topic9\", \"Topic9\", \"Topic9\", \"Topic9\", \"Topic9\", \"Topic9\", \"Topic9\", \"Topic9\", \"Topic9\", \"Topic9\", \"Topic9\", \"Topic9\", \"Topic9\", \"Topic10\", \"Topic10\", \"Topic10\", \"Topic10\", \"Topic10\", \"Topic10\", \"Topic10\", \"Topic10\", \"Topic10\", \"Topic10\", \"Topic10\", \"Topic10\", \"Topic10\", \"Topic10\", \"Topic10\", \"Topic10\", \"Topic10\", \"Topic10\", \"Topic10\", \"Topic10\", \"Topic10\", \"Topic10\", \"Topic10\", \"Topic10\", \"Topic10\", \"Topic10\", \"Topic10\", \"Topic10\", \"Topic10\", \"Topic10\", \"Topic10\", \"Topic10\", \"Topic10\", \"Topic10\", \"Topic10\", \"Topic10\", \"Topic10\", \"Topic10\", \"Topic10\", \"Topic10\", \"Topic10\", \"Topic10\", \"Topic10\", \"Topic10\", \"Topic10\", \"Topic10\", \"Topic10\", \"Topic10\", \"Topic10\", \"Topic10\", \"Topic10\", \"Topic10\", \"Topic10\", \"Topic10\", \"Topic10\", \"Topic10\", \"Topic10\", \"Topic10\", \"Topic10\", \"Topic10\", \"Topic10\", \"Topic10\", \"Topic10\", \"Topic10\", \"Topic10\", \"Topic10\", \"Topic10\", \"Topic10\", \"Topic10\", \"Topic10\", \"Topic10\", \"Topic10\", \"Topic10\", \"Topic10\", \"Topic10\", \"Topic10\", \"Topic10\", \"Topic10\", \"Topic10\", \"Topic10\", \"Topic10\", \"Topic10\", \"Topic10\", \"Topic10\", \"Topic10\", \"Topic10\", \"Topic10\", \"Topic10\", \"Topic10\", \"Topic10\", \"Topic10\", \"Topic10\", \"Topic10\", \"Topic10\", \"Topic10\", \"Topic10\", \"Topic10\", \"Topic10\", \"Topic10\"], \"logprob\": [30.0, 29.0, 28.0, 27.0, 26.0, 25.0, 24.0, 23.0, 22.0, 21.0, 20.0, 19.0, 18.0, 17.0, 16.0, 15.0, 14.0, 13.0, 12.0, 11.0, 10.0, 9.0, 8.0, 7.0, 6.0, 5.0, 4.0, 3.0, 2.0, 1.0, -9.239299774169922, -9.581299781799316, -10.051400184631348, -8.928199768066406, -10.06779956817627, -8.547200202941895, -9.074999809265137, -7.206299781799316, -7.722099781036377, -8.879799842834473, -9.861800193786621, -8.221099853515625, -9.607399940490723, -6.911300182342529, -8.227499961853027, -7.349599838256836, -8.918899536132812, -8.57349967956543, -8.725099563598633, -9.874099731445312, -9.142200469970703, -7.576499938964844, -8.555999755859375, -10.307600021362305, -9.21720027923584, -8.503600120544434, -9.078499794006348, -10.109600067138672, -7.533899784088135, -9.258500099182129, -8.238800048828125, -7.257900238037109, -8.665800094604492, -8.75529956817627, -6.656000137329102, -8.278599739074707, -7.00600004196167, -8.484000205993652, -6.399400234222412, -7.402699947357178, -7.5218000411987305, -5.950699806213379, -7.195199966430664, -7.764400005340576, -6.801300048828125, -5.401299953460693, -6.257900238037109, -7.129000186920166, -6.2967000007629395, -7.132400035858154, -5.457799911499023, -5.65880012512207, -4.198299884796143, -5.442699909210205, -6.0346999168396, -5.21019983291626, -5.938399791717529, -3.62719988822937, -4.297900199890137, -6.342299938201904, -5.346799850463867, -6.195899963378906, -5.716800212860107, -6.14169979095459, -6.2606000900268555, -5.521699905395508, -6.251399993896484, -6.299499988555908, -5.093599796295166, -5.494999885559082, -5.888899803161621, -5.3541998863220215, -5.668900012969971, -5.1331000328063965, -5.25029993057251, -5.743199825286865, -5.214700222015381, -5.936200141906738, -5.773399829864502, -5.720600128173828, -5.711999893188477, -5.4096999168396, -5.463500022888184, -5.542500019073486, -5.5447001457214355, -5.7733001708984375, -5.716100215911865, -5.885300159454346, -5.883900165557861, -7.105400085449219, -7.141200065612793, -8.69890022277832, -9.217700004577637, -9.132800102233887, -6.991399765014648, -8.81719970703125, -8.508600234985352, -8.821100234985352, -8.822400093078613, -8.953300476074219, -9.755900382995605, -9.756799697875977, -9.329700469970703, -8.957099914550781, -9.757200241088867, -8.52400016784668, -8.556099891662598, -7.872200012207031, -9.622099876403809, -8.607399940490723, -9.625100135803223, -7.1143999099731445, -9.508099555969238, -10.039899826049805, -9.633999824523926, -10.040200233459473, -10.040900230407715, -10.040900230407715, -10.042099952697754, -7.301199913024902, -8.93910026550293, -9.12969970703125, -9.456600189208984, -9.463299751281738, -7.76609992980957, -9.14109992980957, -7.94320011138916, -8.603300094604492, -8.246899604797363, -6.26800012588501, -6.236499786376953, -8.113100051879883, -7.163099765777588, -7.2032999992370605, -8.115799903869629, -5.1072001457214355, -7.433499813079834, -3.921799898147583, -5.497300148010254, -4.740300178527832, -7.441999912261963, -4.420000076293945, -4.0279998779296875, -6.334499835968018, -4.53849983215332, -5.710000038146973, -6.513199806213379, -6.731599807739258, -4.597099781036377, -6.885300159454346, -6.481100082397461, -5.252500057220459, -6.508500099182129, -5.739299774169922, -4.977200031280518, -4.372399806976318, -5.478600025177002, -5.774499893188477, -6.401899814605713, -5.798799991607666, -5.55620002746582, -5.709199905395508, -5.191100120544434, -5.531599998474121, -5.4390997886657715, -5.06879997253418, -5.3632001876831055, -5.670199871063232, -5.242599964141846, -6.032800197601318, -5.638999938964844, -5.513800144195557, -4.910900115966797, -5.484799861907959, -5.625999927520752, -5.627600193023682, -5.550899982452393, -5.677299976348877, -8.133999824523926, -9.210700035095215, -9.006500244140625, -9.285799980163574, -9.24209976196289, -9.248800277709961, -9.02929973602295, -9.593500137329102, -9.036299705505371, -9.256500244140625, -9.247900009155273, -9.264300346374512, -9.89330005645752, -8.537500381469727, -8.015899658203125, -9.895099639892578, -9.532099723815918, -9.067099571228027, -9.209600448608398, -9.532699584960938, -9.903200149536133, -9.90310001373291, -10.027000427246094, -9.908300399780273, -9.076299667358398, -9.909600257873535, -9.619999885559082, -9.540399551391602, -9.915200233459473, -6.663599967956543, -7.817699909210205, -7.495299816131592, -8.936400413513184, -7.452700138092041, -7.530399799346924, -8.122200012207031, -6.399400234222412, -7.994200229644775, -7.503699779510498, -8.305100440979004, -7.872399806976318, -7.426700115203857, -7.8730998039245605, -7.799200057983398, -6.950500011444092, -7.848999977111816, -6.9095001220703125, -6.929599761962891, -7.706200122833252, -7.8769001960754395, -8.395000457763672, -6.870100021362305, -6.517199993133545, -7.260000228881836, -7.241399765014648, -7.701300144195557, -6.571100234985352, -7.241300106048584, -6.553599834442139, -5.96589994430542, -5.9980998039245605, -6.9141998291015625, -4.338500022888184, -5.968299865722656, -6.442299842834473, -6.848100185394287, -4.814599990844727, -5.347599983215332, -7.175300121307373, -5.986199855804443, -6.360199928283691, -5.541399955749512, -5.778900146484375, -6.407899856567383, -5.472599983215332, -5.812300205230713, -6.710599899291992, -5.8196001052856445, -5.987400054931641, -6.370500087738037, -6.713099956512451, -5.481800079345703, -4.998499870300293, -6.158199787139893, -4.44789981842041, -5.65880012512207, -5.533599853515625, -4.8394999504089355, -5.648900032043457, -4.611400127410889, -5.877099990844727, -5.762899875640869, -6.000899791717529, -5.907400131225586, -4.7505998611450195, -5.329999923706055, -5.86899995803833, -5.908999919891357, -5.644000053405762, -5.78380012512207, -5.867199897766113, -5.901400089263916, -5.867000102996826, -5.860499858856201, -5.907400131225586, -8.362199783325195, -9.143400192260742, -9.152099609375, -7.880000114440918, -9.442999839782715, -9.30109977722168, -9.24209976196289, -9.538200378417969, -10.074399948120117, -9.249799728393555, -10.089200019836426, -9.324299812316895, -9.550200462341309, -9.84060001373291, -9.85319995880127, -9.273200035095215, -9.208800315856934, -9.485199928283691, -10.103699684143066, -9.748000144958496, -10.108400344848633, -9.286499977111816, -9.86340045928955, -8.545499801635742, -9.667099952697754, -10.121000289916992, -9.670100212097168, -9.670599937438965, -8.990099906921387, -7.829599857330322, -9.360099792480469, -8.245200157165527, -8.710800170898438, -8.435700416564941, -8.202300071716309, -7.904600143432617, -7.865900039672852, -7.2754998207092285, -7.738900184631348, -6.4816999435424805, -7.647200107574463, -7.781599998474121, -5.891300201416016, -7.697000026702881, -8.255900382995605, -7.1529998779296875, -6.051599979400635, -7.802499771118164, -8.500399589538574, -6.887199878692627, -7.069699764251709, -8.156800270080566, -4.468999862670898, -7.292900085449219, -6.278299808502197, -6.293000221252441, -6.792099952697754, -7.26039981842041, -4.85699987411499, -5.7993998527526855, -6.9928998947143555, -5.773600101470947, -5.690499782562256, -4.889500141143799, -5.6315999031066895, -5.357900142669678, -6.433499813079834, -6.356599807739258, -5.716400146484375, -5.501500129699707, -5.335299968719482, -6.398799896240234, -6.427999973297119, -5.098199844360352, -5.5528998374938965, -6.091800212860107, -5.956299781799316, -5.463099956512451, -5.941800117492676, -5.3796000480651855, -5.888500213623047, -4.95989990234375, -6.236499786376953, -5.600299835205078, -5.84250020980835, -5.644499778747559, -5.581999778747559, -5.8979997634887695, -6.000100135803223, -5.964799880981445, -5.760499954223633, -5.835299968719482, -5.8805999755859375, -5.9857001304626465, -7.21560001373291, -8.637499809265137, -8.803799629211426, -8.873000144958496, -8.72760009765625, -6.735799789428711, -8.193900108337402, -8.742500305175781, -9.099200248718262, -7.2357001304626465, -9.450699806213379, -8.661999702453613, -7.972499847412109, -8.323800086975098, -9.67490005493164, -8.815699577331543, -8.502599716186523, -9.571000099182129, -9.46560001373291, -9.368800163269043, -8.731599807739258, -8.144800186157227, -8.949299812316895, -8.838700294494629, -8.251700401306152, -8.260499954223633, -7.180200099945068, -8.845999717712402, -8.210399627685547, -8.422499656677246, -6.774199962615967, -7.498899936676025, -7.452700138092041, -7.906700134277344, -8.186800003051758, -7.461400032043457, -7.859300136566162, -8.084500312805176, -6.978400230407715, -7.086999893188477, -5.976500034332275, -5.231599807739258, -7.208700180053711, -7.393199920654297, -6.498000144958496, -6.684599876403809, -7.374000072479248, -7.946700096130371, -4.958899974822998, -6.045899868011475, -6.723299980163574, -6.615099906921387, -7.258500099182129, -5.9994001388549805, -6.106100082397461, -5.079899787902832, -5.195499897003174, -6.078499794006348, -5.837900161743164, -6.267600059509277, -6.424600124359131, -5.537499904632568, -6.491300106048584, -5.340199947357178, -5.443900108337402, -5.233699798583984, -6.109499931335449, -5.905099868774414, -5.745200157165527, -5.7916998863220215, -6.019700050354004, -5.010799884796143, -5.109300136566162, -5.685400009155273, -5.794400215148926, -5.315000057220459, -5.485499858856201, -5.866799831390381, -5.819300174713135, -5.672299861907959, -5.731900215148926, -5.703199863433838, -5.787199974060059, -5.627299785614014, -5.437099933624268, -5.886000156402588, -5.889500141143799, -5.812900066375732, -5.869999885559082, -8.389100074768066, -7.433800220489502, -7.439199924468994, -8.466300010681152, -8.999300003051758, -9.003600120544434, -8.519800186157227, -8.523200035095215, -7.76800012588501, -8.637700080871582, -8.52970027923584, -8.375, -5.850399971008301, -7.408999919891357, -7.131899833679199, -7.368800163269043, -7.458600044250488, -6.974899768829346, -8.036199569702148, -7.466899871826172, -7.465400218963623, -6.784299850463867, -7.405700206756592, -9.197699546813965, -7.4695000648498535, -7.473899841308594, -7.4721999168396, -7.475299835205078, -7.47790002822876, -7.478799819946289, -7.4319000244140625, -6.332499980926514, -3.483099937438965, -6.763800144195557, -7.431600093841553, -7.417699813842773, -6.243100166320801, -7.480599880218506, -7.433300018310547, -5.097799777984619, -5.795199871063232, -6.261899948120117, -6.715099811553955, -5.724599838256836, -7.44350004196167, -6.658899784088135, -4.429800033569336, -6.402599811553955, -5.460400104522705, -4.810100078582764, -5.389400005340576, -5.683499813079834, -5.702700138092041, -5.0578999519348145, -5.724999904632568, -4.643700122833252, -5.5680999755859375, -5.800099849700928, -6.9903998374938965, -5.645500183105469, -6.910399913787842, -5.748899936676025, -5.580900192260742, -5.2555999755859375, -5.458600044250488, -5.445899963378906, -5.359099864959717, -5.628200054168701, -5.6371002197265625, -5.707600116729736, -5.696800231933594, -5.686100006103516, -5.726399898529053, -5.950099945068359, -5.849100112915039, -6.5731000900268555, -6.799900054931641, -8.475500106811523, -6.229899883270264, -7.798799991607666, -8.90999984741211, -8.84220027923584, -8.9173002243042, -8.145899772644043, -8.264200210571289, -6.807400226593018, -6.353899955749512, -8.403599739074707, -7.571300029754639, -9.101400375366211, -7.287899971008301, -7.638800144195557, -8.458000183105469, -8.459500312805176, -9.304499626159668, -8.463899612426758, -5.588500022888184, -8.468199729919434, -9.210000038146973, -7.76170015335083, -6.530099868774414, -9.567899703979492, -8.474200248718262, -9.570300102233887, -5.050899982452393, -8.585800170898438, -8.883999824523926, -7.723999977111816, -5.7210001945495605, -5.1631999015808105, -7.537700176239014, -6.41379976272583, -6.089799880981445, -5.546199798583984, -7.128499984741211, -7.940999984741211, -7.982900142669678, -6.802000045776367, -3.2399001121520996, -7.230599880218506, -6.159999847412109, -5.514699935913086, -6.2032999992370605, -7.213799953460693, -5.535699844360352, -6.717700004577637, -5.319799900054932, -6.321599960327148, -6.6528000831604, -5.932000160217285, -6.146399974822998, -5.913300037384033, -6.038300037384033, -4.888800144195557, -4.537799835205078, -5.085100173950195, -6.101900100708008, -6.28879976272583, -5.01140022277832, -5.059899806976318, -5.193999767303467, -5.220300197601318, -5.3302001953125, -5.3867998123168945, -5.564899921417236, -5.669400215148926, -5.757599830627441, -5.615600109100342, -5.831299781799316, -5.633600234985352, -5.75029993057251, -5.500400066375732, -5.808800220489502, -5.792900085449219, -5.888199806213379, -8.16919994354248, -7.246699810028076, -7.422299861907959, -7.6041998863220215, -8.19909954071045, -8.201499938964844, -8.475600242614746, -8.677800178527832, -8.555999755859375, -8.000499725341797, -8.42870044708252, -8.959699630737305, -8.383999824523926, -8.702199935913086, -8.703499794006348, -8.568499565124512, -8.874300003051758, -9.07800006866455, -8.794099807739258, -8.524999618530273, -8.242799758911133, -8.561100006103516, -8.892900466918945, -8.88949966430664, -8.809100151062012, -9.101499557495117, -8.829500198364258, -9.235300064086914, -8.909700393676758, -8.915599822998047, -6.930200099945068, -6.80810022354126, -7.116199970245361, -7.401800155639648, -7.0746002197265625, -6.73330020904541, -7.490699768066406, -6.991199970245361, -4.9421000480651855, -7.150700092315674, -6.864299774169922, -7.930300235748291, -6.069799900054932, -6.65310001373291, -6.7154998779296875, -7.3379998207092285, -7.93720006942749, -5.988699913024902, -6.4475998878479, -6.529300212860107, -6.033199787139893, -6.809700012207031, -7.304999828338623, -6.634200096130371, -6.988100051879883, -6.7104997634887695, -6.364699840545654, -5.64169979095459, -6.26039981842041, -4.43779993057251, -5.97629976272583, -6.193699836730957, -6.414999961853027, -6.881100177764893, -4.779900074005127, -5.684299945831299, -5.828999996185303, -6.621399879455566, -5.483699798583984, -6.254000186920166, -5.729700088500977, -5.53439998626709, -5.252699851989746, -6.375400066375732, -5.69890022277832, -5.714399814605713, -5.4918999671936035, -5.1682000160217285, -5.939700126647949, -5.584099769592285, -5.637800216674805, -5.8790998458862305, -5.717700004577637, -5.741099834442139, -5.648900032043457, -5.596799850463867, -5.67140007019043, -5.980899810791016, -5.678400039672852, -5.808300018310547, -5.874499797821045, -5.893599987030029, -5.874300003051758, -5.934899806976318, -5.967599868774414, -8.563899993896484, -7.256100177764893, -7.011600017547607, -6.8850998878479, -7.014100074768066, -6.935699939727783, -6.88640022277832, -7.091100215911865, -7.327700138092041, -6.952400207519531, -7.802999973297119, -8.762200355529785, -7.780300140380859, -8.622099876403809, -7.842100143432617, -7.784599781036377, -7.907899856567383, -6.54640007019043, -5.2866997718811035, -8.048100471496582, -7.817399978637695, -8.570099830627441, -8.086799621582031, -8.089799880981445, -6.862500190734863, -8.135700225830078, -5.77239990234375, -7.589600086212158, -8.107000350952148, -8.519800186157227, -5.605299949645996, -6.648600101470947, -6.722799777984619, -6.571599960327148, -7.079999923706055, -6.864799976348877, -5.142099857330322, -6.341300010681152, -6.426199913024902, -6.785799980163574, -7.281300067901611, -5.810100078582764, -4.841300010681152, -6.290299892425537, -6.241000175476074, -6.52400016784668, -5.77400016784668, -3.6619999408721924, -6.235599994659424, -6.4004998207092285, -6.140500068664551, -5.269700050354004, -5.673299789428711, -5.551400184631348, -5.504700183868408, -6.026899814605713, -5.3902997970581055, -4.685100078582764, -6.224699974060059, -5.999599933624268, -5.206600189208984, -5.153299808502197, -5.257199764251709, -4.918099880218506, -5.383299827575684, -5.4517998695373535, -5.582600116729736, -5.773399829864502, -5.52839994430542, -5.393799781799316, -5.6890997886657715, -5.924799919128418, -5.5665998458862305, -5.780200004577637, -5.838099956512451, -5.669600009918213, -5.745699882507324, -8.9399995803833, -8.940699577331543, -8.944700241088867, -8.638699531555176, -8.287799835205078, -8.283499717712402, -8.577699661254883, -8.57919979095459, -8.236000061035156, -8.58180046081543, -8.502400398254395, -8.505900382995605, -7.699999809265137, -8.585100173950195, -8.67490005493164, -8.24489974975586, -8.59060001373291, -7.749899864196777, -8.595199584960938, -8.686699867248535, -8.686300277709961, -8.600500106811523, -8.60420036315918, -8.149700164794922, -9.154199600219727, -8.628999710083008, -9.162799835205078, -8.029199600219727, -8.074700355529785, -9.165300369262695, -8.287799835205078, -8.711700439453125, -6.83050012588501, -7.364200115203857, -7.337200164794922, -5.875800132751465, -8.014699935913086, -6.446899890899658, -8.149700164794922, -7.883800029754639, -6.908199787139893, -6.523600101470947, -7.124300003051758, -7.431600093841553, -6.265500068664551, -6.464900016784668, -5.446800231933594, -8.248100280761719, -8.250499725341797, -5.322700023651123, -7.117400169372559, -6.3282999992370605, -6.440499782562256, -7.965700149536133, -6.183700084686279, -7.599999904632568, -7.075099945068359, -6.14139986038208, -7.908100128173828, -6.387800216674805, -7.149400234222412, -5.7652997970581055, -6.631499767303467, -7.195799827575684, -6.664999961853027, -4.6946001052856445, -6.886000156402588, -6.524499893188477, -4.45389986038208, -6.581699848175049, -6.275400161743164, -5.782899856567383, -5.9145002365112305, -5.596799850463867, -6.216700077056885, -5.373700141906738, -6.0304999351501465, -5.554800033569336, -5.2692999839782715, -6.007599830627441, -5.923600196838379, -5.801400184631348, -6.065499782562256, -5.755099773406982, -5.529099941253662, -5.377699851989746, -5.2316999435424805, -5.28410005569458, -5.769499778747559, -5.618100166320801, -5.564700126647949, -5.801000118255615, -5.6545000076293945, -5.893799781799316, -5.931099891662598, -5.879799842834473, -5.894800186157227, -5.87529993057251, -5.909599781036377], \"loglift\": [30.0, 29.0, 28.0, 27.0, 26.0, 25.0, 24.0, 23.0, 22.0, 21.0, 20.0, 19.0, 18.0, 17.0, 16.0, 15.0, 14.0, 13.0, 12.0, 11.0, 10.0, 9.0, 8.0, 7.0, 6.0, 5.0, 4.0, 3.0, 2.0, 1.0, 1.48580002784729, 1.4541000127792358, 1.4270000457763672, 1.424299955368042, 1.416100025177002, 1.4017000198364258, 1.4013999700546265, 1.4012999534606934, 1.3995000123977661, 1.3937000036239624, 1.3885999917984009, 1.3883999586105347, 1.3877999782562256, 1.3875000476837158, 1.3870999813079834, 1.3865000009536743, 1.3833999633789062, 1.382200002670288, 1.381700038909912, 1.3804999589920044, 1.3801000118255615, 1.3801000118255615, 1.3797999620437622, 1.379699945449829, 1.378999948501587, 1.378600001335144, 1.3770999908447266, 1.3756999969482422, 1.374899983406067, 1.3746999502182007, 1.374500036239624, 1.3632999658584595, 1.3746000528335571, 1.3732000589370728, 1.347499966621399, 1.367300033569336, 1.3377000093460083, 1.3657000064849854, 1.3151999711990356, 1.3343000411987305, 1.3370000123977661, 1.2776999473571777, 1.3221999406814575, 1.3431999683380127, 1.3001999855041504, 1.232100009918213, 1.2710000276565552, 1.3116999864578247, 1.2657999992370605, 1.3047000169754028, 1.1969000101089478, 1.2089999914169312, 1.107300043106079, 1.163599967956543, 1.200600028038025, 1.128000020980835, 1.1837999820709229, 0.9550999999046326, 1.0098999738693237, 1.194700002670288, 1.013800024986267, 1.1288000345230103, 1.0399999618530273, 1.1161999702453613, 1.1313999891281128, 0.9180999994277954, 1.0642000436782837, 1.0769000053405762, 0.7069000005722046, 0.8271999955177307, 0.9275000095367432, 0.6965000033378601, 0.788100004196167, 0.5321999788284302, 0.5493000149726868, 0.738099992275238, 0.38089999556541443, 0.7976999878883362, 0.5748999714851379, 0.45210000872612, 0.4410000145435333, 0.008100000210106373, 0.04349999874830246, 0.14869999885559082, -0.03689999878406525, 0.39719998836517334, 0.04390000179409981, 0.5687999725341797, 0.09470000118017197, 1.6907999515533447, 1.6883000135421753, 1.684399962425232, 1.6842000484466553, 1.6832000017166138, 1.6811000108718872, 1.6796000003814697, 1.6787999868392944, 1.6756999492645264, 1.6748000383377075, 1.6728999614715576, 1.670799970626831, 1.669800043106079, 1.669600009918213, 1.6693999767303467, 1.6693999767303467, 1.666200041770935, 1.6641000509262085, 1.6634999513626099, 1.6620999574661255, 1.658400058746338, 1.656599998474121, 1.6561000347137451, 1.653499960899353, 1.6512000560760498, 1.6511000394821167, 1.6507999897003174, 1.6503000259399414, 1.6502000093460083, 1.6490000486373901, 1.642199993133545, 1.6486999988555908, 1.6468000411987305, 1.6480000019073486, 1.6475000381469727, 1.6247999668121338, 1.6441999673843384, 1.6196000576019287, 1.631700038909912, 1.6198999881744385, 1.5156999826431274, 1.5024000406265259, 1.5952999591827393, 1.5319000482559204, 1.530900001525879, 1.5825999975204468, 1.3183000087738037, 1.5097999572753906, 1.135200023651123, 1.298799991607666, 1.197100043296814, 1.492400050163269, 1.0722999572753906, 0.9948999881744385, 1.3314000368118286, 1.044700026512146, 1.1450999975204468, 1.277400016784668, 1.3187999725341797, 0.8758000135421753, 1.333799958229065, 1.233199954032898, 0.9463000297546387, 1.222499966621399, 1.032099962234497, 0.8277999758720398, 0.6046000123023987, 0.8756999969482422, 0.9269999861717224, 1.1401000022888184, 0.8876000046730042, 0.7409999966621399, 0.8148000240325928, 0.5001000165939331, 0.6388999819755554, 0.54830002784729, 0.24650000035762787, 0.3968999981880188, 0.6166999936103821, 0.26440000534057617, 0.8592000007629395, 0.5095000267028809, 0.3677000105381012, -0.3285999894142151, 0.24660000205039978, 0.35260000824928284, 0.30300000309944153, -0.04320000112056732, 0.012299999594688416, 1.979099988937378, 1.958899974822998, 1.955199956893921, 1.948699951171875, 1.9384000301361084, 1.9330999851226807, 1.93149995803833, 1.9294999837875366, 1.9293999671936035, 1.926800012588501, 1.9234999418258667, 1.9206000566482544, 1.917099952697754, 1.916599988937378, 1.914199948310852, 1.9118000268936157, 1.9083000421524048, 1.907099962234497, 1.9069000482559204, 1.9053000211715698, 1.9036999940872192, 1.9035999774932861, 1.9010000228881836, 1.9000999927520752, 1.8997999429702759, 1.899399995803833, 1.8984999656677246, 1.8971999883651733, 1.8960000276565552, 1.895400047302246, 1.886199951171875, 1.8772000074386597, 1.891700029373169, 1.8766000270843506, 1.8695000410079956, 1.879699945449829, 1.8393000364303589, 1.8716000318527222, 1.8508000373840332, 1.8717000484466553, 1.857699990272522, 1.8365000486373901, 1.8522000312805176, 1.8487999439239502, 1.8037999868392944, 1.8494999408721924, 1.789199948310852, 1.7898999452590942, 1.8306000232696533, 1.840399980545044, 1.871000051498413, 1.7553999423980713, 1.7226999998092651, 1.7839000225067139, 1.7795000076293945, 1.818600058555603, 1.7186000347137451, 1.7718000411987305, 1.6829999685287476, 1.6096999645233154, 1.6013000011444092, 1.7199000120162964, 1.351099967956543, 1.5815000534057617, 1.6486999988555908, 1.7031999826431274, 1.3944000005722046, 1.454200029373169, 1.7457000017166138, 1.5206999778747559, 1.590000033378601, 1.3935999870300293, 1.4349000453948975, 1.5820000171661377, 1.3420000076293945, 1.419100046157837, 1.6363999843597412, 1.3598999977111816, 1.3925000429153442, 1.5123000144958496, 1.620300054550171, 1.1276999711990356, 0.8830000162124634, 1.3942999839782715, 0.6090999841690063, 1.141700029373169, 1.0569000244140625, 0.633400022983551, 1.0822999477386475, 0.4115999937057495, 1.1922999620437622, 1.1068999767303467, 1.2771999835968018, 1.2010999917984009, 0.2264000028371811, 0.4749999940395355, 0.9273999929428101, 0.7276999950408936, -0.1517000049352646, 0.1467999964952469, 0.12020000070333481, 0.4537000060081482, -0.10700000077486038, -0.35350000858306885, -0.32420000433921814, 2.1175999641418457, 2.0878000259399414, 2.0717999935150146, 2.063999891281128, 2.0617001056671143, 2.048799991607666, 2.047800064086914, 2.047300100326538, 2.0404000282287598, 2.0364999771118164, 2.0251998901367188, 2.0236001014709473, 2.019399881362915, 2.0181000232696533, 2.0172998905181885, 2.015899896621704, 2.013200044631958, 2.0083000659942627, 2.007699966430664, 2.0058999061584473, 2.000699996948242, 1.9966000318527222, 1.9950000047683716, 1.9895999431610107, 1.9876999855041504, 1.9874999523162842, 1.9864000082015991, 1.9860999584197998, 1.9860999584197998, 1.98580002784729, 1.9843000173568726, 1.9631999731063843, 1.9621000289916992, 1.9505000114440918, 1.9319000244140625, 1.9179999828338623, 1.8966000080108643, 1.8579000234603882, 1.8804999589920044, 1.7763999700546265, 1.861899971961975, 1.8590999841690063, 1.691100001335144, 1.833799958229065, 1.8623000383377075, 1.6992000341415405, 1.50600004196167, 1.774399995803833, 1.8830000162124634, 1.573799967765808, 1.5888999700546265, 1.799399971961975, 0.9488000273704529, 1.6015000343322754, 1.3428000211715698, 1.329800009727478, 1.4498000144958496, 1.5312000513076782, 0.8083000183105469, 1.0880000591278076, 1.447100043296814, 1.0455000400543213, 0.9606999754905701, 0.6182000041007996, 0.8683000206947327, 0.6998000144958496, 1.1686999797821045, 1.1055999994277954, 0.7649999856948853, 0.6218000054359436, 0.4652000069618225, 1.0406999588012695, 1.0577000379562378, 0.20739999413490295, 0.49779999256134033, 0.8001999855041504, 0.6865000128746033, 0.26829999685287476, 0.635699987411499, 0.1273999959230423, 0.5512999892234802, -0.37770000100135803, 0.8551999926567078, -0.004699999932199717, 0.31049999594688416, 0.04659999907016754, -0.2741999924182892, 0.032600000500679016, 0.17249999940395355, 0.05290000140666962, -0.703499972820282, -0.5199999809265137, -0.857699990272522, 0.0017000000225380063, 2.2155001163482666, 2.2070999145507812, 2.1972999572753906, 2.189199924468994, 2.178499937057495, 2.1742000579833984, 2.1717000007629395, 2.171600103378296, 2.160900115966797, 2.1514999866485596, 2.1473000049591064, 2.146199941635132, 2.1451001167297363, 2.1422998905181885, 2.141400098800659, 2.1412999629974365, 2.139899969100952, 2.136199951171875, 2.131500005722046, 2.130000114440918, 2.126699924468994, 2.123300075531006, 2.121000051498413, 2.120500087738037, 2.1187000274658203, 2.1173999309539795, 2.1157000064849854, 2.1152000427246094, 2.1145999431610107, 2.1140999794006348, 2.111799955368042, 2.1133999824523926, 2.101099967956543, 2.1071999073028564, 2.1073999404907227, 2.090399980545044, 2.0934998989105225, 2.09089994430542, 2.022900104522705, 2.026700019836426, 1.9112999439239502, 1.8370000123977661, 1.9993000030517578, 2.010499954223633, 1.8924000263214111, 1.9047000408172607, 1.989400029182434, 2.0708000659942627, 1.5683000087738037, 1.7376999855041504, 1.8407000303268433, 1.8085999488830566, 1.9198999404907227, 1.6431000232696533, 1.614300012588501, 1.3385000228881836, 1.3042999505996704, 1.4564000368118286, 1.3516000509262085, 1.4707000255584717, 1.5295000076293945, 1.1497000455856323, 1.5333000421524048, 0.9133999943733215, 0.9638000130653381, 0.8364999890327454, 1.302899956703186, 1.155900001525879, 1.037500023841858, 1.0299999713897705, 1.1717000007629395, 0.304500013589859, 0.3084999918937683, 0.7872999906539917, 0.8873999714851379, 0.2806999981403351, 0.44510000944137573, 0.8496999740600586, 0.755299985408783, 0.48069998621940613, 0.5705999732017517, 0.46950000524520874, 0.567799985408783, 0.062300000339746475, -0.8547999858856201, 0.5960999727249146, 0.5958999991416931, -0.08160000294446945, 0.1476999968290329, 2.697000026702881, 2.677500009536743, 2.6712000370025635, 2.6570000648498535, 2.653599977493286, 2.6482999324798584, 2.6428000926971436, 2.6380999088287354, 2.6357998847961426, 2.6354000568389893, 2.630000114440918, 2.627700090408325, 2.627500057220459, 2.6252999305725098, 2.6245999336242676, 2.623199939727783, 2.622999906539917, 2.6184000968933105, 2.6175999641418457, 2.6150999069213867, 2.614300012588501, 2.6140999794006348, 2.6131999492645264, 2.613100051879883, 2.610100030899048, 2.609100103378296, 2.6089000701904297, 2.605299949645996, 2.6029999256134033, 2.6019999980926514, 2.601900100708008, 2.5799999237060547, 2.4902000427246094, 2.5850000381469727, 2.6013998985290527, 2.6008999347686768, 2.5527000427246094, 2.600399971008301, 2.597899913787842, 2.455199956893921, 2.4611001014709473, 2.4465999603271484, 2.49180006980896, 2.2007999420166016, 2.590399980545044, 2.168100118637085, 0.878000020980835, 1.988800048828125, 1.3178000450134277, 0.7730000019073486, 0.9664999842643738, 1.0896999835968018, 1.0800000429153442, 0.44920000433921814, 1.0089000463485718, -0.061400000005960464, 0.7924000024795532, 0.9077000021934509, 2.177299976348877, 0.6765999794006348, 2.0460000038146973, 0.553600013256073, 0.21960000693798065, -0.23270000517368317, 0.04919999837875366, -0.1306000053882599, -0.382099986076355, 0.13189999759197235, -0.04149999842047691, 0.09210000187158585, -0.22390000522136688, -0.38040000200271606, -0.30869999527931213, 0.45750001072883606, -0.35679998993873596, 2.833400011062622, 2.814500093460083, 2.8138999938964844, 2.7750000953674316, 2.7679998874664307, 2.750200033187866, 2.743799924850464, 2.743000030517578, 2.741499900817871, 2.740000009536743, 2.734499931335449, 2.73009991645813, 2.726099967956543, 2.723599910736084, 2.7216999530792236, 2.719899892807007, 2.719099998474121, 2.716099977493286, 2.714099884033203, 2.7116000652313232, 2.7088000774383545, 2.706199884414673, 2.7060000896453857, 2.7053000926971436, 2.702500104904175, 2.6981000900268555, 2.696899890899658, 2.6967999935150146, 2.694000005722046, 2.68969988822937, 2.6865999698638916, 2.6879000663757324, 2.6522998809814453, 2.5782999992370605, 2.5441999435424805, 2.638000011444092, 2.5780999660491943, 2.4960999488830566, 2.4453001022338867, 2.575500011444092, 2.654599905014038, 2.6484999656677246, 2.4230000972747803, 1.7371000051498413, 2.456199884414673, 2.202199935913086, 1.9986000061035156, 2.1291000843048096, 2.418600082397461, 1.8493000268936157, 2.1898999214172363, 1.5497000217437744, 2.001300096511841, 2.13070011138916, 1.7350000143051147, 1.833799958229065, 1.6862000226974487, 1.6813000440597534, 0.8425999879837036, 0.48510000109672546, 0.8521999716758728, 1.6607999801635742, 1.785099983215332, 0.48089998960494995, 0.5231999754905701, 0.5659999847412109, 0.2526000142097473, 0.36090001463890076, 0.20880000293254852, 0.41370001435279846, 0.5871000289916992, 0.7245000004768372, 0.3149999976158142, 0.8755999803543091, -0.125900000333786, 0.3199000060558319, -0.9182000160217285, 0.5419999957084656, -0.7358999848365784, 0.16940000653266907, 2.7818000316619873, 2.7780001163482666, 2.767400026321411, 2.7525999546051025, 2.7500998973846436, 2.7490999698638916, 2.747999906539917, 2.746999979019165, 2.7446999549865723, 2.7404000759124756, 2.7339999675750732, 2.732100009918213, 2.7298998832702637, 2.729099988937378, 2.728100061416626, 2.7246999740600586, 2.723299980163574, 2.7207999229431152, 2.7184998989105225, 2.7165000438690186, 2.714600086212158, 2.7135000228881836, 2.713099956512451, 2.70770001411438, 2.7028000354766846, 2.699899911880493, 2.6946001052856445, 2.693700075149536, 2.69320011138916, 2.692500114440918, 2.6881000995635986, 2.668600082397461, 2.666300058364868, 2.66759991645813, 2.6589999198913574, 2.642899990081787, 2.6654999256134033, 2.647200107574463, 2.560800075531006, 2.643199920654297, 2.6191000938415527, 2.671099901199341, 2.547100067138672, 2.583400011062622, 2.5804998874664307, 2.627000093460083, 2.6709001064300537, 2.486999988555908, 2.510200023651123, 2.495500087738037, 2.38919997215271, 2.487600088119507, 2.5680999755859375, 2.4577999114990234, 2.5141000747680664, 2.464400053024292, 2.3861000537872314, 2.1975998878479004, 2.265700101852417, 1.7000999450683594, 2.1280999183654785, 2.116499900817871, 2.1898000240325928, 2.4054999351501465, 1.2379000186920166, 1.710800051689148, 1.7301000356674194, 2.2460999488830566, 1.2517000436782837, 1.9112000465393066, 1.4101999998092651, 0.7526000142097473, 0.2549999952316284, 1.8371000289916992, 0.6363000273704529, 0.6414999961853027, 0.19930000603199005, -0.5860000252723694, 0.913100004196167, 0.10559999942779541, 0.16189999878406525, 0.7186999917030334, 0.26089999079704285, 0.24629999697208405, -0.053199999034404755, -0.2815000116825104, -0.25369998812675476, 0.828000009059906, -0.6554999947547913, -0.07699999958276749, 0.18320000171661377, -0.40130001306533813, -0.8973000049591064, 0.2134999930858612, 0.28600001335144043, 2.879499912261963, 2.8541998863220215, 2.8524999618530273, 2.8513998985290527, 2.8496999740600586, 2.8492000102996826, 2.849100112915039, 2.839900016784668, 2.8392999172210693, 2.8303000926971436, 2.821199893951416, 2.8143999576568604, 2.8141000270843506, 2.8120999336242676, 2.8090999126434326, 2.808199882507324, 2.807300090789795, 2.8043999671936035, 2.80430006980896, 2.803499937057495, 2.803299903869629, 2.8029000759124756, 2.802000045776367, 2.799099922180176, 2.7939000129699707, 2.792099952697754, 2.789900064468384, 2.7827000617980957, 2.781899929046631, 2.7806999683380127, 2.767899990081787, 2.7507998943328857, 2.730799913406372, 2.7230000495910645, 2.739799976348877, 2.727299928665161, 2.5927999019622803, 2.67549991607666, 2.6686999797821045, 2.6800999641418457, 2.7323999404907227, 2.5000998973846436, 2.2853000164031982, 2.5406999588012695, 2.504699945449829, 2.53629994392395, 2.3596999645233154, 1.6533000469207764, 2.3905999660491943, 2.459399938583374, 2.3471999168395996, 1.924399971961975, 1.9559999704360962, 1.8351000547409058, 1.771299958229065, 2.072999954223633, 1.493299961090088, 0.8219000101089478, 2.2058000564575195, 1.9707000255584717, 1.128600001335144, 0.9847000241279602, 1.0986000299453735, 0.5896999835968018, 0.28200000524520874, 0.34779998660087585, 0.48750001192092896, 0.9136999845504761, 0.23160000145435333, -0.3368000090122223, 0.4341000020503998, 1.1984000205993652, -0.26100000739097595, 0.6168000102043152, 0.8062000274658203, -0.6466000080108643, -0.15000000596046448, 2.9075000286102295, 2.906899929046631, 2.9031999111175537, 2.889400005340576, 2.87719988822937, 2.875999927520752, 2.8696000576019287, 2.867500066757202, 2.8661999702453613, 2.865799903869629, 2.8652000427246094, 2.863800048828125, 2.8635001182556152, 2.8622000217437744, 2.8606998920440674, 2.8598999977111816, 2.8580000400543213, 2.8552000522613525, 2.8529000282287598, 2.8512001037597656, 2.8510000705718994, 2.848900079727173, 2.84660005569458, 2.845400094985962, 2.8366000652313232, 2.8292999267578125, 2.828900098800659, 2.828900098800659, 2.8285000324249268, 2.8268001079559326, 2.821899890899658, 2.8259999752044678, 2.789900064468384, 2.779099941253662, 2.768199920654297, 2.6161999702453613, 2.794600009918213, 2.6333000659942627, 2.7999000549316406, 2.7685999870300293, 2.6475000381469727, 2.5903000831604004, 2.6594998836517334, 2.6935999393463135, 2.5130999088287354, 2.536900043487549, 2.3071000576019287, 2.802299976348877, 2.7995998859405518, 2.147599935531616, 2.539400100708008, 2.297499895095825, 2.3257999420166016, 2.720599889755249, 2.1298000812530518, 2.5897998809814453, 2.395400047302246, 1.8758000135421753, 2.6975998878479004, 1.9352999925613403, 2.287899971008301, 1.5087000131607056, 1.9778000116348267, 2.308300018310547, 1.940999984741211, 0.6207000017166138, 2.0720999240875244, 1.7956000566482544, 0.1282999962568283, 1.7862000465393066, 1.4860999584197998, 0.9901999831199646, 1.121000051498413, 0.7583000063896179, 1.4043999910354614, 0.43130001425743103, 1.191100001335144, 0.5982000231742859, 0.22300000488758087, 1.1369999647140503, 0.9898999929428101, 0.786300003528595, 1.1657999753952026, 0.7177000045776367, 0.352400004863739, 0.09520000219345093, -0.2547000050544739, -0.2612000107765198, 0.5329999923706055, 0.11320000141859055, -0.1469999998807907, 0.49619999527931213, -0.0714000016450882, 0.7039999961853027, 0.7056000232696533, 0.37380000948905945, 0.09260000288486481, -0.20990000665187836, -0.10909999907016754]}, \"token.table\": {\"Topic\": [1, 2, 3, 4, 5, 6, 7, 8, 9, 10, 2, 1, 2, 3, 4, 5, 6, 7, 8, 9, 10, 8, 9, 10, 1, 2, 3, 4, 5, 6, 7, 8, 9, 10, 1, 2, 3, 4, 5, 6, 7, 8, 9, 10, 1, 2, 3, 4, 5, 6, 7, 8, 9, 10, 4, 8, 1, 2, 3, 4, 5, 6, 7, 8, 9, 10, 1, 1, 1, 2, 3, 4, 6, 7, 9, 10, 1, 2, 3, 4, 5, 6, 7, 8, 9, 10, 1, 6, 10, 1, 2, 3, 4, 5, 6, 7, 8, 9, 10, 1, 2, 3, 4, 5, 6, 7, 8, 9, 10, 1, 2, 3, 4, 5, 6, 7, 8, 9, 10, 1, 4, 6, 7, 9, 7, 5, 9, 3, 4, 6, 10, 1, 2, 3, 4, 5, 6, 7, 8, 9, 10, 2, 1, 2, 3, 4, 5, 6, 8, 9, 10, 1, 2, 3, 4, 5, 7, 8, 9, 10, 2, 4, 5, 6, 7, 8, 9, 10, 1, 2, 3, 4, 5, 6, 7, 8, 9, 10, 1, 2, 3, 4, 5, 6, 7, 8, 9, 10, 1, 2, 3, 4, 5, 6, 7, 8, 9, 10, 3, 8, 2, 4, 7, 1, 2, 3, 4, 5, 6, 7, 8, 9, 10, 1, 2, 3, 4, 5, 6, 7, 8, 1, 2, 3, 4, 5, 6, 7, 8, 9, 10, 4, 1, 2, 3, 4, 5, 6, 7, 8, 9, 10, 6, 7, 1, 2, 3, 4, 5, 6, 7, 8, 9, 10, 1, 2, 3, 4, 5, 6, 7, 8, 9, 10, 1, 2, 3, 4, 5, 6, 7, 8, 9, 10, 2, 3, 5, 6, 9, 10, 1, 2, 3, 4, 5, 6, 7, 8, 9, 10, 2, 6, 7, 9, 2, 4, 8, 1, 2, 4, 5, 6, 10, 2, 3, 4, 6, 7, 8, 9, 1, 2, 3, 4, 5, 6, 7, 8, 9, 10, 1, 2, 3, 4, 5, 6, 7, 8, 9, 10, 3, 7, 1, 2, 3, 4, 5, 6, 7, 8, 9, 10, 1, 2, 3, 4, 5, 6, 7, 9, 10, 1, 2, 3, 4, 5, 6, 7, 8, 9, 10, 1, 2, 3, 4, 5, 6, 7, 8, 9, 10, 2, 3, 4, 6, 7, 8, 9, 4, 10, 4, 1, 2, 3, 4, 7, 9, 10, 2, 7, 6, 8, 9, 1, 2, 3, 4, 6, 7, 9, 1, 2, 3, 4, 5, 6, 7, 8, 9, 10, 4, 2, 3, 6, 1, 2, 3, 4, 5, 6, 7, 8, 9, 10, 1, 2, 3, 4, 5, 6, 7, 8, 9, 10, 1, 2, 3, 4, 5, 6, 7, 8, 9, 10, 1, 2, 3, 4, 5, 6, 7, 9, 10, 1, 2, 3, 6, 7, 8, 9, 1, 2, 3, 4, 5, 6, 7, 8, 9, 10, 1, 2, 4, 6, 9, 1, 2, 3, 4, 5, 6, 7, 8, 9, 10, 1, 2, 3, 4, 5, 6, 7, 8, 9, 10, 3, 9, 10, 1, 2, 3, 4, 5, 6, 7, 8, 9, 10, 1, 2, 4, 5, 6, 7, 8, 10, 1, 2, 3, 4, 5, 6, 7, 8, 9, 10, 1, 2, 3, 4, 5, 6, 7, 8, 9, 10, 1, 2, 3, 4, 5, 6, 7, 8, 9, 10, 1, 2, 3, 4, 5, 6, 7, 8, 9, 10, 1, 2, 3, 4, 5, 6, 7, 8, 9, 10, 5, 2, 3, 1, 3, 6, 7, 8, 9, 1, 2, 3, 4, 5, 6, 7, 8, 9, 10, 1, 2, 3, 4, 5, 6, 7, 8, 9, 10, 1, 2, 3, 4, 6, 8, 9, 10, 2, 3, 4, 6, 1, 2, 3, 4, 5, 6, 7, 8, 9, 10, 1, 2, 3, 4, 5, 6, 7, 8, 9, 10, 1, 2, 3, 4, 5, 6, 7, 8, 9, 10, 1, 2, 3, 4, 5, 6, 7, 8, 10, 2, 3, 6, 8, 1, 2, 3, 4, 5, 6, 7, 8, 9, 10, 1, 2, 3, 4, 5, 6, 7, 8, 9, 10, 1, 2, 3, 4, 5, 6, 7, 8, 9, 10, 2, 6, 7, 9, 1, 2, 3, 4, 5, 6, 7, 8, 9, 10, 1, 2, 3, 4, 5, 6, 7, 8, 9, 10, 1, 2, 3, 4, 5, 6, 7, 8, 9, 10, 1, 2, 3, 4, 5, 6, 7, 8, 9, 10, 1, 2, 3, 4, 5, 6, 7, 8, 9, 10, 1, 2, 3, 4, 5, 6, 7, 8, 9, 10, 1, 2, 3, 4, 5, 6, 7, 8, 9, 10, 1, 2, 3, 4, 5, 6, 7, 8, 9, 10, 7, 2, 3, 7, 1, 2, 3, 4, 5, 6, 7, 8, 9, 10, 1, 2, 3, 4, 5, 6, 7, 8, 9, 10, 1, 2, 3, 4, 5, 6, 7, 8, 10, 1, 2, 3, 4, 5, 6, 7, 8, 9, 10, 1, 2, 3, 4, 5, 6, 7, 8, 9, 10, 1, 2, 3, 4, 5, 6, 7, 8, 9, 10, 1, 2, 3, 4, 5, 6, 7, 8, 9, 10, 1, 2, 3, 4, 5, 6, 7, 8, 9, 10, 1, 2, 3, 4, 5, 6, 7, 8, 9, 10, 1, 2, 3, 4, 5, 6, 7, 8, 9, 10, 1, 2, 3, 4, 5, 6, 7, 8, 9, 10, 1, 2, 3, 4, 5, 6, 7, 8, 9, 10, 1, 2, 3, 4, 5, 6, 9, 10, 1, 2, 3, 4, 5, 6, 7, 8, 9, 10, 1, 2, 3, 4, 5, 6, 7, 8, 9, 10, 1, 2, 3, 4, 5, 6, 7, 8, 9, 10, 2, 4, 6, 7, 10, 1, 2, 3, 4, 5, 6, 7, 8, 9, 10, 1, 2, 3, 4, 5, 6, 7, 8, 9, 10, 1, 1, 2, 3, 4, 5, 6, 7, 8, 9, 10, 9, 1, 2, 3, 4, 5, 6, 7, 8, 9, 10, 1, 2, 3, 4, 5, 6, 7, 8, 9, 10, 1, 2, 3, 4, 5, 6, 7, 8, 9, 10, 1, 2, 3, 4, 5, 6, 7, 8, 9, 10, 1, 2, 3, 4, 5, 6, 7, 8, 9, 10, 2, 6, 8, 1, 2, 3, 4, 5, 6, 7, 8, 9, 10, 2, 6, 7, 9, 5, 9, 10, 1, 2, 3, 4, 5, 6, 7, 8, 9, 10, 1, 2, 3, 4, 5, 6, 7, 8, 9, 10, 1, 2, 3, 4, 5, 6, 7, 8, 9, 10, 1, 2, 3, 4, 5, 6, 7, 8, 9, 10, 1, 2, 3, 4, 5, 6, 7, 8, 9, 10, 1, 2, 3, 4, 5, 6, 7, 8, 9, 10, 1, 2, 3, 4, 5, 6, 7, 8, 9, 10, 4, 2, 6, 7, 9, 2, 6, 9, 2, 6, 7, 9, 2, 6, 7, 9, 1, 2, 3, 4, 5, 6, 7, 8, 9, 10, 1, 2, 3, 4, 5, 6, 7, 8, 9, 10, 1, 2, 3, 4, 6, 7, 8, 9, 10, 2, 3, 6, 7, 9, 1, 2, 3, 4, 5, 6, 7, 8, 9, 10, 3, 4, 5, 8, 9, 1, 2, 3, 4, 5, 6, 7, 8, 9, 10, 2, 3, 4, 5, 6, 7, 9, 1, 2, 3, 4, 5, 6, 7, 8, 9, 10, 4, 10, 1, 2, 3, 4, 5, 6, 7, 8, 9, 10, 8, 1, 2, 4, 5, 6, 7, 8, 9, 10, 6, 2, 6, 7, 1, 2, 3, 4, 5, 6, 7, 8, 9, 10, 1, 2, 3, 4, 5, 6, 7, 8, 9, 10, 4, 1, 2, 3, 4, 5, 6, 7, 8, 9, 10, 1, 2, 3, 4, 5, 6, 7, 8, 9, 10, 2, 3, 4, 7, 5, 8, 1, 2, 3, 4, 5, 6, 7, 8, 9, 10, 1, 2, 3, 4, 5, 8, 9, 10, 1, 2, 3, 4, 5, 6, 7, 8, 9, 10, 1, 2, 3, 4, 5, 6, 7, 8, 9, 10, 2, 2, 4, 6, 7, 2, 1, 2, 3, 4, 5, 6, 7, 8, 9, 10, 8, 1, 2, 3, 4, 5, 6, 7, 8, 9, 10, 7, 10, 1, 2, 3, 4, 5, 6, 7, 8, 9, 10, 3, 1, 2, 3, 4, 5, 6, 7, 8, 9, 10, 2, 4, 6, 7, 9, 1, 2, 3, 4, 5, 6, 7, 8, 9, 10, 1, 2, 3, 4, 5, 6, 7, 8, 9, 10, 1, 2, 3, 4, 5, 6, 7, 8, 9, 10, 1, 2, 3, 4, 6, 7, 9, 10, 2, 1, 2, 3, 4, 5, 6, 7, 8, 9, 10, 10, 1, 2, 3, 4, 5, 6, 7, 8, 9, 10, 4, 1, 2, 3, 4, 5, 6, 7, 8, 9, 10, 2, 6, 7, 9, 2, 10, 1, 4, 5, 1, 2, 3, 4, 5, 6, 7, 8, 9, 10, 4, 7, 9, 1, 2, 3, 4, 5, 6, 7, 8, 9, 10, 8, 1, 2, 3, 4, 5, 6, 7, 8, 9, 10, 2, 3, 2, 3, 4, 6, 7, 10, 2, 7, 1, 2, 3, 4, 5, 6, 7, 8, 9, 10, 4, 5, 6, 1, 2, 3, 4, 5, 6, 7, 8, 9, 10, 1, 2, 3, 4, 5, 6, 7, 8, 9, 10, 1, 2, 4, 5, 6, 7, 8, 9, 10, 1, 2, 3, 4, 5, 6, 7, 8, 9, 10, 2, 6, 7, 9, 1, 2, 3, 4, 5, 6, 7, 8, 9, 10, 1, 2, 3, 4, 5, 6, 7, 8, 9, 10, 5, 1, 2, 3, 4, 5, 6, 7, 8, 9, 10, 1, 2, 4, 5, 6, 7, 9, 10, 1, 2, 3, 6, 7, 8, 9, 1, 2, 3, 4, 5, 6, 7, 8, 9, 10, 1, 2, 3, 4, 5, 6, 8, 9, 10, 1, 2, 3, 4, 5, 6, 7, 8, 9, 10, 10, 1, 2, 3, 4, 5, 6, 7, 8, 9, 10, 1, 2, 3, 4, 5, 6, 7, 9, 10, 1, 2, 3, 4, 7, 9, 10, 1, 2, 3, 4, 5, 6, 7, 8, 9, 10, 1, 2, 3, 4, 5, 6, 7, 8, 9, 10, 8, 1, 2, 3, 4, 5, 6, 7, 8, 9, 10, 1, 2, 3, 4, 5, 6, 7, 8, 9, 10, 1, 2, 4, 6, 7, 8, 9, 10, 1, 2, 3, 4, 5, 6, 7, 8, 9, 10, 2, 3, 4, 5, 8, 9, 10, 1, 2, 3, 4, 5, 6, 7, 8, 9, 10, 3, 4, 5, 1, 2, 4, 6, 9, 2, 6, 10, 1, 2, 3, 4, 5, 6, 7, 8, 9, 10, 3, 1, 2, 3, 4, 5, 6, 7, 8, 9, 10, 1, 2, 3, 4, 5, 6, 7, 8, 9, 10, 1, 2, 3, 4, 5, 6, 7, 8, 9, 10, 3, 1, 2, 3, 4, 6, 9, 1, 3, 5, 7, 8, 9, 1, 2, 3, 4, 5, 6, 7, 8, 9, 10, 1, 2, 3, 4, 5, 6, 7, 8, 9, 10, 4, 7, 1, 2, 3, 4, 5, 6, 7, 8, 9, 10, 1, 2, 4, 6, 2, 3, 4, 6, 2, 3, 4, 7, 1, 2, 3, 4, 5, 6, 7, 8, 9, 10, 1, 2, 3, 4, 5, 6, 8, 9, 10, 8, 9, 1, 2, 3, 4, 5, 6, 7, 8, 9, 10, 1, 2, 3, 4, 5, 6, 7, 8, 9, 10, 1, 2, 4, 5, 6, 7, 10, 1, 2, 3, 4, 5, 6, 7, 8, 9, 10, 1, 2, 3, 4, 5, 6, 7, 8, 9, 10, 1, 2, 3, 4, 5, 6, 7, 8, 9, 10, 1, 2, 3, 4, 5, 6, 7, 8, 9, 10, 1, 2, 4, 5, 6, 7, 8, 9, 10, 1, 2, 3, 4, 5, 6, 7, 8, 9, 10, 1, 2, 3, 4, 5, 6, 7, 8, 9, 1, 4, 2, 1, 4, 7, 7, 2, 5, 2, 5, 6, 7, 8, 1, 5, 7, 2, 4, 6, 9, 10, 4, 9, 2, 4, 6, 9, 2, 4, 6, 9, 2, 4, 6, 9, 2, 4, 6, 9, 2, 4, 6, 9, 2, 6, 9, 2, 6, 9, 2, 4, 6, 9, 1, 2, 4, 6, 9, 1, 2, 4, 6, 9, 1, 2, 4, 6, 9, 2, 4, 6, 9, 4, 6, 9, 2, 4, 6, 9, 5, 8, 9, 1, 2, 3, 4, 5, 6, 7, 9, 10, 1, 2, 3, 4, 5, 7, 9, 10, 1, 4, 6, 7, 9, 3, 4, 5, 6, 7, 9, 10, 1, 2, 4, 7, 2, 5, 7, 10, 2, 4, 6, 8, 1, 2, 3, 4, 5, 6, 7, 8, 9, 10, 1, 2, 3, 4, 5, 6, 7, 8, 9, 10, 1, 2, 3, 4, 5, 6, 7, 8, 9, 10, 6, 2, 6, 7, 9, 1, 2, 3, 4, 5, 6, 7, 8, 9, 10, 1, 2, 3, 4, 5, 6, 7, 8, 9, 10, 1, 2, 3, 4, 5, 6, 7, 8, 9, 10, 1, 2, 3, 4, 5, 6, 7, 8, 9, 10, 1, 2, 3, 4, 5, 6, 7, 8, 9, 10, 1, 2, 3, 4, 5, 6, 7, 8, 9, 10, 1, 2, 3, 4, 5, 6, 7, 8, 9, 10, 1, 2, 3, 4, 5, 6, 7, 8, 9, 10, 1, 4, 9, 10, 1, 2, 3, 4, 5, 6, 7, 8, 9, 10, 1, 7, 1, 2, 3, 4, 5, 6, 7, 8, 9, 10, 1, 2, 3, 4, 5, 6, 7, 8, 9, 10, 1, 2, 3, 4, 5, 7, 8, 9, 10, 2, 6, 10, 10, 10, 1, 2, 3, 4, 5, 6, 7, 8, 9, 10, 2, 6, 7, 9, 5, 2, 4, 5, 8, 10, 1, 2, 4, 5, 6, 7, 10, 1, 2, 3, 4, 5, 6, 7, 8, 9, 10, 1, 2, 3, 4, 5, 6, 7, 8, 9, 10, 1, 2, 3, 4, 5, 6, 7, 8, 9, 10, 1, 2, 3, 4, 5, 6, 7, 8, 9, 10, 5, 2, 6, 1, 2, 3, 4, 5, 6, 7, 8, 9, 10, 8, 1, 2, 3, 4, 5, 6, 7, 8, 9, 10, 1, 2, 3, 4, 5, 6, 7, 8, 9, 10, 1, 2, 3, 4, 5, 6, 7, 8, 9, 10, 1, 2, 3, 4, 5, 6, 7, 8, 9, 10, 1, 2, 3, 4, 5, 6, 7, 8, 9, 10, 1, 2, 3, 4, 5, 6, 7, 8, 9, 10, 1, 4, 9, 10, 2, 5, 1, 2, 3, 4, 5, 6, 7, 8, 9, 10, 1, 2, 3, 4, 5, 6, 7, 8, 9, 10, 3, 7, 1, 2, 3, 4, 5, 6, 7, 8, 9, 10, 1, 4, 5, 7, 10, 1, 2, 3, 4, 5, 6, 7, 8, 9, 10, 1, 2, 3, 4, 5, 6, 7, 8, 9, 10, 4, 1, 2, 3, 4, 5, 6, 7, 8, 9, 10, 1, 2, 3, 4, 5, 6, 7, 8, 9, 10, 1, 2, 7, 8, 1, 2, 4, 5, 6, 7, 8, 10, 1, 2, 3, 4, 5, 6, 7, 8, 9, 10, 1, 2, 3, 4, 5, 6, 7, 8, 9, 10, 1, 2, 3, 4, 7, 8, 9, 1, 2, 3, 4, 10, 1, 2, 3, 4, 5, 6, 7, 8, 9, 10, 1, 2, 3, 4, 5, 6, 7, 8, 9, 10, 1, 2, 3, 4, 5, 6, 7, 8, 9, 10, 1, 2, 3, 4, 5, 6, 7, 8, 9, 10, 1, 2, 3, 4, 5, 6, 7, 8, 9, 10, 1, 2, 3, 4, 5, 6, 7, 8, 9, 2, 1, 2, 3, 4, 5, 6, 7, 8, 9, 10, 1, 2, 3, 4, 5, 6, 7, 8, 9, 10, 2, 6, 7, 9, 1, 3, 7, 8, 9, 1, 2, 3, 4, 5, 6, 7, 8, 9, 10, 1, 2, 3, 4, 5, 6, 7, 8, 9, 10, 2, 6, 7, 9, 2, 4, 1, 2, 3, 4, 5, 6, 7, 8, 9, 10, 1, 2, 3, 4, 5, 6, 7, 8, 9, 10, 1, 2, 3, 4, 5, 6, 7, 8, 9, 10, 1, 2, 3, 4, 5, 6, 7, 8, 9, 10, 1, 2, 3, 4, 5, 6, 7, 8, 9, 10, 1, 2, 3, 4, 5, 6, 7, 8, 9, 10, 1, 2, 3, 4, 5, 6, 7, 8, 9, 10, 1, 2, 3, 4, 5, 6, 7, 9, 10, 1, 2, 3, 4, 5, 6, 7, 8, 9, 10, 1, 2, 3, 4, 5, 6, 7, 8, 9, 10, 2, 3, 6, 10, 1, 2, 3, 4, 6, 7, 9, 1, 2, 3, 4, 5, 6, 7, 8, 9, 10, 3, 2, 4, 1, 2, 7, 4, 10, 1, 2, 3, 4, 5, 6, 7, 8, 9, 10, 10, 1, 2, 3, 4, 5, 6, 7, 8, 9, 10, 1, 2, 3, 4, 5, 6, 7, 8, 9, 10, 3, 2, 3, 5, 3, 1, 5, 8, 9, 10, 1, 2, 4, 6, 7, 8, 9, 10, 1, 2, 3, 4, 5, 6, 7, 8, 9, 10, 3, 5, 5, 9, 10, 1, 2, 3, 4, 5, 6, 7, 8, 9, 10, 3, 5, 8, 3, 7, 1, 2, 3, 4, 5, 6, 7, 8, 9, 10, 1, 2, 3, 4, 5, 6, 7, 8, 9, 10, 2, 3, 6, 7, 9, 10, 1, 2, 3, 5, 7, 8, 9, 4, 1, 2, 3, 4, 5, 6, 7, 8, 9, 10, 1, 2, 3, 4, 5, 9, 10, 1, 2, 3, 4, 5, 6, 7, 8, 9, 10, 2, 6, 7, 9, 1, 2, 3, 4, 5, 6, 7, 8, 9, 10, 1, 2, 3, 4, 5, 6, 7, 8, 9, 10, 1, 2, 3, 4, 5, 6, 7, 8, 9, 10, 6, 8, 1, 2, 3, 4, 5, 6, 7, 8, 9, 10, 2, 3, 1, 2, 3, 4, 5, 6, 7, 8, 9, 10, 2, 6, 7, 9, 1, 2, 3, 4, 5, 6, 7, 8, 9, 10, 1, 2, 3, 4, 5, 6, 7, 8, 9, 10, 1, 3, 4, 6, 9, 10, 1, 2, 3, 4, 5, 6, 7, 8, 9, 10, 1, 2, 3, 4, 5, 6, 7, 8, 9, 10, 10, 1, 2, 3, 4, 5, 6, 7, 8, 9, 10, 7, 1, 2, 3, 4, 6, 7, 8, 10, 10, 5, 6, 2, 5, 7, 5, 9, 10, 4, 1, 2, 3, 4, 5, 6, 7, 8, 9, 10, 1, 2, 3, 4, 5, 6, 7, 8, 9, 10, 1, 2, 3, 4, 5, 6, 7, 8, 9, 10, 1, 2, 3, 4, 5, 6, 7, 8, 9, 10, 1, 2, 3, 4, 5, 6, 7, 8, 9, 10, 1, 2, 3, 4, 5, 6, 7, 8, 9, 10, 2, 8, 1, 2, 3, 4, 5, 6, 7, 8, 9, 10, 1, 2, 3, 4, 5, 6, 7, 8, 9, 10, 1, 2, 3, 4, 5, 6, 7, 8, 9, 10, 1, 6, 4, 1, 2, 3, 4, 5, 6, 7, 8, 9, 10, 2, 4, 6, 9, 1, 2, 3, 4, 5, 6, 7, 8, 9, 10, 1, 2, 3, 4, 5, 6, 7, 8, 9, 10, 1, 2, 3, 4, 5, 6, 7, 8, 9, 10, 2, 3, 4, 6, 7, 3, 4, 5, 6, 7, 9, 10, 1, 2, 3, 4, 5, 6, 7, 8, 9, 10, 10, 1, 2, 3, 4, 5, 6, 7, 8, 9, 10, 1, 2, 3, 4, 5, 6, 7, 8, 9, 10, 3, 7, 1, 2, 2, 4, 7, 1, 2, 7, 8, 9, 10, 2, 6, 7, 8, 9, 10, 1, 2, 3, 4, 5, 6, 7, 8, 9, 10, 1, 2, 3, 4, 5, 6, 7, 8, 9, 10, 4, 3, 1, 2, 3, 4, 5, 6, 7, 8, 9, 10, 1, 2, 3, 4, 5, 6, 8, 9, 10, 1, 2, 3, 4, 6, 7, 9, 10, 2, 3, 4, 5, 6, 7, 8, 9, 2, 4, 5, 1, 2, 3, 4, 5, 6, 7, 8, 9, 10, 1, 2, 3, 4, 5, 6, 7, 8, 9, 10, 1, 2, 3, 4, 5, 6, 7, 8, 9, 10, 1, 2, 3, 4, 5, 6, 7, 8, 9, 10, 1, 2, 3, 4, 5, 6, 7, 8, 9, 10, 2, 3, 6, 10, 9, 1, 2, 3, 4, 5, 6, 7, 8, 9, 10, 1, 2, 3, 4, 5, 6, 7, 8, 9, 10, 1, 2, 3, 4, 5, 6, 8, 9, 10, 1, 4, 1, 2, 3, 4, 5, 6, 7, 8, 9, 10, 4, 8, 2, 3, 3, 7, 1, 2, 3, 5, 7, 8, 9, 1, 2, 3, 4, 5, 6, 7, 8, 9, 10, 2, 6, 10, 1, 2, 3, 4, 5, 6, 7, 8, 9, 10, 1, 2, 3, 4, 5, 6, 7, 8, 9, 10, 1, 2, 3, 4, 5, 6, 7, 8, 9, 10, 3, 1, 2, 3, 4, 5, 6, 7, 8, 9, 10, 1, 2, 3, 4, 5, 6, 7, 8, 9, 10, 1, 2, 3, 4, 5, 6, 7, 8, 9, 10, 2, 2, 4, 2, 3, 4, 5, 6, 7, 8, 9, 10, 1, 2, 3, 4, 5, 6, 7, 9, 10, 10, 1, 2, 3, 4, 5, 6, 7, 8, 9, 10, 1, 2, 3, 4, 5, 6, 7, 8, 9, 10, 1, 4, 1, 2, 3, 4, 5, 6, 7, 8, 9, 10, 1, 2, 3, 4, 5, 6, 7, 8, 9, 10, 4, 6, 8, 1, 2, 3, 4, 5, 6, 7, 8, 9, 10, 1, 2, 3, 4, 6, 7, 8, 9, 10, 1, 2, 3, 4, 5, 6, 7, 8, 9, 10, 1, 2, 3, 4, 5, 6, 7, 8, 9, 10, 1, 2, 3, 4, 5, 6, 7, 8, 9, 10, 1, 2, 3, 4, 5, 6, 7, 8, 9, 10, 1, 2, 3, 4, 5, 6, 7, 8, 9, 10, 1, 2, 3, 1, 2, 4, 1, 2, 3, 4, 5, 6, 7, 8, 9, 10, 1, 2, 3, 4, 5, 6, 7, 8, 9, 10, 1, 2, 4, 5, 6, 7, 10, 1, 2, 3, 4, 5, 6, 7, 8, 9, 10, 10, 1, 2, 3, 4, 5, 6, 7, 8, 9, 10, 1, 2, 3, 4, 5, 6, 7, 8, 9, 10, 1, 2, 3, 4, 5, 6, 7, 8, 9, 10, 4, 5, 8, 9, 10, 2, 7, 2, 3, 6, 10, 1, 2, 3, 4, 5, 6, 7, 8, 9, 10, 1, 2, 3, 4, 5, 6, 7, 8, 9, 10, 1, 2, 3, 4, 5, 6, 7, 8, 9, 10, 5, 9, 1, 2, 3, 4, 5, 6, 7, 8, 9, 10, 4, 1, 2, 3, 4, 5, 6, 7, 8, 9, 10, 1, 2, 3, 4, 5, 6, 7, 9, 10, 1, 2, 3, 4, 5, 6, 7, 8, 9, 10, 1, 2, 3, 4, 5, 6, 7, 8, 9, 10, 1, 2, 3, 4, 5, 6, 7, 8, 9, 10, 1, 2, 3, 4, 5, 6, 7, 8, 9, 10, 1, 2, 3, 4, 5, 6, 7, 8, 9, 10, 2, 6, 7, 9, 2, 1, 2, 3, 4, 5, 6, 7, 8, 9, 10, 1, 2, 3, 4, 5, 6, 7, 8, 9, 10, 1, 2, 3, 7, 8, 10, 1, 2, 3, 4, 5, 6, 7, 8, 9, 10, 1, 2, 3, 4, 5, 6, 7, 8, 9, 10, 5, 8, 2, 1, 2, 5, 6, 9, 1, 2, 4, 6, 7, 7, 10, 3, 10, 2, 4, 7, 1, 2, 3, 4, 5, 6, 7, 8, 9, 10, 1, 2, 5, 6, 8, 10, 3, 1, 2, 3, 4, 5, 6, 7, 8, 9, 10, 1, 2, 3, 4, 5, 6, 7, 8, 9, 10, 8, 1, 2, 3, 4, 5, 6, 7, 8, 9, 2, 4, 7, 1, 2, 3, 4, 6, 7, 8, 1, 2, 3, 4, 5, 6, 7, 8, 9, 10, 1, 3, 6, 7, 8, 9, 1, 2, 3, 4, 5, 6, 7, 8, 9, 10, 1, 3, 4, 5, 6, 9, 10, 1, 2, 3, 4, 5, 6, 7, 8, 9, 10, 1, 2, 3, 4, 6, 7, 1, 2, 3, 4, 5, 6, 7, 8, 9, 10, 1, 2, 3, 4, 5, 6, 7, 8, 9, 10, 3, 10, 1, 2, 3, 4, 5, 6, 7, 8, 9, 10, 1, 2, 3, 4, 5, 6, 7, 8, 9, 10, 1, 2, 3, 4, 5, 6, 7, 8, 9, 10, 1, 2, 3, 4, 5, 6, 7, 8, 9, 10, 1, 2, 3, 4, 5, 6, 7, 8, 9, 10, 1, 2, 3, 4, 5, 6, 7, 8, 9, 10, 1, 2, 3, 4, 5, 6, 7, 8, 9, 2, 3, 2, 3, 1, 2, 3, 4, 5, 6, 7, 8, 9, 10, 1, 2, 3, 4, 5, 6, 7, 8, 9, 10, 1, 2, 4, 6, 9, 1, 2, 3, 4, 5, 6, 7, 8, 9, 10, 2, 7, 8, 10, 1, 2, 3, 4, 5, 6, 7, 8, 9, 10, 2, 3, 3, 4, 8, 9, 10, 2, 3, 4, 6, 8, 9, 10, 8, 2, 6, 7, 9, 2, 6, 7, 9, 1, 2, 4, 5, 6, 8, 9, 10, 8, 1, 2, 3, 4, 5, 6, 7, 8, 9, 10, 1, 2, 3, 4, 5, 6, 7, 8, 9, 10, 2, 3, 1, 2, 3, 4, 5, 6, 7, 8, 9, 10, 2, 4, 6, 7, 9, 10, 1, 2, 3, 4, 5, 6, 7, 8, 9, 10, 1, 2, 3, 4, 5, 6, 7, 8, 9, 10, 1, 2, 3, 4, 5, 6, 7, 8, 9, 10, 4, 6, 2, 3, 5, 6, 7, 8, 9, 8, 9, 10, 1, 2, 3, 4, 5, 6, 7, 8, 9, 10, 2, 3, 1, 2, 3, 4, 5, 6, 7, 8, 9, 10, 1, 2, 3, 4, 5, 6, 7, 10, 1, 2, 3, 4, 5, 6, 7, 8, 9, 10, 1, 3, 4, 5, 7, 9, 10, 10, 1, 2, 3, 4, 5, 6, 7, 8, 9, 10, 1, 2, 3, 4, 5, 6, 7, 8, 9, 10, 2, 5, 9, 1, 2, 3, 4, 5, 6, 7, 8, 9, 10, 1, 2, 3, 4, 5, 6, 7, 8, 9, 10, 2, 6, 7, 8, 9, 10, 2, 3, 2, 3, 4, 6, 8, 10, 1, 2, 3, 4, 5, 6, 7, 8, 9, 10, 4, 6, 1, 2, 3, 4, 5, 6, 7, 8, 9, 10, 2, 3, 1, 2, 3, 4, 5, 6, 7, 8, 9, 10, 10, 1, 2, 3, 4, 5, 6, 7, 8, 9, 10, 1, 2, 3, 4, 5, 6, 7, 8, 9, 10, 2, 4, 7, 1, 2, 3, 4, 5, 6, 7, 8, 9, 10, 2, 5, 8, 2, 3, 1, 2, 3, 4, 5, 6, 7, 8, 9, 10, 1, 2, 3, 4, 5, 6, 7, 9, 10, 2, 7, 9, 1, 6, 1, 2, 3, 4, 5, 6, 7, 8, 9, 10, 1, 2, 3, 4, 5, 6, 7, 8, 9, 10, 1, 4, 1, 2, 3, 4, 5, 6, 7, 8, 9, 10, 1, 2, 3, 4, 5, 6, 7, 8, 9, 10, 1, 2, 3, 4, 5, 6, 7, 8, 9, 10, 1, 2, 3, 4, 5, 6, 7, 8, 9, 10, 1, 2, 3, 4, 5, 6, 7, 8, 9, 10, 8, 1, 2, 3, 4, 5, 6, 7, 8, 9, 10, 1, 2, 3, 4, 5, 6, 7, 8, 9, 10, 4, 2, 3, 6, 7, 1, 2, 3, 4, 5, 6, 7, 8, 9, 10, 1, 2, 3, 4, 5, 6, 7, 8, 9, 10, 10, 2, 3, 1, 2, 3, 4, 5, 6, 7, 8, 9, 10, 2, 3, 2, 6, 7, 9, 2, 3, 4, 5, 6, 7, 8, 9, 8, 1, 4, 5, 6, 9, 10, 1, 2, 3, 4, 5, 6, 7, 8, 9, 10, 1, 2, 3, 4, 5, 10, 1, 2, 3, 4, 5, 6, 7, 8, 9, 10, 7, 1, 2, 3, 4, 5, 6, 7, 8, 9, 10, 1, 2, 3, 4, 5, 6, 7, 8, 9, 10, 9, 1, 2, 3, 5, 7, 9, 1, 2, 3, 5, 6, 7, 8, 9, 10, 4, 1, 2, 4, 6, 7, 1, 2, 3, 4, 5, 6, 7, 8, 9, 10, 1, 2, 3, 4, 5, 6, 7, 10, 2, 6, 9, 1, 2, 4, 5, 6, 7, 8, 9, 10, 8, 2, 1, 2, 3, 4, 5, 6, 7, 8, 9, 10, 8, 9, 10, 8, 9, 10, 1, 2, 3, 4, 5, 6, 7, 8, 9, 10, 10, 2, 6, 7, 9, 1, 2, 3, 4, 5, 6, 7, 8, 9, 10, 1, 2, 3, 4, 5, 6, 7, 8, 9, 10, 1, 2, 3, 4, 5, 6, 7, 8, 9, 10, 2, 4, 7, 1, 2, 3, 4, 5, 6, 7, 8, 9, 10, 1, 3, 7, 8, 9, 8, 9, 1, 2, 3, 4, 5, 6, 7, 8, 9, 10, 2, 6, 7, 9, 1, 2, 3, 4, 5, 6, 7, 8, 9, 10, 2, 4, 6, 9, 10, 2, 4, 7, 1, 2, 3, 4, 5, 6, 7, 8, 9, 10, 1, 2, 3, 4, 5, 6, 7, 8, 9, 10, 2, 3, 4, 6, 7, 1, 2, 3, 4, 5, 6, 7, 8, 9, 10, 1, 4, 9, 10, 1, 2, 3, 4, 5, 6, 7, 8, 9, 10, 1, 2, 3, 4, 6, 7, 9, 8, 4, 10, 1, 2, 3, 4, 5, 6, 7, 8, 9, 10, 10, 1, 2, 3, 4, 5, 6, 7, 8, 9, 10, 1, 2, 3, 5, 6, 10, 2, 4, 6, 9, 3, 7, 3, 5, 7, 1, 2, 3, 4, 5, 6, 7, 8, 9, 10, 1, 2, 3, 4, 5, 6, 7, 8, 9, 10, 1, 2, 3, 4, 5, 6, 7, 8, 9, 10, 1, 2, 3, 4, 5, 6, 7, 8, 9, 10, 1, 2, 3, 4, 5, 6, 7, 8, 9, 10, 1, 2, 3, 4, 5, 6, 7, 8, 9, 10, 2, 7, 1, 3, 7, 8, 1, 2, 3, 4, 5, 6, 7, 8, 9, 10], \"Freq\": [0.02266697585582733, 0.20643138885498047, 0.3966720998287201, 0.04371488466858864, 0.068000927567482, 0.03966720774769783, 0.059905581176280975, 0.0445244200527668, 0.07447721064090729, 0.04371488466858864, 0.9042596817016602, 0.8285861015319824, 0.031868696212768555, 0.015934348106384277, 0.031868696212768555, 0.015934348106384277, 0.031868696212768555, 0.015934348106384277, 0.015934348106384277, 0.015934348106384277, 0.015934348106384277, 0.8731648921966553, 0.05291908606886864, 0.05291908606886864, 0.018753357231616974, 0.046883393079042435, 0.023441696539521217, 0.19222190976142883, 0.060948409140110016, 0.04219505190849304, 0.014065016992390156, 0.014065016992390156, 0.5719773769378662, 0.018753357231616974, 0.03796938434243202, 0.02146095596253872, 0.023111797869205475, 0.5910016894340515, 0.02146095596253872, 0.014857584610581398, 0.009905056096613407, 0.006603370886296034, 0.23111797869205475, 0.04127106815576553, 0.06943069398403168, 0.18051980435848236, 0.09334570914506912, 0.12188943475484848, 0.2831229269504547, 0.04242986813187599, 0.05477309972047806, 0.016971947625279427, 0.08331683278083801, 0.05477309972047806, 0.8976523876190186, 0.029921745881438255, 0.00903709139674902, 0.1536305546760559, 0.04970400035381317, 0.00903709139674902, 0.6777818202972412, 0.013555636629462242, 0.00451854569837451, 0.01807418279349804, 0.027111273258924484, 0.03162981942296028, 0.8008155226707458, 0.886669933795929, 0.1606520712375641, 0.029209468513727188, 0.014604734256863594, 0.7302367091178894, 0.029209468513727188, 0.014604734256863594, 0.014604734256863594, 0.014604734256863594, 0.8617289066314697, 0.01538801658898592, 0.00769400829449296, 0.03847004100680351, 0.01538801658898592, 0.01538801658898592, 0.01538801658898592, 0.00769400829449296, 0.00769400829449296, 0.01538801658898592, 0.059152886271476746, 0.828140377998352, 0.059152886271476746, 0.022659575566649437, 0.29155319929122925, 0.4101383090019226, 0.046829789876937866, 0.09063830226659775, 0.006042553577572107, 0.05136170610785484, 0.04154255613684654, 0.014351064339280128, 0.024925533682107925, 0.01027678418904543, 0.21581247448921204, 0.5503789186477661, 0.02512102946639061, 0.06851189583539963, 0.014844244346022606, 0.035397812724113464, 0.05480951815843582, 0.007993054576218128, 0.013702379539608955, 0.013115533627569675, 0.16722305119037628, 0.6557766795158386, 0.036067716777324677, 0.00491832522675395, 0.022952184081077576, 0.04918324947357178, 0.014754975214600563, 0.018033858388662338, 0.018033858388662338, 0.04915579408407211, 0.7864927053451538, 0.04915579408407211, 0.04915579408407211, 0.04915579408407211, 0.9045038223266602, 0.9106908440589905, 0.05357005074620247, 0.08320002257823944, 0.04160001128911972, 0.04160001128911972, 0.7904002070426941, 0.026368839666247368, 0.5989493727684021, 0.04897070303559303, 0.11300931125879288, 0.08475698530673981, 0.020718375220894814, 0.013184419833123684, 0.01506790891289711, 0.04332023859024048, 0.037669770419597626, 0.8875687718391418, 0.025339197367429733, 0.012669598683714867, 0.03800879418849945, 0.0760175883769989, 0.012669598683714867, 0.012669598683714867, 0.012669598683714867, 0.012669598683714867, 0.7855151295661926, 0.011830318719148636, 0.03549095615744591, 0.02366063743829727, 0.02366063743829727, 0.8162919878959656, 0.011830318719148636, 0.02366063743829727, 0.03549095615744591, 0.011830318719148636, 0.022070109844207764, 0.022070109844207764, 0.8165940642356873, 0.022070109844207764, 0.022070109844207764, 0.04414021968841553, 0.022070109844207764, 0.022070109844207764, 0.1852116882801056, 0.10032299906015396, 0.04823221266269684, 0.05980794131755829, 0.43987777829170227, 0.0926058441400528, 0.021222172304987907, 0.0038585769943892956, 0.019292885437607765, 0.028939327225089073, 0.8448779582977295, 0.02060678042471409, 0.02060678042471409, 0.02060678042471409, 0.02060678042471409, 0.04121356084942818, 0.02060678042471409, 0.02060678042471409, 0.02060678042471409, 0.02060678042471409, 0.8395337462425232, 0.01646144688129425, 0.01646144688129425, 0.01646144688129425, 0.01646144688129425, 0.0329228937625885, 0.01646144688129425, 0.01646144688129425, 0.01646144688129425, 0.01646144688129425, 0.038852985948324203, 0.8547656536102295, 0.05731366202235222, 0.05731366202235222, 0.8597049117088318, 0.013496628031134605, 0.6514718532562256, 0.14690560102462769, 0.04983370378613472, 0.008824718184769154, 0.01609213277697563, 0.0669640377163887, 0.009343819692730904, 0.011420223861932755, 0.026474155485630035, 0.0138353006914258, 0.857788622379303, 0.0138353006914258, 0.0138353006914258, 0.0138353006914258, 0.0276706013828516, 0.0138353006914258, 0.0553412027657032, 0.017293713986873627, 0.6383635997772217, 0.19323845207691193, 0.024060819298028946, 0.006767105311155319, 0.03233172744512558, 0.04586593806743622, 0.01578991301357746, 0.014286112040281296, 0.01127850916236639, 0.8065810203552246, 0.6156400442123413, 0.05815080553293228, 0.022754663601517677, 0.15043361485004425, 0.050565920770168304, 0.04930176958441734, 0.011377331800758839, 0.008849035948514938, 0.020226366817951202, 0.013905627653002739, 0.8695694208145142, 0.8917106986045837, 0.8104750514030457, 0.023663504049181938, 0.0059158760122954845, 0.0414111353456974, 0.017747629433870316, 0.03549525886774063, 0.0059158760122954845, 0.0059158760122954845, 0.017747629433870316, 0.02957938052713871, 0.027833160012960434, 0.19558437168598175, 0.33098891377449036, 0.05566632002592087, 0.13164332509040833, 0.03610788285732269, 0.05641856789588928, 0.05265732854604721, 0.04739159718155861, 0.06619778275489807, 0.05542532727122307, 0.027712663635611534, 0.0069281659089028835, 0.07620982080698013, 0.027712663635611534, 0.020784497261047363, 0.020784497261047363, 0.0069281659089028835, 0.7620982527732849, 0.0069281659089028835, 0.048431381583213806, 0.024215690791606903, 0.8475491404533386, 0.024215690791606903, 0.024215690791606903, 0.024215690791606903, 0.02095395140349865, 0.02793860249221325, 0.07683115452528, 0.0908004567027092, 0.013969301246106625, 0.006984650623053312, 0.02793860249221325, 0.6775110960006714, 0.006984650623053312, 0.0488925538957119, 0.05749756842851639, 0.8241317868232727, 0.05749756842851639, 0.038331709802150726, 0.04824206605553627, 0.04824206605553627, 0.8683571815490723, 0.8519354462623596, 0.025056924670934677, 0.025056924670934677, 0.025056924670934677, 0.025056924670934677, 0.025056924670934677, 0.034233458340168, 0.006846691947430372, 0.02054007537662983, 0.013693383894860744, 0.9037632942199707, 0.006846691947430372, 0.006846691947430372, 0.2336147427558899, 0.11680737137794495, 0.03963107243180275, 0.12410783767700195, 0.154352605342865, 0.03337353467941284, 0.04588861018419266, 0.04067399725317955, 0.173125222325325, 0.03754522651433945, 0.03496287763118744, 0.023308586329221725, 0.8158004879951477, 0.023308586329221725, 0.011654293164610863, 0.011654293164610863, 0.011654293164610863, 0.011654293164610863, 0.011654293164610863, 0.023308586329221725, 0.9057254791259766, 0.0603816993534565, 0.07897122949361801, 0.5480124950408936, 0.035098325461149216, 0.043872904032468796, 0.01036995928734541, 0.06461282819509506, 0.10848572850227356, 0.052647486329078674, 0.03270525857806206, 0.025526054203510284, 0.08860152214765549, 0.03797208145260811, 0.06328679621219635, 0.7088121771812439, 0.012657360173761845, 0.012657360173761845, 0.03797208145260811, 0.012657360173761845, 0.012657360173761845, 0.7278751730918884, 0.03003523498773575, 0.006390475668013096, 0.11311142146587372, 0.020449522882699966, 0.047289520502090454, 0.010863808915019035, 0.014059046283364296, 0.02108857035636902, 0.009585713967680931, 0.013717231340706348, 0.02057584747672081, 0.0925913080573082, 0.41837555170059204, 0.006858615670353174, 0.017146538943052292, 0.010287923738360405, 0.006858615670353174, 0.003429307835176587, 0.4080876410007477, 0.06866869330406189, 0.006242608185857534, 0.006242608185857534, 0.7865686416625977, 0.07491129636764526, 0.018727824091911316, 0.03121304139494896, 0.8558740615844727, 0.8135619759559631, 0.7626067996025085, 0.02210097573697567, 0.02210097573697567, 0.8619380593299866, 0.02210097573697567, 0.02210097573697567, 0.02210097573697567, 0.02210097573697567, 0.9179525971412659, 0.02415664680302143, 0.0640919879078865, 0.8331958651542664, 0.0640919879078865, 0.013698864728212357, 0.04109659418463707, 0.8356307744979858, 0.04109659418463707, 0.013698864728212357, 0.013698864728212357, 0.04109659418463707, 0.052868470549583435, 0.013217117637395859, 0.10573694109916687, 0.017622824758291245, 0.638827383518219, 0.02202853001654148, 0.008811412379145622, 0.11014264822006226, 0.02202853001654148, 0.013217117637395859, 0.8571588397026062, 0.048642683774232864, 0.9242109656333923, 0.048642683774232864, 0.4257064163684845, 0.09170708060264587, 0.04603195935487747, 0.1791321188211441, 0.07493574917316437, 0.05602338910102844, 0.018198681995272636, 0.04032256826758385, 0.015700822696089745, 0.05245502293109894, 0.014517078176140785, 0.043551236391067505, 0.02903415635228157, 0.02903415635228157, 0.014517078176140785, 0.8274734616279602, 0.014517078176140785, 0.014517078176140785, 0.014517078176140785, 0.014517078176140785, 0.22505806386470795, 0.11875901371240616, 0.02258368209004402, 0.06658292561769485, 0.036990512162446976, 0.03426489606499672, 0.0260880459100008, 0.3064371943473816, 0.13978520035743713, 0.023362429812550545, 0.02574978396296501, 0.7918058633804321, 0.012874891981482506, 0.02574978396296501, 0.012874891981482506, 0.02574978396296501, 0.045062121003866196, 0.03218723088502884, 0.019312337040901184, 0.06947330385446548, 0.009924758225679398, 0.009924758225679398, 0.009924758225679398, 0.08932282030582428, 0.7840558886528015, 0.019849516451358795, 0.22117546200752258, 0.04423509165644646, 0.12554959952831268, 0.28427550196647644, 0.10082998871803284, 0.02862270548939705, 0.04618664085865021, 0.0728577971458435, 0.04553612321615219, 0.0305742546916008, 0.046398937702178955, 0.015466311946511269, 0.09279787540435791, 0.015466311946511269, 0.8042482137680054, 0.06924265623092651, 0.04669853672385216, 0.14331620931625366, 0.49113979935646057, 0.043477948755025864, 0.024154415354132652, 0.10627943277359009, 0.043477948755025864, 0.01932353340089321, 0.014492649585008621, 0.11779629439115524, 0.06819785386323929, 0.037198830395936966, 0.034098926931619644, 0.23559258878231049, 0.049598440527915955, 0.04029873386025429, 0.350288987159729, 0.018599415197968483, 0.04649853706359863, 0.06798839569091797, 0.8158606886863708, 0.06798839569091797, 0.0027451536152511835, 0.052157916128635406, 0.005490307230502367, 0.038432151079177856, 0.0027451536152511835, 0.019216075539588928, 0.005490307230502367, 0.0027451536152511835, 0.8647233843803406, 0.0027451536152511835, 0.039700716733932495, 0.019850358366966248, 0.019850358366966248, 0.019850358366966248, 0.039700716733932495, 0.019850358366966248, 0.8138646483421326, 0.019850358366966248, 0.012567419558763504, 0.012567419558763504, 0.012567419558763504, 0.012567419558763504, 0.8420171141624451, 0.012567419558763504, 0.012567419558763504, 0.06283709406852722, 0.025134839117527008, 0.025134839117527008, 0.02523008920252323, 0.41849908232688904, 0.24689443409442902, 0.03804537281394005, 0.031237252056598663, 0.0476568341255188, 0.07268668711185455, 0.031237252056598663, 0.03564250469207764, 0.0530632808804512, 0.09391772001981735, 0.05505521595478058, 0.00647708447650075, 0.042101047933101654, 0.00647708447650075, 0.6962865591049194, 0.051816675812006, 0.009715626016259193, 0.02914687991142273, 0.00647708447650075, 0.7046808004379272, 0.09566858410835266, 0.007000140380114317, 0.06883471459150314, 0.012833590619266033, 0.03266732022166252, 0.022167110815644264, 0.014000280760228634, 0.028000561520457268, 0.014000280760228634, 0.1231173723936081, 0.1231173723936081, 0.0796641856431961, 0.11587517708539963, 0.03983209282159805, 0.04707428812980652, 0.057937588542699814, 0.07604308426380157, 0.05431648716330528, 0.2896879315376282, 0.9110400676727295, 0.9382127523422241, 0.022338399663567543, 0.05675721913576126, 0.014189304783940315, 0.014189304783940315, 0.08513582497835159, 0.7946010828018188, 0.014189304783940315, 0.04032598435878754, 0.05040748044848442, 0.7863566875457764, 0.030244488269090652, 0.015122244134545326, 0.015122244134545326, 0.02016299217939377, 0.010081496089696884, 0.015122244134545326, 0.02016299217939377, 0.04422236979007721, 0.04999050498008728, 0.06921762228012085, 0.05191321671009064, 0.04229965806007385, 0.03076338768005371, 0.005768135190010071, 0.001922711730003357, 0.6979444026947021, 0.003845423460006714, 0.848518967628479, 0.019284522160887718, 0.019284522160887718, 0.038569044321775436, 0.038569044321775436, 0.019284522160887718, 0.019284522160887718, 0.019284522160887718, 0.03560846671462059, 0.03560846671462059, 0.03560846671462059, 0.8189947009086609, 0.16328217089176178, 0.048984650522470474, 0.032656434923410416, 0.03673848882317543, 0.024492325261235237, 0.04490259662270546, 0.016328217461705208, 0.06531286984682083, 0.5469952821731567, 0.028574379161000252, 0.6577061414718628, 0.06549770385026932, 0.005458142142742872, 0.13918262720108032, 0.03001978248357773, 0.03957153111696243, 0.012280819937586784, 0.025926174595952034, 0.009551748633384705, 0.013645355589687824, 0.039799369871616364, 0.10255991667509079, 0.6000520586967468, 0.06429129093885422, 0.041330114006996155, 0.039799369871616364, 0.01836894080042839, 0.007653724867850542, 0.026022665202617645, 0.059699054807424545, 0.012591239996254444, 0.11332116276025772, 0.7491787672042847, 0.018886860460042953, 0.006295619998127222, 0.018886860460042953, 0.04406933858990669, 0.012591239996254444, 0.018886860460042953, 0.9183006882667542, 0.02239757776260376, 0.02239757776260376, 0.02239757776260376, 0.04990203306078911, 0.12947554886341095, 0.04315851628780365, 0.03574064373970032, 0.3196427524089813, 0.08024786412715912, 0.10452453047037125, 0.04315851628780365, 0.13014990091323853, 0.06338907033205032, 0.11141930520534515, 0.10863382369279861, 0.09470640867948532, 0.12116849422454834, 0.37186193466186523, 0.033425793051719666, 0.0250693429261446, 0.006963706575334072, 0.015320154838263988, 0.11281204968690872, 0.010920846834778786, 0.016381269320845604, 0.11466889083385468, 0.05460423231124878, 0.1528918445110321, 0.016381269320845604, 0.010920846834778786, 0.005460423417389393, 0.016381269320845604, 0.5951861143112183, 0.02649020031094551, 0.05298040062189102, 0.8476864099502563, 0.02649020031094551, 0.02756602130830288, 0.1745847910642624, 0.24809418618679047, 0.05513204261660576, 0.06891505420207977, 0.041349031031131744, 0.03675469383597374, 0.0045943367294967175, 0.009188673458993435, 0.33538657426834106, 0.41663438081741333, 0.06294476240873337, 0.03446974977850914, 0.313225120306015, 0.029973696917295456, 0.044960543513298035, 0.04795791208744049, 0.008992108516395092, 0.025477642193436623, 0.016485532745718956, 0.0560787133872509, 0.20070277154445648, 0.09444835782051086, 0.07526353746652603, 0.026563601568341255, 0.03689388930797577, 0.023612089455127716, 0.06493324786424637, 0.005903022363781929, 0.4132115840911865, 0.03723272681236267, 0.13717319071292877, 0.12737511098384857, 0.06270774453878403, 0.021555788815021515, 0.04115195944905281, 0.023515405133366585, 0.060748130083084106, 0.005878851283341646, 0.48598504066467285, 0.5826188921928406, 0.03564975783228874, 0.023426983505487442, 0.08284324407577515, 0.05364439636468887, 0.1432780772447586, 0.01816440001130104, 0.015278467908501625, 0.019862007349729538, 0.02563387341797352, 0.7524945139884949, 0.025892283767461777, 0.008091338910162449, 0.08900472521781921, 0.029128819704055786, 0.03074708767235279, 0.022655749693512917, 0.011327874846756458, 0.014564409852027893, 0.014564409852027893, 0.12320946902036667, 0.19475045800209045, 0.015897996723651886, 0.5246338844299316, 0.039744991809129715, 0.035770490765571594, 0.03179599344730377, 0.0039744991809129715, 0.015897996723651886, 0.011923497542738914, 0.27657550573349, 0.033189062029123306, 0.038720570504665375, 0.5033674240112305, 0.038720570504665375, 0.02212604135274887, 0.02765755169093609, 0.038720570504665375, 0.011063020676374435, 0.011063020676374435, 0.8343804478645325, 0.020735712721943855, 0.9538427591323853, 0.020735712721943855, 0.19282817840576172, 0.05578676611185074, 0.09823322296142578, 0.0909566879272461, 0.12491384893655777, 0.03153165057301521, 0.0642760619521141, 0.05578676611185074, 0.0642760619521141, 0.21829605102539062, 0.013650363311171532, 0.020475544035434723, 0.08190217614173889, 0.08190217614173889, 0.08190217614173889, 0.020475544035434723, 0.040951088070869446, 0.013650363311171532, 0.034125909209251404, 0.6074411273002625, 0.033839672803878784, 0.04511956498026848, 0.05639945715665817, 0.12407880276441574, 0.13535869121551514, 0.033839672803878784, 0.01127989124506712, 0.06767934560775757, 0.48503533005714417, 0.16351193189620972, 0.010093329474329948, 0.020186658948659897, 0.06257864087820053, 0.575319766998291, 0.040373317897319794, 0.014130661264061928, 0.08276530355215073, 0.022205324843525887, 0.008074663579463959, 0.08019885420799255, 0.17962346971035004, 0.09722737967967987, 0.07800162583589554, 0.18346861004829407, 0.04449388384819031, 0.1164531335234642, 0.06317032873630524, 0.09338223189115524, 0.06317032873630524, 0.057097867131233215, 0.18696752190589905, 0.05821743234992027, 0.09740224480628967, 0.09516311436891556, 0.0313478484749794, 0.021271754056215286, 0.012315225787460804, 0.3582611382007599, 0.08060875535011292, 0.041172780096530914, 0.06175917014479637, 0.782282829284668, 0.025732986629009247, 0.010293195024132729, 0.015439792536199093, 0.015439792536199093, 0.015439792536199093, 0.020586390048265457, 0.015439792536199093, 0.04350043460726738, 0.0957009568810463, 0.7177571654319763, 0.030450303107500076, 0.02175021730363369, 0.013050129637122154, 0.02175021730363369, 0.013050129637122154, 0.02175021730363369, 0.017400173470377922, 0.10750085860490799, 0.06301774084568024, 0.011120778508484364, 0.025948483496904373, 0.051896966993808746, 0.43371036648750305, 0.022241557016968727, 0.14827704429626465, 0.014827704057097435, 0.11862163245677948, 0.09289591014385223, 0.01393438596278429, 0.009289590641856194, 0.009289590641856194, 0.11147508770227432, 0.009289590641856194, 0.01393438596278429, 0.7152984738349915, 0.009289590641856194, 0.01393438596278429, 0.18794763088226318, 0.21816428005695343, 0.027194993570446968, 0.20547328889369965, 0.14866596460342407, 0.05136832222342491, 0.04230332374572754, 0.03625999018549919, 0.035655658692121506, 0.04713799059391022, 0.7109133005142212, 0.02423568069934845, 0.01292569562792778, 0.06301277130842209, 0.033122096210718155, 0.06301277130842209, 0.018580688163638115, 0.01777283288538456, 0.026659248396754265, 0.029890671372413635, 0.022811172530055046, 0.022811172530055046, 0.022811172530055046, 0.7755798101425171, 0.04562234506011009, 0.022811172530055046, 0.04562234506011009, 0.04562234506011009, 0.3772287666797638, 0.23162327706813812, 0.05334062874317169, 0.07352357357740402, 0.029793864116072655, 0.07015974819660187, 0.07015974819660187, 0.028832772746682167, 0.024988403543829918, 0.04132697358727455, 0.18864724040031433, 0.049996670335531235, 0.036080073565244675, 0.14328943192958832, 0.3855413496494293, 0.04329608753323555, 0.015978317707777023, 0.04226522892713547, 0.07370643317699432, 0.021132614463567734, 0.06500554084777832, 0.007647710386663675, 0.04206240922212601, 0.019119275733828545, 0.17207348346710205, 0.019119275733828545, 0.0038238551933318377, 0.6118168234825134, 0.03823855146765709, 0.026766987517476082, 0.024871651083230972, 0.024871651083230972, 0.049743302166461945, 0.8705078363418579, 0.8857070803642273, 0.37498506903648376, 0.16612586379051208, 0.047006674110889435, 0.06837334483861923, 0.13193918764591217, 0.06944167613983154, 0.05875834450125694, 0.024037504568696022, 0.021900836378335953, 0.037391673773527145, 0.006821725983172655, 0.020465178415179253, 0.01364345196634531, 0.01364345196634531, 0.764033317565918, 0.006821725983172655, 0.006821725983172655, 0.1296127885580063, 0.01364345196634531, 0.02728690393269062, 0.8179116249084473, 0.05839288607239723, 0.29926353693008423, 0.007299110759049654, 0.07785718142986298, 0.009732147678732872, 0.09488844126462936, 0.009732147678732872, 0.009732147678732872, 0.37468767166137695, 0.06325896084308624, 0.8548204302787781, 0.029820995405316353, 0.14413480460643768, 0.019880663603544235, 0.029820995405316353, 0.029820995405316353, 0.01739558018743992, 0.6510916948318481, 0.06461215764284134, 0.007455248851329088, 0.007455248851329088, 0.0298384390771389, 0.01491921953856945, 0.0447576604783535, 0.01491921953856945, 0.01491921953856945, 0.0298384390771389, 0.0447576604783535, 0.1044345423579216, 0.0298384390771389, 0.6862841248512268, 0.0487852469086647, 0.6260773539543152, 0.0650469958782196, 0.06098156049847603, 0.00813087448477745, 0.006098155863583088, 0.06301427632570267, 0.06301427632570267, 0.03658893704414368, 0.022359905764460564, 0.20257380604743958, 0.19289670884609222, 0.0419340655207634, 0.21612173318862915, 0.07225562632083893, 0.05741741508245468, 0.09419036656618118, 0.0367729514837265, 0.044514626264572144, 0.04128892719745636, 0.8515169024467468, 0.023653248324990273, 0.010137106291949749, 0.027032284066081047, 0.013516142033040524, 0.03379035368561745, 0.010137106291949749, 0.006758071016520262, 0.016895176842808723, 0.010137106291949749, 0.9584093689918518, 0.08503197133541107, 0.8503196835517883, 0.08395372331142426, 0.04897300899028778, 0.6611356139183044, 0.0384787917137146, 0.020988430827856064, 0.0384787917137146, 0.013992288149893284, 0.027984576299786568, 0.03498071804642677, 0.031482648104429245, 0.06030981242656708, 0.8041308522224426, 0.0804130807518959, 0.04020654037594795, 0.8450509905815125, 0.03521045669913292, 0.03521045669913292, 0.07770708948373795, 0.19488444924354553, 0.10669306665658951, 0.06475590914487839, 0.1831667125225067, 0.05920540168881416, 0.06598935276269913, 0.11471046507358551, 0.035769931972026825, 0.09744222462177277, 0.08813051134347916, 0.07949026674032211, 0.5279190540313721, 0.07862624526023865, 0.031104886904358864, 0.049249403178691864, 0.035425011068582535, 0.009504270739853382, 0.05875367671251297, 0.04233720898628235, 0.19507454335689545, 0.16054807603359222, 0.07146979123353958, 0.11462787538766861, 0.1173899918794632, 0.03901490941643715, 0.04626546800136566, 0.19300295412540436, 0.04143176227807999, 0.02140641026198864, 0.13027174770832062, 0.08374612033367157, 0.04419934004545212, 0.023262809962034225, 0.013957686722278595, 0.5373709201812744, 0.04652561992406845, 0.08141984045505524, 0.03489421680569649, 0.0069788433611392975, 0.31577467918395996, 0.33025607466697693, 0.05148937553167343, 0.07120015472173691, 0.0430418998003006, 0.06154589354991913, 0.047064509242773056, 0.022124340757727623, 0.022124340757727623, 0.03499668464064598, 0.039072781801223755, 0.01302426028996706, 0.8335526585578918, 0.02604852057993412, 0.01302426028996706, 0.01302426028996706, 0.01302426028996706, 0.01302426028996706, 0.01302426028996706, 0.02604852057993412, 0.655720591545105, 0.02934158407151699, 0.005102884024381638, 0.11226345598697662, 0.08802475035190582, 0.026790142059326172, 0.04337451606988907, 0.006378605030477047, 0.012757210060954094, 0.01786009408533573, 0.7674399614334106, 0.060169339179992676, 0.8223143219947815, 0.060169339179992676, 0.02005644701421261, 0.04504983872175217, 0.04504983872175217, 0.855946958065033, 0.07643213868141174, 0.8025374412536621, 0.07643213868141174, 0.019108034670352936, 0.06024199351668358, 0.8032265901565552, 0.08032266050577164, 0.02008066512644291, 0.0654369369149208, 0.0654369369149208, 0.08724924176931381, 0.021812310442328453, 0.010906155221164227, 0.0327184684574604, 0.16359233856201172, 0.021812310442328453, 0.010906155221164227, 0.5344016551971436, 0.06779006123542786, 0.04357932135462761, 0.13073797523975372, 0.5326361656188965, 0.01936858892440796, 0.04357932135462761, 0.07747435569763184, 0.014526440761983395, 0.01936858892440796, 0.0484214685857296, 0.059929266571998596, 0.022473474964499474, 0.0074911583214998245, 0.09738505631685257, 0.03745578974485397, 0.0074911583214998245, 0.0074911583214998245, 0.7566069960594177, 0.0074911583214998245, 0.05661788210272789, 0.01887262798845768, 0.8115229606628418, 0.05661788210272789, 0.03774525597691536, 0.23597177863121033, 0.05541037768125534, 0.09744583815336227, 0.1394812911748886, 0.10317794233560562, 0.058276429772377014, 0.021973080933094025, 0.010508864186704159, 0.12897242605686188, 0.14807945489883423, 0.027024121955037117, 0.027024121955037117, 0.8377477526664734, 0.054048243910074234, 0.027024121955037117, 0.03647406026721001, 0.012158019468188286, 0.006079009734094143, 0.012158019468188286, 0.8328243494033813, 0.02431603893637657, 0.006079009734094143, 0.018237030133605003, 0.03039504960179329, 0.018237030133605003, 0.03513992950320244, 0.011713310144841671, 0.023426620289683342, 0.011713310144841671, 0.023426620289683342, 0.866784930229187, 0.011713310144841671, 0.010158403776586056, 0.050792016088962555, 0.010158403776586056, 0.02031680755317211, 0.02031680755317211, 0.04063361510634422, 0.02031680755317211, 0.010158403776586056, 0.8228306770324707, 0.010158403776586056, 0.13571809232234955, 0.8143085241317749, 0.06464832276105881, 0.04701696336269379, 0.09403392672538757, 0.593589186668396, 0.011754240840673447, 0.04113984480500221, 0.08227968961000443, 0.023508481681346893, 0.029385602101683617, 0.011754240840673447, 0.8951634764671326, 0.8509799838066101, 0.03473387658596039, 0.05210081487894058, 0.017366938292980194, 0.017366938292980194, 0.017366938292980194, 0.017366938292980194, 0.017366938292980194, 0.017366938292980194, 0.8703750371932983, 0.06610418111085892, 0.06610418111085892, 0.8593543767929077, 0.009798326529562473, 0.029394980520009995, 0.019596653059124947, 0.019596653059124947, 0.7348744869232178, 0.019596653059124947, 0.019596653059124947, 0.009798326529562473, 0.04899163171648979, 0.08818493783473969, 0.7024210095405579, 0.026112305000424385, 0.02154265157878399, 0.13970082998275757, 0.0156673826277256, 0.024153882637619972, 0.028070727363228798, 0.012403344735503197, 0.018278613686561584, 0.011097729206085205, 0.83167964220047, 0.36712533235549927, 0.010672247968614101, 0.004268899094313383, 0.03201674297451973, 0.008537798188626766, 0.014941147528588772, 0.004268899094313383, 0.5037301182746887, 0.0362856425344944, 0.021344495937228203, 0.8303948640823364, 0.02332569845020771, 0.00933027919381857, 0.027990838512778282, 0.013995419256389141, 0.027990838512778282, 0.013995419256389141, 0.013995419256389141, 0.032655976712703705, 0.00933027919381857, 0.042390771210193634, 0.8478154540061951, 0.042390771210193634, 0.8025956153869629, 0.13607175648212433, 0.8164305686950684, 0.7612397074699402, 0.03939444571733475, 0.013903921470046043, 0.08921682834625244, 0.011586600914597511, 0.03475980460643768, 0.01737990230321884, 0.01506258174777031, 0.006951960735023022, 0.01042794156819582, 0.012643801048398018, 0.012643801048398018, 0.012643801048398018, 0.06321900337934494, 0.012643801048398018, 0.8218470811843872, 0.037931401282548904, 0.025287602096796036, 0.13462141156196594, 0.14152507483959198, 0.0724884495139122, 0.07939211279153824, 0.055229295045137405, 0.058681126683950424, 0.04142197221517563, 0.017259154468774796, 0.10355492681264877, 0.2899537980556488, 0.06348983943462372, 0.030886946246027946, 0.02745506353676319, 0.4169737994670868, 0.02059129811823368, 0.025739122182130814, 0.02917100489139557, 0.13899126648902893, 0.04804636165499687, 0.19733327627182007, 0.9042271971702576, 0.02945871464908123, 0.02945871464908123, 0.05891742929816246, 0.854302704334259, 0.9214648008346558, 0.41245007514953613, 0.01923741027712822, 0.03924431651830673, 0.3093375563621521, 0.05001726374030113, 0.06848517805337906, 0.02231539599597454, 0.011542445980012417, 0.04693927988409996, 0.01923741027712822, 0.839917004108429, 0.026853356510400772, 0.22303679585456848, 0.06533746421337128, 0.06465330719947815, 0.13717447221279144, 0.05216734856367111, 0.025656074285507202, 0.04224700108170509, 0.2731516659259796, 0.08979625999927521, 0.05936862528324127, 0.8311607241630554, 0.4303952753543854, 0.10197228938341141, 0.04862438887357712, 0.17338067293167114, 0.051125068217515945, 0.07418692111968994, 0.027785364538431168, 0.02056116983294487, 0.02889677882194519, 0.043345168232917786, 0.9023571610450745, 0.786690890789032, 0.023367056623101234, 0.00778901856392622, 0.04283960163593292, 0.011683528311550617, 0.03505058214068413, 0.03505058214068413, 0.023367056623101234, 0.01557803712785244, 0.01557803712785244, 0.03264271095395088, 0.03264271095395088, 0.03264271095395088, 0.9139959216117859, 0.03264271095395088, 0.5514760613441467, 0.12548114359378815, 0.03147300332784653, 0.07461485266685486, 0.04305967316031456, 0.055961139500141144, 0.022515935823321342, 0.03114430420100689, 0.009367943741381168, 0.05489286407828331, 0.12230623513460159, 0.0838671326637268, 0.11531730741262436, 0.10133945196866989, 0.01048339158296585, 0.03145017474889755, 0.4752470850944519, 0.006988927721977234, 0.0209667831659317, 0.03494463860988617, 0.011491739191114902, 0.5918245315551758, 0.038305796682834625, 0.06511985510587692, 0.07469630241394043, 0.06128927320241928, 0.07469630241394043, 0.04213637486100197, 0.02872934751212597, 0.009576449170708656, 0.008532091975212097, 0.05972464382648468, 0.008532091975212097, 0.008532091975212097, 0.24743066728115082, 0.6399068832397461, 0.02559627592563629, 0.008532091975212097, 0.904294490814209, 0.009888784028589725, 0.029666351154446602, 0.8603242039680481, 0.029666351154446602, 0.009888784028589725, 0.009888784028589725, 0.0395551361143589, 0.009888784028589725, 0.009888784028589725, 0.009888784028589725, 0.8679442405700684, 0.16958214342594147, 0.07174629718065262, 0.013044781051576138, 0.03913434222340584, 0.006522390525788069, 0.4630897045135498, 0.06522390246391296, 0.06522390246391296, 0.1043582484126091, 0.013044781051576138, 0.831489622592926, 0.0528942346572876, 0.056099943816661835, 0.01602855511009693, 0.028851399198174477, 0.038468532264232635, 0.6940364837646484, 0.05129137635231018, 0.014425699599087238, 0.02564568817615509, 0.024042833596467972, 0.060232993215322495, 0.8031065464019775, 0.08031065762042999, 0.040155328810214996, 0.07960837334394455, 0.7960837483406067, 0.10888555645942688, 0.7621989250183105, 0.03629518672823906, 0.027435611933469772, 0.13169093430042267, 0.03840985521674156, 0.010974245145916939, 0.005487122572958469, 0.26338186860084534, 0.4773796498775482, 0.005487122572958469, 0.027435611933469772, 0.016461366787552834, 0.06964315474033356, 0.8008962273597717, 0.06964315474033356, 0.03658851981163025, 0.03658851981163025, 0.06402990967035294, 0.009147129952907562, 0.009147129952907562, 0.018294259905815125, 0.009147129952907562, 0.009147129952907562, 0.7958002686500549, 0.009147129952907562, 0.9049527645111084, 0.10380732268095016, 0.03287231922149658, 0.010380732826888561, 0.1332194060087204, 0.12456879019737244, 0.053633783012628555, 0.017301220446825027, 0.038062684237957, 0.37024611234664917, 0.11764830350875854, 0.0484522245824337, 0.9205922484397888, 0.9196004271507263, 0.011640511453151703, 0.011640511453151703, 0.011640511453151703, 0.023281022906303406, 0.011640511453151703, 0.8935251832008362, 0.0406147800385952, 0.8173942565917969, 0.025150591507554054, 0.015090355649590492, 0.0779668390750885, 0.012575295753777027, 0.017605414614081383, 0.010060236789286137, 0.007545177824795246, 0.007545177824795246, 0.010060236789286137, 0.056949954479932785, 0.056949954479932785, 0.8542492985725403, 0.14325983822345734, 0.10547702759504318, 0.015742840245366096, 0.07713991403579712, 0.43450239300727844, 0.02361425943672657, 0.022039975970983505, 0.11492273211479187, 0.01731712371110916, 0.045654233545064926, 0.08418963104486465, 0.13133582472801208, 0.19195236265659332, 0.350228875875473, 0.038727231323719025, 0.025256890803575516, 0.12965203821659088, 0.013470341451466084, 0.013470341451466084, 0.021889304742217064, 0.010034449398517609, 0.010034449398517609, 0.010034449398517609, 0.8729971051216125, 0.010034449398517609, 0.010034449398517609, 0.010034449398517609, 0.030103350058197975, 0.030103350058197975, 0.15897676348686218, 0.0904814600944519, 0.27313560247421265, 0.09724642336368561, 0.08117962628602982, 0.06849531084299088, 0.03213360160589218, 0.023677390068769455, 0.04397229850292206, 0.13022564351558685, 0.06025553122162819, 0.8034070730209351, 0.06025553122162819, 0.04017035290598869, 0.46657976508140564, 0.12160000205039978, 0.040176212787628174, 0.1569550782442093, 0.03803348168730736, 0.04178326204419136, 0.021962996572256088, 0.015534802339971066, 0.06803172081708908, 0.029462555423378944, 0.15000756084918976, 0.19931559264659882, 0.09722711890935898, 0.07986513525247574, 0.23681747913360596, 0.04097428545355797, 0.04514116048812866, 0.06597554683685303, 0.04097428545355797, 0.04375220462679863, 0.9071022272109985, 0.044191185384988785, 0.011047796346247196, 0.03314338997006416, 0.011047796346247196, 0.011047796346247196, 0.011047796346247196, 0.055238984525203705, 0.7622979879379272, 0.044191185384988785, 0.03314338997006416, 0.8504522442817688, 0.0177177544683218, 0.05315326526761055, 0.0177177544683218, 0.0177177544683218, 0.0177177544683218, 0.0177177544683218, 0.0177177544683218, 0.034237321466207504, 0.059915315359830856, 0.017118660733103752, 0.008559330366551876, 0.838814377784729, 0.008559330366551876, 0.017118660733103752, 0.16589036583900452, 0.16644150018692017, 0.11573746800422668, 0.10747050493955612, 0.18352656066417694, 0.03306784853339195, 0.03692576289176941, 0.0606243871152401, 0.05786873400211334, 0.07330039888620377, 0.01855425350368023, 0.01855425350368023, 0.8534955978393555, 0.03710850700736046, 0.01855425350368023, 0.01855425350368023, 0.01855425350368023, 0.01855425350368023, 0.01855425350368023, 0.04398883134126663, 0.2515799403190613, 0.3169606029987335, 0.08195178955793381, 0.06688712537288666, 0.02350088208913803, 0.05302762985229492, 0.04941210895776749, 0.04398883134126663, 0.06869488209486008, 0.9398707747459412, 0.0269634872674942, 0.2534567713737488, 0.5271361470222473, 0.03640070557594299, 0.00943722017109394, 0.025615312159061432, 0.049882449209690094, 0.0134817436337471, 0.0404452309012413, 0.01617809198796749, 0.012114282697439194, 0.7934855222702026, 0.06057141348719597, 0.08479998260736465, 0.002019047038629651, 0.004038094077259302, 0.02624761313199997, 0.006057141348719597, 0.010095235891640186, 0.006438464857637882, 0.9013850688934326, 0.006438464857637882, 0.05150771886110306, 0.019315393641591072, 0.006438464857637882, 0.006438464857637882, 0.061583273112773895, 0.11500491201877594, 0.05119573324918747, 0.05713146924972534, 0.2856573462486267, 0.17510424554347992, 0.09793966263532639, 0.04377606138586998, 0.06677704304456711, 0.046743929386138916, 0.018011968582868576, 0.17111369967460632, 0.009005984291434288, 0.031520944088697433, 0.013508975505828857, 0.018011968582868576, 0.6844547986984253, 0.022514959797263145, 0.009005984291434288, 0.022514959797263145, 0.910754919052124, 0.11908642947673798, 0.009160494431853294, 0.01832098886370659, 0.009160494431853294, 0.009160494431853294, 0.009160494431853294, 0.04580247029662132, 0.7420000433921814, 0.03664197772741318, 0.009160494431853294, 0.14856171607971191, 0.17646834254264832, 0.04021836444735527, 0.13296684622764587, 0.0738704651594162, 0.06894576549530029, 0.03365210071206093, 0.03611445054411888, 0.23310236632823944, 0.057454805821180344, 0.007236861623823643, 0.08684234321117401, 0.050658032298088074, 0.16644781827926636, 0.014473723247647285, 0.007236861623823643, 0.6585544347763062, 0.007236861623823643, 0.06248475983738899, 0.3199976980686188, 0.07763257622718811, 0.049230415374040604, 0.028402162715792656, 0.028402162715792656, 0.30295640230178833, 0.08899344503879547, 0.017041297629475594, 0.02650868520140648, 0.875311553478241, 0.016209473833441734, 0.016209473833441734, 0.016209473833441734, 0.016209473833441734, 0.03241894766688347, 0.03241894766688347, 0.2216884344816208, 0.2270752489566803, 0.09199033677577972, 0.12368971109390259, 0.05490414425730705, 0.09323345124721527, 0.025898180902004242, 0.011602384969592094, 0.11892444640398026, 0.030870631337165833, 0.05338747426867485, 0.026693737134337425, 0.8808932900428772, 0.017284393310546875, 0.03456878662109375, 0.017284393310546875, 0.017284393310546875, 0.8987883925437927, 0.055905722081661224, 0.055905722081661224, 0.8385858535766602, 0.13089513778686523, 0.06704384833574295, 0.08300667256116867, 0.46292179822921753, 0.11812487244606018, 0.03831076994538307, 0.0446958988904953, 0.012770256958901882, 0.02234794944524765, 0.015962820500135422, 0.9024642109870911, 0.01619299314916134, 0.03238598629832268, 0.8582286238670349, 0.03238598629832268, 0.01619299314916134, 0.01619299314916134, 0.01619299314916134, 0.01619299314916134, 0.01619299314916134, 0.01619299314916134, 0.17790110409259796, 0.41816428303718567, 0.053176961839199066, 0.09716881066560745, 0.05849465727806091, 0.018853649497032166, 0.05462724342942238, 0.07203061133623123, 0.027071908116340637, 0.022237638011574745, 0.13015419244766235, 0.3226739466190338, 0.055586688220500946, 0.08541369438171387, 0.07095211744308472, 0.04745205119252205, 0.06326939910650253, 0.11885608732700348, 0.04654820263385773, 0.05875015631318092, 0.903827965259552, 0.8430007100105286, 0.031222248449921608, 0.031222248449921608, 0.031222248449921608, 0.031222248449921608, 0.031222248449921608, 0.03379131108522415, 0.03379131108522415, 0.03379131108522415, 0.0675826221704483, 0.8109914660453796, 0.03379131108522415, 0.008766504935920238, 0.017533009871840477, 0.8722672462463379, 0.013149757869541645, 0.02629951573908329, 0.004383252467960119, 0.030682768672704697, 0.004383252467960119, 0.013149757869541645, 0.004383252467960119, 0.011335470713675022, 0.022670941427350044, 0.14736111462116241, 0.7027991414070129, 0.011335470713675022, 0.011335470713675022, 0.03400641307234764, 0.011335470713675022, 0.03400641307234764, 0.011335470713675022, 0.8339184522628784, 0.08339184522628784, 0.22636090219020844, 0.14012818038463593, 0.02874424122273922, 0.11138393729925156, 0.043116360902786255, 0.039523329585790634, 0.3197796940803528, 0.023354696109890938, 0.03413378447294235, 0.03413378447294235, 0.847032904624939, 0.029208030551671982, 0.029208030551671982, 0.029208030551671982, 0.03453807905316353, 0.8807210326194763, 0.03453807905316353, 0.017269039526581764, 0.029164012521505356, 0.9040843844413757, 0.029164012521505356, 0.029164012521505356, 0.15021660923957825, 0.006531157065182924, 0.013062314130365849, 0.013062314130365849, 0.08490504324436188, 0.006531157065182924, 0.013062314130365849, 0.6857714653015137, 0.006531157065182924, 0.013062314130365849, 0.8520588874816895, 0.024344539269804955, 0.024344539269804955, 0.024344539269804955, 0.024344539269804955, 0.024344539269804955, 0.024344539269804955, 0.024344539269804955, 0.024344539269804955, 0.8814243078231812, 0.06295888125896454, 0.012929853983223438, 0.025859707966446877, 0.16808810830116272, 0.6982121467590332, 0.012929853983223438, 0.012929853983223438, 0.025859707966446877, 0.012929853983223438, 0.012929853983223438, 0.012929853983223438, 0.013806500472128391, 0.06212925165891647, 0.7731640338897705, 0.020709751173853874, 0.020709751173853874, 0.006903250236064196, 0.013806500472128391, 0.07593575119972229, 0.006903250236064196, 0.013806500472128391, 0.010071584954857826, 0.8862994909286499, 0.010071584954857826, 0.010071584954857826, 0.010071584954857826, 0.03021475486457348, 0.05035792663693428, 0.06589445471763611, 0.04010966792702675, 0.014324881136417389, 0.11173407733440399, 0.07162440568208694, 0.06302947551012039, 0.017189858481287956, 0.05156957358121872, 0.5529404282569885, 0.011459904722869396, 0.11685749888420105, 0.10016357153654099, 0.016693929210305214, 0.011129285208880901, 0.11685749888420105, 0.025040892884135246, 0.1140751764178276, 0.47021231055259705, 0.01391160674393177, 0.011129285208880901, 0.3314606845378876, 0.20382057130336761, 0.057009220123291016, 0.050955142825841904, 0.03632446005940437, 0.028252357617020607, 0.06255879253149033, 0.08425256609916687, 0.0968652218580246, 0.0489371195435524, 0.8118057250976562, 0.02276090905070305, 0.007586969528347254, 0.053108785301446915, 0.030347878113389015, 0.03793484717607498, 0.007586969528347254, 0.007586969528347254, 0.015173939056694508, 0.015173939056694508, 0.8423682451248169, 0.021059205755591393, 0.042118411511182785, 0.021059205755591393, 0.021059205755591393, 0.021059205755591393, 0.021059205755591393, 0.021059205755591393, 0.021059205755591393, 0.021240612491965294, 0.05841168761253357, 0.0053101531229913235, 0.010620306245982647, 0.026550766080617905, 0.1752350628376007, 0.010620306245982647, 0.6106676459312439, 0.010620306245982647, 0.07965230196714401, 0.032569292932748795, 0.021712863817811012, 0.010856431908905506, 0.032569292932748795, 0.021712863817811012, 0.010856431908905506, 0.09770788252353668, 0.010856431908905506, 0.7599502205848694, 0.8935221433639526, 0.08122928440570831, 0.9341755509376526, 0.8406684994697571, 0.06466680765151978, 0.06466680765151978, 0.9413577318191528, 0.08290231227874756, 0.8290231227874756, 0.020969945937395096, 0.9226776361465454, 0.020969945937395096, 0.020969945937395096, 0.8523504734039307, 0.048225656151771545, 0.8680617809295654, 0.048225656151771545, 0.06567427515983582, 0.05253942310810089, 0.013134855777025223, 0.853765606880188, 0.013134855777025223, 0.10335206240415573, 0.8612672090530396, 0.014229418709874153, 0.014229418709874153, 0.028458837419748306, 0.9106827974319458, 0.03355722874403, 0.03355722874403, 0.03355722874403, 0.8724879622459412, 0.03350043296813965, 0.03350043296813965, 0.03350043296813965, 0.8710113167762756, 0.03786544129252434, 0.03786544129252434, 0.03786544129252434, 0.8709051609039307, 0.01616634614765644, 0.01616634614765644, 0.03233269229531288, 0.9053153395652771, 0.04504474252462387, 0.04504474252462387, 0.855850100517273, 0.04683325067162514, 0.04683325067162514, 0.8429985642433167, 0.04504753276705742, 0.04504753276705742, 0.04504753276705742, 0.8559030890464783, 0.01421580370515585, 0.01421580370515585, 0.01421580370515585, 0.0284316074103117, 0.9098114371299744, 0.014902540482580662, 0.029805080965161324, 0.029805080965161324, 0.029805080965161324, 0.8792498707771301, 0.014934815466403961, 0.014934815466403961, 0.014934815466403961, 0.029869630932807922, 0.8960888981819153, 0.020678281784057617, 0.020678281784057617, 0.020678281784057617, 0.9098443984985352, 0.04339999333024025, 0.04339999333024025, 0.8679998517036438, 0.016160938888788223, 0.03232187777757645, 0.03232187777757645, 0.9050126075744629, 0.8232545256614685, 0.048426736146211624, 0.048426736146211624, 0.03769408538937569, 0.018847042694687843, 0.018847042694687843, 0.07538817077875137, 0.8104228973388672, 0.018847042694687843, 0.018847042694687843, 0.018847042694687843, 0.018847042694687843, 0.02485526353120804, 0.02485526353120804, 0.02485526353120804, 0.02485526353120804, 0.8202237486839294, 0.02485526353120804, 0.02485526353120804, 0.02485526353120804, 0.021886451169848442, 0.021886451169848442, 0.021886451169848442, 0.043772902339696884, 0.8973444700241089, 0.020700329914689064, 0.020700329914689064, 0.020700329914689064, 0.8694138526916504, 0.020700329914689064, 0.020700329914689064, 0.04140065982937813, 0.04109518602490425, 0.8493005037307739, 0.0273967906832695, 0.054793581366539, 0.043681610375642776, 0.043681610375642776, 0.08736322075128555, 0.8299505710601807, 0.056412190198898315, 0.056412190198898315, 0.056412190198898315, 0.8461828231811523, 0.047564130276441574, 0.5454019904136658, 0.06817524880170822, 0.04914959892630577, 0.0380513034760952, 0.04122224450111389, 0.0776880756020546, 0.039636772125959396, 0.03488036245107651, 0.058662425726652145, 0.00594473397359252, 0.15588413178920746, 0.03665919229388237, 0.005614471156150103, 0.011559205129742622, 0.7183220386505127, 0.02873288094997406, 0.02377893589437008, 0.0046236817725002766, 0.008586837910115719, 0.008378705009818077, 0.10892316699028015, 0.03351482003927231, 0.008378705009818077, 0.06702964007854462, 0.7205686569213867, 0.02513611502945423, 0.016757410019636154, 0.008378705009818077, 0.008378705009818077, 0.7928309440612793, 0.057423826307058334, 0.8039335608482361, 0.057423826307058334, 0.03828255087137222, 0.1151873841881752, 0.12467340379953384, 0.04607495293021202, 0.14500059187412262, 0.0813087448477745, 0.04743009805679321, 0.35775846242904663, 0.033878643065690994, 0.025747768580913544, 0.02303747646510601, 0.04073798656463623, 0.01851726695895195, 0.014813813380897045, 0.05925525352358818, 0.6703250408172607, 0.014813813380897045, 0.02222071960568428, 0.08888287842273712, 0.04814489558339119, 0.02222071960568428, 0.48545604944229126, 0.08754125237464905, 0.023406751453876495, 0.1123524084687233, 0.03089691326022148, 0.11703376471996307, 0.03979147970676422, 0.03604639694094658, 0.03557826206088066, 0.032301317900419235, 0.20894119143486023, 0.10184790194034576, 0.053765200078487396, 0.1320088654756546, 0.2522156238555908, 0.050268277525901794, 0.027538273483514786, 0.07430962473154068, 0.02884962037205696, 0.07037559151649475, 0.7912856936454773, 0.03768027201294899, 0.011304081417620182, 0.030144216492772102, 0.01695612259209156, 0.043332312256097794, 0.0244921762496233, 0.013188094832003117, 0.015072108246386051, 0.01695612259209156, 0.7946986556053162, 0.025228530168533325, 0.008409509435296059, 0.05045706033706665, 0.016819018870592117, 0.054661814123392105, 0.012614265084266663, 0.012614265084266663, 0.016819018870592117, 0.012614265084266663, 0.8439956903457642, 0.012596950866281986, 0.012596950866281986, 0.025193901732563972, 0.012596950866281986, 0.037790849804878235, 0.012596950866281986, 0.012596950866281986, 0.012596950866281986, 0.012596950866281986, 0.12371498346328735, 0.15318825840950012, 0.10479386895895004, 0.10297452658414841, 0.23360300064086914, 0.028381671756505966, 0.07750380039215088, 0.041480906307697296, 0.0851450189948082, 0.049122124910354614, 0.033917270600795746, 0.033917270600795746, 0.033917270600795746, 0.8479317426681519, 0.11292774230241776, 0.02823193557560444, 0.004033133387565613, 0.036298200488090515, 0.05646387115120888, 0.004033133387565613, 0.004033133387565613, 0.6735333204269409, 0.0322650671005249, 0.052430737763643265, 0.8442321419715881, 0.0649409368634224, 0.018452830612659454, 0.6511212587356567, 0.05008625239133835, 0.0342695415019989, 0.07644743472337723, 0.015816710889339447, 0.02372506633400917, 0.055358488112688065, 0.031633421778678894, 0.04481401666998863, 0.04737718030810356, 0.029610738158226013, 0.01184429507702589, 0.10659865289926529, 0.029610738158226013, 0.04145503416657448, 0.005922147538512945, 0.01184429507702589, 0.6099811792373657, 0.11252079904079437, 0.021446282044053078, 0.03216942399740219, 0.021446282044053078, 0.021446282044053078, 0.021446282044053078, 0.03216942399740219, 0.03216942399740219, 0.804235577583313, 0.010723141022026539, 0.055756911635398865, 0.055756911635398865, 0.8363537192344666, 0.8743272423744202, 0.869175374507904, 0.03279627114534378, 0.01639813557267189, 0.012298601679503918, 0.01639813557267189, 0.12708555161952972, 0.09838881343603134, 0.008199067786335945, 0.020497668534517288, 0.0040995338931679726, 0.6600249409675598, 0.06028315797448158, 0.8238698244094849, 0.06028315797448158, 0.020094385370612144, 0.8231537342071533, 0.01751037873327732, 0.8580085635185242, 0.05253113806247711, 0.01751037873327732, 0.01751037873327732, 0.8623220324516296, 0.017598409205675125, 0.03519681841135025, 0.017598409205675125, 0.017598409205675125, 0.017598409205675125, 0.017598409205675125, 0.6000632047653198, 0.043378062546253204, 0.008675612509250641, 0.05494554713368416, 0.1930323839187622, 0.0209660641849041, 0.013013418763875961, 0.018074192106723785, 0.01156748365610838, 0.034702450037002563, 0.0843520537018776, 0.1687041074037552, 0.0421760268509388, 0.08903827518224716, 0.09372450411319733, 0.009372450411319733, 0.018744900822639465, 0.004686225205659866, 0.004686225205659866, 0.48268118500709534, 0.029076548293232918, 0.014538274146616459, 0.07772385329008102, 0.25945228338241577, 0.3729626536369324, 0.014538274146616459, 0.07772385329008102, 0.06486307084560394, 0.02124824747443199, 0.06877721846103668, 0.13958203792572021, 0.031018231064081192, 0.015509115532040596, 0.7444375157356262, 0.015509115532040596, 0.031018231064081192, 0.015509115532040596, 0.015509115532040596, 0.015509115532040596, 0.015509115532040596, 0.8488737344741821, 0.9233043789863586, 0.04616521671414375, 0.08119907230138779, 0.1509077101945877, 0.5017489790916443, 0.09958376735448837, 0.013022493571043015, 0.03523733466863632, 0.025278957560658455, 0.01915072463452816, 0.04825982823967934, 0.02604498714208603, 0.7647731304168701, 0.028279708698391914, 0.028279708698391914, 0.8342514038085938, 0.014139854349195957, 0.014139854349195957, 0.014139854349195957, 0.014139854349195957, 0.014139854349195957, 0.014139854349195957, 0.014139854349195957, 0.07691080868244171, 0.05954384803771973, 0.6376153826713562, 0.10172074288129807, 0.009923974983394146, 0.024809937924146652, 0.022328943014144897, 0.017366956919431686, 0.022328943014144897, 0.027290930971503258, 0.019115418195724487, 0.0669039636850357, 0.7327576875686646, 0.02867312729358673, 0.009557709097862244, 0.025487223640084267, 0.038230836391448975, 0.006371805910021067, 0.02867312729358673, 0.04778854548931122, 0.08387705683708191, 0.1389787644147873, 0.377140611410141, 0.1389787644147873, 0.020203961059451103, 0.03550999239087105, 0.03550999239087105, 0.06918326020240784, 0.011020342819392681, 0.08938722312450409, 0.010446127504110336, 0.804351806640625, 0.03133838251233101, 0.0574536994099617, 0.005223063752055168, 0.03656144440174103, 0.02611531876027584, 0.005223063752055168, 0.010446127504110336, 0.010446127504110336, 0.024943789467215538, 0.4893384873867035, 0.16800376772880554, 0.08143413811922073, 0.02200922742486, 0.056490350514650345, 0.027878353372216225, 0.03374747931957245, 0.01100461371243, 0.08583598583936691, 0.04786879941821098, 0.04786879941821098, 0.04786879941821098, 0.8137695789337158, 0.9255875945091248, 0.8168827295303345, 0.05722847580909729, 0.06676655262708664, 0.6414358615875244, 0.028614237904548645, 0.026229718700051308, 0.026229718700051308, 0.028614237904548645, 0.028614237904548645, 0.04053683578968048, 0.052459437400102615, 0.03553565591573715, 0.5422820448875427, 0.24095551669597626, 0.05389794707298279, 0.012285561300814152, 0.022721683606505394, 0.026948973536491394, 0.010964533314108849, 0.03738509491086006, 0.017173364758491516, 0.9071060419082642, 0.0604737363755703, 0.679146409034729, 0.03047451749444008, 0.07400954514741898, 0.11381299793720245, 0.01119472086429596, 0.0248771570622921, 0.03296223282814026, 0.010572792030870914, 0.01119472086429596, 0.01243857853114605, 0.03253675252199173, 0.03253675252199173, 0.03253675252199173, 0.03253675252199173, 0.8459555506706238, 0.8522248864173889, 0.025065438821911812, 0.012532719410955906, 0.037598155438899994, 0.012532719410955906, 0.025065438821911812, 0.012532719410955906, 0.012532719410955906, 0.012532719410955906, 0.012532719410955906, 0.05392532795667648, 0.18518543243408203, 0.5283846259117126, 0.04681888967752457, 0.05392532795667648, 0.02382747083902359, 0.0426386334002018, 0.029679832980036736, 0.010450645349919796, 0.024663522839546204, 0.764874279499054, 0.044738925993442535, 0.12303204089403152, 0.6375296711921692, 0.06231493130326271, 0.015978187322616577, 0.019173825159668922, 0.023967280983924866, 0.006391275208443403, 0.02077164314687252, 0.044738925993442535, 0.023509260267019272, 0.25356417894363403, 0.21997950971126556, 0.10915014147758484, 0.003358465852215886, 0.015113095752894878, 0.30394116044044495, 0.025188492611050606, 0.008396164514124393, 0.03694312274456024, 0.8694635629653931, 0.052694760262966156, 0.026347380131483078, 0.026347380131483078, 0.03663666546344757, 0.027477500960230827, 0.018318332731723785, 0.8426433205604553, 0.009159166365861893, 0.009159166365861893, 0.009159166365861893, 0.04579583555459976, 0.10484091192483902, 0.30145949125289917, 0.14771515130996704, 0.10919532179832458, 0.07770955562591553, 0.05928703024983406, 0.05459766089916229, 0.07168036699295044, 0.0207672081887722, 0.05292288586497307, 0.01877577044069767, 0.01877577044069767, 0.01877577044069767, 0.03755154088139534, 0.01877577044069767, 0.03755154088139534, 0.01877577044069767, 0.01877577044069767, 0.8073581457138062, 0.01877577044069767, 0.013773391023278236, 0.027546782046556473, 0.8677236437797546, 0.013773391023278236, 0.013773391023278236, 0.027546782046556473, 0.013773391023278236, 0.8648775815963745, 0.029823364689946175, 0.029823364689946175, 0.029823364689946175, 0.029823364689946175, 0.13243368268013, 0.07115840166807175, 0.43189194798469543, 0.06325191259384155, 0.05435711145401001, 0.0741233304142952, 0.0642402246594429, 0.02964933216571808, 0.02964933216571808, 0.048427242785692215, 0.08289255201816559, 0.03136475011706352, 0.017922714352607727, 0.03360508754849434, 0.6833034753799438, 0.035845428705215454, 0.006721017882227898, 0.07393119484186172, 0.017922714352607727, 0.01568237505853176, 0.1776534616947174, 0.04584605246782303, 0.08596134930849075, 0.022923026233911514, 0.022923026233911514, 0.5214988589286804, 0.06876908242702484, 0.022923026233911514, 0.028653783723711967, 0.005730756558477879, 0.1505986601114273, 0.011584511958062649, 0.023169023916125298, 0.6834862232208252, 0.023169023916125298, 0.03475353494286537, 0.023169023916125298, 0.011584511958062649, 0.011584511958062649, 0.011584511958062649, 0.019423002377152443, 0.019423002377152443, 0.835189163684845, 0.019423002377152443, 0.009711501188576221, 0.009711501188576221, 0.019423002377152443, 0.009711501188576221, 0.019423002377152443, 0.02913450449705124, 0.020842811092734337, 0.020842811092734337, 0.12505686283111572, 0.708655595779419, 0.020842811092734337, 0.020842811092734337, 0.06252843141555786, 0.020842811092734337, 0.020842811092734337, 0.9054719805717468, 0.028473155573010445, 0.028473155573010445, 0.783011794090271, 0.02135486714541912, 0.007118288893252611, 0.014236577786505222, 0.07118289172649384, 0.028473155573010445, 0.007118288893252611, 0.02135486714541912, 0.22313843667507172, 0.13427799940109253, 0.08096173405647278, 0.12242993712425232, 0.08491108566522598, 0.017772087827324867, 0.08096173405647278, 0.027645470574498177, 0.013822735287249088, 0.213265061378479, 0.057467225939035416, 0.8045411705970764, 0.07662297040224075, 0.01915574260056019, 0.13563711941242218, 0.03014158271253109, 0.015070791356265545, 0.7836811542510986, 0.03014158271253109, 0.16289888322353363, 0.28999149799346924, 0.07318645715713501, 0.08459724485874176, 0.12079700082540512, 0.05351267755031586, 0.05744743347167969, 0.06925170123577118, 0.04131493344902992, 0.04643011838197708, 0.10178207606077194, 0.10992463678121567, 0.027141885831952095, 0.05428377166390419, 0.15470874309539795, 0.06649762392044067, 0.0746401846408844, 0.023070603609085083, 0.32705971598625183, 0.05971214920282364, 0.040244366973638535, 0.8048873543739319, 0.08048873394727707, 0.040244366973638535, 0.06727088987827301, 0.8745216131210327, 0.08573638647794724, 0.04445590451359749, 0.7049436569213867, 0.03492964059114456, 0.01587710902094841, 0.01587710902094841, 0.01587710902094841, 0.012701687403023243, 0.012701687403023243, 0.05715759098529816, 0.8065371513366699, 0.015711763873696327, 0.010474508628249168, 0.07855881750583649, 0.026186272501945496, 0.020949017256498337, 0.015711763873696327, 0.010474508628249168, 0.005237254314124584, 0.010474508628249168, 0.12738607823848724, 0.027649691328406334, 0.028637180104851723, 0.07603664696216583, 0.6349554061889648, 0.018762290477752686, 0.010862378403544426, 0.041474536061286926, 0.020737268030643463, 0.012837355956435204, 0.23260889947414398, 0.08472509682178497, 0.050835058093070984, 0.050835058093070984, 0.013864106498658657, 0.02310684323310852, 0.41592317819595337, 0.02310684323310852, 0.0908869206905365, 0.015404562465846539, 0.17148132622241974, 0.2259121984243393, 0.08236883580684662, 0.10548991709947586, 0.11656876653432846, 0.05057735741138458, 0.09681951254606247, 0.06502802670001984, 0.03901681676506996, 0.04720553383231163, 0.14423130452632904, 0.16013915836811066, 0.03075520321726799, 0.07847879827022552, 0.21316537261009216, 0.02545258216559887, 0.042420968413352966, 0.22907324135303497, 0.044542018324136734, 0.03393677622079849, 0.16986893117427826, 0.09146787971258163, 0.09800130128860474, 0.019600261002779007, 0.01306684035807848, 0.039200522005558014, 0.13720183074474335, 0.039200522005558014, 0.019600261002779007, 0.38547179102897644, 0.012331318110227585, 0.061656590551137924, 0.036993954330682755, 0.012331318110227585, 0.012331318110227585, 0.8138670325279236, 0.012331318110227585, 0.012331318110227585, 0.012331318110227585, 0.14799106121063232, 0.07751912623643875, 0.3868909180164337, 0.07681440562009811, 0.04651147499680519, 0.0803380012512207, 0.05355866998434067, 0.023255737498402596, 0.04369259998202324, 0.06272002309560776, 0.8415480852127075, 0.019570885226130486, 0.01304725743830204, 0.032618142664432526, 0.01304725743830204, 0.032618142664432526, 0.01304725743830204, 0.00652362871915102, 0.019570885226130486, 0.01304725743830204, 0.052929386496543884, 0.10585877299308777, 0.052929386496543884, 0.7939407825469971, 0.12185794115066528, 0.027079543098807335, 0.05415908619761467, 0.08123862743377686, 0.013539771549403667, 0.6634488105773926, 0.013539771549403667, 0.264578640460968, 0.07496394962072372, 0.057325370609760284, 0.10289169102907181, 0.10068687051534653, 0.17712070047855377, 0.03527715057134628, 0.02131327986717224, 0.03601209446787834, 0.13008449971675873, 0.8455007672309875, 0.125711590051651, 0.8171253204345703, 0.8517081141471863, 0.050100475549697876, 0.050100475549697876, 0.08619333058595657, 0.7757399678230286, 0.01544285286217928, 0.7837247848510742, 0.06756248325109482, 0.017373209819197655, 0.00193035660777241, 0.011582139879465103, 0.052119627594947815, 0.03667677566409111, 0.00193035660777241, 0.011582139879465103, 0.8601295948028564, 0.12854477763175964, 0.11793670803308487, 0.4049784541130066, 0.11481669545173645, 0.023712143301963806, 0.031200187280774117, 0.06739240884780884, 0.00936005637049675, 0.04555227607488632, 0.0561603382229805, 0.2139357626438141, 0.11919007450342178, 0.061963677406311035, 0.2812052071094513, 0.1377602219581604, 0.04377250745892525, 0.030318619683384895, 0.04339352250099182, 0.026907775551080704, 0.04168810322880745, 0.90565025806427, 0.07819575816392899, 0.860153317451477, 0.8239299654960632, 0.9043967127799988, 0.0295158289372921, 0.8559589982032776, 0.0295158289372921, 0.0295158289372921, 0.0295158289372921, 0.00728032598271966, 0.06916309148073196, 0.03276146575808525, 0.02912130393087864, 0.010920488275587559, 0.00728032598271966, 0.8335973024368286, 0.010920488275587559, 0.019091293215751648, 0.057273879647254944, 0.8241074681282043, 0.015909411013126373, 0.009545646607875824, 0.009545646607875824, 0.03181882202625275, 0.009545646607875824, 0.006363764405250549, 0.019091293215751648, 0.10728852450847626, 0.8314860463142395, 0.821529746055603, 0.048325277864933014, 0.048325277864933014, 0.02791716903448105, 0.04187575355172157, 0.8235564827919006, 0.04187575355172157, 0.013958584517240524, 0.013958584517240524, 0.013958584517240524, 0.013958584517240524, 0.013958584517240524, 0.013958584517240524, 0.9025910496711731, 0.07698531448841095, 0.8468384742736816, 0.8831329345703125, 0.04906294122338295, 0.025165816769003868, 0.03355442360043526, 0.025165816769003868, 0.0419430285692215, 0.7465859055519104, 0.0419430285692215, 0.01677721180021763, 0.03355442360043526, 0.025165816769003868, 0.01677721180021763, 0.09451159089803696, 0.3657187819480896, 0.09862079471349716, 0.09907736629247665, 0.10912208259105682, 0.021459152922034264, 0.03743937611579895, 0.06985639780759811, 0.02465519867837429, 0.0794445276260376, 0.05747610703110695, 0.019158702343702316, 0.7855067849159241, 0.07663480937480927, 0.03831740468740463, 0.8661266565322876, 0.051601991057395935, 0.03870149329304695, 0.012900497764348984, 0.012900497764348984, 0.0774029865860939, 0.7869303822517395, 0.012900497764348984, 0.7766661643981934, 0.01810932345688343, 0.49543532729148865, 0.09479448944330215, 0.04158437252044678, 0.032865069806575775, 0.12900099158287048, 0.09524162858724594, 0.01699146442115307, 0.031076494604349136, 0.04493795335292816, 0.02117958478629589, 0.08471833914518356, 0.02117958478629589, 0.7412854433059692, 0.02117958478629589, 0.02117958478629589, 0.06353875249624252, 0.09132437407970428, 0.11811286211013794, 0.47001612186431885, 0.048706334084272385, 0.02191784977912903, 0.04140038415789604, 0.0511416494846344, 0.015829559415578842, 0.06575354933738708, 0.07549481838941574, 0.05048099160194397, 0.8076958656311035, 0.05048099160194397, 0.05048099160194397, 0.060284364968538284, 0.13829943537712097, 0.6737664341926575, 0.02482297457754612, 0.007092278450727463, 0.007092278450727463, 0.04964594915509224, 0.014184556901454926, 0.010638417676091194, 0.010638417676091194, 0.052941832691431046, 0.13764876127243042, 0.5611834526062012, 0.052941832691431046, 0.07941275089979172, 0.023445669561624527, 0.020420420914888382, 0.018151486292481422, 0.014369926415383816, 0.03932821750640869, 0.11257428675889969, 0.011257428675889969, 0.06754457205533981, 0.011257428675889969, 0.056287143379449844, 0.011257428675889969, 0.011257428675889969, 0.6867031455039978, 0.011257428675889969, 0.011257428675889969, 0.06800130754709244, 0.8840170502662659, 0.5313249826431274, 0.0595041885972023, 0.013164643198251724, 0.1890442818403244, 0.07161565870046616, 0.05687125772237778, 0.012111471965909004, 0.01790391467511654, 0.02843562886118889, 0.02001025713980198, 0.9435542821884155, 0.030437234789133072, 0.037803396582603455, 0.08978306502103806, 0.7324407696723938, 0.033077970147132874, 0.02362712286412716, 0.014176273718476295, 0.009450849145650864, 0.014176273718476295, 0.02362712286412716, 0.018901698291301727, 0.06016717106103897, 0.8022289872169495, 0.06016717106103897, 0.020055724307894707, 0.1460811346769333, 0.3935597538948059, 0.1432167887687683, 0.09624168276786804, 0.03379916399717331, 0.024633288383483887, 0.07962853461503983, 0.04010070115327835, 0.01775888167321682, 0.024633288383483887, 0.8605254292488098, 0.018406961113214493, 0.009203480556607246, 0.02761044166982174, 0.01380522083491087, 0.02761044166982174, 0.01380522083491087, 0.009203480556607246, 0.009203480556607246, 0.009203480556607246, 0.027249446138739586, 0.027249446138739586, 0.7629844546318054, 0.027249446138739586, 0.10899778455495834, 0.027249446138739586, 0.623367190361023, 0.060455869883298874, 0.02149542048573494, 0.08732514083385468, 0.04836469516158104, 0.06851664930582047, 0.033586595207452774, 0.01343463733792305, 0.02149542048573494, 0.02149542048573494, 0.8476726412773132, 0.026162736117839813, 0.010465094819664955, 0.02093018963932991, 0.010465094819664955, 0.02093018963932991, 0.010465094819664955, 0.010465094819664955, 0.031395282596349716, 0.010465094819664955, 0.8620797991752625, 0.023707032203674316, 0.011853516101837158, 0.011853516101837158, 0.035560548305511475, 0.8297461271286011, 0.011853516101837158, 0.023707032203674316, 0.011853516101837158, 0.023707032203674316, 0.011853516101837158, 0.8801066279411316, 0.021373877301812172, 0.021373877301812172, 0.042747754603624344, 0.06412163376808167, 0.042747754603624344, 0.021373877301812172, 0.021373877301812172, 0.76945960521698, 0.8615411520004272, 0.8778403997421265, 0.046202126890420914, 0.04583149775862694, 0.8707984685897827, 0.04583149775862694, 0.8300728797912598, 0.04368804395198822, 0.04368804395198822, 0.8043445348739624, 0.008309188298881054, 0.31851887702941895, 0.030467022210359573, 0.04431566968560219, 0.11909835785627365, 0.0387762114405632, 0.011078917421400547, 0.0055394587107002735, 0.41545939445495605, 0.0055394587107002735, 0.3288206458091736, 0.108530193567276, 0.05878718942403793, 0.11240627616643906, 0.1246805191040039, 0.06395529210567474, 0.015504313632845879, 0.01098222192376852, 0.11692836880683899, 0.05878718942403793, 0.12278576195240021, 0.23607777059078217, 0.15189990401268005, 0.11234264075756073, 0.15791261196136475, 0.031329356133937836, 0.0772157832980156, 0.04398768022656441, 0.018671030178666115, 0.04778517782688141, 0.1632983237504959, 0.06531932950019836, 0.061881471425294876, 0.4108242094516754, 0.04641110450029373, 0.06703826040029526, 0.029221806675195694, 0.0842275619506836, 0.03265966475009918, 0.03953538462519646, 0.31059733033180237, 0.11590804159641266, 0.08987400680780411, 0.10843740403652191, 0.134018674492836, 0.0570484884083271, 0.06949954479932785, 0.05297359824180603, 0.04505019634962082, 0.0167523343116045, 0.4713349938392639, 0.06995826959609985, 0.034625809639692307, 0.06006518006324768, 0.06642501801252365, 0.16323596239089966, 0.02826596610248089, 0.02190612442791462, 0.048052143305540085, 0.03674575686454773, 0.06748807430267334, 0.8773449063301086, 0.12171696126461029, 0.024343391880393028, 0.008114464581012726, 0.01622892916202545, 0.05680124834179878, 0.008114464581012726, 0.0324578583240509, 0.6572716236114502, 0.008114464581012726, 0.05680124834179878, 0.08862397819757462, 0.017724795266985893, 0.05317438766360283, 0.655817449092865, 0.017724795266985893, 0.017724795266985893, 0.07089918106794357, 0.05317438766360283, 0.017724795266985893, 0.017724795266985893, 0.24633952975273132, 0.28743764758110046, 0.04383797571063042, 0.11407836526632309, 0.057039182633161545, 0.04682692885398865, 0.08095080405473709, 0.06824775785207748, 0.03063676692545414, 0.02490794099867344, 0.05905895307660103, 0.8268253207206726, 0.7630943655967712, 0.13308605551719666, 0.26922452449798584, 0.10439318418502808, 0.06959545612335205, 0.1129399985074997, 0.04517599940299988, 0.03968162089586258, 0.047617945820093155, 0.07264789193868637, 0.10622464120388031, 0.035517413169145584, 0.035517413169145584, 0.035517413169145584, 0.8524179458618164, 0.07661347091197968, 0.44052746891975403, 0.07729751616716385, 0.1327054798603058, 0.06293249130249023, 0.028730051591992378, 0.0834539607167244, 0.04856746643781662, 0.017785269767045975, 0.03146624565124512, 0.14767171442508698, 0.12491574883460999, 0.039701905101537704, 0.09102387726306915, 0.11620070040225983, 0.15638677775859833, 0.029534343630075455, 0.10603313893079758, 0.15687094628810883, 0.030986852943897247, 0.08202771842479706, 0.04101385921239853, 0.030760396271944046, 0.09911683201789856, 0.017089108005166054, 0.010253464803099632, 0.05468514561653137, 0.017089108005166054, 0.6357148289680481, 0.0068356432020664215, 0.03732854872941971, 0.018664274364709854, 0.018664274364709854, 0.05599282309412956, 0.8585565686225891, 0.020683350041508675, 0.020683350041508675, 0.020683350041508675, 0.8687006831169128, 0.020683350041508675, 0.020683350041508675, 0.04136670008301735, 0.08254413306713104, 0.018343139439821243, 0.009171569719910622, 0.009171569719910622, 0.15591669082641602, 0.009171569719910622, 0.009171569719910622, 0.669524610042572, 0.009171569719910622, 0.009171569719910622, 0.865591824054718, 0.07277438789606094, 0.4231695830821991, 0.04919009655714035, 0.10377088934183121, 0.139484241604805, 0.04447323828935623, 0.0464947484433651, 0.047842420637607574, 0.0202151071280241, 0.05255927890539169, 0.02039051614701748, 0.5769878625869751, 0.10896182060241699, 0.051613494753837585, 0.017204497009515762, 0.03600200638175011, 0.13221974670886993, 0.01656729355454445, 0.012425470165908337, 0.027399756014347076, 0.8847568035125732, 0.0491531565785408, 0.03333517163991928, 0.9000496864318848, 0.05983101576566696, 0.05983101576566696, 0.8376342058181763, 0.005557046737521887, 0.944697916507721, 0.011114093475043774, 0.011114093475043774, 0.016671139746904373, 0.011114093475043774, 0.9421361088752747, 0.005744732450693846, 0.011489464901387691, 0.011489464901387691, 0.011489464901387691, 0.01723419688642025, 0.07126616686582565, 0.07126616686582565, 0.015271320939064026, 0.0203617624938488, 0.0203617624938488, 0.6872094869613647, 0.061085283756256104, 0.015271320939064026, 0.030542641878128052, 0.0101808812469244, 0.00386742502450943, 0.032873112708330154, 0.021270837634801865, 0.059945087879896164, 0.00386742502450943, 0.01160227507352829, 0.8295626640319824, 0.01546970009803772, 0.017403412610292435, 0.00386742502450943, 0.8881165385246277, 0.8913608193397522, 0.013516380451619625, 0.0405491404235363, 0.013516380451619625, 0.02703276090323925, 0.0540655218064785, 0.013516380451619625, 0.7434008717536926, 0.0067581902258098125, 0.0743400901556015, 0.02027457021176815, 0.005415826104581356, 0.9152745604515076, 0.010831652209162712, 0.010831652209162712, 0.005415826104581356, 0.005415826104581356, 0.010831652209162712, 0.010831652209162712, 0.03249495476484299, 0.01863478682935238, 0.12423191219568253, 0.006211595609784126, 0.012423191219568253, 0.2857334017753601, 0.5031392574310303, 0.03105797804892063, 0.012423191219568253, 0.11664039641618729, 0.0055543044582009315, 0.0055543044582009315, 0.0055543044582009315, 0.7664940357208252, 0.038880132138729095, 0.022217217832803726, 0.03332582861185074, 0.06681506335735321, 0.8017807602882385, 0.06681506335735321, 0.1472957283258438, 0.03912542760372162, 0.0805523544549942, 0.14959722757339478, 0.2819332480430603, 0.0333716906607151, 0.037974681705236435, 0.041426923125982285, 0.029919445514678955, 0.15880320966243744, 0.6479164958000183, 0.020284678786993027, 0.00954573042690754, 0.06085403263568878, 0.16466385126113892, 0.020284678786993027, 0.014318596571683884, 0.022671110928058624, 0.00954573042690754, 0.029830409213900566, 0.01313974428921938, 0.06569872051477432, 0.10511795431375504, 0.07883846759796143, 0.01313974428921938, 0.02627948857843876, 0.03941923379898071, 0.02627948857843876, 0.02627948857843876, 0.6175680160522461, 0.07369586825370789, 0.14258548617362976, 0.5286877751350403, 0.05607294291257858, 0.022429177537560463, 0.025633346289396286, 0.030439598485827446, 0.030439598485827446, 0.03364376723766327, 0.05286877602338791, 0.2916296720504761, 0.09079036861658096, 0.0625903308391571, 0.1939612478017807, 0.12105382978916168, 0.05020982772111893, 0.13549774885177612, 0.016507340595126152, 0.017195146530866623, 0.020634174346923828, 0.05294758453965187, 0.05294758453965187, 0.05294758453965187, 0.7942137718200684, 0.9411373138427734, 0.6928730607032776, 0.021880201995372772, 0.008335314691066742, 0.11044292151927948, 0.02292211540043354, 0.06147294491529465, 0.013544886372983456, 0.015628715977072716, 0.04167657345533371, 0.009377229027450085, 0.015570011921226978, 0.023355016484856606, 0.15570011734962463, 0.7006505131721497, 0.015570011921226978, 0.007785005960613489, 0.03892502933740616, 0.015570011921226978, 0.023355016484856606, 0.007785005960613489, 0.04080849140882492, 0.06121273711323738, 0.01020212285220623, 0.04080849140882492, 0.7549570798873901, 0.01020212285220623, 0.01020212285220623, 0.0510106161236763, 0.01020212285220623, 0.0889834612607956, 0.8008511066436768, 0.015171289443969727, 0.1763351559638977, 0.5061241984367371, 0.0422806441783905, 0.10769128799438477, 0.0174096766859293, 0.04128580540418625, 0.06217741593718529, 0.015917418524622917, 0.01541999913752079, 0.09246906638145447, 0.8322215676307678, 0.9353156685829163, 0.0346413217484951, 0.9084761142730713, 0.060565076768398285, 0.04469836503267288, 0.014899455942213535, 0.014899455942213535, 0.014899455942213535, 0.10429618507623672, 0.8045706152915955, 0.014899455942213535, 0.010044679045677185, 0.808596670627594, 0.030134037137031555, 0.05524573475122452, 0.04520105570554733, 0.0050223395228385925, 0.02008935809135437, 0.0050223395228385925, 0.015067018568515778, 0.0050223395228385925, 0.04569801688194275, 0.04569801688194275, 0.8225643038749695, 0.16802801191806793, 0.23128561675548553, 0.03558240085840225, 0.04546640068292618, 0.0276752021163702, 0.025698401033878326, 0.29652002453804016, 0.09884000569581985, 0.029652001336216927, 0.039536003023386, 0.014023884199559689, 0.3190128803253174, 0.16426236927509308, 0.038779087364673615, 0.02463325671851635, 0.04060829058289528, 0.32035428285598755, 0.022804055362939835, 0.018048129975795746, 0.03743767365813255, 0.19657370448112488, 0.12256012856960297, 0.10107231140136719, 0.1464354693889618, 0.136089488863945, 0.028650419786572456, 0.0620759092271328, 0.13927286863327026, 0.05491330474615097, 0.0127335200086236, 0.9342865943908691, 0.20142613351345062, 0.056093353778123856, 0.033146072179079056, 0.11218670755624771, 0.06374244391918182, 0.09943821281194687, 0.01019879151135683, 0.035695768892765045, 0.07394123822450638, 0.3161625266075134, 0.127459317445755, 0.4113459885120392, 0.059591371566057205, 0.24250377714633942, 0.038072265684604645, 0.02234676294028759, 0.026485053822398186, 0.0240020789206028, 0.03227866068482399, 0.015725500881671906, 0.36142125725746155, 0.06723552197217941, 0.08131371438503265, 0.24442660808563232, 0.027913663536310196, 0.04660368338227272, 0.039079129695892334, 0.023787295445799828, 0.06942006945610046, 0.039079129695892334, 0.9255133867263794, 0.08246931433677673, 0.8246931433677673, 0.01877906732261181, 0.01877906732261181, 0.01877906732261181, 0.8262789249420166, 0.01877906732261181, 0.01877906732261181, 0.05633720010519028, 0.01877906732261181, 0.01877906732261181, 0.0923842042684555, 0.01539736706763506, 0.01539736706763506, 0.8006631135940552, 0.01539736706763506, 0.03079473413527012, 0.01539736706763506, 0.01539736706763506, 0.01539736706763506, 0.8672143220901489, 0.20442575216293335, 0.16689932346343994, 0.07028430700302124, 0.20193780958652496, 0.05701529607176781, 0.06261315941810608, 0.049758803099393845, 0.07215026766061783, 0.09433440119028091, 0.020525505766272545, 0.01276053674519062, 0.77201247215271, 0.05104214698076248, 0.03828161209821701, 0.031901340931653976, 0.03828161209821701, 0.01276053674519062, 0.00638026837259531, 0.00638026837259531, 0.019140806049108505, 0.09690100699663162, 0.775208055973053, 0.06475947797298431, 0.08932341635227203, 0.09713921695947647, 0.21660928428173065, 0.3260304629802704, 0.02679702453315258, 0.027913566678762436, 0.01228196918964386, 0.09378958493471146, 0.04577824845910072, 0.3263474702835083, 0.08464638143777847, 0.024476060643792152, 0.05609097331762314, 0.2651573419570923, 0.09382490068674088, 0.019376881420612335, 0.07648769021034241, 0.016317375004291534, 0.03722400963306427, 0.7671894431114197, 0.8778549432754517, 0.05486593395471573, 0.18448753654956818, 0.10884220898151398, 0.07945480942726135, 0.12680117785930634, 0.22203810513019562, 0.047346360981464386, 0.05170004814863205, 0.04625793918967247, 0.034829504787921906, 0.09904640913009644, 0.010095791891217232, 0.0774010717868805, 0.010095791891217232, 0.020191583782434464, 0.020191583782434464, 0.8446812629699707, 0.003365264041349292, 0.006730528082698584, 0.003365264041349292, 0.11034481972455978, 0.030651338398456573, 0.030651338398456573, 0.5394635796546936, 0.030651338398456573, 0.030651338398456573, 0.14712642133235931, 0.02452106960117817, 0.030651338398456573, 0.012260534800589085, 0.2384936809539795, 0.05457058548927307, 0.05052832141518593, 0.25567328929901123, 0.18392308056354523, 0.05861285328865051, 0.02021132782101631, 0.08488757908344269, 0.024253593757748604, 0.028295859694480896, 0.04914489760994911, 0.10811877995729446, 0.03440142795443535, 0.12040500342845917, 0.03685867413878441, 0.15726368129253387, 0.3538432717323303, 0.029486939311027527, 0.0688028559088707, 0.04177316278219223, 0.8428812623023987, 0.012580317445099354, 0.012580317445099354, 0.037740953266620636, 0.012580317445099354, 0.025160634890198708, 0.012580317445099354, 0.012580317445099354, 0.025160634890198708, 0.012580317445099354, 0.1470731943845749, 0.14030008018016815, 0.20609597861766815, 0.08466384559869766, 0.17851975560188293, 0.04015485197305679, 0.038703471422195435, 0.02660863660275936, 0.03483312577009201, 0.10304798930883408, 0.9560661315917969, 0.0382426455616951, 0.9543861150741577, 0.8983645439147949, 0.0629706159234047, 0.8815885782241821, 0.28093379735946655, 0.08350173383951187, 0.01839868724346161, 0.18752507865428925, 0.12100674957036972, 0.029720956459641457, 0.047412000596523285, 0.19530914723873138, 0.022644538432359695, 0.013445194810628891, 0.7557368278503418, 0.026599431410431862, 0.00782336201518774, 0.06571624428033829, 0.05163419246673584, 0.03129344806075096, 0.010952707380056381, 0.023470086976885796, 0.017211398109793663, 0.00782336201518774, 0.03162648156285286, 0.03162648156285286, 0.7906619906425476, 0.03162648156285286, 0.03162648156285286, 0.03162648156285286, 0.03162648156285286, 0.10373347997665405, 0.23776081204414368, 0.07986559718847275, 0.07343963533639908, 0.1790091097354889, 0.10373347997665405, 0.04406378045678139, 0.03580182045698166, 0.060587696731090546, 0.082160584628582, 0.8664137125015259, 0.01974114216864109, 0.6604309678077698, 0.05563412979245186, 0.08614316582679749, 0.0520448312163353, 0.03589298576116562, 0.03230368718504906, 0.01974114216864109, 0.014357195235788822, 0.023330440744757652, 0.1315649449825287, 0.07270693778991699, 0.03116011805832386, 0.08655588328838348, 0.2388942390680313, 0.024235647171735764, 0.01038670539855957, 0.0034622352104634047, 0.06578247249126434, 0.33583682775497437, 0.13454382121562958, 0.037899669259786606, 0.030319735407829285, 0.09853913635015488, 0.5078555345535278, 0.03221471607685089, 0.05684950202703476, 0.02842475101351738, 0.04547960311174393, 0.026529768481850624, 0.03167200833559036, 0.823472261428833, 0.03167200833559036, 0.03167200833559036, 0.03167200833559036, 0.9042072296142578, 0.8767930269241333, 0.055466558784246445, 0.055466558784246445, 0.8319984078407288, 0.027733279392123222, 0.02841177210211754, 0.018941180780529976, 0.8523531556129456, 0.018941180780529976, 0.009470590390264988, 0.009470590390264988, 0.03788236156105995, 0.009470590390264988, 0.009470590390264988, 0.009470590390264988, 0.01150666456669569, 0.01150666456669569, 0.005753332283347845, 0.12081997841596603, 0.04027332365512848, 0.017259996384382248, 0.057533323764801025, 0.04602665826678276, 0.6616331934928894, 0.017259996384382248, 0.08733765780925751, 0.08733765780925751, 0.043668828904628754, 0.07192513346672058, 0.4675133526325226, 0.07706263661384583, 0.06678762286901474, 0.02568754553794861, 0.048806339502334595, 0.020550036802887917, 0.9050825834274292, 0.04309916868805885, 0.07211092114448547, 0.01272545661777258, 0.01272545661777258, 0.016967276111245155, 0.279960036277771, 0.01272545661777258, 0.016967276111245155, 0.5387110114097595, 0.016967276111245155, 0.021209094673395157, 0.8415549397468567, 0.3333896994590759, 0.11166740953922272, 0.07256365567445755, 0.1294051855802536, 0.1616557091474533, 0.05805092677474022, 0.04031314328312874, 0.01169081125408411, 0.04918203502893448, 0.031847383826971054, 0.24261614680290222, 0.012130807153880596, 0.024261614307761192, 0.6429327726364136, 0.012130807153880596, 0.024261614307761192, 0.012130807153880596, 0.012130807153880596, 0.012130807153880596, 0.06895767152309418, 0.11320550739765167, 0.108033686876297, 0.060337960720062256, 0.48557692766189575, 0.029307009652256966, 0.056315429508686066, 0.0201126541942358, 0.012067592702805996, 0.04654642567038536, 0.08719687908887863, 0.036714475601911545, 0.013767928816378117, 0.018357237800955772, 0.08260756731033325, 0.018357237800955772, 0.07801826298236847, 0.5002347230911255, 0.032125167548656464, 0.13308997452259064, 0.5364052653312683, 0.08134328573942184, 0.013813010416924953, 0.0514150932431221, 0.06062376871705055, 0.07750633358955383, 0.03606730327010155, 0.049880314618349075, 0.05218248441815376, 0.04067164286971092, 0.10343251377344131, 0.1051856130361557, 0.07012373954057693, 0.06486445665359497, 0.5224218964576721, 0.036814965307712555, 0.04207424446940422, 0.019284028559923172, 0.017530934885144234, 0.017530934885144234, 0.05396796017885208, 0.08866164833307266, 0.03083883412182331, 0.06938737630844116, 0.08095193654298782, 0.02312912605702877, 0.011564563028514385, 0.02698398008942604, 0.47414708137512207, 0.13877475261688232, 0.06024647504091263, 0.8032863140106201, 0.08032863587141037, 0.020082158967852592, 0.9254857301712036, 0.7003495693206787, 0.017351003363728523, 0.014196274802088737, 0.03627936914563179, 0.034702006727457047, 0.1356533020734787, 0.01261891145259142, 0.01261891145259142, 0.011041547171771526, 0.02523782290518284, 0.14958681166172028, 0.22941115498542786, 0.07378721237182617, 0.07848276197910309, 0.24551019072532654, 0.04427232965826988, 0.06372532248497009, 0.05768818408250809, 0.026160921901464462, 0.03219805657863617, 0.022390106692910194, 0.26868128776550293, 0.022390106692910194, 0.022390106692910194, 0.022390106692910194, 0.6493130922317505, 0.06509599089622498, 0.06840595602989197, 0.5108380317687988, 0.07281924039125443, 0.03640962019562721, 0.017653150483965874, 0.05295944958925247, 0.03640962019562721, 0.10922886431217194, 0.03089301288127899, 0.03478652611374855, 0.04174383357167244, 0.7792181968688965, 0.03478652611374855, 0.006957305129617453, 0.02087191678583622, 0.013914610259234905, 0.02782922051846981, 0.02782922051846981, 0.013914610259234905, 0.8727440237998962, 0.041559237986803055, 0.9363881945610046, 0.02563341148197651, 0.02563341148197651, 0.8459025621414185, 0.02563341148197651, 0.02563341148197651, 0.8403589129447937, 0.03361435607075691, 0.03361435607075691, 0.03361435607075691, 0.03361435607075691, 0.8767725229263306, 0.8667619824409485, 0.8578061461448669, 0.07798238098621368, 0.059911035001277924, 0.059911035001277924, 0.8387544751167297, 0.2217373251914978, 0.2590937912464142, 0.1176728755235672, 0.08004957437515259, 0.02668319270014763, 0.06804214417934418, 0.09926147758960724, 0.038690630346536636, 0.06590748578310013, 0.02241388149559498, 0.036789264529943466, 0.036789264529943466, 0.1103677898645401, 0.07357852905988693, 0.036789264529943466, 0.7357853055000305, 0.8910219073295593, 0.1502460390329361, 0.06296024471521378, 0.05151292681694031, 0.30764666199684143, 0.165986105799675, 0.024325549602508545, 0.0844239667057991, 0.08728579431772232, 0.01860189065337181, 0.045789267867803574, 0.04221649467945099, 0.04221649467945099, 0.8302577137947083, 0.02814432978630066, 0.01407216489315033, 0.01407216489315033, 0.01407216489315033, 0.01407216489315033, 0.01407216489315033, 0.01407216489315033, 0.8278997540473938, 0.04537481069564819, 0.027224885299801826, 0.027224885299801826, 0.036299847066402435, 0.18149924278259277, 0.018149923533201218, 0.04537481069564819, 0.6170974373817444, 0.009074961766600609, 0.059881072491407394, 0.059881072491407394, 0.8383349776268005, 0.033597592264413834, 0.033597592264413834, 0.033597592264413834, 0.033597592264413834, 0.033597592264413834, 0.8063421845436096, 0.033597592264413834, 0.8395981788635254, 0.02487698383629322, 0.01243849191814661, 0.037315476685762405, 0.01243849191814661, 0.03109622932970524, 0.006219245959073305, 0.01243849191814661, 0.018657738342881203, 0.006219245959073305, 0.06584488600492477, 0.010974148288369179, 0.010974148288369179, 0.0768190398812294, 0.8120869398117065, 0.010974148288369179, 0.6421811580657959, 0.05522317439317703, 0.01507626473903656, 0.13399241864681244, 0.025748228654265404, 0.040655095130205154, 0.02337668091058731, 0.012535321526229382, 0.04031630605459213, 0.01084135938435793, 0.02717168815433979, 0.02717168815433979, 0.7064638733863831, 0.10868675261735916, 0.02717168815433979, 0.05434337630867958, 0.02717168815433979, 0.042887527495622635, 0.14646495878696442, 0.1408005654811859, 0.1157154068350792, 0.16103053092956543, 0.020229965448379517, 0.2654171586036682, 0.05259791016578674, 0.014565574936568737, 0.03965073451399803, 0.02698090299963951, 0.05396180599927902, 0.05396180599927902, 0.02698090299963951, 0.02698090299963951, 0.8094270825386047, 0.0395120307803154, 0.2254510074853897, 0.5415472388267517, 0.041836269199848175, 0.013945423066616058, 0.022080253809690475, 0.013945423066616058, 0.010459067299962044, 0.07321347296237946, 0.01859389804303646, 0.029199471697211266, 0.032443854957818985, 0.09084279835224152, 0.6423883438110352, 0.04542139917612076, 0.009733157232403755, 0.07786525785923004, 0.025955084711313248, 0.02271069958806038, 0.02271069958806038, 0.8580772280693054, 0.07800702005624771, 0.8093846440315247, 0.035344306379556656, 0.007068861275911331, 0.05655089020729065, 0.017672153189778328, 0.021206583827733994, 0.021206583827733994, 0.010603291913866997, 0.007068861275911331, 0.014137722551822662, 0.7838518619537354, 0.03492409363389015, 0.01164136454463005, 0.062087275087833405, 0.0232827290892601, 0.015521818771958351, 0.007760909385979176, 0.0232827290892601, 0.0232827290892601, 0.01164136454463005, 0.2608446478843689, 0.18164272606372833, 0.0388895682990551, 0.09105850011110306, 0.07635634392499924, 0.03699251636862755, 0.03699251636862755, 0.10576064884662628, 0.16172368824481964, 0.009959523566067219, 0.03919798508286476, 0.5091655254364014, 0.11249005049467087, 0.052468135952949524, 0.03286914527416229, 0.041647858917713165, 0.09125781059265137, 0.037360578775405884, 0.02286549098789692, 0.06043022871017456, 0.07920639961957932, 0.06480523198843002, 0.0072005814872682095, 0.19081541895866394, 0.061204943805933, 0.036002907902002335, 0.5112413167953491, 0.028802325949072838, 0.0072005814872682095, 0.018001453951001167, 0.32966190576553345, 0.06205865368247032, 0.030041132122278214, 0.14862453937530518, 0.16364511847496033, 0.06601143628358841, 0.04150419682264328, 0.036760859191417694, 0.0335986353456974, 0.08775172382593155, 0.009656702168285847, 0.0675969123840332, 0.009656702168285847, 0.009656702168285847, 0.009656702168285847, 0.7918495535850525, 0.05794021114706993, 0.009656702168285847, 0.028970105573534966, 0.9435584545135498, 0.030437368899583817, 0.9438783526420593, 0.030447687953710556, 0.5847419500350952, 0.03259376809000969, 0.027729026973247528, 0.12745623290538788, 0.033080242574214935, 0.13134802877902985, 0.019458966329693794, 0.00875653512775898, 0.015080698765814304, 0.019458966329693794, 0.7794985175132751, 0.01664409600198269, 0.011096064001321793, 0.09709055721759796, 0.01387008000165224, 0.030514175072312355, 0.01387008000165224, 0.011096064001321793, 0.01664409600198269, 0.011096064001321793, 0.8372507691383362, 0.03488544747233391, 0.03488544747233391, 0.03488544747233391, 0.03488544747233391, 0.08630144596099854, 0.017260290682315826, 0.008630145341157913, 0.008630145341157913, 0.05178086832165718, 0.008630145341157913, 0.04315072298049927, 0.7421924471855164, 0.008630145341157913, 0.008630145341157913, 0.056178923696279526, 0.056178923696279526, 0.056178923696279526, 0.7865049242973328, 0.021315790712833405, 0.07993421703577042, 0.7940132021903992, 0.015986843034625053, 0.005328947678208351, 0.015986843034625053, 0.010657895356416702, 0.026644738391041756, 0.010657895356416702, 0.010657895356416702, 0.9510089755058289, 0.02717168629169464, 0.02238837257027626, 0.02238837257027626, 0.8955349326133728, 0.02238837257027626, 0.02238837257027626, 0.01898162253201008, 0.01898162253201008, 0.01898162253201008, 0.01898162253201008, 0.89213627576828, 0.01898162253201008, 0.01898162253201008, 0.8526825308799744, 0.012594291940331459, 0.012594291940331459, 0.9445719122886658, 0.025188583880662918, 0.01022962387651205, 0.0204592477530241, 0.9615846872329712, 0.01022962387651205, 0.020831648260354996, 0.020831648260354996, 0.020831648260354996, 0.8540975451469421, 0.020831648260354996, 0.020831648260354996, 0.020831648260354996, 0.020831648260354996, 0.7853423953056335, 0.04115177318453789, 0.11223210394382477, 0.018705351278185844, 0.04302230849862099, 0.005611605476588011, 0.028058025985956192, 0.7182855010032654, 0.014964280650019646, 0.013093745335936546, 0.005611605476588011, 0.11589182913303375, 0.0601746030151844, 0.06351763755083084, 0.03343033418059349, 0.39113491773605347, 0.04680246859788895, 0.09137625247240067, 0.11477748304605484, 0.03565902262926102, 0.04680246859788895, 0.8901437520980835, 0.04684966802597046, 0.09992797672748566, 0.221933051943779, 0.27422094345092773, 0.054611798375844955, 0.02323906309902668, 0.020915158092975616, 0.025562969967722893, 0.10108992457389832, 0.024401016533374786, 0.1545397788286209, 0.06597327440977097, 0.048380400985479355, 0.02199109084904194, 0.004398218356072903, 0.8532543778419495, 0.004398218356072903, 0.019456803798675537, 0.04280496761202812, 0.20624211430549622, 0.46307191252708435, 0.0739358514547348, 0.019456803798675537, 0.0661531314253807, 0.015565442852675915, 0.08560993522405624, 0.011674081906676292, 0.022905610501766205, 0.06871683150529861, 0.08398724347352982, 0.007635203655809164, 0.05344642698764801, 0.015270407311618328, 0.022905610501766205, 0.04581122100353241, 0.03817601874470711, 0.6413571238517761, 0.010566246695816517, 0.031698741018772125, 0.0052831233479082584, 0.13736121356487274, 0.14264433085918427, 0.015849370509386063, 0.0052831233479082584, 0.0052831233479082584, 0.6392579674720764, 0.010566246695816517, 0.8136495351791382, 0.09040550142526627, 0.05073928460478783, 0.010147856548428535, 0.010147856548428535, 0.8118285536766052, 0.08118285238742828, 0.010147856548428535, 0.030443569645285606, 0.8885704874992371, 0.05923803523182869, 0.05923803523182869, 0.05274749919772148, 0.07384650409221649, 0.021098999306559563, 0.06329700350761414, 0.021098999306559563, 0.14769300818443298, 0.021098999306559563, 0.11604449898004532, 0.010549499653279781, 0.4747275114059448, 0.0597543902695179, 0.8963158130645752, 0.15467840433120728, 0.03969622775912285, 0.06022875756025314, 0.03969622775912285, 0.23543968796730042, 0.08076129108667374, 0.03832739219069481, 0.30935680866241455, 0.023270200937986374, 0.017794860526919365, 0.048540130257606506, 0.21573391556739807, 0.09168691188097, 0.11865365505218506, 0.016180044040083885, 0.005393347702920437, 0.005393347702920437, 0.4961880147457123, 0.017883779481053352, 0.053651340305805206, 0.017883779481053352, 0.017883779481053352, 0.017883779481053352, 0.017883779481053352, 0.07153511792421341, 0.7690024971961975, 0.017883779481053352, 0.017883779481053352, 0.12593983113765717, 0.020989973098039627, 0.020989973098039627, 0.041979946196079254, 0.041979946196079254, 0.020989973098039627, 0.7136590480804443, 0.8536410331726074, 0.05337156727910042, 0.1977887600660324, 0.030348539352416992, 0.09941762685775757, 0.020930027589201927, 0.028255537152290344, 0.030348539352416992, 0.016744021326303482, 0.513832151889801, 0.009418511763215065, 0.014764766208827496, 0.07382383197546005, 0.08858859539031982, 0.05905906483530998, 0.014764766208827496, 0.007382383104413748, 0.007382383104413748, 0.036911915987730026, 0.007382383104413748, 0.6717968583106995, 0.05400874465703964, 0.8641399145126343, 0.05400874465703964, 0.03687592223286629, 0.023047450929880142, 0.023047450929880142, 0.07375184446573257, 0.3825877010822296, 0.013828471302986145, 0.07375184446573257, 0.004609490279108286, 0.023047450929880142, 0.3503212630748749, 0.4440796375274658, 0.028544055297970772, 0.040620386600494385, 0.2338416874408722, 0.10923590511083603, 0.03952253609895706, 0.03183760121464729, 0.017565572634339333, 0.03348437324166298, 0.020859116688370705, 0.9379308819770813, 0.004910632967948914, 0.009821265935897827, 0.01473189890384674, 0.019642531871795654, 0.009821265935897827, 0.056566499173641205, 0.9050639867782593, 0.035560473799705505, 0.07112094759941101, 0.07112094759941101, 0.035560473799705505, 0.035560473799705505, 0.7823303937911987, 0.655512273311615, 0.04281285032629967, 0.01284385472536087, 0.06564637273550034, 0.08610139787197113, 0.06754916161298752, 0.014746648259460926, 0.016649441793560982, 0.017600838094949722, 0.019503630697727203, 0.06615128368139267, 0.8599666953086853, 0.18224593997001648, 0.15321561694145203, 0.017740754410624504, 0.11128291487693787, 0.046771079301834106, 0.05160946771502495, 0.025804733857512474, 0.31610798835754395, 0.05967344716191292, 0.03548150882124901, 0.9356095194816589, 0.03465220332145691, 0.022343602031469345, 0.4712584912776947, 0.1977728009223938, 0.04621933773159981, 0.030004264786839485, 0.0471130795776844, 0.09154492616653442, 0.028982844203710556, 0.027323033660650253, 0.037154216319322586, 0.9399718642234802, 0.010142744518816471, 0.10142745077610016, 0.010142744518816471, 0.04733280837535858, 0.010142744518816471, 0.02366640418767929, 0.7438012957572937, 0.00676182983443141, 0.010142744518816471, 0.03380914777517319, 0.07826021313667297, 0.3130408525466919, 0.043178047984838486, 0.05127393454313278, 0.008095884695649147, 0.09175335615873337, 0.3373285233974457, 0.016191769391298294, 0.02698628045618534, 0.03508216515183449, 0.0597313717007637, 0.0597313717007637, 0.836239218711853, 0.21225909888744354, 0.08490363508462906, 0.07758435606956482, 0.3293675482273102, 0.060018088668584824, 0.10832533240318298, 0.0278132613748312, 0.026349404826760292, 0.058554232120513916, 0.016102414578199387, 0.9043547511100769, 0.06624916940927505, 0.8612391948699951, 0.8942575454711914, 0.05589109659194946, 0.31169837713241577, 0.09380496293306351, 0.11670223623514175, 0.07386217266321182, 0.048010412603616714, 0.2223251461982727, 0.045055925846099854, 0.02806762605905533, 0.019204165786504745, 0.04210143908858299, 0.0074104261584579945, 0.04446255788207054, 0.0074104261584579945, 0.014820852316915989, 0.0074104261584579945, 0.0074104261584579945, 0.8670198321342468, 0.02223127894103527, 0.02223127894103527, 0.05055655539035797, 0.8594614267349243, 0.05055655539035797, 0.059228867292404175, 0.8292041420936584, 0.15686045587062836, 0.01493909116834402, 0.01493909116834402, 0.00746954558417201, 0.00746954558417201, 0.00746954558417201, 0.10457363724708557, 0.6498504877090454, 0.022408636286854744, 0.00746954558417201, 0.8318740725517273, 0.025996064767241478, 0.012998032383620739, 0.025996064767241478, 0.012998032383620739, 0.03899409621953964, 0.012998032383620739, 0.012998032383620739, 0.012998032383620739, 0.012998032383620739, 0.07103901356458664, 0.78142911195755, 0.10548223555088043, 0.18326206505298615, 0.17047634720802307, 0.11507153511047363, 0.07777982950210571, 0.04368456453084946, 0.05647028982639313, 0.08097626268863678, 0.017047634348273277, 0.15023228526115417, 0.08423362672328949, 0.03828801214694977, 0.01148640364408493, 0.026801610365509987, 0.6164370179176331, 0.042116813361644745, 0.015315205790102482, 0.019144006073474884, 0.13400804996490479, 0.01148640364408493, 0.21555843949317932, 0.3816069960594177, 0.027420861646533012, 0.07464568316936493, 0.07464568316936493, 0.026659172028303146, 0.030467623844742775, 0.12796401977539062, 0.01904226467013359, 0.021327337250113487, 0.046846408396959305, 0.07495425641536713, 0.7589118480682373, 0.023423204198479652, 0.01873856410384178, 0.014053923077881336, 0.01873856410384178, 0.00936928205192089, 0.023423204198479652, 0.01873856410384178, 0.032096367329359055, 0.3988322615623474, 0.21071963012218475, 0.05944805592298508, 0.08121776580810547, 0.04046933352947235, 0.03907383978366852, 0.03572465106844902, 0.028188982978463173, 0.0742402970790863, 0.8305489420890808, 0.13158917427062988, 0.44897565245628357, 0.07903626561164856, 0.06786360591650009, 0.05089770257472992, 0.02813856676220894, 0.0744844451546669, 0.06041515991091728, 0.04344925656914711, 0.01489688828587532, 0.03048822097480297, 0.04065096005797386, 0.8536701798439026, 0.02032548002898693, 0.010162740014493465, 0.010162740014493465, 0.010162740014493465, 0.010162740014493465, 0.010162740014493465, 0.010162740014493465, 0.7764266133308411, 0.059919800609350204, 0.059919800609350204, 0.059919800609350204, 0.8388772010803223, 0.03861651569604874, 0.04869038984179497, 0.6497648358345032, 0.09738077968358994, 0.010073873214423656, 0.02350570447742939, 0.0721960961818695, 0.02518468350172043, 0.011752852238714695, 0.02350570447742939, 0.17009499669075012, 0.22299039363861084, 0.07130506634712219, 0.14235083758831024, 0.09334481507539749, 0.03526359796524048, 0.13094203174114227, 0.05185823142528534, 0.028003444895148277, 0.05419185012578964, 0.8724878430366516, 0.048409201204776764, 0.9197748303413391, 0.008864019997417927, 0.03545607998967171, 0.824353814125061, 0.017728039994835854, 0.008864019997417927, 0.008864019997417927, 0.017728039994835854, 0.062048137187957764, 0.008864019997417927, 0.008864019997417927, 0.8857017159461975, 0.04025917127728462, 0.06022261455655098, 0.8029682040214539, 0.0802968218922615, 0.020074205473065376, 0.05658651143312454, 0.004041893873363733, 0.004041893873363733, 0.004041893873363733, 0.8245463371276855, 0.06467030197381973, 0.004041893873363733, 0.03637704253196716, 0.8235825300216675, 0.08231836557388306, 0.04115918278694153, 0.020579591393470764, 0.020579591393470764, 0.020579591393470764, 0.7614448666572571, 0.18916526436805725, 0.260917603969574, 0.05717165023088455, 0.2025948464870453, 0.05141611397266388, 0.02992878295481205, 0.01918511837720871, 0.05295092612504959, 0.08057749271392822, 0.05563684180378914, 0.024162955582141876, 0.024162955582141876, 0.8457034230232239, 0.024162955582141876, 0.024162955582141876, 0.024162955582141876, 0.28198179602622986, 0.07250960916280746, 0.016113245859742165, 0.03222649171948433, 0.008056622929871082, 0.5236805081367493, 0.02416986972093582, 0.008056622929871082, 0.008056622929871082, 0.016113245859742165, 0.8911917209625244, 0.0857381597161293, 0.11530303955078125, 0.05026029795408249, 0.03843434527516365, 0.08278166502714157, 0.023651905357837677, 0.07391220331192017, 0.37843048572540283, 0.014782440848648548, 0.13895493745803833, 0.01145876757800579, 0.03437630459666252, 0.8021137714385986, 0.04583507031202316, 0.01145876757800579, 0.01145876757800579, 0.04583507031202316, 0.01145876757800579, 0.02291753515601158, 0.01145876757800579, 0.8961015939712524, 0.03533164784312248, 0.01766582392156124, 0.03533164784312248, 0.812627911567688, 0.01766582392156124, 0.05299747362732887, 0.031135492026805878, 0.012454196810722351, 0.03736259043216705, 0.8904750347137451, 0.0062270984053611755, 0.0062270984053611755, 0.0062270984053611755, 0.0062270984053611755, 0.0062270984053611755, 0.8555028438568115, 0.044154323637485504, 0.06623148918151855, 0.044154323637485504, 0.022077161818742752, 0.7947778105735779, 0.19993071258068085, 0.017640944570302963, 0.06272336095571518, 0.1891501247882843, 0.3214572072029114, 0.02058110199868679, 0.03234173357486725, 0.09898529946804047, 0.03332178294658661, 0.025481363758444786, 0.14251340925693512, 0.023752233013510704, 0.011876116506755352, 0.04750446602702141, 0.03562835231423378, 0.03562835231423378, 0.023752233013510704, 0.6769386529922485, 0.03457148000597954, 0.03457148000597954, 0.8642870187759399, 0.012316668406128883, 0.012316668406128883, 0.1108500137925148, 0.012316668406128883, 0.024633336812257767, 0.024633336812257767, 0.012316668406128883, 0.8005834221839905, 0.012316668406128883, 0.840577244758606, 0.9372385740280151, 0.10595351457595825, 0.12646064162254333, 0.003417855128645897, 0.01025356538593769, 0.02392498590052128, 0.017089275643229485, 0.12987850606441498, 0.4648283123970032, 0.04784997180104256, 0.06493925303220749, 0.8612916469573975, 0.04784953594207764, 0.04784953594207764, 0.862460732460022, 0.04791448265314102, 0.04791448265314102, 0.103639617562294, 0.2717527151107788, 0.11689584702253342, 0.0741143748164177, 0.21511246263980865, 0.05724281072616577, 0.06387092918157578, 0.04880702868103981, 0.027717571705579758, 0.02229456789791584, 0.8226847648620605, 0.056598540395498276, 0.8112457394599915, 0.07546471804380417, 0.037732359021902084, 0.40778717398643494, 0.02965724840760231, 0.04036680981516838, 0.32293447852134705, 0.03295249864459038, 0.06508118659257889, 0.031304873526096344, 0.014004811644554138, 0.042014434933662415, 0.013180999085307121, 0.1074165478348732, 0.09548137336969376, 0.02983793057501316, 0.01193517167121172, 0.1312868893146515, 0.01193517167121172, 0.041773103177547455, 0.5311151742935181, 0.017902757972478867, 0.02387034334242344, 0.2746812105178833, 0.09156040102243423, 0.03029065951704979, 0.09706779569387436, 0.16797547042369843, 0.14732274413108826, 0.02891381084918976, 0.02891381084918976, 0.09844464063644409, 0.03510962799191475, 0.04498368501663208, 0.04498368501663208, 0.8546900153160095, 0.05343583598732948, 0.022901073098182678, 0.007633690722286701, 0.015267381444573402, 0.7710027694702148, 0.022901073098182678, 0.015267381444573402, 0.022901073098182678, 0.030534762889146805, 0.03816845640540123, 0.08156298100948334, 0.032625194638967514, 0.09787558019161224, 0.7340668439865112, 0.032625194638967514, 0.0730980783700943, 0.8771769404411316, 0.015601743012666702, 0.6615138649940491, 0.012481394223868847, 0.09361045807600021, 0.015601743012666702, 0.05616627261042595, 0.024962788447737694, 0.009361045435070992, 0.031203486025333405, 0.07176801562309265, 0.05511896684765816, 0.8267844915390015, 0.07349195331335068, 0.03674597665667534, 0.14593999087810516, 0.06063704192638397, 0.43576449155807495, 0.044193096458911896, 0.0503595769405365, 0.03802661970257759, 0.0503595769405365, 0.06988675892353058, 0.0472763366997242, 0.05858154967427254, 0.0580524243414402, 0.0387016162276268, 0.0193508081138134, 0.8611109256744385, 0.0096754040569067, 0.8850757479667664, 0.07176289707422256, 0.03588144853711128, 0.11134214699268341, 0.29238271713256836, 0.09731478989124298, 0.12273937463760376, 0.10169833898544312, 0.025862939655780792, 0.1012599840760231, 0.06180804222822189, 0.0425204262137413, 0.0425204262137413, 0.013846565037965775, 0.2769312858581543, 0.16962042450904846, 0.041539695113897324, 0.0034616412594914436, 0.013846565037965775, 0.4188585877418518, 0.0034616412594914436, 0.020769847556948662, 0.041539695113897324, 0.16529697179794312, 0.04132424294948578, 0.013774747960269451, 0.013774747960269451, 0.7438364028930664, 0.07776561379432678, 0.05589403584599495, 0.0789806991815567, 0.07655052840709686, 0.19198386371135712, 0.035237543284893036, 0.10935789346694946, 0.034022457897663116, 0.3074171841144562, 0.03159227967262268, 0.050095491111278534, 0.050095491111278534, 0.050095491111278534, 0.8516233563423157, 0.23340877890586853, 0.2480175793170929, 0.0534549281001091, 0.09064096212387085, 0.10192958265542984, 0.03220576420426369, 0.08532866835594177, 0.07271198183298111, 0.051794834434986115, 0.03054567240178585, 0.14105351269245148, 0.07693827897310257, 0.06411523371934891, 0.025646092370152473, 0.025646092370152473, 0.6283292770385742, 0.012823046185076237, 0.8232607245445251, 0.135767862200737, 0.8146072030067444, 0.08994711190462112, 0.01219621766358614, 0.042686764150857925, 0.003049054415896535, 0.009147163480520248, 0.007622636388987303, 0.06403014808893204, 0.7241504788398743, 0.04116223752498627, 0.004573581740260124, 0.8661352396011353, 0.13546524941921234, 0.22565563023090363, 0.09737686812877655, 0.21918779611587524, 0.09486160427331924, 0.02982391230762005, 0.06683430820703506, 0.06719363480806351, 0.024434048682451248, 0.03952566906809807, 0.06787187606096268, 0.03393593803048134, 0.03393593803048134, 0.10180781781673431, 0.03393593803048134, 0.712654709815979, 0.026874270290136337, 0.026874270290136337, 0.08062281459569931, 0.8331024050712585, 0.904545783996582, 0.06030305102467537, 0.90643310546875, 0.08919406682252884, 0.802746593952179, 0.02452273853123188, 0.07133887708187103, 0.5952337384223938, 0.12038435786962509, 0.04904547706246376, 0.015605379827320576, 0.03121075965464115, 0.011146700009703636, 0.022293400019407272, 0.060192178934812546, 0.039754170924425125, 0.1776113659143448, 0.27122601866722107, 0.11798011511564255, 0.0750199630856514, 0.06796680390834808, 0.06091364845633507, 0.06347843259572983, 0.028853831812739372, 0.09810303151607513, 0.030136162415146828, 0.060272324830293655, 0.7299647927284241, 0.04018155112862587, 0.04018155112862587, 0.013393850065767765, 0.023439237847924232, 0.013393850065767765, 0.023439237847924232, 0.023439237847924232, 0.0301979873329401, 0.06863179057836533, 0.6808273196220398, 0.07961287349462509, 0.035688530653715134, 0.013726357370615005, 0.02196217142045498, 0.01098108571022749, 0.02470744401216507, 0.0301979873329401, 0.02393834851682186, 0.26332181692123413, 0.004787669517099857, 0.02154451236128807, 0.46679776906967163, 0.02154451236128807, 0.033513687551021576, 0.026332182809710503, 0.004787669517099857, 0.1340547502040863, 0.3675561845302582, 0.1629573106765747, 0.03719979524612427, 0.08772488683462143, 0.0821726843714714, 0.06523844599723816, 0.026095379143953323, 0.06579366326332092, 0.07412198185920715, 0.031092366203665733, 0.8998017907142639, 0.056237611919641495, 0.0649469867348671, 0.02164899744093418, 0.08659598976373672, 0.8010128736495972, 0.008143735118210316, 0.02443120628595352, 0.008143735118210316, 0.057006146758794785, 0.6922174692153931, 0.01628747023642063, 0.14658723771572113, 0.01628747023642063, 0.02443120628595352, 0.01628747023642063], \"Term\": [\" \", \" \", \" \", \" \", \" \", \" \", \" \", \" \", \" \", \" \", \"absulte\", \"abu\", \"abu\", \"abu\", \"abu\", \"abu\", \"abu\", \"abu\", \"abu\", \"abu\", \"abu\", \"accum\", \"accum\", \"accum\", \"accurate\", \"accurate\", \"accurate\", \"accurate\", \"accurate\", \"accurate\", \"accurate\", \"accurate\", \"accurate\", \"accurate\", \"active\", \"active\", \"active\", \"active\", \"active\", \"active\", \"active\", \"active\", \"active\", \"active\", \"address\", \"address\", \"address\", \"address\", \"address\", \"address\", \"address\", \"address\", \"address\", \"address\", \"adjustable\", \"adjustable\", \"admin\", \"admin\", \"admin\", \"admin\", \"admin\", \"admin\", \"admin\", \"admin\", \"admin\", \"admin\", \"admired\", \"aeco\", \"aftertax\", \"aftertax\", \"aftertax\", \"aftertax\", \"aftertax\", \"aftertax\", \"aftertax\", \"aftertax\", \"afx\", \"afx\", \"afx\", \"afx\", \"afx\", \"afx\", \"afx\", \"afx\", \"afx\", \"afx\", \"algebraic\", \"algebraic\", \"algebraic\", \"allen\", \"allen\", \"allen\", \"allen\", \"allen\", \"allen\", \"allen\", \"allen\", \"allen\", \"allen\", \"allenhouect\", \"allenhouect\", \"allenhouect\", \"allenhouect\", \"allenhouect\", \"allenhouect\", \"allenhouect\", \"allenhouect\", \"allenhouect\", \"allenhouect\", \"allenhouectect\", \"allenhouectect\", \"allenhouectect\", \"allenhouectect\", \"allenhouectect\", \"allenhouectect\", \"allenhouectect\", \"allenhouectect\", \"allenhouectect\", \"allenhouectect\", \"alpert\", \"alpert\", \"alpert\", \"alpert\", \"alpert\", \"amc\", \"amenity\", \"amenity\", \"amunsonbmccom\", \"amunsonbmccom\", \"amunsonbmccom\", \"amunsonbmccom\", \"andor\", \"andor\", \"andor\", \"andor\", \"andor\", \"andor\", \"andor\", \"andor\", \"andor\", \"andor\", \"apoct\", \"appendix\", \"appendix\", \"appendix\", \"appendix\", \"appendix\", \"appendix\", \"appendix\", \"appendix\", \"appendix\", \"appraisal\", \"appraisal\", \"appraisal\", \"appraisal\", \"appraisal\", \"appraisal\", \"appraisal\", \"appraisal\", \"appraisal\", \"appraise\", \"appraise\", \"appraise\", \"appraise\", \"appraise\", \"appraise\", \"appraise\", \"appraise\", \"approval\", \"approval\", \"approval\", \"approval\", \"approval\", \"approval\", \"approval\", \"approval\", \"approval\", \"approval\", \"arabia\", \"arabia\", \"arabia\", \"arabia\", \"arabia\", \"arabia\", \"arabia\", \"arabia\", \"arabia\", \"arabia\", \"arbitration\", \"arbitration\", \"arbitration\", \"arbitration\", \"arbitration\", \"arbitration\", \"arbitration\", \"arbitration\", \"arbitration\", \"arbitration\", \"arcade\", \"arcade\", \"ardmore\", \"ardmore\", \"ardmore\", \"arnold\", \"arnold\", \"arnold\", \"arnold\", \"arnold\", \"arnold\", \"arnold\", \"arnold\", \"arnold\", \"arnold\", \"arnoldect\", \"arnoldect\", \"arnoldect\", \"arnoldect\", \"arnoldect\", \"arnoldect\", \"arnoldect\", \"arnoldect\", \"arnoldhouectect\", \"arnoldhouectect\", \"arnoldhouectect\", \"arnoldhouectect\", \"arnoldhouectect\", \"arnoldhouectect\", \"arnoldhouectect\", \"arnoldhouectect\", \"arnoldhouectect\", \"arnoldhouectect\", \"arredondo\", \"asset\", \"asset\", \"asset\", \"asset\", \"asset\", \"asset\", \"asset\", \"asset\", \"asset\", \"asset\", \"assignmentsample\", \"assistantschedule\", \"associated\", \"associated\", \"associated\", \"associated\", \"associated\", \"associated\", \"associated\", \"associated\", \"associated\", \"associated\", \"attach\", \"attach\", \"attach\", \"attach\", \"attach\", \"attach\", \"attach\", \"attach\", \"attach\", \"attach\", \"author\", \"author\", \"author\", \"author\", \"author\", \"author\", \"author\", \"author\", \"author\", \"author\", \"autowebcom\", \"autowebcom\", \"autowebcom\", \"autowebcom\", \"autowebcom\", \"autowebcom\", \"avaya\", \"avaya\", \"avaya\", \"avaya\", \"avaya\", \"avaya\", \"avaya\", \"avaya\", \"avaya\", \"avaya\", \"avertir\", \"avertir\", \"avertir\", \"avertir\", \"awake\", \"awake\", \"awake\", \"baa\", \"baa\", \"baa\", \"baa\", \"baa\", \"baa\", \"backout\", \"backout\", \"backout\", \"backout\", \"backout\", \"backout\", \"backout\", \"base\", \"base\", \"base\", \"base\", \"base\", \"base\", \"base\", \"base\", \"base\", \"base\", \"baughman\", \"baughman\", \"baughman\", \"baughman\", \"baughman\", \"baughman\", \"baughman\", \"baughman\", \"baughman\", \"baughman\", \"bawahouectect\", \"bawahouectect\", \"be\", \"be\", \"be\", \"be\", \"be\", \"be\", \"be\", \"be\", \"be\", \"be\", \"bilateral\", \"bilateral\", \"bilateral\", \"bilateral\", \"bilateral\", \"bilateral\", \"bilateral\", \"bilateral\", \"bilateral\", \"billion\", \"billion\", \"billion\", \"billion\", \"billion\", \"billion\", \"billion\", \"billion\", \"billion\", \"billion\", \"bmc\", \"bmc\", \"bmc\", \"bmc\", \"bmc\", \"bmc\", \"bmc\", \"bmc\", \"bmc\", \"bmc\", \"bnp\", \"bnp\", \"bnp\", \"bnp\", \"bnp\", \"bnp\", \"bnp\", \"bobl\", \"boettcher\", \"boxter\", \"brawner\", \"brawner\", \"brawner\", \"brawner\", \"brawner\", \"brawner\", \"brawner\", \"brianhoskinsenronnet\", \"brianhoskinsenronnet\", \"brut\", \"brut\", \"brut\", \"buckley\", \"buckley\", \"buckley\", \"buckley\", \"buckley\", \"buckley\", \"buckley\", \"builder\", \"builder\", \"builder\", \"builder\", \"builder\", \"builder\", \"builder\", \"builder\", \"builder\", \"builder\", \"bund\", \"burnshouectect\", \"burnshouectect\", \"burnshouectect\", \"business\", \"business\", \"business\", \"business\", \"business\", \"business\", \"business\", \"business\", \"business\", \"business\", \"businesswire\", \"businesswire\", \"businesswire\", \"businesswire\", \"businesswire\", \"businesswire\", \"businesswire\", \"businesswire\", \"businesswire\", \"businesswire\", \"buy\", \"buy\", \"buy\", \"buy\", \"buy\", \"buy\", \"buy\", \"buy\", \"buy\", \"buy\", \"buycom\", \"buycom\", \"buycom\", \"buycom\", \"buycom\", \"buycom\", \"buycom\", \"buycom\", \"buycom\", \"cabernet\", \"cabernet\", \"cabernet\", \"cabernet\", \"cabernet\", \"cabernet\", \"cabernet\", \"california\", \"california\", \"california\", \"california\", \"california\", \"california\", \"california\", \"california\", \"california\", \"california\", \"candlestick\", \"candlestick\", \"candlestick\", \"candlestick\", \"candlestick\", \"cap\", \"cap\", \"cap\", \"cap\", \"cap\", \"cap\", \"cap\", \"cap\", \"cap\", \"cap\", \"car\", \"car\", \"car\", \"car\", \"car\", \"car\", \"car\", \"car\", \"car\", \"car\", \"carlstrom\", \"carlstrom\", \"carlstrom\", \"carr\", \"carr\", \"carr\", \"carr\", \"carr\", \"carr\", \"carr\", \"carr\", \"carr\", \"carr\", \"cashiola\", \"cashiola\", \"cashiola\", \"cashiola\", \"cashiola\", \"cashiola\", \"cashiola\", \"cashiola\", \"cb\", \"cb\", \"cb\", \"cb\", \"cb\", \"cb\", \"cb\", \"cb\", \"cb\", \"cb\", \"cc\", \"cc\", \"cc\", \"cc\", \"cc\", \"cc\", \"cc\", \"cc\", \"cc\", \"cc\", \"ce\", \"ce\", \"ce\", \"ce\", \"ce\", \"ce\", \"ce\", \"ce\", \"ce\", \"ce\", \"cent\", \"cent\", \"cent\", \"cent\", \"cent\", \"cent\", \"cent\", \"cent\", \"cent\", \"cent\", \"central\", \"central\", \"central\", \"central\", \"central\", \"central\", \"central\", \"central\", \"central\", \"central\", \"cftcngdoc\", \"chairperson\", \"chairperson\", \"chardonnay\", \"chardonnay\", \"chardonnay\", \"chardonnay\", \"chardonnay\", \"chardonnay\", \"charsetusascii\", \"charsetusascii\", \"charsetusascii\", \"charsetusascii\", \"charsetusascii\", \"charsetusascii\", \"charsetusascii\", \"charsetusascii\", \"charsetusascii\", \"charsetusascii\", \"chart\", \"chart\", \"chart\", \"chart\", \"chart\", \"chart\", \"chart\", \"chart\", \"chart\", \"chart\", \"cheney\", \"cheney\", \"cheney\", \"cheney\", \"cheney\", \"cheney\", \"cheney\", \"cheney\", \"chg\", \"chg\", \"chg\", \"chg\", \"chicago\", \"chicago\", \"chicago\", \"chicago\", \"chicago\", \"chicago\", \"chicago\", \"chicago\", \"chicago\", \"chicago\", \"chief\", \"chief\", \"chief\", \"chief\", \"chief\", \"chief\", \"chief\", \"chief\", \"chief\", \"chief\", \"chris\", \"chris\", \"chris\", \"chris\", \"chris\", \"chris\", \"chris\", \"chris\", \"chris\", \"chris\", \"christi\", \"christi\", \"christi\", \"christi\", \"christi\", \"christi\", \"christi\", \"christi\", \"christi\", \"cicchetti\", \"cicchetti\", \"cicchetti\", \"cicchetti\", \"click\", \"click\", \"click\", \"click\", \"click\", \"click\", \"click\", \"click\", \"click\", \"click\", \"client\", \"client\", \"client\", \"client\", \"client\", \"client\", \"client\", \"client\", \"client\", \"client\", \"cmr\", \"cmr\", \"cmr\", \"cmr\", \"cmr\", \"cmr\", \"cmr\", \"cmr\", \"cmr\", \"cmr\", \"coin\", \"coin\", \"coin\", \"coin\", \"colleen\", \"colleen\", \"colleen\", \"colleen\", \"colleen\", \"colleen\", \"colleen\", \"colleen\", \"colleen\", \"colleen\", \"commission\", \"commission\", \"commission\", \"commission\", \"commission\", \"commission\", \"commission\", \"commission\", \"commission\", \"commission\", \"communications\", \"communications\", \"communications\", \"communications\", \"communications\", \"communications\", \"communications\", \"communications\", \"communications\", \"communications\", \"communicationsenron\", \"communicationsenron\", \"communicationsenron\", \"communicationsenron\", \"communicationsenron\", \"communicationsenron\", \"communicationsenron\", \"communicationsenron\", \"communicationsenron\", \"communicationsenron\", \"company\", \"company\", \"company\", \"company\", \"company\", \"company\", \"company\", \"company\", \"company\", \"company\", \"companys\", \"companys\", \"companys\", \"companys\", \"companys\", \"companys\", \"companys\", \"companys\", \"companys\", \"companys\", \"compaq\", \"compaq\", \"compaq\", \"compaq\", \"compaq\", \"compaq\", \"compaq\", \"compaq\", \"compaq\", \"compaq\", \"complaint\", \"complaint\", \"complaint\", \"complaint\", \"complaint\", \"complaint\", \"complaint\", \"complaint\", \"complaint\", \"complaint\", \"concordjpg\", \"confebc\", \"confebc\", \"confebc\", \"conference\", \"conference\", \"conference\", \"conference\", \"conference\", \"conference\", \"conference\", \"conference\", \"conference\", \"conference\", \"congestion\", \"congestion\", \"congestion\", \"congestion\", \"congestion\", \"congestion\", \"congestion\", \"congestion\", \"congestion\", \"congestion\", \"consent\", \"consent\", \"consent\", \"consent\", \"consent\", \"consent\", \"consent\", \"consent\", \"consent\", \"construction\", \"construction\", \"construction\", \"construction\", \"construction\", \"construction\", \"construction\", \"construction\", \"construction\", \"construction\", \"contact\", \"contact\", \"contact\", \"contact\", \"contact\", \"contact\", \"contact\", \"contact\", \"contact\", \"contact\", \"contain\", \"contain\", \"contain\", \"contain\", \"contain\", \"contain\", \"contain\", \"contain\", \"contain\", \"contain\", \"contenttransferencoding\", \"contenttransferencoding\", \"contenttransferencoding\", \"contenttransferencoding\", \"contenttransferencoding\", \"contenttransferencoding\", \"contenttransferencoding\", \"contenttransferencoding\", \"contenttransferencoding\", \"contenttransferencoding\", \"contenttype\", \"contenttype\", \"contenttype\", \"contenttype\", \"contenttype\", \"contenttype\", \"contenttype\", \"contenttype\", \"contenttype\", \"contenttype\", \"continental\", \"continental\", \"continental\", \"continental\", \"continental\", \"continental\", \"continental\", \"continental\", \"continental\", \"continental\", \"continentalcom\", \"continentalcom\", \"continentalcom\", \"continentalcom\", \"continentalcom\", \"continentalcom\", \"continentalcom\", \"continentalcom\", \"continentalcom\", \"continentalcom\", \"contract\", \"contract\", \"contract\", \"contract\", \"contract\", \"contract\", \"contract\", \"contract\", \"contract\", \"contract\", \"copyright\", \"copyright\", \"copyright\", \"copyright\", \"copyright\", \"copyright\", \"copyright\", \"copyright\", \"copyright\", \"copyright\", \"corestaff\", \"corestaff\", \"corestaff\", \"corestaff\", \"corestaff\", \"corestaff\", \"corestaff\", \"corestaff\", \"corp\", \"corp\", \"corp\", \"corp\", \"corp\", \"corp\", \"corp\", \"corp\", \"corp\", \"corp\", \"cost\", \"cost\", \"cost\", \"cost\", \"cost\", \"cost\", \"cost\", \"cost\", \"cost\", \"cost\", \"coverage\", \"coverage\", \"coverage\", \"coverage\", \"coverage\", \"coverage\", \"coverage\", \"coverage\", \"coverage\", \"coverage\", \"cpr\", \"cpr\", \"cpr\", \"cpr\", \"cpt\", \"credit\", \"credit\", \"credit\", \"credit\", \"credit\", \"credit\", \"credit\", \"credit\", \"credit\", \"credit\", \"creekside\", \"creekside\", \"creekside\", \"creekside\", \"creekside\", \"creekside\", \"creekside\", \"creekside\", \"creekside\", \"creekside\", \"criminal\", \"crude\", \"crude\", \"crude\", \"crude\", \"crude\", \"crude\", \"crude\", \"crude\", \"crude\", \"crude\", \"crudepdf\", \"ct\", \"ct\", \"ct\", \"ct\", \"ct\", \"ct\", \"ct\", \"ct\", \"ct\", \"ct\", \"cup\", \"cup\", \"cup\", \"cup\", \"cup\", \"cup\", \"cup\", \"cup\", \"cup\", \"cup\", \"curve\", \"curve\", \"curve\", \"curve\", \"curve\", \"curve\", \"curve\", \"curve\", \"curve\", \"curve\", \"customer\", \"customer\", \"customer\", \"customer\", \"customer\", \"customer\", \"customer\", \"customer\", \"customer\", \"customer\", \"dabhol\", \"dabhol\", \"dabhol\", \"dabhol\", \"dabhol\", \"dabhol\", \"dabhol\", \"dabhol\", \"dabhol\", \"dabhol\", \"daman\", \"dame\", \"dame\", \"daniel\", \"daniel\", \"daniel\", \"daniel\", \"daniel\", \"daniel\", \"daniel\", \"daniel\", \"daniel\", \"daniel\", \"dans\", \"dans\", \"dans\", \"dans\", \"datacom\", \"datacom\", \"datacom\", \"date\", \"date\", \"date\", \"date\", \"date\", \"date\", \"date\", \"date\", \"date\", \"date\", \"david\", \"david\", \"david\", \"david\", \"david\", \"david\", \"david\", \"david\", \"david\", \"david\", \"day\", \"day\", \"day\", \"day\", \"day\", \"day\", \"day\", \"day\", \"day\", \"day\", \"de\", \"de\", \"de\", \"de\", \"de\", \"de\", \"de\", \"de\", \"de\", \"de\", \"deal\", \"deal\", \"deal\", \"deal\", \"deal\", \"deal\", \"deal\", \"deal\", \"deal\", \"deal\", \"debra\", \"debra\", \"debra\", \"debra\", \"debra\", \"debra\", \"debra\", \"debra\", \"debra\", \"debra\", \"debt\", \"debt\", \"debt\", \"debt\", \"debt\", \"debt\", \"debt\", \"debt\", \"debt\", \"debt\", \"decisiion\", \"declinent\", \"declinent\", \"declinent\", \"declinent\", \"decmay\", \"decmay\", \"decmay\", \"destinataire\", \"destinataire\", \"destinataire\", \"destinataire\", \"detruire\", \"detruire\", \"detruire\", \"detruire\", \"dicarlo\", \"dicarlo\", \"dicarlo\", \"dicarlo\", \"dicarlo\", \"dicarlo\", \"dicarlo\", \"dicarlo\", \"dicarlo\", \"dicarlo\", \"diego\", \"diego\", \"diego\", \"diego\", \"diego\", \"diego\", \"diego\", \"diego\", \"diego\", \"diego\", \"differ\", \"differ\", \"differ\", \"differ\", \"differ\", \"differ\", \"differ\", \"differ\", \"differ\", \"diffusion\", \"diffusion\", \"diffusion\", \"diffusion\", \"diffusion\", \"director\", \"director\", \"director\", \"director\", \"director\", \"director\", \"director\", \"director\", \"director\", \"director\", \"disbursement\", \"disbursement\", \"disbursement\", \"disbursement\", \"disbursement\", \"disc\", \"disc\", \"disc\", \"disc\", \"disc\", \"disc\", \"disc\", \"disc\", \"disc\", \"disc\", \"disk\", \"disk\", \"disk\", \"disk\", \"disk\", \"disk\", \"disk\", \"distillate\", \"distillate\", \"distillate\", \"distillate\", \"distillate\", \"distillate\", \"distillate\", \"distillate\", \"distillate\", \"distillate\", \"diza\", \"diza\", \"dj\", \"dj\", \"dj\", \"dj\", \"dj\", \"dj\", \"dj\", \"dj\", \"dj\", \"dj\", \"dlj\", \"dlrs\", \"dlrs\", \"dlrs\", \"dlrs\", \"dlrs\", \"dlrs\", \"dlrs\", \"dlrs\", \"dlrs\", \"docdoc\", \"dolore\", \"dolore\", \"dolore\", \"domain\", \"domain\", \"domain\", \"domain\", \"domain\", \"domain\", \"domain\", \"domain\", \"domain\", \"domain\", \"dow\", \"dow\", \"dow\", \"dow\", \"dow\", \"dow\", \"dow\", \"dow\", \"dow\", \"dow\", \"downcrude\", \"downgrade\", \"downgrade\", \"downgrade\", \"downgrade\", \"downgrade\", \"downgrade\", \"downgrade\", \"downgrade\", \"downgrade\", \"downgrade\", \"dpc\", \"dpc\", \"dpc\", \"dpc\", \"dpc\", \"dpc\", \"dpc\", \"dpc\", \"dpc\", \"dpc\", \"dunton\", \"dunton\", \"dunton\", \"dunvale\", \"duplex\", \"duplex\", \"dynegy\", \"dynegy\", \"dynegy\", \"dynegy\", \"dynegy\", \"dynegy\", \"dynegy\", \"dynegy\", \"dynegy\", \"dynegy\", \"earningscom\", \"earningscom\", \"earningscom\", \"earningscom\", \"earningscom\", \"earningscom\", \"earningscom\", \"earningscom\", \"east\", \"east\", \"east\", \"east\", \"east\", \"east\", \"east\", \"east\", \"east\", \"east\", \"ebs\", \"ebs\", \"ebs\", \"ebs\", \"ebs\", \"ebs\", \"ebs\", \"ebs\", \"ebs\", \"ebs\", \"econmic\", \"edi\", \"edi\", \"edi\", \"edi\", \"edie\", \"electricity\", \"electricity\", \"electricity\", \"electricity\", \"electricity\", \"electricity\", \"electricity\", \"electricity\", \"electricity\", \"electricity\", \"electronicpdf\", \"email\", \"email\", \"email\", \"email\", \"email\", \"email\", \"email\", \"email\", \"email\", \"email\", \"ems\", \"ems\", \"energy\", \"energy\", \"energy\", \"energy\", \"energy\", \"energy\", \"energy\", \"energy\", \"energy\", \"energy\", \"energyill\", \"english\", \"english\", \"english\", \"english\", \"english\", \"english\", \"english\", \"english\", \"english\", \"english\", \"enpower\", \"enpower\", \"enpower\", \"enpower\", \"enpower\", \"enron\", \"enron\", \"enron\", \"enron\", \"enron\", \"enron\", \"enron\", \"enron\", \"enron\", \"enron\", \"environment\", \"environment\", \"environment\", \"environment\", \"environment\", \"environment\", \"environment\", \"environment\", \"environment\", \"environment\", \"eol\", \"eol\", \"eol\", \"eol\", \"eol\", \"eol\", \"eol\", \"eol\", \"eol\", \"eol\", \"epaombahbsedu\", \"epaombahbsedu\", \"epaombahbsedu\", \"epaombahbsedu\", \"epaombahbsedu\", \"epaombahbsedu\", \"epaombahbsedu\", \"epaombahbsedu\", \"equivalence\", \"ermis\", \"ermis\", \"ermis\", \"ermis\", \"ermis\", \"ermis\", \"ermis\", \"ermis\", \"ermis\", \"ermis\", \"erthecounter\", \"est\", \"est\", \"est\", \"est\", \"est\", \"est\", \"est\", \"est\", \"est\", \"est\", \"estimation\", \"et\", \"et\", \"et\", \"et\", \"et\", \"et\", \"et\", \"et\", \"et\", \"et\", \"etablis\", \"etablis\", \"etablis\", \"etablis\", \"etkt\", \"etkt\", \"eur\", \"eur\", \"eur\", \"eva\", \"eva\", \"eva\", \"eva\", \"eva\", \"eva\", \"eva\", \"eva\", \"eva\", \"eva\", \"evite\", \"evite\", \"evite\", \"ews\", \"ews\", \"ews\", \"ews\", \"ews\", \"ews\", \"ews\", \"ews\", \"ews\", \"ews\", \"ewscct\", \"express\", \"express\", \"express\", \"express\", \"express\", \"express\", \"express\", \"express\", \"express\", \"express\", \"fallonhouectect\", \"fallonhouectect\", \"fangme\", \"fangme\", \"fangme\", \"fangme\", \"fangme\", \"fangme\", \"fangmingzhuenroncom\", \"fangmingzhuenroncom\", \"fastow\", \"fastow\", \"fastow\", \"fastow\", \"fastow\", \"fastow\", \"fastow\", \"fastow\", \"fastow\", \"fastow\", \"fcm\", \"fcm\", \"fcm\", \"fee\", \"fee\", \"fee\", \"fee\", \"fee\", \"fee\", \"fee\", \"fee\", \"fee\", \"fee\", \"ferc\", \"ferc\", \"ferc\", \"ferc\", \"ferc\", \"ferc\", \"ferc\", \"ferc\", \"ferc\", \"ferc\", \"fieldsid\", \"fieldsid\", \"fieldsid\", \"fieldsid\", \"fieldsid\", \"fieldsid\", \"fieldsid\", \"fieldsid\", \"fieldsid\", \"file\", \"file\", \"file\", \"file\", \"file\", \"file\", \"file\", \"file\", \"file\", \"file\", \"filiale\", \"filiale\", \"filiale\", \"filiale\", \"financial\", \"financial\", \"financial\", \"financial\", \"financial\", \"financial\", \"financial\", \"financial\", \"financial\", \"financial\", \"find\", \"find\", \"find\", \"find\", \"find\", \"find\", \"find\", \"find\", \"find\", \"find\", \"fitness\", \"flavor\", \"flavor\", \"flavor\", \"flavor\", \"flavor\", \"flavor\", \"flavor\", \"flavor\", \"flavor\", \"flavor\", \"fleischer\", \"fleischer\", \"fleischer\", \"fleischer\", \"fleischer\", \"fleischer\", \"fleischer\", \"fleischer\", \"flip\", \"flip\", \"flip\", \"flip\", \"flip\", \"flip\", \"flip\", \"follow\", \"follow\", \"follow\", \"follow\", \"follow\", \"follow\", \"follow\", \"follow\", \"follow\", \"follow\", \"forney\", \"forney\", \"forney\", \"forney\", \"forney\", \"forney\", \"forney\", \"forney\", \"forney\", \"forward\", \"forward\", \"forward\", \"forward\", \"forward\", \"forward\", \"forward\", \"forward\", \"forward\", \"forward\", \"forwardcuz\", \"frank\", \"frank\", \"frank\", \"frank\", \"frank\", \"frank\", \"frank\", \"frank\", \"frank\", \"frank\", \"fraser\", \"fraser\", \"fraser\", \"fraser\", \"fraser\", \"fraser\", \"fraser\", \"fraser\", \"fraser\", \"fraserenronenronxgate\", \"fraserenronenronxgate\", \"fraserenronenronxgate\", \"fraserenronenronxgate\", \"fraserenronenronxgate\", \"fraserenronenronxgate\", \"fraserenronenronxgate\", \"free\", \"free\", \"free\", \"free\", \"free\", \"free\", \"free\", \"free\", \"free\", \"free\", \"fri\", \"fri\", \"fri\", \"fri\", \"fri\", \"fri\", \"fri\", \"fri\", \"fri\", \"fri\", \"frogger\", \"fruit\", \"fruit\", \"fruit\", \"fruit\", \"fruit\", \"fruit\", \"fruit\", \"fruit\", \"fruit\", \"fruit\", \"future\", \"future\", \"future\", \"future\", \"future\", \"future\", \"future\", \"future\", \"future\", \"future\", \"futures\", \"futures\", \"futures\", \"futures\", \"futures\", \"futures\", \"futures\", \"futures\", \"game\", \"game\", \"game\", \"game\", \"game\", \"game\", \"game\", \"game\", \"game\", \"game\", \"gapinski\", \"gapinski\", \"gapinski\", \"gapinski\", \"gapinski\", \"gapinski\", \"gapinski\", \"gas\", \"gas\", \"gas\", \"gas\", \"gas\", \"gas\", \"gas\", \"gas\", \"gas\", \"gas\", \"gasdoc\", \"gasdoc\", \"gasdoc\", \"gasheat\", \"gasheat\", \"gasheat\", \"gasheat\", \"gasheat\", \"gbush\", \"gbush\", \"gbush\", \"generator\", \"generator\", \"generator\", \"generator\", \"generator\", \"generator\", \"generator\", \"generator\", \"generator\", \"generator\", \"georgerahalacnpowercom\", \"gilbertsmith\", \"gilbertsmith\", \"gilbertsmith\", \"gilbertsmith\", \"gilbertsmith\", \"gilbertsmith\", \"gilbertsmith\", \"gilbertsmith\", \"gilbertsmith\", \"gilbertsmith\", \"go\", \"go\", \"go\", \"go\", \"go\", \"go\", \"go\", \"go\", \"go\", \"go\", \"good\", \"good\", \"good\", \"good\", \"good\", \"good\", \"good\", \"good\", \"good\", \"good\", \"grahamcorpenronenronvince\", \"greenfield\", \"greenfield\", \"greenfield\", \"greenfield\", \"greenfield\", \"greenfield\", \"grigio\", \"grigio\", \"grigio\", \"grigio\", \"grigio\", \"grigio\", \"grigsby\", \"grigsby\", \"grigsby\", \"grigsby\", \"grigsby\", \"grigsby\", \"grigsby\", \"grigsby\", \"grigsby\", \"grigsby\", \"gunther\", \"gunther\", \"gunther\", \"gunther\", \"gunther\", \"gunther\", \"gunther\", \"gunther\", \"gunther\", \"gunther\", \"harrassment\", \"harrassment\", \"head\", \"head\", \"head\", \"head\", \"head\", \"head\", \"head\", \"head\", \"head\", \"head\", \"heim\", \"heim\", \"heim\", \"heim\", \"heizenrader\", \"heizenrader\", \"heizenrader\", \"heizenrader\", \"heu\", \"heu\", \"heu\", \"heu\", \"hilton\", \"hilton\", \"hilton\", \"hilton\", \"hilton\", \"hilton\", \"hilton\", \"hilton\", \"hilton\", \"hilton\", \"hindu\", \"hindu\", \"hindu\", \"hindu\", \"hindu\", \"hindu\", \"hindu\", \"hindu\", \"hindu\", \"hlopak\", \"hlopak\", \"hoffmanpdxect\", \"hoffmanpdxect\", \"hoffmanpdxect\", \"hoffmanpdxect\", \"hoffmanpdxect\", \"hoffmanpdxect\", \"hoffmanpdxect\", \"hoffmanpdxect\", \"hoffmanpdxect\", \"hoffmanpdxect\", \"holst\", \"holst\", \"holst\", \"holst\", \"holst\", \"holst\", \"holst\", \"holst\", \"holst\", \"holst\", \"hoskinsenron\", \"hoskinsenron\", \"hoskinsenron\", \"hoskinsenron\", \"hoskinsenron\", \"hoskinsenron\", \"hoskinsenron\", \"hot\", \"hot\", \"hot\", \"hot\", \"hot\", \"hot\", \"hot\", \"hot\", \"hot\", \"hot\", \"hotel\", \"hotel\", \"hotel\", \"hotel\", \"hotel\", \"hotel\", \"hotel\", \"hotel\", \"hotel\", \"hotel\", \"houston\", \"houston\", \"houston\", \"houston\", \"houston\", \"houston\", \"houston\", \"houston\", \"houston\", \"houston\", \"houstonbase\", \"houstonbase\", \"houstonbase\", \"houstonbase\", \"houstonbase\", \"houstonbase\", \"houstonbase\", \"houstonbase\", \"houstonbase\", \"houstonbase\", \"houstonbased\", \"houstonbased\", \"houstonbased\", \"houstonbased\", \"houstonbased\", \"houstonbased\", \"houstonbased\", \"houstonbased\", \"houstonbased\", \"hp\", \"hp\", \"hp\", \"hp\", \"hp\", \"hp\", \"hp\", \"hp\", \"hp\", \"hp\", \"httpcgizdnetcomslinkadeskbadt\", \"httpcgizdnetcomslinkadeskbadt\", \"httpcgizdnetcomslinkadeskbadt\", \"httpcgizdnetcomslinkadeskbadt\", \"httpcgizdnetcomslinkadeskbadt\", \"httpcgizdnetcomslinkadeskbadt\", \"httpcgizdnetcomslinkadeskbadt\", \"httpcgizdnetcomslinkadeskbadt\", \"httpcgizdnetcomslinkadeskbadt\", \"httpexpensexmsenroncom\", \"httpexpensexmsenroncom\", \"httpintelligencepresscom\", \"httpinteractivewsjcomusercgibinsearchuserplactionemailalert\", \"httpinteractivewsjcomusercgibinsearchuserplactionemailalert\", \"httpinteractivewsjcomusercgibinsearchuserplactionemailalert\", \"httpiosetsenroncominfopostingssharedetnoncriticalnoticeaspcompany\", \"httpitcappscorpenroncomsrrsauthemaillinkaspidpage\", \"httpitcappscorpenroncomsrrsauthemaillinkaspidpage\", \"httpitcappscorpenroncomsrrsauthemaillinkaspidpageapproval\", \"httpitcappscorpenroncomsrrsauthemaillinkaspidpageapproval\", \"httpitcappscorpenroncomsrrsauthemaillinkaspidpageapproval\", \"httpitcappscorpenroncomsrrsauthemaillinkaspidpageapproval\", \"httpshockwavemnetmushksaspepallenenroncom\", \"httpwwwcaisocomdocshtml\", \"httpwwwcaisocomdocshtml\", \"httpwwwcaisocomdocshtml\", \"httpwwwcarrfutcom\", \"httpwwwcarrfutcom\", \"httpwwwcarrfutcom\", \"httpwwwcarrfutcom\", \"httpwwwcarrfutcom\", \"httpwwwcarrfutcomresearchenergycandlestickspdf\", \"httpwwwcarrfutcomresearchenergycandlestickspdf\", \"httpwwwcarrfutcomresearchenergycrudepdf\", \"httpwwwcarrfutcomresearchenergycrudepdf\", \"httpwwwcarrfutcomresearchenergycrudepdf\", \"httpwwwcarrfutcomresearchenergycrudepdf\", \"httpwwwcarrfutcomresearchenergygascrackpdf\", \"httpwwwcarrfutcomresearchenergygascrackpdf\", \"httpwwwcarrfutcomresearchenergygascrackpdf\", \"httpwwwcarrfutcomresearchenergygascrackpdf\", \"httpwwwcarrfutcomresearchenergyheatcrackpdf\", \"httpwwwcarrfutcomresearchenergyheatcrackpdf\", \"httpwwwcarrfutcomresearchenergyheatcrackpdf\", \"httpwwwcarrfutcomresearchenergyheatcrackpdf\", \"httpwwwcarrfutcomresearchenergyhofhogpdf\", \"httpwwwcarrfutcomresearchenergyhofhogpdf\", \"httpwwwcarrfutcomresearchenergyhofhogpdf\", \"httpwwwcarrfutcomresearchenergyhofhogpdf\", \"httpwwwcarrfutcomresearchenergyhoilpdf\", \"httpwwwcarrfutcomresearchenergyhoilpdf\", \"httpwwwcarrfutcomresearchenergyhoilpdf\", \"httpwwwcarrfutcomresearchenergyhoilpdf\", \"httpwwwcarrfutcomresearchenergyhuxhoxpdf\", \"httpwwwcarrfutcomresearchenergyhuxhoxpdf\", \"httpwwwcarrfutcomresearchenergyhuxhoxpdf\", \"httpwwwcarrfutcomresearchenergyhuxhuhpdf\", \"httpwwwcarrfutcomresearchenergyhuxhuhpdf\", \"httpwwwcarrfutcomresearchenergyhuxhuhpdf\", \"httpwwwcarrfutcomresearchenergyhuzhozpdf\", \"httpwwwcarrfutcomresearchenergyhuzhozpdf\", \"httpwwwcarrfutcomresearchenergyhuzhozpdf\", \"httpwwwcarrfutcomresearchenergyhuzhozpdf\", \"httpwwwcarrfutcomresearchenergyngaspdf\", \"httpwwwcarrfutcomresearchenergyngaspdf\", \"httpwwwcarrfutcomresearchenergyngaspdf\", \"httpwwwcarrfutcomresearchenergyngaspdf\", \"httpwwwcarrfutcomresearchenergyngaspdf\", \"httpwwwcarrfutcomresearchenergyspreadmatrixclpdf\", \"httpwwwcarrfutcomresearchenergyspreadmatrixclpdf\", \"httpwwwcarrfutcomresearchenergyspreadmatrixclpdf\", \"httpwwwcarrfutcomresearchenergyspreadmatrixclpdf\", \"httpwwwcarrfutcomresearchenergyspreadmatrixclpdf\", \"httpwwwcarrfutcomresearchenergyspreadmatrixngpdf\", \"httpwwwcarrfutcomresearchenergyspreadmatrixngpdf\", \"httpwwwcarrfutcomresearchenergyspreadmatrixngpdf\", \"httpwwwcarrfutcomresearchenergyspreadmatrixngpdf\", \"httpwwwcarrfutcomresearchenergyspreadmatrixngpdf\", \"httpwwwcarrfutcomresearchenergystripmatrixngpdf\", \"httpwwwcarrfutcomresearchenergystripmatrixngpdf\", \"httpwwwcarrfutcomresearchenergystripmatrixngpdf\", \"httpwwwcarrfutcomresearchenergystripmatrixngpdf\", \"httpwwwcarrfutcomresearchenergystripmatrixpdf\", \"httpwwwcarrfutcomresearchenergystripmatrixpdf\", \"httpwwwcarrfutcomresearchenergystripmatrixpdf\", \"httpwwwcarrfutcomresearchenergyunldedpdf\", \"httpwwwcarrfutcomresearchenergyunldedpdf\", \"httpwwwcarrfutcomresearchenergyunldedpdf\", \"httpwwwcarrfutcomresearchenergyunldedpdf\", \"httpwwwdatacommarketingcom\", \"httpwwwdatacommarketingcom\", \"httpwwwdatacommarketingcom\", \"httpwwwmultexinvestorcomdownloadaspdocidnd\", \"httpwwwmultexinvestorcomdownloadaspdocidnd\", \"httpwwwmultexinvestorcomdownloadaspdocidnd\", \"httpwwwmultexinvestorcomdownloadaspdocidnd\", \"httpwwwmultexinvestorcomdownloadaspdocidnd\", \"httpwwwmultexinvestorcomdownloadaspdocidnd\", \"httpwwwmultexinvestorcomdownloadaspdocidnd\", \"httpwwwmultexinvestorcomdownloadaspdocidnd\", \"httpwwwmultexinvestorcomdownloadaspdocidnd\", \"httpwwwmultexinvestorcomedituinfoasp\", \"httpwwwmultexinvestorcomedituinfoasp\", \"httpwwwmultexinvestorcomedituinfoasp\", \"httpwwwmultexinvestorcomedituinfoasp\", \"httpwwwmultexinvestorcomedituinfoasp\", \"httpwwwmultexinvestorcomedituinfoasp\", \"httpwwwmultexinvestorcomedituinfoasp\", \"httpwwwmultexinvestorcomedituinfoasp\", \"httpwwwwinebidcomositemhtmlhtshtml\", \"httpwwwwinebidcomositemhtmlhtshtml\", \"httpwwwwinebidcomositemhtmlhtshtml\", \"httpwwwwinebidcomositemhtmlhtshtml\", \"httpwwwwinebidcomositemhtmlhtshtml\", \"httpwwwzdnetoneboxcom\", \"httpwwwzdnetoneboxcom\", \"httpwwwzdnetoneboxcom\", \"httpwwwzdnetoneboxcom\", \"httpwwwzdnetoneboxcom\", \"httpwwwzdnetoneboxcom\", \"httpwwwzdnetoneboxcom\", \"hu\", \"hu\", \"hu\", \"hu\", \"ibuyit\", \"ibuyit\", \"ibuyit\", \"ibuyit\", \"idealistic\", \"idealistic\", \"idealistic\", \"idealistic\", \"ill\", \"ill\", \"ill\", \"ill\", \"ill\", \"ill\", \"ill\", \"ill\", \"ill\", \"ill\", \"image\", \"image\", \"image\", \"image\", \"image\", \"image\", \"image\", \"image\", \"image\", \"image\", \"imageimage\", \"imageimage\", \"imageimage\", \"imageimage\", \"imageimage\", \"imageimage\", \"imageimage\", \"imageimage\", \"imageimage\", \"imageimage\", \"imagethe\", \"immediatement\", \"immediatement\", \"immediatement\", \"immediatement\", \"impact\", \"impact\", \"impact\", \"impact\", \"impact\", \"impact\", \"impact\", \"impact\", \"impact\", \"impact\", \"improvement\", \"improvement\", \"improvement\", \"improvement\", \"improvement\", \"improvement\", \"improvement\", \"improvement\", \"improvement\", \"improvement\", \"inc\", \"inc\", \"inc\", \"inc\", \"inc\", \"inc\", \"inc\", \"inc\", \"inc\", \"inc\", \"include\", \"include\", \"include\", \"include\", \"include\", \"include\", \"include\", \"include\", \"include\", \"include\", \"india\", \"india\", \"india\", \"india\", \"india\", \"india\", \"india\", \"india\", \"india\", \"india\", \"indian\", \"indian\", \"indian\", \"indian\", \"indian\", \"indian\", \"indian\", \"indian\", \"indian\", \"indian\", \"indias\", \"indias\", \"indias\", \"indias\", \"indias\", \"indias\", \"indias\", \"indias\", \"indias\", \"indias\", \"information\", \"information\", \"information\", \"information\", \"information\", \"information\", \"information\", \"information\", \"information\", \"information\", \"infoseek\", \"infoseek\", \"infoseek\", \"infoseek\", \"initiate\", \"initiate\", \"initiate\", \"initiate\", \"initiate\", \"initiate\", \"initiate\", \"initiate\", \"initiate\", \"initiate\", \"inquiriesinteractivewsjcom\", \"inquiriesinteractivewsjcom\", \"instruction\", \"instruction\", \"instruction\", \"instruction\", \"instruction\", \"instruction\", \"instruction\", \"instruction\", \"instruction\", \"instruction\", \"instrument\", \"instrument\", \"instrument\", \"instrument\", \"instrument\", \"instrument\", \"instrument\", \"instrument\", \"instrument\", \"instrument\", \"intensity\", \"intensity\", \"intensity\", \"intensity\", \"intensity\", \"intensity\", \"intensity\", \"intensity\", \"intensity\", \"interco\", \"interco\", \"interco\", \"intercon\", \"intercontinentalexc\", \"intercontinentalexchange\", \"intercontinentalexchange\", \"intercontinentalexchange\", \"intercontinentalexchange\", \"intercontinentalexchange\", \"intercontinentalexchange\", \"intercontinentalexchange\", \"intercontinentalexchange\", \"intercontinentalexchange\", \"intercontinentalexchange\", \"interdite\", \"interdite\", \"interdite\", \"interdite\", \"internship\", \"intersc\", \"intersc\", \"intersc\", \"intersc\", \"intersc\", \"investmentgrade\", \"investmentgrade\", \"investmentgrade\", \"investmentgrade\", \"investmentgrade\", \"investmentgrade\", \"investmentgrade\", \"investor\", \"investor\", \"investor\", \"investor\", \"investor\", \"investor\", \"investor\", \"investor\", \"investor\", \"investor\", \"invoice\", \"invoice\", \"invoice\", \"invoice\", \"invoice\", \"invoice\", \"invoice\", \"invoice\", \"invoice\", \"invoice\", \"iso\", \"iso\", \"iso\", \"iso\", \"iso\", \"iso\", \"iso\", \"iso\", \"iso\", \"iso\", \"issuance\", \"issuance\", \"issuance\", \"issuance\", \"issuance\", \"issuance\", \"issuance\", \"issuance\", \"issuance\", \"issuance\", \"issues\", \"iwon\", \"iwon\", \"j\", \"j\", \"j\", \"j\", \"j\", \"j\", \"j\", \"j\", \"j\", \"j\", \"jacquart\", \"jae\", \"jae\", \"jae\", \"jae\", \"jae\", \"jae\", \"jae\", \"jae\", \"jae\", \"jae\", \"jason\", \"jason\", \"jason\", \"jason\", \"jason\", \"jason\", \"jason\", \"jason\", \"jason\", \"jason\", \"jay\", \"jay\", \"jay\", \"jay\", \"jay\", \"jay\", \"jay\", \"jay\", \"jay\", \"jay\", \"jeff\", \"jeff\", \"jeff\", \"jeff\", \"jeff\", \"jeff\", \"jeff\", \"jeff\", \"jeff\", \"jeff\", \"jen\", \"jen\", \"jen\", \"jen\", \"jen\", \"jen\", \"jen\", \"jen\", \"jen\", \"jen\", \"jennifer\", \"jennifer\", \"jennifer\", \"jennifer\", \"jennifer\", \"jennifer\", \"jennifer\", \"jennifer\", \"jennifer\", \"jennifer\", \"jenniferarnold\", \"jenniferarnold\", \"jenniferarnold\", \"jenniferarnold\", \"jerky\", \"jl\", \"joe\", \"joe\", \"joe\", \"joe\", \"joe\", \"joe\", \"joe\", \"joe\", \"joe\", \"joe\", \"john\", \"john\", \"john\", \"john\", \"john\", \"john\", \"john\", \"john\", \"john\", \"john\", \"jonathon\", \"jonathon\", \"jones\", \"jones\", \"jones\", \"jones\", \"jones\", \"jones\", \"jones\", \"jones\", \"jones\", \"jones\", \"jpi\", \"jpi\", \"jpi\", \"jpi\", \"jpi\", \"junk\", \"junk\", \"junk\", \"junk\", \"junk\", \"junk\", \"junk\", \"junk\", \"junk\", \"junk\", \"k\", \"k\", \"k\", \"k\", \"k\", \"k\", \"k\", \"k\", \"k\", \"k\", \"kedavis\", \"kevin\", \"kevin\", \"kevin\", \"kevin\", \"kevin\", \"kevin\", \"kevin\", \"kevin\", \"kevin\", \"kevin\", \"kim\", \"kim\", \"kim\", \"kim\", \"kim\", \"kim\", \"kim\", \"kim\", \"kim\", \"kim\", \"kingsgate\", \"kingsgate\", \"kingsgate\", \"kingsgate\", \"kinkos\", \"kinkos\", \"kinkos\", \"kinkos\", \"kinkos\", \"kinkos\", \"kinkos\", \"kinkos\", \"know\", \"know\", \"know\", \"know\", \"know\", \"know\", \"know\", \"know\", \"know\", \"know\", \"kroner\", \"kroner\", \"kroner\", \"kroner\", \"kroner\", \"kroner\", \"kroner\", \"kroner\", \"kroner\", \"kroner\", \"kuykendall\", \"kuykendall\", \"kuykendall\", \"kuykendall\", \"kuykendall\", \"kuykendall\", \"kuykendall\", \"kyoto\", \"kyoto\", \"kyoto\", \"kyoto\", \"kyoto\", \"l\", \"l\", \"l\", \"l\", \"l\", \"l\", \"l\", \"l\", \"l\", \"l\", \"land\", \"land\", \"land\", \"land\", \"land\", \"land\", \"land\", \"land\", \"land\", \"land\", \"le\", \"le\", \"le\", \"le\", \"le\", \"le\", \"le\", \"le\", \"le\", \"le\", \"legislature\", \"legislature\", \"legislature\", \"legislature\", \"legislature\", \"legislature\", \"legislature\", \"legislature\", \"legislature\", \"legislature\", \"lenhart\", \"lenhart\", \"lenhart\", \"lenhart\", \"lenhart\", \"lenhart\", \"lenhart\", \"lenhart\", \"lenhart\", \"lenhart\", \"leopold\", \"leopold\", \"leopold\", \"leopold\", \"leopold\", \"leopold\", \"leopold\", \"leopold\", \"leopold\", \"leschber\", \"leslie\", \"leslie\", \"leslie\", \"leslie\", \"leslie\", \"leslie\", \"leslie\", \"leslie\", \"leslie\", \"leslie\", \"letter\", \"letter\", \"letter\", \"letter\", \"letter\", \"letter\", \"letter\", \"letter\", \"letter\", \"letter\", \"lexpediteur\", \"lexpediteur\", \"lexpediteur\", \"lexpediteur\", \"librarycom\", \"librarycom\", \"librarycom\", \"librarycom\", \"librarycom\", \"like\", \"like\", \"like\", \"like\", \"like\", \"like\", \"like\", \"like\", \"like\", \"like\", \"link\", \"link\", \"link\", \"link\", \"link\", \"link\", \"link\", \"link\", \"link\", \"link\", \"lintegrite\", \"lintegrite\", \"lintegrite\", \"lintegrite\", \"liquefaction\", \"liquefaction\", \"lisa\", \"lisa\", \"lisa\", \"lisa\", \"lisa\", \"lisa\", \"lisa\", \"lisa\", \"lisa\", \"lisa\", \"ljm\", \"ljm\", \"ljm\", \"ljm\", \"ljm\", \"ljm\", \"ljm\", \"ljm\", \"ljm\", \"ljm\", \"loan\", \"loan\", \"loan\", \"loan\", \"loan\", \"loan\", \"loan\", \"loan\", \"loan\", \"loan\", \"london\", \"london\", \"london\", \"london\", \"london\", \"london\", \"london\", \"london\", \"london\", \"london\", \"look\", \"look\", \"look\", \"look\", \"look\", \"look\", \"look\", \"look\", \"look\", \"look\", \"lot\", \"lot\", \"lot\", \"lot\", \"lot\", \"lot\", \"lot\", \"lot\", \"lot\", \"lot\", \"louis\", \"louis\", \"louis\", \"louis\", \"louis\", \"louis\", \"louis\", \"louis\", \"louis\", \"louis\", \"lycos\", \"lycos\", \"lycos\", \"lycos\", \"lycos\", \"lycos\", \"lycos\", \"lycos\", \"lycos\", \"m\", \"m\", \"m\", \"m\", \"m\", \"m\", \"m\", \"m\", \"m\", \"m\", \"maharashtra\", \"maharashtra\", \"maharashtra\", \"maharashtra\", \"maharashtra\", \"maharashtra\", \"maharashtra\", \"maharashtra\", \"maharashtra\", \"maharashtra\", \"mailer\", \"mailer\", \"mailer\", \"mailer\", \"malcolm\", \"malcolm\", \"malcolm\", \"malcolm\", \"malcolm\", \"malcolm\", \"malcolm\", \"management\", \"management\", \"management\", \"management\", \"management\", \"management\", \"management\", \"management\", \"management\", \"management\", \"managerpossible\", \"mancino\", \"mancino\", \"mapping\", \"mapping\", \"mapping\", \"marde\", \"marde\", \"margaret\", \"margaret\", \"margaret\", \"margaret\", \"margaret\", \"margaret\", \"margaret\", \"margaret\", \"margaret\", \"margaret\", \"marge\", \"mark\", \"mark\", \"mark\", \"mark\", \"mark\", \"mark\", \"mark\", \"mark\", \"mark\", \"mark\", \"market\", \"market\", \"market\", \"market\", \"market\", \"market\", \"market\", \"market\", \"market\", \"market\", \"markintelligencepresscom\", \"marquezcorpenronenron\", \"marquezcorpenronenron\", \"masonry\", \"masson\", \"masterdisc\", \"masterdisc\", \"masterdisc\", \"masterdisc\", \"masterdisc\", \"matrix\", \"matrix\", \"matrix\", \"matrix\", \"matrix\", \"matrix\", \"matrix\", \"matrix\", \"matthew\", \"matthew\", \"matthew\", \"matthew\", \"matthew\", \"matthew\", \"matthew\", \"matthew\", \"matthew\", \"matthew\", \"mattsmithenroncom\", \"mattsmithenroncom\", \"maxdiscusazip\", \"maxdiscusazip\", \"maxdiscusazip\", \"mckay\", \"mckay\", \"mckay\", \"mckay\", \"mckay\", \"mckay\", \"mckay\", \"mckay\", \"mckay\", \"mckay\", \"mclean\", \"mcnary\", \"mcnary\", \"mcquadehouectect\", \"mcquadehouectect\", \"md\", \"md\", \"md\", \"md\", \"md\", \"md\", \"md\", \"md\", \"md\", \"md\", \"meeting\", \"meeting\", \"meeting\", \"meeting\", \"meeting\", \"meeting\", \"meeting\", \"meeting\", \"meeting\", \"meeting\", \"merci\", \"merci\", \"merci\", \"merci\", \"merci\", \"merican\", \"merlot\", \"merlot\", \"merlot\", \"merlot\", \"merlot\", \"merlot\", \"merlot\", \"merten\", \"message\", \"message\", \"message\", \"message\", \"message\", \"message\", \"message\", \"message\", \"message\", \"message\", \"mg\", \"mg\", \"mg\", \"mg\", \"mg\", \"mg\", \"mg\", \"michael\", \"michael\", \"michael\", \"michael\", \"michael\", \"michael\", \"michael\", \"michael\", \"michael\", \"michael\", \"michaelbyrneamericasbnpparibascom\", \"michaelbyrneamericasbnpparibascom\", \"michaelbyrneamericasbnpparibascom\", \"michaelbyrneamericasbnpparibascom\", \"migration\", \"migration\", \"migration\", \"migration\", \"migration\", \"migration\", \"migration\", \"migration\", \"migration\", \"migration\", \"mike\", \"mike\", \"mike\", \"mike\", \"mike\", \"mike\", \"mike\", \"mike\", \"mike\", \"mike\", \"miles\", \"miles\", \"miles\", \"miles\", \"miles\", \"miles\", \"miles\", \"miles\", \"miles\", \"miles\", \"millesine\", \"millesine\", \"million\", \"million\", \"million\", \"million\", \"million\", \"million\", \"million\", \"million\", \"million\", \"million\", \"millshouect\", \"millshouect\", \"mimeversion\", \"mimeversion\", \"mimeversion\", \"mimeversion\", \"mimeversion\", \"mimeversion\", \"mimeversion\", \"mimeversion\", \"mimeversion\", \"mimeversion\", \"modifie\", \"modifie\", \"modifie\", \"modifie\", \"monday\", \"monday\", \"monday\", \"monday\", \"monday\", \"monday\", \"monday\", \"monday\", \"monday\", \"monday\", \"moodys\", \"moodys\", \"moodys\", \"moodys\", \"moodys\", \"moodys\", \"moodys\", \"moodys\", \"moodys\", \"moodys\", \"mou\", \"mou\", \"mou\", \"mou\", \"mou\", \"mou\", \"mr\", \"mr\", \"mr\", \"mr\", \"mr\", \"mr\", \"mr\", \"mr\", \"mr\", \"mr\", \"mseb\", \"mseb\", \"mseb\", \"mseb\", \"mseb\", \"mseb\", \"mseb\", \"mseb\", \"mseb\", \"mseb\", \"msword\", \"multex\", \"multex\", \"multex\", \"multex\", \"multex\", \"multex\", \"multex\", \"multex\", \"multex\", \"multex\", \"multicinema\", \"munson\", \"munson\", \"munson\", \"munson\", \"munson\", \"munson\", \"munson\", \"munson\", \"nadasky\", \"nahoutrdhoustonpwrcommonelectric\", \"nahoutrdhoustonpwrcommonelectric\", \"nahoutrdhoustonpwrcommonpowerregion\", \"nahoutrdhoustonpwrcommonpowerregion\", \"nahoutrdhoustonpwrcommonpowerregion\", \"nameserver\", \"nameserver\", \"nameserver\", \"narrower\", \"nat\", \"nat\", \"nat\", \"nat\", \"nat\", \"nat\", \"nat\", \"nat\", \"nat\", \"nat\", \"natural\", \"natural\", \"natural\", \"natural\", \"natural\", \"natural\", \"natural\", \"natural\", \"natural\", \"natural\", \"need\", \"need\", \"need\", \"need\", \"need\", \"need\", \"need\", \"need\", \"need\", \"need\", \"net\", \"net\", \"net\", \"net\", \"net\", \"net\", \"net\", \"net\", \"net\", \"net\", \"new\", \"new\", \"new\", \"new\", \"new\", \"new\", \"new\", \"new\", \"new\", \"new\", \"news\", \"news\", \"news\", \"news\", \"news\", \"news\", \"news\", \"news\", \"news\", \"news\", \"nighthehe\", \"nighthehe\", \"nj\", \"nj\", \"nj\", \"nj\", \"nj\", \"nj\", \"nj\", \"nj\", \"nj\", \"nj\", \"nortel\", \"nortel\", \"nortel\", \"nortel\", \"nortel\", \"nortel\", \"nortel\", \"nortel\", \"nortel\", \"nortel\", \"not\", \"not\", \"not\", \"not\", \"not\", \"not\", \"not\", \"not\", \"not\", \"not\", \"nothingshare\", \"nothingshare\", \"nothinguk\", \"number\", \"number\", \"number\", \"number\", \"number\", \"number\", \"number\", \"number\", \"number\", \"number\", \"oblander\", \"oblander\", \"oblander\", \"oblander\", \"october\", \"october\", \"october\", \"october\", \"october\", \"october\", \"october\", \"october\", \"october\", \"october\", \"offer\", \"offer\", \"offer\", \"offer\", \"offer\", \"offer\", \"offer\", \"offer\", \"offer\", \"offer\", \"offset\", \"offset\", \"offset\", \"offset\", \"offset\", \"offset\", \"offset\", \"offset\", \"offset\", \"offset\", \"oncall\", \"oncall\", \"oncall\", \"oncall\", \"oncall\", \"onebox\", \"onebox\", \"onebox\", \"onebox\", \"onebox\", \"onebox\", \"onebox\", \"onepass\", \"onepass\", \"onepass\", \"onepass\", \"onepass\", \"onepass\", \"onepass\", \"onepass\", \"onepass\", \"onepass\", \"onpea\", \"order\", \"order\", \"order\", \"order\", \"order\", \"order\", \"order\", \"order\", \"order\", \"order\", \"original\", \"original\", \"original\", \"original\", \"original\", \"original\", \"original\", \"original\", \"original\", \"original\", \"orourkehouectect\", \"orourkehouectect\", \"ospraie\", \"ospraie\", \"ossuatarp\", \"ossuatarp\", \"ossuatarp\", \"otmc\", \"otmc\", \"otmc\", \"otmc\", \"otmc\", \"otmc\", \"otmp\", \"otmp\", \"otmp\", \"otmp\", \"otmp\", \"otmp\", \"ou\", \"ou\", \"ou\", \"ou\", \"ou\", \"ou\", \"ou\", \"ou\", \"ou\", \"ou\", \"outage\", \"outage\", \"outage\", \"outage\", \"outage\", \"outage\", \"outage\", \"outage\", \"outage\", \"outage\", \"outlier\", \"outofstock\", \"pager\", \"pager\", \"pager\", \"pager\", \"pager\", \"pager\", \"pager\", \"pager\", \"pager\", \"pager\", \"painewebber\", \"painewebber\", \"painewebber\", \"painewebber\", \"painewebber\", \"painewebber\", \"painewebber\", \"painewebber\", \"painewebber\", \"pao\", \"pao\", \"pao\", \"pao\", \"pao\", \"pao\", \"pao\", \"pao\", \"paribas\", \"paribas\", \"paribas\", \"paribas\", \"paribas\", \"paribas\", \"paribas\", \"paribas\", \"parser\", \"parser\", \"parser\", \"participant\", \"participant\", \"participant\", \"participant\", \"participant\", \"participant\", \"participant\", \"participant\", \"participant\", \"participant\", \"partnership\", \"partnership\", \"partnership\", \"partnership\", \"partnership\", \"partnership\", \"partnership\", \"partnership\", \"partnership\", \"partnership\", \"passcode\", \"passcode\", \"passcode\", \"passcode\", \"passcode\", \"passcode\", \"passcode\", \"passcode\", \"passcode\", \"passcode\", \"paul\", \"paul\", \"paul\", \"paul\", \"paul\", \"paul\", \"paul\", \"paul\", \"paul\", \"paul\", \"pay\", \"pay\", \"pay\", \"pay\", \"pay\", \"pay\", \"pay\", \"pay\", \"pay\", \"pay\", \"pegasus\", \"pegasus\", \"pegasus\", \"pegasus\", \"pepl\", \"percent\", \"percent\", \"percent\", \"percent\", \"percent\", \"percent\", \"percent\", \"percent\", \"percent\", \"percent\", \"pergher\", \"pergher\", \"pergher\", \"pergher\", \"pergher\", \"pergher\", \"pergher\", \"pergher\", \"pergher\", \"pergher\", \"permanent\", \"permanent\", \"permanent\", \"permanent\", \"permanent\", \"permanent\", \"permanent\", \"permanent\", \"permanent\", \"pesot\", \"pesot\", \"phillip\", \"phillip\", \"phillip\", \"phillip\", \"phillip\", \"phillip\", \"phillip\", \"phillip\", \"phillip\", \"phillip\", \"philosophical\", \"philosophical\", \"physicalfinancail\", \"physicalfinancail\", \"pielop\", \"pielop\", \"pinot\", \"pinot\", \"pinot\", \"pinot\", \"pinot\", \"pinot\", \"pinot\", \"pira\", \"pira\", \"pira\", \"pira\", \"pira\", \"pira\", \"pira\", \"pira\", \"pira\", \"pira\", \"pjmwest\", \"pjmwest\", \"pjmwest\", \"play\", \"play\", \"play\", \"play\", \"play\", \"play\", \"play\", \"play\", \"play\", \"play\", \"pm\", \"pm\", \"pm\", \"pm\", \"pm\", \"pm\", \"pm\", \"pm\", \"pm\", \"pm\", \"point\", \"point\", \"point\", \"point\", \"point\", \"point\", \"point\", \"point\", \"point\", \"point\", \"pops\", \"portfolio\", \"portfolio\", \"portfolio\", \"portfolio\", \"portfolio\", \"portfolio\", \"portfolio\", \"portfolio\", \"portfolio\", \"portfolio\", \"position\", \"position\", \"position\", \"position\", \"position\", \"position\", \"position\", \"position\", \"position\", \"position\", \"power\", \"power\", \"power\", \"power\", \"power\", \"power\", \"power\", \"power\", \"power\", \"power\", \"prank\", \"predictive\", \"predictive\", \"presold\", \"presold\", \"presold\", \"presold\", \"presold\", \"presold\", \"presold\", \"presold\", \"presold\", \"pretax\", \"pretax\", \"pretax\", \"pretax\", \"pretax\", \"pretax\", \"pretax\", \"pretax\", \"pretax\", \"prevailin\", \"price\", \"price\", \"price\", \"price\", \"price\", \"price\", \"price\", \"price\", \"price\", \"price\", \"privileged\", \"privileged\", \"privileged\", \"privileged\", \"privileged\", \"privileged\", \"privileged\", \"privileged\", \"privileged\", \"privileged\", \"profnl\", \"profnl\", \"program\", \"program\", \"program\", \"program\", \"program\", \"program\", \"program\", \"program\", \"program\", \"program\", \"project\", \"project\", \"project\", \"project\", \"project\", \"project\", \"project\", \"project\", \"project\", \"project\", \"propsoe\", \"propt\", \"propt\", \"provide\", \"provide\", \"provide\", \"provide\", \"provide\", \"provide\", \"provide\", \"provide\", \"provide\", \"provide\", \"pt\", \"pt\", \"pt\", \"pt\", \"pt\", \"pt\", \"pt\", \"pt\", \"pt\", \"puc\", \"puc\", \"puc\", \"puc\", \"puc\", \"puc\", \"puc\", \"puc\", \"puc\", \"puc\", \"purchase\", \"purchase\", \"purchase\", \"purchase\", \"purchase\", \"purchase\", \"purchase\", \"purchase\", \"purchase\", \"purchase\", \"purpose\", \"purpose\", \"purpose\", \"purpose\", \"purpose\", \"purpose\", \"purpose\", \"purpose\", \"purpose\", \"purpose\", \"qatar\", \"qatar\", \"qatar\", \"qatar\", \"qatar\", \"qatar\", \"qatar\", \"qatar\", \"qatar\", \"qatar\", \"question\", \"question\", \"question\", \"question\", \"question\", \"question\", \"question\", \"question\", \"question\", \"question\", \"queue\", \"queue\", \"rahal\", \"rappaport\", \"ratcliff\", \"ratcliff\", \"rate\", \"rate\", \"rate\", \"rate\", \"rate\", \"rate\", \"rate\", \"rate\", \"rate\", \"rate\", \"rating\", \"rating\", \"rating\", \"rating\", \"rating\", \"rating\", \"rating\", \"rating\", \"rating\", \"rating\", \"reasonableness\", \"reasonableness\", \"reasonableness\", \"reasonableness\", \"reasonableness\", \"reasonableness\", \"reasonableness\", \"receive\", \"receive\", \"receive\", \"receive\", \"receive\", \"receive\", \"receive\", \"receive\", \"receive\", \"receive\", \"recious\", \"recipient\", \"recipient\", \"recipient\", \"recipient\", \"recipient\", \"recipient\", \"recipient\", \"recipient\", \"recipient\", \"recipient\", \"recommendation\", \"recommendation\", \"recommendation\", \"recommendation\", \"recommendation\", \"recommendation\", \"recommendation\", \"recommendation\", \"recommendation\", \"recommendation\", \"record\", \"record\", \"record\", \"record\", \"record\", \"record\", \"record\", \"record\", \"record\", \"record\", \"recourse\", \"recourse\", \"recourse\", \"recourse\", \"recourse\", \"recoverywill\", \"redford\", \"reis\", \"reis\", \"reis\", \"reis\", \"reitmeyer\", \"reitmeyer\", \"reitmeyer\", \"reitmeyer\", \"reitmeyer\", \"reitmeyer\", \"reitmeyer\", \"reitmeyer\", \"reitmeyer\", \"reitmeyer\", \"reliable\", \"reliable\", \"reliable\", \"reliable\", \"reliable\", \"reliable\", \"reliable\", \"reliable\", \"reliable\", \"reliable\", \"remove\", \"remove\", \"remove\", \"remove\", \"remove\", \"remove\", \"remove\", \"remove\", \"remove\", \"remove\", \"rentable\", \"rentable\", \"rental\", \"rental\", \"rental\", \"rental\", \"rental\", \"rental\", \"rental\", \"rental\", \"rental\", \"rental\", \"replatting\", \"report\", \"report\", \"report\", \"report\", \"report\", \"report\", \"report\", \"report\", \"report\", \"report\", \"republicans\", \"republicans\", \"republicans\", \"republicans\", \"republicans\", \"republicans\", \"republicans\", \"republicans\", \"republicans\", \"request\", \"request\", \"request\", \"request\", \"request\", \"request\", \"request\", \"request\", \"request\", \"request\", \"reservation\", \"reservation\", \"reservation\", \"reservation\", \"reservation\", \"reservation\", \"reservation\", \"reservation\", \"reservation\", \"reservation\", \"reserve\", \"reserve\", \"reserve\", \"reserve\", \"reserve\", \"reserve\", \"reserve\", \"reserve\", \"reserve\", \"reserve\", \"resource\", \"resource\", \"resource\", \"resource\", \"resource\", \"resource\", \"resource\", \"resource\", \"resource\", \"resource\", \"respect\", \"respect\", \"respect\", \"respect\", \"respect\", \"respect\", \"respect\", \"respect\", \"respect\", \"respect\", \"responsabilite\", \"responsabilite\", \"responsabilite\", \"responsabilite\", \"restaurantmp\", \"reuters\", \"reuters\", \"reuters\", \"reuters\", \"reuters\", \"reuters\", \"reuters\", \"reuters\", \"reuters\", \"reuters\", \"review\", \"review\", \"review\", \"review\", \"review\", \"review\", \"review\", \"review\", \"review\", \"review\", \"rmt\", \"rmt\", \"rmt\", \"rmt\", \"rmt\", \"rmt\", \"robert\", \"robert\", \"robert\", \"robert\", \"robert\", \"robert\", \"robert\", \"robert\", \"robert\", \"robert\", \"rogers\", \"rogers\", \"rogers\", \"rogers\", \"rogers\", \"rogers\", \"rogers\", \"rogers\", \"rogers\", \"rogers\", \"roman\", \"roman\", \"rory\", \"rosenbury\", \"rosenbury\", \"rosenbury\", \"rosenbury\", \"rosenbury\", \"rove\", \"rove\", \"rove\", \"rove\", \"rove\", \"rrobert\", \"rthermore\", \"rtpdf\", \"rtpdf\", \"rusgopsgeotoolsaprs\", \"rusgopsgeotoolsaprs\", \"rusgopsgeotoolsaprs\", \"s\", \"s\", \"s\", \"s\", \"s\", \"s\", \"s\", \"s\", \"s\", \"s\", \"salesintcxcom\", \"salesintcxcom\", \"salesintcxcom\", \"salesintcxcom\", \"salesintcxcom\", \"salesintcxcom\", \"salespopswinecom\", \"san\", \"san\", \"san\", \"san\", \"san\", \"san\", \"san\", \"san\", \"san\", \"san\", \"sanchez\", \"sanchez\", \"sanchez\", \"sanchez\", \"sanchez\", \"sanchez\", \"sanchez\", \"sanchez\", \"sanchez\", \"sanchez\", \"sand\", \"santa\", \"santa\", \"santa\", \"santa\", \"santa\", \"santa\", \"santa\", \"santa\", \"santa\", \"sapisc\", \"sapisc\", \"sapisc\", \"sauce\", \"sauce\", \"sauce\", \"sauce\", \"sauce\", \"sauce\", \"sauce\", \"saudi\", \"saudi\", \"saudi\", \"saudi\", \"saudi\", \"saudi\", \"saudi\", \"saudi\", \"saudi\", \"saudi\", \"sauvignon\", \"sauvignon\", \"sauvignon\", \"sauvignon\", \"sauvignon\", \"sauvignon\", \"say\", \"say\", \"say\", \"say\", \"say\", \"say\", \"say\", \"say\", \"say\", \"say\", \"sb\", \"sb\", \"sb\", \"sb\", \"sb\", \"sb\", \"sb\", \"schedule\", \"schedule\", \"schedule\", \"schedule\", \"schedule\", \"schedule\", \"schedule\", \"schedule\", \"schedule\", \"schedule\", \"scheduled\", \"scheduled\", \"scheduled\", \"scheduled\", \"scheduled\", \"scheduled\", \"scott\", \"scott\", \"scott\", \"scott\", \"scott\", \"scott\", \"scott\", \"scott\", \"scott\", \"scott\", \"sdge\", \"sdge\", \"sdge\", \"sdge\", \"sdge\", \"sdge\", \"sdge\", \"sdge\", \"sdge\", \"sdge\", \"seasonrestructuringtodaycom\", \"seasonrestructuringtodaycom\", \"sec\", \"sec\", \"sec\", \"sec\", \"sec\", \"sec\", \"sec\", \"sec\", \"sec\", \"sec\", \"securities\", \"securities\", \"securities\", \"securities\", \"securities\", \"securities\", \"securities\", \"securities\", \"securities\", \"securities\", \"sell\", \"sell\", \"sell\", \"sell\", \"sell\", \"sell\", \"sell\", \"sell\", \"sell\", \"sell\", \"send\", \"send\", \"send\", \"send\", \"send\", \"send\", \"send\", \"send\", \"send\", \"send\", \"server\", \"server\", \"server\", \"server\", \"server\", \"server\", \"server\", \"server\", \"server\", \"server\", \"service\", \"service\", \"service\", \"service\", \"service\", \"service\", \"service\", \"service\", \"service\", \"service\", \"ses\", \"ses\", \"ses\", \"ses\", \"ses\", \"ses\", \"ses\", \"ses\", \"ses\", \"seversonhouect\", \"seversonhouect\", \"severudehouect\", \"severudehouect\", \"share\", \"share\", \"share\", \"share\", \"share\", \"share\", \"share\", \"share\", \"share\", \"share\", \"shareholder\", \"shareholder\", \"shareholder\", \"shareholder\", \"shareholder\", \"shareholder\", \"shareholder\", \"shareholder\", \"shareholder\", \"shareholder\", \"shaybah\", \"shaybah\", \"shaybah\", \"shaybah\", \"shaybah\", \"sheraton\", \"sheraton\", \"sheraton\", \"sheraton\", \"sheraton\", \"sheraton\", \"sheraton\", \"sheraton\", \"sheraton\", \"sheraton\", \"shielah\", \"shielah\", \"shielah\", \"shielah\", \"shively\", \"shively\", \"shively\", \"shively\", \"shively\", \"shively\", \"shively\", \"shively\", \"shively\", \"shively\", \"shivelyhouect\", \"shivelyhouect\", \"shockmachine\", \"shockmachine\", \"shockmachine\", \"shockmachine\", \"shockmachine\", \"shockwavecom\", \"shockwavecom\", \"shockwavecom\", \"shockwavecom\", \"shockwavecom\", \"shockwavecom\", \"shockwavecom\", \"shockwavecomshockwavemnet\", \"showtime\", \"showtime\", \"showtime\", \"showtime\", \"showtimes\", \"showtimes\", \"showtimes\", \"showtimes\", \"sic\", \"sic\", \"sic\", \"sic\", \"sic\", \"sic\", \"sic\", \"sic\", \"similiar\", \"sit\", \"sit\", \"sit\", \"sit\", \"sit\", \"sit\", \"sit\", \"sit\", \"sit\", \"sit\", \"site\", \"site\", \"site\", \"site\", \"site\", \"site\", \"site\", \"site\", \"site\", \"site\", \"skogsagarna\", \"skogsagarna\", \"smith\", \"smith\", \"smith\", \"smith\", \"smith\", \"smith\", \"smith\", \"smith\", \"smith\", \"smith\", \"soblandercarrfutcom\", \"soblandercarrfutcom\", \"soblandercarrfutcom\", \"soblandercarrfutcom\", \"soblandercarrfutcom\", \"soblandercarrfutcom\", \"socal\", \"socal\", \"socal\", \"socal\", \"socal\", \"socal\", \"socal\", \"socal\", \"socal\", \"socal\", \"soccer\", \"soccer\", \"soccer\", \"soccer\", \"soccer\", \"soccer\", \"soccer\", \"soccer\", \"soccer\", \"soccer\", \"solicitation\", \"solicitation\", \"solicitation\", \"solicitation\", \"solicitation\", \"solicitation\", \"solicitation\", \"solicitation\", \"solicitation\", \"solicitation\", \"sonat\", \"sonat\", \"sont\", \"sont\", \"sont\", \"sont\", \"sont\", \"sont\", \"sont\", \"soundview\", \"soundview\", \"soundview\", \"sourcing\", \"sourcing\", \"sourcing\", \"sourcing\", \"sourcing\", \"sourcing\", \"sourcing\", \"sourcing\", \"sourcing\", \"sourcing\", \"spb\", \"spb\", \"special\", \"special\", \"special\", \"special\", \"special\", \"special\", \"special\", \"special\", \"special\", \"special\", \"specialist\", \"specialist\", \"specialist\", \"specialist\", \"specialist\", \"specialist\", \"specialist\", \"specialist\", \"specs\", \"specs\", \"specs\", \"specs\", \"specs\", \"specs\", \"specs\", \"specs\", \"specs\", \"specs\", \"sponsorship\", \"sponsorship\", \"sponsorship\", \"sponsorship\", \"sponsorship\", \"sponsorship\", \"sponsorship\", \"spotweddoc\", \"spread\", \"spread\", \"spread\", \"spread\", \"spread\", \"spread\", \"spread\", \"spread\", \"spread\", \"spread\", \"sr\", \"sr\", \"sr\", \"sr\", \"sr\", \"sr\", \"sr\", \"sr\", \"sr\", \"sr\", \"ssn\", \"ssn\", \"ssn\", \"stakeholder\", \"stakeholder\", \"stakeholder\", \"stakeholder\", \"stakeholder\", \"stakeholder\", \"stakeholder\", \"stakeholder\", \"stakeholder\", \"stakeholder\", \"state\", \"state\", \"state\", \"state\", \"state\", \"state\", \"state\", \"state\", \"state\", \"state\", \"std\", \"std\", \"std\", \"std\", \"std\", \"std\", \"stephane\", \"stephane\", \"stephenmorseenronnet\", \"stephenmorseenronnet\", \"stephenmorseenronnet\", \"stephenmorseenronnet\", \"stephenmorseenronnet\", \"stephenmorseenronnet\", \"stock\", \"stock\", \"stock\", \"stock\", \"stock\", \"stock\", \"stock\", \"stock\", \"stock\", \"stock\", \"strada\", \"strada\", \"strong\", \"strong\", \"strong\", \"strong\", \"strong\", \"strong\", \"strong\", \"strong\", \"strong\", \"strong\", \"sturmhouect\", \"sturmhouect\", \"subject\", \"subject\", \"subject\", \"subject\", \"subject\", \"subject\", \"subject\", \"subject\", \"subject\", \"subject\", \"suckhope\", \"sun\", \"sun\", \"sun\", \"sun\", \"sun\", \"sun\", \"sun\", \"sun\", \"sun\", \"sun\", \"sunday\", \"sunday\", \"sunday\", \"sunday\", \"sunday\", \"sunday\", \"sunday\", \"sunday\", \"sunday\", \"sunday\", \"sunoss\", \"sunoss\", \"sunoss\", \"supply\", \"supply\", \"supply\", \"supply\", \"supply\", \"supply\", \"supply\", \"supply\", \"supply\", \"supply\", \"surpise\", \"swaps\", \"swaps\", \"sweitzer\", \"sweitzer\", \"t\", \"t\", \"t\", \"t\", \"t\", \"t\", \"t\", \"t\", \"t\", \"t\", \"tail\", \"tail\", \"tail\", \"tail\", \"tail\", \"tail\", \"tail\", \"tail\", \"tail\", \"tails\", \"tails\", \"tails\", \"tantamount\", \"tantamount\", \"taste\", \"taste\", \"taste\", \"taste\", \"taste\", \"taste\", \"taste\", \"taste\", \"taste\", \"taste\", \"tata\", \"tata\", \"tata\", \"tata\", \"tata\", \"tata\", \"tata\", \"tata\", \"tata\", \"tata\", \"tcv\", \"tcv\", \"team\", \"team\", \"team\", \"team\", \"team\", \"team\", \"team\", \"team\", \"team\", \"team\", \"tech\", \"tech\", \"tech\", \"tech\", \"tech\", \"tech\", \"tech\", \"tech\", \"tech\", \"tech\", \"term\", \"term\", \"term\", \"term\", \"term\", \"term\", \"term\", \"term\", \"term\", \"term\", \"textplain\", \"textplain\", \"textplain\", \"textplain\", \"textplain\", \"textplain\", \"textplain\", \"textplain\", \"textplain\", \"textplain\", \"thank\", \"thank\", \"thank\", \"thank\", \"thank\", \"thank\", \"thank\", \"thank\", \"thank\", \"thank\", \"thief\", \"think\", \"think\", \"think\", \"think\", \"think\", \"think\", \"think\", \"think\", \"think\", \"think\", \"tholt\", \"tholt\", \"tholt\", \"tholt\", \"tholt\", \"tholt\", \"tholt\", \"tholt\", \"tholt\", \"tholt\", \"thwhat\", \"tickleless\", \"tickleless\", \"tickleless\", \"tickleless\", \"tim\", \"tim\", \"tim\", \"tim\", \"tim\", \"tim\", \"tim\", \"tim\", \"tim\", \"tim\", \"time\", \"time\", \"time\", \"time\", \"time\", \"time\", \"time\", \"time\", \"time\", \"time\", \"tinentalexchange\", \"toni\", \"toni\", \"tori\", \"tori\", \"tori\", \"tori\", \"tori\", \"tori\", \"tori\", \"tori\", \"tori\", \"tori\", \"torrey\", \"torrey\", \"totale\", \"totale\", \"totale\", \"totale\", \"toute\", \"toute\", \"toute\", \"toute\", \"toute\", \"toute\", \"toute\", \"toute\", \"towbin\", \"tracker\", \"tracker\", \"tracker\", \"tracker\", \"tracker\", \"tracker\", \"trade\", \"trade\", \"trade\", \"trade\", \"trade\", \"trade\", \"trade\", \"trade\", \"trade\", \"trade\", \"tricoli\", \"tricoli\", \"tricoli\", \"tricoli\", \"tricoli\", \"tricoli\", \"ts\", \"ts\", \"ts\", \"ts\", \"ts\", \"ts\", \"ts\", \"ts\", \"ts\", \"ts\", \"ttcs\", \"tx\", \"tx\", \"tx\", \"tx\", \"tx\", \"tx\", \"tx\", \"tx\", \"tx\", \"tx\", \"tycholiz\", \"tycholiz\", \"tycholiz\", \"tycholiz\", \"tycholiz\", \"tycholiz\", \"tycholiz\", \"tycholiz\", \"tycholiz\", \"tycholiz\", \"tyh\", \"udc\", \"udc\", \"udc\", \"udc\", \"udc\", \"udc\", \"ufe\", \"ufe\", \"ufe\", \"ufe\", \"ufe\", \"ufe\", \"ufe\", \"ufe\", \"ufe\", \"unch\", \"unify\", \"unify\", \"unify\", \"unify\", \"unify\", \"unit\", \"unit\", \"unit\", \"unit\", \"unit\", \"unit\", \"unit\", \"unit\", \"unit\", \"unit\", \"universal\", \"universal\", \"universal\", \"universal\", \"universal\", \"universal\", \"universal\", \"universal\", \"unlead\", \"unlead\", \"unlead\", \"unleaded\", \"unleaded\", \"unleaded\", \"unleaded\", \"unleaded\", \"unleaded\", \"unleaded\", \"unleaded\", \"unleaded\", \"unterberg\", \"updating\", \"upgrade\", \"upgrade\", \"upgrade\", \"upgrade\", \"upgrade\", \"upgrade\", \"upgrade\", \"upgrade\", \"upgrade\", \"upgrade\", \"upgradedowngrade\", \"upgradedowngrade\", \"upgradedowngrade\", \"upgradesdowngradescoverage\", \"upgradesdowngradescoverage\", \"upgradesdowngradescoverage\", \"use\", \"use\", \"use\", \"use\", \"use\", \"use\", \"use\", \"use\", \"use\", \"use\", \"usfuel\", \"utilisation\", \"utilisation\", \"utilisation\", \"utilisation\", \"utility\", \"utility\", \"utility\", \"utility\", \"utility\", \"utility\", \"utility\", \"utility\", \"utility\", \"utility\", \"valid\", \"valid\", \"valid\", \"valid\", \"valid\", \"valid\", \"valid\", \"valid\", \"valid\", \"valid\", \"value\", \"value\", \"value\", \"value\", \"value\", \"value\", \"value\", \"value\", \"value\", \"value\", \"velocity\", \"velocity\", \"velocity\", \"ver\", \"ver\", \"ver\", \"ver\", \"ver\", \"ver\", \"ver\", \"ver\", \"ver\", \"ver\", \"vineyard\", \"vineyard\", \"vineyard\", \"vineyard\", \"vineyard\", \"vishal\", \"vishal\", \"vol\", \"vol\", \"vol\", \"vol\", \"vol\", \"vol\", \"vol\", \"vol\", \"vol\", \"vol\", \"vous\", \"vous\", \"vous\", \"vous\", \"w\", \"w\", \"w\", \"w\", \"w\", \"w\", \"w\", \"w\", \"w\", \"w\", \"wacker\", \"wacker\", \"wacker\", \"wacker\", \"wacker\", \"wager\", \"wager\", \"wager\", \"want\", \"want\", \"want\", \"want\", \"want\", \"want\", \"want\", \"want\", \"want\", \"want\", \"ward\", \"ward\", \"ward\", \"ward\", \"ward\", \"ward\", \"ward\", \"ward\", \"ward\", \"ward\", \"wardenronenronxgate\", \"wardenronenronxgate\", \"wardenronenronxgate\", \"wardenronenronxgate\", \"wardenronenronxgate\", \"web\", \"web\", \"web\", \"web\", \"web\", \"web\", \"web\", \"web\", \"web\", \"web\", \"websupportmoneynetcom\", \"websupportmoneynetcom\", \"websupportmoneynetcom\", \"websupportmoneynetcom\", \"week\", \"week\", \"week\", \"week\", \"week\", \"week\", \"week\", \"week\", \"week\", \"week\", \"wells\", \"wells\", \"wells\", \"wells\", \"wells\", \"wells\", \"wells\", \"wessel\", \"wiltfong\", \"wiltfong\", \"wine\", \"wine\", \"wine\", \"wine\", \"wine\", \"wine\", \"wine\", \"wine\", \"wine\", \"wine\", \"witho\", \"work\", \"work\", \"work\", \"work\", \"work\", \"work\", \"work\", \"work\", \"work\", \"work\", \"wtd\", \"wtd\", \"wtd\", \"wtd\", \"wtd\", \"wtd\", \"wtibrent\", \"wtibrent\", \"wtibrent\", \"wtibrent\", \"wv\", \"wv\", \"wwwpopswinecom\", \"wwwsailmainecoastcomindexhtml\", \"wwwsailmainecoastcomindexhtml\", \"xcc\", \"xcc\", \"xcc\", \"xcc\", \"xcc\", \"xcc\", \"xcc\", \"xcc\", \"xcc\", \"xcc\", \"xfilename\", \"xfilename\", \"xfilename\", \"xfilename\", \"xfilename\", \"xfilename\", \"xfilename\", \"xfilename\", \"xfilename\", \"xfilename\", \"xfrom\", \"xfrom\", \"xfrom\", \"xfrom\", \"xfrom\", \"xfrom\", \"xfrom\", \"xfrom\", \"xfrom\", \"xfrom\", \"xto\", \"xto\", \"xto\", \"xto\", \"xto\", \"xto\", \"xto\", \"xto\", \"xto\", \"xto\", \"yahoo\", \"yahoo\", \"yahoo\", \"yahoo\", \"yahoo\", \"yahoo\", \"yahoo\", \"yahoo\", \"yahoo\", \"yahoo\", \"year\", \"year\", \"year\", \"year\", \"year\", \"year\", \"year\", \"year\", \"year\", \"year\", \"zhucorpenronenron\", \"zhucorpenronenron\", \"zinfandel\", \"zinfandel\", \"zinfandel\", \"zinfandel\", \"zip\", \"zip\", \"zip\", \"zip\", \"zip\", \"zip\", \"zip\", \"zip\", \"zip\", \"zip\"]}, \"R\": 30, \"lambda.step\": 0.01, \"plot.opts\": {\"xlab\": \"PC1\", \"ylab\": \"PC2\"}, \"topic.order\": [5, 9, 8, 4, 1, 6, 7, 3, 10, 2]};\n",
              "\n",
              "function LDAvis_load_lib(url, callback){\n",
              "  var s = document.createElement('script');\n",
              "  s.src = url;\n",
              "  s.async = true;\n",
              "  s.onreadystatechange = s.onload = callback;\n",
              "  s.onerror = function(){console.warn(\"failed to load library \" + url);};\n",
              "  document.getElementsByTagName(\"head\")[0].appendChild(s);\n",
              "}\n",
              "\n",
              "if(typeof(LDAvis) !== \"undefined\"){\n",
              "   // already loaded: just create the visualization\n",
              "   !function(LDAvis){\n",
              "       new LDAvis(\"#\" + \"ldavis_el1221402082260619127402095492\", ldavis_el1221402082260619127402095492_data);\n",
              "   }(LDAvis);\n",
              "}else if(typeof define === \"function\" && define.amd){\n",
              "   // require.js is available: use it to load d3/LDAvis\n",
              "   require.config({paths: {d3: \"https://cdnjs.cloudflare.com/ajax/libs/d3/3.5.5/d3.min\"}});\n",
              "   require([\"d3\"], function(d3){\n",
              "      window.d3 = d3;\n",
              "      LDAvis_load_lib(\"https://cdn.rawgit.com/bmabey/pyLDAvis/files/ldavis.v1.0.0.js\", function(){\n",
              "        new LDAvis(\"#\" + \"ldavis_el1221402082260619127402095492\", ldavis_el1221402082260619127402095492_data);\n",
              "      });\n",
              "    });\n",
              "}else{\n",
              "    // require.js not available: dynamically load d3 & LDAvis\n",
              "    LDAvis_load_lib(\"https://cdnjs.cloudflare.com/ajax/libs/d3/3.5.5/d3.min.js\", function(){\n",
              "         LDAvis_load_lib(\"https://cdn.rawgit.com/bmabey/pyLDAvis/files/ldavis.v1.0.0.js\", function(){\n",
              "                 new LDAvis(\"#\" + \"ldavis_el1221402082260619127402095492\", ldavis_el1221402082260619127402095492_data);\n",
              "            })\n",
              "         });\n",
              "}\n",
              "</script>"
            ],
            "text/plain": [
              "PreparedData(topic_coordinates=              x         y  topics  cluster       Freq\n",
              "topic                                                \n",
              "4     -0.116310  0.049421       1        1  21.221546\n",
              "8      0.054948 -0.005994       2        1  17.427231\n",
              "7      0.183789  0.026966       3        1  13.102701\n",
              "3     -0.039487  0.027966       4        1  10.887095\n",
              "0     -0.060642 -0.060082       5        1  10.115372\n",
              "5     -0.035967  0.049277       6        1   5.953598\n",
              "6      0.043070 -0.025051       7        1   5.639210\n",
              "2     -0.025084 -0.116048       8        1   5.594696\n",
              "9     -0.026804  0.054403       9        1   5.228474\n",
              "1      0.022488 -0.000859      10        1   4.830077, topic_info=           Term         Freq        Total Category  logprob  loglift\n",
              "173          pm  8200.000000  8200.000000  Default  30.0000  30.0000\n",
              "2682      image  3027.000000  3027.000000  Default  29.0000  29.0000\n",
              "962       email  5846.000000  5846.000000  Default  28.0000  28.0000\n",
              "77         john  7569.000000  7569.000000  Default  27.0000  27.0000\n",
              "193     subject  7832.000000  7832.000000  Default  26.0000  26.0000\n",
              "...         ...          ...          ...      ...      ...      ...\n",
              "1682  xfilename   152.545563  1559.584839  Topic10  -5.9311   0.7056\n",
              "325     include   160.588043  2287.725098  Topic10  -5.8798   0.3738\n",
              "340        know   158.184372  2985.475830  Topic10  -5.8948   0.0926\n",
              "174       power   161.311600  4119.846191  Topic10  -5.8753  -0.2099\n",
              "133      energy   155.874878  3599.017090  Topic10  -5.9096  -0.1091\n",
              "\n",
              "[922 rows x 6 columns], token_table=      Topic      Freq Term\n",
              "term                      \n",
              "90        1  0.022667     \n",
              "90        2  0.206431     \n",
              "90        3  0.396672     \n",
              "90        4  0.043715     \n",
              "90        5  0.068001     \n",
              "...     ...       ...  ...\n",
              "6314      6  0.016287  zip\n",
              "6314      7  0.146587  zip\n",
              "6314      8  0.016287  zip\n",
              "6314      9  0.024431  zip\n",
              "6314     10  0.016287  zip\n",
              "\n",
              "[4971 rows x 3 columns], R=30, lambda_step=0.01, plot_opts={'xlab': 'PC1', 'ylab': 'PC2'}, topic_order=[5, 9, 8, 4, 1, 6, 7, 3, 10, 2])"
            ]
          },
          "metadata": {
            "tags": []
          },
          "execution_count": 25
        }
      ]
    },
    {
      "cell_type": "code",
      "metadata": {
        "id": "Mu0vqgx1YZuh",
        "colab_type": "code",
        "colab": {}
      },
      "source": [
        "#'corpus'\n",
        "\n",
        "distro = [lda[d] for d in corpus]\n",
        "\n",
        "num_topics = 20\n",
        "\n",
        "def update(doc):\n",
        "        d_dist = {k:0 for k in range(0,num_topics)}\n",
        "        for topic in doc:\n",
        "            d_dist[topic[0]] = topic[1]\n",
        "        return d_dist\n",
        "    \n",
        "new_distro = [update(d) for d in distro]"
      ],
      "execution_count": 0,
      "outputs": []
    },
    {
      "cell_type": "code",
      "metadata": {
        "id": "wzRj8c1_3SJD",
        "colab_type": "code",
        "outputId": "e76bb55d-9600-4a9b-db38-2762514ae18c",
        "colab": {
          "base_uri": "https://localhost:8080/",
          "height": 195
        }
      },
      "source": [
        "#Correlated\n",
        "topics = pd.DataFrame.from_records(new_distro)\n",
        "topics.head()"
      ],
      "execution_count": 0,
      "outputs": [
        {
          "output_type": "execute_result",
          "data": {
            "text/html": [
              "<div>\n",
              "<style scoped>\n",
              "    .dataframe tbody tr th:only-of-type {\n",
              "        vertical-align: middle;\n",
              "    }\n",
              "\n",
              "    .dataframe tbody tr th {\n",
              "        vertical-align: top;\n",
              "    }\n",
              "\n",
              "    .dataframe thead th {\n",
              "        text-align: right;\n",
              "    }\n",
              "</style>\n",
              "<table border=\"1\" class=\"dataframe\">\n",
              "  <thead>\n",
              "    <tr style=\"text-align: right;\">\n",
              "      <th></th>\n",
              "      <th>0</th>\n",
              "      <th>1</th>\n",
              "      <th>2</th>\n",
              "      <th>3</th>\n",
              "      <th>4</th>\n",
              "      <th>5</th>\n",
              "      <th>6</th>\n",
              "      <th>7</th>\n",
              "      <th>8</th>\n",
              "      <th>9</th>\n",
              "      <th>10</th>\n",
              "      <th>11</th>\n",
              "      <th>12</th>\n",
              "      <th>13</th>\n",
              "      <th>14</th>\n",
              "      <th>15</th>\n",
              "      <th>16</th>\n",
              "      <th>17</th>\n",
              "      <th>18</th>\n",
              "      <th>19</th>\n",
              "    </tr>\n",
              "  </thead>\n",
              "  <tbody>\n",
              "    <tr>\n",
              "      <th>0</th>\n",
              "      <td>0.033333</td>\n",
              "      <td>0.033333</td>\n",
              "      <td>0.033333</td>\n",
              "      <td>0.033333</td>\n",
              "      <td>0.033333</td>\n",
              "      <td>0.033333</td>\n",
              "      <td>0.033333</td>\n",
              "      <td>0.033333</td>\n",
              "      <td>0.033333</td>\n",
              "      <td>0.033333</td>\n",
              "      <td>0.033333</td>\n",
              "      <td>0.033333</td>\n",
              "      <td>0.033333</td>\n",
              "      <td>0.033333</td>\n",
              "      <td>0.533333</td>\n",
              "      <td>0</td>\n",
              "      <td>0</td>\n",
              "      <td>0</td>\n",
              "      <td>0</td>\n",
              "      <td>0</td>\n",
              "    </tr>\n",
              "    <tr>\n",
              "      <th>1</th>\n",
              "      <td>0.000000</td>\n",
              "      <td>0.000000</td>\n",
              "      <td>0.000000</td>\n",
              "      <td>0.102773</td>\n",
              "      <td>0.000000</td>\n",
              "      <td>0.000000</td>\n",
              "      <td>0.000000</td>\n",
              "      <td>0.000000</td>\n",
              "      <td>0.882783</td>\n",
              "      <td>0.000000</td>\n",
              "      <td>0.000000</td>\n",
              "      <td>0.000000</td>\n",
              "      <td>0.000000</td>\n",
              "      <td>0.000000</td>\n",
              "      <td>0.000000</td>\n",
              "      <td>0</td>\n",
              "      <td>0</td>\n",
              "      <td>0</td>\n",
              "      <td>0</td>\n",
              "      <td>0</td>\n",
              "    </tr>\n",
              "    <tr>\n",
              "      <th>2</th>\n",
              "      <td>0.016667</td>\n",
              "      <td>0.016667</td>\n",
              "      <td>0.016667</td>\n",
              "      <td>0.016667</td>\n",
              "      <td>0.016667</td>\n",
              "      <td>0.016667</td>\n",
              "      <td>0.016667</td>\n",
              "      <td>0.016667</td>\n",
              "      <td>0.016667</td>\n",
              "      <td>0.016667</td>\n",
              "      <td>0.766666</td>\n",
              "      <td>0.016667</td>\n",
              "      <td>0.016667</td>\n",
              "      <td>0.016667</td>\n",
              "      <td>0.016667</td>\n",
              "      <td>0</td>\n",
              "      <td>0</td>\n",
              "      <td>0</td>\n",
              "      <td>0</td>\n",
              "      <td>0</td>\n",
              "    </tr>\n",
              "    <tr>\n",
              "      <th>3</th>\n",
              "      <td>0.000000</td>\n",
              "      <td>0.000000</td>\n",
              "      <td>0.637493</td>\n",
              "      <td>0.308340</td>\n",
              "      <td>0.000000</td>\n",
              "      <td>0.000000</td>\n",
              "      <td>0.000000</td>\n",
              "      <td>0.000000</td>\n",
              "      <td>0.000000</td>\n",
              "      <td>0.000000</td>\n",
              "      <td>0.000000</td>\n",
              "      <td>0.000000</td>\n",
              "      <td>0.000000</td>\n",
              "      <td>0.000000</td>\n",
              "      <td>0.000000</td>\n",
              "      <td>0</td>\n",
              "      <td>0</td>\n",
              "      <td>0</td>\n",
              "      <td>0</td>\n",
              "      <td>0</td>\n",
              "    </tr>\n",
              "    <tr>\n",
              "      <th>4</th>\n",
              "      <td>0.016667</td>\n",
              "      <td>0.016667</td>\n",
              "      <td>0.016667</td>\n",
              "      <td>0.016667</td>\n",
              "      <td>0.016667</td>\n",
              "      <td>0.016667</td>\n",
              "      <td>0.016667</td>\n",
              "      <td>0.016667</td>\n",
              "      <td>0.016667</td>\n",
              "      <td>0.016667</td>\n",
              "      <td>0.016667</td>\n",
              "      <td>0.016667</td>\n",
              "      <td>0.766666</td>\n",
              "      <td>0.016667</td>\n",
              "      <td>0.016667</td>\n",
              "      <td>0</td>\n",
              "      <td>0</td>\n",
              "      <td>0</td>\n",
              "      <td>0</td>\n",
              "      <td>0</td>\n",
              "    </tr>\n",
              "  </tbody>\n",
              "</table>\n",
              "</div>"
            ],
            "text/plain": [
              "         0         1         2         3         4   ...  15  16  17  18  19\n",
              "0  0.033333  0.033333  0.033333  0.033333  0.033333  ...   0   0   0   0   0\n",
              "1  0.000000  0.000000  0.000000  0.102773  0.000000  ...   0   0   0   0   0\n",
              "2  0.016667  0.016667  0.016667  0.016667  0.016667  ...   0   0   0   0   0\n",
              "3  0.000000  0.000000  0.637493  0.308340  0.000000  ...   0   0   0   0   0\n",
              "4  0.016667  0.016667  0.016667  0.016667  0.016667  ...   0   0   0   0   0\n",
              "\n",
              "[5 rows x 20 columns]"
            ]
          },
          "metadata": {
            "tags": []
          },
          "execution_count": 94
        }
      ]
    },
    {
      "cell_type": "code",
      "metadata": {
        "id": "mEFICbWM3UjZ",
        "colab_type": "code",
        "colab": {}
      },
      "source": [
        "df['email_body'] = topics.idxmax(axis=1)"
      ],
      "execution_count": 0,
      "outputs": []
    },
    {
      "cell_type": "code",
      "metadata": {
        "id": "Dj3OPJ4s3asl",
        "colab_type": "code",
        "outputId": "7ff7a114-37de-4d68-c382-1707a9c0b59c",
        "colab": {
          "base_uri": "https://localhost:8080/",
          "height": 168
        }
      },
      "source": [
        "#Topic  \n",
        "df['email_body'].describe()"
      ],
      "execution_count": 0,
      "outputs": [
        {
          "output_type": "execute_result",
          "data": {
            "text/plain": [
              "count    75.000000\n",
              "mean      5.453333\n",
              "std       4.037973\n",
              "min       0.000000\n",
              "25%       2.000000\n",
              "50%       5.000000\n",
              "75%       8.000000\n",
              "max      14.000000\n",
              "Name: email_body, dtype: float64"
            ]
          },
          "metadata": {
            "tags": []
          },
          "execution_count": 96
        }
      ]
    },
    {
      "cell_type": "code",
      "metadata": {
        "id": "zcoAl52wZ2ac",
        "colab_type": "code",
        "outputId": "b5b481a1-352e-4cdd-a6a3-6f0dde9faf14",
        "colab": {
          "base_uri": "https://localhost:8080/",
          "height": 286
        }
      },
      "source": [
        "df['email_body'].value_counts()"
      ],
      "execution_count": 0,
      "outputs": [
        {
          "output_type": "execute_result",
          "data": {
            "text/plain": [
              "1     14\n",
              "3     13\n",
              "5     12\n",
              "8     10\n",
              "9      5\n",
              "14     3\n",
              "13     3\n",
              "12     3\n",
              "2      3\n",
              "0      3\n",
              "10     2\n",
              "11     1\n",
              "7      1\n",
              "6      1\n",
              "4      1\n",
              "Name: email_body, dtype: int64"
            ]
          },
          "metadata": {
            "tags": []
          },
          "execution_count": 97
        }
      ]
    },
    {
      "cell_type": "markdown",
      "metadata": {
        "id": "b1XTjLs5Nb1w",
        "colab_type": "text"
      },
      "source": [
        "##Create the Emails Tags"
      ]
    },
    {
      "cell_type": "markdown",
      "metadata": {
        "id": "oDBEbw4QAdvA",
        "colab_type": "text"
      },
      "source": [
        "##tfidf term frequency–inverse document frequency\n"
      ]
    },
    {
      "cell_type": "code",
      "metadata": {
        "id": "2MUeorp9jplF",
        "colab_type": "code",
        "outputId": "e735a5e2-da72-4a72-f834-173f6b552b20",
        "colab": {
          "base_uri": "https://localhost:8080/",
          "height": 101
        }
      },
      "source": [
        "import nltk\n",
        "nltk.download('stopwords')\n",
        "nltk.download('punkt')"
      ],
      "execution_count": 0,
      "outputs": [
        {
          "output_type": "stream",
          "text": [
            "[nltk_data] Downloading package stopwords to /root/nltk_data...\n",
            "[nltk_data]   Package stopwords is already up-to-date!\n",
            "[nltk_data] Downloading package punkt to /root/nltk_data...\n",
            "[nltk_data]   Package punkt is already up-to-date!\n"
          ],
          "name": "stdout"
        },
        {
          "output_type": "execute_result",
          "data": {
            "text/plain": [
              "True"
            ]
          },
          "metadata": {
            "tags": []
          },
          "execution_count": 98
        }
      ]
    },
    {
      "cell_type": "code",
      "metadata": {
        "id": "3bXK0VeKjfCq",
        "colab_type": "code",
        "outputId": "9977894e-102a-4946-8fa6-a73a61f6d56a",
        "colab": {
          "base_uri": "https://localhost:8080/",
          "height": 54
        }
      },
      "source": [
        "from nltk.tokenize import word_tokenize\n",
        "\n",
        "# split into words\n",
        "tokens = word_tokenize(email)\n",
        "\n",
        "# convert to lower case\n",
        "tokens = [w.lower() for w in tokens]\n",
        "\n",
        "# prepare regex for char filtering\n",
        "re_punc = re.compile('[%s]' % re.escape(string.punctuation))\n",
        "\n",
        "# remove punctuation from each word\n",
        "stripped = [re_punc.sub('', w) for w in tokens]\n",
        "\n",
        "# remove remaining tokens that are not alphabetic\n",
        "words = [word for word in stripped if word.isalpha()]\n",
        "\n",
        "# filter out stop words\n",
        "stop_words = set(stopwords.words('english'))\n",
        "words = [w for w in words if not w in stop_words]\n",
        "print(words[:200])"
      ],
      "execution_count": 0,
      "outputs": [
        {
          "output_type": "stream",
          "text": [
            "['traveling', 'business', 'meeting', 'takes', 'fun', 'trip', 'especially', 'prepare', 'presentation', 'would', 'suggest', 'holding', 'business', 'plan', 'meetings', 'take', 'trip', 'without', 'formal', 'business', 'meetings', 'would', 'even', 'try', 'get', 'honest', 'opinions', 'whether', 'trip', 'even', 'desired', 'necessary', 'far', 'business', 'meetings', 'think', 'would', 'productive', 'try', 'stimulate', 'discussions', 'across', 'different', 'groups', 'working', 'often', 'presenter', 'speaks', 'others', 'quiet', 'waiting', 'turn', 'meetings', 'might', 'better', 'held', 'round', 'table', 'discussion', 'format', 'suggestion', 'go', 'austin', 'play', 'golf', 'rent', 'ski', 'boat', 'jet', 'ski', 'flying', 'somewhere', 'takes', 'much', 'time']\n"
          ],
          "name": "stdout"
        }
      ]
    },
    {
      "cell_type": "code",
      "metadata": {
        "id": "n6sRp4mhci07",
        "colab_type": "code",
        "outputId": "b2f1f080-f472-467b-f99e-5755e202bdda",
        "colab": {
          "base_uri": "https://localhost:8080/",
          "height": 54
        }
      },
      "source": [
        "from sklearn.feature_extraction.text import CountVectorizer\n",
        "\n",
        "count_vec = CountVectorizer(stop_words=\"english\", analyzer='word', \n",
        "                            ngram_range=(1, 2), max_df=1.0, min_df=1, max_features=None)\n",
        "\n",
        "count_train = count_vec.fit(words)\n",
        "bag_of_words = count_vec.transform(words)\n",
        "\n",
        "print(count_vec.get_feature_names())"
      ],
      "execution_count": 0,
      "outputs": [
        {
          "output_type": "stream",
          "text": [
            "['austin', 'better', 'boat', 'business', 'desired', 'different', 'discussion', 'discussions', 'especially', 'far', 'flying', 'formal', 'format', 'fun', 'golf', 'groups', 'held', 'holding', 'honest', 'jet', 'meeting', 'meetings', 'necessary', 'opinions', 'plan', 'play', 'prepare', 'presentation', 'presenter', 'productive', 'quiet', 'rent', 'round', 'ski', 'speaks', 'stimulate', 'suggest', 'suggestion', 'table', 'takes', 'think', 'time', 'traveling', 'trip', 'try', 'turn', 'waiting', 'working']\n"
          ],
          "name": "stdout"
        }
      ]
    },
    {
      "cell_type": "code",
      "metadata": {
        "id": "kKc20BkocwOV",
        "colab_type": "code",
        "outputId": "b9093bf9-724a-4813-aaba-7ec91d6a0f7d",
        "colab": {
          "base_uri": "https://localhost:8080/",
          "height": 54
        }
      },
      "source": [
        "text_freque = TfidfVectorizer(smooth_idf=False, sublinear_tf=False, norm=None, analyzer='word')\n",
        "txt_fitted = text_freque.fit(words)\n",
        "txt_transformed = txt_fitted.transform(words)\n",
        "print (\"The text: \", words)"
      ],
      "execution_count": 0,
      "outputs": [
        {
          "output_type": "stream",
          "text": [
            "The text:  ['traveling', 'business', 'meeting', 'takes', 'fun', 'trip', 'especially', 'prepare', 'presentation', 'would', 'suggest', 'holding', 'business', 'plan', 'meetings', 'take', 'trip', 'without', 'formal', 'business', 'meetings', 'would', 'even', 'try', 'get', 'honest', 'opinions', 'whether', 'trip', 'even', 'desired', 'necessary', 'far', 'business', 'meetings', 'think', 'would', 'productive', 'try', 'stimulate', 'discussions', 'across', 'different', 'groups', 'working', 'often', 'presenter', 'speaks', 'others', 'quiet', 'waiting', 'turn', 'meetings', 'might', 'better', 'held', 'round', 'table', 'discussion', 'format', 'suggestion', 'go', 'austin', 'play', 'golf', 'rent', 'ski', 'boat', 'jet', 'ski', 'flying', 'somewhere', 'takes', 'much', 'time']\n"
          ],
          "name": "stdout"
        }
      ]
    },
    {
      "cell_type": "code",
      "metadata": {
        "id": "RvAnPbzxcx75",
        "colab_type": "code",
        "outputId": "66bfb21b-167e-4777-8582-2dcab364aa09",
        "colab": {
          "base_uri": "https://localhost:8080/",
          "height": 54
        }
      },
      "source": [
        "idfreque = text_freque.idf_\n",
        "print(dict(zip(txt_fitted.get_feature_names(), idfreque)))"
      ],
      "execution_count": 0,
      "outputs": [
        {
          "output_type": "stream",
          "text": [
            "{'across': 5.31748811353631, 'austin': 5.31748811353631, 'better': 5.31748811353631, 'boat': 5.31748811353631, 'business': 3.9311937524164198, 'desired': 5.31748811353631, 'different': 5.31748811353631, 'discussion': 5.31748811353631, 'discussions': 5.31748811353631, 'especially': 5.31748811353631, 'even': 4.624340932976365, 'far': 5.31748811353631, 'flying': 5.31748811353631, 'formal': 5.31748811353631, 'format': 5.31748811353631, 'fun': 5.31748811353631, 'get': 5.31748811353631, 'go': 5.31748811353631, 'golf': 5.31748811353631, 'groups': 5.31748811353631, 'held': 5.31748811353631, 'holding': 5.31748811353631, 'honest': 5.31748811353631, 'jet': 5.31748811353631, 'meeting': 5.31748811353631, 'meetings': 3.9311937524164198, 'might': 5.31748811353631, 'much': 5.31748811353631, 'necessary': 5.31748811353631, 'often': 5.31748811353631, 'opinions': 5.31748811353631, 'others': 5.31748811353631, 'plan': 5.31748811353631, 'play': 5.31748811353631, 'prepare': 5.31748811353631, 'presentation': 5.31748811353631, 'presenter': 5.31748811353631, 'productive': 5.31748811353631, 'quiet': 5.31748811353631, 'rent': 5.31748811353631, 'round': 5.31748811353631, 'ski': 4.624340932976365, 'somewhere': 5.31748811353631, 'speaks': 5.31748811353631, 'stimulate': 5.31748811353631, 'suggest': 5.31748811353631, 'suggestion': 5.31748811353631, 'table': 5.31748811353631, 'take': 5.31748811353631, 'takes': 4.624340932976365, 'think': 5.31748811353631, 'time': 5.31748811353631, 'traveling': 5.31748811353631, 'trip': 4.218875824868201, 'try': 4.624340932976365, 'turn': 5.31748811353631, 'waiting': 5.31748811353631, 'whether': 5.31748811353631, 'without': 5.31748811353631, 'working': 5.31748811353631, 'would': 4.218875824868201}\n"
          ],
          "name": "stdout"
        }
      ]
    },
    {
      "cell_type": "code",
      "metadata": {
        "id": "tp7q_UHCczqO",
        "colab_type": "code",
        "outputId": "bdfa503e-0f6e-4d46-ea28-5c8aee992eed",
        "colab": {
          "base_uri": "https://localhost:8080/",
          "height": 1000
        }
      },
      "source": [
        "text_freque.vocabulary_"
      ],
      "execution_count": 0,
      "outputs": [
        {
          "output_type": "execute_result",
          "data": {
            "text/plain": [
              "{'across': 0,\n",
              " 'austin': 1,\n",
              " 'better': 2,\n",
              " 'boat': 3,\n",
              " 'business': 4,\n",
              " 'desired': 5,\n",
              " 'different': 6,\n",
              " 'discussion': 7,\n",
              " 'discussions': 8,\n",
              " 'especially': 9,\n",
              " 'even': 10,\n",
              " 'far': 11,\n",
              " 'flying': 12,\n",
              " 'formal': 13,\n",
              " 'format': 14,\n",
              " 'fun': 15,\n",
              " 'get': 16,\n",
              " 'go': 17,\n",
              " 'golf': 18,\n",
              " 'groups': 19,\n",
              " 'held': 20,\n",
              " 'holding': 21,\n",
              " 'honest': 22,\n",
              " 'jet': 23,\n",
              " 'meeting': 24,\n",
              " 'meetings': 25,\n",
              " 'might': 26,\n",
              " 'much': 27,\n",
              " 'necessary': 28,\n",
              " 'often': 29,\n",
              " 'opinions': 30,\n",
              " 'others': 31,\n",
              " 'plan': 32,\n",
              " 'play': 33,\n",
              " 'prepare': 34,\n",
              " 'presentation': 35,\n",
              " 'presenter': 36,\n",
              " 'productive': 37,\n",
              " 'quiet': 38,\n",
              " 'rent': 39,\n",
              " 'round': 40,\n",
              " 'ski': 41,\n",
              " 'somewhere': 42,\n",
              " 'speaks': 43,\n",
              " 'stimulate': 44,\n",
              " 'suggest': 45,\n",
              " 'suggestion': 46,\n",
              " 'table': 47,\n",
              " 'take': 48,\n",
              " 'takes': 49,\n",
              " 'think': 50,\n",
              " 'time': 51,\n",
              " 'traveling': 52,\n",
              " 'trip': 53,\n",
              " 'try': 54,\n",
              " 'turn': 55,\n",
              " 'waiting': 56,\n",
              " 'whether': 57,\n",
              " 'without': 58,\n",
              " 'working': 59,\n",
              " 'would': 60}"
            ]
          },
          "metadata": {
            "tags": []
          },
          "execution_count": 103
        }
      ]
    },
    {
      "cell_type": "code",
      "metadata": {
        "id": "pBdx3bBic4WH",
        "colab_type": "code",
        "outputId": "ff28aee9-d1f2-41a3-e46b-4f706c4a24b7",
        "colab": {
          "base_uri": "https://localhost:8080/",
          "height": 1000
        }
      },
      "source": [
        "words_dist = dict(zip(txt_fitted.get_feature_names(), idfreque))\n",
        "words_dist"
      ],
      "execution_count": 0,
      "outputs": [
        {
          "output_type": "execute_result",
          "data": {
            "text/plain": [
              "{'across': 5.31748811353631,\n",
              " 'austin': 5.31748811353631,\n",
              " 'better': 5.31748811353631,\n",
              " 'boat': 5.31748811353631,\n",
              " 'business': 3.9311937524164198,\n",
              " 'desired': 5.31748811353631,\n",
              " 'different': 5.31748811353631,\n",
              " 'discussion': 5.31748811353631,\n",
              " 'discussions': 5.31748811353631,\n",
              " 'especially': 5.31748811353631,\n",
              " 'even': 4.624340932976365,\n",
              " 'far': 5.31748811353631,\n",
              " 'flying': 5.31748811353631,\n",
              " 'formal': 5.31748811353631,\n",
              " 'format': 5.31748811353631,\n",
              " 'fun': 5.31748811353631,\n",
              " 'get': 5.31748811353631,\n",
              " 'go': 5.31748811353631,\n",
              " 'golf': 5.31748811353631,\n",
              " 'groups': 5.31748811353631,\n",
              " 'held': 5.31748811353631,\n",
              " 'holding': 5.31748811353631,\n",
              " 'honest': 5.31748811353631,\n",
              " 'jet': 5.31748811353631,\n",
              " 'meeting': 5.31748811353631,\n",
              " 'meetings': 3.9311937524164198,\n",
              " 'might': 5.31748811353631,\n",
              " 'much': 5.31748811353631,\n",
              " 'necessary': 5.31748811353631,\n",
              " 'often': 5.31748811353631,\n",
              " 'opinions': 5.31748811353631,\n",
              " 'others': 5.31748811353631,\n",
              " 'plan': 5.31748811353631,\n",
              " 'play': 5.31748811353631,\n",
              " 'prepare': 5.31748811353631,\n",
              " 'presentation': 5.31748811353631,\n",
              " 'presenter': 5.31748811353631,\n",
              " 'productive': 5.31748811353631,\n",
              " 'quiet': 5.31748811353631,\n",
              " 'rent': 5.31748811353631,\n",
              " 'round': 5.31748811353631,\n",
              " 'ski': 4.624340932976365,\n",
              " 'somewhere': 5.31748811353631,\n",
              " 'speaks': 5.31748811353631,\n",
              " 'stimulate': 5.31748811353631,\n",
              " 'suggest': 5.31748811353631,\n",
              " 'suggestion': 5.31748811353631,\n",
              " 'table': 5.31748811353631,\n",
              " 'take': 5.31748811353631,\n",
              " 'takes': 4.624340932976365,\n",
              " 'think': 5.31748811353631,\n",
              " 'time': 5.31748811353631,\n",
              " 'traveling': 5.31748811353631,\n",
              " 'trip': 4.218875824868201,\n",
              " 'try': 4.624340932976365,\n",
              " 'turn': 5.31748811353631,\n",
              " 'waiting': 5.31748811353631,\n",
              " 'whether': 5.31748811353631,\n",
              " 'without': 5.31748811353631,\n",
              " 'working': 5.31748811353631,\n",
              " 'would': 4.218875824868201}"
            ]
          },
          "metadata": {
            "tags": []
          },
          "execution_count": 104
        }
      ]
    },
    {
      "cell_type": "code",
      "metadata": {
        "id": "YD0Sy6ZRo5b6",
        "colab_type": "code",
        "outputId": "3289789a-dec5-4eef-de91-b074e80cbb50",
        "colab": {
          "base_uri": "https://localhost:8080/",
          "height": 101
        }
      },
      "source": [
        "import numpy as np\n",
        "\n",
        "# get feature names\n",
        "feature_names = np.array(text_freque.get_feature_names())\n",
        "sorted_by_idf = np.argsort(text_freque.idf_)\n",
        "print(\"Features with lowest id frequence:\\n{}\".format(feature_names[sorted_by_idf[:3]]))\n",
        "print(\"\\nFeatures with highest id frequence:\\n{}\".format(feature_names[sorted_by_idf[-3:]]))"
      ],
      "execution_count": 0,
      "outputs": [
        {
          "output_type": "stream",
          "text": [
            "Features with lowest id frequence:\n",
            "['business' 'meetings' 'would']\n",
            "\n",
            "Features with highest id frequence:\n",
            "['often' 'get' 'opinions']\n"
          ],
          "name": "stdout"
        }
      ]
    },
    {
      "cell_type": "markdown",
      "metadata": {
        "id": "0w1c1L8QkmO-",
        "colab_type": "text"
      },
      "source": [
        "##TFID VECTORIZER  - Transforms text to feature vectors\n"
      ]
    },
    {
      "cell_type": "code",
      "metadata": {
        "id": "K3Rrh2M7kmkl",
        "colab_type": "code",
        "outputId": "556718c8-4cc7-477f-9f93-8299a6dc076f",
        "colab": {
          "base_uri": "https://localhost:8080/",
          "height": 215
        }
      },
      "source": [
        "from sklearn.feature_extraction.text import TfidfVectorizer\n",
        "\n",
        "# Instantiate vectorizer object\n",
        "tfidf = TfidfVectorizer(stop_words='english', max_features=5000)\n",
        "\n",
        "# Create a vocabulary and get word counts per document\n",
        "data = tfidf.fit_transform(words) # Similiar to fit_predict\n",
        "\n",
        "# Print word counts\n",
        "\n",
        "# Get feature names to use as dataframe column headers\n",
        "data = pd.DataFrame(data.todense(), columns=tfidf.get_feature_names())\n",
        "\n",
        "# View Feature Matrix as DataFrame\n",
        "data.head()"
      ],
      "execution_count": 0,
      "outputs": [
        {
          "output_type": "execute_result",
          "data": {
            "text/html": [
              "<div>\n",
              "<style scoped>\n",
              "    .dataframe tbody tr th:only-of-type {\n",
              "        vertical-align: middle;\n",
              "    }\n",
              "\n",
              "    .dataframe tbody tr th {\n",
              "        vertical-align: top;\n",
              "    }\n",
              "\n",
              "    .dataframe thead th {\n",
              "        text-align: right;\n",
              "    }\n",
              "</style>\n",
              "<table border=\"1\" class=\"dataframe\">\n",
              "  <thead>\n",
              "    <tr style=\"text-align: right;\">\n",
              "      <th></th>\n",
              "      <th>austin</th>\n",
              "      <th>better</th>\n",
              "      <th>boat</th>\n",
              "      <th>business</th>\n",
              "      <th>desired</th>\n",
              "      <th>different</th>\n",
              "      <th>discussion</th>\n",
              "      <th>discussions</th>\n",
              "      <th>especially</th>\n",
              "      <th>far</th>\n",
              "      <th>flying</th>\n",
              "      <th>formal</th>\n",
              "      <th>format</th>\n",
              "      <th>fun</th>\n",
              "      <th>golf</th>\n",
              "      <th>groups</th>\n",
              "      <th>held</th>\n",
              "      <th>holding</th>\n",
              "      <th>honest</th>\n",
              "      <th>jet</th>\n",
              "      <th>meeting</th>\n",
              "      <th>meetings</th>\n",
              "      <th>necessary</th>\n",
              "      <th>opinions</th>\n",
              "      <th>plan</th>\n",
              "      <th>play</th>\n",
              "      <th>prepare</th>\n",
              "      <th>presentation</th>\n",
              "      <th>presenter</th>\n",
              "      <th>productive</th>\n",
              "      <th>quiet</th>\n",
              "      <th>rent</th>\n",
              "      <th>round</th>\n",
              "      <th>ski</th>\n",
              "      <th>speaks</th>\n",
              "      <th>stimulate</th>\n",
              "      <th>suggest</th>\n",
              "      <th>suggestion</th>\n",
              "      <th>table</th>\n",
              "      <th>takes</th>\n",
              "      <th>think</th>\n",
              "      <th>time</th>\n",
              "      <th>traveling</th>\n",
              "      <th>trip</th>\n",
              "      <th>try</th>\n",
              "      <th>turn</th>\n",
              "      <th>waiting</th>\n",
              "      <th>working</th>\n",
              "    </tr>\n",
              "  </thead>\n",
              "  <tbody>\n",
              "    <tr>\n",
              "      <th>0</th>\n",
              "      <td>0.0</td>\n",
              "      <td>0.0</td>\n",
              "      <td>0.0</td>\n",
              "      <td>0.0</td>\n",
              "      <td>0.0</td>\n",
              "      <td>0.0</td>\n",
              "      <td>0.0</td>\n",
              "      <td>0.0</td>\n",
              "      <td>0.0</td>\n",
              "      <td>0.0</td>\n",
              "      <td>0.0</td>\n",
              "      <td>0.0</td>\n",
              "      <td>0.0</td>\n",
              "      <td>0.0</td>\n",
              "      <td>0.0</td>\n",
              "      <td>0.0</td>\n",
              "      <td>0.0</td>\n",
              "      <td>0.0</td>\n",
              "      <td>0.0</td>\n",
              "      <td>0.0</td>\n",
              "      <td>0.0</td>\n",
              "      <td>0.0</td>\n",
              "      <td>0.0</td>\n",
              "      <td>0.0</td>\n",
              "      <td>0.0</td>\n",
              "      <td>0.0</td>\n",
              "      <td>0.0</td>\n",
              "      <td>0.0</td>\n",
              "      <td>0.0</td>\n",
              "      <td>0.0</td>\n",
              "      <td>0.0</td>\n",
              "      <td>0.0</td>\n",
              "      <td>0.0</td>\n",
              "      <td>0.0</td>\n",
              "      <td>0.0</td>\n",
              "      <td>0.0</td>\n",
              "      <td>0.0</td>\n",
              "      <td>0.0</td>\n",
              "      <td>0.0</td>\n",
              "      <td>0.0</td>\n",
              "      <td>0.0</td>\n",
              "      <td>0.0</td>\n",
              "      <td>1.0</td>\n",
              "      <td>0.0</td>\n",
              "      <td>0.0</td>\n",
              "      <td>0.0</td>\n",
              "      <td>0.0</td>\n",
              "      <td>0.0</td>\n",
              "    </tr>\n",
              "    <tr>\n",
              "      <th>1</th>\n",
              "      <td>0.0</td>\n",
              "      <td>0.0</td>\n",
              "      <td>0.0</td>\n",
              "      <td>1.0</td>\n",
              "      <td>0.0</td>\n",
              "      <td>0.0</td>\n",
              "      <td>0.0</td>\n",
              "      <td>0.0</td>\n",
              "      <td>0.0</td>\n",
              "      <td>0.0</td>\n",
              "      <td>0.0</td>\n",
              "      <td>0.0</td>\n",
              "      <td>0.0</td>\n",
              "      <td>0.0</td>\n",
              "      <td>0.0</td>\n",
              "      <td>0.0</td>\n",
              "      <td>0.0</td>\n",
              "      <td>0.0</td>\n",
              "      <td>0.0</td>\n",
              "      <td>0.0</td>\n",
              "      <td>0.0</td>\n",
              "      <td>0.0</td>\n",
              "      <td>0.0</td>\n",
              "      <td>0.0</td>\n",
              "      <td>0.0</td>\n",
              "      <td>0.0</td>\n",
              "      <td>0.0</td>\n",
              "      <td>0.0</td>\n",
              "      <td>0.0</td>\n",
              "      <td>0.0</td>\n",
              "      <td>0.0</td>\n",
              "      <td>0.0</td>\n",
              "      <td>0.0</td>\n",
              "      <td>0.0</td>\n",
              "      <td>0.0</td>\n",
              "      <td>0.0</td>\n",
              "      <td>0.0</td>\n",
              "      <td>0.0</td>\n",
              "      <td>0.0</td>\n",
              "      <td>0.0</td>\n",
              "      <td>0.0</td>\n",
              "      <td>0.0</td>\n",
              "      <td>0.0</td>\n",
              "      <td>0.0</td>\n",
              "      <td>0.0</td>\n",
              "      <td>0.0</td>\n",
              "      <td>0.0</td>\n",
              "      <td>0.0</td>\n",
              "    </tr>\n",
              "    <tr>\n",
              "      <th>2</th>\n",
              "      <td>0.0</td>\n",
              "      <td>0.0</td>\n",
              "      <td>0.0</td>\n",
              "      <td>0.0</td>\n",
              "      <td>0.0</td>\n",
              "      <td>0.0</td>\n",
              "      <td>0.0</td>\n",
              "      <td>0.0</td>\n",
              "      <td>0.0</td>\n",
              "      <td>0.0</td>\n",
              "      <td>0.0</td>\n",
              "      <td>0.0</td>\n",
              "      <td>0.0</td>\n",
              "      <td>0.0</td>\n",
              "      <td>0.0</td>\n",
              "      <td>0.0</td>\n",
              "      <td>0.0</td>\n",
              "      <td>0.0</td>\n",
              "      <td>0.0</td>\n",
              "      <td>0.0</td>\n",
              "      <td>1.0</td>\n",
              "      <td>0.0</td>\n",
              "      <td>0.0</td>\n",
              "      <td>0.0</td>\n",
              "      <td>0.0</td>\n",
              "      <td>0.0</td>\n",
              "      <td>0.0</td>\n",
              "      <td>0.0</td>\n",
              "      <td>0.0</td>\n",
              "      <td>0.0</td>\n",
              "      <td>0.0</td>\n",
              "      <td>0.0</td>\n",
              "      <td>0.0</td>\n",
              "      <td>0.0</td>\n",
              "      <td>0.0</td>\n",
              "      <td>0.0</td>\n",
              "      <td>0.0</td>\n",
              "      <td>0.0</td>\n",
              "      <td>0.0</td>\n",
              "      <td>0.0</td>\n",
              "      <td>0.0</td>\n",
              "      <td>0.0</td>\n",
              "      <td>0.0</td>\n",
              "      <td>0.0</td>\n",
              "      <td>0.0</td>\n",
              "      <td>0.0</td>\n",
              "      <td>0.0</td>\n",
              "      <td>0.0</td>\n",
              "    </tr>\n",
              "    <tr>\n",
              "      <th>3</th>\n",
              "      <td>0.0</td>\n",
              "      <td>0.0</td>\n",
              "      <td>0.0</td>\n",
              "      <td>0.0</td>\n",
              "      <td>0.0</td>\n",
              "      <td>0.0</td>\n",
              "      <td>0.0</td>\n",
              "      <td>0.0</td>\n",
              "      <td>0.0</td>\n",
              "      <td>0.0</td>\n",
              "      <td>0.0</td>\n",
              "      <td>0.0</td>\n",
              "      <td>0.0</td>\n",
              "      <td>0.0</td>\n",
              "      <td>0.0</td>\n",
              "      <td>0.0</td>\n",
              "      <td>0.0</td>\n",
              "      <td>0.0</td>\n",
              "      <td>0.0</td>\n",
              "      <td>0.0</td>\n",
              "      <td>0.0</td>\n",
              "      <td>0.0</td>\n",
              "      <td>0.0</td>\n",
              "      <td>0.0</td>\n",
              "      <td>0.0</td>\n",
              "      <td>0.0</td>\n",
              "      <td>0.0</td>\n",
              "      <td>0.0</td>\n",
              "      <td>0.0</td>\n",
              "      <td>0.0</td>\n",
              "      <td>0.0</td>\n",
              "      <td>0.0</td>\n",
              "      <td>0.0</td>\n",
              "      <td>0.0</td>\n",
              "      <td>0.0</td>\n",
              "      <td>0.0</td>\n",
              "      <td>0.0</td>\n",
              "      <td>0.0</td>\n",
              "      <td>0.0</td>\n",
              "      <td>1.0</td>\n",
              "      <td>0.0</td>\n",
              "      <td>0.0</td>\n",
              "      <td>0.0</td>\n",
              "      <td>0.0</td>\n",
              "      <td>0.0</td>\n",
              "      <td>0.0</td>\n",
              "      <td>0.0</td>\n",
              "      <td>0.0</td>\n",
              "    </tr>\n",
              "    <tr>\n",
              "      <th>4</th>\n",
              "      <td>0.0</td>\n",
              "      <td>0.0</td>\n",
              "      <td>0.0</td>\n",
              "      <td>0.0</td>\n",
              "      <td>0.0</td>\n",
              "      <td>0.0</td>\n",
              "      <td>0.0</td>\n",
              "      <td>0.0</td>\n",
              "      <td>0.0</td>\n",
              "      <td>0.0</td>\n",
              "      <td>0.0</td>\n",
              "      <td>0.0</td>\n",
              "      <td>0.0</td>\n",
              "      <td>1.0</td>\n",
              "      <td>0.0</td>\n",
              "      <td>0.0</td>\n",
              "      <td>0.0</td>\n",
              "      <td>0.0</td>\n",
              "      <td>0.0</td>\n",
              "      <td>0.0</td>\n",
              "      <td>0.0</td>\n",
              "      <td>0.0</td>\n",
              "      <td>0.0</td>\n",
              "      <td>0.0</td>\n",
              "      <td>0.0</td>\n",
              "      <td>0.0</td>\n",
              "      <td>0.0</td>\n",
              "      <td>0.0</td>\n",
              "      <td>0.0</td>\n",
              "      <td>0.0</td>\n",
              "      <td>0.0</td>\n",
              "      <td>0.0</td>\n",
              "      <td>0.0</td>\n",
              "      <td>0.0</td>\n",
              "      <td>0.0</td>\n",
              "      <td>0.0</td>\n",
              "      <td>0.0</td>\n",
              "      <td>0.0</td>\n",
              "      <td>0.0</td>\n",
              "      <td>0.0</td>\n",
              "      <td>0.0</td>\n",
              "      <td>0.0</td>\n",
              "      <td>0.0</td>\n",
              "      <td>0.0</td>\n",
              "      <td>0.0</td>\n",
              "      <td>0.0</td>\n",
              "      <td>0.0</td>\n",
              "      <td>0.0</td>\n",
              "    </tr>\n",
              "  </tbody>\n",
              "</table>\n",
              "</div>"
            ],
            "text/plain": [
              "   austin  better  boat  business  desired  ...  trip  try  turn  waiting  working\n",
              "0     0.0     0.0   0.0       0.0      0.0  ...   0.0  0.0   0.0      0.0      0.0\n",
              "1     0.0     0.0   0.0       1.0      0.0  ...   0.0  0.0   0.0      0.0      0.0\n",
              "2     0.0     0.0   0.0       0.0      0.0  ...   0.0  0.0   0.0      0.0      0.0\n",
              "3     0.0     0.0   0.0       0.0      0.0  ...   0.0  0.0   0.0      0.0      0.0\n",
              "4     0.0     0.0   0.0       0.0      0.0  ...   0.0  0.0   0.0      0.0      0.0\n",
              "\n",
              "[5 rows x 48 columns]"
            ]
          },
          "metadata": {
            "tags": []
          },
          "execution_count": 107
        }
      ]
    },
    {
      "cell_type": "code",
      "metadata": {
        "id": "RPAcsAgBk-lV",
        "colab_type": "code",
        "colab": {}
      },
      "source": [
        "#TOKENIZER AND LEMMA\n",
        "def tokenize(document):\n",
        "    \n",
        "    doc = nlp(document)\n",
        "    \n",
        "    return [token.lemma_.strip() for token in doc if (token.is_stop != True) and (token.is_punct != True)]"
      ],
      "execution_count": 0,
      "outputs": []
    },
    {
      "cell_type": "code",
      "metadata": {
        "id": "w7WuExkXkqHr",
        "colab_type": "code",
        "outputId": "89d8fa1a-e97e-4084-bf2b-ccfb7db20dff",
        "colab": {
          "base_uri": "https://localhost:8080/",
          "height": 195
        }
      },
      "source": [
        "# Instantiate vectorizer object\n",
        "tfidf = TfidfVectorizer(stop_words='english', \n",
        "                        ngram_range=(1,2),\n",
        "                        max_df=.97,\n",
        "                        min_df=3,\n",
        "                        tokenizer=tokenize)\n",
        "\n",
        "# Create a vocabulary and get word counts per document\n",
        "data = tfidf.fit_transform(words) # Similiar to fit_predict\n",
        "\n",
        "# Print word counts\n",
        "\n",
        "# Get feature names to use as dataframe column headers\n",
        "data = pd.DataFrame(data.todense(), columns=tfidf.get_feature_names())\n",
        "\n",
        "# View Feature Matrix as DataFrame\n",
        "data.head()"
      ],
      "execution_count": 0,
      "outputs": [
        {
          "output_type": "execute_result",
          "data": {
            "text/html": [
              "<div>\n",
              "<style scoped>\n",
              "    .dataframe tbody tr th:only-of-type {\n",
              "        vertical-align: middle;\n",
              "    }\n",
              "\n",
              "    .dataframe tbody tr th {\n",
              "        vertical-align: top;\n",
              "    }\n",
              "\n",
              "    .dataframe thead th {\n",
              "        text-align: right;\n",
              "    }\n",
              "</style>\n",
              "<table border=\"1\" class=\"dataframe\">\n",
              "  <thead>\n",
              "    <tr style=\"text-align: right;\">\n",
              "      <th></th>\n",
              "      <th>business</th>\n",
              "      <th>meeting</th>\n",
              "      <th>trip</th>\n",
              "    </tr>\n",
              "  </thead>\n",
              "  <tbody>\n",
              "    <tr>\n",
              "      <th>0</th>\n",
              "      <td>0.0</td>\n",
              "      <td>0.0</td>\n",
              "      <td>0.0</td>\n",
              "    </tr>\n",
              "    <tr>\n",
              "      <th>1</th>\n",
              "      <td>1.0</td>\n",
              "      <td>0.0</td>\n",
              "      <td>0.0</td>\n",
              "    </tr>\n",
              "    <tr>\n",
              "      <th>2</th>\n",
              "      <td>0.0</td>\n",
              "      <td>1.0</td>\n",
              "      <td>0.0</td>\n",
              "    </tr>\n",
              "    <tr>\n",
              "      <th>3</th>\n",
              "      <td>0.0</td>\n",
              "      <td>0.0</td>\n",
              "      <td>0.0</td>\n",
              "    </tr>\n",
              "    <tr>\n",
              "      <th>4</th>\n",
              "      <td>0.0</td>\n",
              "      <td>0.0</td>\n",
              "      <td>0.0</td>\n",
              "    </tr>\n",
              "  </tbody>\n",
              "</table>\n",
              "</div>"
            ],
            "text/plain": [
              "   business  meeting  trip\n",
              "0       0.0      0.0   0.0\n",
              "1       1.0      0.0   0.0\n",
              "2       0.0      1.0   0.0\n",
              "3       0.0      0.0   0.0\n",
              "4       0.0      0.0   0.0"
            ]
          },
          "metadata": {
            "tags": []
          },
          "execution_count": 109
        }
      ]
    },
    {
      "cell_type": "code",
      "metadata": {
        "id": "ZpHoAw11krRO",
        "colab_type": "code",
        "colab": {}
      },
      "source": [
        "# Calculate Distance of TF-IDF Vectors\n",
        "from sklearn.metrics.pairwise import cosine_similarity\n",
        "\n",
        "dist_matrix  = cosine_similarity(dtm)"
      ],
      "execution_count": 0,
      "outputs": []
    },
    {
      "cell_type": "code",
      "metadata": {
        "id": "7vb5OQ50ooI7",
        "colab_type": "code",
        "colab": {}
      },
      "source": [
        "# Turn it into a DataFrame\n",
        "\n",
        "df = pd.DataFrame(dist_matrix)"
      ],
      "execution_count": 0,
      "outputs": []
    },
    {
      "cell_type": "code",
      "metadata": {
        "id": "zqDJ8z75kuEF",
        "colab_type": "code",
        "outputId": "6dcee01f-17d8-4b4f-b2e7-35c3ba045beb",
        "colab": {
          "base_uri": "https://localhost:8080/",
          "height": 34
        }
      },
      "source": [
        "words[5][:300]"
      ],
      "execution_count": 0,
      "outputs": [
        {
          "output_type": "execute_result",
          "data": {
            "text/plain": [
              "'trip'"
            ]
          },
          "metadata": {
            "tags": []
          },
          "execution_count": 112
        }
      ]
    },
    {
      "cell_type": "code",
      "metadata": {
        "id": "2o3usgVQou28",
        "colab_type": "code",
        "outputId": "821fe043-cee5-43fa-a825-600562b64e0e",
        "colab": {
          "base_uri": "https://localhost:8080/",
          "height": 34
        }
      },
      "source": [
        "print(words[12][:130])"
      ],
      "execution_count": 0,
      "outputs": [
        {
          "output_type": "stream",
          "text": [
            "business\n"
          ],
          "name": "stdout"
        }
      ]
    },
    {
      "cell_type": "code",
      "metadata": {
        "id": "9ZQ4GIvsozBX",
        "colab_type": "code",
        "outputId": "2da32c01-1870-488f-beec-e61dd6de1d1f",
        "colab": {
          "base_uri": "https://localhost:8080/",
          "height": 34
        }
      },
      "source": [
        "sum(data['business'])"
      ],
      "execution_count": 0,
      "outputs": [
        {
          "output_type": "execute_result",
          "data": {
            "text/plain": [
              "4.0"
            ]
          },
          "metadata": {
            "tags": []
          },
          "execution_count": 116
        }
      ]
    },
    {
      "cell_type": "markdown",
      "metadata": {
        "id": "Ts-bFIXnA9VO",
        "colab_type": "text"
      },
      "source": [
        "##Json and CSV"
      ]
    },
    {
      "cell_type": "code",
      "metadata": {
        "id": "dASjbIr2BDjm",
        "colab_type": "code",
        "colab": {}
      },
      "source": [
        "def save_data_frame_as_csv(df=None, file=None):\n",
        "    \"\"\"\n",
        "    Save a Pandas DataFrame to CSV format.\n",
        "    \"\"\"\n",
        "    try:\n",
        "        if not file.endswith('.csv'):\n",
        "            file += '.csv'\n",
        "        df.to_csv(file, index=False)\n",
        "        print(f'DataFrame saved as: {file}')\n",
        "    except Exception as e:\n",
        "        print(\"DataFrame couldn't be saved: \", sys.exc_info()[0])\n",
        "        raise"
      ],
      "execution_count": 0,
      "outputs": []
    },
    {
      "cell_type": "code",
      "metadata": {
        "id": "Re0T9m8XBED6",
        "colab_type": "code",
        "colab": {}
      },
      "source": [
        "save_data_frame_as_csv(df, './merged_data.csv')"
      ],
      "execution_count": 0,
      "outputs": []
    },
    {
      "cell_type": "code",
      "metadata": {
        "id": "nItj_UHNBHY5",
        "colab_type": "code",
        "colab": {}
      },
      "source": [
        "def save_data_frame_as_json(df=None, file=None, orient='records'):\n",
        "  \"\"\"\n",
        "  Save a Pandas DataFrame to Json format.\n",
        "  \"\"\"\n",
        "  try:\n",
        "    if not file.endswith('.json'):\n",
        "      file += '.json'\n",
        "    df.to_json(file, orient=orient)\n",
        "    print(f'Dataframe saved as: {file}')\n",
        "  except Exception as e:\n",
        "    print(\"Dataframe couldn't be saved: \", sys.exc_info()[0])\n",
        "    raise"
      ],
      "execution_count": 0,
      "outputs": []
    },
    {
      "cell_type": "code",
      "metadata": {
        "id": "_SGrntpdBPFm",
        "colab_type": "code",
        "colab": {}
      },
      "source": [
        "save_data_frame_as_json(df, '.merged_data.json', orient='records')"
      ],
      "execution_count": 0,
      "outputs": []
    }
  ]
}