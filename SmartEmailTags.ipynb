{
 "cells": [
  {
   "cell_type": "markdown",
   "metadata": {
    "colab_type": "text",
    "id": "OGa-3IJ0czGT"
   },
   "source": [
    "#TAG SMART EMAILS\n",
    "\n",
    "GENSIM AND LDA\n",
    "\n",
    "https://radimrehurek.com/gensim/apiref.html"
   ]
  },
  {
   "cell_type": "code",
   "execution_count": 1,
   "metadata": {
    "colab": {},
    "colab_type": "code",
    "id": "4wYWP2ayYZs0"
   },
   "outputs": [],
   "source": [
    "#Library\n",
    "from gensim.corpora import Dictionary\n",
    "from gensim.models.ldamulticore import LdaMulticore\n",
    "from gensim.models.coherencemodel import CoherenceModel\n",
    "import spacy\n",
    "import pandas as pd"
   ]
  },
  {
   "cell_type": "code",
   "execution_count": 2,
   "metadata": {
    "colab": {
     "base_uri": "https://localhost:8080/",
     "height": 34
    },
    "colab_type": "code",
    "id": "v2RfLweVYZs5",
    "outputId": "fd1e51a0-878b-4e62-b52c-fc0526c63ad6"
   },
   "outputs": [
    {
     "data": {
      "text/plain": [
       "'C:\\\\Users\\\\HomePC\\\\tagger-ds'"
      ]
     },
     "execution_count": 2,
     "metadata": {},
     "output_type": "execute_result"
    }
   ],
   "source": [
    "%pwd"
   ]
  },
  {
   "cell_type": "code",
   "execution_count": 3,
   "metadata": {
    "colab": {
     "base_uri": "https://localhost:8080/",
     "height": 34
    },
    "colab_type": "code",
    "id": "jQeR-whKrj0j",
    "outputId": "767271c7-85ff-4e0b-d1ea-c61f4f251f71"
   },
   "outputs": [
    {
     "data": {
      "text/plain": [
       "24004915"
      ]
     },
     "execution_count": 3,
     "metadata": {},
     "output_type": "execute_result"
    }
   ],
   "source": [
    "import requests\n",
    "url = 'https://raw.githubusercontent.com/Moly-malibu/Tag-Smart-Emails/master/Enronemails.csv?token=AN2RW2GO4AWTXK4OPUDXJV26ZQ3QC'\n",
    "myfile = requests.get(url)\n",
    "open('email.csv', 'wb').write(myfile.content)"
   ]
  },
  {
   "cell_type": "code",
   "execution_count": 4,
   "metadata": {
    "colab": {
     "base_uri": "https://localhost:8080/",
     "height": 271
    },
    "colab_type": "code",
    "id": "oIl2fVRnYZs-",
    "outputId": "1f2b0ab4-1594-4f31-c95a-2f9654ff140d"
   },
   "outputs": [
    {
     "name": "stdout",
     "output_type": "stream",
     "text": [
      "(10000, 3)\n"
     ]
    },
    {
     "data": {
      "text/html": [
       "<div>\n",
       "<style scoped>\n",
       "    .dataframe tbody tr th:only-of-type {\n",
       "        vertical-align: middle;\n",
       "    }\n",
       "\n",
       "    .dataframe tbody tr th {\n",
       "        vertical-align: top;\n",
       "    }\n",
       "\n",
       "    .dataframe thead th {\n",
       "        text-align: right;\n",
       "    }\n",
       "</style>\n",
       "<table border=\"1\" class=\"dataframe\">\n",
       "  <thead>\n",
       "    <tr style=\"text-align: right;\">\n",
       "      <th></th>\n",
       "      <th>file</th>\n",
       "      <th>message</th>\n",
       "    </tr>\n",
       "  </thead>\n",
       "  <tbody>\n",
       "    <tr>\n",
       "      <th>0</th>\n",
       "      <td>allen-p/_sent_mail/1.</td>\n",
       "      <td>Message-ID: &lt;18782981.1075855378110.JavaMail.e...</td>\n",
       "    </tr>\n",
       "    <tr>\n",
       "      <th>1</th>\n",
       "      <td>allen-p/_sent_mail/10.</td>\n",
       "      <td>Message-ID: &lt;15464986.1075855378456.JavaMail.e...</td>\n",
       "    </tr>\n",
       "    <tr>\n",
       "      <th>2</th>\n",
       "      <td>allen-p/_sent_mail/100.</td>\n",
       "      <td>Message-ID: &lt;24216240.1075855687451.JavaMail.e...</td>\n",
       "    </tr>\n",
       "    <tr>\n",
       "      <th>3</th>\n",
       "      <td>allen-p/_sent_mail/1000.</td>\n",
       "      <td>Message-ID: &lt;13505866.1075863688222.JavaMail.e...</td>\n",
       "    </tr>\n",
       "    <tr>\n",
       "      <th>4</th>\n",
       "      <td>allen-p/_sent_mail/1001.</td>\n",
       "      <td>Message-ID: &lt;30922949.1075863688243.JavaMail.e...</td>\n",
       "    </tr>\n",
       "    <tr>\n",
       "      <th>5</th>\n",
       "      <td>allen-p/_sent_mail/1002.</td>\n",
       "      <td>Message-ID: &lt;30965995.1075863688265.JavaMail.e...</td>\n",
       "    </tr>\n",
       "    <tr>\n",
       "      <th>6</th>\n",
       "      <td>allen-p/_sent_mail/1003.</td>\n",
       "      <td>Message-ID: &lt;16254169.1075863688286.JavaMail.e...</td>\n",
       "    </tr>\n",
       "  </tbody>\n",
       "</table>\n",
       "</div>"
      ],
      "text/plain": [
       "                       file                                            message\n",
       "0     allen-p/_sent_mail/1.  Message-ID: <18782981.1075855378110.JavaMail.e...\n",
       "1    allen-p/_sent_mail/10.  Message-ID: <15464986.1075855378456.JavaMail.e...\n",
       "2   allen-p/_sent_mail/100.  Message-ID: <24216240.1075855687451.JavaMail.e...\n",
       "3  allen-p/_sent_mail/1000.  Message-ID: <13505866.1075863688222.JavaMail.e...\n",
       "4  allen-p/_sent_mail/1001.  Message-ID: <30922949.1075863688243.JavaMail.e...\n",
       "5  allen-p/_sent_mail/1002.  Message-ID: <30965995.1075863688265.JavaMail.e...\n",
       "6  allen-p/_sent_mail/1003.  Message-ID: <16254169.1075863688286.JavaMail.e..."
      ]
     },
     "execution_count": 4,
     "metadata": {},
     "output_type": "execute_result"
    }
   ],
   "source": [
    "#EMAILS FROM ENRON COMPANY SAMPLING\n",
    "df = pd.read_csv(\"email.csv\")\n",
    "print(df.shape) \n",
    "df.head(7).drop(['Unnamed: 0'], axis=1)"
   ]
  },
  {
   "cell_type": "code",
   "execution_count": 5,
   "metadata": {
    "colab": {
     "base_uri": "https://localhost:8080/",
     "height": 390
    },
    "colab_type": "code",
    "id": "GXR_9XPLeN-n",
    "outputId": "f8738233-ff32-4bab-cf99-af0e9bb602e2"
   },
   "outputs": [
    {
     "data": {
      "text/plain": [
       "['Message-ID: <15464986.1075855378456.JavaMail.evans@thyme>',\n",
       " 'Date: Fri, 4 May 2001 13:51:00 -0700 (PDT)',\n",
       " 'From: phillip.allen@enron.com',\n",
       " 'To: john.lavorato@enron.com',\n",
       " 'Subject: Re:',\n",
       " 'Mime-Version: 1.0',\n",
       " 'Content-Type: text/plain; charset=us-ascii',\n",
       " 'Content-Transfer-Encoding: 7bit',\n",
       " 'X-From: Phillip K Allen',\n",
       " 'X-To: John J Lavorato <John J Lavorato/ENRON@enronXgate@ENRON>',\n",
       " 'X-cc:',\n",
       " 'X-bcc:',\n",
       " \"X-Folder: \\\\Phillip_Allen_Jan2002_1\\\\Allen, Phillip K.\\\\'Sent Mail\",\n",
       " 'X-Origin: Allen-P',\n",
       " 'X-FileName: pallen (Non-Privileged).pst',\n",
       " '',\n",
       " 'Traveling to have a business meeting takes the fun out of the trip.  Especially if you have to prepare a presentation.  I would suggest holding the business plan meetings here then take a trip without any formal business meetings.  I would even try and get some honest opinions on whether a trip is even desired or necessary.',\n",
       " '',\n",
       " 'As far as the business meetings, I think it would be more productive to try and stimulate discussions across the different groups about what is working and what is not.  Too often the presenter speaks and the others are quiet just waiting for their turn.   The meetings might be better if held in a round table discussion format.',\n",
       " '',\n",
       " \"My suggestion for where to go is Austin.  Play golf and rent a ski boat and jet ski's.  Flying somewhere takes too much time.\"]"
      ]
     },
     "execution_count": 5,
     "metadata": {},
     "output_type": "execute_result"
    }
   ],
   "source": [
    "#TO GET EMAIL BODY\n",
    "[s.strip() for s in df['message'][1].splitlines()]"
   ]
  },
  {
   "cell_type": "code",
   "execution_count": 6,
   "metadata": {
    "colab": {},
    "colab_type": "code",
    "id": "cobxnIcPeREl"
   },
   "outputs": [],
   "source": [
    "email = ' '.join([s.strip() for s in df['message'][1].splitlines()][15:])"
   ]
  },
  {
   "cell_type": "code",
   "execution_count": 7,
   "metadata": {
    "colab": {
     "base_uri": "https://localhost:8080/",
     "height": 195
    },
    "colab_type": "code",
    "id": "Lqux2nRyebXX",
    "outputId": "59a06568-5117-41d4-a71a-1a87280ed7c3"
   },
   "outputs": [
    {
     "data": {
      "text/html": [
       "<div>\n",
       "<style scoped>\n",
       "    .dataframe tbody tr th:only-of-type {\n",
       "        vertical-align: middle;\n",
       "    }\n",
       "\n",
       "    .dataframe tbody tr th {\n",
       "        vertical-align: top;\n",
       "    }\n",
       "\n",
       "    .dataframe thead th {\n",
       "        text-align: right;\n",
       "    }\n",
       "</style>\n",
       "<table border=\"1\" class=\"dataframe\">\n",
       "  <thead>\n",
       "    <tr style=\"text-align: right;\">\n",
       "      <th></th>\n",
       "      <th>Unnamed: 0</th>\n",
       "      <th>file</th>\n",
       "      <th>message</th>\n",
       "      <th>email_body</th>\n",
       "    </tr>\n",
       "  </thead>\n",
       "  <tbody>\n",
       "    <tr>\n",
       "      <th>0</th>\n",
       "      <td>0</td>\n",
       "      <td>allen-p/_sent_mail/1.</td>\n",
       "      <td>Message-ID: &lt;18782981.1075855378110.JavaMail.e...</td>\n",
       "      <td>Here is our forecast</td>\n",
       "    </tr>\n",
       "    <tr>\n",
       "      <th>1</th>\n",
       "      <td>1</td>\n",
       "      <td>allen-p/_sent_mail/10.</td>\n",
       "      <td>Message-ID: &lt;15464986.1075855378456.JavaMail.e...</td>\n",
       "      <td>Traveling to have a business meeting takes th...</td>\n",
       "    </tr>\n",
       "    <tr>\n",
       "      <th>2</th>\n",
       "      <td>2</td>\n",
       "      <td>allen-p/_sent_mail/100.</td>\n",
       "      <td>Message-ID: &lt;24216240.1075855687451.JavaMail.e...</td>\n",
       "      <td>test successful.  way to go!!!</td>\n",
       "    </tr>\n",
       "    <tr>\n",
       "      <th>3</th>\n",
       "      <td>3</td>\n",
       "      <td>allen-p/_sent_mail/1000.</td>\n",
       "      <td>Message-ID: &lt;13505866.1075863688222.JavaMail.e...</td>\n",
       "      <td>Randy,  Can you send me a schedule of the sal...</td>\n",
       "    </tr>\n",
       "    <tr>\n",
       "      <th>4</th>\n",
       "      <td>4</td>\n",
       "      <td>allen-p/_sent_mail/1001.</td>\n",
       "      <td>Message-ID: &lt;30922949.1075863688243.JavaMail.e...</td>\n",
       "      <td>Let's shoot for Tuesday at 11:45.</td>\n",
       "    </tr>\n",
       "  </tbody>\n",
       "</table>\n",
       "</div>"
      ],
      "text/plain": [
       "   Unnamed: 0                      file  \\\n",
       "0           0     allen-p/_sent_mail/1.   \n",
       "1           1    allen-p/_sent_mail/10.   \n",
       "2           2   allen-p/_sent_mail/100.   \n",
       "3           3  allen-p/_sent_mail/1000.   \n",
       "4           4  allen-p/_sent_mail/1001.   \n",
       "\n",
       "                                             message  \\\n",
       "0  Message-ID: <18782981.1075855378110.JavaMail.e...   \n",
       "1  Message-ID: <15464986.1075855378456.JavaMail.e...   \n",
       "2  Message-ID: <24216240.1075855687451.JavaMail.e...   \n",
       "3  Message-ID: <13505866.1075863688222.JavaMail.e...   \n",
       "4  Message-ID: <30922949.1075863688243.JavaMail.e...   \n",
       "\n",
       "                                          email_body  \n",
       "0                             Here is our forecast    \n",
       "1   Traveling to have a business meeting takes th...  \n",
       "2                     test successful.  way to go!!!  \n",
       "3   Randy,  Can you send me a schedule of the sal...  \n",
       "4                  Let's shoot for Tuesday at 11:45.  "
      ]
     },
     "execution_count": 7,
     "metadata": {},
     "output_type": "execute_result"
    }
   ],
   "source": [
    "#CLEAN EMAIL BODY\n",
    "def cleanemail(email):\n",
    "    return ' '.join([s.strip() for s in email.splitlines()][15:])\n",
    "\n",
    "df['email_body'] = df['message'].apply(cleanemail)\n",
    "\n",
    "df.head()"
   ]
  },
  {
   "cell_type": "code",
   "execution_count": 8,
   "metadata": {
    "colab": {
     "base_uri": "https://localhost:8080/",
     "height": 373
    },
    "colab_type": "code",
    "id": "pDqHSrvx2Mig",
    "outputId": "adacbf2e-c13d-48bc-f8d1-b45bc1797e7c"
   },
   "outputs": [
    {
     "name": "stdout",
     "output_type": "stream",
     "text": [
      " Adrianne,  I spoke to Brent D.  I would recommend that he is given a chance to interview for the program.  Phillip  -----Original Message----- From: Engler, Adrianne Sent: Monday, October 29, 2001 8:10 AM To: Allen, Phillip K. Subject: RE: the candidate we spoke about this morning...  Phillip -  Lets try this one....Thanks!  Adrianne -----Original Message----- From: Allen, Phillip K. Sent: Monday, October 29, 2001 10:08 AM To: Engler, Adrianne Subject: RE: the candidate we spoke about this morning... Adrianne,  I cannot download his resume.  Please resend.  Phillip  -----Original Message----- From: Engler, Adrianne Sent: Monday, October 29, 2001 7:34 AM To: Allen, Phillip K. Subject: the candidate we spoke about this morning...     Phillip -  This is the candidate I spoke with you about this morning...  Brent currently works in our London office as an Analyst and is looking to come over to the Houston office.  We would like to get him into the November 1st interviews.  His contact information is on the resume, but here is his number as well 44-20-778-35558 ....for a London line direct to Brent dial 844-35558  Thank you! Adrianne x57302  the resume is attached....\n",
      "\n",
      " stg adjusted means factoring in cost of carry and taxes stg curve looks more realistic in market areas when you add basis on.  -----Original Message----- From: Abramo, Caroline Sent: Wednesday, October 17, 2001 9:50 PM To: Arnold, John Subject: RE: market   john- thank you.. what do you mean by storage adjusted prices?  and also comment on non-discretionary stg at peak times.. why in producing region?  -----Original Message----- From: Arnold, John Sent: Tue 10/16/2001 11:03 PM To: Abramo, Caroline Cc: Subject: RE: market   Thanks. Surprised your shorts are still so confident.  Trade shorts are quickly losing confidence based upon cash, shape of curve, and momentum.  I think curve flattens a little more and then comes down in parallel shift down. 1.  jan and feb are highest storage adjusted prices on curve.  For market area sales, add on basis and dec and march are next.  Question is whether there is enough non-discretionary stg to meet load at other times and in the producing region.  A lot of stg has to come out either for tariff or engineering reasons.  Million dollar question. 2.  Think Nov bidweek will be weak.  Don't know who baseload buyers are unless trade gets bullish.  Nov is a relatively flat month as far as injections.  stg operators dont have room to buy baseload gas and I think utilities will be planning to meet load using stg.  At current prices, producers apply more pressure to wells, lng doesnt get diverted again, lose some load to resid, lose any momentum of industrial load coming back.  Dont think gas market can handle that. 3.  No clue.  -----Original Message----- From: Abramo, Caroline Sent: Tue 10/16/2001 10:21 PM To: Arnold, John Cc: Subject: market   awesome call on cash.. it does not get any better than that.. you picked the bottom-  i am getting it slowly.. lots of calls today from people i do not speak to every day.. not too much panic from guys who are short.. most looking to put more on.. selling dec01 outright or buying gas daily puts on dec and jan... except pulaski  who pared down dec01 short with us from 4000 to 1000.. do not think he's got on alot elsewhere.  no one has anything on longer dated.. no one can figure out economy...  questions: 1. why would any of the discretionary storage operators withdraw gas in the winter based on the current curve? 2. where do you think index gets set this month? i am thinking that utilities will overestimate loads for Nov01 and buy more during bidweek.. index gets set high and depending on Nov weather.. it could come back onto the market weakening cash again.. 3. do you have a view on eastern power for the winter? i do not understand the market drivers in the winter.  thanks very much, c\n",
      "\n",
      " John,  Please be advised that effective Monday, December 4 you will need to access DynegyDirect with the following log in:  User ID:  JARNOLD Password: enron1  Please note that these are case sensitive.  Your current log in will no longer be available on Monday.  Thank you, Stephanie Sever x33465\n",
      "\n",
      " Phillip & Keith  Attached is the first draw request, I will need some of these funds immediately. I think checks out of Bishops Corner, L.P. may be the easiest, or you can wire money to me and I can write the checks when needed.  Please let me know how you wish to handle this and I will proceed.  Additionally, it is getting close to closing. I will need to get contracts signed at this point as soon as possible. We can handle this in two ways. I prefer that you elect me as a Vice - President of the General Partner and then I will sign all documents, or I can Federal Express contracts (this is more difficult).  I have a funeral at 10:00 and I will be back about 1:00. I look forward to hearing from you.   Greg   - Draw # 1 - 10.25.01.xls\n",
      "\n",
      " thanks   To: John Arnold/HOU/ECT@ECT cc: Subject: Re: FW: trading with Campbell  FYI. I spoke with Steve. Seems like they have not been successful with plan A, i.e. to get their investors to give them authority to trade OTC as well as futures. They have moved on to plan B which is to take one of their domestic funds (approx. $500mm under mgt) off the floor (futures only) and into OTC trading. Still has the rating problem with Enron, but I am trying to get him to arrange a conference call with their CFO so I can discuss ways around it. He will try to do so this week. Mind you, I left it at this point the last time I spoke with him a couple of months ago and it seemed to stall. I'll keep chasing it.  Per     John Arnold 07/07/2000 08:50 AM To: Per Sekse/NY/ECT@ECT cc: Subject: Re: FW: trading  Per: I've talked to him several times in the past.  I told him that you would call because of your experience with setting up funds.  They have two main problems.   One is setting up their internal systems.  Second, they have credit problems with a BBB+. Please call and introduce yourself. Thanks, john   To: John Arnold/HOU/ECT@ECT cc: Subject: Re: FW: trading  John, did you answer him or should I respond? Per    John Arnold 06/26/2000 05:18 PM To: Per Sekse/NY/ECT@ECT cc: Subject: FW: trading   ---------------------- Forwarded by John Arnold/HOU/ECT on 06/26/2000 04:17 PM ---------------------------   Steve List  on 06/26/2000 12:32:02 PM To: \"'jarnold@enron.com'\"  cc: Subject: FW: trading     > -----Original Message----- > From: Steve List > Sent: Monday, June 26, 2000 1:26 PM > To: 'jarnol1@ect.enron.com' > Subject: trading > > >   John, > >   I hope all is well down in Houston, though it would seem your baseball > team is, well, terrible. >   We may be close to resolving our internal issues as our CEO indicated on > Friday. We are awaiting some >   confirmation but it seems we are close. How is the credit standing for > Enron? >   Is there a chance of upgrade or well, you can tell me the status. > >   Thanks > >   Steve List            \n",
      "\n",
      " sec 222  row 2\n",
      "\n",
      " ---------------------- Forwarded by Phillip K Allen/HOU/ECT on 03/05/2001 01:59 PM ---------------------------    From:  Phillip K Allen                           03/05/2001 10:37 AM   To: jim123@pdq.net cc: Subject:  \n",
      "\n",
      " ---------------------- Forwarded by John Arnold/HOU/ECT on 03/08/2001 07:23 AM ---------------------------   SOblander@carrfut.com on 03/08/2001 07:05:03 AM To: soblander@carrfut.com cc: Subject: daily charts and matrices as hot links 3/8   The information contained herein is based on sources that we believe to be reliable, but we do not represent that it is accurate or complete.  Nothing contained herein should be considered as an offer to sell or a solicitation of an offer to buy any financial instruments discussed herein.  Any opinions expressed herein are solely those of the author.  As such, they may differ in material respects from those of, or expressed or published by on behalf of Carr Futures or its officers, directors, employees or affiliates.  , 2000 Carr Futures   The charts are now available on the web by clicking on the hot link(s) contained in this email. If for any reason you are unable to receive the charts via the web, please contact me via email and I will email the charts to you as attachments.  Crude     http://www.carrfut.com/research/Energy1/crude88.pdf Natural Gas     http://www.carrfut.com/research/Energy1/ngas88.pdf Distillate     http://www.carrfut.com/research/Energy1/hoil88.pdf Unleaded     http://www.carrfut.com/research/Energy1/unlded88.pdf  Nat Gas Strip Matrix http://www.carrfut.com/research/Energy1/StripmatrixNG88.pdf Nat Gas Spread Matrix http://www.carrfut.com/research/Energy1/SpreadmatrixNG88.pdf  Crude and Products Spread Matrix http://www.carrfut.com/research/Energy1/SpreadmatrixCL88.pdf      Carr Futures 150 S. Wacker Dr., Suite 1500 Chicago, IL 60606  USA Tel:  312-368-6149 Fax:  312-368-2281 soblander@carrfut.com http://www.carrfut.com \n",
      "\n",
      " Andy,  I spoke to John L. and he ok'd one of each new electronic system for the west desk.  Are there any operational besides ICE and Dynegy?  If not, can you have your assistant call me with id's and passwords.  Thank you,  Phillip\n",
      "\n",
      " ---------------------- Forwarded by Phillip K Allen/HOU/ECT on 09/12/2000 11:22 AM ---------------------------  Michael Etringer  09/11/2000 02:32 PM  To: Phillip K Allen/HOU/ECT@ECT cc: Subject: Contact list for mid market  Phillip, Attached is the list.  Have your people fill in the columns highlighted in yellow.  As best can we will try not to overlap on accounts.  Thanks, Mike  \n",
      "\n"
     ]
    }
   ],
   "source": [
    "#CLEAN HTML\n",
    "import re\n",
    "import html\n",
    "\n",
    "def cleanup_html(raw_html):\n",
    "    clean_html = re.sub(r'<.*?>', '', raw_html)\n",
    "    clean_html_http = re.sub(r'http\\S+([\\.]{3})?', '', clean_html)\n",
    "    clean_txt = html.unescape(clean_html)\n",
    "    return clean_txt\n",
    "df['email_body'] = df['email_body'].apply(cleanup_html)\n",
    "df.sample(10)\n",
    "for row in df['email_body'].sample(10):\n",
    "    print(row)\n",
    "    print()"
   ]
  },
  {
   "cell_type": "code",
   "execution_count": 9,
   "metadata": {
    "colab": {},
    "colab_type": "code",
    "id": "yDeIEvoh2QYX"
   },
   "outputs": [],
   "source": [
    "#CLEAN DATA\n",
    "#remove whitespace\n",
    "df['email_body'] = df['email_body'].str.strip().str.lower()\n",
    "\n",
    "#Start with date\n",
    "df['email_body'].str.match('\\d?\\d/\\d?\\d/\\d{4}').all()\n",
    "\n",
    "#Replace all non-overlapping matches\n",
    "df['email_body'] = df['email_body'].str.replace('[^a-zA-Z\\s]', '').str.replace('\\s+', ' ')"
   ]
  },
  {
   "cell_type": "code",
   "execution_count": 10,
   "metadata": {
    "colab": {
     "base_uri": "https://localhost:8080/",
     "height": 67
    },
    "colab_type": "code",
    "id": "7XGo8E78P5-L",
    "outputId": "90d0a9eb-e5a3-4872-b17b-4b9bce6ef25a"
   },
   "outputs": [
    {
     "name": "stderr",
     "output_type": "stream",
     "text": [
      "[nltk_data] Downloading package stopwords to\n",
      "[nltk_data]     C:\\Users\\HomePC\\AppData\\Roaming\\nltk_data...\n",
      "[nltk_data]   Package stopwords is already up-to-date!\n"
     ]
    },
    {
     "data": {
      "text/plain": [
       "True"
      ]
     },
     "execution_count": 10,
     "metadata": {},
     "output_type": "execute_result"
    }
   ],
   "source": [
    "import nltk\n",
    "import string\n",
    "nltk.download('stopwords')"
   ]
  },
  {
   "cell_type": "code",
   "execution_count": 12,
   "metadata": {
    "colab": {
     "base_uri": "https://localhost:8080/",
     "height": 255
    },
    "colab_type": "code",
    "id": "UliBb6XAiObU",
    "outputId": "4d9329aa-c91a-4e8e-cce5-cb008917c9b3"
   },
   "outputs": [
    {
     "name": "stdout",
     "output_type": "stream",
     "text": [
      "['i', 'me', 'my', 'myself', 'we', 'our', 'ours', 'ourselves', 'you', \"you're\", \"you've\", \"you'll\", \"you'd\", 'your', 'yours', 'yourself', 'yourselves', 'he', 'him', 'his', 'himself', 'she', \"she's\", 'her', 'hers', 'herself', 'it', \"it's\", 'its', 'itself', 'they', 'them', 'their', 'theirs', 'themselves', 'what', 'which', 'who', 'whom', 'this', 'that', \"that'll\", 'these', 'those', 'am', 'is', 'are', 'was', 'were', 'be', 'been', 'being', 'have', 'has', 'had', 'having', 'do', 'does', 'did', 'doing', 'a', 'an', 'the', 'and', 'but', 'if', 'or', 'because', 'as', 'until', 'while', 'of', 'at', 'by', 'for', 'with', 'about', 'against', 'between', 'into', 'through', 'during', 'before', 'after', 'above', 'below', 'to', 'from', 'up', 'down', 'in', 'out', 'on', 'off', 'over', 'under', 'again', 'further', 'then', 'once', 'here', 'there', 'when', 'where', 'why', 'how', 'all', 'any', 'both', 'each', 'few', 'more', 'most', 'other', 'some', 'such', 'no', 'nor', 'not', 'only', 'own', 'same', 'so', 'than', 'too', 'very', 's', 't', 'can', 'will', 'just', 'don', \"don't\", 'should', \"should've\", 'now', 'd', 'll', 'm', 'o', 're', 've', 'y', 'ain', 'aren', \"aren't\", 'couldn', \"couldn't\", 'didn', \"didn't\", 'doesn', \"doesn't\", 'hadn', \"hadn't\", 'hasn', \"hasn't\", 'haven', \"haven't\", 'isn', \"isn't\", 'ma', 'mightn', \"mightn't\", 'mustn', \"mustn't\", 'needn', \"needn't\", 'shan', \"shan't\", 'shouldn', \"shouldn't\", 'wasn', \"wasn't\", 'weren', \"weren't\", 'won', \"won't\", 'wouldn', \"wouldn't\"]\n",
      "***************************************\n",
      "tasti\n",
      "'m\n",
      "sometime\n",
      "shouldn\n",
      "at\n",
      "make\n",
      "anything\n",
      "won\n",
      "ourselves\n",
      "whereas\n",
      "wherever\n"
     ]
    }
   ],
   "source": [
    "#Getting Stopwords\n",
    "import spacy\n",
    "from spacy.lang.en.stop_words import STOP_WORDS\n",
    "from nltk.corpus import stopwords\n",
    "from nltk.stem.snowball import SnowballStemmer\n",
    "from nltk.stem.wordnet import WordNetLemmatizer\n",
    "\n",
    "# define additional stop words\n",
    "import nltk\n",
    "import spacy\n",
    "\n",
    "nlp = spacy.load('en_core_web_lg')\n",
    "my_stop_words = ['i', 'me', 'my', 'myself', 'we', 'our', 'ours', 'ourselves', \n",
    "                 'you', \"you're\", \"you've\", \"you'll\", \"you'd\", 'your', 'yours', \n",
    "                 'yourself', 'yourselves', 'he', 'him', 'his', 'himself', 'she', \n",
    "                 \"she's\", 'her', 'hers', 'herself', 'it', \"it's\", 'its', 'itself', \n",
    "                 'they', 'them', 'their', 'theirs', 'themselves', 'what', 'which', \n",
    "                 'who', 'whom', 'this', 'that', \"that'll\", 'these', 'those', 'am', \n",
    "                 'is', 'are', 'was', 'were', 'be', 'been', 'being', 'have', 'has', \n",
    "                 'had', 'having', 'do', 'does', 'did', 'doing', 'a', 'an', 'the', \n",
    "                 'and', 'but', 'if', 'or', 'because', 'as', 'until', 'while', \n",
    "                 'of', 'at', 'by', 'for', 'with', 'about', 'against', 'between', \n",
    "                 'into', 'through', 'during', 'before', 'after', 'above', 'below',\n",
    "                 'to', 'from', 'up', 'down', 'in', 'out', 'on', 'off', 'over', 'under', \n",
    "                 'again', 'further', 'then', 'once', 'here', 'there', 'when', \n",
    "                 'where', 'why', 'how', 'all', 'any', 'both', 'each', 'few', \n",
    "                 'more', 'most', 'other', 'some', 'such', 'no', 'nor', 'not', \n",
    "                 'only', 'own', 'same', 'so', 'than', 'too', 'very', 's', 't', \n",
    "                 'can', 'will', 'just', 'don', \"don't\", 'should', \"should've\", \n",
    "                 'now', 'd', 'll', 'm', 'o', 're', 've', 'y', 'ain', 'aren', \n",
    "                 \"aren't\", 'couldn', \"couldn't\", 'didn', \"didn't\", 'doesn', \n",
    "                 \"doesn't\", 'hadn', \"hadn't\", 'hasn', \"hasn't\", 'haven', \n",
    "                 \"haven't\", 'isn', \"isn't\", 'ma', 'mightn', \"mightn't\", \n",
    "                 'mustn', \"mustn't\", 'needn', \"needn't\", 'shan', \"shan't\", \n",
    "                 'shouldn', \"shouldn't\", 'wasn', \"wasn't\", 'weren', \n",
    "                 \"weren't\", 'won', \"won't\", 'wouldn', \"wouldn't\"]\n",
    "\n",
    "STOP_WORDS = nlp.Defaults.stop_words.union(my_stop_words)\n",
    "\n",
    "stop = stopwords.words('english')\n",
    "sno = SnowballStemmer('english')\n",
    "print (stop)\n",
    "print('***************************************')\n",
    "print(sno.stem('tasty'))\n",
    "\n",
    "STOP_WORDS = list(STOP_WORDS)\n",
    "print('\\n'.join([word for word in STOP_WORDS[:10]]))"
   ]
  },
  {
   "cell_type": "code",
   "execution_count": 13,
   "metadata": {
    "colab": {},
    "colab_type": "code",
    "id": "hlky5wp6YZtt"
   },
   "outputs": [],
   "source": [
    "tokens = []\n",
    "for doc in nlp.pipe(df['email_body'], batch_size=500):\n",
    "\n",
    "    doc_tokens = []\n",
    "\n",
    "    for token in doc:\n",
    "        if (token.is_stop == False) & (token.is_punct == False):\n",
    "            doc_tokens.append(token.lemma_.lower())\n",
    "\n",
    "    tokens.append(doc_tokens)\n",
    "\n",
    "df['tokens'] = tokens"
   ]
  },
  {
   "cell_type": "code",
   "execution_count": 14,
   "metadata": {
    "colab": {
     "base_uri": "https://localhost:8080/",
     "height": 118
    },
    "colab_type": "code",
    "id": "EdpPGC91YZtx",
    "outputId": "a20bb99f-3494-400a-d47b-d3d32b415f2b"
   },
   "outputs": [
    {
     "data": {
      "text/plain": [
       "0                                           [forecast]\n",
       "1    [travel, business, meeting, take, fun, trip, e...\n",
       "2                              [test, successful, way]\n",
       "3    [randy, send, schedule, salary, level, schedul...\n",
       "4                                [let, shoot, tuesday]\n",
       "Name: tokens, dtype: object"
      ]
     },
     "execution_count": 14,
     "metadata": {},
     "output_type": "execute_result"
    }
   ],
   "source": [
    "df['tokens'].head()"
   ]
  },
  {
   "cell_type": "code",
   "execution_count": 15,
   "metadata": {
    "colab": {
     "base_uri": "https://localhost:8080/",
     "height": 34
    },
    "colab_type": "code",
    "id": "qW-ydKWeYZuE",
    "outputId": "be5a5355-fe8a-4f8c-d197-443753d136f6"
   },
   "outputs": [
    {
     "name": "stdout",
     "output_type": "stream",
     "text": [
      "45973\n"
     ]
    }
   ],
   "source": [
    "id2word = Dictionary(df['tokens'])\n",
    "print(len(id2word))"
   ]
  },
  {
   "cell_type": "code",
   "execution_count": 16,
   "metadata": {
    "colab": {
     "base_uri": "https://localhost:8080/",
     "height": 34
    },
    "colab_type": "code",
    "id": "r0sCngOsYZuI",
    "outputId": "1b58af96-c89b-4a9d-a88e-18c01703b961"
   },
   "outputs": [
    {
     "name": "stdout",
     "output_type": "stream",
     "text": [
      "14978\n"
     ]
    }
   ],
   "source": [
    "id2word.filter_extremes(no_below=5, no_above=.98)\n",
    "print(len(id2word))"
   ]
  },
  {
   "cell_type": "code",
   "execution_count": 17,
   "metadata": {
    "colab": {},
    "colab_type": "code",
    "id": "QNZoA36BYZuP"
   },
   "outputs": [],
   "source": [
    "#https://radimrehurek.com/gensim/corpora/dictionary.html\n",
    "\n",
    "corpus = [id2word.doc2bow(d) for d in df['tokens']]"
   ]
  },
  {
   "cell_type": "code",
   "execution_count": 18,
   "metadata": {
    "colab": {},
    "colab_type": "code",
    "id": "oQh81puoYZuV"
   },
   "outputs": [],
   "source": [
    "lda = LdaMulticore(corpus=corpus,\n",
    "                   id2word=id2word,\n",
    "                   random_state=723812,\n",
    "                   num_topics = 15,\n",
    "                   passes=10,\n",
    "                   workers=12\n",
    "                  )"
   ]
  },
  {
   "cell_type": "code",
   "execution_count": 19,
   "metadata": {
    "colab": {},
    "colab_type": "code",
    "id": "1dnNU6IdYZuX"
   },
   "outputs": [],
   "source": [
    "model = LdaMulticore(corpus=corpus, num_topics=10, id2word=id2word, workers=12, passes=5)"
   ]
  },
  {
   "cell_type": "code",
   "execution_count": 20,
   "metadata": {
    "colab": {},
    "colab_type": "code",
    "id": "7U5v5vj_YZua"
   },
   "outputs": [],
   "source": [
    "import re\n",
    "\n",
    "words = [re.findall(r'\"([^\"]*)\"',t[1]) for t in model.print_topics()]"
   ]
  },
  {
   "cell_type": "code",
   "execution_count": 21,
   "metadata": {
    "colab": {},
    "colab_type": "code",
    "id": "Zr61YmT2YZuc"
   },
   "outputs": [],
   "source": [
    "topics = [' '.join(t[0:5]) for t in words]"
   ]
  },
  {
   "cell_type": "code",
   "execution_count": 22,
   "metadata": {
    "colab": {
     "base_uri": "https://localhost:8080/",
     "height": 353
    },
    "colab_type": "code",
    "id": "FVsC1adZYZue",
    "outputId": "d3a2ef07-dd05-44cf-cf5d-24f729d325eb"
   },
   "outputs": [
    {
     "name": "stdout",
     "output_type": "stream",
     "text": [
      "------ Topic 0 ------\n",
      "company subject know phillip not\n",
      "------ Topic 1 ------\n",
      "email john subject pm active\n",
      "------ Topic 2 ------\n",
      "pm enron subject john market\n",
      "------ Topic 3 ------\n",
      "enron subject send message original\n",
      "------ Topic 4 ------\n",
      "gas meeting energy enron say\n",
      "------ Topic 5 ------\n",
      "enron say company market year\n",
      "------ Topic 6 ------\n",
      "image phillip pm enron thank\n",
      "------ Topic 7 ------\n",
      "market pm iso price schedule\n",
      "------ Topic 8 ------\n",
      "pm phillip subject john cc\n",
      "------ Topic 9 ------\n",
      "john message subject cc pm\n"
     ]
    }
   ],
   "source": [
    "for id, t in enumerate(topics): \n",
    "    print(f\"------ Topic {id} ------\")\n",
    "    print(t, end=\"\\n\")"
   ]
  },
  {
   "cell_type": "code",
   "execution_count": 23,
   "metadata": {
    "colab": {
     "base_uri": "https://localhost:8080/",
     "height": 605
    },
    "colab_type": "code",
    "id": "h935vng4avNg",
    "outputId": "6d8b5490-c21d-414e-b7d4-92d4ffd36ef4"
   },
   "outputs": [
    {
     "name": "stdout",
     "output_type": "stream",
     "text": [
      "Requirement already satisfied: pyLDAvis in c:\\users\\homepc\\anaconda3\\lib\\site-packages (2.1.2)\n",
      "Requirement already satisfied: joblib>=0.8.4 in c:\\users\\homepc\\anaconda3\\lib\\site-packages (from pyLDAvis) (0.14.1)\n",
      "Requirement already satisfied: future in c:\\users\\homepc\\anaconda3\\lib\\site-packages (from pyLDAvis) (0.18.2)\n",
      "Requirement already satisfied: wheel>=0.23.0 in c:\\users\\homepc\\anaconda3\\lib\\site-packages (from pyLDAvis) (0.34.2)\n",
      "Requirement already satisfied: pandas>=0.17.0 in c:\\users\\homepc\\anaconda3\\lib\\site-packages (from pyLDAvis) (1.0.1)\n",
      "Requirement already satisfied: funcy in c:\\users\\homepc\\anaconda3\\lib\\site-packages (from pyLDAvis) (1.14)\n",
      "Requirement already satisfied: pytest in c:\\users\\homepc\\anaconda3\\lib\\site-packages (from pyLDAvis) (5.3.5)\n",
      "Requirement already satisfied: numexpr in c:\\users\\homepc\\anaconda3\\lib\\site-packages (from pyLDAvis) (2.7.1)\n",
      "Requirement already satisfied: scipy>=0.18.0 in c:\\users\\homepc\\anaconda3\\lib\\site-packages (from pyLDAvis) (1.4.1)\n",
      "Requirement already satisfied: numpy>=1.9.2 in c:\\users\\homepc\\anaconda3\\lib\\site-packages (from pyLDAvis) (1.18.1)\n",
      "Requirement already satisfied: jinja2>=2.7.2 in c:\\users\\homepc\\anaconda3\\lib\\site-packages (from pyLDAvis) (2.11.1)\n",
      "Requirement already satisfied: pytz>=2017.2 in c:\\users\\homepc\\anaconda3\\lib\\site-packages (from pandas>=0.17.0->pyLDAvis) (2019.3)\n",
      "Requirement already satisfied: python-dateutil>=2.6.1 in c:\\users\\homepc\\anaconda3\\lib\\site-packages (from pandas>=0.17.0->pyLDAvis) (2.8.1)\n",
      "Requirement already satisfied: py>=1.5.0 in c:\\users\\homepc\\anaconda3\\lib\\site-packages (from pytest->pyLDAvis) (1.8.1)\n",
      "Requirement already satisfied: packaging in c:\\users\\homepc\\anaconda3\\lib\\site-packages (from pytest->pyLDAvis) (20.1)\n",
      "Requirement already satisfied: attrs>=17.4.0 in c:\\users\\homepc\\anaconda3\\lib\\site-packages (from pytest->pyLDAvis) (19.3.0)\n",
      "Requirement already satisfied: more-itertools>=4.0.0 in c:\\users\\homepc\\anaconda3\\lib\\site-packages (from pytest->pyLDAvis) (8.2.0)\n",
      "Requirement already satisfied: pluggy<1.0,>=0.12 in c:\\users\\homepc\\anaconda3\\lib\\site-packages (from pytest->pyLDAvis) (0.13.1)\n",
      "Requirement already satisfied: wcwidth in c:\\users\\homepc\\anaconda3\\lib\\site-packages (from pytest->pyLDAvis) (0.1.8)\n",
      "Requirement already satisfied: importlib-metadata>=0.12 in c:\\users\\homepc\\anaconda3\\lib\\site-packages (from pytest->pyLDAvis) (1.5.0)\n",
      "Requirement already satisfied: atomicwrites>=1.0 in c:\\users\\homepc\\anaconda3\\lib\\site-packages (from pytest->pyLDAvis) (1.3.0)\n",
      "Requirement already satisfied: colorama in c:\\users\\homepc\\anaconda3\\lib\\site-packages (from pytest->pyLDAvis) (0.4.3)\n",
      "Requirement already satisfied: MarkupSafe>=0.23 in c:\\users\\homepc\\anaconda3\\lib\\site-packages (from jinja2>=2.7.2->pyLDAvis) (1.1.1)\n",
      "Requirement already satisfied: six>=1.5 in c:\\users\\homepc\\anaconda3\\lib\\site-packages (from python-dateutil>=2.6.1->pandas>=0.17.0->pyLDAvis) (1.14.0)\n",
      "Requirement already satisfied: pyparsing>=2.0.2 in c:\\users\\homepc\\anaconda3\\lib\\site-packages (from packaging->pytest->pyLDAvis) (2.4.6)\n",
      "Requirement already satisfied: zipp>=0.5 in c:\\users\\homepc\\anaconda3\\lib\\site-packages (from importlib-metadata>=0.12->pytest->pyLDAvis) (2.2.0)\n"
     ]
    }
   ],
   "source": [
    "!pip install pyLDAvis\n",
    "import pyLDAvis"
   ]
  },
  {
   "cell_type": "code",
   "execution_count": 24,
   "metadata": {
    "colab": {
     "base_uri": "https://localhost:8080/",
     "height": 861
    },
    "colab_type": "code",
    "id": "bVhMkSiLazW_",
    "outputId": "99a3491c-e82a-486d-b9f7-2aaa824f49bd"
   },
   "outputs": [
    {
     "data": {
      "text/html": [
       "\n",
       "<link rel=\"stylesheet\" type=\"text/css\" href=\"https://cdn.rawgit.com/bmabey/pyLDAvis/files/ldavis.v1.0.0.css\">\n",
       "\n",
       "\n",
       "<div id=\"ldavis_el1087220854719277763527445233\"></div>\n",
       "<script type=\"text/javascript\">\n",
       "\n",
       "var ldavis_el1087220854719277763527445233_data = {\"mdsDat\": {\"x\": [-0.12094678964477289, -0.03101350263297884, 0.0021497572724918077, -0.0851835371678965, -0.0476854580928927, 0.1461926051819694, 0.033747101324711204, -0.02134534900926434, 0.028597175035103416, 0.09548799773352924], \"y\": [-0.030960111803695164, -0.030999558701113646, 0.020992324170865665, 0.04109790031820594, 0.03338709638426759, 0.06284471699013214, 0.016961241212276122, -0.03168613496176694, 0.0343678574758497, -0.11600533108502178], \"topics\": [1, 2, 3, 4, 5, 6, 7, 8, 9, 10], \"cluster\": [1, 1, 1, 1, 1, 1, 1, 1, 1, 1], \"Freq\": [24.99973487854004, 9.903051376342773, 9.880755424499512, 9.029905319213867, 8.944244384765625, 8.852551460266113, 8.60592269897461, 8.3757963180542, 5.905429840087891, 5.502607822418213]}, \"tinfo\": {\"Term\": [\"john\", \"image\", \"message\", \"email\", \"subject\", \"pm\", \"phillip\", \"cc\", \"original\", \"send\", \"arnold\", \"k\", \"iso\", \"forward\", \"gas\", \"enron\", \"thank\", \"arnoldhouectect\", \"request\", \"chart\", \"meeting\", \"outage\", \"know\", \"project\", \"spread\", \"not\", \" \", \"october\", \"contain\", \"active\", \"ttc\", \"pepl\", \"liquefaction\", \"thinkif\", \"accum\", \"diluted\", \"indeces\", \"nowless\", \"downgrade\", \"westgasx\", \"myrna\", \"liszewski\", \"mkts\", \"marchapr\", \"hj\", \"cowen\", \"earningscom\", \"inverse\", \"pretax\", \"aftertax\", \"sprds\", \"neeley\", \"soundview\", \"toryid\", \"httpwwwbaltimoresuncomcontentcoverstorysectioncoverpagenamestorys\", \"sprd\", \"deathly\", \"addional\", \"mneeleycaisocom\", \"yearago\", \"destruction\", \"cibc\", \"accumulate\", \"httpwwwmultexinvestorcomdownloadaspdocidnd\", \"bull\", \"inj\", \"ugly\", \"beleive\", \"earning\", \"mkt\", \"neutral\", \"thirdquarter\", \"fastow\", \"bearish\", \"bcfd\", \"outperform\", \"vx\", \"percent\", \"loss\", \"companys\", \"quarter\", \"rating\", \"stock\", \"wager\", \"multex\", \"say\", \"million\", \"strong\", \"investor\", \"initiate\", \"wall\", \"billion\", \"securities\", \"company\", \"reuters\", \"share\", \"analyst\", \"debt\", \"dynegy\", \"buy\", \"fall\", \"weather\", \"enron\", \"dow\", \"cent\", \"copyright\", \"year\", \"investment\", \"news\", \"inc\", \"demand\", \"power\", \"jones\", \"energy\", \"market\", \"report\", \"price\", \"not\", \"gas\", \"financial\", \"new\", \"business\", \"s\", \"trade\", \"week\", \"sell\", \"think\", \"deal\", \"subject\", \"cactus\", \"professionally\", \"syncopated\", \"sandiegodoc\", \"elvis\", \"physicalfinancial\", \"kingsgate\", \"imagegif\", \"murnan\", \"mapping\", \"gable\", \"eleanor\", \"wimberley\", \"kristingandyenroncom\", \"algebraic\", \"enlarge\", \"pantry\", \"stranger\", \"ffapdf\", \"hrobertsonhbkcom\", \"researchit\", \"chug\", \"malin\", \"finishing\", \"oledatamso\", \"imagewmz\", \"tantamount\", \"nothingshare\", \"spb\", \"floatforfloat\", \"bishops\", \"porch\", \"tender\", \"pershare\", \"farmhouse\", \"exterior\", \"onebox\", \"httpwwwzdnetoneboxcom\", \"httpwwwwinebidcomositemhtmlhtshtml\", \"complication\", \"tds\", \"lucy\", \"sr\", \"smud\", \"doctor\", \"try\", \"position\", \"rentroll\", \"idrc\", \"know\", \"good\", \"transport\", \"be\", \"pl\", \"specialist\", \"wade\", \"like\", \"think\", \"want\", \"phillip\", \"exploration\", \"project\", \"need\", \"let\", \"not\", \"look\", \"go\", \"thing\", \"basis\", \"company\", \"work\", \"offer\", \"time\", \"plan\", \"nymex\", \"subject\", \"bring\", \"week\", \"john\", \"deal\", \"cc\", \"have\", \"new\", \"gas\", \"email\", \"image\", \"send\", \"pm\", \"price\", \"enron\", \"bawahouectect\", \"jonathon\", \"wv\", \"pielop\", \"carlstrom\", \"showtimes\", \"creem\", \"votruba\", \"hoey\", \"salespopswinecom\", \"showtime\", \"onepass\", \"zhucorpenronenron\", \"elliotthouectect\", \"continentalcom\", \"mcnary\", \"coolus\", \"ewr\", \"kellner\", \"embassy\", \"miertschin\", \"recoupment\", \"kimberley\", \"fangme\", \"newark\", \"brianhoskinsenronnet\", \"zhuenron\", \"wwwpopswinecom\", \"doubletree\", \"keegan\", \"hoskinsenron\", \"hilton\", \"sheraton\", \"hotels\", \"alamo\", \"nj\", \"avaya\", \"holly\", \"sayre\", \"resort\", \"hotel\", \"miles\", \"sarahjoy\", \"cap\", \"airport\", \"pergher\", \"hoffmanpdxect\", \"cleveland\", \"reservation\", \"gunther\", \"continental\", \"airlines\", \"pm\", \"travel\", \"yahoo\", \"communications\", \"brian\", \"rental\", \"iso\", \"rate\", \"special\", \"xorigin\", \"enron\", \"xfilename\", \"communicationsenron\", \"day\", \"xfolder\", \"new\", \"market\", \"forward\", \"subject\", \"cc\", \"john\", \"power\", \"xbcc\", \"price\", \"email\", \"thank\", \"program\", \"jeff\", \"meeting\", \"need\", \"business\", \"th\", \"service\", \"time\", \"include\", \"energy\", \"offer\", \"company\", \"information\", \"say\", \"queue\", \"comiskey\", \"httpiosetsenroncominfopostingssharedetnoncriticalnoticeaspcompany\", \"ravine\", \"wwwcapitolconnectionorg\", \"orr\", \"trr\", \"std\", \"otmc\", \"kemplonectect\", \"intensity\", \"httpwwweinsightcom\", \"cgrantcaisocom\", \"userdefined\", \"otmp\", \"gui\", \"sheriff\", \"tetco\", \"ngpl\", \"spreadoffset\", \"snyderhoueesees\", \"shivelyhouect\", \"baileylonectect\", \"dysonect\", \"onshore\", \"ela\", \"bandaid\", \"nicor\", \"mmbtus\", \"seversonhouect\", \"millshouect\", \"stakeholder\", \"chairperson\", \"optimization\", \"ews\", \"cb\", \"presold\", \"appraise\", \"cmr\", \"severudehouect\", \"saudi\", \"arabias\", \"offset\", \"appendix\", \"formula\", \"woertz\", \"improvement\", \"loan\", \"mseb\", \"citygate\", \"byron\", \"land\", \"pool\", \"meeting\", \"recommendation\", \"dpc\", \"creekside\", \"occur\", \"construction\", \"japan\", \"congestion\", \"description\", \"oil\", \"project\", \"gas\", \"cost\", \"india\", \"energy\", \"natural\", \"transaction\", \"houston\", \"provide\", \"change\", \"say\", \"lot\", \"power\", \"market\", \"value\", \"enron\", \"company\", \"include\", \"report\", \"business\", \"price\", \"information\", \"new\", \"plan\", \"service\", \"year\", \"pm\", \"sell\", \"work\", \"time\", \"adjustable\", \"roman\", \"harrassment\", \"noir\", \"intersc\", \"backout\", \"downdraft\", \"larrry\", \"allenxls\", \"cortlandt\", \"ufe\", \"infomercial\", \"uninstructed\", \"filtration\", \"detentionretention\", \"httpcgizdnetcomslinkadeskbadt\", \"proformaphillip\", \"winesspirits\", \"anchordesk\", \"infoseek\", \"transformer\", \"zd\", \"shielah\", \"adjoin\", \"pwc\", \"pinot\", \"dmand\", \"ardmore\", \"coursey\", \"lans\", \"outage\", \"enpower\", \"oncall\", \"edi\", \"httpcgizdnetcomslink\", \"pt\", \"chardonnay\", \"udc\", \"eob\", \"disk\", \"sun\", \"ct\", \"sit\", \"server\", \"cabernet\", \"mg\", \"sauvignon\", \"merlot\", \"pager\", \"fri\", \"thur\", \"iso\", \"london\", \"schedule\", \"impact\", \"environment\", \"buycom\", \"purpose\", \"dicarlo\", \"market\", \"procedure\", \"datum\", \"information\", \"wine\", \"price\", \"system\", \"pm\", \"participant\", \"project\", \"time\", \"settlement\", \"provide\", \"cost\", \"service\", \"contact\", \"california\", \"trade\", \"not\", \"new\", \"enron\", \"day\", \"subject\", \"year\", \"email\", \"week\", \"need\", \"send\", \"message\", \"edie\", \"leschber\", \"fsd\", \"jfk\", \"httptournamentfantasysportsyahoocommen\", \"pickem\", \"benotti\", \"fieldsid\", \"keilty\", \"mime\", \"nowak\", \"bytes\", \"painewebber\", \"mimecompliant\", \"goldsmith\", \"pegasus\", \"mailer\", \"romeronaenronenron\", \"sic\", \"masterdisc\", \"jfkyahoocom\", \"jfks\", \"clement\", \"peerscolleague\", \"maxdiscusazip\", \"enronadminfsddatasvccom\", \"ubspainewebber\", \"araceli\", \"httpwwwfsddatasvccomenron\", \"peercolleague\", \"disc\", \"emery\", \"gapinski\", \"nameserver\", \"httpwwwwinebidcomhomespotlightshtml\", \"tail\", \"active\", \"debbie\", \"flip\", \"ver\", \"md\", \"billing\", \"admin\", \"email\", \"instruction\", \"coin\", \"companyexchange\", \"starwood\", \"jason\", \"michael\", \"zip\", \"angela\", \"david\", \"lisa\", \"transmit\", \"order\", \"christopher\", \"andor\", \"james\", \"edward\", \"daniel\", \"j\", \"smith\", \"robert\", \"jim\", \"john\", \"chris\", \"w\", \"susan\", \"address\", \"l\", \"phone\", \"scott\", \"m\", \"mike\", \"subject\", \"fax\", \"d\", \"mark\", \"send\", \"pm\", \"s\", \"cc\", \"jeff\", \"credit\", \"enron\", \"phillip\", \"include\", \"message\", \"k\", \"simpkins\", \"jed\", \"winstead\", \"realnetworks\", \"minick\", \"iwon\", \"sechrest\", \"msimpkinswinsteadcom\", \"agreeenrondoc\", \"lianekuchermcgrawhillcom\", \"imagemore\", \"similiar\", \"jpi\", \"parkerdrewmsdwcom\", \"girdy\", \"realplayer\", \"unintentionally\", \"psa\", \"chazvaughanenronnet\", \"reis\", \"installer\", \"chaz\", \"franco\", \"noskehouectect\", \"koenigcorpenronenron\", \"woodnaenronenron\", \"giovannini\", \"reviseadd\", \"assocanalyst\", \"jurassic\", \"pivot\", \"walters\", \"cashiola\", \"munson\", \"bmc\", \"jalexandergibbsbrunscom\", \"joneshrcorpenronenron\", \"johnsonhrcorpenronenron\", \"image\", \"vaughanenron\", \"hp\", \"resistance\", \"universal\", \"stephenmorseenronnet\", \"deferral\", \"matson\", \"imageimage\", \"morseenron\", \"hps\", \"privilege\", \"resume\", \"dexter\", \"ebc\", \"owa\", \"bridge\", \"conf\", \"dvd\", \"mm\", \"phillip\", \"trademark\", \"steffesnaenronenron\", \"thank\", \"receive\", \"broker\", \"grigsby\", \"click\", \"republicans\", \"access\", \"mail\", \"password\", \"mike\", \"question\", \"allen\", \"update\", \"account\", \"jeff\", \"online\", \"send\", \"free\", \"k\", \"pm\", \"ebs\", \"product\", \"forward\", \"need\", \"work\", \"enron\", \"xfilename\", \"subject\", \"cc\", \"email\", \"help\", \"message\", \"time\", \"contact\", \"gas\", \"know\", \"price\", \"new\", \"john\", \"information\", \"market\", \"httpitcappscorpenroncomsrrsauthemaillinkaspidpageapproval\", \"nahoutrdhoustonpwrcommonelectric\", \"nahoutrdhoustonpwrcommonpowerregion\", \"yippee\", \"kobra\", \"skirt\", \"pmso\", \"httpitcappscorpenroncomsrrsauthemaillinkaspidpage\", \"confebc\", \"hookie\", \"jeans\", \"expit\", \"kdavismanfinancialcomenron\", \"rfb\", \"navajo\", \"arsystemectenroncom\", \"httpitcappscorpenroncomsrrsapprovedetailaspidemail\", \"overdue\", \"downcrude\", \"boxster\", \"grahamcorpenronenronvince\", \"kdavismanfinancialcom\", \"requester\", \"suckhope\", \"nothinguk\", \"usfuel\", \"cfa\", \"masson\", \"kwmo\", \"hilson\", \"synthetic\", \"uncomfortable\", \"vom\", \"autowebcom\", \"mattsmithenroncom\", \"rosenbury\", \"peaker\", \"librarycom\", \"sodra\", \"skogsagarna\", \"estoppel\", \"enforceable\", \"binding\", \"recipient\", \"enronmessagingadministrationenroncom\", \"hereto\", \"acceptance\", \"original\", \"request\", \"pende\", \"arnold\", \"october\", \"message\", \"margaret\", \"send\", \"privileged\", \"monday\", \"resource\", \"intend\", \"november\", \"subject\", \"evidence\", \"wine\", \"john\", \"enron\", \"corp\", \"pm\", \"contract\", \"thursday\", \"review\", \"copy\", \"thank\", \"create\", \"tuesday\", \"wednesday\", \"allen\", \"email\", \"trading\", \"price\", \"deal\", \"new\", \"say\", \"energy\", \"want\", \"company\", \"not\", \"time\", \"cc\", \"gas\", \"power\", \"crudepdf\", \"httpwwwcarrfutcomresearchenergyhoilpdf\", \"richey\", \"candlesticks\", \"httpwwwcarrfutcomresearchenergyunldedpdf\", \"httpwwwcarrfutcomresearchenergyspreadmatrixngpdf\", \"httpwwwcarrfutcomresearchenergycandlestickspdf\", \"httpwwwcarrfutcomresearchenergycrudepdf\", \"httpwwwcarrfutcomresearchenergystripmatrixpdf\", \"httpwwwcarrfutcomresearchenergyngaspdf\", \"httpwwwcarrfutcomresearchenergyspreadmatrixclpdf\", \"jerky\", \"restaurantmp\", \"prank\", \"httpwwwcarrfutcomresearchenergystripmatrixngpdf\", \"unleade\", \"soblandercarrfutcom\", \"wwwadobecom\", \"httpintelligencepresscomsubscribersindexhtml\", \"fallonhouectect\", \"amenity\", \"wacker\", \"carr\", \"unlead\", \"ngaspdf\", \"oblander\", \"ngaspdfsee\", \"ngis\", \"httpwwwcarrfutcomresearchenergyhuxhoxpdf\", \"proformaxls\", \"matrix\", \"httpwwwcarrfutcom\", \"gasheat\", \"httpwwwcarrfutcomresearchenergygascrackpdf\", \"chart\", \"httpwwwcarrfutcomresearchenergyhofhogpdf\", \"futures\", \"author\", \"httpwwwcarrfutcomresearchenergyheatcrackpdf\", \"differ\", \"instrument\", \"cea\", \"solicitation\", \"shivelyhouectect\", \"reliable\", \"nat\", \"contain\", \"express\", \"allenhouectect\", \"accurate\", \"k\", \" \", \"allenhouect\", \"crude\", \"phillip\", \"spread\", \"forward\", \"cc\", \"hot\", \"pm\", \"john\", \"subject\", \"gas\", \"material\", \"web\", \"email\", \"enron\", \"thank\", \"offer\", \"mike\", \"s\", \"information\", \"contact\", \"sell\", \"send\", \"buy\", \"meeting\", \"power\", \"daman\", \"burnshouectect\", \"lexpediteur\", \"responsabilite\", \"interdite\", \"sont\", \"merci\", \"avertir\", \"recevez\", \"immediatement\", \"etabli\", \"expresse\", \"michaelbyrneamericasbnpparibascom\", \"modifie\", \"titre\", \"jointes\", \"dans\", \"lintegrite\", \"dassurer\", \"declinent\", \"permettant\", \"lintention\", \"totale\", \"aurait\", \"bnp\", \"vous\", \"sauf\", \"toute\", \"partielle\", \"linternet\", \"paribas\", \"diffusion\", \"pieces\", \"ses\", \"ce\", \"ou\", \"de\", \"ward\", \"den\", \"kim\", \"message\", \"john\", \"arnoldhouectect\", \"subject\", \"arnold\", \"cc\", \"le\", \"yes\", \"jennifer\", \"et\", \"ina\", \"pm\", \"migration\", \"s\", \"send\", \"morning\", \"not\", \"know\", \"original\", \"thank\", \"go\", \"want\", \"be\", \"phillip\", \"gas\", \"week\", \"think\", \"forward\", \"enron\", \"power\"], \"Freq\": [7153.0, 3497.0, 4292.0, 5925.0, 7597.0, 8337.0, 3778.0, 4868.0, 2965.0, 4649.0, 1748.0, 2254.0, 1678.0, 3166.0, 5011.0, 11272.0, 3315.0, 1276.0, 1497.0, 528.0, 2083.0, 633.0, 2972.0, 1907.0, 1044.0, 4164.0, 1170.0, 1363.0, 855.0, 662.0, 28.287111282348633, 16.763919830322266, 16.89936637878418, 8.287881851196289, 39.585357666015625, 56.04978942871094, 6.185080528259277, 8.235721588134766, 466.0658874511719, 9.139233589172363, 7.155306339263916, 15.461143493652344, 42.134124755859375, 13.325221061706543, 64.32947540283203, 28.728557586669922, 82.00890350341797, 30.800792694091797, 70.15365600585938, 73.04737091064453, 10.108672142028809, 7.083467483520508, 17.270654678344727, 8.132705688476562, 8.132072448730469, 31.45540428161621, 25.192249298095703, 13.164238929748535, 7.036759853363037, 18.114845275878906, 55.45956802368164, 26.078258514404297, 36.90507888793945, 48.631168365478516, 82.74490356445312, 29.789043426513672, 33.501564025878906, 28.934337615966797, 664.6690673828125, 146.95933532714844, 123.67942810058594, 168.84344482421875, 318.2172546386719, 126.26439666748047, 133.31747436523438, 76.05130004882812, 60.08269119262695, 746.7545776367188, 545.5977783203125, 468.1788330078125, 541.6820068359375, 479.6822204589844, 1472.541259765625, 79.57674407958984, 73.3744125366211, 3725.261962890625, 1317.3243408203125, 493.02313232421875, 904.4951782226562, 207.4979705810547, 429.7644958496094, 993.5567626953125, 214.4413604736328, 3276.795166015625, 471.9416809082031, 1285.61767578125, 761.0182495117188, 534.7039184570312, 558.8118286132812, 1549.5281982421875, 672.3486938476562, 482.4580383300781, 5013.0947265625, 911.1144409179688, 557.0505981445312, 753.7276611328125, 1857.70068359375, 730.1550903320312, 848.1148071289062, 1101.8575439453125, 759.1068115234375, 1702.54638671875, 843.599365234375, 1486.091064453125, 1896.483642578125, 1131.314208984375, 1722.3128662109375, 1530.539306640625, 1616.7620849609375, 904.8836669921875, 1412.6480712890625, 1088.3704833984375, 1276.903564453125, 1000.4376831054688, 1049.7330322265625, 874.3657836914062, 892.1408081054688, 861.0056762695312, 926.3512573242188, 13.096200942993164, 11.077873229980469, 20.77178382873535, 9.938517570495605, 12.647687911987305, 18.661039352416992, 30.507110595703125, 15.033685684204102, 11.528329849243164, 15.926067352294922, 28.304080963134766, 19.19203758239746, 15.084357261657715, 8.692137718200684, 18.52691650390625, 15.8653564453125, 14.987431526184082, 12.299418449401855, 18.423648834228516, 16.388803482055664, 11.202396392822266, 11.155409812927246, 29.30549430847168, 14.788202285766602, 7.671586513519287, 7.663213729858398, 18.146377563476562, 18.145296096801758, 14.508310317993164, 7.635568618774414, 24.398738861083984, 71.3064193725586, 55.885047912597656, 28.900896072387695, 17.43601417541504, 41.06892776489258, 46.85248947143555, 46.66533660888672, 39.93912887573242, 18.36488914489746, 59.3914680480957, 141.9209747314453, 78.91573333740234, 26.897314071655273, 30.195947647094727, 447.9795837402344, 453.3497009277344, 76.66409301757812, 31.355649948120117, 855.9373168945312, 661.7918090820312, 85.46092987060547, 427.7971496582031, 139.15072631835938, 92.02828216552734, 52.4046630859375, 663.5645751953125, 644.0984497070312, 589.5520629882812, 826.326416015625, 80.11031341552734, 489.8901672363281, 674.1315307617188, 440.57861328125, 823.3687744140625, 485.4237976074219, 467.87249755859375, 276.8739013671875, 233.54129028320312, 913.50439453125, 534.216796875, 438.53228759765625, 636.44921875, 407.5628356933594, 185.41983032226562, 886.38916015625, 197.69371032714844, 501.3815612792969, 790.12158203125, 429.3253173828125, 621.5509033203125, 271.9218444824219, 525.0557250976562, 554.38330078125, 589.4002075195312, 459.16357421875, 514.5093994140625, 594.168701171875, 450.4279479980469, 432.1382751464844, 14.107954025268555, 14.107428550720215, 14.106904029846191, 14.105816841125488, 13.986380577087402, 101.15697479248047, 10.541234970092773, 11.225213050842285, 11.21625804901123, 12.840991973876953, 82.81153106689453, 85.55595397949219, 14.394787788391113, 11.949044227600098, 168.35227966308594, 10.288808822631836, 17.974916458129883, 17.955230712890625, 24.06851577758789, 22.512165069580078, 16.253332138061523, 17.733251571655273, 11.49337100982666, 73.91072845458984, 68.58980560302734, 32.32312774658203, 14.58558464050293, 6.899305820465088, 34.36604690551758, 29.495561599731445, 76.10575866699219, 113.46293640136719, 86.4741439819336, 37.779048919677734, 56.22576904296875, 86.12528228759766, 99.218505859375, 34.97882080078125, 28.246191024780273, 96.79911041259766, 216.63531494140625, 62.537349700927734, 161.59193420410156, 364.1236267089844, 92.6697769165039, 87.53298950195312, 56.10060501098633, 40.9849739074707, 127.17498779296875, 61.266151428222656, 161.82777404785156, 66.14161682128906, 2080.249755859375, 152.10198974609375, 185.80470275878906, 259.3084411621094, 229.08929443359375, 116.43209075927734, 520.5689086914062, 434.7261962890625, 267.1742858886719, 361.34912109375, 1445.1656494140625, 382.9159240722656, 187.12965393066406, 518.281005859375, 229.4854736328125, 609.1568603515625, 671.3207397460938, 492.484375, 753.3841552734375, 601.3245239257812, 705.1340942382812, 540.3787231445312, 208.16998291015625, 575.04443359375, 620.3877563476562, 435.5030517578125, 244.04959106445312, 306.3924255371094, 341.91314697265625, 383.3487243652344, 366.3336181640625, 293.1683044433594, 331.4655456542969, 357.0888977050781, 309.6629638671875, 341.1648254394531, 290.0755920410156, 325.37445068359375, 293.59295654296875, 301.8931884765625, 20.995573043823242, 11.699423789978027, 16.966033935546875, 8.65263843536377, 10.249115943908691, 31.17441749572754, 18.998573303222656, 177.05531311035156, 155.32211303710938, 11.018559455871582, 92.18839263916016, 21.191091537475586, 16.078813552856445, 18.83871078491211, 149.4274444580078, 12.755197525024414, 8.42224407196045, 26.061716079711914, 35.08933639526367, 32.072998046875, 11.595298767089844, 30.47393226623535, 9.152996063232422, 7.446563720703125, 20.674509048461914, 17.36558723449707, 9.911250114440918, 18.09624481201172, 17.453662872314453, 26.72281837463379, 26.6608943939209, 169.88247680664062, 36.07896423339844, 22.723844528198242, 101.74699401855469, 57.48958969116211, 38.99244689941406, 33.593746185302734, 128.90943908691406, 26.36376953125, 108.43789672851562, 29.11029052734375, 240.61599731445312, 55.77432632446289, 93.81979370117188, 80.910400390625, 156.4259490966797, 473.918212890625, 113.1198501586914, 63.62841033935547, 81.50916290283203, 217.79251098632812, 116.977783203125, 765.0676879882812, 149.796142578125, 111.2729721069336, 81.73780059814453, 166.54379272460938, 205.80043029785156, 91.8573989868164, 80.66204833984375, 107.27661895751953, 295.8160705566406, 467.8084411621094, 825.4144287109375, 437.0274658203125, 178.3141326904297, 627.0396118164062, 359.7860412597656, 296.3813171386719, 351.4927673339844, 336.017578125, 352.867431640625, 576.4962768554688, 237.67247009277344, 465.7695007324219, 482.46630859375, 279.28240966796875, 593.3541870117188, 468.2337951660156, 305.92449951171875, 321.16107177734375, 325.652587890625, 384.7151794433594, 289.25091552734375, 320.1596374511719, 265.9081726074219, 279.80364990234375, 299.7864685058594, 337.27825927734375, 270.464599609375, 272.1222839355469, 269.67529296875, 31.02178192138672, 18.954561233520508, 11.134175300598145, 29.943748474121094, 51.824440002441406, 152.48265075683594, 20.676652908325195, 6.543126106262207, 20.439823150634766, 7.329629898071289, 118.20851135253906, 10.547928810119629, 25.852136611938477, 21.064355850219727, 20.32377052307129, 87.16817474365234, 20.30575942993164, 7.261002540588379, 36.14011001586914, 22.18268394470215, 15.18773365020752, 49.711368560791016, 13.567545890808105, 10.435132026672363, 22.272369384765625, 54.520408630371094, 7.957414150238037, 17.332910537719727, 16.616701126098633, 16.542823791503906, 508.9688415527344, 28.138498306274414, 52.99269485473633, 33.54731369018555, 126.66132354736328, 280.1887512207031, 55.202239990234375, 40.448211669921875, 42.46733093261719, 79.92996978759766, 250.61312866210938, 303.6042785644531, 444.2583312988281, 216.88919067382812, 73.79310607910156, 38.10057067871094, 67.24470520019531, 56.371925354003906, 118.09646606445312, 164.3037567138672, 53.3979606628418, 757.3261108398438, 341.7214050292969, 526.0940551757812, 367.0828552246094, 169.03961181640625, 92.28421020507812, 191.16616821289062, 61.211002349853516, 990.5489501953125, 119.14200592041016, 242.3134002685547, 494.03338623046875, 204.87564086914062, 690.8978271484375, 338.6919250488281, 892.006103515625, 229.58517456054688, 359.0349426269531, 524.2483520507812, 138.39498901367188, 312.2468566894531, 312.70843505859375, 346.970947265625, 296.2857666015625, 274.0838317871094, 330.1982116699219, 372.23388671875, 378.1914978027344, 465.5478210449219, 319.3055114746094, 408.77862548828125, 331.41864013671875, 352.90289306640625, 305.1924133300781, 300.5162048339844, 312.8540344238281, 292.41156005859375, 23.364662170410156, 19.183868408203125, 19.65584945678711, 15.801531791687012, 15.59260082244873, 24.642290115356445, 8.143430709838867, 81.8378677368164, 18.786487579345703, 16.119842529296875, 52.442440032958984, 21.41857147216797, 165.27322387695312, 16.000320434570312, 18.58201789855957, 15.948468208312988, 15.9450101852417, 9.595131874084473, 38.57728576660156, 27.110321044921875, 7.872486591339111, 7.8534932136535645, 19.078824996948242, 7.849120616912842, 16.49599838256836, 7.790901184082031, 49.431209564208984, 12.857914924621582, 7.7346320152282715, 7.728244781494141, 130.08250427246094, 19.76467514038086, 52.919944763183594, 17.876943588256836, 18.59422492980957, 155.4622344970703, 478.6693115234375, 97.37348937988281, 115.90847778320312, 93.0921859741211, 79.2758560180664, 100.9341049194336, 126.18743133544922, 2282.7529296875, 215.5601806640625, 37.60994338989258, 29.005748748779297, 50.652427673339844, 197.7169952392578, 348.456787109375, 73.0910873413086, 52.35285186767578, 436.84356689453125, 150.79486083984375, 112.2974624633789, 468.929931640625, 127.36038970947266, 214.49624633789062, 273.382568359375, 125.63339233398438, 133.56338500976562, 395.69171142578125, 287.956298828125, 283.4922180175781, 244.9075469970703, 1068.2161865234375, 224.56753540039062, 289.0073547363281, 297.8409423828125, 338.9254455566406, 292.33038330078125, 292.3702087402344, 242.7576141357422, 317.3575134277344, 293.7499084472656, 631.5958862304688, 275.94451904296875, 271.893310546875, 289.2169494628906, 442.690673828125, 544.8818969726562, 406.81585693359375, 420.96929931640625, 288.50750732421875, 299.23388671875, 386.3809814453125, 314.037353515625, 284.2104187011719, 298.0966491699219, 283.6282043457031, 18.131322860717773, 12.856426239013672, 11.264066696166992, 11.244913101196289, 11.216859817504883, 35.2673454284668, 11.184122085571289, 11.941549301147461, 6.3496503829956055, 10.338323593139648, 33.70212936401367, 7.019647121429443, 22.366426467895508, 6.1737141609191895, 6.169986248016357, 7.681460857391357, 6.154557228088379, 20.251693725585938, 16.03790855407715, 33.76362991333008, 6.0552144050598145, 41.82609939575195, 6.75568151473999, 13.543591499328613, 5.983005523681641, 18.767812728881836, 9.768016815185547, 13.412325859069824, 6.72910213470459, 11.207226753234863, 19.230812072753906, 12.573274612426758, 36.662601470947266, 32.44612121582031, 195.8046875, 17.563488006591797, 18.2788028717041, 15.42101764678955, 2140.721923828125, 19.591041564941406, 120.95268249511719, 21.966941833496094, 54.236202239990234, 19.356298446655273, 47.150333404541016, 25.09817123413086, 86.62266540527344, 26.71809196472168, 31.30773162841797, 71.2789077758789, 105.82975006103516, 30.28322410583496, 45.93096923828125, 73.08013916015625, 68.76773071289062, 33.760780334472656, 48.4544792175293, 87.10226440429688, 911.91455078125, 42.44118118286133, 48.420501708984375, 685.0244140625, 472.7171325683594, 174.2882080078125, 93.69245910644531, 346.10076904296875, 48.68965148925781, 280.3580322265625, 139.58938598632812, 123.84063720703125, 283.70758056640625, 385.2603454589844, 279.8735656738281, 285.78240966796875, 223.58009338378906, 316.45770263671875, 206.001708984375, 586.9650268554688, 283.1104431152344, 356.1156921386719, 733.2191162109375, 160.205078125, 265.8004455566406, 405.6484375, 399.04852294921875, 364.2116394042969, 695.62353515625, 257.9570617675781, 546.3168334960938, 426.59735107421875, 459.9864807128906, 254.12278747558594, 381.0192565917969, 346.27001953125, 262.3571472167969, 351.5517272949219, 292.7252502441406, 312.7104797363281, 299.9299621582031, 300.7420654296875, 270.1748962402344, 271.2338562011719, 70.9292984008789, 15.722888946533203, 15.722771644592285, 27.060394287109375, 11.508550643920898, 12.87075138092041, 13.576597213745117, 8.259774208068848, 36.49238204956055, 14.957804679870605, 8.79162311553955, 16.906070709228516, 19.020368576049805, 17.923446655273438, 10.06682300567627, 6.40311861038208, 6.386227130889893, 13.333841323852539, 6.362122058868408, 7.0408220291137695, 6.295815944671631, 10.558064460754395, 4.181594371795654, 5.521112442016602, 4.851191997528076, 5.493341445922852, 15.922184944152832, 6.185850620269775, 15.881860733032227, 15.194068908691406, 53.77695846557617, 8.974803924560547, 23.820762634277344, 22.37639617919922, 23.188358306884766, 24.42680549621582, 62.26670455932617, 43.64459991455078, 35.56938934326172, 28.726408004760742, 54.39717483520508, 53.95939254760742, 53.493465423583984, 297.889892578125, 56.74895477294922, 54.31804656982422, 91.95217895507812, 1318.0535888671875, 708.16162109375, 92.24494171142578, 742.5089721679688, 600.0157470703125, 1339.2462158203125, 219.3382568359375, 1382.4697265625, 106.53257751464844, 559.173828125, 224.11111450195312, 300.9792175292969, 342.6058044433594, 1395.5889892578125, 80.60836029052734, 213.57020568847656, 1127.2945556640625, 1418.347900390625, 442.7130432128906, 1000.0505981445312, 355.0979309082031, 277.51556396484375, 306.4063720703125, 200.02195739746094, 486.57904052734375, 206.6162872314453, 273.15679931640625, 255.75772094726562, 263.6811218261719, 534.2210693359375, 321.7816467285156, 468.9998779296875, 342.8465270996094, 412.88250732421875, 456.5125427246094, 369.7124328613281, 307.8494567871094, 382.60791015625, 336.27655029296875, 329.1112976074219, 331.77142333984375, 330.46917724609375, 303.48773193359375, 11.489871978759766, 56.18965148925781, 18.37261962890625, 30.271574020385742, 55.34857177734375, 59.974143981933594, 25.510942459106445, 62.76164627075195, 20.22824478149414, 62.5355110168457, 59.23546600341797, 9.53409481048584, 9.533492088317871, 9.534586906433105, 42.42073440551758, 56.80683898925781, 195.19491577148438, 6.592434406280518, 7.984700679779053, 15.190479278564453, 12.356566429138184, 87.81334686279297, 307.4502868652344, 24.846818923950195, 5.748989105224609, 26.033681869506836, 5.73081636428833, 9.231401443481445, 18.801597595214844, 17.10468101501465, 227.39236450195312, 63.16448211669922, 48.72724914550781, 25.168136596679688, 388.5001525878906, 22.25263786315918, 198.90635681152344, 107.62932586669922, 24.90822982788086, 98.28866577148438, 112.13770294189453, 25.549604415893555, 122.21173858642578, 81.13540649414062, 112.41651153564453, 188.68698120117188, 356.3460388183594, 245.8970489501953, 240.5318603515625, 113.6724853515625, 662.227294921875, 399.6661071777344, 299.6570739746094, 180.37179565429688, 825.2418823242188, 337.577880859375, 670.9248046875, 734.098388671875, 157.92117309570312, 882.9712524414062, 804.6390991210938, 814.1619873046875, 605.6890258789062, 179.8325653076172, 212.02471923828125, 514.3340454101562, 632.650146484375, 333.85260009765625, 263.21630859375, 219.08839416503906, 315.8470458984375, 250.83340454101562, 223.51124572753906, 227.80328369140625, 242.61492919921875, 227.24757385253906, 207.3999786376953, 207.6204071044922, 17.72640037536621, 16.54875373840332, 51.413429260253906, 48.90886688232422, 48.76742172241211, 96.68321990966797, 51.01315689086914, 51.01009750366211, 48.57596206665039, 50.84195327758789, 48.55223083496094, 48.52444076538086, 19.21060562133789, 48.445838928222656, 48.39604949951172, 48.38115692138672, 49.918540954589844, 48.307376861572266, 48.32501983642578, 48.302303314208984, 48.2957649230957, 48.33366394042969, 48.274112701416016, 48.133056640625, 154.1500244140625, 52.58409881591797, 48.063232421875, 192.0977783203125, 50.24907302856445, 47.97897720336914, 168.3339080810547, 50.997684478759766, 47.95085906982422, 96.1998519897461, 244.3776092529297, 153.43507385253906, 265.0050354003906, 178.4540557861328, 57.55028533935547, 265.3005065917969, 1046.4561767578125, 1410.4613037109375, 373.7115783691406, 1032.891845703125, 404.1737060546875, 698.7470092773438, 100.18016815185547, 171.92393493652344, 280.7747802734375, 202.50205993652344, 152.40203857421875, 678.2866821289062, 111.43804931640625, 389.44012451171875, 410.8516540527344, 159.0071563720703, 353.0783996582031, 301.3558654785156, 283.0199890136719, 285.5964050292969, 233.4518280029297, 223.82208251953125, 176.49021911621094, 203.99325561523438, 216.13955688476562, 186.60638427734375, 182.26283264160156, 180.9420928955078, 189.88943481445312, 181.82891845703125], \"Total\": [7153.0, 3497.0, 4292.0, 5925.0, 7597.0, 8337.0, 3778.0, 4868.0, 2965.0, 4649.0, 1748.0, 2254.0, 1678.0, 3166.0, 5011.0, 11272.0, 3315.0, 1276.0, 1497.0, 528.0, 2083.0, 633.0, 2972.0, 1907.0, 1044.0, 4164.0, 1170.0, 1363.0, 855.0, 662.0, 30.050952911376953, 17.90376091003418, 18.9443416595459, 9.378734588623047, 44.8279914855957, 63.50908660888672, 7.029946327209473, 9.360865592956543, 531.2481689453125, 10.445141792297363, 8.184359550476074, 17.689224243164062, 48.21446228027344, 15.252988815307617, 73.6523666381836, 32.91720962524414, 94.00883483886719, 35.34737777709961, 80.76303100585938, 84.16908264160156, 11.65694522857666, 8.17064380645752, 19.932647705078125, 9.389372825622559, 9.389065742492676, 36.33085632324219, 29.13332748413086, 15.235302925109863, 8.161696434020996, 21.03404426574707, 65.0452651977539, 30.402816772460938, 43.21773910522461, 57.12974166870117, 98.13814544677734, 34.889957427978516, 39.36634826660156, 33.90170669555664, 837.7581787109375, 179.4300994873047, 150.38217163085938, 208.56265258789062, 404.8649597167969, 155.1502685546875, 164.36448669433594, 92.49144744873047, 72.4732666015625, 1020.295166015625, 736.0769653320312, 629.660888671875, 746.7230224609375, 657.6298217773438, 2174.3720703125, 97.65365600585938, 89.66676330566406, 6125.33251953125, 2022.8045654296875, 700.1216430664062, 1374.8031005859375, 278.96282958984375, 621.5155639648438, 1592.5999755859375, 291.60064697265625, 6207.37060546875, 705.9478759765625, 2180.318115234375, 1214.9227294921875, 814.11572265625, 857.8131713867188, 2768.808349609375, 1064.9595947265625, 732.977294921875, 11272.1923828125, 1549.482421875, 880.6170654296875, 1264.2362060546875, 3757.094970703125, 1260.840087890625, 1518.74951171875, 2206.845703125, 1344.4033203125, 4235.52294921875, 1603.0252685546875, 3653.52197265625, 5401.48974609375, 2566.152099609375, 5018.9091796875, 4164.79638671875, 5011.28955078125, 1898.594970703125, 4439.07568359375, 2786.504150390625, 3887.734619140625, 2689.716064453125, 3081.86767578125, 2182.81982421875, 2538.897216796875, 2510.424560546875, 7597.81640625, 14.430200576782227, 12.294707298278809, 23.48676109313965, 11.282983779907227, 14.478496551513672, 21.40083122253418, 35.09808349609375, 17.332244873046875, 13.296870231628418, 18.45901870727539, 32.840511322021484, 22.32804298400879, 17.60434341430664, 10.153840065002441, 21.643999099731445, 18.594234466552734, 17.588850021362305, 14.442818641662598, 21.654861450195312, 19.293014526367188, 13.258922576904297, 13.206523895263672, 34.832374572753906, 17.603233337402344, 9.151191711425781, 9.151371955871582, 21.672380447387695, 21.67181968688965, 17.34857177734375, 9.158257484436035, 29.410181045532227, 90.66483306884766, 70.54142761230469, 36.38910675048828, 21.404333114624023, 54.823394775390625, 64.03128051757812, 64.06101989746094, 54.39994812011719, 22.736814498901367, 91.87822723388672, 261.3073425292969, 129.86868286132812, 35.961952209472656, 41.99774932861328, 1216.5703125, 1242.150390625, 135.50909423828125, 44.03203582763672, 2972.6025390625, 2262.399169921875, 160.25857543945312, 1300.0018310546875, 308.7131652832031, 179.24468994140625, 86.48469543457031, 2554.14697265625, 2538.897216796875, 2275.63720703125, 3778.181640625, 156.14749145507812, 1907.8828125, 3103.866943359375, 1707.878662109375, 4164.79638671875, 2127.955078125, 2099.784912109375, 975.4363403320312, 783.61572265625, 6207.37060546875, 2774.019287109375, 2111.936767578125, 3858.77587890625, 1914.19091796875, 567.1182250976562, 7597.81640625, 640.0396728515625, 3081.86767578125, 7153.1005859375, 2510.424560546875, 4868.904296875, 1183.4447021484375, 4439.07568359375, 5011.28955078125, 5925.5517578125, 3497.642333984375, 4649.98291015625, 8337.41796875, 5018.9091796875, 11272.1923828125, 14.978221893310547, 14.977697372436523, 14.977176666259766, 14.976091384887695, 14.99155044555664, 108.80850219726562, 11.474717140197754, 12.369202613830566, 12.372729301452637, 14.169522285461426, 91.50598907470703, 94.68115997314453, 15.948901176452637, 13.321211814880371, 187.9347686767578, 11.53203010559082, 20.40821647644043, 20.409542083740234, 27.35894012451172, 25.76289939880371, 18.622989654541016, 20.425867080688477, 13.249676704406738, 85.20740509033203, 79.17815399169922, 37.35835647583008, 16.895217895507812, 7.992428779602051, 40.015830993652344, 34.392417907714844, 89.3590316772461, 134.6476593017578, 103.63640594482422, 44.576171875, 67.6572265625, 109.00060272216797, 129.66195678710938, 42.324867248535156, 33.672142028808594, 130.64682006835938, 316.9047546386719, 82.13076782226562, 240.1357421875, 612.442138671875, 129.96315002441406, 122.95597839355469, 74.1850814819336, 51.679039001464844, 195.3189239501953, 84.57244110107422, 275.70709228515625, 96.18060302734375, 8337.41796875, 286.8638610839844, 384.35919189453125, 600.7229614257812, 518.9048461914062, 208.46665954589844, 1678.2603759765625, 1372.139404296875, 699.0873413085938, 1182.3524169921875, 11272.1923828125, 1515.2412109375, 460.8271179199219, 2819.724853515625, 666.6055908203125, 4439.07568359375, 5401.48974609375, 3166.1806640625, 7597.81640625, 4868.904296875, 7153.1005859375, 4235.52294921875, 601.9049072265625, 5018.9091796875, 5925.5517578125, 3315.984130859375, 864.9163208007812, 1564.52197265625, 2083.675537109375, 3103.866943359375, 2786.504150390625, 1500.4244384765625, 2479.48046875, 3858.77587890625, 2212.776611328125, 3653.52197265625, 2111.936767578125, 6207.37060546875, 2642.9580078125, 6125.33251953125, 23.283098220825195, 13.140959739685059, 19.339773178100586, 10.08122730255127, 12.05614948272705, 36.736534118652344, 22.419153213500977, 209.6363525390625, 184.28768920898438, 13.090009689331055, 109.74653625488281, 25.228193283081055, 19.143478393554688, 22.43134307861328, 178.39649963378906, 15.255653381347656, 10.082696914672852, 31.226390838623047, 42.30121994018555, 38.71792221069336, 14.001228332519531, 36.81732177734375, 11.059659004211426, 9.05144214630127, 25.151744842529297, 21.128456115722656, 12.072193145751953, 22.092756271362305, 21.36050796508789, 32.771522521972656, 32.76433181762695, 213.3006591796875, 44.605323791503906, 27.945899963378906, 129.62759399414062, 72.47880554199219, 48.78016662597656, 41.96048355102539, 172.41270446777344, 32.723121643066406, 145.74679565429688, 36.50999069213867, 348.2231750488281, 76.51124572753906, 140.01051330566406, 118.85084533691406, 255.3935089111328, 942.4940185546875, 180.636474609375, 92.3674087524414, 124.2794189453125, 413.1269226074219, 202.30770874023438, 2083.675537109375, 275.5135803222656, 191.69332885742188, 131.9964599609375, 338.4434509277344, 457.7890319824219, 166.23052978515625, 140.15969848632812, 213.6470184326172, 954.6209106445312, 1907.8828125, 5011.28955078125, 1889.1436767578125, 471.3661804199219, 3653.52197265625, 1559.136962890625, 1155.21240234375, 1852.74951171875, 1795.0601806640625, 1993.859619140625, 6125.33251953125, 936.905517578125, 4235.52294921875, 5401.48974609375, 1524.3372802734375, 11272.1923828125, 6207.37060546875, 2212.776611328125, 2566.152099609375, 2786.504150390625, 5018.9091796875, 2642.9580078125, 4439.07568359375, 1914.19091796875, 2479.48046875, 3757.094970703125, 8337.41796875, 2182.81982421875, 2774.019287109375, 3858.77587890625, 34.34371566772461, 21.179533004760742, 12.51501178741455, 33.67256164550781, 58.30033874511719, 176.8011932373047, 24.035686492919922, 7.682094097137451, 24.03647804260254, 8.624077796936035, 139.0962677001953, 12.439990043640137, 30.498470306396484, 24.886438369750977, 24.039119720458984, 103.1637191772461, 24.03582191467285, 8.61623764038086, 43.03813552856445, 26.484041213989258, 18.142004013061523, 59.3857536315918, 16.22429847717285, 12.492494583129883, 26.837656021118164, 65.78144073486328, 9.605083465576172, 20.94186019897461, 20.107757568359375, 20.022293090820312, 633.2177124023438, 34.19062042236328, 64.94132995605469, 41.047218322753906, 159.2817840576172, 358.2135314941406, 68.3354721069336, 49.7801513671875, 52.54090118408203, 102.84132385253906, 343.9578857421875, 436.7262268066406, 658.6182861328125, 312.0892028808594, 97.40119171142578, 47.55769729614258, 88.22090148925781, 74.39781188964844, 172.49420166015625, 251.7427215576172, 71.1476821899414, 1678.2603759765625, 702.43408203125, 1230.233154296875, 801.7451782226562, 320.9515075683594, 148.64572143554688, 440.534423828125, 88.78604888916016, 5401.48974609375, 248.3003387451172, 771.4893188476562, 2642.9580078125, 612.3321533203125, 5018.9091796875, 1486.21728515625, 8337.41796875, 825.5360717773438, 1907.8828125, 3858.77587890625, 330.9884033203125, 1795.0601806640625, 1889.1436767578125, 2479.48046875, 1784.9881591796875, 1515.203125, 2689.716064453125, 4164.79638671875, 4439.07568359375, 11272.1923828125, 2819.724853515625, 7597.81640625, 3757.094970703125, 5925.5517578125, 3081.86767578125, 3103.866943359375, 4649.98291015625, 4292.296875, 24.475521087646484, 20.358047485351562, 21.356887817382812, 17.27634620666504, 17.254634857177734, 27.3144588470459, 9.136357307434082, 92.1776351928711, 21.232301712036133, 18.26851463317871, 59.45306396484375, 24.340763092041016, 188.48977661132812, 18.249526977539062, 21.205612182617188, 18.252962112426758, 18.25848388671875, 11.061827659606934, 44.543556213378906, 31.305158615112305, 9.101845741271973, 9.100112915039062, 22.13343048095703, 9.116111755371094, 19.19046401977539, 9.102076530456543, 57.797706604003906, 15.078082084655762, 9.098678588867188, 9.094655990600586, 153.32896423339844, 23.337947845458984, 63.11852264404297, 21.185766220092773, 22.094358444213867, 200.7411346435547, 662.2461547851562, 125.57560729980469, 151.31222534179688, 120.9014892578125, 110.97587585449219, 149.52072143554688, 199.57373046875, 5925.5517578125, 380.3310546875, 49.683738708496094, 37.014404296875, 73.01665496826172, 394.2804870605469, 819.809326171875, 118.18816375732422, 77.61996459960938, 1149.5430908203125, 305.4450988769531, 210.08460998535156, 1467.862060546875, 254.79803466796875, 516.0755615234375, 733.9519653320312, 253.47991943359375, 280.62139892578125, 1277.6156005859375, 841.517333984375, 865.7365112304688, 716.0128784179688, 7153.1005859375, 633.20361328125, 960.9253540039062, 1029.38818359375, 1277.625244140625, 1011.905029296875, 1131.228515625, 829.0424194335938, 1420.5849609375, 1241.78076171875, 7597.81640625, 1322.5916748046875, 1284.5889892578125, 1546.1370849609375, 4649.98291015625, 8337.41796875, 3887.734619140625, 4868.904296875, 1564.52197265625, 1867.043212890625, 11272.1923828125, 3778.181640625, 2212.776611328125, 4292.296875, 2254.479248046875, 19.831947326660156, 14.368842124938965, 12.637968063354492, 12.660228729248047, 12.629386901855469, 39.75459671020508, 12.634394645690918, 13.539665222167969, 7.226290225982666, 11.772555351257324, 38.700096130371094, 8.107794761657715, 26.100229263305664, 7.244572639465332, 7.244184970855713, 9.038006782531738, 7.241695880889893, 23.829940795898438, 18.952199935913086, 40.008426666259766, 7.207191467285156, 49.81222915649414, 8.112496376037598, 16.281648635864258, 7.200771808624268, 22.596288681030273, 11.777667999267578, 16.233339309692383, 8.145116806030273, 13.576905250549316, 23.573802947998047, 15.323481559753418, 45.70913314819336, 40.79106903076172, 268.5024719238281, 21.723766326904297, 22.666606903076172, 18.99062728881836, 3497.642333984375, 24.476991653442383, 171.5872802734375, 27.710712432861328, 73.48463439941406, 24.42740249633789, 65.79508972167969, 32.82536315917969, 138.4119415283203, 35.463584899902344, 42.84438705444336, 114.78233337402344, 190.45486450195312, 42.30172348022461, 70.93494415283203, 129.2625732421875, 122.72840118408203, 49.53709411621094, 79.123779296875, 171.45138549804688, 3778.181640625, 67.04718780517578, 81.17237854003906, 3315.984130859375, 2114.46044921875, 512.8280639648438, 215.52894592285156, 1470.2777099609375, 84.29424285888672, 1110.181884765625, 407.44500732421875, 344.5417175292969, 1241.78076171875, 2000.3416748046875, 1221.4638671875, 1314.95068359375, 886.577392578125, 1564.52197265625, 785.7686157226562, 4649.98291015625, 1416.8863525390625, 2254.479248046875, 8337.41796875, 556.8508911132812, 1413.94580078125, 3166.1806640625, 3103.866943359375, 2774.019287109375, 11272.1923828125, 1515.2412109375, 7597.81640625, 4868.904296875, 5925.5517578125, 1596.8236083984375, 4292.296875, 3858.77587890625, 1784.9881591796875, 5011.28955078125, 2972.6025390625, 5018.9091796875, 4439.07568359375, 7153.1005859375, 2642.9580078125, 5401.48974609375, 71.80502319335938, 16.598499298095703, 16.59838104248047, 29.054452896118164, 12.497895240783691, 14.159647941589355, 14.99931812286377, 9.192075729370117, 40.64223098754883, 16.702600479125977, 10.01667308807373, 19.324426651000977, 21.83512306213379, 20.924856185913086, 11.767033576965332, 7.556240081787109, 7.558061599731445, 15.850489616394043, 7.574965953826904, 8.408354759216309, 7.549248695373535, 12.680351257324219, 5.065078258514404, 6.7008819580078125, 5.917305946350098, 6.702971458435059, 19.441471099853516, 7.554357528686523, 19.41979217529297, 18.59798240661621, 65.86881256103516, 10.98715877532959, 29.65713882446289, 27.864521026611328, 28.95392417907715, 30.54909896850586, 80.54606628417969, 56.189605712890625, 46.327842712402344, 37.0175666809082, 73.84324645996094, 73.93293762207031, 73.89411926269531, 495.0604553222656, 79.46851348876953, 75.90032196044922, 142.45974731445312, 2965.787109375, 1497.342529296875, 146.3784637451172, 1748.5064697265625, 1363.648193359375, 4292.296875, 461.5556640625, 4649.98291015625, 190.07992553710938, 1639.7652587890625, 513.2765502929688, 750.1057739257812, 1039.63623046875, 7597.81640625, 157.61883544921875, 612.3321533203125, 7153.1005859375, 11272.1923828125, 2033.3585205078125, 8337.41796875, 1607.2801513671875, 1133.3218994140625, 1388.1234130859375, 688.3948364257812, 3315.984130859375, 752.6796875, 1234.1982421875, 1126.279296875, 1221.4638671875, 5925.5517578125, 2144.902099609375, 5018.9091796875, 2510.424560546875, 4439.07568359375, 6125.33251953125, 3653.52197265625, 2275.63720703125, 6207.37060546875, 4164.79638671875, 3858.77587890625, 4868.904296875, 5011.28955078125, 4235.52294921875, 12.7732572555542, 62.471988677978516, 20.471426010131836, 34.03510284423828, 62.54092025756836, 67.94638061523438, 28.987632751464844, 71.33512115478516, 23.06199073791504, 71.32445526123047, 68.02765655517578, 11.049274444580078, 11.048933029174805, 11.050406455993652, 49.31242370605469, 66.2742691040039, 227.9956512451172, 7.703949928283691, 9.366717338562012, 17.82445526123047, 14.549044609069824, 103.97826385498047, 365.3358459472656, 29.607995986938477, 6.864762306213379, 31.119298934936523, 6.866458892822266, 11.062667846679688, 22.633913040161133, 20.61349105834961, 277.1266784667969, 76.59732055664062, 59.759864807128906, 30.612699508666992, 528.1204833984375, 27.0643310546875, 274.696044921875, 145.246337890625, 30.68465232849121, 137.76576232910156, 166.22222900390625, 31.870590209960938, 186.2567596435547, 118.80121612548828, 180.17572021484375, 361.50335693359375, 855.6524047851562, 573.0442504882812, 568.2597045898438, 217.44485473632812, 2254.479248046875, 1170.62451171875, 817.4102783203125, 412.2705078125, 3778.181640625, 1044.725830078125, 3166.1806640625, 4868.904296875, 374.0474548339844, 8337.41796875, 7153.1005859375, 7597.81640625, 5011.28955078125, 576.1370849609375, 842.2432250976562, 5925.5517578125, 11272.1923828125, 3315.984130859375, 2111.936767578125, 1241.78076171875, 3887.734619140625, 2642.9580078125, 1784.9881591796875, 2182.81982421875, 4649.98291015625, 2768.808349609375, 2083.675537109375, 4235.52294921875, 19.209253311157227, 18.321048736572266, 57.55864715576172, 54.952022552490234, 54.942527770996094, 108.95714569091797, 57.536773681640625, 57.585487365722656, 54.98288345336914, 57.57322311401367, 55.00759506225586, 54.98933410644531, 21.79343032836914, 54.975040435791016, 54.97077941894531, 54.96234893798828, 56.76451110839844, 54.95718765258789, 55.006839752197266, 55.00518798828125, 55.01469802856445, 55.0610466003418, 54.99738693237305, 54.97498321533203, 176.12896728515625, 60.174503326416016, 55.007755279541016, 219.93817138671875, 57.570953369140625, 54.993324279785156, 195.49176025390625, 58.528289794921875, 55.01049041748047, 116.10808563232422, 330.52191162109375, 215.79986572265625, 451.0378112792969, 300.0369873046875, 69.52948760986328, 599.43359375, 4292.296875, 7153.1005859375, 1276.4833984375, 7597.81640625, 1748.5064697265625, 4868.904296875, 184.54690551757812, 495.72637939453125, 1327.9825439453125, 762.5123901367188, 456.33258056640625, 8337.41796875, 259.4990539550781, 3887.734619140625, 4649.98291015625, 704.6409912109375, 4164.79638671875, 2972.6025390625, 2965.787109375, 3315.984130859375, 2099.784912109375, 2275.63720703125, 1300.0018310546875, 3778.181640625, 5011.28955078125, 3081.86767578125, 2538.897216796875, 3166.1806640625, 11272.1923828125, 4235.52294921875], \"Category\": [\"Default\", \"Default\", \"Default\", \"Default\", \"Default\", \"Default\", \"Default\", \"Default\", \"Default\", \"Default\", \"Default\", \"Default\", \"Default\", \"Default\", \"Default\", \"Default\", \"Default\", \"Default\", \"Default\", \"Default\", \"Default\", \"Default\", \"Default\", \"Default\", \"Default\", \"Default\", \"Default\", \"Default\", \"Default\", \"Default\", \"Topic1\", \"Topic1\", \"Topic1\", \"Topic1\", \"Topic1\", \"Topic1\", \"Topic1\", \"Topic1\", \"Topic1\", \"Topic1\", \"Topic1\", \"Topic1\", \"Topic1\", \"Topic1\", \"Topic1\", \"Topic1\", \"Topic1\", \"Topic1\", \"Topic1\", \"Topic1\", \"Topic1\", \"Topic1\", \"Topic1\", \"Topic1\", \"Topic1\", \"Topic1\", \"Topic1\", \"Topic1\", \"Topic1\", \"Topic1\", \"Topic1\", \"Topic1\", \"Topic1\", \"Topic1\", \"Topic1\", \"Topic1\", \"Topic1\", \"Topic1\", \"Topic1\", \"Topic1\", \"Topic1\", \"Topic1\", \"Topic1\", \"Topic1\", \"Topic1\", \"Topic1\", \"Topic1\", \"Topic1\", \"Topic1\", \"Topic1\", \"Topic1\", \"Topic1\", \"Topic1\", \"Topic1\", \"Topic1\", \"Topic1\", \"Topic1\", \"Topic1\", \"Topic1\", \"Topic1\", \"Topic1\", \"Topic1\", \"Topic1\", \"Topic1\", \"Topic1\", \"Topic1\", \"Topic1\", \"Topic1\", \"Topic1\", \"Topic1\", \"Topic1\", \"Topic1\", \"Topic1\", \"Topic1\", \"Topic1\", \"Topic1\", \"Topic1\", \"Topic1\", \"Topic1\", \"Topic1\", \"Topic1\", \"Topic1\", \"Topic1\", \"Topic1\", \"Topic1\", \"Topic1\", \"Topic1\", \"Topic1\", \"Topic1\", \"Topic1\", \"Topic1\", \"Topic1\", \"Topic1\", \"Topic1\", \"Topic1\", \"Topic1\", \"Topic1\", \"Topic1\", \"Topic1\", \"Topic2\", \"Topic2\", \"Topic2\", \"Topic2\", \"Topic2\", \"Topic2\", \"Topic2\", \"Topic2\", \"Topic2\", \"Topic2\", \"Topic2\", \"Topic2\", \"Topic2\", \"Topic2\", \"Topic2\", \"Topic2\", \"Topic2\", \"Topic2\", \"Topic2\", \"Topic2\", \"Topic2\", \"Topic2\", \"Topic2\", \"Topic2\", \"Topic2\", \"Topic2\", \"Topic2\", \"Topic2\", \"Topic2\", \"Topic2\", \"Topic2\", \"Topic2\", \"Topic2\", \"Topic2\", \"Topic2\", \"Topic2\", \"Topic2\", \"Topic2\", \"Topic2\", \"Topic2\", \"Topic2\", \"Topic2\", \"Topic2\", \"Topic2\", \"Topic2\", \"Topic2\", \"Topic2\", \"Topic2\", \"Topic2\", \"Topic2\", \"Topic2\", \"Topic2\", \"Topic2\", \"Topic2\", \"Topic2\", \"Topic2\", \"Topic2\", \"Topic2\", \"Topic2\", \"Topic2\", \"Topic2\", \"Topic2\", \"Topic2\", \"Topic2\", \"Topic2\", \"Topic2\", \"Topic2\", \"Topic2\", \"Topic2\", \"Topic2\", \"Topic2\", \"Topic2\", \"Topic2\", \"Topic2\", \"Topic2\", \"Topic2\", \"Topic2\", \"Topic2\", \"Topic2\", \"Topic2\", \"Topic2\", \"Topic2\", \"Topic2\", \"Topic2\", \"Topic2\", \"Topic2\", \"Topic2\", \"Topic2\", \"Topic2\", \"Topic2\", \"Topic3\", \"Topic3\", \"Topic3\", \"Topic3\", \"Topic3\", \"Topic3\", \"Topic3\", \"Topic3\", \"Topic3\", \"Topic3\", \"Topic3\", \"Topic3\", \"Topic3\", \"Topic3\", \"Topic3\", \"Topic3\", \"Topic3\", \"Topic3\", \"Topic3\", \"Topic3\", \"Topic3\", \"Topic3\", \"Topic3\", \"Topic3\", \"Topic3\", \"Topic3\", \"Topic3\", \"Topic3\", \"Topic3\", \"Topic3\", \"Topic3\", \"Topic3\", \"Topic3\", \"Topic3\", \"Topic3\", \"Topic3\", \"Topic3\", \"Topic3\", \"Topic3\", \"Topic3\", \"Topic3\", \"Topic3\", \"Topic3\", \"Topic3\", \"Topic3\", \"Topic3\", \"Topic3\", \"Topic3\", \"Topic3\", \"Topic3\", \"Topic3\", \"Topic3\", \"Topic3\", \"Topic3\", \"Topic3\", \"Topic3\", \"Topic3\", \"Topic3\", \"Topic3\", \"Topic3\", \"Topic3\", \"Topic3\", \"Topic3\", \"Topic3\", \"Topic3\", \"Topic3\", \"Topic3\", \"Topic3\", \"Topic3\", \"Topic3\", \"Topic3\", \"Topic3\", \"Topic3\", \"Topic3\", \"Topic3\", \"Topic3\", \"Topic3\", \"Topic3\", \"Topic3\", \"Topic3\", \"Topic3\", \"Topic3\", \"Topic3\", \"Topic3\", \"Topic3\", \"Topic3\", \"Topic3\", \"Topic3\", \"Topic3\", \"Topic3\", \"Topic3\", \"Topic3\", \"Topic4\", \"Topic4\", \"Topic4\", \"Topic4\", \"Topic4\", \"Topic4\", \"Topic4\", \"Topic4\", \"Topic4\", \"Topic4\", \"Topic4\", \"Topic4\", \"Topic4\", \"Topic4\", \"Topic4\", \"Topic4\", \"Topic4\", \"Topic4\", \"Topic4\", \"Topic4\", \"Topic4\", \"Topic4\", \"Topic4\", \"Topic4\", \"Topic4\", \"Topic4\", \"Topic4\", \"Topic4\", \"Topic4\", \"Topic4\", \"Topic4\", \"Topic4\", \"Topic4\", \"Topic4\", \"Topic4\", \"Topic4\", \"Topic4\", \"Topic4\", \"Topic4\", \"Topic4\", \"Topic4\", \"Topic4\", \"Topic4\", \"Topic4\", \"Topic4\", \"Topic4\", \"Topic4\", \"Topic4\", \"Topic4\", \"Topic4\", \"Topic4\", \"Topic4\", \"Topic4\", \"Topic4\", \"Topic4\", \"Topic4\", \"Topic4\", \"Topic4\", \"Topic4\", \"Topic4\", \"Topic4\", \"Topic4\", \"Topic4\", \"Topic4\", \"Topic4\", \"Topic4\", \"Topic4\", \"Topic4\", \"Topic4\", \"Topic4\", \"Topic4\", \"Topic4\", \"Topic4\", \"Topic4\", \"Topic4\", \"Topic4\", \"Topic4\", \"Topic4\", \"Topic4\", \"Topic4\", \"Topic4\", \"Topic4\", \"Topic4\", \"Topic4\", \"Topic4\", \"Topic4\", \"Topic4\", \"Topic4\", \"Topic4\", \"Topic4\", \"Topic4\", \"Topic4\", \"Topic4\", \"Topic5\", \"Topic5\", \"Topic5\", \"Topic5\", \"Topic5\", \"Topic5\", \"Topic5\", \"Topic5\", \"Topic5\", \"Topic5\", \"Topic5\", \"Topic5\", \"Topic5\", \"Topic5\", \"Topic5\", \"Topic5\", \"Topic5\", \"Topic5\", \"Topic5\", \"Topic5\", \"Topic5\", \"Topic5\", \"Topic5\", \"Topic5\", \"Topic5\", \"Topic5\", \"Topic5\", \"Topic5\", \"Topic5\", \"Topic5\", \"Topic5\", \"Topic5\", \"Topic5\", \"Topic5\", \"Topic5\", \"Topic5\", \"Topic5\", \"Topic5\", \"Topic5\", \"Topic5\", \"Topic5\", \"Topic5\", \"Topic5\", \"Topic5\", \"Topic5\", \"Topic5\", \"Topic5\", \"Topic5\", \"Topic5\", \"Topic5\", \"Topic5\", \"Topic5\", \"Topic5\", \"Topic5\", \"Topic5\", \"Topic5\", \"Topic5\", \"Topic5\", \"Topic5\", \"Topic5\", \"Topic5\", \"Topic5\", \"Topic5\", \"Topic5\", \"Topic5\", \"Topic5\", \"Topic5\", \"Topic5\", \"Topic5\", \"Topic5\", \"Topic5\", \"Topic5\", \"Topic5\", \"Topic5\", \"Topic5\", \"Topic5\", \"Topic5\", \"Topic5\", \"Topic5\", \"Topic5\", \"Topic5\", \"Topic5\", \"Topic5\", \"Topic5\", \"Topic5\", \"Topic5\", \"Topic5\", \"Topic5\", \"Topic6\", \"Topic6\", \"Topic6\", \"Topic6\", \"Topic6\", \"Topic6\", \"Topic6\", \"Topic6\", \"Topic6\", \"Topic6\", \"Topic6\", \"Topic6\", \"Topic6\", \"Topic6\", \"Topic6\", \"Topic6\", \"Topic6\", \"Topic6\", \"Topic6\", \"Topic6\", \"Topic6\", \"Topic6\", \"Topic6\", \"Topic6\", \"Topic6\", \"Topic6\", \"Topic6\", \"Topic6\", \"Topic6\", \"Topic6\", \"Topic6\", \"Topic6\", \"Topic6\", \"Topic6\", \"Topic6\", \"Topic6\", \"Topic6\", \"Topic6\", \"Topic6\", \"Topic6\", \"Topic6\", \"Topic6\", \"Topic6\", \"Topic6\", \"Topic6\", \"Topic6\", \"Topic6\", \"Topic6\", \"Topic6\", \"Topic6\", \"Topic6\", \"Topic6\", \"Topic6\", \"Topic6\", \"Topic6\", \"Topic6\", \"Topic6\", \"Topic6\", \"Topic6\", \"Topic6\", \"Topic6\", \"Topic6\", \"Topic6\", \"Topic6\", \"Topic6\", \"Topic6\", \"Topic6\", \"Topic6\", \"Topic6\", \"Topic6\", \"Topic6\", \"Topic6\", \"Topic6\", \"Topic6\", \"Topic6\", \"Topic6\", \"Topic6\", \"Topic6\", \"Topic6\", \"Topic6\", \"Topic6\", \"Topic6\", \"Topic6\", \"Topic6\", \"Topic6\", \"Topic6\", \"Topic6\", \"Topic6\", \"Topic6\", \"Topic6\", \"Topic7\", \"Topic7\", \"Topic7\", \"Topic7\", \"Topic7\", \"Topic7\", \"Topic7\", \"Topic7\", \"Topic7\", \"Topic7\", \"Topic7\", \"Topic7\", \"Topic7\", \"Topic7\", \"Topic7\", \"Topic7\", \"Topic7\", \"Topic7\", \"Topic7\", \"Topic7\", \"Topic7\", \"Topic7\", \"Topic7\", \"Topic7\", \"Topic7\", \"Topic7\", \"Topic7\", \"Topic7\", \"Topic7\", \"Topic7\", \"Topic7\", \"Topic7\", \"Topic7\", \"Topic7\", \"Topic7\", \"Topic7\", \"Topic7\", \"Topic7\", \"Topic7\", \"Topic7\", \"Topic7\", \"Topic7\", \"Topic7\", \"Topic7\", \"Topic7\", \"Topic7\", \"Topic7\", \"Topic7\", \"Topic7\", \"Topic7\", \"Topic7\", \"Topic7\", \"Topic7\", \"Topic7\", \"Topic7\", \"Topic7\", \"Topic7\", \"Topic7\", \"Topic7\", \"Topic7\", \"Topic7\", \"Topic7\", \"Topic7\", \"Topic7\", \"Topic7\", \"Topic7\", \"Topic7\", \"Topic7\", \"Topic7\", \"Topic7\", \"Topic7\", \"Topic7\", \"Topic7\", \"Topic7\", \"Topic7\", \"Topic7\", \"Topic7\", \"Topic7\", \"Topic7\", \"Topic7\", \"Topic7\", \"Topic7\", \"Topic7\", \"Topic7\", \"Topic7\", \"Topic7\", \"Topic7\", \"Topic7\", \"Topic7\", \"Topic7\", \"Topic7\", \"Topic7\", \"Topic7\", \"Topic7\", \"Topic7\", \"Topic7\", \"Topic7\", \"Topic7\", \"Topic7\", \"Topic7\", \"Topic7\", \"Topic7\", \"Topic8\", \"Topic8\", \"Topic8\", \"Topic8\", \"Topic8\", \"Topic8\", \"Topic8\", \"Topic8\", \"Topic8\", \"Topic8\", \"Topic8\", \"Topic8\", \"Topic8\", \"Topic8\", \"Topic8\", \"Topic8\", \"Topic8\", \"Topic8\", \"Topic8\", \"Topic8\", \"Topic8\", \"Topic8\", \"Topic8\", \"Topic8\", \"Topic8\", \"Topic8\", \"Topic8\", \"Topic8\", \"Topic8\", \"Topic8\", \"Topic8\", \"Topic8\", \"Topic8\", \"Topic8\", \"Topic8\", \"Topic8\", \"Topic8\", \"Topic8\", \"Topic8\", \"Topic8\", \"Topic8\", \"Topic8\", \"Topic8\", \"Topic8\", \"Topic8\", \"Topic8\", \"Topic8\", \"Topic8\", \"Topic8\", \"Topic8\", \"Topic8\", \"Topic8\", \"Topic8\", \"Topic8\", \"Topic8\", \"Topic8\", \"Topic8\", \"Topic8\", \"Topic8\", \"Topic8\", \"Topic8\", \"Topic8\", \"Topic8\", \"Topic8\", \"Topic8\", \"Topic8\", \"Topic8\", \"Topic8\", \"Topic8\", \"Topic8\", \"Topic8\", \"Topic8\", \"Topic8\", \"Topic8\", \"Topic8\", \"Topic8\", \"Topic8\", \"Topic8\", \"Topic8\", \"Topic8\", \"Topic8\", \"Topic8\", \"Topic8\", \"Topic8\", \"Topic8\", \"Topic8\", \"Topic8\", \"Topic8\", \"Topic8\", \"Topic8\", \"Topic9\", \"Topic9\", \"Topic9\", \"Topic9\", \"Topic9\", \"Topic9\", \"Topic9\", \"Topic9\", \"Topic9\", \"Topic9\", \"Topic9\", \"Topic9\", \"Topic9\", \"Topic9\", \"Topic9\", \"Topic9\", \"Topic9\", \"Topic9\", \"Topic9\", \"Topic9\", \"Topic9\", \"Topic9\", \"Topic9\", \"Topic9\", \"Topic9\", \"Topic9\", \"Topic9\", \"Topic9\", \"Topic9\", \"Topic9\", \"Topic9\", \"Topic9\", \"Topic9\", \"Topic9\", \"Topic9\", \"Topic9\", \"Topic9\", \"Topic9\", \"Topic9\", \"Topic9\", \"Topic9\", \"Topic9\", \"Topic9\", \"Topic9\", \"Topic9\", \"Topic9\", \"Topic9\", \"Topic9\", \"Topic9\", \"Topic9\", \"Topic9\", \"Topic9\", \"Topic9\", \"Topic9\", \"Topic9\", \"Topic9\", \"Topic9\", \"Topic9\", \"Topic9\", \"Topic9\", \"Topic9\", \"Topic9\", \"Topic9\", \"Topic9\", \"Topic9\", \"Topic9\", \"Topic9\", \"Topic9\", \"Topic9\", \"Topic9\", \"Topic9\", \"Topic9\", \"Topic9\", \"Topic9\", \"Topic9\", \"Topic9\", \"Topic9\", \"Topic9\", \"Topic10\", \"Topic10\", \"Topic10\", \"Topic10\", \"Topic10\", \"Topic10\", \"Topic10\", \"Topic10\", \"Topic10\", \"Topic10\", \"Topic10\", \"Topic10\", \"Topic10\", \"Topic10\", \"Topic10\", \"Topic10\", \"Topic10\", \"Topic10\", \"Topic10\", \"Topic10\", \"Topic10\", \"Topic10\", \"Topic10\", \"Topic10\", \"Topic10\", \"Topic10\", \"Topic10\", \"Topic10\", \"Topic10\", \"Topic10\", \"Topic10\", \"Topic10\", \"Topic10\", \"Topic10\", \"Topic10\", \"Topic10\", \"Topic10\", \"Topic10\", \"Topic10\", \"Topic10\", \"Topic10\", \"Topic10\", \"Topic10\", \"Topic10\", \"Topic10\", \"Topic10\", \"Topic10\", \"Topic10\", \"Topic10\", \"Topic10\", \"Topic10\", \"Topic10\", \"Topic10\", \"Topic10\", \"Topic10\", \"Topic10\", \"Topic10\", \"Topic10\", \"Topic10\", \"Topic10\", \"Topic10\", \"Topic10\", \"Topic10\", \"Topic10\", \"Topic10\", \"Topic10\", \"Topic10\", \"Topic10\", \"Topic10\", \"Topic10\"], \"logprob\": [30.0, 29.0, 28.0, 27.0, 26.0, 25.0, 24.0, 23.0, 22.0, 21.0, 20.0, 19.0, 18.0, 17.0, 16.0, 15.0, 14.0, 13.0, 12.0, 11.0, 10.0, 9.0, 8.0, 7.0, 6.0, 5.0, 4.0, 3.0, 2.0, 1.0, -9.260000228881836, -9.78320026397705, -9.775099754333496, -10.487600326538086, -8.923999786376953, -8.576199531555176, -10.78030014038086, -10.493900299072266, -6.458099842071533, -10.389800071716309, -10.634599685668945, -9.864100456237793, -8.861599922180176, -10.012800216674805, -8.438400268554688, -9.244500160217285, -8.195599555969238, -9.17490005493164, -8.351699829101562, -8.311300277709961, -10.288999557495117, -10.644700050354004, -9.753399848937988, -10.506500244140625, -10.506600379943848, -9.153800010681152, -9.375900268554688, -10.024900436401367, -10.651300430297852, -9.705699920654297, -8.586799621582031, -9.341300010681152, -8.994099617004395, -8.718199729919434, -8.186699867248535, -9.20829963684082, -9.090800285339355, -9.23740005493164, -6.103099822998047, -7.612299919128418, -7.7846999168396, -7.473400115966797, -6.839700222015381, -7.763999938964844, -7.709700107574463, -8.270999908447266, -8.506699562072754, -5.986700057983398, -6.30049991607666, -6.45359992980957, -6.307700157165527, -6.429299831390381, -5.307700157165527, -8.225700378417969, -8.30679988861084, -4.379499912261963, -5.419099807739258, -6.401899814605713, -5.795000076293945, -7.267300128936768, -6.5391998291015625, -5.701099872589111, -7.234399795532227, -4.507800102233887, -6.4456000328063965, -5.443399906158447, -5.967800140380859, -6.320700168609619, -6.276599884033203, -5.256700038909912, -6.091599941253662, -6.423500061035156, -4.082600116729736, -5.787799835205078, -6.279799938201904, -5.977399826049805, -5.075300216674805, -6.009200096130371, -5.859399795532227, -5.597700119018555, -5.970300197601318, -5.162499904632568, -5.864699840545654, -5.298500061035156, -5.054699897766113, -5.571300029754639, -5.151000022888184, -5.269000053405762, -5.214200019836426, -5.794600009918213, -5.3491997718811035, -5.610000133514404, -5.450200080871582, -5.694200038909912, -5.646100044250488, -5.82889986038208, -5.808800220489502, -5.844299793243408, -5.771200180053711, -9.104100227355957, -9.271400451660156, -8.642800331115723, -9.380000114440918, -9.138899803161621, -8.75, -8.258399963378906, -8.966099739074707, -9.231599807739258, -8.90839958190918, -8.333399772644043, -8.72189998626709, -8.962699890136719, -9.513999938964844, -8.757200241088867, -8.912300109863281, -8.969200134277344, -9.166799545288086, -8.762800216674805, -8.879799842834473, -9.260299682617188, -9.26449966430664, -8.298600196838379, -8.982600212097168, -9.638899803161621, -9.640000343322754, -8.777899742126465, -8.777999877929688, -9.001700401306152, -9.643600463867188, -8.481900215148926, -7.40939998626709, -7.65310001373291, -8.3125, -8.817899703979492, -7.961100101470947, -7.829400062561035, -7.833399772644043, -7.988999843597412, -8.765999794006348, -7.592199802398682, -6.721099853515625, -7.308000087738037, -8.384400367736816, -8.268699645996094, -5.571700096130371, -5.559700012207031, -7.336999893188477, -8.230999946594238, -4.924200057983398, -5.181399822235107, -7.228300094604492, -5.617700099945068, -6.740799903869629, -7.154300212860107, -7.717400074005127, -5.178800106048584, -5.208499908447266, -5.296999931335449, -4.959400177001953, -7.293000221252441, -5.4822001457214355, -5.163000106811523, -5.5883002281188965, -4.9629998207092285, -5.491399765014648, -5.528200149536133, -6.052800178527832, -6.2230000495910645, -4.859099864959717, -5.395599842071533, -5.5929999351501465, -5.2204999923706055, -5.666200160980225, -6.453800201416016, -4.889200210571289, -6.389699935913086, -5.459000110626221, -5.004199981689453, -5.614200115203857, -5.244200229644775, -6.070899963378906, -5.412899971008301, -5.358500003814697, -5.297299861907959, -5.546999931335449, -5.433199882507324, -5.2891998291015625, -5.566199779510498, -5.607699871063232, -9.027400016784668, -9.027400016784668, -9.02750015258789, -9.027600288391113, -9.036100387573242, -7.057499885559082, -9.31879997253418, -9.255999565124512, -9.256799697875977, -9.121500015258789, -7.257599830627441, -7.224999904632568, -9.00730037689209, -9.193499565124512, -6.548099994659424, -9.343099594116211, -8.785200119018555, -8.786299705505371, -8.493200302124023, -8.560099601745605, -8.8858003616333, -8.798700332641602, -9.232399940490723, -7.371300220489502, -7.446000099182129, -8.198399543762207, -8.994099617004395, -9.74269962310791, -8.137100219726562, -8.289899826049805, -7.3420000076293945, -6.942699909210205, -7.214300155639648, -8.042400360107422, -7.644800186157227, -7.218299865722656, -7.0767998695373535, -8.119400024414062, -8.333200454711914, -7.101500034332275, -6.295899868011475, -7.538400173187256, -6.589099884033203, -5.776700019836426, -7.145100116729736, -7.202099800109863, -7.646999835968018, -7.960899829864502, -6.82859992980957, -7.558899879455566, -6.587600231170654, -7.4822998046875, -4.033899784088135, -6.649600028991699, -6.449399948120117, -6.116099834442139, -6.239999771118164, -6.916800022125244, -5.4191999435424805, -5.599400043487549, -6.08620023727417, -5.784299850463867, -4.398200035095215, -5.72629976272583, -6.442299842834473, -5.423600196838379, -6.23829984664917, -5.2621002197265625, -5.164899826049805, -5.474699974060059, -5.049600124359131, -5.275000095367432, -5.115799903869629, -5.381899833679199, -6.3358001708984375, -5.319699764251709, -5.243800163269043, -5.597599983215332, -6.176799774169922, -5.9492998123168945, -5.839600086212158, -5.725200176239014, -5.770599842071533, -5.9934000968933105, -5.87060022354126, -5.796199798583984, -5.938700199127197, -5.841800212860107, -6.004000186920166, -5.889200210571289, -5.992000102996826, -5.964099884033203, -8.539799690246582, -9.124600410461426, -8.752900123596191, -9.426199913024902, -9.2568998336792, -8.144499778747559, -8.639699935913086, -6.407599925994873, -6.538599967956543, -9.184499740600586, -7.060299873352051, -8.530500411987305, -8.806599617004395, -8.648200035095215, -6.577300071716309, -9.038200378417969, -9.453200340270996, -8.323599815368652, -8.026200294494629, -8.116100311279297, -9.133500099182129, -8.167200088500977, -9.369999885559082, -9.576299667358398, -8.55519962310791, -8.729599952697754, -9.290399551391602, -8.688400268554688, -8.724499702453613, -8.298600196838379, -8.30090045928955, -6.448999881744385, -7.9984002113342285, -8.460700035095215, -6.961599826812744, -7.53249979019165, -7.9207000732421875, -8.06980037689209, -6.724999904632568, -8.312100410461426, -6.897900104522705, -8.213000297546387, -6.100900173187256, -7.56279993057251, -7.042699813842773, -7.190800189971924, -6.531499862670898, -5.423099994659424, -6.855599880218506, -7.431000232696533, -7.1834001541137695, -6.2006001472473145, -6.8221001625061035, -4.9440999031066895, -6.57480001449585, -6.872099876403809, -7.180600166320801, -6.468800067901611, -6.257199764251709, -7.063899993896484, -7.19379997253418, -6.908699989318848, -5.894400119781494, -5.435999870300293, -4.868199825286865, -5.5040998458862305, -6.400599956512451, -5.143099784851074, -5.698599815368652, -5.892499923706055, -5.72189998626709, -5.766900062561035, -5.7179999351501465, -5.227099895477295, -6.1132001876831055, -5.440400123596191, -5.405200004577637, -5.951900005340576, -5.198299884796143, -5.435100078582764, -5.860799789428711, -5.81220006942749, -5.798299789428711, -5.6315999031066895, -5.916800022125244, -5.815299987792969, -6.000899791717529, -5.949999809265137, -5.88100004196167, -5.763199806213379, -5.984000205993652, -5.977799892425537, -5.9868998527526855, -8.139900207519531, -8.632499694824219, -9.16450023651123, -8.175200462341309, -7.626699924468994, -6.547500133514404, -8.545599937438965, -9.696200370788574, -8.557100296020508, -9.582599639892578, -6.80210018157959, -9.218600273132324, -8.322199821472168, -8.527000427246094, -8.562800407409668, -7.1066999435424805, -8.563699722290039, -9.592000007629395, -7.987199783325195, -8.475299835205078, -8.854100227355957, -7.668300151824951, -8.966899871826172, -9.229399681091309, -8.471199989318848, -7.576000213623047, -9.500499725341797, -8.722000122070312, -8.764200210571289, -8.768600463867188, -5.342199802398682, -8.23740005493164, -7.604400157928467, -8.061599731445312, -6.732999801635742, -5.9390997886657715, -7.563600063323975, -7.874499797821045, -7.825799942016602, -7.193399906158447, -6.0507001876831055, -5.858799934387207, -5.4781999588012695, -6.195199966430664, -7.2733001708984375, -7.934299945831299, -7.366199970245361, -7.542600154876709, -6.803100109100342, -6.472799777984619, -7.596799850463867, -4.944799900054932, -5.740600109100342, -5.309100151062012, -5.669000148773193, -6.444399833679199, -7.049699783325195, -6.321400165557861, -7.46019983291626, -4.676300048828125, -6.7941999435424805, -6.0843000411987305, -5.372000217437744, -6.252200126647949, -5.036600112915039, -5.749499797821045, -4.781099796295166, -6.138299942016602, -5.691100120544434, -5.312600135803223, -6.644499778747559, -5.8308000564575195, -5.8292999267578125, -5.725299835205078, -5.883200168609619, -5.961100101470947, -5.774899959564209, -5.65500020980835, -5.639200210571289, -5.431399822235107, -5.8084001541137695, -5.561399936676025, -5.771200180053711, -5.708399772644043, -5.853600025177002, -5.869100093841553, -5.828800201416016, -5.896399974822998, -8.413000106811523, -8.610199928283691, -8.58590030670166, -8.804200172424316, -8.817500114440918, -8.359800338745117, -9.467000007629395, -7.1595001220703125, -8.631099700927734, -8.784199714660645, -7.604499816894531, -8.5, -6.456699848175049, -8.79170036315918, -8.64210033416748, -8.794899940490723, -8.795100212097168, -9.303000450134277, -7.911600112915039, -8.264300346374512, -9.500900268554688, -9.503299713134766, -8.615699768066406, -9.503899574279785, -8.761099815368652, -9.511300086975098, -7.663700103759766, -9.010299682617188, -9.518600463867188, -9.519399642944336, -6.696100234985352, -8.580400466918945, -7.5954999923706055, -8.680700302124023, -8.641400337219238, -6.517899990081787, -5.3933000564575195, -6.9857001304626465, -6.811500072479248, -7.030700206756592, -7.191299915313721, -6.94980001449585, -6.726500034332275, -3.8310999870300293, -6.190999984741211, -7.936999797821045, -8.196800231933594, -7.6392998695373535, -6.277400016784668, -5.710700035095215, -7.272600173950195, -7.606299877166748, -5.4847002029418945, -6.548299789428711, -6.843100070953369, -5.41379976272583, -6.717199802398682, -6.196000099182129, -5.953400135040283, -6.730899810791016, -6.6697001457214355, -5.583600044250488, -5.901500225067139, -5.917099952697754, -6.063399791717529, -4.5904998779296875, -6.150100231170654, -5.897799968719482, -5.867700099945068, -5.738500118255615, -5.88640022277832, -5.886199951171875, -6.072199821472168, -5.804200172424316, -5.881499767303467, -5.116000175476074, -5.9440999031066895, -5.958899974822998, -5.89709997177124, -5.471399784088135, -5.263700008392334, -5.5559000968933105, -5.521699905395508, -5.899499893188477, -5.86299991607666, -5.607399940490723, -5.814700126647949, -5.9145002365112305, -5.866799831390381, -5.916600227355957, -8.638400077819824, -8.982199668884277, -9.114399909973145, -9.116100311279297, -9.118599891662598, -7.9730000495910645, -9.121500015258789, -9.055999755859375, -9.687600135803223, -9.20009994506836, -8.018400192260742, -9.587300300598145, -8.428400039672852, -9.715700149536133, -9.716300010681152, -9.497200012207031, -9.718799591064453, -8.527799606323242, -8.761099815368652, -8.016599655151367, -9.735099792480469, -7.802499771118164, -9.62559986114502, -8.930100440979004, -9.747099876403809, -8.603899955749512, -9.2568998336792, -8.939800262451172, -9.629599571228027, -9.119400024414062, -8.579500198364258, -9.004400253295898, -7.934199810028076, -8.056400299072266, -6.258900165557861, -8.67020034790039, -8.63029956817627, -8.800299644470215, -3.8671000003814697, -8.56089973449707, -6.740600109100342, -8.446499824523926, -7.542699813842773, -8.572999954223633, -7.682700157165527, -8.313199996948242, -7.074399948120117, -8.250699996948242, -8.092100143432617, -7.269400119781494, -6.874199867248535, -8.125399589538574, -7.708899974822998, -7.2444000244140625, -7.305300235748291, -8.01669979095459, -7.655399799346924, -7.068900108337402, -4.7204999923706055, -7.787899971008301, -7.656099796295166, -5.0065999031066895, -5.377500057220459, -6.37529993057251, -6.995999813079834, -5.689300060272217, -7.6504998207092285, -5.899899959564209, -6.597300052642822, -6.7170000076293945, -5.8881001472473145, -5.582099914550781, -5.901700019836426, -5.880799770355225, -6.126200199127197, -5.778800010681152, -6.208099842071533, -5.160999774932861, -5.890200138092041, -5.660799980163574, -4.938600063323975, -6.45959997177124, -5.9532999992370605, -5.5304999351501465, -5.546899795532227, -5.638299942016602, -4.991199970245361, -5.9832000732421875, -5.232800006866455, -5.480199813842773, -5.404799938201904, -5.998199939727783, -5.593200206756592, -5.688799858093262, -5.966300010681152, -5.673600196838379, -5.856800079345703, -5.7906999588012695, -5.832499980926514, -5.829800128936768, -5.9369001388549805, -5.933000087738037, -7.247200012207031, -8.753800392150879, -8.753800392150879, -8.210800170898438, -9.065799713134766, -8.953900337219238, -8.90060043334961, -9.397500038146973, -7.911799907684326, -8.80370044708252, -9.335100173950195, -8.68120002746582, -8.563400268554688, -8.62279987335205, -9.199700355529785, -9.652099609375, -9.654800415039062, -8.918600082397461, -9.658499717712402, -9.55720043182373, -9.668999671936035, -9.152000427246094, -10.078200340270996, -9.800299644470215, -9.929699897766113, -9.805399894714355, -8.74120044708252, -9.686599731445312, -8.74370002746582, -8.788000106811523, -7.524099826812744, -9.314499855041504, -8.338299751281738, -8.400899887084961, -8.365300178527832, -8.313199996948242, -7.377500057220459, -7.732800006866455, -7.937399864196777, -8.151100158691406, -7.512599945068359, -7.520699977874756, -7.529300212860107, -5.81220006942749, -7.470300197601318, -7.513999938964844, -6.987599849700928, -4.324999809265137, -4.946199893951416, -6.984499931335449, -4.898900032043457, -5.1118998527526855, -4.309000015258789, -6.118299961090088, -4.277299880981445, -6.840400218963623, -5.182400226593018, -6.096799850463867, -5.8018999099731445, -5.672299861907959, -4.2677998542785645, -7.11929988861084, -6.144899845123291, -4.481299877166748, -4.251699924468994, -5.415999889373779, -4.601099967956543, -5.636499881744385, -5.882999897003174, -5.783999919891357, -6.2104997634887695, -5.321499824523926, -6.177999973297119, -5.898900032043457, -5.964700222015381, -5.934199810028076, -5.228099822998047, -5.735000133514404, -5.35830020904541, -5.671599864959717, -5.4857001304626465, -5.385300159454346, -5.596199989318848, -5.779300212860107, -5.5619001388549805, -5.690999984741211, -5.712500095367432, -5.704500198364258, -5.708399772644043, -5.793600082397461, -8.718000411987305, -7.13070011138916, -8.248600006103516, -7.749199867248535, -7.1458001136779785, -7.065499782562256, -7.920300006866455, -7.020100116729736, -8.152299880981445, -7.02370023727417, -7.077899932861328, -8.904600143432617, -8.904600143432617, -8.904500007629395, -7.411799907684326, -7.119800090789795, -5.88539981842041, -9.273500442504883, -9.081899642944336, -8.438799858093262, -8.6451997756958, -6.684199810028076, -5.431099891662598, -7.946700096130371, -9.410400390625, -7.900000095367432, -9.413599967956543, -8.936800003051758, -8.225500106811523, -8.320099830627441, -5.732800006866455, -7.013700008392334, -7.273200035095215, -7.933800220489502, -5.1971001625061035, -8.057000160217285, -5.866600036621094, -6.4807000160217285, -7.944200038909912, -6.571499824523926, -6.439700126647949, -7.918799877166748, -6.353700160980225, -6.763299942016602, -6.43720006942749, -5.919300079345703, -5.2835001945495605, -5.6545000076293945, -5.676599979400635, -6.42609977722168, -4.66379976272583, -5.168799877166748, -5.4567999839782715, -5.964399814605713, -4.44379997253418, -5.337600231170654, -4.6508002281188965, -4.560800075531006, -6.097300052642822, -4.376100063323975, -4.468999862670898, -4.457300186157227, -4.7530999183654785, -5.967400074005127, -5.802700042724609, -4.916600227355957, -4.709499835968018, -5.348700046539307, -5.58650016784668, -5.769999980926514, -5.404200077056885, -5.6346001625061035, -5.75, -5.730899810791016, -5.668000221252441, -5.733399868011475, -5.82480001449585, -5.823699951171875, -8.213700294494629, -8.282500267028809, -7.148900032043457, -7.198800086975098, -7.201700210571289, -6.517300128936768, -7.156700134277344, -7.156799793243408, -7.205599784851074, -7.160099983215332, -7.206099987030029, -7.206699848175049, -8.133299827575684, -7.2083001136779785, -7.209400177001953, -7.209700107574463, -7.178400039672852, -7.21120023727417, -7.2108001708984375, -7.211299896240234, -7.211400032043457, -7.210599899291992, -7.211900234222412, -7.214799880981445, -6.050899982452393, -7.126399993896484, -7.216300010681152, -5.8308000564575195, -7.171800136566162, -7.2179999351501465, -5.962800025939941, -7.1570000648498535, -7.218599796295166, -6.52239990234375, -5.590099811553955, -6.055500030517578, -5.508999824523926, -5.904399871826172, -7.036099910736084, -5.507900238037109, -4.1356000900268555, -3.837100028991699, -5.165299892425537, -4.14870023727417, -5.086900234222412, -4.5395002365112305, -6.481800079345703, -5.941699981689453, -5.451200008392334, -5.7779998779296875, -6.062300205230713, -4.569200038909912, -6.37529993057251, -5.124100208282471, -5.070499897003174, -6.019800186157227, -5.222099781036377, -5.380499839782715, -5.443299770355225, -5.434199810028076, -5.635799884796143, -5.6778998374938965, -5.915500164031982, -5.770699977874756, -5.712900161743164, -5.859799861907959, -5.883299827575684, -5.890600204467773, -5.842299938201904, -5.885700225830078], \"loglift\": [30.0, 29.0, 28.0, 27.0, 26.0, 25.0, 24.0, 23.0, 22.0, 21.0, 20.0, 19.0, 18.0, 17.0, 16.0, 15.0, 14.0, 13.0, 12.0, 11.0, 10.0, 9.0, 8.0, 7.0, 6.0, 5.0, 4.0, 3.0, 2.0, 1.0, 1.3257999420166016, 1.3205000162124634, 1.2720999717712402, 1.2626999616622925, 1.2618999481201172, 1.2613999843597412, 1.2582999467849731, 1.2582000494003296, 1.2553999423980713, 1.2526999711990356, 1.2518999576568604, 1.2517000436782837, 1.2515000104904175, 1.2511999607086182, 1.2510000467300415, 1.2502000331878662, 1.2496999502182007, 1.2486000061035156, 1.2454999685287476, 1.2446000576019287, 1.2438000440597534, 1.243499994277954, 1.2430000305175781, 1.2425999641418457, 1.2425999641418457, 1.2422000169754028, 1.2410000562667847, 1.2402000427246094, 1.2380000352859497, 1.236899971961975, 1.2268999814987183, 1.2329000234603882, 1.2283999919891357, 1.2252000570297241, 1.2157000303268433, 1.2281999588012695, 1.225000023841858, 1.2279000282287598, 1.1548999547958374, 1.1866999864578247, 1.1907999515533447, 1.1749999523162842, 1.1454999446868896, 1.180299997329712, 1.1770000457763672, 1.190600037574768, 1.198799967765808, 1.0742000341415405, 1.086899995803833, 1.090000033378601, 1.0652999877929688, 1.0707999467849731, 0.9965999722480774, 1.1815999746322632, 1.1857999563217163, 0.8889999985694885, 0.9574000239372253, 1.035599946975708, 0.9675999879837036, 1.0902999639511108, 1.0174000263214111, 0.9144999980926514, 1.0789999961853027, 0.7473999857902527, 0.9836000204086304, 0.8580999970436096, 0.9185000061988831, 0.9659000039100647, 0.9577000141143799, 0.8058000206947327, 0.9264000058174133, 0.9681000113487244, 0.5759999752044678, 0.8553000092506409, 0.9283000230789185, 0.8690999746322632, 0.6819999814033508, 0.8399999737739563, 0.8036999702453613, 0.6916999816894531, 0.8147000074386597, 0.4749000072479248, 0.7443000078201294, 0.4867999851703644, 0.33959999680519104, 0.567300021648407, 0.31679999828338623, 0.38530001044273376, 0.2549999952316284, 0.6452000141143799, 0.24130000174045563, 0.44620001316070557, 0.2728999853134155, 0.39730000495910645, 0.3093000054359436, 0.4713999927043915, 0.34040001034736633, 0.31619998812675476, -0.7181000113487244, 2.2153000831604004, 2.2081000804901123, 2.189500093460083, 2.1854000091552734, 2.1770999431610107, 2.175299882888794, 2.172100067138672, 2.170099973678589, 2.169600009918213, 2.1647000312805176, 2.1637001037597656, 2.1610000133514404, 2.1577999591827393, 2.156899929046631, 2.1568000316619873, 2.153599977493286, 2.1522998809814453, 2.151700019836426, 2.150700092315674, 2.149199962615967, 2.1438000202178955, 2.1435000896453857, 2.1396000385284424, 2.1380999088287354, 2.135999917984009, 2.1349000930786133, 2.1347999572753906, 2.134700059890747, 2.133500099182129, 2.130500078201294, 2.125499963760376, 2.0720999240875244, 2.079400062561035, 2.081899881362915, 2.107300043106079, 2.0234999656677246, 2.0, 1.9954999685287476, 2.0032999515533447, 2.09879994392395, 1.8760000467300415, 1.7019000053405762, 1.8142000436782837, 2.021899938583374, 1.9823999404907227, 1.3133000135421753, 1.3043999671936035, 1.7426999807357788, 1.9728000164031982, 1.0672999620437622, 1.0830999612808228, 1.6835999488830566, 1.2008999586105347, 1.5154999494552612, 1.6456999778747559, 1.811400055885315, 0.9645000100135803, 0.9406999945640564, 0.9617000222206116, 0.7922999858856201, 1.6448999643325806, 0.9527999758720398, 0.7853000164031982, 0.9574000239372253, 0.6912999749183655, 0.8343999981880188, 0.8108999729156494, 1.0529999732971191, 1.1017999649047852, 0.3961000144481659, 0.6650999784469604, 0.7404000163078308, 0.5101000070571899, 0.765500009059906, 1.1943999528884888, 0.1639000028371811, 1.1375000476837158, 0.49639999866485596, 0.10920000076293945, 0.5462999939918518, 0.2538999915122986, 0.84170001745224, 0.17759999632835388, 0.11069999635219574, 0.004399999976158142, 0.28189998865127563, 0.11089999973773956, -0.32899999618530273, -0.09839999675750732, -0.9490000009536743, 2.254699945449829, 2.254699945449829, 2.254699945449829, 2.254699945449829, 2.2451999187469482, 2.2416999340057373, 2.2297000885009766, 2.2174999713897705, 2.2165000438690186, 2.216099977493286, 2.2146999835968018, 2.213200092315674, 2.212100028991699, 2.205899953842163, 2.2044999599456787, 2.200500011444092, 2.1875998973846436, 2.186500072479248, 2.1863999366760254, 2.1796998977661133, 2.178499937057495, 2.1731998920440674, 2.1723999977111816, 2.1723999977111816, 2.1710000038146973, 2.169800043106079, 2.16759991645813, 2.1675000190734863, 2.162400007247925, 2.1610000133514404, 2.1540000438690186, 2.143399953842163, 2.133500099182129, 2.1491000652313232, 2.129499912261963, 2.0789999961853027, 2.046999931335449, 2.1238999366760254, 2.1389000415802, 2.014699935913086, 1.9342000484466553, 2.0420000553131104, 1.9184999465942383, 1.794600009918213, 1.9764000177383423, 1.9747999906539917, 2.0352001190185547, 2.08270001411438, 1.8854999542236328, 1.9922000169754028, 1.7818000316619873, 1.9401999711990356, 0.9262999892234802, 1.6800999641418457, 1.5877000093460083, 1.4744999408721924, 1.496999979019165, 1.732100009918213, 1.1440000534057617, 1.1651999950408936, 1.3526999950408936, 1.1291999816894531, 0.2605000138282776, 0.9391000270843506, 1.4134000539779663, 0.6207000017166138, 1.2482000589370728, 0.32850000262260437, 0.22939999401569366, 0.4537999927997589, 0.0035000001080334187, 0.22310000658035278, -0.002300000051036477, 0.2556000053882599, 1.2527999877929688, 0.14810000360012054, 0.05790000036358833, 0.28459998965263367, 1.049299955368042, 0.6840999722480774, 0.5072000026702881, 0.22310000658035278, 0.2856000065803528, 0.6818000078201294, 0.30230000615119934, -0.06549999862909317, 0.3481000065803528, -0.05649999901652336, 0.3294000029563904, -0.633899986743927, 0.11710000038146973, -0.6955000162124634, 2.3011999130249023, 2.2883999347686768, 2.273699998855591, 2.251800060272217, 2.2421998977661133, 2.240499973297119, 2.2390999794006348, 2.2356998920440674, 2.233599901199341, 2.2323999404907227, 2.230299949645996, 2.2302000522613525, 2.2302000522613525, 2.23009991645813, 2.227400064468384, 2.225600004196167, 2.2246999740600586, 2.22379994392395, 2.2177000045776367, 2.2163000106811523, 2.216099977493286, 2.2155001163482666, 2.215399980545044, 2.2095000743865967, 2.2086000442504883, 2.2084999084472656, 2.20740008354187, 2.2051000595092773, 2.2026000022888184, 2.2005999088287354, 2.198499917984009, 2.177000045776367, 2.192500114440918, 2.1977999210357666, 2.1624999046325684, 2.1728999614715576, 2.1807000637054443, 2.1821999549865723, 2.113800048828125, 2.188499927520752, 2.1089000701904297, 2.178100109100342, 2.0350000858306885, 2.0885000228881836, 2.004300117492676, 2.0201001167297363, 1.9143999814987183, 1.7171000242233276, 1.9365999698638916, 2.031899929046631, 1.982800006866455, 1.7644000053405762, 1.8567999601364136, 1.4026999473571777, 1.795300006866455, 1.860700011253357, 1.9254000186920166, 1.6955000162124634, 1.6051000356674194, 1.8114999532699585, 1.8521000146865845, 1.7157000303268433, 1.2331000566482544, 0.9988999962806702, 0.6011000275611877, 0.9406999945640564, 1.4325000047683716, 0.6421999931335449, 0.9383000135421753, 1.0441999435424805, 0.7423999905586243, 0.7289999723434448, 0.6729000210762024, 0.0414000004529953, 1.0328999757766724, 0.19709999859333038, -0.010900000110268593, 0.7074999809265137, -0.5396999716758728, -0.17990000545978546, 0.4259999990463257, 0.3264000117778778, 0.2578999996185303, -0.16380000114440918, 0.1923000067472458, -0.2248000055551529, 0.43070000410079956, 0.22290000319480896, -0.12370000034570694, -0.8029999732971191, 0.3163999915122986, 0.0828000009059906, -0.2563000023365021, 2.3124001026153564, 2.3032000064849854, 2.297300100326538, 2.296799898147583, 2.2964000701904297, 2.266200065612793, 2.2636001110076904, 2.253700017929077, 2.2520999908447266, 2.251499891281128, 2.2513999938964844, 2.2492001056671143, 2.2488999366760254, 2.2474000453948975, 2.246299982070923, 2.245699882507324, 2.245500087738037, 2.243000030517578, 2.239500045776367, 2.2369000911712646, 2.2363998889923096, 2.236299991607666, 2.235300064086914, 2.2342000007629395, 2.2276999950408936, 2.2263998985290527, 2.2260000705718994, 2.2249999046325684, 2.2235000133514404, 2.223299980163574, 2.19569993019104, 2.2193000316619873, 2.2107999324798584, 2.212399959564209, 2.184999942779541, 2.1684999465942383, 2.200700044631958, 2.2065999507904053, 2.2012999057769775, 2.162100076675415, 2.097599983215332, 2.050600051879883, 2.020400047302246, 2.050299882888794, 2.1366000175476074, 2.1923999786376953, 2.142699956893921, 2.136699914932251, 2.0353000164031982, 1.9874999523162842, 2.12719988822937, 1.618399977684021, 1.693600058555603, 1.5647000074386597, 1.6330000162124634, 1.7730000019073486, 1.9375, 1.579300045967102, 2.04229998588562, 0.7179999947547913, 1.679800033569336, 1.256100058555603, 0.7371000051498413, 1.3193000555038452, 0.4311999976634979, 0.9352999925613403, 0.17910000681877136, 1.1344000101089478, 0.7437999844551086, 0.4180000126361847, 1.542199969291687, 0.6651999950408936, 0.6155999898910522, 0.44760000705718994, 0.6183000206947327, 0.7042999863624573, 0.3167000114917755, -0.000699999975040555, -0.04859999939799309, -0.7727000117301941, 0.23589999973773956, -0.5083000063896179, -0.013899999670684338, -0.4066999852657318, 0.10180000215768814, 0.07930000126361847, -0.2847000062465668, -0.27230000495910645, 2.378000020980835, 2.3650999069213867, 2.3415000438690186, 2.335200071334839, 2.323199987411499, 2.321500062942505, 2.3094000816345215, 2.305500030517578, 2.3020999431610107, 2.299299955368042, 2.2990000247955322, 2.296600103378296, 2.2929999828338623, 2.2929000854492188, 2.2923998832702637, 2.2894999980926514, 2.2890000343322754, 2.2822000980377197, 2.2806999683380127, 2.280600070953369, 2.279400110244751, 2.277100086212158, 2.2760000228881836, 2.2748000621795654, 2.273200035095215, 2.268899917602539, 2.2681000232696533, 2.265199899673462, 2.26200008392334, 2.261699914932251, 2.259999990463257, 2.2583000659942627, 2.248199939727783, 2.2546000480651855, 2.252000093460083, 2.1689000129699707, 2.0998001098632812, 2.170099973678589, 2.157900094985962, 2.163100004196167, 2.088099956512451, 2.0315001010894775, 1.965999960899353, 1.4706000089645386, 1.8566999435424805, 2.1461000442504883, 2.1807000637054443, 2.058799982070923, 1.7342000007629395, 1.5688999891281128, 1.9438999891281128, 2.030600070953369, 1.4569000005722046, 1.7186000347137451, 1.7980999946594238, 1.283400058746338, 1.7309999465942383, 1.5464999675750732, 1.436900019645691, 1.722499966621399, 1.6820000410079956, 1.2523000240325928, 1.3521000146865845, 1.3080999851226807, 1.3516000509262085, 0.5228999853134155, 1.3877999782562256, 1.2230000495910645, 1.1842999458312988, 1.097499966621399, 1.182800054550171, 1.0714000463485718, 1.1963000297546387, 0.9257000088691711, 0.9829000234603882, -0.06289999932050705, 0.8572999835014343, 0.8716999888420105, 0.7480999827384949, 0.07270000129938126, -0.3034999966621399, 0.1671999990940094, -0.023600000888109207, 0.7337999939918518, 0.5935999751091003, -0.9488000273704529, -0.06300000101327896, 0.37220001220703125, -0.24269999563694, 0.351500004529953, 2.363100051879883, 2.3415000438690186, 2.337599992752075, 2.334199905395508, 2.3341000080108643, 2.3329999446868896, 2.3308000564575195, 2.3271000385284424, 2.3234000205993652, 2.3227999210357666, 2.3143999576568604, 2.3085999488830566, 2.29830002784729, 2.292799949645996, 2.2922000885009766, 2.29010009765625, 2.29010009765625, 2.2899999618530273, 2.285799980163574, 2.2829999923706055, 2.278599977493286, 2.2780001163482666, 2.269700050354004, 2.2685999870300293, 2.2674999237060547, 2.2671000957489014, 2.2655999660491943, 2.2618000507354736, 2.261699914932251, 2.2609000205993652, 2.2490999698638916, 2.2548999786376953, 2.2321999073028564, 2.22379994392395, 2.13700008392334, 2.2400999069213867, 2.237600088119507, 2.244499921798706, 1.9617999792099, 2.23009991645813, 2.1029999256134033, 2.220400094985962, 2.1489999294281006, 2.2200000286102295, 2.119499921798706, 2.184299945831299, 1.9839999675750732, 2.169600009918213, 2.1389999389648438, 1.9763000011444092, 1.8651000261306763, 2.118499994277954, 2.0181000232696533, 1.8824000358581543, 1.8734999895095825, 2.0692999362945557, 1.9622999429702759, 1.7755000591278076, 1.0312999486923218, 1.9953999519348145, 1.9361000061035156, 0.8756999969482422, 0.9546999931335449, 1.3734999895095825, 1.6196000576019287, 1.0061999559402466, 1.9039000272750854, 1.0765000581741333, 1.381500005722046, 1.4294999837875366, 0.9764000177383423, 0.8055999875068665, 0.9793000221252441, 0.9264000058174133, 1.0750999450683594, 0.8546000123023987, 1.1138999462127686, 0.3831000030040741, 0.8422999978065491, 0.6072999835014343, 0.021700000390410423, 1.2069000005722046, 0.7813000082969666, 0.3978999853134155, 0.40139999985694885, 0.42239999771118164, -0.3325999975204468, 0.682200014591217, -0.17970000207424164, 0.017899999395012856, -0.1031000018119812, 0.614799976348877, 0.03099999949336052, 0.04179999977350235, 0.5353000164031982, -0.20440000295639038, 0.1348000019788742, -0.3230000138282776, -0.2418999969959259, -0.7163000106811523, 0.1720999926328659, -0.5386999845504761, 2.467600107192993, 2.425600051879883, 2.425600051879883, 2.4086999893188477, 2.39739990234375, 2.384399890899658, 2.380199909210205, 2.3729000091552734, 2.3721001148223877, 2.369499921798706, 2.349400043487549, 2.346100091934204, 2.3417999744415283, 2.325000047683716, 2.3238000869750977, 2.314199924468994, 2.3113999366760254, 2.3069000244140625, 2.305299997329712, 2.302299976348877, 2.29830002784729, 2.2967000007629395, 2.288100004196167, 2.2862000465393066, 2.2811999320983887, 2.2808001041412354, 2.280100107192993, 2.2799999713897705, 2.278700113296509, 2.2776999473571777, 2.2769999504089355, 2.2774999141693115, 2.260699987411499, 2.260499954223633, 2.2578001022338867, 2.256200075149536, 2.222399950027466, 2.2272000312805176, 2.21560001373291, 2.2262001037597656, 2.1742000579833984, 2.164900064468384, 2.1568000316619873, 1.9718999862670898, 2.1431000232696533, 2.1452999114990234, 2.0420000553131104, 1.6687999963760376, 1.7309999465942383, 2.0181000232696533, 1.6232999563217163, 1.6589000225067139, 1.3150999546051025, 1.73580002784729, 1.266800045967102, 1.9007999897003174, 1.4040000438690186, 1.6512000560760498, 1.5666999816894531, 1.3697999715805054, 0.7853000164031982, 1.8092000484466553, 1.4264999628067017, 0.632099986076355, 0.40700000524520874, 0.955299973487854, 0.35910001397132874, 0.9699000120162964, 1.0728000402450562, 0.968999981880188, 1.243899941444397, 0.560699999332428, 1.187000036239624, 0.9717000126838684, 0.9973999857902527, 0.9467999935150146, 0.07360000163316727, 0.5827999711036682, 0.10949999839067459, 0.48890000581741333, 0.10480000078678131, -0.11670000106096268, 0.1890999972820282, 0.47940000891685486, -0.3066999912261963, -0.03669999912381172, 0.01810000091791153, -0.20640000700950623, -0.23909999430179596, -0.15610000491142273, 2.723400115966797, 2.723299980163574, 2.721100091934204, 2.712100028991699, 2.7070999145507812, 2.7044999599456787, 2.7014999389648438, 2.7012999057769775, 2.698199987411499, 2.6977999210357666, 2.6909000873565674, 2.68179988861084, 2.68179988861084, 2.68179988861084, 2.678800106048584, 2.6751999855041504, 2.6740000247955322, 2.6735000610351562, 2.6696999073028564, 2.6693999767303467, 2.6659998893737793, 2.6603000164031982, 2.6568000316619873, 2.6540000438690186, 2.651900053024292, 2.650899887084961, 2.6484999656677246, 2.6482999324798584, 2.6438000202178955, 2.642699956893921, 2.631500005722046, 2.6364998817443848, 2.625200033187866, 2.633500099182129, 2.5223000049591064, 2.633500099182129, 2.506500005722046, 2.529599905014038, 2.620699882507324, 2.4916999340057373, 2.435699939727783, 2.6082000732421875, 2.407900094985962, 2.447999954223633, 2.357599973678589, 2.1791000366210938, 1.9532999992370605, 1.983199954032898, 1.969599962234497, 2.1807000637054443, 1.604200005531311, 1.7546000480651855, 1.8257999420166016, 2.0025999546051025, 1.3079999685287476, 1.6995999813079834, 1.2776999473571777, 0.9373000264167786, 1.9670000076293945, 0.5841000080108643, 0.6444000005722046, 0.59579998254776, 0.7161999940872192, 1.6649999618530273, 1.4499000310897827, 0.38510000705718994, -0.05090000107884407, 0.5335000157356262, 0.7469000220298767, 1.094499945640564, 0.3190000057220459, 0.47440001368522644, 0.7516000270843506, 0.5694000124931335, -0.12380000203847885, 0.32919999957084656, 0.5220999717712402, -0.18629999458789825, 2.8196001052856445, 2.7981998920440674, 2.7869999408721924, 2.783400058746338, 2.7806999683380127, 2.780400037765503, 2.779599905014038, 2.778700113296509, 2.776099920272827, 2.775599956512451, 2.775099992752075, 2.774899959564209, 2.7737998962402344, 2.7734999656677246, 2.772599935531616, 2.77239990234375, 2.771399974822998, 2.7709999084472656, 2.770400047302246, 2.7699999809265137, 2.769700050354004, 2.7695999145507812, 2.7695999145507812, 2.7669999599456787, 2.766700029373169, 2.7651000022888184, 2.765000104904175, 2.7646000385284424, 2.7639000415802, 2.7634999752044678, 2.7504000663757324, 2.762200117111206, 2.7625999450683594, 2.711899995803833, 2.5980000495910645, 2.5589001178741455, 2.3680999279022217, 2.3803999423980713, 2.710900068283081, 2.0848000049591064, 1.4884999990463257, 1.2762999534606934, 1.6715999841690063, 0.9043999910354614, 1.4352999925613403, 0.9585999846458435, 2.2890000343322754, 1.840999960899353, 1.3460999727249146, 1.5741000175476074, 1.8032000064849854, 0.39100000262260437, 2.0546998977661133, 0.5990999937057495, 0.47360000014305115, 1.4112000465393066, 0.43220001459121704, 0.6110000014305115, 0.550599992275238, 0.4480000138282776, 0.7032999992370605, 0.5807999968528748, 0.9031000137329102, -0.01899999938905239, -0.243599995970726, 0.09570000320672989, 0.26589998602867126, 0.03779999911785126, -1.1836999654769897, -0.24819999933242798]}, \"token.table\": {\"Topic\": [1, 2, 3, 4, 5, 6, 7, 8, 9, 10, 1, 2, 3, 4, 5, 6, 7, 8, 9, 10, 1, 2, 3, 4, 5, 6, 7, 8, 9, 10, 1, 2, 3, 4, 5, 6, 7, 8, 9, 10, 1, 4, 5, 6, 9, 1, 4, 5, 6, 8, 9, 1, 2, 3, 4, 5, 6, 7, 8, 9, 10, 1, 2, 3, 4, 5, 6, 7, 8, 9, 10, 1, 1, 2, 3, 4, 5, 6, 7, 8, 9, 10, 4, 5, 5, 7, 9, 1, 2, 3, 4, 5, 6, 7, 8, 9, 10, 1, 2, 3, 4, 5, 7, 8, 9, 10, 7, 1, 2, 3, 4, 5, 6, 7, 8, 9, 10, 1, 2, 3, 4, 5, 6, 7, 8, 9, 10, 1, 2, 3, 5, 6, 7, 8, 10, 1, 2, 5, 1, 2, 3, 4, 5, 6, 7, 8, 9, 10, 1, 2, 3, 4, 5, 6, 7, 8, 9, 10, 1, 2, 3, 4, 5, 6, 7, 8, 9, 10, 2, 4, 5, 8, 9, 10, 1, 2, 3, 4, 5, 6, 7, 8, 9, 10, 1, 3, 5, 7, 8, 9, 1, 2, 3, 4, 5, 6, 7, 8, 9, 10, 1, 2, 3, 4, 5, 6, 7, 8, 9, 10, 3, 4, 5, 8, 10, 1, 2, 4, 5, 6, 7, 8, 9, 10, 1, 2, 3, 4, 5, 6, 7, 8, 9, 6, 5, 8, 1, 2, 3, 4, 5, 6, 7, 8, 9, 10, 1, 2, 3, 4, 5, 6, 7, 8, 9, 10, 8, 7, 1, 3, 5, 7, 10, 1, 2, 3, 4, 5, 6, 7, 8, 9, 10, 1, 3, 4, 7, 8, 10, 1, 2, 3, 4, 5, 6, 7, 8, 9, 10, 1, 3, 5, 7, 10, 1, 2, 3, 4, 5, 6, 7, 8, 9, 4, 5, 4, 1, 2, 3, 4, 5, 6, 7, 8, 9, 10, 3, 1, 2, 3, 4, 5, 6, 7, 8, 9, 10, 1, 2, 3, 4, 5, 6, 7, 8, 9, 10, 1, 2, 3, 4, 5, 6, 7, 8, 9, 10, 1, 2, 3, 4, 8, 6, 1, 2, 3, 4, 5, 6, 7, 8, 9, 10, 1, 2, 3, 4, 5, 6, 7, 8, 9, 10, 1, 2, 3, 4, 5, 6, 7, 8, 9, 2, 5, 6, 7, 9, 1, 2, 3, 4, 5, 6, 7, 8, 9, 10, 1, 3, 4, 5, 7, 8, 9, 10, 8, 1, 2, 3, 4, 5, 6, 7, 8, 9, 10, 1, 3, 5, 6, 9, 10, 1, 2, 3, 4, 5, 6, 7, 8, 9, 10, 1, 2, 3, 4, 5, 6, 7, 8, 9, 10, 1, 2, 3, 4, 5, 6, 7, 8, 9, 10, 1, 2, 3, 5, 7, 8, 9, 10, 3, 10, 1, 2, 3, 4, 5, 6, 7, 8, 9, 10, 1, 2, 3, 4, 5, 6, 7, 8, 9, 10, 1, 2, 3, 4, 5, 6, 7, 8, 9, 10, 1, 2, 3, 4, 5, 6, 7, 8, 9, 10, 2, 6, 1, 2, 3, 5, 6, 7, 8, 9, 10, 2, 1, 2, 3, 4, 5, 6, 7, 8, 9, 10, 2, 3, 6, 9, 1, 2, 3, 4, 5, 6, 7, 8, 9, 10, 3, 1, 2, 3, 5, 6, 7, 8, 9, 1, 3, 7, 8, 10, 1, 2, 3, 4, 5, 6, 7, 8, 9, 10, 1, 2, 3, 4, 5, 6, 7, 8, 9, 10, 1, 2, 3, 4, 5, 6, 7, 8, 9, 10, 2, 3, 4, 5, 6, 7, 9, 1, 2, 3, 4, 5, 6, 7, 8, 9, 10, 1, 8, 9, 4, 7, 3, 4, 7, 8, 9, 1, 2, 3, 4, 5, 6, 7, 8, 9, 10, 1, 2, 3, 5, 6, 8, 9, 10, 1, 2, 3, 4, 5, 6, 7, 8, 9, 10, 1, 3, 5, 6, 7, 8, 10, 7, 8, 1, 2, 3, 4, 5, 6, 7, 8, 9, 10, 1, 2, 3, 4, 5, 6, 7, 8, 9, 10, 2, 1, 4, 5, 6, 7, 1, 2, 4, 5, 7, 8, 9, 10, 6, 7, 9, 1, 2, 3, 5, 6, 7, 8, 9, 1, 2, 3, 4, 5, 6, 7, 8, 9, 10, 3, 4, 5, 6, 7, 8, 9, 10, 1, 3, 5, 6, 8, 4, 1, 2, 3, 4, 5, 6, 7, 8, 9, 10, 1, 2, 3, 4, 5, 6, 7, 8, 9, 10, 1, 2, 3, 4, 5, 6, 7, 8, 9, 10, 2, 3, 4, 5, 6, 7, 8, 10, 1, 2, 3, 4, 5, 6, 7, 8, 9, 10, 1, 2, 5, 1, 2, 3, 6, 7, 8, 9, 10, 3, 7, 8, 9, 1, 2, 3, 4, 5, 6, 7, 8, 9, 10, 1, 2, 3, 4, 5, 6, 7, 8, 9, 10, 1, 2, 3, 4, 5, 6, 7, 8, 9, 10, 1, 2, 3, 4, 5, 6, 7, 8, 9, 10, 1, 2, 3, 4, 5, 6, 7, 8, 9, 10, 1, 2, 3, 5, 6, 7, 8, 9, 10, 1, 2, 3, 4, 5, 6, 7, 8, 9, 10, 3, 1, 2, 3, 4, 5, 6, 7, 8, 9, 10, 1, 2, 3, 4, 5, 6, 7, 8, 9, 10, 1, 2, 3, 4, 5, 6, 7, 8, 9, 10, 5, 1, 2, 3, 4, 5, 6, 7, 8, 9, 10, 1, 3, 5, 7, 1, 3, 5, 6, 9, 1, 2, 3, 4, 5, 6, 7, 8, 9, 10, 1, 2, 3, 4, 5, 6, 7, 8, 9, 10, 1, 2, 3, 4, 5, 6, 7, 8, 9, 10, 3, 1, 2, 3, 4, 5, 6, 7, 8, 9, 10, 9, 1, 2, 3, 4, 5, 6, 7, 8, 9, 10, 1, 2, 3, 4, 5, 6, 7, 8, 9, 10, 2, 10, 1, 2, 3, 4, 5, 6, 7, 8, 9, 10, 1, 3, 5, 7, 10, 1, 3, 4, 5, 7, 10, 1, 2, 3, 4, 5, 6, 7, 8, 9, 10, 1, 2, 3, 4, 5, 6, 7, 8, 9, 10, 1, 2, 3, 4, 5, 6, 7, 8, 9, 10, 1, 2, 3, 4, 5, 6, 7, 8, 9, 10, 1, 2, 3, 4, 5, 6, 7, 8, 9, 10, 1, 4, 8, 10, 1, 2, 3, 4, 5, 6, 7, 8, 9, 10, 1, 2, 3, 4, 5, 6, 7, 8, 9, 10, 1, 3, 5, 7, 10, 1, 2, 5, 6, 7, 8, 1, 2, 3, 4, 5, 6, 7, 8, 9, 10, 1, 3, 5, 6, 7, 8, 10, 1, 2, 3, 4, 5, 6, 7, 8, 9, 10, 1, 2, 3, 4, 5, 7, 8, 9, 10, 2, 4, 5, 8, 1, 2, 5, 6, 7, 2, 3, 4, 5, 6, 7, 8, 9, 10, 1, 2, 3, 4, 5, 6, 7, 8, 9, 10, 1, 3, 4, 5, 7, 10, 1, 2, 3, 4, 5, 8, 10, 1, 2, 3, 4, 5, 6, 7, 8, 9, 1, 2, 3, 4, 5, 6, 7, 8, 9, 5, 7, 1, 2, 3, 4, 6, 7, 8, 9, 10, 1, 2, 3, 5, 6, 7, 1, 2, 3, 4, 5, 6, 7, 8, 9, 10, 8, 2, 4, 5, 1, 2, 3, 4, 5, 6, 7, 8, 9, 10, 1, 2, 3, 4, 5, 6, 7, 8, 9, 10, 1, 2, 3, 4, 5, 6, 7, 8, 9, 10, 1, 2, 3, 4, 5, 6, 7, 8, 9, 10, 4, 1, 2, 3, 4, 5, 6, 7, 8, 9, 10, 1, 3, 4, 5, 6, 7, 8, 9, 10, 1, 2, 3, 4, 6, 7, 8, 9, 10, 1, 2, 3, 4, 5, 6, 7, 8, 9, 10, 1, 3, 5, 6, 7, 8, 9, 6, 1, 2, 3, 4, 5, 6, 7, 8, 9, 10, 1, 4, 5, 8, 9, 2, 3, 3, 1, 2, 1, 2, 3, 4, 5, 6, 7, 8, 9, 10, 1, 3, 6, 1, 6, 10, 1, 2, 3, 4, 5, 6, 7, 8, 9, 10, 1, 2, 3, 4, 5, 6, 7, 8, 9, 1, 2, 5, 1, 3, 5, 6, 7, 8, 9, 1, 2, 3, 4, 5, 6, 7, 8, 9, 10, 6, 1, 2, 3, 4, 5, 6, 7, 8, 9, 1, 2, 3, 4, 5, 6, 7, 8, 9, 10, 1, 2, 3, 4, 5, 6, 7, 8, 9, 10, 1, 2, 3, 4, 5, 6, 7, 8, 9, 1, 2, 3, 4, 5, 6, 7, 8, 9, 10, 1, 3, 5, 7, 10, 1, 2, 3, 4, 5, 6, 7, 8, 9, 10, 3, 2, 3, 4, 5, 6, 7, 8, 9, 10, 2, 8, 1, 2, 3, 4, 5, 6, 7, 8, 9, 10, 1, 2, 3, 4, 5, 6, 7, 8, 9, 10, 1, 3, 5, 7, 10, 1, 2, 5, 8, 9, 10, 1, 2, 3, 4, 5, 6, 7, 8, 9, 10, 7, 9, 10, 1, 3, 5, 6, 7, 8, 9, 10, 1, 2, 9, 1, 2, 3, 4, 5, 6, 7, 8, 9, 10, 1, 2, 3, 4, 5, 6, 7, 8, 9, 10, 1, 2, 5, 10, 2, 3, 4, 5, 6, 9, 2, 4, 5, 8, 1, 2, 3, 4, 5, 6, 7, 8, 9, 10, 1, 2, 5, 1, 3, 5, 6, 7, 8, 2, 1, 2, 3, 4, 5, 6, 7, 8, 9, 10, 1, 2, 3, 4, 5, 6, 7, 8, 9, 10, 7, 1, 2, 3, 4, 5, 6, 7, 8, 9, 10, 1, 2, 3, 4, 5, 6, 7, 8, 9, 10, 6, 7, 1, 2, 3, 4, 5, 6, 7, 8, 9, 10, 1, 2, 5, 7, 10, 1, 3, 4, 5, 6, 7, 9, 10, 1, 2, 3, 4, 5, 6, 7, 8, 9, 10, 1, 2, 6, 9, 7, 7, 1, 2, 3, 4, 5, 6, 7, 8, 9, 10, 6, 7, 1, 2, 3, 4, 5, 6, 7, 8, 9, 10, 8, 1, 2, 3, 4, 5, 6, 7, 8, 9, 10, 1, 4, 1, 2, 3, 4, 5, 6, 7, 8, 9, 10, 5, 1, 2, 3, 4, 5, 6, 7, 8, 9, 10, 1, 2, 3, 4, 5, 6, 7, 8, 9, 10, 1, 2, 3, 4, 5, 6, 7, 8, 9, 5, 6, 8, 1, 2, 3, 4, 5, 6, 7, 8, 9, 10, 1, 2, 3, 5, 8, 10, 3, 1, 2, 3, 4, 5, 6, 7, 8, 9, 10, 1, 3, 5, 7, 8, 9, 10, 8, 1, 2, 3, 5, 6, 7, 8, 9, 10, 1, 2, 3, 4, 5, 6, 7, 8, 9, 10, 1, 2, 3, 4, 5, 6, 7, 8, 9, 10, 1, 2, 3, 5, 6, 7, 1, 2, 3, 4, 5, 6, 7, 8, 9, 10, 1, 2, 3, 5, 6, 7, 8, 9, 10, 1, 2, 3, 5, 6, 7, 8, 9, 10, 2, 3, 10, 1, 2, 3, 4, 5, 6, 7, 8, 9, 1, 3, 4, 5, 7, 8, 9, 9, 1, 3, 4, 8, 8, 8, 6, 1, 2, 3, 6, 7, 9, 2, 3, 6, 9, 1, 2, 3, 6, 9, 1, 2, 9, 1, 2, 9, 1, 2, 9, 1, 2, 3, 6, 9, 1, 2, 6, 9, 1, 2, 3, 6, 9, 1, 2, 3, 6, 9, 1, 2, 3, 6, 9, 1, 2, 3, 6, 9, 2, 3, 6, 9, 1, 2, 3, 6, 9, 1, 2, 4, 8, 9, 6, 1, 2, 3, 4, 5, 7, 8, 9, 10, 3, 5, 6, 2, 3, 5, 6, 7, 9, 1, 2, 3, 5, 7, 8, 1, 2, 3, 5, 6, 9, 10, 1, 2, 3, 4, 5, 6, 7, 8, 9, 10, 2, 9, 1, 2, 3, 4, 5, 6, 7, 8, 9, 10, 3, 6, 7, 9, 10, 2, 1, 3, 5, 7, 10, 1, 2, 3, 4, 5, 6, 7, 8, 9, 10, 1, 2, 3, 4, 5, 6, 7, 8, 9, 10, 1, 2, 3, 4, 5, 6, 7, 8, 9, 10, 1, 2, 3, 4, 5, 6, 7, 8, 9, 10, 1, 2, 3, 4, 5, 6, 7, 8, 9, 10, 1, 1, 2, 3, 4, 5, 6, 7, 8, 9, 10, 3, 5, 1, 2, 3, 4, 5, 6, 7, 8, 9, 10, 3, 5, 8, 9, 1, 2, 3, 4, 5, 6, 7, 8, 9, 10, 1, 2, 5, 7, 8, 10, 7, 1, 2, 3, 4, 5, 6, 7, 8, 9, 10, 1, 2, 3, 4, 5, 6, 7, 8, 9, 10, 1, 2, 3, 4, 5, 6, 7, 8, 9, 10, 1, 2, 3, 4, 6, 7, 8, 9, 10, 1, 3, 5, 7, 10, 2, 3, 4, 5, 7, 8, 9, 1, 2, 4, 6, 1, 2, 3, 4, 5, 6, 7, 8, 9, 10, 1, 2, 3, 4, 5, 6, 7, 8, 9, 10, 1, 2, 3, 4, 5, 6, 7, 8, 9, 10, 6, 7, 10, 1, 2, 3, 4, 5, 6, 7, 8, 9, 10, 3, 6, 7, 1, 2, 3, 4, 5, 6, 7, 8, 9, 10, 1, 2, 3, 4, 5, 6, 7, 8, 9, 10, 1, 2, 3, 4, 5, 6, 7, 8, 9, 10, 8, 7, 1, 2, 3, 4, 5, 6, 7, 8, 9, 10, 1, 2, 3, 4, 5, 6, 7, 8, 9, 10, 3, 9, 6, 6, 6, 1, 2, 3, 4, 5, 6, 7, 8, 9, 10, 1, 2, 3, 4, 5, 6, 7, 8, 9, 10, 7, 9, 3, 5, 7, 10, 3, 1, 2, 3, 4, 5, 6, 7, 8, 9, 10, 1, 2, 7, 9, 3, 5, 7, 9, 10, 7, 1, 2, 3, 4, 5, 6, 7, 8, 9, 10, 2, 8, 2, 8, 3, 7, 10, 6, 7, 3, 5, 10, 4, 5, 1, 2, 3, 4, 5, 6, 7, 8, 9, 10, 3, 1, 2, 4, 10, 1, 2, 3, 4, 5, 6, 7, 8, 9, 10, 8, 7, 2, 2, 3, 5, 6, 8, 1, 2, 3, 4, 5, 6, 7, 8, 9, 10, 1, 2, 3, 4, 5, 6, 7, 8, 9, 10, 3, 5, 8, 5, 1, 2, 3, 4, 5, 6, 7, 8, 9, 10, 6, 1, 2, 3, 4, 5, 6, 7, 8, 9, 10, 1, 3, 5, 7, 10, 7, 1, 2, 3, 5, 6, 8, 9, 10, 1, 2, 3, 4, 5, 6, 7, 8, 9, 10, 3, 5, 7, 10, 1, 3, 4, 5, 7, 10, 1, 3, 5, 7, 10, 1, 2, 1, 2, 3, 4, 5, 6, 7, 8, 9, 10, 1, 2, 7, 1, 2, 3, 4, 5, 6, 7, 8, 9, 10, 1, 2, 3, 4, 5, 6, 7, 8, 9, 10, 1, 2, 3, 4, 5, 6, 7, 8, 9, 10, 1, 2, 3, 4, 5, 6, 7, 8, 9, 10, 1, 2, 3, 4, 5, 6, 7, 8, 9, 10, 1, 2, 3, 4, 5, 6, 7, 8, 9, 10, 1, 2, 3, 4, 5, 6, 7, 8, 9, 10, 1, 2, 3, 4, 5, 6, 7, 8, 9, 10, 2, 6, 1, 2, 4, 8, 9, 10, 2, 4, 1, 1, 2, 3, 4, 5, 6, 7, 8, 9, 10, 1, 2, 3, 4, 5, 6, 7, 8, 9, 10, 1, 2, 3, 4, 5, 6, 7, 8, 9, 10, 8, 3, 5, 6, 1, 2, 3, 4, 5, 6, 7, 8, 9, 10, 1, 2, 3, 5, 6, 7, 8, 9, 1, 3, 6, 7, 8, 10, 6, 8, 3, 5, 6, 3, 1, 2, 3, 4, 5, 6, 7, 8, 9, 10, 1, 2, 3, 4, 5, 6, 7, 8, 9, 10, 3, 5, 7, 10, 1, 2, 3, 5, 6, 7, 8, 9, 10, 1, 2, 3, 4, 5, 6, 7, 8, 9, 10, 1, 3, 5, 9, 10, 1, 2, 3, 4, 5, 6, 7, 8, 9, 10, 7, 10, 3, 6, 1, 2, 3, 4, 5, 6, 7, 8, 9, 10, 1, 2, 3, 4, 5, 6, 7, 8, 9, 10, 1, 2, 3, 4, 5, 6, 7, 8, 9, 10, 1, 2, 3, 4, 5, 6, 7, 8, 9, 10, 3, 4, 7, 9, 2, 6, 2, 6, 7, 1, 2, 3, 4, 5, 6, 7, 8, 9, 10, 1, 2, 5, 7, 10, 1, 2, 3, 4, 5, 6, 7, 8, 9, 10, 1, 3, 4, 7, 1, 1, 3, 5, 7, 10, 1, 2, 3, 4, 5, 6, 7, 8, 9, 10, 1, 2, 3, 4, 5, 6, 7, 8, 9, 10, 1, 3, 5, 7, 8, 1, 2, 3, 4, 5, 6, 7, 8, 9, 10, 7, 1, 2, 3, 4, 5, 6, 7, 8, 9, 10, 3, 5, 6, 7, 8, 9, 2, 1, 8, 8, 3, 5, 6, 1, 2, 3, 4, 5, 6, 7, 8, 9, 10, 1, 2, 3, 4, 5, 6, 7, 8, 9, 10, 8, 1, 2, 3, 4, 5, 6, 7, 8, 9, 10, 1, 1, 2, 3, 4, 5, 6, 7, 8, 9, 10, 1, 2, 3, 4, 5, 6, 7, 8, 9, 10, 1, 2, 3, 4, 5, 6, 7, 8, 9, 10, 1, 2, 3, 4, 5, 6, 7, 8, 9, 10, 9, 9, 3, 9, 1, 4, 5, 8, 9, 1, 4, 5, 8, 9, 1, 2, 3, 4, 5, 6, 7, 8, 9, 10, 1, 2, 5, 8, 9, 3, 6, 7, 1, 2, 3, 4, 5, 6, 7, 8, 9, 10, 1, 2, 5, 8, 1, 2, 3, 4, 5, 6, 7, 8, 9, 10, 3, 6, 7, 9, 1, 1, 2, 3, 4, 5, 6, 7, 8, 9, 10, 1, 2, 3, 7, 9, 1, 2, 3, 4, 5, 6, 7, 8, 9, 10, 1, 2, 3, 4, 5, 6, 7, 8, 9, 10, 1, 2, 3, 4, 5, 6, 7, 8, 9, 10, 1, 2, 3, 4, 5, 6, 7, 8, 9, 10, 1, 2, 3, 4, 5, 6, 7, 8, 9, 10, 2, 1, 2, 3, 4, 5, 6, 7, 8, 9, 1, 2, 3, 5, 7, 8, 1, 2, 3, 5, 6, 7, 8, 1, 2, 3, 4, 5, 6, 7, 8, 9, 10, 1, 4, 5, 8, 9, 3, 4, 7, 8, 1, 2, 3, 4, 5, 6, 7, 8, 9, 10, 1, 2, 3, 4, 5, 6, 7, 8, 9, 10, 1, 4, 6, 7, 8, 1, 3, 4, 5, 7, 8, 10, 1, 3, 4, 5, 7, 8, 10, 1, 2, 3, 4, 5, 6, 7, 8, 9, 10, 1, 2, 3, 4, 5, 6, 7, 8, 9, 10, 1, 2, 3, 4, 5, 6, 7, 8, 9, 7, 8, 1, 2, 3, 4, 5, 6, 7, 8, 9, 10, 1, 2, 3, 4, 5, 6, 7, 8, 9, 10, 1, 2, 3, 4, 5, 6, 7, 8, 9, 10, 1, 2, 5, 1, 2, 3, 4, 5, 6, 7, 8, 9, 10, 7, 1, 2, 3, 4, 5, 6, 7, 8, 9, 10, 3, 5, 7, 10, 1, 2, 3, 4, 5, 6, 7, 8, 9, 10, 1, 2, 3, 4, 5, 6, 7, 8, 10, 6, 6, 2, 6, 10, 1, 2, 3, 4, 5, 6, 7, 8, 9, 10, 1, 1, 2, 3, 4, 5, 6, 7, 8, 9, 10, 1, 2, 3, 4, 5, 6, 7, 8, 9, 10, 1, 3, 5, 7, 10, 1, 2, 3, 5, 7, 1, 2, 3, 4, 5, 6, 7, 8, 9, 10, 1, 2, 3, 4, 5, 6, 7, 8, 9, 10, 2, 7, 5, 6, 9, 1, 3, 5, 7, 10, 3, 1, 2, 3, 5, 8, 9, 5, 7, 9, 1, 2, 3, 4, 5, 6, 7, 8, 9, 10, 1, 2, 3, 4, 5, 6, 7, 8, 9, 10, 1, 2, 3, 4, 5, 6, 7, 8, 9, 10, 8, 1, 2, 3, 4, 5, 6, 7, 8, 9, 10, 1, 2, 5, 7, 8, 9, 10, 1, 2, 3, 4, 5, 6, 7, 8, 9, 10, 1, 2, 3, 4, 5, 6, 7, 8, 9, 10, 3, 9, 1, 3, 4, 5, 7, 8, 9, 10, 1, 2, 3, 4, 5, 7, 8, 10, 1, 2, 3, 4, 5, 6, 7, 8, 9, 10, 2, 3, 4, 5, 6, 7, 8, 9, 10, 1, 2, 3, 4, 5, 6, 7, 8, 9, 10, 1, 2, 3, 4, 5, 6, 7, 8, 9, 10, 1, 2, 3, 4, 5, 6, 7, 8, 9, 10, 2, 2, 4, 5, 4, 9, 10, 1, 2, 3, 4, 5, 6, 7, 8, 9, 10, 1, 2, 3, 4, 5, 6, 7, 8, 9, 10, 1, 2, 3, 4, 5, 6, 7, 8, 9, 10, 1, 7, 1, 2, 3, 4, 5, 6, 7, 8, 9, 10, 1, 2, 3, 4, 5, 6, 7, 8, 9, 10, 1, 3, 5, 9, 10, 1, 2, 3, 4, 5, 6, 7, 8, 9, 10, 1, 2, 3, 4, 5, 6, 7, 8, 9, 10, 4, 5, 8, 1, 2, 3, 4, 5, 6, 7, 8, 9, 10, 1, 2, 3, 4, 5, 6, 7, 8, 9, 10, 4, 7, 7, 1, 2, 3, 4, 5, 6, 7, 8, 9, 10, 1, 3, 4, 5, 7, 10, 1, 2, 3, 4, 5, 6, 7, 8, 9, 10, 1, 2, 3, 4, 5, 6, 7, 8, 9, 10, 3, 6, 1, 2, 3, 6, 7, 10, 1, 2, 3, 4, 5, 6, 7, 8, 9, 10, 1, 2, 3, 4, 5, 6, 7, 8, 9, 10, 1, 2, 3, 4, 5, 7, 8, 9, 10, 1, 2, 3, 4, 5, 6, 7, 8, 9, 10, 1, 2, 3, 4, 5, 6, 7, 8, 9, 10, 1, 2, 3, 4, 5, 6, 7, 8, 9, 10, 8, 2, 1, 2, 3, 4, 5, 6, 7, 8, 9, 10, 7, 8, 9, 1, 2, 3, 4, 5, 6, 7, 8, 9, 10, 1, 2, 3, 4, 5, 6, 7, 8, 9, 10, 1, 3, 7, 10, 3, 9, 1, 2, 3, 4, 5, 6, 7, 8, 9, 10, 1, 2, 3, 4, 5, 6, 7, 8, 9, 10, 1, 2, 3, 4, 5, 6, 7, 8, 9, 10, 3, 6, 7, 5, 8, 4, 9, 1, 2, 3, 4, 5, 6, 7, 8, 9, 10, 5, 6, 1, 2, 4, 5, 7, 8, 1, 2, 3, 4, 5, 6, 7, 8, 9, 10, 2, 3, 2, 1, 2, 3, 4, 5, 6, 7, 8, 9, 10, 1, 2, 3, 4, 5, 6, 7, 8, 9, 10, 1, 3, 5, 7, 10, 1, 2, 3, 5, 6, 7, 8, 9, 10, 1, 2, 3, 4, 5, 6, 7, 8, 9, 10, 1, 3, 5, 6, 7, 10, 1, 2, 3, 4, 5, 6, 7, 8, 9, 10, 1, 2, 3, 4, 5, 6, 7, 8, 9, 10, 7, 1, 2, 3, 4, 5, 6, 7, 8, 9, 10, 1, 2, 3, 4, 5, 6, 7, 8, 9, 10, 1, 2, 3, 4, 5, 6, 7, 8, 9, 10, 1, 2, 3, 4, 5, 6, 7, 8, 9, 10, 1, 2, 3, 4, 5, 6, 7, 8, 9, 10, 1, 3, 4, 5, 6, 7, 8, 10, 1, 2, 3, 4, 5, 6, 7, 8, 9, 10, 3, 4, 7, 9, 3, 4, 7, 9, 1, 2, 3, 4, 5, 6, 7, 8, 9, 10, 1, 2, 3, 4, 5, 6, 7, 8, 9, 10, 4, 4, 5, 10, 4, 7, 8, 9, 2, 3, 4, 5, 6, 7, 8, 9, 10, 2, 3, 4, 7, 8, 9, 3, 4, 7, 8, 9, 3, 4, 5, 6, 7, 7, 1, 2, 3, 4, 5, 6, 7, 8, 9, 10, 8, 1, 3, 6, 8, 9, 1, 2, 3, 4, 5, 6, 7, 8, 9, 10, 2, 5, 7, 8, 10, 4, 9, 1, 2, 3, 5, 6, 7, 8, 9, 1, 3, 6, 8, 9, 1, 2, 3, 4, 5, 6, 7, 8, 9, 10, 1, 3, 4, 5, 7, 8, 10, 1, 6, 2, 5, 7, 1, 2, 3, 4, 5, 6, 7, 8, 9, 10, 1, 2, 3, 4, 5, 6, 7, 8, 9, 10, 1, 2, 4, 5, 7, 8, 1, 1, 2, 3, 4, 5, 6, 7, 8, 9, 10, 1, 2, 4, 6, 7, 8, 1, 2, 3, 4, 5, 6, 7, 8, 9, 10, 1, 2, 3, 4, 5, 6, 7, 8, 9, 10, 1, 2, 3, 4, 5, 6, 7, 1, 4, 5, 7, 8, 10, 1, 2, 3, 4, 5, 6, 7, 8, 9, 10, 5, 6, 7, 8, 1, 2, 3, 4, 5, 6, 7, 8, 9, 10, 1, 2, 1, 2, 3, 4, 5, 6, 7, 8, 9, 10, 1, 2, 3, 4, 5, 6, 7, 8, 9, 10, 8, 1, 2, 3, 4, 5, 6, 7, 8, 9, 10, 1, 2, 3, 4, 5, 6, 7, 8, 9, 10, 2, 3, 1, 2, 3, 5, 6, 7, 8, 9, 10, 1, 2, 3, 4, 5, 6, 7, 8, 9, 10, 1, 3, 5, 6, 7, 8, 1, 2, 5, 1, 2, 3, 4, 5, 7, 8, 1, 2, 3, 5, 6, 7, 8, 1, 4, 5, 8, 9, 1, 2, 3, 4, 5, 6, 7, 8, 9, 10, 1, 2, 3, 4, 5, 6, 7, 8, 9, 10, 1, 2, 3, 4, 5, 6, 7, 8, 9, 10, 1, 2, 3, 4, 5, 6, 7, 8, 9, 10, 1, 1, 2, 3, 4, 5, 6, 7, 8, 9, 10, 1, 2, 3, 4, 5, 6, 7, 8, 9, 10, 1, 2, 3, 4, 5, 6, 7, 8, 9, 10, 1, 2, 3, 4, 5, 6, 7, 8, 9, 10, 1, 3, 5, 7, 10, 1, 1, 3, 5, 7, 10, 1, 3, 4, 5, 6, 7, 8, 10, 1, 2, 3, 4, 5, 6, 7, 8, 9, 10, 1, 2, 3, 4, 5, 6, 7, 8, 9, 10, 1, 2, 3, 4, 5, 6, 7, 8, 9, 10, 1, 2, 3, 4, 5, 6, 7, 8, 9, 10, 4, 5, 7, 1, 2, 3, 4, 5, 6, 7, 8, 9, 10, 1, 2, 3, 4, 5, 6, 7, 8, 9, 10, 1, 2, 3, 4, 5, 6, 7, 8, 9, 10, 1, 4, 6, 1, 2, 3, 4, 5, 6, 7, 8, 9, 10, 1, 4, 1, 2, 3, 4, 5, 6, 7, 8, 9, 10, 1, 3, 4, 6, 8, 1, 2, 3, 4, 5, 7, 8, 9, 10, 1, 2, 3, 4, 5, 7, 8, 9, 10, 1, 2, 3, 7, 8, 9, 10, 8, 3, 4, 5, 7, 8, 10, 7, 1, 2, 3, 4, 5, 7, 8, 9, 10, 1, 2, 6, 9, 1, 2, 3, 6, 9, 10, 1, 2, 3, 4, 5, 6, 7, 8, 9, 10, 1, 4, 6, 8, 1, 2, 3, 4, 5, 6, 7, 8, 9, 10, 1, 3, 5, 7, 8, 1, 2, 3, 4, 5, 6, 7, 8, 9, 2, 3, 5, 8, 10, 3, 3, 5, 7, 10, 1, 2, 5, 6, 7, 9, 10, 1, 2, 3, 4, 5, 6, 7, 8, 9, 10, 1, 2, 3, 6, 7, 9, 1, 2, 3, 4, 5, 6, 7, 8, 9, 10, 1, 2, 3, 4, 5, 8, 9, 10, 1, 2, 3, 4, 5, 6, 7, 8, 9, 10, 3, 7, 1, 2, 3, 4, 5, 6, 7, 8, 9, 10, 1, 2, 3, 4, 5, 6, 7, 8, 9, 10, 1, 2, 3, 4, 5, 6, 7, 8, 9, 10, 1, 2, 3, 4, 5, 6, 7, 8, 9, 10, 1, 2, 3, 4, 5, 6, 7, 8, 9, 10, 1, 2, 3, 4, 5, 6, 7, 8, 9, 10, 1, 1, 2, 5, 1, 2, 3, 4, 5, 6, 7, 8, 9, 10, 5, 7, 1, 2, 3, 4, 5, 6, 7, 8, 9, 10, 7, 9, 1, 2, 3, 4, 5, 6, 7, 8, 9, 10, 3, 9, 4, 8, 3, 1, 2, 3, 4, 5, 6, 7, 8, 9, 10, 1, 2, 3, 4, 5, 6, 7, 8, 9, 10, 1, 2, 3, 4, 5, 6, 7, 8, 9, 10, 1, 2, 3, 4, 5, 6, 7, 8, 9, 10, 1, 2, 3, 4, 5, 6, 7, 8, 9, 10, 1, 2, 3, 4, 5, 6, 7, 8, 9, 10, 1, 1, 2, 3, 4, 5, 6, 7, 8, 9, 10, 7, 8, 1, 3, 4, 5, 7, 8, 9, 3, 1, 3, 1, 2, 3, 4, 5, 6, 7, 8, 9], \"Freq\": [0.04527498036623001, 0.09140419960021973, 0.09396693855524063, 0.04442073404788971, 0.07517354935407639, 0.09994664788246155, 0.09567542374134064, 0.02391885593533516, 0.34169796109199524, 0.08713297545909882, 0.02105857990682125, 0.1123124286532402, 0.02807810716331005, 0.014039053581655025, 0.007019526790827513, 0.084234319627285, 0.0350976325571537, 0.6457964777946472, 0.014039053581655025, 0.02105857990682125, 0.17744840681552887, 0.027923353016376495, 0.05134293809533119, 0.06305272877216339, 0.10718964040279388, 0.04864067956805229, 0.25221091508865356, 0.09457909315824509, 0.07206026464700699, 0.10538813471794128, 0.178213432431221, 0.07895531505346298, 0.08008325099945068, 0.024814529344439507, 0.10828158259391785, 0.1725737601518631, 0.252657026052475, 0.05978045612573624, 0.024814529344439507, 0.020302796736359596, 0.8922996520996094, 0.022307490929961205, 0.022307490929961205, 0.04461498185992241, 0.022307490929961205, 0.8561299443244934, 0.02313864603638649, 0.02313864603638649, 0.04627729207277298, 0.02313864603638649, 0.02313864603638649, 0.10117507725954056, 0.05518640577793121, 0.05978527292609215, 0.009197734296321869, 0.12416941672563553, 0.013796601444482803, 0.08277960866689682, 0.022994335740804672, 0.5242708325386047, 0.0045988671481609344, 0.058890487998723984, 0.045300375670194626, 0.015100125223398209, 0.027180226519703865, 0.01963016390800476, 0.7232959866523743, 0.01963016390800476, 0.03322027623653412, 0.030200250446796417, 0.03171026334166527, 0.8532813787460327, 0.11583991348743439, 0.04774482920765877, 0.10175127536058426, 0.06652968376874924, 0.14949610829353333, 0.2653360366821289, 0.10879559814929962, 0.043831318616867065, 0.042265914380550385, 0.057919956743717194, 0.08004806190729141, 0.8004806637763977, 0.9026396870613098, 0.029117409139871597, 0.029117409139871597, 0.01503203809261322, 0.08518154919147491, 0.03507475554943085, 0.005010679364204407, 0.05010679364204407, 0.6313456296920776, 0.010021358728408813, 0.13027766346931458, 0.03006407618522644, 0.005010679364204407, 0.8673018217086792, 0.011880846694111824, 0.011880846694111824, 0.011880846694111824, 0.03564254194498062, 0.011880846694111824, 0.023761693388223648, 0.011880846694111824, 0.011880846694111824, 0.8303015828132629, 0.08317685127258301, 0.010397106409072876, 0.6862090229988098, 0.10397107154130936, 0.020794212818145752, 0.010397106409072876, 0.020794212818145752, 0.010397106409072876, 0.020794212818145752, 0.020794212818145752, 0.03847244381904602, 0.05386142060160637, 0.7155874371528625, 0.06925039738416672, 0.046166934072971344, 0.015388977713882923, 0.023083467036485672, 0.015388977713882923, 0.015388977713882923, 0.0076944888569414616, 0.014780387282371521, 0.014780387282371521, 0.8277016878128052, 0.014780387282371521, 0.059121549129486084, 0.04434116184711456, 0.014780387282371521, 0.014780387282371521, 0.04620218276977539, 0.8778414726257324, 0.04620218276977539, 0.04502793774008751, 0.10806705057621002, 0.055670905858278275, 0.031110212206840515, 0.03847841918468475, 0.09660539776086807, 0.22923314571380615, 0.21613410115242004, 0.13508380949497223, 0.04584662988781929, 0.026914268732070923, 0.16515573859214783, 0.025690892711281776, 0.06483892351388931, 0.05260516330599785, 0.08930643647909164, 0.1419115960597992, 0.018350638449192047, 0.36701276898384094, 0.04893503338098526, 0.010558553040027618, 0.10910504311323166, 0.02991589903831482, 0.010558553040027618, 0.02463662251830101, 0.14781974256038666, 0.16717708110809326, 0.015837829560041428, 0.424101859331131, 0.06335131824016571, 0.04160343110561371, 0.04160343110561371, 0.832068681716919, 0.04160343110561371, 0.8247964382171631, 0.06873303651809692, 0.626377284526825, 0.04033178463578224, 0.0716094896197319, 0.04691656306385994, 0.016461951658129692, 0.018931245431303978, 0.07901737093925476, 0.06008612737059593, 0.021400537341833115, 0.01975434273481369, 0.023235207423567772, 0.023235207423567772, 0.836467444896698, 0.023235207423567772, 0.046470414847135544, 0.023235207423567772, 0.09300963580608368, 0.025190109387040138, 0.10463584214448929, 0.0368163138628006, 0.027127809822559357, 0.4146679639816284, 0.052317921072244644, 0.18795697391033173, 0.02325240895152092, 0.031003212556242943, 0.012883283197879791, 0.012883283197879791, 0.10306626558303833, 0.012883283197879791, 0.051533132791519165, 0.6699307560920715, 0.012883283197879791, 0.025766566395759583, 0.038649849593639374, 0.038649849593639374, 0.1306997388601303, 0.7319185733795166, 0.02613994851708412, 0.02613994851708412, 0.07841984182596207, 0.023831946775317192, 0.023831946775317192, 0.8102861642837524, 0.023831946775317192, 0.023831946775317192, 0.023831946775317192, 0.023831946775317192, 0.047663893550634384, 0.023831946775317192, 0.054779525846242905, 0.027389762923121452, 0.027389762923121452, 0.7943031191825867, 0.027389762923121452, 0.027389762923121452, 0.027389762923121452, 0.027389762923121452, 0.027389762923121452, 0.8621786236763, 0.8117712736129761, 0.047751251608133316, 0.08521558344364166, 0.04689716547727585, 0.048612918704748154, 0.010866416618227959, 0.023448582738637924, 0.0606231689453125, 0.033171165734529495, 0.4249340891838074, 0.03603075072169304, 0.23105433583259583, 0.15041323006153107, 0.12612776458263397, 0.12221075594425201, 0.020368458703160286, 0.02271866612136364, 0.05013774707913399, 0.02271866612136364, 0.03603650629520416, 0.15668044984340668, 0.2929924428462982, 0.7940456867218018, 0.8594106435775757, 0.018190091475844383, 0.018190091475844383, 0.018190091475844383, 0.0545702762901783, 0.8731244206428528, 0.04819398745894432, 0.06196369603276253, 0.055078841745853424, 0.034424275159835815, 0.006884855218231678, 0.02065456472337246, 0.02065456472337246, 0.013769710436463356, 0.7435643672943115, 0.006884855218231678, 0.035887930542230606, 0.035887930542230606, 0.035887930542230606, 0.035887930542230606, 0.7895344495773315, 0.035887930542230606, 0.015424724668264389, 0.015424724668264389, 0.7635238766670227, 0.0077123623341321945, 0.04627417400479317, 0.05398653820157051, 0.023137087002396584, 0.015424724668264389, 0.0077123623341321945, 0.03856181353330612, 0.017365487292408943, 0.017365487292408943, 0.017365487292408943, 0.05209646001458168, 0.8856397867202759, 0.011312141083180904, 0.005656070541590452, 0.02262428216636181, 0.005656070541590452, 0.8597227334976196, 0.011312141083180904, 0.011312141083180904, 0.06221677362918854, 0.005656070541590452, 0.8137683272361755, 0.09041870385408401, 0.8283498883247375, 0.18886809051036835, 0.2986157536506653, 0.058702241629362106, 0.09315790981054306, 0.07656814157962799, 0.05359769985079765, 0.03573179990053177, 0.13782265782356262, 0.04721702262759209, 0.010209085419774055, 0.9346903562545776, 0.8091772198677063, 0.03650423511862755, 0.012168078683316708, 0.006084039341658354, 0.012168078683316708, 0.006084039341658354, 0.06692443042993546, 0.012168078683316708, 0.006084039341658354, 0.030420197173953056, 0.22230738401412964, 0.32923030853271484, 0.043846093118190765, 0.011538445018231869, 0.03230764716863632, 0.02923072874546051, 0.05769222602248192, 0.11153830587863922, 0.02692303992807865, 0.1353844255208969, 0.8121159076690674, 0.012890728190541267, 0.05156291276216507, 0.006445364095270634, 0.025781456381082535, 0.006445364095270634, 0.006445364095270634, 0.05800827965140343, 0.006445364095270634, 0.019336093217134476, 0.8554141521453857, 0.05899408087134361, 0.029497040435671806, 0.029497040435671806, 0.029497040435671806, 0.8756225109100342, 0.08694446831941605, 0.01337607204914093, 0.046816252171993256, 0.08694446831941605, 0.04012821614742279, 0.6754916310310364, 0.02675214409828186, 0.01337607204914093, 0.01337607204914093, 0.006688036024570465, 0.6241366267204285, 0.030767299234867096, 0.030767299234867096, 0.11113902181386948, 0.020092930644750595, 0.0207208339124918, 0.04395328462123871, 0.09167399257421494, 0.015697602182626724, 0.011930176988244057, 0.013532876968383789, 0.04059863090515137, 0.013532876968383789, 0.013532876968383789, 0.013532876968383789, 0.09473013877868652, 0.04059863090515137, 0.7172424793243408, 0.04059863090515137, 0.8160439133644104, 0.03400183096528053, 0.03400183096528053, 0.06800366193056107, 0.03400183096528053, 0.026070524007081985, 0.007448721211403608, 0.01862180233001709, 0.007448721211403608, 0.13407698273658752, 0.01862180233001709, 0.7299746870994568, 0.03724360466003418, 0.007448721211403608, 0.014897442422807217, 0.005677657667547464, 0.01703297346830368, 0.005677657667547464, 0.011355315335094929, 0.06813189387321472, 0.005677657667547464, 0.005677657667547464, 0.8743593096733093, 0.8325052857398987, 0.05395979806780815, 0.009635677561163902, 0.44131404161453247, 0.021198490634560585, 0.03468843922019005, 0.2216205894947052, 0.030834170058369637, 0.04625125601887703, 0.07130401581525803, 0.0693768784403801, 0.026767773553729057, 0.8565687537193298, 0.026767773553729057, 0.026767773553729057, 0.026767773553729057, 0.026767773553729057, 0.008148073218762875, 0.0325922928750515, 0.07333265990018845, 0.1629614681005478, 0.065184585750103, 0.0244442205876112, 0.5622170567512512, 0.04074036702513695, 0.01629614643752575, 0.008148073218762875, 0.18592597544193268, 0.30935582518577576, 0.06405852735042572, 0.05780891701579094, 0.11405543237924576, 0.02031124010682106, 0.09999380260705948, 0.07187054306268692, 0.02499845065176487, 0.05312170833349228, 0.21059690415859222, 0.11309833824634552, 0.06824899464845657, 0.011699827387928963, 0.04874928295612335, 0.15404772758483887, 0.33929499983787537, 0.01949971355497837, 0.007799885235726833, 0.02729959785938263, 0.8457465767860413, 0.010189717635512352, 0.030569152906537056, 0.010189717635512352, 0.030569152906537056, 0.030569152906537056, 0.010189717635512352, 0.020379435271024704, 0.054582029581069946, 0.9278944730758667, 0.39045339822769165, 0.050242163240909576, 0.13134737312793732, 0.11699246615171432, 0.07679873704910278, 0.033375151455402374, 0.07141564786434174, 0.06459707021713257, 0.03516951575875282, 0.029427552595734596, 0.5598075985908508, 0.0505632683634758, 0.03142146021127701, 0.0884857177734375, 0.037561286240816116, 0.037922453135252, 0.03033796139061451, 0.05598076060414314, 0.08198472857475281, 0.026003966107964516, 0.006727405358105898, 0.006727405358105898, 0.006727405358105898, 0.006727405358105898, 0.6189212799072266, 0.02018221653997898, 0.2556414008140564, 0.04036443307995796, 0.03363702446222305, 0.006727405358105898, 0.008046384900808334, 0.01609276980161667, 0.17702046036720276, 0.6598035097122192, 0.03218553960323334, 0.024139152839779854, 0.03218553960323334, 0.008046384900808334, 0.024139152839779854, 0.024139152839779854, 0.04108334705233574, 0.8627502918243408, 0.03080044500529766, 0.01026681438088417, 0.01026681438088417, 0.7597442865371704, 0.03080044500529766, 0.01026681438088417, 0.12320178002119064, 0.02053362876176834, 0.01026681438088417, 0.9008883833885193, 0.27125075459480286, 0.06467779725790024, 0.1808338463306427, 0.07127757370471954, 0.1808338463306427, 0.03431883081793785, 0.06533777713775635, 0.04751837998628616, 0.039598651230335236, 0.04289853945374489, 0.02938142977654934, 0.02938142977654934, 0.02938142977654934, 0.8814429044723511, 0.0947028249502182, 0.05388263985514641, 0.5943418741226196, 0.040820181369781494, 0.10286685824394226, 0.021226495504379272, 0.011429650709033012, 0.032656144350767136, 0.031023338437080383, 0.01959368772804737, 0.9338594079017639, 0.021897658705711365, 0.04379531741142273, 0.019160451367497444, 0.027372075244784355, 0.030109282582998276, 0.010948829352855682, 0.0027372073382139206, 0.8403226733207703, 0.021877465769648552, 0.08750986307859421, 0.8094662427902222, 0.043754931539297104, 0.021877465769648552, 0.013797136954963207, 0.013797136954963207, 0.013797136954963207, 0.7864367961883545, 0.013797136954963207, 0.013797136954963207, 0.013797136954963207, 0.027594273909926414, 0.0827828198671341, 0.013797136954963207, 0.1269279420375824, 0.1277494877576828, 0.12343639880418777, 0.026289282366633415, 0.05915088579058647, 0.08646709471940994, 0.08769940584897995, 0.06818782538175583, 0.15075260400772095, 0.1435641348361969, 0.09379106014966965, 0.0030255180317908525, 0.045382771641016006, 0.009076554328203201, 0.009076554328203201, 0.006051036063581705, 0.07563795149326324, 0.01210207212716341, 0.006051036063581705, 0.7382264137268066, 0.03137689083814621, 0.03137689083814621, 0.03137689083814621, 0.03137689083814621, 0.06275378167629242, 0.03137689083814621, 0.8157991170883179, 0.6325110197067261, 0.049964964389801025, 0.03520258888602257, 0.13286137580871582, 0.027253616601228714, 0.02157578058540821, 0.01703350991010666, 0.05337166786193848, 0.012491241097450256, 0.01589794270694256, 0.05143643543124199, 0.8229829668998718, 0.05143643543124199, 0.8357937932014465, 0.05223711207509041, 0.022418849170207977, 0.8070785403251648, 0.044837698340415955, 0.022418849170207977, 0.08967539668083191, 0.2001143842935562, 0.15999120473861694, 0.052661679685115814, 0.17704355716705322, 0.09780026227235794, 0.050153981894254684, 0.08325561136007309, 0.09729872643947601, 0.052661679685115814, 0.0290893092751503, 0.02926737628877163, 0.014633688144385815, 0.014633688144385815, 0.8048528432846069, 0.014633688144385815, 0.08780212700366974, 0.014633688144385815, 0.014633688144385815, 0.13254551589488983, 0.037870146334171295, 0.02840260975062847, 0.0037870146334171295, 0.007574029266834259, 0.017041565850377083, 0.015148058533668518, 0.007574029266834259, 0.7365743517875671, 0.017041565850377083, 0.020075391978025436, 0.020075391978025436, 0.04015078395605087, 0.020075391978025436, 0.8431664705276489, 0.020075391978025436, 0.020075391978025436, 0.8442291617393494, 0.052764322608709335, 0.03790250048041344, 0.04106104001402855, 0.1279209405183792, 0.06159156188368797, 0.026847604662179947, 0.35533595085144043, 0.14213436841964722, 0.03000614605844021, 0.07106718420982361, 0.10739041864871979, 0.0470961257815361, 0.05887015536427498, 0.031397417187690735, 0.06279483437538147, 0.03532209247350693, 0.4984339773654938, 0.031397417187690735, 0.01962338574230671, 0.06279483437538147, 0.15306240320205688, 0.8329216837882996, 0.8551838994026184, 0.032891690731048584, 0.032891690731048584, 0.032891690731048584, 0.032891690731048584, 0.04330531880259514, 0.1623949408531189, 0.6928851008415222, 0.03247898817062378, 0.010826329700648785, 0.03247898817062378, 0.03247898817062378, 0.010826329700648785, 0.8584299683570862, 0.04518052563071251, 0.04518052563071251, 0.01935020461678505, 0.01935020461678505, 0.7933583855628967, 0.0774008184671402, 0.01935020461678505, 0.01935020461678505, 0.01935020461678505, 0.01935020461678505, 0.1754770576953888, 0.051010772585868835, 0.058492351323366165, 0.05169091373682022, 0.10814283788204193, 0.08501794934272766, 0.23532968759536743, 0.0965803936123848, 0.1006612554192543, 0.03672775626182556, 0.162401020526886, 0.7482047080993652, 0.011600073426961899, 0.005800036713480949, 0.017400110140442848, 0.005800036713480949, 0.005800036713480949, 0.034800220280885696, 0.1408911645412445, 0.02012730948626995, 0.0402546189725399, 0.7648377418518066, 0.02012730948626995, 0.9131752848625183, 0.051604487001895905, 0.023305252194404602, 0.43114715814590454, 0.0083233043551445, 0.059927791357040405, 0.11486160010099411, 0.23971116542816162, 0.013317286968231201, 0.0349578782916069, 0.021640591323375702, 0.043400224298238754, 0.017360089346766472, 0.40579208731651306, 0.006510033737868071, 0.058590300381183624, 0.14539074897766113, 0.24955128133296967, 0.010850056074559689, 0.043400224298238754, 0.019530100747942924, 0.5279207825660706, 0.14724430441856384, 0.052357111126184464, 0.07539424300193787, 0.0426911823451519, 0.03528063744306564, 0.026259105652570724, 0.06170084327459335, 0.01997625268995762, 0.011276916600763798, 0.02701650932431221, 0.02701650932431221, 0.05403301864862442, 0.02701650932431221, 0.7834787964820862, 0.02701650932431221, 0.05403301864862442, 0.02701650932431221, 0.7432572245597839, 0.023822346702218056, 0.034939441829919815, 0.03335128724575043, 0.04129206761717796, 0.007940782234072685, 0.02064603380858898, 0.06829072535037994, 0.01588156446814537, 0.01111709512770176, 0.08796306699514389, 0.791667640209198, 0.043981533497571945, 0.1009344607591629, 0.02018689177930355, 0.0605606772005558, 0.0403737835586071, 0.6863543391227722, 0.0403737835586071, 0.0605606772005558, 0.02018689177930355, 0.024604948237538338, 0.024604948237538338, 0.8857781291007996, 0.049209896475076675, 0.007134718354791403, 0.007134718354791403, 0.06421246379613876, 0.5779122114181519, 0.19977211952209473, 0.014269436709582806, 0.0713471844792366, 0.02140415646135807, 0.014269436709582806, 0.014269436709582806, 0.07208560407161713, 0.06990119069814682, 0.015290886163711548, 0.4499889314174652, 0.17038415372371674, 0.013106473721563816, 0.05679472163319588, 0.024028535932302475, 0.11140502989292145, 0.015290886163711548, 0.0879557654261589, 0.07395006716251373, 0.10252168774604797, 0.05602278187870979, 0.1658274233341217, 0.12493079900741577, 0.14677968621253967, 0.08011257648468018, 0.12549102306365967, 0.036975033581256866, 0.054928846657276154, 0.04557925462722778, 0.07245933264493942, 0.08180892467498779, 0.04441055655479431, 0.09115850925445557, 0.04207316040992737, 0.1425812691450119, 0.4160568118095398, 0.009349591098725796, 0.043524451553821564, 0.010881112888455391, 0.5875800848007202, 0.19948707520961761, 0.03989741578698158, 0.010881112888455391, 0.029016301035881042, 0.025389263406395912, 0.01813518814742565, 0.0362703762948513, 0.015962986275553703, 0.015962986275553703, 0.8939272165298462, 0.021283980458974838, 0.021283980458974838, 0.015962986275553703, 0.0053209951147437096, 0.0053209951147437096, 0.0053209951147437096, 0.22460304200649261, 0.09643620252609253, 0.06968293339014053, 0.10079138725996017, 0.06221690773963928, 0.05910606309771538, 0.12194513529539108, 0.2208700180053711, 0.033597130328416824, 0.01119904313236475, 0.8819977045059204, 0.059558842331171036, 0.13654954731464386, 0.06536946445703506, 0.0624641515314579, 0.09878052026033401, 0.11766503006219864, 0.1423601657152176, 0.2905309498310089, 0.01743185706436634, 0.010168583132326603, 0.5964075326919556, 0.03480362147092819, 0.06644327938556671, 0.13763250410556793, 0.03875857964158058, 0.016610819846391678, 0.025311725214123726, 0.041131556034088135, 0.02768469974398613, 0.014237845316529274, 0.30983221530914307, 0.02360626496374607, 0.08163833618164062, 0.09442505985498428, 0.09393326193094254, 0.07229418307542801, 0.046228934079408646, 0.21786615252494812, 0.052130501717329025, 0.007868754677474499, 0.8116809725761414, 0.23714448511600494, 0.05875677987933159, 0.0444645918905735, 0.23132173717021942, 0.1656835377216339, 0.04340590909123421, 0.019056253135204315, 0.05822743847966194, 0.10639741271734238, 0.03599514439702034, 0.04973204806447029, 0.04973204806447029, 0.8454448580741882, 0.04973204806447029, 0.8809981346130371, 0.030379245057702065, 0.030379245057702065, 0.030379245057702065, 0.030379245057702065, 0.2152310013771057, 0.11292984336614609, 0.08237235993146896, 0.06377214938402176, 0.05712921544909477, 0.04915769770741463, 0.06775790452957153, 0.2750173807144165, 0.04782911017537117, 0.030557487159967422, 0.33796754479408264, 0.06695078313350677, 0.06695078313350677, 0.07123562693595886, 0.057309869676828384, 0.16014626622200012, 0.06695078313350677, 0.12961670756340027, 0.024102281779050827, 0.01821061223745346, 0.015151921659708023, 0.030303843319416046, 0.0075759608298540115, 0.6212287545204163, 0.11363941431045532, 0.015151921659708023, 0.015151921659708023, 0.030303843319416046, 0.1363672912120819, 0.015151921659708023, 0.958629310131073, 0.1576634794473648, 0.06306538730859756, 0.060639798641204834, 0.06549098342657089, 0.026681510731577873, 0.009702367708086967, 0.04608624428510666, 0.07519334554672241, 0.4366065263748169, 0.060639798641204834, 0.8611742258071899, 0.07785197347402573, 0.009159056469798088, 0.0732724517583847, 0.004579528234899044, 0.6960882544517517, 0.020607875660061836, 0.03663622587919235, 0.06869292259216309, 0.009159056469798088, 0.006869291886687279, 0.22497467696666718, 0.05994135141372681, 0.07239669561386108, 0.042036790400743484, 0.06694748252630234, 0.2117408812046051, 0.15647028386592865, 0.08407358080148697, 0.03970141336321831, 0.042036790400743484, 0.05205824598670006, 0.9370483756065369, 0.05345280095934868, 0.014254080131649971, 0.09621503949165344, 0.04988928139209747, 0.014254080131649971, 0.4775117039680481, 0.08196096122264862, 0.014254080131649971, 0.04988928139209747, 0.15679489076137543, 0.017616640776395798, 0.017616640776395798, 0.017616640776395798, 0.05284992232918739, 0.8808320164680481, 0.018179558217525482, 0.018179558217525482, 0.018179558217525482, 0.018179558217525482, 0.05453867092728615, 0.8726187348365784, 0.15295091271400452, 0.019442914053797722, 0.07258687913417816, 0.12573084235191345, 0.3136790096759796, 0.04277440905570984, 0.05444015562534332, 0.07647545635700226, 0.13091561198234558, 0.010369554162025452, 0.05828402563929558, 0.05915393680334091, 0.0922105461359024, 0.05654420331120491, 0.06611322611570358, 0.38015103340148926, 0.10003975033760071, 0.057414114475250244, 0.042625632137060165, 0.08873090893030167, 0.21526923775672913, 0.11916056275367737, 0.1837058663368225, 0.08440539985895157, 0.11313160508871078, 0.03688303008675575, 0.08511468768119812, 0.10036440193653107, 0.025534406304359436, 0.03652838617563248, 0.1285923272371292, 0.004434218164533377, 0.03103952668607235, 0.019953981041908264, 0.05542772635817528, 0.04655928909778595, 0.08868435770273209, 0.028822416439652443, 0.008868436329066753, 0.5875338912010193, 0.3429698646068573, 0.17088742554187775, 0.04182559624314308, 0.10476315766572952, 0.04182559624314308, 0.023900339379906654, 0.0840495303273201, 0.13663028180599213, 0.02668871358036995, 0.026290373876690865, 0.8581237196922302, 0.034324951469898224, 0.034324951469898224, 0.034324951469898224, 0.007963329553604126, 0.031853318214416504, 0.08759663254022598, 0.007963329553604126, 0.007963329553604126, 0.7724429965019226, 0.023889990523457527, 0.007963329553604126, 0.023889990523457527, 0.015926659107208252, 0.6571547389030457, 0.01965322531759739, 0.027023185044527054, 0.04176310449838638, 0.06141633167862892, 0.08106955885887146, 0.03070816583931446, 0.04544808343052864, 0.017196573317050934, 0.02088155224919319, 0.018180103972554207, 0.018180103972554207, 0.018180103972554207, 0.05454031005501747, 0.8726449608802795, 0.13678832352161407, 0.015198702923953533, 0.015198702923953533, 0.015198702923953533, 0.714339017868042, 0.09119221568107605, 0.5645627379417419, 0.02082708291709423, 0.053555358201265335, 0.0662003755569458, 0.1621537208557129, 0.014876487664878368, 0.035703569650650024, 0.0379350446164608, 0.017851784825325012, 0.025290029123425484, 0.028764773160219193, 0.014382386580109596, 0.014382386580109596, 0.04314716160297394, 0.04314716160297394, 0.014382386580109596, 0.8341784477233887, 0.03744494169950485, 0.018722470849752426, 0.03744494169950485, 0.5008260607719421, 0.08893173187971115, 0.09829296916723251, 0.05616741254925728, 0.023403087630867958, 0.11233482509851456, 0.02808370627462864, 0.8455650210380554, 0.015373908914625645, 0.03074781782925129, 0.015373908914625645, 0.015373908914625645, 0.015373908914625645, 0.015373908914625645, 0.015373908914625645, 0.03074781782925129, 0.041598860174417496, 0.041598860174417496, 0.8319772481918335, 0.041598860174417496, 0.023639699444174767, 0.023639699444174767, 0.21275728940963745, 0.023639699444174767, 0.7091909646987915, 0.011263030581176281, 0.022526061162352562, 0.05631515383720398, 0.6870448589324951, 0.1013672798871994, 0.022526061162352562, 0.06757818162441254, 0.011263030581176281, 0.011263030581176281, 0.13065655529499054, 0.05806957930326462, 0.02903478965163231, 0.014517394825816154, 0.014517394825816154, 0.014517394825816154, 0.007258697412908077, 0.007258697412908077, 0.7113523483276367, 0.014517394825816154, 0.017085755243897438, 0.017085755243897438, 0.017085755243897438, 0.017085755243897438, 0.06834302097558975, 0.8713734745979309, 0.8817635774612427, 0.015745777636766434, 0.015745777636766434, 0.015745777636766434, 0.03149155527353287, 0.015745777636766434, 0.015745777636766434, 0.026087699458003044, 0.006521924864500761, 0.03260962665081024, 0.013043849729001522, 0.05217539891600609, 0.8478502631187439, 0.006521924864500761, 0.006521924864500761, 0.013043849729001522, 0.029171153903007507, 0.009723717346787453, 0.029171153903007507, 0.009723717346787453, 0.7778974175453186, 0.019447434693574905, 0.08751346170902252, 0.029171153903007507, 0.019447434693574905, 0.8328922986984253, 0.10411153733730316, 0.023810800164937973, 0.7143239974975586, 0.047621600329875946, 0.023810800164937973, 0.023810800164937973, 0.07143239676952362, 0.047621600329875946, 0.023810800164937973, 0.023810800164937973, 0.024990109726786613, 0.024990109726786613, 0.8496637344360352, 0.024990109726786613, 0.024990109726786613, 0.024990109726786613, 0.5879382491111755, 0.026460448279976845, 0.10584179311990738, 0.11745857447385788, 0.027751201763749123, 0.01677979715168476, 0.018715927377343178, 0.05743853375315666, 0.01419828925281763, 0.026460448279976845, 0.7920827865600586, 0.04160480201244354, 0.04160480201244354, 0.8737008571624756, 0.8771795034408569, 0.0056470781564712524, 0.01505887508392334, 0.013176515698432922, 0.011294156312942505, 0.028235390782356262, 0.00752943754196167, 0.02258831262588501, 0.01505887508392334, 0.0056470781564712524, 0.2451832890510559, 0.05738332122564316, 0.01043333113193512, 0.5790498852729797, 0.01564999669790268, 0.01043333113193512, 0.01043333113193512, 0.02086666226387024, 0.0260833278298378, 0.02086666226387024, 0.025276850908994675, 0.012638425454497337, 0.012638425454497337, 0.012638425454497337, 0.17693795263767242, 0.08846897631883621, 0.6066444516181946, 0.03791527822613716, 0.025276850908994675, 0.012638425454497337, 0.6516570448875427, 0.020983589813113213, 0.09559191018342972, 0.01865207962691784, 0.013989060185849667, 0.01865207962691784, 0.020983589813113213, 0.12939880788326263, 0.010491794906556606, 0.0221493449062109, 0.7733574509620667, 0.7937851548194885, 0.013130280189216137, 0.026260560378432274, 0.021485913544893265, 0.0202922523021698, 0.010742956772446632, 0.027454223483800888, 0.0608767569065094, 0.015517604537308216, 0.010742956772446632, 0.8722584247589111, 0.010637298226356506, 0.021274596452713013, 0.010637298226356506, 0.03191189467906952, 0.010637298226356506, 0.010637298226356506, 0.021274596452713013, 0.010637298226356506, 0.01409742422401905, 0.01409742422401905, 0.0281948484480381, 0.01409742422401905, 0.1409742385149002, 0.6484814882278442, 0.0281948484480381, 0.0281948484480381, 0.084584541618824, 0.03232463076710701, 0.021549753844738007, 0.2747593820095062, 0.07003670185804367, 0.255005419254303, 0.008979064412415028, 0.2873300611972809, 0.025141380727291107, 0.008979064412415028, 0.016162315383553505, 0.02436218596994877, 0.02436218596994877, 0.8283143639564514, 0.02436218596994877, 0.04872437193989754, 0.02436218596994877, 0.02436218596994877, 0.9397144317626953, 0.08679188787937164, 0.03550577163696289, 0.07101154327392578, 0.02761559933423996, 0.019725428894162178, 0.49708080291748047, 0.11046239733695984, 0.023670513182878494, 0.07495662569999695, 0.059176284819841385, 0.047329533845186234, 0.8046020865440369, 0.047329533845186234, 0.047329533845186234, 0.047329533845186234, 0.8509478569030762, 0.0895734578371048, 0.900818943977356, 0.06906794756650925, 0.8978832960128784, 0.049615632742643356, 0.09940002858638763, 0.10463161021471024, 0.026326661929488182, 0.05957251042127609, 0.385280579328537, 0.07762990146875381, 0.09011819213628769, 0.08674297481775284, 0.020588800311088562, 0.03881550580263138, 0.8927566409111023, 0.03881550580263138, 0.04284866899251938, 0.8569733500480652, 0.04284866899251938, 0.4067308306694031, 0.05583653226494789, 0.09333460032939911, 0.17161522805690765, 0.06048957630991936, 0.015875091776251793, 0.041056275367736816, 0.10127214342355728, 0.04187740013003349, 0.011769465170800686, 0.013525770977139473, 0.04057731479406357, 0.013525770977139473, 0.013525770977139473, 0.013525770977139473, 0.10820616781711578, 0.04057731479406357, 0.7303916215896606, 0.027051541954278946, 0.05378011241555214, 0.8604817986488342, 0.05378011241555214, 0.029247786849737167, 0.029247786849737167, 0.8189380764961243, 0.029247786849737167, 0.029247786849737167, 0.029247786849737167, 0.058495573699474335, 0.4447227120399475, 0.038324400782585144, 0.12819156050682068, 0.05260733515024185, 0.041340671479701996, 0.03424356132745743, 0.06174486503005028, 0.12579628825187683, 0.056155890226364136, 0.016855638474225998, 0.878920316696167, 0.012583600357174873, 0.03775079920887947, 0.012583600357174873, 0.012583600357174873, 0.012583600357174873, 0.12583599984645844, 0.025167200714349747, 0.7172651886940002, 0.025167200714349747, 0.12151368707418442, 0.03738882392644882, 0.01869441196322441, 0.059198975563049316, 0.5265592932701111, 0.07166191935539246, 0.059198975563049316, 0.05608323961496353, 0.02492588385939598, 0.02492588385939598, 0.019032791256904602, 0.038065582513809204, 0.038065582513809204, 0.019032791256904602, 0.7993772029876709, 0.019032791256904602, 0.019032791256904602, 0.019032791256904602, 0.019032791256904602, 0.019032791256904602, 0.01354219950735569, 0.04062660038471222, 0.01354219950735569, 0.01354219950735569, 0.01354219950735569, 0.09479539841413498, 0.04062660038471222, 0.7312787771224976, 0.02708439901471138, 0.45114022493362427, 0.017048902809619904, 0.02491762861609459, 0.028851989656686783, 0.009180178865790367, 0.013114540837705135, 0.17180049419403076, 0.013114540837705135, 0.0039343624375760555, 0.2662251889705658, 0.018179308623075485, 0.018179308623075485, 0.018179308623075485, 0.03635861724615097, 0.8907860517501831, 0.12054397165775299, 0.05075535550713539, 0.11419954895973206, 0.012688838876783848, 0.0697886124253273, 0.07613303512334824, 0.01903325878083706, 0.5138979554176331, 0.01903325878083706, 0.006344419438391924, 0.8819404244422913, 0.023143220692873, 0.007714407052844763, 0.7868695259094238, 0.03085762821137905, 0.015428814105689526, 0.046286441385746, 0.03085762821137905, 0.023143220692873, 0.03085762821137905, 0.05174797773361206, 0.879715621471405, 0.14089243113994598, 0.5123361349105835, 0.012808403000235558, 0.25616806745529175, 0.01921260543167591, 0.012808403000235558, 0.01921260543167591, 0.012808403000235558, 0.012808403000235558, 0.006404201500117779, 0.14135034382343292, 0.034901317209005356, 0.03839145228266716, 0.09423355758190155, 0.10993915051221848, 0.0680575743317604, 0.03839145228266716, 0.03839145228266716, 0.4292862117290497, 0.008725329302251339, 0.018185345456004143, 0.018185345456004143, 0.018185345456004143, 0.05455603450536728, 0.8910818696022034, 0.036480776965618134, 0.7478559017181396, 0.12768271565437317, 0.018240388482809067, 0.036480776965618134, 0.018240388482809067, 0.6310098767280579, 0.06103517860174179, 0.04882814362645149, 0.03568210452795029, 0.06009617820382118, 0.014085041359066963, 0.032865095883607864, 0.08263224363327026, 0.0187800545245409, 0.015024044550955296, 0.0561026968061924, 0.8415404558181763, 0.0561026968061924, 0.0234721377491951, 0.8684691190719604, 0.01173606887459755, 0.0234721377491951, 0.01173606887459755, 0.01173606887459755, 0.01173606887459755, 0.0234721377491951, 0.0467195138335228, 0.7942317128181458, 0.0467195138335228, 0.7854470610618591, 0.017289714887738228, 0.0222296342253685, 0.02469959296286106, 0.017289714887738228, 0.00987983774393797, 0.02716955356299877, 0.07162882387638092, 0.00987983774393797, 0.00987983774393797, 0.08770658820867538, 0.14970606565475464, 0.1542426198720932, 0.02721928432583809, 0.08165785670280457, 0.20868118107318878, 0.11190150678157806, 0.061243392527103424, 0.10434059053659439, 0.012853551656007767, 0.04617900773882866, 0.8312221169471741, 0.04617900773882866, 0.04617900773882866, 0.010848618112504482, 0.03254585713148117, 0.010848618112504482, 0.03254585713148117, 0.8895867466926575, 0.010848618112504482, 0.04018252715468407, 0.04018252715468407, 0.8438330888748169, 0.04018252715468407, 0.47666826844215393, 0.06531145423650742, 0.07163191586732864, 0.07057850807905197, 0.04898359254002571, 0.04424324259161949, 0.03634266555309296, 0.09796718508005142, 0.07584556192159653, 0.012114221230149269, 0.0568077452480793, 0.8521161675453186, 0.0568077452480793, 0.13878588378429413, 0.019826553761959076, 0.04626195877790451, 0.76662677526474, 0.006608851253986359, 0.019826553761959076, 0.8735285997390747, 0.17855802178382874, 0.014284641481935978, 0.007142320740967989, 0.6713781356811523, 0.007142320740967989, 0.021426962688565254, 0.03571160510182381, 0.05713856592774391, 0.007142320740967989, 0.007142320740967989, 0.0720110535621643, 0.12665101885795593, 0.15539227426052094, 0.05432412773370743, 0.06822099536657333, 0.08369705826044083, 0.12823019921779633, 0.04232228547334671, 0.21192726492881775, 0.05716666951775551, 0.8628663420677185, 0.26960524916648865, 0.14256612956523895, 0.07057729363441467, 0.02823091670870781, 0.11080634593963623, 0.057873379439115524, 0.19973373413085938, 0.04940410330891609, 0.04658101126551628, 0.024702051654458046, 0.031778477132320404, 0.039723094552755356, 0.06752926111221313, 0.0039723096415400505, 0.651458740234375, 0.019861547276377678, 0.015889238566160202, 0.14300313591957092, 0.007944619283080101, 0.019861547276377678, 0.9364660382270813, 0.046823300421237946, 0.02548271045088768, 0.029123099520802498, 0.02184232324361801, 0.0036403874401003122, 0.0072807748802006245, 0.02184232324361801, 0.029123099520802498, 0.0036403874401003122, 0.7244370579719543, 0.138334721326828, 0.03045019507408142, 0.8526054620742798, 0.03045019507408142, 0.03045019507408142, 0.03045019507408142, 0.04752963036298752, 0.03168642148375511, 0.015843210741877556, 0.015843210741877556, 0.8396901488304138, 0.015843210741877556, 0.015843210741877556, 0.015843210741877556, 0.32267144322395325, 0.11055038869380951, 0.052681051194667816, 0.1646282821893692, 0.03851304203271866, 0.010576119646430016, 0.07024139910936356, 0.06585131585597992, 0.12092696130275726, 0.043102677911520004, 0.10040183365345001, 0.050200916826725006, 0.01673363894224167, 0.8199483156204224, 0.8490645289421082, 0.828250527381897, 0.3267001211643219, 0.22287997603416443, 0.049528881907463074, 0.04810016602277756, 0.057148709893226624, 0.01571589522063732, 0.04381401091814041, 0.09715280681848526, 0.028574354946613312, 0.11096374690532684, 0.8959892392158508, 0.04715732857584953, 0.188737690448761, 0.29260972142219543, 0.05613509938120842, 0.04950496926903725, 0.10785011202096939, 0.03712872788310051, 0.08353963494300842, 0.07735151052474976, 0.041106805205345154, 0.06630129367113113, 0.7947810888290405, 0.027838489040732384, 0.07887571305036545, 0.009279496036469936, 0.03247823566198349, 0.004639748018234968, 0.19022966921329498, 0.43613630533218384, 0.027838489040732384, 0.167030930519104, 0.03247823566198349, 0.06554947048425674, 0.8521431088447571, 0.047296732664108276, 0.011824183166027069, 0.7212751507759094, 0.011824183166027069, 0.03547254949808121, 0.011824183166027069, 0.023648366332054138, 0.07094509899616241, 0.011824183166027069, 0.05912091210484505, 0.878944456577301, 0.28222694993019104, 0.22983752191066742, 0.05661439150571823, 0.04478451609611511, 0.07351420819759369, 0.03210965543985367, 0.07182422280311584, 0.09294899553060532, 0.043094534426927567, 0.07351420819759369, 0.19350916147232056, 0.14466218650341034, 0.07702791690826416, 0.06199808046221733, 0.16720694303512573, 0.035695865750312805, 0.15906578302383423, 0.0776541605591774, 0.03444337844848633, 0.050099458545446396, 0.013175174593925476, 0.03952552378177643, 0.013175174593925476, 0.013175174593925476, 0.013175174593925476, 0.11857657134532928, 0.03952552378177643, 0.7114594578742981, 0.026350349187850952, 0.053769271820783615, 0.053769271820783615, 0.8065391182899475, 0.05198753625154495, 0.0148535817861557, 0.8392273783683777, 0.00742679089307785, 0.02228037267923355, 0.02228037267923355, 0.0148535817861557, 0.00742679089307785, 0.00742679089307785, 0.00742679089307785, 0.8689469695091248, 0.02715459279716015, 0.013577296398580074, 0.02715459279716015, 0.04073188826441765, 0.013577296398580074, 0.8890520334243774, 0.053919196128845215, 0.013479799032211304, 0.754868745803833, 0.013479799032211304, 0.026959598064422607, 0.013479799032211304, 0.026959598064422607, 0.06739899516105652, 0.013479799032211304, 0.026959598064422607, 0.023626772686839104, 0.8269370198249817, 0.023626772686839104, 0.023626772686839104, 0.04725354537367821, 0.023626772686839104, 0.023626772686839104, 0.8980637192726135, 0.044763240963220596, 0.011190810240805149, 0.8505015969276428, 0.011190810240805149, 0.03357243165373802, 0.011190810240805149, 0.011190810240805149, 0.011190810240805149, 0.011190810240805149, 0.2780395746231079, 0.07218335568904877, 0.06416298449039459, 0.013367287814617157, 0.05346915125846863, 0.032081492245197296, 0.029408033937215805, 0.026734575629234314, 0.42240628600120544, 0.00534691521897912, 0.022088656201958656, 0.04733283445239067, 0.6847483515739441, 0.0599549226462841, 0.056799400597810745, 0.07257701456546783, 0.025244178250432014, 0.006311044562608004, 0.01577761210501194, 0.009466567076742649, 0.022433510050177574, 0.022433510050177574, 0.8524733781814575, 0.022433510050177574, 0.022433510050177574, 0.022433510050177574, 0.1732560098171234, 0.07826206088066101, 0.13979223370552063, 0.18944816291332245, 0.06692755967378616, 0.08204023540019989, 0.06368912756443024, 0.11442453414201736, 0.018351104110479355, 0.07340441644191742, 0.02331175096333027, 0.005827937740832567, 0.1748381406068802, 0.01748381368815899, 0.005827937740832567, 0.7051804661750793, 0.03496762737631798, 0.011655875481665134, 0.01748381368815899, 0.04668056219816208, 0.02334028109908104, 0.07002083957195282, 0.07002083957195282, 0.02334028109908104, 0.7235487103462219, 0.02334028109908104, 0.02334028109908104, 0.02334028109908104, 0.829315721988678, 0.051832232624292374, 0.051832232624292374, 0.025112727656960487, 0.05650363489985466, 0.025112727656960487, 0.006278181914240122, 0.7973290681838989, 0.012556363828480244, 0.025112727656960487, 0.037669092416763306, 0.012556363828480244, 0.029079990461468697, 0.029079990461468697, 0.009693330153822899, 0.8433197140693665, 0.029079990461468697, 0.029079990461468697, 0.019386660307645798, 0.8540878891944885, 0.051706913858652115, 0.051706913858652115, 0.8790175318717957, 0.7938543558120728, 0.8703148365020752, 0.9887887835502625, 0.9272871017456055, 0.8520549535751343, 0.039165861904621124, 0.039165861904621124, 0.06527643650770187, 0.013055287301540375, 0.8224830627441406, 0.034497469663619995, 0.034497469663619995, 0.034497469663619995, 0.8969342112541199, 0.04205502197146416, 0.04205502197146416, 0.014018340036273003, 0.014018340036273003, 0.8831554651260376, 0.06533236056566238, 0.06533236056566238, 0.8166545629501343, 0.09776874631643295, 0.06517916172742844, 0.8147395849227905, 0.07389800250530243, 0.07389800250530243, 0.8128780126571655, 0.03201434761285782, 0.03201434761285782, 0.01600717380642891, 0.01600717380642891, 0.8964017629623413, 0.04418148845434189, 0.04418148845434189, 0.04418148845434189, 0.8394483327865601, 0.028040872886776924, 0.04206131026148796, 0.014020436443388462, 0.014020436443388462, 0.8832874894142151, 0.029399806633591652, 0.04409971088171005, 0.014699903316795826, 0.029399806633591652, 0.8672943115234375, 0.04415246099233627, 0.02943497523665428, 0.01471748761832714, 0.01471748761832714, 0.8830492496490479, 0.06083659455180168, 0.040557730942964554, 0.020278865471482277, 0.020278865471482277, 0.8517123460769653, 0.04336139187216759, 0.04336139187216759, 0.04336139187216759, 0.8672277927398682, 0.015989530831575394, 0.03197906166315079, 0.015989530831575394, 0.03197906166315079, 0.8794242143630981, 0.03963819146156311, 0.03963819146156311, 0.8324020504951477, 0.03963819146156311, 0.03963819146156311, 0.8792485594749451, 0.8576968312263489, 0.017504017800092697, 0.035008035600185394, 0.017504017800092697, 0.017504017800092697, 0.017504017800092697, 0.017504017800092697, 0.017504017800092697, 0.017504017800092697, 0.04526042193174362, 0.04526042193174362, 0.8599480390548706, 0.7352948188781738, 0.11029422283172607, 0.018382370471954346, 0.11029422283172607, 0.018382370471954346, 0.018382370471954346, 0.18732139468193054, 0.733675479888916, 0.01561011653393507, 0.01561011653393507, 0.01561011653393507, 0.03122023306787014, 0.022710736840963364, 0.704032838344574, 0.022710736840963364, 0.022710736840963364, 0.15897515416145325, 0.022710736840963364, 0.022710736840963364, 0.10349828749895096, 0.13123126327991486, 0.03659608215093613, 0.009434927254915237, 0.002859068801626563, 0.07147672027349472, 0.6121266484260559, 0.005146323703229427, 0.006575858220458031, 0.020871201530098915, 0.8654389381408691, 0.05769592896103859, 0.17339543998241425, 0.08669771999120712, 0.03612405061721802, 0.0072248103097081184, 0.0072248103097081184, 0.02167442999780178, 0.6285584568977356, 0.014449620619416237, 0.0072248103097081184, 0.014449620619416237, 0.025839729234576225, 0.025839729234576225, 0.8785507678985596, 0.025839729234576225, 0.025839729234576225, 0.8741858601570129, 0.017369186505675316, 0.017369186505675316, 0.017369186505675316, 0.0521075576543808, 0.8858284950256348, 0.1496734917163849, 0.05363300070166588, 0.03866565227508545, 0.024945581331849098, 0.45775142312049866, 0.10851328074932098, 0.02369830198585987, 0.09728776663541794, 0.02868741936981678, 0.014967349357903004, 0.05090184137225151, 0.01566210575401783, 0.02740868367254734, 0.6108220815658569, 0.1174657866358757, 0.02740868367254734, 0.019577631726861, 0.03523973748087883, 0.078310526907444, 0.011746578849852085, 0.04821045324206352, 0.06355014443397522, 0.05040183663368225, 0.032870762050151825, 0.008765536360442638, 0.10299506038427353, 0.032870762050151825, 0.08108121156692505, 0.2476264089345932, 0.3330903947353363, 0.4993552565574646, 0.029000667855143547, 0.09878352284431458, 0.07748615741729736, 0.05211057513952255, 0.022656772285699844, 0.05120430514216423, 0.12234657257795334, 0.02537558414041996, 0.022203637287020683, 0.21647010743618011, 0.05332666635513306, 0.14009547233581543, 0.13828779757022858, 0.11162446439266205, 0.1283455342054367, 0.0623650848865509, 0.0659804493188858, 0.0695958212018013, 0.014009548351168633, 0.8534916043281555, 0.40944811701774597, 0.04879433661699295, 0.025457914918661118, 0.3776257336139679, 0.021214928478002548, 0.019093435257673264, 0.025457914918661118, 0.027579408138990402, 0.016971943899989128, 0.029700901359319687, 0.08038591593503952, 0.8842450976371765, 0.1154009997844696, 0.04805222153663635, 0.1112390011548996, 0.10934717953205109, 0.18691179156303406, 0.09572607278823853, 0.10215826332569122, 0.09913135319948196, 0.09496934711933136, 0.037079665809869766, 0.037758588790893555, 0.8306889533996582, 0.07551717758178711, 0.037758588790893555, 0.7420343160629272, 0.010754120536148548, 0.014338827691972256, 0.04301648214459419, 0.06094001978635788, 0.05735531076788902, 0.021508241072297096, 0.014338827691972256, 0.021508241072297096, 0.010754120536148548, 0.859846293926239, 0.028661541640758514, 0.028661541640758514, 0.028661541640758514, 0.028661541640758514, 0.028661541640758514, 0.8325018286705017, 0.03681003674864769, 0.03943932428956032, 0.05258576571941376, 0.018405018374323845, 0.08676651120185852, 0.567926287651062, 0.042068611830472946, 0.042068611830472946, 0.06310292333364487, 0.055215053260326385, 0.060160424560308456, 0.048128340393304825, 0.048128340393304825, 0.0782085508108139, 0.018048128113150597, 0.018048128113150597, 0.018048128113150597, 0.03609625622630119, 0.6737967729568481, 0.006016042549163103, 0.06265783309936523, 0.03732806816697121, 0.09198702871799469, 0.059991538524627686, 0.08398815244436264, 0.06532412022352219, 0.05865839496254921, 0.40127673745155334, 0.03599492460489273, 0.10265219211578369, 0.036447618156671524, 0.009111904539167881, 0.009111904539167881, 0.8382952213287354, 0.036447618156671524, 0.018223809078335762, 0.036447618156671524, 0.009111904539167881, 0.009111904539167881, 0.018200837075710297, 0.018200837075710297, 0.018200837075710297, 0.05460251122713089, 0.8918409943580627, 0.017152559012174606, 0.017152559012174606, 0.017152559012174606, 0.8919330835342407, 0.017152559012174606, 0.017152559012174606, 0.03430511802434921, 0.8770098686218262, 0.0282906424254179, 0.0282906424254179, 0.0282906424254179, 0.5789790749549866, 0.040449220687150955, 0.041242342442274094, 0.13958947360515594, 0.059484150260686874, 0.027759268879890442, 0.01824180595576763, 0.06503600627183914, 0.016655562445521355, 0.011896830052137375, 0.657548725605011, 0.045824743807315826, 0.04146048426628113, 0.089467354118824, 0.0341867133975029, 0.01745704561471939, 0.024003436788916588, 0.0596449039876461, 0.020366553217172623, 0.009455899707973003, 0.025621769949793816, 0.017279798164963722, 0.3104405105113983, 0.08639898896217346, 0.45106232166290283, 0.017875652760267258, 0.022046638652682304, 0.025621769949793816, 0.020854927599430084, 0.02383420430123806, 0.050308648496866226, 0.8804013133049011, 0.025154324248433113, 0.07670538872480392, 0.04774519056081772, 0.07044372707605362, 0.0555722713470459, 0.040700819343328476, 0.30995237827301025, 0.15106265246868134, 0.06026851758360863, 0.10801371186971664, 0.07983621954917908, 0.046032533049583435, 0.046032533049583435, 0.8285856246948242, 0.1008240357041359, 0.04223709553480148, 0.10218652337789536, 0.04223709553480148, 0.023162279278039932, 0.3719589412212372, 0.1771233081817627, 0.03542466089129448, 0.05041201785206795, 0.05586196482181549, 0.16242504119873047, 0.08422038704156876, 0.01203148439526558, 0.5534482598304749, 0.01804722659289837, 0.01804722659289837, 0.060157421976327896, 0.04812593758106232, 0.030078710988163948, 0.01203148439526558, 0.025362655520439148, 0.027898920699954033, 0.14456713199615479, 0.015217592939734459, 0.017753858119249344, 0.5021805763244629, 0.08116049319505692, 0.017753858119249344, 0.07608796656131744, 0.09384182095527649, 0.8985019326210022, 0.9047353863716125, 0.08500999212265015, 0.09459758549928665, 0.1955869048833847, 0.028123605996370316, 0.05432969331741333, 0.1847209632396698, 0.2019786238670349, 0.05305134877562523, 0.027484433725476265, 0.07542239874601364, 0.23042471706867218, 0.06024175509810448, 0.15286345779895782, 0.01581346057355404, 0.03539203107357025, 0.06475988775491714, 0.061747800558805466, 0.10090494155883789, 0.06777197867631912, 0.2115991711616516, 0.09050367772579193, 0.9050368070602417, 0.9261217713356018, 0.8791099786758423, 0.878942608833313, 0.054468292742967606, 0.12010957300662994, 0.11033321171998978, 0.032122328877449036, 0.06424465775489807, 0.34217262268066406, 0.1382656693458557, 0.02653583511710167, 0.07821088284254074, 0.03491557389497757, 0.08066432178020477, 0.11044161766767502, 0.09855865687131882, 0.033132486045360565, 0.018593335524201393, 0.14930588006973267, 0.04207965359091759, 0.15755406022071838, 0.11253861337900162, 0.19711731374263763, 0.7898633480072021, 0.05265755578875542, 0.018194273114204407, 0.018194273114204407, 0.05458281934261322, 0.8733251094818115, 0.9347231388092041, 0.5265045166015625, 0.029943382367491722, 0.1135353296995163, 0.12414027750492096, 0.029943382367491722, 0.03742922842502594, 0.014971691183745861, 0.06924407184123993, 0.016219332814216614, 0.03805305063724518, 0.0441177636384964, 0.0441177636384964, 0.7941197156906128, 0.0441177636384964, 0.038313839584589005, 0.038313839584589005, 0.8429044485092163, 0.038313839584589005, 0.038313839584589005, 0.8101993799209595, 0.06298571825027466, 0.13085061311721802, 0.0306057371199131, 0.03725915774703026, 0.052340246737003326, 0.12597143650054932, 0.1579078584909439, 0.046130385249853134, 0.2936376631259918, 0.06209859624505043, 0.07886216789484024, 0.8674838542938232, 0.04579777270555496, 0.8701576590538025, 0.8432090878486633, 0.02907617576420307, 0.05815235152840614, 0.894862949848175, 0.04709804803133011, 0.8772269487380981, 0.03655112534761429, 0.03655112534761429, 0.840335488319397, 0.07639414072036743, 0.07006614655256271, 0.051715485751628876, 0.1367958039045334, 0.008341207168996334, 0.0266918633133173, 0.12178163230419159, 0.06672965735197067, 0.04337427765130997, 0.030028346925973892, 0.4420839846134186, 0.830208957195282, 0.028491584584116936, 0.8832390904426575, 0.05698316916823387, 0.028491584584116936, 0.13489863276481628, 0.2879631519317627, 0.09419355541467667, 0.047769587486982346, 0.09419355541467667, 0.038686636835336685, 0.09856683015823364, 0.06896314024925232, 0.033640556037425995, 0.10125806927680969, 0.9601616859436035, 0.8332440257072449, 0.8863641619682312, 0.05149385705590248, 0.05149385705590248, 0.05149385705590248, 0.05149385705590248, 0.8239017128944397, 0.122541144490242, 0.037552930414676666, 0.06719998270273209, 0.08399997651576996, 0.07312939316034317, 0.28856462240219116, 0.13538819551467896, 0.0662117451429367, 0.049411751329898834, 0.07510586082935333, 0.05809352546930313, 0.10408423840999603, 0.014523381367325783, 0.5276828408241272, 0.1307104378938675, 0.014523381367325783, 0.03146732598543167, 0.029046762734651566, 0.07745803892612457, 0.01694394461810589, 0.049944330006837845, 0.8490536212921143, 0.049944330006837845, 0.9112098813056946, 0.1300482451915741, 0.010837352834641933, 0.03793073445558548, 0.04876808822154999, 0.02709338255226612, 0.06502412259578705, 0.059605441987514496, 0.07586146891117096, 0.005418676417320967, 0.5418676733970642, 0.9332918524742126, 0.07845990359783173, 0.258215069770813, 0.09895316511392593, 0.05562455952167511, 0.09251242876052856, 0.04625621438026428, 0.14813698828220367, 0.08899929374456406, 0.04274308308959007, 0.09134138375520706, 0.01737358421087265, 0.01737358421087265, 0.01737358421087265, 0.05212075263261795, 0.8860527873039246, 0.8494332432746887, 0.01779688522219658, 0.01779688522219658, 0.01779688522219658, 0.053390659391880035, 0.07118754088878632, 0.7830629944801331, 0.01779688522219658, 0.01779688522219658, 0.2012413591146469, 0.2599693834781647, 0.08026163280010223, 0.07752098888158798, 0.06577538698911667, 0.05716194212436676, 0.10257828235626221, 0.05755346268415451, 0.052463699132204056, 0.04619937762618065, 0.01819598115980625, 0.01819598115980625, 0.054587945342063904, 0.8734071254730225, 0.018161660060286522, 0.018161660060286522, 0.018161660060286522, 0.018161660060286522, 0.054484978318214417, 0.8717596530914307, 0.018184024840593338, 0.018184024840593338, 0.018184024840593338, 0.054552074521780014, 0.8728331923484802, 0.8973655700683594, 0.0527862086892128, 0.03601301833987236, 0.01964346505701542, 0.08184777200222015, 0.029465196654200554, 0.03273910656571388, 0.4943605363368988, 0.13750424981117249, 0.013095643371343613, 0.029465196654200554, 0.13095642626285553, 0.8479738831520081, 0.05653159320354462, 0.05653159320354462, 0.11352857202291489, 0.06578291207551956, 0.014854205772280693, 0.5029209852218628, 0.07851509004831314, 0.016976235434412956, 0.09655233472585678, 0.02546435222029686, 0.061538852751255035, 0.023342322558164597, 0.14093849062919617, 0.031319666653871536, 0.01850707456469536, 0.11531331390142441, 0.4868784248828888, 0.01708345301449299, 0.052673980593681335, 0.08968812972307205, 0.014236210845410824, 0.031319666653871536, 0.24530592560768127, 0.227918341755867, 0.10667518526315689, 0.07753922790288925, 0.0822385773062706, 0.044173866510391235, 0.07988890260457993, 0.0728398859500885, 0.03289543092250824, 0.030545758083462715, 0.7417702674865723, 0.029888179153203964, 0.050266481935977936, 0.021736856549978256, 0.0448322668671608, 0.012226982042193413, 0.02581251785159111, 0.05162503570318222, 0.008151321671903133, 0.012226982042193413, 0.19212183356285095, 0.18465042114257812, 0.025616243481636047, 0.25402775406837463, 0.11634044349193573, 0.02241421304643154, 0.02988561801612377, 0.06937732547521591, 0.09285888075828552, 0.012808121740818024, 0.019134556874632835, 0.5434213876724243, 0.1071535125374794, 0.0535767562687397, 0.022961467504501343, 0.04209602251648903, 0.07271131128072739, 0.007653822656720877, 0.030615290626883507, 0.09567277878522873, 0.16683268547058105, 0.052795153111219406, 0.06828173249959946, 0.061946313828229904, 0.08306437730789185, 0.22314751148223877, 0.11614933609962463, 0.04997941106557846, 0.10840604454278946, 0.06898566335439682, 0.07362956553697586, 0.14725913107395172, 0.07362956553697586, 0.03436046466231346, 0.07117524743080139, 0.13007889688014984, 0.3436046540737152, 0.0392691045999527, 0.03436046466231346, 0.05399501696228981, 0.054769061505794525, 0.8763049840927124, 0.02870892360806465, 0.832558810710907, 0.02870892360806465, 0.02870892360806465, 0.02870892360806465, 0.02870892360806465, 0.8667849898338318, 0.05417406186461449, 0.852292001247406, 0.06499757617712021, 0.06499757617712021, 0.05633123219013214, 0.002166585996747017, 0.006499757524579763, 0.012999515049159527, 0.02816561609506607, 0.47448232769966125, 0.017332687973976135, 0.27298983931541443, 0.08408050984144211, 0.03880639001727104, 0.1752755343914032, 0.04333380237221718, 0.061443451792001724, 0.18691745400428772, 0.15845942497253418, 0.0892546996474266, 0.08990146964788437, 0.07179182022809982, 0.35101428627967834, 0.0729428380727768, 0.12422499060630798, 0.08923464268445969, 0.18346790969371796, 0.015551265329122543, 0.050171345472335815, 0.05442942678928375, 0.033139005303382874, 0.025548506528139114, 0.794243574142456, 0.06388723105192184, 0.03194361552596092, 0.8624776601791382, 0.14406293630599976, 0.050335243344306946, 0.118027463555336, 0.0711636170744896, 0.048599544912576675, 0.043392449617385864, 0.03818535804748535, 0.15100573003292084, 0.3124256432056427, 0.026035470888018608, 0.03247612342238426, 0.039693038910627365, 0.036084581166505814, 0.02165074832737446, 0.02886766381561756, 0.003608457976952195, 0.01443383190780878, 0.8191199898719788, 0.03046424873173237, 0.03046424873173237, 0.09139274060726166, 0.7616062164306641, 0.03046424873173237, 0.03046424873173237, 0.13815052807331085, 0.7943655252456665, 0.052109215408563614, 0.052109215408563614, 0.8337474465370178, 0.8671500086784363, 0.009010967798531055, 0.01802193559706211, 0.0901096761226654, 0.01802193559706211, 0.054065804928541183, 0.7118664383888245, 0.03604387119412422, 0.027032902464270592, 0.009010967798531055, 0.009010967798531055, 0.03935353457927704, 0.06718896329402924, 0.16413304209709167, 0.36713969707489014, 0.07486770302057266, 0.027835428714752197, 0.05999014526605606, 0.05471101403236389, 0.0993436798453331, 0.044632669538259506, 0.017380189150571823, 0.017380189150571823, 0.06952075660228729, 0.8863896131515503, 0.026882510632276535, 0.013441255316138268, 0.013441255316138268, 0.7527102828025818, 0.013441255316138268, 0.013441255316138268, 0.1478538066148758, 0.013441255316138268, 0.013441255316138268, 0.059408750385046005, 0.06826181709766388, 0.04007178544998169, 0.019103990867733955, 0.06802884489297867, 0.06942670047283173, 0.08876366168260574, 0.31195420026779175, 0.030985740944743156, 0.24369236826896667, 0.021027090027928352, 0.10513544827699661, 0.7990294098854065, 0.021027090027928352, 0.021027090027928352, 0.06952836364507675, 0.035374078899621964, 0.05489081144332886, 0.048791833221912384, 0.07440754771232605, 0.42448896169662476, 0.08050652593374252, 0.028055304661393166, 0.0817263200879097, 0.10246285051107407, 0.04588538780808449, 0.8718223571777344, 0.859153151512146, 0.053697071969509125, 0.03468220680952072, 0.01156073622405529, 0.11946093291044235, 0.01156073622405529, 0.08092515170574188, 0.0655108392238617, 0.21580040454864502, 0.01156073622405529, 0.019267892464995384, 0.4277472198009491, 0.049928296357393265, 0.10146718472242355, 0.08052951097488403, 0.018521787598729134, 0.01691119745373726, 0.23675677180290222, 0.2287038117647171, 0.04187534749507904, 0.1763596385717392, 0.04831770807504654, 0.0365271158516407, 0.024351410567760468, 0.767069399356842, 0.012175705283880234, 0.0365271158516407, 0.09740564227104187, 0.012175705283880234, 0.012175705283880234, 0.012175705283880234, 0.012175705283880234, 0.6510762572288513, 0.04745886102318764, 0.028673062101006508, 0.06871647387742996, 0.062289755791425705, 0.026695609092712402, 0.02323506772518158, 0.048447586596012115, 0.014830893836915493, 0.02817869931459427, 0.03052099421620369, 0.8240668773651123, 0.03052099421620369, 0.09156298637390137, 0.05473898723721504, 0.8758237957954407, 0.05479593947529793, 0.8767350316047668, 0.8709844946861267, 0.8192605376243591, 0.016719602048397064, 0.00557320099323988, 0.01114640198647976, 0.07245161384344101, 0.016719602048397064, 0.00557320099323988, 0.02229280397295952, 0.016719602048397064, 0.01114640198647976, 0.8711079359054565, 0.04148133099079132, 0.02074066549539566, 0.02074066549539566, 0.02074066549539566, 0.034995343536138535, 0.26246505975723267, 0.058325570076704025, 0.01166511420160532, 0.01166511420160532, 0.034995343536138535, 0.5074324607849121, 0.04666045680642128, 0.029162785038352013, 0.00583255710080266, 0.04681536555290222, 0.04681536555290222, 0.7958612442016602, 0.04681536555290222, 0.8576648235321045, 0.01819007284939289, 0.01819007284939289, 0.01819007284939289, 0.05457022041082382, 0.8731235265731812, 0.14392304420471191, 0.11465055495500565, 0.08659776300191879, 0.049397315829992294, 0.03537091612815857, 0.06952214986085892, 0.07745011150836945, 0.3409024477005005, 0.0372004471719265, 0.045738253742456436, 0.17171865701675415, 0.14617373049259186, 0.06811979413032532, 0.03831738606095314, 0.049670685082674026, 0.015610786154866219, 0.18023362755775452, 0.08373057842254639, 0.02128743566572666, 0.22564682364463806, 0.028197938576340675, 0.028197938576340675, 0.14098969101905823, 0.7613443732261658, 0.028197938576340675, 0.21590323746204376, 0.044287845492362976, 0.011071961373090744, 0.625565767288208, 0.022143922746181488, 0.016607942059636116, 0.016607942059636116, 0.016607942059636116, 0.022143922746181488, 0.016607942059636116, 0.8862848281860352, 0.8141255378723145, 0.022304808720946312, 0.022304808720946312, 0.011152404360473156, 0.011152404360473156, 0.011152404360473156, 0.06691442430019379, 0.011152404360473156, 0.022304808720946312, 0.011152404360473156, 0.024515170603990555, 0.09806068241596222, 0.024515170603990555, 0.7844854593276978, 0.024515170603990555, 0.024515170603990555, 0.9024680256843567, 0.855289876461029, 0.9639425873756409, 0.96394944190979, 0.047201503068208694, 0.047201503068208694, 0.8496270179748535, 0.17703846096992493, 0.09128545969724655, 0.04149338975548744, 0.04149338975548744, 0.03596093878149986, 0.019363582134246826, 0.019363582134246826, 0.016597356647253036, 0.5228167176246643, 0.03596093878149986, 0.3476282060146332, 0.04553801193833351, 0.04168973118066788, 0.2308969646692276, 0.03399316594004631, 0.010262087918817997, 0.05131043866276741, 0.07824841886758804, 0.11929676681756973, 0.0404069684445858, 0.8498318791389465, 0.15561233460903168, 0.21714848279953003, 0.12339446693658829, 0.07152368128299713, 0.09697580337524414, 0.0512264221906662, 0.12854932248592377, 0.062180500477552414, 0.041561059653759, 0.05187078192830086, 0.8567256331443787, 0.8245658278465271, 0.0199491735547781, 0.013299448415637016, 0.006649724207818508, 0.026598896831274033, 0.013299448415637016, 0.0199491735547781, 0.05984751880168915, 0.013299448415637016, 0.006649724207818508, 0.3183095157146454, 0.11826786398887634, 0.13719072937965393, 0.07208707928657532, 0.08515286445617676, 0.05361476540565491, 0.06758163869380951, 0.09303738921880722, 0.034691907465457916, 0.020274490118026733, 0.02525949291884899, 0.02525949291884899, 0.8714525103569031, 0.012629746459424496, 0.012629746459424496, 0.02525949291884899, 0.012629746459424496, 0.012629746459424496, 0.012629746459424496, 0.012629746459424496, 0.5583540797233582, 0.061893023550510406, 0.06781895458698273, 0.05860084295272827, 0.07572019100189209, 0.020411528646945953, 0.06847738474607468, 0.04872429370880127, 0.01382716465741396, 0.026337457820773125, 0.8740288019180298, 0.8738128542900085, 0.09039410948753357, 0.8135469555854797, 0.0236399807035923, 0.8273993134498596, 0.0472799614071846, 0.0236399807035923, 0.0472799614071846, 0.04526370391249657, 0.8147466778755188, 0.04526370391249657, 0.04526370391249657, 0.04526370391249657, 0.02752278372645378, 0.0458713062107563, 0.7889864444732666, 0.00917426124215126, 0.03669704496860504, 0.02752278372645378, 0.00917426124215126, 0.0458713062107563, 0.00917426124215126, 0.00917426124215126, 0.02969777025282383, 0.02969777025282383, 0.890933096408844, 0.02969777025282383, 0.02969777025282383, 0.061418842524290085, 0.061418842524290085, 0.8598637580871582, 0.3676050007343292, 0.19760869443416595, 0.04874187707901001, 0.020169053226709366, 0.0893200933933258, 0.028812933713197708, 0.05594511330127716, 0.08067621290683746, 0.026171747595071793, 0.08475804328918457, 0.04614287242293358, 0.830571711063385, 0.04614287242293358, 0.8449791073799133, 0.10676811635494232, 0.06252186745405197, 0.09811124205589294, 0.06155999377369881, 0.05578874424099922, 0.04520811885595322, 0.1154249906539917, 0.3299230933189392, 0.06925499439239502, 0.05578874424099922, 0.03363998234272003, 0.8746395111083984, 0.03363998234272003, 0.016819991171360016, 0.8546218276023865, 0.19572637975215912, 0.3262106478214264, 0.019396308809518814, 0.05289902165532112, 0.042319219559431076, 0.05818892642855644, 0.06876873224973679, 0.11990445107221603, 0.028212811797857285, 0.0881650373339653, 0.0642687976360321, 0.03213439881801605, 0.03213439881801605, 0.03213439881801605, 0.8354943990707397, 0.19205571711063385, 0.06795817613601685, 0.05909406766295433, 0.49343547224998474, 0.05909406766295433, 0.041365846991539, 0.03545644134283066, 0.023637626320123672, 0.023637626320123672, 0.008864110335707664, 0.1253989189863205, 0.04913290590047836, 0.06673275679349899, 0.027133097872138023, 0.07113271951675415, 0.052799541503190994, 0.07993263751268387, 0.4399961829185486, 0.026399770751595497, 0.062332794070243835, 0.16998614370822906, 0.20786607265472412, 0.13731472194194794, 0.028409941121935844, 0.0871238186955452, 0.062028370797634125, 0.10511678457260132, 0.06913086026906967, 0.12453024089336395, 0.008522982709109783, 0.15507295727729797, 0.028717216104269028, 0.011486886069178581, 0.6920849084854126, 0.005743443034589291, 0.03446066007018089, 0.02010205015540123, 0.03446066007018089, 0.008615165017545223, 0.008615165017545223, 0.3645426034927368, 0.08694551140069962, 0.04713913053274155, 0.3100707232952118, 0.03561623394489288, 0.014665507711470127, 0.02095072530210018, 0.06389971077442169, 0.045044057071208954, 0.012570435181260109, 0.874203085899353, 0.015398514457046986, 0.015398514457046986, 0.015398514457046986, 0.03079702891409397, 0.8161212801933289, 0.015398514457046986, 0.03079702891409397, 0.04619554430246353, 0.015398514457046986, 0.18740840256214142, 0.7340162396430969, 0.015617366880178452, 0.015617366880178452, 0.015617366880178452, 0.031234733760356903, 0.010561763308942318, 0.021123526617884636, 0.908311665058136, 0.010561763308942318, 0.010561763308942318, 0.021123526617884636, 0.010561763308942318, 0.19598644971847534, 0.05981404706835747, 0.21125811338424683, 0.04199709743261337, 0.0852668285369873, 0.05854140594601631, 0.2621636986732483, 0.05090557038784027, 0.021634867414832115, 0.010181114077568054, 0.039758674800395966, 0.8349321484565735, 0.039758674800395966, 0.039758674800395966, 0.039758674800395966, 0.035783424973487854, 0.8230187892913818, 0.10735027492046356, 0.035783424973487854, 0.08175154775381088, 0.09810186177492142, 0.12739616632461548, 0.07562018185853958, 0.09878312051296234, 0.3195123076438904, 0.09401428699493408, 0.0517759807407856, 0.03406314551830292, 0.019075362011790276, 0.076539546251297, 0.09002669155597687, 0.03338068351149559, 0.021242253482341766, 0.07283058017492294, 0.06574983149766922, 0.061029329895973206, 0.44440141320228577, 0.03944989666342735, 0.09542155265808105, 0.05444171652197838, 0.8438466191291809, 0.02722085826098919, 0.02722085826098919, 0.02722085826098919, 0.04341038689017296, 0.00542629836127162, 0.8410762548446655, 0.048836685717105865, 0.03798408806324005, 0.00542629836127162, 0.016278894618153572, 0.050449419766664505, 0.00560549134388566, 0.8352181911468506, 0.050449419766664505, 0.02242196537554264, 0.00560549134388566, 0.028027456253767014, 0.11584807932376862, 0.004633923061192036, 0.032437462359666824, 0.009267846122384071, 0.023169616237282753, 0.004633923061192036, 0.08804453909397125, 0.009267846122384071, 0.004633923061192036, 0.7089902758598328, 0.06632789969444275, 0.004737706854939461, 0.023688534274697304, 0.007896178402006626, 0.8038309812545776, 0.022109299898147583, 0.015792356804013252, 0.041060127317905426, 0.009475413709878922, 0.0063169426284730434, 0.8216975927352905, 0.01081181038171053, 0.01081181038171053, 0.01081181038171053, 0.03243543207645416, 0.04324724152684212, 0.02162362076342106, 0.02162362076342106, 0.03243543207645416, 0.0630895346403122, 0.8201639652252197, 0.030944764614105225, 0.02320857346057892, 0.007736191153526306, 0.007736191153526306, 0.007736191153526306, 0.015472382307052612, 0.5647419691085815, 0.007736191153526306, 0.05415333807468414, 0.278502881526947, 0.017391888424754143, 0.005797296296805143, 0.06377025693655014, 0.08695944398641586, 0.684080958366394, 0.017391888424754143, 0.028986481949687004, 0.08116214722394943, 0.011594592593610287, 0.005797296296805143, 0.03183196485042572, 0.010610654950141907, 0.010610654950141907, 0.010610654950141907, 0.010610654950141907, 0.8753790259361267, 0.005305327475070953, 0.005305327475070953, 0.010610654950141907, 0.021221309900283813, 0.05685419961810112, 0.8528130054473877, 0.05685419961810112, 0.010230610147118568, 0.005115305073559284, 0.020461220294237137, 0.010230610147118568, 0.010230610147118568, 0.005115305073559284, 0.07161427289247513, 0.010230610147118568, 0.005115305073559284, 0.8593712449073792, 0.8282061815261841, 0.09085005521774292, 0.016958678141236305, 0.09327272325754166, 0.21682880818843842, 0.2786068320274353, 0.1259787529706955, 0.09690672904253006, 0.02786068432033062, 0.04845336452126503, 0.006056670565158129, 0.017369870096445084, 0.017369870096445084, 0.06947948038578033, 0.8684934973716736, 0.08416977524757385, 0.008707218803465366, 0.034828875213861465, 0.02321924827992916, 0.15672993659973145, 0.12190105766057968, 0.3598983585834503, 0.05224331095814705, 0.12190105766057968, 0.03773127868771553, 0.024830510839819908, 0.062076278030872345, 0.012415255419909954, 0.012415255419909954, 0.049661021679639816, 0.024830510839819908, 0.012415255419909954, 0.7697458267211914, 0.024830510839819908, 0.8796374201774597, 0.8775671124458313, 0.054785627871751785, 0.8765700459480286, 0.054785627871751785, 0.18445336818695068, 0.020494818687438965, 0.08197927474975586, 0.006831605918705463, 0.013663211837410927, 0.006831605918705463, 0.04098963737487793, 0.6285077333450317, 0.006831605918705463, 0.006831605918705463, 0.9495211839675903, 0.7321410775184631, 0.05488607659935951, 0.022542497143149376, 0.0382242314517498, 0.027443038299679756, 0.009801085107028484, 0.01960217021405697, 0.07448824495077133, 0.014701628126204014, 0.006860759574919939, 0.04066495969891548, 0.02439897693693638, 0.7157033085823059, 0.008132992312312126, 0.032531969249248505, 0.016265984624624252, 0.016265984624624252, 0.07319692522287369, 0.016265984624624252, 0.06506393849849701, 0.018176959827542305, 0.018176959827542305, 0.018176959827542305, 0.054530881345272064, 0.872494101524353, 0.10992300510406494, 0.7969418168067932, 0.027480751276016235, 0.027480751276016235, 0.027480751276016235, 0.023291626945137978, 0.21862368285655975, 0.03149663284420967, 0.05584697052836418, 0.04102502763271332, 0.08310876041650772, 0.24138596653938293, 0.032555341720581055, 0.21835900843143463, 0.053994227200746536, 0.0742555558681488, 0.13171520829200745, 0.10696335881948471, 0.05127169191837311, 0.1626550257205963, 0.258126437664032, 0.09016745537519455, 0.07337155938148499, 0.022983862087130547, 0.02917182445526123, 0.8878160119056702, 0.04672715812921524, 0.03661064803600311, 0.9152661561965942, 0.03661064803600311, 0.01817835122346878, 0.01817835122346878, 0.01817835122346878, 0.05453505367040634, 0.8725608587265015, 0.9348233342170715, 0.030403712764382362, 0.015201856382191181, 0.015201856382191181, 0.8361020684242249, 0.07600928097963333, 0.015201856382191181, 0.08483994007110596, 0.8059794306755066, 0.04241997003555298, 0.0518280453979969, 0.4502561390399933, 0.22674770653247833, 0.07126355916261673, 0.006478505674749613, 0.012957011349499226, 0.04211028665304184, 0.07126355916261673, 0.03887103497982025, 0.02915327623486519, 0.19277073442935944, 0.21314488351345062, 0.05276380851864815, 0.13896210491657257, 0.11440864950418472, 0.03656897693872452, 0.10239312797784805, 0.08358623087406158, 0.025598281994462013, 0.039181046187877655, 0.07124508172273636, 0.07124508172273636, 0.24947771430015564, 0.04042018949985504, 0.10698755830526352, 0.06536795943975449, 0.08791691064834595, 0.11994121223688126, 0.10590808838605881, 0.0813201367855072, 0.9333757758140564, 0.15817488729953766, 0.03460075706243515, 0.014828896149992943, 0.578326940536499, 0.04448668658733368, 0.004942965228110552, 0.019771860912442207, 0.04448668658733368, 0.04942965507507324, 0.05437261983752251, 0.02205926924943924, 0.7831040620803833, 0.0551481731235981, 0.02205926924943924, 0.0551481731235981, 0.02205926924943924, 0.03308890387415886, 0.18757793307304382, 0.3646901547908783, 0.06842971593141556, 0.14007966220378876, 0.022541554644703865, 0.024151664227247238, 0.03864266350865364, 0.10465721786022186, 0.03703255206346512, 0.011270777322351933, 0.40207549929618835, 0.06303825974464417, 0.12749311327934265, 0.11002183705568314, 0.06185776740312576, 0.02054055593907833, 0.05123334378004074, 0.0715378001332283, 0.04910845682024956, 0.042969901114702225, 0.09049440920352936, 0.9049440622329712, 0.02050013467669487, 0.02050013467669487, 0.7995052933692932, 0.02050013467669487, 0.02050013467669487, 0.02050013467669487, 0.08200053870677948, 0.02050013467669487, 0.866733193397522, 0.012381902895867825, 0.012381902895867825, 0.012381902895867825, 0.0495276115834713, 0.012381902895867825, 0.02476380579173565, 0.012381902895867825, 0.34310245513916016, 0.08966092020273209, 0.11456672847270966, 0.07670989632606506, 0.137679323554039, 0.021717866882681847, 0.06236414983868599, 0.09344659745693207, 0.038653817027807236, 0.021917112171649933, 0.017424283549189568, 0.07840927690267563, 0.008712141774594784, 0.21780355274677277, 0.017424283549189568, 0.6185621023178101, 0.026136426255106926, 0.008712141774594784, 0.008712141774594784, 0.02104377932846546, 0.02630472369492054, 0.16308929026126862, 0.02104377932846546, 0.02630472369492054, 0.07365322858095169, 0.05260944738984108, 0.5629211068153381, 0.02630472369492054, 0.02630472369492054, 0.06041071191430092, 0.024164283648133278, 0.048328567296266556, 0.19331426918506622, 0.47925829887390137, 0.1006845161318779, 0.02013690397143364, 0.028191665187478065, 0.032219044864177704, 0.012082141824066639, 0.16549432277679443, 0.07708923518657684, 0.12588883936405182, 0.09547749161720276, 0.09194128960371017, 0.05870097875595093, 0.18812602758407593, 0.07921095937490463, 0.1075005829334259, 0.009901369921863079, 0.894693911075592, 0.04160456731915474, 0.04160456731915474, 0.8320913910865784, 0.048511918634176254, 0.8247026205062866, 0.048511918634176254, 0.12602375447750092, 0.039310161024332047, 0.28210821747779846, 0.12024284899234772, 0.07399559766054153, 0.1341170221567154, 0.11330576241016388, 0.046247247606515884, 0.047403428703546524, 0.016186537221074104, 0.13994570076465607, 0.2568292021751404, 0.02568291872739792, 0.2452980875968933, 0.18816669285297394, 0.015724236145615578, 0.027779484167695045, 0.029876049607992172, 0.056083109229803085, 0.015724236145615578, 0.17213907837867737, 0.06629303842782974, 0.09860393404960632, 0.18718035519123077, 0.17381033301353455, 0.08913350105285645, 0.08411974459886551, 0.05849386006593704, 0.043452583253383636, 0.02618296630680561, 0.08392803370952606, 0.8392803072929382, 0.058624252676963806, 0.0027916310355067253, 0.025124678388237953, 0.005583262071013451, 0.7816566824913025, 0.044666096568107605, 0.011166524142026901, 0.055832620710134506, 0.008374893106520176, 0.0027916310355067253, 0.038589492440223694, 0.02269970253109932, 0.09533874690532684, 0.040859464555978775, 0.43356430530548096, 0.052209313958883286, 0.08625886589288712, 0.07944895327091217, 0.018159762024879456, 0.12938830256462097, 0.037261079996824265, 0.037261079996824265, 0.8197436928749084, 0.037261079996824265, 0.037261079996824265, 0.7258380651473999, 0.021426953375339508, 0.026783693581819534, 0.058924123644828796, 0.04017553851008415, 0.02276613935828209, 0.03214043006300926, 0.03214043006300926, 0.017409401014447212, 0.021426953375339508, 0.189967542886734, 0.10198257863521576, 0.0799863338470459, 0.125978484749794, 0.07698684930801392, 0.061489496380090714, 0.1924671232700348, 0.08498547971248627, 0.056490350514650345, 0.029994875192642212, 0.9019418358802795, 0.0429496094584465, 0.0429496094584465, 0.2565337121486664, 0.0532015897333622, 0.3170231878757477, 0.1071319729089737, 0.0495576485991478, 0.0451849140226841, 0.0575743243098259, 0.0641334280371666, 0.0276939794421196, 0.02186366729438305, 0.7298939228057861, 0.012164898216724396, 0.028891634196043015, 0.02737102098762989, 0.03345347195863724, 0.018247347325086594, 0.022809185087680817, 0.10340163856744766, 0.015206122770905495, 0.007603061385452747, 0.8927484154701233, 0.8688626885414124, 0.8851509094238281, 0.1267462819814682, 0.07850702852010727, 0.09884317964315414, 0.05060392618179321, 0.08323636651039124, 0.11917933821678162, 0.2236977219581604, 0.08607396483421326, 0.08701983839273453, 0.046347521245479584, 0.018187478184700012, 0.018187478184700012, 0.018187478184700012, 0.018187478184700012, 0.05456243455410004, 0.8911864161491394, 0.014139687642455101, 0.05251883715391159, 0.07877825945615768, 0.024239463731646538, 0.048478927463293076, 0.08079821616411209, 0.056558750569820404, 0.6019467115402222, 0.028279375284910202, 0.018179597333073616, 0.08711004257202148, 0.03266626596450806, 0.0762212872505188, 0.5444377660751343, 0.09799879789352417, 0.007259170524775982, 0.05444377660751343, 0.029036682099103928, 0.029036682099103928, 0.03992543742060661, 0.8812355399131775, 0.04895753040909767, 0.024994734674692154, 0.04998946934938431, 0.024994734674692154, 0.024994734674692154, 0.8498209714889526, 0.024994734674692154, 0.13875342905521393, 0.03330082446336746, 0.03885096311569214, 0.005550137255340815, 0.08325205743312836, 0.01110027451068163, 0.03885096311569214, 0.01665041223168373, 0.6216154098510742, 0.005550137255340815, 0.014390790835022926, 0.014390790835022926, 0.5564438700675964, 0.09114167094230652, 0.18228334188461304, 0.03357851132750511, 0.014390790835022926, 0.014390790835022926, 0.06715702265501022, 0.014390790835022926, 0.007379578426480293, 0.5682275295257568, 0.059036627411842346, 0.014759156852960587, 0.014759156852960587, 0.2509056627750397, 0.029518313705921173, 0.04427747055888176, 0.014759156852960587, 0.4407377243041992, 0.0409172922372818, 0.0705336183309555, 0.12509001791477203, 0.08339334279298782, 0.08339334279298782, 0.06157078593969345, 0.04520386829972267, 0.033123522996902466, 0.015977229923009872, 0.0830424427986145, 0.03558962047100067, 0.011863206513226032, 0.15422168374061584, 0.04745282605290413, 0.05931603163480759, 0.5812970995903015, 0.011863206513226032, 0.011863206513226032, 0.011863206513226032, 0.03272464498877525, 0.05342799052596092, 0.07212778180837631, 0.03940314054489136, 0.11954512447118759, 0.06277788430452347, 0.09149543195962906, 0.4728377163410187, 0.014692696742713451, 0.04140669107437134, 0.7897212505340576, 0.8296300172805786, 0.04095865413546562, 0.025599157437682152, 0.6502186059951782, 0.051198314875364304, 0.08191730827093124, 0.025599157437682152, 0.03583882004022598, 0.04607848450541496, 0.010239663533866405, 0.025599157437682152, 0.7939168214797974, 0.07217425107955933, 0.03608712553977966, 0.04592534154653549, 0.015308447182178497, 0.7424597144126892, 0.022962670773267746, 0.030616894364356995, 0.07654223591089249, 0.03827111795544624, 0.007654223591089249, 0.007654223591089249, 0.007654223591089249, 0.09351684153079987, 0.033120546489953995, 0.06039629131555557, 0.05260322242975235, 0.0701376274228096, 0.08572376519441605, 0.07987896353006363, 0.43641191720962524, 0.06234455853700638, 0.025327477604150772, 0.018197692930698395, 0.018197692930698395, 0.054593078792095184, 0.8916869163513184, 0.09050647914409637, 0.9050647616386414, 0.09976116567850113, 0.09451058506965637, 0.057756464928388596, 0.015751764178276062, 0.010501176118850708, 0.005250588059425354, 0.5565623044967651, 0.06300705671310425, 0.04200470447540283, 0.057756464928388596, 0.6686046123504639, 0.045329127460718155, 0.022664563730359077, 0.08924171328544617, 0.03824644908308983, 0.009915745817124844, 0.042496055364608765, 0.05949447676539421, 0.01274881698191166, 0.009915745817124844, 0.1267898827791214, 0.03746064752340317, 0.1411978155374527, 0.10373717546463013, 0.09797399491071701, 0.10085558891296387, 0.09077002853155136, 0.22044149041175842, 0.07059890776872635, 0.008644764311611652, 0.06160162016749382, 0.06160162016749382, 0.80082106590271, 0.047790054231882095, 0.8602209687232971, 0.048848576843738556, 0.8792743682861328, 0.06352972239255905, 0.034652575850486755, 0.14669589698314667, 0.028877146542072296, 0.060064464807510376, 0.326889306306839, 0.1559365838766098, 0.06930515170097351, 0.07623566687107086, 0.03811783343553543, 0.8970924615859985, 0.9040097594261169, 0.03273418918251991, 0.03273418918251991, 0.03273418918251991, 0.03273418918251991, 0.03273418918251991, 0.7856205701828003, 0.328468918800354, 0.08874062448740005, 0.06636255234479904, 0.03755400329828262, 0.06250426918268204, 0.10468821227550507, 0.056331004947423935, 0.07433634996414185, 0.08128126710653305, 0.10005827248096466, 0.07057400792837143, 0.9174621105194092, 0.8862903714179993, 0.029150178655982018, 0.024985868483781815, 0.6746184229850769, 0.00832862313836813, 0.00832862313836813, 0.004164311569184065, 0.09994347393512726, 0.020821556448936462, 0.09994347393512726, 0.03747880086302757, 0.10977943241596222, 0.03430607169866562, 0.02058364264667034, 0.7410111427307129, 0.02058364264667034, 0.013722429051995277, 0.013722429051995277, 0.013722429051995277, 0.02058364264667034, 0.013722429051995277, 0.018179254606366158, 0.018179254606366158, 0.018179254606366158, 0.05453776568174362, 0.872604250907898, 0.0340055450797081, 0.011335182003676891, 0.011335182003676891, 0.7594572305679321, 0.022670364007353783, 0.011335182003676891, 0.1020166426897049, 0.022670364007353783, 0.011335182003676891, 0.6081302762031555, 0.06840445101261139, 0.04930344596505165, 0.09403571486473083, 0.026610800996422768, 0.01599913090467453, 0.02759033814072609, 0.07460819184780121, 0.012080976739525795, 0.023019159212708473, 0.029698140919208527, 0.8315479159355164, 0.029698140919208527, 0.029698140919208527, 0.029698140919208527, 0.029698140919208527, 0.054461222141981125, 0.059338346123695374, 0.10323246568441391, 0.09103965014219284, 0.4275612235069275, 0.054461222141981125, 0.08453682065010071, 0.03901699557900429, 0.048771243542432785, 0.037391286343336105, 0.026536639779806137, 0.060310546308755875, 0.03136148303747177, 0.10735277086496353, 0.010855898261070251, 0.2931092381477356, 0.10614655911922455, 0.02412421815097332, 0.2267676442861557, 0.11217761039733887, 0.8706392645835876, 0.7338804006576538, 0.02057608589529991, 0.024005433544516563, 0.05144021660089493, 0.013717390596866608, 0.010288042947649956, 0.027434781193733215, 0.09259238839149475, 0.013717390596866608, 0.010288042947649956, 0.40039950609207153, 0.07238343358039856, 0.07559029757976532, 0.12369321286678314, 0.04718666896224022, 0.03115236572921276, 0.03573359549045563, 0.08887586742639542, 0.10445205122232437, 0.01969929039478302, 0.06881745904684067, 0.11075309664011002, 0.05419374629855156, 0.03978509083390236, 0.0673120766878128, 0.09526916593313217, 0.12623701989650726, 0.29720538854599, 0.05225825682282448, 0.08838742226362228, 0.07690109312534332, 0.01922527328133583, 0.04165475815534592, 0.02563369646668434, 0.6953140497207642, 0.057675816118717194, 0.02563369646668434, 0.03845054656267166, 0.01281684823334217, 0.006408424116671085, 0.31337210536003113, 0.03952440991997719, 0.13349570333957672, 0.11292688548564911, 0.13994866609573364, 0.04275089129805565, 0.09558454155921936, 0.06049654260277748, 0.04920385777950287, 0.012502619065344334, 0.03445065766572952, 0.025837993249297142, 0.00861266441643238, 0.00861266441643238, 0.00861266441643238, 0.07751397788524628, 0.00861266441643238, 0.8268157839775085, 0.08761636167764664, 0.11178639531135559, 0.07855260372161865, 0.11480765044689178, 0.4169330298900604, 0.0030212539713829756, 0.02719128504395485, 0.05740382522344589, 0.09365887194871902, 0.006042507942765951, 0.030514298006892204, 0.8238860368728638, 0.030514298006892204, 0.09154289215803146, 0.03055943176150322, 0.7945452332496643, 0.03055943176150322, 0.09167829155921936, 0.5898221731185913, 0.14263974130153656, 0.03485729917883873, 0.020180542021989822, 0.027518920600414276, 0.018345946446061134, 0.06971459835767746, 0.05778973177075386, 0.013300810940563679, 0.026142973452806473, 0.009649118408560753, 0.009649118408560753, 0.8298242092132568, 0.019298236817121506, 0.019298236817121506, 0.06754383444786072, 0.019298236817121506, 0.009649118408560753, 0.009649118408560753, 0.009649118408560753, 0.7934384942054749, 0.06163594871759415, 0.8629032373428345, 0.06163594871759415, 0.8148338198661804, 0.0271611288189888, 0.0271611288189888, 0.0814833864569664, 0.016834843903779984, 0.025252265855669975, 0.03366968780755997, 0.025252265855669975, 0.11784391105175018, 0.05892195552587509, 0.025252265855669975, 0.6818112134933472, 0.016834843903779984, 0.010928246192634106, 0.9070444703102112, 0.010928246192634106, 0.04371298477053642, 0.010928246192634106, 0.010928246192634106, 0.9282363057136536, 0.009190457873046398, 0.018380915746092796, 0.02757137455046177, 0.009190457873046398, 0.044899873435497284, 0.022449936717748642, 0.044899873435497284, 0.8755475282669067, 0.8633667230606079, 0.9076264500617981, 0.07591650635004044, 0.030366603285074234, 0.034921593964099884, 0.015183301642537117, 0.674138605594635, 0.0227749515324831, 0.019738292321562767, 0.07136151939630508, 0.01821996085345745, 0.0364399217069149, 0.9181019067764282, 0.054028403013944626, 0.027014201506972313, 0.10805680602788925, 0.7834118604660034, 0.027014201506972313, 0.13784624636173248, 0.09744302928447723, 0.07486476749181747, 0.023766592144966125, 0.042779866605997086, 0.3422389328479767, 0.15567117929458618, 0.07486476749181747, 0.02495492249727249, 0.02495492249727249, 0.7507935166358948, 0.0834214985370636, 0.027807166799902916, 0.027807166799902916, 0.0834214985370636, 0.8570676445960999, 0.07142230868339539, 0.004386048763990402, 0.026316290721297264, 0.026316290721297264, 0.004386048763990402, 0.07017678022384644, 0.008772097527980804, 0.004386048763990402, 0.8552794456481934, 0.04317058250308037, 0.04317058250308037, 0.08634116500616074, 0.7770705223083496, 0.021585291251540184, 0.05368932709097862, 0.06442718952894211, 0.10737865418195724, 0.016106797382235527, 0.032213594764471054, 0.02684466354548931, 0.02147573046386242, 0.02684466354548931, 0.6550098061561584, 0.005368932615965605, 0.009177920408546925, 0.01835584081709385, 0.009177920408546925, 0.009177920408546925, 0.0550675205886364, 0.009177920408546925, 0.890258252620697, 0.8528721332550049, 0.050168950110673904, 0.8646245002746582, 0.05764163285493851, 0.05764163285493851, 0.13732190430164337, 0.0700913816690445, 0.3819265365600586, 0.037191346287727356, 0.11729578673839569, 0.04291309416294098, 0.13732190430164337, 0.048634838312864304, 0.018595673143863678, 0.00858261901885271, 0.044631727039813995, 0.5132648348808289, 0.08368448913097382, 0.055789656937122345, 0.022315863519906998, 0.15621104836463928, 0.016736896708607674, 0.055789656937122345, 0.022315863519906998, 0.027894828468561172, 0.8532691597938538, 0.027524812147021294, 0.027524812147021294, 0.027524812147021294, 0.027524812147021294, 0.027524812147021294, 0.8578577041625977, 0.31204357743263245, 0.06796041131019592, 0.010529078543186188, 0.14740709960460663, 0.01722940057516098, 0.022015346214175224, 0.027758479118347168, 0.057431336492300034, 0.3235298693180084, 0.015315023250877857, 0.051655665040016174, 0.025827832520008087, 0.8264906406402588, 0.051655665040016174, 0.025827832520008087, 0.025827832520008087, 0.04620051383972168, 0.6083067655563354, 0.02310025691986084, 0.015400171279907227, 0.007700085639953613, 0.10780119895935059, 0.06930077075958252, 0.030800342559814453, 0.015400171279907227, 0.07700085639953613, 0.009376436471939087, 0.0046882182359695435, 0.046882178634405136, 0.7969970703125, 0.07032327353954315, 0.009376436471939087, 0.02812930755317211, 0.014064653776586056, 0.009376436471939087, 0.018752872943878174, 0.027391010895371437, 0.013695505447685719, 0.17804157733917236, 0.013695505447685719, 0.027391010895371437, 0.6984707713127136, 0.054782021790742874, 0.03816131874918938, 0.844319224357605, 0.057241979986429214, 0.023850824683904648, 0.004770164843648672, 0.023850824683904648, 0.012319461442530155, 0.07391677051782608, 0.02463892288506031, 0.012319461442530155, 0.012319461442530155, 0.17247246205806732, 0.5913341641426086, 0.03695838525891304, 0.04927784577012062, 0.02463892288506031, 0.0818752646446228, 0.0409376323223114, 0.7778149843215942, 0.0409376323223114, 0.6774369478225708, 0.04093135893344879, 0.03127339482307434, 0.02115553244948387, 0.03449271619319916, 0.019315920770168304, 0.06530620902776718, 0.08600184321403503, 0.010577766224741936, 0.013797086663544178, 0.0692385658621788, 0.8308627605438232, 0.7041633725166321, 0.02713814191520214, 0.02856646478176117, 0.03713640198111534, 0.049991313368082047, 0.034279756247997284, 0.02713814191520214, 0.051419634371995926, 0.029994787648320198, 0.009998262859880924, 0.12187711894512177, 0.11661244928836823, 0.09910742193460464, 0.026586586609482765, 0.05383125692605972, 0.08318179100751877, 0.07186274975538254, 0.18373699486255646, 0.10713604837656021, 0.13596011698246002, 0.8954045176506042, 0.03198065981268883, 0.014536662958562374, 0.058146651834249496, 0.00872199796140194, 0.7297405004501343, 0.029073325917124748, 0.01744399592280388, 0.09012731164693832, 0.014536662958562374, 0.005814665462821722, 0.04177238419651985, 0.03885803371667862, 0.1486319750547409, 0.02234336920082569, 0.08840202540159225, 0.28949233889579773, 0.09520217776298523, 0.21469062566757202, 0.032057877629995346, 0.029143525287508965, 0.8941207528114319, 0.08515435457229614, 0.015181691385805607, 0.015181691385805607, 0.015181691385805607, 0.06072676554322243, 0.030363382771611214, 0.015181691385805607, 0.8198113441467285, 0.015181691385805607, 0.030363382771611214, 0.2132931798696518, 0.07334055751562119, 0.0888160839676857, 0.11303865164518356, 0.2280958592891693, 0.055846478790044785, 0.07401340454816818, 0.069976307451725, 0.0531550794839859, 0.03162390738725662, 0.13450157642364502, 0.01992616057395935, 0.0398523211479187, 0.7721387147903442, 0.004981540143489838, 0.01992616057395935, 0.04614167660474777, 0.8305501937866211, 0.04614167660474777, 0.010883971117436886, 0.642154335975647, 0.02176794223487377, 0.02176794223487377, 0.18502750992774963, 0.06530382484197617, 0.03265191242098808, 0.08505640178918839, 0.7938597202301025, 0.01417606696486473, 0.05670426785945892, 0.01417606696486473, 0.01417606696486473, 0.01417606696486473, 0.03202419355511665, 0.8326290249824524, 0.03202419355511665, 0.03202419355511665, 0.03202419355511665, 0.22393663227558136, 0.06198246031999588, 0.1952780783176422, 0.06931371986865997, 0.08597566932439804, 0.07131315767765045, 0.13796095550060272, 0.08064384758472443, 0.03665629401803017, 0.03665629401803017, 0.051568400114774704, 0.09077244997024536, 0.13148434460163116, 0.0461401492357254, 0.06634531170129776, 0.07358298450708389, 0.2065751701593399, 0.1468643993139267, 0.1007242426276207, 0.08624890446662903, 0.28089994192123413, 0.2839754819869995, 0.053309474140405655, 0.022554008290171623, 0.1455758810043335, 0.021528827026486397, 0.034856196492910385, 0.06663684546947479, 0.023579191416502, 0.06663684546947479, 0.3513336479663849, 0.2536534368991852, 0.03859943524003029, 0.040962666273117065, 0.08704566955566406, 0.022056819871068, 0.041750408709049225, 0.07562338560819626, 0.017330359667539597, 0.07168466597795486, 0.8529935479164124, 0.810308039188385, 0.01917888969182968, 0.028768334537744522, 0.01917888969182968, 0.023973612114787102, 0.00958944484591484, 0.023973612114787102, 0.047947224229574203, 0.00958944484591484, 0.00479472242295742, 0.04216581583023071, 0.07027635723352432, 0.02811054326593876, 0.01405527163296938, 0.7449293732643127, 0.01405527163296938, 0.01405527163296938, 0.04216581583023071, 0.01405527163296938, 0.01405527163296938, 0.12617774307727814, 0.11029522866010666, 0.12264829874038696, 0.042353369295597076, 0.066177137196064, 0.06705950200557709, 0.11117759346961975, 0.24529659748077393, 0.042353369295597076, 0.066177137196064, 0.2044689953327179, 0.16481910645961761, 0.09251638501882553, 0.06997037678956985, 0.13579435646533966, 0.07152527570724487, 0.0896657407283783, 0.08526019752025604, 0.05312565714120865, 0.0326528437435627, 0.01819148287177086, 0.01819148287177086, 0.01819148287177086, 0.054574448615312576, 0.8731911778450012, 0.8520271182060242, 0.018182681873440742, 0.018182681873440742, 0.018182681873440742, 0.05454804748296738, 0.872768759727478, 0.009093464352190495, 0.0227336622774601, 0.004546732176095247, 0.013640196993947029, 0.004546732176095247, 0.06365425139665604, 0.004546732176095247, 0.8729726076126099, 0.3717864453792572, 0.06654977798461914, 0.05167831853032112, 0.08625445514917374, 0.12268953025341034, 0.03160184994339943, 0.08067765831947327, 0.08588267117738724, 0.06469084322452545, 0.03829400613903999, 0.14914868772029877, 0.05965947359800339, 0.029829736799001694, 0.014914868399500847, 0.05965947359800339, 0.014914868399500847, 0.6264244914054871, 0.014914868399500847, 0.014914868399500847, 0.014914868399500847, 0.35386231541633606, 0.08625102043151855, 0.09604167938232422, 0.0713319256901741, 0.0237773098051548, 0.03263552114367485, 0.09604167938232422, 0.15012340247631073, 0.05408172309398651, 0.0354328528046608, 0.3419284522533417, 0.05366978421807289, 0.07098262012004852, 0.2562299370765686, 0.02596925012767315, 0.04155080020427704, 0.05972927436232567, 0.09002673625946045, 0.037222590297460556, 0.022506684064865112, 0.05512070283293724, 0.8268105387687683, 0.05512070283293724, 0.09519974142313004, 0.01427996065467596, 0.16659954190254211, 0.01427996065467596, 0.019039947539567947, 0.5331185460090637, 0.02855992130935192, 0.04759987071156502, 0.01427996065467596, 0.06663981825113297, 0.23711679875850677, 0.5303928256034851, 0.04991932585835457, 0.04991932585835457, 0.062399156391620636, 0.012479831464588642, 0.012479831464588642, 0.024959662929177284, 0.006239915732294321, 0.006239915732294321, 0.10457922518253326, 0.04531766474246979, 0.5298680663108826, 0.06971948593854904, 0.06623350828886032, 0.020915845409035683, 0.055775586515665054, 0.020915845409035683, 0.027887793257832527, 0.0627475380897522, 0.044604718685150146, 0.8474896550178528, 0.044604718685150146, 0.17919227480888367, 0.3682483434677124, 0.05342888832092285, 0.050962939858436584, 0.06575863063335419, 0.03452328220009804, 0.08055432140827179, 0.08713018894195557, 0.02794741839170456, 0.05260690674185753, 0.9317508339881897, 0.033276814967393875, 0.2025606483221054, 0.06562965363264084, 0.12315687537193298, 0.05914771184325218, 0.04375310242176056, 0.04861455783247948, 0.0640091672539711, 0.2211962342262268, 0.07130134850740433, 0.10047008097171783, 0.03460345044732094, 0.05190517380833626, 0.01730172522366047, 0.8477845191955566, 0.01730172522366047, 0.020088328048586845, 0.020088328048586845, 0.020088328048586845, 0.020088328048586845, 0.803533136844635, 0.04017665609717369, 0.020088328048586845, 0.020088328048586845, 0.020088328048586845, 0.021567797288298607, 0.021567797288298607, 0.021567797288298607, 0.021567797288298607, 0.8483333587646484, 0.007189265452325344, 0.021567797288298607, 0.021567797288298607, 0.007189265452325344, 0.8636818528175354, 0.025402406230568886, 0.025402406230568886, 0.025402406230568886, 0.025402406230568886, 0.05080481246113777, 0.025402406230568886, 0.8191380500793457, 0.03278852999210358, 0.03278852999210358, 0.8525017499923706, 0.03278852999210358, 0.03278852999210358, 0.03278852999210358, 0.8285351991653442, 0.027216574177145958, 0.06804143637418747, 0.027216574177145958, 0.08164972066879272, 0.013608287088572979, 0.7348474860191345, 0.027216574177145958, 0.013608287088572979, 0.013608287088572979, 0.06754931807518005, 0.03377465903759003, 0.03377465903759003, 0.8443664908409119, 0.03017762489616871, 0.06035524979233742, 0.015088812448084354, 0.015088812448084354, 0.860062301158905, 0.015088812448084354, 0.20609137415885925, 0.05247345194220543, 0.1019049659371376, 0.05855732783675194, 0.1292824149131775, 0.04791054129600525, 0.21749864518642426, 0.05323393642902374, 0.05703635886311531, 0.07604847848415375, 0.044580478221178055, 0.8470290899276733, 0.044580478221178055, 0.7459378242492676, 0.29389822483062744, 0.1902466118335724, 0.06822636723518372, 0.18303035199642181, 0.053137846291065216, 0.03608125448226929, 0.08397091925144196, 0.05576193705201149, 0.027552956715226173, 0.008528295904397964, 0.040854692459106445, 0.040854692459106445, 0.08170938491821289, 0.8170938491821289, 0.040854692459106445, 0.057898376137018204, 0.01654239371418953, 0.04962718114256859, 0.01654239371418953, 0.06616957485675812, 0.769221305847168, 0.008271196857094765, 0.008271196857094765, 0.01654239371418953, 0.033718694001436234, 0.033718694001436234, 0.101156085729599, 0.809248685836792, 0.033718694001436234, 0.8893055319786072, 0.016618333756923676, 0.016618333756923676, 0.0664733350276947, 0.8807716965675354, 0.82789146900177, 0.08278914541006088, 0.013798191212117672, 0.013798191212117672, 0.013798191212117672, 0.013798191212117672, 0.013798191212117672, 0.10718834400177002, 0.10406635701656342, 0.06243981420993805, 0.0457891970872879, 0.07492777705192566, 0.30075177550315857, 0.11343232542276382, 0.048911187797784805, 0.07284644991159439, 0.06868379563093185, 0.01923478953540325, 0.028852183371782303, 0.028852183371782303, 0.048086974769830704, 0.009617394767701626, 0.8463307023048401, 0.023125478997826576, 0.6012624502182007, 0.011562739498913288, 0.10406465828418732, 0.011562739498913288, 0.10406465828418732, 0.04625095799565315, 0.011562739498913288, 0.023125478997826576, 0.04625095799565315, 0.8192217350006104, 0.05120135843753815, 0.04096108675003052, 0.01024027168750763, 0.01024027168750763, 0.01024027168750763, 0.05120135843753815, 0.01024027168750763, 0.6918571591377258, 0.056313954293727875, 0.033788371831178665, 0.030570432543754578, 0.04826910421252251, 0.014480731450021267, 0.024134552106261253, 0.06274983286857605, 0.02735249325633049, 0.011262791231274605, 0.06525932252407074, 0.848371148109436, 0.157318577170372, 0.25926804542541504, 0.06767335534095764, 0.05185360834002495, 0.07953815907239914, 0.04526204615831375, 0.07470434904098511, 0.13534671068191528, 0.03032117709517479, 0.0984339714050293, 0.06999137252569199, 0.01999753527343273, 0.03332922235131264, 0.006665844935923815, 0.01333168987184763, 0.18997657299041748, 0.009998767636716366, 0.049993835389614105, 0.009998767636716366, 0.5932601690292358, 0.6575919985771179, 0.04502185806632042, 0.08458652347326279, 0.02592167630791664, 0.03001457266509533, 0.015007286332547665, 0.032743170857429504, 0.043657559901475906, 0.03683606535196304, 0.03001457266509533, 0.17097198963165283, 0.07717485725879669, 0.12229246646165848, 0.087860606610775, 0.10210826992988586, 0.060552578419446945, 0.08311138302087784, 0.021371498703956604, 0.2517087757587433, 0.022558804601430893, 0.2095395028591156, 0.07191821932792664, 0.10210610926151276, 0.04883335903286934, 0.049721237272024155, 0.03551517054438591, 0.06747882068157196, 0.2272970825433731, 0.05416063219308853, 0.1340697705745697, 0.34070250391960144, 0.162563756108284, 0.0824175551533699, 0.04834730550646782, 0.09896596521139145, 0.033421292901039124, 0.05061865597963333, 0.08014620840549469, 0.04185773432254791, 0.06067749112844467, 0.8616446256637573, 0.05680416524410248, 0.852062463760376, 0.05680416524410248, 0.02286340855062008, 0.02612960897386074, 0.04899301752448082, 0.0032662011217325926, 0.3347856104373932, 0.12574873864650726, 0.009798603132367134, 0.34948351979255676, 0.014697905629873276, 0.06532402336597443, 0.8124195337295532, 0.8703930974006653, 0.008413907140493393, 0.016827814280986786, 0.17669205367565155, 0.6815264821052551, 0.03365562856197357, 0.016827814280986786, 0.03365562856197357, 0.008413907140493393, 0.008413907140493393, 0.02524172142148018, 0.840846061706543, 0.044255055487155914, 0.1499629020690918, 0.19250045716762543, 0.07317901402711868, 0.09805267304182053, 0.0915638878941536, 0.051549751311540604, 0.13121753931045532, 0.09805267304182053, 0.062364380806684494, 0.05191023647785187, 0.9347556233406067, 0.9086248278617859, 0.8294522166252136, 0.08294522017240524, 0.8758288621902466, 0.026582272723317146, 0.043196193873882294, 0.34556955099105835, 0.10799048095941544, 0.044857583940029144, 0.14454109966754913, 0.11131326109170914, 0.024920880794525146, 0.024920880794525146, 0.12294300645589828, 0.05873652175068855, 0.06467617303133011, 0.252765029668808, 0.11549316346645355, 0.08513496071100235, 0.10889355093240738, 0.1702699214220047, 0.05411679670214653, 0.026398437097668648, 0.06335625052452087, 0.02400219812989235, 0.034503161907196045, 0.34353145956993103, 0.10050921142101288, 0.0645059123635292, 0.1335122287273407, 0.13201209902763367, 0.027002474293112755, 0.02400219812989235, 0.11701072007417679, 0.05497514829039574, 0.06089555099606514, 0.3053235113620758, 0.10233835130929947, 0.07189057767391205, 0.10487566888332367, 0.1649254411458969, 0.04228857532143593, 0.022835830226540565, 0.06850749254226685, 0.007805198896676302, 0.18472304940223694, 0.4839223325252533, 0.057238128036260605, 0.013008665293455124, 0.09106065332889557, 0.03642426058650017, 0.026017330586910248, 0.015610397793352604, 0.08325545489788055, 0.4945310056209564, 0.07612264156341553, 0.04258609563112259, 0.07984892278909683, 0.08809997886419296, 0.022091535851359367, 0.037795159965753555, 0.07425950467586517, 0.0465785413980484, 0.038061320781707764, 0.8557555675506592, 0.17751727998256683, 0.07665518671274185, 0.05446552857756615, 0.028241386637091637, 0.04034483805298805, 0.02420690283179283, 0.12708623707294464, 0.09682761132717133, 0.02622414380311966, 0.34696561098098755, 0.03441813215613365, 0.9292895793914795, 0.03367811068892479, 0.03367811068892479, 0.016839055344462395, 0.8419528007507324, 0.03367811068892479, 0.03367811068892479, 0.016839055344462395, 0.8778034448623657, 0.059188347309827805, 0.8878251910209656, 0.01692216843366623, 0.008461084216833115, 0.15229950845241547, 0.008461084216833115, 0.16076059639453888, 0.6176591515541077, 0.01692216843366623, 0.008461084216833115, 0.008461084216833115], \"Term\": [\" \", \" \", \" \", \" \", \" \", \" \", \" \", \" \", \" \", \" \", \"acceptance\", \"acceptance\", \"acceptance\", \"acceptance\", \"acceptance\", \"acceptance\", \"acceptance\", \"acceptance\", \"acceptance\", \"acceptance\", \"access\", \"access\", \"access\", \"access\", \"access\", \"access\", \"access\", \"access\", \"access\", \"access\", \"account\", \"account\", \"account\", \"account\", \"account\", \"account\", \"account\", \"account\", \"account\", \"account\", \"accum\", \"accum\", \"accum\", \"accum\", \"accum\", \"accumulate\", \"accumulate\", \"accumulate\", \"accumulate\", \"accumulate\", \"accumulate\", \"accurate\", \"accurate\", \"accurate\", \"accurate\", \"accurate\", \"accurate\", \"accurate\", \"accurate\", \"accurate\", \"accurate\", \"active\", \"active\", \"active\", \"active\", \"active\", \"active\", \"active\", \"active\", \"active\", \"active\", \"addional\", \"address\", \"address\", \"address\", \"address\", \"address\", \"address\", \"address\", \"address\", \"address\", \"address\", \"adjoin\", \"adjoin\", \"adjustable\", \"adjustable\", \"adjustable\", \"admin\", \"admin\", \"admin\", \"admin\", \"admin\", \"admin\", \"admin\", \"admin\", \"admin\", \"admin\", \"aftertax\", \"aftertax\", \"aftertax\", \"aftertax\", \"aftertax\", \"aftertax\", \"aftertax\", \"aftertax\", \"aftertax\", \"agreeenrondoc\", \"airlines\", \"airlines\", \"airlines\", \"airlines\", \"airlines\", \"airlines\", \"airlines\", \"airlines\", \"airlines\", \"airlines\", \"airport\", \"airport\", \"airport\", \"airport\", \"airport\", \"airport\", \"airport\", \"airport\", \"airport\", \"airport\", \"alamo\", \"alamo\", \"alamo\", \"alamo\", \"alamo\", \"alamo\", \"alamo\", \"alamo\", \"algebraic\", \"algebraic\", \"algebraic\", \"allen\", \"allen\", \"allen\", \"allen\", \"allen\", \"allen\", \"allen\", \"allen\", \"allen\", \"allen\", \"allenhouect\", \"allenhouect\", \"allenhouect\", \"allenhouect\", \"allenhouect\", \"allenhouect\", \"allenhouect\", \"allenhouect\", \"allenhouect\", \"allenhouect\", \"allenhouectect\", \"allenhouectect\", \"allenhouectect\", \"allenhouectect\", \"allenhouectect\", \"allenhouectect\", \"allenhouectect\", \"allenhouectect\", \"allenhouectect\", \"allenhouectect\", \"allenxls\", \"allenxls\", \"allenxls\", \"allenxls\", \"amenity\", \"amenity\", \"analyst\", \"analyst\", \"analyst\", \"analyst\", \"analyst\", \"analyst\", \"analyst\", \"analyst\", \"analyst\", \"analyst\", \"anchordesk\", \"anchordesk\", \"anchordesk\", \"anchordesk\", \"anchordesk\", \"anchordesk\", \"andor\", \"andor\", \"andor\", \"andor\", \"andor\", \"andor\", \"andor\", \"andor\", \"andor\", \"andor\", \"angela\", \"angela\", \"angela\", \"angela\", \"angela\", \"angela\", \"angela\", \"angela\", \"angela\", \"angela\", \"appendix\", \"appendix\", \"appendix\", \"appendix\", \"appendix\", \"appraise\", \"appraise\", \"appraise\", \"appraise\", \"appraise\", \"appraise\", \"appraise\", \"appraise\", \"appraise\", \"arabias\", \"arabias\", \"arabias\", \"arabias\", \"arabias\", \"arabias\", \"arabias\", \"arabias\", \"arabias\", \"araceli\", \"ardmore\", \"ardmore\", \"arnold\", \"arnold\", \"arnold\", \"arnold\", \"arnold\", \"arnold\", \"arnold\", \"arnold\", \"arnold\", \"arnold\", \"arnoldhouectect\", \"arnoldhouectect\", \"arnoldhouectect\", \"arnoldhouectect\", \"arnoldhouectect\", \"arnoldhouectect\", \"arnoldhouectect\", \"arnoldhouectect\", \"arnoldhouectect\", \"arnoldhouectect\", \"arsystemectenroncom\", \"assocanalyst\", \"aurait\", \"aurait\", \"aurait\", \"aurait\", \"aurait\", \"author\", \"author\", \"author\", \"author\", \"author\", \"author\", \"author\", \"author\", \"author\", \"author\", \"autowebcom\", \"autowebcom\", \"autowebcom\", \"autowebcom\", \"autowebcom\", \"autowebcom\", \"avaya\", \"avaya\", \"avaya\", \"avaya\", \"avaya\", \"avaya\", \"avaya\", \"avaya\", \"avaya\", \"avaya\", \"avertir\", \"avertir\", \"avertir\", \"avertir\", \"avertir\", \"backout\", \"backout\", \"backout\", \"backout\", \"backout\", \"backout\", \"backout\", \"backout\", \"backout\", \"baileylonectect\", \"baileylonectect\", \"bandaid\", \"basis\", \"basis\", \"basis\", \"basis\", \"basis\", \"basis\", \"basis\", \"basis\", \"basis\", \"basis\", \"bawahouectect\", \"bcfd\", \"bcfd\", \"bcfd\", \"bcfd\", \"bcfd\", \"bcfd\", \"bcfd\", \"bcfd\", \"bcfd\", \"bcfd\", \"be\", \"be\", \"be\", \"be\", \"be\", \"be\", \"be\", \"be\", \"be\", \"be\", \"bearish\", \"bearish\", \"bearish\", \"bearish\", \"bearish\", \"bearish\", \"bearish\", \"bearish\", \"bearish\", \"bearish\", \"beleive\", \"beleive\", \"beleive\", \"beleive\", \"beleive\", \"benotti\", \"billing\", \"billing\", \"billing\", \"billing\", \"billing\", \"billing\", \"billing\", \"billing\", \"billing\", \"billing\", \"billion\", \"billion\", \"billion\", \"billion\", \"billion\", \"billion\", \"billion\", \"billion\", \"billion\", \"billion\", \"binding\", \"binding\", \"binding\", \"binding\", \"binding\", \"binding\", \"binding\", \"binding\", \"binding\", \"bishops\", \"bishops\", \"bishops\", \"bishops\", \"bishops\", \"bmc\", \"bmc\", \"bmc\", \"bmc\", \"bmc\", \"bmc\", \"bmc\", \"bmc\", \"bmc\", \"bmc\", \"bnp\", \"bnp\", \"bnp\", \"bnp\", \"bnp\", \"bnp\", \"bnp\", \"bnp\", \"boxster\", \"brian\", \"brian\", \"brian\", \"brian\", \"brian\", \"brian\", \"brian\", \"brian\", \"brian\", \"brian\", \"brianhoskinsenronnet\", \"brianhoskinsenronnet\", \"brianhoskinsenronnet\", \"brianhoskinsenronnet\", \"brianhoskinsenronnet\", \"brianhoskinsenronnet\", \"bridge\", \"bridge\", \"bridge\", \"bridge\", \"bridge\", \"bridge\", \"bridge\", \"bridge\", \"bridge\", \"bridge\", \"bring\", \"bring\", \"bring\", \"bring\", \"bring\", \"bring\", \"bring\", \"bring\", \"bring\", \"bring\", \"broker\", \"broker\", \"broker\", \"broker\", \"broker\", \"broker\", \"broker\", \"broker\", \"broker\", \"broker\", \"bull\", \"bull\", \"bull\", \"bull\", \"bull\", \"bull\", \"bull\", \"bull\", \"burnshouectect\", \"burnshouectect\", \"business\", \"business\", \"business\", \"business\", \"business\", \"business\", \"business\", \"business\", \"business\", \"business\", \"buy\", \"buy\", \"buy\", \"buy\", \"buy\", \"buy\", \"buy\", \"buy\", \"buy\", \"buy\", \"buycom\", \"buycom\", \"buycom\", \"buycom\", \"buycom\", \"buycom\", \"buycom\", \"buycom\", \"buycom\", \"buycom\", \"byron\", \"byron\", \"byron\", \"byron\", \"byron\", \"byron\", \"byron\", \"byron\", \"byron\", \"byron\", \"bytes\", \"bytes\", \"cabernet\", \"cabernet\", \"cabernet\", \"cabernet\", \"cabernet\", \"cabernet\", \"cabernet\", \"cabernet\", \"cabernet\", \"cactus\", \"california\", \"california\", \"california\", \"california\", \"california\", \"california\", \"california\", \"california\", \"california\", \"california\", \"candlesticks\", \"candlesticks\", \"candlesticks\", \"candlesticks\", \"cap\", \"cap\", \"cap\", \"cap\", \"cap\", \"cap\", \"cap\", \"cap\", \"cap\", \"cap\", \"carlstrom\", \"carr\", \"carr\", \"carr\", \"carr\", \"carr\", \"carr\", \"carr\", \"carr\", \"cashiola\", \"cashiola\", \"cashiola\", \"cashiola\", \"cashiola\", \"cb\", \"cb\", \"cb\", \"cb\", \"cb\", \"cb\", \"cb\", \"cb\", \"cb\", \"cb\", \"cc\", \"cc\", \"cc\", \"cc\", \"cc\", \"cc\", \"cc\", \"cc\", \"cc\", \"cc\", \"ce\", \"ce\", \"ce\", \"ce\", \"ce\", \"ce\", \"ce\", \"ce\", \"ce\", \"ce\", \"cea\", \"cea\", \"cea\", \"cea\", \"cea\", \"cea\", \"cea\", \"cent\", \"cent\", \"cent\", \"cent\", \"cent\", \"cent\", \"cent\", \"cent\", \"cent\", \"cent\", \"cfa\", \"cfa\", \"cfa\", \"cgrantcaisocom\", \"cgrantcaisocom\", \"chairperson\", \"chairperson\", \"chairperson\", \"chairperson\", \"chairperson\", \"change\", \"change\", \"change\", \"change\", \"change\", \"change\", \"change\", \"change\", \"change\", \"change\", \"chardonnay\", \"chardonnay\", \"chardonnay\", \"chardonnay\", \"chardonnay\", \"chardonnay\", \"chardonnay\", \"chardonnay\", \"chart\", \"chart\", \"chart\", \"chart\", \"chart\", \"chart\", \"chart\", \"chart\", \"chart\", \"chart\", \"chaz\", \"chaz\", \"chaz\", \"chaz\", \"chaz\", \"chaz\", \"chaz\", \"chazvaughanenronnet\", \"chazvaughanenronnet\", \"chris\", \"chris\", \"chris\", \"chris\", \"chris\", \"chris\", \"chris\", \"chris\", \"chris\", \"chris\", \"christopher\", \"christopher\", \"christopher\", \"christopher\", \"christopher\", \"christopher\", \"christopher\", \"christopher\", \"christopher\", \"christopher\", \"chug\", \"cibc\", \"cibc\", \"cibc\", \"cibc\", \"cibc\", \"citygate\", \"citygate\", \"citygate\", \"citygate\", \"citygate\", \"citygate\", \"citygate\", \"citygate\", \"clement\", \"clement\", \"clement\", \"cleveland\", \"cleveland\", \"cleveland\", \"cleveland\", \"cleveland\", \"cleveland\", \"cleveland\", \"cleveland\", \"click\", \"click\", \"click\", \"click\", \"click\", \"click\", \"click\", \"click\", \"click\", \"click\", \"cmr\", \"cmr\", \"cmr\", \"cmr\", \"cmr\", \"cmr\", \"cmr\", \"cmr\", \"coin\", \"coin\", \"coin\", \"coin\", \"coin\", \"comiskey\", \"communications\", \"communications\", \"communications\", \"communications\", \"communications\", \"communications\", \"communications\", \"communications\", \"communications\", \"communications\", \"communicationsenron\", \"communicationsenron\", \"communicationsenron\", \"communicationsenron\", \"communicationsenron\", \"communicationsenron\", \"communicationsenron\", \"communicationsenron\", \"communicationsenron\", \"communicationsenron\", \"company\", \"company\", \"company\", \"company\", \"company\", \"company\", \"company\", \"company\", \"company\", \"company\", \"companyexchange\", \"companyexchange\", \"companyexchange\", \"companyexchange\", \"companyexchange\", \"companyexchange\", \"companyexchange\", \"companyexchange\", \"companys\", \"companys\", \"companys\", \"companys\", \"companys\", \"companys\", \"companys\", \"companys\", \"companys\", \"companys\", \"complication\", \"complication\", \"complication\", \"conf\", \"conf\", \"conf\", \"conf\", \"conf\", \"conf\", \"conf\", \"conf\", \"confebc\", \"confebc\", \"confebc\", \"confebc\", \"congestion\", \"congestion\", \"congestion\", \"congestion\", \"congestion\", \"congestion\", \"congestion\", \"congestion\", \"congestion\", \"congestion\", \"construction\", \"construction\", \"construction\", \"construction\", \"construction\", \"construction\", \"construction\", \"construction\", \"construction\", \"construction\", \"contact\", \"contact\", \"contact\", \"contact\", \"contact\", \"contact\", \"contact\", \"contact\", \"contact\", \"contact\", \"contain\", \"contain\", \"contain\", \"contain\", \"contain\", \"contain\", \"contain\", \"contain\", \"contain\", \"contain\", \"continental\", \"continental\", \"continental\", \"continental\", \"continental\", \"continental\", \"continental\", \"continental\", \"continental\", \"continental\", \"continentalcom\", \"continentalcom\", \"continentalcom\", \"continentalcom\", \"continentalcom\", \"continentalcom\", \"continentalcom\", \"continentalcom\", \"continentalcom\", \"contract\", \"contract\", \"contract\", \"contract\", \"contract\", \"contract\", \"contract\", \"contract\", \"contract\", \"contract\", \"coolus\", \"copy\", \"copy\", \"copy\", \"copy\", \"copy\", \"copy\", \"copy\", \"copy\", \"copy\", \"copy\", \"copyright\", \"copyright\", \"copyright\", \"copyright\", \"copyright\", \"copyright\", \"copyright\", \"copyright\", \"copyright\", \"copyright\", \"corp\", \"corp\", \"corp\", \"corp\", \"corp\", \"corp\", \"corp\", \"corp\", \"corp\", \"corp\", \"cortlandt\", \"cost\", \"cost\", \"cost\", \"cost\", \"cost\", \"cost\", \"cost\", \"cost\", \"cost\", \"cost\", \"coursey\", \"coursey\", \"coursey\", \"coursey\", \"cowen\", \"cowen\", \"cowen\", \"cowen\", \"cowen\", \"create\", \"create\", \"create\", \"create\", \"create\", \"create\", \"create\", \"create\", \"create\", \"create\", \"credit\", \"credit\", \"credit\", \"credit\", \"credit\", \"credit\", \"credit\", \"credit\", \"credit\", \"credit\", \"creekside\", \"creekside\", \"creekside\", \"creekside\", \"creekside\", \"creekside\", \"creekside\", \"creekside\", \"creekside\", \"creekside\", \"creem\", \"crude\", \"crude\", \"crude\", \"crude\", \"crude\", \"crude\", \"crude\", \"crude\", \"crude\", \"crude\", \"crudepdf\", \"ct\", \"ct\", \"ct\", \"ct\", \"ct\", \"ct\", \"ct\", \"ct\", \"ct\", \"ct\", \"d\", \"d\", \"d\", \"d\", \"d\", \"d\", \"d\", \"d\", \"d\", \"d\", \"daman\", \"daman\", \"daniel\", \"daniel\", \"daniel\", \"daniel\", \"daniel\", \"daniel\", \"daniel\", \"daniel\", \"daniel\", \"daniel\", \"dans\", \"dans\", \"dans\", \"dans\", \"dans\", \"dassurer\", \"dassurer\", \"dassurer\", \"dassurer\", \"dassurer\", \"dassurer\", \"datum\", \"datum\", \"datum\", \"datum\", \"datum\", \"datum\", \"datum\", \"datum\", \"datum\", \"datum\", \"david\", \"david\", \"david\", \"david\", \"david\", \"david\", \"david\", \"david\", \"david\", \"david\", \"day\", \"day\", \"day\", \"day\", \"day\", \"day\", \"day\", \"day\", \"day\", \"day\", \"de\", \"de\", \"de\", \"de\", \"de\", \"de\", \"de\", \"de\", \"de\", \"de\", \"deal\", \"deal\", \"deal\", \"deal\", \"deal\", \"deal\", \"deal\", \"deal\", \"deal\", \"deal\", \"deathly\", \"deathly\", \"deathly\", \"deathly\", \"debbie\", \"debbie\", \"debbie\", \"debbie\", \"debbie\", \"debbie\", \"debbie\", \"debbie\", \"debbie\", \"debbie\", \"debt\", \"debt\", \"debt\", \"debt\", \"debt\", \"debt\", \"debt\", \"debt\", \"debt\", \"debt\", \"declinent\", \"declinent\", \"declinent\", \"declinent\", \"declinent\", \"deferral\", \"deferral\", \"deferral\", \"deferral\", \"deferral\", \"deferral\", \"demand\", \"demand\", \"demand\", \"demand\", \"demand\", \"demand\", \"demand\", \"demand\", \"demand\", \"demand\", \"den\", \"den\", \"den\", \"den\", \"den\", \"den\", \"den\", \"description\", \"description\", \"description\", \"description\", \"description\", \"description\", \"description\", \"description\", \"description\", \"description\", \"destruction\", \"destruction\", \"destruction\", \"destruction\", \"destruction\", \"destruction\", \"destruction\", \"destruction\", \"destruction\", \"detentionretention\", \"detentionretention\", \"detentionretention\", \"detentionretention\", \"dexter\", \"dexter\", \"dexter\", \"dexter\", \"dexter\", \"dicarlo\", \"dicarlo\", \"dicarlo\", \"dicarlo\", \"dicarlo\", \"dicarlo\", \"dicarlo\", \"dicarlo\", \"dicarlo\", \"differ\", \"differ\", \"differ\", \"differ\", \"differ\", \"differ\", \"differ\", \"differ\", \"differ\", \"differ\", \"diffusion\", \"diffusion\", \"diffusion\", \"diffusion\", \"diffusion\", \"diffusion\", \"diluted\", \"diluted\", \"diluted\", \"diluted\", \"diluted\", \"diluted\", \"diluted\", \"disc\", \"disc\", \"disc\", \"disc\", \"disc\", \"disc\", \"disc\", \"disc\", \"disc\", \"disk\", \"disk\", \"disk\", \"disk\", \"disk\", \"disk\", \"disk\", \"disk\", \"disk\", \"dmand\", \"dmand\", \"doctor\", \"doctor\", \"doctor\", \"doctor\", \"doctor\", \"doctor\", \"doctor\", \"doctor\", \"doctor\", \"doubletree\", \"doubletree\", \"doubletree\", \"doubletree\", \"doubletree\", \"doubletree\", \"dow\", \"dow\", \"dow\", \"dow\", \"dow\", \"dow\", \"dow\", \"dow\", \"dow\", \"dow\", \"downcrude\", \"downdraft\", \"downdraft\", \"downdraft\", \"downgrade\", \"downgrade\", \"downgrade\", \"downgrade\", \"downgrade\", \"downgrade\", \"downgrade\", \"downgrade\", \"downgrade\", \"downgrade\", \"dpc\", \"dpc\", \"dpc\", \"dpc\", \"dpc\", \"dpc\", \"dpc\", \"dpc\", \"dpc\", \"dpc\", \"dvd\", \"dvd\", \"dvd\", \"dvd\", \"dvd\", \"dvd\", \"dvd\", \"dvd\", \"dvd\", \"dvd\", \"dynegy\", \"dynegy\", \"dynegy\", \"dynegy\", \"dynegy\", \"dynegy\", \"dynegy\", \"dynegy\", \"dynegy\", \"dynegy\", \"dysonect\", \"earning\", \"earning\", \"earning\", \"earning\", \"earning\", \"earning\", \"earning\", \"earning\", \"earning\", \"earning\", \"earningscom\", \"earningscom\", \"earningscom\", \"earningscom\", \"earningscom\", \"earningscom\", \"earningscom\", \"earningscom\", \"earningscom\", \"ebc\", \"ebc\", \"ebc\", \"ebc\", \"ebc\", \"ebc\", \"ebc\", \"ebc\", \"ebc\", \"ebs\", \"ebs\", \"ebs\", \"ebs\", \"ebs\", \"ebs\", \"ebs\", \"ebs\", \"ebs\", \"ebs\", \"edi\", \"edi\", \"edi\", \"edi\", \"edi\", \"edi\", \"edi\", \"edie\", \"edward\", \"edward\", \"edward\", \"edward\", \"edward\", \"edward\", \"edward\", \"edward\", \"edward\", \"edward\", \"ela\", \"ela\", \"ela\", \"ela\", \"ela\", \"eleanor\", \"eleanor\", \"elliotthouectect\", \"elvis\", \"elvis\", \"email\", \"email\", \"email\", \"email\", \"email\", \"email\", \"email\", \"email\", \"email\", \"email\", \"embassy\", \"embassy\", \"embassy\", \"emery\", \"emery\", \"emery\", \"energy\", \"energy\", \"energy\", \"energy\", \"energy\", \"energy\", \"energy\", \"energy\", \"energy\", \"energy\", \"enforceable\", \"enforceable\", \"enforceable\", \"enforceable\", \"enforceable\", \"enforceable\", \"enforceable\", \"enforceable\", \"enforceable\", \"enlarge\", \"enlarge\", \"enlarge\", \"enpower\", \"enpower\", \"enpower\", \"enpower\", \"enpower\", \"enpower\", \"enpower\", \"enron\", \"enron\", \"enron\", \"enron\", \"enron\", \"enron\", \"enron\", \"enron\", \"enron\", \"enron\", \"enronadminfsddatasvccom\", \"enronmessagingadministrationenroncom\", \"enronmessagingadministrationenroncom\", \"enronmessagingadministrationenroncom\", \"enronmessagingadministrationenroncom\", \"enronmessagingadministrationenroncom\", \"enronmessagingadministrationenroncom\", \"enronmessagingadministrationenroncom\", \"enronmessagingadministrationenroncom\", \"enronmessagingadministrationenroncom\", \"environment\", \"environment\", \"environment\", \"environment\", \"environment\", \"environment\", \"environment\", \"environment\", \"environment\", \"environment\", \"eob\", \"eob\", \"eob\", \"eob\", \"eob\", \"eob\", \"eob\", \"eob\", \"eob\", \"eob\", \"estoppel\", \"estoppel\", \"estoppel\", \"estoppel\", \"estoppel\", \"estoppel\", \"estoppel\", \"estoppel\", \"estoppel\", \"et\", \"et\", \"et\", \"et\", \"et\", \"et\", \"et\", \"et\", \"et\", \"et\", \"etabli\", \"etabli\", \"etabli\", \"etabli\", \"etabli\", \"evidence\", \"evidence\", \"evidence\", \"evidence\", \"evidence\", \"evidence\", \"evidence\", \"evidence\", \"evidence\", \"evidence\", \"ewr\", \"ews\", \"ews\", \"ews\", \"ews\", \"ews\", \"ews\", \"ews\", \"ews\", \"ews\", \"expit\", \"expit\", \"exploration\", \"exploration\", \"exploration\", \"exploration\", \"exploration\", \"exploration\", \"exploration\", \"exploration\", \"exploration\", \"exploration\", \"express\", \"express\", \"express\", \"express\", \"express\", \"express\", \"express\", \"express\", \"express\", \"express\", \"expresse\", \"expresse\", \"expresse\", \"expresse\", \"expresse\", \"exterior\", \"exterior\", \"exterior\", \"exterior\", \"exterior\", \"exterior\", \"fall\", \"fall\", \"fall\", \"fall\", \"fall\", \"fall\", \"fall\", \"fall\", \"fall\", \"fall\", \"fallonhouectect\", \"fallonhouectect\", \"fallonhouectect\", \"fangme\", \"fangme\", \"fangme\", \"fangme\", \"fangme\", \"fangme\", \"fangme\", \"fangme\", \"farmhouse\", \"farmhouse\", \"farmhouse\", \"fastow\", \"fastow\", \"fastow\", \"fastow\", \"fastow\", \"fastow\", \"fastow\", \"fastow\", \"fastow\", \"fastow\", \"fax\", \"fax\", \"fax\", \"fax\", \"fax\", \"fax\", \"fax\", \"fax\", \"fax\", \"fax\", \"ffapdf\", \"ffapdf\", \"ffapdf\", \"ffapdf\", \"fieldsid\", \"fieldsid\", \"fieldsid\", \"fieldsid\", \"fieldsid\", \"fieldsid\", \"filtration\", \"filtration\", \"filtration\", \"filtration\", \"financial\", \"financial\", \"financial\", \"financial\", \"financial\", \"financial\", \"financial\", \"financial\", \"financial\", \"financial\", \"finishing\", \"finishing\", \"finishing\", \"flip\", \"flip\", \"flip\", \"flip\", \"flip\", \"flip\", \"floatforfloat\", \"formula\", \"formula\", \"formula\", \"formula\", \"formula\", \"formula\", \"formula\", \"formula\", \"formula\", \"formula\", \"forward\", \"forward\", \"forward\", \"forward\", \"forward\", \"forward\", \"forward\", \"forward\", \"forward\", \"forward\", \"franco\", \"free\", \"free\", \"free\", \"free\", \"free\", \"free\", \"free\", \"free\", \"free\", \"free\", \"fri\", \"fri\", \"fri\", \"fri\", \"fri\", \"fri\", \"fri\", \"fri\", \"fri\", \"fri\", \"fsd\", \"fsd\", \"futures\", \"futures\", \"futures\", \"futures\", \"futures\", \"futures\", \"futures\", \"futures\", \"futures\", \"futures\", \"gable\", \"gable\", \"gable\", \"gable\", \"gable\", \"gapinski\", \"gapinski\", \"gapinski\", \"gapinski\", \"gapinski\", \"gapinski\", \"gapinski\", \"gapinski\", \"gas\", \"gas\", \"gas\", \"gas\", \"gas\", \"gas\", \"gas\", \"gas\", \"gas\", \"gas\", \"gasheat\", \"gasheat\", \"gasheat\", \"gasheat\", \"giovannini\", \"girdy\", \"go\", \"go\", \"go\", \"go\", \"go\", \"go\", \"go\", \"go\", \"go\", \"go\", \"goldsmith\", \"goldsmith\", \"good\", \"good\", \"good\", \"good\", \"good\", \"good\", \"good\", \"good\", \"good\", \"good\", \"grahamcorpenronenronvince\", \"grigsby\", \"grigsby\", \"grigsby\", \"grigsby\", \"grigsby\", \"grigsby\", \"grigsby\", \"grigsby\", \"grigsby\", \"grigsby\", \"gui\", \"gui\", \"gunther\", \"gunther\", \"gunther\", \"gunther\", \"gunther\", \"gunther\", \"gunther\", \"gunther\", \"gunther\", \"gunther\", \"harrassment\", \"have\", \"have\", \"have\", \"have\", \"have\", \"have\", \"have\", \"have\", \"have\", \"have\", \"help\", \"help\", \"help\", \"help\", \"help\", \"help\", \"help\", \"help\", \"help\", \"help\", \"hereto\", \"hereto\", \"hereto\", \"hereto\", \"hereto\", \"hereto\", \"hereto\", \"hereto\", \"hereto\", \"hilson\", \"hilson\", \"hilson\", \"hilton\", \"hilton\", \"hilton\", \"hilton\", \"hilton\", \"hilton\", \"hilton\", \"hilton\", \"hilton\", \"hilton\", \"hj\", \"hj\", \"hj\", \"hj\", \"hj\", \"hj\", \"hoey\", \"hoffmanpdxect\", \"hoffmanpdxect\", \"hoffmanpdxect\", \"hoffmanpdxect\", \"hoffmanpdxect\", \"hoffmanpdxect\", \"hoffmanpdxect\", \"hoffmanpdxect\", \"hoffmanpdxect\", \"hoffmanpdxect\", \"holly\", \"holly\", \"holly\", \"holly\", \"holly\", \"holly\", \"holly\", \"hookie\", \"hoskinsenron\", \"hoskinsenron\", \"hoskinsenron\", \"hoskinsenron\", \"hoskinsenron\", \"hoskinsenron\", \"hoskinsenron\", \"hoskinsenron\", \"hoskinsenron\", \"hot\", \"hot\", \"hot\", \"hot\", \"hot\", \"hot\", \"hot\", \"hot\", \"hot\", \"hot\", \"hotel\", \"hotel\", \"hotel\", \"hotel\", \"hotel\", \"hotel\", \"hotel\", \"hotel\", \"hotel\", \"hotel\", \"hotels\", \"hotels\", \"hotels\", \"hotels\", \"hotels\", \"hotels\", \"houston\", \"houston\", \"houston\", \"houston\", \"houston\", \"houston\", \"houston\", \"houston\", \"houston\", \"houston\", \"hp\", \"hp\", \"hp\", \"hp\", \"hp\", \"hp\", \"hp\", \"hp\", \"hp\", \"hps\", \"hps\", \"hps\", \"hps\", \"hps\", \"hps\", \"hps\", \"hps\", \"hps\", \"hrobertsonhbkcom\", \"hrobertsonhbkcom\", \"hrobertsonhbkcom\", \"httpcgizdnetcomslink\", \"httpcgizdnetcomslink\", \"httpcgizdnetcomslink\", \"httpcgizdnetcomslink\", \"httpcgizdnetcomslink\", \"httpcgizdnetcomslink\", \"httpcgizdnetcomslink\", \"httpcgizdnetcomslink\", \"httpcgizdnetcomslink\", \"httpcgizdnetcomslinkadeskbadt\", \"httpcgizdnetcomslinkadeskbadt\", \"httpcgizdnetcomslinkadeskbadt\", \"httpcgizdnetcomslinkadeskbadt\", \"httpcgizdnetcomslinkadeskbadt\", \"httpcgizdnetcomslinkadeskbadt\", \"httpcgizdnetcomslinkadeskbadt\", \"httpintelligencepresscomsubscribersindexhtml\", \"httpiosetsenroncominfopostingssharedetnoncriticalnoticeaspcompany\", \"httpiosetsenroncominfopostingssharedetnoncriticalnoticeaspcompany\", \"httpiosetsenroncominfopostingssharedetnoncriticalnoticeaspcompany\", \"httpitcappscorpenroncomsrrsapprovedetailaspidemail\", \"httpitcappscorpenroncomsrrsauthemaillinkaspidpage\", \"httpitcappscorpenroncomsrrsauthemaillinkaspidpageapproval\", \"httptournamentfantasysportsyahoocommen\", \"httpwwwbaltimoresuncomcontentcoverstorysectioncoverpagenamestorys\", \"httpwwwcarrfutcom\", \"httpwwwcarrfutcom\", \"httpwwwcarrfutcom\", \"httpwwwcarrfutcom\", \"httpwwwcarrfutcom\", \"httpwwwcarrfutcomresearchenergycandlestickspdf\", \"httpwwwcarrfutcomresearchenergycandlestickspdf\", \"httpwwwcarrfutcomresearchenergycandlestickspdf\", \"httpwwwcarrfutcomresearchenergycandlestickspdf\", \"httpwwwcarrfutcomresearchenergycrudepdf\", \"httpwwwcarrfutcomresearchenergycrudepdf\", \"httpwwwcarrfutcomresearchenergycrudepdf\", \"httpwwwcarrfutcomresearchenergycrudepdf\", \"httpwwwcarrfutcomresearchenergycrudepdf\", \"httpwwwcarrfutcomresearchenergygascrackpdf\", \"httpwwwcarrfutcomresearchenergygascrackpdf\", \"httpwwwcarrfutcomresearchenergygascrackpdf\", \"httpwwwcarrfutcomresearchenergyheatcrackpdf\", \"httpwwwcarrfutcomresearchenergyheatcrackpdf\", \"httpwwwcarrfutcomresearchenergyheatcrackpdf\", \"httpwwwcarrfutcomresearchenergyhofhogpdf\", \"httpwwwcarrfutcomresearchenergyhofhogpdf\", \"httpwwwcarrfutcomresearchenergyhofhogpdf\", \"httpwwwcarrfutcomresearchenergyhoilpdf\", \"httpwwwcarrfutcomresearchenergyhoilpdf\", \"httpwwwcarrfutcomresearchenergyhoilpdf\", \"httpwwwcarrfutcomresearchenergyhoilpdf\", \"httpwwwcarrfutcomresearchenergyhoilpdf\", \"httpwwwcarrfutcomresearchenergyhuxhoxpdf\", \"httpwwwcarrfutcomresearchenergyhuxhoxpdf\", \"httpwwwcarrfutcomresearchenergyhuxhoxpdf\", \"httpwwwcarrfutcomresearchenergyhuxhoxpdf\", \"httpwwwcarrfutcomresearchenergyngaspdf\", \"httpwwwcarrfutcomresearchenergyngaspdf\", \"httpwwwcarrfutcomresearchenergyngaspdf\", \"httpwwwcarrfutcomresearchenergyngaspdf\", \"httpwwwcarrfutcomresearchenergyngaspdf\", \"httpwwwcarrfutcomresearchenergyspreadmatrixclpdf\", \"httpwwwcarrfutcomresearchenergyspreadmatrixclpdf\", \"httpwwwcarrfutcomresearchenergyspreadmatrixclpdf\", \"httpwwwcarrfutcomresearchenergyspreadmatrixclpdf\", \"httpwwwcarrfutcomresearchenergyspreadmatrixclpdf\", \"httpwwwcarrfutcomresearchenergyspreadmatrixngpdf\", \"httpwwwcarrfutcomresearchenergyspreadmatrixngpdf\", \"httpwwwcarrfutcomresearchenergyspreadmatrixngpdf\", \"httpwwwcarrfutcomresearchenergyspreadmatrixngpdf\", \"httpwwwcarrfutcomresearchenergyspreadmatrixngpdf\", \"httpwwwcarrfutcomresearchenergystripmatrixngpdf\", \"httpwwwcarrfutcomresearchenergystripmatrixngpdf\", \"httpwwwcarrfutcomresearchenergystripmatrixngpdf\", \"httpwwwcarrfutcomresearchenergystripmatrixngpdf\", \"httpwwwcarrfutcomresearchenergystripmatrixngpdf\", \"httpwwwcarrfutcomresearchenergystripmatrixpdf\", \"httpwwwcarrfutcomresearchenergystripmatrixpdf\", \"httpwwwcarrfutcomresearchenergystripmatrixpdf\", \"httpwwwcarrfutcomresearchenergystripmatrixpdf\", \"httpwwwcarrfutcomresearchenergyunldedpdf\", \"httpwwwcarrfutcomresearchenergyunldedpdf\", \"httpwwwcarrfutcomresearchenergyunldedpdf\", \"httpwwwcarrfutcomresearchenergyunldedpdf\", \"httpwwwcarrfutcomresearchenergyunldedpdf\", \"httpwwweinsightcom\", \"httpwwweinsightcom\", \"httpwwweinsightcom\", \"httpwwweinsightcom\", \"httpwwweinsightcom\", \"httpwwwfsddatasvccomenron\", \"httpwwwmultexinvestorcomdownloadaspdocidnd\", \"httpwwwmultexinvestorcomdownloadaspdocidnd\", \"httpwwwmultexinvestorcomdownloadaspdocidnd\", \"httpwwwmultexinvestorcomdownloadaspdocidnd\", \"httpwwwmultexinvestorcomdownloadaspdocidnd\", \"httpwwwmultexinvestorcomdownloadaspdocidnd\", \"httpwwwmultexinvestorcomdownloadaspdocidnd\", \"httpwwwmultexinvestorcomdownloadaspdocidnd\", \"httpwwwmultexinvestorcomdownloadaspdocidnd\", \"httpwwwwinebidcomhomespotlightshtml\", \"httpwwwwinebidcomhomespotlightshtml\", \"httpwwwwinebidcomhomespotlightshtml\", \"httpwwwwinebidcomositemhtmlhtshtml\", \"httpwwwwinebidcomositemhtmlhtshtml\", \"httpwwwwinebidcomositemhtmlhtshtml\", \"httpwwwwinebidcomositemhtmlhtshtml\", \"httpwwwwinebidcomositemhtmlhtshtml\", \"httpwwwwinebidcomositemhtmlhtshtml\", \"httpwwwzdnetoneboxcom\", \"httpwwwzdnetoneboxcom\", \"httpwwwzdnetoneboxcom\", \"httpwwwzdnetoneboxcom\", \"httpwwwzdnetoneboxcom\", \"httpwwwzdnetoneboxcom\", \"idrc\", \"idrc\", \"idrc\", \"idrc\", \"idrc\", \"idrc\", \"idrc\", \"image\", \"image\", \"image\", \"image\", \"image\", \"image\", \"image\", \"image\", \"image\", \"image\", \"imagegif\", \"imagegif\", \"imageimage\", \"imageimage\", \"imageimage\", \"imageimage\", \"imageimage\", \"imageimage\", \"imageimage\", \"imageimage\", \"imageimage\", \"imageimage\", \"imagemore\", \"imagemore\", \"imagemore\", \"imagemore\", \"imagemore\", \"imagewmz\", \"immediatement\", \"immediatement\", \"immediatement\", \"immediatement\", \"immediatement\", \"impact\", \"impact\", \"impact\", \"impact\", \"impact\", \"impact\", \"impact\", \"impact\", \"impact\", \"impact\", \"improvement\", \"improvement\", \"improvement\", \"improvement\", \"improvement\", \"improvement\", \"improvement\", \"improvement\", \"improvement\", \"improvement\", \"ina\", \"ina\", \"ina\", \"ina\", \"ina\", \"ina\", \"ina\", \"ina\", \"ina\", \"ina\", \"inc\", \"inc\", \"inc\", \"inc\", \"inc\", \"inc\", \"inc\", \"inc\", \"inc\", \"inc\", \"include\", \"include\", \"include\", \"include\", \"include\", \"include\", \"include\", \"include\", \"include\", \"include\", \"indeces\", \"india\", \"india\", \"india\", \"india\", \"india\", \"india\", \"india\", \"india\", \"india\", \"india\", \"infomercial\", \"infomercial\", \"information\", \"information\", \"information\", \"information\", \"information\", \"information\", \"information\", \"information\", \"information\", \"information\", \"infoseek\", \"infoseek\", \"infoseek\", \"infoseek\", \"initiate\", \"initiate\", \"initiate\", \"initiate\", \"initiate\", \"initiate\", \"initiate\", \"initiate\", \"initiate\", \"initiate\", \"inj\", \"inj\", \"inj\", \"inj\", \"inj\", \"inj\", \"installer\", \"instruction\", \"instruction\", \"instruction\", \"instruction\", \"instruction\", \"instruction\", \"instruction\", \"instruction\", \"instruction\", \"instruction\", \"instrument\", \"instrument\", \"instrument\", \"instrument\", \"instrument\", \"instrument\", \"instrument\", \"instrument\", \"instrument\", \"instrument\", \"intend\", \"intend\", \"intend\", \"intend\", \"intend\", \"intend\", \"intend\", \"intend\", \"intend\", \"intend\", \"intensity\", \"intensity\", \"intensity\", \"intensity\", \"intensity\", \"intensity\", \"intensity\", \"intensity\", \"intensity\", \"interdite\", \"interdite\", \"interdite\", \"interdite\", \"interdite\", \"intersc\", \"intersc\", \"intersc\", \"intersc\", \"intersc\", \"intersc\", \"intersc\", \"inverse\", \"inverse\", \"inverse\", \"inverse\", \"investment\", \"investment\", \"investment\", \"investment\", \"investment\", \"investment\", \"investment\", \"investment\", \"investment\", \"investment\", \"investor\", \"investor\", \"investor\", \"investor\", \"investor\", \"investor\", \"investor\", \"investor\", \"investor\", \"investor\", \"iso\", \"iso\", \"iso\", \"iso\", \"iso\", \"iso\", \"iso\", \"iso\", \"iso\", \"iso\", \"iwon\", \"iwon\", \"iwon\", \"j\", \"j\", \"j\", \"j\", \"j\", \"j\", \"j\", \"j\", \"j\", \"j\", \"jalexandergibbsbrunscom\", \"jalexandergibbsbrunscom\", \"jalexandergibbsbrunscom\", \"james\", \"james\", \"james\", \"james\", \"james\", \"james\", \"james\", \"james\", \"james\", \"james\", \"japan\", \"japan\", \"japan\", \"japan\", \"japan\", \"japan\", \"japan\", \"japan\", \"japan\", \"japan\", \"jason\", \"jason\", \"jason\", \"jason\", \"jason\", \"jason\", \"jason\", \"jason\", \"jason\", \"jason\", \"jeans\", \"jed\", \"jeff\", \"jeff\", \"jeff\", \"jeff\", \"jeff\", \"jeff\", \"jeff\", \"jeff\", \"jeff\", \"jeff\", \"jennifer\", \"jennifer\", \"jennifer\", \"jennifer\", \"jennifer\", \"jennifer\", \"jennifer\", \"jennifer\", \"jennifer\", \"jennifer\", \"jerky\", \"jerky\", \"jfk\", \"jfks\", \"jfkyahoocom\", \"jim\", \"jim\", \"jim\", \"jim\", \"jim\", \"jim\", \"jim\", \"jim\", \"jim\", \"jim\", \"john\", \"john\", \"john\", \"john\", \"john\", \"john\", \"john\", \"john\", \"john\", \"john\", \"johnsonhrcorpenronenron\", \"johnsonhrcorpenronenron\", \"jointes\", \"jointes\", \"jointes\", \"jointes\", \"jonathon\", \"jones\", \"jones\", \"jones\", \"jones\", \"jones\", \"jones\", \"jones\", \"jones\", \"jones\", \"jones\", \"joneshrcorpenronenron\", \"joneshrcorpenronenron\", \"joneshrcorpenronenron\", \"joneshrcorpenronenron\", \"jpi\", \"jpi\", \"jpi\", \"jpi\", \"jpi\", \"jurassic\", \"k\", \"k\", \"k\", \"k\", \"k\", \"k\", \"k\", \"k\", \"k\", \"k\", \"kdavismanfinancialcom\", \"kdavismanfinancialcom\", \"kdavismanfinancialcomenron\", \"kdavismanfinancialcomenron\", \"keegan\", \"keegan\", \"keegan\", \"keilty\", \"keilty\", \"kellner\", \"kellner\", \"kellner\", \"kemplonectect\", \"kemplonectect\", \"kim\", \"kim\", \"kim\", \"kim\", \"kim\", \"kim\", \"kim\", \"kim\", \"kim\", \"kim\", \"kimberley\", \"kingsgate\", \"kingsgate\", \"kingsgate\", \"kingsgate\", \"know\", \"know\", \"know\", \"know\", \"know\", \"know\", \"know\", \"know\", \"know\", \"know\", \"kobra\", \"koenigcorpenronenron\", \"kristingandyenroncom\", \"kwmo\", \"kwmo\", \"kwmo\", \"kwmo\", \"kwmo\", \"l\", \"l\", \"l\", \"l\", \"l\", \"l\", \"l\", \"l\", \"l\", \"l\", \"land\", \"land\", \"land\", \"land\", \"land\", \"land\", \"land\", \"land\", \"land\", \"land\", \"lans\", \"lans\", \"lans\", \"larrry\", \"le\", \"le\", \"le\", \"le\", \"le\", \"le\", \"le\", \"le\", \"le\", \"le\", \"leschber\", \"let\", \"let\", \"let\", \"let\", \"let\", \"let\", \"let\", \"let\", \"let\", \"let\", \"lexpediteur\", \"lexpediteur\", \"lexpediteur\", \"lexpediteur\", \"lexpediteur\", \"lianekuchermcgrawhillcom\", \"librarycom\", \"librarycom\", \"librarycom\", \"librarycom\", \"librarycom\", \"librarycom\", \"librarycom\", \"librarycom\", \"like\", \"like\", \"like\", \"like\", \"like\", \"like\", \"like\", \"like\", \"like\", \"like\", \"lintegrite\", \"lintegrite\", \"lintegrite\", \"lintegrite\", \"lintention\", \"lintention\", \"lintention\", \"lintention\", \"lintention\", \"lintention\", \"linternet\", \"linternet\", \"linternet\", \"linternet\", \"linternet\", \"liquefaction\", \"liquefaction\", \"lisa\", \"lisa\", \"lisa\", \"lisa\", \"lisa\", \"lisa\", \"lisa\", \"lisa\", \"lisa\", \"lisa\", \"liszewski\", \"liszewski\", \"liszewski\", \"loan\", \"loan\", \"loan\", \"loan\", \"loan\", \"loan\", \"loan\", \"loan\", \"loan\", \"loan\", \"london\", \"london\", \"london\", \"london\", \"london\", \"london\", \"london\", \"london\", \"london\", \"london\", \"look\", \"look\", \"look\", \"look\", \"look\", \"look\", \"look\", \"look\", \"look\", \"look\", \"loss\", \"loss\", \"loss\", \"loss\", \"loss\", \"loss\", \"loss\", \"loss\", \"loss\", \"loss\", \"lot\", \"lot\", \"lot\", \"lot\", \"lot\", \"lot\", \"lot\", \"lot\", \"lot\", \"lot\", \"lucy\", \"lucy\", \"lucy\", \"lucy\", \"lucy\", \"lucy\", \"lucy\", \"lucy\", \"lucy\", \"lucy\", \"m\", \"m\", \"m\", \"m\", \"m\", \"m\", \"m\", \"m\", \"m\", \"m\", \"mail\", \"mail\", \"mail\", \"mail\", \"mail\", \"mail\", \"mail\", \"mail\", \"mail\", \"mail\", \"mailer\", \"mailer\", \"malin\", \"malin\", \"malin\", \"malin\", \"malin\", \"malin\", \"mapping\", \"mapping\", \"marchapr\", \"margaret\", \"margaret\", \"margaret\", \"margaret\", \"margaret\", \"margaret\", \"margaret\", \"margaret\", \"margaret\", \"margaret\", \"mark\", \"mark\", \"mark\", \"mark\", \"mark\", \"mark\", \"mark\", \"mark\", \"mark\", \"mark\", \"market\", \"market\", \"market\", \"market\", \"market\", \"market\", \"market\", \"market\", \"market\", \"market\", \"masson\", \"masterdisc\", \"masterdisc\", \"masterdisc\", \"material\", \"material\", \"material\", \"material\", \"material\", \"material\", \"material\", \"material\", \"material\", \"material\", \"matrix\", \"matrix\", \"matrix\", \"matrix\", \"matrix\", \"matrix\", \"matrix\", \"matrix\", \"matson\", \"matson\", \"matson\", \"matson\", \"matson\", \"matson\", \"mattsmithenroncom\", \"mattsmithenroncom\", \"maxdiscusazip\", \"maxdiscusazip\", \"maxdiscusazip\", \"mcnary\", \"md\", \"md\", \"md\", \"md\", \"md\", \"md\", \"md\", \"md\", \"md\", \"md\", \"meeting\", \"meeting\", \"meeting\", \"meeting\", \"meeting\", \"meeting\", \"meeting\", \"meeting\", \"meeting\", \"meeting\", \"merci\", \"merci\", \"merci\", \"merci\", \"merlot\", \"merlot\", \"merlot\", \"merlot\", \"merlot\", \"merlot\", \"merlot\", \"merlot\", \"merlot\", \"message\", \"message\", \"message\", \"message\", \"message\", \"message\", \"message\", \"message\", \"message\", \"message\", \"mg\", \"mg\", \"mg\", \"mg\", \"mg\", \"michael\", \"michael\", \"michael\", \"michael\", \"michael\", \"michael\", \"michael\", \"michael\", \"michael\", \"michael\", \"michaelbyrneamericasbnpparibascom\", \"michaelbyrneamericasbnpparibascom\", \"miertschin\", \"miertschin\", \"migration\", \"migration\", \"migration\", \"migration\", \"migration\", \"migration\", \"migration\", \"migration\", \"migration\", \"migration\", \"mike\", \"mike\", \"mike\", \"mike\", \"mike\", \"mike\", \"mike\", \"mike\", \"mike\", \"mike\", \"miles\", \"miles\", \"miles\", \"miles\", \"miles\", \"miles\", \"miles\", \"miles\", \"miles\", \"miles\", \"million\", \"million\", \"million\", \"million\", \"million\", \"million\", \"million\", \"million\", \"million\", \"million\", \"millshouect\", \"millshouect\", \"millshouect\", \"millshouect\", \"mime\", \"mime\", \"mimecompliant\", \"mimecompliant\", \"minick\", \"mkt\", \"mkt\", \"mkt\", \"mkt\", \"mkt\", \"mkt\", \"mkt\", \"mkt\", \"mkt\", \"mkt\", \"mkts\", \"mkts\", \"mkts\", \"mkts\", \"mkts\", \"mm\", \"mm\", \"mm\", \"mm\", \"mm\", \"mm\", \"mm\", \"mm\", \"mm\", \"mm\", \"mmbtus\", \"mmbtus\", \"mmbtus\", \"mmbtus\", \"mneeleycaisocom\", \"modifie\", \"modifie\", \"modifie\", \"modifie\", \"modifie\", \"monday\", \"monday\", \"monday\", \"monday\", \"monday\", \"monday\", \"monday\", \"monday\", \"monday\", \"monday\", \"morning\", \"morning\", \"morning\", \"morning\", \"morning\", \"morning\", \"morning\", \"morning\", \"morning\", \"morning\", \"morseenron\", \"morseenron\", \"morseenron\", \"morseenron\", \"morseenron\", \"mseb\", \"mseb\", \"mseb\", \"mseb\", \"mseb\", \"mseb\", \"mseb\", \"mseb\", \"mseb\", \"mseb\", \"msimpkinswinsteadcom\", \"multex\", \"multex\", \"multex\", \"multex\", \"multex\", \"multex\", \"multex\", \"multex\", \"multex\", \"multex\", \"munson\", \"munson\", \"munson\", \"munson\", \"munson\", \"munson\", \"murnan\", \"myrna\", \"nahoutrdhoustonpwrcommonelectric\", \"nahoutrdhoustonpwrcommonpowerregion\", \"nameserver\", \"nameserver\", \"nameserver\", \"nat\", \"nat\", \"nat\", \"nat\", \"nat\", \"nat\", \"nat\", \"nat\", \"nat\", \"nat\", \"natural\", \"natural\", \"natural\", \"natural\", \"natural\", \"natural\", \"natural\", \"natural\", \"natural\", \"natural\", \"navajo\", \"need\", \"need\", \"need\", \"need\", \"need\", \"need\", \"need\", \"need\", \"need\", \"need\", \"neeley\", \"neutral\", \"neutral\", \"neutral\", \"neutral\", \"neutral\", \"neutral\", \"neutral\", \"neutral\", \"neutral\", \"neutral\", \"new\", \"new\", \"new\", \"new\", \"new\", \"new\", \"new\", \"new\", \"new\", \"new\", \"newark\", \"newark\", \"newark\", \"newark\", \"newark\", \"newark\", \"newark\", \"newark\", \"newark\", \"newark\", \"news\", \"news\", \"news\", \"news\", \"news\", \"news\", \"news\", \"news\", \"news\", \"news\", \"ngaspdf\", \"ngaspdfsee\", \"ngis\", \"ngis\", \"ngpl\", \"ngpl\", \"ngpl\", \"ngpl\", \"ngpl\", \"nicor\", \"nicor\", \"nicor\", \"nicor\", \"nicor\", \"nj\", \"nj\", \"nj\", \"nj\", \"nj\", \"nj\", \"nj\", \"nj\", \"nj\", \"nj\", \"noir\", \"noir\", \"noir\", \"noir\", \"noir\", \"noskehouectect\", \"noskehouectect\", \"noskehouectect\", \"not\", \"not\", \"not\", \"not\", \"not\", \"not\", \"not\", \"not\", \"not\", \"not\", \"nothingshare\", \"nothingshare\", \"nothingshare\", \"nothinguk\", \"november\", \"november\", \"november\", \"november\", \"november\", \"november\", \"november\", \"november\", \"november\", \"november\", \"nowak\", \"nowak\", \"nowak\", \"nowak\", \"nowless\", \"nymex\", \"nymex\", \"nymex\", \"nymex\", \"nymex\", \"nymex\", \"nymex\", \"nymex\", \"nymex\", \"nymex\", \"oblander\", \"oblander\", \"oblander\", \"oblander\", \"oblander\", \"occur\", \"occur\", \"occur\", \"occur\", \"occur\", \"occur\", \"occur\", \"occur\", \"occur\", \"occur\", \"october\", \"october\", \"october\", \"october\", \"october\", \"october\", \"october\", \"october\", \"october\", \"october\", \"offer\", \"offer\", \"offer\", \"offer\", \"offer\", \"offer\", \"offer\", \"offer\", \"offer\", \"offer\", \"offset\", \"offset\", \"offset\", \"offset\", \"offset\", \"offset\", \"offset\", \"offset\", \"offset\", \"offset\", \"oil\", \"oil\", \"oil\", \"oil\", \"oil\", \"oil\", \"oil\", \"oil\", \"oil\", \"oil\", \"oledatamso\", \"oncall\", \"oncall\", \"oncall\", \"oncall\", \"oncall\", \"oncall\", \"oncall\", \"oncall\", \"oncall\", \"onebox\", \"onebox\", \"onebox\", \"onebox\", \"onebox\", \"onebox\", \"onepass\", \"onepass\", \"onepass\", \"onepass\", \"onepass\", \"onepass\", \"onepass\", \"online\", \"online\", \"online\", \"online\", \"online\", \"online\", \"online\", \"online\", \"online\", \"online\", \"onshore\", \"onshore\", \"onshore\", \"onshore\", \"onshore\", \"optimization\", \"optimization\", \"optimization\", \"optimization\", \"order\", \"order\", \"order\", \"order\", \"order\", \"order\", \"order\", \"order\", \"order\", \"order\", \"original\", \"original\", \"original\", \"original\", \"original\", \"original\", \"original\", \"original\", \"original\", \"original\", \"orr\", \"orr\", \"orr\", \"orr\", \"orr\", \"otmc\", \"otmc\", \"otmc\", \"otmc\", \"otmc\", \"otmc\", \"otmc\", \"otmp\", \"otmp\", \"otmp\", \"otmp\", \"otmp\", \"otmp\", \"otmp\", \"ou\", \"ou\", \"ou\", \"ou\", \"ou\", \"ou\", \"ou\", \"ou\", \"ou\", \"ou\", \"outage\", \"outage\", \"outage\", \"outage\", \"outage\", \"outage\", \"outage\", \"outage\", \"outage\", \"outage\", \"outperform\", \"outperform\", \"outperform\", \"outperform\", \"outperform\", \"outperform\", \"outperform\", \"outperform\", \"outperform\", \"overdue\", \"overdue\", \"owa\", \"owa\", \"owa\", \"owa\", \"owa\", \"owa\", \"owa\", \"owa\", \"owa\", \"owa\", \"pager\", \"pager\", \"pager\", \"pager\", \"pager\", \"pager\", \"pager\", \"pager\", \"pager\", \"pager\", \"painewebber\", \"painewebber\", \"painewebber\", \"painewebber\", \"painewebber\", \"painewebber\", \"painewebber\", \"painewebber\", \"painewebber\", \"painewebber\", \"pantry\", \"pantry\", \"pantry\", \"paribas\", \"paribas\", \"paribas\", \"paribas\", \"paribas\", \"paribas\", \"paribas\", \"paribas\", \"paribas\", \"paribas\", \"parkerdrewmsdwcom\", \"participant\", \"participant\", \"participant\", \"participant\", \"participant\", \"participant\", \"participant\", \"participant\", \"participant\", \"participant\", \"partielle\", \"partielle\", \"partielle\", \"partielle\", \"password\", \"password\", \"password\", \"password\", \"password\", \"password\", \"password\", \"password\", \"password\", \"password\", \"peaker\", \"peaker\", \"peaker\", \"peaker\", \"peaker\", \"peaker\", \"peaker\", \"peaker\", \"peaker\", \"peercolleague\", \"peerscolleague\", \"pegasus\", \"pegasus\", \"pegasus\", \"pende\", \"pende\", \"pende\", \"pende\", \"pende\", \"pende\", \"pende\", \"pende\", \"pende\", \"pende\", \"pepl\", \"percent\", \"percent\", \"percent\", \"percent\", \"percent\", \"percent\", \"percent\", \"percent\", \"percent\", \"percent\", \"pergher\", \"pergher\", \"pergher\", \"pergher\", \"pergher\", \"pergher\", \"pergher\", \"pergher\", \"pergher\", \"pergher\", \"permettant\", \"permettant\", \"permettant\", \"permettant\", \"permettant\", \"pershare\", \"pershare\", \"pershare\", \"pershare\", \"pershare\", \"phillip\", \"phillip\", \"phillip\", \"phillip\", \"phillip\", \"phillip\", \"phillip\", \"phillip\", \"phillip\", \"phillip\", \"phone\", \"phone\", \"phone\", \"phone\", \"phone\", \"phone\", \"phone\", \"phone\", \"phone\", \"phone\", \"physicalfinancial\", \"physicalfinancial\", \"pickem\", \"pickem\", \"pickem\", \"pieces\", \"pieces\", \"pieces\", \"pieces\", \"pieces\", \"pielop\", \"pinot\", \"pinot\", \"pinot\", \"pinot\", \"pinot\", \"pinot\", \"pivot\", \"pivot\", \"pivot\", \"pl\", \"pl\", \"pl\", \"pl\", \"pl\", \"pl\", \"pl\", \"pl\", \"pl\", \"pl\", \"plan\", \"plan\", \"plan\", \"plan\", \"plan\", \"plan\", \"plan\", \"plan\", \"plan\", \"plan\", \"pm\", \"pm\", \"pm\", \"pm\", \"pm\", \"pm\", \"pm\", \"pm\", \"pm\", \"pm\", \"pmso\", \"pool\", \"pool\", \"pool\", \"pool\", \"pool\", \"pool\", \"pool\", \"pool\", \"pool\", \"pool\", \"porch\", \"porch\", \"porch\", \"porch\", \"porch\", \"porch\", \"porch\", \"position\", \"position\", \"position\", \"position\", \"position\", \"position\", \"position\", \"position\", \"position\", \"position\", \"power\", \"power\", \"power\", \"power\", \"power\", \"power\", \"power\", \"power\", \"power\", \"power\", \"prank\", \"prank\", \"presold\", \"presold\", \"presold\", \"presold\", \"presold\", \"presold\", \"presold\", \"presold\", \"pretax\", \"pretax\", \"pretax\", \"pretax\", \"pretax\", \"pretax\", \"pretax\", \"pretax\", \"price\", \"price\", \"price\", \"price\", \"price\", \"price\", \"price\", \"price\", \"price\", \"price\", \"privilege\", \"privilege\", \"privilege\", \"privilege\", \"privilege\", \"privilege\", \"privilege\", \"privilege\", \"privilege\", \"privileged\", \"privileged\", \"privileged\", \"privileged\", \"privileged\", \"privileged\", \"privileged\", \"privileged\", \"privileged\", \"privileged\", \"procedure\", \"procedure\", \"procedure\", \"procedure\", \"procedure\", \"procedure\", \"procedure\", \"procedure\", \"procedure\", \"procedure\", \"product\", \"product\", \"product\", \"product\", \"product\", \"product\", \"product\", \"product\", \"product\", \"product\", \"professionally\", \"proformaphillip\", \"proformaphillip\", \"proformaphillip\", \"proformaxls\", \"proformaxls\", \"proformaxls\", \"program\", \"program\", \"program\", \"program\", \"program\", \"program\", \"program\", \"program\", \"program\", \"program\", \"project\", \"project\", \"project\", \"project\", \"project\", \"project\", \"project\", \"project\", \"project\", \"project\", \"provide\", \"provide\", \"provide\", \"provide\", \"provide\", \"provide\", \"provide\", \"provide\", \"provide\", \"provide\", \"psa\", \"psa\", \"pt\", \"pt\", \"pt\", \"pt\", \"pt\", \"pt\", \"pt\", \"pt\", \"pt\", \"pt\", \"purpose\", \"purpose\", \"purpose\", \"purpose\", \"purpose\", \"purpose\", \"purpose\", \"purpose\", \"purpose\", \"purpose\", \"pwc\", \"pwc\", \"pwc\", \"pwc\", \"pwc\", \"quarter\", \"quarter\", \"quarter\", \"quarter\", \"quarter\", \"quarter\", \"quarter\", \"quarter\", \"quarter\", \"quarter\", \"question\", \"question\", \"question\", \"question\", \"question\", \"question\", \"question\", \"question\", \"question\", \"question\", \"queue\", \"queue\", \"queue\", \"rate\", \"rate\", \"rate\", \"rate\", \"rate\", \"rate\", \"rate\", \"rate\", \"rate\", \"rate\", \"rating\", \"rating\", \"rating\", \"rating\", \"rating\", \"rating\", \"rating\", \"rating\", \"rating\", \"rating\", \"ravine\", \"realnetworks\", \"realplayer\", \"receive\", \"receive\", \"receive\", \"receive\", \"receive\", \"receive\", \"receive\", \"receive\", \"receive\", \"receive\", \"recevez\", \"recevez\", \"recevez\", \"recevez\", \"recevez\", \"recevez\", \"recipient\", \"recipient\", \"recipient\", \"recipient\", \"recipient\", \"recipient\", \"recipient\", \"recipient\", \"recipient\", \"recipient\", \"recommendation\", \"recommendation\", \"recommendation\", \"recommendation\", \"recommendation\", \"recommendation\", \"recommendation\", \"recommendation\", \"recommendation\", \"recommendation\", \"recoupment\", \"recoupment\", \"reis\", \"reis\", \"reis\", \"reis\", \"reis\", \"reis\", \"reliable\", \"reliable\", \"reliable\", \"reliable\", \"reliable\", \"reliable\", \"reliable\", \"reliable\", \"reliable\", \"reliable\", \"rental\", \"rental\", \"rental\", \"rental\", \"rental\", \"rental\", \"rental\", \"rental\", \"rental\", \"rental\", \"rentroll\", \"rentroll\", \"rentroll\", \"rentroll\", \"rentroll\", \"rentroll\", \"rentroll\", \"rentroll\", \"rentroll\", \"report\", \"report\", \"report\", \"report\", \"report\", \"report\", \"report\", \"report\", \"report\", \"report\", \"republicans\", \"republicans\", \"republicans\", \"republicans\", \"republicans\", \"republicans\", \"republicans\", \"republicans\", \"republicans\", \"republicans\", \"request\", \"request\", \"request\", \"request\", \"request\", \"request\", \"request\", \"request\", \"request\", \"request\", \"requester\", \"researchit\", \"reservation\", \"reservation\", \"reservation\", \"reservation\", \"reservation\", \"reservation\", \"reservation\", \"reservation\", \"reservation\", \"reservation\", \"resistance\", \"resistance\", \"resistance\", \"resort\", \"resort\", \"resort\", \"resort\", \"resort\", \"resort\", \"resort\", \"resort\", \"resort\", \"resort\", \"resource\", \"resource\", \"resource\", \"resource\", \"resource\", \"resource\", \"resource\", \"resource\", \"resource\", \"resource\", \"responsabilite\", \"responsabilite\", \"responsabilite\", \"responsabilite\", \"restaurantmp\", \"restaurantmp\", \"resume\", \"resume\", \"resume\", \"resume\", \"resume\", \"resume\", \"resume\", \"resume\", \"resume\", \"resume\", \"reuters\", \"reuters\", \"reuters\", \"reuters\", \"reuters\", \"reuters\", \"reuters\", \"reuters\", \"reuters\", \"reuters\", \"review\", \"review\", \"review\", \"review\", \"review\", \"review\", \"review\", \"review\", \"review\", \"review\", \"reviseadd\", \"reviseadd\", \"reviseadd\", \"rfb\", \"rfb\", \"richey\", \"richey\", \"robert\", \"robert\", \"robert\", \"robert\", \"robert\", \"robert\", \"robert\", \"robert\", \"robert\", \"robert\", \"roman\", \"romeronaenronenron\", \"rosenbury\", \"rosenbury\", \"rosenbury\", \"rosenbury\", \"rosenbury\", \"rosenbury\", \"s\", \"s\", \"s\", \"s\", \"s\", \"s\", \"s\", \"s\", \"s\", \"s\", \"salespopswinecom\", \"salespopswinecom\", \"sandiegodoc\", \"sarahjoy\", \"sarahjoy\", \"sarahjoy\", \"sarahjoy\", \"sarahjoy\", \"sarahjoy\", \"sarahjoy\", \"sarahjoy\", \"sarahjoy\", \"sarahjoy\", \"saudi\", \"saudi\", \"saudi\", \"saudi\", \"saudi\", \"saudi\", \"saudi\", \"saudi\", \"saudi\", \"saudi\", \"sauf\", \"sauf\", \"sauf\", \"sauf\", \"sauf\", \"sauvignon\", \"sauvignon\", \"sauvignon\", \"sauvignon\", \"sauvignon\", \"sauvignon\", \"sauvignon\", \"sauvignon\", \"sauvignon\", \"say\", \"say\", \"say\", \"say\", \"say\", \"say\", \"say\", \"say\", \"say\", \"say\", \"sayre\", \"sayre\", \"sayre\", \"sayre\", \"sayre\", \"sayre\", \"schedule\", \"schedule\", \"schedule\", \"schedule\", \"schedule\", \"schedule\", \"schedule\", \"schedule\", \"schedule\", \"schedule\", \"scott\", \"scott\", \"scott\", \"scott\", \"scott\", \"scott\", \"scott\", \"scott\", \"scott\", \"scott\", \"sechrest\", \"securities\", \"securities\", \"securities\", \"securities\", \"securities\", \"securities\", \"securities\", \"securities\", \"securities\", \"securities\", \"sell\", \"sell\", \"sell\", \"sell\", \"sell\", \"sell\", \"sell\", \"sell\", \"sell\", \"sell\", \"send\", \"send\", \"send\", \"send\", \"send\", \"send\", \"send\", \"send\", \"send\", \"send\", \"server\", \"server\", \"server\", \"server\", \"server\", \"server\", \"server\", \"server\", \"server\", \"server\", \"service\", \"service\", \"service\", \"service\", \"service\", \"service\", \"service\", \"service\", \"service\", \"service\", \"ses\", \"ses\", \"ses\", \"ses\", \"ses\", \"ses\", \"ses\", \"ses\", \"settlement\", \"settlement\", \"settlement\", \"settlement\", \"settlement\", \"settlement\", \"settlement\", \"settlement\", \"settlement\", \"settlement\", \"seversonhouect\", \"seversonhouect\", \"seversonhouect\", \"seversonhouect\", \"severudehouect\", \"severudehouect\", \"severudehouect\", \"severudehouect\", \"share\", \"share\", \"share\", \"share\", \"share\", \"share\", \"share\", \"share\", \"share\", \"share\", \"sheraton\", \"sheraton\", \"sheraton\", \"sheraton\", \"sheraton\", \"sheraton\", \"sheraton\", \"sheraton\", \"sheraton\", \"sheraton\", \"sheriff\", \"shielah\", \"shielah\", \"shielah\", \"shivelyhouect\", \"shivelyhouect\", \"shivelyhouect\", \"shivelyhouect\", \"shivelyhouectect\", \"shivelyhouectect\", \"shivelyhouectect\", \"shivelyhouectect\", \"shivelyhouectect\", \"shivelyhouectect\", \"shivelyhouectect\", \"shivelyhouectect\", \"shivelyhouectect\", \"showtime\", \"showtime\", \"showtime\", \"showtime\", \"showtime\", \"showtime\", \"showtimes\", \"showtimes\", \"showtimes\", \"showtimes\", \"showtimes\", \"sic\", \"sic\", \"sic\", \"sic\", \"similiar\", \"simpkins\", \"sit\", \"sit\", \"sit\", \"sit\", \"sit\", \"sit\", \"sit\", \"sit\", \"sit\", \"sit\", \"skirt\", \"skogsagarna\", \"skogsagarna\", \"skogsagarna\", \"skogsagarna\", \"skogsagarna\", \"smith\", \"smith\", \"smith\", \"smith\", \"smith\", \"smith\", \"smith\", \"smith\", \"smith\", \"smith\", \"smud\", \"smud\", \"smud\", \"smud\", \"smud\", \"snyderhoueesees\", \"snyderhoueesees\", \"soblandercarrfutcom\", \"soblandercarrfutcom\", \"soblandercarrfutcom\", \"soblandercarrfutcom\", \"soblandercarrfutcom\", \"soblandercarrfutcom\", \"soblandercarrfutcom\", \"soblandercarrfutcom\", \"sodra\", \"sodra\", \"sodra\", \"sodra\", \"sodra\", \"solicitation\", \"solicitation\", \"solicitation\", \"solicitation\", \"solicitation\", \"solicitation\", \"solicitation\", \"solicitation\", \"solicitation\", \"solicitation\", \"sont\", \"sont\", \"sont\", \"sont\", \"sont\", \"sont\", \"sont\", \"soundview\", \"soundview\", \"spb\", \"spb\", \"spb\", \"special\", \"special\", \"special\", \"special\", \"special\", \"special\", \"special\", \"special\", \"special\", \"special\", \"specialist\", \"specialist\", \"specialist\", \"specialist\", \"specialist\", \"specialist\", \"specialist\", \"specialist\", \"specialist\", \"specialist\", \"sprd\", \"sprd\", \"sprd\", \"sprd\", \"sprd\", \"sprd\", \"sprds\", \"spread\", \"spread\", \"spread\", \"spread\", \"spread\", \"spread\", \"spread\", \"spread\", \"spread\", \"spread\", \"spreadoffset\", \"spreadoffset\", \"spreadoffset\", \"spreadoffset\", \"spreadoffset\", \"spreadoffset\", \"sr\", \"sr\", \"sr\", \"sr\", \"sr\", \"sr\", \"sr\", \"sr\", \"sr\", \"sr\", \"stakeholder\", \"stakeholder\", \"stakeholder\", \"stakeholder\", \"stakeholder\", \"stakeholder\", \"stakeholder\", \"stakeholder\", \"stakeholder\", \"stakeholder\", \"starwood\", \"starwood\", \"starwood\", \"starwood\", \"starwood\", \"starwood\", \"starwood\", \"std\", \"std\", \"std\", \"std\", \"std\", \"std\", \"steffesnaenronenron\", \"steffesnaenronenron\", \"steffesnaenronenron\", \"steffesnaenronenron\", \"steffesnaenronenron\", \"steffesnaenronenron\", \"steffesnaenronenron\", \"steffesnaenronenron\", \"steffesnaenronenron\", \"steffesnaenronenron\", \"stephenmorseenronnet\", \"stephenmorseenronnet\", \"stephenmorseenronnet\", \"stephenmorseenronnet\", \"stock\", \"stock\", \"stock\", \"stock\", \"stock\", \"stock\", \"stock\", \"stock\", \"stock\", \"stock\", \"stranger\", \"stranger\", \"strong\", \"strong\", \"strong\", \"strong\", \"strong\", \"strong\", \"strong\", \"strong\", \"strong\", \"strong\", \"subject\", \"subject\", \"subject\", \"subject\", \"subject\", \"subject\", \"subject\", \"subject\", \"subject\", \"subject\", \"suckhope\", \"sun\", \"sun\", \"sun\", \"sun\", \"sun\", \"sun\", \"sun\", \"sun\", \"sun\", \"sun\", \"susan\", \"susan\", \"susan\", \"susan\", \"susan\", \"susan\", \"susan\", \"susan\", \"susan\", \"susan\", \"syncopated\", \"syncopated\", \"synthetic\", \"synthetic\", \"synthetic\", \"synthetic\", \"synthetic\", \"synthetic\", \"synthetic\", \"synthetic\", \"synthetic\", \"system\", \"system\", \"system\", \"system\", \"system\", \"system\", \"system\", \"system\", \"system\", \"system\", \"tail\", \"tail\", \"tail\", \"tail\", \"tail\", \"tail\", \"tantamount\", \"tantamount\", \"tantamount\", \"tds\", \"tds\", \"tds\", \"tds\", \"tds\", \"tds\", \"tds\", \"tender\", \"tender\", \"tender\", \"tender\", \"tender\", \"tender\", \"tender\", \"tetco\", \"tetco\", \"tetco\", \"tetco\", \"tetco\", \"th\", \"th\", \"th\", \"th\", \"th\", \"th\", \"th\", \"th\", \"th\", \"th\", \"thank\", \"thank\", \"thank\", \"thank\", \"thank\", \"thank\", \"thank\", \"thank\", \"thank\", \"thank\", \"thing\", \"thing\", \"thing\", \"thing\", \"thing\", \"thing\", \"thing\", \"thing\", \"thing\", \"thing\", \"think\", \"think\", \"think\", \"think\", \"think\", \"think\", \"think\", \"think\", \"think\", \"think\", \"thinkif\", \"thirdquarter\", \"thirdquarter\", \"thirdquarter\", \"thirdquarter\", \"thirdquarter\", \"thirdquarter\", \"thirdquarter\", \"thirdquarter\", \"thirdquarter\", \"thirdquarter\", \"thur\", \"thur\", \"thur\", \"thur\", \"thur\", \"thur\", \"thur\", \"thur\", \"thur\", \"thur\", \"thursday\", \"thursday\", \"thursday\", \"thursday\", \"thursday\", \"thursday\", \"thursday\", \"thursday\", \"thursday\", \"thursday\", \"time\", \"time\", \"time\", \"time\", \"time\", \"time\", \"time\", \"time\", \"time\", \"time\", \"titre\", \"titre\", \"titre\", \"titre\", \"titre\", \"toryid\", \"totale\", \"totale\", \"totale\", \"totale\", \"totale\", \"toute\", \"toute\", \"toute\", \"toute\", \"toute\", \"toute\", \"toute\", \"toute\", \"trade\", \"trade\", \"trade\", \"trade\", \"trade\", \"trade\", \"trade\", \"trade\", \"trade\", \"trade\", \"trademark\", \"trademark\", \"trademark\", \"trademark\", \"trademark\", \"trademark\", \"trademark\", \"trademark\", \"trademark\", \"trademark\", \"trading\", \"trading\", \"trading\", \"trading\", \"trading\", \"trading\", \"trading\", \"trading\", \"trading\", \"trading\", \"transaction\", \"transaction\", \"transaction\", \"transaction\", \"transaction\", \"transaction\", \"transaction\", \"transaction\", \"transaction\", \"transaction\", \"transformer\", \"transformer\", \"transformer\", \"transmit\", \"transmit\", \"transmit\", \"transmit\", \"transmit\", \"transmit\", \"transmit\", \"transmit\", \"transmit\", \"transmit\", \"transport\", \"transport\", \"transport\", \"transport\", \"transport\", \"transport\", \"transport\", \"transport\", \"transport\", \"transport\", \"travel\", \"travel\", \"travel\", \"travel\", \"travel\", \"travel\", \"travel\", \"travel\", \"travel\", \"travel\", \"trr\", \"trr\", \"trr\", \"try\", \"try\", \"try\", \"try\", \"try\", \"try\", \"try\", \"try\", \"try\", \"try\", \"ttc\", \"ttc\", \"tuesday\", \"tuesday\", \"tuesday\", \"tuesday\", \"tuesday\", \"tuesday\", \"tuesday\", \"tuesday\", \"tuesday\", \"tuesday\", \"ubspainewebber\", \"ubspainewebber\", \"ubspainewebber\", \"ubspainewebber\", \"ubspainewebber\", \"udc\", \"udc\", \"udc\", \"udc\", \"udc\", \"udc\", \"udc\", \"udc\", \"udc\", \"ufe\", \"ufe\", \"ufe\", \"ufe\", \"ufe\", \"ufe\", \"ufe\", \"ufe\", \"ufe\", \"ugly\", \"ugly\", \"ugly\", \"ugly\", \"ugly\", \"ugly\", \"ugly\", \"uncomfortable\", \"uninstructed\", \"uninstructed\", \"uninstructed\", \"uninstructed\", \"uninstructed\", \"uninstructed\", \"unintentionally\", \"universal\", \"universal\", \"universal\", \"universal\", \"universal\", \"universal\", \"universal\", \"universal\", \"universal\", \"unlead\", \"unlead\", \"unlead\", \"unlead\", \"unleade\", \"unleade\", \"unleade\", \"unleade\", \"unleade\", \"unleade\", \"update\", \"update\", \"update\", \"update\", \"update\", \"update\", \"update\", \"update\", \"update\", \"update\", \"userdefined\", \"userdefined\", \"userdefined\", \"usfuel\", \"value\", \"value\", \"value\", \"value\", \"value\", \"value\", \"value\", \"value\", \"value\", \"value\", \"vaughanenron\", \"vaughanenron\", \"vaughanenron\", \"vaughanenron\", \"vaughanenron\", \"ver\", \"ver\", \"ver\", \"ver\", \"ver\", \"ver\", \"ver\", \"ver\", \"ver\", \"vom\", \"vom\", \"vom\", \"vom\", \"vom\", \"votruba\", \"vous\", \"vous\", \"vous\", \"vous\", \"vx\", \"vx\", \"vx\", \"vx\", \"vx\", \"vx\", \"vx\", \"w\", \"w\", \"w\", \"w\", \"w\", \"w\", \"w\", \"w\", \"w\", \"w\", \"wacker\", \"wacker\", \"wacker\", \"wacker\", \"wacker\", \"wacker\", \"wade\", \"wade\", \"wade\", \"wade\", \"wade\", \"wade\", \"wade\", \"wade\", \"wade\", \"wade\", \"wager\", \"wager\", \"wager\", \"wager\", \"wager\", \"wager\", \"wager\", \"wager\", \"wall\", \"wall\", \"wall\", \"wall\", \"wall\", \"wall\", \"wall\", \"wall\", \"wall\", \"wall\", \"walters\", \"walters\", \"want\", \"want\", \"want\", \"want\", \"want\", \"want\", \"want\", \"want\", \"want\", \"want\", \"ward\", \"ward\", \"ward\", \"ward\", \"ward\", \"ward\", \"ward\", \"ward\", \"ward\", \"ward\", \"weather\", \"weather\", \"weather\", \"weather\", \"weather\", \"weather\", \"weather\", \"weather\", \"weather\", \"weather\", \"web\", \"web\", \"web\", \"web\", \"web\", \"web\", \"web\", \"web\", \"web\", \"web\", \"wednesday\", \"wednesday\", \"wednesday\", \"wednesday\", \"wednesday\", \"wednesday\", \"wednesday\", \"wednesday\", \"wednesday\", \"wednesday\", \"week\", \"week\", \"week\", \"week\", \"week\", \"week\", \"week\", \"week\", \"week\", \"week\", \"westgasx\", \"wimberley\", \"wimberley\", \"wimberley\", \"wine\", \"wine\", \"wine\", \"wine\", \"wine\", \"wine\", \"wine\", \"wine\", \"wine\", \"wine\", \"winesspirits\", \"winstead\", \"woertz\", \"woertz\", \"woertz\", \"woertz\", \"woertz\", \"woertz\", \"woertz\", \"woertz\", \"woertz\", \"woertz\", \"woodnaenronenron\", \"woodnaenronenron\", \"work\", \"work\", \"work\", \"work\", \"work\", \"work\", \"work\", \"work\", \"work\", \"work\", \"wv\", \"wwwadobecom\", \"wwwcapitolconnectionorg\", \"wwwcapitolconnectionorg\", \"wwwpopswinecom\", \"xbcc\", \"xbcc\", \"xbcc\", \"xbcc\", \"xbcc\", \"xbcc\", \"xbcc\", \"xbcc\", \"xbcc\", \"xbcc\", \"xfilename\", \"xfilename\", \"xfilename\", \"xfilename\", \"xfilename\", \"xfilename\", \"xfilename\", \"xfilename\", \"xfilename\", \"xfilename\", \"xfolder\", \"xfolder\", \"xfolder\", \"xfolder\", \"xfolder\", \"xfolder\", \"xfolder\", \"xfolder\", \"xfolder\", \"xfolder\", \"xorigin\", \"xorigin\", \"xorigin\", \"xorigin\", \"xorigin\", \"xorigin\", \"xorigin\", \"xorigin\", \"xorigin\", \"xorigin\", \"yahoo\", \"yahoo\", \"yahoo\", \"yahoo\", \"yahoo\", \"yahoo\", \"yahoo\", \"yahoo\", \"yahoo\", \"yahoo\", \"year\", \"year\", \"year\", \"year\", \"year\", \"year\", \"year\", \"year\", \"year\", \"year\", \"yearago\", \"yes\", \"yes\", \"yes\", \"yes\", \"yes\", \"yes\", \"yes\", \"yes\", \"yes\", \"yes\", \"yippee\", \"yippee\", \"zd\", \"zd\", \"zd\", \"zd\", \"zd\", \"zd\", \"zd\", \"zhucorpenronenron\", \"zhuenron\", \"zhuenron\", \"zip\", \"zip\", \"zip\", \"zip\", \"zip\", \"zip\", \"zip\", \"zip\", \"zip\"]}, \"R\": 30, \"lambda.step\": 0.01, \"plot.opts\": {\"xlab\": \"PC1\", \"ylab\": \"PC2\"}, \"topic.order\": [6, 1, 3, 5, 8, 2, 7, 4, 9, 10]};\n",
       "\n",
       "function LDAvis_load_lib(url, callback){\n",
       "  var s = document.createElement('script');\n",
       "  s.src = url;\n",
       "  s.async = true;\n",
       "  s.onreadystatechange = s.onload = callback;\n",
       "  s.onerror = function(){console.warn(\"failed to load library \" + url);};\n",
       "  document.getElementsByTagName(\"head\")[0].appendChild(s);\n",
       "}\n",
       "\n",
       "if(typeof(LDAvis) !== \"undefined\"){\n",
       "   // already loaded: just create the visualization\n",
       "   !function(LDAvis){\n",
       "       new LDAvis(\"#\" + \"ldavis_el1087220854719277763527445233\", ldavis_el1087220854719277763527445233_data);\n",
       "   }(LDAvis);\n",
       "}else if(typeof define === \"function\" && define.amd){\n",
       "   // require.js is available: use it to load d3/LDAvis\n",
       "   require.config({paths: {d3: \"https://cdnjs.cloudflare.com/ajax/libs/d3/3.5.5/d3.min\"}});\n",
       "   require([\"d3\"], function(d3){\n",
       "      window.d3 = d3;\n",
       "      LDAvis_load_lib(\"https://cdn.rawgit.com/bmabey/pyLDAvis/files/ldavis.v1.0.0.js\", function(){\n",
       "        new LDAvis(\"#\" + \"ldavis_el1087220854719277763527445233\", ldavis_el1087220854719277763527445233_data);\n",
       "      });\n",
       "    });\n",
       "}else{\n",
       "    // require.js not available: dynamically load d3 & LDAvis\n",
       "    LDAvis_load_lib(\"https://cdnjs.cloudflare.com/ajax/libs/d3/3.5.5/d3.min.js\", function(){\n",
       "         LDAvis_load_lib(\"https://cdn.rawgit.com/bmabey/pyLDAvis/files/ldavis.v1.0.0.js\", function(){\n",
       "                 new LDAvis(\"#\" + \"ldavis_el1087220854719277763527445233\", ldavis_el1087220854719277763527445233_data);\n",
       "            })\n",
       "         });\n",
       "}\n",
       "</script>"
      ],
      "text/plain": [
       "PreparedData(topic_coordinates=              x         y  topics  cluster       Freq\n",
       "topic                                                \n",
       "5     -0.120947 -0.030960       1        1  24.999735\n",
       "0     -0.031014 -0.031000       2        1   9.903051\n",
       "2      0.002150  0.020992       3        1   9.880755\n",
       "4     -0.085184  0.041098       4        1   9.029905\n",
       "7     -0.047685  0.033387       5        1   8.944244\n",
       "1      0.146193  0.062845       6        1   8.852551\n",
       "6      0.033747  0.016961       7        1   8.605923\n",
       "3     -0.021345 -0.031686       8        1   8.375796\n",
       "8      0.028597  0.034368       9        1   5.905430\n",
       "9      0.095488 -0.116005      10        1   5.502608, topic_info=         Term         Freq         Total Category  logprob  loglift\n",
       "77       john  7153.000000   7153.000000  Default  30.0000  30.0000\n",
       "2674    image  3497.000000   3497.000000  Default  29.0000  29.0000\n",
       "1409  message  4292.000000   4292.000000  Default  28.0000  28.0000\n",
       "959     email  5925.000000   5925.000000  Default  27.0000  27.0000\n",
       "193   subject  7597.000000   7597.000000  Default  26.0000  26.0000\n",
       "...       ...          ...           ...      ...      ...      ...\n",
       "975      week   186.606384   3081.867676  Topic10  -5.8598   0.0957\n",
       "37      think   182.262833   2538.897217  Topic10  -5.8833   0.2659\n",
       "139   forward   180.942093   3166.180664  Topic10  -5.8906   0.0378\n",
       "208     enron   189.889435  11272.192383  Topic10  -5.8423  -1.1837\n",
       "174     power   181.828918   4235.522949  Topic10  -5.8857  -0.2482\n",
       "\n",
       "[922 rows x 6 columns], token_table=      Topic      Freq Term\n",
       "term                      \n",
       "90        1  0.045275     \n",
       "90        2  0.091404     \n",
       "90        3  0.093967     \n",
       "90        4  0.044421     \n",
       "90        5  0.075174     \n",
       "...     ...       ...  ...\n",
       "6311      5  0.160761  zip\n",
       "6311      6  0.617659  zip\n",
       "6311      7  0.016922  zip\n",
       "6311      8  0.008461  zip\n",
       "6311      9  0.008461  zip\n",
       "\n",
       "[4715 rows x 3 columns], R=30, lambda_step=0.01, plot_opts={'xlab': 'PC1', 'ylab': 'PC2'}, topic_order=[6, 1, 3, 5, 8, 2, 7, 4, 9, 10])"
      ]
     },
     "execution_count": 24,
     "metadata": {},
     "output_type": "execute_result"
    }
   ],
   "source": [
    "import pyLDAvis.gensim\n",
    "\n",
    "pyLDAvis.enable_notebook()\n",
    "\n",
    "pyLDAvis.gensim.prepare(model, corpus, id2word)"
   ]
  },
  {
   "cell_type": "code",
   "execution_count": 25,
   "metadata": {
    "colab": {},
    "colab_type": "code",
    "id": "Mu0vqgx1YZuh"
   },
   "outputs": [],
   "source": [
    "#'corpus'\n",
    "\n",
    "distro = [lda[d] for d in corpus]\n",
    "\n",
    "num_topics = 20\n",
    "\n",
    "def update(doc):\n",
    "        d_dist = {k:0 for k in range(0,num_topics)}\n",
    "        for topic in doc:\n",
    "            d_dist[topic[0]] = topic[1]\n",
    "        return d_dist\n",
    "    \n",
    "new_distro = [update(d) for d in distro]"
   ]
  },
  {
   "cell_type": "code",
   "execution_count": 26,
   "metadata": {
    "colab": {
     "base_uri": "https://localhost:8080/",
     "height": 195
    },
    "colab_type": "code",
    "id": "wzRj8c1_3SJD",
    "outputId": "e76bb55d-9600-4a9b-db38-2762514ae18c"
   },
   "outputs": [
    {
     "data": {
      "text/html": [
       "<div>\n",
       "<style scoped>\n",
       "    .dataframe tbody tr th:only-of-type {\n",
       "        vertical-align: middle;\n",
       "    }\n",
       "\n",
       "    .dataframe tbody tr th {\n",
       "        vertical-align: top;\n",
       "    }\n",
       "\n",
       "    .dataframe thead th {\n",
       "        text-align: right;\n",
       "    }\n",
       "</style>\n",
       "<table border=\"1\" class=\"dataframe\">\n",
       "  <thead>\n",
       "    <tr style=\"text-align: right;\">\n",
       "      <th></th>\n",
       "      <th>0</th>\n",
       "      <th>1</th>\n",
       "      <th>2</th>\n",
       "      <th>3</th>\n",
       "      <th>4</th>\n",
       "      <th>5</th>\n",
       "      <th>6</th>\n",
       "      <th>7</th>\n",
       "      <th>8</th>\n",
       "      <th>9</th>\n",
       "      <th>10</th>\n",
       "      <th>11</th>\n",
       "      <th>12</th>\n",
       "      <th>13</th>\n",
       "      <th>14</th>\n",
       "      <th>15</th>\n",
       "      <th>16</th>\n",
       "      <th>17</th>\n",
       "      <th>18</th>\n",
       "      <th>19</th>\n",
       "    </tr>\n",
       "  </thead>\n",
       "  <tbody>\n",
       "    <tr>\n",
       "      <th>0</th>\n",
       "      <td>0.033339</td>\n",
       "      <td>0.033338</td>\n",
       "      <td>0.533262</td>\n",
       "      <td>0.033338</td>\n",
       "      <td>0.033338</td>\n",
       "      <td>0.033339</td>\n",
       "      <td>0.033338</td>\n",
       "      <td>0.033338</td>\n",
       "      <td>0.033338</td>\n",
       "      <td>0.033338</td>\n",
       "      <td>0.033338</td>\n",
       "      <td>0.033338</td>\n",
       "      <td>0.033338</td>\n",
       "      <td>0.033338</td>\n",
       "      <td>0.033338</td>\n",
       "      <td>0</td>\n",
       "      <td>0</td>\n",
       "      <td>0</td>\n",
       "      <td>0</td>\n",
       "      <td>0</td>\n",
       "    </tr>\n",
       "    <tr>\n",
       "      <th>1</th>\n",
       "      <td>0.000000</td>\n",
       "      <td>0.000000</td>\n",
       "      <td>0.000000</td>\n",
       "      <td>0.000000</td>\n",
       "      <td>0.000000</td>\n",
       "      <td>0.000000</td>\n",
       "      <td>0.254033</td>\n",
       "      <td>0.057943</td>\n",
       "      <td>0.000000</td>\n",
       "      <td>0.000000</td>\n",
       "      <td>0.000000</td>\n",
       "      <td>0.000000</td>\n",
       "      <td>0.000000</td>\n",
       "      <td>0.674670</td>\n",
       "      <td>0.000000</td>\n",
       "      <td>0</td>\n",
       "      <td>0</td>\n",
       "      <td>0</td>\n",
       "      <td>0</td>\n",
       "      <td>0</td>\n",
       "    </tr>\n",
       "    <tr>\n",
       "      <th>2</th>\n",
       "      <td>0.016672</td>\n",
       "      <td>0.016672</td>\n",
       "      <td>0.016672</td>\n",
       "      <td>0.016672</td>\n",
       "      <td>0.016672</td>\n",
       "      <td>0.016672</td>\n",
       "      <td>0.016672</td>\n",
       "      <td>0.016672</td>\n",
       "      <td>0.016672</td>\n",
       "      <td>0.016672</td>\n",
       "      <td>0.016672</td>\n",
       "      <td>0.016672</td>\n",
       "      <td>0.545097</td>\n",
       "      <td>0.238171</td>\n",
       "      <td>0.016672</td>\n",
       "      <td>0</td>\n",
       "      <td>0</td>\n",
       "      <td>0</td>\n",
       "      <td>0</td>\n",
       "      <td>0</td>\n",
       "    </tr>\n",
       "    <tr>\n",
       "      <th>3</th>\n",
       "      <td>0.000000</td>\n",
       "      <td>0.000000</td>\n",
       "      <td>0.000000</td>\n",
       "      <td>0.000000</td>\n",
       "      <td>0.503629</td>\n",
       "      <td>0.000000</td>\n",
       "      <td>0.442185</td>\n",
       "      <td>0.000000</td>\n",
       "      <td>0.000000</td>\n",
       "      <td>0.000000</td>\n",
       "      <td>0.000000</td>\n",
       "      <td>0.000000</td>\n",
       "      <td>0.000000</td>\n",
       "      <td>0.000000</td>\n",
       "      <td>0.000000</td>\n",
       "      <td>0</td>\n",
       "      <td>0</td>\n",
       "      <td>0</td>\n",
       "      <td>0</td>\n",
       "      <td>0</td>\n",
       "    </tr>\n",
       "    <tr>\n",
       "      <th>4</th>\n",
       "      <td>0.016670</td>\n",
       "      <td>0.016670</td>\n",
       "      <td>0.016670</td>\n",
       "      <td>0.016670</td>\n",
       "      <td>0.016670</td>\n",
       "      <td>0.016670</td>\n",
       "      <td>0.766621</td>\n",
       "      <td>0.016670</td>\n",
       "      <td>0.016670</td>\n",
       "      <td>0.016670</td>\n",
       "      <td>0.016670</td>\n",
       "      <td>0.016670</td>\n",
       "      <td>0.016670</td>\n",
       "      <td>0.016670</td>\n",
       "      <td>0.016670</td>\n",
       "      <td>0</td>\n",
       "      <td>0</td>\n",
       "      <td>0</td>\n",
       "      <td>0</td>\n",
       "      <td>0</td>\n",
       "    </tr>\n",
       "  </tbody>\n",
       "</table>\n",
       "</div>"
      ],
      "text/plain": [
       "         0         1         2         3         4         5         6   \\\n",
       "0  0.033339  0.033338  0.533262  0.033338  0.033338  0.033339  0.033338   \n",
       "1  0.000000  0.000000  0.000000  0.000000  0.000000  0.000000  0.254033   \n",
       "2  0.016672  0.016672  0.016672  0.016672  0.016672  0.016672  0.016672   \n",
       "3  0.000000  0.000000  0.000000  0.000000  0.503629  0.000000  0.442185   \n",
       "4  0.016670  0.016670  0.016670  0.016670  0.016670  0.016670  0.766621   \n",
       "\n",
       "         7         8         9         10        11        12        13  \\\n",
       "0  0.033338  0.033338  0.033338  0.033338  0.033338  0.033338  0.033338   \n",
       "1  0.057943  0.000000  0.000000  0.000000  0.000000  0.000000  0.674670   \n",
       "2  0.016672  0.016672  0.016672  0.016672  0.016672  0.545097  0.238171   \n",
       "3  0.000000  0.000000  0.000000  0.000000  0.000000  0.000000  0.000000   \n",
       "4  0.016670  0.016670  0.016670  0.016670  0.016670  0.016670  0.016670   \n",
       "\n",
       "         14  15  16  17  18  19  \n",
       "0  0.033338   0   0   0   0   0  \n",
       "1  0.000000   0   0   0   0   0  \n",
       "2  0.016672   0   0   0   0   0  \n",
       "3  0.000000   0   0   0   0   0  \n",
       "4  0.016670   0   0   0   0   0  "
      ]
     },
     "execution_count": 26,
     "metadata": {},
     "output_type": "execute_result"
    }
   ],
   "source": [
    "#Correlated\n",
    "topics = pd.DataFrame.from_records(new_distro)\n",
    "topics.head()"
   ]
  },
  {
   "cell_type": "code",
   "execution_count": 27,
   "metadata": {
    "colab": {},
    "colab_type": "code",
    "id": "mEFICbWM3UjZ"
   },
   "outputs": [],
   "source": [
    "df['email_body'] = topics.idxmax(axis=1)"
   ]
  },
  {
   "cell_type": "code",
   "execution_count": 28,
   "metadata": {
    "colab": {
     "base_uri": "https://localhost:8080/",
     "height": 168
    },
    "colab_type": "code",
    "id": "Dj3OPJ4s3asl",
    "outputId": "7ff7a114-37de-4d68-c382-1707a9c0b59c"
   },
   "outputs": [
    {
     "data": {
      "text/plain": [
       "count    10000.000000\n",
       "mean         8.099300\n",
       "std          3.886174\n",
       "min          0.000000\n",
       "25%          5.000000\n",
       "50%          8.000000\n",
       "75%         12.000000\n",
       "max         14.000000\n",
       "Name: email_body, dtype: float64"
      ]
     },
     "execution_count": 28,
     "metadata": {},
     "output_type": "execute_result"
    }
   ],
   "source": [
    "#Topic  \n",
    "df['email_body'].describe()"
   ]
  },
  {
   "cell_type": "code",
   "execution_count": 29,
   "metadata": {
    "colab": {
     "base_uri": "https://localhost:8080/",
     "height": 286
    },
    "colab_type": "code",
    "id": "zcoAl52wZ2ac",
    "outputId": "b5b481a1-352e-4cdd-a6a3-6f0dde9faf14"
   },
   "outputs": [
    {
     "data": {
      "text/plain": [
       "13    1737\n",
       "9     1434\n",
       "6     1064\n",
       "5      893\n",
       "4      857\n",
       "8      782\n",
       "12     717\n",
       "1      462\n",
       "10     440\n",
       "14     392\n",
       "7      290\n",
       "11     257\n",
       "3      242\n",
       "2      218\n",
       "0      215\n",
       "Name: email_body, dtype: int64"
      ]
     },
     "execution_count": 29,
     "metadata": {},
     "output_type": "execute_result"
    }
   ],
   "source": [
    "df['email_body'].value_counts()"
   ]
  },
  {
   "cell_type": "markdown",
   "metadata": {
    "colab_type": "text",
    "id": "b1XTjLs5Nb1w"
   },
   "source": [
    "##Create the Emails Tags"
   ]
  },
  {
   "cell_type": "markdown",
   "metadata": {
    "colab_type": "text",
    "id": "oDBEbw4QAdvA"
   },
   "source": [
    "##tfidf term frequency–inverse document frequency\n"
   ]
  },
  {
   "cell_type": "code",
   "execution_count": 30,
   "metadata": {
    "colab": {
     "base_uri": "https://localhost:8080/",
     "height": 101
    },
    "colab_type": "code",
    "id": "2MUeorp9jplF",
    "outputId": "e735a5e2-da72-4a72-f834-173f6b552b20"
   },
   "outputs": [
    {
     "name": "stderr",
     "output_type": "stream",
     "text": [
      "[nltk_data] Downloading package stopwords to\n",
      "[nltk_data]     C:\\Users\\HomePC\\AppData\\Roaming\\nltk_data...\n",
      "[nltk_data]   Package stopwords is already up-to-date!\n",
      "[nltk_data] Downloading package punkt to\n",
      "[nltk_data]     C:\\Users\\HomePC\\AppData\\Roaming\\nltk_data...\n",
      "[nltk_data]   Package punkt is already up-to-date!\n"
     ]
    },
    {
     "data": {
      "text/plain": [
       "True"
      ]
     },
     "execution_count": 30,
     "metadata": {},
     "output_type": "execute_result"
    }
   ],
   "source": [
    "import nltk\n",
    "nltk.download('stopwords')\n",
    "nltk.download('punkt')"
   ]
  },
  {
   "cell_type": "code",
   "execution_count": 31,
   "metadata": {
    "colab": {
     "base_uri": "https://localhost:8080/",
     "height": 54
    },
    "colab_type": "code",
    "id": "3bXK0VeKjfCq",
    "outputId": "9977894e-102a-4946-8fa6-a73a61f6d56a"
   },
   "outputs": [
    {
     "name": "stdout",
     "output_type": "stream",
     "text": [
      "['traveling', 'business', 'meeting', 'takes', 'fun', 'trip', 'especially', 'prepare', 'presentation', 'would', 'suggest', 'holding', 'business', 'plan', 'meetings', 'take', 'trip', 'without', 'formal', 'business', 'meetings', 'would', 'even', 'try', 'get', 'honest', 'opinions', 'whether', 'trip', 'even', 'desired', 'necessary', 'far', 'business', 'meetings', 'think', 'would', 'productive', 'try', 'stimulate', 'discussions', 'across', 'different', 'groups', 'working', 'often', 'presenter', 'speaks', 'others', 'quiet', 'waiting', 'turn', 'meetings', 'might', 'better', 'held', 'round', 'table', 'discussion', 'format', 'suggestion', 'go', 'austin', 'play', 'golf', 'rent', 'ski', 'boat', 'jet', 'ski', 'flying', 'somewhere', 'takes', 'much', 'time']\n"
     ]
    }
   ],
   "source": [
    "from nltk.tokenize import word_tokenize\n",
    "\n",
    "# split into words\n",
    "tokens = word_tokenize(email)\n",
    "\n",
    "# convert to lower case\n",
    "tokens = [w.lower() for w in tokens]\n",
    "\n",
    "# prepare regex for char filtering\n",
    "re_punc = re.compile('[%s]' % re.escape(string.punctuation))\n",
    "\n",
    "# remove punctuation from each word\n",
    "stripped = [re_punc.sub('', w) for w in tokens]\n",
    "\n",
    "# remove remaining tokens that are not alphabetic\n",
    "words = [word for word in stripped if word.isalpha()]\n",
    "\n",
    "# filter out stop words\n",
    "stop_words = set(stopwords.words('english'))\n",
    "words = [w for w in words if not w in stop_words]\n",
    "print(words[:200])"
   ]
  },
  {
   "cell_type": "code",
   "execution_count": null,
   "metadata": {
    "colab": {
     "base_uri": "https://localhost:8080/",
     "height": 54
    },
    "colab_type": "code",
    "id": "n6sRp4mhci07",
    "outputId": "b2f1f080-f472-467b-f99e-5755e202bdda"
   },
   "outputs": [
    {
     "name": "stdout",
     "output_type": "stream",
     "text": [
      "['austin', 'better', 'boat', 'business', 'desired', 'different', 'discussion', 'discussions', 'especially', 'far', 'flying', 'formal', 'format', 'fun', 'golf', 'groups', 'held', 'holding', 'honest', 'jet', 'meeting', 'meetings', 'necessary', 'opinions', 'plan', 'play', 'prepare', 'presentation', 'presenter', 'productive', 'quiet', 'rent', 'round', 'ski', 'speaks', 'stimulate', 'suggest', 'suggestion', 'table', 'takes', 'think', 'time', 'traveling', 'trip', 'try', 'turn', 'waiting', 'working']\n"
     ]
    }
   ],
   "source": [
    "from sklearn.feature_extraction.text import CountVectorizer\n",
    "\n",
    "count_vec = CountVectorizer(stop_words=\"english\", analyzer='word', \n",
    "                            ngram_range=(1, 2), max_df=1.0, min_df=1, max_features=None)\n",
    "\n",
    "count_train = count_vec.fit(words)\n",
    "bag_of_words = count_vec.transform(words)\n",
    "\n",
    "print(count_vec.get_feature_names())"
   ]
  },
  {
   "cell_type": "code",
   "execution_count": null,
   "metadata": {
    "colab": {
     "base_uri": "https://localhost:8080/",
     "height": 54
    },
    "colab_type": "code",
    "id": "kKc20BkocwOV",
    "outputId": "b9093bf9-724a-4813-aaba-7ec91d6a0f7d"
   },
   "outputs": [
    {
     "name": "stdout",
     "output_type": "stream",
     "text": [
      "The text:  ['traveling', 'business', 'meeting', 'takes', 'fun', 'trip', 'especially', 'prepare', 'presentation', 'would', 'suggest', 'holding', 'business', 'plan', 'meetings', 'take', 'trip', 'without', 'formal', 'business', 'meetings', 'would', 'even', 'try', 'get', 'honest', 'opinions', 'whether', 'trip', 'even', 'desired', 'necessary', 'far', 'business', 'meetings', 'think', 'would', 'productive', 'try', 'stimulate', 'discussions', 'across', 'different', 'groups', 'working', 'often', 'presenter', 'speaks', 'others', 'quiet', 'waiting', 'turn', 'meetings', 'might', 'better', 'held', 'round', 'table', 'discussion', 'format', 'suggestion', 'go', 'austin', 'play', 'golf', 'rent', 'ski', 'boat', 'jet', 'ski', 'flying', 'somewhere', 'takes', 'much', 'time']\n"
     ]
    }
   ],
   "source": [
    "text_freque = TfidfVectorizer(smooth_idf=False, sublinear_tf=False, norm=None, analyzer='word')\n",
    "txt_fitted = text_freque.fit(words)\n",
    "txt_transformed = txt_fitted.transform(words)\n",
    "print (\"The text: \", words)"
   ]
  },
  {
   "cell_type": "code",
   "execution_count": null,
   "metadata": {
    "colab": {
     "base_uri": "https://localhost:8080/",
     "height": 54
    },
    "colab_type": "code",
    "id": "RvAnPbzxcx75",
    "outputId": "66bfb21b-167e-4777-8582-2dcab364aa09"
   },
   "outputs": [
    {
     "name": "stdout",
     "output_type": "stream",
     "text": [
      "{'across': 5.31748811353631, 'austin': 5.31748811353631, 'better': 5.31748811353631, 'boat': 5.31748811353631, 'business': 3.9311937524164198, 'desired': 5.31748811353631, 'different': 5.31748811353631, 'discussion': 5.31748811353631, 'discussions': 5.31748811353631, 'especially': 5.31748811353631, 'even': 4.624340932976365, 'far': 5.31748811353631, 'flying': 5.31748811353631, 'formal': 5.31748811353631, 'format': 5.31748811353631, 'fun': 5.31748811353631, 'get': 5.31748811353631, 'go': 5.31748811353631, 'golf': 5.31748811353631, 'groups': 5.31748811353631, 'held': 5.31748811353631, 'holding': 5.31748811353631, 'honest': 5.31748811353631, 'jet': 5.31748811353631, 'meeting': 5.31748811353631, 'meetings': 3.9311937524164198, 'might': 5.31748811353631, 'much': 5.31748811353631, 'necessary': 5.31748811353631, 'often': 5.31748811353631, 'opinions': 5.31748811353631, 'others': 5.31748811353631, 'plan': 5.31748811353631, 'play': 5.31748811353631, 'prepare': 5.31748811353631, 'presentation': 5.31748811353631, 'presenter': 5.31748811353631, 'productive': 5.31748811353631, 'quiet': 5.31748811353631, 'rent': 5.31748811353631, 'round': 5.31748811353631, 'ski': 4.624340932976365, 'somewhere': 5.31748811353631, 'speaks': 5.31748811353631, 'stimulate': 5.31748811353631, 'suggest': 5.31748811353631, 'suggestion': 5.31748811353631, 'table': 5.31748811353631, 'take': 5.31748811353631, 'takes': 4.624340932976365, 'think': 5.31748811353631, 'time': 5.31748811353631, 'traveling': 5.31748811353631, 'trip': 4.218875824868201, 'try': 4.624340932976365, 'turn': 5.31748811353631, 'waiting': 5.31748811353631, 'whether': 5.31748811353631, 'without': 5.31748811353631, 'working': 5.31748811353631, 'would': 4.218875824868201}\n"
     ]
    }
   ],
   "source": [
    "idfreque = text_freque.idf_\n",
    "print(dict(zip(txt_fitted.get_feature_names(), idfreque)))"
   ]
  },
  {
   "cell_type": "code",
   "execution_count": null,
   "metadata": {
    "colab": {
     "base_uri": "https://localhost:8080/",
     "height": 1000
    },
    "colab_type": "code",
    "id": "tp7q_UHCczqO",
    "outputId": "bdfa503e-0f6e-4d46-ea28-5c8aee992eed"
   },
   "outputs": [
    {
     "data": {
      "text/plain": [
       "{'across': 0,\n",
       " 'austin': 1,\n",
       " 'better': 2,\n",
       " 'boat': 3,\n",
       " 'business': 4,\n",
       " 'desired': 5,\n",
       " 'different': 6,\n",
       " 'discussion': 7,\n",
       " 'discussions': 8,\n",
       " 'especially': 9,\n",
       " 'even': 10,\n",
       " 'far': 11,\n",
       " 'flying': 12,\n",
       " 'formal': 13,\n",
       " 'format': 14,\n",
       " 'fun': 15,\n",
       " 'get': 16,\n",
       " 'go': 17,\n",
       " 'golf': 18,\n",
       " 'groups': 19,\n",
       " 'held': 20,\n",
       " 'holding': 21,\n",
       " 'honest': 22,\n",
       " 'jet': 23,\n",
       " 'meeting': 24,\n",
       " 'meetings': 25,\n",
       " 'might': 26,\n",
       " 'much': 27,\n",
       " 'necessary': 28,\n",
       " 'often': 29,\n",
       " 'opinions': 30,\n",
       " 'others': 31,\n",
       " 'plan': 32,\n",
       " 'play': 33,\n",
       " 'prepare': 34,\n",
       " 'presentation': 35,\n",
       " 'presenter': 36,\n",
       " 'productive': 37,\n",
       " 'quiet': 38,\n",
       " 'rent': 39,\n",
       " 'round': 40,\n",
       " 'ski': 41,\n",
       " 'somewhere': 42,\n",
       " 'speaks': 43,\n",
       " 'stimulate': 44,\n",
       " 'suggest': 45,\n",
       " 'suggestion': 46,\n",
       " 'table': 47,\n",
       " 'take': 48,\n",
       " 'takes': 49,\n",
       " 'think': 50,\n",
       " 'time': 51,\n",
       " 'traveling': 52,\n",
       " 'trip': 53,\n",
       " 'try': 54,\n",
       " 'turn': 55,\n",
       " 'waiting': 56,\n",
       " 'whether': 57,\n",
       " 'without': 58,\n",
       " 'working': 59,\n",
       " 'would': 60}"
      ]
     },
     "execution_count": 103,
     "metadata": {
      "tags": []
     },
     "output_type": "execute_result"
    }
   ],
   "source": [
    "text_freque.vocabulary_"
   ]
  },
  {
   "cell_type": "code",
   "execution_count": null,
   "metadata": {
    "colab": {
     "base_uri": "https://localhost:8080/",
     "height": 1000
    },
    "colab_type": "code",
    "id": "pBdx3bBic4WH",
    "outputId": "ff28aee9-d1f2-41a3-e46b-4f706c4a24b7"
   },
   "outputs": [
    {
     "data": {
      "text/plain": [
       "{'across': 5.31748811353631,\n",
       " 'austin': 5.31748811353631,\n",
       " 'better': 5.31748811353631,\n",
       " 'boat': 5.31748811353631,\n",
       " 'business': 3.9311937524164198,\n",
       " 'desired': 5.31748811353631,\n",
       " 'different': 5.31748811353631,\n",
       " 'discussion': 5.31748811353631,\n",
       " 'discussions': 5.31748811353631,\n",
       " 'especially': 5.31748811353631,\n",
       " 'even': 4.624340932976365,\n",
       " 'far': 5.31748811353631,\n",
       " 'flying': 5.31748811353631,\n",
       " 'formal': 5.31748811353631,\n",
       " 'format': 5.31748811353631,\n",
       " 'fun': 5.31748811353631,\n",
       " 'get': 5.31748811353631,\n",
       " 'go': 5.31748811353631,\n",
       " 'golf': 5.31748811353631,\n",
       " 'groups': 5.31748811353631,\n",
       " 'held': 5.31748811353631,\n",
       " 'holding': 5.31748811353631,\n",
       " 'honest': 5.31748811353631,\n",
       " 'jet': 5.31748811353631,\n",
       " 'meeting': 5.31748811353631,\n",
       " 'meetings': 3.9311937524164198,\n",
       " 'might': 5.31748811353631,\n",
       " 'much': 5.31748811353631,\n",
       " 'necessary': 5.31748811353631,\n",
       " 'often': 5.31748811353631,\n",
       " 'opinions': 5.31748811353631,\n",
       " 'others': 5.31748811353631,\n",
       " 'plan': 5.31748811353631,\n",
       " 'play': 5.31748811353631,\n",
       " 'prepare': 5.31748811353631,\n",
       " 'presentation': 5.31748811353631,\n",
       " 'presenter': 5.31748811353631,\n",
       " 'productive': 5.31748811353631,\n",
       " 'quiet': 5.31748811353631,\n",
       " 'rent': 5.31748811353631,\n",
       " 'round': 5.31748811353631,\n",
       " 'ski': 4.624340932976365,\n",
       " 'somewhere': 5.31748811353631,\n",
       " 'speaks': 5.31748811353631,\n",
       " 'stimulate': 5.31748811353631,\n",
       " 'suggest': 5.31748811353631,\n",
       " 'suggestion': 5.31748811353631,\n",
       " 'table': 5.31748811353631,\n",
       " 'take': 5.31748811353631,\n",
       " 'takes': 4.624340932976365,\n",
       " 'think': 5.31748811353631,\n",
       " 'time': 5.31748811353631,\n",
       " 'traveling': 5.31748811353631,\n",
       " 'trip': 4.218875824868201,\n",
       " 'try': 4.624340932976365,\n",
       " 'turn': 5.31748811353631,\n",
       " 'waiting': 5.31748811353631,\n",
       " 'whether': 5.31748811353631,\n",
       " 'without': 5.31748811353631,\n",
       " 'working': 5.31748811353631,\n",
       " 'would': 4.218875824868201}"
      ]
     },
     "execution_count": 104,
     "metadata": {
      "tags": []
     },
     "output_type": "execute_result"
    }
   ],
   "source": [
    "words_dist = dict(zip(txt_fitted.get_feature_names(), idfreque))\n",
    "words_dist"
   ]
  },
  {
   "cell_type": "code",
   "execution_count": null,
   "metadata": {
    "colab": {
     "base_uri": "https://localhost:8080/",
     "height": 101
    },
    "colab_type": "code",
    "id": "YD0Sy6ZRo5b6",
    "outputId": "3289789a-dec5-4eef-de91-b074e80cbb50"
   },
   "outputs": [
    {
     "name": "stdout",
     "output_type": "stream",
     "text": [
      "Features with lowest id frequence:\n",
      "['business' 'meetings' 'would']\n",
      "\n",
      "Features with highest id frequence:\n",
      "['often' 'get' 'opinions']\n"
     ]
    }
   ],
   "source": [
    "import numpy as np\n",
    "\n",
    "# get feature names\n",
    "feature_names = np.array(text_freque.get_feature_names())\n",
    "sorted_by_idf = np.argsort(text_freque.idf_)\n",
    "print(\"Features with lowest id frequence:\\n{}\".format(feature_names[sorted_by_idf[:3]]))\n",
    "print(\"\\nFeatures with highest id frequence:\\n{}\".format(feature_names[sorted_by_idf[-3:]]))"
   ]
  },
  {
   "cell_type": "markdown",
   "metadata": {
    "colab_type": "text",
    "id": "0w1c1L8QkmO-"
   },
   "source": [
    "##TFID VECTORIZER  - Transforms text to feature vectors\n"
   ]
  },
  {
   "cell_type": "code",
   "execution_count": 32,
   "metadata": {
    "colab": {
     "base_uri": "https://localhost:8080/",
     "height": 215
    },
    "colab_type": "code",
    "id": "K3Rrh2M7kmkl",
    "outputId": "556718c8-4cc7-477f-9f93-8299a6dc076f"
   },
   "outputs": [
    {
     "data": {
      "text/html": [
       "<div>\n",
       "<style scoped>\n",
       "    .dataframe tbody tr th:only-of-type {\n",
       "        vertical-align: middle;\n",
       "    }\n",
       "\n",
       "    .dataframe tbody tr th {\n",
       "        vertical-align: top;\n",
       "    }\n",
       "\n",
       "    .dataframe thead th {\n",
       "        text-align: right;\n",
       "    }\n",
       "</style>\n",
       "<table border=\"1\" class=\"dataframe\">\n",
       "  <thead>\n",
       "    <tr style=\"text-align: right;\">\n",
       "      <th></th>\n",
       "      <th>austin</th>\n",
       "      <th>better</th>\n",
       "      <th>boat</th>\n",
       "      <th>business</th>\n",
       "      <th>desired</th>\n",
       "      <th>different</th>\n",
       "      <th>discussion</th>\n",
       "      <th>discussions</th>\n",
       "      <th>especially</th>\n",
       "      <th>far</th>\n",
       "      <th>...</th>\n",
       "      <th>table</th>\n",
       "      <th>takes</th>\n",
       "      <th>think</th>\n",
       "      <th>time</th>\n",
       "      <th>traveling</th>\n",
       "      <th>trip</th>\n",
       "      <th>try</th>\n",
       "      <th>turn</th>\n",
       "      <th>waiting</th>\n",
       "      <th>working</th>\n",
       "    </tr>\n",
       "  </thead>\n",
       "  <tbody>\n",
       "    <tr>\n",
       "      <th>0</th>\n",
       "      <td>0.0</td>\n",
       "      <td>0.0</td>\n",
       "      <td>0.0</td>\n",
       "      <td>0.0</td>\n",
       "      <td>0.0</td>\n",
       "      <td>0.0</td>\n",
       "      <td>0.0</td>\n",
       "      <td>0.0</td>\n",
       "      <td>0.0</td>\n",
       "      <td>0.0</td>\n",
       "      <td>...</td>\n",
       "      <td>0.0</td>\n",
       "      <td>0.0</td>\n",
       "      <td>0.0</td>\n",
       "      <td>0.0</td>\n",
       "      <td>1.0</td>\n",
       "      <td>0.0</td>\n",
       "      <td>0.0</td>\n",
       "      <td>0.0</td>\n",
       "      <td>0.0</td>\n",
       "      <td>0.0</td>\n",
       "    </tr>\n",
       "    <tr>\n",
       "      <th>1</th>\n",
       "      <td>0.0</td>\n",
       "      <td>0.0</td>\n",
       "      <td>0.0</td>\n",
       "      <td>1.0</td>\n",
       "      <td>0.0</td>\n",
       "      <td>0.0</td>\n",
       "      <td>0.0</td>\n",
       "      <td>0.0</td>\n",
       "      <td>0.0</td>\n",
       "      <td>0.0</td>\n",
       "      <td>...</td>\n",
       "      <td>0.0</td>\n",
       "      <td>0.0</td>\n",
       "      <td>0.0</td>\n",
       "      <td>0.0</td>\n",
       "      <td>0.0</td>\n",
       "      <td>0.0</td>\n",
       "      <td>0.0</td>\n",
       "      <td>0.0</td>\n",
       "      <td>0.0</td>\n",
       "      <td>0.0</td>\n",
       "    </tr>\n",
       "    <tr>\n",
       "      <th>2</th>\n",
       "      <td>0.0</td>\n",
       "      <td>0.0</td>\n",
       "      <td>0.0</td>\n",
       "      <td>0.0</td>\n",
       "      <td>0.0</td>\n",
       "      <td>0.0</td>\n",
       "      <td>0.0</td>\n",
       "      <td>0.0</td>\n",
       "      <td>0.0</td>\n",
       "      <td>0.0</td>\n",
       "      <td>...</td>\n",
       "      <td>0.0</td>\n",
       "      <td>0.0</td>\n",
       "      <td>0.0</td>\n",
       "      <td>0.0</td>\n",
       "      <td>0.0</td>\n",
       "      <td>0.0</td>\n",
       "      <td>0.0</td>\n",
       "      <td>0.0</td>\n",
       "      <td>0.0</td>\n",
       "      <td>0.0</td>\n",
       "    </tr>\n",
       "    <tr>\n",
       "      <th>3</th>\n",
       "      <td>0.0</td>\n",
       "      <td>0.0</td>\n",
       "      <td>0.0</td>\n",
       "      <td>0.0</td>\n",
       "      <td>0.0</td>\n",
       "      <td>0.0</td>\n",
       "      <td>0.0</td>\n",
       "      <td>0.0</td>\n",
       "      <td>0.0</td>\n",
       "      <td>0.0</td>\n",
       "      <td>...</td>\n",
       "      <td>0.0</td>\n",
       "      <td>1.0</td>\n",
       "      <td>0.0</td>\n",
       "      <td>0.0</td>\n",
       "      <td>0.0</td>\n",
       "      <td>0.0</td>\n",
       "      <td>0.0</td>\n",
       "      <td>0.0</td>\n",
       "      <td>0.0</td>\n",
       "      <td>0.0</td>\n",
       "    </tr>\n",
       "    <tr>\n",
       "      <th>4</th>\n",
       "      <td>0.0</td>\n",
       "      <td>0.0</td>\n",
       "      <td>0.0</td>\n",
       "      <td>0.0</td>\n",
       "      <td>0.0</td>\n",
       "      <td>0.0</td>\n",
       "      <td>0.0</td>\n",
       "      <td>0.0</td>\n",
       "      <td>0.0</td>\n",
       "      <td>0.0</td>\n",
       "      <td>...</td>\n",
       "      <td>0.0</td>\n",
       "      <td>0.0</td>\n",
       "      <td>0.0</td>\n",
       "      <td>0.0</td>\n",
       "      <td>0.0</td>\n",
       "      <td>0.0</td>\n",
       "      <td>0.0</td>\n",
       "      <td>0.0</td>\n",
       "      <td>0.0</td>\n",
       "      <td>0.0</td>\n",
       "    </tr>\n",
       "  </tbody>\n",
       "</table>\n",
       "<p>5 rows × 48 columns</p>\n",
       "</div>"
      ],
      "text/plain": [
       "   austin  better  boat  business  desired  different  discussion  \\\n",
       "0     0.0     0.0   0.0       0.0      0.0        0.0         0.0   \n",
       "1     0.0     0.0   0.0       1.0      0.0        0.0         0.0   \n",
       "2     0.0     0.0   0.0       0.0      0.0        0.0         0.0   \n",
       "3     0.0     0.0   0.0       0.0      0.0        0.0         0.0   \n",
       "4     0.0     0.0   0.0       0.0      0.0        0.0         0.0   \n",
       "\n",
       "   discussions  especially  far  ...  table  takes  think  time  traveling  \\\n",
       "0          0.0         0.0  0.0  ...    0.0    0.0    0.0   0.0        1.0   \n",
       "1          0.0         0.0  0.0  ...    0.0    0.0    0.0   0.0        0.0   \n",
       "2          0.0         0.0  0.0  ...    0.0    0.0    0.0   0.0        0.0   \n",
       "3          0.0         0.0  0.0  ...    0.0    1.0    0.0   0.0        0.0   \n",
       "4          0.0         0.0  0.0  ...    0.0    0.0    0.0   0.0        0.0   \n",
       "\n",
       "   trip  try  turn  waiting  working  \n",
       "0   0.0  0.0   0.0      0.0      0.0  \n",
       "1   0.0  0.0   0.0      0.0      0.0  \n",
       "2   0.0  0.0   0.0      0.0      0.0  \n",
       "3   0.0  0.0   0.0      0.0      0.0  \n",
       "4   0.0  0.0   0.0      0.0      0.0  \n",
       "\n",
       "[5 rows x 48 columns]"
      ]
     },
     "execution_count": 32,
     "metadata": {},
     "output_type": "execute_result"
    }
   ],
   "source": [
    "from sklearn.feature_extraction.text import TfidfVectorizer\n",
    "\n",
    "# Instantiate vectorizer object\n",
    "tfidf = TfidfVectorizer(stop_words='english', max_features=5000)\n",
    "\n",
    "# Create a vocabulary and get word counts per document\n",
    "data = tfidf.fit_transform(words) # Similiar to fit_predict\n",
    "\n",
    "# Print word counts\n",
    "\n",
    "# Get feature names to use as dataframe column headers\n",
    "data = pd.DataFrame(data.todense(), columns=tfidf.get_feature_names())\n",
    "\n",
    "# View Feature Matrix as DataFrame\n",
    "data.head()"
   ]
  },
  {
   "cell_type": "code",
   "execution_count": 33,
   "metadata": {
    "colab": {},
    "colab_type": "code",
    "id": "RPAcsAgBk-lV"
   },
   "outputs": [],
   "source": [
    "#TOKENIZER AND LEMMA\n",
    "def tokenize(document):\n",
    "    \n",
    "    doc = nlp(document)\n",
    "    \n",
    "    return [token.lemma_.strip() for token in doc if (token.is_stop != True) and (token.is_punct != True)]"
   ]
  },
  {
   "cell_type": "code",
   "execution_count": 34,
   "metadata": {
    "colab": {
     "base_uri": "https://localhost:8080/",
     "height": 195
    },
    "colab_type": "code",
    "id": "w7WuExkXkqHr",
    "outputId": "89d8fa1a-e97e-4084-bf2b-ccfb7db20dff"
   },
   "outputs": [
    {
     "data": {
      "text/html": [
       "<div>\n",
       "<style scoped>\n",
       "    .dataframe tbody tr th:only-of-type {\n",
       "        vertical-align: middle;\n",
       "    }\n",
       "\n",
       "    .dataframe tbody tr th {\n",
       "        vertical-align: top;\n",
       "    }\n",
       "\n",
       "    .dataframe thead th {\n",
       "        text-align: right;\n",
       "    }\n",
       "</style>\n",
       "<table border=\"1\" class=\"dataframe\">\n",
       "  <thead>\n",
       "    <tr style=\"text-align: right;\">\n",
       "      <th></th>\n",
       "      <th>business</th>\n",
       "      <th>meeting</th>\n",
       "      <th>trip</th>\n",
       "    </tr>\n",
       "  </thead>\n",
       "  <tbody>\n",
       "    <tr>\n",
       "      <th>0</th>\n",
       "      <td>0.0</td>\n",
       "      <td>0.0</td>\n",
       "      <td>0.0</td>\n",
       "    </tr>\n",
       "    <tr>\n",
       "      <th>1</th>\n",
       "      <td>1.0</td>\n",
       "      <td>0.0</td>\n",
       "      <td>0.0</td>\n",
       "    </tr>\n",
       "    <tr>\n",
       "      <th>2</th>\n",
       "      <td>0.0</td>\n",
       "      <td>1.0</td>\n",
       "      <td>0.0</td>\n",
       "    </tr>\n",
       "    <tr>\n",
       "      <th>3</th>\n",
       "      <td>0.0</td>\n",
       "      <td>0.0</td>\n",
       "      <td>0.0</td>\n",
       "    </tr>\n",
       "    <tr>\n",
       "      <th>4</th>\n",
       "      <td>0.0</td>\n",
       "      <td>0.0</td>\n",
       "      <td>0.0</td>\n",
       "    </tr>\n",
       "  </tbody>\n",
       "</table>\n",
       "</div>"
      ],
      "text/plain": [
       "   business  meeting  trip\n",
       "0       0.0      0.0   0.0\n",
       "1       1.0      0.0   0.0\n",
       "2       0.0      1.0   0.0\n",
       "3       0.0      0.0   0.0\n",
       "4       0.0      0.0   0.0"
      ]
     },
     "execution_count": 34,
     "metadata": {},
     "output_type": "execute_result"
    }
   ],
   "source": [
    "# Instantiate vectorizer object\n",
    "tfidf = TfidfVectorizer(stop_words='english', \n",
    "                        ngram_range=(1,2),\n",
    "                        max_df=.97,\n",
    "                        min_df=3,\n",
    "                        tokenizer=tokenize)\n",
    "\n",
    "# Create a vocabulary and get word counts per document\n",
    "data = tfidf.fit_transform(words) # Similiar to fit_predict\n",
    "\n",
    "# Print word counts\n",
    "\n",
    "# Get feature names to use as dataframe column headers\n",
    "data = pd.DataFrame(data.todense(), columns=tfidf.get_feature_names())\n",
    "\n",
    "# View Feature Matrix as DataFrame\n",
    "data.head()"
   ]
  },
  {
   "cell_type": "code",
   "execution_count": 35,
   "metadata": {
    "colab": {},
    "colab_type": "code",
    "id": "ZpHoAw11krRO"
   },
   "outputs": [
    {
     "ename": "NameError",
     "evalue": "name 'dtm' is not defined",
     "output_type": "error",
     "traceback": [
      "\u001b[1;31m---------------------------------------------------------------------------\u001b[0m",
      "\u001b[1;31mNameError\u001b[0m                                 Traceback (most recent call last)",
      "\u001b[1;32m<ipython-input-35-aad9f4693b93>\u001b[0m in \u001b[0;36m<module>\u001b[1;34m\u001b[0m\n\u001b[0;32m      2\u001b[0m \u001b[1;32mfrom\u001b[0m \u001b[0msklearn\u001b[0m\u001b[1;33m.\u001b[0m\u001b[0mmetrics\u001b[0m\u001b[1;33m.\u001b[0m\u001b[0mpairwise\u001b[0m \u001b[1;32mimport\u001b[0m \u001b[0mcosine_similarity\u001b[0m\u001b[1;33m\u001b[0m\u001b[0m\n\u001b[0;32m      3\u001b[0m \u001b[1;33m\u001b[0m\u001b[0m\n\u001b[1;32m----> 4\u001b[1;33m \u001b[0mdist_matrix\u001b[0m  \u001b[1;33m=\u001b[0m \u001b[0mcosine_similarity\u001b[0m\u001b[1;33m(\u001b[0m\u001b[0mdtm\u001b[0m\u001b[1;33m)\u001b[0m\u001b[1;33m\u001b[0m\u001b[0m\n\u001b[0m",
      "\u001b[1;31mNameError\u001b[0m: name 'dtm' is not defined"
     ]
    }
   ],
   "source": [
    "# Calculate Distance of TF-IDF Vectors\n",
    "from sklearn.metrics.pairwise import cosine_similarity\n",
    "\n",
    "dist_matrix  = cosine_similarity(dtm)"
   ]
  },
  {
   "cell_type": "code",
   "execution_count": null,
   "metadata": {
    "colab": {},
    "colab_type": "code",
    "id": "7vb5OQ50ooI7"
   },
   "outputs": [],
   "source": [
    "# Turn it into a DataFrame\n",
    "\n",
    "df = pd.DataFrame(dist_matrix)"
   ]
  },
  {
   "cell_type": "code",
   "execution_count": null,
   "metadata": {
    "colab": {
     "base_uri": "https://localhost:8080/",
     "height": 34
    },
    "colab_type": "code",
    "id": "zqDJ8z75kuEF",
    "outputId": "6dcee01f-17d8-4b4f-b2e7-35c3ba045beb"
   },
   "outputs": [
    {
     "data": {
      "text/plain": [
       "'trip'"
      ]
     },
     "execution_count": 112,
     "metadata": {
      "tags": []
     },
     "output_type": "execute_result"
    }
   ],
   "source": [
    "words[5][:300]"
   ]
  },
  {
   "cell_type": "code",
   "execution_count": null,
   "metadata": {
    "colab": {
     "base_uri": "https://localhost:8080/",
     "height": 34
    },
    "colab_type": "code",
    "id": "2o3usgVQou28",
    "outputId": "821fe043-cee5-43fa-a825-600562b64e0e"
   },
   "outputs": [
    {
     "name": "stdout",
     "output_type": "stream",
     "text": [
      "business\n"
     ]
    }
   ],
   "source": [
    "print(words[12][:130])"
   ]
  },
  {
   "cell_type": "code",
   "execution_count": null,
   "metadata": {
    "colab": {
     "base_uri": "https://localhost:8080/",
     "height": 34
    },
    "colab_type": "code",
    "id": "9ZQ4GIvsozBX",
    "outputId": "2da32c01-1870-488f-beec-e61dd6de1d1f"
   },
   "outputs": [
    {
     "data": {
      "text/plain": [
       "4.0"
      ]
     },
     "execution_count": 116,
     "metadata": {
      "tags": []
     },
     "output_type": "execute_result"
    }
   ],
   "source": [
    "sum(data['business'])"
   ]
  },
  {
   "cell_type": "markdown",
   "metadata": {
    "colab_type": "text",
    "id": "Ts-bFIXnA9VO"
   },
   "source": [
    "##Json and CSV"
   ]
  },
  {
   "cell_type": "code",
   "execution_count": null,
   "metadata": {
    "colab": {},
    "colab_type": "code",
    "id": "dASjbIr2BDjm"
   },
   "outputs": [],
   "source": [
    "def save_data_frame_as_csv(df=None, file=None):\n",
    "    \"\"\"\n",
    "    Save a Pandas DataFrame to CSV format.\n",
    "    \"\"\"\n",
    "    try:\n",
    "        if not file.endswith('.csv'):\n",
    "            file += '.csv'\n",
    "        df.to_csv(file, index=False)\n",
    "        print(f'DataFrame saved as: {file}')\n",
    "    except Exception as e:\n",
    "        print(\"DataFrame couldn't be saved: \", sys.exc_info()[0])\n",
    "        raise"
   ]
  },
  {
   "cell_type": "code",
   "execution_count": null,
   "metadata": {
    "colab": {},
    "colab_type": "code",
    "id": "Re0T9m8XBED6"
   },
   "outputs": [],
   "source": [
    "save_data_frame_as_csv(df, './merged_data.csv')"
   ]
  },
  {
   "cell_type": "code",
   "execution_count": null,
   "metadata": {
    "colab": {},
    "colab_type": "code",
    "id": "nItj_UHNBHY5"
   },
   "outputs": [],
   "source": [
    "def save_data_frame_as_json(df=None, file=None, orient='records'):\n",
    "  \"\"\"\n",
    "  Save a Pandas DataFrame to Json format.\n",
    "  \"\"\"\n",
    "  try:\n",
    "    if not file.endswith('.json'):\n",
    "      file += '.json'\n",
    "    df.to_json(file, orient=orient)\n",
    "    print(f'Dataframe saved as: {file}')\n",
    "  except Exception as e:\n",
    "    print(\"Dataframe couldn't be saved: \", sys.exc_info()[0])\n",
    "    raise"
   ]
  },
  {
   "cell_type": "code",
   "execution_count": null,
   "metadata": {
    "colab": {},
    "colab_type": "code",
    "id": "_SGrntpdBPFm"
   },
   "outputs": [],
   "source": [
    "save_data_frame_as_json(df, '.merged_data.json', orient='records')"
   ]
  }
 ],
 "metadata": {
  "accelerator": "GPU",
  "colab": {
   "collapsed_sections": [],
   "name": "SmartEmailTags.ipynb",
   "provenance": []
  },
  "kernelspec": {
   "display_name": "U4-S1-NLP (Python3)",
   "language": "python",
   "name": "u4-s1-nlp"
  },
  "language_info": {
   "codemirror_mode": {
    "name": "ipython",
    "version": 3
   },
   "file_extension": ".py",
   "mimetype": "text/x-python",
   "name": "python",
   "nbconvert_exporter": "python",
   "pygments_lexer": "ipython3",
   "version": "3.7.0"
  }
 },
 "nbformat": 4,
 "nbformat_minor": 4
}
